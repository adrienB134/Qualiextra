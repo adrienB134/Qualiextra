{
 "cells": [
  {
   "cell_type": "code",
   "execution_count": 27,
   "metadata": {},
   "outputs": [],
   "source": [
    "## MLFLOW_TRACKING_URI='https://qualiextra-project-6b29e931dd67.herokuapp.com/'"
   ]
  },
  {
   "cell_type": "code",
   "execution_count": 28,
   "metadata": {},
   "outputs": [],
   "source": [
    "import pandas as pd\n",
    "import datetime\n"
   ]
  },
  {
   "cell_type": "code",
   "execution_count": 29,
   "metadata": {},
   "outputs": [],
   "source": [
    "data = pd.read_csv(\"./Missions.csv\", sep=';')"
   ]
  },
  {
   "cell_type": "code",
   "execution_count": null,
   "metadata": {},
   "outputs": [],
   "source": []
  },
  {
   "cell_type": "code",
   "execution_count": 30,
   "metadata": {},
   "outputs": [
    {
     "name": "stdout",
     "output_type": "stream",
     "text": [
      "<class 'pandas.core.frame.DataFrame'>\n",
      "RangeIndex: 4771 entries, 0 to 4770\n",
      "Data columns (total 13 columns):\n",
      " #   Column         Non-Null Count  Dtype  \n",
      "---  ------         --------------  -----  \n",
      " 0   Propriété      4764 non-null   object \n",
      " 1   hôtel          4760 non-null   object \n",
      " 2   extra          4761 non-null   object \n",
      " 3   date           4771 non-null   object \n",
      " 4   statuts        617 non-null    object \n",
      " 5   tarif urgence  225 non-null    float64\n",
      " 6   tarif horaire  4760 non-null   float64\n",
      " 7   nbre d'heures  4771 non-null   object \n",
      " 8   total HT       4771 non-null   int64  \n",
      " 9   facture        3798 non-null   object \n",
      " 10  règlement      3743 non-null   object \n",
      " 11  montant HT     4771 non-null   int64  \n",
      " 12  Texte          7 non-null      object \n",
      "dtypes: float64(2), int64(2), object(9)\n",
      "memory usage: 484.7+ KB\n"
     ]
    }
   ],
   "source": [
    "data.info()"
   ]
  },
  {
   "cell_type": "code",
   "execution_count": 31,
   "metadata": {},
   "outputs": [
    {
     "data": {
      "text/plain": [
       "(4760, 13)"
      ]
     },
     "execution_count": 31,
     "metadata": {},
     "output_type": "execute_result"
    }
   ],
   "source": [
    "mask = ((data[\"hôtel\"].notna()))\n",
    "data = data[mask]\n",
    "data.shape"
   ]
  },
  {
   "cell_type": "code",
   "execution_count": 32,
   "metadata": {},
   "outputs": [],
   "source": [
    "data[\"date_debut\"] = data.apply(lambda x: x[\"date\"].split(\" →\")[0],axis=1)\n",
    "data[\"date_debut\"] = data[\"date_debut\"].apply(lambda x: x.replace(\" (UTC+3)\", \"\"))\n",
    "data[\"date_debut\"] = data[\"date_debut\"].apply(lambda x: x.replace(\" (UTC)\", \"\"))"
   ]
  },
  {
   "cell_type": "code",
   "execution_count": 33,
   "metadata": {},
   "outputs": [],
   "source": [
    "data[\"date_debut\"] = pd.to_datetime(data[\"date_debut\"], format=\"%d/%m/%Y %H:%M\")"
   ]
  },
  {
   "cell_type": "code",
   "execution_count": 34,
   "metadata": {},
   "outputs": [
    {
     "data": {
      "text/plain": [
       "Propriété                object\n",
       "hôtel                    object\n",
       "extra                    object\n",
       "date                     object\n",
       "statuts                  object\n",
       "tarif urgence           float64\n",
       "tarif horaire           float64\n",
       "nbre d'heures            object\n",
       "total HT                  int64\n",
       "facture                  object\n",
       "règlement                object\n",
       "montant HT                int64\n",
       "Texte                    object\n",
       "date_debut       datetime64[ns]\n",
       "dtype: object"
      ]
     },
     "execution_count": 34,
     "metadata": {},
     "output_type": "execute_result"
    }
   ],
   "source": [
    "data.dtypes"
   ]
  },
  {
   "cell_type": "code",
   "execution_count": 35,
   "metadata": {},
   "outputs": [],
   "source": [
    "data[\"time_delta\"] = data[\"nbre d'heures\"].apply(lambda x: pd.to_timedelta(x))\n",
    "data[\"date_fin\"] = data.apply(lambda x: x[\"date_debut\"] + x[\"time_delta\"], axis=1)"
   ]
  },
  {
   "cell_type": "code",
   "execution_count": 36,
   "metadata": {},
   "outputs": [
    {
     "data": {
      "text/html": [
       "<div>\n",
       "<style scoped>\n",
       "    .dataframe tbody tr th:only-of-type {\n",
       "        vertical-align: middle;\n",
       "    }\n",
       "\n",
       "    .dataframe tbody tr th {\n",
       "        vertical-align: top;\n",
       "    }\n",
       "\n",
       "    .dataframe thead th {\n",
       "        text-align: right;\n",
       "    }\n",
       "</style>\n",
       "<table border=\"1\" class=\"dataframe\">\n",
       "  <thead>\n",
       "    <tr style=\"text-align: right;\">\n",
       "      <th></th>\n",
       "      <th>Propriété</th>\n",
       "      <th>hôtel</th>\n",
       "      <th>extra</th>\n",
       "      <th>date</th>\n",
       "      <th>statuts</th>\n",
       "      <th>tarif urgence</th>\n",
       "      <th>tarif horaire</th>\n",
       "      <th>nbre d'heures</th>\n",
       "      <th>total HT</th>\n",
       "      <th>facture</th>\n",
       "      <th>règlement</th>\n",
       "      <th>montant HT</th>\n",
       "      <th>Texte</th>\n",
       "      <th>date_debut</th>\n",
       "      <th>time_delta</th>\n",
       "      <th>date_fin</th>\n",
       "    </tr>\n",
       "  </thead>\n",
       "  <tbody>\n",
       "    <tr>\n",
       "      <th>0</th>\n",
       "      <td>Crystal</td>\n",
       "      <td>Crystal (https://www.notion.so/Crystal-1837fcb...</td>\n",
       "      <td>Grégory Tshimini (https://www.notion.so/Gr-gor...</td>\n",
       "      <td>07/01/2024 8:00 → 20:00</td>\n",
       "      <td>NaN</td>\n",
       "      <td>NaN</td>\n",
       "      <td>21.0</td>\n",
       "      <td>12hr 0min</td>\n",
       "      <td>252</td>\n",
       "      <td>NaN</td>\n",
       "      <td>NaN</td>\n",
       "      <td>180</td>\n",
       "      <td>NaN</td>\n",
       "      <td>2024-01-07 08:00:00</td>\n",
       "      <td>0 days 12:00:00</td>\n",
       "      <td>2024-01-07 20:00:00</td>\n",
       "    </tr>\n",
       "    <tr>\n",
       "      <th>1</th>\n",
       "      <td>Milie rose</td>\n",
       "      <td>Milie Rose (https://www.notion.so/Milie-Rose-0...</td>\n",
       "      <td>Mamadou Koma (https://www.notion.so/Mamadou-Ko...</td>\n",
       "      <td>06/01/2024 22:30 → 07/01/2024 8:00</td>\n",
       "      <td>NaN</td>\n",
       "      <td>NaN</td>\n",
       "      <td>20.0</td>\n",
       "      <td>9hr 30min</td>\n",
       "      <td>180</td>\n",
       "      <td>NaN</td>\n",
       "      <td>NaN</td>\n",
       "      <td>135</td>\n",
       "      <td>NaN</td>\n",
       "      <td>2024-01-06 22:30:00</td>\n",
       "      <td>0 days 09:30:00</td>\n",
       "      <td>2024-01-07 08:00:00</td>\n",
       "    </tr>\n",
       "    <tr>\n",
       "      <th>2</th>\n",
       "      <td>Touraine</td>\n",
       "      <td>Touraine (https://www.notion.so/Touraine-df4e7...</td>\n",
       "      <td>Mohamed Belbachir (https://www.notion.so/Moham...</td>\n",
       "      <td>06/01/2024 19:30 → 07/01/2024 7:30</td>\n",
       "      <td>NaN</td>\n",
       "      <td>NaN</td>\n",
       "      <td>20.0</td>\n",
       "      <td>12hr 0min</td>\n",
       "      <td>240</td>\n",
       "      <td>NaN</td>\n",
       "      <td>NaN</td>\n",
       "      <td>180</td>\n",
       "      <td>NaN</td>\n",
       "      <td>2024-01-06 19:30:00</td>\n",
       "      <td>0 days 12:00:00</td>\n",
       "      <td>2024-01-07 07:30:00</td>\n",
       "    </tr>\n",
       "    <tr>\n",
       "      <th>3</th>\n",
       "      <td>Crystal</td>\n",
       "      <td>Crystal (https://www.notion.so/Crystal-1837fcb...</td>\n",
       "      <td>Grégory Tshimini (https://www.notion.so/Gr-gor...</td>\n",
       "      <td>06/01/2024 8:00 → 20:00</td>\n",
       "      <td>NaN</td>\n",
       "      <td>NaN</td>\n",
       "      <td>21.0</td>\n",
       "      <td>12hr 0min</td>\n",
       "      <td>252</td>\n",
       "      <td>NaN</td>\n",
       "      <td>NaN</td>\n",
       "      <td>180</td>\n",
       "      <td>NaN</td>\n",
       "      <td>2024-01-06 08:00:00</td>\n",
       "      <td>0 days 12:00:00</td>\n",
       "      <td>2024-01-06 20:00:00</td>\n",
       "    </tr>\n",
       "    <tr>\n",
       "      <th>4</th>\n",
       "      <td>Milie rose</td>\n",
       "      <td>Milie Rose (https://www.notion.so/Milie-Rose-0...</td>\n",
       "      <td>Mamadou Koma (https://www.notion.so/Mamadou-Ko...</td>\n",
       "      <td>05/01/2024 22:30 → 06/01/2024 8:00</td>\n",
       "      <td>NaN</td>\n",
       "      <td>NaN</td>\n",
       "      <td>20.0</td>\n",
       "      <td>9hr 30min</td>\n",
       "      <td>180</td>\n",
       "      <td>NaN</td>\n",
       "      <td>NaN</td>\n",
       "      <td>135</td>\n",
       "      <td>NaN</td>\n",
       "      <td>2024-01-05 22:30:00</td>\n",
       "      <td>0 days 09:30:00</td>\n",
       "      <td>2024-01-06 08:00:00</td>\n",
       "    </tr>\n",
       "  </tbody>\n",
       "</table>\n",
       "</div>"
      ],
      "text/plain": [
       "    Propriété                                              hôtel  \\\n",
       "0     Crystal  Crystal (https://www.notion.so/Crystal-1837fcb...   \n",
       "1  Milie rose  Milie Rose (https://www.notion.so/Milie-Rose-0...   \n",
       "2   Touraine   Touraine (https://www.notion.so/Touraine-df4e7...   \n",
       "3     Crystal  Crystal (https://www.notion.so/Crystal-1837fcb...   \n",
       "4  Milie rose  Milie Rose (https://www.notion.so/Milie-Rose-0...   \n",
       "\n",
       "                                               extra  \\\n",
       "0  Grégory Tshimini (https://www.notion.so/Gr-gor...   \n",
       "1  Mamadou Koma (https://www.notion.so/Mamadou-Ko...   \n",
       "2  Mohamed Belbachir (https://www.notion.so/Moham...   \n",
       "3  Grégory Tshimini (https://www.notion.so/Gr-gor...   \n",
       "4  Mamadou Koma (https://www.notion.so/Mamadou-Ko...   \n",
       "\n",
       "                                 date statuts  tarif urgence  tarif horaire  \\\n",
       "0             07/01/2024 8:00 → 20:00     NaN            NaN           21.0   \n",
       "1  06/01/2024 22:30 → 07/01/2024 8:00     NaN            NaN           20.0   \n",
       "2  06/01/2024 19:30 → 07/01/2024 7:30     NaN            NaN           20.0   \n",
       "3             06/01/2024 8:00 → 20:00     NaN            NaN           21.0   \n",
       "4  05/01/2024 22:30 → 06/01/2024 8:00     NaN            NaN           20.0   \n",
       "\n",
       "  nbre d'heures  total HT facture règlement  montant HT Texte  \\\n",
       "0     12hr 0min       252     NaN       NaN         180   NaN   \n",
       "1     9hr 30min       180     NaN       NaN         135   NaN   \n",
       "2     12hr 0min       240     NaN       NaN         180   NaN   \n",
       "3     12hr 0min       252     NaN       NaN         180   NaN   \n",
       "4     9hr 30min       180     NaN       NaN         135   NaN   \n",
       "\n",
       "           date_debut      time_delta            date_fin  \n",
       "0 2024-01-07 08:00:00 0 days 12:00:00 2024-01-07 20:00:00  \n",
       "1 2024-01-06 22:30:00 0 days 09:30:00 2024-01-07 08:00:00  \n",
       "2 2024-01-06 19:30:00 0 days 12:00:00 2024-01-07 07:30:00  \n",
       "3 2024-01-06 08:00:00 0 days 12:00:00 2024-01-06 20:00:00  \n",
       "4 2024-01-05 22:30:00 0 days 09:30:00 2024-01-06 08:00:00  "
      ]
     },
     "execution_count": 36,
     "metadata": {},
     "output_type": "execute_result"
    }
   ],
   "source": [
    "data[\"Propriété\"] = data.apply(lambda x: x[\"hôtel\"].split(\" (\")[0] if \"www\" in x[\"Propriété\"] else x, axis=1)[\"Propriété\"]\n",
    "data.head()"
   ]
  },
  {
   "cell_type": "code",
   "execution_count": 37,
   "metadata": {},
   "outputs": [],
   "source": [
    "data[\"Propriété_clean\"] = data[\"hôtel\"].apply(lambda x: x.split(\" (\")[0])"
   ]
  },
  {
   "cell_type": "code",
   "execution_count": 38,
   "metadata": {},
   "outputs": [
    {
     "data": {
      "text/html": [
       "<div>\n",
       "<style scoped>\n",
       "    .dataframe tbody tr th:only-of-type {\n",
       "        vertical-align: middle;\n",
       "    }\n",
       "\n",
       "    .dataframe tbody tr th {\n",
       "        vertical-align: top;\n",
       "    }\n",
       "\n",
       "    .dataframe thead th {\n",
       "        text-align: right;\n",
       "    }\n",
       "</style>\n",
       "<table border=\"1\" class=\"dataframe\">\n",
       "  <thead>\n",
       "    <tr style=\"text-align: right;\">\n",
       "      <th></th>\n",
       "      <th>Propriété</th>\n",
       "      <th>hôtel</th>\n",
       "      <th>extra</th>\n",
       "      <th>date</th>\n",
       "      <th>statuts</th>\n",
       "      <th>tarif urgence</th>\n",
       "      <th>tarif horaire</th>\n",
       "      <th>nbre d'heures</th>\n",
       "      <th>total HT</th>\n",
       "      <th>facture</th>\n",
       "      <th>règlement</th>\n",
       "      <th>montant HT</th>\n",
       "      <th>Texte</th>\n",
       "      <th>date_debut</th>\n",
       "      <th>time_delta</th>\n",
       "      <th>date_fin</th>\n",
       "      <th>Propriété_clean</th>\n",
       "    </tr>\n",
       "  </thead>\n",
       "  <tbody>\n",
       "    <tr>\n",
       "      <th>0</th>\n",
       "      <td>Crystal</td>\n",
       "      <td>Crystal (https://www.notion.so/Crystal-1837fcb...</td>\n",
       "      <td>Grégory Tshimini (https://www.notion.so/Gr-gor...</td>\n",
       "      <td>07/01/2024 8:00 → 20:00</td>\n",
       "      <td>NaN</td>\n",
       "      <td>NaN</td>\n",
       "      <td>21.0</td>\n",
       "      <td>12hr 0min</td>\n",
       "      <td>252</td>\n",
       "      <td>NaN</td>\n",
       "      <td>NaN</td>\n",
       "      <td>180</td>\n",
       "      <td>NaN</td>\n",
       "      <td>2024-01-07 08:00:00</td>\n",
       "      <td>0 days 12:00:00</td>\n",
       "      <td>2024-01-07 20:00:00</td>\n",
       "      <td>Crystal</td>\n",
       "    </tr>\n",
       "    <tr>\n",
       "      <th>1</th>\n",
       "      <td>Milie rose</td>\n",
       "      <td>Milie Rose (https://www.notion.so/Milie-Rose-0...</td>\n",
       "      <td>Mamadou Koma (https://www.notion.so/Mamadou-Ko...</td>\n",
       "      <td>06/01/2024 22:30 → 07/01/2024 8:00</td>\n",
       "      <td>NaN</td>\n",
       "      <td>NaN</td>\n",
       "      <td>20.0</td>\n",
       "      <td>9hr 30min</td>\n",
       "      <td>180</td>\n",
       "      <td>NaN</td>\n",
       "      <td>NaN</td>\n",
       "      <td>135</td>\n",
       "      <td>NaN</td>\n",
       "      <td>2024-01-06 22:30:00</td>\n",
       "      <td>0 days 09:30:00</td>\n",
       "      <td>2024-01-07 08:00:00</td>\n",
       "      <td>Milie Rose</td>\n",
       "    </tr>\n",
       "    <tr>\n",
       "      <th>2</th>\n",
       "      <td>Touraine</td>\n",
       "      <td>Touraine (https://www.notion.so/Touraine-df4e7...</td>\n",
       "      <td>Mohamed Belbachir (https://www.notion.so/Moham...</td>\n",
       "      <td>06/01/2024 19:30 → 07/01/2024 7:30</td>\n",
       "      <td>NaN</td>\n",
       "      <td>NaN</td>\n",
       "      <td>20.0</td>\n",
       "      <td>12hr 0min</td>\n",
       "      <td>240</td>\n",
       "      <td>NaN</td>\n",
       "      <td>NaN</td>\n",
       "      <td>180</td>\n",
       "      <td>NaN</td>\n",
       "      <td>2024-01-06 19:30:00</td>\n",
       "      <td>0 days 12:00:00</td>\n",
       "      <td>2024-01-07 07:30:00</td>\n",
       "      <td>Touraine</td>\n",
       "    </tr>\n",
       "    <tr>\n",
       "      <th>3</th>\n",
       "      <td>Crystal</td>\n",
       "      <td>Crystal (https://www.notion.so/Crystal-1837fcb...</td>\n",
       "      <td>Grégory Tshimini (https://www.notion.so/Gr-gor...</td>\n",
       "      <td>06/01/2024 8:00 → 20:00</td>\n",
       "      <td>NaN</td>\n",
       "      <td>NaN</td>\n",
       "      <td>21.0</td>\n",
       "      <td>12hr 0min</td>\n",
       "      <td>252</td>\n",
       "      <td>NaN</td>\n",
       "      <td>NaN</td>\n",
       "      <td>180</td>\n",
       "      <td>NaN</td>\n",
       "      <td>2024-01-06 08:00:00</td>\n",
       "      <td>0 days 12:00:00</td>\n",
       "      <td>2024-01-06 20:00:00</td>\n",
       "      <td>Crystal</td>\n",
       "    </tr>\n",
       "    <tr>\n",
       "      <th>4</th>\n",
       "      <td>Milie rose</td>\n",
       "      <td>Milie Rose (https://www.notion.so/Milie-Rose-0...</td>\n",
       "      <td>Mamadou Koma (https://www.notion.so/Mamadou-Ko...</td>\n",
       "      <td>05/01/2024 22:30 → 06/01/2024 8:00</td>\n",
       "      <td>NaN</td>\n",
       "      <td>NaN</td>\n",
       "      <td>20.0</td>\n",
       "      <td>9hr 30min</td>\n",
       "      <td>180</td>\n",
       "      <td>NaN</td>\n",
       "      <td>NaN</td>\n",
       "      <td>135</td>\n",
       "      <td>NaN</td>\n",
       "      <td>2024-01-05 22:30:00</td>\n",
       "      <td>0 days 09:30:00</td>\n",
       "      <td>2024-01-06 08:00:00</td>\n",
       "      <td>Milie Rose</td>\n",
       "    </tr>\n",
       "  </tbody>\n",
       "</table>\n",
       "</div>"
      ],
      "text/plain": [
       "    Propriété                                              hôtel  \\\n",
       "0     Crystal  Crystal (https://www.notion.so/Crystal-1837fcb...   \n",
       "1  Milie rose  Milie Rose (https://www.notion.so/Milie-Rose-0...   \n",
       "2   Touraine   Touraine (https://www.notion.so/Touraine-df4e7...   \n",
       "3     Crystal  Crystal (https://www.notion.so/Crystal-1837fcb...   \n",
       "4  Milie rose  Milie Rose (https://www.notion.so/Milie-Rose-0...   \n",
       "\n",
       "                                               extra  \\\n",
       "0  Grégory Tshimini (https://www.notion.so/Gr-gor...   \n",
       "1  Mamadou Koma (https://www.notion.so/Mamadou-Ko...   \n",
       "2  Mohamed Belbachir (https://www.notion.so/Moham...   \n",
       "3  Grégory Tshimini (https://www.notion.so/Gr-gor...   \n",
       "4  Mamadou Koma (https://www.notion.so/Mamadou-Ko...   \n",
       "\n",
       "                                 date statuts  tarif urgence  tarif horaire  \\\n",
       "0             07/01/2024 8:00 → 20:00     NaN            NaN           21.0   \n",
       "1  06/01/2024 22:30 → 07/01/2024 8:00     NaN            NaN           20.0   \n",
       "2  06/01/2024 19:30 → 07/01/2024 7:30     NaN            NaN           20.0   \n",
       "3             06/01/2024 8:00 → 20:00     NaN            NaN           21.0   \n",
       "4  05/01/2024 22:30 → 06/01/2024 8:00     NaN            NaN           20.0   \n",
       "\n",
       "  nbre d'heures  total HT facture règlement  montant HT Texte  \\\n",
       "0     12hr 0min       252     NaN       NaN         180   NaN   \n",
       "1     9hr 30min       180     NaN       NaN         135   NaN   \n",
       "2     12hr 0min       240     NaN       NaN         180   NaN   \n",
       "3     12hr 0min       252     NaN       NaN         180   NaN   \n",
       "4     9hr 30min       180     NaN       NaN         135   NaN   \n",
       "\n",
       "           date_debut      time_delta            date_fin Propriété_clean  \n",
       "0 2024-01-07 08:00:00 0 days 12:00:00 2024-01-07 20:00:00         Crystal  \n",
       "1 2024-01-06 22:30:00 0 days 09:30:00 2024-01-07 08:00:00      Milie Rose  \n",
       "2 2024-01-06 19:30:00 0 days 12:00:00 2024-01-07 07:30:00        Touraine  \n",
       "3 2024-01-06 08:00:00 0 days 12:00:00 2024-01-06 20:00:00         Crystal  \n",
       "4 2024-01-05 22:30:00 0 days 09:30:00 2024-01-06 08:00:00      Milie Rose  "
      ]
     },
     "execution_count": 38,
     "metadata": {},
     "output_type": "execute_result"
    }
   ],
   "source": [
    "data.head()"
   ]
  },
  {
   "cell_type": "code",
   "execution_count": 39,
   "metadata": {},
   "outputs": [],
   "source": [
    "missions_par_hotel = data[[\"Propriété_clean\",\"time_delta\"]].groupby(\"Propriété_clean\").count().sort_values(by=\"time_delta\")\n",
    "heures_par_hotel = data[[\"Propriété_clean\",\"time_delta\"]].groupby(\"Propriété_clean\").sum().sort_values(by=\"time_delta\")"
   ]
  },
  {
   "cell_type": "code",
   "execution_count": 40,
   "metadata": {},
   "outputs": [
    {
     "data": {
      "text/html": [
       "<div>\n",
       "<style scoped>\n",
       "    .dataframe tbody tr th:only-of-type {\n",
       "        vertical-align: middle;\n",
       "    }\n",
       "\n",
       "    .dataframe tbody tr th {\n",
       "        vertical-align: top;\n",
       "    }\n",
       "\n",
       "    .dataframe thead th {\n",
       "        text-align: right;\n",
       "    }\n",
       "</style>\n",
       "<table border=\"1\" class=\"dataframe\">\n",
       "  <thead>\n",
       "    <tr style=\"text-align: right;\">\n",
       "      <th></th>\n",
       "      <th>time_delta</th>\n",
       "    </tr>\n",
       "    <tr>\n",
       "      <th>Propriété_clean</th>\n",
       "      <th></th>\n",
       "    </tr>\n",
       "  </thead>\n",
       "  <tbody>\n",
       "    <tr>\n",
       "      <th>Peper and paper</th>\n",
       "      <td>1</td>\n",
       "    </tr>\n",
       "    <tr>\n",
       "      <th>Home Moderne</th>\n",
       "      <td>2</td>\n",
       "    </tr>\n",
       "    <tr>\n",
       "      <th>Mont Dore</th>\n",
       "      <td>2</td>\n",
       "    </tr>\n",
       "    <tr>\n",
       "      <th>Le Roch Hotel</th>\n",
       "      <td>3</td>\n",
       "    </tr>\n",
       "    <tr>\n",
       "      <th>Mathurin</th>\n",
       "      <td>3</td>\n",
       "    </tr>\n",
       "    <tr>\n",
       "      <th>Alberte</th>\n",
       "      <td>5</td>\n",
       "    </tr>\n",
       "    <tr>\n",
       "      <th>Bleu de Grenelle</th>\n",
       "      <td>5</td>\n",
       "    </tr>\n",
       "    <tr>\n",
       "      <th>Chouchou</th>\n",
       "      <td>12</td>\n",
       "    </tr>\n",
       "    <tr>\n",
       "      <th>MT solutions</th>\n",
       "      <td>19</td>\n",
       "    </tr>\n",
       "    <tr>\n",
       "      <th>Quinzerie hotel</th>\n",
       "      <td>20</td>\n",
       "    </tr>\n",
       "    <tr>\n",
       "      <th>Parisis</th>\n",
       "      <td>29</td>\n",
       "    </tr>\n",
       "    <tr>\n",
       "      <th>La Belle Ville</th>\n",
       "      <td>42</td>\n",
       "    </tr>\n",
       "    <tr>\n",
       "      <th>Apogé</th>\n",
       "      <td>61</td>\n",
       "    </tr>\n",
       "    <tr>\n",
       "      <th>French Theory</th>\n",
       "      <td>69</td>\n",
       "    </tr>\n",
       "    <tr>\n",
       "      <th>Parisianer</th>\n",
       "      <td>71</td>\n",
       "    </tr>\n",
       "    <tr>\n",
       "      <th>Edouard VI</th>\n",
       "      <td>81</td>\n",
       "    </tr>\n",
       "    <tr>\n",
       "      <th>Les Deux Girafes</th>\n",
       "      <td>83</td>\n",
       "    </tr>\n",
       "    <tr>\n",
       "      <th>Victoire et Germain</th>\n",
       "      <td>89</td>\n",
       "    </tr>\n",
       "    <tr>\n",
       "      <th>Monte Cristo</th>\n",
       "      <td>94</td>\n",
       "    </tr>\n",
       "    <tr>\n",
       "      <th>Touraine</th>\n",
       "      <td>115</td>\n",
       "    </tr>\n",
       "    <tr>\n",
       "      <th>Courseine</th>\n",
       "      <td>119</td>\n",
       "    </tr>\n",
       "    <tr>\n",
       "      <th>Crystal</th>\n",
       "      <td>143</td>\n",
       "    </tr>\n",
       "    <tr>\n",
       "      <th>Drawing House</th>\n",
       "      <td>144</td>\n",
       "    </tr>\n",
       "    <tr>\n",
       "      <th>Prélude</th>\n",
       "      <td>153</td>\n",
       "    </tr>\n",
       "    <tr>\n",
       "      <th>Yllen Eiffel</th>\n",
       "      <td>196</td>\n",
       "    </tr>\n",
       "    <tr>\n",
       "      <th>Tsuba</th>\n",
       "      <td>224</td>\n",
       "    </tr>\n",
       "    <tr>\n",
       "      <th>Marceau</th>\n",
       "      <td>250</td>\n",
       "    </tr>\n",
       "    <tr>\n",
       "      <th>Milie Rose</th>\n",
       "      <td>252</td>\n",
       "    </tr>\n",
       "    <tr>\n",
       "      <th>Select Hotel</th>\n",
       "      <td>310</td>\n",
       "    </tr>\n",
       "    <tr>\n",
       "      <th>Le Grand Quartier</th>\n",
       "      <td>416</td>\n",
       "    </tr>\n",
       "    <tr>\n",
       "      <th>Imprimerie</th>\n",
       "      <td>456</td>\n",
       "    </tr>\n",
       "    <tr>\n",
       "      <th>Ibis Montparnasse</th>\n",
       "      <td>1291</td>\n",
       "    </tr>\n",
       "  </tbody>\n",
       "</table>\n",
       "</div>"
      ],
      "text/plain": [
       "                     time_delta\n",
       "Propriété_clean                \n",
       "Peper and paper               1\n",
       "Home Moderne                  2\n",
       "Mont Dore                     2\n",
       "Le Roch Hotel                 3\n",
       "Mathurin                      3\n",
       "Alberte                       5\n",
       "Bleu de Grenelle              5\n",
       "Chouchou                     12\n",
       "MT solutions                 19\n",
       "Quinzerie hotel              20\n",
       "Parisis                      29\n",
       "La Belle Ville               42\n",
       "Apogé                        61\n",
       "French Theory                69\n",
       "Parisianer                   71\n",
       "Edouard VI                   81\n",
       "Les Deux Girafes             83\n",
       "Victoire et Germain          89\n",
       "Monte Cristo                 94\n",
       "Touraine                    115\n",
       "Courseine                   119\n",
       "Crystal                     143\n",
       "Drawing House               144\n",
       "Prélude                     153\n",
       "Yllen Eiffel                196\n",
       "Tsuba                       224\n",
       "Marceau                     250\n",
       "Milie Rose                  252\n",
       "Select Hotel                310\n",
       "Le Grand Quartier           416\n",
       "Imprimerie                  456\n",
       "Ibis Montparnasse          1291"
      ]
     },
     "execution_count": 40,
     "metadata": {},
     "output_type": "execute_result"
    }
   ],
   "source": [
    "missions_par_hotel"
   ]
  },
  {
   "cell_type": "code",
   "execution_count": 41,
   "metadata": {},
   "outputs": [
    {
     "data": {
      "application/vnd.plotly.v1+json": {
       "config": {
        "plotlyServerURL": "https://plot.ly"
       },
       "data": [
        {
         "name": "Affected rentals",
         "type": "bar",
         "x": [
          "Alberte ",
          "Apogé",
          "Bleu de Grenelle",
          "Chouchou",
          "Courseine",
          "Crystal",
          "Drawing House",
          "Edouard VI",
          "French Theory",
          "Home Moderne",
          "Ibis Montparnasse",
          "Imprimerie",
          "La Belle Ville",
          "Le Grand Quartier",
          "Le Roch Hotel",
          "Les Deux Girafes",
          "MT solutions ",
          "Marceau",
          "Mathurin",
          "Milie Rose",
          "Mont Dore",
          "Monte Cristo",
          "Parisianer",
          "Parisis",
          "Peper and paper ",
          "Prélude",
          "Quinzerie hotel",
          "Select Hotel",
          "Touraine",
          "Tsuba",
          "Victoire et Germain",
          "Yllen Eiffel"
         ],
         "y": [
          5,
          61,
          5,
          12,
          119,
          143,
          144,
          81,
          69,
          2,
          1291,
          456,
          42,
          416,
          3,
          83,
          19,
          250,
          3,
          252,
          2,
          94,
          71,
          29,
          1,
          153,
          20,
          310,
          115,
          224,
          89,
          196
         ]
        }
       ],
       "layout": {
        "showlegend": false,
        "template": {
         "data": {
          "bar": [
           {
            "error_x": {
             "color": "#2a3f5f"
            },
            "error_y": {
             "color": "#2a3f5f"
            },
            "marker": {
             "line": {
              "color": "#E5ECF6",
              "width": 0.5
             },
             "pattern": {
              "fillmode": "overlay",
              "size": 10,
              "solidity": 0.2
             }
            },
            "type": "bar"
           }
          ],
          "barpolar": [
           {
            "marker": {
             "line": {
              "color": "#E5ECF6",
              "width": 0.5
             },
             "pattern": {
              "fillmode": "overlay",
              "size": 10,
              "solidity": 0.2
             }
            },
            "type": "barpolar"
           }
          ],
          "carpet": [
           {
            "aaxis": {
             "endlinecolor": "#2a3f5f",
             "gridcolor": "white",
             "linecolor": "white",
             "minorgridcolor": "white",
             "startlinecolor": "#2a3f5f"
            },
            "baxis": {
             "endlinecolor": "#2a3f5f",
             "gridcolor": "white",
             "linecolor": "white",
             "minorgridcolor": "white",
             "startlinecolor": "#2a3f5f"
            },
            "type": "carpet"
           }
          ],
          "choropleth": [
           {
            "colorbar": {
             "outlinewidth": 0,
             "ticks": ""
            },
            "type": "choropleth"
           }
          ],
          "contour": [
           {
            "colorbar": {
             "outlinewidth": 0,
             "ticks": ""
            },
            "colorscale": [
             [
              0,
              "#0d0887"
             ],
             [
              0.1111111111111111,
              "#46039f"
             ],
             [
              0.2222222222222222,
              "#7201a8"
             ],
             [
              0.3333333333333333,
              "#9c179e"
             ],
             [
              0.4444444444444444,
              "#bd3786"
             ],
             [
              0.5555555555555556,
              "#d8576b"
             ],
             [
              0.6666666666666666,
              "#ed7953"
             ],
             [
              0.7777777777777778,
              "#fb9f3a"
             ],
             [
              0.8888888888888888,
              "#fdca26"
             ],
             [
              1,
              "#f0f921"
             ]
            ],
            "type": "contour"
           }
          ],
          "contourcarpet": [
           {
            "colorbar": {
             "outlinewidth": 0,
             "ticks": ""
            },
            "type": "contourcarpet"
           }
          ],
          "heatmap": [
           {
            "colorbar": {
             "outlinewidth": 0,
             "ticks": ""
            },
            "colorscale": [
             [
              0,
              "#0d0887"
             ],
             [
              0.1111111111111111,
              "#46039f"
             ],
             [
              0.2222222222222222,
              "#7201a8"
             ],
             [
              0.3333333333333333,
              "#9c179e"
             ],
             [
              0.4444444444444444,
              "#bd3786"
             ],
             [
              0.5555555555555556,
              "#d8576b"
             ],
             [
              0.6666666666666666,
              "#ed7953"
             ],
             [
              0.7777777777777778,
              "#fb9f3a"
             ],
             [
              0.8888888888888888,
              "#fdca26"
             ],
             [
              1,
              "#f0f921"
             ]
            ],
            "type": "heatmap"
           }
          ],
          "heatmapgl": [
           {
            "colorbar": {
             "outlinewidth": 0,
             "ticks": ""
            },
            "colorscale": [
             [
              0,
              "#0d0887"
             ],
             [
              0.1111111111111111,
              "#46039f"
             ],
             [
              0.2222222222222222,
              "#7201a8"
             ],
             [
              0.3333333333333333,
              "#9c179e"
             ],
             [
              0.4444444444444444,
              "#bd3786"
             ],
             [
              0.5555555555555556,
              "#d8576b"
             ],
             [
              0.6666666666666666,
              "#ed7953"
             ],
             [
              0.7777777777777778,
              "#fb9f3a"
             ],
             [
              0.8888888888888888,
              "#fdca26"
             ],
             [
              1,
              "#f0f921"
             ]
            ],
            "type": "heatmapgl"
           }
          ],
          "histogram": [
           {
            "marker": {
             "pattern": {
              "fillmode": "overlay",
              "size": 10,
              "solidity": 0.2
             }
            },
            "type": "histogram"
           }
          ],
          "histogram2d": [
           {
            "colorbar": {
             "outlinewidth": 0,
             "ticks": ""
            },
            "colorscale": [
             [
              0,
              "#0d0887"
             ],
             [
              0.1111111111111111,
              "#46039f"
             ],
             [
              0.2222222222222222,
              "#7201a8"
             ],
             [
              0.3333333333333333,
              "#9c179e"
             ],
             [
              0.4444444444444444,
              "#bd3786"
             ],
             [
              0.5555555555555556,
              "#d8576b"
             ],
             [
              0.6666666666666666,
              "#ed7953"
             ],
             [
              0.7777777777777778,
              "#fb9f3a"
             ],
             [
              0.8888888888888888,
              "#fdca26"
             ],
             [
              1,
              "#f0f921"
             ]
            ],
            "type": "histogram2d"
           }
          ],
          "histogram2dcontour": [
           {
            "colorbar": {
             "outlinewidth": 0,
             "ticks": ""
            },
            "colorscale": [
             [
              0,
              "#0d0887"
             ],
             [
              0.1111111111111111,
              "#46039f"
             ],
             [
              0.2222222222222222,
              "#7201a8"
             ],
             [
              0.3333333333333333,
              "#9c179e"
             ],
             [
              0.4444444444444444,
              "#bd3786"
             ],
             [
              0.5555555555555556,
              "#d8576b"
             ],
             [
              0.6666666666666666,
              "#ed7953"
             ],
             [
              0.7777777777777778,
              "#fb9f3a"
             ],
             [
              0.8888888888888888,
              "#fdca26"
             ],
             [
              1,
              "#f0f921"
             ]
            ],
            "type": "histogram2dcontour"
           }
          ],
          "mesh3d": [
           {
            "colorbar": {
             "outlinewidth": 0,
             "ticks": ""
            },
            "type": "mesh3d"
           }
          ],
          "parcoords": [
           {
            "line": {
             "colorbar": {
              "outlinewidth": 0,
              "ticks": ""
             }
            },
            "type": "parcoords"
           }
          ],
          "pie": [
           {
            "automargin": true,
            "type": "pie"
           }
          ],
          "scatter": [
           {
            "fillpattern": {
             "fillmode": "overlay",
             "size": 10,
             "solidity": 0.2
            },
            "type": "scatter"
           }
          ],
          "scatter3d": [
           {
            "line": {
             "colorbar": {
              "outlinewidth": 0,
              "ticks": ""
             }
            },
            "marker": {
             "colorbar": {
              "outlinewidth": 0,
              "ticks": ""
             }
            },
            "type": "scatter3d"
           }
          ],
          "scattercarpet": [
           {
            "marker": {
             "colorbar": {
              "outlinewidth": 0,
              "ticks": ""
             }
            },
            "type": "scattercarpet"
           }
          ],
          "scattergeo": [
           {
            "marker": {
             "colorbar": {
              "outlinewidth": 0,
              "ticks": ""
             }
            },
            "type": "scattergeo"
           }
          ],
          "scattergl": [
           {
            "marker": {
             "colorbar": {
              "outlinewidth": 0,
              "ticks": ""
             }
            },
            "type": "scattergl"
           }
          ],
          "scattermapbox": [
           {
            "marker": {
             "colorbar": {
              "outlinewidth": 0,
              "ticks": ""
             }
            },
            "type": "scattermapbox"
           }
          ],
          "scatterpolar": [
           {
            "marker": {
             "colorbar": {
              "outlinewidth": 0,
              "ticks": ""
             }
            },
            "type": "scatterpolar"
           }
          ],
          "scatterpolargl": [
           {
            "marker": {
             "colorbar": {
              "outlinewidth": 0,
              "ticks": ""
             }
            },
            "type": "scatterpolargl"
           }
          ],
          "scatterternary": [
           {
            "marker": {
             "colorbar": {
              "outlinewidth": 0,
              "ticks": ""
             }
            },
            "type": "scatterternary"
           }
          ],
          "surface": [
           {
            "colorbar": {
             "outlinewidth": 0,
             "ticks": ""
            },
            "colorscale": [
             [
              0,
              "#0d0887"
             ],
             [
              0.1111111111111111,
              "#46039f"
             ],
             [
              0.2222222222222222,
              "#7201a8"
             ],
             [
              0.3333333333333333,
              "#9c179e"
             ],
             [
              0.4444444444444444,
              "#bd3786"
             ],
             [
              0.5555555555555556,
              "#d8576b"
             ],
             [
              0.6666666666666666,
              "#ed7953"
             ],
             [
              0.7777777777777778,
              "#fb9f3a"
             ],
             [
              0.8888888888888888,
              "#fdca26"
             ],
             [
              1,
              "#f0f921"
             ]
            ],
            "type": "surface"
           }
          ],
          "table": [
           {
            "cells": {
             "fill": {
              "color": "#EBF0F8"
             },
             "line": {
              "color": "white"
             }
            },
            "header": {
             "fill": {
              "color": "#C8D4E3"
             },
             "line": {
              "color": "white"
             }
            },
            "type": "table"
           }
          ]
         },
         "layout": {
          "annotationdefaults": {
           "arrowcolor": "#2a3f5f",
           "arrowhead": 0,
           "arrowwidth": 1
          },
          "autotypenumbers": "strict",
          "coloraxis": {
           "colorbar": {
            "outlinewidth": 0,
            "ticks": ""
           }
          },
          "colorscale": {
           "diverging": [
            [
             0,
             "#8e0152"
            ],
            [
             0.1,
             "#c51b7d"
            ],
            [
             0.2,
             "#de77ae"
            ],
            [
             0.3,
             "#f1b6da"
            ],
            [
             0.4,
             "#fde0ef"
            ],
            [
             0.5,
             "#f7f7f7"
            ],
            [
             0.6,
             "#e6f5d0"
            ],
            [
             0.7,
             "#b8e186"
            ],
            [
             0.8,
             "#7fbc41"
            ],
            [
             0.9,
             "#4d9221"
            ],
            [
             1,
             "#276419"
            ]
           ],
           "sequential": [
            [
             0,
             "#0d0887"
            ],
            [
             0.1111111111111111,
             "#46039f"
            ],
            [
             0.2222222222222222,
             "#7201a8"
            ],
            [
             0.3333333333333333,
             "#9c179e"
            ],
            [
             0.4444444444444444,
             "#bd3786"
            ],
            [
             0.5555555555555556,
             "#d8576b"
            ],
            [
             0.6666666666666666,
             "#ed7953"
            ],
            [
             0.7777777777777778,
             "#fb9f3a"
            ],
            [
             0.8888888888888888,
             "#fdca26"
            ],
            [
             1,
             "#f0f921"
            ]
           ],
           "sequentialminus": [
            [
             0,
             "#0d0887"
            ],
            [
             0.1111111111111111,
             "#46039f"
            ],
            [
             0.2222222222222222,
             "#7201a8"
            ],
            [
             0.3333333333333333,
             "#9c179e"
            ],
            [
             0.4444444444444444,
             "#bd3786"
            ],
            [
             0.5555555555555556,
             "#d8576b"
            ],
            [
             0.6666666666666666,
             "#ed7953"
            ],
            [
             0.7777777777777778,
             "#fb9f3a"
            ],
            [
             0.8888888888888888,
             "#fdca26"
            ],
            [
             1,
             "#f0f921"
            ]
           ]
          },
          "colorway": [
           "#636efa",
           "#EF553B",
           "#00cc96",
           "#ab63fa",
           "#FFA15A",
           "#19d3f3",
           "#FF6692",
           "#B6E880",
           "#FF97FF",
           "#FECB52"
          ],
          "font": {
           "color": "#2a3f5f"
          },
          "geo": {
           "bgcolor": "white",
           "lakecolor": "white",
           "landcolor": "#E5ECF6",
           "showlakes": true,
           "showland": true,
           "subunitcolor": "white"
          },
          "hoverlabel": {
           "align": "left"
          },
          "hovermode": "closest",
          "mapbox": {
           "style": "light"
          },
          "paper_bgcolor": "white",
          "plot_bgcolor": "#E5ECF6",
          "polar": {
           "angularaxis": {
            "gridcolor": "white",
            "linecolor": "white",
            "ticks": ""
           },
           "bgcolor": "#E5ECF6",
           "radialaxis": {
            "gridcolor": "white",
            "linecolor": "white",
            "ticks": ""
           }
          },
          "scene": {
           "xaxis": {
            "backgroundcolor": "#E5ECF6",
            "gridcolor": "white",
            "gridwidth": 2,
            "linecolor": "white",
            "showbackground": true,
            "ticks": "",
            "zerolinecolor": "white"
           },
           "yaxis": {
            "backgroundcolor": "#E5ECF6",
            "gridcolor": "white",
            "gridwidth": 2,
            "linecolor": "white",
            "showbackground": true,
            "ticks": "",
            "zerolinecolor": "white"
           },
           "zaxis": {
            "backgroundcolor": "#E5ECF6",
            "gridcolor": "white",
            "gridwidth": 2,
            "linecolor": "white",
            "showbackground": true,
            "ticks": "",
            "zerolinecolor": "white"
           }
          },
          "shapedefaults": {
           "line": {
            "color": "#2a3f5f"
           }
          },
          "ternary": {
           "aaxis": {
            "gridcolor": "white",
            "linecolor": "white",
            "ticks": ""
           },
           "baxis": {
            "gridcolor": "white",
            "linecolor": "white",
            "ticks": ""
           },
           "bgcolor": "#E5ECF6",
           "caxis": {
            "gridcolor": "white",
            "linecolor": "white",
            "ticks": ""
           }
          },
          "title": {
           "x": 0.05
          },
          "xaxis": {
           "automargin": true,
           "gridcolor": "white",
           "linecolor": "white",
           "ticks": "",
           "title": {
            "standoff": 15
           },
           "zerolinecolor": "white",
           "zerolinewidth": 2
          },
          "yaxis": {
           "automargin": true,
           "gridcolor": "white",
           "linecolor": "white",
           "ticks": "",
           "title": {
            "standoff": 15
           },
           "zerolinecolor": "white",
           "zerolinewidth": 2
          }
         }
        },
        "title": {
         "text": "Nombre de missions par hôtel"
        },
        "xaxis": {
         "categoryorder": "total descending",
         "title": {
          "text": "Hôtels"
         }
        },
        "yaxis": {
         "title": {
          "text": "Nombre de missions"
         }
        }
       }
      }
     },
     "metadata": {},
     "output_type": "display_data"
    }
   ],
   "source": [
    "import plotly.graph_objects as go\n",
    "\n",
    "missions_par_hotel = data[[\"Propriété_clean\",\"time_delta\"]].groupby(\"Propriété_clean\").count()\n",
    "heures_par_hotel = data[[\"Propriété_clean\",\"time_delta\"]].groupby(\"Propriété_clean\").sum()\n",
    "\n",
    "trace = go.Bar(name='Affected rentals', \n",
    "                x=missions_par_hotel.index, \n",
    "                y=missions_par_hotel.time_delta)\n",
    "\n",
    "fig = go.Figure(data=[trace])\n",
    "# Change the bar mode\n",
    "fig.update_layout(title=\"Nombre de missions par hôtel\",\n",
    "                  showlegend=False,\n",
    "                  xaxis={'categoryorder':'total descending'})\n",
    "\n",
    "\n",
    "fig.update_xaxes(title_text='Hôtels')\n",
    "fig.update_yaxes(title_text='Nombre de missions')\n",
    "\n",
    "\n",
    "fig.show()\n"
   ]
  },
  {
   "cell_type": "code",
   "execution_count": 42,
   "metadata": {},
   "outputs": [
    {
     "data": {
      "application/vnd.plotly.v1+json": {
       "config": {
        "plotlyServerURL": "https://plot.ly"
       },
       "data": [
        {
         "name": "Affected rentals",
         "type": "bar",
         "x": [
          "Alberte ",
          "Apogé",
          "Bleu de Grenelle",
          "Chouchou",
          "Courseine",
          "Crystal",
          "Drawing House",
          "Edouard VI",
          "French Theory",
          "Home Moderne",
          "Ibis Montparnasse",
          "Imprimerie",
          "La Belle Ville",
          "Le Grand Quartier",
          "Le Roch Hotel",
          "Les Deux Girafes",
          "MT solutions ",
          "Marceau",
          "Mathurin",
          "Milie Rose",
          "Mont Dore",
          "Monte Cristo",
          "Parisianer",
          "Parisis",
          "Peper and paper ",
          "Prélude",
          "Quinzerie hotel",
          "Select Hotel",
          "Touraine",
          "Tsuba",
          "Victoire et Germain",
          "Yllen Eiffel"
         ],
         "y": [
          2,
          8,
          2,
          5,
          49,
          65,
          63,
          36,
          22,
          0,
          428,
          168,
          20,
          151,
          1,
          41,
          1,
          129,
          1,
          97,
          1,
          43,
          29,
          12,
          0,
          61,
          8,
          134,
          54,
          82,
          33,
          76
         ]
        }
       ],
       "layout": {
        "showlegend": false,
        "template": {
         "data": {
          "bar": [
           {
            "error_x": {
             "color": "#2a3f5f"
            },
            "error_y": {
             "color": "#2a3f5f"
            },
            "marker": {
             "line": {
              "color": "#E5ECF6",
              "width": 0.5
             },
             "pattern": {
              "fillmode": "overlay",
              "size": 10,
              "solidity": 0.2
             }
            },
            "type": "bar"
           }
          ],
          "barpolar": [
           {
            "marker": {
             "line": {
              "color": "#E5ECF6",
              "width": 0.5
             },
             "pattern": {
              "fillmode": "overlay",
              "size": 10,
              "solidity": 0.2
             }
            },
            "type": "barpolar"
           }
          ],
          "carpet": [
           {
            "aaxis": {
             "endlinecolor": "#2a3f5f",
             "gridcolor": "white",
             "linecolor": "white",
             "minorgridcolor": "white",
             "startlinecolor": "#2a3f5f"
            },
            "baxis": {
             "endlinecolor": "#2a3f5f",
             "gridcolor": "white",
             "linecolor": "white",
             "minorgridcolor": "white",
             "startlinecolor": "#2a3f5f"
            },
            "type": "carpet"
           }
          ],
          "choropleth": [
           {
            "colorbar": {
             "outlinewidth": 0,
             "ticks": ""
            },
            "type": "choropleth"
           }
          ],
          "contour": [
           {
            "colorbar": {
             "outlinewidth": 0,
             "ticks": ""
            },
            "colorscale": [
             [
              0,
              "#0d0887"
             ],
             [
              0.1111111111111111,
              "#46039f"
             ],
             [
              0.2222222222222222,
              "#7201a8"
             ],
             [
              0.3333333333333333,
              "#9c179e"
             ],
             [
              0.4444444444444444,
              "#bd3786"
             ],
             [
              0.5555555555555556,
              "#d8576b"
             ],
             [
              0.6666666666666666,
              "#ed7953"
             ],
             [
              0.7777777777777778,
              "#fb9f3a"
             ],
             [
              0.8888888888888888,
              "#fdca26"
             ],
             [
              1,
              "#f0f921"
             ]
            ],
            "type": "contour"
           }
          ],
          "contourcarpet": [
           {
            "colorbar": {
             "outlinewidth": 0,
             "ticks": ""
            },
            "type": "contourcarpet"
           }
          ],
          "heatmap": [
           {
            "colorbar": {
             "outlinewidth": 0,
             "ticks": ""
            },
            "colorscale": [
             [
              0,
              "#0d0887"
             ],
             [
              0.1111111111111111,
              "#46039f"
             ],
             [
              0.2222222222222222,
              "#7201a8"
             ],
             [
              0.3333333333333333,
              "#9c179e"
             ],
             [
              0.4444444444444444,
              "#bd3786"
             ],
             [
              0.5555555555555556,
              "#d8576b"
             ],
             [
              0.6666666666666666,
              "#ed7953"
             ],
             [
              0.7777777777777778,
              "#fb9f3a"
             ],
             [
              0.8888888888888888,
              "#fdca26"
             ],
             [
              1,
              "#f0f921"
             ]
            ],
            "type": "heatmap"
           }
          ],
          "heatmapgl": [
           {
            "colorbar": {
             "outlinewidth": 0,
             "ticks": ""
            },
            "colorscale": [
             [
              0,
              "#0d0887"
             ],
             [
              0.1111111111111111,
              "#46039f"
             ],
             [
              0.2222222222222222,
              "#7201a8"
             ],
             [
              0.3333333333333333,
              "#9c179e"
             ],
             [
              0.4444444444444444,
              "#bd3786"
             ],
             [
              0.5555555555555556,
              "#d8576b"
             ],
             [
              0.6666666666666666,
              "#ed7953"
             ],
             [
              0.7777777777777778,
              "#fb9f3a"
             ],
             [
              0.8888888888888888,
              "#fdca26"
             ],
             [
              1,
              "#f0f921"
             ]
            ],
            "type": "heatmapgl"
           }
          ],
          "histogram": [
           {
            "marker": {
             "pattern": {
              "fillmode": "overlay",
              "size": 10,
              "solidity": 0.2
             }
            },
            "type": "histogram"
           }
          ],
          "histogram2d": [
           {
            "colorbar": {
             "outlinewidth": 0,
             "ticks": ""
            },
            "colorscale": [
             [
              0,
              "#0d0887"
             ],
             [
              0.1111111111111111,
              "#46039f"
             ],
             [
              0.2222222222222222,
              "#7201a8"
             ],
             [
              0.3333333333333333,
              "#9c179e"
             ],
             [
              0.4444444444444444,
              "#bd3786"
             ],
             [
              0.5555555555555556,
              "#d8576b"
             ],
             [
              0.6666666666666666,
              "#ed7953"
             ],
             [
              0.7777777777777778,
              "#fb9f3a"
             ],
             [
              0.8888888888888888,
              "#fdca26"
             ],
             [
              1,
              "#f0f921"
             ]
            ],
            "type": "histogram2d"
           }
          ],
          "histogram2dcontour": [
           {
            "colorbar": {
             "outlinewidth": 0,
             "ticks": ""
            },
            "colorscale": [
             [
              0,
              "#0d0887"
             ],
             [
              0.1111111111111111,
              "#46039f"
             ],
             [
              0.2222222222222222,
              "#7201a8"
             ],
             [
              0.3333333333333333,
              "#9c179e"
             ],
             [
              0.4444444444444444,
              "#bd3786"
             ],
             [
              0.5555555555555556,
              "#d8576b"
             ],
             [
              0.6666666666666666,
              "#ed7953"
             ],
             [
              0.7777777777777778,
              "#fb9f3a"
             ],
             [
              0.8888888888888888,
              "#fdca26"
             ],
             [
              1,
              "#f0f921"
             ]
            ],
            "type": "histogram2dcontour"
           }
          ],
          "mesh3d": [
           {
            "colorbar": {
             "outlinewidth": 0,
             "ticks": ""
            },
            "type": "mesh3d"
           }
          ],
          "parcoords": [
           {
            "line": {
             "colorbar": {
              "outlinewidth": 0,
              "ticks": ""
             }
            },
            "type": "parcoords"
           }
          ],
          "pie": [
           {
            "automargin": true,
            "type": "pie"
           }
          ],
          "scatter": [
           {
            "fillpattern": {
             "fillmode": "overlay",
             "size": 10,
             "solidity": 0.2
            },
            "type": "scatter"
           }
          ],
          "scatter3d": [
           {
            "line": {
             "colorbar": {
              "outlinewidth": 0,
              "ticks": ""
             }
            },
            "marker": {
             "colorbar": {
              "outlinewidth": 0,
              "ticks": ""
             }
            },
            "type": "scatter3d"
           }
          ],
          "scattercarpet": [
           {
            "marker": {
             "colorbar": {
              "outlinewidth": 0,
              "ticks": ""
             }
            },
            "type": "scattercarpet"
           }
          ],
          "scattergeo": [
           {
            "marker": {
             "colorbar": {
              "outlinewidth": 0,
              "ticks": ""
             }
            },
            "type": "scattergeo"
           }
          ],
          "scattergl": [
           {
            "marker": {
             "colorbar": {
              "outlinewidth": 0,
              "ticks": ""
             }
            },
            "type": "scattergl"
           }
          ],
          "scattermapbox": [
           {
            "marker": {
             "colorbar": {
              "outlinewidth": 0,
              "ticks": ""
             }
            },
            "type": "scattermapbox"
           }
          ],
          "scatterpolar": [
           {
            "marker": {
             "colorbar": {
              "outlinewidth": 0,
              "ticks": ""
             }
            },
            "type": "scatterpolar"
           }
          ],
          "scatterpolargl": [
           {
            "marker": {
             "colorbar": {
              "outlinewidth": 0,
              "ticks": ""
             }
            },
            "type": "scatterpolargl"
           }
          ],
          "scatterternary": [
           {
            "marker": {
             "colorbar": {
              "outlinewidth": 0,
              "ticks": ""
             }
            },
            "type": "scatterternary"
           }
          ],
          "surface": [
           {
            "colorbar": {
             "outlinewidth": 0,
             "ticks": ""
            },
            "colorscale": [
             [
              0,
              "#0d0887"
             ],
             [
              0.1111111111111111,
              "#46039f"
             ],
             [
              0.2222222222222222,
              "#7201a8"
             ],
             [
              0.3333333333333333,
              "#9c179e"
             ],
             [
              0.4444444444444444,
              "#bd3786"
             ],
             [
              0.5555555555555556,
              "#d8576b"
             ],
             [
              0.6666666666666666,
              "#ed7953"
             ],
             [
              0.7777777777777778,
              "#fb9f3a"
             ],
             [
              0.8888888888888888,
              "#fdca26"
             ],
             [
              1,
              "#f0f921"
             ]
            ],
            "type": "surface"
           }
          ],
          "table": [
           {
            "cells": {
             "fill": {
              "color": "#EBF0F8"
             },
             "line": {
              "color": "white"
             }
            },
            "header": {
             "fill": {
              "color": "#C8D4E3"
             },
             "line": {
              "color": "white"
             }
            },
            "type": "table"
           }
          ]
         },
         "layout": {
          "annotationdefaults": {
           "arrowcolor": "#2a3f5f",
           "arrowhead": 0,
           "arrowwidth": 1
          },
          "autotypenumbers": "strict",
          "coloraxis": {
           "colorbar": {
            "outlinewidth": 0,
            "ticks": ""
           }
          },
          "colorscale": {
           "diverging": [
            [
             0,
             "#8e0152"
            ],
            [
             0.1,
             "#c51b7d"
            ],
            [
             0.2,
             "#de77ae"
            ],
            [
             0.3,
             "#f1b6da"
            ],
            [
             0.4,
             "#fde0ef"
            ],
            [
             0.5,
             "#f7f7f7"
            ],
            [
             0.6,
             "#e6f5d0"
            ],
            [
             0.7,
             "#b8e186"
            ],
            [
             0.8,
             "#7fbc41"
            ],
            [
             0.9,
             "#4d9221"
            ],
            [
             1,
             "#276419"
            ]
           ],
           "sequential": [
            [
             0,
             "#0d0887"
            ],
            [
             0.1111111111111111,
             "#46039f"
            ],
            [
             0.2222222222222222,
             "#7201a8"
            ],
            [
             0.3333333333333333,
             "#9c179e"
            ],
            [
             0.4444444444444444,
             "#bd3786"
            ],
            [
             0.5555555555555556,
             "#d8576b"
            ],
            [
             0.6666666666666666,
             "#ed7953"
            ],
            [
             0.7777777777777778,
             "#fb9f3a"
            ],
            [
             0.8888888888888888,
             "#fdca26"
            ],
            [
             1,
             "#f0f921"
            ]
           ],
           "sequentialminus": [
            [
             0,
             "#0d0887"
            ],
            [
             0.1111111111111111,
             "#46039f"
            ],
            [
             0.2222222222222222,
             "#7201a8"
            ],
            [
             0.3333333333333333,
             "#9c179e"
            ],
            [
             0.4444444444444444,
             "#bd3786"
            ],
            [
             0.5555555555555556,
             "#d8576b"
            ],
            [
             0.6666666666666666,
             "#ed7953"
            ],
            [
             0.7777777777777778,
             "#fb9f3a"
            ],
            [
             0.8888888888888888,
             "#fdca26"
            ],
            [
             1,
             "#f0f921"
            ]
           ]
          },
          "colorway": [
           "#636efa",
           "#EF553B",
           "#00cc96",
           "#ab63fa",
           "#FFA15A",
           "#19d3f3",
           "#FF6692",
           "#B6E880",
           "#FF97FF",
           "#FECB52"
          ],
          "font": {
           "color": "#2a3f5f"
          },
          "geo": {
           "bgcolor": "white",
           "lakecolor": "white",
           "landcolor": "#E5ECF6",
           "showlakes": true,
           "showland": true,
           "subunitcolor": "white"
          },
          "hoverlabel": {
           "align": "left"
          },
          "hovermode": "closest",
          "mapbox": {
           "style": "light"
          },
          "paper_bgcolor": "white",
          "plot_bgcolor": "#E5ECF6",
          "polar": {
           "angularaxis": {
            "gridcolor": "white",
            "linecolor": "white",
            "ticks": ""
           },
           "bgcolor": "#E5ECF6",
           "radialaxis": {
            "gridcolor": "white",
            "linecolor": "white",
            "ticks": ""
           }
          },
          "scene": {
           "xaxis": {
            "backgroundcolor": "#E5ECF6",
            "gridcolor": "white",
            "gridwidth": 2,
            "linecolor": "white",
            "showbackground": true,
            "ticks": "",
            "zerolinecolor": "white"
           },
           "yaxis": {
            "backgroundcolor": "#E5ECF6",
            "gridcolor": "white",
            "gridwidth": 2,
            "linecolor": "white",
            "showbackground": true,
            "ticks": "",
            "zerolinecolor": "white"
           },
           "zaxis": {
            "backgroundcolor": "#E5ECF6",
            "gridcolor": "white",
            "gridwidth": 2,
            "linecolor": "white",
            "showbackground": true,
            "ticks": "",
            "zerolinecolor": "white"
           }
          },
          "shapedefaults": {
           "line": {
            "color": "#2a3f5f"
           }
          },
          "ternary": {
           "aaxis": {
            "gridcolor": "white",
            "linecolor": "white",
            "ticks": ""
           },
           "baxis": {
            "gridcolor": "white",
            "linecolor": "white",
            "ticks": ""
           },
           "bgcolor": "#E5ECF6",
           "caxis": {
            "gridcolor": "white",
            "linecolor": "white",
            "ticks": ""
           }
          },
          "title": {
           "x": 0.05
          },
          "xaxis": {
           "automargin": true,
           "gridcolor": "white",
           "linecolor": "white",
           "ticks": "",
           "title": {
            "standoff": 15
           },
           "zerolinecolor": "white",
           "zerolinewidth": 2
          },
          "yaxis": {
           "automargin": true,
           "gridcolor": "white",
           "linecolor": "white",
           "ticks": "",
           "title": {
            "standoff": 15
           },
           "zerolinecolor": "white",
           "zerolinewidth": 2
          }
         }
        },
        "title": {
         "text": "Nombre de missions par hôtel"
        },
        "xaxis": {
         "categoryorder": "total descending",
         "title": {
          "text": "Hôtels"
         }
        },
        "yaxis": {
         "title": {
          "text": "Nombre de missions"
         }
        }
       }
      }
     },
     "metadata": {},
     "output_type": "display_data"
    }
   ],
   "source": [
    "trace = go.Bar(name='Affected rentals', \n",
    "                x=heures_par_hotel.index, \n",
    "                y=heures_par_hotel.time_delta / 8.64e+13) ## nanoseconds to days\n",
    "\n",
    "fig = go.Figure(data=[trace])\n",
    "# Change the bar mode\n",
    "fig.update_layout(title=\"Nombre de missions par hôtel\",\n",
    "                  showlegend=False,\n",
    "                  xaxis={'categoryorder':'total descending'})\n",
    "\n",
    "\n",
    "fig.update_xaxes(title_text='Hôtels')\n",
    "fig.update_yaxes(title_text='Nombre de missions')\n",
    "\n",
    "\n",
    "fig.show()\n"
   ]
  },
  {
   "cell_type": "code",
   "execution_count": 43,
   "metadata": {},
   "outputs": [
    {
     "data": {
      "text/plain": [
       "0       01-2024\n",
       "1       01-2024\n",
       "2       01-2024\n",
       "3       01-2024\n",
       "4       01-2024\n",
       "         ...   \n",
       "4765    12-2021\n",
       "4766    12-2021\n",
       "4767    12-2021\n",
       "4768    12-2021\n",
       "4769    11-2021\n",
       "Name: periode_debut, Length: 4760, dtype: object"
      ]
     },
     "execution_count": 43,
     "metadata": {},
     "output_type": "execute_result"
    }
   ],
   "source": [
    "data[\"periode_debut\"] = data[\"date_debut\"].dt.strftime('%m-%Y')\n",
    "data[\"periode_debut\"]"
   ]
  },
  {
   "cell_type": "code",
   "execution_count": 44,
   "metadata": {},
   "outputs": [
    {
     "data": {
      "application/vnd.plotly.v1+json": {
       "config": {
        "plotlyServerURL": "https://plot.ly"
       },
       "data": [
        {
         "marker": {
          "line": {
           "width": 0
          }
         },
         "type": "bar",
         "x": [
          "01-2024",
          "01-2024",
          "01-2024",
          "01-2024",
          "01-2024",
          "01-2024",
          "01-2024",
          "01-2024",
          "01-2024",
          "01-2024",
          "12-2023",
          "12-2023",
          "12-2023",
          "12-2023",
          "12-2023",
          "12-2023",
          "12-2023",
          "12-2023",
          "12-2023",
          "12-2023",
          "12-2023",
          "12-2023",
          "12-2023",
          "12-2023",
          "12-2023",
          "12-2023",
          "12-2023",
          "12-2023",
          "12-2023",
          "12-2023",
          "12-2023",
          "12-2023",
          "12-2023",
          "12-2023",
          "12-2023",
          "12-2023",
          "12-2023",
          "12-2023",
          "12-2023",
          "12-2023",
          "12-2023",
          "12-2023",
          "12-2023",
          "12-2023",
          "12-2023",
          "12-2023",
          "12-2023",
          "12-2023",
          "12-2023",
          "12-2023",
          "12-2023",
          "12-2023",
          "12-2023",
          "12-2023",
          "12-2023",
          "12-2023",
          "12-2023",
          "12-2023",
          "12-2023",
          "12-2023",
          "12-2023",
          "12-2023",
          "12-2023",
          "12-2023",
          "12-2023",
          "12-2023",
          "12-2023",
          "12-2023",
          "12-2023",
          "12-2023",
          "12-2023",
          "12-2023",
          "12-2023",
          "12-2023",
          "12-2023",
          "12-2023",
          "12-2023",
          "12-2023",
          "12-2023",
          "12-2023",
          "12-2023",
          "12-2023",
          "12-2023",
          "12-2023",
          "12-2023",
          "12-2023",
          "12-2023",
          "12-2023",
          "12-2023",
          "12-2023",
          "12-2023",
          "12-2023",
          "12-2023",
          "12-2023",
          "12-2023",
          "12-2023",
          "12-2023",
          "12-2023",
          "12-2023",
          "12-2023",
          "12-2023",
          "12-2023",
          "12-2023",
          "12-2023",
          "12-2023",
          "12-2023",
          "12-2023",
          "12-2023",
          "12-2023",
          "12-2023",
          "12-2023",
          "12-2023",
          "12-2023",
          "12-2023",
          "12-2023",
          "12-2023",
          "12-2023",
          "12-2023",
          "12-2023",
          "12-2023",
          "12-2023",
          "12-2023",
          "11-2023",
          "11-2023",
          "11-2023",
          "11-2023",
          "11-2023",
          "11-2023",
          "11-2023",
          "11-2023",
          "11-2023",
          "11-2023",
          "11-2023",
          "11-2023",
          "11-2023",
          "11-2023",
          "11-2023",
          "11-2023",
          "11-2023",
          "11-2023",
          "11-2023",
          "11-2023",
          "11-2023",
          "11-2023",
          "11-2023",
          "11-2023",
          "11-2023",
          "11-2023",
          "11-2023",
          "11-2023",
          "11-2023",
          "11-2023",
          "11-2023",
          "11-2023",
          "11-2023",
          "11-2023",
          "11-2023",
          "11-2023",
          "11-2023",
          "11-2023",
          "11-2023",
          "11-2023",
          "11-2023",
          "11-2023",
          "11-2023",
          "11-2023",
          "11-2023",
          "11-2023",
          "11-2023",
          "11-2023",
          "11-2023",
          "11-2023",
          "11-2023",
          "11-2023",
          "11-2023",
          "11-2023",
          "11-2023",
          "11-2023",
          "11-2023",
          "11-2023",
          "11-2023",
          "11-2023",
          "11-2023",
          "11-2023",
          "11-2023",
          "11-2023",
          "11-2023",
          "11-2023",
          "11-2023",
          "11-2023",
          "11-2023",
          "11-2023",
          "11-2023",
          "11-2023",
          "11-2023",
          "11-2023",
          "11-2023",
          "11-2023",
          "11-2023",
          "11-2023",
          "11-2023",
          "11-2023",
          "11-2023",
          "11-2023",
          "11-2023",
          "11-2023",
          "11-2023",
          "11-2023",
          "11-2023",
          "11-2023",
          "11-2023",
          "11-2023",
          "11-2023",
          "11-2023",
          "11-2023",
          "11-2023",
          "11-2023",
          "11-2023",
          "11-2023",
          "11-2023",
          "11-2023",
          "11-2023",
          "11-2023",
          "11-2023",
          "11-2023",
          "11-2023",
          "11-2023",
          "11-2023",
          "11-2023",
          "11-2023",
          "11-2023",
          "11-2023",
          "11-2023",
          "11-2023",
          "11-2023",
          "11-2023",
          "11-2023",
          "11-2023",
          "11-2023",
          "11-2023",
          "11-2023",
          "11-2023",
          "11-2023",
          "11-2023",
          "11-2023",
          "11-2023",
          "11-2023",
          "11-2023",
          "11-2023",
          "11-2023",
          "11-2023",
          "11-2023",
          "11-2023",
          "11-2023",
          "11-2023",
          "11-2023",
          "11-2023",
          "11-2023",
          "11-2023",
          "11-2023",
          "11-2023",
          "11-2023",
          "11-2023",
          "11-2023",
          "11-2023",
          "11-2023",
          "11-2023",
          "11-2023",
          "11-2023",
          "11-2023",
          "11-2023",
          "11-2023",
          "11-2023",
          "11-2023",
          "11-2023",
          "11-2023",
          "11-2023",
          "11-2023",
          "11-2023",
          "11-2023",
          "11-2023",
          "11-2023",
          "11-2023",
          "11-2023",
          "11-2023",
          "11-2023",
          "11-2023",
          "11-2023",
          "11-2023",
          "11-2023",
          "11-2023",
          "11-2023",
          "11-2023",
          "11-2023",
          "11-2023",
          "11-2023",
          "11-2023",
          "11-2023",
          "11-2023",
          "11-2023",
          "11-2023",
          "11-2023",
          "11-2023",
          "11-2023",
          "11-2023",
          "11-2023",
          "11-2023",
          "11-2023",
          "11-2023",
          "11-2023",
          "11-2023",
          "11-2023",
          "11-2023",
          "11-2023",
          "11-2023",
          "11-2023",
          "11-2023",
          "11-2023",
          "11-2023",
          "11-2023",
          "11-2023",
          "11-2023",
          "11-2023",
          "11-2023",
          "11-2023",
          "11-2023",
          "11-2023",
          "11-2023",
          "11-2023",
          "11-2023",
          "11-2023",
          "11-2023",
          "11-2023",
          "11-2023",
          "11-2023",
          "11-2023",
          "11-2023",
          "10-2023",
          "10-2023",
          "10-2023",
          "10-2023",
          "10-2023",
          "10-2023",
          "10-2023",
          "10-2023",
          "10-2023",
          "10-2023",
          "10-2023",
          "10-2023",
          "10-2023",
          "10-2023",
          "10-2023",
          "10-2023",
          "10-2023",
          "10-2023",
          "10-2023",
          "10-2023",
          "10-2023",
          "10-2023",
          "10-2023",
          "10-2023",
          "10-2023",
          "10-2023",
          "10-2023",
          "10-2023",
          "10-2023",
          "10-2023",
          "10-2023",
          "10-2023",
          "10-2023",
          "10-2023",
          "10-2023",
          "10-2023",
          "10-2023",
          "10-2023",
          "10-2023",
          "10-2023",
          "10-2023",
          "10-2023",
          "10-2023",
          "10-2023",
          "10-2023",
          "10-2023",
          "10-2023",
          "10-2023",
          "10-2023",
          "10-2023",
          "10-2023",
          "10-2023",
          "10-2023",
          "10-2023",
          "10-2023",
          "10-2023",
          "10-2023",
          "10-2023",
          "10-2023",
          "10-2023",
          "10-2023",
          "10-2023",
          "10-2023",
          "10-2023",
          "10-2023",
          "10-2023",
          "10-2023",
          "10-2023",
          "10-2023",
          "10-2023",
          "10-2023",
          "10-2023",
          "10-2023",
          "10-2023",
          "10-2023",
          "10-2023",
          "10-2023",
          "10-2023",
          "10-2023",
          "10-2023",
          "10-2023",
          "10-2023",
          "10-2023",
          "10-2023",
          "10-2023",
          "10-2023",
          "10-2023",
          "10-2023",
          "10-2023",
          "10-2023",
          "10-2023",
          "10-2023",
          "10-2023",
          "10-2023",
          "10-2023",
          "10-2023",
          "10-2023",
          "10-2023",
          "10-2023",
          "10-2023",
          "10-2023",
          "10-2023",
          "10-2023",
          "10-2023",
          "10-2023",
          "10-2023",
          "10-2023",
          "10-2023",
          "10-2023",
          "10-2023",
          "10-2023",
          "10-2023",
          "10-2023",
          "10-2023",
          "10-2023",
          "10-2023",
          "10-2023",
          "10-2023",
          "10-2023",
          "10-2023",
          "10-2023",
          "10-2023",
          "10-2023",
          "10-2023",
          "10-2023",
          "10-2023",
          "10-2023",
          "10-2023",
          "10-2023",
          "10-2023",
          "10-2023",
          "10-2023",
          "10-2023",
          "10-2023",
          "10-2023",
          "10-2023",
          "10-2023",
          "10-2023",
          "10-2023",
          "10-2023",
          "10-2023",
          "10-2023",
          "10-2023",
          "10-2023",
          "10-2023",
          "10-2023",
          "10-2023",
          "10-2023",
          "10-2023",
          "10-2023",
          "10-2023",
          "10-2023",
          "10-2023",
          "10-2023",
          "10-2023",
          "10-2023",
          "10-2023",
          "10-2023",
          "10-2023",
          "10-2023",
          "10-2023",
          "10-2023",
          "10-2023",
          "10-2023",
          "10-2023",
          "10-2023",
          "10-2023",
          "10-2023",
          "10-2023",
          "10-2023",
          "10-2023",
          "10-2023",
          "10-2023",
          "10-2023",
          "10-2023",
          "10-2023",
          "10-2023",
          "10-2023",
          "10-2023",
          "10-2023",
          "10-2023",
          "10-2023",
          "10-2023",
          "10-2023",
          "10-2023",
          "10-2023",
          "10-2023",
          "10-2023",
          "10-2023",
          "10-2023",
          "10-2023",
          "10-2023",
          "10-2023",
          "10-2023",
          "10-2023",
          "10-2023",
          "10-2023",
          "10-2023",
          "10-2023",
          "10-2023",
          "10-2023",
          "10-2023",
          "10-2023",
          "10-2023",
          "10-2023",
          "10-2023",
          "10-2023",
          "10-2023",
          "10-2023",
          "10-2023",
          "10-2023",
          "10-2023",
          "10-2023",
          "10-2023",
          "10-2023",
          "10-2023",
          "10-2023",
          "10-2023",
          "10-2023",
          "10-2023",
          "10-2023",
          "10-2023",
          "10-2023",
          "10-2023",
          "10-2023",
          "10-2023",
          "10-2023",
          "10-2023",
          "10-2023",
          "10-2023",
          "10-2023",
          "10-2023",
          "10-2023",
          "10-2023",
          "10-2023",
          "10-2023",
          "10-2023",
          "10-2023",
          "10-2023",
          "10-2023",
          "10-2023",
          "10-2023",
          "10-2023",
          "10-2023",
          "10-2023",
          "10-2023",
          "10-2023",
          "10-2023",
          "10-2023",
          "10-2023",
          "10-2023",
          "10-2023",
          "10-2023",
          "10-2023",
          "10-2023",
          "09-2023",
          "09-2023",
          "09-2023",
          "09-2023",
          "09-2023",
          "09-2023",
          "09-2023",
          "09-2023",
          "09-2023",
          "09-2023",
          "09-2023",
          "09-2023",
          "09-2023",
          "09-2023",
          "09-2023",
          "09-2023",
          "09-2023",
          "09-2023",
          "09-2023",
          "09-2023",
          "09-2023",
          "09-2023",
          "09-2023",
          "09-2023",
          "09-2023",
          "09-2023",
          "09-2023",
          "09-2023",
          "09-2023",
          "09-2023",
          "09-2023",
          "09-2023",
          "09-2023",
          "09-2023",
          "09-2023",
          "09-2023",
          "09-2023",
          "09-2023",
          "09-2023",
          "09-2023",
          "09-2023",
          "09-2023",
          "09-2023",
          "09-2023",
          "09-2023",
          "09-2023",
          "09-2023",
          "09-2023",
          "09-2023",
          "09-2023",
          "09-2023",
          "09-2023",
          "09-2023",
          "09-2023",
          "09-2023",
          "09-2023",
          "09-2023",
          "09-2023",
          "09-2023",
          "09-2023",
          "09-2023",
          "09-2023",
          "09-2023",
          "09-2023",
          "09-2023",
          "09-2023",
          "09-2023",
          "09-2023",
          "09-2023",
          "09-2023",
          "09-2023",
          "09-2023",
          "09-2023",
          "09-2023",
          "09-2023",
          "09-2023",
          "09-2023",
          "09-2023",
          "09-2023",
          "09-2023",
          "09-2023",
          "09-2023",
          "09-2023",
          "09-2023",
          "09-2023",
          "09-2023",
          "09-2023",
          "09-2023",
          "09-2023",
          "09-2023",
          "09-2023",
          "09-2023",
          "09-2023",
          "09-2023",
          "09-2023",
          "09-2023",
          "09-2023",
          "09-2023",
          "09-2023",
          "09-2023",
          "09-2023",
          "09-2023",
          "09-2023",
          "09-2023",
          "09-2023",
          "09-2023",
          "09-2023",
          "09-2023",
          "09-2023",
          "09-2023",
          "09-2023",
          "09-2023",
          "09-2023",
          "09-2023",
          "09-2023",
          "09-2023",
          "09-2023",
          "09-2023",
          "09-2023",
          "09-2023",
          "09-2023",
          "09-2023",
          "09-2023",
          "09-2023",
          "09-2023",
          "09-2023",
          "09-2023",
          "09-2023",
          "09-2023",
          "09-2023",
          "09-2023",
          "09-2023",
          "09-2023",
          "09-2023",
          "09-2023",
          "09-2023",
          "09-2023",
          "09-2023",
          "09-2023",
          "09-2023",
          "09-2023",
          "09-2023",
          "09-2023",
          "09-2023",
          "09-2023",
          "09-2023",
          "09-2023",
          "09-2023",
          "09-2023",
          "09-2023",
          "09-2023",
          "09-2023",
          "09-2023",
          "09-2023",
          "09-2023",
          "09-2023",
          "09-2023",
          "09-2023",
          "09-2023",
          "09-2023",
          "09-2023",
          "09-2023",
          "09-2023",
          "09-2023",
          "09-2023",
          "09-2023",
          "09-2023",
          "09-2023",
          "09-2023",
          "09-2023",
          "09-2023",
          "09-2023",
          "09-2023",
          "09-2023",
          "09-2023",
          "09-2023",
          "09-2023",
          "09-2023",
          "09-2023",
          "09-2023",
          "09-2023",
          "09-2023",
          "09-2023",
          "09-2023",
          "09-2023",
          "09-2023",
          "09-2023",
          "09-2023",
          "09-2023",
          "09-2023",
          "09-2023",
          "09-2023",
          "09-2023",
          "09-2023",
          "09-2023",
          "09-2023",
          "09-2023",
          "09-2023",
          "09-2023",
          "09-2023",
          "09-2023",
          "09-2023",
          "09-2023",
          "09-2023",
          "09-2023",
          "09-2023",
          "09-2023",
          "09-2023",
          "09-2023",
          "09-2023",
          "09-2023",
          "09-2023",
          "09-2023",
          "09-2023",
          "09-2023",
          "09-2023",
          "09-2023",
          "09-2023",
          "09-2023",
          "09-2023",
          "09-2023",
          "09-2023",
          "09-2023",
          "09-2023",
          "09-2023",
          "09-2023",
          "09-2023",
          "09-2023",
          "09-2023",
          "09-2023",
          "09-2023",
          "09-2023",
          "09-2023",
          "09-2023",
          "09-2023",
          "09-2023",
          "09-2023",
          "09-2023",
          "09-2023",
          "09-2023",
          "09-2023",
          "09-2023",
          "09-2023",
          "09-2023",
          "09-2023",
          "09-2023",
          "09-2023",
          "09-2023",
          "09-2023",
          "09-2023",
          "09-2023",
          "09-2023",
          "09-2023",
          "09-2023",
          "09-2023",
          "09-2023",
          "09-2023",
          "09-2023",
          "09-2023",
          "09-2023",
          "09-2023",
          "09-2023",
          "09-2023",
          "09-2023",
          "09-2023",
          "09-2023",
          "09-2023",
          "09-2023",
          "09-2023",
          "09-2023",
          "09-2023",
          "09-2023",
          "09-2023",
          "09-2023",
          "09-2023",
          "09-2023",
          "09-2023",
          "09-2023",
          "09-2023",
          "09-2023",
          "09-2023",
          "09-2023",
          "09-2023",
          "09-2023",
          "09-2023",
          "09-2023",
          "09-2023",
          "09-2023",
          "09-2023",
          "09-2023",
          "09-2023",
          "09-2023",
          "08-2023",
          "08-2023",
          "08-2023",
          "08-2023",
          "08-2023",
          "08-2023",
          "08-2023",
          "08-2023",
          "08-2023",
          "08-2023",
          "08-2023",
          "08-2023",
          "08-2023",
          "08-2023",
          "08-2023",
          "08-2023",
          "08-2023",
          "08-2023",
          "08-2023",
          "08-2023",
          "08-2023",
          "08-2023",
          "08-2023",
          "08-2023",
          "08-2023",
          "08-2023",
          "08-2023",
          "08-2023",
          "08-2023",
          "08-2023",
          "08-2023",
          "08-2023",
          "08-2023",
          "08-2023",
          "08-2023",
          "08-2023",
          "08-2023",
          "08-2023",
          "08-2023",
          "08-2023",
          "08-2023",
          "08-2023",
          "08-2023",
          "08-2023",
          "08-2023",
          "08-2023",
          "08-2023",
          "08-2023",
          "08-2023",
          "08-2023",
          "08-2023",
          "08-2023",
          "08-2023",
          "08-2023",
          "08-2023",
          "08-2023",
          "08-2023",
          "08-2023",
          "08-2023",
          "08-2023",
          "08-2023",
          "08-2023",
          "08-2023",
          "08-2023",
          "08-2023",
          "08-2023",
          "08-2023",
          "08-2023",
          "08-2023",
          "08-2023",
          "08-2023",
          "08-2023",
          "08-2023",
          "08-2023",
          "08-2023",
          "08-2023",
          "08-2023",
          "08-2023",
          "08-2023",
          "08-2023",
          "08-2023",
          "08-2023",
          "08-2023",
          "08-2023",
          "08-2023",
          "08-2023",
          "08-2023",
          "08-2023",
          "08-2023",
          "08-2023",
          "08-2023",
          "08-2023",
          "08-2023",
          "08-2023",
          "08-2023",
          "08-2023",
          "08-2023",
          "08-2023",
          "08-2023",
          "08-2023",
          "08-2023",
          "08-2023",
          "08-2023",
          "08-2023",
          "08-2023",
          "08-2023",
          "08-2023",
          "08-2023",
          "08-2023",
          "08-2023",
          "08-2023",
          "08-2023",
          "08-2023",
          "08-2023",
          "08-2023",
          "08-2023",
          "08-2023",
          "08-2023",
          "08-2023",
          "08-2023",
          "08-2023",
          "08-2023",
          "08-2023",
          "08-2023",
          "08-2023",
          "08-2023",
          "08-2023",
          "08-2023",
          "08-2023",
          "08-2023",
          "08-2023",
          "08-2023",
          "08-2023",
          "08-2023",
          "08-2023",
          "08-2023",
          "08-2023",
          "08-2023",
          "08-2023",
          "08-2023",
          "08-2023",
          "08-2023",
          "08-2023",
          "08-2023",
          "08-2023",
          "08-2023",
          "08-2023",
          "08-2023",
          "08-2023",
          "08-2023",
          "08-2023",
          "08-2023",
          "08-2023",
          "08-2023",
          "08-2023",
          "08-2023",
          "08-2023",
          "08-2023",
          "08-2023",
          "08-2023",
          "08-2023",
          "08-2023",
          "08-2023",
          "08-2023",
          "08-2023",
          "08-2023",
          "08-2023",
          "08-2023",
          "08-2023",
          "08-2023",
          "08-2023",
          "08-2023",
          "08-2023",
          "08-2023",
          "08-2023",
          "08-2023",
          "08-2023",
          "08-2023",
          "08-2023",
          "08-2023",
          "08-2023",
          "08-2023",
          "08-2023",
          "08-2023",
          "08-2023",
          "08-2023",
          "08-2023",
          "08-2023",
          "08-2023",
          "08-2023",
          "08-2023",
          "08-2023",
          "08-2023",
          "08-2023",
          "08-2023",
          "08-2023",
          "08-2023",
          "08-2023",
          "08-2023",
          "08-2023",
          "08-2023",
          "08-2023",
          "08-2023",
          "08-2023",
          "08-2023",
          "08-2023",
          "08-2023",
          "08-2023",
          "08-2023",
          "08-2023",
          "08-2023",
          "08-2023",
          "08-2023",
          "08-2023",
          "08-2023",
          "08-2023",
          "08-2023",
          "08-2023",
          "08-2023",
          "08-2023",
          "08-2023",
          "08-2023",
          "08-2023",
          "08-2023",
          "08-2023",
          "08-2023",
          "08-2023",
          "08-2023",
          "08-2023",
          "08-2023",
          "08-2023",
          "08-2023",
          "08-2023",
          "08-2023",
          "08-2023",
          "08-2023",
          "08-2023",
          "08-2023",
          "08-2023",
          "08-2023",
          "08-2023",
          "08-2023",
          "08-2023",
          "08-2023",
          "08-2023",
          "08-2023",
          "08-2023",
          "08-2023",
          "08-2023",
          "08-2023",
          "08-2023",
          "08-2023",
          "08-2023",
          "08-2023",
          "08-2023",
          "08-2023",
          "08-2023",
          "08-2023",
          "08-2023",
          "08-2023",
          "08-2023",
          "08-2023",
          "08-2023",
          "08-2023",
          "08-2023",
          "08-2023",
          "08-2023",
          "08-2023",
          "08-2023",
          "08-2023",
          "08-2023",
          "08-2023",
          "08-2023",
          "08-2023",
          "08-2023",
          "08-2023",
          "08-2023",
          "08-2023",
          "08-2023",
          "08-2023",
          "08-2023",
          "08-2023",
          "08-2023",
          "08-2023",
          "08-2023",
          "08-2023",
          "08-2023",
          "08-2023",
          "08-2023",
          "08-2023",
          "08-2023",
          "08-2023",
          "08-2023",
          "08-2023",
          "08-2023",
          "08-2023",
          "08-2023",
          "08-2023",
          "08-2023",
          "08-2023",
          "08-2023",
          "08-2023",
          "08-2023",
          "08-2023",
          "08-2023",
          "08-2023",
          "08-2023",
          "08-2023",
          "08-2023",
          "08-2023",
          "08-2023",
          "08-2023",
          "08-2023",
          "08-2023",
          "08-2023",
          "08-2023",
          "08-2023",
          "08-2023",
          "08-2023",
          "08-2023",
          "08-2023",
          "08-2023",
          "08-2023",
          "08-2023",
          "08-2023",
          "08-2023",
          "08-2023",
          "08-2023",
          "08-2023",
          "08-2023",
          "08-2023",
          "08-2023",
          "08-2023",
          "08-2023",
          "08-2023",
          "07-2023",
          "07-2023",
          "07-2023",
          "07-2023",
          "07-2023",
          "07-2023",
          "07-2023",
          "07-2023",
          "07-2023",
          "07-2023",
          "07-2023",
          "07-2023",
          "07-2023",
          "07-2023",
          "07-2023",
          "07-2023",
          "07-2023",
          "07-2023",
          "07-2023",
          "07-2023",
          "07-2023",
          "07-2023",
          "07-2023",
          "07-2023",
          "07-2023",
          "07-2023",
          "07-2023",
          "07-2023",
          "07-2023",
          "07-2023",
          "07-2023",
          "07-2023",
          "07-2023",
          "07-2023",
          "07-2023",
          "07-2023",
          "07-2023",
          "07-2023",
          "07-2023",
          "07-2023",
          "07-2023",
          "07-2023",
          "07-2023",
          "07-2023",
          "07-2023",
          "07-2023",
          "07-2023",
          "07-2023",
          "07-2023",
          "07-2023",
          "07-2023",
          "07-2023",
          "07-2023",
          "07-2023",
          "07-2023",
          "07-2023",
          "07-2023",
          "07-2023",
          "07-2023",
          "07-2023",
          "07-2023",
          "07-2023",
          "07-2023",
          "07-2023",
          "07-2023",
          "07-2023",
          "07-2023",
          "07-2023",
          "07-2023",
          "07-2023",
          "07-2023",
          "07-2023",
          "07-2023",
          "07-2023",
          "07-2023",
          "07-2023",
          "07-2023",
          "07-2023",
          "07-2023",
          "07-2023",
          "07-2023",
          "07-2023",
          "07-2023",
          "07-2023",
          "07-2023",
          "07-2023",
          "07-2023",
          "07-2023",
          "07-2023",
          "07-2023",
          "07-2023",
          "07-2023",
          "07-2023",
          "07-2023",
          "07-2023",
          "07-2023",
          "07-2023",
          "07-2023",
          "07-2023",
          "07-2023",
          "07-2023",
          "07-2023",
          "07-2023",
          "07-2023",
          "07-2023",
          "07-2023",
          "07-2023",
          "07-2023",
          "07-2023",
          "07-2023",
          "07-2023",
          "07-2023",
          "07-2023",
          "07-2023",
          "07-2023",
          "07-2023",
          "07-2023",
          "07-2023",
          "07-2023",
          "07-2023",
          "07-2023",
          "07-2023",
          "07-2023",
          "07-2023",
          "07-2023",
          "07-2023",
          "07-2023",
          "07-2023",
          "07-2023",
          "07-2023",
          "07-2023",
          "07-2023",
          "07-2023",
          "07-2023",
          "07-2023",
          "07-2023",
          "07-2023",
          "07-2023",
          "07-2023",
          "07-2023",
          "07-2023",
          "07-2023",
          "07-2023",
          "07-2023",
          "07-2023",
          "07-2023",
          "07-2023",
          "07-2023",
          "07-2023",
          "07-2023",
          "07-2023",
          "07-2023",
          "07-2023",
          "07-2023",
          "07-2023",
          "07-2023",
          "07-2023",
          "07-2023",
          "07-2023",
          "07-2023",
          "07-2023",
          "07-2023",
          "07-2023",
          "07-2023",
          "07-2023",
          "07-2023",
          "07-2023",
          "07-2023",
          "07-2023",
          "07-2023",
          "07-2023",
          "07-2023",
          "07-2023",
          "07-2023",
          "07-2023",
          "07-2023",
          "07-2023",
          "07-2023",
          "07-2023",
          "07-2023",
          "07-2023",
          "07-2023",
          "07-2023",
          "07-2023",
          "07-2023",
          "07-2023",
          "07-2023",
          "07-2023",
          "07-2023",
          "07-2023",
          "07-2023",
          "07-2023",
          "07-2023",
          "07-2023",
          "07-2023",
          "07-2023",
          "07-2023",
          "07-2023",
          "07-2023",
          "07-2023",
          "07-2023",
          "07-2023",
          "07-2023",
          "07-2023",
          "07-2023",
          "07-2023",
          "07-2023",
          "07-2023",
          "07-2023",
          "07-2023",
          "07-2023",
          "07-2023",
          "07-2023",
          "07-2023",
          "07-2023",
          "07-2023",
          "07-2023",
          "07-2023",
          "07-2023",
          "07-2023",
          "07-2023",
          "07-2023",
          "07-2023",
          "07-2023",
          "07-2023",
          "07-2023",
          "07-2023",
          "07-2023",
          "07-2023",
          "07-2023",
          "07-2023",
          "07-2023",
          "07-2023",
          "07-2023",
          "07-2023",
          "07-2023",
          "07-2023",
          "07-2023",
          "07-2023",
          "07-2023",
          "07-2023",
          "07-2023",
          "07-2023",
          "07-2023",
          "07-2023",
          "07-2023",
          "07-2023",
          "07-2023",
          "07-2023",
          "07-2023",
          "07-2023",
          "07-2023",
          "07-2023",
          "07-2023",
          "07-2023",
          "07-2023",
          "07-2023",
          "07-2023",
          "07-2023",
          "07-2023",
          "07-2023",
          "07-2023",
          "07-2023",
          "07-2023",
          "07-2023",
          "07-2023",
          "07-2023",
          "07-2023",
          "07-2023",
          "07-2023",
          "07-2023",
          "07-2023",
          "07-2023",
          "07-2023",
          "07-2023",
          "07-2023",
          "07-2023",
          "07-2023",
          "07-2023",
          "07-2023",
          "07-2023",
          "07-2023",
          "07-2023",
          "07-2023",
          "07-2023",
          "07-2023",
          "07-2023",
          "07-2023",
          "07-2023",
          "07-2023",
          "07-2023",
          "07-2023",
          "07-2023",
          "07-2023",
          "07-2023",
          "07-2023",
          "07-2023",
          "07-2023",
          "07-2023",
          "07-2023",
          "07-2023",
          "07-2023",
          "06-2023",
          "06-2023",
          "06-2023",
          "06-2023",
          "06-2023",
          "06-2023",
          "06-2023",
          "06-2023",
          "06-2023",
          "06-2023",
          "06-2023",
          "06-2023",
          "06-2023",
          "06-2023",
          "06-2023",
          "06-2023",
          "06-2023",
          "06-2023",
          "06-2023",
          "06-2023",
          "06-2023",
          "06-2023",
          "06-2023",
          "06-2023",
          "06-2023",
          "06-2023",
          "06-2023",
          "06-2023",
          "06-2023",
          "06-2023",
          "06-2023",
          "06-2023",
          "06-2023",
          "06-2023",
          "06-2023",
          "06-2023",
          "06-2023",
          "06-2023",
          "06-2023",
          "06-2023",
          "06-2023",
          "06-2023",
          "06-2023",
          "06-2023",
          "06-2023",
          "06-2023",
          "06-2023",
          "06-2023",
          "06-2023",
          "06-2023",
          "06-2023",
          "06-2023",
          "06-2023",
          "06-2023",
          "06-2023",
          "06-2023",
          "06-2023",
          "06-2023",
          "06-2023",
          "06-2023",
          "06-2023",
          "06-2023",
          "06-2023",
          "06-2023",
          "06-2023",
          "06-2023",
          "06-2023",
          "06-2023",
          "06-2023",
          "06-2023",
          "06-2023",
          "06-2023",
          "06-2023",
          "06-2023",
          "06-2023",
          "06-2023",
          "06-2023",
          "06-2023",
          "06-2023",
          "06-2023",
          "06-2023",
          "06-2023",
          "06-2023",
          "06-2023",
          "06-2023",
          "06-2023",
          "06-2023",
          "06-2023",
          "06-2023",
          "06-2023",
          "06-2023",
          "06-2023",
          "06-2023",
          "06-2023",
          "06-2023",
          "06-2023",
          "06-2023",
          "06-2023",
          "06-2023",
          "06-2023",
          "06-2023",
          "06-2023",
          "06-2023",
          "06-2023",
          "06-2023",
          "06-2023",
          "06-2023",
          "06-2023",
          "06-2023",
          "06-2023",
          "06-2023",
          "06-2023",
          "06-2023",
          "06-2023",
          "06-2023",
          "06-2023",
          "06-2023",
          "06-2023",
          "06-2023",
          "06-2023",
          "06-2023",
          "06-2023",
          "06-2023",
          "06-2023",
          "06-2023",
          "06-2023",
          "06-2023",
          "06-2023",
          "06-2023",
          "06-2023",
          "06-2023",
          "06-2023",
          "06-2023",
          "06-2023",
          "06-2023",
          "06-2023",
          "06-2023",
          "06-2023",
          "06-2023",
          "06-2023",
          "06-2023",
          "06-2023",
          "06-2023",
          "06-2023",
          "06-2023",
          "06-2023",
          "06-2023",
          "06-2023",
          "06-2023",
          "06-2023",
          "06-2023",
          "06-2023",
          "06-2023",
          "06-2023",
          "06-2023",
          "06-2023",
          "06-2023",
          "06-2023",
          "06-2023",
          "06-2023",
          "06-2023",
          "06-2023",
          "06-2023",
          "06-2023",
          "06-2023",
          "06-2023",
          "06-2023",
          "06-2023",
          "06-2023",
          "06-2023",
          "06-2023",
          "06-2023",
          "06-2023",
          "06-2023",
          "06-2023",
          "06-2023",
          "06-2023",
          "06-2023",
          "06-2023",
          "06-2023",
          "06-2023",
          "06-2023",
          "06-2023",
          "06-2023",
          "06-2023",
          "06-2023",
          "06-2023",
          "06-2023",
          "06-2023",
          "06-2023",
          "06-2023",
          "06-2023",
          "06-2023",
          "06-2023",
          "06-2023",
          "06-2023",
          "06-2023",
          "06-2023",
          "06-2023",
          "06-2023",
          "06-2023",
          "06-2023",
          "06-2023",
          "06-2023",
          "06-2023",
          "06-2023",
          "06-2023",
          "06-2023",
          "06-2023",
          "06-2023",
          "06-2023",
          "06-2023",
          "06-2023",
          "06-2023",
          "06-2023",
          "06-2023",
          "06-2023",
          "06-2023",
          "06-2023",
          "06-2023",
          "06-2023",
          "06-2023",
          "06-2023",
          "06-2023",
          "06-2023",
          "06-2023",
          "06-2023",
          "06-2023",
          "06-2023",
          "06-2023",
          "06-2023",
          "06-2023",
          "06-2023",
          "06-2023",
          "06-2023",
          "06-2023",
          "06-2023",
          "06-2023",
          "06-2023",
          "06-2023",
          "06-2023",
          "06-2023",
          "06-2023",
          "06-2023",
          "06-2023",
          "06-2023",
          "06-2023",
          "06-2023",
          "06-2023",
          "06-2023",
          "06-2023",
          "06-2023",
          "06-2023",
          "06-2023",
          "06-2023",
          "06-2023",
          "06-2023",
          "06-2023",
          "06-2023",
          "06-2023",
          "05-2023",
          "05-2023",
          "05-2023",
          "05-2023",
          "05-2023",
          "05-2023",
          "05-2023",
          "05-2023",
          "05-2023",
          "05-2023",
          "05-2023",
          "05-2023",
          "05-2023",
          "05-2023",
          "05-2023",
          "05-2023",
          "05-2023",
          "05-2023",
          "05-2023",
          "05-2023",
          "05-2023",
          "05-2023",
          "05-2023",
          "05-2023",
          "05-2023",
          "05-2023",
          "05-2023",
          "05-2023",
          "05-2023",
          "05-2023",
          "05-2023",
          "05-2023",
          "05-2023",
          "05-2023",
          "05-2023",
          "05-2023",
          "05-2023",
          "05-2023",
          "05-2023",
          "05-2023",
          "05-2023",
          "05-2023",
          "05-2023",
          "05-2023",
          "05-2023",
          "05-2023",
          "05-2023",
          "05-2023",
          "05-2023",
          "05-2023",
          "05-2023",
          "05-2023",
          "05-2023",
          "05-2023",
          "05-2023",
          "05-2023",
          "05-2023",
          "05-2023",
          "05-2023",
          "05-2023",
          "05-2023",
          "05-2023",
          "05-2023",
          "05-2023",
          "05-2023",
          "05-2023",
          "05-2023",
          "05-2023",
          "05-2023",
          "05-2023",
          "05-2023",
          "05-2023",
          "05-2023",
          "05-2023",
          "05-2023",
          "05-2023",
          "05-2023",
          "05-2023",
          "05-2023",
          "05-2023",
          "05-2023",
          "05-2023",
          "05-2023",
          "05-2023",
          "05-2023",
          "05-2023",
          "05-2023",
          "05-2023",
          "05-2023",
          "05-2023",
          "05-2023",
          "05-2023",
          "05-2023",
          "05-2023",
          "05-2023",
          "05-2023",
          "05-2023",
          "05-2023",
          "05-2023",
          "05-2023",
          "05-2023",
          "05-2023",
          "05-2023",
          "05-2023",
          "05-2023",
          "05-2023",
          "05-2023",
          "05-2023",
          "05-2023",
          "05-2023",
          "05-2023",
          "05-2023",
          "05-2023",
          "05-2023",
          "05-2023",
          "05-2023",
          "05-2023",
          "05-2023",
          "05-2023",
          "05-2023",
          "05-2023",
          "05-2023",
          "05-2023",
          "05-2023",
          "05-2023",
          "05-2023",
          "05-2023",
          "05-2023",
          "05-2023",
          "05-2023",
          "05-2023",
          "05-2023",
          "05-2023",
          "05-2023",
          "05-2023",
          "05-2023",
          "05-2023",
          "05-2023",
          "05-2023",
          "05-2023",
          "05-2023",
          "05-2023",
          "05-2023",
          "05-2023",
          "05-2023",
          "05-2023",
          "05-2023",
          "05-2023",
          "05-2023",
          "05-2023",
          "05-2023",
          "05-2023",
          "05-2023",
          "05-2023",
          "05-2023",
          "05-2023",
          "05-2023",
          "05-2023",
          "05-2023",
          "05-2023",
          "05-2023",
          "05-2023",
          "05-2023",
          "05-2023",
          "05-2023",
          "05-2023",
          "05-2023",
          "05-2023",
          "05-2023",
          "05-2023",
          "05-2023",
          "05-2023",
          "05-2023",
          "05-2023",
          "05-2023",
          "05-2023",
          "05-2023",
          "05-2023",
          "05-2023",
          "05-2023",
          "05-2023",
          "05-2023",
          "05-2023",
          "05-2023",
          "05-2023",
          "05-2023",
          "05-2023",
          "05-2023",
          "05-2023",
          "05-2023",
          "05-2023",
          "05-2023",
          "05-2023",
          "05-2023",
          "05-2023",
          "05-2023",
          "05-2023",
          "05-2023",
          "05-2023",
          "05-2023",
          "05-2023",
          "05-2023",
          "05-2023",
          "05-2023",
          "04-2023",
          "04-2023",
          "04-2023",
          "04-2023",
          "04-2023",
          "04-2023",
          "04-2023",
          "04-2023",
          "04-2023",
          "04-2023",
          "04-2023",
          "04-2023",
          "04-2023",
          "04-2023",
          "04-2023",
          "04-2023",
          "04-2023",
          "04-2023",
          "04-2023",
          "04-2023",
          "04-2023",
          "04-2023",
          "04-2023",
          "04-2023",
          "04-2023",
          "04-2023",
          "04-2023",
          "04-2023",
          "04-2023",
          "04-2023",
          "04-2023",
          "04-2023",
          "04-2023",
          "04-2023",
          "04-2023",
          "04-2023",
          "04-2023",
          "04-2023",
          "04-2023",
          "04-2023",
          "04-2023",
          "04-2023",
          "04-2023",
          "04-2023",
          "04-2023",
          "04-2023",
          "04-2023",
          "04-2023",
          "04-2023",
          "04-2023",
          "04-2023",
          "04-2023",
          "04-2023",
          "04-2023",
          "04-2023",
          "04-2023",
          "04-2023",
          "04-2023",
          "04-2023",
          "04-2023",
          "04-2023",
          "04-2023",
          "04-2023",
          "04-2023",
          "04-2023",
          "04-2023",
          "04-2023",
          "04-2023",
          "04-2023",
          "04-2023",
          "04-2023",
          "04-2023",
          "04-2023",
          "04-2023",
          "04-2023",
          "04-2023",
          "04-2023",
          "04-2023",
          "04-2023",
          "04-2023",
          "04-2023",
          "04-2023",
          "04-2023",
          "04-2023",
          "04-2023",
          "04-2023",
          "04-2023",
          "04-2023",
          "04-2023",
          "04-2023",
          "04-2023",
          "04-2023",
          "04-2023",
          "04-2023",
          "04-2023",
          "04-2023",
          "04-2023",
          "04-2023",
          "04-2023",
          "04-2023",
          "04-2023",
          "04-2023",
          "04-2023",
          "04-2023",
          "04-2023",
          "04-2023",
          "04-2023",
          "04-2023",
          "04-2023",
          "04-2023",
          "04-2023",
          "04-2023",
          "04-2023",
          "04-2023",
          "04-2023",
          "04-2023",
          "04-2023",
          "04-2023",
          "04-2023",
          "04-2023",
          "04-2023",
          "04-2023",
          "04-2023",
          "04-2023",
          "04-2023",
          "04-2023",
          "04-2023",
          "04-2023",
          "04-2023",
          "04-2023",
          "04-2023",
          "04-2023",
          "04-2023",
          "04-2023",
          "04-2023",
          "04-2023",
          "04-2023",
          "04-2023",
          "04-2023",
          "04-2023",
          "04-2023",
          "04-2023",
          "04-2023",
          "04-2023",
          "04-2023",
          "04-2023",
          "04-2023",
          "04-2023",
          "04-2023",
          "04-2023",
          "04-2023",
          "04-2023",
          "04-2023",
          "04-2023",
          "04-2023",
          "04-2023",
          "04-2023",
          "04-2023",
          "04-2023",
          "04-2023",
          "04-2023",
          "04-2023",
          "04-2023",
          "04-2023",
          "04-2023",
          "04-2023",
          "04-2023",
          "04-2023",
          "04-2023",
          "04-2023",
          "04-2023",
          "04-2023",
          "04-2023",
          "04-2023",
          "04-2023",
          "04-2023",
          "04-2023",
          "04-2023",
          "04-2023",
          "04-2023",
          "04-2023",
          "04-2023",
          "04-2023",
          "04-2023",
          "04-2023",
          "04-2023",
          "04-2023",
          "04-2023",
          "04-2023",
          "04-2023",
          "04-2023",
          "04-2023",
          "04-2023",
          "04-2023",
          "04-2023",
          "04-2023",
          "04-2023",
          "04-2023",
          "04-2023",
          "04-2023",
          "04-2023",
          "04-2023",
          "04-2023",
          "04-2023",
          "04-2023",
          "04-2023",
          "04-2023",
          "03-2023",
          "03-2023",
          "03-2023",
          "03-2023",
          "03-2023",
          "03-2023",
          "03-2023",
          "03-2023",
          "03-2023",
          "03-2023",
          "03-2023",
          "03-2023",
          "03-2023",
          "03-2023",
          "03-2023",
          "03-2023",
          "03-2023",
          "03-2023",
          "03-2023",
          "03-2023",
          "03-2023",
          "03-2023",
          "03-2023",
          "03-2023",
          "03-2023",
          "03-2023",
          "03-2023",
          "03-2023",
          "03-2023",
          "03-2023",
          "03-2023",
          "03-2023",
          "03-2023",
          "03-2023",
          "03-2023",
          "03-2023",
          "03-2023",
          "03-2023",
          "03-2023",
          "03-2023",
          "03-2023",
          "03-2023",
          "03-2023",
          "03-2023",
          "03-2023",
          "03-2023",
          "03-2023",
          "03-2023",
          "03-2023",
          "03-2023",
          "03-2023",
          "03-2023",
          "03-2023",
          "03-2023",
          "03-2023",
          "03-2023",
          "03-2023",
          "03-2023",
          "03-2023",
          "03-2023",
          "03-2023",
          "03-2023",
          "03-2023",
          "03-2023",
          "03-2023",
          "03-2023",
          "03-2023",
          "03-2023",
          "03-2023",
          "03-2023",
          "03-2023",
          "03-2023",
          "03-2023",
          "03-2023",
          "03-2023",
          "03-2023",
          "03-2023",
          "03-2023",
          "03-2023",
          "03-2023",
          "03-2023",
          "03-2023",
          "03-2023",
          "03-2023",
          "03-2023",
          "03-2023",
          "03-2023",
          "03-2023",
          "03-2023",
          "03-2023",
          "03-2023",
          "03-2023",
          "03-2023",
          "03-2023",
          "03-2023",
          "03-2023",
          "03-2023",
          "03-2023",
          "03-2023",
          "03-2023",
          "03-2023",
          "03-2023",
          "03-2023",
          "03-2023",
          "03-2023",
          "03-2023",
          "03-2023",
          "03-2023",
          "03-2023",
          "03-2023",
          "03-2023",
          "03-2023",
          "03-2023",
          "03-2023",
          "03-2023",
          "03-2023",
          "03-2023",
          "03-2023",
          "03-2023",
          "03-2023",
          "03-2023",
          "03-2023",
          "03-2023",
          "03-2023",
          "03-2023",
          "03-2023",
          "03-2023",
          "03-2023",
          "03-2023",
          "03-2023",
          "03-2023",
          "03-2023",
          "03-2023",
          "03-2023",
          "03-2023",
          "03-2023",
          "03-2023",
          "03-2023",
          "03-2023",
          "03-2023",
          "03-2023",
          "03-2023",
          "03-2023",
          "03-2023",
          "03-2023",
          "03-2023",
          "03-2023",
          "03-2023",
          "03-2023",
          "03-2023",
          "03-2023",
          "03-2023",
          "03-2023",
          "03-2023",
          "03-2023",
          "03-2023",
          "03-2023",
          "03-2023",
          "03-2023",
          "03-2023",
          "03-2023",
          "03-2023",
          "03-2023",
          "03-2023",
          "03-2023",
          "03-2023",
          "03-2023",
          "03-2023",
          "03-2023",
          "03-2023",
          "03-2023",
          "03-2023",
          "03-2023",
          "03-2023",
          "03-2023",
          "03-2023",
          "03-2023",
          "03-2023",
          "03-2023",
          "03-2023",
          "03-2023",
          "03-2023",
          "03-2023",
          "03-2023",
          "03-2023",
          "03-2023",
          "03-2023",
          "03-2023",
          "03-2023",
          "03-2023",
          "03-2023",
          "03-2023",
          "03-2023",
          "03-2023",
          "03-2023",
          "03-2023",
          "03-2023",
          "03-2023",
          "03-2023",
          "03-2023",
          "03-2023",
          "03-2023",
          "03-2023",
          "03-2023",
          "03-2023",
          "03-2023",
          "03-2023",
          "03-2023",
          "03-2023",
          "03-2023",
          "03-2023",
          "03-2023",
          "02-2023",
          "02-2023",
          "02-2023",
          "02-2023",
          "02-2023",
          "02-2023",
          "02-2023",
          "02-2023",
          "02-2023",
          "02-2023",
          "02-2023",
          "02-2023",
          "02-2023",
          "02-2023",
          "02-2023",
          "02-2023",
          "02-2023",
          "02-2023",
          "02-2023",
          "02-2023",
          "02-2023",
          "02-2023",
          "02-2023",
          "02-2023",
          "02-2023",
          "02-2023",
          "02-2023",
          "02-2023",
          "02-2023",
          "02-2023",
          "02-2023",
          "02-2023",
          "02-2023",
          "02-2023",
          "02-2023",
          "02-2023",
          "02-2023",
          "02-2023",
          "02-2023",
          "02-2023",
          "02-2023",
          "02-2023",
          "02-2023",
          "02-2023",
          "02-2023",
          "02-2023",
          "02-2023",
          "02-2023",
          "02-2023",
          "02-2023",
          "02-2023",
          "02-2023",
          "02-2023",
          "02-2023",
          "02-2023",
          "02-2023",
          "02-2023",
          "02-2023",
          "02-2023",
          "02-2023",
          "02-2023",
          "02-2023",
          "02-2023",
          "02-2023",
          "02-2023",
          "02-2023",
          "02-2023",
          "02-2023",
          "02-2023",
          "02-2023",
          "02-2023",
          "02-2023",
          "02-2023",
          "02-2023",
          "02-2023",
          "02-2023",
          "02-2023",
          "02-2023",
          "02-2023",
          "02-2023",
          "02-2023",
          "02-2023",
          "02-2023",
          "02-2023",
          "02-2023",
          "02-2023",
          "02-2023",
          "02-2023",
          "02-2023",
          "02-2023",
          "02-2023",
          "02-2023",
          "02-2023",
          "02-2023",
          "02-2023",
          "02-2023",
          "02-2023",
          "02-2023",
          "02-2023",
          "02-2023",
          "02-2023",
          "02-2023",
          "02-2023",
          "02-2023",
          "02-2023",
          "02-2023",
          "02-2023",
          "02-2023",
          "02-2023",
          "02-2023",
          "02-2023",
          "02-2023",
          "02-2023",
          "02-2023",
          "02-2023",
          "02-2023",
          "02-2023",
          "02-2023",
          "02-2023",
          "02-2023",
          "02-2023",
          "02-2023",
          "02-2023",
          "02-2023",
          "02-2023",
          "02-2023",
          "02-2023",
          "02-2023",
          "02-2023",
          "02-2023",
          "02-2023",
          "02-2023",
          "02-2023",
          "02-2023",
          "02-2023",
          "02-2023",
          "02-2023",
          "02-2023",
          "02-2023",
          "02-2023",
          "02-2023",
          "02-2023",
          "02-2023",
          "02-2023",
          "02-2023",
          "02-2023",
          "02-2023",
          "02-2023",
          "02-2023",
          "02-2023",
          "02-2023",
          "02-2023",
          "02-2023",
          "02-2023",
          "02-2023",
          "02-2023",
          "02-2023",
          "02-2023",
          "02-2023",
          "02-2023",
          "02-2023",
          "02-2023",
          "02-2023",
          "02-2023",
          "02-2023",
          "02-2023",
          "02-2023",
          "02-2023",
          "02-2023",
          "02-2023",
          "02-2023",
          "02-2023",
          "02-2023",
          "02-2023",
          "02-2023",
          "02-2023",
          "02-2023",
          "02-2023",
          "02-2023",
          "02-2023",
          "02-2023",
          "02-2023",
          "02-2023",
          "02-2023",
          "02-2023",
          "02-2023",
          "02-2023",
          "02-2023",
          "02-2023",
          "02-2023",
          "02-2023",
          "02-2023",
          "02-2023",
          "02-2023",
          "02-2023",
          "02-2023",
          "02-2023",
          "02-2023",
          "02-2023",
          "02-2023",
          "02-2023",
          "02-2023",
          "02-2023",
          "02-2023",
          "02-2023",
          "02-2023",
          "02-2023",
          "02-2023",
          "02-2023",
          "02-2023",
          "02-2023",
          "02-2023",
          "02-2023",
          "02-2023",
          "02-2023",
          "02-2023",
          "01-2023",
          "01-2023",
          "01-2023",
          "01-2023",
          "01-2023",
          "01-2023",
          "01-2023",
          "01-2023",
          "01-2023",
          "01-2023",
          "01-2023",
          "01-2023",
          "01-2023",
          "01-2023",
          "01-2023",
          "01-2023",
          "01-2023",
          "01-2023",
          "01-2023",
          "01-2023",
          "01-2023",
          "01-2023",
          "01-2023",
          "01-2023",
          "01-2023",
          "01-2023",
          "01-2023",
          "01-2023",
          "01-2023",
          "01-2023",
          "01-2023",
          "01-2023",
          "01-2023",
          "01-2023",
          "01-2023",
          "01-2023",
          "01-2023",
          "01-2023",
          "01-2023",
          "01-2023",
          "01-2023",
          "01-2023",
          "01-2023",
          "01-2023",
          "01-2023",
          "01-2023",
          "01-2023",
          "01-2023",
          "01-2023",
          "01-2023",
          "01-2023",
          "01-2023",
          "01-2023",
          "01-2023",
          "01-2023",
          "01-2023",
          "01-2023",
          "01-2023",
          "01-2023",
          "01-2023",
          "01-2023",
          "01-2023",
          "01-2023",
          "01-2023",
          "01-2023",
          "01-2023",
          "01-2023",
          "01-2023",
          "01-2023",
          "01-2023",
          "01-2023",
          "01-2023",
          "01-2023",
          "01-2023",
          "01-2023",
          "01-2023",
          "01-2023",
          "01-2023",
          "01-2023",
          "01-2023",
          "01-2023",
          "01-2023",
          "01-2023",
          "01-2023",
          "01-2023",
          "01-2023",
          "01-2023",
          "01-2023",
          "01-2023",
          "01-2023",
          "01-2023",
          "01-2023",
          "01-2023",
          "01-2023",
          "01-2023",
          "01-2023",
          "01-2023",
          "01-2023",
          "01-2023",
          "01-2023",
          "01-2023",
          "01-2023",
          "01-2023",
          "01-2023",
          "01-2023",
          "01-2023",
          "01-2023",
          "01-2023",
          "01-2023",
          "01-2023",
          "01-2023",
          "01-2023",
          "01-2023",
          "01-2023",
          "01-2023",
          "01-2023",
          "01-2023",
          "01-2023",
          "01-2023",
          "01-2023",
          "01-2023",
          "01-2023",
          "01-2023",
          "01-2023",
          "01-2023",
          "01-2023",
          "01-2023",
          "01-2023",
          "01-2023",
          "01-2023",
          "01-2023",
          "01-2023",
          "01-2023",
          "01-2023",
          "01-2023",
          "01-2023",
          "01-2023",
          "01-2023",
          "01-2023",
          "01-2023",
          "01-2023",
          "01-2023",
          "01-2023",
          "01-2023",
          "01-2023",
          "01-2023",
          "01-2023",
          "01-2023",
          "01-2023",
          "01-2023",
          "01-2023",
          "01-2023",
          "01-2023",
          "01-2023",
          "01-2023",
          "01-2023",
          "01-2023",
          "01-2023",
          "01-2023",
          "01-2023",
          "01-2023",
          "01-2023",
          "01-2023",
          "01-2023",
          "01-2023",
          "01-2023",
          "01-2023",
          "01-2023",
          "01-2023",
          "01-2023",
          "01-2023",
          "01-2023",
          "01-2023",
          "01-2023",
          "01-2023",
          "01-2023",
          "01-2023",
          "01-2023",
          "01-2023",
          "01-2023",
          "01-2023",
          "01-2023",
          "01-2023",
          "01-2023",
          "01-2023",
          "01-2023",
          "01-2023",
          "01-2023",
          "01-2023",
          "01-2023",
          "01-2023",
          "01-2023",
          "01-2023",
          "01-2023",
          "01-2023",
          "01-2023",
          "01-2023",
          "01-2023",
          "01-2023",
          "01-2023",
          "01-2023",
          "01-2023",
          "01-2023",
          "01-2023",
          "01-2023",
          "01-2023",
          "01-2023",
          "01-2023",
          "01-2023",
          "01-2023",
          "01-2023",
          "01-2023",
          "01-2023",
          "01-2023",
          "01-2023",
          "01-2023",
          "01-2023",
          "12-2022",
          "12-2022",
          "12-2022",
          "12-2022",
          "12-2022",
          "12-2022",
          "12-2022",
          "12-2022",
          "12-2022",
          "12-2022",
          "12-2022",
          "12-2022",
          "12-2022",
          "12-2022",
          "12-2022",
          "12-2022",
          "12-2022",
          "12-2022",
          "12-2022",
          "12-2022",
          "12-2022",
          "12-2022",
          "12-2022",
          "12-2022",
          "12-2022",
          "12-2022",
          "12-2022",
          "12-2022",
          "12-2022",
          "12-2022",
          "12-2022",
          "12-2022",
          "12-2022",
          "12-2022",
          "12-2022",
          "12-2022",
          "12-2022",
          "12-2022",
          "12-2022",
          "12-2022",
          "12-2022",
          "12-2022",
          "12-2022",
          "12-2022",
          "12-2022",
          "12-2022",
          "12-2022",
          "12-2022",
          "12-2022",
          "12-2022",
          "12-2022",
          "12-2022",
          "12-2022",
          "12-2022",
          "12-2022",
          "12-2022",
          "12-2022",
          "12-2022",
          "12-2022",
          "12-2022",
          "12-2022",
          "12-2022",
          "12-2022",
          "12-2022",
          "12-2022",
          "12-2022",
          "12-2022",
          "12-2022",
          "12-2022",
          "12-2022",
          "12-2022",
          "12-2022",
          "12-2022",
          "12-2022",
          "12-2022",
          "12-2022",
          "12-2022",
          "12-2022",
          "12-2022",
          "12-2022",
          "12-2022",
          "12-2022",
          "12-2022",
          "12-2022",
          "12-2022",
          "12-2022",
          "12-2022",
          "12-2022",
          "12-2022",
          "12-2022",
          "12-2022",
          "12-2022",
          "12-2022",
          "12-2022",
          "12-2022",
          "12-2022",
          "12-2022",
          "12-2022",
          "12-2022",
          "12-2022",
          "12-2022",
          "12-2022",
          "12-2022",
          "12-2022",
          "12-2022",
          "12-2022",
          "12-2022",
          "12-2022",
          "12-2022",
          "12-2022",
          "12-2022",
          "12-2022",
          "12-2022",
          "12-2022",
          "12-2022",
          "12-2022",
          "12-2022",
          "12-2022",
          "12-2022",
          "12-2022",
          "12-2022",
          "12-2022",
          "12-2022",
          "12-2022",
          "12-2022",
          "12-2022",
          "12-2022",
          "12-2022",
          "12-2022",
          "12-2022",
          "12-2022",
          "12-2022",
          "12-2022",
          "12-2022",
          "12-2022",
          "12-2022",
          "12-2022",
          "12-2022",
          "12-2022",
          "12-2022",
          "12-2022",
          "12-2022",
          "12-2022",
          "12-2022",
          "12-2022",
          "12-2022",
          "12-2022",
          "12-2022",
          "12-2022",
          "12-2022",
          "12-2022",
          "12-2022",
          "12-2022",
          "12-2022",
          "12-2022",
          "12-2022",
          "12-2022",
          "12-2022",
          "12-2022",
          "12-2022",
          "12-2022",
          "12-2022",
          "12-2022",
          "12-2022",
          "12-2022",
          "12-2022",
          "12-2022",
          "12-2022",
          "12-2022",
          "12-2022",
          "12-2022",
          "12-2022",
          "12-2022",
          "12-2022",
          "12-2022",
          "12-2022",
          "12-2022",
          "12-2022",
          "12-2022",
          "12-2022",
          "12-2022",
          "12-2022",
          "12-2022",
          "12-2022",
          "12-2022",
          "12-2022",
          "12-2022",
          "12-2022",
          "12-2022",
          "12-2022",
          "12-2022",
          "12-2022",
          "12-2022",
          "12-2022",
          "12-2022",
          "12-2022",
          "11-2022",
          "11-2022",
          "11-2022",
          "11-2022",
          "11-2022",
          "11-2022",
          "11-2022",
          "11-2022",
          "11-2022",
          "11-2022",
          "11-2022",
          "11-2022",
          "11-2022",
          "11-2022",
          "11-2022",
          "11-2022",
          "11-2022",
          "11-2022",
          "11-2022",
          "11-2022",
          "11-2022",
          "11-2022",
          "11-2022",
          "11-2022",
          "11-2022",
          "11-2022",
          "11-2022",
          "11-2022",
          "11-2022",
          "11-2022",
          "11-2022",
          "11-2022",
          "11-2022",
          "11-2022",
          "11-2022",
          "11-2022",
          "11-2022",
          "11-2022",
          "11-2022",
          "11-2022",
          "11-2022",
          "11-2022",
          "11-2022",
          "11-2022",
          "11-2022",
          "11-2022",
          "11-2022",
          "11-2022",
          "11-2022",
          "11-2022",
          "11-2022",
          "11-2022",
          "11-2022",
          "11-2022",
          "11-2022",
          "11-2022",
          "11-2022",
          "11-2022",
          "11-2022",
          "11-2022",
          "11-2022",
          "11-2022",
          "11-2022",
          "11-2022",
          "11-2022",
          "11-2022",
          "11-2022",
          "11-2022",
          "11-2022",
          "11-2022",
          "11-2022",
          "11-2022",
          "11-2022",
          "11-2022",
          "11-2022",
          "11-2022",
          "11-2022",
          "11-2022",
          "11-2022",
          "11-2022",
          "11-2022",
          "11-2022",
          "11-2022",
          "11-2022",
          "11-2022",
          "11-2022",
          "11-2022",
          "11-2022",
          "11-2022",
          "11-2022",
          "11-2022",
          "11-2022",
          "11-2022",
          "11-2022",
          "11-2022",
          "11-2022",
          "11-2022",
          "11-2022",
          "11-2022",
          "11-2022",
          "11-2022",
          "11-2022",
          "11-2022",
          "11-2022",
          "11-2022",
          "11-2022",
          "11-2022",
          "11-2022",
          "11-2022",
          "11-2022",
          "11-2022",
          "11-2022",
          "11-2022",
          "11-2022",
          "11-2022",
          "11-2022",
          "11-2022",
          "11-2022",
          "11-2022",
          "11-2022",
          "11-2022",
          "11-2022",
          "11-2022",
          "11-2022",
          "11-2022",
          "11-2022",
          "11-2022",
          "11-2022",
          "11-2022",
          "11-2022",
          "11-2022",
          "11-2022",
          "11-2022",
          "11-2022",
          "11-2022",
          "11-2022",
          "11-2022",
          "11-2022",
          "11-2022",
          "11-2022",
          "11-2022",
          "11-2022",
          "11-2022",
          "10-2022",
          "10-2022",
          "10-2022",
          "10-2022",
          "10-2022",
          "10-2022",
          "10-2022",
          "10-2022",
          "10-2022",
          "10-2022",
          "10-2022",
          "10-2022",
          "10-2022",
          "10-2022",
          "10-2022",
          "10-2022",
          "10-2022",
          "10-2022",
          "10-2022",
          "10-2022",
          "10-2022",
          "10-2022",
          "10-2022",
          "10-2022",
          "10-2022",
          "10-2022",
          "10-2022",
          "10-2022",
          "10-2022",
          "10-2022",
          "10-2022",
          "10-2022",
          "10-2022",
          "10-2022",
          "10-2022",
          "10-2022",
          "10-2022",
          "10-2022",
          "10-2022",
          "10-2022",
          "10-2022",
          "10-2022",
          "10-2022",
          "10-2022",
          "10-2022",
          "10-2022",
          "10-2022",
          "10-2022",
          "10-2022",
          "10-2022",
          "10-2022",
          "10-2022",
          "10-2022",
          "10-2022",
          "10-2022",
          "10-2022",
          "10-2022",
          "10-2022",
          "10-2022",
          "10-2022",
          "10-2022",
          "10-2022",
          "10-2022",
          "10-2022",
          "10-2022",
          "10-2022",
          "10-2022",
          "10-2022",
          "10-2022",
          "10-2022",
          "10-2022",
          "10-2022",
          "10-2022",
          "10-2022",
          "10-2022",
          "10-2022",
          "10-2022",
          "10-2022",
          "10-2022",
          "10-2022",
          "10-2022",
          "10-2022",
          "10-2022",
          "10-2022",
          "10-2022",
          "10-2022",
          "10-2022",
          "10-2022",
          "10-2022",
          "10-2022",
          "10-2022",
          "10-2022",
          "10-2022",
          "10-2022",
          "10-2022",
          "10-2022",
          "10-2022",
          "10-2022",
          "10-2022",
          "10-2022",
          "10-2022",
          "10-2022",
          "10-2022",
          "10-2022",
          "10-2022",
          "10-2022",
          "10-2022",
          "10-2022",
          "10-2022",
          "10-2022",
          "10-2022",
          "10-2022",
          "10-2022",
          "10-2022",
          "10-2022",
          "10-2022",
          "10-2022",
          "10-2022",
          "10-2022",
          "10-2022",
          "10-2022",
          "10-2022",
          "10-2022",
          "10-2022",
          "10-2022",
          "10-2022",
          "10-2022",
          "10-2022",
          "10-2022",
          "10-2022",
          "10-2022",
          "10-2022",
          "10-2022",
          "10-2022",
          "10-2022",
          "10-2022",
          "10-2022",
          "10-2022",
          "10-2022",
          "10-2022",
          "10-2022",
          "10-2022",
          "10-2022",
          "10-2022",
          "10-2022",
          "10-2022",
          "10-2022",
          "10-2022",
          "10-2022",
          "10-2022",
          "10-2022",
          "10-2022",
          "10-2022",
          "10-2022",
          "10-2022",
          "10-2022",
          "10-2022",
          "10-2022",
          "10-2022",
          "10-2022",
          "10-2022",
          "10-2022",
          "10-2022",
          "10-2022",
          "10-2022",
          "10-2022",
          "10-2022",
          "10-2022",
          "10-2022",
          "10-2022",
          "10-2022",
          "10-2022",
          "10-2022",
          "10-2022",
          "10-2022",
          "10-2022",
          "10-2022",
          "10-2022",
          "10-2022",
          "10-2022",
          "10-2022",
          "10-2022",
          "10-2022",
          "10-2022",
          "10-2022",
          "10-2022",
          "10-2022",
          "10-2022",
          "10-2022",
          "10-2022",
          "10-2022",
          "10-2022",
          "10-2022",
          "09-2022",
          "09-2022",
          "09-2022",
          "09-2022",
          "09-2022",
          "09-2022",
          "09-2022",
          "09-2022",
          "09-2022",
          "09-2022",
          "09-2022",
          "09-2022",
          "09-2022",
          "09-2022",
          "09-2022",
          "09-2022",
          "09-2022",
          "09-2022",
          "09-2022",
          "09-2022",
          "09-2022",
          "09-2022",
          "09-2022",
          "09-2022",
          "09-2022",
          "09-2022",
          "09-2022",
          "09-2022",
          "09-2022",
          "09-2022",
          "09-2022",
          "09-2022",
          "09-2022",
          "09-2022",
          "09-2022",
          "09-2022",
          "09-2022",
          "09-2022",
          "09-2022",
          "09-2022",
          "09-2022",
          "09-2022",
          "09-2022",
          "09-2022",
          "09-2022",
          "09-2022",
          "09-2022",
          "09-2022",
          "09-2022",
          "09-2022",
          "09-2022",
          "09-2022",
          "09-2022",
          "09-2022",
          "09-2022",
          "09-2022",
          "09-2022",
          "09-2022",
          "09-2022",
          "09-2022",
          "09-2022",
          "09-2022",
          "09-2022",
          "09-2022",
          "09-2022",
          "09-2022",
          "09-2022",
          "09-2022",
          "09-2022",
          "09-2022",
          "09-2022",
          "09-2022",
          "09-2022",
          "09-2022",
          "09-2022",
          "09-2022",
          "09-2022",
          "09-2022",
          "09-2022",
          "09-2022",
          "09-2022",
          "09-2022",
          "09-2022",
          "09-2022",
          "09-2022",
          "09-2022",
          "09-2022",
          "09-2022",
          "09-2022",
          "09-2022",
          "09-2022",
          "09-2022",
          "09-2022",
          "09-2022",
          "09-2022",
          "09-2022",
          "09-2022",
          "09-2022",
          "09-2022",
          "09-2022",
          "09-2022",
          "09-2022",
          "09-2022",
          "09-2022",
          "09-2022",
          "09-2022",
          "09-2022",
          "09-2022",
          "09-2022",
          "09-2022",
          "09-2022",
          "09-2022",
          "09-2022",
          "09-2022",
          "09-2022",
          "09-2022",
          "09-2022",
          "09-2022",
          "09-2022",
          "09-2022",
          "09-2022",
          "09-2022",
          "09-2022",
          "09-2022",
          "09-2022",
          "09-2022",
          "09-2022",
          "09-2022",
          "09-2022",
          "09-2022",
          "09-2022",
          "09-2022",
          "09-2022",
          "09-2022",
          "09-2022",
          "09-2022",
          "09-2022",
          "09-2022",
          "09-2022",
          "09-2022",
          "09-2022",
          "09-2022",
          "09-2022",
          "09-2022",
          "09-2022",
          "09-2022",
          "09-2022",
          "09-2022",
          "09-2022",
          "09-2022",
          "09-2022",
          "09-2022",
          "09-2022",
          "09-2022",
          "09-2022",
          "09-2022",
          "09-2022",
          "09-2022",
          "09-2022",
          "09-2022",
          "09-2022",
          "09-2022",
          "09-2022",
          "09-2022",
          "09-2022",
          "09-2022",
          "09-2022",
          "09-2022",
          "09-2022",
          "09-2022",
          "09-2022",
          "09-2022",
          "09-2022",
          "09-2022",
          "09-2022",
          "09-2022",
          "09-2022",
          "09-2022",
          "09-2022",
          "09-2022",
          "09-2022",
          "09-2022",
          "09-2022",
          "09-2022",
          "09-2022",
          "09-2022",
          "09-2022",
          "09-2022",
          "09-2022",
          "08-2022",
          "08-2022",
          "08-2022",
          "08-2022",
          "08-2022",
          "08-2022",
          "08-2022",
          "08-2022",
          "08-2022",
          "08-2022",
          "08-2022",
          "08-2022",
          "08-2022",
          "08-2022",
          "08-2022",
          "08-2022",
          "08-2022",
          "08-2022",
          "08-2022",
          "08-2022",
          "08-2022",
          "08-2022",
          "08-2022",
          "08-2022",
          "08-2022",
          "08-2022",
          "08-2022",
          "08-2022",
          "08-2022",
          "08-2022",
          "08-2022",
          "08-2022",
          "08-2022",
          "08-2022",
          "08-2022",
          "08-2022",
          "08-2022",
          "08-2022",
          "08-2022",
          "08-2022",
          "08-2022",
          "08-2022",
          "08-2022",
          "08-2022",
          "08-2022",
          "08-2022",
          "08-2022",
          "08-2022",
          "08-2022",
          "08-2022",
          "08-2022",
          "08-2022",
          "08-2022",
          "08-2022",
          "08-2022",
          "08-2022",
          "08-2022",
          "08-2022",
          "08-2022",
          "08-2022",
          "08-2022",
          "08-2022",
          "08-2022",
          "08-2022",
          "08-2022",
          "08-2022",
          "08-2022",
          "08-2022",
          "08-2022",
          "08-2022",
          "08-2022",
          "08-2022",
          "08-2022",
          "08-2022",
          "08-2022",
          "08-2022",
          "08-2022",
          "08-2022",
          "08-2022",
          "08-2022",
          "08-2022",
          "08-2022",
          "08-2022",
          "08-2022",
          "08-2022",
          "08-2022",
          "08-2022",
          "08-2022",
          "08-2022",
          "08-2022",
          "08-2022",
          "08-2022",
          "08-2022",
          "08-2022",
          "08-2022",
          "08-2022",
          "08-2022",
          "08-2022",
          "08-2022",
          "08-2022",
          "08-2022",
          "08-2022",
          "08-2022",
          "08-2022",
          "08-2022",
          "08-2022",
          "08-2022",
          "08-2022",
          "08-2022",
          "08-2022",
          "08-2022",
          "08-2022",
          "08-2022",
          "08-2022",
          "08-2022",
          "08-2022",
          "08-2022",
          "08-2022",
          "08-2022",
          "08-2022",
          "08-2022",
          "08-2022",
          "08-2022",
          "08-2022",
          "08-2022",
          "08-2022",
          "08-2022",
          "08-2022",
          "08-2022",
          "08-2022",
          "08-2022",
          "08-2022",
          "08-2022",
          "08-2022",
          "08-2022",
          "08-2022",
          "08-2022",
          "08-2022",
          "08-2022",
          "08-2022",
          "08-2022",
          "08-2022",
          "08-2022",
          "08-2022",
          "08-2022",
          "08-2022",
          "08-2022",
          "08-2022",
          "08-2022",
          "08-2022",
          "08-2022",
          "08-2022",
          "08-2022",
          "08-2022",
          "08-2022",
          "08-2022",
          "08-2022",
          "08-2022",
          "08-2022",
          "08-2022",
          "08-2022",
          "08-2022",
          "08-2022",
          "08-2022",
          "08-2022",
          "08-2022",
          "08-2022",
          "08-2022",
          "08-2022",
          "08-2022",
          "08-2022",
          "08-2022",
          "08-2022",
          "08-2022",
          "08-2022",
          "08-2022",
          "08-2022",
          "08-2022",
          "08-2022",
          "08-2022",
          "08-2022",
          "08-2022",
          "08-2022",
          "08-2022",
          "08-2022",
          "08-2022",
          "08-2022",
          "08-2022",
          "08-2022",
          "08-2022",
          "08-2022",
          "08-2022",
          "08-2022",
          "08-2022",
          "08-2022",
          "08-2022",
          "08-2022",
          "08-2022",
          "08-2022",
          "08-2022",
          "08-2022",
          "08-2022",
          "08-2022",
          "08-2022",
          "08-2022",
          "08-2022",
          "08-2022",
          "08-2022",
          "08-2022",
          "08-2022",
          "08-2022",
          "08-2022",
          "08-2022",
          "08-2022",
          "08-2022",
          "08-2022",
          "08-2022",
          "08-2022",
          "08-2022",
          "08-2022",
          "08-2022",
          "08-2022",
          "08-2022",
          "08-2022",
          "08-2022",
          "08-2022",
          "08-2022",
          "08-2022",
          "08-2022",
          "08-2022",
          "08-2022",
          "08-2022",
          "08-2022",
          "08-2022",
          "08-2022",
          "08-2022",
          "08-2022",
          "08-2022",
          "08-2022",
          "08-2022",
          "08-2022",
          "08-2022",
          "07-2022",
          "07-2022",
          "07-2022",
          "07-2022",
          "07-2022",
          "07-2022",
          "07-2022",
          "07-2022",
          "07-2022",
          "07-2022",
          "07-2022",
          "07-2022",
          "07-2022",
          "07-2022",
          "07-2022",
          "07-2022",
          "07-2022",
          "07-2022",
          "07-2022",
          "07-2022",
          "07-2022",
          "07-2022",
          "07-2022",
          "07-2022",
          "07-2022",
          "07-2022",
          "07-2022",
          "07-2022",
          "07-2022",
          "07-2022",
          "07-2022",
          "07-2022",
          "07-2022",
          "07-2022",
          "07-2022",
          "07-2022",
          "07-2022",
          "07-2022",
          "07-2022",
          "07-2022",
          "07-2022",
          "07-2022",
          "07-2022",
          "07-2022",
          "07-2022",
          "07-2022",
          "07-2022",
          "07-2022",
          "07-2022",
          "07-2022",
          "07-2022",
          "07-2022",
          "07-2022",
          "07-2022",
          "07-2022",
          "07-2022",
          "07-2022",
          "07-2022",
          "07-2022",
          "07-2022",
          "07-2022",
          "07-2022",
          "07-2022",
          "07-2022",
          "07-2022",
          "07-2022",
          "07-2022",
          "07-2022",
          "07-2022",
          "07-2022",
          "07-2022",
          "07-2022",
          "07-2022",
          "07-2022",
          "07-2022",
          "07-2022",
          "07-2022",
          "07-2022",
          "07-2022",
          "07-2022",
          "07-2022",
          "07-2022",
          "07-2022",
          "07-2022",
          "07-2022",
          "07-2022",
          "07-2022",
          "07-2022",
          "07-2022",
          "07-2022",
          "07-2022",
          "07-2022",
          "07-2022",
          "07-2022",
          "07-2022",
          "07-2022",
          "07-2022",
          "07-2022",
          "07-2022",
          "07-2022",
          "07-2022",
          "07-2022",
          "07-2022",
          "07-2022",
          "07-2022",
          "07-2022",
          "07-2022",
          "07-2022",
          "07-2022",
          "07-2022",
          "07-2022",
          "07-2022",
          "07-2022",
          "07-2022",
          "07-2022",
          "07-2022",
          "07-2022",
          "07-2022",
          "07-2022",
          "07-2022",
          "07-2022",
          "07-2022",
          "07-2022",
          "07-2022",
          "07-2022",
          "07-2022",
          "07-2022",
          "07-2022",
          "07-2022",
          "07-2022",
          "07-2022",
          "07-2022",
          "07-2022",
          "07-2022",
          "07-2022",
          "07-2022",
          "07-2022",
          "07-2022",
          "07-2022",
          "07-2022",
          "07-2022",
          "07-2022",
          "07-2022",
          "07-2022",
          "07-2022",
          "07-2022",
          "07-2022",
          "07-2022",
          "07-2022",
          "07-2022",
          "07-2022",
          "07-2022",
          "07-2022",
          "07-2022",
          "07-2022",
          "07-2022",
          "07-2022",
          "07-2022",
          "07-2022",
          "07-2022",
          "07-2022",
          "07-2022",
          "07-2022",
          "07-2022",
          "07-2022",
          "07-2022",
          "07-2022",
          "07-2022",
          "07-2022",
          "07-2022",
          "07-2022",
          "07-2022",
          "07-2022",
          "07-2022",
          "07-2022",
          "07-2022",
          "07-2022",
          "07-2022",
          "07-2022",
          "07-2022",
          "07-2022",
          "07-2022",
          "07-2022",
          "07-2022",
          "07-2022",
          "07-2022",
          "07-2022",
          "07-2022",
          "07-2022",
          "07-2022",
          "07-2022",
          "07-2022",
          "07-2022",
          "07-2022",
          "07-2022",
          "07-2022",
          "07-2022",
          "07-2022",
          "07-2022",
          "07-2022",
          "07-2022",
          "07-2022",
          "07-2022",
          "07-2022",
          "07-2022",
          "07-2022",
          "07-2022",
          "07-2022",
          "07-2022",
          "07-2022",
          "07-2022",
          "07-2022",
          "07-2022",
          "07-2022",
          "07-2022",
          "07-2022",
          "07-2022",
          "06-2022",
          "06-2022",
          "06-2022",
          "06-2022",
          "06-2022",
          "06-2022",
          "06-2022",
          "06-2022",
          "06-2022",
          "06-2022",
          "06-2022",
          "06-2022",
          "06-2022",
          "06-2022",
          "06-2022",
          "06-2022",
          "06-2022",
          "06-2022",
          "06-2022",
          "06-2022",
          "06-2022",
          "06-2022",
          "06-2022",
          "06-2022",
          "06-2022",
          "06-2022",
          "06-2022",
          "06-2022",
          "06-2022",
          "06-2022",
          "06-2022",
          "06-2022",
          "06-2022",
          "06-2022",
          "06-2022",
          "06-2022",
          "06-2022",
          "06-2022",
          "06-2022",
          "06-2022",
          "06-2022",
          "06-2022",
          "06-2022",
          "06-2022",
          "06-2022",
          "06-2022",
          "06-2022",
          "06-2022",
          "06-2022",
          "06-2022",
          "06-2022",
          "06-2022",
          "06-2022",
          "06-2022",
          "06-2022",
          "06-2022",
          "06-2022",
          "06-2022",
          "06-2022",
          "06-2022",
          "06-2022",
          "06-2022",
          "06-2022",
          "06-2022",
          "06-2022",
          "06-2022",
          "06-2022",
          "06-2022",
          "06-2022",
          "06-2022",
          "06-2022",
          "06-2022",
          "06-2022",
          "06-2022",
          "06-2022",
          "06-2022",
          "06-2022",
          "06-2022",
          "06-2022",
          "06-2022",
          "06-2022",
          "06-2022",
          "06-2022",
          "06-2022",
          "06-2022",
          "06-2022",
          "06-2022",
          "06-2022",
          "06-2022",
          "06-2022",
          "06-2022",
          "06-2022",
          "06-2022",
          "06-2022",
          "06-2022",
          "06-2022",
          "06-2022",
          "06-2022",
          "06-2022",
          "06-2022",
          "06-2022",
          "06-2022",
          "06-2022",
          "06-2022",
          "06-2022",
          "06-2022",
          "06-2022",
          "06-2022",
          "06-2022",
          "06-2022",
          "06-2022",
          "06-2022",
          "06-2022",
          "06-2022",
          "06-2022",
          "06-2022",
          "06-2022",
          "06-2022",
          "06-2022",
          "06-2022",
          "06-2022",
          "06-2022",
          "06-2022",
          "06-2022",
          "06-2022",
          "06-2022",
          "06-2022",
          "06-2022",
          "06-2022",
          "06-2022",
          "06-2022",
          "06-2022",
          "06-2022",
          "06-2022",
          "06-2022",
          "06-2022",
          "06-2022",
          "06-2022",
          "06-2022",
          "06-2022",
          "06-2022",
          "06-2022",
          "06-2022",
          "06-2022",
          "06-2022",
          "06-2022",
          "06-2022",
          "06-2022",
          "06-2022",
          "06-2022",
          "06-2022",
          "06-2022",
          "06-2022",
          "06-2022",
          "06-2022",
          "06-2022",
          "06-2022",
          "06-2022",
          "06-2022",
          "06-2022",
          "06-2022",
          "06-2022",
          "06-2022",
          "06-2022",
          "06-2022",
          "06-2022",
          "06-2022",
          "06-2022",
          "06-2022",
          "06-2022",
          "06-2022",
          "06-2022",
          "06-2022",
          "06-2022",
          "06-2022",
          "06-2022",
          "06-2022",
          "06-2022",
          "06-2022",
          "06-2022",
          "06-2022",
          "06-2022",
          "06-2022",
          "06-2022",
          "06-2022",
          "06-2022",
          "06-2022",
          "06-2022",
          "06-2022",
          "06-2022",
          "06-2022",
          "06-2022",
          "06-2022",
          "06-2022",
          "06-2022",
          "06-2022",
          "06-2022",
          "06-2022",
          "06-2022",
          "06-2022",
          "05-2022",
          "05-2022",
          "05-2022",
          "05-2022",
          "05-2022",
          "05-2022",
          "05-2022",
          "05-2022",
          "05-2022",
          "05-2022",
          "05-2022",
          "05-2022",
          "05-2022",
          "05-2022",
          "05-2022",
          "05-2022",
          "05-2022",
          "05-2022",
          "05-2022",
          "05-2022",
          "05-2022",
          "05-2022",
          "05-2022",
          "05-2022",
          "05-2022",
          "05-2022",
          "05-2022",
          "05-2022",
          "05-2022",
          "05-2022",
          "05-2022",
          "05-2022",
          "05-2022",
          "05-2022",
          "05-2022",
          "05-2022",
          "05-2022",
          "05-2022",
          "05-2022",
          "05-2022",
          "05-2022",
          "05-2022",
          "05-2022",
          "05-2022",
          "05-2022",
          "05-2022",
          "05-2022",
          "05-2022",
          "05-2022",
          "05-2022",
          "05-2022",
          "05-2022",
          "05-2022",
          "05-2022",
          "05-2022",
          "05-2022",
          "05-2022",
          "05-2022",
          "05-2022",
          "05-2022",
          "05-2022",
          "05-2022",
          "05-2022",
          "05-2022",
          "05-2022",
          "05-2022",
          "05-2022",
          "05-2022",
          "05-2022",
          "05-2022",
          "05-2022",
          "05-2022",
          "05-2022",
          "05-2022",
          "05-2022",
          "05-2022",
          "05-2022",
          "05-2022",
          "05-2022",
          "05-2022",
          "05-2022",
          "05-2022",
          "05-2022",
          "05-2022",
          "05-2022",
          "05-2022",
          "05-2022",
          "05-2022",
          "05-2022",
          "05-2022",
          "05-2022",
          "05-2022",
          "05-2022",
          "05-2022",
          "05-2022",
          "05-2022",
          "05-2022",
          "05-2022",
          "05-2022",
          "05-2022",
          "05-2022",
          "05-2022",
          "05-2022",
          "05-2022",
          "05-2022",
          "05-2022",
          "05-2022",
          "05-2022",
          "05-2022",
          "05-2022",
          "05-2022",
          "05-2022",
          "05-2022",
          "05-2022",
          "05-2022",
          "05-2022",
          "04-2022",
          "04-2022",
          "04-2022",
          "04-2022",
          "04-2022",
          "04-2022",
          "04-2022",
          "04-2022",
          "04-2022",
          "04-2022",
          "04-2022",
          "04-2022",
          "04-2022",
          "04-2022",
          "04-2022",
          "04-2022",
          "04-2022",
          "04-2022",
          "04-2022",
          "04-2022",
          "04-2022",
          "04-2022",
          "04-2022",
          "04-2022",
          "04-2022",
          "04-2022",
          "04-2022",
          "04-2022",
          "04-2022",
          "04-2022",
          "04-2022",
          "04-2022",
          "04-2022",
          "04-2022",
          "04-2022",
          "04-2022",
          "04-2022",
          "04-2022",
          "04-2022",
          "04-2022",
          "04-2022",
          "04-2022",
          "04-2022",
          "04-2022",
          "04-2022",
          "04-2022",
          "04-2022",
          "04-2022",
          "04-2022",
          "04-2022",
          "04-2022",
          "04-2022",
          "04-2022",
          "04-2022",
          "04-2022",
          "04-2022",
          "04-2022",
          "04-2022",
          "04-2022",
          "04-2022",
          "04-2022",
          "04-2022",
          "04-2022",
          "04-2022",
          "04-2022",
          "04-2022",
          "04-2022",
          "04-2022",
          "04-2022",
          "04-2022",
          "04-2022",
          "04-2022",
          "04-2022",
          "04-2022",
          "04-2022",
          "04-2022",
          "04-2022",
          "04-2022",
          "04-2022",
          "04-2022",
          "04-2022",
          "04-2022",
          "04-2022",
          "04-2022",
          "04-2022",
          "04-2022",
          "04-2022",
          "03-2022",
          "03-2022",
          "03-2022",
          "03-2022",
          "03-2022",
          "03-2022",
          "03-2022",
          "03-2022",
          "03-2022",
          "03-2022",
          "03-2022",
          "03-2022",
          "03-2022",
          "03-2022",
          "03-2022",
          "03-2022",
          "03-2022",
          "03-2022",
          "03-2022",
          "03-2022",
          "03-2022",
          "03-2022",
          "03-2022",
          "03-2022",
          "03-2022",
          "03-2022",
          "03-2022",
          "03-2022",
          "03-2022",
          "03-2022",
          "03-2022",
          "03-2022",
          "03-2022",
          "03-2022",
          "03-2022",
          "03-2022",
          "03-2022",
          "03-2022",
          "03-2022",
          "03-2022",
          "03-2022",
          "03-2022",
          "03-2022",
          "03-2022",
          "03-2022",
          "03-2022",
          "03-2022",
          "03-2022",
          "03-2022",
          "03-2022",
          "03-2022",
          "03-2022",
          "03-2022",
          "03-2022",
          "03-2022",
          "03-2022",
          "03-2022",
          "03-2022",
          "03-2022",
          "03-2022",
          "03-2022",
          "03-2022",
          "03-2022",
          "03-2022",
          "03-2022",
          "03-2022",
          "03-2022",
          "03-2022",
          "03-2022",
          "03-2022",
          "03-2022",
          "03-2022",
          "03-2022",
          "03-2022",
          "03-2022",
          "03-2022",
          "03-2022",
          "03-2022",
          "03-2022",
          "03-2022",
          "03-2022",
          "03-2022",
          "03-2022",
          "03-2022",
          "03-2022",
          "03-2022",
          "03-2022",
          "03-2022",
          "03-2022",
          "03-2022",
          "03-2022",
          "03-2022",
          "03-2022",
          "03-2022",
          "03-2022",
          "03-2022",
          "03-2022",
          "02-2022",
          "02-2022",
          "02-2022",
          "02-2022",
          "02-2022",
          "02-2022",
          "02-2022",
          "02-2022",
          "02-2022",
          "02-2022",
          "02-2022",
          "02-2022",
          "02-2022",
          "02-2022",
          "02-2022",
          "02-2022",
          "02-2022",
          "02-2022",
          "02-2022",
          "02-2022",
          "02-2022",
          "02-2022",
          "02-2022",
          "02-2022",
          "02-2022",
          "02-2022",
          "02-2022",
          "02-2022",
          "02-2022",
          "02-2022",
          "02-2022",
          "02-2022",
          "02-2022",
          "02-2022",
          "02-2022",
          "02-2022",
          "02-2022",
          "02-2022",
          "02-2022",
          "02-2022",
          "02-2022",
          "02-2022",
          "02-2022",
          "02-2022",
          "02-2022",
          "02-2022",
          "02-2022",
          "02-2022",
          "02-2022",
          "02-2022",
          "02-2022",
          "02-2022",
          "02-2022",
          "02-2022",
          "02-2022",
          "02-2022",
          "02-2022",
          "02-2022",
          "02-2022",
          "02-2022",
          "02-2022",
          "02-2022",
          "02-2022",
          "02-2022",
          "02-2022",
          "02-2022",
          "02-2022",
          "02-2022",
          "02-2022",
          "02-2022",
          "02-2022",
          "02-2022",
          "02-2022",
          "02-2022",
          "02-2022",
          "02-2022",
          "02-2022",
          "02-2022",
          "02-2022",
          "02-2022",
          "02-2022",
          "01-2022",
          "01-2022",
          "01-2022",
          "01-2022",
          "01-2022",
          "01-2022",
          "01-2022",
          "01-2022",
          "01-2022",
          "01-2022",
          "01-2022",
          "01-2022",
          "01-2022",
          "01-2022",
          "01-2022",
          "01-2022",
          "01-2022",
          "01-2022",
          "01-2022",
          "01-2022",
          "01-2022",
          "01-2022",
          "01-2022",
          "01-2022",
          "01-2022",
          "01-2022",
          "01-2022",
          "01-2022",
          "01-2022",
          "01-2022",
          "01-2022",
          "01-2022",
          "01-2022",
          "01-2022",
          "01-2022",
          "01-2022",
          "01-2022",
          "01-2022",
          "01-2022",
          "01-2022",
          "01-2022",
          "01-2022",
          "01-2022",
          "01-2022",
          "01-2022",
          "01-2022",
          "01-2022",
          "01-2022",
          "01-2022",
          "01-2022",
          "01-2022",
          "01-2022",
          "01-2022",
          "01-2022",
          "01-2022",
          "01-2022",
          "01-2022",
          "01-2022",
          "01-2022",
          "01-2022",
          "01-2022",
          "01-2022",
          "01-2022",
          "01-2022",
          "01-2022",
          "01-2022",
          "01-2022",
          "01-2022",
          "01-2022",
          "01-2022",
          "01-2022",
          "01-2022",
          "01-2022",
          "01-2022",
          "01-2022",
          "01-2022",
          "01-2022",
          "01-2022",
          "01-2022",
          "01-2022",
          "12-2021",
          "12-2021",
          "12-2021",
          "12-2021",
          "12-2021",
          "12-2021",
          "12-2021",
          "12-2021",
          "12-2021",
          "12-2021",
          "12-2021",
          "12-2021",
          "12-2021",
          "12-2021",
          "12-2021",
          "12-2021",
          "12-2021",
          "12-2021",
          "12-2021",
          "12-2021",
          "12-2021",
          "12-2021",
          "12-2021",
          "12-2021",
          "12-2021",
          "12-2021",
          "12-2021",
          "12-2021",
          "12-2021",
          "12-2021",
          "12-2021",
          "12-2021",
          "12-2021",
          "12-2021",
          "12-2021",
          "12-2021",
          "12-2021",
          "12-2021",
          "12-2021",
          "12-2021",
          "12-2021",
          "12-2021",
          "12-2021",
          "12-2021",
          "12-2021",
          "12-2021",
          "12-2021",
          "12-2021",
          "12-2021",
          "12-2021",
          "12-2021",
          "12-2021",
          "12-2021",
          "12-2021",
          "12-2021",
          "12-2021",
          "12-2021",
          "12-2021",
          "12-2021",
          "12-2021",
          "12-2021",
          "12-2021",
          "12-2021",
          "12-2021",
          "12-2021",
          "12-2021",
          "12-2021",
          "12-2021",
          "12-2021",
          "12-2021",
          "12-2021",
          "12-2021",
          "12-2021",
          "12-2021",
          "12-2021",
          "12-2021",
          "12-2021",
          "12-2021",
          "12-2021",
          "12-2021",
          "12-2021",
          "11-2021"
         ],
         "y": [
          43200000000000,
          34200000000000,
          43200000000000,
          43200000000000,
          34200000000000,
          43200000000000,
          34200000000000,
          43200000000000,
          23400000000000,
          23400000000000,
          36000000000000,
          43200000000000,
          43200000000000,
          43200000000000,
          18000000000000,
          34200000000000,
          36000000000000,
          43200000000000,
          43200000000000,
          43200000000000,
          21600000000000,
          25200000000000,
          34200000000000,
          36000000000000,
          43200000000000,
          43200000000000,
          21600000000000,
          34200000000000,
          36000000000000,
          39600000000000,
          43200000000000,
          21600000000000,
          36000000000000,
          39600000000000,
          43200000000000,
          21600000000000,
          36000000000000,
          39600000000000,
          43200000000000,
          21600000000000,
          34200000000000,
          36000000000000,
          39600000000000,
          43200000000000,
          86400000000000,
          28800000000000,
          36000000000000,
          41400000000000,
          43200000000000,
          43200000000000,
          46800000000000,
          21600000000000,
          36000000000000,
          39600000000000,
          43200000000000,
          43200000000000,
          43200000000000,
          43200000000000,
          21600000000000,
          25200000000000,
          34200000000000,
          36000000000000,
          43200000000000,
          43200000000000,
          21600000000000,
          34200000000000,
          36000000000000,
          43200000000000,
          36000000000000,
          36000000000000,
          36000000000000,
          34200000000000,
          36000000000000,
          18000000000000,
          34200000000000,
          36000000000000,
          43200000000000,
          21600000000000,
          25200000000000,
          34200000000000,
          36000000000000,
          43200000000000,
          21600000000000,
          36000000000000,
          27000000000000,
          21600000000000,
          36000000000000,
          21600000000000,
          36000000000000,
          36000000000000,
          34200000000000,
          36000000000000,
          34200000000000,
          36000000000000,
          43200000000000,
          21600000000000,
          25200000000000,
          34200000000000,
          36000000000000,
          43200000000000,
          21600000000000,
          36000000000000,
          21600000000000,
          21600000000000,
          36000000000000,
          36000000000000,
          36000000000000,
          43200000000000,
          34200000000000,
          36000000000000,
          43200000000000,
          34200000000000,
          36000000000000,
          39600000000000,
          43200000000000,
          43200000000000,
          21600000000000,
          25200000000000,
          34200000000000,
          36000000000000,
          43200000000000,
          21600000000000,
          34200000000000,
          36000000000000,
          36000000000000,
          43200000000000,
          21600000000000,
          25200000000000,
          34200000000000,
          36000000000000,
          36000000000000,
          39600000000000,
          43200000000000,
          21600000000000,
          25200000000000,
          36000000000000,
          39600000000000,
          43200000000000,
          39600000000000,
          43200000000000,
          43200000000000,
          7200000000000,
          36000000000000,
          41400000000000,
          43200000000000,
          43200000000000,
          16200000000000,
          36000000000000,
          36600000000000,
          37800000000000,
          43200000000000,
          43200000000000,
          21600000000000,
          25200000000000,
          31500000000000,
          34200000000000,
          36000000000000,
          37800000000000,
          43200000000000,
          43200000000000,
          43200000000000,
          21600000000000,
          25200000000000,
          18000000000000,
          31500000000000,
          30600000000000,
          25200000000000,
          31500000000000,
          36000000000000,
          36000000000000,
          37800000000000,
          43200000000000,
          43200000000000,
          43200000000000,
          18000000000000,
          23400000000000,
          25200000000000,
          21600000000000,
          31500000000000,
          34200000000000,
          34200000000000,
          36000000000000,
          21600000000000,
          36000000000000,
          42600000000000,
          21600000000000,
          21600000000000,
          36000000000000,
          43200000000000,
          7200000000000,
          21600000000000,
          36000000000000,
          36000000000000,
          45900000000000,
          36000000000000,
          36900000000000,
          39600000000000,
          43200000000000,
          27600000000000,
          28800000000000,
          25200000000000,
          31500000000000,
          36000000000000,
          36000000000000,
          36900000000000,
          43200000000000,
          43200000000000,
          43200000000000,
          21600000000000,
          25200000000000,
          21600000000000,
          25200000000000,
          31500000000000,
          36000000000000,
          36000000000000,
          37140000000000,
          43200000000000,
          25200000000000,
          21600000000000,
          21600000000000,
          25200000000000,
          31500000000000,
          34200000000000,
          36000000000000,
          21600000000000,
          22500000000000,
          25200000000000,
          36000000000000,
          36000000000000,
          43200000000000,
          21600000000000,
          34200000000000,
          25200000000000,
          36000000000000,
          36900000000000,
          42300000000000,
          43200000000000,
          43200000000000,
          7200000000000,
          30600000000000,
          29400000000000,
          36000000000000,
          36000000000000,
          43200000000000,
          43200000000000,
          43200000000000,
          30600000000000,
          36000000000000,
          38220000000000,
          43200000000000,
          43200000000000,
          43200000000000,
          21600000000000,
          25200000000000,
          31500000000000,
          34440000000000,
          36000000000000,
          36000000000000,
          43200000000000,
          43200000000000,
          21600000000000,
          25200000000000,
          25200000000000,
          31500000000000,
          34920000000000,
          36000000000000,
          36000000000000,
          39600000000000,
          43200000000000,
          43200000000000,
          21600000000000,
          25200000000000,
          21600000000000,
          7200000000000,
          31500000000000,
          34200000000000,
          36000000000000,
          36000000000000,
          43200000000000,
          21600000000000,
          25200000000000,
          36000000000000,
          43200000000000,
          21600000000000,
          36000000000000,
          43200000000000,
          43200000000000,
          36000000000000,
          43200000000000,
          43200000000000,
          36000000000000,
          43200000000000,
          43200000000000,
          43200000000000,
          21600000000000,
          30600000000000,
          28800000000000,
          25200000000000,
          25200000000000,
          21000000000000,
          32400000000000,
          34620000000000,
          36000000000000,
          43200000000000,
          43200000000000,
          21600000000000,
          25200000000000,
          30600000000000,
          27000000000000,
          25200000000000,
          21600000000000,
          25200000000000,
          34500000000000,
          35100000000000,
          36000000000000,
          43200000000000,
          46800000000000,
          21600000000000,
          25200000000000,
          30600000000000,
          25200000000000,
          21600000000000,
          25200000000000,
          26100000000000,
          34500000000000,
          36000000000000,
          21600000000000,
          30600000000000,
          21600000000000,
          25200000000000,
          21600000000000,
          36000000000000,
          37800000000000,
          21600000000000,
          30600000000000,
          25200000000000,
          21600000000000,
          36000000000000,
          39600000000000,
          44100000000000,
          43200000000000,
          7200000000000,
          19800000000000,
          36000000000000,
          43200000000000,
          43200000000000,
          21600000000000,
          36300000000000,
          36000000000000,
          37800000000000,
          43200000000000,
          43200000000000,
          23400000000000,
          21600000000000,
          35100000000000,
          37800000000000,
          39600000000000,
          41400000000000,
          46200000000000,
          46800000000000,
          46800000000000,
          46800000000000,
          21600000000000,
          25200000000000,
          25200000000000,
          21600000000000,
          31500000000000,
          34200000000000,
          36000000000000,
          37800000000000,
          39600000000000,
          43200000000000,
          43200000000000,
          19800000000000,
          25200000000000,
          21600000000000,
          10800000000000,
          12600000000000,
          12600000000000,
          12600000000000,
          12600000000000,
          22500000000000,
          21600000000000,
          31500000000000,
          34200000000000,
          36000000000000,
          21600000000000,
          21600000000000,
          21600000000000,
          25200000000000,
          21600000000000,
          36000000000000,
          36000000000000,
          37800000000000,
          18000000000000,
          21600000000000,
          36000000000000,
          37500000000000,
          36000000000000,
          38700000000000,
          43200000000000,
          43200000000000,
          7200000000000,
          21600000000000,
          30600000000000,
          21600000000000,
          30600000000000,
          36000000000000,
          36900000000000,
          37320000000000,
          37800000000000,
          43200000000000,
          45000000000000,
          43200000000000,
          30600000000000,
          30600000000000,
          21600000000000,
          34200000000000,
          36000000000000,
          36900000000000,
          43200000000000,
          43200000000000,
          46800000000000,
          28800000000000,
          25200000000000,
          21600000000000,
          35100000000000,
          31500000000000,
          36000000000000,
          37800000000000,
          43200000000000,
          46800000000000,
          21600000000000,
          25200000000000,
          18000000000000,
          28800000000000,
          25200000000000,
          21600000000000,
          34920000000000,
          31500000000000,
          36000000000000,
          37800000000000,
          43200000000000,
          43200000000000,
          21600000000000,
          25200000000000,
          25200000000000,
          34500000000000,
          31500000000000,
          36000000000000,
          46800000000000,
          25200000000000,
          21600000000000,
          30600000000000,
          25200000000000,
          36000000000000,
          37800000000000,
          40500000000000,
          43200000000000,
          21600000000000,
          30600000000000,
          21600000000000,
          14400000000000,
          25200000000000,
          36000000000000,
          37800000000000,
          36900000000000,
          43200000000000,
          7200000000000,
          21600000000000,
          36000000000000,
          37800000000000,
          36900000000000,
          43200000000000,
          43200000000000,
          21600000000000,
          36000000000000,
          36900000000000,
          43200000000000,
          43200000000000,
          21600000000000,
          21600000000000,
          25200000000000,
          25200000000000,
          36000000000000,
          33360000000000,
          36000000000000,
          41400000000000,
          43200000000000,
          43200000000000,
          45000000000000,
          21600000000000,
          25200000000000,
          21600000000000,
          25200000000000,
          25200000000000,
          34800000000000,
          31500000000000,
          36000000000000,
          43200000000000,
          43200000000000,
          45000000000000,
          21600000000000,
          25200000000000,
          43200000000000,
          25200000000000,
          34200000000000,
          31500000000000,
          36000000000000,
          43200000000000,
          21600000000000,
          25200000000000,
          36000000000000,
          43200000000000,
          7200000000000,
          18000000000000,
          12600000000000,
          25200000000000,
          36000000000000,
          36900000000000,
          39600000000000,
          43200000000000,
          21600000000000,
          18000000000000,
          36000000000000,
          36900000000000,
          43200000000000,
          32400000000000,
          21600000000000,
          21600000000000,
          36000000000000,
          36900000000000,
          43200000000000,
          43200000000000,
          43200000000000,
          21600000000000,
          25200000000000,
          25200000000000,
          21600000000000,
          34800000000000,
          31500000000000,
          36000000000000,
          43200000000000,
          43200000000000,
          21600000000000,
          25200000000000,
          23400000000000,
          25200000000000,
          21600000000000,
          34200000000000,
          31500000000000,
          36000000000000,
          43200000000000,
          43200000000000,
          43200000000000,
          21600000000000,
          25200000000000,
          25200000000000,
          21600000000000,
          31920000000000,
          31500000000000,
          36000000000000,
          43200000000000,
          43200000000000,
          46800000000000,
          21600000000000,
          25200000000000,
          36000000000000,
          43200000000000,
          21600000000000,
          25200000000000,
          36000000000000,
          36900000000000,
          43200000000000,
          7200000000000,
          21600000000000,
          43200000000000,
          36000000000000,
          36900000000000,
          41700000000000,
          43200000000000,
          21600000000000,
          21600000000000,
          36000000000000,
          36000000000000,
          36900000000000,
          43200000000000,
          43200000000000,
          21600000000000,
          25200000000000,
          25200000000000,
          21600000000000,
          34200000000000,
          34200000000000,
          36000000000000,
          43200000000000,
          43200000000000,
          43200000000000,
          43200000000000,
          21600000000000,
          25200000000000,
          25200000000000,
          35100000000000,
          30600000000000,
          32400000000000,
          25200000000000,
          25200000000000,
          20100000000000,
          34200000000000,
          36000000000000,
          45000000000000,
          43200000000000,
          43200000000000,
          46800000000000,
          21600000000000,
          25200000000000,
          35100000000000,
          17700000000000,
          28800000000000,
          25200000000000,
          36000000000000,
          43200000000000,
          46800000000000,
          21600000000000,
          30600000000000,
          25200000000000,
          34200000000000,
          36000000000000,
          36000000000000,
          37800000000000,
          7200000000000,
          21600000000000,
          33000000000000,
          25200000000000,
          18000000000000,
          34200000000000,
          36000000000000,
          36900000000000,
          37800000000000,
          39600000000000,
          43200000000000,
          21600000000000,
          28800000000000,
          21600000000000,
          34200000000000,
          36000000000000,
          36000000000000,
          37380000000000,
          37800000000000,
          39600000000000,
          43200000000000,
          21600000000000,
          28800000000000,
          18000000000000,
          21600000000000,
          36000000000000,
          36900000000000,
          43200000000000,
          46800000000000,
          35100000000000,
          32400000000000,
          28800000000000,
          18000000000000,
          28800000000000,
          21600000000000,
          34200000000000,
          36000000000000,
          39300000000000,
          43200000000000,
          43200000000000,
          46800000000000,
          21600000000000,
          25200000000000,
          18000000000000,
          35100000000000,
          25200000000000,
          25200000000000,
          21600000000000,
          34200000000000,
          36000000000000,
          39300000000000,
          43200000000000,
          43200000000000,
          43200000000000,
          21600000000000,
          25200000000000,
          35100000000000,
          25200000000000,
          21600000000000,
          34200000000000,
          36000000000000,
          37800000000000,
          43200000000000,
          21600000000000,
          30600000000000,
          25200000000000,
          36000000000000,
          39600000000000,
          43200000000000,
          7200000000000,
          21600000000000,
          25200000000000,
          30600000000000,
          32400000000000,
          21600000000000,
          25200000000000,
          36000000000000,
          37140000000000,
          44400000000000,
          46800000000000,
          28800000000000,
          23400000000000,
          36000000000000,
          36900000000000,
          37800000000000,
          39600000000000,
          41100000000000,
          46800000000000,
          25200000000000,
          21600000000000,
          36000000000000,
          43200000000000,
          44100000000000,
          46800000000000,
          28800000000000,
          35100000000000,
          28800000000000,
          21600000000000,
          36000000000000,
          39600000000000,
          42240000000000,
          43200000000000,
          43200000000000,
          48000000000000,
          18900000000000,
          25200000000000,
          35100000000000,
          25200000000000,
          32400000000000,
          21600000000000,
          34200000000000,
          36000000000000,
          37800000000000,
          45000000000000,
          41400000000000,
          43200000000000,
          14400000000000,
          10800000000000,
          21600000000000,
          25200000000000,
          35100000000000,
          19200000000000,
          21600000000000,
          35700000000000,
          34200000000000,
          36000000000000,
          36900000000000,
          37800000000000,
          43200000000000,
          30600000000000,
          21600000000000,
          34200000000000,
          18000000000000,
          25200000000000,
          36000000000000,
          36900000000000,
          37800000000000,
          43200000000000,
          7200000000000,
          16500000000000,
          21600000000000,
          25200000000000,
          36000000000000,
          36900000000000,
          43200000000000,
          46800000000000,
          21600000000000,
          18000000000000,
          18000000000000,
          36000000000000,
          37800000000000,
          43200000000000,
          43200000000000,
          46800000000000,
          28800000000000,
          21600000000000,
          36000000000000,
          36900000000000,
          43200000000000,
          43200000000000,
          46800000000000,
          35100000000000,
          28800000000000,
          21600000000000,
          34200000000000,
          36000000000000,
          38700000000000,
          45000000000000,
          45000000000000,
          46800000000000,
          21600000000000,
          25200000000000,
          32400000000000,
          35100000000000,
          25200000000000,
          21600000000000,
          34200000000000,
          36000000000000,
          38700000000000,
          43200000000000,
          39600000000000,
          46800000000000,
          21600000000000,
          25200000000000,
          35100000000000,
          21600000000000,
          34200000000000,
          34200000000000,
          36000000000000,
          37800000000000,
          43200000000000,
          21600000000000,
          25200000000000,
          36060000000000,
          36000000000000,
          43200000000000,
          7200000000000,
          21600000000000,
          25200000000000,
          25200000000000,
          34200000000000,
          36000000000000,
          36900000000000,
          41400000000000,
          43200000000000,
          46800000000000,
          28800000000000,
          21600000000000,
          34200000000000,
          36000000000000,
          37560000000000,
          43200000000000,
          43200000000000,
          37800000000000,
          21600000000000,
          19800000000000,
          34200000000000,
          36000000000000,
          36900000000000,
          45000000000000,
          43200000000000,
          43200000000000,
          46800000000000,
          25200000000000,
          35100000000000,
          28800000000000,
          21600000000000,
          34920000000000,
          36000000000000,
          37800000000000,
          43200000000000,
          45000000000000,
          43200000000000,
          43200000000000,
          43200000000000,
          43200000000000,
          28800000000000,
          21600000000000,
          25200000000000,
          35100000000000,
          25200000000000,
          21600000000000,
          36000000000000,
          38400000000000,
          36000000000000,
          37800000000000,
          43200000000000,
          43200000000000,
          43200000000000,
          28800000000000,
          21600000000000,
          25200000000000,
          40500000000000,
          21600000000000,
          34200000000000,
          34200000000000,
          36000000000000,
          43200000000000,
          43200000000000,
          21600000000000,
          25200000000000,
          25200000000000,
          36960000000000,
          33300000000000,
          36000000000000,
          43200000000000,
          43200000000000,
          43200000000000,
          7200000000000,
          21600000000000,
          21600000000000,
          25200000000000,
          35100000000000,
          33300000000000,
          36000000000000,
          36900000000000,
          45000000000000,
          43200000000000,
          21600000000000,
          21600000000000,
          25200000000000,
          28800000000000,
          35100000000000,
          33300000000000,
          34200000000000,
          36000000000000,
          36900000000000,
          43200000000000,
          43200000000000,
          21600000000000,
          21600000000000,
          34200000000000,
          33300000000000,
          36000000000000,
          36900000000000,
          43200000000000,
          46800000000000,
          25200000000000,
          25200000000000,
          28800000000000,
          28800000000000,
          43200000000000,
          21600000000000,
          35700000000000,
          34800000000000,
          36000000000000,
          43200000000000,
          43200000000000,
          43200000000000,
          46800000000000,
          28800000000000,
          21600000000000,
          24600000000000,
          21600000000000,
          21600000000000,
          25200000000000,
          28800000000000,
          30600000000000,
          25200000000000,
          21600000000000,
          34200000000000,
          36000000000000,
          43200000000000,
          43200000000000,
          43200000000000,
          16800000000000,
          28800000000000,
          21600000000000,
          28800000000000,
          28800000000000,
          36000000000000,
          28800000000000,
          34200000000000,
          33600000000000,
          43200000000000,
          21600000000000,
          28800000000000,
          21600000000000,
          25200000000000,
          28800000000000,
          32400000000000,
          35100000000000,
          25200000000000,
          23400000000000,
          34200000000000,
          33300000000000,
          34200000000000,
          36000000000000,
          36000000000000,
          43200000000000,
          43200000000000,
          43200000000000,
          25200000000000,
          21600000000000,
          21600000000000,
          7200000000000,
          25200000000000,
          34200000000000,
          33300000000000,
          34200000000000,
          36000000000000,
          36900000000000,
          37800000000000,
          43200000000000,
          43200000000000,
          21600000000000,
          23400000000000,
          23400000000000,
          30600000000000,
          28800000000000,
          34200000000000,
          33300000000000,
          34200000000000,
          36000000000000,
          36900000000000,
          36000000000000,
          43200000000000,
          43200000000000,
          21600000000000,
          30600000000000,
          32400000000000,
          21600000000000,
          34200000000000,
          36000000000000,
          36900000000000,
          33300000000000,
          39000000000000,
          43200000000000,
          43200000000000,
          43200000000000,
          25200000000000,
          28800000000000,
          43200000000000,
          31200000000000,
          21600000000000,
          34200000000000,
          36000000000000,
          43200000000000,
          43200000000000,
          21600000000000,
          25200000000000,
          25200000000000,
          31200000000000,
          21600000000000,
          34200000000000,
          36000000000000,
          43200000000000,
          43200000000000,
          43200000000000,
          21600000000000,
          25200000000000,
          28800000000000,
          25200000000000,
          35100000000000,
          21600000000000,
          34920000000000,
          36000000000000,
          43200000000000,
          46800000000000,
          21600000000000,
          21600000000000,
          25200000000000,
          25200000000000,
          34200000000000,
          36000000000000,
          36000000000000,
          36900000000000,
          33300000000000,
          43200000000000,
          21600000000000,
          21600000000000,
          7200000000000,
          25200000000000,
          34200000000000,
          34200000000000,
          36000000000000,
          36900000000000,
          36000000000000,
          33300000000000,
          43200000000000,
          21600000000000,
          28800000000000,
          34200000000000,
          34200000000000,
          36000000000000,
          36900000000000,
          37800000000000,
          33300000000000,
          43200000000000,
          43200000000000,
          21600000000000,
          28800000000000,
          35100000000000,
          25200000000000,
          21600000000000,
          34200000000000,
          36000000000000,
          33300000000000,
          40500000000000,
          39600000000000,
          46800000000000,
          45000000000000,
          25200000000000,
          28800000000000,
          21600000000000,
          34200000000000,
          36000000000000,
          36000000000000,
          43200000000000,
          46800000000000,
          21600000000000,
          25200000000000,
          30600000000000,
          32400000000000,
          25200000000000,
          21600000000000,
          36000000000000,
          36000000000000,
          43200000000000,
          43200000000000,
          43200000000000,
          21600000000000,
          25200000000000,
          28800000000000,
          32400000000000,
          21600000000000,
          36000000000000,
          36000000000000,
          37800000000000,
          41400000000000,
          43200000000000,
          15300000000000,
          21600000000000,
          21600000000000,
          28800000000000,
          25200000000000,
          36000000000000,
          36000000000000,
          37200000000000,
          33300000000000,
          37800000000000,
          37800000000000,
          46800000000000,
          21600000000000,
          21600000000000,
          7200000000000,
          30600000000000,
          25200000000000,
          36000000000000,
          36000000000000,
          36900000000000,
          37800000000000,
          33300000000000,
          37800000000000,
          21600000000000,
          23400000000000,
          28800000000000,
          36000000000000,
          36000000000000,
          36900000000000,
          33300000000000,
          37800000000000,
          21600000000000,
          21600000000000,
          21600000000000,
          34200000000000,
          34200000000000,
          36000000000000,
          36900000000000,
          33300000000000,
          37800000000000,
          43200000000000,
          43200000000000,
          28800000000000,
          25200000000000,
          28800000000000,
          43200000000000,
          21600000000000,
          36240000000000,
          34200000000000,
          36000000000000,
          37800000000000,
          43200000000000,
          43200000000000,
          43200000000000,
          21600000000000,
          25200000000000,
          43200000000000,
          25200000000000,
          21600000000000,
          34920000000000,
          34200000000000,
          36000000000000,
          38460000000000,
          43200000000000,
          43200000000000,
          43200000000000,
          21600000000000,
          25200000000000,
          28800000000000,
          21600000000000,
          34200000000000,
          34200000000000,
          36000000000000,
          39600000000000,
          43200000000000,
          43200000000000,
          43200000000000,
          21600000000000,
          32400000000000,
          25200000000000,
          36000000000000,
          45000000000000,
          43200000000000,
          43200000000000,
          19800000000000,
          6300000000000,
          21600000000000,
          7200000000000,
          25200000000000,
          36000000000000,
          36900000000000,
          37800000000000,
          45000000000000,
          43200000000000,
          43200000000000,
          19800000000000,
          25200000000000,
          21600000000000,
          34200000000000,
          36000000000000,
          36900000000000,
          37800000000000,
          43200000000000,
          28800000000000,
          43200000000000,
          36000000000000,
          36000000000000,
          36900000000000,
          37800000000000,
          46800000000000,
          21600000000000,
          28800000000000,
          28800000000000,
          43200000000000,
          43200000000000,
          34200000000000,
          36000000000000,
          33300000000000,
          36000000000000,
          43200000000000,
          42300000000000,
          46800000000000,
          21600000000000,
          25200000000000,
          21600000000000,
          43200000000000,
          28800000000000,
          34200000000000,
          34200000000000,
          36000000000000,
          36000000000000,
          37800000000000,
          43200000000000,
          43200000000000,
          43200000000000,
          43200000000000,
          21600000000000,
          28800000000000,
          43200000000000,
          34200000000000,
          33300000000000,
          36000000000000,
          37800000000000,
          43200000000000,
          43200000000000,
          43200000000000,
          25200000000000,
          21600000000000,
          21600000000000,
          28800000000000,
          36000000000000,
          37800000000000,
          43200000000000,
          25200000000000,
          21600000000000,
          43200000000000,
          25200000000000,
          36000000000000,
          37800000000000,
          25200000000000,
          28800000000000,
          21600000000000,
          21600000000000,
          28800000000000,
          36000000000000,
          36900000000000,
          37800000000000,
          25200000000000,
          23400000000000,
          28800000000000,
          21600000000000,
          43200000000000,
          28800000000000,
          36000000000000,
          37800000000000,
          36900000000000,
          43200000000000,
          43200000000000,
          28800000000000,
          28800000000000,
          34200000000000,
          36000000000000,
          34200000000000,
          36000000000000,
          37800000000000,
          43200000000000,
          45000000000000,
          21600000000000,
          25200000000000,
          30600000000000,
          21600000000000,
          34200000000000,
          34200000000000,
          34200000000000,
          36000000000000,
          37800000000000,
          43200000000000,
          43200000000000,
          43200000000000,
          43200000000000,
          21600000000000,
          27240000000000,
          21600000000000,
          30600000000000,
          28800000000000,
          21600000000000,
          36000000000000,
          35100000000000,
          36000000000000,
          37800000000000,
          43200000000000,
          43200000000000,
          43200000000000,
          46800000000000,
          21600000000000,
          21600000000000,
          43200000000000,
          28800000000000,
          36000000000000,
          37800000000000,
          43200000000000,
          25200000000000,
          21600000000000,
          43200000000000,
          25200000000000,
          36000000000000,
          53100000000000,
          43200000000000,
          21600000000000,
          21600000000000,
          21600000000000,
          28800000000000,
          36000000000000,
          36900000000000,
          43200000000000,
          28800000000000,
          21600000000000,
          18000000000000,
          34200000000000,
          36000000000000,
          36900000000000,
          43200000000000,
          43200000000000,
          46800000000000,
          28800000000000,
          28800000000000,
          34620000000000,
          33300000000000,
          34200000000000,
          36000000000000,
          38700000000000,
          43200000000000,
          43200000000000,
          43200000000000,
          46800000000000,
          21600000000000,
          25200000000000,
          21600000000000,
          33300000000000,
          36000000000000,
          34200000000000,
          36000000000000,
          38700000000000,
          36900000000000,
          43200000000000,
          43200000000000,
          43200000000000,
          43200000000000,
          46800000000000,
          21600000000000,
          25200000000000,
          21600000000000,
          34200000000000,
          36000000000000,
          36000000000000,
          38700000000000,
          36900000000000,
          43200000000000,
          43200000000000,
          44400000000000,
          43200000000000,
          43200000000000,
          21600000000000,
          25200000000000,
          30600000000000,
          21600000000000,
          36000000000000,
          43200000000000,
          43200000000000,
          21600000000000,
          21600000000000,
          28800000000000,
          36000000000000,
          36900000000000,
          21600000000000,
          28800000000000,
          36000000000000,
          35100000000000,
          36900000000000,
          28800000000000,
          30600000000000,
          21600000000000,
          28800000000000,
          36000000000000,
          36900000000000,
          43200000000000,
          43200000000000,
          43200000000000,
          28800000000000,
          28800000000000,
          30600000000000,
          28800000000000,
          34200000000000,
          33300000000000,
          36000000000000,
          38700000000000,
          43200000000000,
          43200000000000,
          43200000000000,
          43200000000000,
          21600000000000,
          36000000000000,
          39600000000000,
          29940000000000,
          33300000000000,
          36000000000000,
          38700000000000,
          43200000000000,
          43200000000000,
          43200000000000,
          43200000000000,
          43200000000000,
          21600000000000,
          27000000000000,
          36000000000000,
          33300000000000,
          36000000000000,
          38700000000000,
          43200000000000,
          43200000000000,
          45000000000000,
          43200000000000,
          43200000000000,
          21600000000000,
          18000000000000,
          30600000000000,
          21600000000000,
          36000000000000,
          37800000000000,
          38700000000000,
          43200000000000,
          25200000000000,
          21600000000000,
          30600000000000,
          30600000000000,
          21600000000000,
          3600000000000,
          25200000000000,
          21600000000000,
          36000000000000,
          36900000000000,
          37800000000000,
          43200000000000,
          32400000000000,
          21600000000000,
          28800000000000,
          21600000000000,
          36000000000000,
          36900000000000,
          43200000000000,
          43200000000000,
          31800000000000,
          30600000000000,
          21600000000000,
          28800000000000,
          36000000000000,
          36900000000000,
          43200000000000,
          43200000000000,
          43200000000000,
          43200000000000,
          46800000000000,
          18000000000000,
          28800000000000,
          33300000000000,
          33900000000000,
          36000000000000,
          43200000000000,
          41400000000000,
          43200000000000,
          43200000000000,
          43200000000000,
          43200000000000,
          43200000000000,
          46800000000000,
          21600000000000,
          25200000000000,
          28800000000000,
          21600000000000,
          21600000000000,
          33300000000000,
          36000000000000,
          37800000000000,
          36000000000000,
          36000000000000,
          43200000000000,
          43200000000000,
          43200000000000,
          21600000000000,
          27900000000000,
          28800000000000,
          21600000000000,
          33300000000000,
          36000000000000,
          41400000000000,
          43200000000000,
          21600000000000,
          43200000000000,
          43200000000000,
          21600000000000,
          28800000000000,
          30600000000000,
          21600000000000,
          36000000000000,
          43200000000000,
          43200000000000,
          21600000000000,
          26100000000000,
          30600000000000,
          28800000000000,
          21600000000000,
          36000000000000,
          36900000000000,
          46800000000000,
          28800000000000,
          21600000000000,
          36000000000000,
          36900000000000,
          43200000000000,
          28800000000000,
          30600000000000,
          21600000000000,
          36000000000000,
          36000000000000,
          36900000000000,
          43200000000000,
          43200000000000,
          46800000000000,
          30600000000000,
          30600000000000,
          28800000000000,
          33300000000000,
          36000000000000,
          36000000000000,
          36000000000000,
          43200000000000,
          43200000000000,
          43200000000000,
          43200000000000,
          21600000000000,
          30600000000000,
          25200000000000,
          30600000000000,
          21600000000000,
          21600000000000,
          33300000000000,
          36000000000000,
          36000000000000,
          36000000000000,
          43200000000000,
          43200000000000,
          43200000000000,
          46800000000000,
          21600000000000,
          30600000000000,
          21600000000000,
          33300000000000,
          36000000000000,
          36000000000000,
          43200000000000,
          43200000000000,
          43200000000000,
          21600000000000,
          10800000000000,
          30600000000000,
          30600000000000,
          32400000000000,
          36000000000000,
          37800000000000,
          43200000000000,
          21600000000000,
          10800000000000,
          32400000000000,
          21600000000000,
          41400000000000,
          37800000000000,
          36900000000000,
          46800000000000,
          10800000000000,
          10800000000000,
          10800000000000,
          12600000000000,
          21600000000000,
          35100000000000,
          37800000000000,
          36900000000000,
          50400000000000,
          9000000000000,
          36000000000000,
          39000000000000,
          36900000000000,
          39600000000000,
          43200000000000,
          43200000000000,
          46800000000000,
          37800000000000,
          28800000000000,
          36000000000000,
          36000000000000,
          43200000000000,
          43200000000000,
          46800000000000,
          23400000000000,
          25200000000000,
          30600000000000,
          30600000000000,
          37800000000000,
          21600000000000,
          21600000000000,
          36000000000000,
          36000000000000,
          43200000000000,
          45000000000000,
          43200000000000,
          43200000000000,
          21600000000000,
          14400000000000,
          21600000000000,
          31500000000000,
          33300000000000,
          36000000000000,
          36000000000000,
          43200000000000,
          45000000000000,
          19800000000000,
          21600000000000,
          36000000000000,
          40800000000000,
          43200000000000,
          21600000000000,
          10800000000000,
          28800000000000,
          32400000000000,
          36000000000000,
          36900000000000,
          46800000000000,
          10800000000000,
          10800000000000,
          10800000000000,
          10800000000000,
          28800000000000,
          21600000000000,
          36000000000000,
          36900000000000,
          46800000000000,
          21600000000000,
          30600000000000,
          30600000000000,
          36000000000000,
          36900000000000,
          43200000000000,
          43200000000000,
          46800000000000,
          27000000000000,
          37800000000000,
          28800000000000,
          36000000000000,
          36000000000000,
          10800000000000,
          43200000000000,
          43200000000000,
          43200000000000,
          46800000000000,
          21600000000000,
          18000000000000,
          25200000000000,
          35400000000000,
          37800000000000,
          10800000000000,
          21600000000000,
          21600000000000,
          36000000000000,
          36000000000000,
          36900000000000,
          43200000000000,
          45000000000000,
          21600000000000,
          46800000000000,
          21600000000000,
          36000000000000,
          36000000000000,
          36000000000000,
          36000000000000,
          43200000000000,
          45000000000000,
          18000000000000,
          18000000000000,
          21600000000000,
          28800000000000,
          34200000000000,
          36000000000000,
          43200000000000,
          21600000000000,
          32400000000000,
          28800000000000,
          36000000000000,
          46800000000000,
          21600000000000,
          26100000000000,
          28800000000000,
          36000000000000,
          46800000000000,
          36000000000000,
          43200000000000,
          46800000000000,
          21600000000000,
          30600000000000,
          28800000000000,
          30600000000000,
          36000000000000,
          36000000000000,
          43200000000000,
          43200000000000,
          46800000000000,
          21600000000000,
          21600000000000,
          25200000000000,
          32400000000000,
          21600000000000,
          36000000000000,
          36000000000000,
          43200000000000,
          43200000000000,
          45000000000000,
          43200000000000,
          21600000000000,
          21600000000000,
          15000000000000,
          23400000000000,
          36000000000000,
          36000000000000,
          38700000000000,
          43200000000000,
          43200000000000,
          46800000000000,
          21600000000000,
          21600000000000,
          30600000000000,
          36000000000000,
          21600000000000,
          36000000000000,
          43200000000000,
          43200000000000,
          21600000000000,
          21600000000000,
          12600000000000,
          21600000000000,
          36000000000000,
          44100000000000,
          43200000000000,
          43200000000000,
          21600000000000,
          30600000000000,
          21600000000000,
          36000000000000,
          43200000000000,
          46800000000000,
          43200000000000,
          43200000000000,
          19800000000000,
          30600000000000,
          21600000000000,
          34200000000000,
          36000000000000,
          36000000000000,
          43200000000000,
          43200000000000,
          43200000000000,
          43200000000000,
          18000000000000,
          21600000000000,
          30600000000000,
          21600000000000,
          36000000000000,
          36000000000000,
          38700000000000,
          43200000000000,
          43200000000000,
          43200000000000,
          21600000000000,
          21600000000000,
          30600000000000,
          30600000000000,
          21600000000000,
          36000000000000,
          36000000000000,
          38700000000000,
          43200000000000,
          43200000000000,
          21600000000000,
          36000000000000,
          36000000000000,
          38700000000000,
          43200000000000,
          43200000000000,
          43200000000000,
          43200000000000,
          21600000000000,
          33300000000000,
          36000000000000,
          36000000000000,
          38100000000000,
          43200000000000,
          21600000000000,
          21600000000000,
          33300000000000,
          36000000000000,
          36000000000000,
          21600000000000,
          29400000000000,
          33300000000000,
          36000000000000,
          43200000000000,
          43200000000000,
          30600000000000,
          21600000000000,
          33300000000000,
          37500000000000,
          36000000000000,
          41400000000000,
          43200000000000,
          18000000000000,
          28800000000000,
          14400000000000,
          30600000000000,
          21600000000000,
          36000000000000,
          36000000000000,
          38700000000000,
          43200000000000,
          43200000000000,
          21600000000000,
          18000000000000,
          21600000000000,
          25200000000000,
          30600000000000,
          21600000000000,
          34200000000000,
          24300000000000,
          34200000000000,
          36000000000000,
          36000000000000,
          38700000000000,
          43200000000000,
          21600000000000,
          28800000000000,
          33300000000000,
          36000000000000,
          34200000000000,
          36000000000000,
          38700000000000,
          43200000000000,
          18000000000000,
          21600000000000,
          33300000000000,
          36000000000000,
          38700000000000,
          21600000000000,
          33300000000000,
          36000000000000,
          33300000000000,
          36000000000000,
          43200000000000,
          43200000000000,
          21600000000000,
          34200000000000,
          33300000000000,
          36000000000000,
          43200000000000,
          43200000000000,
          33300000000000,
          36000000000000,
          36000000000000,
          40500000000000,
          43200000000000,
          43200000000000,
          43200000000000,
          17100000000000,
          25200000000000,
          21600000000000,
          30600000000000,
          21600000000000,
          28800000000000,
          21600000000000,
          33300000000000,
          36000000000000,
          36000000000000,
          38160000000000,
          43200000000000,
          28800000000000,
          21600000000000,
          21600000000000,
          36000000000000,
          34200000000000,
          36000000000000,
          37800000000000,
          43200000000000,
          30600000000000,
          30600000000000,
          36000000000000,
          39900000000000,
          43200000000000,
          21600000000000,
          36000000000000,
          36000000000000,
          36000000000000,
          43200000000000,
          34200000000000,
          36000000000000,
          43200000000000,
          36000000000000,
          33300000000000,
          36000000000000,
          37800000000000,
          10500000000000,
          43200000000000,
          21600000000000,
          30600000000000,
          21600000000000,
          36000000000000,
          33300000000000,
          36000000000000,
          37800000000000,
          43200000000000,
          18000000000000,
          30600000000000,
          36000000000000,
          33300000000000,
          34200000000000,
          36000000000000,
          37800000000000,
          43200000000000,
          43200000000000,
          43200000000000,
          30600000000000,
          36000000000000,
          41400000000000,
          43200000000000,
          28800000000000,
          36000000000000,
          43200000000000,
          36000000000000,
          43200000000000,
          43200000000000,
          36000000000000,
          43200000000000,
          21600000000000,
          25200000000000,
          28800000000000,
          30600000000000,
          36000000000000,
          36000000000000,
          38700000000000,
          18000000000000,
          25200000000000,
          30600000000000,
          37800000000000,
          43200000000000,
          30600000000000,
          36000000000000,
          36000000000000,
          38700000000000,
          43200000000000,
          21600000000000,
          30600000000000,
          36000000000000,
          36000000000000,
          38700000000000,
          43200000000000,
          43200000000000,
          43200000000000,
          18000000000000,
          36000000000000,
          36000000000000,
          39600000000000,
          43200000000000,
          43200000000000,
          18000000000000,
          25200000000000,
          25200000000000,
          36000000000000,
          43200000000000,
          25200000000000,
          36000000000000,
          30600000000000,
          36000000000000,
          43200000000000,
          18000000000000,
          30600000000000,
          34200000000000,
          36000000000000,
          28800000000000,
          34200000000000,
          36000000000000,
          36000000000000,
          38340000000000,
          41400000000000,
          43200000000000,
          43200000000000,
          18000000000000,
          25200000000000,
          30600000000000,
          27000000000000,
          34200000000000,
          36000000000000,
          36000000000000,
          36900000000000,
          42000000000000,
          43200000000000,
          43200000000000,
          43200000000000,
          30600000000000,
          36000000000000,
          36000000000000,
          36900000000000,
          43200000000000,
          43200000000000,
          46800000000000,
          43200000000000,
          18000000000000,
          25200000000000,
          28800000000000,
          36000000000000,
          43200000000000,
          43200000000000,
          43200000000000,
          18000000000000,
          25200000000000,
          32400000000000,
          36000000000000,
          43200000000000,
          43200000000000,
          36000000000000,
          43200000000000,
          43200000000000,
          18000000000000,
          36000000000000,
          36000000000000,
          36000000000000,
          28800000000000,
          36000000000000,
          36000000000000,
          36900000000000,
          43200000000000,
          18000000000000,
          34200000000000,
          30600000000000,
          28800000000000,
          36000000000000,
          36000000000000,
          36900000000000,
          43200000000000,
          36000000000000,
          28800000000000,
          36000000000000,
          36000000000000,
          37500000000000,
          43200000000000,
          46800000000000,
          25200000000000,
          18000000000000,
          39600000000000,
          32400000000000,
          36000000000000,
          43200000000000,
          18000000000000,
          18000000000000,
          36000000000000,
          25200000000000,
          23400000000000,
          36000000000000,
          39600000000000,
          43200000000000,
          21600000000000,
          18000000000000,
          18000000000000,
          23400000000000,
          32400000000000,
          36000000000000,
          43200000000000,
          18000000000000,
          36000000000000,
          18000000000000,
          36000000000000,
          25200000000000,
          28800000000000,
          36000000000000,
          36000000000000,
          38400000000000,
          43200000000000,
          21600000000000,
          25200000000000,
          30600000000000,
          33000000000000,
          21600000000000,
          36000000000000,
          36000000000000,
          38580000000000,
          50400000000000,
          18000000000000,
          28800000000000,
          30600000000000,
          30600000000000,
          36000000000000,
          34200000000000,
          36000000000000,
          36900000000000,
          43200000000000,
          46800000000000,
          18000000000000,
          25200000000000,
          21600000000000,
          43200000000000,
          34200000000000,
          36000000000000,
          43200000000000,
          18000000000000,
          26400000000000,
          21600000000000,
          34200000000000,
          36000000000000,
          43200000000000,
          25200000000000,
          39600000000000,
          25200000000000,
          32400000000000,
          34200000000000,
          36000000000000,
          48600000000000,
          18000000000000,
          21600000000000,
          29700000000000,
          36000000000000,
          36000000000000,
          43200000000000,
          25200000000000,
          28800000000000,
          28800000000000,
          28800000000000,
          36000000000000,
          36000000000000,
          36900000000000,
          43200000000000,
          43200000000000,
          21600000000000,
          25200000000000,
          37200000000000,
          32400000000000,
          21600000000000,
          28800000000000,
          28800000000000,
          34200000000000,
          36000000000000,
          36900000000000,
          21600000000000,
          18000000000000,
          21600000000000,
          21600000000000,
          25200000000000,
          21600000000000,
          28800000000000,
          34200000000000,
          34200000000000,
          36000000000000,
          36900000000000,
          43200000000000,
          43200000000000,
          43200000000000,
          43200000000000,
          14400000000000,
          10800000000000,
          30600000000000,
          21600000000000,
          21600000000000,
          34200000000000,
          36000000000000,
          43200000000000,
          43200000000000,
          7200000000000,
          10800000000000,
          9000000000000,
          21600000000000,
          34200000000000,
          36000000000000,
          43200000000000,
          7200000000000,
          7200000000000,
          18000000000000,
          9000000000000,
          10800000000000,
          28800000000000,
          34200000000000,
          36000000000000,
          46800000000000,
          10800000000000,
          18000000000000,
          36000000000000,
          43200000000000,
          25200000000000,
          25200000000000,
          28800000000000,
          27000000000000,
          43200000000000,
          32400000000000,
          29700000000000,
          32400000000000,
          33300000000000,
          39600000000000,
          18000000000000,
          30600000000000,
          30600000000000,
          43200000000000,
          21600000000000,
          32400000000000,
          36000000000000,
          33300000000000,
          36000000000000,
          37500000000000,
          43200000000000,
          25200000000000,
          38700000000000,
          32400000000000,
          33300000000000,
          36000000000000,
          36900000000000,
          43200000000000,
          34200000000000,
          36000000000000,
          34200000000000,
          36000000000000,
          21600000000000,
          34200000000000,
          36000000000000,
          18000000000000,
          36000000000000,
          36000000000000,
          43200000000000,
          43200000000000,
          15300000000000,
          28800000000000,
          28800000000000,
          36000000000000,
          33300000000000,
          36000000000000,
          36900000000000,
          43200000000000,
          18000000000000,
          32400000000000,
          34200000000000,
          21600000000000,
          36000000000000,
          33300000000000,
          36000000000000,
          36900000000000,
          43200000000000,
          7200000000000,
          21600000000000,
          21600000000000,
          28800000000000,
          43200000000000,
          28800000000000,
          36000000000000,
          36900000000000,
          43200000000000,
          43200000000000,
          25200000000000,
          21600000000000,
          32400000000000,
          46800000000000,
          28800000000000,
          32400000000000,
          34200000000000,
          36000000000000,
          25200000000000,
          30600000000000,
          36000000000000,
          32400000000000,
          34200000000000,
          36000000000000,
          23400000000000,
          21600000000000,
          32400000000000,
          34200000000000,
          34200000000000,
          36000000000000,
          18000000000000,
          36000000000000,
          45000000000000,
          30600000000000,
          28800000000000,
          43200000000000,
          36000000000000,
          36000000000000,
          38400000000000,
          41400000000000,
          18000000000000,
          32400000000000,
          32700000000000,
          21600000000000,
          43200000000000,
          36000000000000,
          36000000000000,
          36900000000000,
          28800000000000,
          36000000000000,
          36000000000000,
          36900000000000,
          43200000000000,
          43200000000000,
          43200000000000,
          21600000000000,
          34200000000000,
          21600000000000,
          33300000000000,
          33300000000000,
          36000000000000,
          43200000000000,
          45000000000000,
          21600000000000,
          30600000000000,
          21600000000000,
          33300000000000,
          33300000000000,
          36000000000000,
          43200000000000,
          21600000000000,
          33300000000000,
          33300000000000,
          36000000000000,
          43200000000000,
          21600000000000,
          36000000000000,
          21600000000000,
          33300000000000,
          36000000000000,
          30600000000000,
          27600000000000,
          21600000000000,
          32400000000000,
          36000000000000,
          36000000000000,
          36900000000000,
          18000000000000,
          30600000000000,
          34800000000000,
          21600000000000,
          32400000000000,
          36000000000000,
          36000000000000,
          36900000000000,
          43200000000000,
          43200000000000,
          32400000000000,
          36000000000000,
          36000000000000,
          36900000000000,
          43200000000000,
          43200000000000,
          43200000000000,
          12600000000000,
          36000000000000,
          43200000000000,
          43200000000000,
          33300000000000,
          36000000000000,
          43200000000000,
          43200000000000,
          32400000000000,
          28800000000000,
          30600000000000,
          34200000000000,
          33300000000000,
          36000000000000,
          43200000000000,
          44100000000000,
          32400000000000,
          30600000000000,
          36000000000000,
          43200000000000,
          30600000000000,
          18000000000000,
          28800000000000,
          32400000000000,
          33300000000000,
          36000000000000,
          36900000000000,
          43200000000000,
          18000000000000,
          19800000000000,
          30600000000000,
          31800000000000,
          21600000000000,
          32400000000000,
          33300000000000,
          36000000000000,
          36900000000000,
          43200000000000,
          18000000000000,
          32400000000000,
          32400000000000,
          33300000000000,
          33300000000000,
          36000000000000,
          36900000000000,
          43200000000000,
          43200000000000,
          43200000000000,
          43200000000000,
          30600000000000,
          32400000000000,
          30600000000000,
          33300000000000,
          36000000000000,
          36000000000000,
          37800000000000,
          43200000000000,
          43200000000000,
          44100000000000,
          46800000000000,
          30600000000000,
          32400000000000,
          30600000000000,
          33300000000000,
          36000000000000,
          39600000000000,
          43200000000000,
          43200000000000,
          43200000000000,
          30600000000000,
          27000000000000,
          32400000000000,
          30600000000000,
          33300000000000,
          36000000000000,
          43200000000000,
          44100000000000,
          30600000000000,
          32400000000000,
          30600000000000,
          32400000000000,
          36000000000000,
          43200000000000,
          45000000000000,
          28800000000000,
          21600000000000,
          36000000000000,
          36900000000000,
          42600000000000,
          43200000000000,
          43200000000000,
          18000000000000,
          36000000000000,
          21600000000000,
          21600000000000,
          30600000000000,
          36000000000000,
          44100000000000,
          43200000000000,
          44400000000000,
          43200000000000,
          18000000000000,
          32400000000000,
          30600000000000,
          32400000000000,
          36000000000000,
          39600000000000,
          36900000000000,
          43200000000000,
          43200000000000,
          18000000000000,
          32400000000000,
          32400000000000,
          34200000000000,
          36000000000000,
          43200000000000,
          18000000000000,
          21600000000000,
          32400000000000,
          32400000000000,
          34200000000000,
          120600000000000,
          36000000000000,
          43200000000000,
          21600000000000,
          10800000000000,
          32400000000000,
          30600000000000,
          32400000000000,
          34200000000000,
          36000000000000,
          30600000000000,
          32400000000000,
          30600000000000,
          33300000000000,
          36000000000000,
          36000000000000,
          36900000000000,
          43200000000000,
          46800000000000,
          30600000000000,
          28800000000000,
          34200000000000,
          36000000000000,
          36900000000000,
          43200000000000,
          46800000000000,
          18000000000000,
          16200000000000,
          31800000000000,
          34200000000000,
          36000000000000,
          36900000000000,
          46800000000000,
          27000000000000,
          32400000000000,
          32400000000000,
          32400000000000,
          36000000000000,
          36900000000000,
          43200000000000,
          21600000000000,
          18000000000000,
          32400000000000,
          28800000000000,
          32400000000000,
          34200000000000,
          36000000000000,
          36900000000000,
          18000000000000,
          31500000000000,
          32400000000000,
          32400000000000,
          34200000000000,
          36000000000000,
          36900000000000,
          40500000000000,
          28800000000000,
          33600000000000,
          32400000000000,
          21600000000000,
          34200000000000,
          36000000000000,
          39600000000000,
          36900000000000,
          20700000000000,
          27000000000000,
          27000000000000,
          32400000000000,
          36000000000000,
          36900000000000,
          43200000000000,
          30600000000000,
          28800000000000,
          31500000000000,
          36000000000000,
          36900000000000,
          46980000000000,
          18000000000000,
          21600000000000,
          32400000000000,
          36000000000000,
          36900000000000,
          27000000000000,
          36000000000000,
          36900000000000,
          43200000000000,
          9000000000000,
          21600000000000,
          18000000000000,
          21600000000000,
          27000000000000,
          36000000000000,
          34200000000000,
          36000000000000,
          36900000000000,
          18000000000000,
          21600000000000,
          10800000000000,
          27000000000000,
          34200000000000,
          36000000000000,
          36900000000000,
          18000000000000,
          21600000000000,
          30600000000000,
          27000000000000,
          34200000000000,
          36000000000000,
          36900000000000,
          21600000000000,
          30600000000000,
          27000000000000,
          36000000000000,
          36900000000000,
          30600000000000,
          30600000000000,
          28800000000000,
          36000000000000,
          36900000000000,
          15600000000000,
          21600000000000,
          30600000000000,
          30600000000000,
          21600000000000,
          21600000000000,
          34200000000000,
          36000000000000,
          36900000000000,
          18000000000000,
          30600000000000,
          30600000000000,
          28800000000000,
          27000000000000,
          34200000000000,
          36000000000000,
          36900000000000,
          43200000000000,
          32400000000000,
          30600000000000,
          30600000000000,
          34200000000000,
          36000000000000,
          36900000000000,
          25200000000000,
          30600000000000,
          30600000000000,
          27000000000000,
          34200000000000,
          36000000000000,
          40380000000000,
          43200000000000,
          30600000000000,
          25200000000000,
          27000000000000,
          34200000000000,
          36000000000000,
          43200000000000,
          21600000000000,
          30600000000000,
          25200000000000,
          27000000000000,
          34200000000000,
          36000000000000,
          43200000000000,
          21600000000000,
          34800000000000,
          30600000000000,
          28800000000000,
          29820000000000,
          36000000000000,
          36900000000000,
          43200000000000,
          21600000000000,
          30600000000000,
          21600000000000,
          28800000000000,
          21600000000000,
          34200000000000,
          36000000000000,
          36900000000000,
          18000000000000,
          30600000000000,
          21600000000000,
          28800000000000,
          27000000000000,
          36000000000000,
          36900000000000,
          43200000000000,
          21600000000000,
          14400000000000,
          12600000000000,
          30600000000000,
          27000000000000,
          34200000000000,
          36000000000000,
          10800000000000,
          18000000000000,
          21600000000000,
          12600000000000,
          12600000000000,
          37800000000000,
          34200000000000,
          36000000000000,
          43200000000000,
          16200000000000,
          30600000000000,
          12600000000000,
          39600000000000,
          27000000000000,
          34200000000000,
          36000000000000,
          43200000000000,
          46800000000000,
          30600000000000,
          32400000000000,
          27000000000000,
          36000000000000,
          43200000000000,
          43200000000000,
          43200000000000,
          30600000000000,
          28800000000000,
          32400000000000,
          36000000000000,
          36900000000000,
          21600000000000,
          30600000000000,
          30600000000000,
          21600000000000,
          36000000000000,
          36900000000000,
          37800000000000,
          18000000000000,
          30600000000000,
          21600000000000,
          30600000000000,
          27000000000000,
          36000000000000,
          36900000000000,
          37800000000000,
          43200000000000,
          46800000000000,
          18000000000000,
          21600000000000,
          28800000000000,
          27000000000000,
          36000000000000,
          43200000000000,
          18000000000000,
          28800000000000,
          27000000000000,
          36000000000000,
          43200000000000,
          46800000000000,
          32400000000000,
          32400000000000,
          36000000000000,
          40500000000000,
          45900000000000,
          30600000000000,
          27000000000000,
          36000000000000,
          43200000000000,
          28800000000000,
          28800000000000,
          36000000000000,
          36900000000000,
          43200000000000,
          21600000000000,
          30600000000000,
          21600000000000,
          28800000000000,
          36000000000000,
          36900000000000,
          37800000000000,
          43200000000000,
          43200000000000,
          43200000000000,
          21600000000000,
          23400000000000,
          28800000000000,
          27000000000000,
          36000000000000,
          36900000000000,
          43200000000000,
          43200000000000,
          43200000000000,
          27000000000000,
          33300000000000,
          36000000000000,
          37800000000000,
          43200000000000,
          43200000000000,
          25200000000000,
          33300000000000,
          36000000000000,
          43200000000000,
          47700000000000,
          46800000000000,
          18000000000000,
          19800000000000,
          21600000000000,
          30600000000000,
          33300000000000,
          36000000000000,
          43200000000000,
          43200000000000,
          46800000000000,
          18000000000000,
          36000000000000,
          44100000000000,
          25200000000000,
          25200000000000,
          32400000000000,
          25200000000000,
          40500000000000,
          36000000000000,
          36900000000000,
          37800000000000,
          46800000000000,
          41400000000000,
          21600000000000,
          53100000000000,
          21600000000000,
          21600000000000,
          25200000000000,
          21600000000000,
          21600000000000,
          36000000000000,
          36900000000000,
          37800000000000,
          18000000000000,
          21600000000000,
          23400000000000,
          21600000000000,
          33300000000000,
          34200000000000,
          36000000000000,
          36900000000000,
          37800000000000,
          43200000000000,
          43200000000000,
          43200000000000,
          10200000000000,
          36000000000000,
          37800000000000,
          43200000000000,
          43200000000000,
          43200000000000,
          43200000000000,
          18000000000000,
          21600000000000,
          36000000000000,
          43200000000000,
          43200000000000,
          43200000000000,
          46800000000000,
          51600000000000,
          18000000000000,
          30600000000000,
          21600000000000,
          36000000000000,
          36000000000000,
          43200000000000,
          43200000000000,
          18000000000000,
          30600000000000,
          30600000000000,
          21600000000000,
          36000000000000,
          36900000000000,
          40500000000000,
          25200000000000,
          28800000000000,
          28800000000000,
          36000000000000,
          36900000000000,
          43200000000000,
          43200000000000,
          21600000000000,
          25200000000000,
          25200000000000,
          28800000000000,
          21600000000000,
          33300000000000,
          36000000000000,
          36900000000000,
          43200000000000,
          21600000000000,
          21600000000000,
          21600000000000,
          34200000000000,
          36000000000000,
          43200000000000,
          21600000000000,
          18000000000000,
          36000000000000,
          43200000000000,
          21600000000000,
          18000000000000,
          36000000000000,
          40500000000000,
          43200000000000,
          21600000000000,
          23400000000000,
          36000000000000,
          21600000000000,
          23400000000000,
          36000000000000,
          37800000000000,
          43200000000000,
          25200000000000,
          30600000000000,
          28800000000000,
          36000000000000,
          36900000000000,
          37800000000000,
          37800000000000,
          46800000000000,
          22500000000000,
          21600000000000,
          30600000000000,
          21600000000000,
          36000000000000,
          36900000000000,
          37800000000000,
          43200000000000,
          24300000000000,
          25200000000000,
          33600000000000,
          34200000000000,
          36000000000000,
          36900000000000,
          37800000000000,
          43200000000000,
          43200000000000,
          46800000000000,
          16200000000000,
          10800000000000,
          18000000000000,
          36000000000000,
          40500000000000,
          43200000000000,
          43200000000000,
          18000000000000,
          36000000000000,
          43200000000000,
          16800000000000,
          10800000000000,
          14400000000000,
          14400000000000,
          30600000000000,
          36000000000000,
          10800000000000,
          27000000000000,
          14400000000000,
          14400000000000,
          30600000000000,
          30600000000000,
          36000000000000,
          43200000000000,
          28800000000000,
          36000000000000,
          36900000000000,
          46800000000000,
          21600000000000,
          21600000000000,
          36000000000000,
          36900000000000,
          43200000000000,
          21600000000000,
          21000000000000,
          34200000000000,
          36000000000000,
          36900000000000,
          43200000000000,
          18000000000000,
          36000000000000,
          43200000000000,
          18000000000000,
          21600000000000,
          36000000000000,
          43200000000000,
          23400000000000,
          34200000000000,
          36000000000000,
          43200000000000,
          21600000000000,
          36000000000000,
          46800000000000,
          28800000000000,
          36000000000000,
          36900000000000,
          43200000000000,
          21600000000000,
          43200000000000,
          21600000000000,
          32400000000000,
          36000000000000,
          36900000000000,
          46800000000000,
          21600000000000,
          21600000000000,
          43200000000000,
          33300000000000,
          36000000000000,
          36900000000000,
          43200000000000,
          43200000000000,
          43200000000000,
          18000000000000,
          19500000000000,
          36000000000000,
          43200000000000,
          43200000000000,
          43200000000000,
          18000000000000,
          18000000000000,
          36000000000000,
          43200000000000,
          36000000000000,
          43200000000000,
          36000000000000,
          36000000000000,
          43200000000000,
          28800000000000,
          43200000000000,
          21600000000000,
          36000000000000,
          36900000000000,
          39600000000000,
          43200000000000,
          21600000000000,
          23400000000000,
          21600000000000,
          45000000000000,
          36000000000000,
          36900000000000,
          39600000000000,
          46800000000000,
          21600000000000,
          23400000000000,
          14400000000000,
          43200000000000,
          21600000000000,
          36000000000000,
          36900000000000,
          43200000000000,
          43200000000000,
          18000000000000,
          21600000000000,
          36000000000000,
          18000000000000,
          36000000000000,
          36000000000000,
          43200000000000,
          36000000000000,
          43200000000000,
          18000000000000,
          36000000000000,
          45000000000000,
          43200000000000,
          28800000000000,
          36000000000000,
          36900000000000,
          43200000000000,
          43200000000000,
          21600000000000,
          21600000000000,
          21600000000000,
          36000000000000,
          36900000000000,
          43200000000000,
          21600000000000,
          21600000000000,
          21600000000000,
          25200000000000,
          36000000000000,
          36900000000000,
          43200000000000,
          43200000000000,
          18000000000000,
          21600000000000,
          21600000000000,
          18000000000000,
          36000000000000,
          43200000000000,
          18000000000000,
          30600000000000,
          36000000000000,
          43200000000000,
          36000000000000,
          43200000000000,
          43200000000000,
          30600000000000,
          30600000000000,
          36000000000000,
          43200000000000,
          21600000000000,
          9000000000000,
          19800000000000,
          33300000000000,
          36000000000000,
          36900000000000,
          43200000000000,
          21600000000000,
          25200000000000,
          21600000000000,
          36000000000000,
          36900000000000,
          21600000000000,
          23400000000000,
          36000000000000,
          36900000000000,
          43200000000000,
          43200000000000,
          18000000000000,
          21600000000000,
          34200000000000,
          36000000000000,
          43200000000000,
          18000000000000,
          34200000000000,
          36000000000000,
          45000000000000,
          25200000000000,
          25200000000000,
          36000000000000,
          43200000000000,
          36000000000000,
          40200000000000,
          25200000000000,
          28800000000000,
          36000000000000,
          43200000000000,
          25200000000000,
          25200000000000,
          21600000000000,
          21600000000000,
          36000000000000,
          43200000000000,
          18000000000000,
          25200000000000,
          33300000000000,
          36000000000000,
          43200000000000,
          18000000000000,
          21600000000000,
          30600000000000,
          36000000000000,
          43200000000000,
          18000000000000,
          36000000000000,
          37800000000000,
          43200000000000,
          36000000000000,
          43200000000000,
          43200000000000,
          18000000000000,
          43200000000000,
          36000000000000,
          43200000000000,
          43200000000000,
          22500000000000,
          30600000000000,
          28800000000000,
          45000000000000,
          39600000000000,
          46800000000000,
          46800000000000,
          22500000000000,
          21600000000000,
          21600000000000,
          30600000000000,
          25200000000000,
          36000000000000,
          43200000000000,
          18000000000000,
          18000000000000,
          30600000000000,
          21600000000000,
          36000000000000,
          43200000000000,
          43200000000000,
          43200000000000,
          25200000000000,
          18000000000000,
          21600000000000,
          36000000000000,
          37800000000000,
          43200000000000,
          43200000000000,
          43200000000000,
          18000000000000,
          43200000000000,
          36000000000000,
          39600000000000,
          37800000000000,
          43200000000000,
          43200000000000,
          43200000000000,
          27000000000000,
          43200000000000,
          34200000000000,
          36000000000000,
          41400000000000,
          43200000000000,
          43200000000000,
          43200000000000,
          30600000000000,
          36000000000000,
          43200000000000,
          28800000000000,
          30600000000000,
          46800000000000,
          36000000000000,
          43200000000000,
          21600000000000,
          21600000000000,
          21600000000000,
          30600000000000,
          36000000000000,
          43200000000000,
          30600000000000,
          36000000000000,
          43200000000000,
          43200000000000,
          43200000000000,
          18000000000000,
          21600000000000,
          21600000000000,
          25200000000000,
          36000000000000,
          43200000000000,
          43200000000000,
          18000000000000,
          36000000000000,
          43200000000000,
          43200000000000,
          32400000000000,
          32400000000000,
          30600000000000,
          45900000000000,
          36000000000000,
          43200000000000,
          43200000000000,
          30600000000000,
          30600000000000,
          28800000000000,
          34200000000000,
          43200000000000,
          36000000000000,
          43200000000000,
          43200000000000,
          43200000000000,
          40500000000000,
          28800000000000,
          43200000000000,
          36000000000000,
          43200000000000,
          43200000000000,
          43200000000000,
          21600000000000,
          21600000000000,
          21600000000000,
          21600000000000,
          21600000000000,
          21600000000000,
          36000000000000,
          43200000000000,
          30600000000000,
          36000000000000,
          43200000000000,
          18000000000000,
          36000000000000,
          37800000000000,
          43200000000000,
          43200000000000,
          18000000000000,
          36000000000000,
          36900000000000,
          37800000000000,
          43200000000000,
          43200000000000,
          40500000000000,
          43200000000000,
          36000000000000,
          36900000000000,
          37800000000000,
          43200000000000,
          43200000000000,
          21600000000000,
          36000000000000,
          36000000000000,
          43200000000000,
          28800000000000,
          21600000000000,
          28800000000000,
          36000000000000,
          43200000000000,
          21600000000000,
          18000000000000,
          21600000000000,
          30600000000000,
          36000000000000,
          43200000000000,
          43200000000000,
          30600000000000,
          21600000000000,
          30600000000000,
          36000000000000,
          43200000000000,
          20400000000000,
          20700000000000,
          30600000000000,
          36000000000000,
          18000000000000,
          30600000000000,
          30600000000000,
          36000000000000,
          36900000000000,
          43200000000000,
          30600000000000,
          30600000000000,
          30600000000000,
          36000000000000,
          36900000000000,
          43200000000000,
          44100000000000,
          28800000000000,
          32400000000000,
          30600000000000,
          36000000000000,
          43200000000000,
          43200000000000,
          43200000000000,
          45000000000000,
          21600000000000,
          28800000000000,
          30600000000000,
          36000000000000,
          43200000000000,
          43200000000000,
          43200000000000,
          18000000000000,
          21600000000000,
          30600000000000,
          21600000000000,
          36000000000000,
          39600000000000,
          43200000000000,
          43200000000000,
          27000000000000,
          18000000000000,
          28800000000000,
          34200000000000,
          35100000000000,
          43200000000000,
          43200000000000,
          43200000000000,
          18000000000000,
          28800000000000,
          21600000000000,
          34200000000000,
          36000000000000,
          43200000000000,
          25200000000000,
          18000000000000,
          36000000000000,
          34200000000000,
          36000000000000,
          43200000000000,
          26100000000000,
          34200000000000,
          36000000000000,
          28800000000000,
          21600000000000,
          36000000000000,
          21600000000000,
          28800000000000,
          36000000000000,
          36900000000000,
          21600000000000,
          28800000000000,
          18000000000000,
          21600000000000,
          28800000000000,
          36000000000000,
          36000000000000,
          36900000000000,
          43200000000000,
          43200000000000,
          25200000000000,
          28800000000000,
          28800000000000,
          30600000000000,
          21600000000000,
          32400000000000,
          36000000000000,
          43200000000000,
          44400000000000,
          14400000000000,
          28800000000000,
          21600000000000,
          30600000000000,
          36000000000000,
          36000000000000,
          43200000000000,
          43200000000000,
          18000000000000,
          35400000000000,
          30600000000000,
          10800000000000,
          36000000000000,
          41400000000000,
          43200000000000,
          43200000000000,
          28800000000000,
          30600000000000,
          10800000000000,
          36000000000000,
          36900000000000,
          21600000000000,
          16200000000000,
          30600000000000,
          10800000000000,
          43200000000000,
          36000000000000,
          36900000000000,
          27000000000000,
          21600000000000,
          28800000000000,
          32400000000000,
          36000000000000,
          36900000000000,
          18000000000000,
          21600000000000,
          27000000000000,
          28800000000000,
          21600000000000,
          30600000000000,
          37800000000000,
          36900000000000,
          43200000000000,
          18000000000000,
          18000000000000,
          21600000000000,
          28800000000000,
          21600000000000,
          32400000000000,
          34200000000000,
          36000000000000,
          44100000000000,
          45000000000000,
          21600000000000,
          18000000000000,
          28800000000000,
          21600000000000,
          32400000000000,
          34200000000000,
          36000000000000,
          43200000000000,
          18000000000000,
          28800000000000,
          10800000000000,
          34200000000000,
          36000000000000,
          43800000000000,
          28800000000000,
          10800000000000,
          39600000000000,
          27600000000000,
          36000000000000,
          21600000000000,
          21600000000000,
          10800000000000,
          32400000000000,
          36000000000000,
          18000000000000,
          21600000000000,
          25200000000000,
          41400000000000,
          43200000000000,
          36000000000000,
          43200000000000,
          45000000000000,
          21600000000000,
          39600000000000,
          43200000000000,
          34200000000000,
          16200000000000,
          36000000000000,
          43200000000000,
          43200000000000,
          21600000000000,
          28800000000000,
          21600000000000,
          36000000000000,
          43200000000000,
          29700000000000,
          21600000000000,
          28800000000000,
          36000000000000,
          27900000000000,
          28800000000000,
          28800000000000,
          32400000000000,
          36000000000000,
          46800000000000,
          27900000000000,
          21600000000000,
          28800000000000,
          32400000000000,
          36000000000000,
          36900000000000,
          24300000000000,
          36000000000000,
          36900000000000,
          43200000000000,
          28800000000000,
          36000000000000,
          36900000000000,
          43200000000000,
          46800000000000,
          21600000000000,
          32400000000000,
          32400000000000,
          21600000000000,
          36000000000000,
          36900000000000,
          20700000000000,
          21600000000000,
          36000000000000,
          36900000000000,
          43200000000000,
          20700000000000,
          25200000000000,
          32400000000000,
          31500000000000,
          36000000000000,
          36900000000000,
          37800000000000,
          43200000000000,
          28800000000000,
          43200000000000,
          30600000000000,
          32400000000000,
          31500000000000,
          36000000000000,
          37800000000000,
          36900000000000,
          43200000000000,
          20700000000000,
          28800000000000,
          43200000000000,
          30600000000000,
          32400000000000,
          31500000000000,
          36000000000000,
          36900000000000,
          43200000000000,
          43200000000000,
          21600000000000,
          28800000000000,
          31500000000000,
          36000000000000,
          36900000000000,
          39600000000000,
          43200000000000,
          43200000000000,
          21600000000000,
          28800000000000,
          28800000000000,
          36000000000000,
          36900000000000,
          37800000000000,
          39600000000000,
          43200000000000,
          43200000000000,
          46800000000000,
          28800000000000,
          28800000000000,
          32400000000000,
          36000000000000,
          36900000000000,
          36900000000000,
          28800000000000,
          28800000000000,
          30600000000000,
          43200000000000,
          21600000000000,
          36000000000000,
          36900000000000,
          43200000000000,
          28800000000000,
          28800000000000,
          25200000000000,
          27000000000000,
          31500000000000,
          34200000000000,
          36000000000000,
          43200000000000,
          28800000000000,
          25200000000000,
          28800000000000,
          25200000000000,
          28800000000000,
          31500000000000,
          34200000000000,
          36000000000000,
          36900000000000,
          41400000000000,
          43200000000000,
          21600000000000,
          28800000000000,
          25200000000000,
          30600000000000,
          31500000000000,
          34200000000000,
          36000000000000,
          36900000000000,
          43200000000000,
          43200000000000,
          21600000000000,
          28800000000000,
          25200000000000,
          27000000000000,
          31500000000000,
          36000000000000,
          43200000000000,
          43200000000000,
          39600000000000,
          43200000000000,
          43200000000000,
          46800000000000,
          28800000000000,
          28800000000000,
          28800000000000,
          43200000000000,
          36000000000000,
          36900000000000,
          36900000000000,
          45000000000000,
          43200000000000,
          39600000000000,
          45000000000000,
          28800000000000,
          18000000000000,
          30600000000000,
          36000000000000,
          36900000000000,
          39600000000000,
          39600000000000,
          28800000000000,
          28800000000000,
          28800000000000,
          43200000000000,
          25200000000000,
          19500000000000,
          36000000000000,
          36000000000000,
          36900000000000,
          43200000000000,
          28800000000000,
          23400000000000,
          25200000000000,
          25200000000000,
          33300000000000,
          36000000000000,
          34200000000000,
          36000000000000,
          35100000000000,
          43200000000000,
          28800000000000,
          25200000000000,
          26160000000000,
          34200000000000,
          36000000000000,
          43200000000000,
          21600000000000,
          25200000000000,
          36000000000000,
          35100000000000,
          36900000000000,
          43200000000000,
          43200000000000,
          43200000000000,
          28800000000000,
          25200000000000,
          38700000000000,
          38700000000000,
          43200000000000,
          43200000000000,
          43200000000000,
          28800000000000,
          28800000000000,
          43200000000000,
          43200000000000,
          21600000000000,
          32400000000000,
          31500000000000,
          39000000000000,
          43200000000000,
          43200000000000,
          28800000000000,
          28800000000000,
          36000000000000,
          25200000000000,
          43200000000000,
          43200000000000,
          41400000000000,
          43200000000000,
          28800000000000,
          36000000000000,
          25200000000000,
          36000000000000,
          36900000000000,
          38700000000000,
          43200000000000,
          43200000000000,
          43200000000000,
          28800000000000,
          31500000000000,
          36000000000000,
          36900000000000,
          43200000000000,
          43200000000000,
          28800000000000,
          31500000000000,
          36000000000000,
          36900000000000,
          43200000000000,
          31500000000000,
          36000000000000,
          43200000000000,
          43200000000000,
          31500000000000,
          35100000000000,
          39600000000000,
          43200000000000,
          28800000000000,
          28800000000000,
          39600000000000,
          43200000000000,
          43200000000000,
          28800000000000,
          21600000000000,
          22500000000000,
          28800000000000,
          39600000000000,
          43200000000000,
          43200000000000,
          43200000000000,
          27000000000000,
          28800000000000,
          27000000000000,
          36000000000000,
          36900000000000,
          43200000000000,
          43200000000000,
          43200000000000,
          43200000000000,
          28800000000000,
          35100000000000,
          36000000000000,
          36900000000000,
          43200000000000,
          43200000000000,
          43200000000000,
          28800000000000,
          36000000000000,
          36900000000000,
          43200000000000,
          43200000000000,
          28800000000000,
          43200000000000,
          41400000000000,
          43200000000000,
          22500000000000,
          36900000000000,
          43200000000000,
          39600000000000,
          43200000000000,
          28800000000000,
          28800000000000,
          43200000000000,
          43200000000000,
          31500000000000,
          40500000000000,
          43200000000000,
          39600000000000,
          43200000000000,
          21600000000000,
          21600000000000,
          28800000000000,
          21600000000000,
          31500000000000,
          43200000000000,
          45000000000000,
          43200000000000,
          21600000000000,
          28800000000000,
          28800000000000,
          43200000000000,
          31500000000000,
          36000000000000,
          43200000000000,
          39600000000000,
          43200000000000,
          43200000000000,
          28800000000000,
          28800000000000,
          18000000000000,
          31500000000000,
          36000000000000,
          43200000000000,
          23400000000000,
          28800000000000,
          28800000000000,
          36000000000000,
          43200000000000,
          28800000000000,
          43200000000000,
          36000000000000,
          36900000000000,
          43200000000000,
          43200000000000,
          43200000000000,
          27000000000000,
          28800000000000,
          43200000000000,
          36900000000000,
          43200000000000,
          39600000000000,
          43200000000000,
          23400000000000,
          30600000000000,
          36000000000000,
          43200000000000,
          27000000000000,
          31500000000000,
          36900000000000,
          43200000000000,
          39600000000000,
          43200000000000,
          21600000000000,
          43200000000000,
          31500000000000,
          43200000000000,
          39600000000000,
          21600000000000,
          30600000000000,
          25200000000000,
          25200000000000,
          31500000000000,
          36000000000000,
          36000000000000,
          43200000000000,
          43200000000000,
          30600000000000,
          43200000000000,
          25200000000000,
          36000000000000,
          36000000000000,
          43200000000000,
          30600000000000,
          21600000000000,
          21600000000000,
          43200000000000,
          25200000000000,
          36000000000000,
          38700000000000,
          43200000000000,
          14400000000000,
          7200000000000,
          30600000000000,
          21600000000000,
          25200000000000,
          25200000000000,
          36000000000000,
          36900000000000,
          41400000000000,
          43200000000000,
          43200000000000,
          21600000000000,
          21600000000000,
          25200000000000,
          27000000000000,
          25200000000000,
          39600000000000,
          43200000000000,
          28800000000000,
          28800000000000,
          43200000000000,
          31500000000000,
          39600000000000,
          43200000000000,
          43200000000000,
          21600000000000,
          43200000000000,
          43200000000000,
          31500000000000,
          39600000000000,
          21600000000000,
          43200000000000,
          31500000000000,
          36000000000000,
          36900000000000,
          39600000000000,
          43200000000000,
          43200000000000,
          43200000000000,
          31500000000000,
          31500000000000,
          36000000000000,
          36900000000000,
          43200000000000,
          21600000000000,
          27000000000000,
          36000000000000,
          43200000000000,
          21600000000000,
          21600000000000,
          43200000000000,
          36000000000000,
          43200000000000,
          43200000000000,
          21600000000000,
          27000000000000,
          43200000000000,
          19800000000000,
          39600000000000,
          43200000000000,
          43200000000000,
          41400000000000,
          18000000000000,
          28800000000000,
          28800000000000,
          28800000000000,
          43200000000000,
          43200000000000,
          36000000000000,
          43200000000000,
          43200000000000,
          39600000000000,
          43200000000000,
          18000000000000,
          28800000000000,
          28800000000000,
          43200000000000,
          43200000000000,
          43200000000000,
          34200000000000,
          39600000000000,
          43200000000000,
          39600000000000,
          43200000000000,
          19800000000000,
          21600000000000,
          36000000000000,
          36900000000000,
          43200000000000,
          43200000000000,
          43200000000000,
          46800000000000,
          36000000000000,
          36000000000000,
          36900000000000,
          43200000000000,
          27000000000000,
          36000000000000,
          43200000000000,
          21600000000000,
          36000000000000,
          39600000000000,
          43200000000000,
          43200000000000,
          21600000000000,
          25200000000000,
          39600000000000,
          43200000000000,
          28800000000000,
          28800000000000,
          43200000000000,
          39600000000000,
          43200000000000,
          21600000000000,
          28800000000000,
          43200000000000,
          43200000000000,
          38700000000000,
          39600000000000,
          43200000000000,
          21600000000000,
          24300000000000,
          43200000000000,
          32400000000000,
          36000000000000,
          36000000000000,
          39600000000000,
          39600000000000,
          43200000000000,
          18000000000000,
          18000000000000,
          41400000000000,
          43200000000000,
          36000000000000,
          43200000000000,
          43200000000000,
          43200000000000,
          43200000000000,
          36000000000000,
          36000000000000,
          43200000000000,
          43200000000000,
          36000000000000,
          36000000000000,
          39600000000000,
          43200000000000,
          18000000000000,
          43200000000000,
          43200000000000,
          18000000000000,
          18000000000000,
          18000000000000,
          43200000000000,
          43200000000000,
          43200000000000,
          18000000000000,
          21600000000000,
          43200000000000,
          43200000000000,
          43200000000000,
          18000000000000,
          36000000000000,
          43200000000000,
          43200000000000,
          43200000000000,
          10800000000000,
          21600000000000,
          21600000000000,
          16200000000000,
          36000000000000,
          43200000000000,
          21600000000000,
          21600000000000,
          36000000000000,
          16200000000000,
          36000000000000,
          43200000000000,
          45000000000000,
          28800000000000,
          21600000000000,
          50400000000000,
          16200000000000,
          36000000000000,
          43200000000000,
          52200000000000,
          18000000000000,
          18000000000000,
          21600000000000,
          28800000000000,
          43200000000000,
          45900000000000,
          18600000000000,
          21600000000000,
          43200000000000,
          43200000000000,
          31500000000000,
          19200000000000,
          18000000000000,
          25200000000000,
          43200000000000,
          43200000000000,
          40500000000000,
          18000000000000,
          21600000000000,
          32400000000000,
          25200000000000,
          25200000000000,
          25200000000000,
          36000000000000,
          43200000000000,
          23400000000000,
          18000000000000,
          21600000000000,
          21600000000000,
          25200000000000,
          25200000000000,
          25200000000000,
          27000000000000,
          36000000000000,
          43200000000000,
          10800000000000,
          18000000000000,
          7200000000000,
          43200000000000,
          25200000000000,
          25200000000000,
          25200000000000,
          36000000000000,
          43200000000000,
          16200000000000,
          43200000000000,
          36000000000000,
          36900000000000,
          36900000000000,
          36900000000000,
          43200000000000,
          43200000000000,
          25200000000000,
          36900000000000,
          36900000000000,
          36900000000000,
          30300000000000,
          25200000000000,
          25200000000000,
          25200000000000,
          36900000000000,
          36900000000000,
          21600000000000,
          21600000000000,
          21600000000000,
          25200000000000,
          25200000000000,
          25200000000000,
          39600000000000,
          43200000000000,
          18000000000000,
          18000000000000,
          18000000000000,
          23400000000000,
          21600000000000,
          26100000000000,
          25200000000000,
          36000000000000,
          43200000000000,
          43200000000000,
          18000000000000,
          23400000000000,
          21600000000000,
          36000000000000,
          43200000000000,
          27000000000000,
          23400000000000,
          25200000000000,
          25200000000000,
          36000000000000,
          43200000000000,
          43200000000000,
          23400000000000,
          18000000000000,
          41400000000000,
          26100000000000,
          25200000000000,
          36000000000000,
          36900000000000,
          43200000000000,
          21600000000000,
          18000000000000,
          25200000000000,
          25200000000000,
          18000000000000,
          36900000000000,
          43200000000000,
          21600000000000,
          43200000000000,
          36900000000000,
          43200000000000,
          21600000000000,
          23400000000000,
          21600000000000,
          21600000000000,
          39600000000000,
          43200000000000,
          21600000000000,
          21600000000000,
          28800000000000,
          7200000000000,
          21600000000000,
          18000000000000,
          27000000000000,
          36000000000000,
          36000000000000,
          39600000000000,
          43200000000000,
          23400000000000,
          21600000000000,
          18000000000000,
          25200000000000,
          36000000000000,
          41400000000000,
          43200000000000,
          7200000000000,
          27000000000000,
          0,
          34200000000000,
          36000000000000,
          41400000000000,
          43200000000000,
          19800000000000,
          21600000000000,
          25200000000000,
          34200000000000,
          34200000000000,
          36000000000000,
          43200000000000,
          25200000000000,
          25200000000000,
          25200000000000,
          30600000000000,
          43200000000000,
          25200000000000,
          34200000000000,
          18000000000000,
          21600000000000,
          18000000000000,
          25200000000000,
          34200000000000,
          25200000000000,
          43200000000000,
          23400000000000,
          21600000000000,
          26100000000000,
          34200000000000,
          36900000000000,
          18000000000000,
          23400000000000,
          34200000000000,
          36900000000000,
          27000000000000,
          27000000000000,
          21600000000000,
          28800000000000,
          43200000000000,
          21600000000000,
          32400000000000,
          30600000000000,
          36900000000000,
          43200000000000,
          25200000000000,
          34200000000000,
          36900000000000,
          43200000000000,
          34200000000000,
          34200000000000,
          43200000000000,
          43200000000000,
          43200000000000,
          32400000000000,
          43200000000000,
          18000000000000,
          14400000000000,
          10800000000000,
          32400000000000,
          43200000000000,
          18000000000000,
          21600000000000,
          32400000000000,
          36900000000000,
          43200000000000,
          18000000000000,
          32400000000000,
          34200000000000,
          18000000000000,
          25200000000000,
          16200000000000,
          43200000000000,
          36000000000000,
          18000000000000,
          34200000000000,
          43200000000000,
          32400000000000,
          43200000000000,
          25200000000000,
          32400000000000,
          43200000000000,
          19800000000000,
          32400000000000,
          43200000000000,
          43200000000000,
          18000000000000,
          43200000000000,
          30600000000000,
          32400000000000,
          43200000000000,
          43200000000000,
          34200000000000,
          43200000000000,
          25200000000000,
          21600000000000,
          34200000000000,
          39600000000000,
          43200000000000,
          43200000000000,
          43200000000000,
          25200000000000,
          39600000000000,
          43200000000000,
          43200000000000,
          43200000000000,
          43200000000000,
          25200000000000,
          25200000000000,
          43200000000000,
          43200000000000,
          43200000000000,
          43200000000000,
          43200000000000,
          43200000000000,
          43200000000000,
          43200000000000,
          32400000000000,
          34200000000000,
          43200000000000,
          32400000000000,
          34200000000000,
          43200000000000,
          32400000000000,
          43200000000000,
          39600000000000,
          43200000000000,
          43200000000000,
          43200000000000,
          43200000000000,
          39600000000000,
          43200000000000,
          43200000000000,
          43200000000000,
          39600000000000,
          21600000000000,
          39600000000000,
          45000000000000,
          32400000000000,
          42300000000000,
          28800000000000,
          32400000000000,
          37800000000000,
          43200000000000,
          14400000000000,
          21600000000000,
          39600000000000,
          43200000000000,
          21600000000000,
          43200000000000,
          43200000000000,
          18000000000000,
          30600000000000,
          39600000000000,
          18000000000000,
          39600000000000,
          43200000000000,
          21600000000000,
          25200000000000,
          39600000000000,
          43200000000000,
          21600000000000,
          18000000000000,
          36000000000000,
          36000000000000,
          36000000000000,
          36000000000000,
          43200000000000,
          39600000000000,
          30600000000000,
          36000000000000,
          39600000000000,
          36000000000000,
          39600000000000,
          18000000000000,
          14400000000000,
          36000000000000,
          39600000000000,
          10800000000000,
          18000000000000,
          14400000000000,
          30600000000000,
          10800000000000,
          14400000000000,
          30600000000000,
          10800000000000,
          14400000000000,
          30600000000000,
          14400000000000,
          43200000000000,
          39600000000000,
          39600000000000,
          43200000000000,
          43200000000000,
          43200000000000,
          43200000000000,
          39600000000000,
          39600000000000,
          43200000000000,
          43200000000000,
          39600000000000,
          43200000000000,
          29700000000000,
          14400000000000,
          39600000000000,
          39600000000000,
          43200000000000,
          10800000000000,
          25140000000000,
          14400000000000,
          25200000000000,
          43200000000000,
          43200000000000,
          10800000000000,
          14400000000000,
          28800000000000,
          43200000000000,
          10800000000000,
          29700000000000,
          14400000000000,
          43200000000000,
          14400000000000,
          34200000000000,
          39600000000000,
          39600000000000,
          43200000000000,
          43200000000000,
          39600000000000,
          36000000000000,
          45000000000000,
          43200000000000,
          43200000000000,
          39600000000000,
          25200000000000,
          39600000000000,
          25200000000000,
          25200000000000,
          29700000000000,
          29700000000000,
          43200000000000,
          39600000000000,
          21600000000000,
          45000000000000,
          36000000000000,
          39600000000000,
          30600000000000,
          37800000000000,
          39600000000000,
          30600000000000,
          14400000000000,
          36000000000000,
          43200000000000,
          30600000000000,
          43200000000000,
          43200000000000,
          43200000000000,
          30600000000000,
          43200000000000,
          43200000000000,
          30600000000000,
          49500000000000,
          43200000000000,
          39600000000000,
          43200000000000,
          41100000000000,
          39600000000000,
          43200000000000,
          39600000000000,
          43200000000000,
          43200000000000,
          32400000000000,
          39600000000000,
          43200000000000,
          43200000000000,
          27000000000000,
          39600000000000,
          43200000000000,
          43200000000000,
          43200000000000,
          43200000000000,
          14400000000000,
          43200000000000,
          44100000000000,
          45000000000000,
          43200000000000,
          43200000000000,
          43200000000000,
          39600000000000,
          43200000000000,
          32400000000000,
          39600000000000,
          43200000000000,
          7200000000000,
          43200000000000,
          43200000000000,
          43200000000000,
          43200000000000,
          30600000000000,
          43200000000000,
          43200000000000,
          43200000000000,
          43200000000000,
          30600000000000,
          32400000000000,
          39600000000000,
          41400000000000,
          30600000000000,
          32400000000000,
          39600000000000,
          30600000000000,
          43200000000000,
          39600000000000,
          14400000000000,
          30600000000000,
          43200000000000,
          39600000000000,
          43200000000000,
          43200000000000,
          30600000000000,
          43200000000000,
          43200000000000,
          21600000000000,
          43200000000000,
          43200000000000,
          21600000000000,
          36900000000000,
          39600000000000,
          39600000000000,
          32400000000000,
          36900000000000,
          43200000000000,
          39600000000000,
          32400000000000,
          39600000000000,
          39600000000000,
          43200000000000,
          21600000000000,
          43200000000000,
          39600000000000,
          21600000000000,
          43200000000000,
          43200000000000,
          36900000000000,
          39600000000000,
          43200000000000,
          43200000000000,
          43200000000000,
          32400000000000,
          31500000000000,
          36900000000000,
          43200000000000,
          41400000000000,
          41400000000000,
          43200000000000,
          32400000000000,
          31500000000000,
          40500000000000,
          43200000000000,
          31500000000000,
          40500000000000,
          43200000000000,
          32400000000000,
          43200000000000,
          43200000000000,
          43200000000000,
          43200000000000,
          36900000000000,
          43200000000000,
          36900000000000,
          43200000000000,
          25200000000000,
          36900000000000,
          43200000000000,
          43200000000000,
          43200000000000,
          43200000000000,
          39600000000000,
          43200000000000,
          44100000000000,
          43200000000000,
          43200000000000,
          43200000000000,
          43200000000000,
          43200000000000,
          43200000000000,
          43200000000000,
          43200000000000,
          32400000000000,
          43200000000000,
          32400000000000,
          43200000000000,
          43200000000000,
          43200000000000,
          43200000000000,
          43200000000000,
          43200000000000,
          43200000000000,
          43200000000000,
          129600000000000,
          43200000000000,
          43200000000000,
          43200000000000,
          43200000000000,
          43200000000000,
          28800000000000,
          36900000000000,
          43200000000000,
          43200000000000,
          28800000000000,
          36900000000000,
          43200000000000,
          43200000000000,
          25200000000000,
          36900000000000,
          43200000000000,
          43200000000000,
          43200000000000,
          21600000000000,
          36900000000000,
          39600000000000,
          43200000000000,
          43200000000000,
          21600000000000,
          36900000000000,
          43200000000000,
          25200000000000,
          28800000000000,
          31500000000000,
          36900000000000,
          43200000000000,
          25200000000000,
          28800000000000,
          31500000000000,
          43200000000000,
          25200000000000,
          28800000000000,
          43200000000000,
          18000000000000,
          25200000000000,
          28800000000000,
          43200000000000,
          43200000000000,
          25200000000000,
          28800000000000,
          43200000000000,
          43200000000000,
          43200000000000,
          18000000000000,
          25200000000000,
          43200000000000,
          43200000000000,
          21600000000000,
          21600000000000,
          39600000000000,
          43200000000000,
          25200000000000,
          28800000000000,
          39600000000000,
          43200000000000,
          32400000000000,
          43200000000000,
          21600000000000,
          39600000000000,
          18000000000000,
          25200000000000,
          28800000000000,
          43200000000000,
          43200000000000,
          30600000000000,
          25200000000000,
          21600000000000,
          31500000000000,
          43200000000000,
          43200000000000,
          18000000000000,
          21600000000000,
          31500000000000,
          34200000000000,
          43200000000000,
          43200000000000,
          18000000000000,
          21600000000000,
          31500000000000,
          34200000000000,
          39600000000000,
          43200000000000,
          216000000000000,
          43200000000000,
          25200000000000,
          25200000000000,
          32400000000000,
          21600000000000,
          28800000000000,
          43200000000000,
          18000000000000,
          18000000000000,
          28800000000000,
          28800000000000,
          43200000000000,
          21600000000000,
          39600000000000,
          21600000000000,
          30600000000000,
          30600000000000,
          39600000000000,
          21600000000000,
          39600000000000,
          28800000000000,
          30600000000000,
          28800000000000,
          21600000000000,
          28800000000000,
          28800000000000,
          10800000000000,
          30600000000000,
          43200000000000,
          30600000000000,
          16800000000000,
          30600000000000,
          28800000000000,
          30600000000000,
          28800000000000,
          18000000000000,
          28800000000000,
          18000000000000,
          43200000000000,
          28800000000000,
          18000000000000,
          18000000000000,
          28800000000000,
          30600000000000,
          25200000000000,
          28800000000000,
          34200000000000,
          34200000000000,
          18000000000000,
          28800000000000,
          31500000000000,
          34200000000000,
          18000000000000,
          28800000000000,
          31500000000000,
          30600000000000,
          18000000000000
         ]
        }
       ],
       "layout": {
        "showlegend": false,
        "template": {
         "data": {
          "bar": [
           {
            "error_x": {
             "color": "#2a3f5f"
            },
            "error_y": {
             "color": "#2a3f5f"
            },
            "marker": {
             "line": {
              "color": "#E5ECF6",
              "width": 0.5
             },
             "pattern": {
              "fillmode": "overlay",
              "size": 10,
              "solidity": 0.2
             }
            },
            "type": "bar"
           }
          ],
          "barpolar": [
           {
            "marker": {
             "line": {
              "color": "#E5ECF6",
              "width": 0.5
             },
             "pattern": {
              "fillmode": "overlay",
              "size": 10,
              "solidity": 0.2
             }
            },
            "type": "barpolar"
           }
          ],
          "carpet": [
           {
            "aaxis": {
             "endlinecolor": "#2a3f5f",
             "gridcolor": "white",
             "linecolor": "white",
             "minorgridcolor": "white",
             "startlinecolor": "#2a3f5f"
            },
            "baxis": {
             "endlinecolor": "#2a3f5f",
             "gridcolor": "white",
             "linecolor": "white",
             "minorgridcolor": "white",
             "startlinecolor": "#2a3f5f"
            },
            "type": "carpet"
           }
          ],
          "choropleth": [
           {
            "colorbar": {
             "outlinewidth": 0,
             "ticks": ""
            },
            "type": "choropleth"
           }
          ],
          "contour": [
           {
            "colorbar": {
             "outlinewidth": 0,
             "ticks": ""
            },
            "colorscale": [
             [
              0,
              "#0d0887"
             ],
             [
              0.1111111111111111,
              "#46039f"
             ],
             [
              0.2222222222222222,
              "#7201a8"
             ],
             [
              0.3333333333333333,
              "#9c179e"
             ],
             [
              0.4444444444444444,
              "#bd3786"
             ],
             [
              0.5555555555555556,
              "#d8576b"
             ],
             [
              0.6666666666666666,
              "#ed7953"
             ],
             [
              0.7777777777777778,
              "#fb9f3a"
             ],
             [
              0.8888888888888888,
              "#fdca26"
             ],
             [
              1,
              "#f0f921"
             ]
            ],
            "type": "contour"
           }
          ],
          "contourcarpet": [
           {
            "colorbar": {
             "outlinewidth": 0,
             "ticks": ""
            },
            "type": "contourcarpet"
           }
          ],
          "heatmap": [
           {
            "colorbar": {
             "outlinewidth": 0,
             "ticks": ""
            },
            "colorscale": [
             [
              0,
              "#0d0887"
             ],
             [
              0.1111111111111111,
              "#46039f"
             ],
             [
              0.2222222222222222,
              "#7201a8"
             ],
             [
              0.3333333333333333,
              "#9c179e"
             ],
             [
              0.4444444444444444,
              "#bd3786"
             ],
             [
              0.5555555555555556,
              "#d8576b"
             ],
             [
              0.6666666666666666,
              "#ed7953"
             ],
             [
              0.7777777777777778,
              "#fb9f3a"
             ],
             [
              0.8888888888888888,
              "#fdca26"
             ],
             [
              1,
              "#f0f921"
             ]
            ],
            "type": "heatmap"
           }
          ],
          "heatmapgl": [
           {
            "colorbar": {
             "outlinewidth": 0,
             "ticks": ""
            },
            "colorscale": [
             [
              0,
              "#0d0887"
             ],
             [
              0.1111111111111111,
              "#46039f"
             ],
             [
              0.2222222222222222,
              "#7201a8"
             ],
             [
              0.3333333333333333,
              "#9c179e"
             ],
             [
              0.4444444444444444,
              "#bd3786"
             ],
             [
              0.5555555555555556,
              "#d8576b"
             ],
             [
              0.6666666666666666,
              "#ed7953"
             ],
             [
              0.7777777777777778,
              "#fb9f3a"
             ],
             [
              0.8888888888888888,
              "#fdca26"
             ],
             [
              1,
              "#f0f921"
             ]
            ],
            "type": "heatmapgl"
           }
          ],
          "histogram": [
           {
            "marker": {
             "pattern": {
              "fillmode": "overlay",
              "size": 10,
              "solidity": 0.2
             }
            },
            "type": "histogram"
           }
          ],
          "histogram2d": [
           {
            "colorbar": {
             "outlinewidth": 0,
             "ticks": ""
            },
            "colorscale": [
             [
              0,
              "#0d0887"
             ],
             [
              0.1111111111111111,
              "#46039f"
             ],
             [
              0.2222222222222222,
              "#7201a8"
             ],
             [
              0.3333333333333333,
              "#9c179e"
             ],
             [
              0.4444444444444444,
              "#bd3786"
             ],
             [
              0.5555555555555556,
              "#d8576b"
             ],
             [
              0.6666666666666666,
              "#ed7953"
             ],
             [
              0.7777777777777778,
              "#fb9f3a"
             ],
             [
              0.8888888888888888,
              "#fdca26"
             ],
             [
              1,
              "#f0f921"
             ]
            ],
            "type": "histogram2d"
           }
          ],
          "histogram2dcontour": [
           {
            "colorbar": {
             "outlinewidth": 0,
             "ticks": ""
            },
            "colorscale": [
             [
              0,
              "#0d0887"
             ],
             [
              0.1111111111111111,
              "#46039f"
             ],
             [
              0.2222222222222222,
              "#7201a8"
             ],
             [
              0.3333333333333333,
              "#9c179e"
             ],
             [
              0.4444444444444444,
              "#bd3786"
             ],
             [
              0.5555555555555556,
              "#d8576b"
             ],
             [
              0.6666666666666666,
              "#ed7953"
             ],
             [
              0.7777777777777778,
              "#fb9f3a"
             ],
             [
              0.8888888888888888,
              "#fdca26"
             ],
             [
              1,
              "#f0f921"
             ]
            ],
            "type": "histogram2dcontour"
           }
          ],
          "mesh3d": [
           {
            "colorbar": {
             "outlinewidth": 0,
             "ticks": ""
            },
            "type": "mesh3d"
           }
          ],
          "parcoords": [
           {
            "line": {
             "colorbar": {
              "outlinewidth": 0,
              "ticks": ""
             }
            },
            "type": "parcoords"
           }
          ],
          "pie": [
           {
            "automargin": true,
            "type": "pie"
           }
          ],
          "scatter": [
           {
            "fillpattern": {
             "fillmode": "overlay",
             "size": 10,
             "solidity": 0.2
            },
            "type": "scatter"
           }
          ],
          "scatter3d": [
           {
            "line": {
             "colorbar": {
              "outlinewidth": 0,
              "ticks": ""
             }
            },
            "marker": {
             "colorbar": {
              "outlinewidth": 0,
              "ticks": ""
             }
            },
            "type": "scatter3d"
           }
          ],
          "scattercarpet": [
           {
            "marker": {
             "colorbar": {
              "outlinewidth": 0,
              "ticks": ""
             }
            },
            "type": "scattercarpet"
           }
          ],
          "scattergeo": [
           {
            "marker": {
             "colorbar": {
              "outlinewidth": 0,
              "ticks": ""
             }
            },
            "type": "scattergeo"
           }
          ],
          "scattergl": [
           {
            "marker": {
             "colorbar": {
              "outlinewidth": 0,
              "ticks": ""
             }
            },
            "type": "scattergl"
           }
          ],
          "scattermapbox": [
           {
            "marker": {
             "colorbar": {
              "outlinewidth": 0,
              "ticks": ""
             }
            },
            "type": "scattermapbox"
           }
          ],
          "scatterpolar": [
           {
            "marker": {
             "colorbar": {
              "outlinewidth": 0,
              "ticks": ""
             }
            },
            "type": "scatterpolar"
           }
          ],
          "scatterpolargl": [
           {
            "marker": {
             "colorbar": {
              "outlinewidth": 0,
              "ticks": ""
             }
            },
            "type": "scatterpolargl"
           }
          ],
          "scatterternary": [
           {
            "marker": {
             "colorbar": {
              "outlinewidth": 0,
              "ticks": ""
             }
            },
            "type": "scatterternary"
           }
          ],
          "surface": [
           {
            "colorbar": {
             "outlinewidth": 0,
             "ticks": ""
            },
            "colorscale": [
             [
              0,
              "#0d0887"
             ],
             [
              0.1111111111111111,
              "#46039f"
             ],
             [
              0.2222222222222222,
              "#7201a8"
             ],
             [
              0.3333333333333333,
              "#9c179e"
             ],
             [
              0.4444444444444444,
              "#bd3786"
             ],
             [
              0.5555555555555556,
              "#d8576b"
             ],
             [
              0.6666666666666666,
              "#ed7953"
             ],
             [
              0.7777777777777778,
              "#fb9f3a"
             ],
             [
              0.8888888888888888,
              "#fdca26"
             ],
             [
              1,
              "#f0f921"
             ]
            ],
            "type": "surface"
           }
          ],
          "table": [
           {
            "cells": {
             "fill": {
              "color": "#EBF0F8"
             },
             "line": {
              "color": "white"
             }
            },
            "header": {
             "fill": {
              "color": "#C8D4E3"
             },
             "line": {
              "color": "white"
             }
            },
            "type": "table"
           }
          ]
         },
         "layout": {
          "annotationdefaults": {
           "arrowcolor": "#2a3f5f",
           "arrowhead": 0,
           "arrowwidth": 1
          },
          "autotypenumbers": "strict",
          "coloraxis": {
           "colorbar": {
            "outlinewidth": 0,
            "ticks": ""
           }
          },
          "colorscale": {
           "diverging": [
            [
             0,
             "#8e0152"
            ],
            [
             0.1,
             "#c51b7d"
            ],
            [
             0.2,
             "#de77ae"
            ],
            [
             0.3,
             "#f1b6da"
            ],
            [
             0.4,
             "#fde0ef"
            ],
            [
             0.5,
             "#f7f7f7"
            ],
            [
             0.6,
             "#e6f5d0"
            ],
            [
             0.7,
             "#b8e186"
            ],
            [
             0.8,
             "#7fbc41"
            ],
            [
             0.9,
             "#4d9221"
            ],
            [
             1,
             "#276419"
            ]
           ],
           "sequential": [
            [
             0,
             "#0d0887"
            ],
            [
             0.1111111111111111,
             "#46039f"
            ],
            [
             0.2222222222222222,
             "#7201a8"
            ],
            [
             0.3333333333333333,
             "#9c179e"
            ],
            [
             0.4444444444444444,
             "#bd3786"
            ],
            [
             0.5555555555555556,
             "#d8576b"
            ],
            [
             0.6666666666666666,
             "#ed7953"
            ],
            [
             0.7777777777777778,
             "#fb9f3a"
            ],
            [
             0.8888888888888888,
             "#fdca26"
            ],
            [
             1,
             "#f0f921"
            ]
           ],
           "sequentialminus": [
            [
             0,
             "#0d0887"
            ],
            [
             0.1111111111111111,
             "#46039f"
            ],
            [
             0.2222222222222222,
             "#7201a8"
            ],
            [
             0.3333333333333333,
             "#9c179e"
            ],
            [
             0.4444444444444444,
             "#bd3786"
            ],
            [
             0.5555555555555556,
             "#d8576b"
            ],
            [
             0.6666666666666666,
             "#ed7953"
            ],
            [
             0.7777777777777778,
             "#fb9f3a"
            ],
            [
             0.8888888888888888,
             "#fdca26"
            ],
            [
             1,
             "#f0f921"
            ]
           ]
          },
          "colorway": [
           "#636efa",
           "#EF553B",
           "#00cc96",
           "#ab63fa",
           "#FFA15A",
           "#19d3f3",
           "#FF6692",
           "#B6E880",
           "#FF97FF",
           "#FECB52"
          ],
          "font": {
           "color": "#2a3f5f"
          },
          "geo": {
           "bgcolor": "white",
           "lakecolor": "white",
           "landcolor": "#E5ECF6",
           "showlakes": true,
           "showland": true,
           "subunitcolor": "white"
          },
          "hoverlabel": {
           "align": "left"
          },
          "hovermode": "closest",
          "mapbox": {
           "style": "light"
          },
          "paper_bgcolor": "white",
          "plot_bgcolor": "#E5ECF6",
          "polar": {
           "angularaxis": {
            "gridcolor": "white",
            "linecolor": "white",
            "ticks": ""
           },
           "bgcolor": "#E5ECF6",
           "radialaxis": {
            "gridcolor": "white",
            "linecolor": "white",
            "ticks": ""
           }
          },
          "scene": {
           "xaxis": {
            "backgroundcolor": "#E5ECF6",
            "gridcolor": "white",
            "gridwidth": 2,
            "linecolor": "white",
            "showbackground": true,
            "ticks": "",
            "zerolinecolor": "white"
           },
           "yaxis": {
            "backgroundcolor": "#E5ECF6",
            "gridcolor": "white",
            "gridwidth": 2,
            "linecolor": "white",
            "showbackground": true,
            "ticks": "",
            "zerolinecolor": "white"
           },
           "zaxis": {
            "backgroundcolor": "#E5ECF6",
            "gridcolor": "white",
            "gridwidth": 2,
            "linecolor": "white",
            "showbackground": true,
            "ticks": "",
            "zerolinecolor": "white"
           }
          },
          "shapedefaults": {
           "line": {
            "color": "#2a3f5f"
           }
          },
          "ternary": {
           "aaxis": {
            "gridcolor": "white",
            "linecolor": "white",
            "ticks": ""
           },
           "baxis": {
            "gridcolor": "white",
            "linecolor": "white",
            "ticks": ""
           },
           "bgcolor": "#E5ECF6",
           "caxis": {
            "gridcolor": "white",
            "linecolor": "white",
            "ticks": ""
           }
          },
          "title": {
           "x": 0.05
          },
          "xaxis": {
           "automargin": true,
           "gridcolor": "white",
           "linecolor": "white",
           "ticks": "",
           "title": {
            "standoff": 15
           },
           "zerolinecolor": "white",
           "zerolinewidth": 2
          },
          "yaxis": {
           "automargin": true,
           "gridcolor": "white",
           "linecolor": "white",
           "ticks": "",
           "title": {
            "standoff": 15
           },
           "zerolinecolor": "white",
           "zerolinewidth": 2
          }
         }
        },
        "title": {
         "text": "Nombre de missions par hôtel"
        },
        "xaxis": {
         "title": {
          "text": "Hôtels"
         }
        },
        "yaxis": {
         "title": {
          "text": "Nombre de missions"
         }
        }
       }
      }
     },
     "metadata": {},
     "output_type": "display_data"
    }
   ],
   "source": [
    "import plotly.express as px\n",
    "\n",
    "trace = go.Bar(x=data[\"periode_debut\"], y=data[\"time_delta\"])## nanoseconds to hours\n",
    "\n",
    "fig = go.Figure(data=[trace])\n",
    "# Change the bar mode\n",
    "fig.update_layout(title=\"Nombre de missions par hôtel\",\n",
    "                  showlegend=False)\n",
    "\n",
    "fig.update_traces(dict(marker_line_width=0))\n",
    "\n",
    "\n",
    "fig.update_xaxes(title_text='Hôtels')\n",
    "fig.update_yaxes(title_text='Nombre de missions')\n",
    "\n",
    "\n",
    "fig.show()\n"
   ]
  },
  {
   "cell_type": "code",
   "execution_count": 45,
   "metadata": {},
   "outputs": [
    {
     "data": {
      "text/plain": [
       "statuts\n",
       "annulé     392\n",
       "urgente    225\n",
       "Name: count, dtype: int64"
      ]
     },
     "execution_count": 45,
     "metadata": {},
     "output_type": "execute_result"
    }
   ],
   "source": [
    "data[\"statuts\"].value_counts()"
   ]
  },
  {
   "cell_type": "code",
   "execution_count": 46,
   "metadata": {},
   "outputs": [],
   "source": [
    "data[\"statuts\"] = data[\"statuts\"].fillna(\"standard\")"
   ]
  },
  {
   "cell_type": "code",
   "execution_count": 47,
   "metadata": {},
   "outputs": [
    {
     "data": {
      "application/vnd.plotly.v1+json": {
       "config": {
        "plotlyServerURL": "https://plot.ly"
       },
       "data": [
        {
         "alignmentgroup": "True",
         "hovertemplate": "statuts=standard<br>Propriété_clean=%{x}<br>Propriété=%{y}<extra></extra>",
         "legendgroup": "standard",
         "marker": {
          "color": "#636efa",
          "pattern": {
           "shape": ""
          }
         },
         "name": "standard",
         "offsetgroup": "standard",
         "orientation": "v",
         "showlegend": true,
         "textposition": "auto",
         "type": "bar",
         "x": [
          "Ibis Montparnasse",
          "Milie Rose",
          "Imprimerie",
          "Touraine",
          "Drawing House",
          "Les Deux Girafes",
          "Yllen Eiffel",
          "Alberte ",
          "Courseine",
          "Le Grand Quartier",
          "Monte Cristo"
         ],
         "xaxis": "x",
         "y": [
          47,
          14,
          10,
          8,
          4,
          3,
          2,
          2,
          2,
          2,
          1
         ],
         "yaxis": "y"
        },
        {
         "alignmentgroup": "True",
         "hovertemplate": "statuts=urgente<br>Propriété_clean=%{x}<br>Propriété=%{y}<extra></extra>",
         "legendgroup": "urgente",
         "marker": {
          "color": "#EF553B",
          "pattern": {
           "shape": ""
          }
         },
         "name": "urgente",
         "offsetgroup": "urgente",
         "orientation": "v",
         "showlegend": true,
         "textposition": "auto",
         "type": "bar",
         "x": [
          "Ibis Montparnasse",
          "Courseine",
          "Touraine",
          "Milie Rose",
          "Chouchou",
          "Drawing House",
          "Monte Cristo",
          "Victoire et Germain"
         ],
         "xaxis": "x",
         "y": [
          6,
          3,
          2,
          2,
          1,
          1,
          1,
          1
         ],
         "yaxis": "y"
        }
       ],
       "layout": {
        "barmode": "relative",
        "legend": {
         "title": {
          "text": "statuts"
         },
         "tracegroupgap": 0
        },
        "margin": {
         "t": 60
        },
        "template": {
         "data": {
          "bar": [
           {
            "error_x": {
             "color": "#2a3f5f"
            },
            "error_y": {
             "color": "#2a3f5f"
            },
            "marker": {
             "line": {
              "color": "#E5ECF6",
              "width": 0.5
             },
             "pattern": {
              "fillmode": "overlay",
              "size": 10,
              "solidity": 0.2
             }
            },
            "type": "bar"
           }
          ],
          "barpolar": [
           {
            "marker": {
             "line": {
              "color": "#E5ECF6",
              "width": 0.5
             },
             "pattern": {
              "fillmode": "overlay",
              "size": 10,
              "solidity": 0.2
             }
            },
            "type": "barpolar"
           }
          ],
          "carpet": [
           {
            "aaxis": {
             "endlinecolor": "#2a3f5f",
             "gridcolor": "white",
             "linecolor": "white",
             "minorgridcolor": "white",
             "startlinecolor": "#2a3f5f"
            },
            "baxis": {
             "endlinecolor": "#2a3f5f",
             "gridcolor": "white",
             "linecolor": "white",
             "minorgridcolor": "white",
             "startlinecolor": "#2a3f5f"
            },
            "type": "carpet"
           }
          ],
          "choropleth": [
           {
            "colorbar": {
             "outlinewidth": 0,
             "ticks": ""
            },
            "type": "choropleth"
           }
          ],
          "contour": [
           {
            "colorbar": {
             "outlinewidth": 0,
             "ticks": ""
            },
            "colorscale": [
             [
              0,
              "#0d0887"
             ],
             [
              0.1111111111111111,
              "#46039f"
             ],
             [
              0.2222222222222222,
              "#7201a8"
             ],
             [
              0.3333333333333333,
              "#9c179e"
             ],
             [
              0.4444444444444444,
              "#bd3786"
             ],
             [
              0.5555555555555556,
              "#d8576b"
             ],
             [
              0.6666666666666666,
              "#ed7953"
             ],
             [
              0.7777777777777778,
              "#fb9f3a"
             ],
             [
              0.8888888888888888,
              "#fdca26"
             ],
             [
              1,
              "#f0f921"
             ]
            ],
            "type": "contour"
           }
          ],
          "contourcarpet": [
           {
            "colorbar": {
             "outlinewidth": 0,
             "ticks": ""
            },
            "type": "contourcarpet"
           }
          ],
          "heatmap": [
           {
            "colorbar": {
             "outlinewidth": 0,
             "ticks": ""
            },
            "colorscale": [
             [
              0,
              "#0d0887"
             ],
             [
              0.1111111111111111,
              "#46039f"
             ],
             [
              0.2222222222222222,
              "#7201a8"
             ],
             [
              0.3333333333333333,
              "#9c179e"
             ],
             [
              0.4444444444444444,
              "#bd3786"
             ],
             [
              0.5555555555555556,
              "#d8576b"
             ],
             [
              0.6666666666666666,
              "#ed7953"
             ],
             [
              0.7777777777777778,
              "#fb9f3a"
             ],
             [
              0.8888888888888888,
              "#fdca26"
             ],
             [
              1,
              "#f0f921"
             ]
            ],
            "type": "heatmap"
           }
          ],
          "heatmapgl": [
           {
            "colorbar": {
             "outlinewidth": 0,
             "ticks": ""
            },
            "colorscale": [
             [
              0,
              "#0d0887"
             ],
             [
              0.1111111111111111,
              "#46039f"
             ],
             [
              0.2222222222222222,
              "#7201a8"
             ],
             [
              0.3333333333333333,
              "#9c179e"
             ],
             [
              0.4444444444444444,
              "#bd3786"
             ],
             [
              0.5555555555555556,
              "#d8576b"
             ],
             [
              0.6666666666666666,
              "#ed7953"
             ],
             [
              0.7777777777777778,
              "#fb9f3a"
             ],
             [
              0.8888888888888888,
              "#fdca26"
             ],
             [
              1,
              "#f0f921"
             ]
            ],
            "type": "heatmapgl"
           }
          ],
          "histogram": [
           {
            "marker": {
             "pattern": {
              "fillmode": "overlay",
              "size": 10,
              "solidity": 0.2
             }
            },
            "type": "histogram"
           }
          ],
          "histogram2d": [
           {
            "colorbar": {
             "outlinewidth": 0,
             "ticks": ""
            },
            "colorscale": [
             [
              0,
              "#0d0887"
             ],
             [
              0.1111111111111111,
              "#46039f"
             ],
             [
              0.2222222222222222,
              "#7201a8"
             ],
             [
              0.3333333333333333,
              "#9c179e"
             ],
             [
              0.4444444444444444,
              "#bd3786"
             ],
             [
              0.5555555555555556,
              "#d8576b"
             ],
             [
              0.6666666666666666,
              "#ed7953"
             ],
             [
              0.7777777777777778,
              "#fb9f3a"
             ],
             [
              0.8888888888888888,
              "#fdca26"
             ],
             [
              1,
              "#f0f921"
             ]
            ],
            "type": "histogram2d"
           }
          ],
          "histogram2dcontour": [
           {
            "colorbar": {
             "outlinewidth": 0,
             "ticks": ""
            },
            "colorscale": [
             [
              0,
              "#0d0887"
             ],
             [
              0.1111111111111111,
              "#46039f"
             ],
             [
              0.2222222222222222,
              "#7201a8"
             ],
             [
              0.3333333333333333,
              "#9c179e"
             ],
             [
              0.4444444444444444,
              "#bd3786"
             ],
             [
              0.5555555555555556,
              "#d8576b"
             ],
             [
              0.6666666666666666,
              "#ed7953"
             ],
             [
              0.7777777777777778,
              "#fb9f3a"
             ],
             [
              0.8888888888888888,
              "#fdca26"
             ],
             [
              1,
              "#f0f921"
             ]
            ],
            "type": "histogram2dcontour"
           }
          ],
          "mesh3d": [
           {
            "colorbar": {
             "outlinewidth": 0,
             "ticks": ""
            },
            "type": "mesh3d"
           }
          ],
          "parcoords": [
           {
            "line": {
             "colorbar": {
              "outlinewidth": 0,
              "ticks": ""
             }
            },
            "type": "parcoords"
           }
          ],
          "pie": [
           {
            "automargin": true,
            "type": "pie"
           }
          ],
          "scatter": [
           {
            "fillpattern": {
             "fillmode": "overlay",
             "size": 10,
             "solidity": 0.2
            },
            "type": "scatter"
           }
          ],
          "scatter3d": [
           {
            "line": {
             "colorbar": {
              "outlinewidth": 0,
              "ticks": ""
             }
            },
            "marker": {
             "colorbar": {
              "outlinewidth": 0,
              "ticks": ""
             }
            },
            "type": "scatter3d"
           }
          ],
          "scattercarpet": [
           {
            "marker": {
             "colorbar": {
              "outlinewidth": 0,
              "ticks": ""
             }
            },
            "type": "scattercarpet"
           }
          ],
          "scattergeo": [
           {
            "marker": {
             "colorbar": {
              "outlinewidth": 0,
              "ticks": ""
             }
            },
            "type": "scattergeo"
           }
          ],
          "scattergl": [
           {
            "marker": {
             "colorbar": {
              "outlinewidth": 0,
              "ticks": ""
             }
            },
            "type": "scattergl"
           }
          ],
          "scattermapbox": [
           {
            "marker": {
             "colorbar": {
              "outlinewidth": 0,
              "ticks": ""
             }
            },
            "type": "scattermapbox"
           }
          ],
          "scatterpolar": [
           {
            "marker": {
             "colorbar": {
              "outlinewidth": 0,
              "ticks": ""
             }
            },
            "type": "scatterpolar"
           }
          ],
          "scatterpolargl": [
           {
            "marker": {
             "colorbar": {
              "outlinewidth": 0,
              "ticks": ""
             }
            },
            "type": "scatterpolargl"
           }
          ],
          "scatterternary": [
           {
            "marker": {
             "colorbar": {
              "outlinewidth": 0,
              "ticks": ""
             }
            },
            "type": "scatterternary"
           }
          ],
          "surface": [
           {
            "colorbar": {
             "outlinewidth": 0,
             "ticks": ""
            },
            "colorscale": [
             [
              0,
              "#0d0887"
             ],
             [
              0.1111111111111111,
              "#46039f"
             ],
             [
              0.2222222222222222,
              "#7201a8"
             ],
             [
              0.3333333333333333,
              "#9c179e"
             ],
             [
              0.4444444444444444,
              "#bd3786"
             ],
             [
              0.5555555555555556,
              "#d8576b"
             ],
             [
              0.6666666666666666,
              "#ed7953"
             ],
             [
              0.7777777777777778,
              "#fb9f3a"
             ],
             [
              0.8888888888888888,
              "#fdca26"
             ],
             [
              1,
              "#f0f921"
             ]
            ],
            "type": "surface"
           }
          ],
          "table": [
           {
            "cells": {
             "fill": {
              "color": "#EBF0F8"
             },
             "line": {
              "color": "white"
             }
            },
            "header": {
             "fill": {
              "color": "#C8D4E3"
             },
             "line": {
              "color": "white"
             }
            },
            "type": "table"
           }
          ]
         },
         "layout": {
          "annotationdefaults": {
           "arrowcolor": "#2a3f5f",
           "arrowhead": 0,
           "arrowwidth": 1
          },
          "autotypenumbers": "strict",
          "coloraxis": {
           "colorbar": {
            "outlinewidth": 0,
            "ticks": ""
           }
          },
          "colorscale": {
           "diverging": [
            [
             0,
             "#8e0152"
            ],
            [
             0.1,
             "#c51b7d"
            ],
            [
             0.2,
             "#de77ae"
            ],
            [
             0.3,
             "#f1b6da"
            ],
            [
             0.4,
             "#fde0ef"
            ],
            [
             0.5,
             "#f7f7f7"
            ],
            [
             0.6,
             "#e6f5d0"
            ],
            [
             0.7,
             "#b8e186"
            ],
            [
             0.8,
             "#7fbc41"
            ],
            [
             0.9,
             "#4d9221"
            ],
            [
             1,
             "#276419"
            ]
           ],
           "sequential": [
            [
             0,
             "#0d0887"
            ],
            [
             0.1111111111111111,
             "#46039f"
            ],
            [
             0.2222222222222222,
             "#7201a8"
            ],
            [
             0.3333333333333333,
             "#9c179e"
            ],
            [
             0.4444444444444444,
             "#bd3786"
            ],
            [
             0.5555555555555556,
             "#d8576b"
            ],
            [
             0.6666666666666666,
             "#ed7953"
            ],
            [
             0.7777777777777778,
             "#fb9f3a"
            ],
            [
             0.8888888888888888,
             "#fdca26"
            ],
            [
             1,
             "#f0f921"
            ]
           ],
           "sequentialminus": [
            [
             0,
             "#0d0887"
            ],
            [
             0.1111111111111111,
             "#46039f"
            ],
            [
             0.2222222222222222,
             "#7201a8"
            ],
            [
             0.3333333333333333,
             "#9c179e"
            ],
            [
             0.4444444444444444,
             "#bd3786"
            ],
            [
             0.5555555555555556,
             "#d8576b"
            ],
            [
             0.6666666666666666,
             "#ed7953"
            ],
            [
             0.7777777777777778,
             "#fb9f3a"
            ],
            [
             0.8888888888888888,
             "#fdca26"
            ],
            [
             1,
             "#f0f921"
            ]
           ]
          },
          "colorway": [
           "#636efa",
           "#EF553B",
           "#00cc96",
           "#ab63fa",
           "#FFA15A",
           "#19d3f3",
           "#FF6692",
           "#B6E880",
           "#FF97FF",
           "#FECB52"
          ],
          "font": {
           "color": "#2a3f5f"
          },
          "geo": {
           "bgcolor": "white",
           "lakecolor": "white",
           "landcolor": "#E5ECF6",
           "showlakes": true,
           "showland": true,
           "subunitcolor": "white"
          },
          "hoverlabel": {
           "align": "left"
          },
          "hovermode": "closest",
          "mapbox": {
           "style": "light"
          },
          "paper_bgcolor": "white",
          "plot_bgcolor": "#E5ECF6",
          "polar": {
           "angularaxis": {
            "gridcolor": "white",
            "linecolor": "white",
            "ticks": ""
           },
           "bgcolor": "#E5ECF6",
           "radialaxis": {
            "gridcolor": "white",
            "linecolor": "white",
            "ticks": ""
           }
          },
          "scene": {
           "xaxis": {
            "backgroundcolor": "#E5ECF6",
            "gridcolor": "white",
            "gridwidth": 2,
            "linecolor": "white",
            "showbackground": true,
            "ticks": "",
            "zerolinecolor": "white"
           },
           "yaxis": {
            "backgroundcolor": "#E5ECF6",
            "gridcolor": "white",
            "gridwidth": 2,
            "linecolor": "white",
            "showbackground": true,
            "ticks": "",
            "zerolinecolor": "white"
           },
           "zaxis": {
            "backgroundcolor": "#E5ECF6",
            "gridcolor": "white",
            "gridwidth": 2,
            "linecolor": "white",
            "showbackground": true,
            "ticks": "",
            "zerolinecolor": "white"
           }
          },
          "shapedefaults": {
           "line": {
            "color": "#2a3f5f"
           }
          },
          "ternary": {
           "aaxis": {
            "gridcolor": "white",
            "linecolor": "white",
            "ticks": ""
           },
           "baxis": {
            "gridcolor": "white",
            "linecolor": "white",
            "ticks": ""
           },
           "bgcolor": "#E5ECF6",
           "caxis": {
            "gridcolor": "white",
            "linecolor": "white",
            "ticks": ""
           }
          },
          "title": {
           "x": 0.05
          },
          "xaxis": {
           "automargin": true,
           "gridcolor": "white",
           "linecolor": "white",
           "ticks": "",
           "title": {
            "standoff": 15
           },
           "zerolinecolor": "white",
           "zerolinewidth": 2
          },
          "yaxis": {
           "automargin": true,
           "gridcolor": "white",
           "linecolor": "white",
           "ticks": "",
           "title": {
            "standoff": 15
           },
           "zerolinecolor": "white",
           "zerolinewidth": 2
          }
         }
        },
        "xaxis": {
         "anchor": "y",
         "domain": [
          0,
          1
         ],
         "title": {
          "text": "Propriété_clean"
         }
        },
        "yaxis": {
         "anchor": "x",
         "domain": [
          0,
          1
         ],
         "title": {
          "text": "Propriété"
         }
        }
       }
      }
     },
     "metadata": {},
     "output_type": "display_data"
    }
   ],
   "source": [
    "months = data[\"periode_debut\"].unique()\n",
    "\n",
    "monthly_missions_status = data[data[\"periode_debut\"] == months[1]].groupby([\"Propriété_clean\", \"statuts\"]).count().sort_values(by=\"hôtel\", ascending=False).reset_index().iloc[:,:3]\n",
    "monthly_missions_status\n",
    "\n",
    "fig = px.bar(monthly_missions_status, x=\"Propriété_clean\", y=\"Propriété\", color=\"statuts\")\n",
    "fig.show()"
   ]
  },
  {
   "cell_type": "code",
   "execution_count": 48,
   "metadata": {},
   "outputs": [],
   "source": [
    "date = \"04-6\"\n",
    "if date == any:\n",
    "    print(True)"
   ]
  },
  {
   "cell_type": "code",
   "execution_count": 49,
   "metadata": {},
   "outputs": [
    {
     "ename": "ModuleNotFoundError",
     "evalue": "No module named 'seaborn'",
     "output_type": "error",
     "traceback": [
      "\u001b[0;31m---------------------------------------------------------------------------\u001b[0m",
      "\u001b[0;31mModuleNotFoundError\u001b[0m                       Traceback (most recent call last)",
      "\u001b[1;32m/home/nicolasleurs/Documents/Jedha/Formation/Z-Projects/Qualiextra/support_nico.ipynb Cell 24\u001b[0m line \u001b[0;36m1\n\u001b[0;32m----> <a href='vscode-notebook-cell:/home/nicolasleurs/Documents/Jedha/Formation/Z-Projects/Qualiextra/support_nico.ipynb#X32sZmlsZQ%3D%3D?line=0'>1</a>\u001b[0m \u001b[39mimport\u001b[39;00m \u001b[39mseaborn\u001b[39;00m \u001b[39mas\u001b[39;00m \u001b[39msns\u001b[39;00m\n\u001b[1;32m      <a href='vscode-notebook-cell:/home/nicolasleurs/Documents/Jedha/Formation/Z-Projects/Qualiextra/support_nico.ipynb#X32sZmlsZQ%3D%3D?line=2'>3</a>\u001b[0m months \u001b[39m=\u001b[39m data[\u001b[39m\"\u001b[39m\u001b[39mperiode_debut\u001b[39m\u001b[39m\"\u001b[39m]\u001b[39m.\u001b[39munique()\n\u001b[1;32m      <a href='vscode-notebook-cell:/home/nicolasleurs/Documents/Jedha/Formation/Z-Projects/Qualiextra/support_nico.ipynb#X32sZmlsZQ%3D%3D?line=3'>4</a>\u001b[0m custom_palette \u001b[39m=\u001b[39m sns\u001b[39m.\u001b[39mcolor_palette(\u001b[39m\"\u001b[39m\u001b[39mtab10\u001b[39m\u001b[39m\"\u001b[39m, \u001b[39m27\u001b[39m)\u001b[39m.\u001b[39mas_hex()\n",
      "\u001b[0;31mModuleNotFoundError\u001b[0m: No module named 'seaborn'"
     ]
    }
   ],
   "source": [
    "import seaborn as sns\n",
    "\n",
    "months = data[\"periode_debut\"].unique()\n",
    "custom_palette = sns.color_palette(\"tab10\", 27).as_hex()\n",
    "fig = go.Figure()\n",
    "\n",
    "\n",
    "for i in range(len(months)) : \n",
    "        if i == 0:\n",
    "                fig.add_trace(\n",
    "                        go.Bar(x=data[data[\"periode_debut\"] == months[i]].groupby(\"Propriété_clean\").count().sort_values(by=\"hôtel\", ascending=False).index, \n",
    "                               y=data[data[\"periode_debut\"] == months[i]].groupby(\"Propriété_clean\").count().sort_values(by=\"hôtel\", ascending=False).hôtel, \n",
    "                               visible = True,\n",
    "                               marker_color=custom_palette[i]))\n",
    "\n",
    "        else:\n",
    "                fig.add_trace(\n",
    "                        go.Bar(x=data[data[\"periode_debut\"] == months[i]].groupby(\"Propriété_clean\").count().sort_values(by=\"hôtel\", ascending=False).index, \n",
    "                               y=data[data[\"periode_debut\"] == months[i]].groupby(\"Propriété_clean\").count().sort_values(by=\"hôtel\", ascending=False).hôtel, \n",
    "                               visible = False,\n",
    "                               marker_color=custom_palette[i]))\n",
    "\n",
    "fig.update_layout(\n",
    "        title = go.layout.Title(text = \"Number of monthly observations in one year\", x = 0.5),\n",
    "        autosize=False,\n",
    "        showlegend=False,\n",
    "        width=1500,\n",
    "        height=700\n",
    "        )\n",
    "\n",
    "buttons = [\n",
    "    go.layout.updatemenu.Button(\n",
    "        label=month,\n",
    "        method='update',\n",
    "        args=[{'visible': [m == month for m in months]}]\n",
    "    )\n",
    "    for month in months\n",
    "]\n",
    "\n",
    "\n",
    "fig.update_layout(\n",
    "        updatemenus = [go.layout.Updatemenu(\n",
    "                active = 0,\n",
    "                buttons= buttons\n",
    "                          )]\n",
    ")"
   ]
  },
  {
   "cell_type": "code",
   "execution_count": null,
   "metadata": {},
   "outputs": [
    {
     "data": {
      "application/vnd.plotly.v1+json": {
       "config": {
        "plotlyServerURL": "https://plot.ly"
       },
       "data": [
        {
         "marker": {
          "color": "#1f77b4"
         },
         "type": "bar",
         "visible": true,
         "x": [
          "Crystal",
          "Milie Rose",
          "Touraine"
         ],
         "y": [
          2,
          5,
          3
         ]
        },
        {
         "marker": {
          "color": "#ff7f0e"
         },
         "type": "bar",
         "visible": false,
         "x": [
          "Alberte ",
          "Apogé",
          "Chouchou",
          "Courseine",
          "Crystal",
          "Drawing House",
          "Edouard VI",
          "French Theory",
          "Ibis Montparnasse",
          "Imprimerie",
          "Le Grand Quartier",
          "Le Roch Hotel",
          "Les Deux Girafes",
          "MT solutions ",
          "Marceau",
          "Milie Rose",
          "Mont Dore",
          "Monte Cristo",
          "Parisianer",
          "Parisis",
          "Peper and paper ",
          "Prélude",
          "Quinzerie hotel",
          "Select Hotel",
          "Touraine",
          "Tsuba",
          "Victoire et Germain",
          "Yllen Eiffel"
         ],
         "y": [
          5,
          31,
          12,
          40,
          60,
          82,
          23,
          40,
          869,
          236,
          283,
          3,
          59,
          19,
          145,
          214,
          1,
          47,
          17,
          29,
          1,
          17,
          20,
          255,
          68,
          116,
          26,
          109
         ]
        },
        {
         "marker": {
          "color": "#2ca02c"
         },
         "type": "bar",
         "visible": false,
         "x": [
          "Apogé",
          "Bleu de Grenelle",
          "Courseine",
          "Crystal",
          "Drawing House",
          "Edouard VI",
          "French Theory",
          "Home Moderne",
          "Ibis Montparnasse",
          "Imprimerie",
          "La Belle Ville",
          "Le Grand Quartier",
          "Les Deux Girafes",
          "Marceau",
          "Mathurin",
          "Milie Rose",
          "Mont Dore",
          "Monte Cristo",
          "Parisianer",
          "Prélude",
          "Select Hotel",
          "Touraine",
          "Tsuba",
          "Victoire et Germain",
          "Yllen Eiffel"
         ],
         "y": [
          30,
          5,
          74,
          81,
          62,
          58,
          29,
          2,
          405,
          220,
          42,
          133,
          24,
          103,
          3,
          33,
          1,
          43,
          54,
          105,
          55,
          39,
          100,
          53,
          87
         ]
        },
        {
         "marker": {
          "color": "#d62728"
         },
         "type": "bar",
         "visible": false,
         "x": [
          "Courseine",
          "Ibis Montparnasse",
          "Marceau",
          "Monte Cristo",
          "Prélude",
          "Touraine",
          "Tsuba",
          "Victoire et Germain"
         ],
         "y": [
          5,
          17,
          2,
          4,
          31,
          5,
          8,
          10
         ]
        }
       ],
       "layout": {
        "autosize": false,
        "height": 700,
        "showlegend": false,
        "template": {
         "data": {
          "bar": [
           {
            "error_x": {
             "color": "#2a3f5f"
            },
            "error_y": {
             "color": "#2a3f5f"
            },
            "marker": {
             "line": {
              "color": "#E5ECF6",
              "width": 0.5
             },
             "pattern": {
              "fillmode": "overlay",
              "size": 10,
              "solidity": 0.2
             }
            },
            "type": "bar"
           }
          ],
          "barpolar": [
           {
            "marker": {
             "line": {
              "color": "#E5ECF6",
              "width": 0.5
             },
             "pattern": {
              "fillmode": "overlay",
              "size": 10,
              "solidity": 0.2
             }
            },
            "type": "barpolar"
           }
          ],
          "carpet": [
           {
            "aaxis": {
             "endlinecolor": "#2a3f5f",
             "gridcolor": "white",
             "linecolor": "white",
             "minorgridcolor": "white",
             "startlinecolor": "#2a3f5f"
            },
            "baxis": {
             "endlinecolor": "#2a3f5f",
             "gridcolor": "white",
             "linecolor": "white",
             "minorgridcolor": "white",
             "startlinecolor": "#2a3f5f"
            },
            "type": "carpet"
           }
          ],
          "choropleth": [
           {
            "colorbar": {
             "outlinewidth": 0,
             "ticks": ""
            },
            "type": "choropleth"
           }
          ],
          "contour": [
           {
            "colorbar": {
             "outlinewidth": 0,
             "ticks": ""
            },
            "colorscale": [
             [
              0,
              "#0d0887"
             ],
             [
              0.1111111111111111,
              "#46039f"
             ],
             [
              0.2222222222222222,
              "#7201a8"
             ],
             [
              0.3333333333333333,
              "#9c179e"
             ],
             [
              0.4444444444444444,
              "#bd3786"
             ],
             [
              0.5555555555555556,
              "#d8576b"
             ],
             [
              0.6666666666666666,
              "#ed7953"
             ],
             [
              0.7777777777777778,
              "#fb9f3a"
             ],
             [
              0.8888888888888888,
              "#fdca26"
             ],
             [
              1,
              "#f0f921"
             ]
            ],
            "type": "contour"
           }
          ],
          "contourcarpet": [
           {
            "colorbar": {
             "outlinewidth": 0,
             "ticks": ""
            },
            "type": "contourcarpet"
           }
          ],
          "heatmap": [
           {
            "colorbar": {
             "outlinewidth": 0,
             "ticks": ""
            },
            "colorscale": [
             [
              0,
              "#0d0887"
             ],
             [
              0.1111111111111111,
              "#46039f"
             ],
             [
              0.2222222222222222,
              "#7201a8"
             ],
             [
              0.3333333333333333,
              "#9c179e"
             ],
             [
              0.4444444444444444,
              "#bd3786"
             ],
             [
              0.5555555555555556,
              "#d8576b"
             ],
             [
              0.6666666666666666,
              "#ed7953"
             ],
             [
              0.7777777777777778,
              "#fb9f3a"
             ],
             [
              0.8888888888888888,
              "#fdca26"
             ],
             [
              1,
              "#f0f921"
             ]
            ],
            "type": "heatmap"
           }
          ],
          "heatmapgl": [
           {
            "colorbar": {
             "outlinewidth": 0,
             "ticks": ""
            },
            "colorscale": [
             [
              0,
              "#0d0887"
             ],
             [
              0.1111111111111111,
              "#46039f"
             ],
             [
              0.2222222222222222,
              "#7201a8"
             ],
             [
              0.3333333333333333,
              "#9c179e"
             ],
             [
              0.4444444444444444,
              "#bd3786"
             ],
             [
              0.5555555555555556,
              "#d8576b"
             ],
             [
              0.6666666666666666,
              "#ed7953"
             ],
             [
              0.7777777777777778,
              "#fb9f3a"
             ],
             [
              0.8888888888888888,
              "#fdca26"
             ],
             [
              1,
              "#f0f921"
             ]
            ],
            "type": "heatmapgl"
           }
          ],
          "histogram": [
           {
            "marker": {
             "pattern": {
              "fillmode": "overlay",
              "size": 10,
              "solidity": 0.2
             }
            },
            "type": "histogram"
           }
          ],
          "histogram2d": [
           {
            "colorbar": {
             "outlinewidth": 0,
             "ticks": ""
            },
            "colorscale": [
             [
              0,
              "#0d0887"
             ],
             [
              0.1111111111111111,
              "#46039f"
             ],
             [
              0.2222222222222222,
              "#7201a8"
             ],
             [
              0.3333333333333333,
              "#9c179e"
             ],
             [
              0.4444444444444444,
              "#bd3786"
             ],
             [
              0.5555555555555556,
              "#d8576b"
             ],
             [
              0.6666666666666666,
              "#ed7953"
             ],
             [
              0.7777777777777778,
              "#fb9f3a"
             ],
             [
              0.8888888888888888,
              "#fdca26"
             ],
             [
              1,
              "#f0f921"
             ]
            ],
            "type": "histogram2d"
           }
          ],
          "histogram2dcontour": [
           {
            "colorbar": {
             "outlinewidth": 0,
             "ticks": ""
            },
            "colorscale": [
             [
              0,
              "#0d0887"
             ],
             [
              0.1111111111111111,
              "#46039f"
             ],
             [
              0.2222222222222222,
              "#7201a8"
             ],
             [
              0.3333333333333333,
              "#9c179e"
             ],
             [
              0.4444444444444444,
              "#bd3786"
             ],
             [
              0.5555555555555556,
              "#d8576b"
             ],
             [
              0.6666666666666666,
              "#ed7953"
             ],
             [
              0.7777777777777778,
              "#fb9f3a"
             ],
             [
              0.8888888888888888,
              "#fdca26"
             ],
             [
              1,
              "#f0f921"
             ]
            ],
            "type": "histogram2dcontour"
           }
          ],
          "mesh3d": [
           {
            "colorbar": {
             "outlinewidth": 0,
             "ticks": ""
            },
            "type": "mesh3d"
           }
          ],
          "parcoords": [
           {
            "line": {
             "colorbar": {
              "outlinewidth": 0,
              "ticks": ""
             }
            },
            "type": "parcoords"
           }
          ],
          "pie": [
           {
            "automargin": true,
            "type": "pie"
           }
          ],
          "scatter": [
           {
            "fillpattern": {
             "fillmode": "overlay",
             "size": 10,
             "solidity": 0.2
            },
            "type": "scatter"
           }
          ],
          "scatter3d": [
           {
            "line": {
             "colorbar": {
              "outlinewidth": 0,
              "ticks": ""
             }
            },
            "marker": {
             "colorbar": {
              "outlinewidth": 0,
              "ticks": ""
             }
            },
            "type": "scatter3d"
           }
          ],
          "scattercarpet": [
           {
            "marker": {
             "colorbar": {
              "outlinewidth": 0,
              "ticks": ""
             }
            },
            "type": "scattercarpet"
           }
          ],
          "scattergeo": [
           {
            "marker": {
             "colorbar": {
              "outlinewidth": 0,
              "ticks": ""
             }
            },
            "type": "scattergeo"
           }
          ],
          "scattergl": [
           {
            "marker": {
             "colorbar": {
              "outlinewidth": 0,
              "ticks": ""
             }
            },
            "type": "scattergl"
           }
          ],
          "scattermapbox": [
           {
            "marker": {
             "colorbar": {
              "outlinewidth": 0,
              "ticks": ""
             }
            },
            "type": "scattermapbox"
           }
          ],
          "scatterpolar": [
           {
            "marker": {
             "colorbar": {
              "outlinewidth": 0,
              "ticks": ""
             }
            },
            "type": "scatterpolar"
           }
          ],
          "scatterpolargl": [
           {
            "marker": {
             "colorbar": {
              "outlinewidth": 0,
              "ticks": ""
             }
            },
            "type": "scatterpolargl"
           }
          ],
          "scatterternary": [
           {
            "marker": {
             "colorbar": {
              "outlinewidth": 0,
              "ticks": ""
             }
            },
            "type": "scatterternary"
           }
          ],
          "surface": [
           {
            "colorbar": {
             "outlinewidth": 0,
             "ticks": ""
            },
            "colorscale": [
             [
              0,
              "#0d0887"
             ],
             [
              0.1111111111111111,
              "#46039f"
             ],
             [
              0.2222222222222222,
              "#7201a8"
             ],
             [
              0.3333333333333333,
              "#9c179e"
             ],
             [
              0.4444444444444444,
              "#bd3786"
             ],
             [
              0.5555555555555556,
              "#d8576b"
             ],
             [
              0.6666666666666666,
              "#ed7953"
             ],
             [
              0.7777777777777778,
              "#fb9f3a"
             ],
             [
              0.8888888888888888,
              "#fdca26"
             ],
             [
              1,
              "#f0f921"
             ]
            ],
            "type": "surface"
           }
          ],
          "table": [
           {
            "cells": {
             "fill": {
              "color": "#EBF0F8"
             },
             "line": {
              "color": "white"
             }
            },
            "header": {
             "fill": {
              "color": "#C8D4E3"
             },
             "line": {
              "color": "white"
             }
            },
            "type": "table"
           }
          ]
         },
         "layout": {
          "annotationdefaults": {
           "arrowcolor": "#2a3f5f",
           "arrowhead": 0,
           "arrowwidth": 1
          },
          "autotypenumbers": "strict",
          "coloraxis": {
           "colorbar": {
            "outlinewidth": 0,
            "ticks": ""
           }
          },
          "colorscale": {
           "diverging": [
            [
             0,
             "#8e0152"
            ],
            [
             0.1,
             "#c51b7d"
            ],
            [
             0.2,
             "#de77ae"
            ],
            [
             0.3,
             "#f1b6da"
            ],
            [
             0.4,
             "#fde0ef"
            ],
            [
             0.5,
             "#f7f7f7"
            ],
            [
             0.6,
             "#e6f5d0"
            ],
            [
             0.7,
             "#b8e186"
            ],
            [
             0.8,
             "#7fbc41"
            ],
            [
             0.9,
             "#4d9221"
            ],
            [
             1,
             "#276419"
            ]
           ],
           "sequential": [
            [
             0,
             "#0d0887"
            ],
            [
             0.1111111111111111,
             "#46039f"
            ],
            [
             0.2222222222222222,
             "#7201a8"
            ],
            [
             0.3333333333333333,
             "#9c179e"
            ],
            [
             0.4444444444444444,
             "#bd3786"
            ],
            [
             0.5555555555555556,
             "#d8576b"
            ],
            [
             0.6666666666666666,
             "#ed7953"
            ],
            [
             0.7777777777777778,
             "#fb9f3a"
            ],
            [
             0.8888888888888888,
             "#fdca26"
            ],
            [
             1,
             "#f0f921"
            ]
           ],
           "sequentialminus": [
            [
             0,
             "#0d0887"
            ],
            [
             0.1111111111111111,
             "#46039f"
            ],
            [
             0.2222222222222222,
             "#7201a8"
            ],
            [
             0.3333333333333333,
             "#9c179e"
            ],
            [
             0.4444444444444444,
             "#bd3786"
            ],
            [
             0.5555555555555556,
             "#d8576b"
            ],
            [
             0.6666666666666666,
             "#ed7953"
            ],
            [
             0.7777777777777778,
             "#fb9f3a"
            ],
            [
             0.8888888888888888,
             "#fdca26"
            ],
            [
             1,
             "#f0f921"
            ]
           ]
          },
          "colorway": [
           "#636efa",
           "#EF553B",
           "#00cc96",
           "#ab63fa",
           "#FFA15A",
           "#19d3f3",
           "#FF6692",
           "#B6E880",
           "#FF97FF",
           "#FECB52"
          ],
          "font": {
           "color": "#2a3f5f"
          },
          "geo": {
           "bgcolor": "white",
           "lakecolor": "white",
           "landcolor": "#E5ECF6",
           "showlakes": true,
           "showland": true,
           "subunitcolor": "white"
          },
          "hoverlabel": {
           "align": "left"
          },
          "hovermode": "closest",
          "mapbox": {
           "style": "light"
          },
          "paper_bgcolor": "white",
          "plot_bgcolor": "#E5ECF6",
          "polar": {
           "angularaxis": {
            "gridcolor": "white",
            "linecolor": "white",
            "ticks": ""
           },
           "bgcolor": "#E5ECF6",
           "radialaxis": {
            "gridcolor": "white",
            "linecolor": "white",
            "ticks": ""
           }
          },
          "scene": {
           "xaxis": {
            "backgroundcolor": "#E5ECF6",
            "gridcolor": "white",
            "gridwidth": 2,
            "linecolor": "white",
            "showbackground": true,
            "ticks": "",
            "zerolinecolor": "white"
           },
           "yaxis": {
            "backgroundcolor": "#E5ECF6",
            "gridcolor": "white",
            "gridwidth": 2,
            "linecolor": "white",
            "showbackground": true,
            "ticks": "",
            "zerolinecolor": "white"
           },
           "zaxis": {
            "backgroundcolor": "#E5ECF6",
            "gridcolor": "white",
            "gridwidth": 2,
            "linecolor": "white",
            "showbackground": true,
            "ticks": "",
            "zerolinecolor": "white"
           }
          },
          "shapedefaults": {
           "line": {
            "color": "#2a3f5f"
           }
          },
          "ternary": {
           "aaxis": {
            "gridcolor": "white",
            "linecolor": "white",
            "ticks": ""
           },
           "baxis": {
            "gridcolor": "white",
            "linecolor": "white",
            "ticks": ""
           },
           "bgcolor": "#E5ECF6",
           "caxis": {
            "gridcolor": "white",
            "linecolor": "white",
            "ticks": ""
           }
          },
          "title": {
           "x": 0.05
          },
          "xaxis": {
           "automargin": true,
           "gridcolor": "white",
           "linecolor": "white",
           "ticks": "",
           "title": {
            "standoff": 15
           },
           "zerolinecolor": "white",
           "zerolinewidth": 2
          },
          "yaxis": {
           "automargin": true,
           "gridcolor": "white",
           "linecolor": "white",
           "ticks": "",
           "title": {
            "standoff": 15
           },
           "zerolinecolor": "white",
           "zerolinewidth": 2
          }
         }
        },
        "title": {
         "text": "Nombre de missions par hôtel",
         "x": 0.5
        },
        "updatemenus": [
         {
          "active": 0,
          "buttons": [
           {
            "args": [
             {
              "visible": [
               true,
               false,
               false,
               false
              ]
             }
            ],
            "label": "2024",
            "method": "update"
           },
           {
            "args": [
             {
              "visible": [
               false,
               true,
               false,
               false
              ]
             }
            ],
            "label": "2023",
            "method": "update"
           },
           {
            "args": [
             {
              "visible": [
               false,
               false,
               true,
               false
              ]
             }
            ],
            "label": "2022",
            "method": "update"
           },
           {
            "args": [
             {
              "visible": [
               false,
               false,
               false,
               true
              ]
             }
            ],
            "label": "2021",
            "method": "update"
           }
          ]
         }
        ],
        "width": 1500,
        "xaxis": {
         "title": {
          "text": "Hôtels"
         }
        },
        "yaxis": {
         "title": {
          "text": "Nombre de missions"
         }
        }
       }
      }
     },
     "metadata": {},
     "output_type": "display_data"
    }
   ],
   "source": [
    "\n",
    "years = data[\"date_debut\"].dt.year.astype(str).unique()\n",
    "custom_palette = sns.color_palette(\"tab10\", len(data[\"date_debut\"].dt.year.unique())).as_hex()\n",
    "fig = go.Figure()\n",
    "\n",
    "\n",
    "for i in range(len(years)) : \n",
    "        if i == 0:\n",
    "                fig.add_trace(\n",
    "                        go.Bar(x=data[data[\"date_debut\"].dt.year.astype(str) == years[i]].groupby(\"Propriété_clean\").count().index, \n",
    "                               y=data[data[\"date_debut\"].dt.year.astype(str) == years[i]].groupby(\"Propriété_clean\").count().hôtel, \n",
    "                               visible = True,\n",
    "                               marker_color=custom_palette[i]))\n",
    "\n",
    "        else:\n",
    "                fig.add_trace(\n",
    "                        go.Bar(x=data[data[\"date_debut\"].dt.year.astype(str) == years[i]].groupby(\"Propriété_clean\").count().index, \n",
    "                               y=data[data[\"date_debut\"].dt.year.astype(str) == years[i]].groupby(\"Propriété_clean\").count().hôtel, \n",
    "                               visible = False,\n",
    "                               marker_color=custom_palette[i]))\n",
    "\n",
    "fig.update_layout(\n",
    "        title = go.layout.Title(text = \"Nombre de missions par hôtel\", x = 0.5),\n",
    "        autosize=False,\n",
    "        showlegend=False,\n",
    "        width=1500,\n",
    "        height=700)\n",
    "\n",
    "buttons = [\n",
    "    go.layout.updatemenu.Button(\n",
    "        label=year,\n",
    "        method='update',\n",
    "        args=[{'visible': [y == year for y in years]}]\n",
    "    )\n",
    "    for year in years\n",
    "]\n",
    "\n",
    "\n",
    "fig.update_layout(\n",
    "        updatemenus = [go.layout.Updatemenu(\n",
    "                active = 0,\n",
    "                buttons= buttons\n",
    "                          )]\n",
    ")\n",
    "\n",
    "fig.update_xaxes(title_text='Hôtels')\n",
    "fig.update_yaxes(title_text='Nombre de missions')"
   ]
  },
  {
   "cell_type": "code",
   "execution_count": null,
   "metadata": {},
   "outputs": [
    {
     "data": {
      "application/vnd.plotly.v1+json": {
       "config": {
        "plotlyServerURL": "https://plot.ly"
       },
       "data": [
        {
         "marker": {
          "color": "#1f77b4"
         },
         "type": "bar",
         "visible": true,
         "x": [
          "Crystal",
          "Milie Rose",
          "Touraine"
         ],
         "y": [
          2,
          5,
          3
         ]
        },
        {
         "marker": {
          "color": "#ff7f0e"
         },
         "type": "bar",
         "visible": false,
         "x": [
          "Alberte ",
          "Apogé",
          "Chouchou",
          "Courseine",
          "Crystal",
          "Drawing House",
          "Edouard VI",
          "French Theory",
          "Ibis Montparnasse",
          "Imprimerie",
          "Le Grand Quartier",
          "Le Roch Hotel",
          "Les Deux Girafes",
          "MT solutions ",
          "Marceau",
          "Milie Rose",
          "Mont Dore",
          "Monte Cristo",
          "Parisianer",
          "Parisis",
          "Peper and paper ",
          "Prélude",
          "Quinzerie hotel",
          "Select Hotel",
          "Touraine",
          "Tsuba",
          "Victoire et Germain",
          "Yllen Eiffel"
         ],
         "y": [
          5,
          31,
          12,
          40,
          60,
          82,
          23,
          40,
          869,
          236,
          283,
          3,
          59,
          19,
          145,
          214,
          1,
          47,
          17,
          29,
          1,
          17,
          20,
          255,
          68,
          116,
          26,
          109
         ]
        },
        {
         "marker": {
          "color": "#2ca02c"
         },
         "type": "bar",
         "visible": false,
         "x": [
          "Apogé",
          "Bleu de Grenelle",
          "Courseine",
          "Crystal",
          "Drawing House",
          "Edouard VI",
          "French Theory",
          "Home Moderne",
          "Ibis Montparnasse",
          "Imprimerie",
          "La Belle Ville",
          "Le Grand Quartier",
          "Les Deux Girafes",
          "Marceau",
          "Mathurin",
          "Milie Rose",
          "Mont Dore",
          "Monte Cristo",
          "Parisianer",
          "Prélude",
          "Select Hotel",
          "Touraine",
          "Tsuba",
          "Victoire et Germain",
          "Yllen Eiffel"
         ],
         "y": [
          30,
          5,
          74,
          81,
          62,
          58,
          29,
          2,
          405,
          220,
          42,
          133,
          24,
          103,
          3,
          33,
          1,
          43,
          54,
          105,
          55,
          39,
          100,
          53,
          87
         ]
        },
        {
         "marker": {
          "color": "#d62728"
         },
         "type": "bar",
         "visible": false,
         "x": [
          "Courseine",
          "Ibis Montparnasse",
          "Marceau",
          "Monte Cristo",
          "Prélude",
          "Touraine",
          "Tsuba",
          "Victoire et Germain"
         ],
         "y": [
          5,
          17,
          2,
          4,
          31,
          5,
          8,
          10
         ]
        }
       ],
       "layout": {
        "autosize": false,
        "height": 700,
        "showlegend": false,
        "template": {
         "data": {
          "bar": [
           {
            "error_x": {
             "color": "#2a3f5f"
            },
            "error_y": {
             "color": "#2a3f5f"
            },
            "marker": {
             "line": {
              "color": "#E5ECF6",
              "width": 0.5
             },
             "pattern": {
              "fillmode": "overlay",
              "size": 10,
              "solidity": 0.2
             }
            },
            "type": "bar"
           }
          ],
          "barpolar": [
           {
            "marker": {
             "line": {
              "color": "#E5ECF6",
              "width": 0.5
             },
             "pattern": {
              "fillmode": "overlay",
              "size": 10,
              "solidity": 0.2
             }
            },
            "type": "barpolar"
           }
          ],
          "carpet": [
           {
            "aaxis": {
             "endlinecolor": "#2a3f5f",
             "gridcolor": "white",
             "linecolor": "white",
             "minorgridcolor": "white",
             "startlinecolor": "#2a3f5f"
            },
            "baxis": {
             "endlinecolor": "#2a3f5f",
             "gridcolor": "white",
             "linecolor": "white",
             "minorgridcolor": "white",
             "startlinecolor": "#2a3f5f"
            },
            "type": "carpet"
           }
          ],
          "choropleth": [
           {
            "colorbar": {
             "outlinewidth": 0,
             "ticks": ""
            },
            "type": "choropleth"
           }
          ],
          "contour": [
           {
            "colorbar": {
             "outlinewidth": 0,
             "ticks": ""
            },
            "colorscale": [
             [
              0,
              "#0d0887"
             ],
             [
              0.1111111111111111,
              "#46039f"
             ],
             [
              0.2222222222222222,
              "#7201a8"
             ],
             [
              0.3333333333333333,
              "#9c179e"
             ],
             [
              0.4444444444444444,
              "#bd3786"
             ],
             [
              0.5555555555555556,
              "#d8576b"
             ],
             [
              0.6666666666666666,
              "#ed7953"
             ],
             [
              0.7777777777777778,
              "#fb9f3a"
             ],
             [
              0.8888888888888888,
              "#fdca26"
             ],
             [
              1,
              "#f0f921"
             ]
            ],
            "type": "contour"
           }
          ],
          "contourcarpet": [
           {
            "colorbar": {
             "outlinewidth": 0,
             "ticks": ""
            },
            "type": "contourcarpet"
           }
          ],
          "heatmap": [
           {
            "colorbar": {
             "outlinewidth": 0,
             "ticks": ""
            },
            "colorscale": [
             [
              0,
              "#0d0887"
             ],
             [
              0.1111111111111111,
              "#46039f"
             ],
             [
              0.2222222222222222,
              "#7201a8"
             ],
             [
              0.3333333333333333,
              "#9c179e"
             ],
             [
              0.4444444444444444,
              "#bd3786"
             ],
             [
              0.5555555555555556,
              "#d8576b"
             ],
             [
              0.6666666666666666,
              "#ed7953"
             ],
             [
              0.7777777777777778,
              "#fb9f3a"
             ],
             [
              0.8888888888888888,
              "#fdca26"
             ],
             [
              1,
              "#f0f921"
             ]
            ],
            "type": "heatmap"
           }
          ],
          "heatmapgl": [
           {
            "colorbar": {
             "outlinewidth": 0,
             "ticks": ""
            },
            "colorscale": [
             [
              0,
              "#0d0887"
             ],
             [
              0.1111111111111111,
              "#46039f"
             ],
             [
              0.2222222222222222,
              "#7201a8"
             ],
             [
              0.3333333333333333,
              "#9c179e"
             ],
             [
              0.4444444444444444,
              "#bd3786"
             ],
             [
              0.5555555555555556,
              "#d8576b"
             ],
             [
              0.6666666666666666,
              "#ed7953"
             ],
             [
              0.7777777777777778,
              "#fb9f3a"
             ],
             [
              0.8888888888888888,
              "#fdca26"
             ],
             [
              1,
              "#f0f921"
             ]
            ],
            "type": "heatmapgl"
           }
          ],
          "histogram": [
           {
            "marker": {
             "pattern": {
              "fillmode": "overlay",
              "size": 10,
              "solidity": 0.2
             }
            },
            "type": "histogram"
           }
          ],
          "histogram2d": [
           {
            "colorbar": {
             "outlinewidth": 0,
             "ticks": ""
            },
            "colorscale": [
             [
              0,
              "#0d0887"
             ],
             [
              0.1111111111111111,
              "#46039f"
             ],
             [
              0.2222222222222222,
              "#7201a8"
             ],
             [
              0.3333333333333333,
              "#9c179e"
             ],
             [
              0.4444444444444444,
              "#bd3786"
             ],
             [
              0.5555555555555556,
              "#d8576b"
             ],
             [
              0.6666666666666666,
              "#ed7953"
             ],
             [
              0.7777777777777778,
              "#fb9f3a"
             ],
             [
              0.8888888888888888,
              "#fdca26"
             ],
             [
              1,
              "#f0f921"
             ]
            ],
            "type": "histogram2d"
           }
          ],
          "histogram2dcontour": [
           {
            "colorbar": {
             "outlinewidth": 0,
             "ticks": ""
            },
            "colorscale": [
             [
              0,
              "#0d0887"
             ],
             [
              0.1111111111111111,
              "#46039f"
             ],
             [
              0.2222222222222222,
              "#7201a8"
             ],
             [
              0.3333333333333333,
              "#9c179e"
             ],
             [
              0.4444444444444444,
              "#bd3786"
             ],
             [
              0.5555555555555556,
              "#d8576b"
             ],
             [
              0.6666666666666666,
              "#ed7953"
             ],
             [
              0.7777777777777778,
              "#fb9f3a"
             ],
             [
              0.8888888888888888,
              "#fdca26"
             ],
             [
              1,
              "#f0f921"
             ]
            ],
            "type": "histogram2dcontour"
           }
          ],
          "mesh3d": [
           {
            "colorbar": {
             "outlinewidth": 0,
             "ticks": ""
            },
            "type": "mesh3d"
           }
          ],
          "parcoords": [
           {
            "line": {
             "colorbar": {
              "outlinewidth": 0,
              "ticks": ""
             }
            },
            "type": "parcoords"
           }
          ],
          "pie": [
           {
            "automargin": true,
            "type": "pie"
           }
          ],
          "scatter": [
           {
            "fillpattern": {
             "fillmode": "overlay",
             "size": 10,
             "solidity": 0.2
            },
            "type": "scatter"
           }
          ],
          "scatter3d": [
           {
            "line": {
             "colorbar": {
              "outlinewidth": 0,
              "ticks": ""
             }
            },
            "marker": {
             "colorbar": {
              "outlinewidth": 0,
              "ticks": ""
             }
            },
            "type": "scatter3d"
           }
          ],
          "scattercarpet": [
           {
            "marker": {
             "colorbar": {
              "outlinewidth": 0,
              "ticks": ""
             }
            },
            "type": "scattercarpet"
           }
          ],
          "scattergeo": [
           {
            "marker": {
             "colorbar": {
              "outlinewidth": 0,
              "ticks": ""
             }
            },
            "type": "scattergeo"
           }
          ],
          "scattergl": [
           {
            "marker": {
             "colorbar": {
              "outlinewidth": 0,
              "ticks": ""
             }
            },
            "type": "scattergl"
           }
          ],
          "scattermapbox": [
           {
            "marker": {
             "colorbar": {
              "outlinewidth": 0,
              "ticks": ""
             }
            },
            "type": "scattermapbox"
           }
          ],
          "scatterpolar": [
           {
            "marker": {
             "colorbar": {
              "outlinewidth": 0,
              "ticks": ""
             }
            },
            "type": "scatterpolar"
           }
          ],
          "scatterpolargl": [
           {
            "marker": {
             "colorbar": {
              "outlinewidth": 0,
              "ticks": ""
             }
            },
            "type": "scatterpolargl"
           }
          ],
          "scatterternary": [
           {
            "marker": {
             "colorbar": {
              "outlinewidth": 0,
              "ticks": ""
             }
            },
            "type": "scatterternary"
           }
          ],
          "surface": [
           {
            "colorbar": {
             "outlinewidth": 0,
             "ticks": ""
            },
            "colorscale": [
             [
              0,
              "#0d0887"
             ],
             [
              0.1111111111111111,
              "#46039f"
             ],
             [
              0.2222222222222222,
              "#7201a8"
             ],
             [
              0.3333333333333333,
              "#9c179e"
             ],
             [
              0.4444444444444444,
              "#bd3786"
             ],
             [
              0.5555555555555556,
              "#d8576b"
             ],
             [
              0.6666666666666666,
              "#ed7953"
             ],
             [
              0.7777777777777778,
              "#fb9f3a"
             ],
             [
              0.8888888888888888,
              "#fdca26"
             ],
             [
              1,
              "#f0f921"
             ]
            ],
            "type": "surface"
           }
          ],
          "table": [
           {
            "cells": {
             "fill": {
              "color": "#EBF0F8"
             },
             "line": {
              "color": "white"
             }
            },
            "header": {
             "fill": {
              "color": "#C8D4E3"
             },
             "line": {
              "color": "white"
             }
            },
            "type": "table"
           }
          ]
         },
         "layout": {
          "annotationdefaults": {
           "arrowcolor": "#2a3f5f",
           "arrowhead": 0,
           "arrowwidth": 1
          },
          "autotypenumbers": "strict",
          "coloraxis": {
           "colorbar": {
            "outlinewidth": 0,
            "ticks": ""
           }
          },
          "colorscale": {
           "diverging": [
            [
             0,
             "#8e0152"
            ],
            [
             0.1,
             "#c51b7d"
            ],
            [
             0.2,
             "#de77ae"
            ],
            [
             0.3,
             "#f1b6da"
            ],
            [
             0.4,
             "#fde0ef"
            ],
            [
             0.5,
             "#f7f7f7"
            ],
            [
             0.6,
             "#e6f5d0"
            ],
            [
             0.7,
             "#b8e186"
            ],
            [
             0.8,
             "#7fbc41"
            ],
            [
             0.9,
             "#4d9221"
            ],
            [
             1,
             "#276419"
            ]
           ],
           "sequential": [
            [
             0,
             "#0d0887"
            ],
            [
             0.1111111111111111,
             "#46039f"
            ],
            [
             0.2222222222222222,
             "#7201a8"
            ],
            [
             0.3333333333333333,
             "#9c179e"
            ],
            [
             0.4444444444444444,
             "#bd3786"
            ],
            [
             0.5555555555555556,
             "#d8576b"
            ],
            [
             0.6666666666666666,
             "#ed7953"
            ],
            [
             0.7777777777777778,
             "#fb9f3a"
            ],
            [
             0.8888888888888888,
             "#fdca26"
            ],
            [
             1,
             "#f0f921"
            ]
           ],
           "sequentialminus": [
            [
             0,
             "#0d0887"
            ],
            [
             0.1111111111111111,
             "#46039f"
            ],
            [
             0.2222222222222222,
             "#7201a8"
            ],
            [
             0.3333333333333333,
             "#9c179e"
            ],
            [
             0.4444444444444444,
             "#bd3786"
            ],
            [
             0.5555555555555556,
             "#d8576b"
            ],
            [
             0.6666666666666666,
             "#ed7953"
            ],
            [
             0.7777777777777778,
             "#fb9f3a"
            ],
            [
             0.8888888888888888,
             "#fdca26"
            ],
            [
             1,
             "#f0f921"
            ]
           ]
          },
          "colorway": [
           "#636efa",
           "#EF553B",
           "#00cc96",
           "#ab63fa",
           "#FFA15A",
           "#19d3f3",
           "#FF6692",
           "#B6E880",
           "#FF97FF",
           "#FECB52"
          ],
          "font": {
           "color": "#2a3f5f"
          },
          "geo": {
           "bgcolor": "white",
           "lakecolor": "white",
           "landcolor": "#E5ECF6",
           "showlakes": true,
           "showland": true,
           "subunitcolor": "white"
          },
          "hoverlabel": {
           "align": "left"
          },
          "hovermode": "closest",
          "mapbox": {
           "style": "light"
          },
          "paper_bgcolor": "white",
          "plot_bgcolor": "#E5ECF6",
          "polar": {
           "angularaxis": {
            "gridcolor": "white",
            "linecolor": "white",
            "ticks": ""
           },
           "bgcolor": "#E5ECF6",
           "radialaxis": {
            "gridcolor": "white",
            "linecolor": "white",
            "ticks": ""
           }
          },
          "scene": {
           "xaxis": {
            "backgroundcolor": "#E5ECF6",
            "gridcolor": "white",
            "gridwidth": 2,
            "linecolor": "white",
            "showbackground": true,
            "ticks": "",
            "zerolinecolor": "white"
           },
           "yaxis": {
            "backgroundcolor": "#E5ECF6",
            "gridcolor": "white",
            "gridwidth": 2,
            "linecolor": "white",
            "showbackground": true,
            "ticks": "",
            "zerolinecolor": "white"
           },
           "zaxis": {
            "backgroundcolor": "#E5ECF6",
            "gridcolor": "white",
            "gridwidth": 2,
            "linecolor": "white",
            "showbackground": true,
            "ticks": "",
            "zerolinecolor": "white"
           }
          },
          "shapedefaults": {
           "line": {
            "color": "#2a3f5f"
           }
          },
          "ternary": {
           "aaxis": {
            "gridcolor": "white",
            "linecolor": "white",
            "ticks": ""
           },
           "baxis": {
            "gridcolor": "white",
            "linecolor": "white",
            "ticks": ""
           },
           "bgcolor": "#E5ECF6",
           "caxis": {
            "gridcolor": "white",
            "linecolor": "white",
            "ticks": ""
           }
          },
          "title": {
           "x": 0.05
          },
          "xaxis": {
           "automargin": true,
           "gridcolor": "white",
           "linecolor": "white",
           "ticks": "",
           "title": {
            "standoff": 15
           },
           "zerolinecolor": "white",
           "zerolinewidth": 2
          },
          "yaxis": {
           "automargin": true,
           "gridcolor": "white",
           "linecolor": "white",
           "ticks": "",
           "title": {
            "standoff": 15
           },
           "zerolinecolor": "white",
           "zerolinewidth": 2
          }
         }
        },
        "title": {
         "text": "Nombre de missions par hôtel",
         "x": 0.5
        },
        "updatemenus": [
         {
          "active": 0,
          "buttons": [
           {
            "args": [
             {
              "visible": [
               true,
               false,
               false,
               false
              ]
             }
            ],
            "label": "2024",
            "method": "update"
           },
           {
            "args": [
             {
              "visible": [
               false,
               true,
               false,
               false
              ]
             }
            ],
            "label": "2023",
            "method": "update"
           },
           {
            "args": [
             {
              "visible": [
               false,
               false,
               true,
               false
              ]
             }
            ],
            "label": "2022",
            "method": "update"
           },
           {
            "args": [
             {
              "visible": [
               false,
               false,
               false,
               true
              ]
             }
            ],
            "label": "2021",
            "method": "update"
           }
          ]
         }
        ],
        "width": 1500,
        "xaxis": {
         "title": {
          "text": "Hôtels"
         }
        },
        "yaxis": {
         "title": {
          "text": "Nombre de missions"
         }
        }
       }
      }
     },
     "metadata": {},
     "output_type": "display_data"
    }
   ],
   "source": [
    "top = 5\n",
    "years = data[\"date_debut\"].dt.year.astype(str).unique()\n",
    "\n",
    "fig = go.Figure()\n",
    "\n",
    "for i in range(len(years)) : \n",
    "        by_year = data.loc[data[\"date_debut\"].dt.year.astype(str) == years[i], [\"Propriété_clean\",\"periode_debut\"]]\n",
    "        by_year[\"count\"] = 1\n",
    "        by_year = by_year.pivot_table(index=\"periode_debut\", values=\"count\",columns=['Propriété_clean'], aggfunc=\"count\", fill_value=0)\n",
    "\n",
    "        top_hotels = by_year.sum().sort_values(ascending=False)[:top].index.to_list()\n",
    "        top_by_year = by_year.loc[:,top_hotels]\n",
    "        top_by_year = pd.melt(top_by_year.reset_index(), id_vars=\"periode_debut\", value_name=\"Missions\")\n",
    "\n",
    "        if i == 0:\n",
    "                fig.add_trace(\n",
    "                        go.Bar(x=data[data[\"date_debut\"].dt.year.astype(str) == years[i]].groupby(\"Propriété_clean\").count().index, \n",
    "                               y=data[data[\"date_debut\"].dt.year.astype(str) == years[i]].groupby(\"Propriété_clean\").count().hôtel, \n",
    "                               visible = True,\n",
    "                               marker_color=custom_palette[i]))\n",
    "\n",
    "        else:\n",
    "                fig.add_trace(\n",
    "                        go.Bar(x=data[data[\"date_debut\"].dt.year.astype(str) == years[i]].groupby(\"Propriété_clean\").count().index, \n",
    "                               y=data[data[\"date_debut\"].dt.year.astype(str) == years[i]].groupby(\"Propriété_clean\").count().hôtel, \n",
    "                               visible = False,\n",
    "                               marker_color=custom_palette[i]))\n",
    "\n",
    "fig.update_layout(\n",
    "        title = go.layout.Title(text = \"Nombre de missions par hôtel\", x = 0.5),\n",
    "        autosize=False,\n",
    "        showlegend=False,\n",
    "        width=1500,\n",
    "        height=700)\n",
    "\n",
    "buttons = [\n",
    "    go.layout.updatemenu.Button(\n",
    "        label=year,\n",
    "        method='update',\n",
    "        args=[{'visible': [y == year for y in years]}]\n",
    "    )\n",
    "    for year in years\n",
    "]\n",
    "\n",
    "\n",
    "fig.update_layout(\n",
    "        updatemenus = [go.layout.Updatemenu(\n",
    "                active = 0,\n",
    "                buttons= buttons\n",
    "                          )]\n",
    ")\n",
    "\n",
    "fig.update_xaxes(title_text='Hôtels')\n",
    "fig.update_yaxes(title_text='Nombre de missions')"
   ]
  },
  {
   "cell_type": "code",
   "execution_count": null,
   "metadata": {},
   "outputs": [
    {
     "data": {
      "text/html": [
       "<div>\n",
       "<style scoped>\n",
       "    .dataframe tbody tr th:only-of-type {\n",
       "        vertical-align: middle;\n",
       "    }\n",
       "\n",
       "    .dataframe tbody tr th {\n",
       "        vertical-align: top;\n",
       "    }\n",
       "\n",
       "    .dataframe thead th {\n",
       "        text-align: right;\n",
       "    }\n",
       "</style>\n",
       "<table border=\"1\" class=\"dataframe\">\n",
       "  <thead>\n",
       "    <tr style=\"text-align: right;\">\n",
       "      <th></th>\n",
       "      <th>periode_debut</th>\n",
       "      <th>Propriété_clean</th>\n",
       "      <th>Missions</th>\n",
       "    </tr>\n",
       "  </thead>\n",
       "  <tbody>\n",
       "    <tr>\n",
       "      <th>0</th>\n",
       "      <td>01-2023</td>\n",
       "      <td>Ibis Montparnasse</td>\n",
       "      <td>56</td>\n",
       "    </tr>\n",
       "    <tr>\n",
       "      <th>1</th>\n",
       "      <td>02-2023</td>\n",
       "      <td>Ibis Montparnasse</td>\n",
       "      <td>49</td>\n",
       "    </tr>\n",
       "    <tr>\n",
       "      <th>2</th>\n",
       "      <td>03-2023</td>\n",
       "      <td>Ibis Montparnasse</td>\n",
       "      <td>52</td>\n",
       "    </tr>\n",
       "    <tr>\n",
       "      <th>3</th>\n",
       "      <td>04-2023</td>\n",
       "      <td>Ibis Montparnasse</td>\n",
       "      <td>65</td>\n",
       "    </tr>\n",
       "    <tr>\n",
       "      <th>4</th>\n",
       "      <td>05-2023</td>\n",
       "      <td>Ibis Montparnasse</td>\n",
       "      <td>50</td>\n",
       "    </tr>\n",
       "    <tr>\n",
       "      <th>5</th>\n",
       "      <td>06-2023</td>\n",
       "      <td>Ibis Montparnasse</td>\n",
       "      <td>68</td>\n",
       "    </tr>\n",
       "    <tr>\n",
       "      <th>6</th>\n",
       "      <td>07-2023</td>\n",
       "      <td>Ibis Montparnasse</td>\n",
       "      <td>102</td>\n",
       "    </tr>\n",
       "    <tr>\n",
       "      <th>7</th>\n",
       "      <td>08-2023</td>\n",
       "      <td>Ibis Montparnasse</td>\n",
       "      <td>109</td>\n",
       "    </tr>\n",
       "    <tr>\n",
       "      <th>8</th>\n",
       "      <td>09-2023</td>\n",
       "      <td>Ibis Montparnasse</td>\n",
       "      <td>89</td>\n",
       "    </tr>\n",
       "    <tr>\n",
       "      <th>9</th>\n",
       "      <td>10-2023</td>\n",
       "      <td>Ibis Montparnasse</td>\n",
       "      <td>97</td>\n",
       "    </tr>\n",
       "    <tr>\n",
       "      <th>10</th>\n",
       "      <td>11-2023</td>\n",
       "      <td>Ibis Montparnasse</td>\n",
       "      <td>79</td>\n",
       "    </tr>\n",
       "    <tr>\n",
       "      <th>11</th>\n",
       "      <td>12-2023</td>\n",
       "      <td>Ibis Montparnasse</td>\n",
       "      <td>53</td>\n",
       "    </tr>\n",
       "    <tr>\n",
       "      <th>12</th>\n",
       "      <td>01-2023</td>\n",
       "      <td>Le Grand Quartier</td>\n",
       "      <td>25</td>\n",
       "    </tr>\n",
       "    <tr>\n",
       "      <th>13</th>\n",
       "      <td>02-2023</td>\n",
       "      <td>Le Grand Quartier</td>\n",
       "      <td>30</td>\n",
       "    </tr>\n",
       "    <tr>\n",
       "      <th>14</th>\n",
       "      <td>03-2023</td>\n",
       "      <td>Le Grand Quartier</td>\n",
       "      <td>21</td>\n",
       "    </tr>\n",
       "    <tr>\n",
       "      <th>15</th>\n",
       "      <td>04-2023</td>\n",
       "      <td>Le Grand Quartier</td>\n",
       "      <td>15</td>\n",
       "    </tr>\n",
       "    <tr>\n",
       "      <th>16</th>\n",
       "      <td>05-2023</td>\n",
       "      <td>Le Grand Quartier</td>\n",
       "      <td>16</td>\n",
       "    </tr>\n",
       "    <tr>\n",
       "      <th>17</th>\n",
       "      <td>06-2023</td>\n",
       "      <td>Le Grand Quartier</td>\n",
       "      <td>32</td>\n",
       "    </tr>\n",
       "    <tr>\n",
       "      <th>18</th>\n",
       "      <td>07-2023</td>\n",
       "      <td>Le Grand Quartier</td>\n",
       "      <td>26</td>\n",
       "    </tr>\n",
       "    <tr>\n",
       "      <th>19</th>\n",
       "      <td>08-2023</td>\n",
       "      <td>Le Grand Quartier</td>\n",
       "      <td>35</td>\n",
       "    </tr>\n",
       "    <tr>\n",
       "      <th>20</th>\n",
       "      <td>09-2023</td>\n",
       "      <td>Le Grand Quartier</td>\n",
       "      <td>34</td>\n",
       "    </tr>\n",
       "    <tr>\n",
       "      <th>21</th>\n",
       "      <td>10-2023</td>\n",
       "      <td>Le Grand Quartier</td>\n",
       "      <td>34</td>\n",
       "    </tr>\n",
       "    <tr>\n",
       "      <th>22</th>\n",
       "      <td>11-2023</td>\n",
       "      <td>Le Grand Quartier</td>\n",
       "      <td>13</td>\n",
       "    </tr>\n",
       "    <tr>\n",
       "      <th>23</th>\n",
       "      <td>12-2023</td>\n",
       "      <td>Le Grand Quartier</td>\n",
       "      <td>2</td>\n",
       "    </tr>\n",
       "    <tr>\n",
       "      <th>24</th>\n",
       "      <td>01-2023</td>\n",
       "      <td>Select Hotel</td>\n",
       "      <td>52</td>\n",
       "    </tr>\n",
       "    <tr>\n",
       "      <th>25</th>\n",
       "      <td>02-2023</td>\n",
       "      <td>Select Hotel</td>\n",
       "      <td>41</td>\n",
       "    </tr>\n",
       "    <tr>\n",
       "      <th>26</th>\n",
       "      <td>03-2023</td>\n",
       "      <td>Select Hotel</td>\n",
       "      <td>6</td>\n",
       "    </tr>\n",
       "    <tr>\n",
       "      <th>27</th>\n",
       "      <td>04-2023</td>\n",
       "      <td>Select Hotel</td>\n",
       "      <td>11</td>\n",
       "    </tr>\n",
       "    <tr>\n",
       "      <th>28</th>\n",
       "      <td>05-2023</td>\n",
       "      <td>Select Hotel</td>\n",
       "      <td>14</td>\n",
       "    </tr>\n",
       "    <tr>\n",
       "      <th>29</th>\n",
       "      <td>06-2023</td>\n",
       "      <td>Select Hotel</td>\n",
       "      <td>19</td>\n",
       "    </tr>\n",
       "    <tr>\n",
       "      <th>30</th>\n",
       "      <td>07-2023</td>\n",
       "      <td>Select Hotel</td>\n",
       "      <td>24</td>\n",
       "    </tr>\n",
       "    <tr>\n",
       "      <th>31</th>\n",
       "      <td>08-2023</td>\n",
       "      <td>Select Hotel</td>\n",
       "      <td>13</td>\n",
       "    </tr>\n",
       "    <tr>\n",
       "      <th>32</th>\n",
       "      <td>09-2023</td>\n",
       "      <td>Select Hotel</td>\n",
       "      <td>35</td>\n",
       "    </tr>\n",
       "    <tr>\n",
       "      <th>33</th>\n",
       "      <td>10-2023</td>\n",
       "      <td>Select Hotel</td>\n",
       "      <td>15</td>\n",
       "    </tr>\n",
       "    <tr>\n",
       "      <th>34</th>\n",
       "      <td>11-2023</td>\n",
       "      <td>Select Hotel</td>\n",
       "      <td>25</td>\n",
       "    </tr>\n",
       "    <tr>\n",
       "      <th>35</th>\n",
       "      <td>12-2023</td>\n",
       "      <td>Select Hotel</td>\n",
       "      <td>0</td>\n",
       "    </tr>\n",
       "    <tr>\n",
       "      <th>36</th>\n",
       "      <td>01-2023</td>\n",
       "      <td>Imprimerie</td>\n",
       "      <td>27</td>\n",
       "    </tr>\n",
       "    <tr>\n",
       "      <th>37</th>\n",
       "      <td>02-2023</td>\n",
       "      <td>Imprimerie</td>\n",
       "      <td>7</td>\n",
       "    </tr>\n",
       "    <tr>\n",
       "      <th>38</th>\n",
       "      <td>03-2023</td>\n",
       "      <td>Imprimerie</td>\n",
       "      <td>31</td>\n",
       "    </tr>\n",
       "    <tr>\n",
       "      <th>39</th>\n",
       "      <td>04-2023</td>\n",
       "      <td>Imprimerie</td>\n",
       "      <td>27</td>\n",
       "    </tr>\n",
       "    <tr>\n",
       "      <th>40</th>\n",
       "      <td>05-2023</td>\n",
       "      <td>Imprimerie</td>\n",
       "      <td>11</td>\n",
       "    </tr>\n",
       "    <tr>\n",
       "      <th>41</th>\n",
       "      <td>06-2023</td>\n",
       "      <td>Imprimerie</td>\n",
       "      <td>30</td>\n",
       "    </tr>\n",
       "    <tr>\n",
       "      <th>42</th>\n",
       "      <td>07-2023</td>\n",
       "      <td>Imprimerie</td>\n",
       "      <td>16</td>\n",
       "    </tr>\n",
       "    <tr>\n",
       "      <th>43</th>\n",
       "      <td>08-2023</td>\n",
       "      <td>Imprimerie</td>\n",
       "      <td>14</td>\n",
       "    </tr>\n",
       "    <tr>\n",
       "      <th>44</th>\n",
       "      <td>09-2023</td>\n",
       "      <td>Imprimerie</td>\n",
       "      <td>26</td>\n",
       "    </tr>\n",
       "    <tr>\n",
       "      <th>45</th>\n",
       "      <td>10-2023</td>\n",
       "      <td>Imprimerie</td>\n",
       "      <td>20</td>\n",
       "    </tr>\n",
       "    <tr>\n",
       "      <th>46</th>\n",
       "      <td>11-2023</td>\n",
       "      <td>Imprimerie</td>\n",
       "      <td>17</td>\n",
       "    </tr>\n",
       "    <tr>\n",
       "      <th>47</th>\n",
       "      <td>12-2023</td>\n",
       "      <td>Imprimerie</td>\n",
       "      <td>10</td>\n",
       "    </tr>\n",
       "    <tr>\n",
       "      <th>48</th>\n",
       "      <td>01-2023</td>\n",
       "      <td>Milie Rose</td>\n",
       "      <td>0</td>\n",
       "    </tr>\n",
       "    <tr>\n",
       "      <th>49</th>\n",
       "      <td>02-2023</td>\n",
       "      <td>Milie Rose</td>\n",
       "      <td>21</td>\n",
       "    </tr>\n",
       "    <tr>\n",
       "      <th>50</th>\n",
       "      <td>03-2023</td>\n",
       "      <td>Milie Rose</td>\n",
       "      <td>25</td>\n",
       "    </tr>\n",
       "    <tr>\n",
       "      <th>51</th>\n",
       "      <td>04-2023</td>\n",
       "      <td>Milie Rose</td>\n",
       "      <td>15</td>\n",
       "    </tr>\n",
       "    <tr>\n",
       "      <th>52</th>\n",
       "      <td>05-2023</td>\n",
       "      <td>Milie Rose</td>\n",
       "      <td>18</td>\n",
       "    </tr>\n",
       "    <tr>\n",
       "      <th>53</th>\n",
       "      <td>06-2023</td>\n",
       "      <td>Milie Rose</td>\n",
       "      <td>17</td>\n",
       "    </tr>\n",
       "    <tr>\n",
       "      <th>54</th>\n",
       "      <td>07-2023</td>\n",
       "      <td>Milie Rose</td>\n",
       "      <td>22</td>\n",
       "    </tr>\n",
       "    <tr>\n",
       "      <th>55</th>\n",
       "      <td>08-2023</td>\n",
       "      <td>Milie Rose</td>\n",
       "      <td>32</td>\n",
       "    </tr>\n",
       "    <tr>\n",
       "      <th>56</th>\n",
       "      <td>09-2023</td>\n",
       "      <td>Milie Rose</td>\n",
       "      <td>21</td>\n",
       "    </tr>\n",
       "    <tr>\n",
       "      <th>57</th>\n",
       "      <td>10-2023</td>\n",
       "      <td>Milie Rose</td>\n",
       "      <td>13</td>\n",
       "    </tr>\n",
       "    <tr>\n",
       "      <th>58</th>\n",
       "      <td>11-2023</td>\n",
       "      <td>Milie Rose</td>\n",
       "      <td>14</td>\n",
       "    </tr>\n",
       "    <tr>\n",
       "      <th>59</th>\n",
       "      <td>12-2023</td>\n",
       "      <td>Milie Rose</td>\n",
       "      <td>16</td>\n",
       "    </tr>\n",
       "  </tbody>\n",
       "</table>\n",
       "</div>"
      ],
      "text/plain": [
       "   periode_debut    Propriété_clean  Missions\n",
       "0        01-2023  Ibis Montparnasse        56\n",
       "1        02-2023  Ibis Montparnasse        49\n",
       "2        03-2023  Ibis Montparnasse        52\n",
       "3        04-2023  Ibis Montparnasse        65\n",
       "4        05-2023  Ibis Montparnasse        50\n",
       "5        06-2023  Ibis Montparnasse        68\n",
       "6        07-2023  Ibis Montparnasse       102\n",
       "7        08-2023  Ibis Montparnasse       109\n",
       "8        09-2023  Ibis Montparnasse        89\n",
       "9        10-2023  Ibis Montparnasse        97\n",
       "10       11-2023  Ibis Montparnasse        79\n",
       "11       12-2023  Ibis Montparnasse        53\n",
       "12       01-2023  Le Grand Quartier        25\n",
       "13       02-2023  Le Grand Quartier        30\n",
       "14       03-2023  Le Grand Quartier        21\n",
       "15       04-2023  Le Grand Quartier        15\n",
       "16       05-2023  Le Grand Quartier        16\n",
       "17       06-2023  Le Grand Quartier        32\n",
       "18       07-2023  Le Grand Quartier        26\n",
       "19       08-2023  Le Grand Quartier        35\n",
       "20       09-2023  Le Grand Quartier        34\n",
       "21       10-2023  Le Grand Quartier        34\n",
       "22       11-2023  Le Grand Quartier        13\n",
       "23       12-2023  Le Grand Quartier         2\n",
       "24       01-2023       Select Hotel        52\n",
       "25       02-2023       Select Hotel        41\n",
       "26       03-2023       Select Hotel         6\n",
       "27       04-2023       Select Hotel        11\n",
       "28       05-2023       Select Hotel        14\n",
       "29       06-2023       Select Hotel        19\n",
       "30       07-2023       Select Hotel        24\n",
       "31       08-2023       Select Hotel        13\n",
       "32       09-2023       Select Hotel        35\n",
       "33       10-2023       Select Hotel        15\n",
       "34       11-2023       Select Hotel        25\n",
       "35       12-2023       Select Hotel         0\n",
       "36       01-2023         Imprimerie        27\n",
       "37       02-2023         Imprimerie         7\n",
       "38       03-2023         Imprimerie        31\n",
       "39       04-2023         Imprimerie        27\n",
       "40       05-2023         Imprimerie        11\n",
       "41       06-2023         Imprimerie        30\n",
       "42       07-2023         Imprimerie        16\n",
       "43       08-2023         Imprimerie        14\n",
       "44       09-2023         Imprimerie        26\n",
       "45       10-2023         Imprimerie        20\n",
       "46       11-2023         Imprimerie        17\n",
       "47       12-2023         Imprimerie        10\n",
       "48       01-2023         Milie Rose         0\n",
       "49       02-2023         Milie Rose        21\n",
       "50       03-2023         Milie Rose        25\n",
       "51       04-2023         Milie Rose        15\n",
       "52       05-2023         Milie Rose        18\n",
       "53       06-2023         Milie Rose        17\n",
       "54       07-2023         Milie Rose        22\n",
       "55       08-2023         Milie Rose        32\n",
       "56       09-2023         Milie Rose        21\n",
       "57       10-2023         Milie Rose        13\n",
       "58       11-2023         Milie Rose        14\n",
       "59       12-2023         Milie Rose        16"
      ]
     },
     "execution_count": 26,
     "metadata": {},
     "output_type": "execute_result"
    }
   ],
   "source": [
    "by_year = data.loc[data[\"date_debut\"].dt.year.astype(str) == years[1], [\"Propriété_clean\",\"periode_debut\"]]\n",
    "by_year[\"count\"] = 1\n",
    "by_year = by_year.pivot_table(index=\"periode_debut\", values=\"count\",columns=['Propriété_clean'], aggfunc=\"count\", fill_value=0)\n",
    "\n",
    "top_hotels = by_year.sum().sort_values(ascending=False)[:top].index.to_list()\n",
    "top_by_year = by_year.loc[:,top_hotels]\n",
    "top_by_year = pd.melt(top_by_year.reset_index(), id_vars=\"periode_debut\", value_name=\"Missions\")\n",
    "top_by_year"
   ]
  },
  {
   "cell_type": "code",
   "execution_count": null,
   "metadata": {},
   "outputs": [
    {
     "data": {
      "application/vnd.plotly.v1+json": {
       "config": {
        "plotlyServerURL": "https://plot.ly"
       },
       "data": [
        {
         "hovertemplate": "Propriété_clean=Ibis Montparnasse<br>periode_debut=%{x}<br>Missions=%{y}<extra></extra>",
         "legendgroup": "Ibis Montparnasse",
         "line": {
          "color": "#636efa",
          "dash": "solid"
         },
         "marker": {
          "symbol": "circle"
         },
         "mode": "markers+lines",
         "name": "Ibis Montparnasse",
         "orientation": "v",
         "showlegend": true,
         "type": "scatter",
         "x": [
          "01-2023",
          "02-2023",
          "03-2023",
          "04-2023",
          "05-2023",
          "06-2023",
          "07-2023",
          "08-2023",
          "09-2023",
          "10-2023",
          "11-2023",
          "12-2023"
         ],
         "xaxis": "x",
         "y": [
          56,
          49,
          52,
          65,
          50,
          68,
          102,
          109,
          89,
          97,
          79,
          53
         ],
         "yaxis": "y"
        },
        {
         "hovertemplate": "Propriété_clean=Le Grand Quartier<br>periode_debut=%{x}<br>Missions=%{y}<extra></extra>",
         "legendgroup": "Le Grand Quartier",
         "line": {
          "color": "#EF553B",
          "dash": "solid"
         },
         "marker": {
          "symbol": "circle"
         },
         "mode": "markers+lines",
         "name": "Le Grand Quartier",
         "orientation": "v",
         "showlegend": true,
         "type": "scatter",
         "x": [
          "01-2023",
          "02-2023",
          "03-2023",
          "04-2023",
          "05-2023",
          "06-2023",
          "07-2023",
          "08-2023",
          "09-2023",
          "10-2023",
          "11-2023",
          "12-2023"
         ],
         "xaxis": "x",
         "y": [
          25,
          30,
          21,
          15,
          16,
          32,
          26,
          35,
          34,
          34,
          13,
          2
         ],
         "yaxis": "y"
        },
        {
         "hovertemplate": "Propriété_clean=Select Hotel<br>periode_debut=%{x}<br>Missions=%{y}<extra></extra>",
         "legendgroup": "Select Hotel",
         "line": {
          "color": "#00cc96",
          "dash": "solid"
         },
         "marker": {
          "symbol": "circle"
         },
         "mode": "markers+lines",
         "name": "Select Hotel",
         "orientation": "v",
         "showlegend": true,
         "type": "scatter",
         "x": [
          "01-2023",
          "02-2023",
          "03-2023",
          "04-2023",
          "05-2023",
          "06-2023",
          "07-2023",
          "08-2023",
          "09-2023",
          "10-2023",
          "11-2023",
          "12-2023"
         ],
         "xaxis": "x",
         "y": [
          52,
          41,
          6,
          11,
          14,
          19,
          24,
          13,
          35,
          15,
          25,
          0
         ],
         "yaxis": "y"
        },
        {
         "hovertemplate": "Propriété_clean=Imprimerie<br>periode_debut=%{x}<br>Missions=%{y}<extra></extra>",
         "legendgroup": "Imprimerie",
         "line": {
          "color": "#ab63fa",
          "dash": "solid"
         },
         "marker": {
          "symbol": "circle"
         },
         "mode": "markers+lines",
         "name": "Imprimerie",
         "orientation": "v",
         "showlegend": true,
         "type": "scatter",
         "x": [
          "01-2023",
          "02-2023",
          "03-2023",
          "04-2023",
          "05-2023",
          "06-2023",
          "07-2023",
          "08-2023",
          "09-2023",
          "10-2023",
          "11-2023",
          "12-2023"
         ],
         "xaxis": "x",
         "y": [
          27,
          7,
          31,
          27,
          11,
          30,
          16,
          14,
          26,
          20,
          17,
          10
         ],
         "yaxis": "y"
        },
        {
         "hovertemplate": "Propriété_clean=Milie Rose<br>periode_debut=%{x}<br>Missions=%{y}<extra></extra>",
         "legendgroup": "Milie Rose",
         "line": {
          "color": "#FFA15A",
          "dash": "solid"
         },
         "marker": {
          "symbol": "circle"
         },
         "mode": "markers+lines",
         "name": "Milie Rose",
         "orientation": "v",
         "showlegend": true,
         "type": "scatter",
         "x": [
          "01-2023",
          "02-2023",
          "03-2023",
          "04-2023",
          "05-2023",
          "06-2023",
          "07-2023",
          "08-2023",
          "09-2023",
          "10-2023",
          "11-2023",
          "12-2023"
         ],
         "xaxis": "x",
         "y": [
          0,
          21,
          25,
          15,
          18,
          17,
          22,
          32,
          21,
          13,
          14,
          16
         ],
         "yaxis": "y"
        }
       ],
       "layout": {
        "legend": {
         "title": {
          "text": "Propriété_clean"
         },
         "tracegroupgap": 0
        },
        "margin": {
         "t": 60
        },
        "template": {
         "data": {
          "bar": [
           {
            "error_x": {
             "color": "#2a3f5f"
            },
            "error_y": {
             "color": "#2a3f5f"
            },
            "marker": {
             "line": {
              "color": "#E5ECF6",
              "width": 0.5
             },
             "pattern": {
              "fillmode": "overlay",
              "size": 10,
              "solidity": 0.2
             }
            },
            "type": "bar"
           }
          ],
          "barpolar": [
           {
            "marker": {
             "line": {
              "color": "#E5ECF6",
              "width": 0.5
             },
             "pattern": {
              "fillmode": "overlay",
              "size": 10,
              "solidity": 0.2
             }
            },
            "type": "barpolar"
           }
          ],
          "carpet": [
           {
            "aaxis": {
             "endlinecolor": "#2a3f5f",
             "gridcolor": "white",
             "linecolor": "white",
             "minorgridcolor": "white",
             "startlinecolor": "#2a3f5f"
            },
            "baxis": {
             "endlinecolor": "#2a3f5f",
             "gridcolor": "white",
             "linecolor": "white",
             "minorgridcolor": "white",
             "startlinecolor": "#2a3f5f"
            },
            "type": "carpet"
           }
          ],
          "choropleth": [
           {
            "colorbar": {
             "outlinewidth": 0,
             "ticks": ""
            },
            "type": "choropleth"
           }
          ],
          "contour": [
           {
            "colorbar": {
             "outlinewidth": 0,
             "ticks": ""
            },
            "colorscale": [
             [
              0,
              "#0d0887"
             ],
             [
              0.1111111111111111,
              "#46039f"
             ],
             [
              0.2222222222222222,
              "#7201a8"
             ],
             [
              0.3333333333333333,
              "#9c179e"
             ],
             [
              0.4444444444444444,
              "#bd3786"
             ],
             [
              0.5555555555555556,
              "#d8576b"
             ],
             [
              0.6666666666666666,
              "#ed7953"
             ],
             [
              0.7777777777777778,
              "#fb9f3a"
             ],
             [
              0.8888888888888888,
              "#fdca26"
             ],
             [
              1,
              "#f0f921"
             ]
            ],
            "type": "contour"
           }
          ],
          "contourcarpet": [
           {
            "colorbar": {
             "outlinewidth": 0,
             "ticks": ""
            },
            "type": "contourcarpet"
           }
          ],
          "heatmap": [
           {
            "colorbar": {
             "outlinewidth": 0,
             "ticks": ""
            },
            "colorscale": [
             [
              0,
              "#0d0887"
             ],
             [
              0.1111111111111111,
              "#46039f"
             ],
             [
              0.2222222222222222,
              "#7201a8"
             ],
             [
              0.3333333333333333,
              "#9c179e"
             ],
             [
              0.4444444444444444,
              "#bd3786"
             ],
             [
              0.5555555555555556,
              "#d8576b"
             ],
             [
              0.6666666666666666,
              "#ed7953"
             ],
             [
              0.7777777777777778,
              "#fb9f3a"
             ],
             [
              0.8888888888888888,
              "#fdca26"
             ],
             [
              1,
              "#f0f921"
             ]
            ],
            "type": "heatmap"
           }
          ],
          "heatmapgl": [
           {
            "colorbar": {
             "outlinewidth": 0,
             "ticks": ""
            },
            "colorscale": [
             [
              0,
              "#0d0887"
             ],
             [
              0.1111111111111111,
              "#46039f"
             ],
             [
              0.2222222222222222,
              "#7201a8"
             ],
             [
              0.3333333333333333,
              "#9c179e"
             ],
             [
              0.4444444444444444,
              "#bd3786"
             ],
             [
              0.5555555555555556,
              "#d8576b"
             ],
             [
              0.6666666666666666,
              "#ed7953"
             ],
             [
              0.7777777777777778,
              "#fb9f3a"
             ],
             [
              0.8888888888888888,
              "#fdca26"
             ],
             [
              1,
              "#f0f921"
             ]
            ],
            "type": "heatmapgl"
           }
          ],
          "histogram": [
           {
            "marker": {
             "pattern": {
              "fillmode": "overlay",
              "size": 10,
              "solidity": 0.2
             }
            },
            "type": "histogram"
           }
          ],
          "histogram2d": [
           {
            "colorbar": {
             "outlinewidth": 0,
             "ticks": ""
            },
            "colorscale": [
             [
              0,
              "#0d0887"
             ],
             [
              0.1111111111111111,
              "#46039f"
             ],
             [
              0.2222222222222222,
              "#7201a8"
             ],
             [
              0.3333333333333333,
              "#9c179e"
             ],
             [
              0.4444444444444444,
              "#bd3786"
             ],
             [
              0.5555555555555556,
              "#d8576b"
             ],
             [
              0.6666666666666666,
              "#ed7953"
             ],
             [
              0.7777777777777778,
              "#fb9f3a"
             ],
             [
              0.8888888888888888,
              "#fdca26"
             ],
             [
              1,
              "#f0f921"
             ]
            ],
            "type": "histogram2d"
           }
          ],
          "histogram2dcontour": [
           {
            "colorbar": {
             "outlinewidth": 0,
             "ticks": ""
            },
            "colorscale": [
             [
              0,
              "#0d0887"
             ],
             [
              0.1111111111111111,
              "#46039f"
             ],
             [
              0.2222222222222222,
              "#7201a8"
             ],
             [
              0.3333333333333333,
              "#9c179e"
             ],
             [
              0.4444444444444444,
              "#bd3786"
             ],
             [
              0.5555555555555556,
              "#d8576b"
             ],
             [
              0.6666666666666666,
              "#ed7953"
             ],
             [
              0.7777777777777778,
              "#fb9f3a"
             ],
             [
              0.8888888888888888,
              "#fdca26"
             ],
             [
              1,
              "#f0f921"
             ]
            ],
            "type": "histogram2dcontour"
           }
          ],
          "mesh3d": [
           {
            "colorbar": {
             "outlinewidth": 0,
             "ticks": ""
            },
            "type": "mesh3d"
           }
          ],
          "parcoords": [
           {
            "line": {
             "colorbar": {
              "outlinewidth": 0,
              "ticks": ""
             }
            },
            "type": "parcoords"
           }
          ],
          "pie": [
           {
            "automargin": true,
            "type": "pie"
           }
          ],
          "scatter": [
           {
            "fillpattern": {
             "fillmode": "overlay",
             "size": 10,
             "solidity": 0.2
            },
            "type": "scatter"
           }
          ],
          "scatter3d": [
           {
            "line": {
             "colorbar": {
              "outlinewidth": 0,
              "ticks": ""
             }
            },
            "marker": {
             "colorbar": {
              "outlinewidth": 0,
              "ticks": ""
             }
            },
            "type": "scatter3d"
           }
          ],
          "scattercarpet": [
           {
            "marker": {
             "colorbar": {
              "outlinewidth": 0,
              "ticks": ""
             }
            },
            "type": "scattercarpet"
           }
          ],
          "scattergeo": [
           {
            "marker": {
             "colorbar": {
              "outlinewidth": 0,
              "ticks": ""
             }
            },
            "type": "scattergeo"
           }
          ],
          "scattergl": [
           {
            "marker": {
             "colorbar": {
              "outlinewidth": 0,
              "ticks": ""
             }
            },
            "type": "scattergl"
           }
          ],
          "scattermapbox": [
           {
            "marker": {
             "colorbar": {
              "outlinewidth": 0,
              "ticks": ""
             }
            },
            "type": "scattermapbox"
           }
          ],
          "scatterpolar": [
           {
            "marker": {
             "colorbar": {
              "outlinewidth": 0,
              "ticks": ""
             }
            },
            "type": "scatterpolar"
           }
          ],
          "scatterpolargl": [
           {
            "marker": {
             "colorbar": {
              "outlinewidth": 0,
              "ticks": ""
             }
            },
            "type": "scatterpolargl"
           }
          ],
          "scatterternary": [
           {
            "marker": {
             "colorbar": {
              "outlinewidth": 0,
              "ticks": ""
             }
            },
            "type": "scatterternary"
           }
          ],
          "surface": [
           {
            "colorbar": {
             "outlinewidth": 0,
             "ticks": ""
            },
            "colorscale": [
             [
              0,
              "#0d0887"
             ],
             [
              0.1111111111111111,
              "#46039f"
             ],
             [
              0.2222222222222222,
              "#7201a8"
             ],
             [
              0.3333333333333333,
              "#9c179e"
             ],
             [
              0.4444444444444444,
              "#bd3786"
             ],
             [
              0.5555555555555556,
              "#d8576b"
             ],
             [
              0.6666666666666666,
              "#ed7953"
             ],
             [
              0.7777777777777778,
              "#fb9f3a"
             ],
             [
              0.8888888888888888,
              "#fdca26"
             ],
             [
              1,
              "#f0f921"
             ]
            ],
            "type": "surface"
           }
          ],
          "table": [
           {
            "cells": {
             "fill": {
              "color": "#EBF0F8"
             },
             "line": {
              "color": "white"
             }
            },
            "header": {
             "fill": {
              "color": "#C8D4E3"
             },
             "line": {
              "color": "white"
             }
            },
            "type": "table"
           }
          ]
         },
         "layout": {
          "annotationdefaults": {
           "arrowcolor": "#2a3f5f",
           "arrowhead": 0,
           "arrowwidth": 1
          },
          "autotypenumbers": "strict",
          "coloraxis": {
           "colorbar": {
            "outlinewidth": 0,
            "ticks": ""
           }
          },
          "colorscale": {
           "diverging": [
            [
             0,
             "#8e0152"
            ],
            [
             0.1,
             "#c51b7d"
            ],
            [
             0.2,
             "#de77ae"
            ],
            [
             0.3,
             "#f1b6da"
            ],
            [
             0.4,
             "#fde0ef"
            ],
            [
             0.5,
             "#f7f7f7"
            ],
            [
             0.6,
             "#e6f5d0"
            ],
            [
             0.7,
             "#b8e186"
            ],
            [
             0.8,
             "#7fbc41"
            ],
            [
             0.9,
             "#4d9221"
            ],
            [
             1,
             "#276419"
            ]
           ],
           "sequential": [
            [
             0,
             "#0d0887"
            ],
            [
             0.1111111111111111,
             "#46039f"
            ],
            [
             0.2222222222222222,
             "#7201a8"
            ],
            [
             0.3333333333333333,
             "#9c179e"
            ],
            [
             0.4444444444444444,
             "#bd3786"
            ],
            [
             0.5555555555555556,
             "#d8576b"
            ],
            [
             0.6666666666666666,
             "#ed7953"
            ],
            [
             0.7777777777777778,
             "#fb9f3a"
            ],
            [
             0.8888888888888888,
             "#fdca26"
            ],
            [
             1,
             "#f0f921"
            ]
           ],
           "sequentialminus": [
            [
             0,
             "#0d0887"
            ],
            [
             0.1111111111111111,
             "#46039f"
            ],
            [
             0.2222222222222222,
             "#7201a8"
            ],
            [
             0.3333333333333333,
             "#9c179e"
            ],
            [
             0.4444444444444444,
             "#bd3786"
            ],
            [
             0.5555555555555556,
             "#d8576b"
            ],
            [
             0.6666666666666666,
             "#ed7953"
            ],
            [
             0.7777777777777778,
             "#fb9f3a"
            ],
            [
             0.8888888888888888,
             "#fdca26"
            ],
            [
             1,
             "#f0f921"
            ]
           ]
          },
          "colorway": [
           "#636efa",
           "#EF553B",
           "#00cc96",
           "#ab63fa",
           "#FFA15A",
           "#19d3f3",
           "#FF6692",
           "#B6E880",
           "#FF97FF",
           "#FECB52"
          ],
          "font": {
           "color": "#2a3f5f"
          },
          "geo": {
           "bgcolor": "white",
           "lakecolor": "white",
           "landcolor": "#E5ECF6",
           "showlakes": true,
           "showland": true,
           "subunitcolor": "white"
          },
          "hoverlabel": {
           "align": "left"
          },
          "hovermode": "closest",
          "mapbox": {
           "style": "light"
          },
          "paper_bgcolor": "white",
          "plot_bgcolor": "#E5ECF6",
          "polar": {
           "angularaxis": {
            "gridcolor": "white",
            "linecolor": "white",
            "ticks": ""
           },
           "bgcolor": "#E5ECF6",
           "radialaxis": {
            "gridcolor": "white",
            "linecolor": "white",
            "ticks": ""
           }
          },
          "scene": {
           "xaxis": {
            "backgroundcolor": "#E5ECF6",
            "gridcolor": "white",
            "gridwidth": 2,
            "linecolor": "white",
            "showbackground": true,
            "ticks": "",
            "zerolinecolor": "white"
           },
           "yaxis": {
            "backgroundcolor": "#E5ECF6",
            "gridcolor": "white",
            "gridwidth": 2,
            "linecolor": "white",
            "showbackground": true,
            "ticks": "",
            "zerolinecolor": "white"
           },
           "zaxis": {
            "backgroundcolor": "#E5ECF6",
            "gridcolor": "white",
            "gridwidth": 2,
            "linecolor": "white",
            "showbackground": true,
            "ticks": "",
            "zerolinecolor": "white"
           }
          },
          "shapedefaults": {
           "line": {
            "color": "#2a3f5f"
           }
          },
          "ternary": {
           "aaxis": {
            "gridcolor": "white",
            "linecolor": "white",
            "ticks": ""
           },
           "baxis": {
            "gridcolor": "white",
            "linecolor": "white",
            "ticks": ""
           },
           "bgcolor": "#E5ECF6",
           "caxis": {
            "gridcolor": "white",
            "linecolor": "white",
            "ticks": ""
           }
          },
          "title": {
           "x": 0.05
          },
          "xaxis": {
           "automargin": true,
           "gridcolor": "white",
           "linecolor": "white",
           "ticks": "",
           "title": {
            "standoff": 15
           },
           "zerolinecolor": "white",
           "zerolinewidth": 2
          },
          "yaxis": {
           "automargin": true,
           "gridcolor": "white",
           "linecolor": "white",
           "ticks": "",
           "title": {
            "standoff": 15
           },
           "zerolinecolor": "white",
           "zerolinewidth": 2
          }
         }
        },
        "xaxis": {
         "anchor": "y",
         "domain": [
          0,
          1
         ],
         "title": {
          "text": "periode_debut"
         }
        },
        "yaxis": {
         "anchor": "x",
         "domain": [
          0,
          1
         ],
         "title": {
          "text": "Missions"
         }
        }
       }
      }
     },
     "metadata": {},
     "output_type": "display_data"
    }
   ],
   "source": [
    "top = 5\n",
    "years = data[\"date_debut\"].dt.year.astype(str).unique()\n",
    "by_year = data.loc[data[\"date_debut\"].dt.year.astype(str) == years[1], [\"Propriété_clean\",\"periode_debut\"]]\n",
    "by_year[\"count\"] = 1\n",
    "by_year = by_year.pivot_table(index=\"periode_debut\", values=\"count\",columns=['Propriété_clean'], aggfunc=\"count\", fill_value=0)\n",
    "\n",
    "top_hotels = by_year.sum().sort_values(ascending=False)[:top].index.to_list()\n",
    "top_by_year = by_year.loc[:,top_hotels]\n",
    "top_by_year = pd.melt(top_by_year.reset_index(), id_vars=\"periode_debut\", value_name=\"Missions\")\n",
    "\n",
    "px.line(top_by_year, x=\"periode_debut\", y =\"Missions\", color=\"Propriété_clean\", markers=True)\n"
   ]
  },
  {
   "cell_type": "code",
   "execution_count": null,
   "metadata": {},
   "outputs": [],
   "source": []
  },
  {
   "cell_type": "code",
   "execution_count": null,
   "metadata": {},
   "outputs": [
    {
     "data": {
      "text/html": [
       "<div>\n",
       "<style scoped>\n",
       "    .dataframe tbody tr th:only-of-type {\n",
       "        vertical-align: middle;\n",
       "    }\n",
       "\n",
       "    .dataframe tbody tr th {\n",
       "        vertical-align: top;\n",
       "    }\n",
       "\n",
       "    .dataframe thead th {\n",
       "        text-align: right;\n",
       "    }\n",
       "</style>\n",
       "<table border=\"1\" class=\"dataframe\">\n",
       "  <thead>\n",
       "    <tr style=\"text-align: right;\">\n",
       "      <th>Propriété_clean</th>\n",
       "      <th>Alberte</th>\n",
       "      <th>Apogé</th>\n",
       "      <th>Chouchou</th>\n",
       "      <th>Courseine</th>\n",
       "      <th>Crystal</th>\n",
       "      <th>Drawing House</th>\n",
       "      <th>Edouard VI</th>\n",
       "      <th>French Theory</th>\n",
       "      <th>Ibis Montparnasse</th>\n",
       "      <th>Imprimerie</th>\n",
       "      <th>...</th>\n",
       "      <th>Parisianer</th>\n",
       "      <th>Parisis</th>\n",
       "      <th>Peper and paper</th>\n",
       "      <th>Prélude</th>\n",
       "      <th>Quinzerie hotel</th>\n",
       "      <th>Select Hotel</th>\n",
       "      <th>Touraine</th>\n",
       "      <th>Tsuba</th>\n",
       "      <th>Victoire et Germain</th>\n",
       "      <th>Yllen Eiffel</th>\n",
       "    </tr>\n",
       "    <tr>\n",
       "      <th>periode_debut</th>\n",
       "      <th></th>\n",
       "      <th></th>\n",
       "      <th></th>\n",
       "      <th></th>\n",
       "      <th></th>\n",
       "      <th></th>\n",
       "      <th></th>\n",
       "      <th></th>\n",
       "      <th></th>\n",
       "      <th></th>\n",
       "      <th></th>\n",
       "      <th></th>\n",
       "      <th></th>\n",
       "      <th></th>\n",
       "      <th></th>\n",
       "      <th></th>\n",
       "      <th></th>\n",
       "      <th></th>\n",
       "      <th></th>\n",
       "      <th></th>\n",
       "      <th></th>\n",
       "    </tr>\n",
       "  </thead>\n",
       "  <tbody>\n",
       "    <tr>\n",
       "      <th>01-2023</th>\n",
       "      <td>0</td>\n",
       "      <td>7</td>\n",
       "      <td>0</td>\n",
       "      <td>3</td>\n",
       "      <td>4</td>\n",
       "      <td>5</td>\n",
       "      <td>0</td>\n",
       "      <td>0</td>\n",
       "      <td>56</td>\n",
       "      <td>27</td>\n",
       "      <td>...</td>\n",
       "      <td>0</td>\n",
       "      <td>0</td>\n",
       "      <td>0</td>\n",
       "      <td>2</td>\n",
       "      <td>2</td>\n",
       "      <td>52</td>\n",
       "      <td>5</td>\n",
       "      <td>3</td>\n",
       "      <td>1</td>\n",
       "      <td>13</td>\n",
       "    </tr>\n",
       "    <tr>\n",
       "      <th>02-2023</th>\n",
       "      <td>0</td>\n",
       "      <td>3</td>\n",
       "      <td>0</td>\n",
       "      <td>0</td>\n",
       "      <td>7</td>\n",
       "      <td>0</td>\n",
       "      <td>1</td>\n",
       "      <td>3</td>\n",
       "      <td>49</td>\n",
       "      <td>7</td>\n",
       "      <td>...</td>\n",
       "      <td>0</td>\n",
       "      <td>0</td>\n",
       "      <td>1</td>\n",
       "      <td>0</td>\n",
       "      <td>0</td>\n",
       "      <td>41</td>\n",
       "      <td>4</td>\n",
       "      <td>16</td>\n",
       "      <td>1</td>\n",
       "      <td>16</td>\n",
       "    </tr>\n",
       "    <tr>\n",
       "      <th>03-2023</th>\n",
       "      <td>0</td>\n",
       "      <td>9</td>\n",
       "      <td>0</td>\n",
       "      <td>8</td>\n",
       "      <td>5</td>\n",
       "      <td>0</td>\n",
       "      <td>2</td>\n",
       "      <td>0</td>\n",
       "      <td>52</td>\n",
       "      <td>31</td>\n",
       "      <td>...</td>\n",
       "      <td>0</td>\n",
       "      <td>0</td>\n",
       "      <td>0</td>\n",
       "      <td>0</td>\n",
       "      <td>3</td>\n",
       "      <td>6</td>\n",
       "      <td>0</td>\n",
       "      <td>16</td>\n",
       "      <td>1</td>\n",
       "      <td>13</td>\n",
       "    </tr>\n",
       "    <tr>\n",
       "      <th>04-2023</th>\n",
       "      <td>0</td>\n",
       "      <td>0</td>\n",
       "      <td>0</td>\n",
       "      <td>1</td>\n",
       "      <td>6</td>\n",
       "      <td>5</td>\n",
       "      <td>7</td>\n",
       "      <td>7</td>\n",
       "      <td>65</td>\n",
       "      <td>27</td>\n",
       "      <td>...</td>\n",
       "      <td>0</td>\n",
       "      <td>0</td>\n",
       "      <td>0</td>\n",
       "      <td>9</td>\n",
       "      <td>6</td>\n",
       "      <td>11</td>\n",
       "      <td>1</td>\n",
       "      <td>3</td>\n",
       "      <td>3</td>\n",
       "      <td>8</td>\n",
       "    </tr>\n",
       "    <tr>\n",
       "      <th>05-2023</th>\n",
       "      <td>0</td>\n",
       "      <td>0</td>\n",
       "      <td>0</td>\n",
       "      <td>5</td>\n",
       "      <td>5</td>\n",
       "      <td>15</td>\n",
       "      <td>0</td>\n",
       "      <td>8</td>\n",
       "      <td>50</td>\n",
       "      <td>11</td>\n",
       "      <td>...</td>\n",
       "      <td>0</td>\n",
       "      <td>0</td>\n",
       "      <td>0</td>\n",
       "      <td>5</td>\n",
       "      <td>1</td>\n",
       "      <td>14</td>\n",
       "      <td>8</td>\n",
       "      <td>16</td>\n",
       "      <td>4</td>\n",
       "      <td>7</td>\n",
       "    </tr>\n",
       "    <tr>\n",
       "      <th>06-2023</th>\n",
       "      <td>0</td>\n",
       "      <td>12</td>\n",
       "      <td>0</td>\n",
       "      <td>3</td>\n",
       "      <td>6</td>\n",
       "      <td>0</td>\n",
       "      <td>0</td>\n",
       "      <td>6</td>\n",
       "      <td>68</td>\n",
       "      <td>30</td>\n",
       "      <td>...</td>\n",
       "      <td>0</td>\n",
       "      <td>4</td>\n",
       "      <td>0</td>\n",
       "      <td>0</td>\n",
       "      <td>3</td>\n",
       "      <td>19</td>\n",
       "      <td>7</td>\n",
       "      <td>6</td>\n",
       "      <td>2</td>\n",
       "      <td>4</td>\n",
       "    </tr>\n",
       "    <tr>\n",
       "      <th>07-2023</th>\n",
       "      <td>0</td>\n",
       "      <td>0</td>\n",
       "      <td>0</td>\n",
       "      <td>0</td>\n",
       "      <td>10</td>\n",
       "      <td>21</td>\n",
       "      <td>13</td>\n",
       "      <td>1</td>\n",
       "      <td>102</td>\n",
       "      <td>16</td>\n",
       "      <td>...</td>\n",
       "      <td>3</td>\n",
       "      <td>1</td>\n",
       "      <td>0</td>\n",
       "      <td>0</td>\n",
       "      <td>0</td>\n",
       "      <td>24</td>\n",
       "      <td>12</td>\n",
       "      <td>13</td>\n",
       "      <td>1</td>\n",
       "      <td>12</td>\n",
       "    </tr>\n",
       "    <tr>\n",
       "      <th>08-2023</th>\n",
       "      <td>0</td>\n",
       "      <td>0</td>\n",
       "      <td>0</td>\n",
       "      <td>9</td>\n",
       "      <td>8</td>\n",
       "      <td>13</td>\n",
       "      <td>0</td>\n",
       "      <td>1</td>\n",
       "      <td>109</td>\n",
       "      <td>14</td>\n",
       "      <td>...</td>\n",
       "      <td>10</td>\n",
       "      <td>9</td>\n",
       "      <td>0</td>\n",
       "      <td>1</td>\n",
       "      <td>5</td>\n",
       "      <td>13</td>\n",
       "      <td>17</td>\n",
       "      <td>16</td>\n",
       "      <td>7</td>\n",
       "      <td>12</td>\n",
       "    </tr>\n",
       "    <tr>\n",
       "      <th>09-2023</th>\n",
       "      <td>2</td>\n",
       "      <td>0</td>\n",
       "      <td>4</td>\n",
       "      <td>0</td>\n",
       "      <td>1</td>\n",
       "      <td>13</td>\n",
       "      <td>0</td>\n",
       "      <td>9</td>\n",
       "      <td>89</td>\n",
       "      <td>26</td>\n",
       "      <td>...</td>\n",
       "      <td>3</td>\n",
       "      <td>2</td>\n",
       "      <td>0</td>\n",
       "      <td>0</td>\n",
       "      <td>0</td>\n",
       "      <td>35</td>\n",
       "      <td>4</td>\n",
       "      <td>2</td>\n",
       "      <td>3</td>\n",
       "      <td>5</td>\n",
       "    </tr>\n",
       "    <tr>\n",
       "      <th>10-2023</th>\n",
       "      <td>1</td>\n",
       "      <td>0</td>\n",
       "      <td>3</td>\n",
       "      <td>1</td>\n",
       "      <td>6</td>\n",
       "      <td>2</td>\n",
       "      <td>0</td>\n",
       "      <td>1</td>\n",
       "      <td>97</td>\n",
       "      <td>20</td>\n",
       "      <td>...</td>\n",
       "      <td>1</td>\n",
       "      <td>4</td>\n",
       "      <td>0</td>\n",
       "      <td>0</td>\n",
       "      <td>0</td>\n",
       "      <td>15</td>\n",
       "      <td>0</td>\n",
       "      <td>12</td>\n",
       "      <td>2</td>\n",
       "      <td>12</td>\n",
       "    </tr>\n",
       "    <tr>\n",
       "      <th>11-2023</th>\n",
       "      <td>0</td>\n",
       "      <td>0</td>\n",
       "      <td>4</td>\n",
       "      <td>5</td>\n",
       "      <td>2</td>\n",
       "      <td>3</td>\n",
       "      <td>0</td>\n",
       "      <td>4</td>\n",
       "      <td>79</td>\n",
       "      <td>17</td>\n",
       "      <td>...</td>\n",
       "      <td>0</td>\n",
       "      <td>9</td>\n",
       "      <td>0</td>\n",
       "      <td>0</td>\n",
       "      <td>0</td>\n",
       "      <td>25</td>\n",
       "      <td>0</td>\n",
       "      <td>13</td>\n",
       "      <td>0</td>\n",
       "      <td>5</td>\n",
       "    </tr>\n",
       "    <tr>\n",
       "      <th>12-2023</th>\n",
       "      <td>2</td>\n",
       "      <td>0</td>\n",
       "      <td>1</td>\n",
       "      <td>5</td>\n",
       "      <td>0</td>\n",
       "      <td>5</td>\n",
       "      <td>0</td>\n",
       "      <td>0</td>\n",
       "      <td>53</td>\n",
       "      <td>10</td>\n",
       "      <td>...</td>\n",
       "      <td>0</td>\n",
       "      <td>0</td>\n",
       "      <td>0</td>\n",
       "      <td>0</td>\n",
       "      <td>0</td>\n",
       "      <td>0</td>\n",
       "      <td>10</td>\n",
       "      <td>0</td>\n",
       "      <td>1</td>\n",
       "      <td>2</td>\n",
       "    </tr>\n",
       "  </tbody>\n",
       "</table>\n",
       "<p>12 rows × 28 columns</p>\n",
       "</div>"
      ],
      "text/plain": [
       "Propriété_clean  Alberte   Apogé  Chouchou  Courseine  Crystal  Drawing House  \\\n",
       "periode_debut                                                                   \n",
       "01-2023                 0      7         0          3        4              5   \n",
       "02-2023                 0      3         0          0        7              0   \n",
       "03-2023                 0      9         0          8        5              0   \n",
       "04-2023                 0      0         0          1        6              5   \n",
       "05-2023                 0      0         0          5        5             15   \n",
       "06-2023                 0     12         0          3        6              0   \n",
       "07-2023                 0      0         0          0       10             21   \n",
       "08-2023                 0      0         0          9        8             13   \n",
       "09-2023                 2      0         4          0        1             13   \n",
       "10-2023                 1      0         3          1        6              2   \n",
       "11-2023                 0      0         4          5        2              3   \n",
       "12-2023                 2      0         1          5        0              5   \n",
       "\n",
       "Propriété_clean  Edouard VI  French Theory  Ibis Montparnasse  Imprimerie  \\\n",
       "periode_debut                                                               \n",
       "01-2023                   0              0                 56          27   \n",
       "02-2023                   1              3                 49           7   \n",
       "03-2023                   2              0                 52          31   \n",
       "04-2023                   7              7                 65          27   \n",
       "05-2023                   0              8                 50          11   \n",
       "06-2023                   0              6                 68          30   \n",
       "07-2023                  13              1                102          16   \n",
       "08-2023                   0              1                109          14   \n",
       "09-2023                   0              9                 89          26   \n",
       "10-2023                   0              1                 97          20   \n",
       "11-2023                   0              4                 79          17   \n",
       "12-2023                   0              0                 53          10   \n",
       "\n",
       "Propriété_clean  ...  Parisianer  Parisis  Peper and paper   Prélude  \\\n",
       "periode_debut    ...                                                   \n",
       "01-2023          ...           0        0                 0        2   \n",
       "02-2023          ...           0        0                 1        0   \n",
       "03-2023          ...           0        0                 0        0   \n",
       "04-2023          ...           0        0                 0        9   \n",
       "05-2023          ...           0        0                 0        5   \n",
       "06-2023          ...           0        4                 0        0   \n",
       "07-2023          ...           3        1                 0        0   \n",
       "08-2023          ...          10        9                 0        1   \n",
       "09-2023          ...           3        2                 0        0   \n",
       "10-2023          ...           1        4                 0        0   \n",
       "11-2023          ...           0        9                 0        0   \n",
       "12-2023          ...           0        0                 0        0   \n",
       "\n",
       "Propriété_clean  Quinzerie hotel  Select Hotel  Touraine  Tsuba  \\\n",
       "periode_debut                                                     \n",
       "01-2023                        2            52         5      3   \n",
       "02-2023                        0            41         4     16   \n",
       "03-2023                        3             6         0     16   \n",
       "04-2023                        6            11         1      3   \n",
       "05-2023                        1            14         8     16   \n",
       "06-2023                        3            19         7      6   \n",
       "07-2023                        0            24        12     13   \n",
       "08-2023                        5            13        17     16   \n",
       "09-2023                        0            35         4      2   \n",
       "10-2023                        0            15         0     12   \n",
       "11-2023                        0            25         0     13   \n",
       "12-2023                        0             0        10      0   \n",
       "\n",
       "Propriété_clean  Victoire et Germain  Yllen Eiffel  \n",
       "periode_debut                                       \n",
       "01-2023                            1            13  \n",
       "02-2023                            1            16  \n",
       "03-2023                            1            13  \n",
       "04-2023                            3             8  \n",
       "05-2023                            4             7  \n",
       "06-2023                            2             4  \n",
       "07-2023                            1            12  \n",
       "08-2023                            7            12  \n",
       "09-2023                            3             5  \n",
       "10-2023                            2            12  \n",
       "11-2023                            0             5  \n",
       "12-2023                            1             2  \n",
       "\n",
       "[12 rows x 28 columns]"
      ]
     },
     "execution_count": 28,
     "metadata": {},
     "output_type": "execute_result"
    }
   ],
   "source": [
    "by_year"
   ]
  },
  {
   "cell_type": "code",
   "execution_count": null,
   "metadata": {},
   "outputs": [],
   "source": [
    "data[\"float_hours\"] = data[\"time_delta\"].apply(lambda x: x.total_seconds()/ 3600)"
   ]
  },
  {
   "cell_type": "code",
   "execution_count": null,
   "metadata": {},
   "outputs": [
    {
     "data": {
      "application/vnd.plotly.v1+json": {
       "config": {
        "plotlyServerURL": "https://plot.ly"
       },
       "data": [
        {
         "alignmentgroup": "True",
         "hovertemplate": "statuts=standard<br>Propriété_clean=%{x}<br>Propriété=%{y}<extra></extra>",
         "legendgroup": "standard",
         "marker": {
          "color": "#636efa",
          "pattern": {
           "shape": ""
          }
         },
         "name": "standard",
         "offsetgroup": "standard",
         "orientation": "v",
         "showlegend": true,
         "textposition": "auto",
         "type": "bar",
         "x": [
          "Ibis Montparnasse",
          "Le Grand Quartier",
          "Marceau",
          "Imprimerie",
          "Select Hotel",
          "Milie Rose",
          "Drawing House",
          "Yllen Eiffel",
          "French Theory",
          "Les Deux Girafes",
          "Touraine",
          "Chouchou",
          "MT solutions ",
          "Victoire et Germain",
          "Monte Cristo",
          "Parisianer",
          "Alberte ",
          "Tsuba",
          "Crystal",
          "Parisis"
         ],
         "xaxis": "x",
         "y": [
          88,
          33,
          26,
          24,
          21,
          17,
          11,
          5,
          5,
          5,
          4,
          4,
          4,
          3,
          3,
          3,
          2,
          1,
          1,
          1
         ],
         "yaxis": "y"
        },
        {
         "alignmentgroup": "True",
         "hovertemplate": "statuts=annulé<br>Propriété_clean=%{x}<br>Propriété=%{y}<extra></extra>",
         "legendgroup": "annulé",
         "marker": {
          "color": "#EF553B",
          "pattern": {
           "shape": ""
          }
         },
         "name": "annulé",
         "offsetgroup": "annulé",
         "orientation": "v",
         "showlegend": true,
         "textposition": "auto",
         "type": "bar",
         "x": [
          "Select Hotel",
          "Milie Rose",
          "Le Grand Quartier",
          "French Theory"
         ],
         "xaxis": "x",
         "y": [
          14,
          3,
          1,
          1
         ],
         "yaxis": "y"
        },
        {
         "alignmentgroup": "True",
         "hovertemplate": "statuts=urgente<br>Propriété_clean=%{x}<br>Propriété=%{y}<extra></extra>",
         "legendgroup": "urgente",
         "marker": {
          "color": "#00cc96",
          "pattern": {
           "shape": ""
          }
         },
         "name": "urgente",
         "offsetgroup": "urgente",
         "orientation": "v",
         "showlegend": true,
         "textposition": "auto",
         "type": "bar",
         "x": [
          "French Theory",
          "Drawing House",
          "Imprimerie",
          "Tsuba",
          "Parisis",
          "Les Deux Girafes",
          "Milie Rose",
          "Ibis Montparnasse"
         ],
         "xaxis": "x",
         "y": [
          3,
          2,
          2,
          1,
          1,
          1,
          1,
          1
         ],
         "yaxis": "y"
        }
       ],
       "layout": {
        "barmode": "relative",
        "legend": {
         "title": {
          "text": "statuts"
         },
         "tracegroupgap": 0,
         "x": 0.99,
         "xanchor": "right",
         "y": 0.99,
         "yanchor": "top"
        },
        "margin": {
         "t": 60
        },
        "template": {
         "data": {
          "bar": [
           {
            "error_x": {
             "color": "#2a3f5f"
            },
            "error_y": {
             "color": "#2a3f5f"
            },
            "marker": {
             "line": {
              "color": "#E5ECF6",
              "width": 0.5
             },
             "pattern": {
              "fillmode": "overlay",
              "size": 10,
              "solidity": 0.2
             }
            },
            "type": "bar"
           }
          ],
          "barpolar": [
           {
            "marker": {
             "line": {
              "color": "#E5ECF6",
              "width": 0.5
             },
             "pattern": {
              "fillmode": "overlay",
              "size": 10,
              "solidity": 0.2
             }
            },
            "type": "barpolar"
           }
          ],
          "carpet": [
           {
            "aaxis": {
             "endlinecolor": "#2a3f5f",
             "gridcolor": "white",
             "linecolor": "white",
             "minorgridcolor": "white",
             "startlinecolor": "#2a3f5f"
            },
            "baxis": {
             "endlinecolor": "#2a3f5f",
             "gridcolor": "white",
             "linecolor": "white",
             "minorgridcolor": "white",
             "startlinecolor": "#2a3f5f"
            },
            "type": "carpet"
           }
          ],
          "choropleth": [
           {
            "colorbar": {
             "outlinewidth": 0,
             "ticks": ""
            },
            "type": "choropleth"
           }
          ],
          "contour": [
           {
            "colorbar": {
             "outlinewidth": 0,
             "ticks": ""
            },
            "colorscale": [
             [
              0,
              "#0d0887"
             ],
             [
              0.1111111111111111,
              "#46039f"
             ],
             [
              0.2222222222222222,
              "#7201a8"
             ],
             [
              0.3333333333333333,
              "#9c179e"
             ],
             [
              0.4444444444444444,
              "#bd3786"
             ],
             [
              0.5555555555555556,
              "#d8576b"
             ],
             [
              0.6666666666666666,
              "#ed7953"
             ],
             [
              0.7777777777777778,
              "#fb9f3a"
             ],
             [
              0.8888888888888888,
              "#fdca26"
             ],
             [
              1,
              "#f0f921"
             ]
            ],
            "type": "contour"
           }
          ],
          "contourcarpet": [
           {
            "colorbar": {
             "outlinewidth": 0,
             "ticks": ""
            },
            "type": "contourcarpet"
           }
          ],
          "heatmap": [
           {
            "colorbar": {
             "outlinewidth": 0,
             "ticks": ""
            },
            "colorscale": [
             [
              0,
              "#0d0887"
             ],
             [
              0.1111111111111111,
              "#46039f"
             ],
             [
              0.2222222222222222,
              "#7201a8"
             ],
             [
              0.3333333333333333,
              "#9c179e"
             ],
             [
              0.4444444444444444,
              "#bd3786"
             ],
             [
              0.5555555555555556,
              "#d8576b"
             ],
             [
              0.6666666666666666,
              "#ed7953"
             ],
             [
              0.7777777777777778,
              "#fb9f3a"
             ],
             [
              0.8888888888888888,
              "#fdca26"
             ],
             [
              1,
              "#f0f921"
             ]
            ],
            "type": "heatmap"
           }
          ],
          "heatmapgl": [
           {
            "colorbar": {
             "outlinewidth": 0,
             "ticks": ""
            },
            "colorscale": [
             [
              0,
              "#0d0887"
             ],
             [
              0.1111111111111111,
              "#46039f"
             ],
             [
              0.2222222222222222,
              "#7201a8"
             ],
             [
              0.3333333333333333,
              "#9c179e"
             ],
             [
              0.4444444444444444,
              "#bd3786"
             ],
             [
              0.5555555555555556,
              "#d8576b"
             ],
             [
              0.6666666666666666,
              "#ed7953"
             ],
             [
              0.7777777777777778,
              "#fb9f3a"
             ],
             [
              0.8888888888888888,
              "#fdca26"
             ],
             [
              1,
              "#f0f921"
             ]
            ],
            "type": "heatmapgl"
           }
          ],
          "histogram": [
           {
            "marker": {
             "pattern": {
              "fillmode": "overlay",
              "size": 10,
              "solidity": 0.2
             }
            },
            "type": "histogram"
           }
          ],
          "histogram2d": [
           {
            "colorbar": {
             "outlinewidth": 0,
             "ticks": ""
            },
            "colorscale": [
             [
              0,
              "#0d0887"
             ],
             [
              0.1111111111111111,
              "#46039f"
             ],
             [
              0.2222222222222222,
              "#7201a8"
             ],
             [
              0.3333333333333333,
              "#9c179e"
             ],
             [
              0.4444444444444444,
              "#bd3786"
             ],
             [
              0.5555555555555556,
              "#d8576b"
             ],
             [
              0.6666666666666666,
              "#ed7953"
             ],
             [
              0.7777777777777778,
              "#fb9f3a"
             ],
             [
              0.8888888888888888,
              "#fdca26"
             ],
             [
              1,
              "#f0f921"
             ]
            ],
            "type": "histogram2d"
           }
          ],
          "histogram2dcontour": [
           {
            "colorbar": {
             "outlinewidth": 0,
             "ticks": ""
            },
            "colorscale": [
             [
              0,
              "#0d0887"
             ],
             [
              0.1111111111111111,
              "#46039f"
             ],
             [
              0.2222222222222222,
              "#7201a8"
             ],
             [
              0.3333333333333333,
              "#9c179e"
             ],
             [
              0.4444444444444444,
              "#bd3786"
             ],
             [
              0.5555555555555556,
              "#d8576b"
             ],
             [
              0.6666666666666666,
              "#ed7953"
             ],
             [
              0.7777777777777778,
              "#fb9f3a"
             ],
             [
              0.8888888888888888,
              "#fdca26"
             ],
             [
              1,
              "#f0f921"
             ]
            ],
            "type": "histogram2dcontour"
           }
          ],
          "mesh3d": [
           {
            "colorbar": {
             "outlinewidth": 0,
             "ticks": ""
            },
            "type": "mesh3d"
           }
          ],
          "parcoords": [
           {
            "line": {
             "colorbar": {
              "outlinewidth": 0,
              "ticks": ""
             }
            },
            "type": "parcoords"
           }
          ],
          "pie": [
           {
            "automargin": true,
            "type": "pie"
           }
          ],
          "scatter": [
           {
            "fillpattern": {
             "fillmode": "overlay",
             "size": 10,
             "solidity": 0.2
            },
            "type": "scatter"
           }
          ],
          "scatter3d": [
           {
            "line": {
             "colorbar": {
              "outlinewidth": 0,
              "ticks": ""
             }
            },
            "marker": {
             "colorbar": {
              "outlinewidth": 0,
              "ticks": ""
             }
            },
            "type": "scatter3d"
           }
          ],
          "scattercarpet": [
           {
            "marker": {
             "colorbar": {
              "outlinewidth": 0,
              "ticks": ""
             }
            },
            "type": "scattercarpet"
           }
          ],
          "scattergeo": [
           {
            "marker": {
             "colorbar": {
              "outlinewidth": 0,
              "ticks": ""
             }
            },
            "type": "scattergeo"
           }
          ],
          "scattergl": [
           {
            "marker": {
             "colorbar": {
              "outlinewidth": 0,
              "ticks": ""
             }
            },
            "type": "scattergl"
           }
          ],
          "scattermapbox": [
           {
            "marker": {
             "colorbar": {
              "outlinewidth": 0,
              "ticks": ""
             }
            },
            "type": "scattermapbox"
           }
          ],
          "scatterpolar": [
           {
            "marker": {
             "colorbar": {
              "outlinewidth": 0,
              "ticks": ""
             }
            },
            "type": "scatterpolar"
           }
          ],
          "scatterpolargl": [
           {
            "marker": {
             "colorbar": {
              "outlinewidth": 0,
              "ticks": ""
             }
            },
            "type": "scatterpolargl"
           }
          ],
          "scatterternary": [
           {
            "marker": {
             "colorbar": {
              "outlinewidth": 0,
              "ticks": ""
             }
            },
            "type": "scatterternary"
           }
          ],
          "surface": [
           {
            "colorbar": {
             "outlinewidth": 0,
             "ticks": ""
            },
            "colorscale": [
             [
              0,
              "#0d0887"
             ],
             [
              0.1111111111111111,
              "#46039f"
             ],
             [
              0.2222222222222222,
              "#7201a8"
             ],
             [
              0.3333333333333333,
              "#9c179e"
             ],
             [
              0.4444444444444444,
              "#bd3786"
             ],
             [
              0.5555555555555556,
              "#d8576b"
             ],
             [
              0.6666666666666666,
              "#ed7953"
             ],
             [
              0.7777777777777778,
              "#fb9f3a"
             ],
             [
              0.8888888888888888,
              "#fdca26"
             ],
             [
              1,
              "#f0f921"
             ]
            ],
            "type": "surface"
           }
          ],
          "table": [
           {
            "cells": {
             "fill": {
              "color": "#EBF0F8"
             },
             "line": {
              "color": "white"
             }
            },
            "header": {
             "fill": {
              "color": "#C8D4E3"
             },
             "line": {
              "color": "white"
             }
            },
            "type": "table"
           }
          ]
         },
         "layout": {
          "annotationdefaults": {
           "arrowcolor": "#2a3f5f",
           "arrowhead": 0,
           "arrowwidth": 1
          },
          "autotypenumbers": "strict",
          "coloraxis": {
           "colorbar": {
            "outlinewidth": 0,
            "ticks": ""
           }
          },
          "colorscale": {
           "diverging": [
            [
             0,
             "#8e0152"
            ],
            [
             0.1,
             "#c51b7d"
            ],
            [
             0.2,
             "#de77ae"
            ],
            [
             0.3,
             "#f1b6da"
            ],
            [
             0.4,
             "#fde0ef"
            ],
            [
             0.5,
             "#f7f7f7"
            ],
            [
             0.6,
             "#e6f5d0"
            ],
            [
             0.7,
             "#b8e186"
            ],
            [
             0.8,
             "#7fbc41"
            ],
            [
             0.9,
             "#4d9221"
            ],
            [
             1,
             "#276419"
            ]
           ],
           "sequential": [
            [
             0,
             "#0d0887"
            ],
            [
             0.1111111111111111,
             "#46039f"
            ],
            [
             0.2222222222222222,
             "#7201a8"
            ],
            [
             0.3333333333333333,
             "#9c179e"
            ],
            [
             0.4444444444444444,
             "#bd3786"
            ],
            [
             0.5555555555555556,
             "#d8576b"
            ],
            [
             0.6666666666666666,
             "#ed7953"
            ],
            [
             0.7777777777777778,
             "#fb9f3a"
            ],
            [
             0.8888888888888888,
             "#fdca26"
            ],
            [
             1,
             "#f0f921"
            ]
           ],
           "sequentialminus": [
            [
             0,
             "#0d0887"
            ],
            [
             0.1111111111111111,
             "#46039f"
            ],
            [
             0.2222222222222222,
             "#7201a8"
            ],
            [
             0.3333333333333333,
             "#9c179e"
            ],
            [
             0.4444444444444444,
             "#bd3786"
            ],
            [
             0.5555555555555556,
             "#d8576b"
            ],
            [
             0.6666666666666666,
             "#ed7953"
            ],
            [
             0.7777777777777778,
             "#fb9f3a"
            ],
            [
             0.8888888888888888,
             "#fdca26"
            ],
            [
             1,
             "#f0f921"
            ]
           ]
          },
          "colorway": [
           "#636efa",
           "#EF553B",
           "#00cc96",
           "#ab63fa",
           "#FFA15A",
           "#19d3f3",
           "#FF6692",
           "#B6E880",
           "#FF97FF",
           "#FECB52"
          ],
          "font": {
           "color": "#2a3f5f"
          },
          "geo": {
           "bgcolor": "white",
           "lakecolor": "white",
           "landcolor": "#E5ECF6",
           "showlakes": true,
           "showland": true,
           "subunitcolor": "white"
          },
          "hoverlabel": {
           "align": "left"
          },
          "hovermode": "closest",
          "mapbox": {
           "style": "light"
          },
          "paper_bgcolor": "white",
          "plot_bgcolor": "#E5ECF6",
          "polar": {
           "angularaxis": {
            "gridcolor": "white",
            "linecolor": "white",
            "ticks": ""
           },
           "bgcolor": "#E5ECF6",
           "radialaxis": {
            "gridcolor": "white",
            "linecolor": "white",
            "ticks": ""
           }
          },
          "scene": {
           "xaxis": {
            "backgroundcolor": "#E5ECF6",
            "gridcolor": "white",
            "gridwidth": 2,
            "linecolor": "white",
            "showbackground": true,
            "ticks": "",
            "zerolinecolor": "white"
           },
           "yaxis": {
            "backgroundcolor": "#E5ECF6",
            "gridcolor": "white",
            "gridwidth": 2,
            "linecolor": "white",
            "showbackground": true,
            "ticks": "",
            "zerolinecolor": "white"
           },
           "zaxis": {
            "backgroundcolor": "#E5ECF6",
            "gridcolor": "white",
            "gridwidth": 2,
            "linecolor": "white",
            "showbackground": true,
            "ticks": "",
            "zerolinecolor": "white"
           }
          },
          "shapedefaults": {
           "line": {
            "color": "#2a3f5f"
           }
          },
          "ternary": {
           "aaxis": {
            "gridcolor": "white",
            "linecolor": "white",
            "ticks": ""
           },
           "baxis": {
            "gridcolor": "white",
            "linecolor": "white",
            "ticks": ""
           },
           "bgcolor": "#E5ECF6",
           "caxis": {
            "gridcolor": "white",
            "linecolor": "white",
            "ticks": ""
           }
          },
          "title": {
           "x": 0.05
          },
          "xaxis": {
           "automargin": true,
           "gridcolor": "white",
           "linecolor": "white",
           "ticks": "",
           "title": {
            "standoff": 15
           },
           "zerolinecolor": "white",
           "zerolinewidth": 2
          },
          "yaxis": {
           "automargin": true,
           "gridcolor": "white",
           "linecolor": "white",
           "ticks": "",
           "title": {
            "standoff": 15
           },
           "zerolinecolor": "white",
           "zerolinewidth": 2
          }
         }
        },
        "xaxis": {
         "anchor": "y",
         "domain": [
          0,
          1
         ],
         "title": {
          "text": "Hôtels"
         }
        },
        "yaxis": {
         "anchor": "x",
         "domain": [
          0,
          1
         ],
         "title": {
          "text": "Nombre de missions"
         }
        }
       }
      }
     },
     "metadata": {},
     "output_type": "display_data"
    }
   ],
   "source": [
    "\n",
    "date = \"09-2023\"\n",
    "monthly_missions_status = (\n",
    "    data[(data[\"periode_debut\"] == date)]\n",
    "    .groupby([\"Propriété_clean\", \"statuts\"])\n",
    "    .count()\n",
    "    .reset_index()\n",
    "    .sort_values(by=\"Propriété\", ascending=False)\n",
    "    .iloc[:, :3]\n",
    ")\n",
    "fig = px.bar(\n",
    "    monthly_missions_status, x=\"Propriété_clean\", y=\"Propriété\", color=\"statuts\"\n",
    ")\n",
    "\n",
    "fig.update_layout(legend=dict(yanchor=\"top\", y=0.99, xanchor=\"right\", x=0.99))\n",
    "\n",
    "fig.update_xaxes(title_text=\"Hôtels\")\n",
    "fig.update_yaxes(title_text=\"Nombre de missions\")"
   ]
  },
  {
   "cell_type": "code",
   "execution_count": null,
   "metadata": {},
   "outputs": [],
   "source": []
  },
  {
   "cell_type": "code",
   "execution_count": null,
   "metadata": {},
   "outputs": [],
   "source": [
    "monthly_missions_status.columns = [\"Propriété\", \"Statut\", \"Missions\"]\n",
    "sorter = monthly_missions_status.groupby(\"Propriété\").sum().sort_values(by=\"Missions\", ascending=False).index\n",
    "sorter = sorter.to_list()\n",
    "\n",
    "monthly_missions_status['Propriété_cat'] = pd.Categorical(\n",
    "    monthly_missions_status['Propriété'], \n",
    "    categories=sorter, \n",
    "    ordered=True)\n",
    "\n",
    "monthly_missions_status = monthly_missions_status.sort_values(by=\"Propriété_cat\")"
   ]
  },
  {
   "cell_type": "code",
   "execution_count": null,
   "metadata": {},
   "outputs": [],
   "source": []
  },
  {
   "cell_type": "code",
   "execution_count": null,
   "metadata": {},
   "outputs": [
    {
     "data": {
      "application/vnd.plotly.v1+json": {
       "config": {
        "plotlyServerURL": "https://plot.ly"
       },
       "data": [
        {
         "alignmentgroup": "True",
         "hovertemplate": "Statut=standard<br>Propriété=%{x}<br>Missions=%{y}<extra></extra>",
         "legendgroup": "standard",
         "marker": {
          "color": "#636efa",
          "pattern": {
           "shape": ""
          }
         },
         "name": "standard",
         "offsetgroup": "standard",
         "orientation": "v",
         "showlegend": true,
         "textposition": "auto",
         "type": "bar",
         "x": [
          "Ibis Montparnasse",
          "Select Hotel",
          "Le Grand Quartier",
          "Marceau",
          "Imprimerie",
          "Milie Rose",
          "Drawing House",
          "French Theory",
          "Les Deux Girafes",
          "Yllen Eiffel",
          "Chouchou",
          "MT solutions ",
          "Touraine",
          "Monte Cristo",
          "Parisianer",
          "Victoire et Germain",
          "Parisis",
          "Tsuba",
          "Alberte ",
          "Crystal"
         ],
         "xaxis": "x",
         "y": [
          88,
          21,
          33,
          26,
          24,
          17,
          11,
          5,
          5,
          5,
          4,
          4,
          4,
          3,
          3,
          3,
          1,
          1,
          2,
          1
         ],
         "yaxis": "y"
        },
        {
         "alignmentgroup": "True",
         "hovertemplate": "Statut=urgente<br>Propriété=%{x}<br>Missions=%{y}<extra></extra>",
         "legendgroup": "urgente",
         "marker": {
          "color": "#EF553B",
          "pattern": {
           "shape": ""
          }
         },
         "name": "urgente",
         "offsetgroup": "urgente",
         "orientation": "v",
         "showlegend": true,
         "textposition": "auto",
         "type": "bar",
         "x": [
          "Ibis Montparnasse",
          "Imprimerie",
          "Milie Rose",
          "Drawing House",
          "French Theory",
          "Les Deux Girafes",
          "Parisis",
          "Tsuba"
         ],
         "xaxis": "x",
         "y": [
          1,
          2,
          1,
          2,
          3,
          1,
          1,
          1
         ],
         "yaxis": "y"
        },
        {
         "alignmentgroup": "True",
         "hovertemplate": "Statut=annulé<br>Propriété=%{x}<br>Missions=%{y}<extra></extra>",
         "legendgroup": "annulé",
         "marker": {
          "color": "#00cc96",
          "pattern": {
           "shape": ""
          }
         },
         "name": "annulé",
         "offsetgroup": "annulé",
         "orientation": "v",
         "showlegend": true,
         "textposition": "auto",
         "type": "bar",
         "x": [
          "Select Hotel",
          "Le Grand Quartier",
          "Milie Rose",
          "French Theory"
         ],
         "xaxis": "x",
         "y": [
          14,
          1,
          3,
          1
         ],
         "yaxis": "y"
        }
       ],
       "layout": {
        "barmode": "relative",
        "legend": {
         "title": {
          "text": "Statut"
         },
         "tracegroupgap": 0,
         "x": 0.99,
         "xanchor": "right",
         "y": 0.99,
         "yanchor": "top"
        },
        "margin": {
         "t": 60
        },
        "template": {
         "data": {
          "bar": [
           {
            "error_x": {
             "color": "#2a3f5f"
            },
            "error_y": {
             "color": "#2a3f5f"
            },
            "marker": {
             "line": {
              "color": "#E5ECF6",
              "width": 0.5
             },
             "pattern": {
              "fillmode": "overlay",
              "size": 10,
              "solidity": 0.2
             }
            },
            "type": "bar"
           }
          ],
          "barpolar": [
           {
            "marker": {
             "line": {
              "color": "#E5ECF6",
              "width": 0.5
             },
             "pattern": {
              "fillmode": "overlay",
              "size": 10,
              "solidity": 0.2
             }
            },
            "type": "barpolar"
           }
          ],
          "carpet": [
           {
            "aaxis": {
             "endlinecolor": "#2a3f5f",
             "gridcolor": "white",
             "linecolor": "white",
             "minorgridcolor": "white",
             "startlinecolor": "#2a3f5f"
            },
            "baxis": {
             "endlinecolor": "#2a3f5f",
             "gridcolor": "white",
             "linecolor": "white",
             "minorgridcolor": "white",
             "startlinecolor": "#2a3f5f"
            },
            "type": "carpet"
           }
          ],
          "choropleth": [
           {
            "colorbar": {
             "outlinewidth": 0,
             "ticks": ""
            },
            "type": "choropleth"
           }
          ],
          "contour": [
           {
            "colorbar": {
             "outlinewidth": 0,
             "ticks": ""
            },
            "colorscale": [
             [
              0,
              "#0d0887"
             ],
             [
              0.1111111111111111,
              "#46039f"
             ],
             [
              0.2222222222222222,
              "#7201a8"
             ],
             [
              0.3333333333333333,
              "#9c179e"
             ],
             [
              0.4444444444444444,
              "#bd3786"
             ],
             [
              0.5555555555555556,
              "#d8576b"
             ],
             [
              0.6666666666666666,
              "#ed7953"
             ],
             [
              0.7777777777777778,
              "#fb9f3a"
             ],
             [
              0.8888888888888888,
              "#fdca26"
             ],
             [
              1,
              "#f0f921"
             ]
            ],
            "type": "contour"
           }
          ],
          "contourcarpet": [
           {
            "colorbar": {
             "outlinewidth": 0,
             "ticks": ""
            },
            "type": "contourcarpet"
           }
          ],
          "heatmap": [
           {
            "colorbar": {
             "outlinewidth": 0,
             "ticks": ""
            },
            "colorscale": [
             [
              0,
              "#0d0887"
             ],
             [
              0.1111111111111111,
              "#46039f"
             ],
             [
              0.2222222222222222,
              "#7201a8"
             ],
             [
              0.3333333333333333,
              "#9c179e"
             ],
             [
              0.4444444444444444,
              "#bd3786"
             ],
             [
              0.5555555555555556,
              "#d8576b"
             ],
             [
              0.6666666666666666,
              "#ed7953"
             ],
             [
              0.7777777777777778,
              "#fb9f3a"
             ],
             [
              0.8888888888888888,
              "#fdca26"
             ],
             [
              1,
              "#f0f921"
             ]
            ],
            "type": "heatmap"
           }
          ],
          "heatmapgl": [
           {
            "colorbar": {
             "outlinewidth": 0,
             "ticks": ""
            },
            "colorscale": [
             [
              0,
              "#0d0887"
             ],
             [
              0.1111111111111111,
              "#46039f"
             ],
             [
              0.2222222222222222,
              "#7201a8"
             ],
             [
              0.3333333333333333,
              "#9c179e"
             ],
             [
              0.4444444444444444,
              "#bd3786"
             ],
             [
              0.5555555555555556,
              "#d8576b"
             ],
             [
              0.6666666666666666,
              "#ed7953"
             ],
             [
              0.7777777777777778,
              "#fb9f3a"
             ],
             [
              0.8888888888888888,
              "#fdca26"
             ],
             [
              1,
              "#f0f921"
             ]
            ],
            "type": "heatmapgl"
           }
          ],
          "histogram": [
           {
            "marker": {
             "pattern": {
              "fillmode": "overlay",
              "size": 10,
              "solidity": 0.2
             }
            },
            "type": "histogram"
           }
          ],
          "histogram2d": [
           {
            "colorbar": {
             "outlinewidth": 0,
             "ticks": ""
            },
            "colorscale": [
             [
              0,
              "#0d0887"
             ],
             [
              0.1111111111111111,
              "#46039f"
             ],
             [
              0.2222222222222222,
              "#7201a8"
             ],
             [
              0.3333333333333333,
              "#9c179e"
             ],
             [
              0.4444444444444444,
              "#bd3786"
             ],
             [
              0.5555555555555556,
              "#d8576b"
             ],
             [
              0.6666666666666666,
              "#ed7953"
             ],
             [
              0.7777777777777778,
              "#fb9f3a"
             ],
             [
              0.8888888888888888,
              "#fdca26"
             ],
             [
              1,
              "#f0f921"
             ]
            ],
            "type": "histogram2d"
           }
          ],
          "histogram2dcontour": [
           {
            "colorbar": {
             "outlinewidth": 0,
             "ticks": ""
            },
            "colorscale": [
             [
              0,
              "#0d0887"
             ],
             [
              0.1111111111111111,
              "#46039f"
             ],
             [
              0.2222222222222222,
              "#7201a8"
             ],
             [
              0.3333333333333333,
              "#9c179e"
             ],
             [
              0.4444444444444444,
              "#bd3786"
             ],
             [
              0.5555555555555556,
              "#d8576b"
             ],
             [
              0.6666666666666666,
              "#ed7953"
             ],
             [
              0.7777777777777778,
              "#fb9f3a"
             ],
             [
              0.8888888888888888,
              "#fdca26"
             ],
             [
              1,
              "#f0f921"
             ]
            ],
            "type": "histogram2dcontour"
           }
          ],
          "mesh3d": [
           {
            "colorbar": {
             "outlinewidth": 0,
             "ticks": ""
            },
            "type": "mesh3d"
           }
          ],
          "parcoords": [
           {
            "line": {
             "colorbar": {
              "outlinewidth": 0,
              "ticks": ""
             }
            },
            "type": "parcoords"
           }
          ],
          "pie": [
           {
            "automargin": true,
            "type": "pie"
           }
          ],
          "scatter": [
           {
            "fillpattern": {
             "fillmode": "overlay",
             "size": 10,
             "solidity": 0.2
            },
            "type": "scatter"
           }
          ],
          "scatter3d": [
           {
            "line": {
             "colorbar": {
              "outlinewidth": 0,
              "ticks": ""
             }
            },
            "marker": {
             "colorbar": {
              "outlinewidth": 0,
              "ticks": ""
             }
            },
            "type": "scatter3d"
           }
          ],
          "scattercarpet": [
           {
            "marker": {
             "colorbar": {
              "outlinewidth": 0,
              "ticks": ""
             }
            },
            "type": "scattercarpet"
           }
          ],
          "scattergeo": [
           {
            "marker": {
             "colorbar": {
              "outlinewidth": 0,
              "ticks": ""
             }
            },
            "type": "scattergeo"
           }
          ],
          "scattergl": [
           {
            "marker": {
             "colorbar": {
              "outlinewidth": 0,
              "ticks": ""
             }
            },
            "type": "scattergl"
           }
          ],
          "scattermapbox": [
           {
            "marker": {
             "colorbar": {
              "outlinewidth": 0,
              "ticks": ""
             }
            },
            "type": "scattermapbox"
           }
          ],
          "scatterpolar": [
           {
            "marker": {
             "colorbar": {
              "outlinewidth": 0,
              "ticks": ""
             }
            },
            "type": "scatterpolar"
           }
          ],
          "scatterpolargl": [
           {
            "marker": {
             "colorbar": {
              "outlinewidth": 0,
              "ticks": ""
             }
            },
            "type": "scatterpolargl"
           }
          ],
          "scatterternary": [
           {
            "marker": {
             "colorbar": {
              "outlinewidth": 0,
              "ticks": ""
             }
            },
            "type": "scatterternary"
           }
          ],
          "surface": [
           {
            "colorbar": {
             "outlinewidth": 0,
             "ticks": ""
            },
            "colorscale": [
             [
              0,
              "#0d0887"
             ],
             [
              0.1111111111111111,
              "#46039f"
             ],
             [
              0.2222222222222222,
              "#7201a8"
             ],
             [
              0.3333333333333333,
              "#9c179e"
             ],
             [
              0.4444444444444444,
              "#bd3786"
             ],
             [
              0.5555555555555556,
              "#d8576b"
             ],
             [
              0.6666666666666666,
              "#ed7953"
             ],
             [
              0.7777777777777778,
              "#fb9f3a"
             ],
             [
              0.8888888888888888,
              "#fdca26"
             ],
             [
              1,
              "#f0f921"
             ]
            ],
            "type": "surface"
           }
          ],
          "table": [
           {
            "cells": {
             "fill": {
              "color": "#EBF0F8"
             },
             "line": {
              "color": "white"
             }
            },
            "header": {
             "fill": {
              "color": "#C8D4E3"
             },
             "line": {
              "color": "white"
             }
            },
            "type": "table"
           }
          ]
         },
         "layout": {
          "annotationdefaults": {
           "arrowcolor": "#2a3f5f",
           "arrowhead": 0,
           "arrowwidth": 1
          },
          "autotypenumbers": "strict",
          "coloraxis": {
           "colorbar": {
            "outlinewidth": 0,
            "ticks": ""
           }
          },
          "colorscale": {
           "diverging": [
            [
             0,
             "#8e0152"
            ],
            [
             0.1,
             "#c51b7d"
            ],
            [
             0.2,
             "#de77ae"
            ],
            [
             0.3,
             "#f1b6da"
            ],
            [
             0.4,
             "#fde0ef"
            ],
            [
             0.5,
             "#f7f7f7"
            ],
            [
             0.6,
             "#e6f5d0"
            ],
            [
             0.7,
             "#b8e186"
            ],
            [
             0.8,
             "#7fbc41"
            ],
            [
             0.9,
             "#4d9221"
            ],
            [
             1,
             "#276419"
            ]
           ],
           "sequential": [
            [
             0,
             "#0d0887"
            ],
            [
             0.1111111111111111,
             "#46039f"
            ],
            [
             0.2222222222222222,
             "#7201a8"
            ],
            [
             0.3333333333333333,
             "#9c179e"
            ],
            [
             0.4444444444444444,
             "#bd3786"
            ],
            [
             0.5555555555555556,
             "#d8576b"
            ],
            [
             0.6666666666666666,
             "#ed7953"
            ],
            [
             0.7777777777777778,
             "#fb9f3a"
            ],
            [
             0.8888888888888888,
             "#fdca26"
            ],
            [
             1,
             "#f0f921"
            ]
           ],
           "sequentialminus": [
            [
             0,
             "#0d0887"
            ],
            [
             0.1111111111111111,
             "#46039f"
            ],
            [
             0.2222222222222222,
             "#7201a8"
            ],
            [
             0.3333333333333333,
             "#9c179e"
            ],
            [
             0.4444444444444444,
             "#bd3786"
            ],
            [
             0.5555555555555556,
             "#d8576b"
            ],
            [
             0.6666666666666666,
             "#ed7953"
            ],
            [
             0.7777777777777778,
             "#fb9f3a"
            ],
            [
             0.8888888888888888,
             "#fdca26"
            ],
            [
             1,
             "#f0f921"
            ]
           ]
          },
          "colorway": [
           "#636efa",
           "#EF553B",
           "#00cc96",
           "#ab63fa",
           "#FFA15A",
           "#19d3f3",
           "#FF6692",
           "#B6E880",
           "#FF97FF",
           "#FECB52"
          ],
          "font": {
           "color": "#2a3f5f"
          },
          "geo": {
           "bgcolor": "white",
           "lakecolor": "white",
           "landcolor": "#E5ECF6",
           "showlakes": true,
           "showland": true,
           "subunitcolor": "white"
          },
          "hoverlabel": {
           "align": "left"
          },
          "hovermode": "closest",
          "mapbox": {
           "style": "light"
          },
          "paper_bgcolor": "white",
          "plot_bgcolor": "#E5ECF6",
          "polar": {
           "angularaxis": {
            "gridcolor": "white",
            "linecolor": "white",
            "ticks": ""
           },
           "bgcolor": "#E5ECF6",
           "radialaxis": {
            "gridcolor": "white",
            "linecolor": "white",
            "ticks": ""
           }
          },
          "scene": {
           "xaxis": {
            "backgroundcolor": "#E5ECF6",
            "gridcolor": "white",
            "gridwidth": 2,
            "linecolor": "white",
            "showbackground": true,
            "ticks": "",
            "zerolinecolor": "white"
           },
           "yaxis": {
            "backgroundcolor": "#E5ECF6",
            "gridcolor": "white",
            "gridwidth": 2,
            "linecolor": "white",
            "showbackground": true,
            "ticks": "",
            "zerolinecolor": "white"
           },
           "zaxis": {
            "backgroundcolor": "#E5ECF6",
            "gridcolor": "white",
            "gridwidth": 2,
            "linecolor": "white",
            "showbackground": true,
            "ticks": "",
            "zerolinecolor": "white"
           }
          },
          "shapedefaults": {
           "line": {
            "color": "#2a3f5f"
           }
          },
          "ternary": {
           "aaxis": {
            "gridcolor": "white",
            "linecolor": "white",
            "ticks": ""
           },
           "baxis": {
            "gridcolor": "white",
            "linecolor": "white",
            "ticks": ""
           },
           "bgcolor": "#E5ECF6",
           "caxis": {
            "gridcolor": "white",
            "linecolor": "white",
            "ticks": ""
           }
          },
          "title": {
           "x": 0.05
          },
          "xaxis": {
           "automargin": true,
           "gridcolor": "white",
           "linecolor": "white",
           "ticks": "",
           "title": {
            "standoff": 15
           },
           "zerolinecolor": "white",
           "zerolinewidth": 2
          },
          "yaxis": {
           "automargin": true,
           "gridcolor": "white",
           "linecolor": "white",
           "ticks": "",
           "title": {
            "standoff": 15
           },
           "zerolinecolor": "white",
           "zerolinewidth": 2
          }
         }
        },
        "xaxis": {
         "anchor": "y",
         "domain": [
          0,
          1
         ],
         "title": {
          "text": "Hôtels"
         }
        },
        "yaxis": {
         "anchor": "x",
         "domain": [
          0,
          1
         ],
         "title": {
          "text": "Nombre de missions"
         }
        }
       }
      }
     },
     "metadata": {},
     "output_type": "display_data"
    }
   ],
   "source": [
    "fig = px.bar(\n",
    "    monthly_missions_status, x=\"Propriété\", y=\"Missions\", color=\"Statut\"\n",
    ")\n",
    "\n",
    "fig.update_layout(legend=dict(yanchor=\"top\", y=0.99, xanchor=\"right\", x=0.99))\n",
    "\n",
    "fig.update_xaxes(title_text=\"Hôtels\")\n",
    "fig.update_yaxes(title_text=\"Nombre de missions\")"
   ]
  },
  {
   "cell_type": "code",
   "execution_count": null,
   "metadata": {},
   "outputs": [
    {
     "data": {
      "text/html": [
       "<div>\n",
       "<style scoped>\n",
       "    .dataframe tbody tr th:only-of-type {\n",
       "        vertical-align: middle;\n",
       "    }\n",
       "\n",
       "    .dataframe tbody tr th {\n",
       "        vertical-align: top;\n",
       "    }\n",
       "\n",
       "    .dataframe thead th {\n",
       "        text-align: right;\n",
       "    }\n",
       "</style>\n",
       "<table border=\"1\" class=\"dataframe\">\n",
       "  <thead>\n",
       "    <tr style=\"text-align: right;\">\n",
       "      <th></th>\n",
       "      <th>Propriété</th>\n",
       "      <th>hôtel</th>\n",
       "      <th>extra</th>\n",
       "      <th>date</th>\n",
       "      <th>statuts</th>\n",
       "      <th>tarif urgence</th>\n",
       "      <th>tarif horaire</th>\n",
       "      <th>nbre d'heures</th>\n",
       "      <th>total HT</th>\n",
       "      <th>facture</th>\n",
       "      <th>règlement</th>\n",
       "      <th>montant HT</th>\n",
       "      <th>Texte</th>\n",
       "      <th>date_debut</th>\n",
       "      <th>time_delta</th>\n",
       "      <th>date_fin</th>\n",
       "      <th>Propriété_clean</th>\n",
       "      <th>periode_debut</th>\n",
       "      <th>float_hours</th>\n",
       "      <th>marge</th>\n",
       "    </tr>\n",
       "  </thead>\n",
       "  <tbody>\n",
       "    <tr>\n",
       "      <th>0</th>\n",
       "      <td>Crystal</td>\n",
       "      <td>Crystal (https://www.notion.so/Crystal-1837fcb...</td>\n",
       "      <td>Grégory Tshimini (https://www.notion.so/Gr-gor...</td>\n",
       "      <td>07/01/2024 8:00 → 20:00</td>\n",
       "      <td>standard</td>\n",
       "      <td>NaN</td>\n",
       "      <td>21.0</td>\n",
       "      <td>12hr 0min</td>\n",
       "      <td>252</td>\n",
       "      <td>NaN</td>\n",
       "      <td>NaN</td>\n",
       "      <td>180</td>\n",
       "      <td>NaN</td>\n",
       "      <td>2024-01-07 08:00:00</td>\n",
       "      <td>0 days 12:00:00</td>\n",
       "      <td>2024-01-07 20:00:00</td>\n",
       "      <td>Crystal</td>\n",
       "      <td>01-2024</td>\n",
       "      <td>12.0</td>\n",
       "      <td>72</td>\n",
       "    </tr>\n",
       "    <tr>\n",
       "      <th>1</th>\n",
       "      <td>Milie rose</td>\n",
       "      <td>Milie Rose (https://www.notion.so/Milie-Rose-0...</td>\n",
       "      <td>Mamadou Koma (https://www.notion.so/Mamadou-Ko...</td>\n",
       "      <td>06/01/2024 22:30 → 07/01/2024 8:00</td>\n",
       "      <td>standard</td>\n",
       "      <td>NaN</td>\n",
       "      <td>20.0</td>\n",
       "      <td>9hr 30min</td>\n",
       "      <td>180</td>\n",
       "      <td>NaN</td>\n",
       "      <td>NaN</td>\n",
       "      <td>135</td>\n",
       "      <td>NaN</td>\n",
       "      <td>2024-01-06 22:30:00</td>\n",
       "      <td>0 days 09:30:00</td>\n",
       "      <td>2024-01-07 08:00:00</td>\n",
       "      <td>Milie Rose</td>\n",
       "      <td>01-2024</td>\n",
       "      <td>9.5</td>\n",
       "      <td>45</td>\n",
       "    </tr>\n",
       "    <tr>\n",
       "      <th>2</th>\n",
       "      <td>Touraine</td>\n",
       "      <td>Touraine (https://www.notion.so/Touraine-df4e7...</td>\n",
       "      <td>Mohamed Belbachir (https://www.notion.so/Moham...</td>\n",
       "      <td>06/01/2024 19:30 → 07/01/2024 7:30</td>\n",
       "      <td>standard</td>\n",
       "      <td>NaN</td>\n",
       "      <td>20.0</td>\n",
       "      <td>12hr 0min</td>\n",
       "      <td>240</td>\n",
       "      <td>NaN</td>\n",
       "      <td>NaN</td>\n",
       "      <td>180</td>\n",
       "      <td>NaN</td>\n",
       "      <td>2024-01-06 19:30:00</td>\n",
       "      <td>0 days 12:00:00</td>\n",
       "      <td>2024-01-07 07:30:00</td>\n",
       "      <td>Touraine</td>\n",
       "      <td>01-2024</td>\n",
       "      <td>12.0</td>\n",
       "      <td>60</td>\n",
       "    </tr>\n",
       "    <tr>\n",
       "      <th>3</th>\n",
       "      <td>Crystal</td>\n",
       "      <td>Crystal (https://www.notion.so/Crystal-1837fcb...</td>\n",
       "      <td>Grégory Tshimini (https://www.notion.so/Gr-gor...</td>\n",
       "      <td>06/01/2024 8:00 → 20:00</td>\n",
       "      <td>standard</td>\n",
       "      <td>NaN</td>\n",
       "      <td>21.0</td>\n",
       "      <td>12hr 0min</td>\n",
       "      <td>252</td>\n",
       "      <td>NaN</td>\n",
       "      <td>NaN</td>\n",
       "      <td>180</td>\n",
       "      <td>NaN</td>\n",
       "      <td>2024-01-06 08:00:00</td>\n",
       "      <td>0 days 12:00:00</td>\n",
       "      <td>2024-01-06 20:00:00</td>\n",
       "      <td>Crystal</td>\n",
       "      <td>01-2024</td>\n",
       "      <td>12.0</td>\n",
       "      <td>72</td>\n",
       "    </tr>\n",
       "    <tr>\n",
       "      <th>4</th>\n",
       "      <td>Milie rose</td>\n",
       "      <td>Milie Rose (https://www.notion.so/Milie-Rose-0...</td>\n",
       "      <td>Mamadou Koma (https://www.notion.so/Mamadou-Ko...</td>\n",
       "      <td>05/01/2024 22:30 → 06/01/2024 8:00</td>\n",
       "      <td>standard</td>\n",
       "      <td>NaN</td>\n",
       "      <td>20.0</td>\n",
       "      <td>9hr 30min</td>\n",
       "      <td>180</td>\n",
       "      <td>NaN</td>\n",
       "      <td>NaN</td>\n",
       "      <td>135</td>\n",
       "      <td>NaN</td>\n",
       "      <td>2024-01-05 22:30:00</td>\n",
       "      <td>0 days 09:30:00</td>\n",
       "      <td>2024-01-06 08:00:00</td>\n",
       "      <td>Milie Rose</td>\n",
       "      <td>01-2024</td>\n",
       "      <td>9.5</td>\n",
       "      <td>45</td>\n",
       "    </tr>\n",
       "  </tbody>\n",
       "</table>\n",
       "</div>"
      ],
      "text/plain": [
       "    Propriété                                              hôtel  \\\n",
       "0     Crystal  Crystal (https://www.notion.so/Crystal-1837fcb...   \n",
       "1  Milie rose  Milie Rose (https://www.notion.so/Milie-Rose-0...   \n",
       "2   Touraine   Touraine (https://www.notion.so/Touraine-df4e7...   \n",
       "3     Crystal  Crystal (https://www.notion.so/Crystal-1837fcb...   \n",
       "4  Milie rose  Milie Rose (https://www.notion.so/Milie-Rose-0...   \n",
       "\n",
       "                                               extra  \\\n",
       "0  Grégory Tshimini (https://www.notion.so/Gr-gor...   \n",
       "1  Mamadou Koma (https://www.notion.so/Mamadou-Ko...   \n",
       "2  Mohamed Belbachir (https://www.notion.so/Moham...   \n",
       "3  Grégory Tshimini (https://www.notion.so/Gr-gor...   \n",
       "4  Mamadou Koma (https://www.notion.so/Mamadou-Ko...   \n",
       "\n",
       "                                 date   statuts  tarif urgence  tarif horaire  \\\n",
       "0             07/01/2024 8:00 → 20:00  standard            NaN           21.0   \n",
       "1  06/01/2024 22:30 → 07/01/2024 8:00  standard            NaN           20.0   \n",
       "2  06/01/2024 19:30 → 07/01/2024 7:30  standard            NaN           20.0   \n",
       "3             06/01/2024 8:00 → 20:00  standard            NaN           21.0   \n",
       "4  05/01/2024 22:30 → 06/01/2024 8:00  standard            NaN           20.0   \n",
       "\n",
       "  nbre d'heures  total HT facture règlement  montant HT Texte  \\\n",
       "0     12hr 0min       252     NaN       NaN         180   NaN   \n",
       "1     9hr 30min       180     NaN       NaN         135   NaN   \n",
       "2     12hr 0min       240     NaN       NaN         180   NaN   \n",
       "3     12hr 0min       252     NaN       NaN         180   NaN   \n",
       "4     9hr 30min       180     NaN       NaN         135   NaN   \n",
       "\n",
       "           date_debut      time_delta            date_fin Propriété_clean  \\\n",
       "0 2024-01-07 08:00:00 0 days 12:00:00 2024-01-07 20:00:00         Crystal   \n",
       "1 2024-01-06 22:30:00 0 days 09:30:00 2024-01-07 08:00:00      Milie Rose   \n",
       "2 2024-01-06 19:30:00 0 days 12:00:00 2024-01-07 07:30:00        Touraine   \n",
       "3 2024-01-06 08:00:00 0 days 12:00:00 2024-01-06 20:00:00         Crystal   \n",
       "4 2024-01-05 22:30:00 0 days 09:30:00 2024-01-06 08:00:00      Milie Rose   \n",
       "\n",
       "  periode_debut  float_hours  marge  \n",
       "0       01-2024         12.0     72  \n",
       "1       01-2024          9.5     45  \n",
       "2       01-2024         12.0     60  \n",
       "3       01-2024         12.0     72  \n",
       "4       01-2024          9.5     45  "
      ]
     },
     "execution_count": 33,
     "metadata": {},
     "output_type": "execute_result"
    }
   ],
   "source": [
    "data[\"marge\"] = data.apply(lambda x: x[\"total HT\"] - x[\"montant HT\"], axis=1)\n",
    "data.head()"
   ]
  },
  {
   "cell_type": "code",
   "execution_count": null,
   "metadata": {},
   "outputs": [],
   "source": [
    "marge_df = data[[\"Propriété_clean\", \"total HT\", \"marge\"]].groupby(\"Propriété_clean\").mean()\n",
    "marge_df[\"pourcent\"] = marge_df.apply(lambda x: round(x[\"marge\"] / x[\"total HT\"] * 100, 1), axis =1)\n",
    "marge_df = marge_df.reset_index()"
   ]
  },
  {
   "cell_type": "code",
   "execution_count": null,
   "metadata": {},
   "outputs": [
    {
     "data": {
      "text/html": [
       "<div>\n",
       "<style scoped>\n",
       "    .dataframe tbody tr th:only-of-type {\n",
       "        vertical-align: middle;\n",
       "    }\n",
       "\n",
       "    .dataframe tbody tr th {\n",
       "        vertical-align: top;\n",
       "    }\n",
       "\n",
       "    .dataframe thead th {\n",
       "        text-align: right;\n",
       "    }\n",
       "</style>\n",
       "<table border=\"1\" class=\"dataframe\">\n",
       "  <thead>\n",
       "    <tr style=\"text-align: right;\">\n",
       "      <th></th>\n",
       "      <th>Propriété</th>\n",
       "      <th>Statut</th>\n",
       "      <th>Missions</th>\n",
       "      <th>Propriété_cat</th>\n",
       "      <th>pourcent</th>\n",
       "    </tr>\n",
       "  </thead>\n",
       "  <tbody>\n",
       "    <tr>\n",
       "      <th>0</th>\n",
       "      <td>Ibis Montparnasse</td>\n",
       "      <td>standard</td>\n",
       "      <td>88</td>\n",
       "      <td>Ibis Montparnasse</td>\n",
       "      <td>25.4</td>\n",
       "    </tr>\n",
       "    <tr>\n",
       "      <th>1</th>\n",
       "      <td>Ibis Montparnasse</td>\n",
       "      <td>urgente</td>\n",
       "      <td>1</td>\n",
       "      <td>Ibis Montparnasse</td>\n",
       "      <td>25.4</td>\n",
       "    </tr>\n",
       "    <tr>\n",
       "      <th>2</th>\n",
       "      <td>Select Hotel</td>\n",
       "      <td>standard</td>\n",
       "      <td>21</td>\n",
       "      <td>Select Hotel</td>\n",
       "      <td>28.6</td>\n",
       "    </tr>\n",
       "    <tr>\n",
       "      <th>3</th>\n",
       "      <td>Select Hotel</td>\n",
       "      <td>annulé</td>\n",
       "      <td>14</td>\n",
       "      <td>Select Hotel</td>\n",
       "      <td>28.6</td>\n",
       "    </tr>\n",
       "    <tr>\n",
       "      <th>4</th>\n",
       "      <td>Le Grand Quartier</td>\n",
       "      <td>standard</td>\n",
       "      <td>33</td>\n",
       "      <td>Le Grand Quartier</td>\n",
       "      <td>25.9</td>\n",
       "    </tr>\n",
       "    <tr>\n",
       "      <th>5</th>\n",
       "      <td>Le Grand Quartier</td>\n",
       "      <td>annulé</td>\n",
       "      <td>1</td>\n",
       "      <td>Le Grand Quartier</td>\n",
       "      <td>25.9</td>\n",
       "    </tr>\n",
       "    <tr>\n",
       "      <th>6</th>\n",
       "      <td>Marceau</td>\n",
       "      <td>standard</td>\n",
       "      <td>26</td>\n",
       "      <td>Marceau</td>\n",
       "      <td>21.1</td>\n",
       "    </tr>\n",
       "    <tr>\n",
       "      <th>7</th>\n",
       "      <td>Imprimerie</td>\n",
       "      <td>standard</td>\n",
       "      <td>24</td>\n",
       "      <td>Imprimerie</td>\n",
       "      <td>26.5</td>\n",
       "    </tr>\n",
       "    <tr>\n",
       "      <th>8</th>\n",
       "      <td>Imprimerie</td>\n",
       "      <td>urgente</td>\n",
       "      <td>2</td>\n",
       "      <td>Imprimerie</td>\n",
       "      <td>26.5</td>\n",
       "    </tr>\n",
       "    <tr>\n",
       "      <th>9</th>\n",
       "      <td>Milie Rose</td>\n",
       "      <td>urgente</td>\n",
       "      <td>1</td>\n",
       "      <td>Milie Rose</td>\n",
       "      <td>25.9</td>\n",
       "    </tr>\n",
       "    <tr>\n",
       "      <th>10</th>\n",
       "      <td>Milie Rose</td>\n",
       "      <td>annulé</td>\n",
       "      <td>3</td>\n",
       "      <td>Milie Rose</td>\n",
       "      <td>25.9</td>\n",
       "    </tr>\n",
       "    <tr>\n",
       "      <th>11</th>\n",
       "      <td>Milie Rose</td>\n",
       "      <td>standard</td>\n",
       "      <td>17</td>\n",
       "      <td>Milie Rose</td>\n",
       "      <td>25.9</td>\n",
       "    </tr>\n",
       "    <tr>\n",
       "      <th>12</th>\n",
       "      <td>Drawing House</td>\n",
       "      <td>standard</td>\n",
       "      <td>11</td>\n",
       "      <td>Drawing House</td>\n",
       "      <td>30.4</td>\n",
       "    </tr>\n",
       "    <tr>\n",
       "      <th>13</th>\n",
       "      <td>Drawing House</td>\n",
       "      <td>urgente</td>\n",
       "      <td>2</td>\n",
       "      <td>Drawing House</td>\n",
       "      <td>30.4</td>\n",
       "    </tr>\n",
       "    <tr>\n",
       "      <th>14</th>\n",
       "      <td>French Theory</td>\n",
       "      <td>standard</td>\n",
       "      <td>5</td>\n",
       "      <td>French Theory</td>\n",
       "      <td>28.6</td>\n",
       "    </tr>\n",
       "    <tr>\n",
       "      <th>15</th>\n",
       "      <td>French Theory</td>\n",
       "      <td>urgente</td>\n",
       "      <td>3</td>\n",
       "      <td>French Theory</td>\n",
       "      <td>28.6</td>\n",
       "    </tr>\n",
       "    <tr>\n",
       "      <th>16</th>\n",
       "      <td>French Theory</td>\n",
       "      <td>annulé</td>\n",
       "      <td>1</td>\n",
       "      <td>French Theory</td>\n",
       "      <td>28.6</td>\n",
       "    </tr>\n",
       "    <tr>\n",
       "      <th>17</th>\n",
       "      <td>Les Deux Girafes</td>\n",
       "      <td>urgente</td>\n",
       "      <td>1</td>\n",
       "      <td>Les Deux Girafes</td>\n",
       "      <td>28.4</td>\n",
       "    </tr>\n",
       "    <tr>\n",
       "      <th>18</th>\n",
       "      <td>Les Deux Girafes</td>\n",
       "      <td>standard</td>\n",
       "      <td>5</td>\n",
       "      <td>Les Deux Girafes</td>\n",
       "      <td>28.4</td>\n",
       "    </tr>\n",
       "    <tr>\n",
       "      <th>19</th>\n",
       "      <td>Yllen Eiffel</td>\n",
       "      <td>standard</td>\n",
       "      <td>5</td>\n",
       "      <td>Yllen Eiffel</td>\n",
       "      <td>25.8</td>\n",
       "    </tr>\n",
       "    <tr>\n",
       "      <th>20</th>\n",
       "      <td>Chouchou</td>\n",
       "      <td>standard</td>\n",
       "      <td>4</td>\n",
       "      <td>Chouchou</td>\n",
       "      <td>28.1</td>\n",
       "    </tr>\n",
       "    <tr>\n",
       "      <th>21</th>\n",
       "      <td>MT solutions</td>\n",
       "      <td>standard</td>\n",
       "      <td>4</td>\n",
       "      <td>MT solutions</td>\n",
       "      <td>25.0</td>\n",
       "    </tr>\n",
       "    <tr>\n",
       "      <th>22</th>\n",
       "      <td>Touraine</td>\n",
       "      <td>standard</td>\n",
       "      <td>4</td>\n",
       "      <td>Touraine</td>\n",
       "      <td>25.5</td>\n",
       "    </tr>\n",
       "    <tr>\n",
       "      <th>23</th>\n",
       "      <td>Monte Cristo</td>\n",
       "      <td>standard</td>\n",
       "      <td>3</td>\n",
       "      <td>Monte Cristo</td>\n",
       "      <td>27.7</td>\n",
       "    </tr>\n",
       "    <tr>\n",
       "      <th>24</th>\n",
       "      <td>Parisianer</td>\n",
       "      <td>standard</td>\n",
       "      <td>3</td>\n",
       "      <td>Parisianer</td>\n",
       "      <td>16.7</td>\n",
       "    </tr>\n",
       "    <tr>\n",
       "      <th>25</th>\n",
       "      <td>Victoire et Germain</td>\n",
       "      <td>standard</td>\n",
       "      <td>3</td>\n",
       "      <td>Victoire et Germain</td>\n",
       "      <td>25.3</td>\n",
       "    </tr>\n",
       "    <tr>\n",
       "      <th>26</th>\n",
       "      <td>Parisis</td>\n",
       "      <td>urgente</td>\n",
       "      <td>1</td>\n",
       "      <td>Parisis</td>\n",
       "      <td>26.9</td>\n",
       "    </tr>\n",
       "    <tr>\n",
       "      <th>27</th>\n",
       "      <td>Parisis</td>\n",
       "      <td>standard</td>\n",
       "      <td>1</td>\n",
       "      <td>Parisis</td>\n",
       "      <td>26.9</td>\n",
       "    </tr>\n",
       "    <tr>\n",
       "      <th>28</th>\n",
       "      <td>Tsuba</td>\n",
       "      <td>standard</td>\n",
       "      <td>1</td>\n",
       "      <td>Tsuba</td>\n",
       "      <td>25.7</td>\n",
       "    </tr>\n",
       "    <tr>\n",
       "      <th>29</th>\n",
       "      <td>Tsuba</td>\n",
       "      <td>urgente</td>\n",
       "      <td>1</td>\n",
       "      <td>Tsuba</td>\n",
       "      <td>25.7</td>\n",
       "    </tr>\n",
       "    <tr>\n",
       "      <th>30</th>\n",
       "      <td>Alberte</td>\n",
       "      <td>standard</td>\n",
       "      <td>2</td>\n",
       "      <td>Alberte</td>\n",
       "      <td>29.4</td>\n",
       "    </tr>\n",
       "    <tr>\n",
       "      <th>31</th>\n",
       "      <td>Crystal</td>\n",
       "      <td>standard</td>\n",
       "      <td>1</td>\n",
       "      <td>Crystal</td>\n",
       "      <td>28.6</td>\n",
       "    </tr>\n",
       "  </tbody>\n",
       "</table>\n",
       "</div>"
      ],
      "text/plain": [
       "              Propriété    Statut  Missions        Propriété_cat  pourcent\n",
       "0     Ibis Montparnasse  standard        88    Ibis Montparnasse      25.4\n",
       "1     Ibis Montparnasse   urgente         1    Ibis Montparnasse      25.4\n",
       "2          Select Hotel  standard        21         Select Hotel      28.6\n",
       "3          Select Hotel    annulé        14         Select Hotel      28.6\n",
       "4     Le Grand Quartier  standard        33    Le Grand Quartier      25.9\n",
       "5     Le Grand Quartier    annulé         1    Le Grand Quartier      25.9\n",
       "6               Marceau  standard        26              Marceau      21.1\n",
       "7            Imprimerie  standard        24           Imprimerie      26.5\n",
       "8            Imprimerie   urgente         2           Imprimerie      26.5\n",
       "9            Milie Rose   urgente         1           Milie Rose      25.9\n",
       "10           Milie Rose    annulé         3           Milie Rose      25.9\n",
       "11           Milie Rose  standard        17           Milie Rose      25.9\n",
       "12        Drawing House  standard        11        Drawing House      30.4\n",
       "13        Drawing House   urgente         2        Drawing House      30.4\n",
       "14        French Theory  standard         5        French Theory      28.6\n",
       "15        French Theory   urgente         3        French Theory      28.6\n",
       "16        French Theory    annulé         1        French Theory      28.6\n",
       "17     Les Deux Girafes   urgente         1     Les Deux Girafes      28.4\n",
       "18     Les Deux Girafes  standard         5     Les Deux Girafes      28.4\n",
       "19         Yllen Eiffel  standard         5         Yllen Eiffel      25.8\n",
       "20             Chouchou  standard         4             Chouchou      28.1\n",
       "21        MT solutions   standard         4        MT solutions       25.0\n",
       "22             Touraine  standard         4             Touraine      25.5\n",
       "23         Monte Cristo  standard         3         Monte Cristo      27.7\n",
       "24           Parisianer  standard         3           Parisianer      16.7\n",
       "25  Victoire et Germain  standard         3  Victoire et Germain      25.3\n",
       "26              Parisis   urgente         1              Parisis      26.9\n",
       "27              Parisis  standard         1              Parisis      26.9\n",
       "28                Tsuba  standard         1                Tsuba      25.7\n",
       "29                Tsuba   urgente         1                Tsuba      25.7\n",
       "30             Alberte   standard         2             Alberte       29.4\n",
       "31              Crystal  standard         1              Crystal      28.6"
      ]
     },
     "execution_count": 35,
     "metadata": {},
     "output_type": "execute_result"
    }
   ],
   "source": [
    "monthly_missions_status = monthly_missions_status.merge(marge_df, left_on=\"Propriété\", right_on=\"Propriété_clean\").drop([\"Propriété_clean\",\"total HT\",\"marge\"], axis=1)\n",
    "monthly_missions_status"
   ]
  },
  {
   "cell_type": "code",
   "execution_count": null,
   "metadata": {},
   "outputs": [
    {
     "data": {
      "application/vnd.plotly.v1+json": {
       "config": {
        "plotlyServerURL": "https://plot.ly"
       },
       "data": [
        {
         "alignmentgroup": "True",
         "hovertemplate": "Statut=standard<br>Propriété=%{x}<br>Missions=%{y}<br>pourcent=%{text}<extra></extra>",
         "legendgroup": "standard",
         "marker": {
          "color": "#636efa",
          "pattern": {
           "shape": ""
          }
         },
         "name": "standard",
         "offsetgroup": "standard",
         "orientation": "v",
         "showlegend": true,
         "text": [
          25.4,
          28.6,
          25.9,
          21.1,
          26.5,
          25.9,
          30.4,
          28.6,
          28.4,
          25.8,
          28.1,
          25,
          25.5,
          27.7,
          16.7,
          25.3,
          26.9,
          25.7,
          29.4,
          28.6
         ],
         "textposition": "auto",
         "type": "bar",
         "x": [
          "Ibis Montparnasse",
          "Select Hotel",
          "Le Grand Quartier",
          "Marceau",
          "Imprimerie",
          "Milie Rose",
          "Drawing House",
          "French Theory",
          "Les Deux Girafes",
          "Yllen Eiffel",
          "Chouchou",
          "MT solutions ",
          "Touraine",
          "Monte Cristo",
          "Parisianer",
          "Victoire et Germain",
          "Parisis",
          "Tsuba",
          "Alberte ",
          "Crystal"
         ],
         "xaxis": "x",
         "y": [
          88,
          21,
          33,
          26,
          24,
          17,
          11,
          5,
          5,
          5,
          4,
          4,
          4,
          3,
          3,
          3,
          1,
          1,
          2,
          1
         ],
         "yaxis": "y"
        },
        {
         "alignmentgroup": "True",
         "hovertemplate": "Statut=urgente<br>Propriété=%{x}<br>Missions=%{y}<br>pourcent=%{text}<extra></extra>",
         "legendgroup": "urgente",
         "marker": {
          "color": "#EF553B",
          "pattern": {
           "shape": ""
          }
         },
         "name": "urgente",
         "offsetgroup": "urgente",
         "orientation": "v",
         "showlegend": true,
         "text": [
          25.4,
          26.5,
          25.9,
          30.4,
          28.6,
          28.4,
          26.9,
          25.7
         ],
         "textposition": "auto",
         "type": "bar",
         "x": [
          "Ibis Montparnasse",
          "Imprimerie",
          "Milie Rose",
          "Drawing House",
          "French Theory",
          "Les Deux Girafes",
          "Parisis",
          "Tsuba"
         ],
         "xaxis": "x",
         "y": [
          1,
          2,
          1,
          2,
          3,
          1,
          1,
          1
         ],
         "yaxis": "y"
        },
        {
         "alignmentgroup": "True",
         "hovertemplate": "Statut=annulé<br>Propriété=%{x}<br>Missions=%{y}<br>pourcent=%{text}<extra></extra>",
         "legendgroup": "annulé",
         "marker": {
          "color": "#00cc96",
          "pattern": {
           "shape": ""
          }
         },
         "name": "annulé",
         "offsetgroup": "annulé",
         "orientation": "v",
         "showlegend": true,
         "text": [
          28.6,
          25.9,
          25.9,
          28.6
         ],
         "textposition": "auto",
         "type": "bar",
         "x": [
          "Select Hotel",
          "Le Grand Quartier",
          "Milie Rose",
          "French Theory"
         ],
         "xaxis": "x",
         "y": [
          14,
          1,
          3,
          1
         ],
         "yaxis": "y"
        }
       ],
       "layout": {
        "barmode": "relative",
        "legend": {
         "title": {
          "text": "Statut"
         },
         "tracegroupgap": 0,
         "x": 0.99,
         "xanchor": "right",
         "y": 0.99,
         "yanchor": "top"
        },
        "margin": {
         "t": 60
        },
        "template": {
         "data": {
          "bar": [
           {
            "error_x": {
             "color": "#2a3f5f"
            },
            "error_y": {
             "color": "#2a3f5f"
            },
            "marker": {
             "line": {
              "color": "#E5ECF6",
              "width": 0.5
             },
             "pattern": {
              "fillmode": "overlay",
              "size": 10,
              "solidity": 0.2
             }
            },
            "type": "bar"
           }
          ],
          "barpolar": [
           {
            "marker": {
             "line": {
              "color": "#E5ECF6",
              "width": 0.5
             },
             "pattern": {
              "fillmode": "overlay",
              "size": 10,
              "solidity": 0.2
             }
            },
            "type": "barpolar"
           }
          ],
          "carpet": [
           {
            "aaxis": {
             "endlinecolor": "#2a3f5f",
             "gridcolor": "white",
             "linecolor": "white",
             "minorgridcolor": "white",
             "startlinecolor": "#2a3f5f"
            },
            "baxis": {
             "endlinecolor": "#2a3f5f",
             "gridcolor": "white",
             "linecolor": "white",
             "minorgridcolor": "white",
             "startlinecolor": "#2a3f5f"
            },
            "type": "carpet"
           }
          ],
          "choropleth": [
           {
            "colorbar": {
             "outlinewidth": 0,
             "ticks": ""
            },
            "type": "choropleth"
           }
          ],
          "contour": [
           {
            "colorbar": {
             "outlinewidth": 0,
             "ticks": ""
            },
            "colorscale": [
             [
              0,
              "#0d0887"
             ],
             [
              0.1111111111111111,
              "#46039f"
             ],
             [
              0.2222222222222222,
              "#7201a8"
             ],
             [
              0.3333333333333333,
              "#9c179e"
             ],
             [
              0.4444444444444444,
              "#bd3786"
             ],
             [
              0.5555555555555556,
              "#d8576b"
             ],
             [
              0.6666666666666666,
              "#ed7953"
             ],
             [
              0.7777777777777778,
              "#fb9f3a"
             ],
             [
              0.8888888888888888,
              "#fdca26"
             ],
             [
              1,
              "#f0f921"
             ]
            ],
            "type": "contour"
           }
          ],
          "contourcarpet": [
           {
            "colorbar": {
             "outlinewidth": 0,
             "ticks": ""
            },
            "type": "contourcarpet"
           }
          ],
          "heatmap": [
           {
            "colorbar": {
             "outlinewidth": 0,
             "ticks": ""
            },
            "colorscale": [
             [
              0,
              "#0d0887"
             ],
             [
              0.1111111111111111,
              "#46039f"
             ],
             [
              0.2222222222222222,
              "#7201a8"
             ],
             [
              0.3333333333333333,
              "#9c179e"
             ],
             [
              0.4444444444444444,
              "#bd3786"
             ],
             [
              0.5555555555555556,
              "#d8576b"
             ],
             [
              0.6666666666666666,
              "#ed7953"
             ],
             [
              0.7777777777777778,
              "#fb9f3a"
             ],
             [
              0.8888888888888888,
              "#fdca26"
             ],
             [
              1,
              "#f0f921"
             ]
            ],
            "type": "heatmap"
           }
          ],
          "heatmapgl": [
           {
            "colorbar": {
             "outlinewidth": 0,
             "ticks": ""
            },
            "colorscale": [
             [
              0,
              "#0d0887"
             ],
             [
              0.1111111111111111,
              "#46039f"
             ],
             [
              0.2222222222222222,
              "#7201a8"
             ],
             [
              0.3333333333333333,
              "#9c179e"
             ],
             [
              0.4444444444444444,
              "#bd3786"
             ],
             [
              0.5555555555555556,
              "#d8576b"
             ],
             [
              0.6666666666666666,
              "#ed7953"
             ],
             [
              0.7777777777777778,
              "#fb9f3a"
             ],
             [
              0.8888888888888888,
              "#fdca26"
             ],
             [
              1,
              "#f0f921"
             ]
            ],
            "type": "heatmapgl"
           }
          ],
          "histogram": [
           {
            "marker": {
             "pattern": {
              "fillmode": "overlay",
              "size": 10,
              "solidity": 0.2
             }
            },
            "type": "histogram"
           }
          ],
          "histogram2d": [
           {
            "colorbar": {
             "outlinewidth": 0,
             "ticks": ""
            },
            "colorscale": [
             [
              0,
              "#0d0887"
             ],
             [
              0.1111111111111111,
              "#46039f"
             ],
             [
              0.2222222222222222,
              "#7201a8"
             ],
             [
              0.3333333333333333,
              "#9c179e"
             ],
             [
              0.4444444444444444,
              "#bd3786"
             ],
             [
              0.5555555555555556,
              "#d8576b"
             ],
             [
              0.6666666666666666,
              "#ed7953"
             ],
             [
              0.7777777777777778,
              "#fb9f3a"
             ],
             [
              0.8888888888888888,
              "#fdca26"
             ],
             [
              1,
              "#f0f921"
             ]
            ],
            "type": "histogram2d"
           }
          ],
          "histogram2dcontour": [
           {
            "colorbar": {
             "outlinewidth": 0,
             "ticks": ""
            },
            "colorscale": [
             [
              0,
              "#0d0887"
             ],
             [
              0.1111111111111111,
              "#46039f"
             ],
             [
              0.2222222222222222,
              "#7201a8"
             ],
             [
              0.3333333333333333,
              "#9c179e"
             ],
             [
              0.4444444444444444,
              "#bd3786"
             ],
             [
              0.5555555555555556,
              "#d8576b"
             ],
             [
              0.6666666666666666,
              "#ed7953"
             ],
             [
              0.7777777777777778,
              "#fb9f3a"
             ],
             [
              0.8888888888888888,
              "#fdca26"
             ],
             [
              1,
              "#f0f921"
             ]
            ],
            "type": "histogram2dcontour"
           }
          ],
          "mesh3d": [
           {
            "colorbar": {
             "outlinewidth": 0,
             "ticks": ""
            },
            "type": "mesh3d"
           }
          ],
          "parcoords": [
           {
            "line": {
             "colorbar": {
              "outlinewidth": 0,
              "ticks": ""
             }
            },
            "type": "parcoords"
           }
          ],
          "pie": [
           {
            "automargin": true,
            "type": "pie"
           }
          ],
          "scatter": [
           {
            "fillpattern": {
             "fillmode": "overlay",
             "size": 10,
             "solidity": 0.2
            },
            "type": "scatter"
           }
          ],
          "scatter3d": [
           {
            "line": {
             "colorbar": {
              "outlinewidth": 0,
              "ticks": ""
             }
            },
            "marker": {
             "colorbar": {
              "outlinewidth": 0,
              "ticks": ""
             }
            },
            "type": "scatter3d"
           }
          ],
          "scattercarpet": [
           {
            "marker": {
             "colorbar": {
              "outlinewidth": 0,
              "ticks": ""
             }
            },
            "type": "scattercarpet"
           }
          ],
          "scattergeo": [
           {
            "marker": {
             "colorbar": {
              "outlinewidth": 0,
              "ticks": ""
             }
            },
            "type": "scattergeo"
           }
          ],
          "scattergl": [
           {
            "marker": {
             "colorbar": {
              "outlinewidth": 0,
              "ticks": ""
             }
            },
            "type": "scattergl"
           }
          ],
          "scattermapbox": [
           {
            "marker": {
             "colorbar": {
              "outlinewidth": 0,
              "ticks": ""
             }
            },
            "type": "scattermapbox"
           }
          ],
          "scatterpolar": [
           {
            "marker": {
             "colorbar": {
              "outlinewidth": 0,
              "ticks": ""
             }
            },
            "type": "scatterpolar"
           }
          ],
          "scatterpolargl": [
           {
            "marker": {
             "colorbar": {
              "outlinewidth": 0,
              "ticks": ""
             }
            },
            "type": "scatterpolargl"
           }
          ],
          "scatterternary": [
           {
            "marker": {
             "colorbar": {
              "outlinewidth": 0,
              "ticks": ""
             }
            },
            "type": "scatterternary"
           }
          ],
          "surface": [
           {
            "colorbar": {
             "outlinewidth": 0,
             "ticks": ""
            },
            "colorscale": [
             [
              0,
              "#0d0887"
             ],
             [
              0.1111111111111111,
              "#46039f"
             ],
             [
              0.2222222222222222,
              "#7201a8"
             ],
             [
              0.3333333333333333,
              "#9c179e"
             ],
             [
              0.4444444444444444,
              "#bd3786"
             ],
             [
              0.5555555555555556,
              "#d8576b"
             ],
             [
              0.6666666666666666,
              "#ed7953"
             ],
             [
              0.7777777777777778,
              "#fb9f3a"
             ],
             [
              0.8888888888888888,
              "#fdca26"
             ],
             [
              1,
              "#f0f921"
             ]
            ],
            "type": "surface"
           }
          ],
          "table": [
           {
            "cells": {
             "fill": {
              "color": "#EBF0F8"
             },
             "line": {
              "color": "white"
             }
            },
            "header": {
             "fill": {
              "color": "#C8D4E3"
             },
             "line": {
              "color": "white"
             }
            },
            "type": "table"
           }
          ]
         },
         "layout": {
          "annotationdefaults": {
           "arrowcolor": "#2a3f5f",
           "arrowhead": 0,
           "arrowwidth": 1
          },
          "autotypenumbers": "strict",
          "coloraxis": {
           "colorbar": {
            "outlinewidth": 0,
            "ticks": ""
           }
          },
          "colorscale": {
           "diverging": [
            [
             0,
             "#8e0152"
            ],
            [
             0.1,
             "#c51b7d"
            ],
            [
             0.2,
             "#de77ae"
            ],
            [
             0.3,
             "#f1b6da"
            ],
            [
             0.4,
             "#fde0ef"
            ],
            [
             0.5,
             "#f7f7f7"
            ],
            [
             0.6,
             "#e6f5d0"
            ],
            [
             0.7,
             "#b8e186"
            ],
            [
             0.8,
             "#7fbc41"
            ],
            [
             0.9,
             "#4d9221"
            ],
            [
             1,
             "#276419"
            ]
           ],
           "sequential": [
            [
             0,
             "#0d0887"
            ],
            [
             0.1111111111111111,
             "#46039f"
            ],
            [
             0.2222222222222222,
             "#7201a8"
            ],
            [
             0.3333333333333333,
             "#9c179e"
            ],
            [
             0.4444444444444444,
             "#bd3786"
            ],
            [
             0.5555555555555556,
             "#d8576b"
            ],
            [
             0.6666666666666666,
             "#ed7953"
            ],
            [
             0.7777777777777778,
             "#fb9f3a"
            ],
            [
             0.8888888888888888,
             "#fdca26"
            ],
            [
             1,
             "#f0f921"
            ]
           ],
           "sequentialminus": [
            [
             0,
             "#0d0887"
            ],
            [
             0.1111111111111111,
             "#46039f"
            ],
            [
             0.2222222222222222,
             "#7201a8"
            ],
            [
             0.3333333333333333,
             "#9c179e"
            ],
            [
             0.4444444444444444,
             "#bd3786"
            ],
            [
             0.5555555555555556,
             "#d8576b"
            ],
            [
             0.6666666666666666,
             "#ed7953"
            ],
            [
             0.7777777777777778,
             "#fb9f3a"
            ],
            [
             0.8888888888888888,
             "#fdca26"
            ],
            [
             1,
             "#f0f921"
            ]
           ]
          },
          "colorway": [
           "#636efa",
           "#EF553B",
           "#00cc96",
           "#ab63fa",
           "#FFA15A",
           "#19d3f3",
           "#FF6692",
           "#B6E880",
           "#FF97FF",
           "#FECB52"
          ],
          "font": {
           "color": "#2a3f5f"
          },
          "geo": {
           "bgcolor": "white",
           "lakecolor": "white",
           "landcolor": "#E5ECF6",
           "showlakes": true,
           "showland": true,
           "subunitcolor": "white"
          },
          "hoverlabel": {
           "align": "left"
          },
          "hovermode": "closest",
          "mapbox": {
           "style": "light"
          },
          "paper_bgcolor": "white",
          "plot_bgcolor": "#E5ECF6",
          "polar": {
           "angularaxis": {
            "gridcolor": "white",
            "linecolor": "white",
            "ticks": ""
           },
           "bgcolor": "#E5ECF6",
           "radialaxis": {
            "gridcolor": "white",
            "linecolor": "white",
            "ticks": ""
           }
          },
          "scene": {
           "xaxis": {
            "backgroundcolor": "#E5ECF6",
            "gridcolor": "white",
            "gridwidth": 2,
            "linecolor": "white",
            "showbackground": true,
            "ticks": "",
            "zerolinecolor": "white"
           },
           "yaxis": {
            "backgroundcolor": "#E5ECF6",
            "gridcolor": "white",
            "gridwidth": 2,
            "linecolor": "white",
            "showbackground": true,
            "ticks": "",
            "zerolinecolor": "white"
           },
           "zaxis": {
            "backgroundcolor": "#E5ECF6",
            "gridcolor": "white",
            "gridwidth": 2,
            "linecolor": "white",
            "showbackground": true,
            "ticks": "",
            "zerolinecolor": "white"
           }
          },
          "shapedefaults": {
           "line": {
            "color": "#2a3f5f"
           }
          },
          "ternary": {
           "aaxis": {
            "gridcolor": "white",
            "linecolor": "white",
            "ticks": ""
           },
           "baxis": {
            "gridcolor": "white",
            "linecolor": "white",
            "ticks": ""
           },
           "bgcolor": "#E5ECF6",
           "caxis": {
            "gridcolor": "white",
            "linecolor": "white",
            "ticks": ""
           }
          },
          "title": {
           "x": 0.05
          },
          "xaxis": {
           "automargin": true,
           "gridcolor": "white",
           "linecolor": "white",
           "ticks": "",
           "title": {
            "standoff": 15
           },
           "zerolinecolor": "white",
           "zerolinewidth": 2
          },
          "yaxis": {
           "automargin": true,
           "gridcolor": "white",
           "linecolor": "white",
           "ticks": "",
           "title": {
            "standoff": 15
           },
           "zerolinecolor": "white",
           "zerolinewidth": 2
          }
         }
        },
        "xaxis": {
         "anchor": "y",
         "domain": [
          0,
          1
         ],
         "title": {
          "text": "Hôtels"
         }
        },
        "yaxis": {
         "anchor": "x",
         "domain": [
          0,
          1
         ],
         "title": {
          "text": "Nombre de missions"
         }
        }
       }
      }
     },
     "metadata": {},
     "output_type": "display_data"
    }
   ],
   "source": [
    "fig = px.bar(\n",
    "    monthly_missions_status, x=\"Propriété\", y=\"Missions\", color=\"Statut\", text=\"pourcent\")\n",
    "\n",
    "fig.update_layout(legend=dict(yanchor=\"top\", y=0.99, xanchor=\"right\", x=0.99))\n",
    "\n",
    "fig.update_xaxes(title_text=\"Hôtels\")\n",
    "fig.update_yaxes(title_text=\"Nombre de missions\")"
   ]
  },
  {
   "cell_type": "code",
   "execution_count": 67,
   "metadata": {},
   "outputs": [
    {
     "data": {
      "text/html": [
       "<div>\n",
       "<style scoped>\n",
       "    .dataframe tbody tr th:only-of-type {\n",
       "        vertical-align: middle;\n",
       "    }\n",
       "\n",
       "    .dataframe tbody tr th {\n",
       "        vertical-align: top;\n",
       "    }\n",
       "\n",
       "    .dataframe thead th {\n",
       "        text-align: right;\n",
       "    }\n",
       "</style>\n",
       "<table border=\"1\" class=\"dataframe\">\n",
       "  <thead>\n",
       "    <tr style=\"text-align: right;\">\n",
       "      <th></th>\n",
       "      <th>Propriété_clean</th>\n",
       "      <th>statuts</th>\n",
       "      <th>Propriété</th>\n",
       "    </tr>\n",
       "  </thead>\n",
       "  <tbody>\n",
       "    <tr>\n",
       "      <th>0</th>\n",
       "      <td>Ibis Montparnasse</td>\n",
       "      <td>standard</td>\n",
       "      <td>47</td>\n",
       "    </tr>\n",
       "    <tr>\n",
       "      <th>1</th>\n",
       "      <td>Milie Rose</td>\n",
       "      <td>standard</td>\n",
       "      <td>14</td>\n",
       "    </tr>\n",
       "    <tr>\n",
       "      <th>2</th>\n",
       "      <td>Imprimerie</td>\n",
       "      <td>standard</td>\n",
       "      <td>10</td>\n",
       "    </tr>\n",
       "    <tr>\n",
       "      <th>3</th>\n",
       "      <td>Touraine</td>\n",
       "      <td>standard</td>\n",
       "      <td>8</td>\n",
       "    </tr>\n",
       "    <tr>\n",
       "      <th>4</th>\n",
       "      <td>Ibis Montparnasse</td>\n",
       "      <td>urgente</td>\n",
       "      <td>6</td>\n",
       "    </tr>\n",
       "    <tr>\n",
       "      <th>5</th>\n",
       "      <td>Drawing House</td>\n",
       "      <td>standard</td>\n",
       "      <td>4</td>\n",
       "    </tr>\n",
       "    <tr>\n",
       "      <th>6</th>\n",
       "      <td>Les Deux Girafes</td>\n",
       "      <td>standard</td>\n",
       "      <td>3</td>\n",
       "    </tr>\n",
       "    <tr>\n",
       "      <th>7</th>\n",
       "      <td>Courseine</td>\n",
       "      <td>urgente</td>\n",
       "      <td>3</td>\n",
       "    </tr>\n",
       "    <tr>\n",
       "      <th>8</th>\n",
       "      <td>Yllen Eiffel</td>\n",
       "      <td>standard</td>\n",
       "      <td>2</td>\n",
       "    </tr>\n",
       "    <tr>\n",
       "      <th>9</th>\n",
       "      <td>Alberte</td>\n",
       "      <td>standard</td>\n",
       "      <td>2</td>\n",
       "    </tr>\n",
       "    <tr>\n",
       "      <th>10</th>\n",
       "      <td>Courseine</td>\n",
       "      <td>standard</td>\n",
       "      <td>2</td>\n",
       "    </tr>\n",
       "    <tr>\n",
       "      <th>11</th>\n",
       "      <td>Touraine</td>\n",
       "      <td>urgente</td>\n",
       "      <td>2</td>\n",
       "    </tr>\n",
       "    <tr>\n",
       "      <th>12</th>\n",
       "      <td>Le Grand Quartier</td>\n",
       "      <td>standard</td>\n",
       "      <td>2</td>\n",
       "    </tr>\n",
       "    <tr>\n",
       "      <th>13</th>\n",
       "      <td>Milie Rose</td>\n",
       "      <td>urgente</td>\n",
       "      <td>2</td>\n",
       "    </tr>\n",
       "    <tr>\n",
       "      <th>14</th>\n",
       "      <td>Chouchou</td>\n",
       "      <td>urgente</td>\n",
       "      <td>1</td>\n",
       "    </tr>\n",
       "    <tr>\n",
       "      <th>15</th>\n",
       "      <td>Drawing House</td>\n",
       "      <td>urgente</td>\n",
       "      <td>1</td>\n",
       "    </tr>\n",
       "    <tr>\n",
       "      <th>16</th>\n",
       "      <td>Monte Cristo</td>\n",
       "      <td>standard</td>\n",
       "      <td>1</td>\n",
       "    </tr>\n",
       "    <tr>\n",
       "      <th>17</th>\n",
       "      <td>Monte Cristo</td>\n",
       "      <td>urgente</td>\n",
       "      <td>1</td>\n",
       "    </tr>\n",
       "    <tr>\n",
       "      <th>18</th>\n",
       "      <td>Victoire et Germain</td>\n",
       "      <td>urgente</td>\n",
       "      <td>1</td>\n",
       "    </tr>\n",
       "  </tbody>\n",
       "</table>\n",
       "</div>"
      ],
      "text/plain": [
       "        Propriété_clean   statuts  Propriété\n",
       "0     Ibis Montparnasse  standard         47\n",
       "1            Milie Rose  standard         14\n",
       "2            Imprimerie  standard         10\n",
       "3              Touraine  standard          8\n",
       "4     Ibis Montparnasse   urgente          6\n",
       "5         Drawing House  standard          4\n",
       "6      Les Deux Girafes  standard          3\n",
       "7             Courseine   urgente          3\n",
       "8          Yllen Eiffel  standard          2\n",
       "9              Alberte   standard          2\n",
       "10            Courseine  standard          2\n",
       "11             Touraine   urgente          2\n",
       "12    Le Grand Quartier  standard          2\n",
       "13           Milie Rose   urgente          2\n",
       "14             Chouchou   urgente          1\n",
       "15        Drawing House   urgente          1\n",
       "16         Monte Cristo  standard          1\n",
       "17         Monte Cristo   urgente          1\n",
       "18  Victoire et Germain   urgente          1"
      ]
     },
     "execution_count": 67,
     "metadata": {},
     "output_type": "execute_result"
    }
   ],
   "source": [
    "monthly_missions_status"
   ]
  },
  {
   "cell_type": "code",
   "execution_count": 51,
   "metadata": {},
   "outputs": [],
   "source": [
    "data[\"extra_clean\"] = data[\"extra\"].apply(lambda x: x.split(\" (\")[0])\n"
   ]
  },
  {
   "cell_type": "code",
   "execution_count": 71,
   "metadata": {},
   "outputs": [],
   "source": [
    "from anonymizedf.anonymizedf import anonymize\n",
    "an = anonymize(data)\n",
    "an.fake_names(\"extra_clean\")\n",
    "an.fake_ids(\"Propriété_clean\")\n",
    "\n",
    "data[\"Propriété_clean\"] = data[\"Fake_Propriété_clean\"]\n",
    "data[\"extra_clean\"] = data[\"Fake_extra_clean\"]"
   ]
  },
  {
   "cell_type": "code",
   "execution_count": 72,
   "metadata": {},
   "outputs": [
    {
     "data": {
      "text/html": [
       "<div>\n",
       "<style scoped>\n",
       "    .dataframe tbody tr th:only-of-type {\n",
       "        vertical-align: middle;\n",
       "    }\n",
       "\n",
       "    .dataframe tbody tr th {\n",
       "        vertical-align: top;\n",
       "    }\n",
       "\n",
       "    .dataframe thead th {\n",
       "        text-align: right;\n",
       "    }\n",
       "</style>\n",
       "<table border=\"1\" class=\"dataframe\">\n",
       "  <thead>\n",
       "    <tr style=\"text-align: right;\">\n",
       "      <th></th>\n",
       "      <th>Propriété</th>\n",
       "      <th>hôtel</th>\n",
       "      <th>extra</th>\n",
       "      <th>date</th>\n",
       "      <th>statuts</th>\n",
       "      <th>tarif urgence</th>\n",
       "      <th>tarif horaire</th>\n",
       "      <th>nbre d'heures</th>\n",
       "      <th>total HT</th>\n",
       "      <th>facture</th>\n",
       "      <th>...</th>\n",
       "      <th>montant HT</th>\n",
       "      <th>Texte</th>\n",
       "      <th>date_debut</th>\n",
       "      <th>time_delta</th>\n",
       "      <th>date_fin</th>\n",
       "      <th>Propriété_clean</th>\n",
       "      <th>periode_debut</th>\n",
       "      <th>extra_clean</th>\n",
       "      <th>Fake_extra_clean</th>\n",
       "      <th>Fake_Propriété_clean</th>\n",
       "    </tr>\n",
       "  </thead>\n",
       "  <tbody>\n",
       "    <tr>\n",
       "      <th>0</th>\n",
       "      <td>PDQG32906170169162</td>\n",
       "      <td>Crystal (https://www.notion.so/Crystal-1837fcb...</td>\n",
       "      <td>Grégory Tshimini (https://www.notion.so/Gr-gor...</td>\n",
       "      <td>07/01/2024 8:00 → 20:00</td>\n",
       "      <td>standard</td>\n",
       "      <td>NaN</td>\n",
       "      <td>21.0</td>\n",
       "      <td>12hr 0min</td>\n",
       "      <td>252</td>\n",
       "      <td>NaN</td>\n",
       "      <td>...</td>\n",
       "      <td>180</td>\n",
       "      <td>NaN</td>\n",
       "      <td>2024-01-07 08:00:00</td>\n",
       "      <td>0 days 12:00:00</td>\n",
       "      <td>2024-01-07 20:00:00</td>\n",
       "      <td>RNEL70751069009427</td>\n",
       "      <td>01-2024</td>\n",
       "      <td>Vincent Pratt-Jones</td>\n",
       "      <td>Vincent Pratt-Jones</td>\n",
       "      <td>RNEL70751069009427</td>\n",
       "    </tr>\n",
       "    <tr>\n",
       "      <th>1</th>\n",
       "      <td>YPOS01460487635784</td>\n",
       "      <td>Milie Rose (https://www.notion.so/Milie-Rose-0...</td>\n",
       "      <td>Mamadou Koma (https://www.notion.so/Mamadou-Ko...</td>\n",
       "      <td>06/01/2024 22:30 → 07/01/2024 8:00</td>\n",
       "      <td>standard</td>\n",
       "      <td>NaN</td>\n",
       "      <td>20.0</td>\n",
       "      <td>9hr 30min</td>\n",
       "      <td>180</td>\n",
       "      <td>NaN</td>\n",
       "      <td>...</td>\n",
       "      <td>135</td>\n",
       "      <td>NaN</td>\n",
       "      <td>2024-01-06 22:30:00</td>\n",
       "      <td>0 days 09:30:00</td>\n",
       "      <td>2024-01-07 08:00:00</td>\n",
       "      <td>MSLG62758151958096</td>\n",
       "      <td>01-2024</td>\n",
       "      <td>Kate Thorpe</td>\n",
       "      <td>Kate Thorpe</td>\n",
       "      <td>MSLG62758151958096</td>\n",
       "    </tr>\n",
       "    <tr>\n",
       "      <th>2</th>\n",
       "      <td>PMBE88941535100767</td>\n",
       "      <td>Touraine (https://www.notion.so/Touraine-df4e7...</td>\n",
       "      <td>Mohamed Belbachir (https://www.notion.so/Moham...</td>\n",
       "      <td>06/01/2024 19:30 → 07/01/2024 7:30</td>\n",
       "      <td>standard</td>\n",
       "      <td>NaN</td>\n",
       "      <td>20.0</td>\n",
       "      <td>12hr 0min</td>\n",
       "      <td>240</td>\n",
       "      <td>NaN</td>\n",
       "      <td>...</td>\n",
       "      <td>180</td>\n",
       "      <td>NaN</td>\n",
       "      <td>2024-01-06 19:30:00</td>\n",
       "      <td>0 days 12:00:00</td>\n",
       "      <td>2024-01-07 07:30:00</td>\n",
       "      <td>FXDR83618255606036</td>\n",
       "      <td>01-2024</td>\n",
       "      <td>Bradley Slater</td>\n",
       "      <td>Bradley Slater</td>\n",
       "      <td>FXDR83618255606036</td>\n",
       "    </tr>\n",
       "    <tr>\n",
       "      <th>3</th>\n",
       "      <td>PDQG32906170169162</td>\n",
       "      <td>Crystal (https://www.notion.so/Crystal-1837fcb...</td>\n",
       "      <td>Grégory Tshimini (https://www.notion.so/Gr-gor...</td>\n",
       "      <td>06/01/2024 8:00 → 20:00</td>\n",
       "      <td>standard</td>\n",
       "      <td>NaN</td>\n",
       "      <td>21.0</td>\n",
       "      <td>12hr 0min</td>\n",
       "      <td>252</td>\n",
       "      <td>NaN</td>\n",
       "      <td>...</td>\n",
       "      <td>180</td>\n",
       "      <td>NaN</td>\n",
       "      <td>2024-01-06 08:00:00</td>\n",
       "      <td>0 days 12:00:00</td>\n",
       "      <td>2024-01-06 20:00:00</td>\n",
       "      <td>RNEL70751069009427</td>\n",
       "      <td>01-2024</td>\n",
       "      <td>Vincent Pratt-Jones</td>\n",
       "      <td>Vincent Pratt-Jones</td>\n",
       "      <td>RNEL70751069009427</td>\n",
       "    </tr>\n",
       "    <tr>\n",
       "      <th>4</th>\n",
       "      <td>YPOS01460487635784</td>\n",
       "      <td>Milie Rose (https://www.notion.so/Milie-Rose-0...</td>\n",
       "      <td>Mamadou Koma (https://www.notion.so/Mamadou-Ko...</td>\n",
       "      <td>05/01/2024 22:30 → 06/01/2024 8:00</td>\n",
       "      <td>standard</td>\n",
       "      <td>NaN</td>\n",
       "      <td>20.0</td>\n",
       "      <td>9hr 30min</td>\n",
       "      <td>180</td>\n",
       "      <td>NaN</td>\n",
       "      <td>...</td>\n",
       "      <td>135</td>\n",
       "      <td>NaN</td>\n",
       "      <td>2024-01-05 22:30:00</td>\n",
       "      <td>0 days 09:30:00</td>\n",
       "      <td>2024-01-06 08:00:00</td>\n",
       "      <td>MSLG62758151958096</td>\n",
       "      <td>01-2024</td>\n",
       "      <td>Kate Thorpe</td>\n",
       "      <td>Kate Thorpe</td>\n",
       "      <td>MSLG62758151958096</td>\n",
       "    </tr>\n",
       "    <tr>\n",
       "      <th>...</th>\n",
       "      <td>...</td>\n",
       "      <td>...</td>\n",
       "      <td>...</td>\n",
       "      <td>...</td>\n",
       "      <td>...</td>\n",
       "      <td>...</td>\n",
       "      <td>...</td>\n",
       "      <td>...</td>\n",
       "      <td>...</td>\n",
       "      <td>...</td>\n",
       "      <td>...</td>\n",
       "      <td>...</td>\n",
       "      <td>...</td>\n",
       "      <td>...</td>\n",
       "      <td>...</td>\n",
       "      <td>...</td>\n",
       "      <td>...</td>\n",
       "      <td>...</td>\n",
       "      <td>...</td>\n",
       "      <td>...</td>\n",
       "      <td>...</td>\n",
       "    </tr>\n",
       "    <tr>\n",
       "      <th>4765</th>\n",
       "      <td>AOWU32470332293849</td>\n",
       "      <td>Courseine (https://www.notion.so/Courseine-08e...</td>\n",
       "      <td>Mohamed Belbachir (https://www.notion.so/Moham...</td>\n",
       "      <td>03/12/2021 14:30 → 19:30</td>\n",
       "      <td>standard</td>\n",
       "      <td>NaN</td>\n",
       "      <td>20.0</td>\n",
       "      <td>5hr 0min</td>\n",
       "      <td>100</td>\n",
       "      <td>NaN</td>\n",
       "      <td>...</td>\n",
       "      <td>75</td>\n",
       "      <td>NaN</td>\n",
       "      <td>2021-12-03 14:30:00</td>\n",
       "      <td>0 days 05:00:00</td>\n",
       "      <td>2021-12-03 19:30:00</td>\n",
       "      <td>YEWK69227017001389</td>\n",
       "      <td>12-2021</td>\n",
       "      <td>Bradley Slater</td>\n",
       "      <td>Bradley Slater</td>\n",
       "      <td>YEWK69227017001389</td>\n",
       "    </tr>\n",
       "    <tr>\n",
       "      <th>4766</th>\n",
       "      <td>RARK78095244796574</td>\n",
       "      <td>Prélude (https://www.notion.so/Pr-lude-8f471c1...</td>\n",
       "      <td>Valentin Tempez (https://www.notion.so/Valenti...</td>\n",
       "      <td>03/12/2021 7:00 → 15:00</td>\n",
       "      <td>standard</td>\n",
       "      <td>NaN</td>\n",
       "      <td>20.0</td>\n",
       "      <td>8hr 0min</td>\n",
       "      <td>160</td>\n",
       "      <td>NaN</td>\n",
       "      <td>...</td>\n",
       "      <td>120</td>\n",
       "      <td>NaN</td>\n",
       "      <td>2021-12-03 07:00:00</td>\n",
       "      <td>0 days 08:00:00</td>\n",
       "      <td>2021-12-03 15:00:00</td>\n",
       "      <td>BORL42383190692537</td>\n",
       "      <td>12-2021</td>\n",
       "      <td>Anne Banks</td>\n",
       "      <td>Anne Banks</td>\n",
       "      <td>BORL42383190692537</td>\n",
       "    </tr>\n",
       "    <tr>\n",
       "      <th>4767</th>\n",
       "      <td>EXNV95147443018433</td>\n",
       "      <td>Tsuba (https://www.notion.so/Tsuba-6ee550393da...</td>\n",
       "      <td>Yves Constant (https://www.notion.so/Yves-Cons...</td>\n",
       "      <td>02/12/2021 22:30 → 03/12/2021 7:15</td>\n",
       "      <td>standard</td>\n",
       "      <td>NaN</td>\n",
       "      <td>20.0</td>\n",
       "      <td>8hr 45min</td>\n",
       "      <td>160</td>\n",
       "      <td>NaN</td>\n",
       "      <td>...</td>\n",
       "      <td>120</td>\n",
       "      <td>NaN</td>\n",
       "      <td>2021-12-02 22:30:00</td>\n",
       "      <td>0 days 08:45:00</td>\n",
       "      <td>2021-12-03 07:15:00</td>\n",
       "      <td>IWRL77479069236648</td>\n",
       "      <td>12-2021</td>\n",
       "      <td>Louis Pearce</td>\n",
       "      <td>Louis Pearce</td>\n",
       "      <td>IWRL77479069236648</td>\n",
       "    </tr>\n",
       "    <tr>\n",
       "      <th>4768</th>\n",
       "      <td>RARK78095244796574</td>\n",
       "      <td>Prélude (https://www.notion.so/Pr-lude-8f471c1...</td>\n",
       "      <td>Sorel Pambou (https://www.notion.so/Sorel-Pamb...</td>\n",
       "      <td>01/12/2021 12:30 → 21:00</td>\n",
       "      <td>standard</td>\n",
       "      <td>NaN</td>\n",
       "      <td>20.0</td>\n",
       "      <td>8hr 30min</td>\n",
       "      <td>160</td>\n",
       "      <td>NaN</td>\n",
       "      <td>...</td>\n",
       "      <td>120</td>\n",
       "      <td>NaN</td>\n",
       "      <td>2021-12-01 12:30:00</td>\n",
       "      <td>0 days 08:30:00</td>\n",
       "      <td>2021-12-01 21:00:00</td>\n",
       "      <td>BORL42383190692537</td>\n",
       "      <td>12-2021</td>\n",
       "      <td>Dr Dylan Rogers</td>\n",
       "      <td>Dr Dylan Rogers</td>\n",
       "      <td>BORL42383190692537</td>\n",
       "    </tr>\n",
       "    <tr>\n",
       "      <th>4769</th>\n",
       "      <td>SVFP83443264586075</td>\n",
       "      <td>Ibis Montparnasse (https://www.notion.so/Ibis-...</td>\n",
       "      <td>Cédric Coquerie (https://www.notion.so/C-dric-...</td>\n",
       "      <td>30/11/2021 16:30 → 21:30</td>\n",
       "      <td>standard</td>\n",
       "      <td>NaN</td>\n",
       "      <td>20.0</td>\n",
       "      <td>5hr 0min</td>\n",
       "      <td>100</td>\n",
       "      <td>NaN</td>\n",
       "      <td>...</td>\n",
       "      <td>75</td>\n",
       "      <td>NaN</td>\n",
       "      <td>2021-11-30 16:30:00</td>\n",
       "      <td>0 days 05:00:00</td>\n",
       "      <td>2021-11-30 21:30:00</td>\n",
       "      <td>GXRC95583908109263</td>\n",
       "      <td>11-2021</td>\n",
       "      <td>Miss Hazel Kaur</td>\n",
       "      <td>Miss Hazel Kaur</td>\n",
       "      <td>GXRC95583908109263</td>\n",
       "    </tr>\n",
       "  </tbody>\n",
       "</table>\n",
       "<p>4760 rows × 21 columns</p>\n",
       "</div>"
      ],
      "text/plain": [
       "               Propriété                                              hôtel  \\\n",
       "0     PDQG32906170169162  Crystal (https://www.notion.so/Crystal-1837fcb...   \n",
       "1     YPOS01460487635784  Milie Rose (https://www.notion.so/Milie-Rose-0...   \n",
       "2     PMBE88941535100767  Touraine (https://www.notion.so/Touraine-df4e7...   \n",
       "3     PDQG32906170169162  Crystal (https://www.notion.so/Crystal-1837fcb...   \n",
       "4     YPOS01460487635784  Milie Rose (https://www.notion.so/Milie-Rose-0...   \n",
       "...                  ...                                                ...   \n",
       "4765  AOWU32470332293849  Courseine (https://www.notion.so/Courseine-08e...   \n",
       "4766  RARK78095244796574  Prélude (https://www.notion.so/Pr-lude-8f471c1...   \n",
       "4767  EXNV95147443018433  Tsuba (https://www.notion.so/Tsuba-6ee550393da...   \n",
       "4768  RARK78095244796574  Prélude (https://www.notion.so/Pr-lude-8f471c1...   \n",
       "4769  SVFP83443264586075  Ibis Montparnasse (https://www.notion.so/Ibis-...   \n",
       "\n",
       "                                                  extra  \\\n",
       "0     Grégory Tshimini (https://www.notion.so/Gr-gor...   \n",
       "1     Mamadou Koma (https://www.notion.so/Mamadou-Ko...   \n",
       "2     Mohamed Belbachir (https://www.notion.so/Moham...   \n",
       "3     Grégory Tshimini (https://www.notion.so/Gr-gor...   \n",
       "4     Mamadou Koma (https://www.notion.so/Mamadou-Ko...   \n",
       "...                                                 ...   \n",
       "4765  Mohamed Belbachir (https://www.notion.so/Moham...   \n",
       "4766  Valentin Tempez (https://www.notion.so/Valenti...   \n",
       "4767  Yves Constant (https://www.notion.so/Yves-Cons...   \n",
       "4768  Sorel Pambou (https://www.notion.so/Sorel-Pamb...   \n",
       "4769  Cédric Coquerie (https://www.notion.so/C-dric-...   \n",
       "\n",
       "                                    date   statuts  tarif urgence  \\\n",
       "0                07/01/2024 8:00 → 20:00  standard            NaN   \n",
       "1     06/01/2024 22:30 → 07/01/2024 8:00  standard            NaN   \n",
       "2     06/01/2024 19:30 → 07/01/2024 7:30  standard            NaN   \n",
       "3                06/01/2024 8:00 → 20:00  standard            NaN   \n",
       "4     05/01/2024 22:30 → 06/01/2024 8:00  standard            NaN   \n",
       "...                                  ...       ...            ...   \n",
       "4765            03/12/2021 14:30 → 19:30  standard            NaN   \n",
       "4766             03/12/2021 7:00 → 15:00  standard            NaN   \n",
       "4767  02/12/2021 22:30 → 03/12/2021 7:15  standard            NaN   \n",
       "4768            01/12/2021 12:30 → 21:00  standard            NaN   \n",
       "4769            30/11/2021 16:30 → 21:30  standard            NaN   \n",
       "\n",
       "      tarif horaire nbre d'heures  total HT facture  ... montant HT  Texte  \\\n",
       "0              21.0     12hr 0min       252     NaN  ...        180    NaN   \n",
       "1              20.0     9hr 30min       180     NaN  ...        135    NaN   \n",
       "2              20.0     12hr 0min       240     NaN  ...        180    NaN   \n",
       "3              21.0     12hr 0min       252     NaN  ...        180    NaN   \n",
       "4              20.0     9hr 30min       180     NaN  ...        135    NaN   \n",
       "...             ...           ...       ...     ...  ...        ...    ...   \n",
       "4765           20.0      5hr 0min       100     NaN  ...         75    NaN   \n",
       "4766           20.0      8hr 0min       160     NaN  ...        120    NaN   \n",
       "4767           20.0     8hr 45min       160     NaN  ...        120    NaN   \n",
       "4768           20.0     8hr 30min       160     NaN  ...        120    NaN   \n",
       "4769           20.0      5hr 0min       100     NaN  ...         75    NaN   \n",
       "\n",
       "              date_debut      time_delta            date_fin  \\\n",
       "0    2024-01-07 08:00:00 0 days 12:00:00 2024-01-07 20:00:00   \n",
       "1    2024-01-06 22:30:00 0 days 09:30:00 2024-01-07 08:00:00   \n",
       "2    2024-01-06 19:30:00 0 days 12:00:00 2024-01-07 07:30:00   \n",
       "3    2024-01-06 08:00:00 0 days 12:00:00 2024-01-06 20:00:00   \n",
       "4    2024-01-05 22:30:00 0 days 09:30:00 2024-01-06 08:00:00   \n",
       "...                  ...             ...                 ...   \n",
       "4765 2021-12-03 14:30:00 0 days 05:00:00 2021-12-03 19:30:00   \n",
       "4766 2021-12-03 07:00:00 0 days 08:00:00 2021-12-03 15:00:00   \n",
       "4767 2021-12-02 22:30:00 0 days 08:45:00 2021-12-03 07:15:00   \n",
       "4768 2021-12-01 12:30:00 0 days 08:30:00 2021-12-01 21:00:00   \n",
       "4769 2021-11-30 16:30:00 0 days 05:00:00 2021-11-30 21:30:00   \n",
       "\n",
       "         Propriété_clean periode_debut          extra_clean  \\\n",
       "0     RNEL70751069009427       01-2024  Vincent Pratt-Jones   \n",
       "1     MSLG62758151958096       01-2024          Kate Thorpe   \n",
       "2     FXDR83618255606036       01-2024       Bradley Slater   \n",
       "3     RNEL70751069009427       01-2024  Vincent Pratt-Jones   \n",
       "4     MSLG62758151958096       01-2024          Kate Thorpe   \n",
       "...                  ...           ...                  ...   \n",
       "4765  YEWK69227017001389       12-2021       Bradley Slater   \n",
       "4766  BORL42383190692537       12-2021           Anne Banks   \n",
       "4767  IWRL77479069236648       12-2021         Louis Pearce   \n",
       "4768  BORL42383190692537       12-2021      Dr Dylan Rogers   \n",
       "4769  GXRC95583908109263       11-2021      Miss Hazel Kaur   \n",
       "\n",
       "         Fake_extra_clean Fake_Propriété_clean  \n",
       "0     Vincent Pratt-Jones   RNEL70751069009427  \n",
       "1             Kate Thorpe   MSLG62758151958096  \n",
       "2          Bradley Slater   FXDR83618255606036  \n",
       "3     Vincent Pratt-Jones   RNEL70751069009427  \n",
       "4             Kate Thorpe   MSLG62758151958096  \n",
       "...                   ...                  ...  \n",
       "4765       Bradley Slater   YEWK69227017001389  \n",
       "4766           Anne Banks   BORL42383190692537  \n",
       "4767         Louis Pearce   IWRL77479069236648  \n",
       "4768      Dr Dylan Rogers   BORL42383190692537  \n",
       "4769      Miss Hazel Kaur   GXRC95583908109263  \n",
       "\n",
       "[4760 rows x 21 columns]"
      ]
     },
     "execution_count": 72,
     "metadata": {},
     "output_type": "execute_result"
    }
   ],
   "source": [
    "data\n"
   ]
  },
  {
   "cell_type": "code",
   "execution_count": null,
   "metadata": {},
   "outputs": [],
   "source": []
  }
 ],
 "metadata": {
  "kernelspec": {
   "display_name": "qualiextra",
   "language": "python",
   "name": "python3"
  },
  "language_info": {
   "codemirror_mode": {
    "name": "ipython",
    "version": 3
   },
   "file_extension": ".py",
   "mimetype": "text/x-python",
   "name": "python",
   "nbconvert_exporter": "python",
   "pygments_lexer": "ipython3",
   "version": "3.11.5"
  }
 },
 "nbformat": 4,
 "nbformat_minor": 2
}
