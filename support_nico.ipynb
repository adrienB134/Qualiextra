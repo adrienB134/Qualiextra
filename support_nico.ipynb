{
 "cells": [
  {
   "cell_type": "code",
   "execution_count": 300,
   "metadata": {},
   "outputs": [],
   "source": [
    "## MLFLOW_TRACKING_URI='https://qualiextra-project-6b29e931dd67.herokuapp.com/'"
   ]
  },
  {
   "cell_type": "code",
   "execution_count": 301,
   "metadata": {},
   "outputs": [],
   "source": [
    "import pandas as pd\n",
    "import datetime\n"
   ]
  },
  {
   "cell_type": "code",
   "execution_count": 302,
   "metadata": {},
   "outputs": [],
   "source": [
    "data = pd.read_csv(\"./Missions.csv\", sep=';')"
   ]
  },
  {
   "cell_type": "code",
   "execution_count": null,
   "metadata": {},
   "outputs": [],
   "source": []
  },
  {
   "cell_type": "code",
   "execution_count": 303,
   "metadata": {},
   "outputs": [
    {
     "name": "stdout",
     "output_type": "stream",
     "text": [
      "<class 'pandas.core.frame.DataFrame'>\n",
      "RangeIndex: 4771 entries, 0 to 4770\n",
      "Data columns (total 13 columns):\n",
      " #   Column         Non-Null Count  Dtype  \n",
      "---  ------         --------------  -----  \n",
      " 0   Propriété      4764 non-null   object \n",
      " 1   hôtel          4760 non-null   object \n",
      " 2   extra          4761 non-null   object \n",
      " 3   date           4771 non-null   object \n",
      " 4   statuts        617 non-null    object \n",
      " 5   tarif urgence  225 non-null    float64\n",
      " 6   tarif horaire  4760 non-null   float64\n",
      " 7   nbre d'heures  4771 non-null   object \n",
      " 8   total HT       4771 non-null   int64  \n",
      " 9   facture        3798 non-null   object \n",
      " 10  règlement      3743 non-null   object \n",
      " 11  montant HT     4771 non-null   int64  \n",
      " 12  Texte          7 non-null      object \n",
      "dtypes: float64(2), int64(2), object(9)\n",
      "memory usage: 484.7+ KB\n"
     ]
    }
   ],
   "source": [
    "data.info()"
   ]
  },
  {
   "cell_type": "code",
   "execution_count": 304,
   "metadata": {},
   "outputs": [
    {
     "data": {
      "text/plain": [
       "(4760, 13)"
      ]
     },
     "execution_count": 304,
     "metadata": {},
     "output_type": "execute_result"
    }
   ],
   "source": [
    "mask = ((data[\"hôtel\"].notna()))\n",
    "data = data[mask]\n",
    "data.shape"
   ]
  },
  {
   "cell_type": "code",
   "execution_count": 305,
   "metadata": {},
   "outputs": [],
   "source": [
    "data[\"date_debut\"] = data.apply(lambda x: x[\"date\"].split(\" →\")[0],axis=1)\n",
    "data[\"date_debut\"] = data[\"date_debut\"].apply(lambda x: x.replace(\" (UTC+3)\", \"\"))\n",
    "data[\"date_debut\"] = data[\"date_debut\"].apply(lambda x: x.replace(\" (UTC)\", \"\"))"
   ]
  },
  {
   "cell_type": "code",
   "execution_count": 306,
   "metadata": {},
   "outputs": [],
   "source": [
    "data[\"date_debut\"] = pd.to_datetime(data[\"date_debut\"], format=\"%d/%m/%Y %H:%M\")"
   ]
  },
  {
   "cell_type": "code",
   "execution_count": 307,
   "metadata": {},
   "outputs": [
    {
     "data": {
      "text/plain": [
       "Propriété                object\n",
       "hôtel                    object\n",
       "extra                    object\n",
       "date                     object\n",
       "statuts                  object\n",
       "tarif urgence           float64\n",
       "tarif horaire           float64\n",
       "nbre d'heures            object\n",
       "total HT                  int64\n",
       "facture                  object\n",
       "règlement                object\n",
       "montant HT                int64\n",
       "Texte                    object\n",
       "date_debut       datetime64[ns]\n",
       "dtype: object"
      ]
     },
     "execution_count": 307,
     "metadata": {},
     "output_type": "execute_result"
    }
   ],
   "source": [
    "data.dtypes"
   ]
  },
  {
   "cell_type": "code",
   "execution_count": 308,
   "metadata": {},
   "outputs": [],
   "source": [
    "data[\"time_delta\"] = data[\"nbre d'heures\"].apply(lambda x: pd.to_timedelta(x))\n",
    "data[\"date_fin\"] = data.apply(lambda x: x[\"date_debut\"] + x[\"time_delta\"], axis=1)"
   ]
  },
  {
   "cell_type": "code",
   "execution_count": 309,
   "metadata": {},
   "outputs": [
    {
     "data": {
      "text/html": [
       "<div>\n",
       "<style scoped>\n",
       "    .dataframe tbody tr th:only-of-type {\n",
       "        vertical-align: middle;\n",
       "    }\n",
       "\n",
       "    .dataframe tbody tr th {\n",
       "        vertical-align: top;\n",
       "    }\n",
       "\n",
       "    .dataframe thead th {\n",
       "        text-align: right;\n",
       "    }\n",
       "</style>\n",
       "<table border=\"1\" class=\"dataframe\">\n",
       "  <thead>\n",
       "    <tr style=\"text-align: right;\">\n",
       "      <th></th>\n",
       "      <th>Propriété</th>\n",
       "      <th>hôtel</th>\n",
       "      <th>extra</th>\n",
       "      <th>date</th>\n",
       "      <th>statuts</th>\n",
       "      <th>tarif urgence</th>\n",
       "      <th>tarif horaire</th>\n",
       "      <th>nbre d'heures</th>\n",
       "      <th>total HT</th>\n",
       "      <th>facture</th>\n",
       "      <th>règlement</th>\n",
       "      <th>montant HT</th>\n",
       "      <th>Texte</th>\n",
       "      <th>date_debut</th>\n",
       "      <th>time_delta</th>\n",
       "      <th>date_fin</th>\n",
       "    </tr>\n",
       "  </thead>\n",
       "  <tbody>\n",
       "    <tr>\n",
       "      <th>0</th>\n",
       "      <td>Crystal</td>\n",
       "      <td>Crystal (https://www.notion.so/Crystal-1837fcb...</td>\n",
       "      <td>Grégory Tshimini (https://www.notion.so/Gr-gor...</td>\n",
       "      <td>07/01/2024 8:00 → 20:00</td>\n",
       "      <td>NaN</td>\n",
       "      <td>NaN</td>\n",
       "      <td>21.0</td>\n",
       "      <td>12hr 0min</td>\n",
       "      <td>252</td>\n",
       "      <td>NaN</td>\n",
       "      <td>NaN</td>\n",
       "      <td>180</td>\n",
       "      <td>NaN</td>\n",
       "      <td>2024-01-07 08:00:00</td>\n",
       "      <td>0 days 12:00:00</td>\n",
       "      <td>2024-01-07 20:00:00</td>\n",
       "    </tr>\n",
       "    <tr>\n",
       "      <th>1</th>\n",
       "      <td>Milie rose</td>\n",
       "      <td>Milie Rose (https://www.notion.so/Milie-Rose-0...</td>\n",
       "      <td>Mamadou Koma (https://www.notion.so/Mamadou-Ko...</td>\n",
       "      <td>06/01/2024 22:30 → 07/01/2024 8:00</td>\n",
       "      <td>NaN</td>\n",
       "      <td>NaN</td>\n",
       "      <td>20.0</td>\n",
       "      <td>9hr 30min</td>\n",
       "      <td>180</td>\n",
       "      <td>NaN</td>\n",
       "      <td>NaN</td>\n",
       "      <td>135</td>\n",
       "      <td>NaN</td>\n",
       "      <td>2024-01-06 22:30:00</td>\n",
       "      <td>0 days 09:30:00</td>\n",
       "      <td>2024-01-07 08:00:00</td>\n",
       "    </tr>\n",
       "    <tr>\n",
       "      <th>2</th>\n",
       "      <td>Touraine</td>\n",
       "      <td>Touraine (https://www.notion.so/Touraine-df4e7...</td>\n",
       "      <td>Mohamed Belbachir (https://www.notion.so/Moham...</td>\n",
       "      <td>06/01/2024 19:30 → 07/01/2024 7:30</td>\n",
       "      <td>NaN</td>\n",
       "      <td>NaN</td>\n",
       "      <td>20.0</td>\n",
       "      <td>12hr 0min</td>\n",
       "      <td>240</td>\n",
       "      <td>NaN</td>\n",
       "      <td>NaN</td>\n",
       "      <td>180</td>\n",
       "      <td>NaN</td>\n",
       "      <td>2024-01-06 19:30:00</td>\n",
       "      <td>0 days 12:00:00</td>\n",
       "      <td>2024-01-07 07:30:00</td>\n",
       "    </tr>\n",
       "    <tr>\n",
       "      <th>3</th>\n",
       "      <td>Crystal</td>\n",
       "      <td>Crystal (https://www.notion.so/Crystal-1837fcb...</td>\n",
       "      <td>Grégory Tshimini (https://www.notion.so/Gr-gor...</td>\n",
       "      <td>06/01/2024 8:00 → 20:00</td>\n",
       "      <td>NaN</td>\n",
       "      <td>NaN</td>\n",
       "      <td>21.0</td>\n",
       "      <td>12hr 0min</td>\n",
       "      <td>252</td>\n",
       "      <td>NaN</td>\n",
       "      <td>NaN</td>\n",
       "      <td>180</td>\n",
       "      <td>NaN</td>\n",
       "      <td>2024-01-06 08:00:00</td>\n",
       "      <td>0 days 12:00:00</td>\n",
       "      <td>2024-01-06 20:00:00</td>\n",
       "    </tr>\n",
       "    <tr>\n",
       "      <th>4</th>\n",
       "      <td>Milie rose</td>\n",
       "      <td>Milie Rose (https://www.notion.so/Milie-Rose-0...</td>\n",
       "      <td>Mamadou Koma (https://www.notion.so/Mamadou-Ko...</td>\n",
       "      <td>05/01/2024 22:30 → 06/01/2024 8:00</td>\n",
       "      <td>NaN</td>\n",
       "      <td>NaN</td>\n",
       "      <td>20.0</td>\n",
       "      <td>9hr 30min</td>\n",
       "      <td>180</td>\n",
       "      <td>NaN</td>\n",
       "      <td>NaN</td>\n",
       "      <td>135</td>\n",
       "      <td>NaN</td>\n",
       "      <td>2024-01-05 22:30:00</td>\n",
       "      <td>0 days 09:30:00</td>\n",
       "      <td>2024-01-06 08:00:00</td>\n",
       "    </tr>\n",
       "  </tbody>\n",
       "</table>\n",
       "</div>"
      ],
      "text/plain": [
       "    Propriété                                              hôtel  \\\n",
       "0     Crystal  Crystal (https://www.notion.so/Crystal-1837fcb...   \n",
       "1  Milie rose  Milie Rose (https://www.notion.so/Milie-Rose-0...   \n",
       "2   Touraine   Touraine (https://www.notion.so/Touraine-df4e7...   \n",
       "3     Crystal  Crystal (https://www.notion.so/Crystal-1837fcb...   \n",
       "4  Milie rose  Milie Rose (https://www.notion.so/Milie-Rose-0...   \n",
       "\n",
       "                                               extra  \\\n",
       "0  Grégory Tshimini (https://www.notion.so/Gr-gor...   \n",
       "1  Mamadou Koma (https://www.notion.so/Mamadou-Ko...   \n",
       "2  Mohamed Belbachir (https://www.notion.so/Moham...   \n",
       "3  Grégory Tshimini (https://www.notion.so/Gr-gor...   \n",
       "4  Mamadou Koma (https://www.notion.so/Mamadou-Ko...   \n",
       "\n",
       "                                 date statuts  tarif urgence  tarif horaire  \\\n",
       "0             07/01/2024 8:00 → 20:00     NaN            NaN           21.0   \n",
       "1  06/01/2024 22:30 → 07/01/2024 8:00     NaN            NaN           20.0   \n",
       "2  06/01/2024 19:30 → 07/01/2024 7:30     NaN            NaN           20.0   \n",
       "3             06/01/2024 8:00 → 20:00     NaN            NaN           21.0   \n",
       "4  05/01/2024 22:30 → 06/01/2024 8:00     NaN            NaN           20.0   \n",
       "\n",
       "  nbre d'heures  total HT facture règlement  montant HT Texte  \\\n",
       "0     12hr 0min       252     NaN       NaN         180   NaN   \n",
       "1     9hr 30min       180     NaN       NaN         135   NaN   \n",
       "2     12hr 0min       240     NaN       NaN         180   NaN   \n",
       "3     12hr 0min       252     NaN       NaN         180   NaN   \n",
       "4     9hr 30min       180     NaN       NaN         135   NaN   \n",
       "\n",
       "           date_debut      time_delta            date_fin  \n",
       "0 2024-01-07 08:00:00 0 days 12:00:00 2024-01-07 20:00:00  \n",
       "1 2024-01-06 22:30:00 0 days 09:30:00 2024-01-07 08:00:00  \n",
       "2 2024-01-06 19:30:00 0 days 12:00:00 2024-01-07 07:30:00  \n",
       "3 2024-01-06 08:00:00 0 days 12:00:00 2024-01-06 20:00:00  \n",
       "4 2024-01-05 22:30:00 0 days 09:30:00 2024-01-06 08:00:00  "
      ]
     },
     "execution_count": 309,
     "metadata": {},
     "output_type": "execute_result"
    }
   ],
   "source": [
    "data[\"Propriété\"] = data.apply(lambda x: x[\"hôtel\"].split(\" (\")[0] if \"www\" in x[\"Propriété\"] else x, axis=1)[\"Propriété\"]\n",
    "data.head()"
   ]
  },
  {
   "cell_type": "code",
   "execution_count": 310,
   "metadata": {},
   "outputs": [],
   "source": [
    "data[\"Propriété_clean\"] = data[\"hôtel\"].apply(lambda x: x.split(\" (\")[0])"
   ]
  },
  {
   "cell_type": "code",
   "execution_count": 311,
   "metadata": {},
   "outputs": [
    {
     "data": {
      "text/html": [
       "<div>\n",
       "<style scoped>\n",
       "    .dataframe tbody tr th:only-of-type {\n",
       "        vertical-align: middle;\n",
       "    }\n",
       "\n",
       "    .dataframe tbody tr th {\n",
       "        vertical-align: top;\n",
       "    }\n",
       "\n",
       "    .dataframe thead th {\n",
       "        text-align: right;\n",
       "    }\n",
       "</style>\n",
       "<table border=\"1\" class=\"dataframe\">\n",
       "  <thead>\n",
       "    <tr style=\"text-align: right;\">\n",
       "      <th></th>\n",
       "      <th>Propriété</th>\n",
       "      <th>hôtel</th>\n",
       "      <th>extra</th>\n",
       "      <th>date</th>\n",
       "      <th>statuts</th>\n",
       "      <th>tarif urgence</th>\n",
       "      <th>tarif horaire</th>\n",
       "      <th>nbre d'heures</th>\n",
       "      <th>total HT</th>\n",
       "      <th>facture</th>\n",
       "      <th>règlement</th>\n",
       "      <th>montant HT</th>\n",
       "      <th>Texte</th>\n",
       "      <th>date_debut</th>\n",
       "      <th>time_delta</th>\n",
       "      <th>date_fin</th>\n",
       "      <th>Propriété_clean</th>\n",
       "    </tr>\n",
       "  </thead>\n",
       "  <tbody>\n",
       "    <tr>\n",
       "      <th>0</th>\n",
       "      <td>Crystal</td>\n",
       "      <td>Crystal (https://www.notion.so/Crystal-1837fcb...</td>\n",
       "      <td>Grégory Tshimini (https://www.notion.so/Gr-gor...</td>\n",
       "      <td>07/01/2024 8:00 → 20:00</td>\n",
       "      <td>NaN</td>\n",
       "      <td>NaN</td>\n",
       "      <td>21.0</td>\n",
       "      <td>12hr 0min</td>\n",
       "      <td>252</td>\n",
       "      <td>NaN</td>\n",
       "      <td>NaN</td>\n",
       "      <td>180</td>\n",
       "      <td>NaN</td>\n",
       "      <td>2024-01-07 08:00:00</td>\n",
       "      <td>0 days 12:00:00</td>\n",
       "      <td>2024-01-07 20:00:00</td>\n",
       "      <td>Crystal</td>\n",
       "    </tr>\n",
       "    <tr>\n",
       "      <th>1</th>\n",
       "      <td>Milie rose</td>\n",
       "      <td>Milie Rose (https://www.notion.so/Milie-Rose-0...</td>\n",
       "      <td>Mamadou Koma (https://www.notion.so/Mamadou-Ko...</td>\n",
       "      <td>06/01/2024 22:30 → 07/01/2024 8:00</td>\n",
       "      <td>NaN</td>\n",
       "      <td>NaN</td>\n",
       "      <td>20.0</td>\n",
       "      <td>9hr 30min</td>\n",
       "      <td>180</td>\n",
       "      <td>NaN</td>\n",
       "      <td>NaN</td>\n",
       "      <td>135</td>\n",
       "      <td>NaN</td>\n",
       "      <td>2024-01-06 22:30:00</td>\n",
       "      <td>0 days 09:30:00</td>\n",
       "      <td>2024-01-07 08:00:00</td>\n",
       "      <td>Milie Rose</td>\n",
       "    </tr>\n",
       "    <tr>\n",
       "      <th>2</th>\n",
       "      <td>Touraine</td>\n",
       "      <td>Touraine (https://www.notion.so/Touraine-df4e7...</td>\n",
       "      <td>Mohamed Belbachir (https://www.notion.so/Moham...</td>\n",
       "      <td>06/01/2024 19:30 → 07/01/2024 7:30</td>\n",
       "      <td>NaN</td>\n",
       "      <td>NaN</td>\n",
       "      <td>20.0</td>\n",
       "      <td>12hr 0min</td>\n",
       "      <td>240</td>\n",
       "      <td>NaN</td>\n",
       "      <td>NaN</td>\n",
       "      <td>180</td>\n",
       "      <td>NaN</td>\n",
       "      <td>2024-01-06 19:30:00</td>\n",
       "      <td>0 days 12:00:00</td>\n",
       "      <td>2024-01-07 07:30:00</td>\n",
       "      <td>Touraine</td>\n",
       "    </tr>\n",
       "    <tr>\n",
       "      <th>3</th>\n",
       "      <td>Crystal</td>\n",
       "      <td>Crystal (https://www.notion.so/Crystal-1837fcb...</td>\n",
       "      <td>Grégory Tshimini (https://www.notion.so/Gr-gor...</td>\n",
       "      <td>06/01/2024 8:00 → 20:00</td>\n",
       "      <td>NaN</td>\n",
       "      <td>NaN</td>\n",
       "      <td>21.0</td>\n",
       "      <td>12hr 0min</td>\n",
       "      <td>252</td>\n",
       "      <td>NaN</td>\n",
       "      <td>NaN</td>\n",
       "      <td>180</td>\n",
       "      <td>NaN</td>\n",
       "      <td>2024-01-06 08:00:00</td>\n",
       "      <td>0 days 12:00:00</td>\n",
       "      <td>2024-01-06 20:00:00</td>\n",
       "      <td>Crystal</td>\n",
       "    </tr>\n",
       "    <tr>\n",
       "      <th>4</th>\n",
       "      <td>Milie rose</td>\n",
       "      <td>Milie Rose (https://www.notion.so/Milie-Rose-0...</td>\n",
       "      <td>Mamadou Koma (https://www.notion.so/Mamadou-Ko...</td>\n",
       "      <td>05/01/2024 22:30 → 06/01/2024 8:00</td>\n",
       "      <td>NaN</td>\n",
       "      <td>NaN</td>\n",
       "      <td>20.0</td>\n",
       "      <td>9hr 30min</td>\n",
       "      <td>180</td>\n",
       "      <td>NaN</td>\n",
       "      <td>NaN</td>\n",
       "      <td>135</td>\n",
       "      <td>NaN</td>\n",
       "      <td>2024-01-05 22:30:00</td>\n",
       "      <td>0 days 09:30:00</td>\n",
       "      <td>2024-01-06 08:00:00</td>\n",
       "      <td>Milie Rose</td>\n",
       "    </tr>\n",
       "  </tbody>\n",
       "</table>\n",
       "</div>"
      ],
      "text/plain": [
       "    Propriété                                              hôtel  \\\n",
       "0     Crystal  Crystal (https://www.notion.so/Crystal-1837fcb...   \n",
       "1  Milie rose  Milie Rose (https://www.notion.so/Milie-Rose-0...   \n",
       "2   Touraine   Touraine (https://www.notion.so/Touraine-df4e7...   \n",
       "3     Crystal  Crystal (https://www.notion.so/Crystal-1837fcb...   \n",
       "4  Milie rose  Milie Rose (https://www.notion.so/Milie-Rose-0...   \n",
       "\n",
       "                                               extra  \\\n",
       "0  Grégory Tshimini (https://www.notion.so/Gr-gor...   \n",
       "1  Mamadou Koma (https://www.notion.so/Mamadou-Ko...   \n",
       "2  Mohamed Belbachir (https://www.notion.so/Moham...   \n",
       "3  Grégory Tshimini (https://www.notion.so/Gr-gor...   \n",
       "4  Mamadou Koma (https://www.notion.so/Mamadou-Ko...   \n",
       "\n",
       "                                 date statuts  tarif urgence  tarif horaire  \\\n",
       "0             07/01/2024 8:00 → 20:00     NaN            NaN           21.0   \n",
       "1  06/01/2024 22:30 → 07/01/2024 8:00     NaN            NaN           20.0   \n",
       "2  06/01/2024 19:30 → 07/01/2024 7:30     NaN            NaN           20.0   \n",
       "3             06/01/2024 8:00 → 20:00     NaN            NaN           21.0   \n",
       "4  05/01/2024 22:30 → 06/01/2024 8:00     NaN            NaN           20.0   \n",
       "\n",
       "  nbre d'heures  total HT facture règlement  montant HT Texte  \\\n",
       "0     12hr 0min       252     NaN       NaN         180   NaN   \n",
       "1     9hr 30min       180     NaN       NaN         135   NaN   \n",
       "2     12hr 0min       240     NaN       NaN         180   NaN   \n",
       "3     12hr 0min       252     NaN       NaN         180   NaN   \n",
       "4     9hr 30min       180     NaN       NaN         135   NaN   \n",
       "\n",
       "           date_debut      time_delta            date_fin Propriété_clean  \n",
       "0 2024-01-07 08:00:00 0 days 12:00:00 2024-01-07 20:00:00         Crystal  \n",
       "1 2024-01-06 22:30:00 0 days 09:30:00 2024-01-07 08:00:00      Milie Rose  \n",
       "2 2024-01-06 19:30:00 0 days 12:00:00 2024-01-07 07:30:00        Touraine  \n",
       "3 2024-01-06 08:00:00 0 days 12:00:00 2024-01-06 20:00:00         Crystal  \n",
       "4 2024-01-05 22:30:00 0 days 09:30:00 2024-01-06 08:00:00      Milie Rose  "
      ]
     },
     "execution_count": 311,
     "metadata": {},
     "output_type": "execute_result"
    }
   ],
   "source": [
    "data.head()"
   ]
  },
  {
   "cell_type": "code",
   "execution_count": 312,
   "metadata": {},
   "outputs": [],
   "source": [
    "missions_par_hotel = data[[\"Propriété_clean\",\"time_delta\"]].groupby(\"Propriété_clean\").count().sort_values(by=\"time_delta\")\n",
    "heures_par_hotel = data[[\"Propriété_clean\",\"time_delta\"]].groupby(\"Propriété_clean\").sum().sort_values(by=\"time_delta\")"
   ]
  },
  {
   "cell_type": "code",
   "execution_count": 313,
   "metadata": {},
   "outputs": [
    {
     "data": {
      "text/html": [
       "<div>\n",
       "<style scoped>\n",
       "    .dataframe tbody tr th:only-of-type {\n",
       "        vertical-align: middle;\n",
       "    }\n",
       "\n",
       "    .dataframe tbody tr th {\n",
       "        vertical-align: top;\n",
       "    }\n",
       "\n",
       "    .dataframe thead th {\n",
       "        text-align: right;\n",
       "    }\n",
       "</style>\n",
       "<table border=\"1\" class=\"dataframe\">\n",
       "  <thead>\n",
       "    <tr style=\"text-align: right;\">\n",
       "      <th></th>\n",
       "      <th>time_delta</th>\n",
       "    </tr>\n",
       "    <tr>\n",
       "      <th>Propriété_clean</th>\n",
       "      <th></th>\n",
       "    </tr>\n",
       "  </thead>\n",
       "  <tbody>\n",
       "    <tr>\n",
       "      <th>Peper and paper</th>\n",
       "      <td>1</td>\n",
       "    </tr>\n",
       "    <tr>\n",
       "      <th>Home Moderne</th>\n",
       "      <td>2</td>\n",
       "    </tr>\n",
       "    <tr>\n",
       "      <th>Mont Dore</th>\n",
       "      <td>2</td>\n",
       "    </tr>\n",
       "    <tr>\n",
       "      <th>Le Roch Hotel</th>\n",
       "      <td>3</td>\n",
       "    </tr>\n",
       "    <tr>\n",
       "      <th>Mathurin</th>\n",
       "      <td>3</td>\n",
       "    </tr>\n",
       "    <tr>\n",
       "      <th>Alberte</th>\n",
       "      <td>5</td>\n",
       "    </tr>\n",
       "    <tr>\n",
       "      <th>Bleu de Grenelle</th>\n",
       "      <td>5</td>\n",
       "    </tr>\n",
       "    <tr>\n",
       "      <th>Chouchou</th>\n",
       "      <td>12</td>\n",
       "    </tr>\n",
       "    <tr>\n",
       "      <th>MT solutions</th>\n",
       "      <td>19</td>\n",
       "    </tr>\n",
       "    <tr>\n",
       "      <th>Quinzerie hotel</th>\n",
       "      <td>20</td>\n",
       "    </tr>\n",
       "    <tr>\n",
       "      <th>Parisis</th>\n",
       "      <td>29</td>\n",
       "    </tr>\n",
       "    <tr>\n",
       "      <th>La Belle Ville</th>\n",
       "      <td>42</td>\n",
       "    </tr>\n",
       "    <tr>\n",
       "      <th>Apogé</th>\n",
       "      <td>61</td>\n",
       "    </tr>\n",
       "    <tr>\n",
       "      <th>French Theory</th>\n",
       "      <td>69</td>\n",
       "    </tr>\n",
       "    <tr>\n",
       "      <th>Parisianer</th>\n",
       "      <td>71</td>\n",
       "    </tr>\n",
       "    <tr>\n",
       "      <th>Edouard VI</th>\n",
       "      <td>81</td>\n",
       "    </tr>\n",
       "    <tr>\n",
       "      <th>Les Deux Girafes</th>\n",
       "      <td>83</td>\n",
       "    </tr>\n",
       "    <tr>\n",
       "      <th>Victoire et Germain</th>\n",
       "      <td>89</td>\n",
       "    </tr>\n",
       "    <tr>\n",
       "      <th>Monte Cristo</th>\n",
       "      <td>94</td>\n",
       "    </tr>\n",
       "    <tr>\n",
       "      <th>Touraine</th>\n",
       "      <td>115</td>\n",
       "    </tr>\n",
       "    <tr>\n",
       "      <th>Courseine</th>\n",
       "      <td>119</td>\n",
       "    </tr>\n",
       "    <tr>\n",
       "      <th>Crystal</th>\n",
       "      <td>143</td>\n",
       "    </tr>\n",
       "    <tr>\n",
       "      <th>Drawing House</th>\n",
       "      <td>144</td>\n",
       "    </tr>\n",
       "    <tr>\n",
       "      <th>Prélude</th>\n",
       "      <td>153</td>\n",
       "    </tr>\n",
       "    <tr>\n",
       "      <th>Yllen Eiffel</th>\n",
       "      <td>196</td>\n",
       "    </tr>\n",
       "    <tr>\n",
       "      <th>Tsuba</th>\n",
       "      <td>224</td>\n",
       "    </tr>\n",
       "    <tr>\n",
       "      <th>Marceau</th>\n",
       "      <td>250</td>\n",
       "    </tr>\n",
       "    <tr>\n",
       "      <th>Milie Rose</th>\n",
       "      <td>252</td>\n",
       "    </tr>\n",
       "    <tr>\n",
       "      <th>Select Hotel</th>\n",
       "      <td>310</td>\n",
       "    </tr>\n",
       "    <tr>\n",
       "      <th>Le Grand Quartier</th>\n",
       "      <td>416</td>\n",
       "    </tr>\n",
       "    <tr>\n",
       "      <th>Imprimerie</th>\n",
       "      <td>456</td>\n",
       "    </tr>\n",
       "    <tr>\n",
       "      <th>Ibis Montparnasse</th>\n",
       "      <td>1291</td>\n",
       "    </tr>\n",
       "  </tbody>\n",
       "</table>\n",
       "</div>"
      ],
      "text/plain": [
       "                     time_delta\n",
       "Propriété_clean                \n",
       "Peper and paper               1\n",
       "Home Moderne                  2\n",
       "Mont Dore                     2\n",
       "Le Roch Hotel                 3\n",
       "Mathurin                      3\n",
       "Alberte                       5\n",
       "Bleu de Grenelle              5\n",
       "Chouchou                     12\n",
       "MT solutions                 19\n",
       "Quinzerie hotel              20\n",
       "Parisis                      29\n",
       "La Belle Ville               42\n",
       "Apogé                        61\n",
       "French Theory                69\n",
       "Parisianer                   71\n",
       "Edouard VI                   81\n",
       "Les Deux Girafes             83\n",
       "Victoire et Germain          89\n",
       "Monte Cristo                 94\n",
       "Touraine                    115\n",
       "Courseine                   119\n",
       "Crystal                     143\n",
       "Drawing House               144\n",
       "Prélude                     153\n",
       "Yllen Eiffel                196\n",
       "Tsuba                       224\n",
       "Marceau                     250\n",
       "Milie Rose                  252\n",
       "Select Hotel                310\n",
       "Le Grand Quartier           416\n",
       "Imprimerie                  456\n",
       "Ibis Montparnasse          1291"
      ]
     },
     "execution_count": 313,
     "metadata": {},
     "output_type": "execute_result"
    }
   ],
   "source": [
    "missions_par_hotel"
   ]
  },
  {
   "cell_type": "code",
   "execution_count": 314,
   "metadata": {},
   "outputs": [
    {
     "data": {
      "application/vnd.plotly.v1+json": {
       "config": {
        "plotlyServerURL": "https://plot.ly"
       },
       "data": [
        {
         "name": "Affected rentals",
         "type": "bar",
         "x": [
          "Alberte ",
          "Apogé",
          "Bleu de Grenelle",
          "Chouchou",
          "Courseine",
          "Crystal",
          "Drawing House",
          "Edouard VI",
          "French Theory",
          "Home Moderne",
          "Ibis Montparnasse",
          "Imprimerie",
          "La Belle Ville",
          "Le Grand Quartier",
          "Le Roch Hotel",
          "Les Deux Girafes",
          "MT solutions ",
          "Marceau",
          "Mathurin",
          "Milie Rose",
          "Mont Dore",
          "Monte Cristo",
          "Parisianer",
          "Parisis",
          "Peper and paper ",
          "Prélude",
          "Quinzerie hotel",
          "Select Hotel",
          "Touraine",
          "Tsuba",
          "Victoire et Germain",
          "Yllen Eiffel"
         ],
         "y": [
          5,
          61,
          5,
          12,
          119,
          143,
          144,
          81,
          69,
          2,
          1291,
          456,
          42,
          416,
          3,
          83,
          19,
          250,
          3,
          252,
          2,
          94,
          71,
          29,
          1,
          153,
          20,
          310,
          115,
          224,
          89,
          196
         ]
        }
       ],
       "layout": {
        "showlegend": false,
        "template": {
         "data": {
          "bar": [
           {
            "error_x": {
             "color": "#2a3f5f"
            },
            "error_y": {
             "color": "#2a3f5f"
            },
            "marker": {
             "line": {
              "color": "#E5ECF6",
              "width": 0.5
             },
             "pattern": {
              "fillmode": "overlay",
              "size": 10,
              "solidity": 0.2
             }
            },
            "type": "bar"
           }
          ],
          "barpolar": [
           {
            "marker": {
             "line": {
              "color": "#E5ECF6",
              "width": 0.5
             },
             "pattern": {
              "fillmode": "overlay",
              "size": 10,
              "solidity": 0.2
             }
            },
            "type": "barpolar"
           }
          ],
          "carpet": [
           {
            "aaxis": {
             "endlinecolor": "#2a3f5f",
             "gridcolor": "white",
             "linecolor": "white",
             "minorgridcolor": "white",
             "startlinecolor": "#2a3f5f"
            },
            "baxis": {
             "endlinecolor": "#2a3f5f",
             "gridcolor": "white",
             "linecolor": "white",
             "minorgridcolor": "white",
             "startlinecolor": "#2a3f5f"
            },
            "type": "carpet"
           }
          ],
          "choropleth": [
           {
            "colorbar": {
             "outlinewidth": 0,
             "ticks": ""
            },
            "type": "choropleth"
           }
          ],
          "contour": [
           {
            "colorbar": {
             "outlinewidth": 0,
             "ticks": ""
            },
            "colorscale": [
             [
              0,
              "#0d0887"
             ],
             [
              0.1111111111111111,
              "#46039f"
             ],
             [
              0.2222222222222222,
              "#7201a8"
             ],
             [
              0.3333333333333333,
              "#9c179e"
             ],
             [
              0.4444444444444444,
              "#bd3786"
             ],
             [
              0.5555555555555556,
              "#d8576b"
             ],
             [
              0.6666666666666666,
              "#ed7953"
             ],
             [
              0.7777777777777778,
              "#fb9f3a"
             ],
             [
              0.8888888888888888,
              "#fdca26"
             ],
             [
              1,
              "#f0f921"
             ]
            ],
            "type": "contour"
           }
          ],
          "contourcarpet": [
           {
            "colorbar": {
             "outlinewidth": 0,
             "ticks": ""
            },
            "type": "contourcarpet"
           }
          ],
          "heatmap": [
           {
            "colorbar": {
             "outlinewidth": 0,
             "ticks": ""
            },
            "colorscale": [
             [
              0,
              "#0d0887"
             ],
             [
              0.1111111111111111,
              "#46039f"
             ],
             [
              0.2222222222222222,
              "#7201a8"
             ],
             [
              0.3333333333333333,
              "#9c179e"
             ],
             [
              0.4444444444444444,
              "#bd3786"
             ],
             [
              0.5555555555555556,
              "#d8576b"
             ],
             [
              0.6666666666666666,
              "#ed7953"
             ],
             [
              0.7777777777777778,
              "#fb9f3a"
             ],
             [
              0.8888888888888888,
              "#fdca26"
             ],
             [
              1,
              "#f0f921"
             ]
            ],
            "type": "heatmap"
           }
          ],
          "heatmapgl": [
           {
            "colorbar": {
             "outlinewidth": 0,
             "ticks": ""
            },
            "colorscale": [
             [
              0,
              "#0d0887"
             ],
             [
              0.1111111111111111,
              "#46039f"
             ],
             [
              0.2222222222222222,
              "#7201a8"
             ],
             [
              0.3333333333333333,
              "#9c179e"
             ],
             [
              0.4444444444444444,
              "#bd3786"
             ],
             [
              0.5555555555555556,
              "#d8576b"
             ],
             [
              0.6666666666666666,
              "#ed7953"
             ],
             [
              0.7777777777777778,
              "#fb9f3a"
             ],
             [
              0.8888888888888888,
              "#fdca26"
             ],
             [
              1,
              "#f0f921"
             ]
            ],
            "type": "heatmapgl"
           }
          ],
          "histogram": [
           {
            "marker": {
             "pattern": {
              "fillmode": "overlay",
              "size": 10,
              "solidity": 0.2
             }
            },
            "type": "histogram"
           }
          ],
          "histogram2d": [
           {
            "colorbar": {
             "outlinewidth": 0,
             "ticks": ""
            },
            "colorscale": [
             [
              0,
              "#0d0887"
             ],
             [
              0.1111111111111111,
              "#46039f"
             ],
             [
              0.2222222222222222,
              "#7201a8"
             ],
             [
              0.3333333333333333,
              "#9c179e"
             ],
             [
              0.4444444444444444,
              "#bd3786"
             ],
             [
              0.5555555555555556,
              "#d8576b"
             ],
             [
              0.6666666666666666,
              "#ed7953"
             ],
             [
              0.7777777777777778,
              "#fb9f3a"
             ],
             [
              0.8888888888888888,
              "#fdca26"
             ],
             [
              1,
              "#f0f921"
             ]
            ],
            "type": "histogram2d"
           }
          ],
          "histogram2dcontour": [
           {
            "colorbar": {
             "outlinewidth": 0,
             "ticks": ""
            },
            "colorscale": [
             [
              0,
              "#0d0887"
             ],
             [
              0.1111111111111111,
              "#46039f"
             ],
             [
              0.2222222222222222,
              "#7201a8"
             ],
             [
              0.3333333333333333,
              "#9c179e"
             ],
             [
              0.4444444444444444,
              "#bd3786"
             ],
             [
              0.5555555555555556,
              "#d8576b"
             ],
             [
              0.6666666666666666,
              "#ed7953"
             ],
             [
              0.7777777777777778,
              "#fb9f3a"
             ],
             [
              0.8888888888888888,
              "#fdca26"
             ],
             [
              1,
              "#f0f921"
             ]
            ],
            "type": "histogram2dcontour"
           }
          ],
          "mesh3d": [
           {
            "colorbar": {
             "outlinewidth": 0,
             "ticks": ""
            },
            "type": "mesh3d"
           }
          ],
          "parcoords": [
           {
            "line": {
             "colorbar": {
              "outlinewidth": 0,
              "ticks": ""
             }
            },
            "type": "parcoords"
           }
          ],
          "pie": [
           {
            "automargin": true,
            "type": "pie"
           }
          ],
          "scatter": [
           {
            "fillpattern": {
             "fillmode": "overlay",
             "size": 10,
             "solidity": 0.2
            },
            "type": "scatter"
           }
          ],
          "scatter3d": [
           {
            "line": {
             "colorbar": {
              "outlinewidth": 0,
              "ticks": ""
             }
            },
            "marker": {
             "colorbar": {
              "outlinewidth": 0,
              "ticks": ""
             }
            },
            "type": "scatter3d"
           }
          ],
          "scattercarpet": [
           {
            "marker": {
             "colorbar": {
              "outlinewidth": 0,
              "ticks": ""
             }
            },
            "type": "scattercarpet"
           }
          ],
          "scattergeo": [
           {
            "marker": {
             "colorbar": {
              "outlinewidth": 0,
              "ticks": ""
             }
            },
            "type": "scattergeo"
           }
          ],
          "scattergl": [
           {
            "marker": {
             "colorbar": {
              "outlinewidth": 0,
              "ticks": ""
             }
            },
            "type": "scattergl"
           }
          ],
          "scattermapbox": [
           {
            "marker": {
             "colorbar": {
              "outlinewidth": 0,
              "ticks": ""
             }
            },
            "type": "scattermapbox"
           }
          ],
          "scatterpolar": [
           {
            "marker": {
             "colorbar": {
              "outlinewidth": 0,
              "ticks": ""
             }
            },
            "type": "scatterpolar"
           }
          ],
          "scatterpolargl": [
           {
            "marker": {
             "colorbar": {
              "outlinewidth": 0,
              "ticks": ""
             }
            },
            "type": "scatterpolargl"
           }
          ],
          "scatterternary": [
           {
            "marker": {
             "colorbar": {
              "outlinewidth": 0,
              "ticks": ""
             }
            },
            "type": "scatterternary"
           }
          ],
          "surface": [
           {
            "colorbar": {
             "outlinewidth": 0,
             "ticks": ""
            },
            "colorscale": [
             [
              0,
              "#0d0887"
             ],
             [
              0.1111111111111111,
              "#46039f"
             ],
             [
              0.2222222222222222,
              "#7201a8"
             ],
             [
              0.3333333333333333,
              "#9c179e"
             ],
             [
              0.4444444444444444,
              "#bd3786"
             ],
             [
              0.5555555555555556,
              "#d8576b"
             ],
             [
              0.6666666666666666,
              "#ed7953"
             ],
             [
              0.7777777777777778,
              "#fb9f3a"
             ],
             [
              0.8888888888888888,
              "#fdca26"
             ],
             [
              1,
              "#f0f921"
             ]
            ],
            "type": "surface"
           }
          ],
          "table": [
           {
            "cells": {
             "fill": {
              "color": "#EBF0F8"
             },
             "line": {
              "color": "white"
             }
            },
            "header": {
             "fill": {
              "color": "#C8D4E3"
             },
             "line": {
              "color": "white"
             }
            },
            "type": "table"
           }
          ]
         },
         "layout": {
          "annotationdefaults": {
           "arrowcolor": "#2a3f5f",
           "arrowhead": 0,
           "arrowwidth": 1
          },
          "autotypenumbers": "strict",
          "coloraxis": {
           "colorbar": {
            "outlinewidth": 0,
            "ticks": ""
           }
          },
          "colorscale": {
           "diverging": [
            [
             0,
             "#8e0152"
            ],
            [
             0.1,
             "#c51b7d"
            ],
            [
             0.2,
             "#de77ae"
            ],
            [
             0.3,
             "#f1b6da"
            ],
            [
             0.4,
             "#fde0ef"
            ],
            [
             0.5,
             "#f7f7f7"
            ],
            [
             0.6,
             "#e6f5d0"
            ],
            [
             0.7,
             "#b8e186"
            ],
            [
             0.8,
             "#7fbc41"
            ],
            [
             0.9,
             "#4d9221"
            ],
            [
             1,
             "#276419"
            ]
           ],
           "sequential": [
            [
             0,
             "#0d0887"
            ],
            [
             0.1111111111111111,
             "#46039f"
            ],
            [
             0.2222222222222222,
             "#7201a8"
            ],
            [
             0.3333333333333333,
             "#9c179e"
            ],
            [
             0.4444444444444444,
             "#bd3786"
            ],
            [
             0.5555555555555556,
             "#d8576b"
            ],
            [
             0.6666666666666666,
             "#ed7953"
            ],
            [
             0.7777777777777778,
             "#fb9f3a"
            ],
            [
             0.8888888888888888,
             "#fdca26"
            ],
            [
             1,
             "#f0f921"
            ]
           ],
           "sequentialminus": [
            [
             0,
             "#0d0887"
            ],
            [
             0.1111111111111111,
             "#46039f"
            ],
            [
             0.2222222222222222,
             "#7201a8"
            ],
            [
             0.3333333333333333,
             "#9c179e"
            ],
            [
             0.4444444444444444,
             "#bd3786"
            ],
            [
             0.5555555555555556,
             "#d8576b"
            ],
            [
             0.6666666666666666,
             "#ed7953"
            ],
            [
             0.7777777777777778,
             "#fb9f3a"
            ],
            [
             0.8888888888888888,
             "#fdca26"
            ],
            [
             1,
             "#f0f921"
            ]
           ]
          },
          "colorway": [
           "#636efa",
           "#EF553B",
           "#00cc96",
           "#ab63fa",
           "#FFA15A",
           "#19d3f3",
           "#FF6692",
           "#B6E880",
           "#FF97FF",
           "#FECB52"
          ],
          "font": {
           "color": "#2a3f5f"
          },
          "geo": {
           "bgcolor": "white",
           "lakecolor": "white",
           "landcolor": "#E5ECF6",
           "showlakes": true,
           "showland": true,
           "subunitcolor": "white"
          },
          "hoverlabel": {
           "align": "left"
          },
          "hovermode": "closest",
          "mapbox": {
           "style": "light"
          },
          "paper_bgcolor": "white",
          "plot_bgcolor": "#E5ECF6",
          "polar": {
           "angularaxis": {
            "gridcolor": "white",
            "linecolor": "white",
            "ticks": ""
           },
           "bgcolor": "#E5ECF6",
           "radialaxis": {
            "gridcolor": "white",
            "linecolor": "white",
            "ticks": ""
           }
          },
          "scene": {
           "xaxis": {
            "backgroundcolor": "#E5ECF6",
            "gridcolor": "white",
            "gridwidth": 2,
            "linecolor": "white",
            "showbackground": true,
            "ticks": "",
            "zerolinecolor": "white"
           },
           "yaxis": {
            "backgroundcolor": "#E5ECF6",
            "gridcolor": "white",
            "gridwidth": 2,
            "linecolor": "white",
            "showbackground": true,
            "ticks": "",
            "zerolinecolor": "white"
           },
           "zaxis": {
            "backgroundcolor": "#E5ECF6",
            "gridcolor": "white",
            "gridwidth": 2,
            "linecolor": "white",
            "showbackground": true,
            "ticks": "",
            "zerolinecolor": "white"
           }
          },
          "shapedefaults": {
           "line": {
            "color": "#2a3f5f"
           }
          },
          "ternary": {
           "aaxis": {
            "gridcolor": "white",
            "linecolor": "white",
            "ticks": ""
           },
           "baxis": {
            "gridcolor": "white",
            "linecolor": "white",
            "ticks": ""
           },
           "bgcolor": "#E5ECF6",
           "caxis": {
            "gridcolor": "white",
            "linecolor": "white",
            "ticks": ""
           }
          },
          "title": {
           "x": 0.05
          },
          "xaxis": {
           "automargin": true,
           "gridcolor": "white",
           "linecolor": "white",
           "ticks": "",
           "title": {
            "standoff": 15
           },
           "zerolinecolor": "white",
           "zerolinewidth": 2
          },
          "yaxis": {
           "automargin": true,
           "gridcolor": "white",
           "linecolor": "white",
           "ticks": "",
           "title": {
            "standoff": 15
           },
           "zerolinecolor": "white",
           "zerolinewidth": 2
          }
         }
        },
        "title": {
         "text": "Nombre de missions par hôtel"
        },
        "xaxis": {
         "categoryorder": "total descending",
         "title": {
          "text": "Hôtels"
         }
        },
        "yaxis": {
         "title": {
          "text": "Nombre de missions"
         }
        }
       }
      }
     },
     "metadata": {},
     "output_type": "display_data"
    }
   ],
   "source": [
    "import plotly.graph_objects as go\n",
    "\n",
    "missions_par_hotel = data[[\"Propriété_clean\",\"time_delta\"]].groupby(\"Propriété_clean\").count()\n",
    "heures_par_hotel = data[[\"Propriété_clean\",\"time_delta\"]].groupby(\"Propriété_clean\").sum()\n",
    "\n",
    "trace = go.Bar(name='Affected rentals', \n",
    "                x=missions_par_hotel.index, \n",
    "                y=missions_par_hotel.time_delta)\n",
    "\n",
    "fig = go.Figure(data=[trace])\n",
    "# Change the bar mode\n",
    "fig.update_layout(title=\"Nombre de missions par hôtel\",\n",
    "                  showlegend=False,\n",
    "                  xaxis={'categoryorder':'total descending'})\n",
    "\n",
    "\n",
    "fig.update_xaxes(title_text='Hôtels')\n",
    "fig.update_yaxes(title_text='Nombre de missions')\n",
    "\n",
    "\n",
    "fig.show()\n"
   ]
  },
  {
   "cell_type": "code",
   "execution_count": 315,
   "metadata": {},
   "outputs": [
    {
     "data": {
      "application/vnd.plotly.v1+json": {
       "config": {
        "plotlyServerURL": "https://plot.ly"
       },
       "data": [
        {
         "name": "Affected rentals",
         "type": "bar",
         "x": [
          "Alberte ",
          "Apogé",
          "Bleu de Grenelle",
          "Chouchou",
          "Courseine",
          "Crystal",
          "Drawing House",
          "Edouard VI",
          "French Theory",
          "Home Moderne",
          "Ibis Montparnasse",
          "Imprimerie",
          "La Belle Ville",
          "Le Grand Quartier",
          "Le Roch Hotel",
          "Les Deux Girafes",
          "MT solutions ",
          "Marceau",
          "Mathurin",
          "Milie Rose",
          "Mont Dore",
          "Monte Cristo",
          "Parisianer",
          "Parisis",
          "Peper and paper ",
          "Prélude",
          "Quinzerie hotel",
          "Select Hotel",
          "Touraine",
          "Tsuba",
          "Victoire et Germain",
          "Yllen Eiffel"
         ],
         "y": [
          2,
          8,
          2,
          5,
          49,
          65,
          63,
          36,
          22,
          0,
          428,
          168,
          20,
          151,
          1,
          41,
          1,
          129,
          1,
          97,
          1,
          43,
          29,
          12,
          0,
          61,
          8,
          134,
          54,
          82,
          33,
          76
         ]
        }
       ],
       "layout": {
        "showlegend": false,
        "template": {
         "data": {
          "bar": [
           {
            "error_x": {
             "color": "#2a3f5f"
            },
            "error_y": {
             "color": "#2a3f5f"
            },
            "marker": {
             "line": {
              "color": "#E5ECF6",
              "width": 0.5
             },
             "pattern": {
              "fillmode": "overlay",
              "size": 10,
              "solidity": 0.2
             }
            },
            "type": "bar"
           }
          ],
          "barpolar": [
           {
            "marker": {
             "line": {
              "color": "#E5ECF6",
              "width": 0.5
             },
             "pattern": {
              "fillmode": "overlay",
              "size": 10,
              "solidity": 0.2
             }
            },
            "type": "barpolar"
           }
          ],
          "carpet": [
           {
            "aaxis": {
             "endlinecolor": "#2a3f5f",
             "gridcolor": "white",
             "linecolor": "white",
             "minorgridcolor": "white",
             "startlinecolor": "#2a3f5f"
            },
            "baxis": {
             "endlinecolor": "#2a3f5f",
             "gridcolor": "white",
             "linecolor": "white",
             "minorgridcolor": "white",
             "startlinecolor": "#2a3f5f"
            },
            "type": "carpet"
           }
          ],
          "choropleth": [
           {
            "colorbar": {
             "outlinewidth": 0,
             "ticks": ""
            },
            "type": "choropleth"
           }
          ],
          "contour": [
           {
            "colorbar": {
             "outlinewidth": 0,
             "ticks": ""
            },
            "colorscale": [
             [
              0,
              "#0d0887"
             ],
             [
              0.1111111111111111,
              "#46039f"
             ],
             [
              0.2222222222222222,
              "#7201a8"
             ],
             [
              0.3333333333333333,
              "#9c179e"
             ],
             [
              0.4444444444444444,
              "#bd3786"
             ],
             [
              0.5555555555555556,
              "#d8576b"
             ],
             [
              0.6666666666666666,
              "#ed7953"
             ],
             [
              0.7777777777777778,
              "#fb9f3a"
             ],
             [
              0.8888888888888888,
              "#fdca26"
             ],
             [
              1,
              "#f0f921"
             ]
            ],
            "type": "contour"
           }
          ],
          "contourcarpet": [
           {
            "colorbar": {
             "outlinewidth": 0,
             "ticks": ""
            },
            "type": "contourcarpet"
           }
          ],
          "heatmap": [
           {
            "colorbar": {
             "outlinewidth": 0,
             "ticks": ""
            },
            "colorscale": [
             [
              0,
              "#0d0887"
             ],
             [
              0.1111111111111111,
              "#46039f"
             ],
             [
              0.2222222222222222,
              "#7201a8"
             ],
             [
              0.3333333333333333,
              "#9c179e"
             ],
             [
              0.4444444444444444,
              "#bd3786"
             ],
             [
              0.5555555555555556,
              "#d8576b"
             ],
             [
              0.6666666666666666,
              "#ed7953"
             ],
             [
              0.7777777777777778,
              "#fb9f3a"
             ],
             [
              0.8888888888888888,
              "#fdca26"
             ],
             [
              1,
              "#f0f921"
             ]
            ],
            "type": "heatmap"
           }
          ],
          "heatmapgl": [
           {
            "colorbar": {
             "outlinewidth": 0,
             "ticks": ""
            },
            "colorscale": [
             [
              0,
              "#0d0887"
             ],
             [
              0.1111111111111111,
              "#46039f"
             ],
             [
              0.2222222222222222,
              "#7201a8"
             ],
             [
              0.3333333333333333,
              "#9c179e"
             ],
             [
              0.4444444444444444,
              "#bd3786"
             ],
             [
              0.5555555555555556,
              "#d8576b"
             ],
             [
              0.6666666666666666,
              "#ed7953"
             ],
             [
              0.7777777777777778,
              "#fb9f3a"
             ],
             [
              0.8888888888888888,
              "#fdca26"
             ],
             [
              1,
              "#f0f921"
             ]
            ],
            "type": "heatmapgl"
           }
          ],
          "histogram": [
           {
            "marker": {
             "pattern": {
              "fillmode": "overlay",
              "size": 10,
              "solidity": 0.2
             }
            },
            "type": "histogram"
           }
          ],
          "histogram2d": [
           {
            "colorbar": {
             "outlinewidth": 0,
             "ticks": ""
            },
            "colorscale": [
             [
              0,
              "#0d0887"
             ],
             [
              0.1111111111111111,
              "#46039f"
             ],
             [
              0.2222222222222222,
              "#7201a8"
             ],
             [
              0.3333333333333333,
              "#9c179e"
             ],
             [
              0.4444444444444444,
              "#bd3786"
             ],
             [
              0.5555555555555556,
              "#d8576b"
             ],
             [
              0.6666666666666666,
              "#ed7953"
             ],
             [
              0.7777777777777778,
              "#fb9f3a"
             ],
             [
              0.8888888888888888,
              "#fdca26"
             ],
             [
              1,
              "#f0f921"
             ]
            ],
            "type": "histogram2d"
           }
          ],
          "histogram2dcontour": [
           {
            "colorbar": {
             "outlinewidth": 0,
             "ticks": ""
            },
            "colorscale": [
             [
              0,
              "#0d0887"
             ],
             [
              0.1111111111111111,
              "#46039f"
             ],
             [
              0.2222222222222222,
              "#7201a8"
             ],
             [
              0.3333333333333333,
              "#9c179e"
             ],
             [
              0.4444444444444444,
              "#bd3786"
             ],
             [
              0.5555555555555556,
              "#d8576b"
             ],
             [
              0.6666666666666666,
              "#ed7953"
             ],
             [
              0.7777777777777778,
              "#fb9f3a"
             ],
             [
              0.8888888888888888,
              "#fdca26"
             ],
             [
              1,
              "#f0f921"
             ]
            ],
            "type": "histogram2dcontour"
           }
          ],
          "mesh3d": [
           {
            "colorbar": {
             "outlinewidth": 0,
             "ticks": ""
            },
            "type": "mesh3d"
           }
          ],
          "parcoords": [
           {
            "line": {
             "colorbar": {
              "outlinewidth": 0,
              "ticks": ""
             }
            },
            "type": "parcoords"
           }
          ],
          "pie": [
           {
            "automargin": true,
            "type": "pie"
           }
          ],
          "scatter": [
           {
            "fillpattern": {
             "fillmode": "overlay",
             "size": 10,
             "solidity": 0.2
            },
            "type": "scatter"
           }
          ],
          "scatter3d": [
           {
            "line": {
             "colorbar": {
              "outlinewidth": 0,
              "ticks": ""
             }
            },
            "marker": {
             "colorbar": {
              "outlinewidth": 0,
              "ticks": ""
             }
            },
            "type": "scatter3d"
           }
          ],
          "scattercarpet": [
           {
            "marker": {
             "colorbar": {
              "outlinewidth": 0,
              "ticks": ""
             }
            },
            "type": "scattercarpet"
           }
          ],
          "scattergeo": [
           {
            "marker": {
             "colorbar": {
              "outlinewidth": 0,
              "ticks": ""
             }
            },
            "type": "scattergeo"
           }
          ],
          "scattergl": [
           {
            "marker": {
             "colorbar": {
              "outlinewidth": 0,
              "ticks": ""
             }
            },
            "type": "scattergl"
           }
          ],
          "scattermapbox": [
           {
            "marker": {
             "colorbar": {
              "outlinewidth": 0,
              "ticks": ""
             }
            },
            "type": "scattermapbox"
           }
          ],
          "scatterpolar": [
           {
            "marker": {
             "colorbar": {
              "outlinewidth": 0,
              "ticks": ""
             }
            },
            "type": "scatterpolar"
           }
          ],
          "scatterpolargl": [
           {
            "marker": {
             "colorbar": {
              "outlinewidth": 0,
              "ticks": ""
             }
            },
            "type": "scatterpolargl"
           }
          ],
          "scatterternary": [
           {
            "marker": {
             "colorbar": {
              "outlinewidth": 0,
              "ticks": ""
             }
            },
            "type": "scatterternary"
           }
          ],
          "surface": [
           {
            "colorbar": {
             "outlinewidth": 0,
             "ticks": ""
            },
            "colorscale": [
             [
              0,
              "#0d0887"
             ],
             [
              0.1111111111111111,
              "#46039f"
             ],
             [
              0.2222222222222222,
              "#7201a8"
             ],
             [
              0.3333333333333333,
              "#9c179e"
             ],
             [
              0.4444444444444444,
              "#bd3786"
             ],
             [
              0.5555555555555556,
              "#d8576b"
             ],
             [
              0.6666666666666666,
              "#ed7953"
             ],
             [
              0.7777777777777778,
              "#fb9f3a"
             ],
             [
              0.8888888888888888,
              "#fdca26"
             ],
             [
              1,
              "#f0f921"
             ]
            ],
            "type": "surface"
           }
          ],
          "table": [
           {
            "cells": {
             "fill": {
              "color": "#EBF0F8"
             },
             "line": {
              "color": "white"
             }
            },
            "header": {
             "fill": {
              "color": "#C8D4E3"
             },
             "line": {
              "color": "white"
             }
            },
            "type": "table"
           }
          ]
         },
         "layout": {
          "annotationdefaults": {
           "arrowcolor": "#2a3f5f",
           "arrowhead": 0,
           "arrowwidth": 1
          },
          "autotypenumbers": "strict",
          "coloraxis": {
           "colorbar": {
            "outlinewidth": 0,
            "ticks": ""
           }
          },
          "colorscale": {
           "diverging": [
            [
             0,
             "#8e0152"
            ],
            [
             0.1,
             "#c51b7d"
            ],
            [
             0.2,
             "#de77ae"
            ],
            [
             0.3,
             "#f1b6da"
            ],
            [
             0.4,
             "#fde0ef"
            ],
            [
             0.5,
             "#f7f7f7"
            ],
            [
             0.6,
             "#e6f5d0"
            ],
            [
             0.7,
             "#b8e186"
            ],
            [
             0.8,
             "#7fbc41"
            ],
            [
             0.9,
             "#4d9221"
            ],
            [
             1,
             "#276419"
            ]
           ],
           "sequential": [
            [
             0,
             "#0d0887"
            ],
            [
             0.1111111111111111,
             "#46039f"
            ],
            [
             0.2222222222222222,
             "#7201a8"
            ],
            [
             0.3333333333333333,
             "#9c179e"
            ],
            [
             0.4444444444444444,
             "#bd3786"
            ],
            [
             0.5555555555555556,
             "#d8576b"
            ],
            [
             0.6666666666666666,
             "#ed7953"
            ],
            [
             0.7777777777777778,
             "#fb9f3a"
            ],
            [
             0.8888888888888888,
             "#fdca26"
            ],
            [
             1,
             "#f0f921"
            ]
           ],
           "sequentialminus": [
            [
             0,
             "#0d0887"
            ],
            [
             0.1111111111111111,
             "#46039f"
            ],
            [
             0.2222222222222222,
             "#7201a8"
            ],
            [
             0.3333333333333333,
             "#9c179e"
            ],
            [
             0.4444444444444444,
             "#bd3786"
            ],
            [
             0.5555555555555556,
             "#d8576b"
            ],
            [
             0.6666666666666666,
             "#ed7953"
            ],
            [
             0.7777777777777778,
             "#fb9f3a"
            ],
            [
             0.8888888888888888,
             "#fdca26"
            ],
            [
             1,
             "#f0f921"
            ]
           ]
          },
          "colorway": [
           "#636efa",
           "#EF553B",
           "#00cc96",
           "#ab63fa",
           "#FFA15A",
           "#19d3f3",
           "#FF6692",
           "#B6E880",
           "#FF97FF",
           "#FECB52"
          ],
          "font": {
           "color": "#2a3f5f"
          },
          "geo": {
           "bgcolor": "white",
           "lakecolor": "white",
           "landcolor": "#E5ECF6",
           "showlakes": true,
           "showland": true,
           "subunitcolor": "white"
          },
          "hoverlabel": {
           "align": "left"
          },
          "hovermode": "closest",
          "mapbox": {
           "style": "light"
          },
          "paper_bgcolor": "white",
          "plot_bgcolor": "#E5ECF6",
          "polar": {
           "angularaxis": {
            "gridcolor": "white",
            "linecolor": "white",
            "ticks": ""
           },
           "bgcolor": "#E5ECF6",
           "radialaxis": {
            "gridcolor": "white",
            "linecolor": "white",
            "ticks": ""
           }
          },
          "scene": {
           "xaxis": {
            "backgroundcolor": "#E5ECF6",
            "gridcolor": "white",
            "gridwidth": 2,
            "linecolor": "white",
            "showbackground": true,
            "ticks": "",
            "zerolinecolor": "white"
           },
           "yaxis": {
            "backgroundcolor": "#E5ECF6",
            "gridcolor": "white",
            "gridwidth": 2,
            "linecolor": "white",
            "showbackground": true,
            "ticks": "",
            "zerolinecolor": "white"
           },
           "zaxis": {
            "backgroundcolor": "#E5ECF6",
            "gridcolor": "white",
            "gridwidth": 2,
            "linecolor": "white",
            "showbackground": true,
            "ticks": "",
            "zerolinecolor": "white"
           }
          },
          "shapedefaults": {
           "line": {
            "color": "#2a3f5f"
           }
          },
          "ternary": {
           "aaxis": {
            "gridcolor": "white",
            "linecolor": "white",
            "ticks": ""
           },
           "baxis": {
            "gridcolor": "white",
            "linecolor": "white",
            "ticks": ""
           },
           "bgcolor": "#E5ECF6",
           "caxis": {
            "gridcolor": "white",
            "linecolor": "white",
            "ticks": ""
           }
          },
          "title": {
           "x": 0.05
          },
          "xaxis": {
           "automargin": true,
           "gridcolor": "white",
           "linecolor": "white",
           "ticks": "",
           "title": {
            "standoff": 15
           },
           "zerolinecolor": "white",
           "zerolinewidth": 2
          },
          "yaxis": {
           "automargin": true,
           "gridcolor": "white",
           "linecolor": "white",
           "ticks": "",
           "title": {
            "standoff": 15
           },
           "zerolinecolor": "white",
           "zerolinewidth": 2
          }
         }
        },
        "title": {
         "text": "Nombre de missions par hôtel"
        },
        "xaxis": {
         "categoryorder": "total descending",
         "title": {
          "text": "Hôtels"
         }
        },
        "yaxis": {
         "title": {
          "text": "Nombre de missions"
         }
        }
       }
      }
     },
     "metadata": {},
     "output_type": "display_data"
    }
   ],
   "source": [
    "trace = go.Bar(name='Affected rentals', \n",
    "                x=heures_par_hotel.index, \n",
    "                y=heures_par_hotel.time_delta / 8.64e+13) ## nanoseconds to days\n",
    "\n",
    "fig = go.Figure(data=[trace])\n",
    "# Change the bar mode\n",
    "fig.update_layout(title=\"Nombre de missions par hôtel\",\n",
    "                  showlegend=False,\n",
    "                  xaxis={'categoryorder':'total descending'})\n",
    "\n",
    "\n",
    "fig.update_xaxes(title_text='Hôtels')\n",
    "fig.update_yaxes(title_text='Nombre de missions')\n",
    "\n",
    "\n",
    "fig.show()\n"
   ]
  },
  {
   "cell_type": "code",
   "execution_count": 316,
   "metadata": {},
   "outputs": [
    {
     "data": {
      "text/plain": [
       "0       01-2024\n",
       "1       01-2024\n",
       "2       01-2024\n",
       "3       01-2024\n",
       "4       01-2024\n",
       "         ...   \n",
       "4765    12-2021\n",
       "4766    12-2021\n",
       "4767    12-2021\n",
       "4768    12-2021\n",
       "4769    11-2021\n",
       "Name: periode_debut, Length: 4760, dtype: object"
      ]
     },
     "execution_count": 316,
     "metadata": {},
     "output_type": "execute_result"
    }
   ],
   "source": [
    "data[\"periode_debut\"] = data[\"date_debut\"].dt.strftime('%m-%Y')\n",
    "data[\"periode_debut\"]"
   ]
  },
  {
   "cell_type": "code",
   "execution_count": 317,
   "metadata": {},
   "outputs": [
    {
     "data": {
      "application/vnd.plotly.v1+json": {
       "config": {
        "plotlyServerURL": "https://plot.ly"
       },
       "data": [
        {
         "marker": {
          "line": {
           "width": 0
          }
         },
         "type": "bar",
         "x": [
          "01-2024",
          "01-2024",
          "01-2024",
          "01-2024",
          "01-2024",
          "01-2024",
          "01-2024",
          "01-2024",
          "01-2024",
          "01-2024",
          "12-2023",
          "12-2023",
          "12-2023",
          "12-2023",
          "12-2023",
          "12-2023",
          "12-2023",
          "12-2023",
          "12-2023",
          "12-2023",
          "12-2023",
          "12-2023",
          "12-2023",
          "12-2023",
          "12-2023",
          "12-2023",
          "12-2023",
          "12-2023",
          "12-2023",
          "12-2023",
          "12-2023",
          "12-2023",
          "12-2023",
          "12-2023",
          "12-2023",
          "12-2023",
          "12-2023",
          "12-2023",
          "12-2023",
          "12-2023",
          "12-2023",
          "12-2023",
          "12-2023",
          "12-2023",
          "12-2023",
          "12-2023",
          "12-2023",
          "12-2023",
          "12-2023",
          "12-2023",
          "12-2023",
          "12-2023",
          "12-2023",
          "12-2023",
          "12-2023",
          "12-2023",
          "12-2023",
          "12-2023",
          "12-2023",
          "12-2023",
          "12-2023",
          "12-2023",
          "12-2023",
          "12-2023",
          "12-2023",
          "12-2023",
          "12-2023",
          "12-2023",
          "12-2023",
          "12-2023",
          "12-2023",
          "12-2023",
          "12-2023",
          "12-2023",
          "12-2023",
          "12-2023",
          "12-2023",
          "12-2023",
          "12-2023",
          "12-2023",
          "12-2023",
          "12-2023",
          "12-2023",
          "12-2023",
          "12-2023",
          "12-2023",
          "12-2023",
          "12-2023",
          "12-2023",
          "12-2023",
          "12-2023",
          "12-2023",
          "12-2023",
          "12-2023",
          "12-2023",
          "12-2023",
          "12-2023",
          "12-2023",
          "12-2023",
          "12-2023",
          "12-2023",
          "12-2023",
          "12-2023",
          "12-2023",
          "12-2023",
          "12-2023",
          "12-2023",
          "12-2023",
          "12-2023",
          "12-2023",
          "12-2023",
          "12-2023",
          "12-2023",
          "12-2023",
          "12-2023",
          "12-2023",
          "12-2023",
          "12-2023",
          "12-2023",
          "12-2023",
          "12-2023",
          "12-2023",
          "11-2023",
          "11-2023",
          "11-2023",
          "11-2023",
          "11-2023",
          "11-2023",
          "11-2023",
          "11-2023",
          "11-2023",
          "11-2023",
          "11-2023",
          "11-2023",
          "11-2023",
          "11-2023",
          "11-2023",
          "11-2023",
          "11-2023",
          "11-2023",
          "11-2023",
          "11-2023",
          "11-2023",
          "11-2023",
          "11-2023",
          "11-2023",
          "11-2023",
          "11-2023",
          "11-2023",
          "11-2023",
          "11-2023",
          "11-2023",
          "11-2023",
          "11-2023",
          "11-2023",
          "11-2023",
          "11-2023",
          "11-2023",
          "11-2023",
          "11-2023",
          "11-2023",
          "11-2023",
          "11-2023",
          "11-2023",
          "11-2023",
          "11-2023",
          "11-2023",
          "11-2023",
          "11-2023",
          "11-2023",
          "11-2023",
          "11-2023",
          "11-2023",
          "11-2023",
          "11-2023",
          "11-2023",
          "11-2023",
          "11-2023",
          "11-2023",
          "11-2023",
          "11-2023",
          "11-2023",
          "11-2023",
          "11-2023",
          "11-2023",
          "11-2023",
          "11-2023",
          "11-2023",
          "11-2023",
          "11-2023",
          "11-2023",
          "11-2023",
          "11-2023",
          "11-2023",
          "11-2023",
          "11-2023",
          "11-2023",
          "11-2023",
          "11-2023",
          "11-2023",
          "11-2023",
          "11-2023",
          "11-2023",
          "11-2023",
          "11-2023",
          "11-2023",
          "11-2023",
          "11-2023",
          "11-2023",
          "11-2023",
          "11-2023",
          "11-2023",
          "11-2023",
          "11-2023",
          "11-2023",
          "11-2023",
          "11-2023",
          "11-2023",
          "11-2023",
          "11-2023",
          "11-2023",
          "11-2023",
          "11-2023",
          "11-2023",
          "11-2023",
          "11-2023",
          "11-2023",
          "11-2023",
          "11-2023",
          "11-2023",
          "11-2023",
          "11-2023",
          "11-2023",
          "11-2023",
          "11-2023",
          "11-2023",
          "11-2023",
          "11-2023",
          "11-2023",
          "11-2023",
          "11-2023",
          "11-2023",
          "11-2023",
          "11-2023",
          "11-2023",
          "11-2023",
          "11-2023",
          "11-2023",
          "11-2023",
          "11-2023",
          "11-2023",
          "11-2023",
          "11-2023",
          "11-2023",
          "11-2023",
          "11-2023",
          "11-2023",
          "11-2023",
          "11-2023",
          "11-2023",
          "11-2023",
          "11-2023",
          "11-2023",
          "11-2023",
          "11-2023",
          "11-2023",
          "11-2023",
          "11-2023",
          "11-2023",
          "11-2023",
          "11-2023",
          "11-2023",
          "11-2023",
          "11-2023",
          "11-2023",
          "11-2023",
          "11-2023",
          "11-2023",
          "11-2023",
          "11-2023",
          "11-2023",
          "11-2023",
          "11-2023",
          "11-2023",
          "11-2023",
          "11-2023",
          "11-2023",
          "11-2023",
          "11-2023",
          "11-2023",
          "11-2023",
          "11-2023",
          "11-2023",
          "11-2023",
          "11-2023",
          "11-2023",
          "11-2023",
          "11-2023",
          "11-2023",
          "11-2023",
          "11-2023",
          "11-2023",
          "11-2023",
          "11-2023",
          "11-2023",
          "11-2023",
          "11-2023",
          "11-2023",
          "11-2023",
          "11-2023",
          "11-2023",
          "11-2023",
          "11-2023",
          "11-2023",
          "11-2023",
          "11-2023",
          "11-2023",
          "11-2023",
          "11-2023",
          "11-2023",
          "11-2023",
          "11-2023",
          "11-2023",
          "11-2023",
          "11-2023",
          "11-2023",
          "11-2023",
          "11-2023",
          "11-2023",
          "11-2023",
          "11-2023",
          "11-2023",
          "11-2023",
          "11-2023",
          "11-2023",
          "11-2023",
          "11-2023",
          "10-2023",
          "10-2023",
          "10-2023",
          "10-2023",
          "10-2023",
          "10-2023",
          "10-2023",
          "10-2023",
          "10-2023",
          "10-2023",
          "10-2023",
          "10-2023",
          "10-2023",
          "10-2023",
          "10-2023",
          "10-2023",
          "10-2023",
          "10-2023",
          "10-2023",
          "10-2023",
          "10-2023",
          "10-2023",
          "10-2023",
          "10-2023",
          "10-2023",
          "10-2023",
          "10-2023",
          "10-2023",
          "10-2023",
          "10-2023",
          "10-2023",
          "10-2023",
          "10-2023",
          "10-2023",
          "10-2023",
          "10-2023",
          "10-2023",
          "10-2023",
          "10-2023",
          "10-2023",
          "10-2023",
          "10-2023",
          "10-2023",
          "10-2023",
          "10-2023",
          "10-2023",
          "10-2023",
          "10-2023",
          "10-2023",
          "10-2023",
          "10-2023",
          "10-2023",
          "10-2023",
          "10-2023",
          "10-2023",
          "10-2023",
          "10-2023",
          "10-2023",
          "10-2023",
          "10-2023",
          "10-2023",
          "10-2023",
          "10-2023",
          "10-2023",
          "10-2023",
          "10-2023",
          "10-2023",
          "10-2023",
          "10-2023",
          "10-2023",
          "10-2023",
          "10-2023",
          "10-2023",
          "10-2023",
          "10-2023",
          "10-2023",
          "10-2023",
          "10-2023",
          "10-2023",
          "10-2023",
          "10-2023",
          "10-2023",
          "10-2023",
          "10-2023",
          "10-2023",
          "10-2023",
          "10-2023",
          "10-2023",
          "10-2023",
          "10-2023",
          "10-2023",
          "10-2023",
          "10-2023",
          "10-2023",
          "10-2023",
          "10-2023",
          "10-2023",
          "10-2023",
          "10-2023",
          "10-2023",
          "10-2023",
          "10-2023",
          "10-2023",
          "10-2023",
          "10-2023",
          "10-2023",
          "10-2023",
          "10-2023",
          "10-2023",
          "10-2023",
          "10-2023",
          "10-2023",
          "10-2023",
          "10-2023",
          "10-2023",
          "10-2023",
          "10-2023",
          "10-2023",
          "10-2023",
          "10-2023",
          "10-2023",
          "10-2023",
          "10-2023",
          "10-2023",
          "10-2023",
          "10-2023",
          "10-2023",
          "10-2023",
          "10-2023",
          "10-2023",
          "10-2023",
          "10-2023",
          "10-2023",
          "10-2023",
          "10-2023",
          "10-2023",
          "10-2023",
          "10-2023",
          "10-2023",
          "10-2023",
          "10-2023",
          "10-2023",
          "10-2023",
          "10-2023",
          "10-2023",
          "10-2023",
          "10-2023",
          "10-2023",
          "10-2023",
          "10-2023",
          "10-2023",
          "10-2023",
          "10-2023",
          "10-2023",
          "10-2023",
          "10-2023",
          "10-2023",
          "10-2023",
          "10-2023",
          "10-2023",
          "10-2023",
          "10-2023",
          "10-2023",
          "10-2023",
          "10-2023",
          "10-2023",
          "10-2023",
          "10-2023",
          "10-2023",
          "10-2023",
          "10-2023",
          "10-2023",
          "10-2023",
          "10-2023",
          "10-2023",
          "10-2023",
          "10-2023",
          "10-2023",
          "10-2023",
          "10-2023",
          "10-2023",
          "10-2023",
          "10-2023",
          "10-2023",
          "10-2023",
          "10-2023",
          "10-2023",
          "10-2023",
          "10-2023",
          "10-2023",
          "10-2023",
          "10-2023",
          "10-2023",
          "10-2023",
          "10-2023",
          "10-2023",
          "10-2023",
          "10-2023",
          "10-2023",
          "10-2023",
          "10-2023",
          "10-2023",
          "10-2023",
          "10-2023",
          "10-2023",
          "10-2023",
          "10-2023",
          "10-2023",
          "10-2023",
          "10-2023",
          "10-2023",
          "10-2023",
          "10-2023",
          "10-2023",
          "10-2023",
          "10-2023",
          "10-2023",
          "10-2023",
          "10-2023",
          "10-2023",
          "10-2023",
          "10-2023",
          "10-2023",
          "10-2023",
          "10-2023",
          "10-2023",
          "10-2023",
          "10-2023",
          "10-2023",
          "10-2023",
          "10-2023",
          "10-2023",
          "10-2023",
          "10-2023",
          "10-2023",
          "10-2023",
          "10-2023",
          "10-2023",
          "10-2023",
          "10-2023",
          "10-2023",
          "10-2023",
          "10-2023",
          "10-2023",
          "10-2023",
          "10-2023",
          "10-2023",
          "10-2023",
          "10-2023",
          "10-2023",
          "10-2023",
          "10-2023",
          "10-2023",
          "10-2023",
          "10-2023",
          "09-2023",
          "09-2023",
          "09-2023",
          "09-2023",
          "09-2023",
          "09-2023",
          "09-2023",
          "09-2023",
          "09-2023",
          "09-2023",
          "09-2023",
          "09-2023",
          "09-2023",
          "09-2023",
          "09-2023",
          "09-2023",
          "09-2023",
          "09-2023",
          "09-2023",
          "09-2023",
          "09-2023",
          "09-2023",
          "09-2023",
          "09-2023",
          "09-2023",
          "09-2023",
          "09-2023",
          "09-2023",
          "09-2023",
          "09-2023",
          "09-2023",
          "09-2023",
          "09-2023",
          "09-2023",
          "09-2023",
          "09-2023",
          "09-2023",
          "09-2023",
          "09-2023",
          "09-2023",
          "09-2023",
          "09-2023",
          "09-2023",
          "09-2023",
          "09-2023",
          "09-2023",
          "09-2023",
          "09-2023",
          "09-2023",
          "09-2023",
          "09-2023",
          "09-2023",
          "09-2023",
          "09-2023",
          "09-2023",
          "09-2023",
          "09-2023",
          "09-2023",
          "09-2023",
          "09-2023",
          "09-2023",
          "09-2023",
          "09-2023",
          "09-2023",
          "09-2023",
          "09-2023",
          "09-2023",
          "09-2023",
          "09-2023",
          "09-2023",
          "09-2023",
          "09-2023",
          "09-2023",
          "09-2023",
          "09-2023",
          "09-2023",
          "09-2023",
          "09-2023",
          "09-2023",
          "09-2023",
          "09-2023",
          "09-2023",
          "09-2023",
          "09-2023",
          "09-2023",
          "09-2023",
          "09-2023",
          "09-2023",
          "09-2023",
          "09-2023",
          "09-2023",
          "09-2023",
          "09-2023",
          "09-2023",
          "09-2023",
          "09-2023",
          "09-2023",
          "09-2023",
          "09-2023",
          "09-2023",
          "09-2023",
          "09-2023",
          "09-2023",
          "09-2023",
          "09-2023",
          "09-2023",
          "09-2023",
          "09-2023",
          "09-2023",
          "09-2023",
          "09-2023",
          "09-2023",
          "09-2023",
          "09-2023",
          "09-2023",
          "09-2023",
          "09-2023",
          "09-2023",
          "09-2023",
          "09-2023",
          "09-2023",
          "09-2023",
          "09-2023",
          "09-2023",
          "09-2023",
          "09-2023",
          "09-2023",
          "09-2023",
          "09-2023",
          "09-2023",
          "09-2023",
          "09-2023",
          "09-2023",
          "09-2023",
          "09-2023",
          "09-2023",
          "09-2023",
          "09-2023",
          "09-2023",
          "09-2023",
          "09-2023",
          "09-2023",
          "09-2023",
          "09-2023",
          "09-2023",
          "09-2023",
          "09-2023",
          "09-2023",
          "09-2023",
          "09-2023",
          "09-2023",
          "09-2023",
          "09-2023",
          "09-2023",
          "09-2023",
          "09-2023",
          "09-2023",
          "09-2023",
          "09-2023",
          "09-2023",
          "09-2023",
          "09-2023",
          "09-2023",
          "09-2023",
          "09-2023",
          "09-2023",
          "09-2023",
          "09-2023",
          "09-2023",
          "09-2023",
          "09-2023",
          "09-2023",
          "09-2023",
          "09-2023",
          "09-2023",
          "09-2023",
          "09-2023",
          "09-2023",
          "09-2023",
          "09-2023",
          "09-2023",
          "09-2023",
          "09-2023",
          "09-2023",
          "09-2023",
          "09-2023",
          "09-2023",
          "09-2023",
          "09-2023",
          "09-2023",
          "09-2023",
          "09-2023",
          "09-2023",
          "09-2023",
          "09-2023",
          "09-2023",
          "09-2023",
          "09-2023",
          "09-2023",
          "09-2023",
          "09-2023",
          "09-2023",
          "09-2023",
          "09-2023",
          "09-2023",
          "09-2023",
          "09-2023",
          "09-2023",
          "09-2023",
          "09-2023",
          "09-2023",
          "09-2023",
          "09-2023",
          "09-2023",
          "09-2023",
          "09-2023",
          "09-2023",
          "09-2023",
          "09-2023",
          "09-2023",
          "09-2023",
          "09-2023",
          "09-2023",
          "09-2023",
          "09-2023",
          "09-2023",
          "09-2023",
          "09-2023",
          "09-2023",
          "09-2023",
          "09-2023",
          "09-2023",
          "09-2023",
          "09-2023",
          "09-2023",
          "09-2023",
          "09-2023",
          "09-2023",
          "09-2023",
          "09-2023",
          "09-2023",
          "09-2023",
          "09-2023",
          "09-2023",
          "09-2023",
          "09-2023",
          "09-2023",
          "09-2023",
          "09-2023",
          "09-2023",
          "09-2023",
          "09-2023",
          "09-2023",
          "09-2023",
          "09-2023",
          "09-2023",
          "09-2023",
          "09-2023",
          "09-2023",
          "09-2023",
          "09-2023",
          "09-2023",
          "09-2023",
          "09-2023",
          "09-2023",
          "09-2023",
          "09-2023",
          "09-2023",
          "09-2023",
          "09-2023",
          "09-2023",
          "09-2023",
          "09-2023",
          "09-2023",
          "09-2023",
          "09-2023",
          "09-2023",
          "09-2023",
          "09-2023",
          "09-2023",
          "09-2023",
          "09-2023",
          "09-2023",
          "09-2023",
          "09-2023",
          "09-2023",
          "09-2023",
          "09-2023",
          "09-2023",
          "09-2023",
          "09-2023",
          "09-2023",
          "08-2023",
          "08-2023",
          "08-2023",
          "08-2023",
          "08-2023",
          "08-2023",
          "08-2023",
          "08-2023",
          "08-2023",
          "08-2023",
          "08-2023",
          "08-2023",
          "08-2023",
          "08-2023",
          "08-2023",
          "08-2023",
          "08-2023",
          "08-2023",
          "08-2023",
          "08-2023",
          "08-2023",
          "08-2023",
          "08-2023",
          "08-2023",
          "08-2023",
          "08-2023",
          "08-2023",
          "08-2023",
          "08-2023",
          "08-2023",
          "08-2023",
          "08-2023",
          "08-2023",
          "08-2023",
          "08-2023",
          "08-2023",
          "08-2023",
          "08-2023",
          "08-2023",
          "08-2023",
          "08-2023",
          "08-2023",
          "08-2023",
          "08-2023",
          "08-2023",
          "08-2023",
          "08-2023",
          "08-2023",
          "08-2023",
          "08-2023",
          "08-2023",
          "08-2023",
          "08-2023",
          "08-2023",
          "08-2023",
          "08-2023",
          "08-2023",
          "08-2023",
          "08-2023",
          "08-2023",
          "08-2023",
          "08-2023",
          "08-2023",
          "08-2023",
          "08-2023",
          "08-2023",
          "08-2023",
          "08-2023",
          "08-2023",
          "08-2023",
          "08-2023",
          "08-2023",
          "08-2023",
          "08-2023",
          "08-2023",
          "08-2023",
          "08-2023",
          "08-2023",
          "08-2023",
          "08-2023",
          "08-2023",
          "08-2023",
          "08-2023",
          "08-2023",
          "08-2023",
          "08-2023",
          "08-2023",
          "08-2023",
          "08-2023",
          "08-2023",
          "08-2023",
          "08-2023",
          "08-2023",
          "08-2023",
          "08-2023",
          "08-2023",
          "08-2023",
          "08-2023",
          "08-2023",
          "08-2023",
          "08-2023",
          "08-2023",
          "08-2023",
          "08-2023",
          "08-2023",
          "08-2023",
          "08-2023",
          "08-2023",
          "08-2023",
          "08-2023",
          "08-2023",
          "08-2023",
          "08-2023",
          "08-2023",
          "08-2023",
          "08-2023",
          "08-2023",
          "08-2023",
          "08-2023",
          "08-2023",
          "08-2023",
          "08-2023",
          "08-2023",
          "08-2023",
          "08-2023",
          "08-2023",
          "08-2023",
          "08-2023",
          "08-2023",
          "08-2023",
          "08-2023",
          "08-2023",
          "08-2023",
          "08-2023",
          "08-2023",
          "08-2023",
          "08-2023",
          "08-2023",
          "08-2023",
          "08-2023",
          "08-2023",
          "08-2023",
          "08-2023",
          "08-2023",
          "08-2023",
          "08-2023",
          "08-2023",
          "08-2023",
          "08-2023",
          "08-2023",
          "08-2023",
          "08-2023",
          "08-2023",
          "08-2023",
          "08-2023",
          "08-2023",
          "08-2023",
          "08-2023",
          "08-2023",
          "08-2023",
          "08-2023",
          "08-2023",
          "08-2023",
          "08-2023",
          "08-2023",
          "08-2023",
          "08-2023",
          "08-2023",
          "08-2023",
          "08-2023",
          "08-2023",
          "08-2023",
          "08-2023",
          "08-2023",
          "08-2023",
          "08-2023",
          "08-2023",
          "08-2023",
          "08-2023",
          "08-2023",
          "08-2023",
          "08-2023",
          "08-2023",
          "08-2023",
          "08-2023",
          "08-2023",
          "08-2023",
          "08-2023",
          "08-2023",
          "08-2023",
          "08-2023",
          "08-2023",
          "08-2023",
          "08-2023",
          "08-2023",
          "08-2023",
          "08-2023",
          "08-2023",
          "08-2023",
          "08-2023",
          "08-2023",
          "08-2023",
          "08-2023",
          "08-2023",
          "08-2023",
          "08-2023",
          "08-2023",
          "08-2023",
          "08-2023",
          "08-2023",
          "08-2023",
          "08-2023",
          "08-2023",
          "08-2023",
          "08-2023",
          "08-2023",
          "08-2023",
          "08-2023",
          "08-2023",
          "08-2023",
          "08-2023",
          "08-2023",
          "08-2023",
          "08-2023",
          "08-2023",
          "08-2023",
          "08-2023",
          "08-2023",
          "08-2023",
          "08-2023",
          "08-2023",
          "08-2023",
          "08-2023",
          "08-2023",
          "08-2023",
          "08-2023",
          "08-2023",
          "08-2023",
          "08-2023",
          "08-2023",
          "08-2023",
          "08-2023",
          "08-2023",
          "08-2023",
          "08-2023",
          "08-2023",
          "08-2023",
          "08-2023",
          "08-2023",
          "08-2023",
          "08-2023",
          "08-2023",
          "08-2023",
          "08-2023",
          "08-2023",
          "08-2023",
          "08-2023",
          "08-2023",
          "08-2023",
          "08-2023",
          "08-2023",
          "08-2023",
          "08-2023",
          "08-2023",
          "08-2023",
          "08-2023",
          "08-2023",
          "08-2023",
          "08-2023",
          "08-2023",
          "08-2023",
          "08-2023",
          "08-2023",
          "08-2023",
          "08-2023",
          "08-2023",
          "08-2023",
          "08-2023",
          "08-2023",
          "08-2023",
          "08-2023",
          "08-2023",
          "08-2023",
          "08-2023",
          "08-2023",
          "08-2023",
          "08-2023",
          "08-2023",
          "08-2023",
          "08-2023",
          "08-2023",
          "08-2023",
          "08-2023",
          "08-2023",
          "08-2023",
          "08-2023",
          "08-2023",
          "08-2023",
          "08-2023",
          "08-2023",
          "08-2023",
          "08-2023",
          "08-2023",
          "08-2023",
          "08-2023",
          "08-2023",
          "08-2023",
          "08-2023",
          "08-2023",
          "08-2023",
          "08-2023",
          "08-2023",
          "08-2023",
          "08-2023",
          "08-2023",
          "08-2023",
          "08-2023",
          "08-2023",
          "08-2023",
          "08-2023",
          "08-2023",
          "08-2023",
          "08-2023",
          "08-2023",
          "08-2023",
          "08-2023",
          "08-2023",
          "08-2023",
          "08-2023",
          "08-2023",
          "08-2023",
          "08-2023",
          "08-2023",
          "08-2023",
          "08-2023",
          "07-2023",
          "07-2023",
          "07-2023",
          "07-2023",
          "07-2023",
          "07-2023",
          "07-2023",
          "07-2023",
          "07-2023",
          "07-2023",
          "07-2023",
          "07-2023",
          "07-2023",
          "07-2023",
          "07-2023",
          "07-2023",
          "07-2023",
          "07-2023",
          "07-2023",
          "07-2023",
          "07-2023",
          "07-2023",
          "07-2023",
          "07-2023",
          "07-2023",
          "07-2023",
          "07-2023",
          "07-2023",
          "07-2023",
          "07-2023",
          "07-2023",
          "07-2023",
          "07-2023",
          "07-2023",
          "07-2023",
          "07-2023",
          "07-2023",
          "07-2023",
          "07-2023",
          "07-2023",
          "07-2023",
          "07-2023",
          "07-2023",
          "07-2023",
          "07-2023",
          "07-2023",
          "07-2023",
          "07-2023",
          "07-2023",
          "07-2023",
          "07-2023",
          "07-2023",
          "07-2023",
          "07-2023",
          "07-2023",
          "07-2023",
          "07-2023",
          "07-2023",
          "07-2023",
          "07-2023",
          "07-2023",
          "07-2023",
          "07-2023",
          "07-2023",
          "07-2023",
          "07-2023",
          "07-2023",
          "07-2023",
          "07-2023",
          "07-2023",
          "07-2023",
          "07-2023",
          "07-2023",
          "07-2023",
          "07-2023",
          "07-2023",
          "07-2023",
          "07-2023",
          "07-2023",
          "07-2023",
          "07-2023",
          "07-2023",
          "07-2023",
          "07-2023",
          "07-2023",
          "07-2023",
          "07-2023",
          "07-2023",
          "07-2023",
          "07-2023",
          "07-2023",
          "07-2023",
          "07-2023",
          "07-2023",
          "07-2023",
          "07-2023",
          "07-2023",
          "07-2023",
          "07-2023",
          "07-2023",
          "07-2023",
          "07-2023",
          "07-2023",
          "07-2023",
          "07-2023",
          "07-2023",
          "07-2023",
          "07-2023",
          "07-2023",
          "07-2023",
          "07-2023",
          "07-2023",
          "07-2023",
          "07-2023",
          "07-2023",
          "07-2023",
          "07-2023",
          "07-2023",
          "07-2023",
          "07-2023",
          "07-2023",
          "07-2023",
          "07-2023",
          "07-2023",
          "07-2023",
          "07-2023",
          "07-2023",
          "07-2023",
          "07-2023",
          "07-2023",
          "07-2023",
          "07-2023",
          "07-2023",
          "07-2023",
          "07-2023",
          "07-2023",
          "07-2023",
          "07-2023",
          "07-2023",
          "07-2023",
          "07-2023",
          "07-2023",
          "07-2023",
          "07-2023",
          "07-2023",
          "07-2023",
          "07-2023",
          "07-2023",
          "07-2023",
          "07-2023",
          "07-2023",
          "07-2023",
          "07-2023",
          "07-2023",
          "07-2023",
          "07-2023",
          "07-2023",
          "07-2023",
          "07-2023",
          "07-2023",
          "07-2023",
          "07-2023",
          "07-2023",
          "07-2023",
          "07-2023",
          "07-2023",
          "07-2023",
          "07-2023",
          "07-2023",
          "07-2023",
          "07-2023",
          "07-2023",
          "07-2023",
          "07-2023",
          "07-2023",
          "07-2023",
          "07-2023",
          "07-2023",
          "07-2023",
          "07-2023",
          "07-2023",
          "07-2023",
          "07-2023",
          "07-2023",
          "07-2023",
          "07-2023",
          "07-2023",
          "07-2023",
          "07-2023",
          "07-2023",
          "07-2023",
          "07-2023",
          "07-2023",
          "07-2023",
          "07-2023",
          "07-2023",
          "07-2023",
          "07-2023",
          "07-2023",
          "07-2023",
          "07-2023",
          "07-2023",
          "07-2023",
          "07-2023",
          "07-2023",
          "07-2023",
          "07-2023",
          "07-2023",
          "07-2023",
          "07-2023",
          "07-2023",
          "07-2023",
          "07-2023",
          "07-2023",
          "07-2023",
          "07-2023",
          "07-2023",
          "07-2023",
          "07-2023",
          "07-2023",
          "07-2023",
          "07-2023",
          "07-2023",
          "07-2023",
          "07-2023",
          "07-2023",
          "07-2023",
          "07-2023",
          "07-2023",
          "07-2023",
          "07-2023",
          "07-2023",
          "07-2023",
          "07-2023",
          "07-2023",
          "07-2023",
          "07-2023",
          "07-2023",
          "07-2023",
          "07-2023",
          "07-2023",
          "07-2023",
          "07-2023",
          "07-2023",
          "07-2023",
          "07-2023",
          "07-2023",
          "07-2023",
          "07-2023",
          "07-2023",
          "07-2023",
          "07-2023",
          "07-2023",
          "07-2023",
          "07-2023",
          "07-2023",
          "07-2023",
          "07-2023",
          "07-2023",
          "07-2023",
          "07-2023",
          "07-2023",
          "07-2023",
          "07-2023",
          "07-2023",
          "07-2023",
          "07-2023",
          "07-2023",
          "07-2023",
          "07-2023",
          "07-2023",
          "07-2023",
          "07-2023",
          "07-2023",
          "07-2023",
          "07-2023",
          "07-2023",
          "07-2023",
          "07-2023",
          "07-2023",
          "07-2023",
          "07-2023",
          "07-2023",
          "07-2023",
          "07-2023",
          "07-2023",
          "07-2023",
          "07-2023",
          "07-2023",
          "07-2023",
          "07-2023",
          "07-2023",
          "07-2023",
          "07-2023",
          "07-2023",
          "07-2023",
          "07-2023",
          "07-2023",
          "07-2023",
          "07-2023",
          "07-2023",
          "07-2023",
          "06-2023",
          "06-2023",
          "06-2023",
          "06-2023",
          "06-2023",
          "06-2023",
          "06-2023",
          "06-2023",
          "06-2023",
          "06-2023",
          "06-2023",
          "06-2023",
          "06-2023",
          "06-2023",
          "06-2023",
          "06-2023",
          "06-2023",
          "06-2023",
          "06-2023",
          "06-2023",
          "06-2023",
          "06-2023",
          "06-2023",
          "06-2023",
          "06-2023",
          "06-2023",
          "06-2023",
          "06-2023",
          "06-2023",
          "06-2023",
          "06-2023",
          "06-2023",
          "06-2023",
          "06-2023",
          "06-2023",
          "06-2023",
          "06-2023",
          "06-2023",
          "06-2023",
          "06-2023",
          "06-2023",
          "06-2023",
          "06-2023",
          "06-2023",
          "06-2023",
          "06-2023",
          "06-2023",
          "06-2023",
          "06-2023",
          "06-2023",
          "06-2023",
          "06-2023",
          "06-2023",
          "06-2023",
          "06-2023",
          "06-2023",
          "06-2023",
          "06-2023",
          "06-2023",
          "06-2023",
          "06-2023",
          "06-2023",
          "06-2023",
          "06-2023",
          "06-2023",
          "06-2023",
          "06-2023",
          "06-2023",
          "06-2023",
          "06-2023",
          "06-2023",
          "06-2023",
          "06-2023",
          "06-2023",
          "06-2023",
          "06-2023",
          "06-2023",
          "06-2023",
          "06-2023",
          "06-2023",
          "06-2023",
          "06-2023",
          "06-2023",
          "06-2023",
          "06-2023",
          "06-2023",
          "06-2023",
          "06-2023",
          "06-2023",
          "06-2023",
          "06-2023",
          "06-2023",
          "06-2023",
          "06-2023",
          "06-2023",
          "06-2023",
          "06-2023",
          "06-2023",
          "06-2023",
          "06-2023",
          "06-2023",
          "06-2023",
          "06-2023",
          "06-2023",
          "06-2023",
          "06-2023",
          "06-2023",
          "06-2023",
          "06-2023",
          "06-2023",
          "06-2023",
          "06-2023",
          "06-2023",
          "06-2023",
          "06-2023",
          "06-2023",
          "06-2023",
          "06-2023",
          "06-2023",
          "06-2023",
          "06-2023",
          "06-2023",
          "06-2023",
          "06-2023",
          "06-2023",
          "06-2023",
          "06-2023",
          "06-2023",
          "06-2023",
          "06-2023",
          "06-2023",
          "06-2023",
          "06-2023",
          "06-2023",
          "06-2023",
          "06-2023",
          "06-2023",
          "06-2023",
          "06-2023",
          "06-2023",
          "06-2023",
          "06-2023",
          "06-2023",
          "06-2023",
          "06-2023",
          "06-2023",
          "06-2023",
          "06-2023",
          "06-2023",
          "06-2023",
          "06-2023",
          "06-2023",
          "06-2023",
          "06-2023",
          "06-2023",
          "06-2023",
          "06-2023",
          "06-2023",
          "06-2023",
          "06-2023",
          "06-2023",
          "06-2023",
          "06-2023",
          "06-2023",
          "06-2023",
          "06-2023",
          "06-2023",
          "06-2023",
          "06-2023",
          "06-2023",
          "06-2023",
          "06-2023",
          "06-2023",
          "06-2023",
          "06-2023",
          "06-2023",
          "06-2023",
          "06-2023",
          "06-2023",
          "06-2023",
          "06-2023",
          "06-2023",
          "06-2023",
          "06-2023",
          "06-2023",
          "06-2023",
          "06-2023",
          "06-2023",
          "06-2023",
          "06-2023",
          "06-2023",
          "06-2023",
          "06-2023",
          "06-2023",
          "06-2023",
          "06-2023",
          "06-2023",
          "06-2023",
          "06-2023",
          "06-2023",
          "06-2023",
          "06-2023",
          "06-2023",
          "06-2023",
          "06-2023",
          "06-2023",
          "06-2023",
          "06-2023",
          "06-2023",
          "06-2023",
          "06-2023",
          "06-2023",
          "06-2023",
          "06-2023",
          "06-2023",
          "06-2023",
          "06-2023",
          "06-2023",
          "06-2023",
          "06-2023",
          "06-2023",
          "06-2023",
          "06-2023",
          "06-2023",
          "06-2023",
          "06-2023",
          "06-2023",
          "06-2023",
          "06-2023",
          "06-2023",
          "06-2023",
          "06-2023",
          "06-2023",
          "06-2023",
          "06-2023",
          "06-2023",
          "06-2023",
          "06-2023",
          "06-2023",
          "06-2023",
          "06-2023",
          "06-2023",
          "06-2023",
          "06-2023",
          "06-2023",
          "06-2023",
          "06-2023",
          "06-2023",
          "06-2023",
          "06-2023",
          "06-2023",
          "06-2023",
          "06-2023",
          "06-2023",
          "06-2023",
          "06-2023",
          "06-2023",
          "06-2023",
          "06-2023",
          "06-2023",
          "05-2023",
          "05-2023",
          "05-2023",
          "05-2023",
          "05-2023",
          "05-2023",
          "05-2023",
          "05-2023",
          "05-2023",
          "05-2023",
          "05-2023",
          "05-2023",
          "05-2023",
          "05-2023",
          "05-2023",
          "05-2023",
          "05-2023",
          "05-2023",
          "05-2023",
          "05-2023",
          "05-2023",
          "05-2023",
          "05-2023",
          "05-2023",
          "05-2023",
          "05-2023",
          "05-2023",
          "05-2023",
          "05-2023",
          "05-2023",
          "05-2023",
          "05-2023",
          "05-2023",
          "05-2023",
          "05-2023",
          "05-2023",
          "05-2023",
          "05-2023",
          "05-2023",
          "05-2023",
          "05-2023",
          "05-2023",
          "05-2023",
          "05-2023",
          "05-2023",
          "05-2023",
          "05-2023",
          "05-2023",
          "05-2023",
          "05-2023",
          "05-2023",
          "05-2023",
          "05-2023",
          "05-2023",
          "05-2023",
          "05-2023",
          "05-2023",
          "05-2023",
          "05-2023",
          "05-2023",
          "05-2023",
          "05-2023",
          "05-2023",
          "05-2023",
          "05-2023",
          "05-2023",
          "05-2023",
          "05-2023",
          "05-2023",
          "05-2023",
          "05-2023",
          "05-2023",
          "05-2023",
          "05-2023",
          "05-2023",
          "05-2023",
          "05-2023",
          "05-2023",
          "05-2023",
          "05-2023",
          "05-2023",
          "05-2023",
          "05-2023",
          "05-2023",
          "05-2023",
          "05-2023",
          "05-2023",
          "05-2023",
          "05-2023",
          "05-2023",
          "05-2023",
          "05-2023",
          "05-2023",
          "05-2023",
          "05-2023",
          "05-2023",
          "05-2023",
          "05-2023",
          "05-2023",
          "05-2023",
          "05-2023",
          "05-2023",
          "05-2023",
          "05-2023",
          "05-2023",
          "05-2023",
          "05-2023",
          "05-2023",
          "05-2023",
          "05-2023",
          "05-2023",
          "05-2023",
          "05-2023",
          "05-2023",
          "05-2023",
          "05-2023",
          "05-2023",
          "05-2023",
          "05-2023",
          "05-2023",
          "05-2023",
          "05-2023",
          "05-2023",
          "05-2023",
          "05-2023",
          "05-2023",
          "05-2023",
          "05-2023",
          "05-2023",
          "05-2023",
          "05-2023",
          "05-2023",
          "05-2023",
          "05-2023",
          "05-2023",
          "05-2023",
          "05-2023",
          "05-2023",
          "05-2023",
          "05-2023",
          "05-2023",
          "05-2023",
          "05-2023",
          "05-2023",
          "05-2023",
          "05-2023",
          "05-2023",
          "05-2023",
          "05-2023",
          "05-2023",
          "05-2023",
          "05-2023",
          "05-2023",
          "05-2023",
          "05-2023",
          "05-2023",
          "05-2023",
          "05-2023",
          "05-2023",
          "05-2023",
          "05-2023",
          "05-2023",
          "05-2023",
          "05-2023",
          "05-2023",
          "05-2023",
          "05-2023",
          "05-2023",
          "05-2023",
          "05-2023",
          "05-2023",
          "05-2023",
          "05-2023",
          "05-2023",
          "05-2023",
          "05-2023",
          "05-2023",
          "05-2023",
          "05-2023",
          "05-2023",
          "05-2023",
          "05-2023",
          "05-2023",
          "05-2023",
          "05-2023",
          "05-2023",
          "05-2023",
          "05-2023",
          "05-2023",
          "05-2023",
          "05-2023",
          "05-2023",
          "05-2023",
          "05-2023",
          "05-2023",
          "05-2023",
          "05-2023",
          "05-2023",
          "05-2023",
          "05-2023",
          "05-2023",
          "05-2023",
          "05-2023",
          "05-2023",
          "04-2023",
          "04-2023",
          "04-2023",
          "04-2023",
          "04-2023",
          "04-2023",
          "04-2023",
          "04-2023",
          "04-2023",
          "04-2023",
          "04-2023",
          "04-2023",
          "04-2023",
          "04-2023",
          "04-2023",
          "04-2023",
          "04-2023",
          "04-2023",
          "04-2023",
          "04-2023",
          "04-2023",
          "04-2023",
          "04-2023",
          "04-2023",
          "04-2023",
          "04-2023",
          "04-2023",
          "04-2023",
          "04-2023",
          "04-2023",
          "04-2023",
          "04-2023",
          "04-2023",
          "04-2023",
          "04-2023",
          "04-2023",
          "04-2023",
          "04-2023",
          "04-2023",
          "04-2023",
          "04-2023",
          "04-2023",
          "04-2023",
          "04-2023",
          "04-2023",
          "04-2023",
          "04-2023",
          "04-2023",
          "04-2023",
          "04-2023",
          "04-2023",
          "04-2023",
          "04-2023",
          "04-2023",
          "04-2023",
          "04-2023",
          "04-2023",
          "04-2023",
          "04-2023",
          "04-2023",
          "04-2023",
          "04-2023",
          "04-2023",
          "04-2023",
          "04-2023",
          "04-2023",
          "04-2023",
          "04-2023",
          "04-2023",
          "04-2023",
          "04-2023",
          "04-2023",
          "04-2023",
          "04-2023",
          "04-2023",
          "04-2023",
          "04-2023",
          "04-2023",
          "04-2023",
          "04-2023",
          "04-2023",
          "04-2023",
          "04-2023",
          "04-2023",
          "04-2023",
          "04-2023",
          "04-2023",
          "04-2023",
          "04-2023",
          "04-2023",
          "04-2023",
          "04-2023",
          "04-2023",
          "04-2023",
          "04-2023",
          "04-2023",
          "04-2023",
          "04-2023",
          "04-2023",
          "04-2023",
          "04-2023",
          "04-2023",
          "04-2023",
          "04-2023",
          "04-2023",
          "04-2023",
          "04-2023",
          "04-2023",
          "04-2023",
          "04-2023",
          "04-2023",
          "04-2023",
          "04-2023",
          "04-2023",
          "04-2023",
          "04-2023",
          "04-2023",
          "04-2023",
          "04-2023",
          "04-2023",
          "04-2023",
          "04-2023",
          "04-2023",
          "04-2023",
          "04-2023",
          "04-2023",
          "04-2023",
          "04-2023",
          "04-2023",
          "04-2023",
          "04-2023",
          "04-2023",
          "04-2023",
          "04-2023",
          "04-2023",
          "04-2023",
          "04-2023",
          "04-2023",
          "04-2023",
          "04-2023",
          "04-2023",
          "04-2023",
          "04-2023",
          "04-2023",
          "04-2023",
          "04-2023",
          "04-2023",
          "04-2023",
          "04-2023",
          "04-2023",
          "04-2023",
          "04-2023",
          "04-2023",
          "04-2023",
          "04-2023",
          "04-2023",
          "04-2023",
          "04-2023",
          "04-2023",
          "04-2023",
          "04-2023",
          "04-2023",
          "04-2023",
          "04-2023",
          "04-2023",
          "04-2023",
          "04-2023",
          "04-2023",
          "04-2023",
          "04-2023",
          "04-2023",
          "04-2023",
          "04-2023",
          "04-2023",
          "04-2023",
          "04-2023",
          "04-2023",
          "04-2023",
          "04-2023",
          "04-2023",
          "04-2023",
          "04-2023",
          "04-2023",
          "04-2023",
          "04-2023",
          "04-2023",
          "04-2023",
          "04-2023",
          "04-2023",
          "04-2023",
          "04-2023",
          "04-2023",
          "04-2023",
          "04-2023",
          "04-2023",
          "04-2023",
          "04-2023",
          "04-2023",
          "04-2023",
          "04-2023",
          "04-2023",
          "04-2023",
          "04-2023",
          "04-2023",
          "04-2023",
          "04-2023",
          "04-2023",
          "03-2023",
          "03-2023",
          "03-2023",
          "03-2023",
          "03-2023",
          "03-2023",
          "03-2023",
          "03-2023",
          "03-2023",
          "03-2023",
          "03-2023",
          "03-2023",
          "03-2023",
          "03-2023",
          "03-2023",
          "03-2023",
          "03-2023",
          "03-2023",
          "03-2023",
          "03-2023",
          "03-2023",
          "03-2023",
          "03-2023",
          "03-2023",
          "03-2023",
          "03-2023",
          "03-2023",
          "03-2023",
          "03-2023",
          "03-2023",
          "03-2023",
          "03-2023",
          "03-2023",
          "03-2023",
          "03-2023",
          "03-2023",
          "03-2023",
          "03-2023",
          "03-2023",
          "03-2023",
          "03-2023",
          "03-2023",
          "03-2023",
          "03-2023",
          "03-2023",
          "03-2023",
          "03-2023",
          "03-2023",
          "03-2023",
          "03-2023",
          "03-2023",
          "03-2023",
          "03-2023",
          "03-2023",
          "03-2023",
          "03-2023",
          "03-2023",
          "03-2023",
          "03-2023",
          "03-2023",
          "03-2023",
          "03-2023",
          "03-2023",
          "03-2023",
          "03-2023",
          "03-2023",
          "03-2023",
          "03-2023",
          "03-2023",
          "03-2023",
          "03-2023",
          "03-2023",
          "03-2023",
          "03-2023",
          "03-2023",
          "03-2023",
          "03-2023",
          "03-2023",
          "03-2023",
          "03-2023",
          "03-2023",
          "03-2023",
          "03-2023",
          "03-2023",
          "03-2023",
          "03-2023",
          "03-2023",
          "03-2023",
          "03-2023",
          "03-2023",
          "03-2023",
          "03-2023",
          "03-2023",
          "03-2023",
          "03-2023",
          "03-2023",
          "03-2023",
          "03-2023",
          "03-2023",
          "03-2023",
          "03-2023",
          "03-2023",
          "03-2023",
          "03-2023",
          "03-2023",
          "03-2023",
          "03-2023",
          "03-2023",
          "03-2023",
          "03-2023",
          "03-2023",
          "03-2023",
          "03-2023",
          "03-2023",
          "03-2023",
          "03-2023",
          "03-2023",
          "03-2023",
          "03-2023",
          "03-2023",
          "03-2023",
          "03-2023",
          "03-2023",
          "03-2023",
          "03-2023",
          "03-2023",
          "03-2023",
          "03-2023",
          "03-2023",
          "03-2023",
          "03-2023",
          "03-2023",
          "03-2023",
          "03-2023",
          "03-2023",
          "03-2023",
          "03-2023",
          "03-2023",
          "03-2023",
          "03-2023",
          "03-2023",
          "03-2023",
          "03-2023",
          "03-2023",
          "03-2023",
          "03-2023",
          "03-2023",
          "03-2023",
          "03-2023",
          "03-2023",
          "03-2023",
          "03-2023",
          "03-2023",
          "03-2023",
          "03-2023",
          "03-2023",
          "03-2023",
          "03-2023",
          "03-2023",
          "03-2023",
          "03-2023",
          "03-2023",
          "03-2023",
          "03-2023",
          "03-2023",
          "03-2023",
          "03-2023",
          "03-2023",
          "03-2023",
          "03-2023",
          "03-2023",
          "03-2023",
          "03-2023",
          "03-2023",
          "03-2023",
          "03-2023",
          "03-2023",
          "03-2023",
          "03-2023",
          "03-2023",
          "03-2023",
          "03-2023",
          "03-2023",
          "03-2023",
          "03-2023",
          "03-2023",
          "03-2023",
          "03-2023",
          "03-2023",
          "03-2023",
          "03-2023",
          "03-2023",
          "03-2023",
          "03-2023",
          "03-2023",
          "03-2023",
          "03-2023",
          "03-2023",
          "03-2023",
          "03-2023",
          "03-2023",
          "03-2023",
          "03-2023",
          "03-2023",
          "03-2023",
          "03-2023",
          "03-2023",
          "03-2023",
          "03-2023",
          "03-2023",
          "03-2023",
          "03-2023",
          "02-2023",
          "02-2023",
          "02-2023",
          "02-2023",
          "02-2023",
          "02-2023",
          "02-2023",
          "02-2023",
          "02-2023",
          "02-2023",
          "02-2023",
          "02-2023",
          "02-2023",
          "02-2023",
          "02-2023",
          "02-2023",
          "02-2023",
          "02-2023",
          "02-2023",
          "02-2023",
          "02-2023",
          "02-2023",
          "02-2023",
          "02-2023",
          "02-2023",
          "02-2023",
          "02-2023",
          "02-2023",
          "02-2023",
          "02-2023",
          "02-2023",
          "02-2023",
          "02-2023",
          "02-2023",
          "02-2023",
          "02-2023",
          "02-2023",
          "02-2023",
          "02-2023",
          "02-2023",
          "02-2023",
          "02-2023",
          "02-2023",
          "02-2023",
          "02-2023",
          "02-2023",
          "02-2023",
          "02-2023",
          "02-2023",
          "02-2023",
          "02-2023",
          "02-2023",
          "02-2023",
          "02-2023",
          "02-2023",
          "02-2023",
          "02-2023",
          "02-2023",
          "02-2023",
          "02-2023",
          "02-2023",
          "02-2023",
          "02-2023",
          "02-2023",
          "02-2023",
          "02-2023",
          "02-2023",
          "02-2023",
          "02-2023",
          "02-2023",
          "02-2023",
          "02-2023",
          "02-2023",
          "02-2023",
          "02-2023",
          "02-2023",
          "02-2023",
          "02-2023",
          "02-2023",
          "02-2023",
          "02-2023",
          "02-2023",
          "02-2023",
          "02-2023",
          "02-2023",
          "02-2023",
          "02-2023",
          "02-2023",
          "02-2023",
          "02-2023",
          "02-2023",
          "02-2023",
          "02-2023",
          "02-2023",
          "02-2023",
          "02-2023",
          "02-2023",
          "02-2023",
          "02-2023",
          "02-2023",
          "02-2023",
          "02-2023",
          "02-2023",
          "02-2023",
          "02-2023",
          "02-2023",
          "02-2023",
          "02-2023",
          "02-2023",
          "02-2023",
          "02-2023",
          "02-2023",
          "02-2023",
          "02-2023",
          "02-2023",
          "02-2023",
          "02-2023",
          "02-2023",
          "02-2023",
          "02-2023",
          "02-2023",
          "02-2023",
          "02-2023",
          "02-2023",
          "02-2023",
          "02-2023",
          "02-2023",
          "02-2023",
          "02-2023",
          "02-2023",
          "02-2023",
          "02-2023",
          "02-2023",
          "02-2023",
          "02-2023",
          "02-2023",
          "02-2023",
          "02-2023",
          "02-2023",
          "02-2023",
          "02-2023",
          "02-2023",
          "02-2023",
          "02-2023",
          "02-2023",
          "02-2023",
          "02-2023",
          "02-2023",
          "02-2023",
          "02-2023",
          "02-2023",
          "02-2023",
          "02-2023",
          "02-2023",
          "02-2023",
          "02-2023",
          "02-2023",
          "02-2023",
          "02-2023",
          "02-2023",
          "02-2023",
          "02-2023",
          "02-2023",
          "02-2023",
          "02-2023",
          "02-2023",
          "02-2023",
          "02-2023",
          "02-2023",
          "02-2023",
          "02-2023",
          "02-2023",
          "02-2023",
          "02-2023",
          "02-2023",
          "02-2023",
          "02-2023",
          "02-2023",
          "02-2023",
          "02-2023",
          "02-2023",
          "02-2023",
          "02-2023",
          "02-2023",
          "02-2023",
          "02-2023",
          "02-2023",
          "02-2023",
          "02-2023",
          "02-2023",
          "02-2023",
          "02-2023",
          "02-2023",
          "02-2023",
          "02-2023",
          "02-2023",
          "02-2023",
          "02-2023",
          "02-2023",
          "02-2023",
          "02-2023",
          "02-2023",
          "02-2023",
          "02-2023",
          "02-2023",
          "02-2023",
          "02-2023",
          "02-2023",
          "02-2023",
          "02-2023",
          "02-2023",
          "02-2023",
          "02-2023",
          "02-2023",
          "02-2023",
          "02-2023",
          "01-2023",
          "01-2023",
          "01-2023",
          "01-2023",
          "01-2023",
          "01-2023",
          "01-2023",
          "01-2023",
          "01-2023",
          "01-2023",
          "01-2023",
          "01-2023",
          "01-2023",
          "01-2023",
          "01-2023",
          "01-2023",
          "01-2023",
          "01-2023",
          "01-2023",
          "01-2023",
          "01-2023",
          "01-2023",
          "01-2023",
          "01-2023",
          "01-2023",
          "01-2023",
          "01-2023",
          "01-2023",
          "01-2023",
          "01-2023",
          "01-2023",
          "01-2023",
          "01-2023",
          "01-2023",
          "01-2023",
          "01-2023",
          "01-2023",
          "01-2023",
          "01-2023",
          "01-2023",
          "01-2023",
          "01-2023",
          "01-2023",
          "01-2023",
          "01-2023",
          "01-2023",
          "01-2023",
          "01-2023",
          "01-2023",
          "01-2023",
          "01-2023",
          "01-2023",
          "01-2023",
          "01-2023",
          "01-2023",
          "01-2023",
          "01-2023",
          "01-2023",
          "01-2023",
          "01-2023",
          "01-2023",
          "01-2023",
          "01-2023",
          "01-2023",
          "01-2023",
          "01-2023",
          "01-2023",
          "01-2023",
          "01-2023",
          "01-2023",
          "01-2023",
          "01-2023",
          "01-2023",
          "01-2023",
          "01-2023",
          "01-2023",
          "01-2023",
          "01-2023",
          "01-2023",
          "01-2023",
          "01-2023",
          "01-2023",
          "01-2023",
          "01-2023",
          "01-2023",
          "01-2023",
          "01-2023",
          "01-2023",
          "01-2023",
          "01-2023",
          "01-2023",
          "01-2023",
          "01-2023",
          "01-2023",
          "01-2023",
          "01-2023",
          "01-2023",
          "01-2023",
          "01-2023",
          "01-2023",
          "01-2023",
          "01-2023",
          "01-2023",
          "01-2023",
          "01-2023",
          "01-2023",
          "01-2023",
          "01-2023",
          "01-2023",
          "01-2023",
          "01-2023",
          "01-2023",
          "01-2023",
          "01-2023",
          "01-2023",
          "01-2023",
          "01-2023",
          "01-2023",
          "01-2023",
          "01-2023",
          "01-2023",
          "01-2023",
          "01-2023",
          "01-2023",
          "01-2023",
          "01-2023",
          "01-2023",
          "01-2023",
          "01-2023",
          "01-2023",
          "01-2023",
          "01-2023",
          "01-2023",
          "01-2023",
          "01-2023",
          "01-2023",
          "01-2023",
          "01-2023",
          "01-2023",
          "01-2023",
          "01-2023",
          "01-2023",
          "01-2023",
          "01-2023",
          "01-2023",
          "01-2023",
          "01-2023",
          "01-2023",
          "01-2023",
          "01-2023",
          "01-2023",
          "01-2023",
          "01-2023",
          "01-2023",
          "01-2023",
          "01-2023",
          "01-2023",
          "01-2023",
          "01-2023",
          "01-2023",
          "01-2023",
          "01-2023",
          "01-2023",
          "01-2023",
          "01-2023",
          "01-2023",
          "01-2023",
          "01-2023",
          "01-2023",
          "01-2023",
          "01-2023",
          "01-2023",
          "01-2023",
          "01-2023",
          "01-2023",
          "01-2023",
          "01-2023",
          "01-2023",
          "01-2023",
          "01-2023",
          "01-2023",
          "01-2023",
          "01-2023",
          "01-2023",
          "01-2023",
          "01-2023",
          "01-2023",
          "01-2023",
          "01-2023",
          "01-2023",
          "01-2023",
          "01-2023",
          "01-2023",
          "01-2023",
          "01-2023",
          "01-2023",
          "01-2023",
          "01-2023",
          "01-2023",
          "01-2023",
          "01-2023",
          "01-2023",
          "01-2023",
          "01-2023",
          "01-2023",
          "01-2023",
          "01-2023",
          "01-2023",
          "01-2023",
          "01-2023",
          "01-2023",
          "01-2023",
          "01-2023",
          "01-2023",
          "01-2023",
          "01-2023",
          "01-2023",
          "12-2022",
          "12-2022",
          "12-2022",
          "12-2022",
          "12-2022",
          "12-2022",
          "12-2022",
          "12-2022",
          "12-2022",
          "12-2022",
          "12-2022",
          "12-2022",
          "12-2022",
          "12-2022",
          "12-2022",
          "12-2022",
          "12-2022",
          "12-2022",
          "12-2022",
          "12-2022",
          "12-2022",
          "12-2022",
          "12-2022",
          "12-2022",
          "12-2022",
          "12-2022",
          "12-2022",
          "12-2022",
          "12-2022",
          "12-2022",
          "12-2022",
          "12-2022",
          "12-2022",
          "12-2022",
          "12-2022",
          "12-2022",
          "12-2022",
          "12-2022",
          "12-2022",
          "12-2022",
          "12-2022",
          "12-2022",
          "12-2022",
          "12-2022",
          "12-2022",
          "12-2022",
          "12-2022",
          "12-2022",
          "12-2022",
          "12-2022",
          "12-2022",
          "12-2022",
          "12-2022",
          "12-2022",
          "12-2022",
          "12-2022",
          "12-2022",
          "12-2022",
          "12-2022",
          "12-2022",
          "12-2022",
          "12-2022",
          "12-2022",
          "12-2022",
          "12-2022",
          "12-2022",
          "12-2022",
          "12-2022",
          "12-2022",
          "12-2022",
          "12-2022",
          "12-2022",
          "12-2022",
          "12-2022",
          "12-2022",
          "12-2022",
          "12-2022",
          "12-2022",
          "12-2022",
          "12-2022",
          "12-2022",
          "12-2022",
          "12-2022",
          "12-2022",
          "12-2022",
          "12-2022",
          "12-2022",
          "12-2022",
          "12-2022",
          "12-2022",
          "12-2022",
          "12-2022",
          "12-2022",
          "12-2022",
          "12-2022",
          "12-2022",
          "12-2022",
          "12-2022",
          "12-2022",
          "12-2022",
          "12-2022",
          "12-2022",
          "12-2022",
          "12-2022",
          "12-2022",
          "12-2022",
          "12-2022",
          "12-2022",
          "12-2022",
          "12-2022",
          "12-2022",
          "12-2022",
          "12-2022",
          "12-2022",
          "12-2022",
          "12-2022",
          "12-2022",
          "12-2022",
          "12-2022",
          "12-2022",
          "12-2022",
          "12-2022",
          "12-2022",
          "12-2022",
          "12-2022",
          "12-2022",
          "12-2022",
          "12-2022",
          "12-2022",
          "12-2022",
          "12-2022",
          "12-2022",
          "12-2022",
          "12-2022",
          "12-2022",
          "12-2022",
          "12-2022",
          "12-2022",
          "12-2022",
          "12-2022",
          "12-2022",
          "12-2022",
          "12-2022",
          "12-2022",
          "12-2022",
          "12-2022",
          "12-2022",
          "12-2022",
          "12-2022",
          "12-2022",
          "12-2022",
          "12-2022",
          "12-2022",
          "12-2022",
          "12-2022",
          "12-2022",
          "12-2022",
          "12-2022",
          "12-2022",
          "12-2022",
          "12-2022",
          "12-2022",
          "12-2022",
          "12-2022",
          "12-2022",
          "12-2022",
          "12-2022",
          "12-2022",
          "12-2022",
          "12-2022",
          "12-2022",
          "12-2022",
          "12-2022",
          "12-2022",
          "12-2022",
          "12-2022",
          "12-2022",
          "12-2022",
          "12-2022",
          "12-2022",
          "12-2022",
          "12-2022",
          "12-2022",
          "12-2022",
          "12-2022",
          "12-2022",
          "12-2022",
          "12-2022",
          "12-2022",
          "12-2022",
          "12-2022",
          "12-2022",
          "12-2022",
          "12-2022",
          "12-2022",
          "12-2022",
          "11-2022",
          "11-2022",
          "11-2022",
          "11-2022",
          "11-2022",
          "11-2022",
          "11-2022",
          "11-2022",
          "11-2022",
          "11-2022",
          "11-2022",
          "11-2022",
          "11-2022",
          "11-2022",
          "11-2022",
          "11-2022",
          "11-2022",
          "11-2022",
          "11-2022",
          "11-2022",
          "11-2022",
          "11-2022",
          "11-2022",
          "11-2022",
          "11-2022",
          "11-2022",
          "11-2022",
          "11-2022",
          "11-2022",
          "11-2022",
          "11-2022",
          "11-2022",
          "11-2022",
          "11-2022",
          "11-2022",
          "11-2022",
          "11-2022",
          "11-2022",
          "11-2022",
          "11-2022",
          "11-2022",
          "11-2022",
          "11-2022",
          "11-2022",
          "11-2022",
          "11-2022",
          "11-2022",
          "11-2022",
          "11-2022",
          "11-2022",
          "11-2022",
          "11-2022",
          "11-2022",
          "11-2022",
          "11-2022",
          "11-2022",
          "11-2022",
          "11-2022",
          "11-2022",
          "11-2022",
          "11-2022",
          "11-2022",
          "11-2022",
          "11-2022",
          "11-2022",
          "11-2022",
          "11-2022",
          "11-2022",
          "11-2022",
          "11-2022",
          "11-2022",
          "11-2022",
          "11-2022",
          "11-2022",
          "11-2022",
          "11-2022",
          "11-2022",
          "11-2022",
          "11-2022",
          "11-2022",
          "11-2022",
          "11-2022",
          "11-2022",
          "11-2022",
          "11-2022",
          "11-2022",
          "11-2022",
          "11-2022",
          "11-2022",
          "11-2022",
          "11-2022",
          "11-2022",
          "11-2022",
          "11-2022",
          "11-2022",
          "11-2022",
          "11-2022",
          "11-2022",
          "11-2022",
          "11-2022",
          "11-2022",
          "11-2022",
          "11-2022",
          "11-2022",
          "11-2022",
          "11-2022",
          "11-2022",
          "11-2022",
          "11-2022",
          "11-2022",
          "11-2022",
          "11-2022",
          "11-2022",
          "11-2022",
          "11-2022",
          "11-2022",
          "11-2022",
          "11-2022",
          "11-2022",
          "11-2022",
          "11-2022",
          "11-2022",
          "11-2022",
          "11-2022",
          "11-2022",
          "11-2022",
          "11-2022",
          "11-2022",
          "11-2022",
          "11-2022",
          "11-2022",
          "11-2022",
          "11-2022",
          "11-2022",
          "11-2022",
          "11-2022",
          "11-2022",
          "11-2022",
          "11-2022",
          "11-2022",
          "11-2022",
          "11-2022",
          "11-2022",
          "10-2022",
          "10-2022",
          "10-2022",
          "10-2022",
          "10-2022",
          "10-2022",
          "10-2022",
          "10-2022",
          "10-2022",
          "10-2022",
          "10-2022",
          "10-2022",
          "10-2022",
          "10-2022",
          "10-2022",
          "10-2022",
          "10-2022",
          "10-2022",
          "10-2022",
          "10-2022",
          "10-2022",
          "10-2022",
          "10-2022",
          "10-2022",
          "10-2022",
          "10-2022",
          "10-2022",
          "10-2022",
          "10-2022",
          "10-2022",
          "10-2022",
          "10-2022",
          "10-2022",
          "10-2022",
          "10-2022",
          "10-2022",
          "10-2022",
          "10-2022",
          "10-2022",
          "10-2022",
          "10-2022",
          "10-2022",
          "10-2022",
          "10-2022",
          "10-2022",
          "10-2022",
          "10-2022",
          "10-2022",
          "10-2022",
          "10-2022",
          "10-2022",
          "10-2022",
          "10-2022",
          "10-2022",
          "10-2022",
          "10-2022",
          "10-2022",
          "10-2022",
          "10-2022",
          "10-2022",
          "10-2022",
          "10-2022",
          "10-2022",
          "10-2022",
          "10-2022",
          "10-2022",
          "10-2022",
          "10-2022",
          "10-2022",
          "10-2022",
          "10-2022",
          "10-2022",
          "10-2022",
          "10-2022",
          "10-2022",
          "10-2022",
          "10-2022",
          "10-2022",
          "10-2022",
          "10-2022",
          "10-2022",
          "10-2022",
          "10-2022",
          "10-2022",
          "10-2022",
          "10-2022",
          "10-2022",
          "10-2022",
          "10-2022",
          "10-2022",
          "10-2022",
          "10-2022",
          "10-2022",
          "10-2022",
          "10-2022",
          "10-2022",
          "10-2022",
          "10-2022",
          "10-2022",
          "10-2022",
          "10-2022",
          "10-2022",
          "10-2022",
          "10-2022",
          "10-2022",
          "10-2022",
          "10-2022",
          "10-2022",
          "10-2022",
          "10-2022",
          "10-2022",
          "10-2022",
          "10-2022",
          "10-2022",
          "10-2022",
          "10-2022",
          "10-2022",
          "10-2022",
          "10-2022",
          "10-2022",
          "10-2022",
          "10-2022",
          "10-2022",
          "10-2022",
          "10-2022",
          "10-2022",
          "10-2022",
          "10-2022",
          "10-2022",
          "10-2022",
          "10-2022",
          "10-2022",
          "10-2022",
          "10-2022",
          "10-2022",
          "10-2022",
          "10-2022",
          "10-2022",
          "10-2022",
          "10-2022",
          "10-2022",
          "10-2022",
          "10-2022",
          "10-2022",
          "10-2022",
          "10-2022",
          "10-2022",
          "10-2022",
          "10-2022",
          "10-2022",
          "10-2022",
          "10-2022",
          "10-2022",
          "10-2022",
          "10-2022",
          "10-2022",
          "10-2022",
          "10-2022",
          "10-2022",
          "10-2022",
          "10-2022",
          "10-2022",
          "10-2022",
          "10-2022",
          "10-2022",
          "10-2022",
          "10-2022",
          "10-2022",
          "10-2022",
          "10-2022",
          "10-2022",
          "10-2022",
          "10-2022",
          "10-2022",
          "10-2022",
          "10-2022",
          "10-2022",
          "10-2022",
          "10-2022",
          "10-2022",
          "10-2022",
          "10-2022",
          "10-2022",
          "10-2022",
          "10-2022",
          "10-2022",
          "10-2022",
          "10-2022",
          "10-2022",
          "10-2022",
          "10-2022",
          "10-2022",
          "10-2022",
          "09-2022",
          "09-2022",
          "09-2022",
          "09-2022",
          "09-2022",
          "09-2022",
          "09-2022",
          "09-2022",
          "09-2022",
          "09-2022",
          "09-2022",
          "09-2022",
          "09-2022",
          "09-2022",
          "09-2022",
          "09-2022",
          "09-2022",
          "09-2022",
          "09-2022",
          "09-2022",
          "09-2022",
          "09-2022",
          "09-2022",
          "09-2022",
          "09-2022",
          "09-2022",
          "09-2022",
          "09-2022",
          "09-2022",
          "09-2022",
          "09-2022",
          "09-2022",
          "09-2022",
          "09-2022",
          "09-2022",
          "09-2022",
          "09-2022",
          "09-2022",
          "09-2022",
          "09-2022",
          "09-2022",
          "09-2022",
          "09-2022",
          "09-2022",
          "09-2022",
          "09-2022",
          "09-2022",
          "09-2022",
          "09-2022",
          "09-2022",
          "09-2022",
          "09-2022",
          "09-2022",
          "09-2022",
          "09-2022",
          "09-2022",
          "09-2022",
          "09-2022",
          "09-2022",
          "09-2022",
          "09-2022",
          "09-2022",
          "09-2022",
          "09-2022",
          "09-2022",
          "09-2022",
          "09-2022",
          "09-2022",
          "09-2022",
          "09-2022",
          "09-2022",
          "09-2022",
          "09-2022",
          "09-2022",
          "09-2022",
          "09-2022",
          "09-2022",
          "09-2022",
          "09-2022",
          "09-2022",
          "09-2022",
          "09-2022",
          "09-2022",
          "09-2022",
          "09-2022",
          "09-2022",
          "09-2022",
          "09-2022",
          "09-2022",
          "09-2022",
          "09-2022",
          "09-2022",
          "09-2022",
          "09-2022",
          "09-2022",
          "09-2022",
          "09-2022",
          "09-2022",
          "09-2022",
          "09-2022",
          "09-2022",
          "09-2022",
          "09-2022",
          "09-2022",
          "09-2022",
          "09-2022",
          "09-2022",
          "09-2022",
          "09-2022",
          "09-2022",
          "09-2022",
          "09-2022",
          "09-2022",
          "09-2022",
          "09-2022",
          "09-2022",
          "09-2022",
          "09-2022",
          "09-2022",
          "09-2022",
          "09-2022",
          "09-2022",
          "09-2022",
          "09-2022",
          "09-2022",
          "09-2022",
          "09-2022",
          "09-2022",
          "09-2022",
          "09-2022",
          "09-2022",
          "09-2022",
          "09-2022",
          "09-2022",
          "09-2022",
          "09-2022",
          "09-2022",
          "09-2022",
          "09-2022",
          "09-2022",
          "09-2022",
          "09-2022",
          "09-2022",
          "09-2022",
          "09-2022",
          "09-2022",
          "09-2022",
          "09-2022",
          "09-2022",
          "09-2022",
          "09-2022",
          "09-2022",
          "09-2022",
          "09-2022",
          "09-2022",
          "09-2022",
          "09-2022",
          "09-2022",
          "09-2022",
          "09-2022",
          "09-2022",
          "09-2022",
          "09-2022",
          "09-2022",
          "09-2022",
          "09-2022",
          "09-2022",
          "09-2022",
          "09-2022",
          "09-2022",
          "09-2022",
          "09-2022",
          "09-2022",
          "09-2022",
          "09-2022",
          "09-2022",
          "09-2022",
          "09-2022",
          "09-2022",
          "09-2022",
          "09-2022",
          "09-2022",
          "09-2022",
          "09-2022",
          "09-2022",
          "09-2022",
          "09-2022",
          "09-2022",
          "09-2022",
          "08-2022",
          "08-2022",
          "08-2022",
          "08-2022",
          "08-2022",
          "08-2022",
          "08-2022",
          "08-2022",
          "08-2022",
          "08-2022",
          "08-2022",
          "08-2022",
          "08-2022",
          "08-2022",
          "08-2022",
          "08-2022",
          "08-2022",
          "08-2022",
          "08-2022",
          "08-2022",
          "08-2022",
          "08-2022",
          "08-2022",
          "08-2022",
          "08-2022",
          "08-2022",
          "08-2022",
          "08-2022",
          "08-2022",
          "08-2022",
          "08-2022",
          "08-2022",
          "08-2022",
          "08-2022",
          "08-2022",
          "08-2022",
          "08-2022",
          "08-2022",
          "08-2022",
          "08-2022",
          "08-2022",
          "08-2022",
          "08-2022",
          "08-2022",
          "08-2022",
          "08-2022",
          "08-2022",
          "08-2022",
          "08-2022",
          "08-2022",
          "08-2022",
          "08-2022",
          "08-2022",
          "08-2022",
          "08-2022",
          "08-2022",
          "08-2022",
          "08-2022",
          "08-2022",
          "08-2022",
          "08-2022",
          "08-2022",
          "08-2022",
          "08-2022",
          "08-2022",
          "08-2022",
          "08-2022",
          "08-2022",
          "08-2022",
          "08-2022",
          "08-2022",
          "08-2022",
          "08-2022",
          "08-2022",
          "08-2022",
          "08-2022",
          "08-2022",
          "08-2022",
          "08-2022",
          "08-2022",
          "08-2022",
          "08-2022",
          "08-2022",
          "08-2022",
          "08-2022",
          "08-2022",
          "08-2022",
          "08-2022",
          "08-2022",
          "08-2022",
          "08-2022",
          "08-2022",
          "08-2022",
          "08-2022",
          "08-2022",
          "08-2022",
          "08-2022",
          "08-2022",
          "08-2022",
          "08-2022",
          "08-2022",
          "08-2022",
          "08-2022",
          "08-2022",
          "08-2022",
          "08-2022",
          "08-2022",
          "08-2022",
          "08-2022",
          "08-2022",
          "08-2022",
          "08-2022",
          "08-2022",
          "08-2022",
          "08-2022",
          "08-2022",
          "08-2022",
          "08-2022",
          "08-2022",
          "08-2022",
          "08-2022",
          "08-2022",
          "08-2022",
          "08-2022",
          "08-2022",
          "08-2022",
          "08-2022",
          "08-2022",
          "08-2022",
          "08-2022",
          "08-2022",
          "08-2022",
          "08-2022",
          "08-2022",
          "08-2022",
          "08-2022",
          "08-2022",
          "08-2022",
          "08-2022",
          "08-2022",
          "08-2022",
          "08-2022",
          "08-2022",
          "08-2022",
          "08-2022",
          "08-2022",
          "08-2022",
          "08-2022",
          "08-2022",
          "08-2022",
          "08-2022",
          "08-2022",
          "08-2022",
          "08-2022",
          "08-2022",
          "08-2022",
          "08-2022",
          "08-2022",
          "08-2022",
          "08-2022",
          "08-2022",
          "08-2022",
          "08-2022",
          "08-2022",
          "08-2022",
          "08-2022",
          "08-2022",
          "08-2022",
          "08-2022",
          "08-2022",
          "08-2022",
          "08-2022",
          "08-2022",
          "08-2022",
          "08-2022",
          "08-2022",
          "08-2022",
          "08-2022",
          "08-2022",
          "08-2022",
          "08-2022",
          "08-2022",
          "08-2022",
          "08-2022",
          "08-2022",
          "08-2022",
          "08-2022",
          "08-2022",
          "08-2022",
          "08-2022",
          "08-2022",
          "08-2022",
          "08-2022",
          "08-2022",
          "08-2022",
          "08-2022",
          "08-2022",
          "08-2022",
          "08-2022",
          "08-2022",
          "08-2022",
          "08-2022",
          "08-2022",
          "08-2022",
          "08-2022",
          "08-2022",
          "08-2022",
          "08-2022",
          "08-2022",
          "08-2022",
          "08-2022",
          "08-2022",
          "08-2022",
          "08-2022",
          "08-2022",
          "08-2022",
          "08-2022",
          "08-2022",
          "08-2022",
          "08-2022",
          "08-2022",
          "08-2022",
          "08-2022",
          "08-2022",
          "08-2022",
          "08-2022",
          "08-2022",
          "08-2022",
          "08-2022",
          "08-2022",
          "08-2022",
          "08-2022",
          "08-2022",
          "08-2022",
          "08-2022",
          "08-2022",
          "08-2022",
          "08-2022",
          "08-2022",
          "08-2022",
          "08-2022",
          "08-2022",
          "07-2022",
          "07-2022",
          "07-2022",
          "07-2022",
          "07-2022",
          "07-2022",
          "07-2022",
          "07-2022",
          "07-2022",
          "07-2022",
          "07-2022",
          "07-2022",
          "07-2022",
          "07-2022",
          "07-2022",
          "07-2022",
          "07-2022",
          "07-2022",
          "07-2022",
          "07-2022",
          "07-2022",
          "07-2022",
          "07-2022",
          "07-2022",
          "07-2022",
          "07-2022",
          "07-2022",
          "07-2022",
          "07-2022",
          "07-2022",
          "07-2022",
          "07-2022",
          "07-2022",
          "07-2022",
          "07-2022",
          "07-2022",
          "07-2022",
          "07-2022",
          "07-2022",
          "07-2022",
          "07-2022",
          "07-2022",
          "07-2022",
          "07-2022",
          "07-2022",
          "07-2022",
          "07-2022",
          "07-2022",
          "07-2022",
          "07-2022",
          "07-2022",
          "07-2022",
          "07-2022",
          "07-2022",
          "07-2022",
          "07-2022",
          "07-2022",
          "07-2022",
          "07-2022",
          "07-2022",
          "07-2022",
          "07-2022",
          "07-2022",
          "07-2022",
          "07-2022",
          "07-2022",
          "07-2022",
          "07-2022",
          "07-2022",
          "07-2022",
          "07-2022",
          "07-2022",
          "07-2022",
          "07-2022",
          "07-2022",
          "07-2022",
          "07-2022",
          "07-2022",
          "07-2022",
          "07-2022",
          "07-2022",
          "07-2022",
          "07-2022",
          "07-2022",
          "07-2022",
          "07-2022",
          "07-2022",
          "07-2022",
          "07-2022",
          "07-2022",
          "07-2022",
          "07-2022",
          "07-2022",
          "07-2022",
          "07-2022",
          "07-2022",
          "07-2022",
          "07-2022",
          "07-2022",
          "07-2022",
          "07-2022",
          "07-2022",
          "07-2022",
          "07-2022",
          "07-2022",
          "07-2022",
          "07-2022",
          "07-2022",
          "07-2022",
          "07-2022",
          "07-2022",
          "07-2022",
          "07-2022",
          "07-2022",
          "07-2022",
          "07-2022",
          "07-2022",
          "07-2022",
          "07-2022",
          "07-2022",
          "07-2022",
          "07-2022",
          "07-2022",
          "07-2022",
          "07-2022",
          "07-2022",
          "07-2022",
          "07-2022",
          "07-2022",
          "07-2022",
          "07-2022",
          "07-2022",
          "07-2022",
          "07-2022",
          "07-2022",
          "07-2022",
          "07-2022",
          "07-2022",
          "07-2022",
          "07-2022",
          "07-2022",
          "07-2022",
          "07-2022",
          "07-2022",
          "07-2022",
          "07-2022",
          "07-2022",
          "07-2022",
          "07-2022",
          "07-2022",
          "07-2022",
          "07-2022",
          "07-2022",
          "07-2022",
          "07-2022",
          "07-2022",
          "07-2022",
          "07-2022",
          "07-2022",
          "07-2022",
          "07-2022",
          "07-2022",
          "07-2022",
          "07-2022",
          "07-2022",
          "07-2022",
          "07-2022",
          "07-2022",
          "07-2022",
          "07-2022",
          "07-2022",
          "07-2022",
          "07-2022",
          "07-2022",
          "07-2022",
          "07-2022",
          "07-2022",
          "07-2022",
          "07-2022",
          "07-2022",
          "07-2022",
          "07-2022",
          "07-2022",
          "07-2022",
          "07-2022",
          "07-2022",
          "07-2022",
          "07-2022",
          "07-2022",
          "07-2022",
          "07-2022",
          "07-2022",
          "07-2022",
          "07-2022",
          "07-2022",
          "07-2022",
          "07-2022",
          "07-2022",
          "07-2022",
          "07-2022",
          "07-2022",
          "07-2022",
          "07-2022",
          "07-2022",
          "07-2022",
          "07-2022",
          "07-2022",
          "07-2022",
          "07-2022",
          "07-2022",
          "07-2022",
          "07-2022",
          "07-2022",
          "07-2022",
          "07-2022",
          "07-2022",
          "07-2022",
          "06-2022",
          "06-2022",
          "06-2022",
          "06-2022",
          "06-2022",
          "06-2022",
          "06-2022",
          "06-2022",
          "06-2022",
          "06-2022",
          "06-2022",
          "06-2022",
          "06-2022",
          "06-2022",
          "06-2022",
          "06-2022",
          "06-2022",
          "06-2022",
          "06-2022",
          "06-2022",
          "06-2022",
          "06-2022",
          "06-2022",
          "06-2022",
          "06-2022",
          "06-2022",
          "06-2022",
          "06-2022",
          "06-2022",
          "06-2022",
          "06-2022",
          "06-2022",
          "06-2022",
          "06-2022",
          "06-2022",
          "06-2022",
          "06-2022",
          "06-2022",
          "06-2022",
          "06-2022",
          "06-2022",
          "06-2022",
          "06-2022",
          "06-2022",
          "06-2022",
          "06-2022",
          "06-2022",
          "06-2022",
          "06-2022",
          "06-2022",
          "06-2022",
          "06-2022",
          "06-2022",
          "06-2022",
          "06-2022",
          "06-2022",
          "06-2022",
          "06-2022",
          "06-2022",
          "06-2022",
          "06-2022",
          "06-2022",
          "06-2022",
          "06-2022",
          "06-2022",
          "06-2022",
          "06-2022",
          "06-2022",
          "06-2022",
          "06-2022",
          "06-2022",
          "06-2022",
          "06-2022",
          "06-2022",
          "06-2022",
          "06-2022",
          "06-2022",
          "06-2022",
          "06-2022",
          "06-2022",
          "06-2022",
          "06-2022",
          "06-2022",
          "06-2022",
          "06-2022",
          "06-2022",
          "06-2022",
          "06-2022",
          "06-2022",
          "06-2022",
          "06-2022",
          "06-2022",
          "06-2022",
          "06-2022",
          "06-2022",
          "06-2022",
          "06-2022",
          "06-2022",
          "06-2022",
          "06-2022",
          "06-2022",
          "06-2022",
          "06-2022",
          "06-2022",
          "06-2022",
          "06-2022",
          "06-2022",
          "06-2022",
          "06-2022",
          "06-2022",
          "06-2022",
          "06-2022",
          "06-2022",
          "06-2022",
          "06-2022",
          "06-2022",
          "06-2022",
          "06-2022",
          "06-2022",
          "06-2022",
          "06-2022",
          "06-2022",
          "06-2022",
          "06-2022",
          "06-2022",
          "06-2022",
          "06-2022",
          "06-2022",
          "06-2022",
          "06-2022",
          "06-2022",
          "06-2022",
          "06-2022",
          "06-2022",
          "06-2022",
          "06-2022",
          "06-2022",
          "06-2022",
          "06-2022",
          "06-2022",
          "06-2022",
          "06-2022",
          "06-2022",
          "06-2022",
          "06-2022",
          "06-2022",
          "06-2022",
          "06-2022",
          "06-2022",
          "06-2022",
          "06-2022",
          "06-2022",
          "06-2022",
          "06-2022",
          "06-2022",
          "06-2022",
          "06-2022",
          "06-2022",
          "06-2022",
          "06-2022",
          "06-2022",
          "06-2022",
          "06-2022",
          "06-2022",
          "06-2022",
          "06-2022",
          "06-2022",
          "06-2022",
          "06-2022",
          "06-2022",
          "06-2022",
          "06-2022",
          "06-2022",
          "06-2022",
          "06-2022",
          "06-2022",
          "06-2022",
          "06-2022",
          "06-2022",
          "06-2022",
          "06-2022",
          "06-2022",
          "06-2022",
          "06-2022",
          "06-2022",
          "06-2022",
          "06-2022",
          "06-2022",
          "06-2022",
          "06-2022",
          "06-2022",
          "06-2022",
          "06-2022",
          "06-2022",
          "06-2022",
          "06-2022",
          "06-2022",
          "06-2022",
          "06-2022",
          "06-2022",
          "05-2022",
          "05-2022",
          "05-2022",
          "05-2022",
          "05-2022",
          "05-2022",
          "05-2022",
          "05-2022",
          "05-2022",
          "05-2022",
          "05-2022",
          "05-2022",
          "05-2022",
          "05-2022",
          "05-2022",
          "05-2022",
          "05-2022",
          "05-2022",
          "05-2022",
          "05-2022",
          "05-2022",
          "05-2022",
          "05-2022",
          "05-2022",
          "05-2022",
          "05-2022",
          "05-2022",
          "05-2022",
          "05-2022",
          "05-2022",
          "05-2022",
          "05-2022",
          "05-2022",
          "05-2022",
          "05-2022",
          "05-2022",
          "05-2022",
          "05-2022",
          "05-2022",
          "05-2022",
          "05-2022",
          "05-2022",
          "05-2022",
          "05-2022",
          "05-2022",
          "05-2022",
          "05-2022",
          "05-2022",
          "05-2022",
          "05-2022",
          "05-2022",
          "05-2022",
          "05-2022",
          "05-2022",
          "05-2022",
          "05-2022",
          "05-2022",
          "05-2022",
          "05-2022",
          "05-2022",
          "05-2022",
          "05-2022",
          "05-2022",
          "05-2022",
          "05-2022",
          "05-2022",
          "05-2022",
          "05-2022",
          "05-2022",
          "05-2022",
          "05-2022",
          "05-2022",
          "05-2022",
          "05-2022",
          "05-2022",
          "05-2022",
          "05-2022",
          "05-2022",
          "05-2022",
          "05-2022",
          "05-2022",
          "05-2022",
          "05-2022",
          "05-2022",
          "05-2022",
          "05-2022",
          "05-2022",
          "05-2022",
          "05-2022",
          "05-2022",
          "05-2022",
          "05-2022",
          "05-2022",
          "05-2022",
          "05-2022",
          "05-2022",
          "05-2022",
          "05-2022",
          "05-2022",
          "05-2022",
          "05-2022",
          "05-2022",
          "05-2022",
          "05-2022",
          "05-2022",
          "05-2022",
          "05-2022",
          "05-2022",
          "05-2022",
          "05-2022",
          "05-2022",
          "05-2022",
          "05-2022",
          "05-2022",
          "05-2022",
          "05-2022",
          "04-2022",
          "04-2022",
          "04-2022",
          "04-2022",
          "04-2022",
          "04-2022",
          "04-2022",
          "04-2022",
          "04-2022",
          "04-2022",
          "04-2022",
          "04-2022",
          "04-2022",
          "04-2022",
          "04-2022",
          "04-2022",
          "04-2022",
          "04-2022",
          "04-2022",
          "04-2022",
          "04-2022",
          "04-2022",
          "04-2022",
          "04-2022",
          "04-2022",
          "04-2022",
          "04-2022",
          "04-2022",
          "04-2022",
          "04-2022",
          "04-2022",
          "04-2022",
          "04-2022",
          "04-2022",
          "04-2022",
          "04-2022",
          "04-2022",
          "04-2022",
          "04-2022",
          "04-2022",
          "04-2022",
          "04-2022",
          "04-2022",
          "04-2022",
          "04-2022",
          "04-2022",
          "04-2022",
          "04-2022",
          "04-2022",
          "04-2022",
          "04-2022",
          "04-2022",
          "04-2022",
          "04-2022",
          "04-2022",
          "04-2022",
          "04-2022",
          "04-2022",
          "04-2022",
          "04-2022",
          "04-2022",
          "04-2022",
          "04-2022",
          "04-2022",
          "04-2022",
          "04-2022",
          "04-2022",
          "04-2022",
          "04-2022",
          "04-2022",
          "04-2022",
          "04-2022",
          "04-2022",
          "04-2022",
          "04-2022",
          "04-2022",
          "04-2022",
          "04-2022",
          "04-2022",
          "04-2022",
          "04-2022",
          "04-2022",
          "04-2022",
          "04-2022",
          "04-2022",
          "04-2022",
          "04-2022",
          "03-2022",
          "03-2022",
          "03-2022",
          "03-2022",
          "03-2022",
          "03-2022",
          "03-2022",
          "03-2022",
          "03-2022",
          "03-2022",
          "03-2022",
          "03-2022",
          "03-2022",
          "03-2022",
          "03-2022",
          "03-2022",
          "03-2022",
          "03-2022",
          "03-2022",
          "03-2022",
          "03-2022",
          "03-2022",
          "03-2022",
          "03-2022",
          "03-2022",
          "03-2022",
          "03-2022",
          "03-2022",
          "03-2022",
          "03-2022",
          "03-2022",
          "03-2022",
          "03-2022",
          "03-2022",
          "03-2022",
          "03-2022",
          "03-2022",
          "03-2022",
          "03-2022",
          "03-2022",
          "03-2022",
          "03-2022",
          "03-2022",
          "03-2022",
          "03-2022",
          "03-2022",
          "03-2022",
          "03-2022",
          "03-2022",
          "03-2022",
          "03-2022",
          "03-2022",
          "03-2022",
          "03-2022",
          "03-2022",
          "03-2022",
          "03-2022",
          "03-2022",
          "03-2022",
          "03-2022",
          "03-2022",
          "03-2022",
          "03-2022",
          "03-2022",
          "03-2022",
          "03-2022",
          "03-2022",
          "03-2022",
          "03-2022",
          "03-2022",
          "03-2022",
          "03-2022",
          "03-2022",
          "03-2022",
          "03-2022",
          "03-2022",
          "03-2022",
          "03-2022",
          "03-2022",
          "03-2022",
          "03-2022",
          "03-2022",
          "03-2022",
          "03-2022",
          "03-2022",
          "03-2022",
          "03-2022",
          "03-2022",
          "03-2022",
          "03-2022",
          "03-2022",
          "03-2022",
          "03-2022",
          "03-2022",
          "03-2022",
          "03-2022",
          "03-2022",
          "02-2022",
          "02-2022",
          "02-2022",
          "02-2022",
          "02-2022",
          "02-2022",
          "02-2022",
          "02-2022",
          "02-2022",
          "02-2022",
          "02-2022",
          "02-2022",
          "02-2022",
          "02-2022",
          "02-2022",
          "02-2022",
          "02-2022",
          "02-2022",
          "02-2022",
          "02-2022",
          "02-2022",
          "02-2022",
          "02-2022",
          "02-2022",
          "02-2022",
          "02-2022",
          "02-2022",
          "02-2022",
          "02-2022",
          "02-2022",
          "02-2022",
          "02-2022",
          "02-2022",
          "02-2022",
          "02-2022",
          "02-2022",
          "02-2022",
          "02-2022",
          "02-2022",
          "02-2022",
          "02-2022",
          "02-2022",
          "02-2022",
          "02-2022",
          "02-2022",
          "02-2022",
          "02-2022",
          "02-2022",
          "02-2022",
          "02-2022",
          "02-2022",
          "02-2022",
          "02-2022",
          "02-2022",
          "02-2022",
          "02-2022",
          "02-2022",
          "02-2022",
          "02-2022",
          "02-2022",
          "02-2022",
          "02-2022",
          "02-2022",
          "02-2022",
          "02-2022",
          "02-2022",
          "02-2022",
          "02-2022",
          "02-2022",
          "02-2022",
          "02-2022",
          "02-2022",
          "02-2022",
          "02-2022",
          "02-2022",
          "02-2022",
          "02-2022",
          "02-2022",
          "02-2022",
          "02-2022",
          "02-2022",
          "01-2022",
          "01-2022",
          "01-2022",
          "01-2022",
          "01-2022",
          "01-2022",
          "01-2022",
          "01-2022",
          "01-2022",
          "01-2022",
          "01-2022",
          "01-2022",
          "01-2022",
          "01-2022",
          "01-2022",
          "01-2022",
          "01-2022",
          "01-2022",
          "01-2022",
          "01-2022",
          "01-2022",
          "01-2022",
          "01-2022",
          "01-2022",
          "01-2022",
          "01-2022",
          "01-2022",
          "01-2022",
          "01-2022",
          "01-2022",
          "01-2022",
          "01-2022",
          "01-2022",
          "01-2022",
          "01-2022",
          "01-2022",
          "01-2022",
          "01-2022",
          "01-2022",
          "01-2022",
          "01-2022",
          "01-2022",
          "01-2022",
          "01-2022",
          "01-2022",
          "01-2022",
          "01-2022",
          "01-2022",
          "01-2022",
          "01-2022",
          "01-2022",
          "01-2022",
          "01-2022",
          "01-2022",
          "01-2022",
          "01-2022",
          "01-2022",
          "01-2022",
          "01-2022",
          "01-2022",
          "01-2022",
          "01-2022",
          "01-2022",
          "01-2022",
          "01-2022",
          "01-2022",
          "01-2022",
          "01-2022",
          "01-2022",
          "01-2022",
          "01-2022",
          "01-2022",
          "01-2022",
          "01-2022",
          "01-2022",
          "01-2022",
          "01-2022",
          "01-2022",
          "01-2022",
          "01-2022",
          "12-2021",
          "12-2021",
          "12-2021",
          "12-2021",
          "12-2021",
          "12-2021",
          "12-2021",
          "12-2021",
          "12-2021",
          "12-2021",
          "12-2021",
          "12-2021",
          "12-2021",
          "12-2021",
          "12-2021",
          "12-2021",
          "12-2021",
          "12-2021",
          "12-2021",
          "12-2021",
          "12-2021",
          "12-2021",
          "12-2021",
          "12-2021",
          "12-2021",
          "12-2021",
          "12-2021",
          "12-2021",
          "12-2021",
          "12-2021",
          "12-2021",
          "12-2021",
          "12-2021",
          "12-2021",
          "12-2021",
          "12-2021",
          "12-2021",
          "12-2021",
          "12-2021",
          "12-2021",
          "12-2021",
          "12-2021",
          "12-2021",
          "12-2021",
          "12-2021",
          "12-2021",
          "12-2021",
          "12-2021",
          "12-2021",
          "12-2021",
          "12-2021",
          "12-2021",
          "12-2021",
          "12-2021",
          "12-2021",
          "12-2021",
          "12-2021",
          "12-2021",
          "12-2021",
          "12-2021",
          "12-2021",
          "12-2021",
          "12-2021",
          "12-2021",
          "12-2021",
          "12-2021",
          "12-2021",
          "12-2021",
          "12-2021",
          "12-2021",
          "12-2021",
          "12-2021",
          "12-2021",
          "12-2021",
          "12-2021",
          "12-2021",
          "12-2021",
          "12-2021",
          "12-2021",
          "12-2021",
          "12-2021",
          "11-2021"
         ],
         "y": [
          43200000000000,
          34200000000000,
          43200000000000,
          43200000000000,
          34200000000000,
          43200000000000,
          34200000000000,
          43200000000000,
          23400000000000,
          23400000000000,
          36000000000000,
          43200000000000,
          43200000000000,
          43200000000000,
          18000000000000,
          34200000000000,
          36000000000000,
          43200000000000,
          43200000000000,
          43200000000000,
          21600000000000,
          25200000000000,
          34200000000000,
          36000000000000,
          43200000000000,
          43200000000000,
          21600000000000,
          34200000000000,
          36000000000000,
          39600000000000,
          43200000000000,
          21600000000000,
          36000000000000,
          39600000000000,
          43200000000000,
          21600000000000,
          36000000000000,
          39600000000000,
          43200000000000,
          21600000000000,
          34200000000000,
          36000000000000,
          39600000000000,
          43200000000000,
          86400000000000,
          28800000000000,
          36000000000000,
          41400000000000,
          43200000000000,
          43200000000000,
          46800000000000,
          21600000000000,
          36000000000000,
          39600000000000,
          43200000000000,
          43200000000000,
          43200000000000,
          43200000000000,
          21600000000000,
          25200000000000,
          34200000000000,
          36000000000000,
          43200000000000,
          43200000000000,
          21600000000000,
          34200000000000,
          36000000000000,
          43200000000000,
          36000000000000,
          36000000000000,
          36000000000000,
          34200000000000,
          36000000000000,
          18000000000000,
          34200000000000,
          36000000000000,
          43200000000000,
          21600000000000,
          25200000000000,
          34200000000000,
          36000000000000,
          43200000000000,
          21600000000000,
          36000000000000,
          27000000000000,
          21600000000000,
          36000000000000,
          21600000000000,
          36000000000000,
          36000000000000,
          34200000000000,
          36000000000000,
          34200000000000,
          36000000000000,
          43200000000000,
          21600000000000,
          25200000000000,
          34200000000000,
          36000000000000,
          43200000000000,
          21600000000000,
          36000000000000,
          21600000000000,
          21600000000000,
          36000000000000,
          36000000000000,
          36000000000000,
          43200000000000,
          34200000000000,
          36000000000000,
          43200000000000,
          34200000000000,
          36000000000000,
          39600000000000,
          43200000000000,
          43200000000000,
          21600000000000,
          25200000000000,
          34200000000000,
          36000000000000,
          43200000000000,
          21600000000000,
          34200000000000,
          36000000000000,
          36000000000000,
          43200000000000,
          21600000000000,
          25200000000000,
          34200000000000,
          36000000000000,
          36000000000000,
          39600000000000,
          43200000000000,
          21600000000000,
          25200000000000,
          36000000000000,
          39600000000000,
          43200000000000,
          39600000000000,
          43200000000000,
          43200000000000,
          7200000000000,
          36000000000000,
          41400000000000,
          43200000000000,
          43200000000000,
          16200000000000,
          36000000000000,
          36600000000000,
          37800000000000,
          43200000000000,
          43200000000000,
          21600000000000,
          25200000000000,
          31500000000000,
          34200000000000,
          36000000000000,
          37800000000000,
          43200000000000,
          43200000000000,
          43200000000000,
          21600000000000,
          25200000000000,
          18000000000000,
          31500000000000,
          30600000000000,
          25200000000000,
          31500000000000,
          36000000000000,
          36000000000000,
          37800000000000,
          43200000000000,
          43200000000000,
          43200000000000,
          18000000000000,
          23400000000000,
          25200000000000,
          21600000000000,
          31500000000000,
          34200000000000,
          34200000000000,
          36000000000000,
          21600000000000,
          36000000000000,
          42600000000000,
          21600000000000,
          21600000000000,
          36000000000000,
          43200000000000,
          7200000000000,
          21600000000000,
          36000000000000,
          36000000000000,
          45900000000000,
          36000000000000,
          36900000000000,
          39600000000000,
          43200000000000,
          27600000000000,
          28800000000000,
          25200000000000,
          31500000000000,
          36000000000000,
          36000000000000,
          36900000000000,
          43200000000000,
          43200000000000,
          43200000000000,
          21600000000000,
          25200000000000,
          21600000000000,
          25200000000000,
          31500000000000,
          36000000000000,
          36000000000000,
          37140000000000,
          43200000000000,
          25200000000000,
          21600000000000,
          21600000000000,
          25200000000000,
          31500000000000,
          34200000000000,
          36000000000000,
          21600000000000,
          22500000000000,
          25200000000000,
          36000000000000,
          36000000000000,
          43200000000000,
          21600000000000,
          34200000000000,
          25200000000000,
          36000000000000,
          36900000000000,
          42300000000000,
          43200000000000,
          43200000000000,
          7200000000000,
          30600000000000,
          29400000000000,
          36000000000000,
          36000000000000,
          43200000000000,
          43200000000000,
          43200000000000,
          30600000000000,
          36000000000000,
          38220000000000,
          43200000000000,
          43200000000000,
          43200000000000,
          21600000000000,
          25200000000000,
          31500000000000,
          34440000000000,
          36000000000000,
          36000000000000,
          43200000000000,
          43200000000000,
          21600000000000,
          25200000000000,
          25200000000000,
          31500000000000,
          34920000000000,
          36000000000000,
          36000000000000,
          39600000000000,
          43200000000000,
          43200000000000,
          21600000000000,
          25200000000000,
          21600000000000,
          7200000000000,
          31500000000000,
          34200000000000,
          36000000000000,
          36000000000000,
          43200000000000,
          21600000000000,
          25200000000000,
          36000000000000,
          43200000000000,
          21600000000000,
          36000000000000,
          43200000000000,
          43200000000000,
          36000000000000,
          43200000000000,
          43200000000000,
          36000000000000,
          43200000000000,
          43200000000000,
          43200000000000,
          21600000000000,
          30600000000000,
          28800000000000,
          25200000000000,
          25200000000000,
          21000000000000,
          32400000000000,
          34620000000000,
          36000000000000,
          43200000000000,
          43200000000000,
          21600000000000,
          25200000000000,
          30600000000000,
          27000000000000,
          25200000000000,
          21600000000000,
          25200000000000,
          34500000000000,
          35100000000000,
          36000000000000,
          43200000000000,
          46800000000000,
          21600000000000,
          25200000000000,
          30600000000000,
          25200000000000,
          21600000000000,
          25200000000000,
          26100000000000,
          34500000000000,
          36000000000000,
          21600000000000,
          30600000000000,
          21600000000000,
          25200000000000,
          21600000000000,
          36000000000000,
          37800000000000,
          21600000000000,
          30600000000000,
          25200000000000,
          21600000000000,
          36000000000000,
          39600000000000,
          44100000000000,
          43200000000000,
          7200000000000,
          19800000000000,
          36000000000000,
          43200000000000,
          43200000000000,
          21600000000000,
          36300000000000,
          36000000000000,
          37800000000000,
          43200000000000,
          43200000000000,
          23400000000000,
          21600000000000,
          35100000000000,
          37800000000000,
          39600000000000,
          41400000000000,
          46200000000000,
          46800000000000,
          46800000000000,
          46800000000000,
          21600000000000,
          25200000000000,
          25200000000000,
          21600000000000,
          31500000000000,
          34200000000000,
          36000000000000,
          37800000000000,
          39600000000000,
          43200000000000,
          43200000000000,
          19800000000000,
          25200000000000,
          21600000000000,
          10800000000000,
          12600000000000,
          12600000000000,
          12600000000000,
          12600000000000,
          22500000000000,
          21600000000000,
          31500000000000,
          34200000000000,
          36000000000000,
          21600000000000,
          21600000000000,
          21600000000000,
          25200000000000,
          21600000000000,
          36000000000000,
          36000000000000,
          37800000000000,
          18000000000000,
          21600000000000,
          36000000000000,
          37500000000000,
          36000000000000,
          38700000000000,
          43200000000000,
          43200000000000,
          7200000000000,
          21600000000000,
          30600000000000,
          21600000000000,
          30600000000000,
          36000000000000,
          36900000000000,
          37320000000000,
          37800000000000,
          43200000000000,
          45000000000000,
          43200000000000,
          30600000000000,
          30600000000000,
          21600000000000,
          34200000000000,
          36000000000000,
          36900000000000,
          43200000000000,
          43200000000000,
          46800000000000,
          28800000000000,
          25200000000000,
          21600000000000,
          35100000000000,
          31500000000000,
          36000000000000,
          37800000000000,
          43200000000000,
          46800000000000,
          21600000000000,
          25200000000000,
          18000000000000,
          28800000000000,
          25200000000000,
          21600000000000,
          34920000000000,
          31500000000000,
          36000000000000,
          37800000000000,
          43200000000000,
          43200000000000,
          21600000000000,
          25200000000000,
          25200000000000,
          34500000000000,
          31500000000000,
          36000000000000,
          46800000000000,
          25200000000000,
          21600000000000,
          30600000000000,
          25200000000000,
          36000000000000,
          37800000000000,
          40500000000000,
          43200000000000,
          21600000000000,
          30600000000000,
          21600000000000,
          14400000000000,
          25200000000000,
          36000000000000,
          37800000000000,
          36900000000000,
          43200000000000,
          7200000000000,
          21600000000000,
          36000000000000,
          37800000000000,
          36900000000000,
          43200000000000,
          43200000000000,
          21600000000000,
          36000000000000,
          36900000000000,
          43200000000000,
          43200000000000,
          21600000000000,
          21600000000000,
          25200000000000,
          25200000000000,
          36000000000000,
          33360000000000,
          36000000000000,
          41400000000000,
          43200000000000,
          43200000000000,
          45000000000000,
          21600000000000,
          25200000000000,
          21600000000000,
          25200000000000,
          25200000000000,
          34800000000000,
          31500000000000,
          36000000000000,
          43200000000000,
          43200000000000,
          45000000000000,
          21600000000000,
          25200000000000,
          43200000000000,
          25200000000000,
          34200000000000,
          31500000000000,
          36000000000000,
          43200000000000,
          21600000000000,
          25200000000000,
          36000000000000,
          43200000000000,
          7200000000000,
          18000000000000,
          12600000000000,
          25200000000000,
          36000000000000,
          36900000000000,
          39600000000000,
          43200000000000,
          21600000000000,
          18000000000000,
          36000000000000,
          36900000000000,
          43200000000000,
          32400000000000,
          21600000000000,
          21600000000000,
          36000000000000,
          36900000000000,
          43200000000000,
          43200000000000,
          43200000000000,
          21600000000000,
          25200000000000,
          25200000000000,
          21600000000000,
          34800000000000,
          31500000000000,
          36000000000000,
          43200000000000,
          43200000000000,
          21600000000000,
          25200000000000,
          23400000000000,
          25200000000000,
          21600000000000,
          34200000000000,
          31500000000000,
          36000000000000,
          43200000000000,
          43200000000000,
          43200000000000,
          21600000000000,
          25200000000000,
          25200000000000,
          21600000000000,
          31920000000000,
          31500000000000,
          36000000000000,
          43200000000000,
          43200000000000,
          46800000000000,
          21600000000000,
          25200000000000,
          36000000000000,
          43200000000000,
          21600000000000,
          25200000000000,
          36000000000000,
          36900000000000,
          43200000000000,
          7200000000000,
          21600000000000,
          43200000000000,
          36000000000000,
          36900000000000,
          41700000000000,
          43200000000000,
          21600000000000,
          21600000000000,
          36000000000000,
          36000000000000,
          36900000000000,
          43200000000000,
          43200000000000,
          21600000000000,
          25200000000000,
          25200000000000,
          21600000000000,
          34200000000000,
          34200000000000,
          36000000000000,
          43200000000000,
          43200000000000,
          43200000000000,
          43200000000000,
          21600000000000,
          25200000000000,
          25200000000000,
          35100000000000,
          30600000000000,
          32400000000000,
          25200000000000,
          25200000000000,
          20100000000000,
          34200000000000,
          36000000000000,
          45000000000000,
          43200000000000,
          43200000000000,
          46800000000000,
          21600000000000,
          25200000000000,
          35100000000000,
          17700000000000,
          28800000000000,
          25200000000000,
          36000000000000,
          43200000000000,
          46800000000000,
          21600000000000,
          30600000000000,
          25200000000000,
          34200000000000,
          36000000000000,
          36000000000000,
          37800000000000,
          7200000000000,
          21600000000000,
          33000000000000,
          25200000000000,
          18000000000000,
          34200000000000,
          36000000000000,
          36900000000000,
          37800000000000,
          39600000000000,
          43200000000000,
          21600000000000,
          28800000000000,
          21600000000000,
          34200000000000,
          36000000000000,
          36000000000000,
          37380000000000,
          37800000000000,
          39600000000000,
          43200000000000,
          21600000000000,
          28800000000000,
          18000000000000,
          21600000000000,
          36000000000000,
          36900000000000,
          43200000000000,
          46800000000000,
          35100000000000,
          32400000000000,
          28800000000000,
          18000000000000,
          28800000000000,
          21600000000000,
          34200000000000,
          36000000000000,
          39300000000000,
          43200000000000,
          43200000000000,
          46800000000000,
          21600000000000,
          25200000000000,
          18000000000000,
          35100000000000,
          25200000000000,
          25200000000000,
          21600000000000,
          34200000000000,
          36000000000000,
          39300000000000,
          43200000000000,
          43200000000000,
          43200000000000,
          21600000000000,
          25200000000000,
          35100000000000,
          25200000000000,
          21600000000000,
          34200000000000,
          36000000000000,
          37800000000000,
          43200000000000,
          21600000000000,
          30600000000000,
          25200000000000,
          36000000000000,
          39600000000000,
          43200000000000,
          7200000000000,
          21600000000000,
          25200000000000,
          30600000000000,
          32400000000000,
          21600000000000,
          25200000000000,
          36000000000000,
          37140000000000,
          44400000000000,
          46800000000000,
          28800000000000,
          23400000000000,
          36000000000000,
          36900000000000,
          37800000000000,
          39600000000000,
          41100000000000,
          46800000000000,
          25200000000000,
          21600000000000,
          36000000000000,
          43200000000000,
          44100000000000,
          46800000000000,
          28800000000000,
          35100000000000,
          28800000000000,
          21600000000000,
          36000000000000,
          39600000000000,
          42240000000000,
          43200000000000,
          43200000000000,
          48000000000000,
          18900000000000,
          25200000000000,
          35100000000000,
          25200000000000,
          32400000000000,
          21600000000000,
          34200000000000,
          36000000000000,
          37800000000000,
          45000000000000,
          41400000000000,
          43200000000000,
          14400000000000,
          10800000000000,
          21600000000000,
          25200000000000,
          35100000000000,
          19200000000000,
          21600000000000,
          35700000000000,
          34200000000000,
          36000000000000,
          36900000000000,
          37800000000000,
          43200000000000,
          30600000000000,
          21600000000000,
          34200000000000,
          18000000000000,
          25200000000000,
          36000000000000,
          36900000000000,
          37800000000000,
          43200000000000,
          7200000000000,
          16500000000000,
          21600000000000,
          25200000000000,
          36000000000000,
          36900000000000,
          43200000000000,
          46800000000000,
          21600000000000,
          18000000000000,
          18000000000000,
          36000000000000,
          37800000000000,
          43200000000000,
          43200000000000,
          46800000000000,
          28800000000000,
          21600000000000,
          36000000000000,
          36900000000000,
          43200000000000,
          43200000000000,
          46800000000000,
          35100000000000,
          28800000000000,
          21600000000000,
          34200000000000,
          36000000000000,
          38700000000000,
          45000000000000,
          45000000000000,
          46800000000000,
          21600000000000,
          25200000000000,
          32400000000000,
          35100000000000,
          25200000000000,
          21600000000000,
          34200000000000,
          36000000000000,
          38700000000000,
          43200000000000,
          39600000000000,
          46800000000000,
          21600000000000,
          25200000000000,
          35100000000000,
          21600000000000,
          34200000000000,
          34200000000000,
          36000000000000,
          37800000000000,
          43200000000000,
          21600000000000,
          25200000000000,
          36060000000000,
          36000000000000,
          43200000000000,
          7200000000000,
          21600000000000,
          25200000000000,
          25200000000000,
          34200000000000,
          36000000000000,
          36900000000000,
          41400000000000,
          43200000000000,
          46800000000000,
          28800000000000,
          21600000000000,
          34200000000000,
          36000000000000,
          37560000000000,
          43200000000000,
          43200000000000,
          37800000000000,
          21600000000000,
          19800000000000,
          34200000000000,
          36000000000000,
          36900000000000,
          45000000000000,
          43200000000000,
          43200000000000,
          46800000000000,
          25200000000000,
          35100000000000,
          28800000000000,
          21600000000000,
          34920000000000,
          36000000000000,
          37800000000000,
          43200000000000,
          45000000000000,
          43200000000000,
          43200000000000,
          43200000000000,
          43200000000000,
          28800000000000,
          21600000000000,
          25200000000000,
          35100000000000,
          25200000000000,
          21600000000000,
          36000000000000,
          38400000000000,
          36000000000000,
          37800000000000,
          43200000000000,
          43200000000000,
          43200000000000,
          28800000000000,
          21600000000000,
          25200000000000,
          40500000000000,
          21600000000000,
          34200000000000,
          34200000000000,
          36000000000000,
          43200000000000,
          43200000000000,
          21600000000000,
          25200000000000,
          25200000000000,
          36960000000000,
          33300000000000,
          36000000000000,
          43200000000000,
          43200000000000,
          43200000000000,
          7200000000000,
          21600000000000,
          21600000000000,
          25200000000000,
          35100000000000,
          33300000000000,
          36000000000000,
          36900000000000,
          45000000000000,
          43200000000000,
          21600000000000,
          21600000000000,
          25200000000000,
          28800000000000,
          35100000000000,
          33300000000000,
          34200000000000,
          36000000000000,
          36900000000000,
          43200000000000,
          43200000000000,
          21600000000000,
          21600000000000,
          34200000000000,
          33300000000000,
          36000000000000,
          36900000000000,
          43200000000000,
          46800000000000,
          25200000000000,
          25200000000000,
          28800000000000,
          28800000000000,
          43200000000000,
          21600000000000,
          35700000000000,
          34800000000000,
          36000000000000,
          43200000000000,
          43200000000000,
          43200000000000,
          46800000000000,
          28800000000000,
          21600000000000,
          24600000000000,
          21600000000000,
          21600000000000,
          25200000000000,
          28800000000000,
          30600000000000,
          25200000000000,
          21600000000000,
          34200000000000,
          36000000000000,
          43200000000000,
          43200000000000,
          43200000000000,
          16800000000000,
          28800000000000,
          21600000000000,
          28800000000000,
          28800000000000,
          36000000000000,
          28800000000000,
          34200000000000,
          33600000000000,
          43200000000000,
          21600000000000,
          28800000000000,
          21600000000000,
          25200000000000,
          28800000000000,
          32400000000000,
          35100000000000,
          25200000000000,
          23400000000000,
          34200000000000,
          33300000000000,
          34200000000000,
          36000000000000,
          36000000000000,
          43200000000000,
          43200000000000,
          43200000000000,
          25200000000000,
          21600000000000,
          21600000000000,
          7200000000000,
          25200000000000,
          34200000000000,
          33300000000000,
          34200000000000,
          36000000000000,
          36900000000000,
          37800000000000,
          43200000000000,
          43200000000000,
          21600000000000,
          23400000000000,
          23400000000000,
          30600000000000,
          28800000000000,
          34200000000000,
          33300000000000,
          34200000000000,
          36000000000000,
          36900000000000,
          36000000000000,
          43200000000000,
          43200000000000,
          21600000000000,
          30600000000000,
          32400000000000,
          21600000000000,
          34200000000000,
          36000000000000,
          36900000000000,
          33300000000000,
          39000000000000,
          43200000000000,
          43200000000000,
          43200000000000,
          25200000000000,
          28800000000000,
          43200000000000,
          31200000000000,
          21600000000000,
          34200000000000,
          36000000000000,
          43200000000000,
          43200000000000,
          21600000000000,
          25200000000000,
          25200000000000,
          31200000000000,
          21600000000000,
          34200000000000,
          36000000000000,
          43200000000000,
          43200000000000,
          43200000000000,
          21600000000000,
          25200000000000,
          28800000000000,
          25200000000000,
          35100000000000,
          21600000000000,
          34920000000000,
          36000000000000,
          43200000000000,
          46800000000000,
          21600000000000,
          21600000000000,
          25200000000000,
          25200000000000,
          34200000000000,
          36000000000000,
          36000000000000,
          36900000000000,
          33300000000000,
          43200000000000,
          21600000000000,
          21600000000000,
          7200000000000,
          25200000000000,
          34200000000000,
          34200000000000,
          36000000000000,
          36900000000000,
          36000000000000,
          33300000000000,
          43200000000000,
          21600000000000,
          28800000000000,
          34200000000000,
          34200000000000,
          36000000000000,
          36900000000000,
          37800000000000,
          33300000000000,
          43200000000000,
          43200000000000,
          21600000000000,
          28800000000000,
          35100000000000,
          25200000000000,
          21600000000000,
          34200000000000,
          36000000000000,
          33300000000000,
          40500000000000,
          39600000000000,
          46800000000000,
          45000000000000,
          25200000000000,
          28800000000000,
          21600000000000,
          34200000000000,
          36000000000000,
          36000000000000,
          43200000000000,
          46800000000000,
          21600000000000,
          25200000000000,
          30600000000000,
          32400000000000,
          25200000000000,
          21600000000000,
          36000000000000,
          36000000000000,
          43200000000000,
          43200000000000,
          43200000000000,
          21600000000000,
          25200000000000,
          28800000000000,
          32400000000000,
          21600000000000,
          36000000000000,
          36000000000000,
          37800000000000,
          41400000000000,
          43200000000000,
          15300000000000,
          21600000000000,
          21600000000000,
          28800000000000,
          25200000000000,
          36000000000000,
          36000000000000,
          37200000000000,
          33300000000000,
          37800000000000,
          37800000000000,
          46800000000000,
          21600000000000,
          21600000000000,
          7200000000000,
          30600000000000,
          25200000000000,
          36000000000000,
          36000000000000,
          36900000000000,
          37800000000000,
          33300000000000,
          37800000000000,
          21600000000000,
          23400000000000,
          28800000000000,
          36000000000000,
          36000000000000,
          36900000000000,
          33300000000000,
          37800000000000,
          21600000000000,
          21600000000000,
          21600000000000,
          34200000000000,
          34200000000000,
          36000000000000,
          36900000000000,
          33300000000000,
          37800000000000,
          43200000000000,
          43200000000000,
          28800000000000,
          25200000000000,
          28800000000000,
          43200000000000,
          21600000000000,
          36240000000000,
          34200000000000,
          36000000000000,
          37800000000000,
          43200000000000,
          43200000000000,
          43200000000000,
          21600000000000,
          25200000000000,
          43200000000000,
          25200000000000,
          21600000000000,
          34920000000000,
          34200000000000,
          36000000000000,
          38460000000000,
          43200000000000,
          43200000000000,
          43200000000000,
          21600000000000,
          25200000000000,
          28800000000000,
          21600000000000,
          34200000000000,
          34200000000000,
          36000000000000,
          39600000000000,
          43200000000000,
          43200000000000,
          43200000000000,
          21600000000000,
          32400000000000,
          25200000000000,
          36000000000000,
          45000000000000,
          43200000000000,
          43200000000000,
          19800000000000,
          6300000000000,
          21600000000000,
          7200000000000,
          25200000000000,
          36000000000000,
          36900000000000,
          37800000000000,
          45000000000000,
          43200000000000,
          43200000000000,
          19800000000000,
          25200000000000,
          21600000000000,
          34200000000000,
          36000000000000,
          36900000000000,
          37800000000000,
          43200000000000,
          28800000000000,
          43200000000000,
          36000000000000,
          36000000000000,
          36900000000000,
          37800000000000,
          46800000000000,
          21600000000000,
          28800000000000,
          28800000000000,
          43200000000000,
          43200000000000,
          34200000000000,
          36000000000000,
          33300000000000,
          36000000000000,
          43200000000000,
          42300000000000,
          46800000000000,
          21600000000000,
          25200000000000,
          21600000000000,
          43200000000000,
          28800000000000,
          34200000000000,
          34200000000000,
          36000000000000,
          36000000000000,
          37800000000000,
          43200000000000,
          43200000000000,
          43200000000000,
          43200000000000,
          21600000000000,
          28800000000000,
          43200000000000,
          34200000000000,
          33300000000000,
          36000000000000,
          37800000000000,
          43200000000000,
          43200000000000,
          43200000000000,
          25200000000000,
          21600000000000,
          21600000000000,
          28800000000000,
          36000000000000,
          37800000000000,
          43200000000000,
          25200000000000,
          21600000000000,
          43200000000000,
          25200000000000,
          36000000000000,
          37800000000000,
          25200000000000,
          28800000000000,
          21600000000000,
          21600000000000,
          28800000000000,
          36000000000000,
          36900000000000,
          37800000000000,
          25200000000000,
          23400000000000,
          28800000000000,
          21600000000000,
          43200000000000,
          28800000000000,
          36000000000000,
          37800000000000,
          36900000000000,
          43200000000000,
          43200000000000,
          28800000000000,
          28800000000000,
          34200000000000,
          36000000000000,
          34200000000000,
          36000000000000,
          37800000000000,
          43200000000000,
          45000000000000,
          21600000000000,
          25200000000000,
          30600000000000,
          21600000000000,
          34200000000000,
          34200000000000,
          34200000000000,
          36000000000000,
          37800000000000,
          43200000000000,
          43200000000000,
          43200000000000,
          43200000000000,
          21600000000000,
          27240000000000,
          21600000000000,
          30600000000000,
          28800000000000,
          21600000000000,
          36000000000000,
          35100000000000,
          36000000000000,
          37800000000000,
          43200000000000,
          43200000000000,
          43200000000000,
          46800000000000,
          21600000000000,
          21600000000000,
          43200000000000,
          28800000000000,
          36000000000000,
          37800000000000,
          43200000000000,
          25200000000000,
          21600000000000,
          43200000000000,
          25200000000000,
          36000000000000,
          53100000000000,
          43200000000000,
          21600000000000,
          21600000000000,
          21600000000000,
          28800000000000,
          36000000000000,
          36900000000000,
          43200000000000,
          28800000000000,
          21600000000000,
          18000000000000,
          34200000000000,
          36000000000000,
          36900000000000,
          43200000000000,
          43200000000000,
          46800000000000,
          28800000000000,
          28800000000000,
          34620000000000,
          33300000000000,
          34200000000000,
          36000000000000,
          38700000000000,
          43200000000000,
          43200000000000,
          43200000000000,
          46800000000000,
          21600000000000,
          25200000000000,
          21600000000000,
          33300000000000,
          36000000000000,
          34200000000000,
          36000000000000,
          38700000000000,
          36900000000000,
          43200000000000,
          43200000000000,
          43200000000000,
          43200000000000,
          46800000000000,
          21600000000000,
          25200000000000,
          21600000000000,
          34200000000000,
          36000000000000,
          36000000000000,
          38700000000000,
          36900000000000,
          43200000000000,
          43200000000000,
          44400000000000,
          43200000000000,
          43200000000000,
          21600000000000,
          25200000000000,
          30600000000000,
          21600000000000,
          36000000000000,
          43200000000000,
          43200000000000,
          21600000000000,
          21600000000000,
          28800000000000,
          36000000000000,
          36900000000000,
          21600000000000,
          28800000000000,
          36000000000000,
          35100000000000,
          36900000000000,
          28800000000000,
          30600000000000,
          21600000000000,
          28800000000000,
          36000000000000,
          36900000000000,
          43200000000000,
          43200000000000,
          43200000000000,
          28800000000000,
          28800000000000,
          30600000000000,
          28800000000000,
          34200000000000,
          33300000000000,
          36000000000000,
          38700000000000,
          43200000000000,
          43200000000000,
          43200000000000,
          43200000000000,
          21600000000000,
          36000000000000,
          39600000000000,
          29940000000000,
          33300000000000,
          36000000000000,
          38700000000000,
          43200000000000,
          43200000000000,
          43200000000000,
          43200000000000,
          43200000000000,
          21600000000000,
          27000000000000,
          36000000000000,
          33300000000000,
          36000000000000,
          38700000000000,
          43200000000000,
          43200000000000,
          45000000000000,
          43200000000000,
          43200000000000,
          21600000000000,
          18000000000000,
          30600000000000,
          21600000000000,
          36000000000000,
          37800000000000,
          38700000000000,
          43200000000000,
          25200000000000,
          21600000000000,
          30600000000000,
          30600000000000,
          21600000000000,
          3600000000000,
          25200000000000,
          21600000000000,
          36000000000000,
          36900000000000,
          37800000000000,
          43200000000000,
          32400000000000,
          21600000000000,
          28800000000000,
          21600000000000,
          36000000000000,
          36900000000000,
          43200000000000,
          43200000000000,
          31800000000000,
          30600000000000,
          21600000000000,
          28800000000000,
          36000000000000,
          36900000000000,
          43200000000000,
          43200000000000,
          43200000000000,
          43200000000000,
          46800000000000,
          18000000000000,
          28800000000000,
          33300000000000,
          33900000000000,
          36000000000000,
          43200000000000,
          41400000000000,
          43200000000000,
          43200000000000,
          43200000000000,
          43200000000000,
          43200000000000,
          46800000000000,
          21600000000000,
          25200000000000,
          28800000000000,
          21600000000000,
          21600000000000,
          33300000000000,
          36000000000000,
          37800000000000,
          36000000000000,
          36000000000000,
          43200000000000,
          43200000000000,
          43200000000000,
          21600000000000,
          27900000000000,
          28800000000000,
          21600000000000,
          33300000000000,
          36000000000000,
          41400000000000,
          43200000000000,
          21600000000000,
          43200000000000,
          43200000000000,
          21600000000000,
          28800000000000,
          30600000000000,
          21600000000000,
          36000000000000,
          43200000000000,
          43200000000000,
          21600000000000,
          26100000000000,
          30600000000000,
          28800000000000,
          21600000000000,
          36000000000000,
          36900000000000,
          46800000000000,
          28800000000000,
          21600000000000,
          36000000000000,
          36900000000000,
          43200000000000,
          28800000000000,
          30600000000000,
          21600000000000,
          36000000000000,
          36000000000000,
          36900000000000,
          43200000000000,
          43200000000000,
          46800000000000,
          30600000000000,
          30600000000000,
          28800000000000,
          33300000000000,
          36000000000000,
          36000000000000,
          36000000000000,
          43200000000000,
          43200000000000,
          43200000000000,
          43200000000000,
          21600000000000,
          30600000000000,
          25200000000000,
          30600000000000,
          21600000000000,
          21600000000000,
          33300000000000,
          36000000000000,
          36000000000000,
          36000000000000,
          43200000000000,
          43200000000000,
          43200000000000,
          46800000000000,
          21600000000000,
          30600000000000,
          21600000000000,
          33300000000000,
          36000000000000,
          36000000000000,
          43200000000000,
          43200000000000,
          43200000000000,
          21600000000000,
          10800000000000,
          30600000000000,
          30600000000000,
          32400000000000,
          36000000000000,
          37800000000000,
          43200000000000,
          21600000000000,
          10800000000000,
          32400000000000,
          21600000000000,
          41400000000000,
          37800000000000,
          36900000000000,
          46800000000000,
          10800000000000,
          10800000000000,
          10800000000000,
          12600000000000,
          21600000000000,
          35100000000000,
          37800000000000,
          36900000000000,
          50400000000000,
          9000000000000,
          36000000000000,
          39000000000000,
          36900000000000,
          39600000000000,
          43200000000000,
          43200000000000,
          46800000000000,
          37800000000000,
          28800000000000,
          36000000000000,
          36000000000000,
          43200000000000,
          43200000000000,
          46800000000000,
          23400000000000,
          25200000000000,
          30600000000000,
          30600000000000,
          37800000000000,
          21600000000000,
          21600000000000,
          36000000000000,
          36000000000000,
          43200000000000,
          45000000000000,
          43200000000000,
          43200000000000,
          21600000000000,
          14400000000000,
          21600000000000,
          31500000000000,
          33300000000000,
          36000000000000,
          36000000000000,
          43200000000000,
          45000000000000,
          19800000000000,
          21600000000000,
          36000000000000,
          40800000000000,
          43200000000000,
          21600000000000,
          10800000000000,
          28800000000000,
          32400000000000,
          36000000000000,
          36900000000000,
          46800000000000,
          10800000000000,
          10800000000000,
          10800000000000,
          10800000000000,
          28800000000000,
          21600000000000,
          36000000000000,
          36900000000000,
          46800000000000,
          21600000000000,
          30600000000000,
          30600000000000,
          36000000000000,
          36900000000000,
          43200000000000,
          43200000000000,
          46800000000000,
          27000000000000,
          37800000000000,
          28800000000000,
          36000000000000,
          36000000000000,
          10800000000000,
          43200000000000,
          43200000000000,
          43200000000000,
          46800000000000,
          21600000000000,
          18000000000000,
          25200000000000,
          35400000000000,
          37800000000000,
          10800000000000,
          21600000000000,
          21600000000000,
          36000000000000,
          36000000000000,
          36900000000000,
          43200000000000,
          45000000000000,
          21600000000000,
          46800000000000,
          21600000000000,
          36000000000000,
          36000000000000,
          36000000000000,
          36000000000000,
          43200000000000,
          45000000000000,
          18000000000000,
          18000000000000,
          21600000000000,
          28800000000000,
          34200000000000,
          36000000000000,
          43200000000000,
          21600000000000,
          32400000000000,
          28800000000000,
          36000000000000,
          46800000000000,
          21600000000000,
          26100000000000,
          28800000000000,
          36000000000000,
          46800000000000,
          36000000000000,
          43200000000000,
          46800000000000,
          21600000000000,
          30600000000000,
          28800000000000,
          30600000000000,
          36000000000000,
          36000000000000,
          43200000000000,
          43200000000000,
          46800000000000,
          21600000000000,
          21600000000000,
          25200000000000,
          32400000000000,
          21600000000000,
          36000000000000,
          36000000000000,
          43200000000000,
          43200000000000,
          45000000000000,
          43200000000000,
          21600000000000,
          21600000000000,
          15000000000000,
          23400000000000,
          36000000000000,
          36000000000000,
          38700000000000,
          43200000000000,
          43200000000000,
          46800000000000,
          21600000000000,
          21600000000000,
          30600000000000,
          36000000000000,
          21600000000000,
          36000000000000,
          43200000000000,
          43200000000000,
          21600000000000,
          21600000000000,
          12600000000000,
          21600000000000,
          36000000000000,
          44100000000000,
          43200000000000,
          43200000000000,
          21600000000000,
          30600000000000,
          21600000000000,
          36000000000000,
          43200000000000,
          46800000000000,
          43200000000000,
          43200000000000,
          19800000000000,
          30600000000000,
          21600000000000,
          34200000000000,
          36000000000000,
          36000000000000,
          43200000000000,
          43200000000000,
          43200000000000,
          43200000000000,
          18000000000000,
          21600000000000,
          30600000000000,
          21600000000000,
          36000000000000,
          36000000000000,
          38700000000000,
          43200000000000,
          43200000000000,
          43200000000000,
          21600000000000,
          21600000000000,
          30600000000000,
          30600000000000,
          21600000000000,
          36000000000000,
          36000000000000,
          38700000000000,
          43200000000000,
          43200000000000,
          21600000000000,
          36000000000000,
          36000000000000,
          38700000000000,
          43200000000000,
          43200000000000,
          43200000000000,
          43200000000000,
          21600000000000,
          33300000000000,
          36000000000000,
          36000000000000,
          38100000000000,
          43200000000000,
          21600000000000,
          21600000000000,
          33300000000000,
          36000000000000,
          36000000000000,
          21600000000000,
          29400000000000,
          33300000000000,
          36000000000000,
          43200000000000,
          43200000000000,
          30600000000000,
          21600000000000,
          33300000000000,
          37500000000000,
          36000000000000,
          41400000000000,
          43200000000000,
          18000000000000,
          28800000000000,
          14400000000000,
          30600000000000,
          21600000000000,
          36000000000000,
          36000000000000,
          38700000000000,
          43200000000000,
          43200000000000,
          21600000000000,
          18000000000000,
          21600000000000,
          25200000000000,
          30600000000000,
          21600000000000,
          34200000000000,
          24300000000000,
          34200000000000,
          36000000000000,
          36000000000000,
          38700000000000,
          43200000000000,
          21600000000000,
          28800000000000,
          33300000000000,
          36000000000000,
          34200000000000,
          36000000000000,
          38700000000000,
          43200000000000,
          18000000000000,
          21600000000000,
          33300000000000,
          36000000000000,
          38700000000000,
          21600000000000,
          33300000000000,
          36000000000000,
          33300000000000,
          36000000000000,
          43200000000000,
          43200000000000,
          21600000000000,
          34200000000000,
          33300000000000,
          36000000000000,
          43200000000000,
          43200000000000,
          33300000000000,
          36000000000000,
          36000000000000,
          40500000000000,
          43200000000000,
          43200000000000,
          43200000000000,
          17100000000000,
          25200000000000,
          21600000000000,
          30600000000000,
          21600000000000,
          28800000000000,
          21600000000000,
          33300000000000,
          36000000000000,
          36000000000000,
          38160000000000,
          43200000000000,
          28800000000000,
          21600000000000,
          21600000000000,
          36000000000000,
          34200000000000,
          36000000000000,
          37800000000000,
          43200000000000,
          30600000000000,
          30600000000000,
          36000000000000,
          39900000000000,
          43200000000000,
          21600000000000,
          36000000000000,
          36000000000000,
          36000000000000,
          43200000000000,
          34200000000000,
          36000000000000,
          43200000000000,
          36000000000000,
          33300000000000,
          36000000000000,
          37800000000000,
          10500000000000,
          43200000000000,
          21600000000000,
          30600000000000,
          21600000000000,
          36000000000000,
          33300000000000,
          36000000000000,
          37800000000000,
          43200000000000,
          18000000000000,
          30600000000000,
          36000000000000,
          33300000000000,
          34200000000000,
          36000000000000,
          37800000000000,
          43200000000000,
          43200000000000,
          43200000000000,
          30600000000000,
          36000000000000,
          41400000000000,
          43200000000000,
          28800000000000,
          36000000000000,
          43200000000000,
          36000000000000,
          43200000000000,
          43200000000000,
          36000000000000,
          43200000000000,
          21600000000000,
          25200000000000,
          28800000000000,
          30600000000000,
          36000000000000,
          36000000000000,
          38700000000000,
          18000000000000,
          25200000000000,
          30600000000000,
          37800000000000,
          43200000000000,
          30600000000000,
          36000000000000,
          36000000000000,
          38700000000000,
          43200000000000,
          21600000000000,
          30600000000000,
          36000000000000,
          36000000000000,
          38700000000000,
          43200000000000,
          43200000000000,
          43200000000000,
          18000000000000,
          36000000000000,
          36000000000000,
          39600000000000,
          43200000000000,
          43200000000000,
          18000000000000,
          25200000000000,
          25200000000000,
          36000000000000,
          43200000000000,
          25200000000000,
          36000000000000,
          30600000000000,
          36000000000000,
          43200000000000,
          18000000000000,
          30600000000000,
          34200000000000,
          36000000000000,
          28800000000000,
          34200000000000,
          36000000000000,
          36000000000000,
          38340000000000,
          41400000000000,
          43200000000000,
          43200000000000,
          18000000000000,
          25200000000000,
          30600000000000,
          27000000000000,
          34200000000000,
          36000000000000,
          36000000000000,
          36900000000000,
          42000000000000,
          43200000000000,
          43200000000000,
          43200000000000,
          30600000000000,
          36000000000000,
          36000000000000,
          36900000000000,
          43200000000000,
          43200000000000,
          46800000000000,
          43200000000000,
          18000000000000,
          25200000000000,
          28800000000000,
          36000000000000,
          43200000000000,
          43200000000000,
          43200000000000,
          18000000000000,
          25200000000000,
          32400000000000,
          36000000000000,
          43200000000000,
          43200000000000,
          36000000000000,
          43200000000000,
          43200000000000,
          18000000000000,
          36000000000000,
          36000000000000,
          36000000000000,
          28800000000000,
          36000000000000,
          36000000000000,
          36900000000000,
          43200000000000,
          18000000000000,
          34200000000000,
          30600000000000,
          28800000000000,
          36000000000000,
          36000000000000,
          36900000000000,
          43200000000000,
          36000000000000,
          28800000000000,
          36000000000000,
          36000000000000,
          37500000000000,
          43200000000000,
          46800000000000,
          25200000000000,
          18000000000000,
          39600000000000,
          32400000000000,
          36000000000000,
          43200000000000,
          18000000000000,
          18000000000000,
          36000000000000,
          25200000000000,
          23400000000000,
          36000000000000,
          39600000000000,
          43200000000000,
          21600000000000,
          18000000000000,
          18000000000000,
          23400000000000,
          32400000000000,
          36000000000000,
          43200000000000,
          18000000000000,
          36000000000000,
          18000000000000,
          36000000000000,
          25200000000000,
          28800000000000,
          36000000000000,
          36000000000000,
          38400000000000,
          43200000000000,
          21600000000000,
          25200000000000,
          30600000000000,
          33000000000000,
          21600000000000,
          36000000000000,
          36000000000000,
          38580000000000,
          50400000000000,
          18000000000000,
          28800000000000,
          30600000000000,
          30600000000000,
          36000000000000,
          34200000000000,
          36000000000000,
          36900000000000,
          43200000000000,
          46800000000000,
          18000000000000,
          25200000000000,
          21600000000000,
          43200000000000,
          34200000000000,
          36000000000000,
          43200000000000,
          18000000000000,
          26400000000000,
          21600000000000,
          34200000000000,
          36000000000000,
          43200000000000,
          25200000000000,
          39600000000000,
          25200000000000,
          32400000000000,
          34200000000000,
          36000000000000,
          48600000000000,
          18000000000000,
          21600000000000,
          29700000000000,
          36000000000000,
          36000000000000,
          43200000000000,
          25200000000000,
          28800000000000,
          28800000000000,
          28800000000000,
          36000000000000,
          36000000000000,
          36900000000000,
          43200000000000,
          43200000000000,
          21600000000000,
          25200000000000,
          37200000000000,
          32400000000000,
          21600000000000,
          28800000000000,
          28800000000000,
          34200000000000,
          36000000000000,
          36900000000000,
          21600000000000,
          18000000000000,
          21600000000000,
          21600000000000,
          25200000000000,
          21600000000000,
          28800000000000,
          34200000000000,
          34200000000000,
          36000000000000,
          36900000000000,
          43200000000000,
          43200000000000,
          43200000000000,
          43200000000000,
          14400000000000,
          10800000000000,
          30600000000000,
          21600000000000,
          21600000000000,
          34200000000000,
          36000000000000,
          43200000000000,
          43200000000000,
          7200000000000,
          10800000000000,
          9000000000000,
          21600000000000,
          34200000000000,
          36000000000000,
          43200000000000,
          7200000000000,
          7200000000000,
          18000000000000,
          9000000000000,
          10800000000000,
          28800000000000,
          34200000000000,
          36000000000000,
          46800000000000,
          10800000000000,
          18000000000000,
          36000000000000,
          43200000000000,
          25200000000000,
          25200000000000,
          28800000000000,
          27000000000000,
          43200000000000,
          32400000000000,
          29700000000000,
          32400000000000,
          33300000000000,
          39600000000000,
          18000000000000,
          30600000000000,
          30600000000000,
          43200000000000,
          21600000000000,
          32400000000000,
          36000000000000,
          33300000000000,
          36000000000000,
          37500000000000,
          43200000000000,
          25200000000000,
          38700000000000,
          32400000000000,
          33300000000000,
          36000000000000,
          36900000000000,
          43200000000000,
          34200000000000,
          36000000000000,
          34200000000000,
          36000000000000,
          21600000000000,
          34200000000000,
          36000000000000,
          18000000000000,
          36000000000000,
          36000000000000,
          43200000000000,
          43200000000000,
          15300000000000,
          28800000000000,
          28800000000000,
          36000000000000,
          33300000000000,
          36000000000000,
          36900000000000,
          43200000000000,
          18000000000000,
          32400000000000,
          34200000000000,
          21600000000000,
          36000000000000,
          33300000000000,
          36000000000000,
          36900000000000,
          43200000000000,
          7200000000000,
          21600000000000,
          21600000000000,
          28800000000000,
          43200000000000,
          28800000000000,
          36000000000000,
          36900000000000,
          43200000000000,
          43200000000000,
          25200000000000,
          21600000000000,
          32400000000000,
          46800000000000,
          28800000000000,
          32400000000000,
          34200000000000,
          36000000000000,
          25200000000000,
          30600000000000,
          36000000000000,
          32400000000000,
          34200000000000,
          36000000000000,
          23400000000000,
          21600000000000,
          32400000000000,
          34200000000000,
          34200000000000,
          36000000000000,
          18000000000000,
          36000000000000,
          45000000000000,
          30600000000000,
          28800000000000,
          43200000000000,
          36000000000000,
          36000000000000,
          38400000000000,
          41400000000000,
          18000000000000,
          32400000000000,
          32700000000000,
          21600000000000,
          43200000000000,
          36000000000000,
          36000000000000,
          36900000000000,
          28800000000000,
          36000000000000,
          36000000000000,
          36900000000000,
          43200000000000,
          43200000000000,
          43200000000000,
          21600000000000,
          34200000000000,
          21600000000000,
          33300000000000,
          33300000000000,
          36000000000000,
          43200000000000,
          45000000000000,
          21600000000000,
          30600000000000,
          21600000000000,
          33300000000000,
          33300000000000,
          36000000000000,
          43200000000000,
          21600000000000,
          33300000000000,
          33300000000000,
          36000000000000,
          43200000000000,
          21600000000000,
          36000000000000,
          21600000000000,
          33300000000000,
          36000000000000,
          30600000000000,
          27600000000000,
          21600000000000,
          32400000000000,
          36000000000000,
          36000000000000,
          36900000000000,
          18000000000000,
          30600000000000,
          34800000000000,
          21600000000000,
          32400000000000,
          36000000000000,
          36000000000000,
          36900000000000,
          43200000000000,
          43200000000000,
          32400000000000,
          36000000000000,
          36000000000000,
          36900000000000,
          43200000000000,
          43200000000000,
          43200000000000,
          12600000000000,
          36000000000000,
          43200000000000,
          43200000000000,
          33300000000000,
          36000000000000,
          43200000000000,
          43200000000000,
          32400000000000,
          28800000000000,
          30600000000000,
          34200000000000,
          33300000000000,
          36000000000000,
          43200000000000,
          44100000000000,
          32400000000000,
          30600000000000,
          36000000000000,
          43200000000000,
          30600000000000,
          18000000000000,
          28800000000000,
          32400000000000,
          33300000000000,
          36000000000000,
          36900000000000,
          43200000000000,
          18000000000000,
          19800000000000,
          30600000000000,
          31800000000000,
          21600000000000,
          32400000000000,
          33300000000000,
          36000000000000,
          36900000000000,
          43200000000000,
          18000000000000,
          32400000000000,
          32400000000000,
          33300000000000,
          33300000000000,
          36000000000000,
          36900000000000,
          43200000000000,
          43200000000000,
          43200000000000,
          43200000000000,
          30600000000000,
          32400000000000,
          30600000000000,
          33300000000000,
          36000000000000,
          36000000000000,
          37800000000000,
          43200000000000,
          43200000000000,
          44100000000000,
          46800000000000,
          30600000000000,
          32400000000000,
          30600000000000,
          33300000000000,
          36000000000000,
          39600000000000,
          43200000000000,
          43200000000000,
          43200000000000,
          30600000000000,
          27000000000000,
          32400000000000,
          30600000000000,
          33300000000000,
          36000000000000,
          43200000000000,
          44100000000000,
          30600000000000,
          32400000000000,
          30600000000000,
          32400000000000,
          36000000000000,
          43200000000000,
          45000000000000,
          28800000000000,
          21600000000000,
          36000000000000,
          36900000000000,
          42600000000000,
          43200000000000,
          43200000000000,
          18000000000000,
          36000000000000,
          21600000000000,
          21600000000000,
          30600000000000,
          36000000000000,
          44100000000000,
          43200000000000,
          44400000000000,
          43200000000000,
          18000000000000,
          32400000000000,
          30600000000000,
          32400000000000,
          36000000000000,
          39600000000000,
          36900000000000,
          43200000000000,
          43200000000000,
          18000000000000,
          32400000000000,
          32400000000000,
          34200000000000,
          36000000000000,
          43200000000000,
          18000000000000,
          21600000000000,
          32400000000000,
          32400000000000,
          34200000000000,
          120600000000000,
          36000000000000,
          43200000000000,
          21600000000000,
          10800000000000,
          32400000000000,
          30600000000000,
          32400000000000,
          34200000000000,
          36000000000000,
          30600000000000,
          32400000000000,
          30600000000000,
          33300000000000,
          36000000000000,
          36000000000000,
          36900000000000,
          43200000000000,
          46800000000000,
          30600000000000,
          28800000000000,
          34200000000000,
          36000000000000,
          36900000000000,
          43200000000000,
          46800000000000,
          18000000000000,
          16200000000000,
          31800000000000,
          34200000000000,
          36000000000000,
          36900000000000,
          46800000000000,
          27000000000000,
          32400000000000,
          32400000000000,
          32400000000000,
          36000000000000,
          36900000000000,
          43200000000000,
          21600000000000,
          18000000000000,
          32400000000000,
          28800000000000,
          32400000000000,
          34200000000000,
          36000000000000,
          36900000000000,
          18000000000000,
          31500000000000,
          32400000000000,
          32400000000000,
          34200000000000,
          36000000000000,
          36900000000000,
          40500000000000,
          28800000000000,
          33600000000000,
          32400000000000,
          21600000000000,
          34200000000000,
          36000000000000,
          39600000000000,
          36900000000000,
          20700000000000,
          27000000000000,
          27000000000000,
          32400000000000,
          36000000000000,
          36900000000000,
          43200000000000,
          30600000000000,
          28800000000000,
          31500000000000,
          36000000000000,
          36900000000000,
          46980000000000,
          18000000000000,
          21600000000000,
          32400000000000,
          36000000000000,
          36900000000000,
          27000000000000,
          36000000000000,
          36900000000000,
          43200000000000,
          9000000000000,
          21600000000000,
          18000000000000,
          21600000000000,
          27000000000000,
          36000000000000,
          34200000000000,
          36000000000000,
          36900000000000,
          18000000000000,
          21600000000000,
          10800000000000,
          27000000000000,
          34200000000000,
          36000000000000,
          36900000000000,
          18000000000000,
          21600000000000,
          30600000000000,
          27000000000000,
          34200000000000,
          36000000000000,
          36900000000000,
          21600000000000,
          30600000000000,
          27000000000000,
          36000000000000,
          36900000000000,
          30600000000000,
          30600000000000,
          28800000000000,
          36000000000000,
          36900000000000,
          15600000000000,
          21600000000000,
          30600000000000,
          30600000000000,
          21600000000000,
          21600000000000,
          34200000000000,
          36000000000000,
          36900000000000,
          18000000000000,
          30600000000000,
          30600000000000,
          28800000000000,
          27000000000000,
          34200000000000,
          36000000000000,
          36900000000000,
          43200000000000,
          32400000000000,
          30600000000000,
          30600000000000,
          34200000000000,
          36000000000000,
          36900000000000,
          25200000000000,
          30600000000000,
          30600000000000,
          27000000000000,
          34200000000000,
          36000000000000,
          40380000000000,
          43200000000000,
          30600000000000,
          25200000000000,
          27000000000000,
          34200000000000,
          36000000000000,
          43200000000000,
          21600000000000,
          30600000000000,
          25200000000000,
          27000000000000,
          34200000000000,
          36000000000000,
          43200000000000,
          21600000000000,
          34800000000000,
          30600000000000,
          28800000000000,
          29820000000000,
          36000000000000,
          36900000000000,
          43200000000000,
          21600000000000,
          30600000000000,
          21600000000000,
          28800000000000,
          21600000000000,
          34200000000000,
          36000000000000,
          36900000000000,
          18000000000000,
          30600000000000,
          21600000000000,
          28800000000000,
          27000000000000,
          36000000000000,
          36900000000000,
          43200000000000,
          21600000000000,
          14400000000000,
          12600000000000,
          30600000000000,
          27000000000000,
          34200000000000,
          36000000000000,
          10800000000000,
          18000000000000,
          21600000000000,
          12600000000000,
          12600000000000,
          37800000000000,
          34200000000000,
          36000000000000,
          43200000000000,
          16200000000000,
          30600000000000,
          12600000000000,
          39600000000000,
          27000000000000,
          34200000000000,
          36000000000000,
          43200000000000,
          46800000000000,
          30600000000000,
          32400000000000,
          27000000000000,
          36000000000000,
          43200000000000,
          43200000000000,
          43200000000000,
          30600000000000,
          28800000000000,
          32400000000000,
          36000000000000,
          36900000000000,
          21600000000000,
          30600000000000,
          30600000000000,
          21600000000000,
          36000000000000,
          36900000000000,
          37800000000000,
          18000000000000,
          30600000000000,
          21600000000000,
          30600000000000,
          27000000000000,
          36000000000000,
          36900000000000,
          37800000000000,
          43200000000000,
          46800000000000,
          18000000000000,
          21600000000000,
          28800000000000,
          27000000000000,
          36000000000000,
          43200000000000,
          18000000000000,
          28800000000000,
          27000000000000,
          36000000000000,
          43200000000000,
          46800000000000,
          32400000000000,
          32400000000000,
          36000000000000,
          40500000000000,
          45900000000000,
          30600000000000,
          27000000000000,
          36000000000000,
          43200000000000,
          28800000000000,
          28800000000000,
          36000000000000,
          36900000000000,
          43200000000000,
          21600000000000,
          30600000000000,
          21600000000000,
          28800000000000,
          36000000000000,
          36900000000000,
          37800000000000,
          43200000000000,
          43200000000000,
          43200000000000,
          21600000000000,
          23400000000000,
          28800000000000,
          27000000000000,
          36000000000000,
          36900000000000,
          43200000000000,
          43200000000000,
          43200000000000,
          27000000000000,
          33300000000000,
          36000000000000,
          37800000000000,
          43200000000000,
          43200000000000,
          25200000000000,
          33300000000000,
          36000000000000,
          43200000000000,
          47700000000000,
          46800000000000,
          18000000000000,
          19800000000000,
          21600000000000,
          30600000000000,
          33300000000000,
          36000000000000,
          43200000000000,
          43200000000000,
          46800000000000,
          18000000000000,
          36000000000000,
          44100000000000,
          25200000000000,
          25200000000000,
          32400000000000,
          25200000000000,
          40500000000000,
          36000000000000,
          36900000000000,
          37800000000000,
          46800000000000,
          41400000000000,
          21600000000000,
          53100000000000,
          21600000000000,
          21600000000000,
          25200000000000,
          21600000000000,
          21600000000000,
          36000000000000,
          36900000000000,
          37800000000000,
          18000000000000,
          21600000000000,
          23400000000000,
          21600000000000,
          33300000000000,
          34200000000000,
          36000000000000,
          36900000000000,
          37800000000000,
          43200000000000,
          43200000000000,
          43200000000000,
          10200000000000,
          36000000000000,
          37800000000000,
          43200000000000,
          43200000000000,
          43200000000000,
          43200000000000,
          18000000000000,
          21600000000000,
          36000000000000,
          43200000000000,
          43200000000000,
          43200000000000,
          46800000000000,
          51600000000000,
          18000000000000,
          30600000000000,
          21600000000000,
          36000000000000,
          36000000000000,
          43200000000000,
          43200000000000,
          18000000000000,
          30600000000000,
          30600000000000,
          21600000000000,
          36000000000000,
          36900000000000,
          40500000000000,
          25200000000000,
          28800000000000,
          28800000000000,
          36000000000000,
          36900000000000,
          43200000000000,
          43200000000000,
          21600000000000,
          25200000000000,
          25200000000000,
          28800000000000,
          21600000000000,
          33300000000000,
          36000000000000,
          36900000000000,
          43200000000000,
          21600000000000,
          21600000000000,
          21600000000000,
          34200000000000,
          36000000000000,
          43200000000000,
          21600000000000,
          18000000000000,
          36000000000000,
          43200000000000,
          21600000000000,
          18000000000000,
          36000000000000,
          40500000000000,
          43200000000000,
          21600000000000,
          23400000000000,
          36000000000000,
          21600000000000,
          23400000000000,
          36000000000000,
          37800000000000,
          43200000000000,
          25200000000000,
          30600000000000,
          28800000000000,
          36000000000000,
          36900000000000,
          37800000000000,
          37800000000000,
          46800000000000,
          22500000000000,
          21600000000000,
          30600000000000,
          21600000000000,
          36000000000000,
          36900000000000,
          37800000000000,
          43200000000000,
          24300000000000,
          25200000000000,
          33600000000000,
          34200000000000,
          36000000000000,
          36900000000000,
          37800000000000,
          43200000000000,
          43200000000000,
          46800000000000,
          16200000000000,
          10800000000000,
          18000000000000,
          36000000000000,
          40500000000000,
          43200000000000,
          43200000000000,
          18000000000000,
          36000000000000,
          43200000000000,
          16800000000000,
          10800000000000,
          14400000000000,
          14400000000000,
          30600000000000,
          36000000000000,
          10800000000000,
          27000000000000,
          14400000000000,
          14400000000000,
          30600000000000,
          30600000000000,
          36000000000000,
          43200000000000,
          28800000000000,
          36000000000000,
          36900000000000,
          46800000000000,
          21600000000000,
          21600000000000,
          36000000000000,
          36900000000000,
          43200000000000,
          21600000000000,
          21000000000000,
          34200000000000,
          36000000000000,
          36900000000000,
          43200000000000,
          18000000000000,
          36000000000000,
          43200000000000,
          18000000000000,
          21600000000000,
          36000000000000,
          43200000000000,
          23400000000000,
          34200000000000,
          36000000000000,
          43200000000000,
          21600000000000,
          36000000000000,
          46800000000000,
          28800000000000,
          36000000000000,
          36900000000000,
          43200000000000,
          21600000000000,
          43200000000000,
          21600000000000,
          32400000000000,
          36000000000000,
          36900000000000,
          46800000000000,
          21600000000000,
          21600000000000,
          43200000000000,
          33300000000000,
          36000000000000,
          36900000000000,
          43200000000000,
          43200000000000,
          43200000000000,
          18000000000000,
          19500000000000,
          36000000000000,
          43200000000000,
          43200000000000,
          43200000000000,
          18000000000000,
          18000000000000,
          36000000000000,
          43200000000000,
          36000000000000,
          43200000000000,
          36000000000000,
          36000000000000,
          43200000000000,
          28800000000000,
          43200000000000,
          21600000000000,
          36000000000000,
          36900000000000,
          39600000000000,
          43200000000000,
          21600000000000,
          23400000000000,
          21600000000000,
          45000000000000,
          36000000000000,
          36900000000000,
          39600000000000,
          46800000000000,
          21600000000000,
          23400000000000,
          14400000000000,
          43200000000000,
          21600000000000,
          36000000000000,
          36900000000000,
          43200000000000,
          43200000000000,
          18000000000000,
          21600000000000,
          36000000000000,
          18000000000000,
          36000000000000,
          36000000000000,
          43200000000000,
          36000000000000,
          43200000000000,
          18000000000000,
          36000000000000,
          45000000000000,
          43200000000000,
          28800000000000,
          36000000000000,
          36900000000000,
          43200000000000,
          43200000000000,
          21600000000000,
          21600000000000,
          21600000000000,
          36000000000000,
          36900000000000,
          43200000000000,
          21600000000000,
          21600000000000,
          21600000000000,
          25200000000000,
          36000000000000,
          36900000000000,
          43200000000000,
          43200000000000,
          18000000000000,
          21600000000000,
          21600000000000,
          18000000000000,
          36000000000000,
          43200000000000,
          18000000000000,
          30600000000000,
          36000000000000,
          43200000000000,
          36000000000000,
          43200000000000,
          43200000000000,
          30600000000000,
          30600000000000,
          36000000000000,
          43200000000000,
          21600000000000,
          9000000000000,
          19800000000000,
          33300000000000,
          36000000000000,
          36900000000000,
          43200000000000,
          21600000000000,
          25200000000000,
          21600000000000,
          36000000000000,
          36900000000000,
          21600000000000,
          23400000000000,
          36000000000000,
          36900000000000,
          43200000000000,
          43200000000000,
          18000000000000,
          21600000000000,
          34200000000000,
          36000000000000,
          43200000000000,
          18000000000000,
          34200000000000,
          36000000000000,
          45000000000000,
          25200000000000,
          25200000000000,
          36000000000000,
          43200000000000,
          36000000000000,
          40200000000000,
          25200000000000,
          28800000000000,
          36000000000000,
          43200000000000,
          25200000000000,
          25200000000000,
          21600000000000,
          21600000000000,
          36000000000000,
          43200000000000,
          18000000000000,
          25200000000000,
          33300000000000,
          36000000000000,
          43200000000000,
          18000000000000,
          21600000000000,
          30600000000000,
          36000000000000,
          43200000000000,
          18000000000000,
          36000000000000,
          37800000000000,
          43200000000000,
          36000000000000,
          43200000000000,
          43200000000000,
          18000000000000,
          43200000000000,
          36000000000000,
          43200000000000,
          43200000000000,
          22500000000000,
          30600000000000,
          28800000000000,
          45000000000000,
          39600000000000,
          46800000000000,
          46800000000000,
          22500000000000,
          21600000000000,
          21600000000000,
          30600000000000,
          25200000000000,
          36000000000000,
          43200000000000,
          18000000000000,
          18000000000000,
          30600000000000,
          21600000000000,
          36000000000000,
          43200000000000,
          43200000000000,
          43200000000000,
          25200000000000,
          18000000000000,
          21600000000000,
          36000000000000,
          37800000000000,
          43200000000000,
          43200000000000,
          43200000000000,
          18000000000000,
          43200000000000,
          36000000000000,
          39600000000000,
          37800000000000,
          43200000000000,
          43200000000000,
          43200000000000,
          27000000000000,
          43200000000000,
          34200000000000,
          36000000000000,
          41400000000000,
          43200000000000,
          43200000000000,
          43200000000000,
          30600000000000,
          36000000000000,
          43200000000000,
          28800000000000,
          30600000000000,
          46800000000000,
          36000000000000,
          43200000000000,
          21600000000000,
          21600000000000,
          21600000000000,
          30600000000000,
          36000000000000,
          43200000000000,
          30600000000000,
          36000000000000,
          43200000000000,
          43200000000000,
          43200000000000,
          18000000000000,
          21600000000000,
          21600000000000,
          25200000000000,
          36000000000000,
          43200000000000,
          43200000000000,
          18000000000000,
          36000000000000,
          43200000000000,
          43200000000000,
          32400000000000,
          32400000000000,
          30600000000000,
          45900000000000,
          36000000000000,
          43200000000000,
          43200000000000,
          30600000000000,
          30600000000000,
          28800000000000,
          34200000000000,
          43200000000000,
          36000000000000,
          43200000000000,
          43200000000000,
          43200000000000,
          40500000000000,
          28800000000000,
          43200000000000,
          36000000000000,
          43200000000000,
          43200000000000,
          43200000000000,
          21600000000000,
          21600000000000,
          21600000000000,
          21600000000000,
          21600000000000,
          21600000000000,
          36000000000000,
          43200000000000,
          30600000000000,
          36000000000000,
          43200000000000,
          18000000000000,
          36000000000000,
          37800000000000,
          43200000000000,
          43200000000000,
          18000000000000,
          36000000000000,
          36900000000000,
          37800000000000,
          43200000000000,
          43200000000000,
          40500000000000,
          43200000000000,
          36000000000000,
          36900000000000,
          37800000000000,
          43200000000000,
          43200000000000,
          21600000000000,
          36000000000000,
          36000000000000,
          43200000000000,
          28800000000000,
          21600000000000,
          28800000000000,
          36000000000000,
          43200000000000,
          21600000000000,
          18000000000000,
          21600000000000,
          30600000000000,
          36000000000000,
          43200000000000,
          43200000000000,
          30600000000000,
          21600000000000,
          30600000000000,
          36000000000000,
          43200000000000,
          20400000000000,
          20700000000000,
          30600000000000,
          36000000000000,
          18000000000000,
          30600000000000,
          30600000000000,
          36000000000000,
          36900000000000,
          43200000000000,
          30600000000000,
          30600000000000,
          30600000000000,
          36000000000000,
          36900000000000,
          43200000000000,
          44100000000000,
          28800000000000,
          32400000000000,
          30600000000000,
          36000000000000,
          43200000000000,
          43200000000000,
          43200000000000,
          45000000000000,
          21600000000000,
          28800000000000,
          30600000000000,
          36000000000000,
          43200000000000,
          43200000000000,
          43200000000000,
          18000000000000,
          21600000000000,
          30600000000000,
          21600000000000,
          36000000000000,
          39600000000000,
          43200000000000,
          43200000000000,
          27000000000000,
          18000000000000,
          28800000000000,
          34200000000000,
          35100000000000,
          43200000000000,
          43200000000000,
          43200000000000,
          18000000000000,
          28800000000000,
          21600000000000,
          34200000000000,
          36000000000000,
          43200000000000,
          25200000000000,
          18000000000000,
          36000000000000,
          34200000000000,
          36000000000000,
          43200000000000,
          26100000000000,
          34200000000000,
          36000000000000,
          28800000000000,
          21600000000000,
          36000000000000,
          21600000000000,
          28800000000000,
          36000000000000,
          36900000000000,
          21600000000000,
          28800000000000,
          18000000000000,
          21600000000000,
          28800000000000,
          36000000000000,
          36000000000000,
          36900000000000,
          43200000000000,
          43200000000000,
          25200000000000,
          28800000000000,
          28800000000000,
          30600000000000,
          21600000000000,
          32400000000000,
          36000000000000,
          43200000000000,
          44400000000000,
          14400000000000,
          28800000000000,
          21600000000000,
          30600000000000,
          36000000000000,
          36000000000000,
          43200000000000,
          43200000000000,
          18000000000000,
          35400000000000,
          30600000000000,
          10800000000000,
          36000000000000,
          41400000000000,
          43200000000000,
          43200000000000,
          28800000000000,
          30600000000000,
          10800000000000,
          36000000000000,
          36900000000000,
          21600000000000,
          16200000000000,
          30600000000000,
          10800000000000,
          43200000000000,
          36000000000000,
          36900000000000,
          27000000000000,
          21600000000000,
          28800000000000,
          32400000000000,
          36000000000000,
          36900000000000,
          18000000000000,
          21600000000000,
          27000000000000,
          28800000000000,
          21600000000000,
          30600000000000,
          37800000000000,
          36900000000000,
          43200000000000,
          18000000000000,
          18000000000000,
          21600000000000,
          28800000000000,
          21600000000000,
          32400000000000,
          34200000000000,
          36000000000000,
          44100000000000,
          45000000000000,
          21600000000000,
          18000000000000,
          28800000000000,
          21600000000000,
          32400000000000,
          34200000000000,
          36000000000000,
          43200000000000,
          18000000000000,
          28800000000000,
          10800000000000,
          34200000000000,
          36000000000000,
          43800000000000,
          28800000000000,
          10800000000000,
          39600000000000,
          27600000000000,
          36000000000000,
          21600000000000,
          21600000000000,
          10800000000000,
          32400000000000,
          36000000000000,
          18000000000000,
          21600000000000,
          25200000000000,
          41400000000000,
          43200000000000,
          36000000000000,
          43200000000000,
          45000000000000,
          21600000000000,
          39600000000000,
          43200000000000,
          34200000000000,
          16200000000000,
          36000000000000,
          43200000000000,
          43200000000000,
          21600000000000,
          28800000000000,
          21600000000000,
          36000000000000,
          43200000000000,
          29700000000000,
          21600000000000,
          28800000000000,
          36000000000000,
          27900000000000,
          28800000000000,
          28800000000000,
          32400000000000,
          36000000000000,
          46800000000000,
          27900000000000,
          21600000000000,
          28800000000000,
          32400000000000,
          36000000000000,
          36900000000000,
          24300000000000,
          36000000000000,
          36900000000000,
          43200000000000,
          28800000000000,
          36000000000000,
          36900000000000,
          43200000000000,
          46800000000000,
          21600000000000,
          32400000000000,
          32400000000000,
          21600000000000,
          36000000000000,
          36900000000000,
          20700000000000,
          21600000000000,
          36000000000000,
          36900000000000,
          43200000000000,
          20700000000000,
          25200000000000,
          32400000000000,
          31500000000000,
          36000000000000,
          36900000000000,
          37800000000000,
          43200000000000,
          28800000000000,
          43200000000000,
          30600000000000,
          32400000000000,
          31500000000000,
          36000000000000,
          37800000000000,
          36900000000000,
          43200000000000,
          20700000000000,
          28800000000000,
          43200000000000,
          30600000000000,
          32400000000000,
          31500000000000,
          36000000000000,
          36900000000000,
          43200000000000,
          43200000000000,
          21600000000000,
          28800000000000,
          31500000000000,
          36000000000000,
          36900000000000,
          39600000000000,
          43200000000000,
          43200000000000,
          21600000000000,
          28800000000000,
          28800000000000,
          36000000000000,
          36900000000000,
          37800000000000,
          39600000000000,
          43200000000000,
          43200000000000,
          46800000000000,
          28800000000000,
          28800000000000,
          32400000000000,
          36000000000000,
          36900000000000,
          36900000000000,
          28800000000000,
          28800000000000,
          30600000000000,
          43200000000000,
          21600000000000,
          36000000000000,
          36900000000000,
          43200000000000,
          28800000000000,
          28800000000000,
          25200000000000,
          27000000000000,
          31500000000000,
          34200000000000,
          36000000000000,
          43200000000000,
          28800000000000,
          25200000000000,
          28800000000000,
          25200000000000,
          28800000000000,
          31500000000000,
          34200000000000,
          36000000000000,
          36900000000000,
          41400000000000,
          43200000000000,
          21600000000000,
          28800000000000,
          25200000000000,
          30600000000000,
          31500000000000,
          34200000000000,
          36000000000000,
          36900000000000,
          43200000000000,
          43200000000000,
          21600000000000,
          28800000000000,
          25200000000000,
          27000000000000,
          31500000000000,
          36000000000000,
          43200000000000,
          43200000000000,
          39600000000000,
          43200000000000,
          43200000000000,
          46800000000000,
          28800000000000,
          28800000000000,
          28800000000000,
          43200000000000,
          36000000000000,
          36900000000000,
          36900000000000,
          45000000000000,
          43200000000000,
          39600000000000,
          45000000000000,
          28800000000000,
          18000000000000,
          30600000000000,
          36000000000000,
          36900000000000,
          39600000000000,
          39600000000000,
          28800000000000,
          28800000000000,
          28800000000000,
          43200000000000,
          25200000000000,
          19500000000000,
          36000000000000,
          36000000000000,
          36900000000000,
          43200000000000,
          28800000000000,
          23400000000000,
          25200000000000,
          25200000000000,
          33300000000000,
          36000000000000,
          34200000000000,
          36000000000000,
          35100000000000,
          43200000000000,
          28800000000000,
          25200000000000,
          26160000000000,
          34200000000000,
          36000000000000,
          43200000000000,
          21600000000000,
          25200000000000,
          36000000000000,
          35100000000000,
          36900000000000,
          43200000000000,
          43200000000000,
          43200000000000,
          28800000000000,
          25200000000000,
          38700000000000,
          38700000000000,
          43200000000000,
          43200000000000,
          43200000000000,
          28800000000000,
          28800000000000,
          43200000000000,
          43200000000000,
          21600000000000,
          32400000000000,
          31500000000000,
          39000000000000,
          43200000000000,
          43200000000000,
          28800000000000,
          28800000000000,
          36000000000000,
          25200000000000,
          43200000000000,
          43200000000000,
          41400000000000,
          43200000000000,
          28800000000000,
          36000000000000,
          25200000000000,
          36000000000000,
          36900000000000,
          38700000000000,
          43200000000000,
          43200000000000,
          43200000000000,
          28800000000000,
          31500000000000,
          36000000000000,
          36900000000000,
          43200000000000,
          43200000000000,
          28800000000000,
          31500000000000,
          36000000000000,
          36900000000000,
          43200000000000,
          31500000000000,
          36000000000000,
          43200000000000,
          43200000000000,
          31500000000000,
          35100000000000,
          39600000000000,
          43200000000000,
          28800000000000,
          28800000000000,
          39600000000000,
          43200000000000,
          43200000000000,
          28800000000000,
          21600000000000,
          22500000000000,
          28800000000000,
          39600000000000,
          43200000000000,
          43200000000000,
          43200000000000,
          27000000000000,
          28800000000000,
          27000000000000,
          36000000000000,
          36900000000000,
          43200000000000,
          43200000000000,
          43200000000000,
          43200000000000,
          28800000000000,
          35100000000000,
          36000000000000,
          36900000000000,
          43200000000000,
          43200000000000,
          43200000000000,
          28800000000000,
          36000000000000,
          36900000000000,
          43200000000000,
          43200000000000,
          28800000000000,
          43200000000000,
          41400000000000,
          43200000000000,
          22500000000000,
          36900000000000,
          43200000000000,
          39600000000000,
          43200000000000,
          28800000000000,
          28800000000000,
          43200000000000,
          43200000000000,
          31500000000000,
          40500000000000,
          43200000000000,
          39600000000000,
          43200000000000,
          21600000000000,
          21600000000000,
          28800000000000,
          21600000000000,
          31500000000000,
          43200000000000,
          45000000000000,
          43200000000000,
          21600000000000,
          28800000000000,
          28800000000000,
          43200000000000,
          31500000000000,
          36000000000000,
          43200000000000,
          39600000000000,
          43200000000000,
          43200000000000,
          28800000000000,
          28800000000000,
          18000000000000,
          31500000000000,
          36000000000000,
          43200000000000,
          23400000000000,
          28800000000000,
          28800000000000,
          36000000000000,
          43200000000000,
          28800000000000,
          43200000000000,
          36000000000000,
          36900000000000,
          43200000000000,
          43200000000000,
          43200000000000,
          27000000000000,
          28800000000000,
          43200000000000,
          36900000000000,
          43200000000000,
          39600000000000,
          43200000000000,
          23400000000000,
          30600000000000,
          36000000000000,
          43200000000000,
          27000000000000,
          31500000000000,
          36900000000000,
          43200000000000,
          39600000000000,
          43200000000000,
          21600000000000,
          43200000000000,
          31500000000000,
          43200000000000,
          39600000000000,
          21600000000000,
          30600000000000,
          25200000000000,
          25200000000000,
          31500000000000,
          36000000000000,
          36000000000000,
          43200000000000,
          43200000000000,
          30600000000000,
          43200000000000,
          25200000000000,
          36000000000000,
          36000000000000,
          43200000000000,
          30600000000000,
          21600000000000,
          21600000000000,
          43200000000000,
          25200000000000,
          36000000000000,
          38700000000000,
          43200000000000,
          14400000000000,
          7200000000000,
          30600000000000,
          21600000000000,
          25200000000000,
          25200000000000,
          36000000000000,
          36900000000000,
          41400000000000,
          43200000000000,
          43200000000000,
          21600000000000,
          21600000000000,
          25200000000000,
          27000000000000,
          25200000000000,
          39600000000000,
          43200000000000,
          28800000000000,
          28800000000000,
          43200000000000,
          31500000000000,
          39600000000000,
          43200000000000,
          43200000000000,
          21600000000000,
          43200000000000,
          43200000000000,
          31500000000000,
          39600000000000,
          21600000000000,
          43200000000000,
          31500000000000,
          36000000000000,
          36900000000000,
          39600000000000,
          43200000000000,
          43200000000000,
          43200000000000,
          31500000000000,
          31500000000000,
          36000000000000,
          36900000000000,
          43200000000000,
          21600000000000,
          27000000000000,
          36000000000000,
          43200000000000,
          21600000000000,
          21600000000000,
          43200000000000,
          36000000000000,
          43200000000000,
          43200000000000,
          21600000000000,
          27000000000000,
          43200000000000,
          19800000000000,
          39600000000000,
          43200000000000,
          43200000000000,
          41400000000000,
          18000000000000,
          28800000000000,
          28800000000000,
          28800000000000,
          43200000000000,
          43200000000000,
          36000000000000,
          43200000000000,
          43200000000000,
          39600000000000,
          43200000000000,
          18000000000000,
          28800000000000,
          28800000000000,
          43200000000000,
          43200000000000,
          43200000000000,
          34200000000000,
          39600000000000,
          43200000000000,
          39600000000000,
          43200000000000,
          19800000000000,
          21600000000000,
          36000000000000,
          36900000000000,
          43200000000000,
          43200000000000,
          43200000000000,
          46800000000000,
          36000000000000,
          36000000000000,
          36900000000000,
          43200000000000,
          27000000000000,
          36000000000000,
          43200000000000,
          21600000000000,
          36000000000000,
          39600000000000,
          43200000000000,
          43200000000000,
          21600000000000,
          25200000000000,
          39600000000000,
          43200000000000,
          28800000000000,
          28800000000000,
          43200000000000,
          39600000000000,
          43200000000000,
          21600000000000,
          28800000000000,
          43200000000000,
          43200000000000,
          38700000000000,
          39600000000000,
          43200000000000,
          21600000000000,
          24300000000000,
          43200000000000,
          32400000000000,
          36000000000000,
          36000000000000,
          39600000000000,
          39600000000000,
          43200000000000,
          18000000000000,
          18000000000000,
          41400000000000,
          43200000000000,
          36000000000000,
          43200000000000,
          43200000000000,
          43200000000000,
          43200000000000,
          36000000000000,
          36000000000000,
          43200000000000,
          43200000000000,
          36000000000000,
          36000000000000,
          39600000000000,
          43200000000000,
          18000000000000,
          43200000000000,
          43200000000000,
          18000000000000,
          18000000000000,
          18000000000000,
          43200000000000,
          43200000000000,
          43200000000000,
          18000000000000,
          21600000000000,
          43200000000000,
          43200000000000,
          43200000000000,
          18000000000000,
          36000000000000,
          43200000000000,
          43200000000000,
          43200000000000,
          10800000000000,
          21600000000000,
          21600000000000,
          16200000000000,
          36000000000000,
          43200000000000,
          21600000000000,
          21600000000000,
          36000000000000,
          16200000000000,
          36000000000000,
          43200000000000,
          45000000000000,
          28800000000000,
          21600000000000,
          50400000000000,
          16200000000000,
          36000000000000,
          43200000000000,
          52200000000000,
          18000000000000,
          18000000000000,
          21600000000000,
          28800000000000,
          43200000000000,
          45900000000000,
          18600000000000,
          21600000000000,
          43200000000000,
          43200000000000,
          31500000000000,
          19200000000000,
          18000000000000,
          25200000000000,
          43200000000000,
          43200000000000,
          40500000000000,
          18000000000000,
          21600000000000,
          32400000000000,
          25200000000000,
          25200000000000,
          25200000000000,
          36000000000000,
          43200000000000,
          23400000000000,
          18000000000000,
          21600000000000,
          21600000000000,
          25200000000000,
          25200000000000,
          25200000000000,
          27000000000000,
          36000000000000,
          43200000000000,
          10800000000000,
          18000000000000,
          7200000000000,
          43200000000000,
          25200000000000,
          25200000000000,
          25200000000000,
          36000000000000,
          43200000000000,
          16200000000000,
          43200000000000,
          36000000000000,
          36900000000000,
          36900000000000,
          36900000000000,
          43200000000000,
          43200000000000,
          25200000000000,
          36900000000000,
          36900000000000,
          36900000000000,
          30300000000000,
          25200000000000,
          25200000000000,
          25200000000000,
          36900000000000,
          36900000000000,
          21600000000000,
          21600000000000,
          21600000000000,
          25200000000000,
          25200000000000,
          25200000000000,
          39600000000000,
          43200000000000,
          18000000000000,
          18000000000000,
          18000000000000,
          23400000000000,
          21600000000000,
          26100000000000,
          25200000000000,
          36000000000000,
          43200000000000,
          43200000000000,
          18000000000000,
          23400000000000,
          21600000000000,
          36000000000000,
          43200000000000,
          27000000000000,
          23400000000000,
          25200000000000,
          25200000000000,
          36000000000000,
          43200000000000,
          43200000000000,
          23400000000000,
          18000000000000,
          41400000000000,
          26100000000000,
          25200000000000,
          36000000000000,
          36900000000000,
          43200000000000,
          21600000000000,
          18000000000000,
          25200000000000,
          25200000000000,
          18000000000000,
          36900000000000,
          43200000000000,
          21600000000000,
          43200000000000,
          36900000000000,
          43200000000000,
          21600000000000,
          23400000000000,
          21600000000000,
          21600000000000,
          39600000000000,
          43200000000000,
          21600000000000,
          21600000000000,
          28800000000000,
          7200000000000,
          21600000000000,
          18000000000000,
          27000000000000,
          36000000000000,
          36000000000000,
          39600000000000,
          43200000000000,
          23400000000000,
          21600000000000,
          18000000000000,
          25200000000000,
          36000000000000,
          41400000000000,
          43200000000000,
          7200000000000,
          27000000000000,
          0,
          34200000000000,
          36000000000000,
          41400000000000,
          43200000000000,
          19800000000000,
          21600000000000,
          25200000000000,
          34200000000000,
          34200000000000,
          36000000000000,
          43200000000000,
          25200000000000,
          25200000000000,
          25200000000000,
          30600000000000,
          43200000000000,
          25200000000000,
          34200000000000,
          18000000000000,
          21600000000000,
          18000000000000,
          25200000000000,
          34200000000000,
          25200000000000,
          43200000000000,
          23400000000000,
          21600000000000,
          26100000000000,
          34200000000000,
          36900000000000,
          18000000000000,
          23400000000000,
          34200000000000,
          36900000000000,
          27000000000000,
          27000000000000,
          21600000000000,
          28800000000000,
          43200000000000,
          21600000000000,
          32400000000000,
          30600000000000,
          36900000000000,
          43200000000000,
          25200000000000,
          34200000000000,
          36900000000000,
          43200000000000,
          34200000000000,
          34200000000000,
          43200000000000,
          43200000000000,
          43200000000000,
          32400000000000,
          43200000000000,
          18000000000000,
          14400000000000,
          10800000000000,
          32400000000000,
          43200000000000,
          18000000000000,
          21600000000000,
          32400000000000,
          36900000000000,
          43200000000000,
          18000000000000,
          32400000000000,
          34200000000000,
          18000000000000,
          25200000000000,
          16200000000000,
          43200000000000,
          36000000000000,
          18000000000000,
          34200000000000,
          43200000000000,
          32400000000000,
          43200000000000,
          25200000000000,
          32400000000000,
          43200000000000,
          19800000000000,
          32400000000000,
          43200000000000,
          43200000000000,
          18000000000000,
          43200000000000,
          30600000000000,
          32400000000000,
          43200000000000,
          43200000000000,
          34200000000000,
          43200000000000,
          25200000000000,
          21600000000000,
          34200000000000,
          39600000000000,
          43200000000000,
          43200000000000,
          43200000000000,
          25200000000000,
          39600000000000,
          43200000000000,
          43200000000000,
          43200000000000,
          43200000000000,
          25200000000000,
          25200000000000,
          43200000000000,
          43200000000000,
          43200000000000,
          43200000000000,
          43200000000000,
          43200000000000,
          43200000000000,
          43200000000000,
          32400000000000,
          34200000000000,
          43200000000000,
          32400000000000,
          34200000000000,
          43200000000000,
          32400000000000,
          43200000000000,
          39600000000000,
          43200000000000,
          43200000000000,
          43200000000000,
          43200000000000,
          39600000000000,
          43200000000000,
          43200000000000,
          43200000000000,
          39600000000000,
          21600000000000,
          39600000000000,
          45000000000000,
          32400000000000,
          42300000000000,
          28800000000000,
          32400000000000,
          37800000000000,
          43200000000000,
          14400000000000,
          21600000000000,
          39600000000000,
          43200000000000,
          21600000000000,
          43200000000000,
          43200000000000,
          18000000000000,
          30600000000000,
          39600000000000,
          18000000000000,
          39600000000000,
          43200000000000,
          21600000000000,
          25200000000000,
          39600000000000,
          43200000000000,
          21600000000000,
          18000000000000,
          36000000000000,
          36000000000000,
          36000000000000,
          36000000000000,
          43200000000000,
          39600000000000,
          30600000000000,
          36000000000000,
          39600000000000,
          36000000000000,
          39600000000000,
          18000000000000,
          14400000000000,
          36000000000000,
          39600000000000,
          10800000000000,
          18000000000000,
          14400000000000,
          30600000000000,
          10800000000000,
          14400000000000,
          30600000000000,
          10800000000000,
          14400000000000,
          30600000000000,
          14400000000000,
          43200000000000,
          39600000000000,
          39600000000000,
          43200000000000,
          43200000000000,
          43200000000000,
          43200000000000,
          39600000000000,
          39600000000000,
          43200000000000,
          43200000000000,
          39600000000000,
          43200000000000,
          29700000000000,
          14400000000000,
          39600000000000,
          39600000000000,
          43200000000000,
          10800000000000,
          25140000000000,
          14400000000000,
          25200000000000,
          43200000000000,
          43200000000000,
          10800000000000,
          14400000000000,
          28800000000000,
          43200000000000,
          10800000000000,
          29700000000000,
          14400000000000,
          43200000000000,
          14400000000000,
          34200000000000,
          39600000000000,
          39600000000000,
          43200000000000,
          43200000000000,
          39600000000000,
          36000000000000,
          45000000000000,
          43200000000000,
          43200000000000,
          39600000000000,
          25200000000000,
          39600000000000,
          25200000000000,
          25200000000000,
          29700000000000,
          29700000000000,
          43200000000000,
          39600000000000,
          21600000000000,
          45000000000000,
          36000000000000,
          39600000000000,
          30600000000000,
          37800000000000,
          39600000000000,
          30600000000000,
          14400000000000,
          36000000000000,
          43200000000000,
          30600000000000,
          43200000000000,
          43200000000000,
          43200000000000,
          30600000000000,
          43200000000000,
          43200000000000,
          30600000000000,
          49500000000000,
          43200000000000,
          39600000000000,
          43200000000000,
          41100000000000,
          39600000000000,
          43200000000000,
          39600000000000,
          43200000000000,
          43200000000000,
          32400000000000,
          39600000000000,
          43200000000000,
          43200000000000,
          27000000000000,
          39600000000000,
          43200000000000,
          43200000000000,
          43200000000000,
          43200000000000,
          14400000000000,
          43200000000000,
          44100000000000,
          45000000000000,
          43200000000000,
          43200000000000,
          43200000000000,
          39600000000000,
          43200000000000,
          32400000000000,
          39600000000000,
          43200000000000,
          7200000000000,
          43200000000000,
          43200000000000,
          43200000000000,
          43200000000000,
          30600000000000,
          43200000000000,
          43200000000000,
          43200000000000,
          43200000000000,
          30600000000000,
          32400000000000,
          39600000000000,
          41400000000000,
          30600000000000,
          32400000000000,
          39600000000000,
          30600000000000,
          43200000000000,
          39600000000000,
          14400000000000,
          30600000000000,
          43200000000000,
          39600000000000,
          43200000000000,
          43200000000000,
          30600000000000,
          43200000000000,
          43200000000000,
          21600000000000,
          43200000000000,
          43200000000000,
          21600000000000,
          36900000000000,
          39600000000000,
          39600000000000,
          32400000000000,
          36900000000000,
          43200000000000,
          39600000000000,
          32400000000000,
          39600000000000,
          39600000000000,
          43200000000000,
          21600000000000,
          43200000000000,
          39600000000000,
          21600000000000,
          43200000000000,
          43200000000000,
          36900000000000,
          39600000000000,
          43200000000000,
          43200000000000,
          43200000000000,
          32400000000000,
          31500000000000,
          36900000000000,
          43200000000000,
          41400000000000,
          41400000000000,
          43200000000000,
          32400000000000,
          31500000000000,
          40500000000000,
          43200000000000,
          31500000000000,
          40500000000000,
          43200000000000,
          32400000000000,
          43200000000000,
          43200000000000,
          43200000000000,
          43200000000000,
          36900000000000,
          43200000000000,
          36900000000000,
          43200000000000,
          25200000000000,
          36900000000000,
          43200000000000,
          43200000000000,
          43200000000000,
          43200000000000,
          39600000000000,
          43200000000000,
          44100000000000,
          43200000000000,
          43200000000000,
          43200000000000,
          43200000000000,
          43200000000000,
          43200000000000,
          43200000000000,
          43200000000000,
          32400000000000,
          43200000000000,
          32400000000000,
          43200000000000,
          43200000000000,
          43200000000000,
          43200000000000,
          43200000000000,
          43200000000000,
          43200000000000,
          43200000000000,
          129600000000000,
          43200000000000,
          43200000000000,
          43200000000000,
          43200000000000,
          43200000000000,
          28800000000000,
          36900000000000,
          43200000000000,
          43200000000000,
          28800000000000,
          36900000000000,
          43200000000000,
          43200000000000,
          25200000000000,
          36900000000000,
          43200000000000,
          43200000000000,
          43200000000000,
          21600000000000,
          36900000000000,
          39600000000000,
          43200000000000,
          43200000000000,
          21600000000000,
          36900000000000,
          43200000000000,
          25200000000000,
          28800000000000,
          31500000000000,
          36900000000000,
          43200000000000,
          25200000000000,
          28800000000000,
          31500000000000,
          43200000000000,
          25200000000000,
          28800000000000,
          43200000000000,
          18000000000000,
          25200000000000,
          28800000000000,
          43200000000000,
          43200000000000,
          25200000000000,
          28800000000000,
          43200000000000,
          43200000000000,
          43200000000000,
          18000000000000,
          25200000000000,
          43200000000000,
          43200000000000,
          21600000000000,
          21600000000000,
          39600000000000,
          43200000000000,
          25200000000000,
          28800000000000,
          39600000000000,
          43200000000000,
          32400000000000,
          43200000000000,
          21600000000000,
          39600000000000,
          18000000000000,
          25200000000000,
          28800000000000,
          43200000000000,
          43200000000000,
          30600000000000,
          25200000000000,
          21600000000000,
          31500000000000,
          43200000000000,
          43200000000000,
          18000000000000,
          21600000000000,
          31500000000000,
          34200000000000,
          43200000000000,
          43200000000000,
          18000000000000,
          21600000000000,
          31500000000000,
          34200000000000,
          39600000000000,
          43200000000000,
          216000000000000,
          43200000000000,
          25200000000000,
          25200000000000,
          32400000000000,
          21600000000000,
          28800000000000,
          43200000000000,
          18000000000000,
          18000000000000,
          28800000000000,
          28800000000000,
          43200000000000,
          21600000000000,
          39600000000000,
          21600000000000,
          30600000000000,
          30600000000000,
          39600000000000,
          21600000000000,
          39600000000000,
          28800000000000,
          30600000000000,
          28800000000000,
          21600000000000,
          28800000000000,
          28800000000000,
          10800000000000,
          30600000000000,
          43200000000000,
          30600000000000,
          16800000000000,
          30600000000000,
          28800000000000,
          30600000000000,
          28800000000000,
          18000000000000,
          28800000000000,
          18000000000000,
          43200000000000,
          28800000000000,
          18000000000000,
          18000000000000,
          28800000000000,
          30600000000000,
          25200000000000,
          28800000000000,
          34200000000000,
          34200000000000,
          18000000000000,
          28800000000000,
          31500000000000,
          34200000000000,
          18000000000000,
          28800000000000,
          31500000000000,
          30600000000000,
          18000000000000
         ]
        }
       ],
       "layout": {
        "showlegend": false,
        "template": {
         "data": {
          "bar": [
           {
            "error_x": {
             "color": "#2a3f5f"
            },
            "error_y": {
             "color": "#2a3f5f"
            },
            "marker": {
             "line": {
              "color": "#E5ECF6",
              "width": 0.5
             },
             "pattern": {
              "fillmode": "overlay",
              "size": 10,
              "solidity": 0.2
             }
            },
            "type": "bar"
           }
          ],
          "barpolar": [
           {
            "marker": {
             "line": {
              "color": "#E5ECF6",
              "width": 0.5
             },
             "pattern": {
              "fillmode": "overlay",
              "size": 10,
              "solidity": 0.2
             }
            },
            "type": "barpolar"
           }
          ],
          "carpet": [
           {
            "aaxis": {
             "endlinecolor": "#2a3f5f",
             "gridcolor": "white",
             "linecolor": "white",
             "minorgridcolor": "white",
             "startlinecolor": "#2a3f5f"
            },
            "baxis": {
             "endlinecolor": "#2a3f5f",
             "gridcolor": "white",
             "linecolor": "white",
             "minorgridcolor": "white",
             "startlinecolor": "#2a3f5f"
            },
            "type": "carpet"
           }
          ],
          "choropleth": [
           {
            "colorbar": {
             "outlinewidth": 0,
             "ticks": ""
            },
            "type": "choropleth"
           }
          ],
          "contour": [
           {
            "colorbar": {
             "outlinewidth": 0,
             "ticks": ""
            },
            "colorscale": [
             [
              0,
              "#0d0887"
             ],
             [
              0.1111111111111111,
              "#46039f"
             ],
             [
              0.2222222222222222,
              "#7201a8"
             ],
             [
              0.3333333333333333,
              "#9c179e"
             ],
             [
              0.4444444444444444,
              "#bd3786"
             ],
             [
              0.5555555555555556,
              "#d8576b"
             ],
             [
              0.6666666666666666,
              "#ed7953"
             ],
             [
              0.7777777777777778,
              "#fb9f3a"
             ],
             [
              0.8888888888888888,
              "#fdca26"
             ],
             [
              1,
              "#f0f921"
             ]
            ],
            "type": "contour"
           }
          ],
          "contourcarpet": [
           {
            "colorbar": {
             "outlinewidth": 0,
             "ticks": ""
            },
            "type": "contourcarpet"
           }
          ],
          "heatmap": [
           {
            "colorbar": {
             "outlinewidth": 0,
             "ticks": ""
            },
            "colorscale": [
             [
              0,
              "#0d0887"
             ],
             [
              0.1111111111111111,
              "#46039f"
             ],
             [
              0.2222222222222222,
              "#7201a8"
             ],
             [
              0.3333333333333333,
              "#9c179e"
             ],
             [
              0.4444444444444444,
              "#bd3786"
             ],
             [
              0.5555555555555556,
              "#d8576b"
             ],
             [
              0.6666666666666666,
              "#ed7953"
             ],
             [
              0.7777777777777778,
              "#fb9f3a"
             ],
             [
              0.8888888888888888,
              "#fdca26"
             ],
             [
              1,
              "#f0f921"
             ]
            ],
            "type": "heatmap"
           }
          ],
          "heatmapgl": [
           {
            "colorbar": {
             "outlinewidth": 0,
             "ticks": ""
            },
            "colorscale": [
             [
              0,
              "#0d0887"
             ],
             [
              0.1111111111111111,
              "#46039f"
             ],
             [
              0.2222222222222222,
              "#7201a8"
             ],
             [
              0.3333333333333333,
              "#9c179e"
             ],
             [
              0.4444444444444444,
              "#bd3786"
             ],
             [
              0.5555555555555556,
              "#d8576b"
             ],
             [
              0.6666666666666666,
              "#ed7953"
             ],
             [
              0.7777777777777778,
              "#fb9f3a"
             ],
             [
              0.8888888888888888,
              "#fdca26"
             ],
             [
              1,
              "#f0f921"
             ]
            ],
            "type": "heatmapgl"
           }
          ],
          "histogram": [
           {
            "marker": {
             "pattern": {
              "fillmode": "overlay",
              "size": 10,
              "solidity": 0.2
             }
            },
            "type": "histogram"
           }
          ],
          "histogram2d": [
           {
            "colorbar": {
             "outlinewidth": 0,
             "ticks": ""
            },
            "colorscale": [
             [
              0,
              "#0d0887"
             ],
             [
              0.1111111111111111,
              "#46039f"
             ],
             [
              0.2222222222222222,
              "#7201a8"
             ],
             [
              0.3333333333333333,
              "#9c179e"
             ],
             [
              0.4444444444444444,
              "#bd3786"
             ],
             [
              0.5555555555555556,
              "#d8576b"
             ],
             [
              0.6666666666666666,
              "#ed7953"
             ],
             [
              0.7777777777777778,
              "#fb9f3a"
             ],
             [
              0.8888888888888888,
              "#fdca26"
             ],
             [
              1,
              "#f0f921"
             ]
            ],
            "type": "histogram2d"
           }
          ],
          "histogram2dcontour": [
           {
            "colorbar": {
             "outlinewidth": 0,
             "ticks": ""
            },
            "colorscale": [
             [
              0,
              "#0d0887"
             ],
             [
              0.1111111111111111,
              "#46039f"
             ],
             [
              0.2222222222222222,
              "#7201a8"
             ],
             [
              0.3333333333333333,
              "#9c179e"
             ],
             [
              0.4444444444444444,
              "#bd3786"
             ],
             [
              0.5555555555555556,
              "#d8576b"
             ],
             [
              0.6666666666666666,
              "#ed7953"
             ],
             [
              0.7777777777777778,
              "#fb9f3a"
             ],
             [
              0.8888888888888888,
              "#fdca26"
             ],
             [
              1,
              "#f0f921"
             ]
            ],
            "type": "histogram2dcontour"
           }
          ],
          "mesh3d": [
           {
            "colorbar": {
             "outlinewidth": 0,
             "ticks": ""
            },
            "type": "mesh3d"
           }
          ],
          "parcoords": [
           {
            "line": {
             "colorbar": {
              "outlinewidth": 0,
              "ticks": ""
             }
            },
            "type": "parcoords"
           }
          ],
          "pie": [
           {
            "automargin": true,
            "type": "pie"
           }
          ],
          "scatter": [
           {
            "fillpattern": {
             "fillmode": "overlay",
             "size": 10,
             "solidity": 0.2
            },
            "type": "scatter"
           }
          ],
          "scatter3d": [
           {
            "line": {
             "colorbar": {
              "outlinewidth": 0,
              "ticks": ""
             }
            },
            "marker": {
             "colorbar": {
              "outlinewidth": 0,
              "ticks": ""
             }
            },
            "type": "scatter3d"
           }
          ],
          "scattercarpet": [
           {
            "marker": {
             "colorbar": {
              "outlinewidth": 0,
              "ticks": ""
             }
            },
            "type": "scattercarpet"
           }
          ],
          "scattergeo": [
           {
            "marker": {
             "colorbar": {
              "outlinewidth": 0,
              "ticks": ""
             }
            },
            "type": "scattergeo"
           }
          ],
          "scattergl": [
           {
            "marker": {
             "colorbar": {
              "outlinewidth": 0,
              "ticks": ""
             }
            },
            "type": "scattergl"
           }
          ],
          "scattermapbox": [
           {
            "marker": {
             "colorbar": {
              "outlinewidth": 0,
              "ticks": ""
             }
            },
            "type": "scattermapbox"
           }
          ],
          "scatterpolar": [
           {
            "marker": {
             "colorbar": {
              "outlinewidth": 0,
              "ticks": ""
             }
            },
            "type": "scatterpolar"
           }
          ],
          "scatterpolargl": [
           {
            "marker": {
             "colorbar": {
              "outlinewidth": 0,
              "ticks": ""
             }
            },
            "type": "scatterpolargl"
           }
          ],
          "scatterternary": [
           {
            "marker": {
             "colorbar": {
              "outlinewidth": 0,
              "ticks": ""
             }
            },
            "type": "scatterternary"
           }
          ],
          "surface": [
           {
            "colorbar": {
             "outlinewidth": 0,
             "ticks": ""
            },
            "colorscale": [
             [
              0,
              "#0d0887"
             ],
             [
              0.1111111111111111,
              "#46039f"
             ],
             [
              0.2222222222222222,
              "#7201a8"
             ],
             [
              0.3333333333333333,
              "#9c179e"
             ],
             [
              0.4444444444444444,
              "#bd3786"
             ],
             [
              0.5555555555555556,
              "#d8576b"
             ],
             [
              0.6666666666666666,
              "#ed7953"
             ],
             [
              0.7777777777777778,
              "#fb9f3a"
             ],
             [
              0.8888888888888888,
              "#fdca26"
             ],
             [
              1,
              "#f0f921"
             ]
            ],
            "type": "surface"
           }
          ],
          "table": [
           {
            "cells": {
             "fill": {
              "color": "#EBF0F8"
             },
             "line": {
              "color": "white"
             }
            },
            "header": {
             "fill": {
              "color": "#C8D4E3"
             },
             "line": {
              "color": "white"
             }
            },
            "type": "table"
           }
          ]
         },
         "layout": {
          "annotationdefaults": {
           "arrowcolor": "#2a3f5f",
           "arrowhead": 0,
           "arrowwidth": 1
          },
          "autotypenumbers": "strict",
          "coloraxis": {
           "colorbar": {
            "outlinewidth": 0,
            "ticks": ""
           }
          },
          "colorscale": {
           "diverging": [
            [
             0,
             "#8e0152"
            ],
            [
             0.1,
             "#c51b7d"
            ],
            [
             0.2,
             "#de77ae"
            ],
            [
             0.3,
             "#f1b6da"
            ],
            [
             0.4,
             "#fde0ef"
            ],
            [
             0.5,
             "#f7f7f7"
            ],
            [
             0.6,
             "#e6f5d0"
            ],
            [
             0.7,
             "#b8e186"
            ],
            [
             0.8,
             "#7fbc41"
            ],
            [
             0.9,
             "#4d9221"
            ],
            [
             1,
             "#276419"
            ]
           ],
           "sequential": [
            [
             0,
             "#0d0887"
            ],
            [
             0.1111111111111111,
             "#46039f"
            ],
            [
             0.2222222222222222,
             "#7201a8"
            ],
            [
             0.3333333333333333,
             "#9c179e"
            ],
            [
             0.4444444444444444,
             "#bd3786"
            ],
            [
             0.5555555555555556,
             "#d8576b"
            ],
            [
             0.6666666666666666,
             "#ed7953"
            ],
            [
             0.7777777777777778,
             "#fb9f3a"
            ],
            [
             0.8888888888888888,
             "#fdca26"
            ],
            [
             1,
             "#f0f921"
            ]
           ],
           "sequentialminus": [
            [
             0,
             "#0d0887"
            ],
            [
             0.1111111111111111,
             "#46039f"
            ],
            [
             0.2222222222222222,
             "#7201a8"
            ],
            [
             0.3333333333333333,
             "#9c179e"
            ],
            [
             0.4444444444444444,
             "#bd3786"
            ],
            [
             0.5555555555555556,
             "#d8576b"
            ],
            [
             0.6666666666666666,
             "#ed7953"
            ],
            [
             0.7777777777777778,
             "#fb9f3a"
            ],
            [
             0.8888888888888888,
             "#fdca26"
            ],
            [
             1,
             "#f0f921"
            ]
           ]
          },
          "colorway": [
           "#636efa",
           "#EF553B",
           "#00cc96",
           "#ab63fa",
           "#FFA15A",
           "#19d3f3",
           "#FF6692",
           "#B6E880",
           "#FF97FF",
           "#FECB52"
          ],
          "font": {
           "color": "#2a3f5f"
          },
          "geo": {
           "bgcolor": "white",
           "lakecolor": "white",
           "landcolor": "#E5ECF6",
           "showlakes": true,
           "showland": true,
           "subunitcolor": "white"
          },
          "hoverlabel": {
           "align": "left"
          },
          "hovermode": "closest",
          "mapbox": {
           "style": "light"
          },
          "paper_bgcolor": "white",
          "plot_bgcolor": "#E5ECF6",
          "polar": {
           "angularaxis": {
            "gridcolor": "white",
            "linecolor": "white",
            "ticks": ""
           },
           "bgcolor": "#E5ECF6",
           "radialaxis": {
            "gridcolor": "white",
            "linecolor": "white",
            "ticks": ""
           }
          },
          "scene": {
           "xaxis": {
            "backgroundcolor": "#E5ECF6",
            "gridcolor": "white",
            "gridwidth": 2,
            "linecolor": "white",
            "showbackground": true,
            "ticks": "",
            "zerolinecolor": "white"
           },
           "yaxis": {
            "backgroundcolor": "#E5ECF6",
            "gridcolor": "white",
            "gridwidth": 2,
            "linecolor": "white",
            "showbackground": true,
            "ticks": "",
            "zerolinecolor": "white"
           },
           "zaxis": {
            "backgroundcolor": "#E5ECF6",
            "gridcolor": "white",
            "gridwidth": 2,
            "linecolor": "white",
            "showbackground": true,
            "ticks": "",
            "zerolinecolor": "white"
           }
          },
          "shapedefaults": {
           "line": {
            "color": "#2a3f5f"
           }
          },
          "ternary": {
           "aaxis": {
            "gridcolor": "white",
            "linecolor": "white",
            "ticks": ""
           },
           "baxis": {
            "gridcolor": "white",
            "linecolor": "white",
            "ticks": ""
           },
           "bgcolor": "#E5ECF6",
           "caxis": {
            "gridcolor": "white",
            "linecolor": "white",
            "ticks": ""
           }
          },
          "title": {
           "x": 0.05
          },
          "xaxis": {
           "automargin": true,
           "gridcolor": "white",
           "linecolor": "white",
           "ticks": "",
           "title": {
            "standoff": 15
           },
           "zerolinecolor": "white",
           "zerolinewidth": 2
          },
          "yaxis": {
           "automargin": true,
           "gridcolor": "white",
           "linecolor": "white",
           "ticks": "",
           "title": {
            "standoff": 15
           },
           "zerolinecolor": "white",
           "zerolinewidth": 2
          }
         }
        },
        "title": {
         "text": "Nombre de missions par hôtel"
        },
        "xaxis": {
         "title": {
          "text": "Hôtels"
         }
        },
        "yaxis": {
         "title": {
          "text": "Nombre de missions"
         }
        }
       }
      }
     },
     "metadata": {},
     "output_type": "display_data"
    }
   ],
   "source": [
    "import plotly.express as px\n",
    "\n",
    "trace = go.Bar(x=data[\"periode_debut\"], y=data[\"time_delta\"])## nanoseconds to hours\n",
    "\n",
    "fig = go.Figure(data=[trace])\n",
    "# Change the bar mode\n",
    "fig.update_layout(title=\"Nombre de missions par hôtel\",\n",
    "                  showlegend=False)\n",
    "\n",
    "fig.update_traces(dict(marker_line_width=0))\n",
    "\n",
    "\n",
    "fig.update_xaxes(title_text='Hôtels')\n",
    "fig.update_yaxes(title_text='Nombre de missions')\n",
    "\n",
    "\n",
    "fig.show()\n"
   ]
  },
  {
   "cell_type": "code",
   "execution_count": 318,
   "metadata": {},
   "outputs": [
    {
     "data": {
      "text/plain": [
       "statuts\n",
       "annulé     392\n",
       "urgente    225\n",
       "Name: count, dtype: int64"
      ]
     },
     "execution_count": 318,
     "metadata": {},
     "output_type": "execute_result"
    }
   ],
   "source": [
    "data[\"statuts\"].value_counts()"
   ]
  },
  {
   "cell_type": "code",
   "execution_count": 319,
   "metadata": {},
   "outputs": [],
   "source": [
    "data[\"statuts\"] = data[\"statuts\"].fillna(\"standard\")"
   ]
  },
  {
   "cell_type": "code",
   "execution_count": 320,
   "metadata": {},
   "outputs": [
    {
     "data": {
      "text/html": [
       "<div>\n",
       "<style scoped>\n",
       "    .dataframe tbody tr th:only-of-type {\n",
       "        vertical-align: middle;\n",
       "    }\n",
       "\n",
       "    .dataframe tbody tr th {\n",
       "        vertical-align: top;\n",
       "    }\n",
       "\n",
       "    .dataframe thead th {\n",
       "        text-align: right;\n",
       "    }\n",
       "</style>\n",
       "<table border=\"1\" class=\"dataframe\">\n",
       "  <thead>\n",
       "    <tr style=\"text-align: right;\">\n",
       "      <th></th>\n",
       "      <th>Propriété_clean</th>\n",
       "      <th>statuts</th>\n",
       "      <th>Propriété</th>\n",
       "    </tr>\n",
       "  </thead>\n",
       "  <tbody>\n",
       "    <tr>\n",
       "      <th>0</th>\n",
       "      <td>Ibis Montparnasse</td>\n",
       "      <td>standard</td>\n",
       "      <td>47</td>\n",
       "    </tr>\n",
       "    <tr>\n",
       "      <th>1</th>\n",
       "      <td>Milie Rose</td>\n",
       "      <td>standard</td>\n",
       "      <td>14</td>\n",
       "    </tr>\n",
       "    <tr>\n",
       "      <th>2</th>\n",
       "      <td>Imprimerie</td>\n",
       "      <td>standard</td>\n",
       "      <td>10</td>\n",
       "    </tr>\n",
       "    <tr>\n",
       "      <th>3</th>\n",
       "      <td>Touraine</td>\n",
       "      <td>standard</td>\n",
       "      <td>8</td>\n",
       "    </tr>\n",
       "    <tr>\n",
       "      <th>4</th>\n",
       "      <td>Ibis Montparnasse</td>\n",
       "      <td>urgente</td>\n",
       "      <td>6</td>\n",
       "    </tr>\n",
       "    <tr>\n",
       "      <th>5</th>\n",
       "      <td>Drawing House</td>\n",
       "      <td>standard</td>\n",
       "      <td>4</td>\n",
       "    </tr>\n",
       "    <tr>\n",
       "      <th>6</th>\n",
       "      <td>Les Deux Girafes</td>\n",
       "      <td>standard</td>\n",
       "      <td>3</td>\n",
       "    </tr>\n",
       "    <tr>\n",
       "      <th>7</th>\n",
       "      <td>Courseine</td>\n",
       "      <td>urgente</td>\n",
       "      <td>3</td>\n",
       "    </tr>\n",
       "    <tr>\n",
       "      <th>8</th>\n",
       "      <td>Yllen Eiffel</td>\n",
       "      <td>standard</td>\n",
       "      <td>2</td>\n",
       "    </tr>\n",
       "    <tr>\n",
       "      <th>9</th>\n",
       "      <td>Alberte</td>\n",
       "      <td>standard</td>\n",
       "      <td>2</td>\n",
       "    </tr>\n",
       "    <tr>\n",
       "      <th>10</th>\n",
       "      <td>Courseine</td>\n",
       "      <td>standard</td>\n",
       "      <td>2</td>\n",
       "    </tr>\n",
       "    <tr>\n",
       "      <th>11</th>\n",
       "      <td>Touraine</td>\n",
       "      <td>urgente</td>\n",
       "      <td>2</td>\n",
       "    </tr>\n",
       "    <tr>\n",
       "      <th>12</th>\n",
       "      <td>Le Grand Quartier</td>\n",
       "      <td>standard</td>\n",
       "      <td>2</td>\n",
       "    </tr>\n",
       "    <tr>\n",
       "      <th>13</th>\n",
       "      <td>Milie Rose</td>\n",
       "      <td>urgente</td>\n",
       "      <td>2</td>\n",
       "    </tr>\n",
       "    <tr>\n",
       "      <th>14</th>\n",
       "      <td>Chouchou</td>\n",
       "      <td>urgente</td>\n",
       "      <td>1</td>\n",
       "    </tr>\n",
       "    <tr>\n",
       "      <th>15</th>\n",
       "      <td>Drawing House</td>\n",
       "      <td>urgente</td>\n",
       "      <td>1</td>\n",
       "    </tr>\n",
       "    <tr>\n",
       "      <th>16</th>\n",
       "      <td>Monte Cristo</td>\n",
       "      <td>standard</td>\n",
       "      <td>1</td>\n",
       "    </tr>\n",
       "    <tr>\n",
       "      <th>17</th>\n",
       "      <td>Monte Cristo</td>\n",
       "      <td>urgente</td>\n",
       "      <td>1</td>\n",
       "    </tr>\n",
       "    <tr>\n",
       "      <th>18</th>\n",
       "      <td>Victoire et Germain</td>\n",
       "      <td>urgente</td>\n",
       "      <td>1</td>\n",
       "    </tr>\n",
       "  </tbody>\n",
       "</table>\n",
       "</div>"
      ],
      "text/plain": [
       "        Propriété_clean   statuts  Propriété\n",
       "0     Ibis Montparnasse  standard         47\n",
       "1            Milie Rose  standard         14\n",
       "2            Imprimerie  standard         10\n",
       "3              Touraine  standard          8\n",
       "4     Ibis Montparnasse   urgente          6\n",
       "5         Drawing House  standard          4\n",
       "6      Les Deux Girafes  standard          3\n",
       "7             Courseine   urgente          3\n",
       "8          Yllen Eiffel  standard          2\n",
       "9              Alberte   standard          2\n",
       "10            Courseine  standard          2\n",
       "11             Touraine   urgente          2\n",
       "12    Le Grand Quartier  standard          2\n",
       "13           Milie Rose   urgente          2\n",
       "14             Chouchou   urgente          1\n",
       "15        Drawing House   urgente          1\n",
       "16         Monte Cristo  standard          1\n",
       "17         Monte Cristo   urgente          1\n",
       "18  Victoire et Germain   urgente          1"
      ]
     },
     "execution_count": 320,
     "metadata": {},
     "output_type": "execute_result"
    }
   ],
   "source": [
    "monthly_missions_status = data[data[\"periode_debut\"] == months[1]].groupby([\"Propriété_clean\", \"statuts\"]).count().sort_values(by=\"hôtel\", ascending=False).reset_index().iloc[:,:3]\n",
    "monthly_missions_status"
   ]
  },
  {
   "cell_type": "code",
   "execution_count": 321,
   "metadata": {},
   "outputs": [
    {
     "data": {
      "application/vnd.plotly.v1+json": {
       "config": {
        "plotlyServerURL": "https://plot.ly"
       },
       "data": [
        {
         "alignmentgroup": "True",
         "hovertemplate": "statuts=standard<br>Propriété_clean=%{x}<br>Propriété=%{y}<extra></extra>",
         "legendgroup": "standard",
         "marker": {
          "color": "#636efa",
          "pattern": {
           "shape": ""
          }
         },
         "name": "standard",
         "offsetgroup": "standard",
         "orientation": "v",
         "showlegend": true,
         "textposition": "auto",
         "type": "bar",
         "x": [
          "Ibis Montparnasse",
          "Milie Rose",
          "Imprimerie",
          "Touraine",
          "Drawing House",
          "Les Deux Girafes",
          "Yllen Eiffel",
          "Alberte ",
          "Courseine",
          "Le Grand Quartier",
          "Monte Cristo"
         ],
         "xaxis": "x",
         "y": [
          47,
          14,
          10,
          8,
          4,
          3,
          2,
          2,
          2,
          2,
          1
         ],
         "yaxis": "y"
        },
        {
         "alignmentgroup": "True",
         "hovertemplate": "statuts=urgente<br>Propriété_clean=%{x}<br>Propriété=%{y}<extra></extra>",
         "legendgroup": "urgente",
         "marker": {
          "color": "#EF553B",
          "pattern": {
           "shape": ""
          }
         },
         "name": "urgente",
         "offsetgroup": "urgente",
         "orientation": "v",
         "showlegend": true,
         "textposition": "auto",
         "type": "bar",
         "x": [
          "Ibis Montparnasse",
          "Courseine",
          "Touraine",
          "Milie Rose",
          "Chouchou",
          "Drawing House",
          "Monte Cristo",
          "Victoire et Germain"
         ],
         "xaxis": "x",
         "y": [
          6,
          3,
          2,
          2,
          1,
          1,
          1,
          1
         ],
         "yaxis": "y"
        }
       ],
       "layout": {
        "barmode": "relative",
        "legend": {
         "title": {
          "text": "statuts"
         },
         "tracegroupgap": 0
        },
        "margin": {
         "t": 60
        },
        "template": {
         "data": {
          "bar": [
           {
            "error_x": {
             "color": "#2a3f5f"
            },
            "error_y": {
             "color": "#2a3f5f"
            },
            "marker": {
             "line": {
              "color": "#E5ECF6",
              "width": 0.5
             },
             "pattern": {
              "fillmode": "overlay",
              "size": 10,
              "solidity": 0.2
             }
            },
            "type": "bar"
           }
          ],
          "barpolar": [
           {
            "marker": {
             "line": {
              "color": "#E5ECF6",
              "width": 0.5
             },
             "pattern": {
              "fillmode": "overlay",
              "size": 10,
              "solidity": 0.2
             }
            },
            "type": "barpolar"
           }
          ],
          "carpet": [
           {
            "aaxis": {
             "endlinecolor": "#2a3f5f",
             "gridcolor": "white",
             "linecolor": "white",
             "minorgridcolor": "white",
             "startlinecolor": "#2a3f5f"
            },
            "baxis": {
             "endlinecolor": "#2a3f5f",
             "gridcolor": "white",
             "linecolor": "white",
             "minorgridcolor": "white",
             "startlinecolor": "#2a3f5f"
            },
            "type": "carpet"
           }
          ],
          "choropleth": [
           {
            "colorbar": {
             "outlinewidth": 0,
             "ticks": ""
            },
            "type": "choropleth"
           }
          ],
          "contour": [
           {
            "colorbar": {
             "outlinewidth": 0,
             "ticks": ""
            },
            "colorscale": [
             [
              0,
              "#0d0887"
             ],
             [
              0.1111111111111111,
              "#46039f"
             ],
             [
              0.2222222222222222,
              "#7201a8"
             ],
             [
              0.3333333333333333,
              "#9c179e"
             ],
             [
              0.4444444444444444,
              "#bd3786"
             ],
             [
              0.5555555555555556,
              "#d8576b"
             ],
             [
              0.6666666666666666,
              "#ed7953"
             ],
             [
              0.7777777777777778,
              "#fb9f3a"
             ],
             [
              0.8888888888888888,
              "#fdca26"
             ],
             [
              1,
              "#f0f921"
             ]
            ],
            "type": "contour"
           }
          ],
          "contourcarpet": [
           {
            "colorbar": {
             "outlinewidth": 0,
             "ticks": ""
            },
            "type": "contourcarpet"
           }
          ],
          "heatmap": [
           {
            "colorbar": {
             "outlinewidth": 0,
             "ticks": ""
            },
            "colorscale": [
             [
              0,
              "#0d0887"
             ],
             [
              0.1111111111111111,
              "#46039f"
             ],
             [
              0.2222222222222222,
              "#7201a8"
             ],
             [
              0.3333333333333333,
              "#9c179e"
             ],
             [
              0.4444444444444444,
              "#bd3786"
             ],
             [
              0.5555555555555556,
              "#d8576b"
             ],
             [
              0.6666666666666666,
              "#ed7953"
             ],
             [
              0.7777777777777778,
              "#fb9f3a"
             ],
             [
              0.8888888888888888,
              "#fdca26"
             ],
             [
              1,
              "#f0f921"
             ]
            ],
            "type": "heatmap"
           }
          ],
          "heatmapgl": [
           {
            "colorbar": {
             "outlinewidth": 0,
             "ticks": ""
            },
            "colorscale": [
             [
              0,
              "#0d0887"
             ],
             [
              0.1111111111111111,
              "#46039f"
             ],
             [
              0.2222222222222222,
              "#7201a8"
             ],
             [
              0.3333333333333333,
              "#9c179e"
             ],
             [
              0.4444444444444444,
              "#bd3786"
             ],
             [
              0.5555555555555556,
              "#d8576b"
             ],
             [
              0.6666666666666666,
              "#ed7953"
             ],
             [
              0.7777777777777778,
              "#fb9f3a"
             ],
             [
              0.8888888888888888,
              "#fdca26"
             ],
             [
              1,
              "#f0f921"
             ]
            ],
            "type": "heatmapgl"
           }
          ],
          "histogram": [
           {
            "marker": {
             "pattern": {
              "fillmode": "overlay",
              "size": 10,
              "solidity": 0.2
             }
            },
            "type": "histogram"
           }
          ],
          "histogram2d": [
           {
            "colorbar": {
             "outlinewidth": 0,
             "ticks": ""
            },
            "colorscale": [
             [
              0,
              "#0d0887"
             ],
             [
              0.1111111111111111,
              "#46039f"
             ],
             [
              0.2222222222222222,
              "#7201a8"
             ],
             [
              0.3333333333333333,
              "#9c179e"
             ],
             [
              0.4444444444444444,
              "#bd3786"
             ],
             [
              0.5555555555555556,
              "#d8576b"
             ],
             [
              0.6666666666666666,
              "#ed7953"
             ],
             [
              0.7777777777777778,
              "#fb9f3a"
             ],
             [
              0.8888888888888888,
              "#fdca26"
             ],
             [
              1,
              "#f0f921"
             ]
            ],
            "type": "histogram2d"
           }
          ],
          "histogram2dcontour": [
           {
            "colorbar": {
             "outlinewidth": 0,
             "ticks": ""
            },
            "colorscale": [
             [
              0,
              "#0d0887"
             ],
             [
              0.1111111111111111,
              "#46039f"
             ],
             [
              0.2222222222222222,
              "#7201a8"
             ],
             [
              0.3333333333333333,
              "#9c179e"
             ],
             [
              0.4444444444444444,
              "#bd3786"
             ],
             [
              0.5555555555555556,
              "#d8576b"
             ],
             [
              0.6666666666666666,
              "#ed7953"
             ],
             [
              0.7777777777777778,
              "#fb9f3a"
             ],
             [
              0.8888888888888888,
              "#fdca26"
             ],
             [
              1,
              "#f0f921"
             ]
            ],
            "type": "histogram2dcontour"
           }
          ],
          "mesh3d": [
           {
            "colorbar": {
             "outlinewidth": 0,
             "ticks": ""
            },
            "type": "mesh3d"
           }
          ],
          "parcoords": [
           {
            "line": {
             "colorbar": {
              "outlinewidth": 0,
              "ticks": ""
             }
            },
            "type": "parcoords"
           }
          ],
          "pie": [
           {
            "automargin": true,
            "type": "pie"
           }
          ],
          "scatter": [
           {
            "fillpattern": {
             "fillmode": "overlay",
             "size": 10,
             "solidity": 0.2
            },
            "type": "scatter"
           }
          ],
          "scatter3d": [
           {
            "line": {
             "colorbar": {
              "outlinewidth": 0,
              "ticks": ""
             }
            },
            "marker": {
             "colorbar": {
              "outlinewidth": 0,
              "ticks": ""
             }
            },
            "type": "scatter3d"
           }
          ],
          "scattercarpet": [
           {
            "marker": {
             "colorbar": {
              "outlinewidth": 0,
              "ticks": ""
             }
            },
            "type": "scattercarpet"
           }
          ],
          "scattergeo": [
           {
            "marker": {
             "colorbar": {
              "outlinewidth": 0,
              "ticks": ""
             }
            },
            "type": "scattergeo"
           }
          ],
          "scattergl": [
           {
            "marker": {
             "colorbar": {
              "outlinewidth": 0,
              "ticks": ""
             }
            },
            "type": "scattergl"
           }
          ],
          "scattermapbox": [
           {
            "marker": {
             "colorbar": {
              "outlinewidth": 0,
              "ticks": ""
             }
            },
            "type": "scattermapbox"
           }
          ],
          "scatterpolar": [
           {
            "marker": {
             "colorbar": {
              "outlinewidth": 0,
              "ticks": ""
             }
            },
            "type": "scatterpolar"
           }
          ],
          "scatterpolargl": [
           {
            "marker": {
             "colorbar": {
              "outlinewidth": 0,
              "ticks": ""
             }
            },
            "type": "scatterpolargl"
           }
          ],
          "scatterternary": [
           {
            "marker": {
             "colorbar": {
              "outlinewidth": 0,
              "ticks": ""
             }
            },
            "type": "scatterternary"
           }
          ],
          "surface": [
           {
            "colorbar": {
             "outlinewidth": 0,
             "ticks": ""
            },
            "colorscale": [
             [
              0,
              "#0d0887"
             ],
             [
              0.1111111111111111,
              "#46039f"
             ],
             [
              0.2222222222222222,
              "#7201a8"
             ],
             [
              0.3333333333333333,
              "#9c179e"
             ],
             [
              0.4444444444444444,
              "#bd3786"
             ],
             [
              0.5555555555555556,
              "#d8576b"
             ],
             [
              0.6666666666666666,
              "#ed7953"
             ],
             [
              0.7777777777777778,
              "#fb9f3a"
             ],
             [
              0.8888888888888888,
              "#fdca26"
             ],
             [
              1,
              "#f0f921"
             ]
            ],
            "type": "surface"
           }
          ],
          "table": [
           {
            "cells": {
             "fill": {
              "color": "#EBF0F8"
             },
             "line": {
              "color": "white"
             }
            },
            "header": {
             "fill": {
              "color": "#C8D4E3"
             },
             "line": {
              "color": "white"
             }
            },
            "type": "table"
           }
          ]
         },
         "layout": {
          "annotationdefaults": {
           "arrowcolor": "#2a3f5f",
           "arrowhead": 0,
           "arrowwidth": 1
          },
          "autotypenumbers": "strict",
          "coloraxis": {
           "colorbar": {
            "outlinewidth": 0,
            "ticks": ""
           }
          },
          "colorscale": {
           "diverging": [
            [
             0,
             "#8e0152"
            ],
            [
             0.1,
             "#c51b7d"
            ],
            [
             0.2,
             "#de77ae"
            ],
            [
             0.3,
             "#f1b6da"
            ],
            [
             0.4,
             "#fde0ef"
            ],
            [
             0.5,
             "#f7f7f7"
            ],
            [
             0.6,
             "#e6f5d0"
            ],
            [
             0.7,
             "#b8e186"
            ],
            [
             0.8,
             "#7fbc41"
            ],
            [
             0.9,
             "#4d9221"
            ],
            [
             1,
             "#276419"
            ]
           ],
           "sequential": [
            [
             0,
             "#0d0887"
            ],
            [
             0.1111111111111111,
             "#46039f"
            ],
            [
             0.2222222222222222,
             "#7201a8"
            ],
            [
             0.3333333333333333,
             "#9c179e"
            ],
            [
             0.4444444444444444,
             "#bd3786"
            ],
            [
             0.5555555555555556,
             "#d8576b"
            ],
            [
             0.6666666666666666,
             "#ed7953"
            ],
            [
             0.7777777777777778,
             "#fb9f3a"
            ],
            [
             0.8888888888888888,
             "#fdca26"
            ],
            [
             1,
             "#f0f921"
            ]
           ],
           "sequentialminus": [
            [
             0,
             "#0d0887"
            ],
            [
             0.1111111111111111,
             "#46039f"
            ],
            [
             0.2222222222222222,
             "#7201a8"
            ],
            [
             0.3333333333333333,
             "#9c179e"
            ],
            [
             0.4444444444444444,
             "#bd3786"
            ],
            [
             0.5555555555555556,
             "#d8576b"
            ],
            [
             0.6666666666666666,
             "#ed7953"
            ],
            [
             0.7777777777777778,
             "#fb9f3a"
            ],
            [
             0.8888888888888888,
             "#fdca26"
            ],
            [
             1,
             "#f0f921"
            ]
           ]
          },
          "colorway": [
           "#636efa",
           "#EF553B",
           "#00cc96",
           "#ab63fa",
           "#FFA15A",
           "#19d3f3",
           "#FF6692",
           "#B6E880",
           "#FF97FF",
           "#FECB52"
          ],
          "font": {
           "color": "#2a3f5f"
          },
          "geo": {
           "bgcolor": "white",
           "lakecolor": "white",
           "landcolor": "#E5ECF6",
           "showlakes": true,
           "showland": true,
           "subunitcolor": "white"
          },
          "hoverlabel": {
           "align": "left"
          },
          "hovermode": "closest",
          "mapbox": {
           "style": "light"
          },
          "paper_bgcolor": "white",
          "plot_bgcolor": "#E5ECF6",
          "polar": {
           "angularaxis": {
            "gridcolor": "white",
            "linecolor": "white",
            "ticks": ""
           },
           "bgcolor": "#E5ECF6",
           "radialaxis": {
            "gridcolor": "white",
            "linecolor": "white",
            "ticks": ""
           }
          },
          "scene": {
           "xaxis": {
            "backgroundcolor": "#E5ECF6",
            "gridcolor": "white",
            "gridwidth": 2,
            "linecolor": "white",
            "showbackground": true,
            "ticks": "",
            "zerolinecolor": "white"
           },
           "yaxis": {
            "backgroundcolor": "#E5ECF6",
            "gridcolor": "white",
            "gridwidth": 2,
            "linecolor": "white",
            "showbackground": true,
            "ticks": "",
            "zerolinecolor": "white"
           },
           "zaxis": {
            "backgroundcolor": "#E5ECF6",
            "gridcolor": "white",
            "gridwidth": 2,
            "linecolor": "white",
            "showbackground": true,
            "ticks": "",
            "zerolinecolor": "white"
           }
          },
          "shapedefaults": {
           "line": {
            "color": "#2a3f5f"
           }
          },
          "ternary": {
           "aaxis": {
            "gridcolor": "white",
            "linecolor": "white",
            "ticks": ""
           },
           "baxis": {
            "gridcolor": "white",
            "linecolor": "white",
            "ticks": ""
           },
           "bgcolor": "#E5ECF6",
           "caxis": {
            "gridcolor": "white",
            "linecolor": "white",
            "ticks": ""
           }
          },
          "title": {
           "x": 0.05
          },
          "xaxis": {
           "automargin": true,
           "gridcolor": "white",
           "linecolor": "white",
           "ticks": "",
           "title": {
            "standoff": 15
           },
           "zerolinecolor": "white",
           "zerolinewidth": 2
          },
          "yaxis": {
           "automargin": true,
           "gridcolor": "white",
           "linecolor": "white",
           "ticks": "",
           "title": {
            "standoff": 15
           },
           "zerolinecolor": "white",
           "zerolinewidth": 2
          }
         }
        },
        "xaxis": {
         "anchor": "y",
         "domain": [
          0,
          1
         ],
         "title": {
          "text": "Propriété_clean"
         }
        },
        "yaxis": {
         "anchor": "x",
         "domain": [
          0,
          1
         ],
         "title": {
          "text": "Propriété"
         }
        }
       }
      }
     },
     "metadata": {},
     "output_type": "display_data"
    }
   ],
   "source": [
    "months = data[\"periode_debut\"].unique()\n",
    "\n",
    "monthly_missions_status = data[data[\"periode_debut\"] == months[1]].groupby([\"Propriété_clean\", \"statuts\"]).count().sort_values(by=\"hôtel\", ascending=False).reset_index().iloc[:,:3]\n",
    "monthly_missions_status\n",
    "\n",
    "fig = px.bar(monthly_missions_status, x=\"Propriété_clean\", y=\"Propriété\", color=\"statuts\")\n",
    "fig.show()"
   ]
  },
  {
   "cell_type": "code",
   "execution_count": 322,
   "metadata": {},
   "outputs": [],
   "source": [
    "date = \"04-6\"\n",
    "if date == any:\n",
    "    print(True)"
   ]
  },
  {
   "cell_type": "code",
   "execution_count": 323,
   "metadata": {},
   "outputs": [
    {
     "data": {
      "application/vnd.plotly.v1+json": {
       "config": {
        "plotlyServerURL": "https://plot.ly"
       },
       "data": [
        {
         "marker": {
          "color": "#1f77b4"
         },
         "type": "bar",
         "visible": true,
         "x": [
          "Milie Rose",
          "Touraine",
          "Crystal"
         ],
         "y": [
          5,
          3,
          2
         ]
        },
        {
         "marker": {
          "color": "#ff7f0e"
         },
         "type": "bar",
         "visible": false,
         "x": [
          "Ibis Montparnasse",
          "Milie Rose",
          "Imprimerie",
          "Touraine",
          "Drawing House",
          "Courseine",
          "Les Deux Girafes",
          "Le Grand Quartier",
          "Alberte ",
          "Yllen Eiffel",
          "Monte Cristo",
          "Chouchou",
          "Victoire et Germain"
         ],
         "y": [
          53,
          16,
          10,
          10,
          5,
          5,
          3,
          2,
          2,
          2,
          2,
          1,
          1
         ]
        },
        {
         "marker": {
          "color": "#2ca02c"
         },
         "type": "bar",
         "visible": false,
         "x": [
          "Ibis Montparnasse",
          "Select Hotel",
          "Imprimerie",
          "Milie Rose",
          "Le Grand Quartier",
          "Tsuba",
          "Les Deux Girafes",
          "Parisis",
          "Courseine",
          "Yllen Eiffel",
          "Chouchou",
          "MT solutions ",
          "French Theory",
          "Drawing House",
          "Le Roch Hotel",
          "Monte Cristo",
          "Crystal"
         ],
         "y": [
          79,
          25,
          17,
          14,
          13,
          13,
          12,
          9,
          5,
          5,
          4,
          4,
          4,
          3,
          3,
          3,
          2
         ]
        },
        {
         "marker": {
          "color": "#d62728"
         },
         "type": "bar",
         "visible": false,
         "x": [
          "Ibis Montparnasse",
          "Le Grand Quartier",
          "Marceau",
          "Imprimerie",
          "Select Hotel",
          "Milie Rose",
          "Tsuba",
          "Yllen Eiffel",
          "Crystal",
          "MT solutions ",
          "Parisis",
          "Chouchou",
          "Drawing House",
          "Victoire et Germain",
          "Alberte ",
          "Courseine",
          "French Theory",
          "Les Deux Girafes",
          "Parisianer"
         ],
         "y": [
          97,
          34,
          25,
          20,
          15,
          13,
          12,
          12,
          6,
          5,
          4,
          3,
          2,
          2,
          1,
          1,
          1,
          1,
          1
         ]
        },
        {
         "marker": {
          "color": "#9467bd"
         },
         "type": "bar",
         "visible": false,
         "x": [
          "Ibis Montparnasse",
          "Select Hotel",
          "Le Grand Quartier",
          "Imprimerie",
          "Marceau",
          "Milie Rose",
          "Drawing House",
          "French Theory",
          "Les Deux Girafes",
          "Yllen Eiffel",
          "Chouchou",
          "MT solutions ",
          "Touraine",
          "Parisianer",
          "Victoire et Germain",
          "Monte Cristo",
          "Parisis",
          "Alberte ",
          "Tsuba",
          "Crystal"
         ],
         "y": [
          89,
          35,
          34,
          26,
          26,
          21,
          13,
          9,
          6,
          5,
          4,
          4,
          4,
          3,
          3,
          3,
          2,
          2,
          2,
          1
         ]
        },
        {
         "marker": {
          "color": "#8c564b"
         },
         "type": "bar",
         "visible": false,
         "x": [
          "Ibis Montparnasse",
          "Le Grand Quartier",
          "Milie Rose",
          "Touraine",
          "Tsuba",
          "Marceau",
          "Imprimerie",
          "Drawing House",
          "Select Hotel",
          "Yllen Eiffel",
          "Parisianer",
          "Courseine",
          "Parisis",
          "Crystal",
          "Victoire et Germain",
          "MT solutions ",
          "Quinzerie hotel",
          "Les Deux Girafes",
          "French Theory",
          "Prélude"
         ],
         "y": [
          109,
          35,
          32,
          17,
          16,
          16,
          14,
          13,
          13,
          12,
          10,
          9,
          9,
          8,
          7,
          6,
          5,
          2,
          1,
          1
         ]
        },
        {
         "marker": {
          "color": "#e377c2"
         },
         "type": "bar",
         "visible": false,
         "x": [
          "Ibis Montparnasse",
          "Le Grand Quartier",
          "Select Hotel",
          "Milie Rose",
          "Drawing House",
          "Marceau",
          "Imprimerie",
          "Tsuba",
          "Edouard VI",
          "Touraine",
          "Yllen Eiffel",
          "Crystal",
          "Monte Cristo",
          "Parisianer",
          "Les Deux Girafes",
          "French Theory",
          "Parisis",
          "Victoire et Germain"
         ],
         "y": [
          102,
          26,
          24,
          22,
          21,
          16,
          16,
          13,
          13,
          12,
          12,
          10,
          8,
          3,
          1,
          1,
          1,
          1
         ]
        },
        {
         "marker": {
          "color": "#7f7f7f"
         },
         "type": "bar",
         "visible": false,
         "x": [
          "Ibis Montparnasse",
          "Le Grand Quartier",
          "Imprimerie",
          "Marceau",
          "Select Hotel",
          "Milie Rose",
          "Apogé",
          "Monte Cristo",
          "Touraine",
          "French Theory",
          "Tsuba",
          "Crystal",
          "Parisis",
          "Yllen Eiffel",
          "Courseine",
          "Quinzerie hotel",
          "Les Deux Girafes",
          "Victoire et Germain"
         ],
         "y": [
          68,
          32,
          30,
          29,
          19,
          17,
          12,
          10,
          7,
          6,
          6,
          6,
          4,
          4,
          3,
          3,
          2,
          2
         ]
        },
        {
         "marker": {
          "color": "#bcbd22"
         },
         "type": "bar",
         "visible": false,
         "x": [
          "Ibis Montparnasse",
          "Milie Rose",
          "Le Grand Quartier",
          "Tsuba",
          "Drawing House",
          "Les Deux Girafes",
          "Select Hotel",
          "Imprimerie",
          "Touraine",
          "French Theory",
          "Yllen Eiffel",
          "Courseine",
          "Crystal",
          "Prélude",
          "Marceau",
          "Victoire et Germain",
          "Monte Cristo",
          "Quinzerie hotel"
         ],
         "y": [
          50,
          18,
          16,
          16,
          15,
          14,
          14,
          11,
          8,
          8,
          7,
          5,
          5,
          5,
          4,
          4,
          3,
          1
         ]
        },
        {
         "marker": {
          "color": "#17becf"
         },
         "type": "bar",
         "visible": false,
         "x": [
          "Ibis Montparnasse",
          "Imprimerie",
          "Milie Rose",
          "Le Grand Quartier",
          "Marceau",
          "Select Hotel",
          "Prélude",
          "Yllen Eiffel",
          "French Theory",
          "Edouard VI",
          "Crystal",
          "Quinzerie hotel",
          "Drawing House",
          "Tsuba",
          "Victoire et Germain",
          "Monte Cristo",
          "Les Deux Girafes",
          "Courseine",
          "Touraine"
         ],
         "y": [
          65,
          27,
          15,
          15,
          14,
          11,
          9,
          8,
          7,
          7,
          6,
          6,
          5,
          3,
          3,
          2,
          2,
          1,
          1
         ]
        },
        {
         "marker": {
          "color": "#1f77b4"
         },
         "type": "bar",
         "visible": false,
         "x": [
          "Ibis Montparnasse",
          "Imprimerie",
          "Milie Rose",
          "Le Grand Quartier",
          "Tsuba",
          "Yllen Eiffel",
          "Monte Cristo",
          "Apogé",
          "Courseine",
          "Select Hotel",
          "Crystal",
          "Les Deux Girafes",
          "Quinzerie hotel",
          "Marceau",
          "Edouard VI",
          "Victoire et Germain"
         ],
         "y": [
          52,
          31,
          25,
          21,
          16,
          13,
          12,
          9,
          8,
          6,
          5,
          5,
          3,
          3,
          2,
          1
         ]
        },
        {
         "marker": {
          "color": "#ff7f0e"
         },
         "type": "bar",
         "visible": false,
         "x": [
          "Ibis Montparnasse",
          "Select Hotel",
          "Le Grand Quartier",
          "Milie Rose",
          "Tsuba",
          "Yllen Eiffel",
          "Les Deux Girafes",
          "Crystal",
          "Imprimerie",
          "Marceau",
          "Touraine",
          "Apogé",
          "French Theory",
          "Edouard VI",
          "Peper and paper ",
          "Victoire et Germain"
         ],
         "y": [
          49,
          41,
          30,
          21,
          16,
          16,
          10,
          7,
          7,
          6,
          4,
          3,
          3,
          1,
          1,
          1
         ]
        },
        {
         "marker": {
          "color": "#2ca02c"
         },
         "type": "bar",
         "visible": false,
         "x": [
          "Ibis Montparnasse",
          "Select Hotel",
          "Imprimerie",
          "Le Grand Quartier",
          "Yllen Eiffel",
          "Apogé",
          "Marceau",
          "Drawing House",
          "Touraine",
          "Crystal",
          "Monte Cristo",
          "Courseine",
          "Tsuba",
          "Prélude",
          "Quinzerie hotel",
          "Les Deux Girafes",
          "Mont Dore",
          "Victoire et Germain"
         ],
         "y": [
          56,
          52,
          27,
          25,
          13,
          7,
          6,
          5,
          5,
          4,
          4,
          3,
          3,
          2,
          2,
          1,
          1,
          1
         ]
        },
        {
         "marker": {
          "color": "#d62728"
         },
         "type": "bar",
         "visible": false,
         "x": [
          "Ibis Montparnasse",
          "Le Grand Quartier",
          "Imprimerie",
          "Crystal",
          "Marceau",
          "Drawing House",
          "Monte Cristo",
          "Prélude",
          "Apogé",
          "Yllen Eiffel",
          "Tsuba",
          "Milie Rose",
          "La Belle Ville",
          "Les Deux Girafes",
          "Courseine",
          "Bleu de Grenelle",
          "French Theory",
          "Mont Dore",
          "Select Hotel",
          "Victoire et Germain"
         ],
         "y": [
          73,
          21,
          19,
          13,
          13,
          10,
          8,
          8,
          7,
          7,
          5,
          2,
          2,
          2,
          1,
          1,
          1,
          1,
          1,
          1
         ]
        },
        {
         "marker": {
          "color": "#9467bd"
         },
         "type": "bar",
         "visible": false,
         "x": [
          "Ibis Montparnasse",
          "Imprimerie",
          "Select Hotel",
          "Le Grand Quartier",
          "Crystal",
          "Marceau",
          "Drawing House",
          "Prélude",
          "Yllen Eiffel",
          "Les Deux Girafes",
          "Tsuba",
          "Victoire et Germain"
         ],
         "y": [
          61,
          19,
          16,
          11,
          8,
          7,
          6,
          4,
          4,
          3,
          3,
          1
         ]
        },
        {
         "marker": {
          "color": "#8c564b"
         },
         "type": "bar",
         "visible": false,
         "x": [
          "Ibis Montparnasse",
          "Select Hotel",
          "Le Grand Quartier",
          "Prélude",
          "Marceau",
          "Imprimerie",
          "Monte Cristo",
          "Crystal",
          "Drawing House",
          "Tsuba",
          "Yllen Eiffel",
          "Milie Rose",
          "Parisianer",
          "Les Deux Girafes",
          "Touraine"
         ],
         "y": [
          58,
          27,
          18,
          16,
          16,
          14,
          12,
          7,
          7,
          7,
          4,
          3,
          2,
          1,
          1
         ]
        },
        {
         "marker": {
          "color": "#e377c2"
         },
         "type": "bar",
         "visible": false,
         "x": [
          "Ibis Montparnasse",
          "Imprimerie",
          "Le Grand Quartier",
          "Crystal",
          "Milie Rose",
          "Prélude",
          "Victoire et Germain",
          "Yllen Eiffel",
          "Tsuba",
          "Select Hotel",
          "Marceau",
          "Apogé",
          "Monte Cristo",
          "Les Deux Girafes",
          "Courseine"
         ],
         "y": [
          53,
          40,
          14,
          13,
          11,
          9,
          8,
          8,
          7,
          7,
          7,
          6,
          4,
          1,
          1
         ]
        },
        {
         "marker": {
          "color": "#7f7f7f"
         },
         "type": "bar",
         "visible": false,
         "x": [
          "Ibis Montparnasse",
          "Imprimerie",
          "Le Grand Quartier",
          "Touraine",
          "Tsuba",
          "Edouard VI",
          "Victoire et Germain",
          "Drawing House",
          "Crystal",
          "Prélude",
          "Yllen Eiffel",
          "Monte Cristo",
          "Milie Rose",
          "Select Hotel",
          "Mathurin",
          "Bleu de Grenelle",
          "La Belle Ville",
          "Les Deux Girafes"
         ],
         "y": [
          53,
          28,
          21,
          20,
          19,
          19,
          17,
          15,
          12,
          9,
          7,
          6,
          4,
          4,
          3,
          2,
          2,
          1
         ]
        },
        {
         "marker": {
          "color": "#bcbd22"
         },
         "type": "bar",
         "visible": false,
         "x": [
          "Ibis Montparnasse",
          "Edouard VI",
          "Imprimerie",
          "Drawing House",
          "Tsuba",
          "Crystal",
          "Prélude",
          "Le Grand Quartier",
          "Victoire et Germain",
          "French Theory",
          "Touraine",
          "Courseine",
          "Marceau",
          "Yllen Eiffel",
          "Bleu de Grenelle",
          "Parisianer",
          "Les Deux Girafes",
          "Monte Cristo"
         ],
         "y": [
          47,
          33,
          24,
          20,
          19,
          14,
          13,
          10,
          10,
          5,
          5,
          4,
          4,
          3,
          2,
          2,
          1,
          1
         ]
        },
        {
         "marker": {
          "color": "#17becf"
         },
         "type": "bar",
         "visible": false,
         "x": [
          "Ibis Montparnasse",
          "Imprimerie",
          "Yllen Eiffel",
          "Courseine",
          "Le Grand Quartier",
          "Marceau",
          "Prélude",
          "Edouard VI",
          "Crystal",
          "Monte Cristo",
          "Drawing House",
          "Victoire et Germain",
          "Parisianer",
          "French Theory",
          "Milie Rose",
          "Touraine",
          "Les Deux Girafes",
          "Home Moderne",
          "Tsuba"
         ],
         "y": [
          42,
          35,
          29,
          18,
          15,
          11,
          10,
          6,
          6,
          5,
          4,
          4,
          3,
          3,
          3,
          2,
          2,
          1,
          1
         ]
        },
        {
         "marker": {
          "color": "#1f77b4"
         },
         "type": "bar",
         "visible": false,
         "x": [
          "Yllen Eiffel",
          "Imprimerie",
          "Marceau",
          "Ibis Montparnasse",
          "Le Grand Quartier",
          "Touraine",
          "Tsuba",
          "Prélude",
          "Crystal",
          "Courseine",
          "French Theory",
          "La Belle Ville",
          "Milie Rose",
          "Apogé"
         ],
         "y": [
          23,
          18,
          10,
          10,
          9,
          8,
          8,
          7,
          7,
          6,
          4,
          3,
          2,
          1
         ]
        },
        {
         "marker": {
          "color": "#ff7f0e"
         },
         "type": "bar",
         "visible": false,
         "x": [
          "Parisianer",
          "Tsuba",
          "Apogé",
          "Courseine",
          "La Belle Ville",
          "Ibis Montparnasse",
          "Marceau",
          "French Theory",
          "Monte Cristo",
          "Prélude",
          "Victoire et Germain",
          "Touraine",
          "Yllen Eiffel",
          "Imprimerie",
          "Crystal",
          "Home Moderne"
         ],
         "y": [
          18,
          11,
          9,
          8,
          8,
          8,
          5,
          4,
          4,
          3,
          2,
          2,
          2,
          1,
          1,
          1
         ]
        },
        {
         "marker": {
          "color": "#2ca02c"
         },
         "type": "bar",
         "visible": false,
         "x": [
          "La Belle Ville",
          "Imprimerie",
          "Parisianer",
          "Les Deux Girafes",
          "Tsuba",
          "Marceau",
          "Apogé",
          "French Theory",
          "Courseine",
          "Monte Cristo",
          "Milie Rose",
          "Prélude",
          "Touraine"
         ],
         "y": [
          16,
          15,
          14,
          10,
          10,
          9,
          7,
          6,
          4,
          3,
          1,
          1,
          1
         ]
        },
        {
         "marker": {
          "color": "#d62728"
         },
         "type": "bar",
         "visible": false,
         "x": [
          "Courseine",
          "Parisianer",
          "La Belle Ville",
          "Le Grand Quartier",
          "Tsuba",
          "Milie Rose",
          "French Theory",
          "Marceau",
          "Les Deux Girafes",
          "Prélude",
          "Imprimerie",
          "Victoire et Germain"
         ],
         "y": [
          16,
          14,
          11,
          8,
          8,
          7,
          6,
          4,
          3,
          2,
          1,
          1
         ]
        },
        {
         "marker": {
          "color": "#9467bd"
         },
         "type": "bar",
         "visible": false,
         "x": [
          "Prélude",
          "Marceau",
          "Courseine",
          "Victoire et Germain",
          "Le Grand Quartier",
          "Imprimerie",
          "Tsuba",
          "Parisianer"
         ],
         "y": [
          23,
          17,
          16,
          9,
          6,
          6,
          2,
          1
         ]
        },
        {
         "marker": {
          "color": "#8c564b"
         },
         "type": "bar",
         "visible": false,
         "x": [
          "Prélude",
          "Ibis Montparnasse",
          "Victoire et Germain",
          "Tsuba",
          "Courseine",
          "Touraine",
          "Monte Cristo",
          "Marceau"
         ],
         "y": [
          31,
          16,
          10,
          8,
          5,
          5,
          4,
          2
         ]
        },
        {
         "marker": {
          "color": "#e377c2"
         },
         "type": "bar",
         "visible": false,
         "x": [
          "Ibis Montparnasse"
         ],
         "y": [
          1
         ]
        }
       ],
       "layout": {
        "autosize": false,
        "height": 700,
        "showlegend": false,
        "template": {
         "data": {
          "bar": [
           {
            "error_x": {
             "color": "#2a3f5f"
            },
            "error_y": {
             "color": "#2a3f5f"
            },
            "marker": {
             "line": {
              "color": "#E5ECF6",
              "width": 0.5
             },
             "pattern": {
              "fillmode": "overlay",
              "size": 10,
              "solidity": 0.2
             }
            },
            "type": "bar"
           }
          ],
          "barpolar": [
           {
            "marker": {
             "line": {
              "color": "#E5ECF6",
              "width": 0.5
             },
             "pattern": {
              "fillmode": "overlay",
              "size": 10,
              "solidity": 0.2
             }
            },
            "type": "barpolar"
           }
          ],
          "carpet": [
           {
            "aaxis": {
             "endlinecolor": "#2a3f5f",
             "gridcolor": "white",
             "linecolor": "white",
             "minorgridcolor": "white",
             "startlinecolor": "#2a3f5f"
            },
            "baxis": {
             "endlinecolor": "#2a3f5f",
             "gridcolor": "white",
             "linecolor": "white",
             "minorgridcolor": "white",
             "startlinecolor": "#2a3f5f"
            },
            "type": "carpet"
           }
          ],
          "choropleth": [
           {
            "colorbar": {
             "outlinewidth": 0,
             "ticks": ""
            },
            "type": "choropleth"
           }
          ],
          "contour": [
           {
            "colorbar": {
             "outlinewidth": 0,
             "ticks": ""
            },
            "colorscale": [
             [
              0,
              "#0d0887"
             ],
             [
              0.1111111111111111,
              "#46039f"
             ],
             [
              0.2222222222222222,
              "#7201a8"
             ],
             [
              0.3333333333333333,
              "#9c179e"
             ],
             [
              0.4444444444444444,
              "#bd3786"
             ],
             [
              0.5555555555555556,
              "#d8576b"
             ],
             [
              0.6666666666666666,
              "#ed7953"
             ],
             [
              0.7777777777777778,
              "#fb9f3a"
             ],
             [
              0.8888888888888888,
              "#fdca26"
             ],
             [
              1,
              "#f0f921"
             ]
            ],
            "type": "contour"
           }
          ],
          "contourcarpet": [
           {
            "colorbar": {
             "outlinewidth": 0,
             "ticks": ""
            },
            "type": "contourcarpet"
           }
          ],
          "heatmap": [
           {
            "colorbar": {
             "outlinewidth": 0,
             "ticks": ""
            },
            "colorscale": [
             [
              0,
              "#0d0887"
             ],
             [
              0.1111111111111111,
              "#46039f"
             ],
             [
              0.2222222222222222,
              "#7201a8"
             ],
             [
              0.3333333333333333,
              "#9c179e"
             ],
             [
              0.4444444444444444,
              "#bd3786"
             ],
             [
              0.5555555555555556,
              "#d8576b"
             ],
             [
              0.6666666666666666,
              "#ed7953"
             ],
             [
              0.7777777777777778,
              "#fb9f3a"
             ],
             [
              0.8888888888888888,
              "#fdca26"
             ],
             [
              1,
              "#f0f921"
             ]
            ],
            "type": "heatmap"
           }
          ],
          "heatmapgl": [
           {
            "colorbar": {
             "outlinewidth": 0,
             "ticks": ""
            },
            "colorscale": [
             [
              0,
              "#0d0887"
             ],
             [
              0.1111111111111111,
              "#46039f"
             ],
             [
              0.2222222222222222,
              "#7201a8"
             ],
             [
              0.3333333333333333,
              "#9c179e"
             ],
             [
              0.4444444444444444,
              "#bd3786"
             ],
             [
              0.5555555555555556,
              "#d8576b"
             ],
             [
              0.6666666666666666,
              "#ed7953"
             ],
             [
              0.7777777777777778,
              "#fb9f3a"
             ],
             [
              0.8888888888888888,
              "#fdca26"
             ],
             [
              1,
              "#f0f921"
             ]
            ],
            "type": "heatmapgl"
           }
          ],
          "histogram": [
           {
            "marker": {
             "pattern": {
              "fillmode": "overlay",
              "size": 10,
              "solidity": 0.2
             }
            },
            "type": "histogram"
           }
          ],
          "histogram2d": [
           {
            "colorbar": {
             "outlinewidth": 0,
             "ticks": ""
            },
            "colorscale": [
             [
              0,
              "#0d0887"
             ],
             [
              0.1111111111111111,
              "#46039f"
             ],
             [
              0.2222222222222222,
              "#7201a8"
             ],
             [
              0.3333333333333333,
              "#9c179e"
             ],
             [
              0.4444444444444444,
              "#bd3786"
             ],
             [
              0.5555555555555556,
              "#d8576b"
             ],
             [
              0.6666666666666666,
              "#ed7953"
             ],
             [
              0.7777777777777778,
              "#fb9f3a"
             ],
             [
              0.8888888888888888,
              "#fdca26"
             ],
             [
              1,
              "#f0f921"
             ]
            ],
            "type": "histogram2d"
           }
          ],
          "histogram2dcontour": [
           {
            "colorbar": {
             "outlinewidth": 0,
             "ticks": ""
            },
            "colorscale": [
             [
              0,
              "#0d0887"
             ],
             [
              0.1111111111111111,
              "#46039f"
             ],
             [
              0.2222222222222222,
              "#7201a8"
             ],
             [
              0.3333333333333333,
              "#9c179e"
             ],
             [
              0.4444444444444444,
              "#bd3786"
             ],
             [
              0.5555555555555556,
              "#d8576b"
             ],
             [
              0.6666666666666666,
              "#ed7953"
             ],
             [
              0.7777777777777778,
              "#fb9f3a"
             ],
             [
              0.8888888888888888,
              "#fdca26"
             ],
             [
              1,
              "#f0f921"
             ]
            ],
            "type": "histogram2dcontour"
           }
          ],
          "mesh3d": [
           {
            "colorbar": {
             "outlinewidth": 0,
             "ticks": ""
            },
            "type": "mesh3d"
           }
          ],
          "parcoords": [
           {
            "line": {
             "colorbar": {
              "outlinewidth": 0,
              "ticks": ""
             }
            },
            "type": "parcoords"
           }
          ],
          "pie": [
           {
            "automargin": true,
            "type": "pie"
           }
          ],
          "scatter": [
           {
            "fillpattern": {
             "fillmode": "overlay",
             "size": 10,
             "solidity": 0.2
            },
            "type": "scatter"
           }
          ],
          "scatter3d": [
           {
            "line": {
             "colorbar": {
              "outlinewidth": 0,
              "ticks": ""
             }
            },
            "marker": {
             "colorbar": {
              "outlinewidth": 0,
              "ticks": ""
             }
            },
            "type": "scatter3d"
           }
          ],
          "scattercarpet": [
           {
            "marker": {
             "colorbar": {
              "outlinewidth": 0,
              "ticks": ""
             }
            },
            "type": "scattercarpet"
           }
          ],
          "scattergeo": [
           {
            "marker": {
             "colorbar": {
              "outlinewidth": 0,
              "ticks": ""
             }
            },
            "type": "scattergeo"
           }
          ],
          "scattergl": [
           {
            "marker": {
             "colorbar": {
              "outlinewidth": 0,
              "ticks": ""
             }
            },
            "type": "scattergl"
           }
          ],
          "scattermapbox": [
           {
            "marker": {
             "colorbar": {
              "outlinewidth": 0,
              "ticks": ""
             }
            },
            "type": "scattermapbox"
           }
          ],
          "scatterpolar": [
           {
            "marker": {
             "colorbar": {
              "outlinewidth": 0,
              "ticks": ""
             }
            },
            "type": "scatterpolar"
           }
          ],
          "scatterpolargl": [
           {
            "marker": {
             "colorbar": {
              "outlinewidth": 0,
              "ticks": ""
             }
            },
            "type": "scatterpolargl"
           }
          ],
          "scatterternary": [
           {
            "marker": {
             "colorbar": {
              "outlinewidth": 0,
              "ticks": ""
             }
            },
            "type": "scatterternary"
           }
          ],
          "surface": [
           {
            "colorbar": {
             "outlinewidth": 0,
             "ticks": ""
            },
            "colorscale": [
             [
              0,
              "#0d0887"
             ],
             [
              0.1111111111111111,
              "#46039f"
             ],
             [
              0.2222222222222222,
              "#7201a8"
             ],
             [
              0.3333333333333333,
              "#9c179e"
             ],
             [
              0.4444444444444444,
              "#bd3786"
             ],
             [
              0.5555555555555556,
              "#d8576b"
             ],
             [
              0.6666666666666666,
              "#ed7953"
             ],
             [
              0.7777777777777778,
              "#fb9f3a"
             ],
             [
              0.8888888888888888,
              "#fdca26"
             ],
             [
              1,
              "#f0f921"
             ]
            ],
            "type": "surface"
           }
          ],
          "table": [
           {
            "cells": {
             "fill": {
              "color": "#EBF0F8"
             },
             "line": {
              "color": "white"
             }
            },
            "header": {
             "fill": {
              "color": "#C8D4E3"
             },
             "line": {
              "color": "white"
             }
            },
            "type": "table"
           }
          ]
         },
         "layout": {
          "annotationdefaults": {
           "arrowcolor": "#2a3f5f",
           "arrowhead": 0,
           "arrowwidth": 1
          },
          "autotypenumbers": "strict",
          "coloraxis": {
           "colorbar": {
            "outlinewidth": 0,
            "ticks": ""
           }
          },
          "colorscale": {
           "diverging": [
            [
             0,
             "#8e0152"
            ],
            [
             0.1,
             "#c51b7d"
            ],
            [
             0.2,
             "#de77ae"
            ],
            [
             0.3,
             "#f1b6da"
            ],
            [
             0.4,
             "#fde0ef"
            ],
            [
             0.5,
             "#f7f7f7"
            ],
            [
             0.6,
             "#e6f5d0"
            ],
            [
             0.7,
             "#b8e186"
            ],
            [
             0.8,
             "#7fbc41"
            ],
            [
             0.9,
             "#4d9221"
            ],
            [
             1,
             "#276419"
            ]
           ],
           "sequential": [
            [
             0,
             "#0d0887"
            ],
            [
             0.1111111111111111,
             "#46039f"
            ],
            [
             0.2222222222222222,
             "#7201a8"
            ],
            [
             0.3333333333333333,
             "#9c179e"
            ],
            [
             0.4444444444444444,
             "#bd3786"
            ],
            [
             0.5555555555555556,
             "#d8576b"
            ],
            [
             0.6666666666666666,
             "#ed7953"
            ],
            [
             0.7777777777777778,
             "#fb9f3a"
            ],
            [
             0.8888888888888888,
             "#fdca26"
            ],
            [
             1,
             "#f0f921"
            ]
           ],
           "sequentialminus": [
            [
             0,
             "#0d0887"
            ],
            [
             0.1111111111111111,
             "#46039f"
            ],
            [
             0.2222222222222222,
             "#7201a8"
            ],
            [
             0.3333333333333333,
             "#9c179e"
            ],
            [
             0.4444444444444444,
             "#bd3786"
            ],
            [
             0.5555555555555556,
             "#d8576b"
            ],
            [
             0.6666666666666666,
             "#ed7953"
            ],
            [
             0.7777777777777778,
             "#fb9f3a"
            ],
            [
             0.8888888888888888,
             "#fdca26"
            ],
            [
             1,
             "#f0f921"
            ]
           ]
          },
          "colorway": [
           "#636efa",
           "#EF553B",
           "#00cc96",
           "#ab63fa",
           "#FFA15A",
           "#19d3f3",
           "#FF6692",
           "#B6E880",
           "#FF97FF",
           "#FECB52"
          ],
          "font": {
           "color": "#2a3f5f"
          },
          "geo": {
           "bgcolor": "white",
           "lakecolor": "white",
           "landcolor": "#E5ECF6",
           "showlakes": true,
           "showland": true,
           "subunitcolor": "white"
          },
          "hoverlabel": {
           "align": "left"
          },
          "hovermode": "closest",
          "mapbox": {
           "style": "light"
          },
          "paper_bgcolor": "white",
          "plot_bgcolor": "#E5ECF6",
          "polar": {
           "angularaxis": {
            "gridcolor": "white",
            "linecolor": "white",
            "ticks": ""
           },
           "bgcolor": "#E5ECF6",
           "radialaxis": {
            "gridcolor": "white",
            "linecolor": "white",
            "ticks": ""
           }
          },
          "scene": {
           "xaxis": {
            "backgroundcolor": "#E5ECF6",
            "gridcolor": "white",
            "gridwidth": 2,
            "linecolor": "white",
            "showbackground": true,
            "ticks": "",
            "zerolinecolor": "white"
           },
           "yaxis": {
            "backgroundcolor": "#E5ECF6",
            "gridcolor": "white",
            "gridwidth": 2,
            "linecolor": "white",
            "showbackground": true,
            "ticks": "",
            "zerolinecolor": "white"
           },
           "zaxis": {
            "backgroundcolor": "#E5ECF6",
            "gridcolor": "white",
            "gridwidth": 2,
            "linecolor": "white",
            "showbackground": true,
            "ticks": "",
            "zerolinecolor": "white"
           }
          },
          "shapedefaults": {
           "line": {
            "color": "#2a3f5f"
           }
          },
          "ternary": {
           "aaxis": {
            "gridcolor": "white",
            "linecolor": "white",
            "ticks": ""
           },
           "baxis": {
            "gridcolor": "white",
            "linecolor": "white",
            "ticks": ""
           },
           "bgcolor": "#E5ECF6",
           "caxis": {
            "gridcolor": "white",
            "linecolor": "white",
            "ticks": ""
           }
          },
          "title": {
           "x": 0.05
          },
          "xaxis": {
           "automargin": true,
           "gridcolor": "white",
           "linecolor": "white",
           "ticks": "",
           "title": {
            "standoff": 15
           },
           "zerolinecolor": "white",
           "zerolinewidth": 2
          },
          "yaxis": {
           "automargin": true,
           "gridcolor": "white",
           "linecolor": "white",
           "ticks": "",
           "title": {
            "standoff": 15
           },
           "zerolinecolor": "white",
           "zerolinewidth": 2
          }
         }
        },
        "title": {
         "text": "Number of monthly observations in one year",
         "x": 0.5
        },
        "updatemenus": [
         {
          "active": 0,
          "buttons": [
           {
            "args": [
             {
              "visible": [
               true,
               false,
               false,
               false,
               false,
               false,
               false,
               false,
               false,
               false,
               false,
               false,
               false,
               false,
               false,
               false,
               false,
               false,
               false,
               false,
               false,
               false,
               false,
               false,
               false,
               false,
               false
              ]
             }
            ],
            "label": "01-2024",
            "method": "update"
           },
           {
            "args": [
             {
              "visible": [
               false,
               true,
               false,
               false,
               false,
               false,
               false,
               false,
               false,
               false,
               false,
               false,
               false,
               false,
               false,
               false,
               false,
               false,
               false,
               false,
               false,
               false,
               false,
               false,
               false,
               false,
               false
              ]
             }
            ],
            "label": "12-2023",
            "method": "update"
           },
           {
            "args": [
             {
              "visible": [
               false,
               false,
               true,
               false,
               false,
               false,
               false,
               false,
               false,
               false,
               false,
               false,
               false,
               false,
               false,
               false,
               false,
               false,
               false,
               false,
               false,
               false,
               false,
               false,
               false,
               false,
               false
              ]
             }
            ],
            "label": "11-2023",
            "method": "update"
           },
           {
            "args": [
             {
              "visible": [
               false,
               false,
               false,
               true,
               false,
               false,
               false,
               false,
               false,
               false,
               false,
               false,
               false,
               false,
               false,
               false,
               false,
               false,
               false,
               false,
               false,
               false,
               false,
               false,
               false,
               false,
               false
              ]
             }
            ],
            "label": "10-2023",
            "method": "update"
           },
           {
            "args": [
             {
              "visible": [
               false,
               false,
               false,
               false,
               true,
               false,
               false,
               false,
               false,
               false,
               false,
               false,
               false,
               false,
               false,
               false,
               false,
               false,
               false,
               false,
               false,
               false,
               false,
               false,
               false,
               false,
               false
              ]
             }
            ],
            "label": "09-2023",
            "method": "update"
           },
           {
            "args": [
             {
              "visible": [
               false,
               false,
               false,
               false,
               false,
               true,
               false,
               false,
               false,
               false,
               false,
               false,
               false,
               false,
               false,
               false,
               false,
               false,
               false,
               false,
               false,
               false,
               false,
               false,
               false,
               false,
               false
              ]
             }
            ],
            "label": "08-2023",
            "method": "update"
           },
           {
            "args": [
             {
              "visible": [
               false,
               false,
               false,
               false,
               false,
               false,
               true,
               false,
               false,
               false,
               false,
               false,
               false,
               false,
               false,
               false,
               false,
               false,
               false,
               false,
               false,
               false,
               false,
               false,
               false,
               false,
               false
              ]
             }
            ],
            "label": "07-2023",
            "method": "update"
           },
           {
            "args": [
             {
              "visible": [
               false,
               false,
               false,
               false,
               false,
               false,
               false,
               true,
               false,
               false,
               false,
               false,
               false,
               false,
               false,
               false,
               false,
               false,
               false,
               false,
               false,
               false,
               false,
               false,
               false,
               false,
               false
              ]
             }
            ],
            "label": "06-2023",
            "method": "update"
           },
           {
            "args": [
             {
              "visible": [
               false,
               false,
               false,
               false,
               false,
               false,
               false,
               false,
               true,
               false,
               false,
               false,
               false,
               false,
               false,
               false,
               false,
               false,
               false,
               false,
               false,
               false,
               false,
               false,
               false,
               false,
               false
              ]
             }
            ],
            "label": "05-2023",
            "method": "update"
           },
           {
            "args": [
             {
              "visible": [
               false,
               false,
               false,
               false,
               false,
               false,
               false,
               false,
               false,
               true,
               false,
               false,
               false,
               false,
               false,
               false,
               false,
               false,
               false,
               false,
               false,
               false,
               false,
               false,
               false,
               false,
               false
              ]
             }
            ],
            "label": "04-2023",
            "method": "update"
           },
           {
            "args": [
             {
              "visible": [
               false,
               false,
               false,
               false,
               false,
               false,
               false,
               false,
               false,
               false,
               true,
               false,
               false,
               false,
               false,
               false,
               false,
               false,
               false,
               false,
               false,
               false,
               false,
               false,
               false,
               false,
               false
              ]
             }
            ],
            "label": "03-2023",
            "method": "update"
           },
           {
            "args": [
             {
              "visible": [
               false,
               false,
               false,
               false,
               false,
               false,
               false,
               false,
               false,
               false,
               false,
               true,
               false,
               false,
               false,
               false,
               false,
               false,
               false,
               false,
               false,
               false,
               false,
               false,
               false,
               false,
               false
              ]
             }
            ],
            "label": "02-2023",
            "method": "update"
           },
           {
            "args": [
             {
              "visible": [
               false,
               false,
               false,
               false,
               false,
               false,
               false,
               false,
               false,
               false,
               false,
               false,
               true,
               false,
               false,
               false,
               false,
               false,
               false,
               false,
               false,
               false,
               false,
               false,
               false,
               false,
               false
              ]
             }
            ],
            "label": "01-2023",
            "method": "update"
           },
           {
            "args": [
             {
              "visible": [
               false,
               false,
               false,
               false,
               false,
               false,
               false,
               false,
               false,
               false,
               false,
               false,
               false,
               true,
               false,
               false,
               false,
               false,
               false,
               false,
               false,
               false,
               false,
               false,
               false,
               false,
               false
              ]
             }
            ],
            "label": "12-2022",
            "method": "update"
           },
           {
            "args": [
             {
              "visible": [
               false,
               false,
               false,
               false,
               false,
               false,
               false,
               false,
               false,
               false,
               false,
               false,
               false,
               false,
               true,
               false,
               false,
               false,
               false,
               false,
               false,
               false,
               false,
               false,
               false,
               false,
               false
              ]
             }
            ],
            "label": "11-2022",
            "method": "update"
           },
           {
            "args": [
             {
              "visible": [
               false,
               false,
               false,
               false,
               false,
               false,
               false,
               false,
               false,
               false,
               false,
               false,
               false,
               false,
               false,
               true,
               false,
               false,
               false,
               false,
               false,
               false,
               false,
               false,
               false,
               false,
               false
              ]
             }
            ],
            "label": "10-2022",
            "method": "update"
           },
           {
            "args": [
             {
              "visible": [
               false,
               false,
               false,
               false,
               false,
               false,
               false,
               false,
               false,
               false,
               false,
               false,
               false,
               false,
               false,
               false,
               true,
               false,
               false,
               false,
               false,
               false,
               false,
               false,
               false,
               false,
               false
              ]
             }
            ],
            "label": "09-2022",
            "method": "update"
           },
           {
            "args": [
             {
              "visible": [
               false,
               false,
               false,
               false,
               false,
               false,
               false,
               false,
               false,
               false,
               false,
               false,
               false,
               false,
               false,
               false,
               false,
               true,
               false,
               false,
               false,
               false,
               false,
               false,
               false,
               false,
               false
              ]
             }
            ],
            "label": "08-2022",
            "method": "update"
           },
           {
            "args": [
             {
              "visible": [
               false,
               false,
               false,
               false,
               false,
               false,
               false,
               false,
               false,
               false,
               false,
               false,
               false,
               false,
               false,
               false,
               false,
               false,
               true,
               false,
               false,
               false,
               false,
               false,
               false,
               false,
               false
              ]
             }
            ],
            "label": "07-2022",
            "method": "update"
           },
           {
            "args": [
             {
              "visible": [
               false,
               false,
               false,
               false,
               false,
               false,
               false,
               false,
               false,
               false,
               false,
               false,
               false,
               false,
               false,
               false,
               false,
               false,
               false,
               true,
               false,
               false,
               false,
               false,
               false,
               false,
               false
              ]
             }
            ],
            "label": "06-2022",
            "method": "update"
           },
           {
            "args": [
             {
              "visible": [
               false,
               false,
               false,
               false,
               false,
               false,
               false,
               false,
               false,
               false,
               false,
               false,
               false,
               false,
               false,
               false,
               false,
               false,
               false,
               false,
               true,
               false,
               false,
               false,
               false,
               false,
               false
              ]
             }
            ],
            "label": "05-2022",
            "method": "update"
           },
           {
            "args": [
             {
              "visible": [
               false,
               false,
               false,
               false,
               false,
               false,
               false,
               false,
               false,
               false,
               false,
               false,
               false,
               false,
               false,
               false,
               false,
               false,
               false,
               false,
               false,
               true,
               false,
               false,
               false,
               false,
               false
              ]
             }
            ],
            "label": "04-2022",
            "method": "update"
           },
           {
            "args": [
             {
              "visible": [
               false,
               false,
               false,
               false,
               false,
               false,
               false,
               false,
               false,
               false,
               false,
               false,
               false,
               false,
               false,
               false,
               false,
               false,
               false,
               false,
               false,
               false,
               true,
               false,
               false,
               false,
               false
              ]
             }
            ],
            "label": "03-2022",
            "method": "update"
           },
           {
            "args": [
             {
              "visible": [
               false,
               false,
               false,
               false,
               false,
               false,
               false,
               false,
               false,
               false,
               false,
               false,
               false,
               false,
               false,
               false,
               false,
               false,
               false,
               false,
               false,
               false,
               false,
               true,
               false,
               false,
               false
              ]
             }
            ],
            "label": "02-2022",
            "method": "update"
           },
           {
            "args": [
             {
              "visible": [
               false,
               false,
               false,
               false,
               false,
               false,
               false,
               false,
               false,
               false,
               false,
               false,
               false,
               false,
               false,
               false,
               false,
               false,
               false,
               false,
               false,
               false,
               false,
               false,
               true,
               false,
               false
              ]
             }
            ],
            "label": "01-2022",
            "method": "update"
           },
           {
            "args": [
             {
              "visible": [
               false,
               false,
               false,
               false,
               false,
               false,
               false,
               false,
               false,
               false,
               false,
               false,
               false,
               false,
               false,
               false,
               false,
               false,
               false,
               false,
               false,
               false,
               false,
               false,
               false,
               true,
               false
              ]
             }
            ],
            "label": "12-2021",
            "method": "update"
           },
           {
            "args": [
             {
              "visible": [
               false,
               false,
               false,
               false,
               false,
               false,
               false,
               false,
               false,
               false,
               false,
               false,
               false,
               false,
               false,
               false,
               false,
               false,
               false,
               false,
               false,
               false,
               false,
               false,
               false,
               false,
               true
              ]
             }
            ],
            "label": "11-2021",
            "method": "update"
           }
          ]
         }
        ],
        "width": 1500
       }
      }
     },
     "metadata": {},
     "output_type": "display_data"
    }
   ],
   "source": [
    "import seaborn as sns\n",
    "\n",
    "months = data[\"periode_debut\"].unique()\n",
    "custom_palette = sns.color_palette(\"tab10\", 27).as_hex()\n",
    "fig = go.Figure()\n",
    "\n",
    "\n",
    "for i in range(len(months)) : \n",
    "        if i == 0:\n",
    "                fig.add_trace(\n",
    "                        go.Bar(x=data[data[\"periode_debut\"] == months[i]].groupby(\"Propriété_clean\").count().sort_values(by=\"hôtel\", ascending=False).index, \n",
    "                               y=data[data[\"periode_debut\"] == months[i]].groupby(\"Propriété_clean\").count().sort_values(by=\"hôtel\", ascending=False).hôtel, \n",
    "                               visible = True,\n",
    "                               marker_color=custom_palette[i]))\n",
    "\n",
    "        else:\n",
    "                fig.add_trace(\n",
    "                        go.Bar(x=data[data[\"periode_debut\"] == months[i]].groupby(\"Propriété_clean\").count().sort_values(by=\"hôtel\", ascending=False).index, \n",
    "                               y=data[data[\"periode_debut\"] == months[i]].groupby(\"Propriété_clean\").count().sort_values(by=\"hôtel\", ascending=False).hôtel, \n",
    "                               visible = False,\n",
    "                               marker_color=custom_palette[i]))\n",
    "\n",
    "fig.update_layout(\n",
    "        title = go.layout.Title(text = \"Number of monthly observations in one year\", x = 0.5),\n",
    "        autosize=False,\n",
    "        showlegend=False,\n",
    "        width=1500,\n",
    "        height=700\n",
    "        )\n",
    "\n",
    "buttons = [\n",
    "    go.layout.updatemenu.Button(\n",
    "        label=month,\n",
    "        method='update',\n",
    "        args=[{'visible': [m == month for m in months]}]\n",
    "    )\n",
    "    for month in months\n",
    "]\n",
    "\n",
    "\n",
    "fig.update_layout(\n",
    "        updatemenus = [go.layout.Updatemenu(\n",
    "                active = 0,\n",
    "                buttons= buttons\n",
    "                          )]\n",
    ")"
   ]
  },
  {
   "cell_type": "code",
   "execution_count": 324,
   "metadata": {},
   "outputs": [
    {
     "data": {
      "application/vnd.plotly.v1+json": {
       "config": {
        "plotlyServerURL": "https://plot.ly"
       },
       "data": [
        {
         "marker": {
          "color": "#1f77b4"
         },
         "type": "bar",
         "visible": true,
         "x": [
          "Crystal",
          "Milie Rose",
          "Touraine"
         ],
         "y": [
          2,
          5,
          3
         ]
        },
        {
         "marker": {
          "color": "#ff7f0e"
         },
         "type": "bar",
         "visible": false,
         "x": [
          "Alberte ",
          "Apogé",
          "Chouchou",
          "Courseine",
          "Crystal",
          "Drawing House",
          "Edouard VI",
          "French Theory",
          "Ibis Montparnasse",
          "Imprimerie",
          "Le Grand Quartier",
          "Le Roch Hotel",
          "Les Deux Girafes",
          "MT solutions ",
          "Marceau",
          "Milie Rose",
          "Mont Dore",
          "Monte Cristo",
          "Parisianer",
          "Parisis",
          "Peper and paper ",
          "Prélude",
          "Quinzerie hotel",
          "Select Hotel",
          "Touraine",
          "Tsuba",
          "Victoire et Germain",
          "Yllen Eiffel"
         ],
         "y": [
          5,
          31,
          12,
          40,
          60,
          82,
          23,
          40,
          869,
          236,
          283,
          3,
          59,
          19,
          145,
          214,
          1,
          47,
          17,
          29,
          1,
          17,
          20,
          255,
          68,
          116,
          26,
          109
         ]
        },
        {
         "marker": {
          "color": "#2ca02c"
         },
         "type": "bar",
         "visible": false,
         "x": [
          "Apogé",
          "Bleu de Grenelle",
          "Courseine",
          "Crystal",
          "Drawing House",
          "Edouard VI",
          "French Theory",
          "Home Moderne",
          "Ibis Montparnasse",
          "Imprimerie",
          "La Belle Ville",
          "Le Grand Quartier",
          "Les Deux Girafes",
          "Marceau",
          "Mathurin",
          "Milie Rose",
          "Mont Dore",
          "Monte Cristo",
          "Parisianer",
          "Prélude",
          "Select Hotel",
          "Touraine",
          "Tsuba",
          "Victoire et Germain",
          "Yllen Eiffel"
         ],
         "y": [
          30,
          5,
          74,
          81,
          62,
          58,
          29,
          2,
          405,
          220,
          42,
          133,
          24,
          103,
          3,
          33,
          1,
          43,
          54,
          105,
          55,
          39,
          100,
          53,
          87
         ]
        },
        {
         "marker": {
          "color": "#d62728"
         },
         "type": "bar",
         "visible": false,
         "x": [
          "Courseine",
          "Ibis Montparnasse",
          "Marceau",
          "Monte Cristo",
          "Prélude",
          "Touraine",
          "Tsuba",
          "Victoire et Germain"
         ],
         "y": [
          5,
          17,
          2,
          4,
          31,
          5,
          8,
          10
         ]
        }
       ],
       "layout": {
        "autosize": false,
        "height": 700,
        "showlegend": false,
        "template": {
         "data": {
          "bar": [
           {
            "error_x": {
             "color": "#2a3f5f"
            },
            "error_y": {
             "color": "#2a3f5f"
            },
            "marker": {
             "line": {
              "color": "#E5ECF6",
              "width": 0.5
             },
             "pattern": {
              "fillmode": "overlay",
              "size": 10,
              "solidity": 0.2
             }
            },
            "type": "bar"
           }
          ],
          "barpolar": [
           {
            "marker": {
             "line": {
              "color": "#E5ECF6",
              "width": 0.5
             },
             "pattern": {
              "fillmode": "overlay",
              "size": 10,
              "solidity": 0.2
             }
            },
            "type": "barpolar"
           }
          ],
          "carpet": [
           {
            "aaxis": {
             "endlinecolor": "#2a3f5f",
             "gridcolor": "white",
             "linecolor": "white",
             "minorgridcolor": "white",
             "startlinecolor": "#2a3f5f"
            },
            "baxis": {
             "endlinecolor": "#2a3f5f",
             "gridcolor": "white",
             "linecolor": "white",
             "minorgridcolor": "white",
             "startlinecolor": "#2a3f5f"
            },
            "type": "carpet"
           }
          ],
          "choropleth": [
           {
            "colorbar": {
             "outlinewidth": 0,
             "ticks": ""
            },
            "type": "choropleth"
           }
          ],
          "contour": [
           {
            "colorbar": {
             "outlinewidth": 0,
             "ticks": ""
            },
            "colorscale": [
             [
              0,
              "#0d0887"
             ],
             [
              0.1111111111111111,
              "#46039f"
             ],
             [
              0.2222222222222222,
              "#7201a8"
             ],
             [
              0.3333333333333333,
              "#9c179e"
             ],
             [
              0.4444444444444444,
              "#bd3786"
             ],
             [
              0.5555555555555556,
              "#d8576b"
             ],
             [
              0.6666666666666666,
              "#ed7953"
             ],
             [
              0.7777777777777778,
              "#fb9f3a"
             ],
             [
              0.8888888888888888,
              "#fdca26"
             ],
             [
              1,
              "#f0f921"
             ]
            ],
            "type": "contour"
           }
          ],
          "contourcarpet": [
           {
            "colorbar": {
             "outlinewidth": 0,
             "ticks": ""
            },
            "type": "contourcarpet"
           }
          ],
          "heatmap": [
           {
            "colorbar": {
             "outlinewidth": 0,
             "ticks": ""
            },
            "colorscale": [
             [
              0,
              "#0d0887"
             ],
             [
              0.1111111111111111,
              "#46039f"
             ],
             [
              0.2222222222222222,
              "#7201a8"
             ],
             [
              0.3333333333333333,
              "#9c179e"
             ],
             [
              0.4444444444444444,
              "#bd3786"
             ],
             [
              0.5555555555555556,
              "#d8576b"
             ],
             [
              0.6666666666666666,
              "#ed7953"
             ],
             [
              0.7777777777777778,
              "#fb9f3a"
             ],
             [
              0.8888888888888888,
              "#fdca26"
             ],
             [
              1,
              "#f0f921"
             ]
            ],
            "type": "heatmap"
           }
          ],
          "heatmapgl": [
           {
            "colorbar": {
             "outlinewidth": 0,
             "ticks": ""
            },
            "colorscale": [
             [
              0,
              "#0d0887"
             ],
             [
              0.1111111111111111,
              "#46039f"
             ],
             [
              0.2222222222222222,
              "#7201a8"
             ],
             [
              0.3333333333333333,
              "#9c179e"
             ],
             [
              0.4444444444444444,
              "#bd3786"
             ],
             [
              0.5555555555555556,
              "#d8576b"
             ],
             [
              0.6666666666666666,
              "#ed7953"
             ],
             [
              0.7777777777777778,
              "#fb9f3a"
             ],
             [
              0.8888888888888888,
              "#fdca26"
             ],
             [
              1,
              "#f0f921"
             ]
            ],
            "type": "heatmapgl"
           }
          ],
          "histogram": [
           {
            "marker": {
             "pattern": {
              "fillmode": "overlay",
              "size": 10,
              "solidity": 0.2
             }
            },
            "type": "histogram"
           }
          ],
          "histogram2d": [
           {
            "colorbar": {
             "outlinewidth": 0,
             "ticks": ""
            },
            "colorscale": [
             [
              0,
              "#0d0887"
             ],
             [
              0.1111111111111111,
              "#46039f"
             ],
             [
              0.2222222222222222,
              "#7201a8"
             ],
             [
              0.3333333333333333,
              "#9c179e"
             ],
             [
              0.4444444444444444,
              "#bd3786"
             ],
             [
              0.5555555555555556,
              "#d8576b"
             ],
             [
              0.6666666666666666,
              "#ed7953"
             ],
             [
              0.7777777777777778,
              "#fb9f3a"
             ],
             [
              0.8888888888888888,
              "#fdca26"
             ],
             [
              1,
              "#f0f921"
             ]
            ],
            "type": "histogram2d"
           }
          ],
          "histogram2dcontour": [
           {
            "colorbar": {
             "outlinewidth": 0,
             "ticks": ""
            },
            "colorscale": [
             [
              0,
              "#0d0887"
             ],
             [
              0.1111111111111111,
              "#46039f"
             ],
             [
              0.2222222222222222,
              "#7201a8"
             ],
             [
              0.3333333333333333,
              "#9c179e"
             ],
             [
              0.4444444444444444,
              "#bd3786"
             ],
             [
              0.5555555555555556,
              "#d8576b"
             ],
             [
              0.6666666666666666,
              "#ed7953"
             ],
             [
              0.7777777777777778,
              "#fb9f3a"
             ],
             [
              0.8888888888888888,
              "#fdca26"
             ],
             [
              1,
              "#f0f921"
             ]
            ],
            "type": "histogram2dcontour"
           }
          ],
          "mesh3d": [
           {
            "colorbar": {
             "outlinewidth": 0,
             "ticks": ""
            },
            "type": "mesh3d"
           }
          ],
          "parcoords": [
           {
            "line": {
             "colorbar": {
              "outlinewidth": 0,
              "ticks": ""
             }
            },
            "type": "parcoords"
           }
          ],
          "pie": [
           {
            "automargin": true,
            "type": "pie"
           }
          ],
          "scatter": [
           {
            "fillpattern": {
             "fillmode": "overlay",
             "size": 10,
             "solidity": 0.2
            },
            "type": "scatter"
           }
          ],
          "scatter3d": [
           {
            "line": {
             "colorbar": {
              "outlinewidth": 0,
              "ticks": ""
             }
            },
            "marker": {
             "colorbar": {
              "outlinewidth": 0,
              "ticks": ""
             }
            },
            "type": "scatter3d"
           }
          ],
          "scattercarpet": [
           {
            "marker": {
             "colorbar": {
              "outlinewidth": 0,
              "ticks": ""
             }
            },
            "type": "scattercarpet"
           }
          ],
          "scattergeo": [
           {
            "marker": {
             "colorbar": {
              "outlinewidth": 0,
              "ticks": ""
             }
            },
            "type": "scattergeo"
           }
          ],
          "scattergl": [
           {
            "marker": {
             "colorbar": {
              "outlinewidth": 0,
              "ticks": ""
             }
            },
            "type": "scattergl"
           }
          ],
          "scattermapbox": [
           {
            "marker": {
             "colorbar": {
              "outlinewidth": 0,
              "ticks": ""
             }
            },
            "type": "scattermapbox"
           }
          ],
          "scatterpolar": [
           {
            "marker": {
             "colorbar": {
              "outlinewidth": 0,
              "ticks": ""
             }
            },
            "type": "scatterpolar"
           }
          ],
          "scatterpolargl": [
           {
            "marker": {
             "colorbar": {
              "outlinewidth": 0,
              "ticks": ""
             }
            },
            "type": "scatterpolargl"
           }
          ],
          "scatterternary": [
           {
            "marker": {
             "colorbar": {
              "outlinewidth": 0,
              "ticks": ""
             }
            },
            "type": "scatterternary"
           }
          ],
          "surface": [
           {
            "colorbar": {
             "outlinewidth": 0,
             "ticks": ""
            },
            "colorscale": [
             [
              0,
              "#0d0887"
             ],
             [
              0.1111111111111111,
              "#46039f"
             ],
             [
              0.2222222222222222,
              "#7201a8"
             ],
             [
              0.3333333333333333,
              "#9c179e"
             ],
             [
              0.4444444444444444,
              "#bd3786"
             ],
             [
              0.5555555555555556,
              "#d8576b"
             ],
             [
              0.6666666666666666,
              "#ed7953"
             ],
             [
              0.7777777777777778,
              "#fb9f3a"
             ],
             [
              0.8888888888888888,
              "#fdca26"
             ],
             [
              1,
              "#f0f921"
             ]
            ],
            "type": "surface"
           }
          ],
          "table": [
           {
            "cells": {
             "fill": {
              "color": "#EBF0F8"
             },
             "line": {
              "color": "white"
             }
            },
            "header": {
             "fill": {
              "color": "#C8D4E3"
             },
             "line": {
              "color": "white"
             }
            },
            "type": "table"
           }
          ]
         },
         "layout": {
          "annotationdefaults": {
           "arrowcolor": "#2a3f5f",
           "arrowhead": 0,
           "arrowwidth": 1
          },
          "autotypenumbers": "strict",
          "coloraxis": {
           "colorbar": {
            "outlinewidth": 0,
            "ticks": ""
           }
          },
          "colorscale": {
           "diverging": [
            [
             0,
             "#8e0152"
            ],
            [
             0.1,
             "#c51b7d"
            ],
            [
             0.2,
             "#de77ae"
            ],
            [
             0.3,
             "#f1b6da"
            ],
            [
             0.4,
             "#fde0ef"
            ],
            [
             0.5,
             "#f7f7f7"
            ],
            [
             0.6,
             "#e6f5d0"
            ],
            [
             0.7,
             "#b8e186"
            ],
            [
             0.8,
             "#7fbc41"
            ],
            [
             0.9,
             "#4d9221"
            ],
            [
             1,
             "#276419"
            ]
           ],
           "sequential": [
            [
             0,
             "#0d0887"
            ],
            [
             0.1111111111111111,
             "#46039f"
            ],
            [
             0.2222222222222222,
             "#7201a8"
            ],
            [
             0.3333333333333333,
             "#9c179e"
            ],
            [
             0.4444444444444444,
             "#bd3786"
            ],
            [
             0.5555555555555556,
             "#d8576b"
            ],
            [
             0.6666666666666666,
             "#ed7953"
            ],
            [
             0.7777777777777778,
             "#fb9f3a"
            ],
            [
             0.8888888888888888,
             "#fdca26"
            ],
            [
             1,
             "#f0f921"
            ]
           ],
           "sequentialminus": [
            [
             0,
             "#0d0887"
            ],
            [
             0.1111111111111111,
             "#46039f"
            ],
            [
             0.2222222222222222,
             "#7201a8"
            ],
            [
             0.3333333333333333,
             "#9c179e"
            ],
            [
             0.4444444444444444,
             "#bd3786"
            ],
            [
             0.5555555555555556,
             "#d8576b"
            ],
            [
             0.6666666666666666,
             "#ed7953"
            ],
            [
             0.7777777777777778,
             "#fb9f3a"
            ],
            [
             0.8888888888888888,
             "#fdca26"
            ],
            [
             1,
             "#f0f921"
            ]
           ]
          },
          "colorway": [
           "#636efa",
           "#EF553B",
           "#00cc96",
           "#ab63fa",
           "#FFA15A",
           "#19d3f3",
           "#FF6692",
           "#B6E880",
           "#FF97FF",
           "#FECB52"
          ],
          "font": {
           "color": "#2a3f5f"
          },
          "geo": {
           "bgcolor": "white",
           "lakecolor": "white",
           "landcolor": "#E5ECF6",
           "showlakes": true,
           "showland": true,
           "subunitcolor": "white"
          },
          "hoverlabel": {
           "align": "left"
          },
          "hovermode": "closest",
          "mapbox": {
           "style": "light"
          },
          "paper_bgcolor": "white",
          "plot_bgcolor": "#E5ECF6",
          "polar": {
           "angularaxis": {
            "gridcolor": "white",
            "linecolor": "white",
            "ticks": ""
           },
           "bgcolor": "#E5ECF6",
           "radialaxis": {
            "gridcolor": "white",
            "linecolor": "white",
            "ticks": ""
           }
          },
          "scene": {
           "xaxis": {
            "backgroundcolor": "#E5ECF6",
            "gridcolor": "white",
            "gridwidth": 2,
            "linecolor": "white",
            "showbackground": true,
            "ticks": "",
            "zerolinecolor": "white"
           },
           "yaxis": {
            "backgroundcolor": "#E5ECF6",
            "gridcolor": "white",
            "gridwidth": 2,
            "linecolor": "white",
            "showbackground": true,
            "ticks": "",
            "zerolinecolor": "white"
           },
           "zaxis": {
            "backgroundcolor": "#E5ECF6",
            "gridcolor": "white",
            "gridwidth": 2,
            "linecolor": "white",
            "showbackground": true,
            "ticks": "",
            "zerolinecolor": "white"
           }
          },
          "shapedefaults": {
           "line": {
            "color": "#2a3f5f"
           }
          },
          "ternary": {
           "aaxis": {
            "gridcolor": "white",
            "linecolor": "white",
            "ticks": ""
           },
           "baxis": {
            "gridcolor": "white",
            "linecolor": "white",
            "ticks": ""
           },
           "bgcolor": "#E5ECF6",
           "caxis": {
            "gridcolor": "white",
            "linecolor": "white",
            "ticks": ""
           }
          },
          "title": {
           "x": 0.05
          },
          "xaxis": {
           "automargin": true,
           "gridcolor": "white",
           "linecolor": "white",
           "ticks": "",
           "title": {
            "standoff": 15
           },
           "zerolinecolor": "white",
           "zerolinewidth": 2
          },
          "yaxis": {
           "automargin": true,
           "gridcolor": "white",
           "linecolor": "white",
           "ticks": "",
           "title": {
            "standoff": 15
           },
           "zerolinecolor": "white",
           "zerolinewidth": 2
          }
         }
        },
        "title": {
         "text": "Nombre de missions par hôtel",
         "x": 0.5
        },
        "updatemenus": [
         {
          "active": 0,
          "buttons": [
           {
            "args": [
             {
              "visible": [
               true,
               false,
               false,
               false
              ]
             }
            ],
            "label": "2024",
            "method": "update"
           },
           {
            "args": [
             {
              "visible": [
               false,
               true,
               false,
               false
              ]
             }
            ],
            "label": "2023",
            "method": "update"
           },
           {
            "args": [
             {
              "visible": [
               false,
               false,
               true,
               false
              ]
             }
            ],
            "label": "2022",
            "method": "update"
           },
           {
            "args": [
             {
              "visible": [
               false,
               false,
               false,
               true
              ]
             }
            ],
            "label": "2021",
            "method": "update"
           }
          ]
         }
        ],
        "width": 1500,
        "xaxis": {
         "title": {
          "text": "Hôtels"
         }
        },
        "yaxis": {
         "title": {
          "text": "Nombre de missions"
         }
        }
       }
      }
     },
     "metadata": {},
     "output_type": "display_data"
    }
   ],
   "source": [
    "\n",
    "years = data[\"date_debut\"].dt.year.astype(str).unique()\n",
    "custom_palette = sns.color_palette(\"tab10\", len(data[\"date_debut\"].dt.year.unique())).as_hex()\n",
    "fig = go.Figure()\n",
    "\n",
    "\n",
    "for i in range(len(years)) : \n",
    "        if i == 0:\n",
    "                fig.add_trace(\n",
    "                        go.Bar(x=data[data[\"date_debut\"].dt.year.astype(str) == years[i]].groupby(\"Propriété_clean\").count().index, \n",
    "                               y=data[data[\"date_debut\"].dt.year.astype(str) == years[i]].groupby(\"Propriété_clean\").count().hôtel, \n",
    "                               visible = True,\n",
    "                               marker_color=custom_palette[i]))\n",
    "\n",
    "        else:\n",
    "                fig.add_trace(\n",
    "                        go.Bar(x=data[data[\"date_debut\"].dt.year.astype(str) == years[i]].groupby(\"Propriété_clean\").count().index, \n",
    "                               y=data[data[\"date_debut\"].dt.year.astype(str) == years[i]].groupby(\"Propriété_clean\").count().hôtel, \n",
    "                               visible = False,\n",
    "                               marker_color=custom_palette[i]))\n",
    "\n",
    "fig.update_layout(\n",
    "        title = go.layout.Title(text = \"Nombre de missions par hôtel\", x = 0.5),\n",
    "        autosize=False,\n",
    "        showlegend=False,\n",
    "        width=1500,\n",
    "        height=700)\n",
    "\n",
    "buttons = [\n",
    "    go.layout.updatemenu.Button(\n",
    "        label=year,\n",
    "        method='update',\n",
    "        args=[{'visible': [y == year for y in years]}]\n",
    "    )\n",
    "    for year in years\n",
    "]\n",
    "\n",
    "\n",
    "fig.update_layout(\n",
    "        updatemenus = [go.layout.Updatemenu(\n",
    "                active = 0,\n",
    "                buttons= buttons\n",
    "                          )]\n",
    ")\n",
    "\n",
    "fig.update_xaxes(title_text='Hôtels')\n",
    "fig.update_yaxes(title_text='Nombre de missions')"
   ]
  },
  {
   "cell_type": "code",
   "execution_count": 325,
   "metadata": {},
   "outputs": [
    {
     "data": {
      "application/vnd.plotly.v1+json": {
       "config": {
        "plotlyServerURL": "https://plot.ly"
       },
       "data": [
        {
         "marker": {
          "color": "#1f77b4"
         },
         "type": "bar",
         "visible": true,
         "x": [
          "Crystal",
          "Milie Rose",
          "Touraine"
         ],
         "y": [
          2,
          5,
          3
         ]
        },
        {
         "marker": {
          "color": "#ff7f0e"
         },
         "type": "bar",
         "visible": false,
         "x": [
          "Alberte ",
          "Apogé",
          "Chouchou",
          "Courseine",
          "Crystal",
          "Drawing House",
          "Edouard VI",
          "French Theory",
          "Ibis Montparnasse",
          "Imprimerie",
          "Le Grand Quartier",
          "Le Roch Hotel",
          "Les Deux Girafes",
          "MT solutions ",
          "Marceau",
          "Milie Rose",
          "Mont Dore",
          "Monte Cristo",
          "Parisianer",
          "Parisis",
          "Peper and paper ",
          "Prélude",
          "Quinzerie hotel",
          "Select Hotel",
          "Touraine",
          "Tsuba",
          "Victoire et Germain",
          "Yllen Eiffel"
         ],
         "y": [
          5,
          31,
          12,
          40,
          60,
          82,
          23,
          40,
          869,
          236,
          283,
          3,
          59,
          19,
          145,
          214,
          1,
          47,
          17,
          29,
          1,
          17,
          20,
          255,
          68,
          116,
          26,
          109
         ]
        },
        {
         "marker": {
          "color": "#2ca02c"
         },
         "type": "bar",
         "visible": false,
         "x": [
          "Apogé",
          "Bleu de Grenelle",
          "Courseine",
          "Crystal",
          "Drawing House",
          "Edouard VI",
          "French Theory",
          "Home Moderne",
          "Ibis Montparnasse",
          "Imprimerie",
          "La Belle Ville",
          "Le Grand Quartier",
          "Les Deux Girafes",
          "Marceau",
          "Mathurin",
          "Milie Rose",
          "Mont Dore",
          "Monte Cristo",
          "Parisianer",
          "Prélude",
          "Select Hotel",
          "Touraine",
          "Tsuba",
          "Victoire et Germain",
          "Yllen Eiffel"
         ],
         "y": [
          30,
          5,
          74,
          81,
          62,
          58,
          29,
          2,
          405,
          220,
          42,
          133,
          24,
          103,
          3,
          33,
          1,
          43,
          54,
          105,
          55,
          39,
          100,
          53,
          87
         ]
        },
        {
         "marker": {
          "color": "#d62728"
         },
         "type": "bar",
         "visible": false,
         "x": [
          "Courseine",
          "Ibis Montparnasse",
          "Marceau",
          "Monte Cristo",
          "Prélude",
          "Touraine",
          "Tsuba",
          "Victoire et Germain"
         ],
         "y": [
          5,
          17,
          2,
          4,
          31,
          5,
          8,
          10
         ]
        }
       ],
       "layout": {
        "autosize": false,
        "height": 700,
        "showlegend": false,
        "template": {
         "data": {
          "bar": [
           {
            "error_x": {
             "color": "#2a3f5f"
            },
            "error_y": {
             "color": "#2a3f5f"
            },
            "marker": {
             "line": {
              "color": "#E5ECF6",
              "width": 0.5
             },
             "pattern": {
              "fillmode": "overlay",
              "size": 10,
              "solidity": 0.2
             }
            },
            "type": "bar"
           }
          ],
          "barpolar": [
           {
            "marker": {
             "line": {
              "color": "#E5ECF6",
              "width": 0.5
             },
             "pattern": {
              "fillmode": "overlay",
              "size": 10,
              "solidity": 0.2
             }
            },
            "type": "barpolar"
           }
          ],
          "carpet": [
           {
            "aaxis": {
             "endlinecolor": "#2a3f5f",
             "gridcolor": "white",
             "linecolor": "white",
             "minorgridcolor": "white",
             "startlinecolor": "#2a3f5f"
            },
            "baxis": {
             "endlinecolor": "#2a3f5f",
             "gridcolor": "white",
             "linecolor": "white",
             "minorgridcolor": "white",
             "startlinecolor": "#2a3f5f"
            },
            "type": "carpet"
           }
          ],
          "choropleth": [
           {
            "colorbar": {
             "outlinewidth": 0,
             "ticks": ""
            },
            "type": "choropleth"
           }
          ],
          "contour": [
           {
            "colorbar": {
             "outlinewidth": 0,
             "ticks": ""
            },
            "colorscale": [
             [
              0,
              "#0d0887"
             ],
             [
              0.1111111111111111,
              "#46039f"
             ],
             [
              0.2222222222222222,
              "#7201a8"
             ],
             [
              0.3333333333333333,
              "#9c179e"
             ],
             [
              0.4444444444444444,
              "#bd3786"
             ],
             [
              0.5555555555555556,
              "#d8576b"
             ],
             [
              0.6666666666666666,
              "#ed7953"
             ],
             [
              0.7777777777777778,
              "#fb9f3a"
             ],
             [
              0.8888888888888888,
              "#fdca26"
             ],
             [
              1,
              "#f0f921"
             ]
            ],
            "type": "contour"
           }
          ],
          "contourcarpet": [
           {
            "colorbar": {
             "outlinewidth": 0,
             "ticks": ""
            },
            "type": "contourcarpet"
           }
          ],
          "heatmap": [
           {
            "colorbar": {
             "outlinewidth": 0,
             "ticks": ""
            },
            "colorscale": [
             [
              0,
              "#0d0887"
             ],
             [
              0.1111111111111111,
              "#46039f"
             ],
             [
              0.2222222222222222,
              "#7201a8"
             ],
             [
              0.3333333333333333,
              "#9c179e"
             ],
             [
              0.4444444444444444,
              "#bd3786"
             ],
             [
              0.5555555555555556,
              "#d8576b"
             ],
             [
              0.6666666666666666,
              "#ed7953"
             ],
             [
              0.7777777777777778,
              "#fb9f3a"
             ],
             [
              0.8888888888888888,
              "#fdca26"
             ],
             [
              1,
              "#f0f921"
             ]
            ],
            "type": "heatmap"
           }
          ],
          "heatmapgl": [
           {
            "colorbar": {
             "outlinewidth": 0,
             "ticks": ""
            },
            "colorscale": [
             [
              0,
              "#0d0887"
             ],
             [
              0.1111111111111111,
              "#46039f"
             ],
             [
              0.2222222222222222,
              "#7201a8"
             ],
             [
              0.3333333333333333,
              "#9c179e"
             ],
             [
              0.4444444444444444,
              "#bd3786"
             ],
             [
              0.5555555555555556,
              "#d8576b"
             ],
             [
              0.6666666666666666,
              "#ed7953"
             ],
             [
              0.7777777777777778,
              "#fb9f3a"
             ],
             [
              0.8888888888888888,
              "#fdca26"
             ],
             [
              1,
              "#f0f921"
             ]
            ],
            "type": "heatmapgl"
           }
          ],
          "histogram": [
           {
            "marker": {
             "pattern": {
              "fillmode": "overlay",
              "size": 10,
              "solidity": 0.2
             }
            },
            "type": "histogram"
           }
          ],
          "histogram2d": [
           {
            "colorbar": {
             "outlinewidth": 0,
             "ticks": ""
            },
            "colorscale": [
             [
              0,
              "#0d0887"
             ],
             [
              0.1111111111111111,
              "#46039f"
             ],
             [
              0.2222222222222222,
              "#7201a8"
             ],
             [
              0.3333333333333333,
              "#9c179e"
             ],
             [
              0.4444444444444444,
              "#bd3786"
             ],
             [
              0.5555555555555556,
              "#d8576b"
             ],
             [
              0.6666666666666666,
              "#ed7953"
             ],
             [
              0.7777777777777778,
              "#fb9f3a"
             ],
             [
              0.8888888888888888,
              "#fdca26"
             ],
             [
              1,
              "#f0f921"
             ]
            ],
            "type": "histogram2d"
           }
          ],
          "histogram2dcontour": [
           {
            "colorbar": {
             "outlinewidth": 0,
             "ticks": ""
            },
            "colorscale": [
             [
              0,
              "#0d0887"
             ],
             [
              0.1111111111111111,
              "#46039f"
             ],
             [
              0.2222222222222222,
              "#7201a8"
             ],
             [
              0.3333333333333333,
              "#9c179e"
             ],
             [
              0.4444444444444444,
              "#bd3786"
             ],
             [
              0.5555555555555556,
              "#d8576b"
             ],
             [
              0.6666666666666666,
              "#ed7953"
             ],
             [
              0.7777777777777778,
              "#fb9f3a"
             ],
             [
              0.8888888888888888,
              "#fdca26"
             ],
             [
              1,
              "#f0f921"
             ]
            ],
            "type": "histogram2dcontour"
           }
          ],
          "mesh3d": [
           {
            "colorbar": {
             "outlinewidth": 0,
             "ticks": ""
            },
            "type": "mesh3d"
           }
          ],
          "parcoords": [
           {
            "line": {
             "colorbar": {
              "outlinewidth": 0,
              "ticks": ""
             }
            },
            "type": "parcoords"
           }
          ],
          "pie": [
           {
            "automargin": true,
            "type": "pie"
           }
          ],
          "scatter": [
           {
            "fillpattern": {
             "fillmode": "overlay",
             "size": 10,
             "solidity": 0.2
            },
            "type": "scatter"
           }
          ],
          "scatter3d": [
           {
            "line": {
             "colorbar": {
              "outlinewidth": 0,
              "ticks": ""
             }
            },
            "marker": {
             "colorbar": {
              "outlinewidth": 0,
              "ticks": ""
             }
            },
            "type": "scatter3d"
           }
          ],
          "scattercarpet": [
           {
            "marker": {
             "colorbar": {
              "outlinewidth": 0,
              "ticks": ""
             }
            },
            "type": "scattercarpet"
           }
          ],
          "scattergeo": [
           {
            "marker": {
             "colorbar": {
              "outlinewidth": 0,
              "ticks": ""
             }
            },
            "type": "scattergeo"
           }
          ],
          "scattergl": [
           {
            "marker": {
             "colorbar": {
              "outlinewidth": 0,
              "ticks": ""
             }
            },
            "type": "scattergl"
           }
          ],
          "scattermapbox": [
           {
            "marker": {
             "colorbar": {
              "outlinewidth": 0,
              "ticks": ""
             }
            },
            "type": "scattermapbox"
           }
          ],
          "scatterpolar": [
           {
            "marker": {
             "colorbar": {
              "outlinewidth": 0,
              "ticks": ""
             }
            },
            "type": "scatterpolar"
           }
          ],
          "scatterpolargl": [
           {
            "marker": {
             "colorbar": {
              "outlinewidth": 0,
              "ticks": ""
             }
            },
            "type": "scatterpolargl"
           }
          ],
          "scatterternary": [
           {
            "marker": {
             "colorbar": {
              "outlinewidth": 0,
              "ticks": ""
             }
            },
            "type": "scatterternary"
           }
          ],
          "surface": [
           {
            "colorbar": {
             "outlinewidth": 0,
             "ticks": ""
            },
            "colorscale": [
             [
              0,
              "#0d0887"
             ],
             [
              0.1111111111111111,
              "#46039f"
             ],
             [
              0.2222222222222222,
              "#7201a8"
             ],
             [
              0.3333333333333333,
              "#9c179e"
             ],
             [
              0.4444444444444444,
              "#bd3786"
             ],
             [
              0.5555555555555556,
              "#d8576b"
             ],
             [
              0.6666666666666666,
              "#ed7953"
             ],
             [
              0.7777777777777778,
              "#fb9f3a"
             ],
             [
              0.8888888888888888,
              "#fdca26"
             ],
             [
              1,
              "#f0f921"
             ]
            ],
            "type": "surface"
           }
          ],
          "table": [
           {
            "cells": {
             "fill": {
              "color": "#EBF0F8"
             },
             "line": {
              "color": "white"
             }
            },
            "header": {
             "fill": {
              "color": "#C8D4E3"
             },
             "line": {
              "color": "white"
             }
            },
            "type": "table"
           }
          ]
         },
         "layout": {
          "annotationdefaults": {
           "arrowcolor": "#2a3f5f",
           "arrowhead": 0,
           "arrowwidth": 1
          },
          "autotypenumbers": "strict",
          "coloraxis": {
           "colorbar": {
            "outlinewidth": 0,
            "ticks": ""
           }
          },
          "colorscale": {
           "diverging": [
            [
             0,
             "#8e0152"
            ],
            [
             0.1,
             "#c51b7d"
            ],
            [
             0.2,
             "#de77ae"
            ],
            [
             0.3,
             "#f1b6da"
            ],
            [
             0.4,
             "#fde0ef"
            ],
            [
             0.5,
             "#f7f7f7"
            ],
            [
             0.6,
             "#e6f5d0"
            ],
            [
             0.7,
             "#b8e186"
            ],
            [
             0.8,
             "#7fbc41"
            ],
            [
             0.9,
             "#4d9221"
            ],
            [
             1,
             "#276419"
            ]
           ],
           "sequential": [
            [
             0,
             "#0d0887"
            ],
            [
             0.1111111111111111,
             "#46039f"
            ],
            [
             0.2222222222222222,
             "#7201a8"
            ],
            [
             0.3333333333333333,
             "#9c179e"
            ],
            [
             0.4444444444444444,
             "#bd3786"
            ],
            [
             0.5555555555555556,
             "#d8576b"
            ],
            [
             0.6666666666666666,
             "#ed7953"
            ],
            [
             0.7777777777777778,
             "#fb9f3a"
            ],
            [
             0.8888888888888888,
             "#fdca26"
            ],
            [
             1,
             "#f0f921"
            ]
           ],
           "sequentialminus": [
            [
             0,
             "#0d0887"
            ],
            [
             0.1111111111111111,
             "#46039f"
            ],
            [
             0.2222222222222222,
             "#7201a8"
            ],
            [
             0.3333333333333333,
             "#9c179e"
            ],
            [
             0.4444444444444444,
             "#bd3786"
            ],
            [
             0.5555555555555556,
             "#d8576b"
            ],
            [
             0.6666666666666666,
             "#ed7953"
            ],
            [
             0.7777777777777778,
             "#fb9f3a"
            ],
            [
             0.8888888888888888,
             "#fdca26"
            ],
            [
             1,
             "#f0f921"
            ]
           ]
          },
          "colorway": [
           "#636efa",
           "#EF553B",
           "#00cc96",
           "#ab63fa",
           "#FFA15A",
           "#19d3f3",
           "#FF6692",
           "#B6E880",
           "#FF97FF",
           "#FECB52"
          ],
          "font": {
           "color": "#2a3f5f"
          },
          "geo": {
           "bgcolor": "white",
           "lakecolor": "white",
           "landcolor": "#E5ECF6",
           "showlakes": true,
           "showland": true,
           "subunitcolor": "white"
          },
          "hoverlabel": {
           "align": "left"
          },
          "hovermode": "closest",
          "mapbox": {
           "style": "light"
          },
          "paper_bgcolor": "white",
          "plot_bgcolor": "#E5ECF6",
          "polar": {
           "angularaxis": {
            "gridcolor": "white",
            "linecolor": "white",
            "ticks": ""
           },
           "bgcolor": "#E5ECF6",
           "radialaxis": {
            "gridcolor": "white",
            "linecolor": "white",
            "ticks": ""
           }
          },
          "scene": {
           "xaxis": {
            "backgroundcolor": "#E5ECF6",
            "gridcolor": "white",
            "gridwidth": 2,
            "linecolor": "white",
            "showbackground": true,
            "ticks": "",
            "zerolinecolor": "white"
           },
           "yaxis": {
            "backgroundcolor": "#E5ECF6",
            "gridcolor": "white",
            "gridwidth": 2,
            "linecolor": "white",
            "showbackground": true,
            "ticks": "",
            "zerolinecolor": "white"
           },
           "zaxis": {
            "backgroundcolor": "#E5ECF6",
            "gridcolor": "white",
            "gridwidth": 2,
            "linecolor": "white",
            "showbackground": true,
            "ticks": "",
            "zerolinecolor": "white"
           }
          },
          "shapedefaults": {
           "line": {
            "color": "#2a3f5f"
           }
          },
          "ternary": {
           "aaxis": {
            "gridcolor": "white",
            "linecolor": "white",
            "ticks": ""
           },
           "baxis": {
            "gridcolor": "white",
            "linecolor": "white",
            "ticks": ""
           },
           "bgcolor": "#E5ECF6",
           "caxis": {
            "gridcolor": "white",
            "linecolor": "white",
            "ticks": ""
           }
          },
          "title": {
           "x": 0.05
          },
          "xaxis": {
           "automargin": true,
           "gridcolor": "white",
           "linecolor": "white",
           "ticks": "",
           "title": {
            "standoff": 15
           },
           "zerolinecolor": "white",
           "zerolinewidth": 2
          },
          "yaxis": {
           "automargin": true,
           "gridcolor": "white",
           "linecolor": "white",
           "ticks": "",
           "title": {
            "standoff": 15
           },
           "zerolinecolor": "white",
           "zerolinewidth": 2
          }
         }
        },
        "title": {
         "text": "Nombre de missions par hôtel",
         "x": 0.5
        },
        "updatemenus": [
         {
          "active": 0,
          "buttons": [
           {
            "args": [
             {
              "visible": [
               true,
               false,
               false,
               false
              ]
             }
            ],
            "label": "2024",
            "method": "update"
           },
           {
            "args": [
             {
              "visible": [
               false,
               true,
               false,
               false
              ]
             }
            ],
            "label": "2023",
            "method": "update"
           },
           {
            "args": [
             {
              "visible": [
               false,
               false,
               true,
               false
              ]
             }
            ],
            "label": "2022",
            "method": "update"
           },
           {
            "args": [
             {
              "visible": [
               false,
               false,
               false,
               true
              ]
             }
            ],
            "label": "2021",
            "method": "update"
           }
          ]
         }
        ],
        "width": 1500,
        "xaxis": {
         "title": {
          "text": "Hôtels"
         }
        },
        "yaxis": {
         "title": {
          "text": "Nombre de missions"
         }
        }
       }
      }
     },
     "metadata": {},
     "output_type": "display_data"
    }
   ],
   "source": [
    "top = 5\n",
    "years = data[\"date_debut\"].dt.year.astype(str).unique()\n",
    "\n",
    "fig = go.Figure()\n",
    "\n",
    "for i in range(len(years)) : \n",
    "        by_year = data.loc[data[\"date_debut\"].dt.year.astype(str) == years[i], [\"Propriété_clean\",\"periode_debut\"]]\n",
    "        by_year[\"count\"] = 1\n",
    "        by_year = by_year.pivot_table(index=\"periode_debut\", values=\"count\",columns=['Propriété_clean'], aggfunc=\"count\", fill_value=0)\n",
    "\n",
    "        top_hotels = by_year.sum().sort_values(ascending=False)[:top].index.to_list()\n",
    "        top_by_year = by_year.loc[:,top_hotels]\n",
    "        top_by_year = pd.melt(top_by_year.reset_index(), id_vars=\"periode_debut\", value_name=\"Missions\")\n",
    "\n",
    "        if i == 0:\n",
    "                fig.add_trace(\n",
    "                        go.Bar(x=data[data[\"date_debut\"].dt.year.astype(str) == years[i]].groupby(\"Propriété_clean\").count().index, \n",
    "                               y=data[data[\"date_debut\"].dt.year.astype(str) == years[i]].groupby(\"Propriété_clean\").count().hôtel, \n",
    "                               visible = True,\n",
    "                               marker_color=custom_palette[i]))\n",
    "\n",
    "        else:\n",
    "                fig.add_trace(\n",
    "                        go.Bar(x=data[data[\"date_debut\"].dt.year.astype(str) == years[i]].groupby(\"Propriété_clean\").count().index, \n",
    "                               y=data[data[\"date_debut\"].dt.year.astype(str) == years[i]].groupby(\"Propriété_clean\").count().hôtel, \n",
    "                               visible = False,\n",
    "                               marker_color=custom_palette[i]))\n",
    "\n",
    "fig.update_layout(\n",
    "        title = go.layout.Title(text = \"Nombre de missions par hôtel\", x = 0.5),\n",
    "        autosize=False,\n",
    "        showlegend=False,\n",
    "        width=1500,\n",
    "        height=700)\n",
    "\n",
    "buttons = [\n",
    "    go.layout.updatemenu.Button(\n",
    "        label=year,\n",
    "        method='update',\n",
    "        args=[{'visible': [y == year for y in years]}]\n",
    "    )\n",
    "    for year in years\n",
    "]\n",
    "\n",
    "\n",
    "fig.update_layout(\n",
    "        updatemenus = [go.layout.Updatemenu(\n",
    "                active = 0,\n",
    "                buttons= buttons\n",
    "                          )]\n",
    ")\n",
    "\n",
    "fig.update_xaxes(title_text='Hôtels')\n",
    "fig.update_yaxes(title_text='Nombre de missions')"
   ]
  },
  {
   "cell_type": "code",
   "execution_count": 326,
   "metadata": {},
   "outputs": [
    {
     "data": {
      "text/html": [
       "<div>\n",
       "<style scoped>\n",
       "    .dataframe tbody tr th:only-of-type {\n",
       "        vertical-align: middle;\n",
       "    }\n",
       "\n",
       "    .dataframe tbody tr th {\n",
       "        vertical-align: top;\n",
       "    }\n",
       "\n",
       "    .dataframe thead th {\n",
       "        text-align: right;\n",
       "    }\n",
       "</style>\n",
       "<table border=\"1\" class=\"dataframe\">\n",
       "  <thead>\n",
       "    <tr style=\"text-align: right;\">\n",
       "      <th></th>\n",
       "      <th>periode_debut</th>\n",
       "      <th>Propriété_clean</th>\n",
       "      <th>Missions</th>\n",
       "    </tr>\n",
       "  </thead>\n",
       "  <tbody>\n",
       "    <tr>\n",
       "      <th>0</th>\n",
       "      <td>01-2023</td>\n",
       "      <td>Ibis Montparnasse</td>\n",
       "      <td>56</td>\n",
       "    </tr>\n",
       "    <tr>\n",
       "      <th>1</th>\n",
       "      <td>02-2023</td>\n",
       "      <td>Ibis Montparnasse</td>\n",
       "      <td>49</td>\n",
       "    </tr>\n",
       "    <tr>\n",
       "      <th>2</th>\n",
       "      <td>03-2023</td>\n",
       "      <td>Ibis Montparnasse</td>\n",
       "      <td>52</td>\n",
       "    </tr>\n",
       "    <tr>\n",
       "      <th>3</th>\n",
       "      <td>04-2023</td>\n",
       "      <td>Ibis Montparnasse</td>\n",
       "      <td>65</td>\n",
       "    </tr>\n",
       "    <tr>\n",
       "      <th>4</th>\n",
       "      <td>05-2023</td>\n",
       "      <td>Ibis Montparnasse</td>\n",
       "      <td>50</td>\n",
       "    </tr>\n",
       "    <tr>\n",
       "      <th>5</th>\n",
       "      <td>06-2023</td>\n",
       "      <td>Ibis Montparnasse</td>\n",
       "      <td>68</td>\n",
       "    </tr>\n",
       "    <tr>\n",
       "      <th>6</th>\n",
       "      <td>07-2023</td>\n",
       "      <td>Ibis Montparnasse</td>\n",
       "      <td>102</td>\n",
       "    </tr>\n",
       "    <tr>\n",
       "      <th>7</th>\n",
       "      <td>08-2023</td>\n",
       "      <td>Ibis Montparnasse</td>\n",
       "      <td>109</td>\n",
       "    </tr>\n",
       "    <tr>\n",
       "      <th>8</th>\n",
       "      <td>09-2023</td>\n",
       "      <td>Ibis Montparnasse</td>\n",
       "      <td>89</td>\n",
       "    </tr>\n",
       "    <tr>\n",
       "      <th>9</th>\n",
       "      <td>10-2023</td>\n",
       "      <td>Ibis Montparnasse</td>\n",
       "      <td>97</td>\n",
       "    </tr>\n",
       "    <tr>\n",
       "      <th>10</th>\n",
       "      <td>11-2023</td>\n",
       "      <td>Ibis Montparnasse</td>\n",
       "      <td>79</td>\n",
       "    </tr>\n",
       "    <tr>\n",
       "      <th>11</th>\n",
       "      <td>12-2023</td>\n",
       "      <td>Ibis Montparnasse</td>\n",
       "      <td>53</td>\n",
       "    </tr>\n",
       "    <tr>\n",
       "      <th>12</th>\n",
       "      <td>01-2023</td>\n",
       "      <td>Le Grand Quartier</td>\n",
       "      <td>25</td>\n",
       "    </tr>\n",
       "    <tr>\n",
       "      <th>13</th>\n",
       "      <td>02-2023</td>\n",
       "      <td>Le Grand Quartier</td>\n",
       "      <td>30</td>\n",
       "    </tr>\n",
       "    <tr>\n",
       "      <th>14</th>\n",
       "      <td>03-2023</td>\n",
       "      <td>Le Grand Quartier</td>\n",
       "      <td>21</td>\n",
       "    </tr>\n",
       "    <tr>\n",
       "      <th>15</th>\n",
       "      <td>04-2023</td>\n",
       "      <td>Le Grand Quartier</td>\n",
       "      <td>15</td>\n",
       "    </tr>\n",
       "    <tr>\n",
       "      <th>16</th>\n",
       "      <td>05-2023</td>\n",
       "      <td>Le Grand Quartier</td>\n",
       "      <td>16</td>\n",
       "    </tr>\n",
       "    <tr>\n",
       "      <th>17</th>\n",
       "      <td>06-2023</td>\n",
       "      <td>Le Grand Quartier</td>\n",
       "      <td>32</td>\n",
       "    </tr>\n",
       "    <tr>\n",
       "      <th>18</th>\n",
       "      <td>07-2023</td>\n",
       "      <td>Le Grand Quartier</td>\n",
       "      <td>26</td>\n",
       "    </tr>\n",
       "    <tr>\n",
       "      <th>19</th>\n",
       "      <td>08-2023</td>\n",
       "      <td>Le Grand Quartier</td>\n",
       "      <td>35</td>\n",
       "    </tr>\n",
       "    <tr>\n",
       "      <th>20</th>\n",
       "      <td>09-2023</td>\n",
       "      <td>Le Grand Quartier</td>\n",
       "      <td>34</td>\n",
       "    </tr>\n",
       "    <tr>\n",
       "      <th>21</th>\n",
       "      <td>10-2023</td>\n",
       "      <td>Le Grand Quartier</td>\n",
       "      <td>34</td>\n",
       "    </tr>\n",
       "    <tr>\n",
       "      <th>22</th>\n",
       "      <td>11-2023</td>\n",
       "      <td>Le Grand Quartier</td>\n",
       "      <td>13</td>\n",
       "    </tr>\n",
       "    <tr>\n",
       "      <th>23</th>\n",
       "      <td>12-2023</td>\n",
       "      <td>Le Grand Quartier</td>\n",
       "      <td>2</td>\n",
       "    </tr>\n",
       "    <tr>\n",
       "      <th>24</th>\n",
       "      <td>01-2023</td>\n",
       "      <td>Select Hotel</td>\n",
       "      <td>52</td>\n",
       "    </tr>\n",
       "    <tr>\n",
       "      <th>25</th>\n",
       "      <td>02-2023</td>\n",
       "      <td>Select Hotel</td>\n",
       "      <td>41</td>\n",
       "    </tr>\n",
       "    <tr>\n",
       "      <th>26</th>\n",
       "      <td>03-2023</td>\n",
       "      <td>Select Hotel</td>\n",
       "      <td>6</td>\n",
       "    </tr>\n",
       "    <tr>\n",
       "      <th>27</th>\n",
       "      <td>04-2023</td>\n",
       "      <td>Select Hotel</td>\n",
       "      <td>11</td>\n",
       "    </tr>\n",
       "    <tr>\n",
       "      <th>28</th>\n",
       "      <td>05-2023</td>\n",
       "      <td>Select Hotel</td>\n",
       "      <td>14</td>\n",
       "    </tr>\n",
       "    <tr>\n",
       "      <th>29</th>\n",
       "      <td>06-2023</td>\n",
       "      <td>Select Hotel</td>\n",
       "      <td>19</td>\n",
       "    </tr>\n",
       "    <tr>\n",
       "      <th>30</th>\n",
       "      <td>07-2023</td>\n",
       "      <td>Select Hotel</td>\n",
       "      <td>24</td>\n",
       "    </tr>\n",
       "    <tr>\n",
       "      <th>31</th>\n",
       "      <td>08-2023</td>\n",
       "      <td>Select Hotel</td>\n",
       "      <td>13</td>\n",
       "    </tr>\n",
       "    <tr>\n",
       "      <th>32</th>\n",
       "      <td>09-2023</td>\n",
       "      <td>Select Hotel</td>\n",
       "      <td>35</td>\n",
       "    </tr>\n",
       "    <tr>\n",
       "      <th>33</th>\n",
       "      <td>10-2023</td>\n",
       "      <td>Select Hotel</td>\n",
       "      <td>15</td>\n",
       "    </tr>\n",
       "    <tr>\n",
       "      <th>34</th>\n",
       "      <td>11-2023</td>\n",
       "      <td>Select Hotel</td>\n",
       "      <td>25</td>\n",
       "    </tr>\n",
       "    <tr>\n",
       "      <th>35</th>\n",
       "      <td>12-2023</td>\n",
       "      <td>Select Hotel</td>\n",
       "      <td>0</td>\n",
       "    </tr>\n",
       "    <tr>\n",
       "      <th>36</th>\n",
       "      <td>01-2023</td>\n",
       "      <td>Imprimerie</td>\n",
       "      <td>27</td>\n",
       "    </tr>\n",
       "    <tr>\n",
       "      <th>37</th>\n",
       "      <td>02-2023</td>\n",
       "      <td>Imprimerie</td>\n",
       "      <td>7</td>\n",
       "    </tr>\n",
       "    <tr>\n",
       "      <th>38</th>\n",
       "      <td>03-2023</td>\n",
       "      <td>Imprimerie</td>\n",
       "      <td>31</td>\n",
       "    </tr>\n",
       "    <tr>\n",
       "      <th>39</th>\n",
       "      <td>04-2023</td>\n",
       "      <td>Imprimerie</td>\n",
       "      <td>27</td>\n",
       "    </tr>\n",
       "    <tr>\n",
       "      <th>40</th>\n",
       "      <td>05-2023</td>\n",
       "      <td>Imprimerie</td>\n",
       "      <td>11</td>\n",
       "    </tr>\n",
       "    <tr>\n",
       "      <th>41</th>\n",
       "      <td>06-2023</td>\n",
       "      <td>Imprimerie</td>\n",
       "      <td>30</td>\n",
       "    </tr>\n",
       "    <tr>\n",
       "      <th>42</th>\n",
       "      <td>07-2023</td>\n",
       "      <td>Imprimerie</td>\n",
       "      <td>16</td>\n",
       "    </tr>\n",
       "    <tr>\n",
       "      <th>43</th>\n",
       "      <td>08-2023</td>\n",
       "      <td>Imprimerie</td>\n",
       "      <td>14</td>\n",
       "    </tr>\n",
       "    <tr>\n",
       "      <th>44</th>\n",
       "      <td>09-2023</td>\n",
       "      <td>Imprimerie</td>\n",
       "      <td>26</td>\n",
       "    </tr>\n",
       "    <tr>\n",
       "      <th>45</th>\n",
       "      <td>10-2023</td>\n",
       "      <td>Imprimerie</td>\n",
       "      <td>20</td>\n",
       "    </tr>\n",
       "    <tr>\n",
       "      <th>46</th>\n",
       "      <td>11-2023</td>\n",
       "      <td>Imprimerie</td>\n",
       "      <td>17</td>\n",
       "    </tr>\n",
       "    <tr>\n",
       "      <th>47</th>\n",
       "      <td>12-2023</td>\n",
       "      <td>Imprimerie</td>\n",
       "      <td>10</td>\n",
       "    </tr>\n",
       "    <tr>\n",
       "      <th>48</th>\n",
       "      <td>01-2023</td>\n",
       "      <td>Milie Rose</td>\n",
       "      <td>0</td>\n",
       "    </tr>\n",
       "    <tr>\n",
       "      <th>49</th>\n",
       "      <td>02-2023</td>\n",
       "      <td>Milie Rose</td>\n",
       "      <td>21</td>\n",
       "    </tr>\n",
       "    <tr>\n",
       "      <th>50</th>\n",
       "      <td>03-2023</td>\n",
       "      <td>Milie Rose</td>\n",
       "      <td>25</td>\n",
       "    </tr>\n",
       "    <tr>\n",
       "      <th>51</th>\n",
       "      <td>04-2023</td>\n",
       "      <td>Milie Rose</td>\n",
       "      <td>15</td>\n",
       "    </tr>\n",
       "    <tr>\n",
       "      <th>52</th>\n",
       "      <td>05-2023</td>\n",
       "      <td>Milie Rose</td>\n",
       "      <td>18</td>\n",
       "    </tr>\n",
       "    <tr>\n",
       "      <th>53</th>\n",
       "      <td>06-2023</td>\n",
       "      <td>Milie Rose</td>\n",
       "      <td>17</td>\n",
       "    </tr>\n",
       "    <tr>\n",
       "      <th>54</th>\n",
       "      <td>07-2023</td>\n",
       "      <td>Milie Rose</td>\n",
       "      <td>22</td>\n",
       "    </tr>\n",
       "    <tr>\n",
       "      <th>55</th>\n",
       "      <td>08-2023</td>\n",
       "      <td>Milie Rose</td>\n",
       "      <td>32</td>\n",
       "    </tr>\n",
       "    <tr>\n",
       "      <th>56</th>\n",
       "      <td>09-2023</td>\n",
       "      <td>Milie Rose</td>\n",
       "      <td>21</td>\n",
       "    </tr>\n",
       "    <tr>\n",
       "      <th>57</th>\n",
       "      <td>10-2023</td>\n",
       "      <td>Milie Rose</td>\n",
       "      <td>13</td>\n",
       "    </tr>\n",
       "    <tr>\n",
       "      <th>58</th>\n",
       "      <td>11-2023</td>\n",
       "      <td>Milie Rose</td>\n",
       "      <td>14</td>\n",
       "    </tr>\n",
       "    <tr>\n",
       "      <th>59</th>\n",
       "      <td>12-2023</td>\n",
       "      <td>Milie Rose</td>\n",
       "      <td>16</td>\n",
       "    </tr>\n",
       "  </tbody>\n",
       "</table>\n",
       "</div>"
      ],
      "text/plain": [
       "   periode_debut    Propriété_clean  Missions\n",
       "0        01-2023  Ibis Montparnasse        56\n",
       "1        02-2023  Ibis Montparnasse        49\n",
       "2        03-2023  Ibis Montparnasse        52\n",
       "3        04-2023  Ibis Montparnasse        65\n",
       "4        05-2023  Ibis Montparnasse        50\n",
       "5        06-2023  Ibis Montparnasse        68\n",
       "6        07-2023  Ibis Montparnasse       102\n",
       "7        08-2023  Ibis Montparnasse       109\n",
       "8        09-2023  Ibis Montparnasse        89\n",
       "9        10-2023  Ibis Montparnasse        97\n",
       "10       11-2023  Ibis Montparnasse        79\n",
       "11       12-2023  Ibis Montparnasse        53\n",
       "12       01-2023  Le Grand Quartier        25\n",
       "13       02-2023  Le Grand Quartier        30\n",
       "14       03-2023  Le Grand Quartier        21\n",
       "15       04-2023  Le Grand Quartier        15\n",
       "16       05-2023  Le Grand Quartier        16\n",
       "17       06-2023  Le Grand Quartier        32\n",
       "18       07-2023  Le Grand Quartier        26\n",
       "19       08-2023  Le Grand Quartier        35\n",
       "20       09-2023  Le Grand Quartier        34\n",
       "21       10-2023  Le Grand Quartier        34\n",
       "22       11-2023  Le Grand Quartier        13\n",
       "23       12-2023  Le Grand Quartier         2\n",
       "24       01-2023       Select Hotel        52\n",
       "25       02-2023       Select Hotel        41\n",
       "26       03-2023       Select Hotel         6\n",
       "27       04-2023       Select Hotel        11\n",
       "28       05-2023       Select Hotel        14\n",
       "29       06-2023       Select Hotel        19\n",
       "30       07-2023       Select Hotel        24\n",
       "31       08-2023       Select Hotel        13\n",
       "32       09-2023       Select Hotel        35\n",
       "33       10-2023       Select Hotel        15\n",
       "34       11-2023       Select Hotel        25\n",
       "35       12-2023       Select Hotel         0\n",
       "36       01-2023         Imprimerie        27\n",
       "37       02-2023         Imprimerie         7\n",
       "38       03-2023         Imprimerie        31\n",
       "39       04-2023         Imprimerie        27\n",
       "40       05-2023         Imprimerie        11\n",
       "41       06-2023         Imprimerie        30\n",
       "42       07-2023         Imprimerie        16\n",
       "43       08-2023         Imprimerie        14\n",
       "44       09-2023         Imprimerie        26\n",
       "45       10-2023         Imprimerie        20\n",
       "46       11-2023         Imprimerie        17\n",
       "47       12-2023         Imprimerie        10\n",
       "48       01-2023         Milie Rose         0\n",
       "49       02-2023         Milie Rose        21\n",
       "50       03-2023         Milie Rose        25\n",
       "51       04-2023         Milie Rose        15\n",
       "52       05-2023         Milie Rose        18\n",
       "53       06-2023         Milie Rose        17\n",
       "54       07-2023         Milie Rose        22\n",
       "55       08-2023         Milie Rose        32\n",
       "56       09-2023         Milie Rose        21\n",
       "57       10-2023         Milie Rose        13\n",
       "58       11-2023         Milie Rose        14\n",
       "59       12-2023         Milie Rose        16"
      ]
     },
     "execution_count": 326,
     "metadata": {},
     "output_type": "execute_result"
    }
   ],
   "source": [
    "by_year = data.loc[data[\"date_debut\"].dt.year.astype(str) == years[1], [\"Propriété_clean\",\"periode_debut\"]]\n",
    "by_year[\"count\"] = 1\n",
    "by_year = by_year.pivot_table(index=\"periode_debut\", values=\"count\",columns=['Propriété_clean'], aggfunc=\"count\", fill_value=0)\n",
    "\n",
    "top_hotels = by_year.sum().sort_values(ascending=False)[:top].index.to_list()\n",
    "top_by_year = by_year.loc[:,top_hotels]\n",
    "top_by_year = pd.melt(top_by_year.reset_index(), id_vars=\"periode_debut\", value_name=\"Missions\")\n",
    "top_by_year"
   ]
  },
  {
   "cell_type": "code",
   "execution_count": 327,
   "metadata": {},
   "outputs": [
    {
     "data": {
      "application/vnd.plotly.v1+json": {
       "config": {
        "plotlyServerURL": "https://plot.ly"
       },
       "data": [
        {
         "hovertemplate": "Propriété_clean=Ibis Montparnasse<br>periode_debut=%{x}<br>Missions=%{y}<extra></extra>",
         "legendgroup": "Ibis Montparnasse",
         "line": {
          "color": "#636efa",
          "dash": "solid"
         },
         "marker": {
          "symbol": "circle"
         },
         "mode": "lines+markers",
         "name": "Ibis Montparnasse",
         "orientation": "v",
         "showlegend": true,
         "type": "scatter",
         "x": [
          "01-2023",
          "02-2023",
          "03-2023",
          "04-2023",
          "05-2023",
          "06-2023",
          "07-2023",
          "08-2023",
          "09-2023",
          "10-2023",
          "11-2023",
          "12-2023"
         ],
         "xaxis": "x",
         "y": [
          56,
          49,
          52,
          65,
          50,
          68,
          102,
          109,
          89,
          97,
          79,
          53
         ],
         "yaxis": "y"
        },
        {
         "hovertemplate": "Propriété_clean=Le Grand Quartier<br>periode_debut=%{x}<br>Missions=%{y}<extra></extra>",
         "legendgroup": "Le Grand Quartier",
         "line": {
          "color": "#EF553B",
          "dash": "solid"
         },
         "marker": {
          "symbol": "circle"
         },
         "mode": "lines+markers",
         "name": "Le Grand Quartier",
         "orientation": "v",
         "showlegend": true,
         "type": "scatter",
         "x": [
          "01-2023",
          "02-2023",
          "03-2023",
          "04-2023",
          "05-2023",
          "06-2023",
          "07-2023",
          "08-2023",
          "09-2023",
          "10-2023",
          "11-2023",
          "12-2023"
         ],
         "xaxis": "x",
         "y": [
          25,
          30,
          21,
          15,
          16,
          32,
          26,
          35,
          34,
          34,
          13,
          2
         ],
         "yaxis": "y"
        },
        {
         "hovertemplate": "Propriété_clean=Select Hotel<br>periode_debut=%{x}<br>Missions=%{y}<extra></extra>",
         "legendgroup": "Select Hotel",
         "line": {
          "color": "#00cc96",
          "dash": "solid"
         },
         "marker": {
          "symbol": "circle"
         },
         "mode": "lines+markers",
         "name": "Select Hotel",
         "orientation": "v",
         "showlegend": true,
         "type": "scatter",
         "x": [
          "01-2023",
          "02-2023",
          "03-2023",
          "04-2023",
          "05-2023",
          "06-2023",
          "07-2023",
          "08-2023",
          "09-2023",
          "10-2023",
          "11-2023",
          "12-2023"
         ],
         "xaxis": "x",
         "y": [
          52,
          41,
          6,
          11,
          14,
          19,
          24,
          13,
          35,
          15,
          25,
          0
         ],
         "yaxis": "y"
        },
        {
         "hovertemplate": "Propriété_clean=Imprimerie<br>periode_debut=%{x}<br>Missions=%{y}<extra></extra>",
         "legendgroup": "Imprimerie",
         "line": {
          "color": "#ab63fa",
          "dash": "solid"
         },
         "marker": {
          "symbol": "circle"
         },
         "mode": "lines+markers",
         "name": "Imprimerie",
         "orientation": "v",
         "showlegend": true,
         "type": "scatter",
         "x": [
          "01-2023",
          "02-2023",
          "03-2023",
          "04-2023",
          "05-2023",
          "06-2023",
          "07-2023",
          "08-2023",
          "09-2023",
          "10-2023",
          "11-2023",
          "12-2023"
         ],
         "xaxis": "x",
         "y": [
          27,
          7,
          31,
          27,
          11,
          30,
          16,
          14,
          26,
          20,
          17,
          10
         ],
         "yaxis": "y"
        },
        {
         "hovertemplate": "Propriété_clean=Milie Rose<br>periode_debut=%{x}<br>Missions=%{y}<extra></extra>",
         "legendgroup": "Milie Rose",
         "line": {
          "color": "#FFA15A",
          "dash": "solid"
         },
         "marker": {
          "symbol": "circle"
         },
         "mode": "lines+markers",
         "name": "Milie Rose",
         "orientation": "v",
         "showlegend": true,
         "type": "scatter",
         "x": [
          "01-2023",
          "02-2023",
          "03-2023",
          "04-2023",
          "05-2023",
          "06-2023",
          "07-2023",
          "08-2023",
          "09-2023",
          "10-2023",
          "11-2023",
          "12-2023"
         ],
         "xaxis": "x",
         "y": [
          0,
          21,
          25,
          15,
          18,
          17,
          22,
          32,
          21,
          13,
          14,
          16
         ],
         "yaxis": "y"
        }
       ],
       "layout": {
        "legend": {
         "title": {
          "text": "Propriété_clean"
         },
         "tracegroupgap": 0
        },
        "margin": {
         "t": 60
        },
        "template": {
         "data": {
          "bar": [
           {
            "error_x": {
             "color": "#2a3f5f"
            },
            "error_y": {
             "color": "#2a3f5f"
            },
            "marker": {
             "line": {
              "color": "#E5ECF6",
              "width": 0.5
             },
             "pattern": {
              "fillmode": "overlay",
              "size": 10,
              "solidity": 0.2
             }
            },
            "type": "bar"
           }
          ],
          "barpolar": [
           {
            "marker": {
             "line": {
              "color": "#E5ECF6",
              "width": 0.5
             },
             "pattern": {
              "fillmode": "overlay",
              "size": 10,
              "solidity": 0.2
             }
            },
            "type": "barpolar"
           }
          ],
          "carpet": [
           {
            "aaxis": {
             "endlinecolor": "#2a3f5f",
             "gridcolor": "white",
             "linecolor": "white",
             "minorgridcolor": "white",
             "startlinecolor": "#2a3f5f"
            },
            "baxis": {
             "endlinecolor": "#2a3f5f",
             "gridcolor": "white",
             "linecolor": "white",
             "minorgridcolor": "white",
             "startlinecolor": "#2a3f5f"
            },
            "type": "carpet"
           }
          ],
          "choropleth": [
           {
            "colorbar": {
             "outlinewidth": 0,
             "ticks": ""
            },
            "type": "choropleth"
           }
          ],
          "contour": [
           {
            "colorbar": {
             "outlinewidth": 0,
             "ticks": ""
            },
            "colorscale": [
             [
              0,
              "#0d0887"
             ],
             [
              0.1111111111111111,
              "#46039f"
             ],
             [
              0.2222222222222222,
              "#7201a8"
             ],
             [
              0.3333333333333333,
              "#9c179e"
             ],
             [
              0.4444444444444444,
              "#bd3786"
             ],
             [
              0.5555555555555556,
              "#d8576b"
             ],
             [
              0.6666666666666666,
              "#ed7953"
             ],
             [
              0.7777777777777778,
              "#fb9f3a"
             ],
             [
              0.8888888888888888,
              "#fdca26"
             ],
             [
              1,
              "#f0f921"
             ]
            ],
            "type": "contour"
           }
          ],
          "contourcarpet": [
           {
            "colorbar": {
             "outlinewidth": 0,
             "ticks": ""
            },
            "type": "contourcarpet"
           }
          ],
          "heatmap": [
           {
            "colorbar": {
             "outlinewidth": 0,
             "ticks": ""
            },
            "colorscale": [
             [
              0,
              "#0d0887"
             ],
             [
              0.1111111111111111,
              "#46039f"
             ],
             [
              0.2222222222222222,
              "#7201a8"
             ],
             [
              0.3333333333333333,
              "#9c179e"
             ],
             [
              0.4444444444444444,
              "#bd3786"
             ],
             [
              0.5555555555555556,
              "#d8576b"
             ],
             [
              0.6666666666666666,
              "#ed7953"
             ],
             [
              0.7777777777777778,
              "#fb9f3a"
             ],
             [
              0.8888888888888888,
              "#fdca26"
             ],
             [
              1,
              "#f0f921"
             ]
            ],
            "type": "heatmap"
           }
          ],
          "heatmapgl": [
           {
            "colorbar": {
             "outlinewidth": 0,
             "ticks": ""
            },
            "colorscale": [
             [
              0,
              "#0d0887"
             ],
             [
              0.1111111111111111,
              "#46039f"
             ],
             [
              0.2222222222222222,
              "#7201a8"
             ],
             [
              0.3333333333333333,
              "#9c179e"
             ],
             [
              0.4444444444444444,
              "#bd3786"
             ],
             [
              0.5555555555555556,
              "#d8576b"
             ],
             [
              0.6666666666666666,
              "#ed7953"
             ],
             [
              0.7777777777777778,
              "#fb9f3a"
             ],
             [
              0.8888888888888888,
              "#fdca26"
             ],
             [
              1,
              "#f0f921"
             ]
            ],
            "type": "heatmapgl"
           }
          ],
          "histogram": [
           {
            "marker": {
             "pattern": {
              "fillmode": "overlay",
              "size": 10,
              "solidity": 0.2
             }
            },
            "type": "histogram"
           }
          ],
          "histogram2d": [
           {
            "colorbar": {
             "outlinewidth": 0,
             "ticks": ""
            },
            "colorscale": [
             [
              0,
              "#0d0887"
             ],
             [
              0.1111111111111111,
              "#46039f"
             ],
             [
              0.2222222222222222,
              "#7201a8"
             ],
             [
              0.3333333333333333,
              "#9c179e"
             ],
             [
              0.4444444444444444,
              "#bd3786"
             ],
             [
              0.5555555555555556,
              "#d8576b"
             ],
             [
              0.6666666666666666,
              "#ed7953"
             ],
             [
              0.7777777777777778,
              "#fb9f3a"
             ],
             [
              0.8888888888888888,
              "#fdca26"
             ],
             [
              1,
              "#f0f921"
             ]
            ],
            "type": "histogram2d"
           }
          ],
          "histogram2dcontour": [
           {
            "colorbar": {
             "outlinewidth": 0,
             "ticks": ""
            },
            "colorscale": [
             [
              0,
              "#0d0887"
             ],
             [
              0.1111111111111111,
              "#46039f"
             ],
             [
              0.2222222222222222,
              "#7201a8"
             ],
             [
              0.3333333333333333,
              "#9c179e"
             ],
             [
              0.4444444444444444,
              "#bd3786"
             ],
             [
              0.5555555555555556,
              "#d8576b"
             ],
             [
              0.6666666666666666,
              "#ed7953"
             ],
             [
              0.7777777777777778,
              "#fb9f3a"
             ],
             [
              0.8888888888888888,
              "#fdca26"
             ],
             [
              1,
              "#f0f921"
             ]
            ],
            "type": "histogram2dcontour"
           }
          ],
          "mesh3d": [
           {
            "colorbar": {
             "outlinewidth": 0,
             "ticks": ""
            },
            "type": "mesh3d"
           }
          ],
          "parcoords": [
           {
            "line": {
             "colorbar": {
              "outlinewidth": 0,
              "ticks": ""
             }
            },
            "type": "parcoords"
           }
          ],
          "pie": [
           {
            "automargin": true,
            "type": "pie"
           }
          ],
          "scatter": [
           {
            "fillpattern": {
             "fillmode": "overlay",
             "size": 10,
             "solidity": 0.2
            },
            "type": "scatter"
           }
          ],
          "scatter3d": [
           {
            "line": {
             "colorbar": {
              "outlinewidth": 0,
              "ticks": ""
             }
            },
            "marker": {
             "colorbar": {
              "outlinewidth": 0,
              "ticks": ""
             }
            },
            "type": "scatter3d"
           }
          ],
          "scattercarpet": [
           {
            "marker": {
             "colorbar": {
              "outlinewidth": 0,
              "ticks": ""
             }
            },
            "type": "scattercarpet"
           }
          ],
          "scattergeo": [
           {
            "marker": {
             "colorbar": {
              "outlinewidth": 0,
              "ticks": ""
             }
            },
            "type": "scattergeo"
           }
          ],
          "scattergl": [
           {
            "marker": {
             "colorbar": {
              "outlinewidth": 0,
              "ticks": ""
             }
            },
            "type": "scattergl"
           }
          ],
          "scattermapbox": [
           {
            "marker": {
             "colorbar": {
              "outlinewidth": 0,
              "ticks": ""
             }
            },
            "type": "scattermapbox"
           }
          ],
          "scatterpolar": [
           {
            "marker": {
             "colorbar": {
              "outlinewidth": 0,
              "ticks": ""
             }
            },
            "type": "scatterpolar"
           }
          ],
          "scatterpolargl": [
           {
            "marker": {
             "colorbar": {
              "outlinewidth": 0,
              "ticks": ""
             }
            },
            "type": "scatterpolargl"
           }
          ],
          "scatterternary": [
           {
            "marker": {
             "colorbar": {
              "outlinewidth": 0,
              "ticks": ""
             }
            },
            "type": "scatterternary"
           }
          ],
          "surface": [
           {
            "colorbar": {
             "outlinewidth": 0,
             "ticks": ""
            },
            "colorscale": [
             [
              0,
              "#0d0887"
             ],
             [
              0.1111111111111111,
              "#46039f"
             ],
             [
              0.2222222222222222,
              "#7201a8"
             ],
             [
              0.3333333333333333,
              "#9c179e"
             ],
             [
              0.4444444444444444,
              "#bd3786"
             ],
             [
              0.5555555555555556,
              "#d8576b"
             ],
             [
              0.6666666666666666,
              "#ed7953"
             ],
             [
              0.7777777777777778,
              "#fb9f3a"
             ],
             [
              0.8888888888888888,
              "#fdca26"
             ],
             [
              1,
              "#f0f921"
             ]
            ],
            "type": "surface"
           }
          ],
          "table": [
           {
            "cells": {
             "fill": {
              "color": "#EBF0F8"
             },
             "line": {
              "color": "white"
             }
            },
            "header": {
             "fill": {
              "color": "#C8D4E3"
             },
             "line": {
              "color": "white"
             }
            },
            "type": "table"
           }
          ]
         },
         "layout": {
          "annotationdefaults": {
           "arrowcolor": "#2a3f5f",
           "arrowhead": 0,
           "arrowwidth": 1
          },
          "autotypenumbers": "strict",
          "coloraxis": {
           "colorbar": {
            "outlinewidth": 0,
            "ticks": ""
           }
          },
          "colorscale": {
           "diverging": [
            [
             0,
             "#8e0152"
            ],
            [
             0.1,
             "#c51b7d"
            ],
            [
             0.2,
             "#de77ae"
            ],
            [
             0.3,
             "#f1b6da"
            ],
            [
             0.4,
             "#fde0ef"
            ],
            [
             0.5,
             "#f7f7f7"
            ],
            [
             0.6,
             "#e6f5d0"
            ],
            [
             0.7,
             "#b8e186"
            ],
            [
             0.8,
             "#7fbc41"
            ],
            [
             0.9,
             "#4d9221"
            ],
            [
             1,
             "#276419"
            ]
           ],
           "sequential": [
            [
             0,
             "#0d0887"
            ],
            [
             0.1111111111111111,
             "#46039f"
            ],
            [
             0.2222222222222222,
             "#7201a8"
            ],
            [
             0.3333333333333333,
             "#9c179e"
            ],
            [
             0.4444444444444444,
             "#bd3786"
            ],
            [
             0.5555555555555556,
             "#d8576b"
            ],
            [
             0.6666666666666666,
             "#ed7953"
            ],
            [
             0.7777777777777778,
             "#fb9f3a"
            ],
            [
             0.8888888888888888,
             "#fdca26"
            ],
            [
             1,
             "#f0f921"
            ]
           ],
           "sequentialminus": [
            [
             0,
             "#0d0887"
            ],
            [
             0.1111111111111111,
             "#46039f"
            ],
            [
             0.2222222222222222,
             "#7201a8"
            ],
            [
             0.3333333333333333,
             "#9c179e"
            ],
            [
             0.4444444444444444,
             "#bd3786"
            ],
            [
             0.5555555555555556,
             "#d8576b"
            ],
            [
             0.6666666666666666,
             "#ed7953"
            ],
            [
             0.7777777777777778,
             "#fb9f3a"
            ],
            [
             0.8888888888888888,
             "#fdca26"
            ],
            [
             1,
             "#f0f921"
            ]
           ]
          },
          "colorway": [
           "#636efa",
           "#EF553B",
           "#00cc96",
           "#ab63fa",
           "#FFA15A",
           "#19d3f3",
           "#FF6692",
           "#B6E880",
           "#FF97FF",
           "#FECB52"
          ],
          "font": {
           "color": "#2a3f5f"
          },
          "geo": {
           "bgcolor": "white",
           "lakecolor": "white",
           "landcolor": "#E5ECF6",
           "showlakes": true,
           "showland": true,
           "subunitcolor": "white"
          },
          "hoverlabel": {
           "align": "left"
          },
          "hovermode": "closest",
          "mapbox": {
           "style": "light"
          },
          "paper_bgcolor": "white",
          "plot_bgcolor": "#E5ECF6",
          "polar": {
           "angularaxis": {
            "gridcolor": "white",
            "linecolor": "white",
            "ticks": ""
           },
           "bgcolor": "#E5ECF6",
           "radialaxis": {
            "gridcolor": "white",
            "linecolor": "white",
            "ticks": ""
           }
          },
          "scene": {
           "xaxis": {
            "backgroundcolor": "#E5ECF6",
            "gridcolor": "white",
            "gridwidth": 2,
            "linecolor": "white",
            "showbackground": true,
            "ticks": "",
            "zerolinecolor": "white"
           },
           "yaxis": {
            "backgroundcolor": "#E5ECF6",
            "gridcolor": "white",
            "gridwidth": 2,
            "linecolor": "white",
            "showbackground": true,
            "ticks": "",
            "zerolinecolor": "white"
           },
           "zaxis": {
            "backgroundcolor": "#E5ECF6",
            "gridcolor": "white",
            "gridwidth": 2,
            "linecolor": "white",
            "showbackground": true,
            "ticks": "",
            "zerolinecolor": "white"
           }
          },
          "shapedefaults": {
           "line": {
            "color": "#2a3f5f"
           }
          },
          "ternary": {
           "aaxis": {
            "gridcolor": "white",
            "linecolor": "white",
            "ticks": ""
           },
           "baxis": {
            "gridcolor": "white",
            "linecolor": "white",
            "ticks": ""
           },
           "bgcolor": "#E5ECF6",
           "caxis": {
            "gridcolor": "white",
            "linecolor": "white",
            "ticks": ""
           }
          },
          "title": {
           "x": 0.05
          },
          "xaxis": {
           "automargin": true,
           "gridcolor": "white",
           "linecolor": "white",
           "ticks": "",
           "title": {
            "standoff": 15
           },
           "zerolinecolor": "white",
           "zerolinewidth": 2
          },
          "yaxis": {
           "automargin": true,
           "gridcolor": "white",
           "linecolor": "white",
           "ticks": "",
           "title": {
            "standoff": 15
           },
           "zerolinecolor": "white",
           "zerolinewidth": 2
          }
         }
        },
        "xaxis": {
         "anchor": "y",
         "domain": [
          0,
          1
         ],
         "title": {
          "text": "periode_debut"
         }
        },
        "yaxis": {
         "anchor": "x",
         "domain": [
          0,
          1
         ],
         "title": {
          "text": "Missions"
         }
        }
       }
      }
     },
     "metadata": {},
     "output_type": "display_data"
    }
   ],
   "source": [
    "top = 5\n",
    "years = data[\"date_debut\"].dt.year.astype(str).unique()\n",
    "by_year = data.loc[data[\"date_debut\"].dt.year.astype(str) == years[1], [\"Propriété_clean\",\"periode_debut\"]]\n",
    "by_year[\"count\"] = 1\n",
    "by_year = by_year.pivot_table(index=\"periode_debut\", values=\"count\",columns=['Propriété_clean'], aggfunc=\"count\", fill_value=0)\n",
    "\n",
    "top_hotels = by_year.sum().sort_values(ascending=False)[:top].index.to_list()\n",
    "top_by_year = by_year.loc[:,top_hotels]\n",
    "top_by_year = pd.melt(top_by_year.reset_index(), id_vars=\"periode_debut\", value_name=\"Missions\")\n",
    "\n",
    "px.line(top_by_year, x=\"periode_debut\", y =\"Missions\", color=\"Propriété_clean\", markers=True)\n"
   ]
  },
  {
   "cell_type": "code",
   "execution_count": null,
   "metadata": {},
   "outputs": [],
   "source": []
  },
  {
   "cell_type": "code",
   "execution_count": 328,
   "metadata": {},
   "outputs": [
    {
     "data": {
      "text/html": [
       "<div>\n",
       "<style scoped>\n",
       "    .dataframe tbody tr th:only-of-type {\n",
       "        vertical-align: middle;\n",
       "    }\n",
       "\n",
       "    .dataframe tbody tr th {\n",
       "        vertical-align: top;\n",
       "    }\n",
       "\n",
       "    .dataframe thead th {\n",
       "        text-align: right;\n",
       "    }\n",
       "</style>\n",
       "<table border=\"1\" class=\"dataframe\">\n",
       "  <thead>\n",
       "    <tr style=\"text-align: right;\">\n",
       "      <th>Propriété_clean</th>\n",
       "      <th>Alberte</th>\n",
       "      <th>Apogé</th>\n",
       "      <th>Chouchou</th>\n",
       "      <th>Courseine</th>\n",
       "      <th>Crystal</th>\n",
       "      <th>Drawing House</th>\n",
       "      <th>Edouard VI</th>\n",
       "      <th>French Theory</th>\n",
       "      <th>Ibis Montparnasse</th>\n",
       "      <th>Imprimerie</th>\n",
       "      <th>...</th>\n",
       "      <th>Parisianer</th>\n",
       "      <th>Parisis</th>\n",
       "      <th>Peper and paper</th>\n",
       "      <th>Prélude</th>\n",
       "      <th>Quinzerie hotel</th>\n",
       "      <th>Select Hotel</th>\n",
       "      <th>Touraine</th>\n",
       "      <th>Tsuba</th>\n",
       "      <th>Victoire et Germain</th>\n",
       "      <th>Yllen Eiffel</th>\n",
       "    </tr>\n",
       "    <tr>\n",
       "      <th>periode_debut</th>\n",
       "      <th></th>\n",
       "      <th></th>\n",
       "      <th></th>\n",
       "      <th></th>\n",
       "      <th></th>\n",
       "      <th></th>\n",
       "      <th></th>\n",
       "      <th></th>\n",
       "      <th></th>\n",
       "      <th></th>\n",
       "      <th></th>\n",
       "      <th></th>\n",
       "      <th></th>\n",
       "      <th></th>\n",
       "      <th></th>\n",
       "      <th></th>\n",
       "      <th></th>\n",
       "      <th></th>\n",
       "      <th></th>\n",
       "      <th></th>\n",
       "      <th></th>\n",
       "    </tr>\n",
       "  </thead>\n",
       "  <tbody>\n",
       "    <tr>\n",
       "      <th>01-2023</th>\n",
       "      <td>0</td>\n",
       "      <td>7</td>\n",
       "      <td>0</td>\n",
       "      <td>3</td>\n",
       "      <td>4</td>\n",
       "      <td>5</td>\n",
       "      <td>0</td>\n",
       "      <td>0</td>\n",
       "      <td>56</td>\n",
       "      <td>27</td>\n",
       "      <td>...</td>\n",
       "      <td>0</td>\n",
       "      <td>0</td>\n",
       "      <td>0</td>\n",
       "      <td>2</td>\n",
       "      <td>2</td>\n",
       "      <td>52</td>\n",
       "      <td>5</td>\n",
       "      <td>3</td>\n",
       "      <td>1</td>\n",
       "      <td>13</td>\n",
       "    </tr>\n",
       "    <tr>\n",
       "      <th>02-2023</th>\n",
       "      <td>0</td>\n",
       "      <td>3</td>\n",
       "      <td>0</td>\n",
       "      <td>0</td>\n",
       "      <td>7</td>\n",
       "      <td>0</td>\n",
       "      <td>1</td>\n",
       "      <td>3</td>\n",
       "      <td>49</td>\n",
       "      <td>7</td>\n",
       "      <td>...</td>\n",
       "      <td>0</td>\n",
       "      <td>0</td>\n",
       "      <td>1</td>\n",
       "      <td>0</td>\n",
       "      <td>0</td>\n",
       "      <td>41</td>\n",
       "      <td>4</td>\n",
       "      <td>16</td>\n",
       "      <td>1</td>\n",
       "      <td>16</td>\n",
       "    </tr>\n",
       "    <tr>\n",
       "      <th>03-2023</th>\n",
       "      <td>0</td>\n",
       "      <td>9</td>\n",
       "      <td>0</td>\n",
       "      <td>8</td>\n",
       "      <td>5</td>\n",
       "      <td>0</td>\n",
       "      <td>2</td>\n",
       "      <td>0</td>\n",
       "      <td>52</td>\n",
       "      <td>31</td>\n",
       "      <td>...</td>\n",
       "      <td>0</td>\n",
       "      <td>0</td>\n",
       "      <td>0</td>\n",
       "      <td>0</td>\n",
       "      <td>3</td>\n",
       "      <td>6</td>\n",
       "      <td>0</td>\n",
       "      <td>16</td>\n",
       "      <td>1</td>\n",
       "      <td>13</td>\n",
       "    </tr>\n",
       "    <tr>\n",
       "      <th>04-2023</th>\n",
       "      <td>0</td>\n",
       "      <td>0</td>\n",
       "      <td>0</td>\n",
       "      <td>1</td>\n",
       "      <td>6</td>\n",
       "      <td>5</td>\n",
       "      <td>7</td>\n",
       "      <td>7</td>\n",
       "      <td>65</td>\n",
       "      <td>27</td>\n",
       "      <td>...</td>\n",
       "      <td>0</td>\n",
       "      <td>0</td>\n",
       "      <td>0</td>\n",
       "      <td>9</td>\n",
       "      <td>6</td>\n",
       "      <td>11</td>\n",
       "      <td>1</td>\n",
       "      <td>3</td>\n",
       "      <td>3</td>\n",
       "      <td>8</td>\n",
       "    </tr>\n",
       "    <tr>\n",
       "      <th>05-2023</th>\n",
       "      <td>0</td>\n",
       "      <td>0</td>\n",
       "      <td>0</td>\n",
       "      <td>5</td>\n",
       "      <td>5</td>\n",
       "      <td>15</td>\n",
       "      <td>0</td>\n",
       "      <td>8</td>\n",
       "      <td>50</td>\n",
       "      <td>11</td>\n",
       "      <td>...</td>\n",
       "      <td>0</td>\n",
       "      <td>0</td>\n",
       "      <td>0</td>\n",
       "      <td>5</td>\n",
       "      <td>1</td>\n",
       "      <td>14</td>\n",
       "      <td>8</td>\n",
       "      <td>16</td>\n",
       "      <td>4</td>\n",
       "      <td>7</td>\n",
       "    </tr>\n",
       "    <tr>\n",
       "      <th>06-2023</th>\n",
       "      <td>0</td>\n",
       "      <td>12</td>\n",
       "      <td>0</td>\n",
       "      <td>3</td>\n",
       "      <td>6</td>\n",
       "      <td>0</td>\n",
       "      <td>0</td>\n",
       "      <td>6</td>\n",
       "      <td>68</td>\n",
       "      <td>30</td>\n",
       "      <td>...</td>\n",
       "      <td>0</td>\n",
       "      <td>4</td>\n",
       "      <td>0</td>\n",
       "      <td>0</td>\n",
       "      <td>3</td>\n",
       "      <td>19</td>\n",
       "      <td>7</td>\n",
       "      <td>6</td>\n",
       "      <td>2</td>\n",
       "      <td>4</td>\n",
       "    </tr>\n",
       "    <tr>\n",
       "      <th>07-2023</th>\n",
       "      <td>0</td>\n",
       "      <td>0</td>\n",
       "      <td>0</td>\n",
       "      <td>0</td>\n",
       "      <td>10</td>\n",
       "      <td>21</td>\n",
       "      <td>13</td>\n",
       "      <td>1</td>\n",
       "      <td>102</td>\n",
       "      <td>16</td>\n",
       "      <td>...</td>\n",
       "      <td>3</td>\n",
       "      <td>1</td>\n",
       "      <td>0</td>\n",
       "      <td>0</td>\n",
       "      <td>0</td>\n",
       "      <td>24</td>\n",
       "      <td>12</td>\n",
       "      <td>13</td>\n",
       "      <td>1</td>\n",
       "      <td>12</td>\n",
       "    </tr>\n",
       "    <tr>\n",
       "      <th>08-2023</th>\n",
       "      <td>0</td>\n",
       "      <td>0</td>\n",
       "      <td>0</td>\n",
       "      <td>9</td>\n",
       "      <td>8</td>\n",
       "      <td>13</td>\n",
       "      <td>0</td>\n",
       "      <td>1</td>\n",
       "      <td>109</td>\n",
       "      <td>14</td>\n",
       "      <td>...</td>\n",
       "      <td>10</td>\n",
       "      <td>9</td>\n",
       "      <td>0</td>\n",
       "      <td>1</td>\n",
       "      <td>5</td>\n",
       "      <td>13</td>\n",
       "      <td>17</td>\n",
       "      <td>16</td>\n",
       "      <td>7</td>\n",
       "      <td>12</td>\n",
       "    </tr>\n",
       "    <tr>\n",
       "      <th>09-2023</th>\n",
       "      <td>2</td>\n",
       "      <td>0</td>\n",
       "      <td>4</td>\n",
       "      <td>0</td>\n",
       "      <td>1</td>\n",
       "      <td>13</td>\n",
       "      <td>0</td>\n",
       "      <td>9</td>\n",
       "      <td>89</td>\n",
       "      <td>26</td>\n",
       "      <td>...</td>\n",
       "      <td>3</td>\n",
       "      <td>2</td>\n",
       "      <td>0</td>\n",
       "      <td>0</td>\n",
       "      <td>0</td>\n",
       "      <td>35</td>\n",
       "      <td>4</td>\n",
       "      <td>2</td>\n",
       "      <td>3</td>\n",
       "      <td>5</td>\n",
       "    </tr>\n",
       "    <tr>\n",
       "      <th>10-2023</th>\n",
       "      <td>1</td>\n",
       "      <td>0</td>\n",
       "      <td>3</td>\n",
       "      <td>1</td>\n",
       "      <td>6</td>\n",
       "      <td>2</td>\n",
       "      <td>0</td>\n",
       "      <td>1</td>\n",
       "      <td>97</td>\n",
       "      <td>20</td>\n",
       "      <td>...</td>\n",
       "      <td>1</td>\n",
       "      <td>4</td>\n",
       "      <td>0</td>\n",
       "      <td>0</td>\n",
       "      <td>0</td>\n",
       "      <td>15</td>\n",
       "      <td>0</td>\n",
       "      <td>12</td>\n",
       "      <td>2</td>\n",
       "      <td>12</td>\n",
       "    </tr>\n",
       "    <tr>\n",
       "      <th>11-2023</th>\n",
       "      <td>0</td>\n",
       "      <td>0</td>\n",
       "      <td>4</td>\n",
       "      <td>5</td>\n",
       "      <td>2</td>\n",
       "      <td>3</td>\n",
       "      <td>0</td>\n",
       "      <td>4</td>\n",
       "      <td>79</td>\n",
       "      <td>17</td>\n",
       "      <td>...</td>\n",
       "      <td>0</td>\n",
       "      <td>9</td>\n",
       "      <td>0</td>\n",
       "      <td>0</td>\n",
       "      <td>0</td>\n",
       "      <td>25</td>\n",
       "      <td>0</td>\n",
       "      <td>13</td>\n",
       "      <td>0</td>\n",
       "      <td>5</td>\n",
       "    </tr>\n",
       "    <tr>\n",
       "      <th>12-2023</th>\n",
       "      <td>2</td>\n",
       "      <td>0</td>\n",
       "      <td>1</td>\n",
       "      <td>5</td>\n",
       "      <td>0</td>\n",
       "      <td>5</td>\n",
       "      <td>0</td>\n",
       "      <td>0</td>\n",
       "      <td>53</td>\n",
       "      <td>10</td>\n",
       "      <td>...</td>\n",
       "      <td>0</td>\n",
       "      <td>0</td>\n",
       "      <td>0</td>\n",
       "      <td>0</td>\n",
       "      <td>0</td>\n",
       "      <td>0</td>\n",
       "      <td>10</td>\n",
       "      <td>0</td>\n",
       "      <td>1</td>\n",
       "      <td>2</td>\n",
       "    </tr>\n",
       "  </tbody>\n",
       "</table>\n",
       "<p>12 rows × 28 columns</p>\n",
       "</div>"
      ],
      "text/plain": [
       "Propriété_clean  Alberte   Apogé  Chouchou  Courseine  Crystal  Drawing House  \\\n",
       "periode_debut                                                                   \n",
       "01-2023                 0      7         0          3        4              5   \n",
       "02-2023                 0      3         0          0        7              0   \n",
       "03-2023                 0      9         0          8        5              0   \n",
       "04-2023                 0      0         0          1        6              5   \n",
       "05-2023                 0      0         0          5        5             15   \n",
       "06-2023                 0     12         0          3        6              0   \n",
       "07-2023                 0      0         0          0       10             21   \n",
       "08-2023                 0      0         0          9        8             13   \n",
       "09-2023                 2      0         4          0        1             13   \n",
       "10-2023                 1      0         3          1        6              2   \n",
       "11-2023                 0      0         4          5        2              3   \n",
       "12-2023                 2      0         1          5        0              5   \n",
       "\n",
       "Propriété_clean  Edouard VI  French Theory  Ibis Montparnasse  Imprimerie  \\\n",
       "periode_debut                                                               \n",
       "01-2023                   0              0                 56          27   \n",
       "02-2023                   1              3                 49           7   \n",
       "03-2023                   2              0                 52          31   \n",
       "04-2023                   7              7                 65          27   \n",
       "05-2023                   0              8                 50          11   \n",
       "06-2023                   0              6                 68          30   \n",
       "07-2023                  13              1                102          16   \n",
       "08-2023                   0              1                109          14   \n",
       "09-2023                   0              9                 89          26   \n",
       "10-2023                   0              1                 97          20   \n",
       "11-2023                   0              4                 79          17   \n",
       "12-2023                   0              0                 53          10   \n",
       "\n",
       "Propriété_clean  ...  Parisianer  Parisis  Peper and paper   Prélude  \\\n",
       "periode_debut    ...                                                   \n",
       "01-2023          ...           0        0                 0        2   \n",
       "02-2023          ...           0        0                 1        0   \n",
       "03-2023          ...           0        0                 0        0   \n",
       "04-2023          ...           0        0                 0        9   \n",
       "05-2023          ...           0        0                 0        5   \n",
       "06-2023          ...           0        4                 0        0   \n",
       "07-2023          ...           3        1                 0        0   \n",
       "08-2023          ...          10        9                 0        1   \n",
       "09-2023          ...           3        2                 0        0   \n",
       "10-2023          ...           1        4                 0        0   \n",
       "11-2023          ...           0        9                 0        0   \n",
       "12-2023          ...           0        0                 0        0   \n",
       "\n",
       "Propriété_clean  Quinzerie hotel  Select Hotel  Touraine  Tsuba  \\\n",
       "periode_debut                                                     \n",
       "01-2023                        2            52         5      3   \n",
       "02-2023                        0            41         4     16   \n",
       "03-2023                        3             6         0     16   \n",
       "04-2023                        6            11         1      3   \n",
       "05-2023                        1            14         8     16   \n",
       "06-2023                        3            19         7      6   \n",
       "07-2023                        0            24        12     13   \n",
       "08-2023                        5            13        17     16   \n",
       "09-2023                        0            35         4      2   \n",
       "10-2023                        0            15         0     12   \n",
       "11-2023                        0            25         0     13   \n",
       "12-2023                        0             0        10      0   \n",
       "\n",
       "Propriété_clean  Victoire et Germain  Yllen Eiffel  \n",
       "periode_debut                                       \n",
       "01-2023                            1            13  \n",
       "02-2023                            1            16  \n",
       "03-2023                            1            13  \n",
       "04-2023                            3             8  \n",
       "05-2023                            4             7  \n",
       "06-2023                            2             4  \n",
       "07-2023                            1            12  \n",
       "08-2023                            7            12  \n",
       "09-2023                            3             5  \n",
       "10-2023                            2            12  \n",
       "11-2023                            0             5  \n",
       "12-2023                            1             2  \n",
       "\n",
       "[12 rows x 28 columns]"
      ]
     },
     "execution_count": 328,
     "metadata": {},
     "output_type": "execute_result"
    }
   ],
   "source": [
    "by_year"
   ]
  },
  {
   "cell_type": "code",
   "execution_count": 329,
   "metadata": {},
   "outputs": [
    {
     "data": {
      "text/plain": [
       "9.5"
      ]
     },
     "execution_count": 329,
     "metadata": {},
     "output_type": "execute_result"
    }
   ],
   "source": [
    "data.loc[1,\"time_delta\"].total_seconds() / 3600"
   ]
  },
  {
   "cell_type": "code",
   "execution_count": 330,
   "metadata": {},
   "outputs": [],
   "source": [
    "data[\"float_hours\"] = data[\"time_delta\"].apply(lambda x: x.total_seconds()/ 3600)"
   ]
  },
  {
   "cell_type": "code",
   "execution_count": 331,
   "metadata": {},
   "outputs": [
    {
     "data": {
      "text/html": [
       "<div>\n",
       "<style scoped>\n",
       "    .dataframe tbody tr th:only-of-type {\n",
       "        vertical-align: middle;\n",
       "    }\n",
       "\n",
       "    .dataframe tbody tr th {\n",
       "        vertical-align: top;\n",
       "    }\n",
       "\n",
       "    .dataframe thead th {\n",
       "        text-align: right;\n",
       "    }\n",
       "</style>\n",
       "<table border=\"1\" class=\"dataframe\">\n",
       "  <thead>\n",
       "    <tr style=\"text-align: right;\">\n",
       "      <th></th>\n",
       "      <th>total</th>\n",
       "      <th>annule</th>\n",
       "      <th>pourcent</th>\n",
       "    </tr>\n",
       "    <tr>\n",
       "      <th>Propriété_clean</th>\n",
       "      <th></th>\n",
       "      <th></th>\n",
       "      <th></th>\n",
       "    </tr>\n",
       "  </thead>\n",
       "  <tbody>\n",
       "    <tr>\n",
       "      <th>Alberte</th>\n",
       "      <td>2</td>\n",
       "      <td>0.0</td>\n",
       "      <td>0.0</td>\n",
       "    </tr>\n",
       "    <tr>\n",
       "      <th>Chouchou</th>\n",
       "      <td>1</td>\n",
       "      <td>0.0</td>\n",
       "      <td>0.0</td>\n",
       "    </tr>\n",
       "    <tr>\n",
       "      <th>Courseine</th>\n",
       "      <td>5</td>\n",
       "      <td>0.0</td>\n",
       "      <td>0.0</td>\n",
       "    </tr>\n",
       "    <tr>\n",
       "      <th>Drawing House</th>\n",
       "      <td>5</td>\n",
       "      <td>0.0</td>\n",
       "      <td>0.0</td>\n",
       "    </tr>\n",
       "    <tr>\n",
       "      <th>Ibis Montparnasse</th>\n",
       "      <td>53</td>\n",
       "      <td>0.0</td>\n",
       "      <td>0.0</td>\n",
       "    </tr>\n",
       "    <tr>\n",
       "      <th>Imprimerie</th>\n",
       "      <td>10</td>\n",
       "      <td>0.0</td>\n",
       "      <td>0.0</td>\n",
       "    </tr>\n",
       "    <tr>\n",
       "      <th>Le Grand Quartier</th>\n",
       "      <td>2</td>\n",
       "      <td>0.0</td>\n",
       "      <td>0.0</td>\n",
       "    </tr>\n",
       "    <tr>\n",
       "      <th>Les Deux Girafes</th>\n",
       "      <td>3</td>\n",
       "      <td>0.0</td>\n",
       "      <td>0.0</td>\n",
       "    </tr>\n",
       "    <tr>\n",
       "      <th>Milie Rose</th>\n",
       "      <td>16</td>\n",
       "      <td>0.0</td>\n",
       "      <td>0.0</td>\n",
       "    </tr>\n",
       "    <tr>\n",
       "      <th>Monte Cristo</th>\n",
       "      <td>2</td>\n",
       "      <td>0.0</td>\n",
       "      <td>0.0</td>\n",
       "    </tr>\n",
       "    <tr>\n",
       "      <th>Touraine</th>\n",
       "      <td>10</td>\n",
       "      <td>0.0</td>\n",
       "      <td>0.0</td>\n",
       "    </tr>\n",
       "    <tr>\n",
       "      <th>Victoire et Germain</th>\n",
       "      <td>1</td>\n",
       "      <td>0.0</td>\n",
       "      <td>0.0</td>\n",
       "    </tr>\n",
       "    <tr>\n",
       "      <th>Yllen Eiffel</th>\n",
       "      <td>2</td>\n",
       "      <td>0.0</td>\n",
       "      <td>0.0</td>\n",
       "    </tr>\n",
       "  </tbody>\n",
       "</table>\n",
       "</div>"
      ],
      "text/plain": [
       "                     total  annule  pourcent\n",
       "Propriété_clean                             \n",
       "Alberte                  2     0.0       0.0\n",
       "Chouchou                 1     0.0       0.0\n",
       "Courseine                5     0.0       0.0\n",
       "Drawing House            5     0.0       0.0\n",
       "Ibis Montparnasse       53     0.0       0.0\n",
       "Imprimerie              10     0.0       0.0\n",
       "Le Grand Quartier        2     0.0       0.0\n",
       "Les Deux Girafes         3     0.0       0.0\n",
       "Milie Rose              16     0.0       0.0\n",
       "Monte Cristo             2     0.0       0.0\n",
       "Touraine                10     0.0       0.0\n",
       "Victoire et Germain      1     0.0       0.0\n",
       "Yllen Eiffel             2     0.0       0.0"
      ]
     },
     "execution_count": 331,
     "metadata": {},
     "output_type": "execute_result"
    }
   ],
   "source": [
    "pourcent_annulations"
   ]
  },
  {
   "cell_type": "code",
   "execution_count": 332,
   "metadata": {},
   "outputs": [
    {
     "data": {
      "application/vnd.plotly.v1+json": {
       "config": {
        "plotlyServerURL": "https://plot.ly"
       },
       "data": [
        {
         "alignmentgroup": "True",
         "hovertemplate": "Propriété_clean=%{x}<br>pourcent=%{marker.color}<extra></extra>",
         "legendgroup": "",
         "marker": {
          "color": [
           25.806451612903224,
           25,
           17.346938775510203,
           12.76595744680851,
           12.676056338028168,
           12.173913043478262,
           10.144927536231885,
           10.112359550561797,
           9.876543209876543,
           9.79020979020979,
           9.126984126984127,
           8.552631578947368,
           6.944444444444445,
           6.557377049180328,
           6.041828040278854,
           5.263157894736842,
           4.8,
           3.9215686274509802,
           3.614457831325301,
           3.361344537815126,
           3.125,
           2.6785714285714284,
           2.380952380952381,
           0,
           0,
           0,
           0,
           0,
           0,
           0,
           0,
           0
          ],
          "coloraxis": "coloraxis",
          "pattern": {
           "shape": ""
          }
         },
         "name": "",
         "offsetgroup": "",
         "orientation": "v",
         "showlegend": false,
         "textposition": "auto",
         "type": "bar",
         "x": [
          "Select Hotel",
          "Quinzerie hotel",
          "Yllen Eiffel",
          "Monte Cristo",
          "Parisianer",
          "Touraine",
          "French Theory",
          "Victoire et Germain",
          "Edouard VI",
          "Crystal",
          "Milie Rose",
          "Imprimerie",
          "Drawing House",
          "Apogé",
          "Ibis Montparnasse",
          "MT solutions ",
          "Marceau",
          "Prélude",
          "Les Deux Girafes",
          "Courseine",
          "Le Grand Quartier",
          "Tsuba",
          "La Belle Ville",
          "Chouchou",
          "Le Roch Hotel",
          "Home Moderne",
          "Alberte ",
          "Bleu de Grenelle",
          "Parisis",
          "Mont Dore",
          "Mathurin",
          "Peper and paper "
         ],
         "xaxis": "x",
         "y": [
          25.806451612903224,
          25,
          17.346938775510203,
          12.76595744680851,
          12.676056338028168,
          12.173913043478262,
          10.144927536231885,
          10.112359550561797,
          9.876543209876543,
          9.79020979020979,
          9.126984126984127,
          8.552631578947368,
          6.944444444444445,
          6.557377049180328,
          6.041828040278854,
          5.263157894736842,
          4.8,
          3.9215686274509802,
          3.614457831325301,
          3.361344537815126,
          3.125,
          2.6785714285714284,
          2.380952380952381,
          0,
          0,
          0,
          0,
          0,
          0,
          0,
          0,
          0
         ],
         "yaxis": "y"
        }
       ],
       "layout": {
        "barmode": "relative",
        "coloraxis": {
         "colorbar": {
          "title": {
           "text": "pourcent"
          }
         },
         "colorscale": [
          [
           0,
           "#0d0887"
          ],
          [
           0.1111111111111111,
           "#46039f"
          ],
          [
           0.2222222222222222,
           "#7201a8"
          ],
          [
           0.3333333333333333,
           "#9c179e"
          ],
          [
           0.4444444444444444,
           "#bd3786"
          ],
          [
           0.5555555555555556,
           "#d8576b"
          ],
          [
           0.6666666666666666,
           "#ed7953"
          ],
          [
           0.7777777777777778,
           "#fb9f3a"
          ],
          [
           0.8888888888888888,
           "#fdca26"
          ],
          [
           1,
           "#f0f921"
          ]
         ]
        },
        "legend": {
         "tracegroupgap": 0
        },
        "margin": {
         "t": 60
        },
        "template": {
         "data": {
          "bar": [
           {
            "error_x": {
             "color": "#2a3f5f"
            },
            "error_y": {
             "color": "#2a3f5f"
            },
            "marker": {
             "line": {
              "color": "#E5ECF6",
              "width": 0.5
             },
             "pattern": {
              "fillmode": "overlay",
              "size": 10,
              "solidity": 0.2
             }
            },
            "type": "bar"
           }
          ],
          "barpolar": [
           {
            "marker": {
             "line": {
              "color": "#E5ECF6",
              "width": 0.5
             },
             "pattern": {
              "fillmode": "overlay",
              "size": 10,
              "solidity": 0.2
             }
            },
            "type": "barpolar"
           }
          ],
          "carpet": [
           {
            "aaxis": {
             "endlinecolor": "#2a3f5f",
             "gridcolor": "white",
             "linecolor": "white",
             "minorgridcolor": "white",
             "startlinecolor": "#2a3f5f"
            },
            "baxis": {
             "endlinecolor": "#2a3f5f",
             "gridcolor": "white",
             "linecolor": "white",
             "minorgridcolor": "white",
             "startlinecolor": "#2a3f5f"
            },
            "type": "carpet"
           }
          ],
          "choropleth": [
           {
            "colorbar": {
             "outlinewidth": 0,
             "ticks": ""
            },
            "type": "choropleth"
           }
          ],
          "contour": [
           {
            "colorbar": {
             "outlinewidth": 0,
             "ticks": ""
            },
            "colorscale": [
             [
              0,
              "#0d0887"
             ],
             [
              0.1111111111111111,
              "#46039f"
             ],
             [
              0.2222222222222222,
              "#7201a8"
             ],
             [
              0.3333333333333333,
              "#9c179e"
             ],
             [
              0.4444444444444444,
              "#bd3786"
             ],
             [
              0.5555555555555556,
              "#d8576b"
             ],
             [
              0.6666666666666666,
              "#ed7953"
             ],
             [
              0.7777777777777778,
              "#fb9f3a"
             ],
             [
              0.8888888888888888,
              "#fdca26"
             ],
             [
              1,
              "#f0f921"
             ]
            ],
            "type": "contour"
           }
          ],
          "contourcarpet": [
           {
            "colorbar": {
             "outlinewidth": 0,
             "ticks": ""
            },
            "type": "contourcarpet"
           }
          ],
          "heatmap": [
           {
            "colorbar": {
             "outlinewidth": 0,
             "ticks": ""
            },
            "colorscale": [
             [
              0,
              "#0d0887"
             ],
             [
              0.1111111111111111,
              "#46039f"
             ],
             [
              0.2222222222222222,
              "#7201a8"
             ],
             [
              0.3333333333333333,
              "#9c179e"
             ],
             [
              0.4444444444444444,
              "#bd3786"
             ],
             [
              0.5555555555555556,
              "#d8576b"
             ],
             [
              0.6666666666666666,
              "#ed7953"
             ],
             [
              0.7777777777777778,
              "#fb9f3a"
             ],
             [
              0.8888888888888888,
              "#fdca26"
             ],
             [
              1,
              "#f0f921"
             ]
            ],
            "type": "heatmap"
           }
          ],
          "heatmapgl": [
           {
            "colorbar": {
             "outlinewidth": 0,
             "ticks": ""
            },
            "colorscale": [
             [
              0,
              "#0d0887"
             ],
             [
              0.1111111111111111,
              "#46039f"
             ],
             [
              0.2222222222222222,
              "#7201a8"
             ],
             [
              0.3333333333333333,
              "#9c179e"
             ],
             [
              0.4444444444444444,
              "#bd3786"
             ],
             [
              0.5555555555555556,
              "#d8576b"
             ],
             [
              0.6666666666666666,
              "#ed7953"
             ],
             [
              0.7777777777777778,
              "#fb9f3a"
             ],
             [
              0.8888888888888888,
              "#fdca26"
             ],
             [
              1,
              "#f0f921"
             ]
            ],
            "type": "heatmapgl"
           }
          ],
          "histogram": [
           {
            "marker": {
             "pattern": {
              "fillmode": "overlay",
              "size": 10,
              "solidity": 0.2
             }
            },
            "type": "histogram"
           }
          ],
          "histogram2d": [
           {
            "colorbar": {
             "outlinewidth": 0,
             "ticks": ""
            },
            "colorscale": [
             [
              0,
              "#0d0887"
             ],
             [
              0.1111111111111111,
              "#46039f"
             ],
             [
              0.2222222222222222,
              "#7201a8"
             ],
             [
              0.3333333333333333,
              "#9c179e"
             ],
             [
              0.4444444444444444,
              "#bd3786"
             ],
             [
              0.5555555555555556,
              "#d8576b"
             ],
             [
              0.6666666666666666,
              "#ed7953"
             ],
             [
              0.7777777777777778,
              "#fb9f3a"
             ],
             [
              0.8888888888888888,
              "#fdca26"
             ],
             [
              1,
              "#f0f921"
             ]
            ],
            "type": "histogram2d"
           }
          ],
          "histogram2dcontour": [
           {
            "colorbar": {
             "outlinewidth": 0,
             "ticks": ""
            },
            "colorscale": [
             [
              0,
              "#0d0887"
             ],
             [
              0.1111111111111111,
              "#46039f"
             ],
             [
              0.2222222222222222,
              "#7201a8"
             ],
             [
              0.3333333333333333,
              "#9c179e"
             ],
             [
              0.4444444444444444,
              "#bd3786"
             ],
             [
              0.5555555555555556,
              "#d8576b"
             ],
             [
              0.6666666666666666,
              "#ed7953"
             ],
             [
              0.7777777777777778,
              "#fb9f3a"
             ],
             [
              0.8888888888888888,
              "#fdca26"
             ],
             [
              1,
              "#f0f921"
             ]
            ],
            "type": "histogram2dcontour"
           }
          ],
          "mesh3d": [
           {
            "colorbar": {
             "outlinewidth": 0,
             "ticks": ""
            },
            "type": "mesh3d"
           }
          ],
          "parcoords": [
           {
            "line": {
             "colorbar": {
              "outlinewidth": 0,
              "ticks": ""
             }
            },
            "type": "parcoords"
           }
          ],
          "pie": [
           {
            "automargin": true,
            "type": "pie"
           }
          ],
          "scatter": [
           {
            "fillpattern": {
             "fillmode": "overlay",
             "size": 10,
             "solidity": 0.2
            },
            "type": "scatter"
           }
          ],
          "scatter3d": [
           {
            "line": {
             "colorbar": {
              "outlinewidth": 0,
              "ticks": ""
             }
            },
            "marker": {
             "colorbar": {
              "outlinewidth": 0,
              "ticks": ""
             }
            },
            "type": "scatter3d"
           }
          ],
          "scattercarpet": [
           {
            "marker": {
             "colorbar": {
              "outlinewidth": 0,
              "ticks": ""
             }
            },
            "type": "scattercarpet"
           }
          ],
          "scattergeo": [
           {
            "marker": {
             "colorbar": {
              "outlinewidth": 0,
              "ticks": ""
             }
            },
            "type": "scattergeo"
           }
          ],
          "scattergl": [
           {
            "marker": {
             "colorbar": {
              "outlinewidth": 0,
              "ticks": ""
             }
            },
            "type": "scattergl"
           }
          ],
          "scattermapbox": [
           {
            "marker": {
             "colorbar": {
              "outlinewidth": 0,
              "ticks": ""
             }
            },
            "type": "scattermapbox"
           }
          ],
          "scatterpolar": [
           {
            "marker": {
             "colorbar": {
              "outlinewidth": 0,
              "ticks": ""
             }
            },
            "type": "scatterpolar"
           }
          ],
          "scatterpolargl": [
           {
            "marker": {
             "colorbar": {
              "outlinewidth": 0,
              "ticks": ""
             }
            },
            "type": "scatterpolargl"
           }
          ],
          "scatterternary": [
           {
            "marker": {
             "colorbar": {
              "outlinewidth": 0,
              "ticks": ""
             }
            },
            "type": "scatterternary"
           }
          ],
          "surface": [
           {
            "colorbar": {
             "outlinewidth": 0,
             "ticks": ""
            },
            "colorscale": [
             [
              0,
              "#0d0887"
             ],
             [
              0.1111111111111111,
              "#46039f"
             ],
             [
              0.2222222222222222,
              "#7201a8"
             ],
             [
              0.3333333333333333,
              "#9c179e"
             ],
             [
              0.4444444444444444,
              "#bd3786"
             ],
             [
              0.5555555555555556,
              "#d8576b"
             ],
             [
              0.6666666666666666,
              "#ed7953"
             ],
             [
              0.7777777777777778,
              "#fb9f3a"
             ],
             [
              0.8888888888888888,
              "#fdca26"
             ],
             [
              1,
              "#f0f921"
             ]
            ],
            "type": "surface"
           }
          ],
          "table": [
           {
            "cells": {
             "fill": {
              "color": "#EBF0F8"
             },
             "line": {
              "color": "white"
             }
            },
            "header": {
             "fill": {
              "color": "#C8D4E3"
             },
             "line": {
              "color": "white"
             }
            },
            "type": "table"
           }
          ]
         },
         "layout": {
          "annotationdefaults": {
           "arrowcolor": "#2a3f5f",
           "arrowhead": 0,
           "arrowwidth": 1
          },
          "autotypenumbers": "strict",
          "coloraxis": {
           "colorbar": {
            "outlinewidth": 0,
            "ticks": ""
           }
          },
          "colorscale": {
           "diverging": [
            [
             0,
             "#8e0152"
            ],
            [
             0.1,
             "#c51b7d"
            ],
            [
             0.2,
             "#de77ae"
            ],
            [
             0.3,
             "#f1b6da"
            ],
            [
             0.4,
             "#fde0ef"
            ],
            [
             0.5,
             "#f7f7f7"
            ],
            [
             0.6,
             "#e6f5d0"
            ],
            [
             0.7,
             "#b8e186"
            ],
            [
             0.8,
             "#7fbc41"
            ],
            [
             0.9,
             "#4d9221"
            ],
            [
             1,
             "#276419"
            ]
           ],
           "sequential": [
            [
             0,
             "#0d0887"
            ],
            [
             0.1111111111111111,
             "#46039f"
            ],
            [
             0.2222222222222222,
             "#7201a8"
            ],
            [
             0.3333333333333333,
             "#9c179e"
            ],
            [
             0.4444444444444444,
             "#bd3786"
            ],
            [
             0.5555555555555556,
             "#d8576b"
            ],
            [
             0.6666666666666666,
             "#ed7953"
            ],
            [
             0.7777777777777778,
             "#fb9f3a"
            ],
            [
             0.8888888888888888,
             "#fdca26"
            ],
            [
             1,
             "#f0f921"
            ]
           ],
           "sequentialminus": [
            [
             0,
             "#0d0887"
            ],
            [
             0.1111111111111111,
             "#46039f"
            ],
            [
             0.2222222222222222,
             "#7201a8"
            ],
            [
             0.3333333333333333,
             "#9c179e"
            ],
            [
             0.4444444444444444,
             "#bd3786"
            ],
            [
             0.5555555555555556,
             "#d8576b"
            ],
            [
             0.6666666666666666,
             "#ed7953"
            ],
            [
             0.7777777777777778,
             "#fb9f3a"
            ],
            [
             0.8888888888888888,
             "#fdca26"
            ],
            [
             1,
             "#f0f921"
            ]
           ]
          },
          "colorway": [
           "#636efa",
           "#EF553B",
           "#00cc96",
           "#ab63fa",
           "#FFA15A",
           "#19d3f3",
           "#FF6692",
           "#B6E880",
           "#FF97FF",
           "#FECB52"
          ],
          "font": {
           "color": "#2a3f5f"
          },
          "geo": {
           "bgcolor": "white",
           "lakecolor": "white",
           "landcolor": "#E5ECF6",
           "showlakes": true,
           "showland": true,
           "subunitcolor": "white"
          },
          "hoverlabel": {
           "align": "left"
          },
          "hovermode": "closest",
          "mapbox": {
           "style": "light"
          },
          "paper_bgcolor": "white",
          "plot_bgcolor": "#E5ECF6",
          "polar": {
           "angularaxis": {
            "gridcolor": "white",
            "linecolor": "white",
            "ticks": ""
           },
           "bgcolor": "#E5ECF6",
           "radialaxis": {
            "gridcolor": "white",
            "linecolor": "white",
            "ticks": ""
           }
          },
          "scene": {
           "xaxis": {
            "backgroundcolor": "#E5ECF6",
            "gridcolor": "white",
            "gridwidth": 2,
            "linecolor": "white",
            "showbackground": true,
            "ticks": "",
            "zerolinecolor": "white"
           },
           "yaxis": {
            "backgroundcolor": "#E5ECF6",
            "gridcolor": "white",
            "gridwidth": 2,
            "linecolor": "white",
            "showbackground": true,
            "ticks": "",
            "zerolinecolor": "white"
           },
           "zaxis": {
            "backgroundcolor": "#E5ECF6",
            "gridcolor": "white",
            "gridwidth": 2,
            "linecolor": "white",
            "showbackground": true,
            "ticks": "",
            "zerolinecolor": "white"
           }
          },
          "shapedefaults": {
           "line": {
            "color": "#2a3f5f"
           }
          },
          "ternary": {
           "aaxis": {
            "gridcolor": "white",
            "linecolor": "white",
            "ticks": ""
           },
           "baxis": {
            "gridcolor": "white",
            "linecolor": "white",
            "ticks": ""
           },
           "bgcolor": "#E5ECF6",
           "caxis": {
            "gridcolor": "white",
            "linecolor": "white",
            "ticks": ""
           }
          },
          "title": {
           "x": 0.05
          },
          "xaxis": {
           "automargin": true,
           "gridcolor": "white",
           "linecolor": "white",
           "ticks": "",
           "title": {
            "standoff": 15
           },
           "zerolinecolor": "white",
           "zerolinewidth": 2
          },
          "yaxis": {
           "automargin": true,
           "gridcolor": "white",
           "linecolor": "white",
           "ticks": "",
           "title": {
            "standoff": 15
           },
           "zerolinecolor": "white",
           "zerolinewidth": 2
          }
         }
        },
        "xaxis": {
         "anchor": "y",
         "domain": [
          0,
          1
         ],
         "title": {
          "text": "Propriété_clean"
         }
        },
        "yaxis": {
         "anchor": "x",
         "domain": [
          0,
          1
         ],
         "title": {
          "text": "pourcent"
         }
        }
       }
      }
     },
     "metadata": {},
     "output_type": "display_data"
    }
   ],
   "source": [
    "pourcent_annulations = pd.DataFrame()\n",
    "pourcent_annulations[\"total\"] = data.groupby(\"Propriété_clean\").count().loc[:,\"hôtel\"]\n",
    "pourcent_annulations[\"annule\"] = data[data[\"statuts\"] == \"annulé\"].groupby(\"Propriété_clean\").count().loc[:,\"hôtel\"]\n",
    "pourcent_annulations = pourcent_annulations.fillna(0)\n",
    "\n",
    "pourcent_annulations[\"pourcent\"] = pourcent_annulations.apply(lambda x: x.annule/x.total*100, axis = 1)\n",
    "pourcent_annulations = pourcent_annulations.sort_values(by=\"pourcent\", ascending=False)\n",
    "px.bar(pourcent_annulations, x=pourcent_annulations.index, y=\"pourcent\", color=\"pourcent\")"
   ]
  },
  {
   "cell_type": "code",
   "execution_count": 335,
   "metadata": {},
   "outputs": [
    {
     "data": {
      "application/vnd.plotly.v1+json": {
       "config": {
        "plotlyServerURL": "https://plot.ly"
       },
       "data": [
        {
         "alignmentgroup": "True",
         "hovertemplate": "Propriété_clean=%{x}<br>pourcent=%{marker.color}<extra></extra>",
         "legendgroup": "",
         "marker": {
          "color": [
           0,
           0,
           0,
           0,
           0,
           0,
           0,
           0,
           0,
           0,
           0,
           0,
           0
          ],
          "coloraxis": "coloraxis",
          "pattern": {
           "shape": ""
          }
         },
         "name": "",
         "offsetgroup": "",
         "orientation": "v",
         "showlegend": false,
         "textposition": "auto",
         "type": "bar",
         "x": [
          "Alberte ",
          "Chouchou",
          "Courseine",
          "Drawing House",
          "Ibis Montparnasse",
          "Imprimerie",
          "Le Grand Quartier",
          "Les Deux Girafes",
          "Milie Rose",
          "Monte Cristo",
          "Touraine",
          "Victoire et Germain",
          "Yllen Eiffel"
         ],
         "xaxis": "x",
         "y": [
          0,
          0,
          0,
          0,
          0,
          0,
          0,
          0,
          0,
          0,
          0,
          0,
          0
         ],
         "yaxis": "y"
        }
       ],
       "layout": {
        "barmode": "relative",
        "coloraxis": {
         "colorbar": {
          "title": {
           "text": "pourcent"
          }
         },
         "colorscale": [
          [
           0,
           "#0d0887"
          ],
          [
           0.1111111111111111,
           "#46039f"
          ],
          [
           0.2222222222222222,
           "#7201a8"
          ],
          [
           0.3333333333333333,
           "#9c179e"
          ],
          [
           0.4444444444444444,
           "#bd3786"
          ],
          [
           0.5555555555555556,
           "#d8576b"
          ],
          [
           0.6666666666666666,
           "#ed7953"
          ],
          [
           0.7777777777777778,
           "#fb9f3a"
          ],
          [
           0.8888888888888888,
           "#fdca26"
          ],
          [
           1,
           "#f0f921"
          ]
         ]
        },
        "legend": {
         "tracegroupgap": 0
        },
        "margin": {
         "t": 60
        },
        "template": {
         "data": {
          "bar": [
           {
            "error_x": {
             "color": "#2a3f5f"
            },
            "error_y": {
             "color": "#2a3f5f"
            },
            "marker": {
             "line": {
              "color": "#E5ECF6",
              "width": 0.5
             },
             "pattern": {
              "fillmode": "overlay",
              "size": 10,
              "solidity": 0.2
             }
            },
            "type": "bar"
           }
          ],
          "barpolar": [
           {
            "marker": {
             "line": {
              "color": "#E5ECF6",
              "width": 0.5
             },
             "pattern": {
              "fillmode": "overlay",
              "size": 10,
              "solidity": 0.2
             }
            },
            "type": "barpolar"
           }
          ],
          "carpet": [
           {
            "aaxis": {
             "endlinecolor": "#2a3f5f",
             "gridcolor": "white",
             "linecolor": "white",
             "minorgridcolor": "white",
             "startlinecolor": "#2a3f5f"
            },
            "baxis": {
             "endlinecolor": "#2a3f5f",
             "gridcolor": "white",
             "linecolor": "white",
             "minorgridcolor": "white",
             "startlinecolor": "#2a3f5f"
            },
            "type": "carpet"
           }
          ],
          "choropleth": [
           {
            "colorbar": {
             "outlinewidth": 0,
             "ticks": ""
            },
            "type": "choropleth"
           }
          ],
          "contour": [
           {
            "colorbar": {
             "outlinewidth": 0,
             "ticks": ""
            },
            "colorscale": [
             [
              0,
              "#0d0887"
             ],
             [
              0.1111111111111111,
              "#46039f"
             ],
             [
              0.2222222222222222,
              "#7201a8"
             ],
             [
              0.3333333333333333,
              "#9c179e"
             ],
             [
              0.4444444444444444,
              "#bd3786"
             ],
             [
              0.5555555555555556,
              "#d8576b"
             ],
             [
              0.6666666666666666,
              "#ed7953"
             ],
             [
              0.7777777777777778,
              "#fb9f3a"
             ],
             [
              0.8888888888888888,
              "#fdca26"
             ],
             [
              1,
              "#f0f921"
             ]
            ],
            "type": "contour"
           }
          ],
          "contourcarpet": [
           {
            "colorbar": {
             "outlinewidth": 0,
             "ticks": ""
            },
            "type": "contourcarpet"
           }
          ],
          "heatmap": [
           {
            "colorbar": {
             "outlinewidth": 0,
             "ticks": ""
            },
            "colorscale": [
             [
              0,
              "#0d0887"
             ],
             [
              0.1111111111111111,
              "#46039f"
             ],
             [
              0.2222222222222222,
              "#7201a8"
             ],
             [
              0.3333333333333333,
              "#9c179e"
             ],
             [
              0.4444444444444444,
              "#bd3786"
             ],
             [
              0.5555555555555556,
              "#d8576b"
             ],
             [
              0.6666666666666666,
              "#ed7953"
             ],
             [
              0.7777777777777778,
              "#fb9f3a"
             ],
             [
              0.8888888888888888,
              "#fdca26"
             ],
             [
              1,
              "#f0f921"
             ]
            ],
            "type": "heatmap"
           }
          ],
          "heatmapgl": [
           {
            "colorbar": {
             "outlinewidth": 0,
             "ticks": ""
            },
            "colorscale": [
             [
              0,
              "#0d0887"
             ],
             [
              0.1111111111111111,
              "#46039f"
             ],
             [
              0.2222222222222222,
              "#7201a8"
             ],
             [
              0.3333333333333333,
              "#9c179e"
             ],
             [
              0.4444444444444444,
              "#bd3786"
             ],
             [
              0.5555555555555556,
              "#d8576b"
             ],
             [
              0.6666666666666666,
              "#ed7953"
             ],
             [
              0.7777777777777778,
              "#fb9f3a"
             ],
             [
              0.8888888888888888,
              "#fdca26"
             ],
             [
              1,
              "#f0f921"
             ]
            ],
            "type": "heatmapgl"
           }
          ],
          "histogram": [
           {
            "marker": {
             "pattern": {
              "fillmode": "overlay",
              "size": 10,
              "solidity": 0.2
             }
            },
            "type": "histogram"
           }
          ],
          "histogram2d": [
           {
            "colorbar": {
             "outlinewidth": 0,
             "ticks": ""
            },
            "colorscale": [
             [
              0,
              "#0d0887"
             ],
             [
              0.1111111111111111,
              "#46039f"
             ],
             [
              0.2222222222222222,
              "#7201a8"
             ],
             [
              0.3333333333333333,
              "#9c179e"
             ],
             [
              0.4444444444444444,
              "#bd3786"
             ],
             [
              0.5555555555555556,
              "#d8576b"
             ],
             [
              0.6666666666666666,
              "#ed7953"
             ],
             [
              0.7777777777777778,
              "#fb9f3a"
             ],
             [
              0.8888888888888888,
              "#fdca26"
             ],
             [
              1,
              "#f0f921"
             ]
            ],
            "type": "histogram2d"
           }
          ],
          "histogram2dcontour": [
           {
            "colorbar": {
             "outlinewidth": 0,
             "ticks": ""
            },
            "colorscale": [
             [
              0,
              "#0d0887"
             ],
             [
              0.1111111111111111,
              "#46039f"
             ],
             [
              0.2222222222222222,
              "#7201a8"
             ],
             [
              0.3333333333333333,
              "#9c179e"
             ],
             [
              0.4444444444444444,
              "#bd3786"
             ],
             [
              0.5555555555555556,
              "#d8576b"
             ],
             [
              0.6666666666666666,
              "#ed7953"
             ],
             [
              0.7777777777777778,
              "#fb9f3a"
             ],
             [
              0.8888888888888888,
              "#fdca26"
             ],
             [
              1,
              "#f0f921"
             ]
            ],
            "type": "histogram2dcontour"
           }
          ],
          "mesh3d": [
           {
            "colorbar": {
             "outlinewidth": 0,
             "ticks": ""
            },
            "type": "mesh3d"
           }
          ],
          "parcoords": [
           {
            "line": {
             "colorbar": {
              "outlinewidth": 0,
              "ticks": ""
             }
            },
            "type": "parcoords"
           }
          ],
          "pie": [
           {
            "automargin": true,
            "type": "pie"
           }
          ],
          "scatter": [
           {
            "fillpattern": {
             "fillmode": "overlay",
             "size": 10,
             "solidity": 0.2
            },
            "type": "scatter"
           }
          ],
          "scatter3d": [
           {
            "line": {
             "colorbar": {
              "outlinewidth": 0,
              "ticks": ""
             }
            },
            "marker": {
             "colorbar": {
              "outlinewidth": 0,
              "ticks": ""
             }
            },
            "type": "scatter3d"
           }
          ],
          "scattercarpet": [
           {
            "marker": {
             "colorbar": {
              "outlinewidth": 0,
              "ticks": ""
             }
            },
            "type": "scattercarpet"
           }
          ],
          "scattergeo": [
           {
            "marker": {
             "colorbar": {
              "outlinewidth": 0,
              "ticks": ""
             }
            },
            "type": "scattergeo"
           }
          ],
          "scattergl": [
           {
            "marker": {
             "colorbar": {
              "outlinewidth": 0,
              "ticks": ""
             }
            },
            "type": "scattergl"
           }
          ],
          "scattermapbox": [
           {
            "marker": {
             "colorbar": {
              "outlinewidth": 0,
              "ticks": ""
             }
            },
            "type": "scattermapbox"
           }
          ],
          "scatterpolar": [
           {
            "marker": {
             "colorbar": {
              "outlinewidth": 0,
              "ticks": ""
             }
            },
            "type": "scatterpolar"
           }
          ],
          "scatterpolargl": [
           {
            "marker": {
             "colorbar": {
              "outlinewidth": 0,
              "ticks": ""
             }
            },
            "type": "scatterpolargl"
           }
          ],
          "scatterternary": [
           {
            "marker": {
             "colorbar": {
              "outlinewidth": 0,
              "ticks": ""
             }
            },
            "type": "scatterternary"
           }
          ],
          "surface": [
           {
            "colorbar": {
             "outlinewidth": 0,
             "ticks": ""
            },
            "colorscale": [
             [
              0,
              "#0d0887"
             ],
             [
              0.1111111111111111,
              "#46039f"
             ],
             [
              0.2222222222222222,
              "#7201a8"
             ],
             [
              0.3333333333333333,
              "#9c179e"
             ],
             [
              0.4444444444444444,
              "#bd3786"
             ],
             [
              0.5555555555555556,
              "#d8576b"
             ],
             [
              0.6666666666666666,
              "#ed7953"
             ],
             [
              0.7777777777777778,
              "#fb9f3a"
             ],
             [
              0.8888888888888888,
              "#fdca26"
             ],
             [
              1,
              "#f0f921"
             ]
            ],
            "type": "surface"
           }
          ],
          "table": [
           {
            "cells": {
             "fill": {
              "color": "#EBF0F8"
             },
             "line": {
              "color": "white"
             }
            },
            "header": {
             "fill": {
              "color": "#C8D4E3"
             },
             "line": {
              "color": "white"
             }
            },
            "type": "table"
           }
          ]
         },
         "layout": {
          "annotationdefaults": {
           "arrowcolor": "#2a3f5f",
           "arrowhead": 0,
           "arrowwidth": 1
          },
          "autotypenumbers": "strict",
          "coloraxis": {
           "colorbar": {
            "outlinewidth": 0,
            "ticks": ""
           }
          },
          "colorscale": {
           "diverging": [
            [
             0,
             "#8e0152"
            ],
            [
             0.1,
             "#c51b7d"
            ],
            [
             0.2,
             "#de77ae"
            ],
            [
             0.3,
             "#f1b6da"
            ],
            [
             0.4,
             "#fde0ef"
            ],
            [
             0.5,
             "#f7f7f7"
            ],
            [
             0.6,
             "#e6f5d0"
            ],
            [
             0.7,
             "#b8e186"
            ],
            [
             0.8,
             "#7fbc41"
            ],
            [
             0.9,
             "#4d9221"
            ],
            [
             1,
             "#276419"
            ]
           ],
           "sequential": [
            [
             0,
             "#0d0887"
            ],
            [
             0.1111111111111111,
             "#46039f"
            ],
            [
             0.2222222222222222,
             "#7201a8"
            ],
            [
             0.3333333333333333,
             "#9c179e"
            ],
            [
             0.4444444444444444,
             "#bd3786"
            ],
            [
             0.5555555555555556,
             "#d8576b"
            ],
            [
             0.6666666666666666,
             "#ed7953"
            ],
            [
             0.7777777777777778,
             "#fb9f3a"
            ],
            [
             0.8888888888888888,
             "#fdca26"
            ],
            [
             1,
             "#f0f921"
            ]
           ],
           "sequentialminus": [
            [
             0,
             "#0d0887"
            ],
            [
             0.1111111111111111,
             "#46039f"
            ],
            [
             0.2222222222222222,
             "#7201a8"
            ],
            [
             0.3333333333333333,
             "#9c179e"
            ],
            [
             0.4444444444444444,
             "#bd3786"
            ],
            [
             0.5555555555555556,
             "#d8576b"
            ],
            [
             0.6666666666666666,
             "#ed7953"
            ],
            [
             0.7777777777777778,
             "#fb9f3a"
            ],
            [
             0.8888888888888888,
             "#fdca26"
            ],
            [
             1,
             "#f0f921"
            ]
           ]
          },
          "colorway": [
           "#636efa",
           "#EF553B",
           "#00cc96",
           "#ab63fa",
           "#FFA15A",
           "#19d3f3",
           "#FF6692",
           "#B6E880",
           "#FF97FF",
           "#FECB52"
          ],
          "font": {
           "color": "#2a3f5f"
          },
          "geo": {
           "bgcolor": "white",
           "lakecolor": "white",
           "landcolor": "#E5ECF6",
           "showlakes": true,
           "showland": true,
           "subunitcolor": "white"
          },
          "hoverlabel": {
           "align": "left"
          },
          "hovermode": "closest",
          "mapbox": {
           "style": "light"
          },
          "paper_bgcolor": "white",
          "plot_bgcolor": "#E5ECF6",
          "polar": {
           "angularaxis": {
            "gridcolor": "white",
            "linecolor": "white",
            "ticks": ""
           },
           "bgcolor": "#E5ECF6",
           "radialaxis": {
            "gridcolor": "white",
            "linecolor": "white",
            "ticks": ""
           }
          },
          "scene": {
           "xaxis": {
            "backgroundcolor": "#E5ECF6",
            "gridcolor": "white",
            "gridwidth": 2,
            "linecolor": "white",
            "showbackground": true,
            "ticks": "",
            "zerolinecolor": "white"
           },
           "yaxis": {
            "backgroundcolor": "#E5ECF6",
            "gridcolor": "white",
            "gridwidth": 2,
            "linecolor": "white",
            "showbackground": true,
            "ticks": "",
            "zerolinecolor": "white"
           },
           "zaxis": {
            "backgroundcolor": "#E5ECF6",
            "gridcolor": "white",
            "gridwidth": 2,
            "linecolor": "white",
            "showbackground": true,
            "ticks": "",
            "zerolinecolor": "white"
           }
          },
          "shapedefaults": {
           "line": {
            "color": "#2a3f5f"
           }
          },
          "ternary": {
           "aaxis": {
            "gridcolor": "white",
            "linecolor": "white",
            "ticks": ""
           },
           "baxis": {
            "gridcolor": "white",
            "linecolor": "white",
            "ticks": ""
           },
           "bgcolor": "#E5ECF6",
           "caxis": {
            "gridcolor": "white",
            "linecolor": "white",
            "ticks": ""
           }
          },
          "title": {
           "x": 0.05
          },
          "xaxis": {
           "automargin": true,
           "gridcolor": "white",
           "linecolor": "white",
           "ticks": "",
           "title": {
            "standoff": 15
           },
           "zerolinecolor": "white",
           "zerolinewidth": 2
          },
          "yaxis": {
           "automargin": true,
           "gridcolor": "white",
           "linecolor": "white",
           "ticks": "",
           "title": {
            "standoff": 15
           },
           "zerolinecolor": "white",
           "zerolinewidth": 2
          }
         }
        },
        "xaxis": {
         "anchor": "y",
         "domain": [
          0,
          1
         ],
         "title": {
          "text": "Propriété_clean"
         }
        },
        "yaxis": {
         "anchor": "x",
         "domain": [
          0,
          1
         ],
         "title": {
          "text": "pourcent"
         }
        }
       }
      }
     },
     "metadata": {},
     "output_type": "display_data"
    }
   ],
   "source": [
    "annulations = data[data[\"statuts\"] == \"annulé\"]\n",
    "full = data\n",
    "\n",
    "\n",
    "pourcent_annulations = pd.DataFrame()\n",
    "pourcent_annulations[\"total\"] = full[full[\"periode_debut\"] == \"12-2023\"].groupby(\"Propriété_clean\").count().loc[:,\"hôtel\"]\n",
    "pourcent_annulations[\"annule\"] = annulations[annulations[\"periode_debut\"] == \"12-2023\"].groupby(\"Propriété_clean\").count().loc[:,\"hôtel\"]\n",
    "pourcent_annulations = pourcent_annulations.fillna(0)\n",
    "pourcent_annulations[\"pourcent\"] = pourcent_annulations.apply(lambda x: x.annule/x.total*100, axis = 1)\n",
    "pourcent_annulations = pourcent_annulations.sort_values(by=\"pourcent\", ascending=False)\n",
    "px.bar(pourcent_annulations, x=pourcent_annulations.index, y=\"pourcent\", color=\"pourcent\")"
   ]
  },
  {
   "cell_type": "code",
   "execution_count": 337,
   "metadata": {},
   "outputs": [
    {
     "data": {
      "text/plain": [
       "0.0"
      ]
     },
     "execution_count": 337,
     "metadata": {},
     "output_type": "execute_result"
    }
   ],
   "source": [
    "pourcent_annulations[\"annule\"].sum()"
   ]
  },
  {
   "cell_type": "code",
   "execution_count": null,
   "metadata": {},
   "outputs": [],
   "source": []
  }
 ],
 "metadata": {
  "kernelspec": {
   "display_name": "qualiextra",
   "language": "python",
   "name": "python3"
  },
  "language_info": {
   "codemirror_mode": {
    "name": "ipython",
    "version": 3
   },
   "file_extension": ".py",
   "mimetype": "text/x-python",
   "name": "python",
   "nbconvert_exporter": "python",
   "pygments_lexer": "ipython3",
   "version": "3.12.0"
  }
 },
 "nbformat": 4,
 "nbformat_minor": 2
}
