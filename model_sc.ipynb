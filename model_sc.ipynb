{
 "cells": [
  {
   "cell_type": "code",
   "execution_count": 1,
   "metadata": {},
   "outputs": [],
   "source": [
    "## MLFLOW_TRACKING_URI='https://qualiextra-project-6b29e931dd67.herokuapp.com/'"
   ]
  },
  {
   "cell_type": "code",
   "execution_count": 3,
   "metadata": {},
   "outputs": [],
   "source": [
    "import pandas as pd\n",
    "import datetime\n",
    "import numpy as np\n",
    "from plotly.subplots import make_subplots\n",
    "from prophet import Prophet\n",
    "from datetime import datetime\n",
    "\n",
    "import pandas as pd\n",
    "from tensorflow.keras.models import Sequential\n",
    "from tensorflow.keras.layers import LSTM, Dense\n",
    "from sklearn.metrics import mean_squared_error\n",
    "import matplotlib.pyplot as plt\n",
    "from sklearn.metrics import mean_squared_error,  mean_absolute_error, mean_absolute_percentage_error\n",
    "\n",
    "\n",
    "from sklearn.model_selection import train_test_split\n",
    "from sklearn.impute import SimpleImputer\n",
    "from sklearn.preprocessing import  OneHotEncoder, StandardScaler\n",
    "from sklearn.compose import ColumnTransformer\n",
    "from sklearn.linear_model import LogisticRegression\n",
    "from sklearn.metrics import f1_score, confusion_matrix, ConfusionMatrixDisplay, classification_report\n",
    "from sklearn.model_selection import cross_val_score, GridSearchCV\n",
    "from sklearn.linear_model import Ridge\n",
    "from sklearn.linear_model import Lasso\n",
    "import matplotlib.pyplot as plt\n",
    "from sklearn.tree import DecisionTreeClassifier\n",
    "from xgboost import XGBClassifier\n",
    "import plotly.express as px\n",
    "import plotly.graph_objects as go\n",
    "import plotly.io as pio\n",
    "from sklearn.svm import SVC\n",
    "from sklearn.ensemble import RandomForestClassifier\n",
    "from sklearn.ensemble import RandomForestClassifier, BaggingClassifier, AdaBoostClassifier, GradientBoostingClassifier, VotingClassifier, StackingClassifier"
   ]
  },
  {
   "cell_type": "code",
   "execution_count": 4,
   "metadata": {},
   "outputs": [],
   "source": [
    "data = pd.read_csv(\"./Missions.csv\", sep=';')"
   ]
  },
  {
   "cell_type": "code",
   "execution_count": 17,
   "metadata": {},
   "outputs": [],
   "source": [
    "data = pd.read_csv(\"./Missions.csv\", sep=\";\")\n",
    "mask = data[\"hôtel\"].notna()\n",
    "data = data[mask]\n",
    "data[\"date_debut\"] = data.apply(lambda x: x[\"date\"].split(\" →\")[0], axis=1)\n",
    "data[\"date_debut\"] = data[\"date_debut\"].apply(lambda x: x.replace(\" (UTC+3)\", \"\"))\n",
    "data[\"date_debut\"] = data[\"date_debut\"].apply(lambda x: x.replace(\" (UTC)\", \"\"))\n",
    "data[\"date_debut\"] = pd.to_datetime(data[\"date_debut\"], format=\"%d/%m/%Y %H:%M\")\n",
    "data[\"time_delta\"] = data[\"nbre d'heures\"].apply(lambda x: pd.to_timedelta(x))\n",
    "data[\"date_fin\"] = data.apply(lambda x: x[\"date_debut\"] + x[\"time_delta\"], axis=1)\n",
    "data[\"Propriété\"] = data.apply(\n",
    "    lambda x: x[\"hôtel\"].split(\" (\")[0] if \"www\" in x[\"Propriété\"] else x,\n",
    "    axis=1,\n",
    ")[\"Propriété\"]\n",
    "data[\"Propriété_clean\"] = data[\"hôtel\"].apply(lambda x: x.split(\" (\")[0])\n",
    "data[\"extra_clean\"] = data[\"extra\"].apply(lambda x: x.split(\" (\")[0])\n",
    "data[\"periode_debut\"] = data[\"date_debut\"].dt.strftime(\"%m-%Y\")\n",
    "data[\"periode_fin\"] = data[\"date_fin\"].dt.strftime(\"%m-%Y\")\n",
    "data[\"Année\"] = data[\"date_fin\"].dt.year.astype(str)\n",
    "data[\"Mois\"] = data[\"date_fin\"].dt.to_period(\"M\").astype(str)\n",
    "data[\"Semaine\"] = data[\"date_fin\"].dt.to_period(\"W-Mon\").astype(str)\n",
    "data[\"marge\"] = data.apply(lambda x: x[\"total HT\"] - x[\"montant HT\"], axis=1)\n",
    "data[\"mois\"] = data[\"date_fin\"].dt.strftime(\"%B\")\n",
    "data[\"Jour\"] = data[\"date_fin\"].dt.to_period(\"D\").astype(str)\n",
    "data[\"statuts\"] = data[\"statuts\"].fillna(\"standard\")\n",
    "data[\"mois\"] = pd.Categorical(\n",
    "        data[\"mois\"],\n",
    "        categories=[\n",
    "            \"January\",\n",
    "            \"February\",\n",
    "            \"March\",\n",
    "            \"April\",\n",
    "            \"May\",\n",
    "            \"June\",\n",
    "            \"July\",\n",
    "            \"August\",\n",
    "            \"September\",\n",
    "            \"October\",\n",
    "            \"November\",\n",
    "            \"December\",\n",
    "        ],\n",
    "        ordered=True,)\n",
    "\n",
    "def format_currency(value):\n",
    "    return f\"{value:,} €\""
   ]
  },
  {
   "cell_type": "code",
   "execution_count": 18,
   "metadata": {},
   "outputs": [],
   "source": [
    "data[\"Mois2\"] = pd.to_datetime(data[\"date_fin\"],format='%m').dt.to_period('M')\n"
   ]
  },
  {
   "cell_type": "code",
   "execution_count": 19,
   "metadata": {},
   "outputs": [
    {
     "name": "stdout",
     "output_type": "stream",
     "text": [
      "2023-12-01\n"
     ]
    }
   ],
   "source": [
    "aujd = datetime.now()\n",
    "mois_auj = aujd.strftime(\"%Y-%m\")\n",
    "mois_précédent = (\n",
    "    aujd.now()\n",
    "    .replace(month=aujd.month - 1)\n",
    "    .strftime(\"%Y-%m\")\n",
    ")\n",
    "print(aujd.replace(day=1).strftime(\"%Y-%m-%d\"))"
   ]
  },
  {
   "cell_type": "code",
   "execution_count": 20,
   "metadata": {},
   "outputs": [
    {
     "name": "stderr",
     "output_type": "stream",
     "text": [
      "/var/folders/83/w7lxc5zn2gl73gq3cml70sy80000gn/T/ipykernel_49550/2781836616.py:1: FutureWarning: The default of observed=False is deprecated and will be changed to True in a future version of pandas. Pass observed=False to retain current behavior or observed=True to adopt the future default and silence this warning.\n",
      "  data_grouby_CA = data.groupby([\"mois\", \"Année\"])[\"total HT\"].sum().reset_index()\n"
     ]
    },
    {
     "data": {
      "application/vnd.plotly.v1+json": {
       "config": {
        "plotlyServerURL": "https://plot.ly"
       },
       "data": [
        {
         "hovertemplate": "Année=2022<br>Mois=%{x}<br>CA=%{y}<br>text=%{text}<extra></extra>",
         "legendgroup": "2022",
         "line": {
          "color": "#636efa",
          "dash": "solid"
         },
         "marker": {
          "symbol": "circle"
         },
         "mode": "text+markers+lines",
         "name": "2022",
         "orientation": "v",
         "showlegend": true,
         "text": [
          "16,256 €",
          "16,886 €",
          "18,728 €",
          "16,064 €",
          "21,040 €",
          "34,249 €",
          "43,597 €",
          "47,108 €",
          "33,026 €",
          "37,553 €",
          "25,854 €",
          "35,157 €"
         ],
         "textposition": "bottom center",
         "type": "scatter",
         "x": [
          "January",
          "February",
          "March",
          "April",
          "May",
          "June",
          "July",
          "August",
          "September",
          "October",
          "November",
          "December"
         ],
         "xaxis": "x",
         "y": [
          16256,
          16886,
          18728,
          16064,
          21040,
          34249,
          43597,
          47108,
          33026,
          37553,
          25854,
          35157
         ],
         "yaxis": "y"
        },
        {
         "hovertemplate": "Année=2023<br>Mois=%{x}<br>CA=%{y}<br>text=%{text}<extra></extra>",
         "legendgroup": "2023",
         "line": {
          "color": "#EF553B",
          "dash": "solid"
         },
         "marker": {
          "symbol": "circle"
         },
         "mode": "text+markers+lines",
         "name": "2023",
         "orientation": "v",
         "showlegend": true,
         "text": [
          "39,811 €",
          "40,302 €",
          "37,626 €",
          "38,719 €",
          "38,205 €",
          "46,100 €",
          "58,237 €",
          "59,895 €",
          "52,731 €",
          "45,535 €",
          "39,317 €",
          "22,399 €"
         ],
         "textposition": "bottom center",
         "type": "scatter",
         "x": [
          "January",
          "February",
          "March",
          "April",
          "May",
          "June",
          "July",
          "August",
          "September",
          "October",
          "November",
          "December"
         ],
         "xaxis": "x",
         "y": [
          39811,
          40302,
          37626,
          38719,
          38205,
          46100,
          58237,
          59895,
          52731,
          45535,
          39317,
          22399
         ],
         "yaxis": "y"
        },
        {
         "hovertemplate": "Année=2024<br>Mois=%{x}<br>CA=%{y}<br>text=%{text}<extra></extra>",
         "legendgroup": "2024",
         "line": {
          "color": "#00cc96",
          "dash": "solid"
         },
         "marker": {
          "symbol": "circle"
         },
         "mode": "text+markers+lines",
         "name": "2024",
         "orientation": "v",
         "showlegend": true,
         "text": [
          "3,154 €"
         ],
         "textposition": "bottom center",
         "type": "scatter",
         "x": [
          "January"
         ],
         "xaxis": "x",
         "y": [
          3154
         ],
         "yaxis": "y"
        },
        {
         "hovertemplate": "Année=2021<br>Mois=%{x}<br>CA=%{y}<br>text=%{text}<extra></extra>",
         "legendgroup": "2021",
         "line": {
          "color": "#ab63fa",
          "dash": "solid"
         },
         "marker": {
          "symbol": "circle"
         },
         "mode": "text+markers+lines",
         "name": "2021",
         "orientation": "v",
         "showlegend": true,
         "text": [
          "100 €",
          "13,828 €"
         ],
         "textposition": "bottom center",
         "type": "scatter",
         "x": [
          "November",
          "December"
         ],
         "xaxis": "x",
         "y": [
          100,
          13828
         ],
         "yaxis": "y"
        }
       ],
       "layout": {
        "legend": {
         "title": {
          "text": "Année"
         },
         "tracegroupgap": 0
        },
        "template": {
         "data": {
          "bar": [
           {
            "error_x": {
             "color": "#2a3f5f"
            },
            "error_y": {
             "color": "#2a3f5f"
            },
            "marker": {
             "line": {
              "color": "#E5ECF6",
              "width": 0.5
             },
             "pattern": {
              "fillmode": "overlay",
              "size": 10,
              "solidity": 0.2
             }
            },
            "type": "bar"
           }
          ],
          "barpolar": [
           {
            "marker": {
             "line": {
              "color": "#E5ECF6",
              "width": 0.5
             },
             "pattern": {
              "fillmode": "overlay",
              "size": 10,
              "solidity": 0.2
             }
            },
            "type": "barpolar"
           }
          ],
          "carpet": [
           {
            "aaxis": {
             "endlinecolor": "#2a3f5f",
             "gridcolor": "white",
             "linecolor": "white",
             "minorgridcolor": "white",
             "startlinecolor": "#2a3f5f"
            },
            "baxis": {
             "endlinecolor": "#2a3f5f",
             "gridcolor": "white",
             "linecolor": "white",
             "minorgridcolor": "white",
             "startlinecolor": "#2a3f5f"
            },
            "type": "carpet"
           }
          ],
          "choropleth": [
           {
            "colorbar": {
             "outlinewidth": 0,
             "ticks": ""
            },
            "type": "choropleth"
           }
          ],
          "contour": [
           {
            "colorbar": {
             "outlinewidth": 0,
             "ticks": ""
            },
            "colorscale": [
             [
              0,
              "#0d0887"
             ],
             [
              0.1111111111111111,
              "#46039f"
             ],
             [
              0.2222222222222222,
              "#7201a8"
             ],
             [
              0.3333333333333333,
              "#9c179e"
             ],
             [
              0.4444444444444444,
              "#bd3786"
             ],
             [
              0.5555555555555556,
              "#d8576b"
             ],
             [
              0.6666666666666666,
              "#ed7953"
             ],
             [
              0.7777777777777778,
              "#fb9f3a"
             ],
             [
              0.8888888888888888,
              "#fdca26"
             ],
             [
              1,
              "#f0f921"
             ]
            ],
            "type": "contour"
           }
          ],
          "contourcarpet": [
           {
            "colorbar": {
             "outlinewidth": 0,
             "ticks": ""
            },
            "type": "contourcarpet"
           }
          ],
          "heatmap": [
           {
            "colorbar": {
             "outlinewidth": 0,
             "ticks": ""
            },
            "colorscale": [
             [
              0,
              "#0d0887"
             ],
             [
              0.1111111111111111,
              "#46039f"
             ],
             [
              0.2222222222222222,
              "#7201a8"
             ],
             [
              0.3333333333333333,
              "#9c179e"
             ],
             [
              0.4444444444444444,
              "#bd3786"
             ],
             [
              0.5555555555555556,
              "#d8576b"
             ],
             [
              0.6666666666666666,
              "#ed7953"
             ],
             [
              0.7777777777777778,
              "#fb9f3a"
             ],
             [
              0.8888888888888888,
              "#fdca26"
             ],
             [
              1,
              "#f0f921"
             ]
            ],
            "type": "heatmap"
           }
          ],
          "heatmapgl": [
           {
            "colorbar": {
             "outlinewidth": 0,
             "ticks": ""
            },
            "colorscale": [
             [
              0,
              "#0d0887"
             ],
             [
              0.1111111111111111,
              "#46039f"
             ],
             [
              0.2222222222222222,
              "#7201a8"
             ],
             [
              0.3333333333333333,
              "#9c179e"
             ],
             [
              0.4444444444444444,
              "#bd3786"
             ],
             [
              0.5555555555555556,
              "#d8576b"
             ],
             [
              0.6666666666666666,
              "#ed7953"
             ],
             [
              0.7777777777777778,
              "#fb9f3a"
             ],
             [
              0.8888888888888888,
              "#fdca26"
             ],
             [
              1,
              "#f0f921"
             ]
            ],
            "type": "heatmapgl"
           }
          ],
          "histogram": [
           {
            "marker": {
             "pattern": {
              "fillmode": "overlay",
              "size": 10,
              "solidity": 0.2
             }
            },
            "type": "histogram"
           }
          ],
          "histogram2d": [
           {
            "colorbar": {
             "outlinewidth": 0,
             "ticks": ""
            },
            "colorscale": [
             [
              0,
              "#0d0887"
             ],
             [
              0.1111111111111111,
              "#46039f"
             ],
             [
              0.2222222222222222,
              "#7201a8"
             ],
             [
              0.3333333333333333,
              "#9c179e"
             ],
             [
              0.4444444444444444,
              "#bd3786"
             ],
             [
              0.5555555555555556,
              "#d8576b"
             ],
             [
              0.6666666666666666,
              "#ed7953"
             ],
             [
              0.7777777777777778,
              "#fb9f3a"
             ],
             [
              0.8888888888888888,
              "#fdca26"
             ],
             [
              1,
              "#f0f921"
             ]
            ],
            "type": "histogram2d"
           }
          ],
          "histogram2dcontour": [
           {
            "colorbar": {
             "outlinewidth": 0,
             "ticks": ""
            },
            "colorscale": [
             [
              0,
              "#0d0887"
             ],
             [
              0.1111111111111111,
              "#46039f"
             ],
             [
              0.2222222222222222,
              "#7201a8"
             ],
             [
              0.3333333333333333,
              "#9c179e"
             ],
             [
              0.4444444444444444,
              "#bd3786"
             ],
             [
              0.5555555555555556,
              "#d8576b"
             ],
             [
              0.6666666666666666,
              "#ed7953"
             ],
             [
              0.7777777777777778,
              "#fb9f3a"
             ],
             [
              0.8888888888888888,
              "#fdca26"
             ],
             [
              1,
              "#f0f921"
             ]
            ],
            "type": "histogram2dcontour"
           }
          ],
          "mesh3d": [
           {
            "colorbar": {
             "outlinewidth": 0,
             "ticks": ""
            },
            "type": "mesh3d"
           }
          ],
          "parcoords": [
           {
            "line": {
             "colorbar": {
              "outlinewidth": 0,
              "ticks": ""
             }
            },
            "type": "parcoords"
           }
          ],
          "pie": [
           {
            "automargin": true,
            "type": "pie"
           }
          ],
          "scatter": [
           {
            "fillpattern": {
             "fillmode": "overlay",
             "size": 10,
             "solidity": 0.2
            },
            "type": "scatter"
           }
          ],
          "scatter3d": [
           {
            "line": {
             "colorbar": {
              "outlinewidth": 0,
              "ticks": ""
             }
            },
            "marker": {
             "colorbar": {
              "outlinewidth": 0,
              "ticks": ""
             }
            },
            "type": "scatter3d"
           }
          ],
          "scattercarpet": [
           {
            "marker": {
             "colorbar": {
              "outlinewidth": 0,
              "ticks": ""
             }
            },
            "type": "scattercarpet"
           }
          ],
          "scattergeo": [
           {
            "marker": {
             "colorbar": {
              "outlinewidth": 0,
              "ticks": ""
             }
            },
            "type": "scattergeo"
           }
          ],
          "scattergl": [
           {
            "marker": {
             "colorbar": {
              "outlinewidth": 0,
              "ticks": ""
             }
            },
            "type": "scattergl"
           }
          ],
          "scattermapbox": [
           {
            "marker": {
             "colorbar": {
              "outlinewidth": 0,
              "ticks": ""
             }
            },
            "type": "scattermapbox"
           }
          ],
          "scatterpolar": [
           {
            "marker": {
             "colorbar": {
              "outlinewidth": 0,
              "ticks": ""
             }
            },
            "type": "scatterpolar"
           }
          ],
          "scatterpolargl": [
           {
            "marker": {
             "colorbar": {
              "outlinewidth": 0,
              "ticks": ""
             }
            },
            "type": "scatterpolargl"
           }
          ],
          "scatterternary": [
           {
            "marker": {
             "colorbar": {
              "outlinewidth": 0,
              "ticks": ""
             }
            },
            "type": "scatterternary"
           }
          ],
          "surface": [
           {
            "colorbar": {
             "outlinewidth": 0,
             "ticks": ""
            },
            "colorscale": [
             [
              0,
              "#0d0887"
             ],
             [
              0.1111111111111111,
              "#46039f"
             ],
             [
              0.2222222222222222,
              "#7201a8"
             ],
             [
              0.3333333333333333,
              "#9c179e"
             ],
             [
              0.4444444444444444,
              "#bd3786"
             ],
             [
              0.5555555555555556,
              "#d8576b"
             ],
             [
              0.6666666666666666,
              "#ed7953"
             ],
             [
              0.7777777777777778,
              "#fb9f3a"
             ],
             [
              0.8888888888888888,
              "#fdca26"
             ],
             [
              1,
              "#f0f921"
             ]
            ],
            "type": "surface"
           }
          ],
          "table": [
           {
            "cells": {
             "fill": {
              "color": "#EBF0F8"
             },
             "line": {
              "color": "white"
             }
            },
            "header": {
             "fill": {
              "color": "#C8D4E3"
             },
             "line": {
              "color": "white"
             }
            },
            "type": "table"
           }
          ]
         },
         "layout": {
          "annotationdefaults": {
           "arrowcolor": "#2a3f5f",
           "arrowhead": 0,
           "arrowwidth": 1
          },
          "autotypenumbers": "strict",
          "coloraxis": {
           "colorbar": {
            "outlinewidth": 0,
            "ticks": ""
           }
          },
          "colorscale": {
           "diverging": [
            [
             0,
             "#8e0152"
            ],
            [
             0.1,
             "#c51b7d"
            ],
            [
             0.2,
             "#de77ae"
            ],
            [
             0.3,
             "#f1b6da"
            ],
            [
             0.4,
             "#fde0ef"
            ],
            [
             0.5,
             "#f7f7f7"
            ],
            [
             0.6,
             "#e6f5d0"
            ],
            [
             0.7,
             "#b8e186"
            ],
            [
             0.8,
             "#7fbc41"
            ],
            [
             0.9,
             "#4d9221"
            ],
            [
             1,
             "#276419"
            ]
           ],
           "sequential": [
            [
             0,
             "#0d0887"
            ],
            [
             0.1111111111111111,
             "#46039f"
            ],
            [
             0.2222222222222222,
             "#7201a8"
            ],
            [
             0.3333333333333333,
             "#9c179e"
            ],
            [
             0.4444444444444444,
             "#bd3786"
            ],
            [
             0.5555555555555556,
             "#d8576b"
            ],
            [
             0.6666666666666666,
             "#ed7953"
            ],
            [
             0.7777777777777778,
             "#fb9f3a"
            ],
            [
             0.8888888888888888,
             "#fdca26"
            ],
            [
             1,
             "#f0f921"
            ]
           ],
           "sequentialminus": [
            [
             0,
             "#0d0887"
            ],
            [
             0.1111111111111111,
             "#46039f"
            ],
            [
             0.2222222222222222,
             "#7201a8"
            ],
            [
             0.3333333333333333,
             "#9c179e"
            ],
            [
             0.4444444444444444,
             "#bd3786"
            ],
            [
             0.5555555555555556,
             "#d8576b"
            ],
            [
             0.6666666666666666,
             "#ed7953"
            ],
            [
             0.7777777777777778,
             "#fb9f3a"
            ],
            [
             0.8888888888888888,
             "#fdca26"
            ],
            [
             1,
             "#f0f921"
            ]
           ]
          },
          "colorway": [
           "#636efa",
           "#EF553B",
           "#00cc96",
           "#ab63fa",
           "#FFA15A",
           "#19d3f3",
           "#FF6692",
           "#B6E880",
           "#FF97FF",
           "#FECB52"
          ],
          "font": {
           "color": "#2a3f5f"
          },
          "geo": {
           "bgcolor": "white",
           "lakecolor": "white",
           "landcolor": "#E5ECF6",
           "showlakes": true,
           "showland": true,
           "subunitcolor": "white"
          },
          "hoverlabel": {
           "align": "left"
          },
          "hovermode": "closest",
          "mapbox": {
           "style": "light"
          },
          "paper_bgcolor": "white",
          "plot_bgcolor": "#E5ECF6",
          "polar": {
           "angularaxis": {
            "gridcolor": "white",
            "linecolor": "white",
            "ticks": ""
           },
           "bgcolor": "#E5ECF6",
           "radialaxis": {
            "gridcolor": "white",
            "linecolor": "white",
            "ticks": ""
           }
          },
          "scene": {
           "xaxis": {
            "backgroundcolor": "#E5ECF6",
            "gridcolor": "white",
            "gridwidth": 2,
            "linecolor": "white",
            "showbackground": true,
            "ticks": "",
            "zerolinecolor": "white"
           },
           "yaxis": {
            "backgroundcolor": "#E5ECF6",
            "gridcolor": "white",
            "gridwidth": 2,
            "linecolor": "white",
            "showbackground": true,
            "ticks": "",
            "zerolinecolor": "white"
           },
           "zaxis": {
            "backgroundcolor": "#E5ECF6",
            "gridcolor": "white",
            "gridwidth": 2,
            "linecolor": "white",
            "showbackground": true,
            "ticks": "",
            "zerolinecolor": "white"
           }
          },
          "shapedefaults": {
           "line": {
            "color": "#2a3f5f"
           }
          },
          "ternary": {
           "aaxis": {
            "gridcolor": "white",
            "linecolor": "white",
            "ticks": ""
           },
           "baxis": {
            "gridcolor": "white",
            "linecolor": "white",
            "ticks": ""
           },
           "bgcolor": "#E5ECF6",
           "caxis": {
            "gridcolor": "white",
            "linecolor": "white",
            "ticks": ""
           }
          },
          "title": {
           "x": 0.05
          },
          "xaxis": {
           "automargin": true,
           "gridcolor": "white",
           "linecolor": "white",
           "ticks": "",
           "title": {
            "standoff": 15
           },
           "zerolinecolor": "white",
           "zerolinewidth": 2
          },
          "yaxis": {
           "automargin": true,
           "gridcolor": "white",
           "linecolor": "white",
           "ticks": "",
           "title": {
            "standoff": 15
           },
           "zerolinecolor": "white",
           "zerolinewidth": 2
          }
         }
        },
        "title": {
         "text": "Évolution du chiffre d'affaires par mois"
        },
        "xaxis": {
         "anchor": "y",
         "domain": [
          0,
          1
         ],
         "title": {
          "text": "Mois"
         },
         "type": "category"
        },
        "yaxis": {
         "anchor": "x",
         "domain": [
          0,
          1
         ],
         "title": {
          "text": "Marge en k€"
         }
        }
       }
      }
     },
     "metadata": {},
     "output_type": "display_data"
    }
   ],
   "source": [
    "data_grouby_CA = data.groupby([\"mois\", \"Année\"])[\"total HT\"].sum().reset_index()\n",
    "mask = data_grouby_CA[\"total HT\"] != 0\n",
    "data_grouby_CA = data_grouby_CA[mask]\n",
    "\n",
    "fig = px.line(\n",
    "    data_grouby_CA,\n",
    "    x=\"mois\",\n",
    "    y=\"total HT\",\n",
    "    color=\"Année\",\n",
    "    text=data_grouby_CA[\"total HT\"].map(format_currency),\n",
    "    labels={\"total HT\": \"CA\", \"mois\": \"Mois\"},\n",
    "    title=\"Évolution du chiffre d'affaires par mois\",\n",
    "    )\n",
    "\n",
    "# Mise en forme du graphique\n",
    "fig.update_traces(textposition=\"bottom center\")\n",
    "fig.update_xaxes(type=\"category\")\n",
    "fig.update_yaxes(title_text=\"CA en k€\")"
   ]
  },
  {
   "cell_type": "code",
   "execution_count": null,
   "metadata": {},
   "outputs": [],
   "source": []
  },
  {
   "cell_type": "code",
   "execution_count": null,
   "metadata": {},
   "outputs": [],
   "source": []
  },
  {
   "cell_type": "code",
   "execution_count": null,
   "metadata": {},
   "outputs": [],
   "source": []
  },
  {
   "cell_type": "code",
   "execution_count": null,
   "metadata": {},
   "outputs": [],
   "source": []
  },
  {
   "cell_type": "code",
   "execution_count": 15,
   "metadata": {},
   "outputs": [],
   "source": [
    "premier_jour_du_mois =  aujd.replace(day=1).strftime(\"%Y-%m-%d\")\n",
    "mask = (data['Jour']<= aujd.strftime(\"%Y-%m-%d\")) & (data['Jour']>= premier_jour_du_mois)\n",
    "data_month_to_date  = data[mask]"
   ]
  },
  {
   "cell_type": "code",
   "execution_count": 16,
   "metadata": {},
   "outputs": [
    {
     "data": {
      "text/html": [
       "<div>\n",
       "<style scoped>\n",
       "    .dataframe tbody tr th:only-of-type {\n",
       "        vertical-align: middle;\n",
       "    }\n",
       "\n",
       "    .dataframe tbody tr th {\n",
       "        vertical-align: top;\n",
       "    }\n",
       "\n",
       "    .dataframe thead th {\n",
       "        text-align: right;\n",
       "    }\n",
       "</style>\n",
       "<table border=\"1\" class=\"dataframe\">\n",
       "  <thead>\n",
       "    <tr style=\"text-align: right;\">\n",
       "      <th></th>\n",
       "      <th>Propriété</th>\n",
       "      <th>hôtel</th>\n",
       "      <th>extra</th>\n",
       "      <th>date</th>\n",
       "      <th>statuts</th>\n",
       "      <th>tarif urgence</th>\n",
       "      <th>tarif horaire</th>\n",
       "      <th>nbre d'heures</th>\n",
       "      <th>total HT</th>\n",
       "      <th>facture</th>\n",
       "      <th>...</th>\n",
       "      <th>extra_clean</th>\n",
       "      <th>periode_debut</th>\n",
       "      <th>periode_fin</th>\n",
       "      <th>Année</th>\n",
       "      <th>Mois</th>\n",
       "      <th>Semaine</th>\n",
       "      <th>marge</th>\n",
       "      <th>mois</th>\n",
       "      <th>Jour</th>\n",
       "      <th>Mois2</th>\n",
       "    </tr>\n",
       "  </thead>\n",
       "  <tbody>\n",
       "    <tr>\n",
       "      <th>108</th>\n",
       "      <td>Milie rose</td>\n",
       "      <td>Milie Rose (https://www.notion.so/Milie-Rose-0...</td>\n",
       "      <td>Mamadou Koma (https://www.notion.so/Mamadou-Ko...</td>\n",
       "      <td>03/12/2023 22:30 → 04/12/2023 8:00</td>\n",
       "      <td>standard</td>\n",
       "      <td>NaN</td>\n",
       "      <td>20.0</td>\n",
       "      <td>9hr 30min</td>\n",
       "      <td>180</td>\n",
       "      <td>NaN</td>\n",
       "      <td>...</td>\n",
       "      <td>Mamadou Koma</td>\n",
       "      <td>12-2023</td>\n",
       "      <td>12-2023</td>\n",
       "      <td>2023</td>\n",
       "      <td>2023-12</td>\n",
       "      <td>2023-11-28/2023-12-04</td>\n",
       "      <td>45</td>\n",
       "      <td>December</td>\n",
       "      <td>2023-12-04</td>\n",
       "      <td>2023-12</td>\n",
       "    </tr>\n",
       "    <tr>\n",
       "      <th>109</th>\n",
       "      <td>Ibis Montparnasse</td>\n",
       "      <td>Ibis Montparnasse (https://www.notion.so/Ibis-...</td>\n",
       "      <td>Haissam Baghdadi (https://www.notion.so/Haissa...</td>\n",
       "      <td>03/12/2023 21:30 → 04/12/2023 7:30</td>\n",
       "      <td>standard</td>\n",
       "      <td>NaN</td>\n",
       "      <td>20.0</td>\n",
       "      <td>10hr 0min</td>\n",
       "      <td>200</td>\n",
       "      <td>NaN</td>\n",
       "      <td>...</td>\n",
       "      <td>Haissam Baghdadi</td>\n",
       "      <td>12-2023</td>\n",
       "      <td>12-2023</td>\n",
       "      <td>2023</td>\n",
       "      <td>2023-12</td>\n",
       "      <td>2023-11-28/2023-12-04</td>\n",
       "      <td>50</td>\n",
       "      <td>December</td>\n",
       "      <td>2023-12-04</td>\n",
       "      <td>2023-12</td>\n",
       "    </tr>\n",
       "    <tr>\n",
       "      <th>110</th>\n",
       "      <td>Les 2 girafes</td>\n",
       "      <td>Les Deux Girafes (https://www.notion.so/Les-De...</td>\n",
       "      <td>Thomas Guignard (https://www.notion.so/Thomas-...</td>\n",
       "      <td>03/12/2023 20:00 → 04/12/2023 8:00</td>\n",
       "      <td>standard</td>\n",
       "      <td>NaN</td>\n",
       "      <td>20.0</td>\n",
       "      <td>12hr 0min</td>\n",
       "      <td>240</td>\n",
       "      <td>NaN</td>\n",
       "      <td>...</td>\n",
       "      <td>Thomas Guignard</td>\n",
       "      <td>12-2023</td>\n",
       "      <td>12-2023</td>\n",
       "      <td>2023</td>\n",
       "      <td>2023-12</td>\n",
       "      <td>2023-11-28/2023-12-04</td>\n",
       "      <td>60</td>\n",
       "      <td>December</td>\n",
       "      <td>2023-12-04</td>\n",
       "      <td>2023-12</td>\n",
       "    </tr>\n",
       "    <tr>\n",
       "      <th>111</th>\n",
       "      <td>Milie rose</td>\n",
       "      <td>Milie Rose (https://www.notion.so/Milie-Rose-0...</td>\n",
       "      <td>Brian Cruman (https://www.notion.so/Brian-Crum...</td>\n",
       "      <td>02/12/2023 22:30 → 03/12/2023 8:00</td>\n",
       "      <td>standard</td>\n",
       "      <td>NaN</td>\n",
       "      <td>20.0</td>\n",
       "      <td>9hr 30min</td>\n",
       "      <td>180</td>\n",
       "      <td>NaN</td>\n",
       "      <td>...</td>\n",
       "      <td>Brian Cruman</td>\n",
       "      <td>12-2023</td>\n",
       "      <td>12-2023</td>\n",
       "      <td>2023</td>\n",
       "      <td>2023-12</td>\n",
       "      <td>2023-11-28/2023-12-04</td>\n",
       "      <td>45</td>\n",
       "      <td>December</td>\n",
       "      <td>2023-12-03</td>\n",
       "      <td>2023-12</td>\n",
       "    </tr>\n",
       "    <tr>\n",
       "      <th>112</th>\n",
       "      <td>Ibis Montparnasse</td>\n",
       "      <td>Ibis Montparnasse (https://www.notion.so/Ibis-...</td>\n",
       "      <td>Haissam Baghdadi (https://www.notion.so/Haissa...</td>\n",
       "      <td>02/12/2023 21:30 → 03/12/2023 7:30</td>\n",
       "      <td>standard</td>\n",
       "      <td>NaN</td>\n",
       "      <td>20.0</td>\n",
       "      <td>10hr 0min</td>\n",
       "      <td>200</td>\n",
       "      <td>NaN</td>\n",
       "      <td>...</td>\n",
       "      <td>Haissam Baghdadi</td>\n",
       "      <td>12-2023</td>\n",
       "      <td>12-2023</td>\n",
       "      <td>2023</td>\n",
       "      <td>2023-12</td>\n",
       "      <td>2023-11-28/2023-12-04</td>\n",
       "      <td>50</td>\n",
       "      <td>December</td>\n",
       "      <td>2023-12-03</td>\n",
       "      <td>2023-12</td>\n",
       "    </tr>\n",
       "    <tr>\n",
       "      <th>113</th>\n",
       "      <td>Drawing house</td>\n",
       "      <td>Drawing House (https://www.notion.so/Drawing-H...</td>\n",
       "      <td>Mamadou Koma (https://www.notion.so/Mamadou-Ko...</td>\n",
       "      <td>02/12/2023 20:15 → 03/12/2023 7:15</td>\n",
       "      <td>standard</td>\n",
       "      <td>NaN</td>\n",
       "      <td>21.0</td>\n",
       "      <td>11hr 0min</td>\n",
       "      <td>231</td>\n",
       "      <td>NaN</td>\n",
       "      <td>...</td>\n",
       "      <td>Mamadou Koma</td>\n",
       "      <td>12-2023</td>\n",
       "      <td>12-2023</td>\n",
       "      <td>2023</td>\n",
       "      <td>2023-12</td>\n",
       "      <td>2023-11-28/2023-12-04</td>\n",
       "      <td>66</td>\n",
       "      <td>December</td>\n",
       "      <td>2023-12-03</td>\n",
       "      <td>2023-12</td>\n",
       "    </tr>\n",
       "    <tr>\n",
       "      <th>114</th>\n",
       "      <td>Imprimerie</td>\n",
       "      <td>Imprimerie (https://www.notion.so/Imprimerie-3...</td>\n",
       "      <td>Eric Da Silva (https://www.notion.so/Eric-Da-S...</td>\n",
       "      <td>02/12/2023 20:00 → 03/12/2023 8:00</td>\n",
       "      <td>standard</td>\n",
       "      <td>NaN</td>\n",
       "      <td>20.0</td>\n",
       "      <td>12hr 0min</td>\n",
       "      <td>240</td>\n",
       "      <td>NaN</td>\n",
       "      <td>...</td>\n",
       "      <td>Eric Da Silva</td>\n",
       "      <td>12-2023</td>\n",
       "      <td>12-2023</td>\n",
       "      <td>2023</td>\n",
       "      <td>2023-12</td>\n",
       "      <td>2023-11-28/2023-12-04</td>\n",
       "      <td>60</td>\n",
       "      <td>December</td>\n",
       "      <td>2023-12-03</td>\n",
       "      <td>2023-12</td>\n",
       "    </tr>\n",
       "    <tr>\n",
       "      <th>115</th>\n",
       "      <td>Les 2 girafes</td>\n",
       "      <td>Les Deux Girafes (https://www.notion.so/Les-De...</td>\n",
       "      <td>Thomas Guignard (https://www.notion.so/Thomas-...</td>\n",
       "      <td>02/12/2023 20:00 → 03/12/2023 8:00</td>\n",
       "      <td>standard</td>\n",
       "      <td>NaN</td>\n",
       "      <td>20.0</td>\n",
       "      <td>12hr 0min</td>\n",
       "      <td>240</td>\n",
       "      <td>NaN</td>\n",
       "      <td>...</td>\n",
       "      <td>Thomas Guignard</td>\n",
       "      <td>12-2023</td>\n",
       "      <td>12-2023</td>\n",
       "      <td>2023</td>\n",
       "      <td>2023-12</td>\n",
       "      <td>2023-11-28/2023-12-04</td>\n",
       "      <td>60</td>\n",
       "      <td>December</td>\n",
       "      <td>2023-12-03</td>\n",
       "      <td>2023-12</td>\n",
       "    </tr>\n",
       "    <tr>\n",
       "      <th>116</th>\n",
       "      <td>Ibis Montparnasse</td>\n",
       "      <td>Ibis Montparnasse (https://www.notion.so/Ibis-...</td>\n",
       "      <td>Alain Itoua (https://www.notion.so/Alain-Itoua...</td>\n",
       "      <td>02/12/2023 15:00 → 21:00</td>\n",
       "      <td>standard</td>\n",
       "      <td>NaN</td>\n",
       "      <td>20.0</td>\n",
       "      <td>6hr 0min</td>\n",
       "      <td>120</td>\n",
       "      <td>NaN</td>\n",
       "      <td>...</td>\n",
       "      <td>Alain Itoua</td>\n",
       "      <td>12-2023</td>\n",
       "      <td>12-2023</td>\n",
       "      <td>2023</td>\n",
       "      <td>2023-12</td>\n",
       "      <td>2023-11-28/2023-12-04</td>\n",
       "      <td>30</td>\n",
       "      <td>December</td>\n",
       "      <td>2023-12-02</td>\n",
       "      <td>2023-12</td>\n",
       "    </tr>\n",
       "    <tr>\n",
       "      <th>117</th>\n",
       "      <td>Ibis Montparnasse</td>\n",
       "      <td>Ibis Montparnasse (https://www.notion.so/Ibis-...</td>\n",
       "      <td>Sidi Fofana (https://www.notion.so/Sidi-Fofana...</td>\n",
       "      <td>02/12/2023 7:00 → 14:00</td>\n",
       "      <td>standard</td>\n",
       "      <td>NaN</td>\n",
       "      <td>20.0</td>\n",
       "      <td>7hr 0min</td>\n",
       "      <td>140</td>\n",
       "      <td>NaN</td>\n",
       "      <td>...</td>\n",
       "      <td>Sidi Fofana</td>\n",
       "      <td>12-2023</td>\n",
       "      <td>12-2023</td>\n",
       "      <td>2023</td>\n",
       "      <td>2023-12</td>\n",
       "      <td>2023-11-28/2023-12-04</td>\n",
       "      <td>35</td>\n",
       "      <td>December</td>\n",
       "      <td>2023-12-02</td>\n",
       "      <td>2023-12</td>\n",
       "    </tr>\n",
       "    <tr>\n",
       "      <th>118</th>\n",
       "      <td>Milie rose</td>\n",
       "      <td>Milie Rose (https://www.notion.so/Milie-Rose-0...</td>\n",
       "      <td>Mamadou Koma (https://www.notion.so/Mamadou-Ko...</td>\n",
       "      <td>01/12/2023 22:30 → 02/12/2023 8:00</td>\n",
       "      <td>standard</td>\n",
       "      <td>NaN</td>\n",
       "      <td>20.0</td>\n",
       "      <td>9hr 30min</td>\n",
       "      <td>180</td>\n",
       "      <td>NaN</td>\n",
       "      <td>...</td>\n",
       "      <td>Mamadou Koma</td>\n",
       "      <td>12-2023</td>\n",
       "      <td>12-2023</td>\n",
       "      <td>2023</td>\n",
       "      <td>2023-12</td>\n",
       "      <td>2023-11-28/2023-12-04</td>\n",
       "      <td>45</td>\n",
       "      <td>December</td>\n",
       "      <td>2023-12-02</td>\n",
       "      <td>2023-12</td>\n",
       "    </tr>\n",
       "    <tr>\n",
       "      <th>119</th>\n",
       "      <td>Ibis Montparnasse</td>\n",
       "      <td>Ibis Montparnasse (https://www.notion.so/Ibis-...</td>\n",
       "      <td>Haissam Baghdadi (https://www.notion.so/Haissa...</td>\n",
       "      <td>01/12/2023 21:30 → 02/12/2023 7:30</td>\n",
       "      <td>standard</td>\n",
       "      <td>NaN</td>\n",
       "      <td>20.0</td>\n",
       "      <td>10hr 0min</td>\n",
       "      <td>200</td>\n",
       "      <td>NaN</td>\n",
       "      <td>...</td>\n",
       "      <td>Haissam Baghdadi</td>\n",
       "      <td>12-2023</td>\n",
       "      <td>12-2023</td>\n",
       "      <td>2023</td>\n",
       "      <td>2023-12</td>\n",
       "      <td>2023-11-28/2023-12-04</td>\n",
       "      <td>50</td>\n",
       "      <td>December</td>\n",
       "      <td>2023-12-02</td>\n",
       "      <td>2023-12</td>\n",
       "    </tr>\n",
       "    <tr>\n",
       "      <th>120</th>\n",
       "      <td>Imprimerie</td>\n",
       "      <td>Imprimerie (https://www.notion.so/Imprimerie-3...</td>\n",
       "      <td>Eric Da Silva (https://www.notion.so/Eric-Da-S...</td>\n",
       "      <td>01/12/2023 20:00 → 02/12/2023 8:00</td>\n",
       "      <td>standard</td>\n",
       "      <td>NaN</td>\n",
       "      <td>20.0</td>\n",
       "      <td>12hr 0min</td>\n",
       "      <td>240</td>\n",
       "      <td>NaN</td>\n",
       "      <td>...</td>\n",
       "      <td>Eric Da Silva</td>\n",
       "      <td>12-2023</td>\n",
       "      <td>12-2023</td>\n",
       "      <td>2023</td>\n",
       "      <td>2023-12</td>\n",
       "      <td>2023-11-28/2023-12-04</td>\n",
       "      <td>60</td>\n",
       "      <td>December</td>\n",
       "      <td>2023-12-02</td>\n",
       "      <td>2023-12</td>\n",
       "    </tr>\n",
       "    <tr>\n",
       "      <th>121</th>\n",
       "      <td>Ibis Montparnasse</td>\n",
       "      <td>Ibis Montparnasse (https://www.notion.so/Ibis-...</td>\n",
       "      <td>Alain Itoua (https://www.notion.so/Alain-Itoua...</td>\n",
       "      <td>01/12/2023 15:00 → 21:00</td>\n",
       "      <td>standard</td>\n",
       "      <td>NaN</td>\n",
       "      <td>20.0</td>\n",
       "      <td>6hr 0min</td>\n",
       "      <td>120</td>\n",
       "      <td>NaN</td>\n",
       "      <td>...</td>\n",
       "      <td>Alain Itoua</td>\n",
       "      <td>12-2023</td>\n",
       "      <td>12-2023</td>\n",
       "      <td>2023</td>\n",
       "      <td>2023-12</td>\n",
       "      <td>2023-11-28/2023-12-04</td>\n",
       "      <td>30</td>\n",
       "      <td>December</td>\n",
       "      <td>2023-12-01</td>\n",
       "      <td>2023-12</td>\n",
       "    </tr>\n",
       "    <tr>\n",
       "      <th>123</th>\n",
       "      <td>Milie rose</td>\n",
       "      <td>Milie Rose (https://www.notion.so/Milie-Rose-0...</td>\n",
       "      <td>Mamadou Koma (https://www.notion.so/Mamadou-Ko...</td>\n",
       "      <td>30/11/2023 22:30 → 01/12/2023 8:00</td>\n",
       "      <td>standard</td>\n",
       "      <td>NaN</td>\n",
       "      <td>20.0</td>\n",
       "      <td>9hr 30min</td>\n",
       "      <td>180</td>\n",
       "      <td>NaN</td>\n",
       "      <td>...</td>\n",
       "      <td>Mamadou Koma</td>\n",
       "      <td>11-2023</td>\n",
       "      <td>12-2023</td>\n",
       "      <td>2023</td>\n",
       "      <td>2023-12</td>\n",
       "      <td>2023-11-28/2023-12-04</td>\n",
       "      <td>45</td>\n",
       "      <td>December</td>\n",
       "      <td>2023-12-01</td>\n",
       "      <td>2023-12</td>\n",
       "    </tr>\n",
       "    <tr>\n",
       "      <th>124</th>\n",
       "      <td>Ibis Montparnasse</td>\n",
       "      <td>Ibis Montparnasse (https://www.notion.so/Ibis-...</td>\n",
       "      <td>Alain Itoua (https://www.notion.so/Alain-Itoua...</td>\n",
       "      <td>30/11/2023 21:30 → 01/12/2023 7:30</td>\n",
       "      <td>standard</td>\n",
       "      <td>NaN</td>\n",
       "      <td>20.0</td>\n",
       "      <td>10hr 0min</td>\n",
       "      <td>200</td>\n",
       "      <td>NaN</td>\n",
       "      <td>...</td>\n",
       "      <td>Alain Itoua</td>\n",
       "      <td>11-2023</td>\n",
       "      <td>12-2023</td>\n",
       "      <td>2023</td>\n",
       "      <td>2023-12</td>\n",
       "      <td>2023-11-28/2023-12-04</td>\n",
       "      <td>50</td>\n",
       "      <td>December</td>\n",
       "      <td>2023-12-01</td>\n",
       "      <td>2023-12</td>\n",
       "    </tr>\n",
       "    <tr>\n",
       "      <th>125</th>\n",
       "      <td>Parisis</td>\n",
       "      <td>Parisis (https://www.notion.so/Parisis-b56a8f3...</td>\n",
       "      <td>Thomas Guignard (https://www.notion.so/Thomas-...</td>\n",
       "      <td>30/11/2023 21:00 → 01/12/2023 7:00</td>\n",
       "      <td>standard</td>\n",
       "      <td>NaN</td>\n",
       "      <td>20.0</td>\n",
       "      <td>10hr 0min</td>\n",
       "      <td>200</td>\n",
       "      <td>NaN</td>\n",
       "      <td>...</td>\n",
       "      <td>Thomas Guignard</td>\n",
       "      <td>11-2023</td>\n",
       "      <td>12-2023</td>\n",
       "      <td>2023</td>\n",
       "      <td>2023-12</td>\n",
       "      <td>2023-11-28/2023-12-04</td>\n",
       "      <td>50</td>\n",
       "      <td>December</td>\n",
       "      <td>2023-12-01</td>\n",
       "      <td>2023-12</td>\n",
       "    </tr>\n",
       "    <tr>\n",
       "      <th>126</th>\n",
       "      <td>Monte Cristo</td>\n",
       "      <td>Monte Cristo (https://www.notion.so/Monte-Cris...</td>\n",
       "      <td>Eric Da Silva (https://www.notion.so/Eric-Da-S...</td>\n",
       "      <td>30/11/2023 20:00 → 01/12/2023 8:00</td>\n",
       "      <td>standard</td>\n",
       "      <td>NaN</td>\n",
       "      <td>20.0</td>\n",
       "      <td>12hr 0min</td>\n",
       "      <td>240</td>\n",
       "      <td>NaN</td>\n",
       "      <td>...</td>\n",
       "      <td>Eric Da Silva</td>\n",
       "      <td>11-2023</td>\n",
       "      <td>12-2023</td>\n",
       "      <td>2023</td>\n",
       "      <td>2023-12</td>\n",
       "      <td>2023-11-28/2023-12-04</td>\n",
       "      <td>60</td>\n",
       "      <td>December</td>\n",
       "      <td>2023-12-01</td>\n",
       "      <td>2023-12</td>\n",
       "    </tr>\n",
       "  </tbody>\n",
       "</table>\n",
       "<p>18 rows × 27 columns</p>\n",
       "</div>"
      ],
      "text/plain": [
       "              Propriété                                              hôtel  \\\n",
       "108          Milie rose  Milie Rose (https://www.notion.so/Milie-Rose-0...   \n",
       "109  Ibis Montparnasse   Ibis Montparnasse (https://www.notion.so/Ibis-...   \n",
       "110       Les 2 girafes  Les Deux Girafes (https://www.notion.so/Les-De...   \n",
       "111          Milie rose  Milie Rose (https://www.notion.so/Milie-Rose-0...   \n",
       "112  Ibis Montparnasse   Ibis Montparnasse (https://www.notion.so/Ibis-...   \n",
       "113       Drawing house  Drawing House (https://www.notion.so/Drawing-H...   \n",
       "114         Imprimerie   Imprimerie (https://www.notion.so/Imprimerie-3...   \n",
       "115       Les 2 girafes  Les Deux Girafes (https://www.notion.so/Les-De...   \n",
       "116  Ibis Montparnasse   Ibis Montparnasse (https://www.notion.so/Ibis-...   \n",
       "117  Ibis Montparnasse   Ibis Montparnasse (https://www.notion.so/Ibis-...   \n",
       "118          Milie rose  Milie Rose (https://www.notion.so/Milie-Rose-0...   \n",
       "119  Ibis Montparnasse   Ibis Montparnasse (https://www.notion.so/Ibis-...   \n",
       "120         Imprimerie   Imprimerie (https://www.notion.so/Imprimerie-3...   \n",
       "121  Ibis Montparnasse   Ibis Montparnasse (https://www.notion.so/Ibis-...   \n",
       "123          Milie rose  Milie Rose (https://www.notion.so/Milie-Rose-0...   \n",
       "124  Ibis Montparnasse   Ibis Montparnasse (https://www.notion.so/Ibis-...   \n",
       "125            Parisis   Parisis (https://www.notion.so/Parisis-b56a8f3...   \n",
       "126       Monte Cristo   Monte Cristo (https://www.notion.so/Monte-Cris...   \n",
       "\n",
       "                                                 extra  \\\n",
       "108  Mamadou Koma (https://www.notion.so/Mamadou-Ko...   \n",
       "109  Haissam Baghdadi (https://www.notion.so/Haissa...   \n",
       "110  Thomas Guignard (https://www.notion.so/Thomas-...   \n",
       "111  Brian Cruman (https://www.notion.so/Brian-Crum...   \n",
       "112  Haissam Baghdadi (https://www.notion.so/Haissa...   \n",
       "113  Mamadou Koma (https://www.notion.so/Mamadou-Ko...   \n",
       "114  Eric Da Silva (https://www.notion.so/Eric-Da-S...   \n",
       "115  Thomas Guignard (https://www.notion.so/Thomas-...   \n",
       "116  Alain Itoua (https://www.notion.so/Alain-Itoua...   \n",
       "117  Sidi Fofana (https://www.notion.so/Sidi-Fofana...   \n",
       "118  Mamadou Koma (https://www.notion.so/Mamadou-Ko...   \n",
       "119  Haissam Baghdadi (https://www.notion.so/Haissa...   \n",
       "120  Eric Da Silva (https://www.notion.so/Eric-Da-S...   \n",
       "121  Alain Itoua (https://www.notion.so/Alain-Itoua...   \n",
       "123  Mamadou Koma (https://www.notion.so/Mamadou-Ko...   \n",
       "124  Alain Itoua (https://www.notion.so/Alain-Itoua...   \n",
       "125  Thomas Guignard (https://www.notion.so/Thomas-...   \n",
       "126  Eric Da Silva (https://www.notion.so/Eric-Da-S...   \n",
       "\n",
       "                                   date   statuts  tarif urgence  \\\n",
       "108  03/12/2023 22:30 → 04/12/2023 8:00  standard            NaN   \n",
       "109  03/12/2023 21:30 → 04/12/2023 7:30  standard            NaN   \n",
       "110  03/12/2023 20:00 → 04/12/2023 8:00  standard            NaN   \n",
       "111  02/12/2023 22:30 → 03/12/2023 8:00  standard            NaN   \n",
       "112  02/12/2023 21:30 → 03/12/2023 7:30  standard            NaN   \n",
       "113  02/12/2023 20:15 → 03/12/2023 7:15  standard            NaN   \n",
       "114  02/12/2023 20:00 → 03/12/2023 8:00  standard            NaN   \n",
       "115  02/12/2023 20:00 → 03/12/2023 8:00  standard            NaN   \n",
       "116            02/12/2023 15:00 → 21:00  standard            NaN   \n",
       "117             02/12/2023 7:00 → 14:00  standard            NaN   \n",
       "118  01/12/2023 22:30 → 02/12/2023 8:00  standard            NaN   \n",
       "119  01/12/2023 21:30 → 02/12/2023 7:30  standard            NaN   \n",
       "120  01/12/2023 20:00 → 02/12/2023 8:00  standard            NaN   \n",
       "121            01/12/2023 15:00 → 21:00  standard            NaN   \n",
       "123  30/11/2023 22:30 → 01/12/2023 8:00  standard            NaN   \n",
       "124  30/11/2023 21:30 → 01/12/2023 7:30  standard            NaN   \n",
       "125  30/11/2023 21:00 → 01/12/2023 7:00  standard            NaN   \n",
       "126  30/11/2023 20:00 → 01/12/2023 8:00  standard            NaN   \n",
       "\n",
       "     tarif horaire nbre d'heures  total HT facture  ...       extra_clean  \\\n",
       "108           20.0     9hr 30min       180     NaN  ...      Mamadou Koma   \n",
       "109           20.0     10hr 0min       200     NaN  ...  Haissam Baghdadi   \n",
       "110           20.0     12hr 0min       240     NaN  ...   Thomas Guignard   \n",
       "111           20.0     9hr 30min       180     NaN  ...      Brian Cruman   \n",
       "112           20.0     10hr 0min       200     NaN  ...  Haissam Baghdadi   \n",
       "113           21.0     11hr 0min       231     NaN  ...      Mamadou Koma   \n",
       "114           20.0     12hr 0min       240     NaN  ...     Eric Da Silva   \n",
       "115           20.0     12hr 0min       240     NaN  ...   Thomas Guignard   \n",
       "116           20.0      6hr 0min       120     NaN  ...       Alain Itoua   \n",
       "117           20.0      7hr 0min       140     NaN  ...       Sidi Fofana   \n",
       "118           20.0     9hr 30min       180     NaN  ...      Mamadou Koma   \n",
       "119           20.0     10hr 0min       200     NaN  ...  Haissam Baghdadi   \n",
       "120           20.0     12hr 0min       240     NaN  ...     Eric Da Silva   \n",
       "121           20.0      6hr 0min       120     NaN  ...       Alain Itoua   \n",
       "123           20.0     9hr 30min       180     NaN  ...      Mamadou Koma   \n",
       "124           20.0     10hr 0min       200     NaN  ...       Alain Itoua   \n",
       "125           20.0     10hr 0min       200     NaN  ...   Thomas Guignard   \n",
       "126           20.0     12hr 0min       240     NaN  ...     Eric Da Silva   \n",
       "\n",
       "     periode_debut periode_fin Année     Mois                Semaine marge  \\\n",
       "108        12-2023     12-2023  2023  2023-12  2023-11-28/2023-12-04    45   \n",
       "109        12-2023     12-2023  2023  2023-12  2023-11-28/2023-12-04    50   \n",
       "110        12-2023     12-2023  2023  2023-12  2023-11-28/2023-12-04    60   \n",
       "111        12-2023     12-2023  2023  2023-12  2023-11-28/2023-12-04    45   \n",
       "112        12-2023     12-2023  2023  2023-12  2023-11-28/2023-12-04    50   \n",
       "113        12-2023     12-2023  2023  2023-12  2023-11-28/2023-12-04    66   \n",
       "114        12-2023     12-2023  2023  2023-12  2023-11-28/2023-12-04    60   \n",
       "115        12-2023     12-2023  2023  2023-12  2023-11-28/2023-12-04    60   \n",
       "116        12-2023     12-2023  2023  2023-12  2023-11-28/2023-12-04    30   \n",
       "117        12-2023     12-2023  2023  2023-12  2023-11-28/2023-12-04    35   \n",
       "118        12-2023     12-2023  2023  2023-12  2023-11-28/2023-12-04    45   \n",
       "119        12-2023     12-2023  2023  2023-12  2023-11-28/2023-12-04    50   \n",
       "120        12-2023     12-2023  2023  2023-12  2023-11-28/2023-12-04    60   \n",
       "121        12-2023     12-2023  2023  2023-12  2023-11-28/2023-12-04    30   \n",
       "123        11-2023     12-2023  2023  2023-12  2023-11-28/2023-12-04    45   \n",
       "124        11-2023     12-2023  2023  2023-12  2023-11-28/2023-12-04    50   \n",
       "125        11-2023     12-2023  2023  2023-12  2023-11-28/2023-12-04    50   \n",
       "126        11-2023     12-2023  2023  2023-12  2023-11-28/2023-12-04    60   \n",
       "\n",
       "         mois        Jour    Mois2  \n",
       "108  December  2023-12-04  2023-12  \n",
       "109  December  2023-12-04  2023-12  \n",
       "110  December  2023-12-04  2023-12  \n",
       "111  December  2023-12-03  2023-12  \n",
       "112  December  2023-12-03  2023-12  \n",
       "113  December  2023-12-03  2023-12  \n",
       "114  December  2023-12-03  2023-12  \n",
       "115  December  2023-12-03  2023-12  \n",
       "116  December  2023-12-02  2023-12  \n",
       "117  December  2023-12-02  2023-12  \n",
       "118  December  2023-12-02  2023-12  \n",
       "119  December  2023-12-02  2023-12  \n",
       "120  December  2023-12-02  2023-12  \n",
       "121  December  2023-12-01  2023-12  \n",
       "123  December  2023-12-01  2023-12  \n",
       "124  December  2023-12-01  2023-12  \n",
       "125  December  2023-12-01  2023-12  \n",
       "126  December  2023-12-01  2023-12  \n",
       "\n",
       "[18 rows x 27 columns]"
      ]
     },
     "execution_count": 16,
     "metadata": {},
     "output_type": "execute_result"
    }
   ],
   "source": [
    "data_month_to_date"
   ]
  },
  {
   "cell_type": "code",
   "execution_count": 10,
   "metadata": {},
   "outputs": [
    {
     "data": {
      "text/plain": [
       "'2024-01-07'"
      ]
     },
     "execution_count": 10,
     "metadata": {},
     "output_type": "execute_result"
    }
   ],
   "source": [
    "data[\"Jour\"][0]"
   ]
  },
  {
   "cell_type": "code",
   "execution_count": 5,
   "metadata": {},
   "outputs": [
    {
     "data": {
      "text/html": [
       "<div>\n",
       "<style scoped>\n",
       "    .dataframe tbody tr th:only-of-type {\n",
       "        vertical-align: middle;\n",
       "    }\n",
       "\n",
       "    .dataframe tbody tr th {\n",
       "        vertical-align: top;\n",
       "    }\n",
       "\n",
       "    .dataframe thead th {\n",
       "        text-align: right;\n",
       "    }\n",
       "</style>\n",
       "<table border=\"1\" class=\"dataframe\">\n",
       "  <thead>\n",
       "    <tr style=\"text-align: right;\">\n",
       "      <th></th>\n",
       "      <th>Propriété</th>\n",
       "      <th>hôtel</th>\n",
       "      <th>extra</th>\n",
       "      <th>date</th>\n",
       "      <th>statuts</th>\n",
       "      <th>tarif urgence</th>\n",
       "      <th>tarif horaire</th>\n",
       "      <th>nbre d'heures</th>\n",
       "      <th>total HT</th>\n",
       "      <th>facture</th>\n",
       "      <th>...</th>\n",
       "      <th>Propriété_clean</th>\n",
       "      <th>extra_clean</th>\n",
       "      <th>periode_debut</th>\n",
       "      <th>periode_fin</th>\n",
       "      <th>Année</th>\n",
       "      <th>Mois</th>\n",
       "      <th>Semaine</th>\n",
       "      <th>marge</th>\n",
       "      <th>mois</th>\n",
       "      <th>Jour</th>\n",
       "    </tr>\n",
       "  </thead>\n",
       "  <tbody>\n",
       "    <tr>\n",
       "      <th>0</th>\n",
       "      <td>Crystal</td>\n",
       "      <td>Crystal (https://www.notion.so/Crystal-1837fcb...</td>\n",
       "      <td>Grégory Tshimini (https://www.notion.so/Gr-gor...</td>\n",
       "      <td>07/01/2024 8:00 → 20:00</td>\n",
       "      <td>standard</td>\n",
       "      <td>NaN</td>\n",
       "      <td>21.0</td>\n",
       "      <td>12hr 0min</td>\n",
       "      <td>252</td>\n",
       "      <td>NaN</td>\n",
       "      <td>...</td>\n",
       "      <td>Crystal</td>\n",
       "      <td>Grégory Tshimini</td>\n",
       "      <td>01-2024</td>\n",
       "      <td>01-2024</td>\n",
       "      <td>2024</td>\n",
       "      <td>2024-01</td>\n",
       "      <td>2024-01-02/2024-01-08</td>\n",
       "      <td>72</td>\n",
       "      <td>January</td>\n",
       "      <td>2024-01-07</td>\n",
       "    </tr>\n",
       "    <tr>\n",
       "      <th>1</th>\n",
       "      <td>Milie rose</td>\n",
       "      <td>Milie Rose (https://www.notion.so/Milie-Rose-0...</td>\n",
       "      <td>Mamadou Koma (https://www.notion.so/Mamadou-Ko...</td>\n",
       "      <td>06/01/2024 22:30 → 07/01/2024 8:00</td>\n",
       "      <td>standard</td>\n",
       "      <td>NaN</td>\n",
       "      <td>20.0</td>\n",
       "      <td>9hr 30min</td>\n",
       "      <td>180</td>\n",
       "      <td>NaN</td>\n",
       "      <td>...</td>\n",
       "      <td>Milie Rose</td>\n",
       "      <td>Mamadou Koma</td>\n",
       "      <td>01-2024</td>\n",
       "      <td>01-2024</td>\n",
       "      <td>2024</td>\n",
       "      <td>2024-01</td>\n",
       "      <td>2024-01-02/2024-01-08</td>\n",
       "      <td>45</td>\n",
       "      <td>January</td>\n",
       "      <td>2024-01-07</td>\n",
       "    </tr>\n",
       "    <tr>\n",
       "      <th>2</th>\n",
       "      <td>Touraine</td>\n",
       "      <td>Touraine (https://www.notion.so/Touraine-df4e7...</td>\n",
       "      <td>Mohamed Belbachir (https://www.notion.so/Moham...</td>\n",
       "      <td>06/01/2024 19:30 → 07/01/2024 7:30</td>\n",
       "      <td>standard</td>\n",
       "      <td>NaN</td>\n",
       "      <td>20.0</td>\n",
       "      <td>12hr 0min</td>\n",
       "      <td>240</td>\n",
       "      <td>NaN</td>\n",
       "      <td>...</td>\n",
       "      <td>Touraine</td>\n",
       "      <td>Mohamed Belbachir</td>\n",
       "      <td>01-2024</td>\n",
       "      <td>01-2024</td>\n",
       "      <td>2024</td>\n",
       "      <td>2024-01</td>\n",
       "      <td>2024-01-02/2024-01-08</td>\n",
       "      <td>60</td>\n",
       "      <td>January</td>\n",
       "      <td>2024-01-07</td>\n",
       "    </tr>\n",
       "    <tr>\n",
       "      <th>3</th>\n",
       "      <td>Crystal</td>\n",
       "      <td>Crystal (https://www.notion.so/Crystal-1837fcb...</td>\n",
       "      <td>Grégory Tshimini (https://www.notion.so/Gr-gor...</td>\n",
       "      <td>06/01/2024 8:00 → 20:00</td>\n",
       "      <td>standard</td>\n",
       "      <td>NaN</td>\n",
       "      <td>21.0</td>\n",
       "      <td>12hr 0min</td>\n",
       "      <td>252</td>\n",
       "      <td>NaN</td>\n",
       "      <td>...</td>\n",
       "      <td>Crystal</td>\n",
       "      <td>Grégory Tshimini</td>\n",
       "      <td>01-2024</td>\n",
       "      <td>01-2024</td>\n",
       "      <td>2024</td>\n",
       "      <td>2024-01</td>\n",
       "      <td>2024-01-02/2024-01-08</td>\n",
       "      <td>72</td>\n",
       "      <td>January</td>\n",
       "      <td>2024-01-06</td>\n",
       "    </tr>\n",
       "    <tr>\n",
       "      <th>4</th>\n",
       "      <td>Milie rose</td>\n",
       "      <td>Milie Rose (https://www.notion.so/Milie-Rose-0...</td>\n",
       "      <td>Mamadou Koma (https://www.notion.so/Mamadou-Ko...</td>\n",
       "      <td>05/01/2024 22:30 → 06/01/2024 8:00</td>\n",
       "      <td>standard</td>\n",
       "      <td>NaN</td>\n",
       "      <td>20.0</td>\n",
       "      <td>9hr 30min</td>\n",
       "      <td>180</td>\n",
       "      <td>NaN</td>\n",
       "      <td>...</td>\n",
       "      <td>Milie Rose</td>\n",
       "      <td>Mamadou Koma</td>\n",
       "      <td>01-2024</td>\n",
       "      <td>01-2024</td>\n",
       "      <td>2024</td>\n",
       "      <td>2024-01</td>\n",
       "      <td>2024-01-02/2024-01-08</td>\n",
       "      <td>45</td>\n",
       "      <td>January</td>\n",
       "      <td>2024-01-06</td>\n",
       "    </tr>\n",
       "  </tbody>\n",
       "</table>\n",
       "<p>5 rows × 26 columns</p>\n",
       "</div>"
      ],
      "text/plain": [
       "    Propriété                                              hôtel  \\\n",
       "0     Crystal  Crystal (https://www.notion.so/Crystal-1837fcb...   \n",
       "1  Milie rose  Milie Rose (https://www.notion.so/Milie-Rose-0...   \n",
       "2   Touraine   Touraine (https://www.notion.so/Touraine-df4e7...   \n",
       "3     Crystal  Crystal (https://www.notion.so/Crystal-1837fcb...   \n",
       "4  Milie rose  Milie Rose (https://www.notion.so/Milie-Rose-0...   \n",
       "\n",
       "                                               extra  \\\n",
       "0  Grégory Tshimini (https://www.notion.so/Gr-gor...   \n",
       "1  Mamadou Koma (https://www.notion.so/Mamadou-Ko...   \n",
       "2  Mohamed Belbachir (https://www.notion.so/Moham...   \n",
       "3  Grégory Tshimini (https://www.notion.so/Gr-gor...   \n",
       "4  Mamadou Koma (https://www.notion.so/Mamadou-Ko...   \n",
       "\n",
       "                                 date   statuts  tarif urgence  tarif horaire  \\\n",
       "0             07/01/2024 8:00 → 20:00  standard            NaN           21.0   \n",
       "1  06/01/2024 22:30 → 07/01/2024 8:00  standard            NaN           20.0   \n",
       "2  06/01/2024 19:30 → 07/01/2024 7:30  standard            NaN           20.0   \n",
       "3             06/01/2024 8:00 → 20:00  standard            NaN           21.0   \n",
       "4  05/01/2024 22:30 → 06/01/2024 8:00  standard            NaN           20.0   \n",
       "\n",
       "  nbre d'heures  total HT facture  ... Propriété_clean        extra_clean  \\\n",
       "0     12hr 0min       252     NaN  ...         Crystal   Grégory Tshimini   \n",
       "1     9hr 30min       180     NaN  ...      Milie Rose       Mamadou Koma   \n",
       "2     12hr 0min       240     NaN  ...        Touraine  Mohamed Belbachir   \n",
       "3     12hr 0min       252     NaN  ...         Crystal   Grégory Tshimini   \n",
       "4     9hr 30min       180     NaN  ...      Milie Rose       Mamadou Koma   \n",
       "\n",
       "  periode_debut periode_fin Année     Mois                Semaine marge  \\\n",
       "0       01-2024     01-2024  2024  2024-01  2024-01-02/2024-01-08    72   \n",
       "1       01-2024     01-2024  2024  2024-01  2024-01-02/2024-01-08    45   \n",
       "2       01-2024     01-2024  2024  2024-01  2024-01-02/2024-01-08    60   \n",
       "3       01-2024     01-2024  2024  2024-01  2024-01-02/2024-01-08    72   \n",
       "4       01-2024     01-2024  2024  2024-01  2024-01-02/2024-01-08    45   \n",
       "\n",
       "      mois        Jour  \n",
       "0  January  2024-01-07  \n",
       "1  January  2024-01-07  \n",
       "2  January  2024-01-07  \n",
       "3  January  2024-01-06  \n",
       "4  January  2024-01-06  \n",
       "\n",
       "[5 rows x 26 columns]"
      ]
     },
     "execution_count": 5,
     "metadata": {},
     "output_type": "execute_result"
    }
   ],
   "source": [
    "data.head()"
   ]
  },
  {
   "cell_type": "code",
   "execution_count": 15,
   "metadata": {},
   "outputs": [
    {
     "data": {
      "text/plain": [
       "str"
      ]
     },
     "execution_count": 15,
     "metadata": {},
     "output_type": "execute_result"
    }
   ],
   "source": [
    "type(data[\"mois\"][0])"
   ]
  },
  {
   "cell_type": "code",
   "execution_count": 32,
   "metadata": {},
   "outputs": [],
   "source": [
    "data2 = data.groupby([\"mois\", \"Année\"])[\"extra_clean\"].nunique().reset_index()"
   ]
  },
  {
   "cell_type": "code",
   "execution_count": 33,
   "metadata": {},
   "outputs": [
    {
     "data": {
      "text/html": [
       "<div>\n",
       "<style scoped>\n",
       "    .dataframe tbody tr th:only-of-type {\n",
       "        vertical-align: middle;\n",
       "    }\n",
       "\n",
       "    .dataframe tbody tr th {\n",
       "        vertical-align: top;\n",
       "    }\n",
       "\n",
       "    .dataframe thead th {\n",
       "        text-align: right;\n",
       "    }\n",
       "</style>\n",
       "<table border=\"1\" class=\"dataframe\">\n",
       "  <thead>\n",
       "    <tr style=\"text-align: right;\">\n",
       "      <th></th>\n",
       "      <th>mois</th>\n",
       "      <th>Année</th>\n",
       "      <th>extra_clean</th>\n",
       "    </tr>\n",
       "  </thead>\n",
       "  <tbody>\n",
       "    <tr>\n",
       "      <th>0</th>\n",
       "      <td>01</td>\n",
       "      <td>2022</td>\n",
       "      <td>10</td>\n",
       "    </tr>\n",
       "    <tr>\n",
       "      <th>1</th>\n",
       "      <td>01</td>\n",
       "      <td>2023</td>\n",
       "      <td>28</td>\n",
       "    </tr>\n",
       "    <tr>\n",
       "      <th>2</th>\n",
       "      <td>01</td>\n",
       "      <td>2024</td>\n",
       "      <td>7</td>\n",
       "    </tr>\n",
       "    <tr>\n",
       "      <th>3</th>\n",
       "      <td>02</td>\n",
       "      <td>2022</td>\n",
       "      <td>13</td>\n",
       "    </tr>\n",
       "    <tr>\n",
       "      <th>4</th>\n",
       "      <td>02</td>\n",
       "      <td>2023</td>\n",
       "      <td>29</td>\n",
       "    </tr>\n",
       "  </tbody>\n",
       "</table>\n",
       "</div>"
      ],
      "text/plain": [
       "  mois Année  extra_clean\n",
       "0   01  2022           10\n",
       "1   01  2023           28\n",
       "2   01  2024            7\n",
       "3   02  2022           13\n",
       "4   02  2023           29"
      ]
     },
     "execution_count": 33,
     "metadata": {},
     "output_type": "execute_result"
    }
   ],
   "source": [
    "data2.head()"
   ]
  },
  {
   "cell_type": "code",
   "execution_count": 10,
   "metadata": {},
   "outputs": [
    {
     "data": {
      "text/plain": [
       "Period('2024-01', 'M')"
      ]
     },
     "execution_count": 10,
     "metadata": {},
     "output_type": "execute_result"
    }
   ],
   "source": [
    "data[\"Mois_WY\"][0]"
   ]
  },
  {
   "cell_type": "code",
   "execution_count": null,
   "metadata": {},
   "outputs": [],
   "source": []
  },
  {
   "cell_type": "code",
   "execution_count": 8,
   "metadata": {},
   "outputs": [
    {
     "data": {
      "text/html": [
       "<div>\n",
       "<style scoped>\n",
       "    .dataframe tbody tr th:only-of-type {\n",
       "        vertical-align: middle;\n",
       "    }\n",
       "\n",
       "    .dataframe tbody tr th {\n",
       "        vertical-align: top;\n",
       "    }\n",
       "\n",
       "    .dataframe thead th {\n",
       "        text-align: right;\n",
       "    }\n",
       "</style>\n",
       "<table border=\"1\" class=\"dataframe\">\n",
       "  <thead>\n",
       "    <tr style=\"text-align: right;\">\n",
       "      <th></th>\n",
       "      <th>extra</th>\n",
       "    </tr>\n",
       "    <tr>\n",
       "      <th>date</th>\n",
       "      <th></th>\n",
       "    </tr>\n",
       "  </thead>\n",
       "  <tbody>\n",
       "    <tr>\n",
       "      <th>2021-11-30</th>\n",
       "      <td>1</td>\n",
       "    </tr>\n",
       "    <tr>\n",
       "      <th>2021-12-01</th>\n",
       "      <td>1</td>\n",
       "    </tr>\n",
       "    <tr>\n",
       "      <th>2021-12-02</th>\n",
       "      <td>1</td>\n",
       "    </tr>\n",
       "    <tr>\n",
       "      <th>2021-12-03</th>\n",
       "      <td>4</td>\n",
       "    </tr>\n",
       "    <tr>\n",
       "      <th>2021-12-04</th>\n",
       "      <td>3</td>\n",
       "    </tr>\n",
       "  </tbody>\n",
       "</table>\n",
       "</div>"
      ],
      "text/plain": [
       "            extra\n",
       "date             \n",
       "2021-11-30      1\n",
       "2021-12-01      1\n",
       "2021-12-02      1\n",
       "2021-12-03      4\n",
       "2021-12-04      3"
      ]
     },
     "execution_count": 8,
     "metadata": {},
     "output_type": "execute_result"
    }
   ],
   "source": [
    "data_ts = data.groupby(\"date\")[[\"extra\"]].count()\n",
    "data_ts.head()"
   ]
  },
  {
   "cell_type": "code",
   "execution_count": 9,
   "metadata": {},
   "outputs": [
    {
     "data": {
      "application/vnd.plotly.v1+json": {
       "config": {
        "plotlyServerURL": "https://plot.ly"
       },
       "data": [
        {
         "hovertemplate": "variable=extra<br>date=%{x}<br>value=%{y}<extra></extra>",
         "legendgroup": "extra",
         "line": {
          "color": "#636efa",
          "dash": "solid"
         },
         "marker": {
          "symbol": "circle"
         },
         "mode": "lines",
         "name": "extra",
         "orientation": "v",
         "showlegend": true,
         "type": "scatter",
         "x": [
          "2021-11-30",
          "2021-12-01",
          "2021-12-02",
          "2021-12-03",
          "2021-12-04",
          "2021-12-05",
          "2021-12-06",
          "2021-12-07",
          "2021-12-08",
          "2021-12-09",
          "2021-12-10",
          "2021-12-11",
          "2021-12-12",
          "2021-12-13",
          "2021-12-14",
          "2021-12-15",
          "2021-12-16",
          "2021-12-17",
          "2021-12-18",
          "2021-12-19",
          "2021-12-20",
          "2021-12-21",
          "2021-12-22",
          "2021-12-23",
          "2021-12-24",
          "2021-12-25",
          "2021-12-26",
          "2021-12-27",
          "2021-12-28",
          "2021-12-29",
          "2021-12-30",
          "2021-12-31",
          "2022-01-01",
          "2022-01-02",
          "2022-01-03",
          "2022-01-04",
          "2022-01-05",
          "2022-01-06",
          "2022-01-07",
          "2022-01-08",
          "2022-01-09",
          "2022-01-10",
          "2022-01-11",
          "2022-01-12",
          "2022-01-13",
          "2022-01-14",
          "2022-01-15",
          "2022-01-16",
          "2022-01-17",
          "2022-01-18",
          "2022-01-19",
          "2022-01-20",
          "2022-01-21",
          "2022-01-22",
          "2022-01-23",
          "2022-01-24",
          "2022-01-25",
          "2022-01-26",
          "2022-01-27",
          "2022-01-28",
          "2022-01-29",
          "2022-01-30",
          "2022-01-31",
          "2022-02-01",
          "2022-02-02",
          "2022-02-03",
          "2022-02-04",
          "2022-02-05",
          "2022-02-06",
          "2022-02-07",
          "2022-02-08",
          "2022-02-09",
          "2022-02-10",
          "2022-02-11",
          "2022-02-12",
          "2022-02-13",
          "2022-02-14",
          "2022-02-15",
          "2022-02-16",
          "2022-02-17",
          "2022-02-18",
          "2022-02-19",
          "2022-02-20",
          "2022-02-21",
          "2022-02-22",
          "2022-02-23",
          "2022-02-24",
          "2022-02-25",
          "2022-02-26",
          "2022-02-27",
          "2022-02-28",
          "2022-03-01",
          "2022-03-02",
          "2022-03-03",
          "2022-03-04",
          "2022-03-05",
          "2022-03-06",
          "2022-03-07",
          "2022-03-08",
          "2022-03-09",
          "2022-03-10",
          "2022-03-11",
          "2022-03-12",
          "2022-03-13",
          "2022-03-14",
          "2022-03-15",
          "2022-03-16",
          "2022-03-17",
          "2022-03-18",
          "2022-03-19",
          "2022-03-20",
          "2022-03-21",
          "2022-03-22",
          "2022-03-23",
          "2022-03-24",
          "2022-03-25",
          "2022-03-26",
          "2022-03-27",
          "2022-03-28",
          "2022-03-29",
          "2022-03-30",
          "2022-03-31",
          "2022-04-01",
          "2022-04-02",
          "2022-04-03",
          "2022-04-04",
          "2022-04-05",
          "2022-04-06",
          "2022-04-07",
          "2022-04-08",
          "2022-04-09",
          "2022-04-10",
          "2022-04-11",
          "2022-04-13",
          "2022-04-14",
          "2022-04-15",
          "2022-04-16",
          "2022-04-17",
          "2022-04-18",
          "2022-04-20",
          "2022-04-21",
          "2022-04-22",
          "2022-04-23",
          "2022-04-24",
          "2022-04-25",
          "2022-04-26",
          "2022-04-27",
          "2022-04-28",
          "2022-04-29",
          "2022-04-30",
          "2022-05-01",
          "2022-05-02",
          "2022-05-03",
          "2022-05-04",
          "2022-05-05",
          "2022-05-06",
          "2022-05-07",
          "2022-05-08",
          "2022-05-09",
          "2022-05-10",
          "2022-05-11",
          "2022-05-12",
          "2022-05-13",
          "2022-05-14",
          "2022-05-15",
          "2022-05-16",
          "2022-05-17",
          "2022-05-18",
          "2022-05-19",
          "2022-05-20",
          "2022-05-21",
          "2022-05-22",
          "2022-05-23",
          "2022-05-24",
          "2022-05-25",
          "2022-05-26",
          "2022-05-27",
          "2022-05-28",
          "2022-05-29",
          "2022-05-30",
          "2022-05-31",
          "2022-06-01",
          "2022-06-02",
          "2022-06-03",
          "2022-06-04",
          "2022-06-05",
          "2022-06-06",
          "2022-06-07",
          "2022-06-08",
          "2022-06-09",
          "2022-06-10",
          "2022-06-11",
          "2022-06-12",
          "2022-06-13",
          "2022-06-14",
          "2022-06-15",
          "2022-06-16",
          "2022-06-17",
          "2022-06-18",
          "2022-06-19",
          "2022-06-20",
          "2022-06-21",
          "2022-06-22",
          "2022-06-23",
          "2022-06-24",
          "2022-06-25",
          "2022-06-26",
          "2022-06-27",
          "2022-06-28",
          "2022-06-29",
          "2022-06-30",
          "2022-07-01",
          "2022-07-02",
          "2022-07-03",
          "2022-07-04",
          "2022-07-05",
          "2022-07-06",
          "2022-07-07",
          "2022-07-08",
          "2022-07-09",
          "2022-07-10",
          "2022-07-11",
          "2022-07-12",
          "2022-07-13",
          "2022-07-14",
          "2022-07-15",
          "2022-07-16",
          "2022-07-17",
          "2022-07-18",
          "2022-07-19",
          "2022-07-20",
          "2022-07-21",
          "2022-07-22",
          "2022-07-23",
          "2022-07-24",
          "2022-07-25",
          "2022-07-26",
          "2022-07-27",
          "2022-07-28",
          "2022-07-29",
          "2022-07-30",
          "2022-07-31",
          "2022-08-01",
          "2022-08-02",
          "2022-08-03",
          "2022-08-04",
          "2022-08-05",
          "2022-08-06",
          "2022-08-07",
          "2022-08-08",
          "2022-08-09",
          "2022-08-10",
          "2022-08-11",
          "2022-08-12",
          "2022-08-13",
          "2022-08-14",
          "2022-08-15",
          "2022-08-16",
          "2022-08-17",
          "2022-08-18",
          "2022-08-19",
          "2022-08-20",
          "2022-08-21",
          "2022-08-22",
          "2022-08-23",
          "2022-08-24",
          "2022-08-25",
          "2022-08-26",
          "2022-08-27",
          "2022-08-28",
          "2022-08-29",
          "2022-08-30",
          "2022-08-31",
          "2022-09-01",
          "2022-09-02",
          "2022-09-03",
          "2022-09-04",
          "2022-09-05",
          "2022-09-06",
          "2022-09-07",
          "2022-09-08",
          "2022-09-09",
          "2022-09-10",
          "2022-09-11",
          "2022-09-12",
          "2022-09-13",
          "2022-09-14",
          "2022-09-15",
          "2022-09-16",
          "2022-09-17",
          "2022-09-18",
          "2022-09-19",
          "2022-09-20",
          "2022-09-21",
          "2022-09-22",
          "2022-09-23",
          "2022-09-24",
          "2022-09-25",
          "2022-09-26",
          "2022-09-27",
          "2022-09-28",
          "2022-09-29",
          "2022-09-30",
          "2022-10-01",
          "2022-10-02",
          "2022-10-03",
          "2022-10-04",
          "2022-10-05",
          "2022-10-06",
          "2022-10-07",
          "2022-10-08",
          "2022-10-09",
          "2022-10-10",
          "2022-10-11",
          "2022-10-12",
          "2022-10-13",
          "2022-10-14",
          "2022-10-15",
          "2022-10-16",
          "2022-10-17",
          "2022-10-18",
          "2022-10-19",
          "2022-10-20",
          "2022-10-21",
          "2022-10-22",
          "2022-10-23",
          "2022-10-24",
          "2022-10-25",
          "2022-10-26",
          "2022-10-27",
          "2022-10-28",
          "2022-10-29",
          "2022-10-30",
          "2022-10-31",
          "2022-11-01",
          "2022-11-02",
          "2022-11-03",
          "2022-11-04",
          "2022-11-05",
          "2022-11-06",
          "2022-11-07",
          "2022-11-08",
          "2022-11-09",
          "2022-11-10",
          "2022-11-11",
          "2022-11-12",
          "2022-11-13",
          "2022-11-14",
          "2022-11-15",
          "2022-11-16",
          "2022-11-17",
          "2022-11-18",
          "2022-11-19",
          "2022-11-20",
          "2022-11-21",
          "2022-11-22",
          "2022-11-23",
          "2022-11-24",
          "2022-11-25",
          "2022-11-26",
          "2022-11-27",
          "2022-11-28",
          "2022-11-29",
          "2022-11-30",
          "2022-12-01",
          "2022-12-02",
          "2022-12-03",
          "2022-12-04",
          "2022-12-05",
          "2022-12-06",
          "2022-12-07",
          "2022-12-08",
          "2022-12-09",
          "2022-12-10",
          "2022-12-11",
          "2022-12-12",
          "2022-12-13",
          "2022-12-14",
          "2022-12-15",
          "2022-12-16",
          "2022-12-17",
          "2022-12-18",
          "2022-12-19",
          "2022-12-20",
          "2022-12-21",
          "2022-12-22",
          "2022-12-23",
          "2022-12-24",
          "2022-12-25",
          "2022-12-26",
          "2022-12-27",
          "2022-12-28",
          "2022-12-29",
          "2022-12-30",
          "2022-12-31",
          "2023-01-01",
          "2023-01-02",
          "2023-01-03",
          "2023-01-04",
          "2023-01-05",
          "2023-01-06",
          "2023-01-07",
          "2023-01-08",
          "2023-01-09",
          "2023-01-10",
          "2023-01-11",
          "2023-01-12",
          "2023-01-13",
          "2023-01-14",
          "2023-01-15",
          "2023-01-16",
          "2023-01-17",
          "2023-01-18",
          "2023-01-19",
          "2023-01-20",
          "2023-01-21",
          "2023-01-22",
          "2023-01-23",
          "2023-01-24",
          "2023-01-25",
          "2023-01-26",
          "2023-01-27",
          "2023-01-28",
          "2023-01-29",
          "2023-01-30",
          "2023-01-31",
          "2023-02-01",
          "2023-02-02",
          "2023-02-03",
          "2023-02-04",
          "2023-02-05",
          "2023-02-06",
          "2023-02-07",
          "2023-02-08",
          "2023-02-09",
          "2023-02-10",
          "2023-02-11",
          "2023-02-12",
          "2023-02-13",
          "2023-02-14",
          "2023-02-15",
          "2023-02-16",
          "2023-02-17",
          "2023-02-18",
          "2023-02-19",
          "2023-02-20",
          "2023-02-21",
          "2023-02-22",
          "2023-02-23",
          "2023-02-24",
          "2023-02-25",
          "2023-02-26",
          "2023-02-27",
          "2023-02-28",
          "2023-03-01",
          "2023-03-02",
          "2023-03-03",
          "2023-03-04",
          "2023-03-05",
          "2023-03-06",
          "2023-03-07",
          "2023-03-08",
          "2023-03-09",
          "2023-03-10",
          "2023-03-11",
          "2023-03-12",
          "2023-03-13",
          "2023-03-14",
          "2023-03-15",
          "2023-03-16",
          "2023-03-17",
          "2023-03-18",
          "2023-03-19",
          "2023-03-20",
          "2023-03-21",
          "2023-03-22",
          "2023-03-23",
          "2023-03-24",
          "2023-03-25",
          "2023-03-26",
          "2023-03-27",
          "2023-03-28",
          "2023-03-29",
          "2023-03-30",
          "2023-03-31",
          "2023-04-01",
          "2023-04-02",
          "2023-04-03",
          "2023-04-04",
          "2023-04-05",
          "2023-04-06",
          "2023-04-07",
          "2023-04-08",
          "2023-04-09",
          "2023-04-10",
          "2023-04-11",
          "2023-04-12",
          "2023-04-13",
          "2023-04-14",
          "2023-04-15",
          "2023-04-16",
          "2023-04-17",
          "2023-04-18",
          "2023-04-19",
          "2023-04-20",
          "2023-04-21",
          "2023-04-22",
          "2023-04-23",
          "2023-04-24",
          "2023-04-25",
          "2023-04-26",
          "2023-04-27",
          "2023-04-28",
          "2023-04-29",
          "2023-04-30",
          "2023-05-01",
          "2023-05-02",
          "2023-05-03",
          "2023-05-04",
          "2023-05-05",
          "2023-05-06",
          "2023-05-07",
          "2023-05-08",
          "2023-05-09",
          "2023-05-10",
          "2023-05-11",
          "2023-05-12",
          "2023-05-13",
          "2023-05-14",
          "2023-05-15",
          "2023-05-16",
          "2023-05-17",
          "2023-05-18",
          "2023-05-19",
          "2023-05-20",
          "2023-05-21",
          "2023-05-22",
          "2023-05-23",
          "2023-05-24",
          "2023-05-25",
          "2023-05-26",
          "2023-05-27",
          "2023-05-28",
          "2023-05-29",
          "2023-05-30",
          "2023-05-31",
          "2023-06-01",
          "2023-06-02",
          "2023-06-03",
          "2023-06-04",
          "2023-06-05",
          "2023-06-06",
          "2023-06-07",
          "2023-06-08",
          "2023-06-09",
          "2023-06-10",
          "2023-06-11",
          "2023-06-12",
          "2023-06-13",
          "2023-06-14",
          "2023-06-15",
          "2023-06-16",
          "2023-06-17",
          "2023-06-18",
          "2023-06-19",
          "2023-06-20",
          "2023-06-21",
          "2023-06-22",
          "2023-06-23",
          "2023-06-24",
          "2023-06-25",
          "2023-06-26",
          "2023-06-27",
          "2023-06-28",
          "2023-06-29",
          "2023-06-30",
          "2023-07-01",
          "2023-07-02",
          "2023-07-03",
          "2023-07-04",
          "2023-07-05",
          "2023-07-06",
          "2023-07-07",
          "2023-07-08",
          "2023-07-09",
          "2023-07-10",
          "2023-07-11",
          "2023-07-12",
          "2023-07-13",
          "2023-07-14",
          "2023-07-15",
          "2023-07-16",
          "2023-07-17",
          "2023-07-18",
          "2023-07-19",
          "2023-07-20",
          "2023-07-21",
          "2023-07-22",
          "2023-07-23",
          "2023-07-24",
          "2023-07-25",
          "2023-07-26",
          "2023-07-27",
          "2023-07-28",
          "2023-07-29",
          "2023-07-30",
          "2023-07-31",
          "2023-08-01",
          "2023-08-02",
          "2023-08-03",
          "2023-08-04",
          "2023-08-05",
          "2023-08-06",
          "2023-08-07",
          "2023-08-08",
          "2023-08-09",
          "2023-08-10",
          "2023-08-11",
          "2023-08-12",
          "2023-08-13",
          "2023-08-14",
          "2023-08-15",
          "2023-08-16",
          "2023-08-17",
          "2023-08-18",
          "2023-08-19",
          "2023-08-20",
          "2023-08-21",
          "2023-08-22",
          "2023-08-23",
          "2023-08-24",
          "2023-08-25",
          "2023-08-26",
          "2023-08-27",
          "2023-08-28",
          "2023-08-29",
          "2023-08-30",
          "2023-08-31",
          "2023-09-01",
          "2023-09-02",
          "2023-09-03",
          "2023-09-04",
          "2023-09-05",
          "2023-09-06",
          "2023-09-07",
          "2023-09-08",
          "2023-09-09",
          "2023-09-10",
          "2023-09-11",
          "2023-09-12",
          "2023-09-13",
          "2023-09-14",
          "2023-09-15",
          "2023-09-16",
          "2023-09-17",
          "2023-09-18",
          "2023-09-19",
          "2023-09-20",
          "2023-09-21",
          "2023-09-22",
          "2023-09-23",
          "2023-09-24",
          "2023-09-25",
          "2023-09-26",
          "2023-09-27",
          "2023-09-28",
          "2023-09-29",
          "2023-09-30",
          "2023-10-01",
          "2023-10-02",
          "2023-10-03",
          "2023-10-04",
          "2023-10-05",
          "2023-10-06",
          "2023-10-07",
          "2023-10-08",
          "2023-10-09",
          "2023-10-10",
          "2023-10-11",
          "2023-10-12",
          "2023-10-13",
          "2023-10-14",
          "2023-10-15",
          "2023-10-16",
          "2023-10-17",
          "2023-10-18",
          "2023-10-19",
          "2023-10-20",
          "2023-10-21",
          "2023-10-22",
          "2023-10-23",
          "2023-10-24",
          "2023-10-25",
          "2023-10-26",
          "2023-10-27",
          "2023-10-28",
          "2023-10-29",
          "2023-10-30",
          "2023-10-31",
          "2023-11-01",
          "2023-11-02",
          "2023-11-03",
          "2023-11-04",
          "2023-11-05",
          "2023-11-06",
          "2023-11-07",
          "2023-11-08",
          "2023-11-09",
          "2023-11-10",
          "2023-11-11",
          "2023-11-12",
          "2023-11-13",
          "2023-11-14",
          "2023-11-15",
          "2023-11-16",
          "2023-11-17",
          "2023-11-18",
          "2023-11-19",
          "2023-11-20",
          "2023-11-21",
          "2023-11-22",
          "2023-11-23",
          "2023-11-24",
          "2023-11-25",
          "2023-11-26",
          "2023-11-27",
          "2023-11-28",
          "2023-11-29",
          "2023-11-30",
          "2023-12-01",
          "2023-12-02",
          "2023-12-03",
          "2023-12-04",
          "2023-12-05",
          "2023-12-06",
          "2023-12-07",
          "2023-12-08",
          "2023-12-09",
          "2023-12-10",
          "2023-12-11",
          "2023-12-12",
          "2023-12-13",
          "2023-12-14",
          "2023-12-15",
          "2023-12-16",
          "2023-12-17",
          "2023-12-18",
          "2023-12-19",
          "2023-12-20",
          "2023-12-21",
          "2023-12-22",
          "2023-12-23",
          "2023-12-24",
          "2023-12-25",
          "2023-12-26",
          "2023-12-27",
          "2023-12-28",
          "2023-12-29",
          "2023-12-30",
          "2023-12-31",
          "2024-01-02",
          "2024-01-03",
          "2024-01-04",
          "2024-01-05",
          "2024-01-06",
          "2024-01-07"
         ],
         "xaxis": "x",
         "y": [
          1,
          1,
          1,
          4,
          3,
          1,
          1,
          1,
          1,
          3,
          3,
          2,
          2,
          3,
          2,
          1,
          1,
          1,
          2,
          2,
          2,
          2,
          4,
          2,
          5,
          3,
          1,
          7,
          6,
          5,
          5,
          4,
          5,
          4,
          4,
          5,
          4,
          4,
          4,
          5,
          4,
          5,
          5,
          4,
          4,
          2,
          1,
          1,
          1,
          1,
          1,
          2,
          1,
          1,
          1,
          1,
          1,
          2,
          2,
          1,
          1,
          1,
          2,
          2,
          2,
          3,
          2,
          2,
          3,
          2,
          2,
          3,
          3,
          4,
          7,
          5,
          2,
          2,
          1,
          3,
          2,
          4,
          3,
          2,
          1,
          3,
          5,
          4,
          3,
          4,
          2,
          3,
          4,
          1,
          4,
          4,
          4,
          3,
          3,
          4,
          6,
          2,
          1,
          2,
          3,
          4,
          2,
          2,
          2,
          4,
          4,
          1,
          1,
          1,
          2,
          3,
          4,
          4,
          3,
          4,
          5,
          7,
          5,
          4,
          6,
          1,
          3,
          3,
          6,
          4,
          2,
          4,
          1,
          1,
          1,
          4,
          4,
          2,
          3,
          1,
          3,
          5,
          3,
          1,
          1,
          4,
          5,
          4,
          3,
          3,
          2,
          2,
          3,
          8,
          5,
          1,
          4,
          4,
          5,
          3,
          3,
          2,
          2,
          2,
          4,
          4,
          4,
          5,
          4,
          1,
          3,
          4,
          3,
          6,
          4,
          4,
          2,
          5,
          3,
          7,
          7,
          6,
          8,
          9,
          6,
          4,
          8,
          8,
          6,
          6,
          9,
          8,
          7,
          7,
          4,
          9,
          10,
          7,
          6,
          5,
          8,
          7,
          6,
          8,
          4,
          5,
          5,
          5,
          4,
          5,
          10,
          6,
          7,
          4,
          6,
          3,
          5,
          6,
          7,
          11,
          10,
          7,
          5,
          7,
          7,
          4,
          7,
          5,
          10,
          9,
          8,
          8,
          7,
          7,
          9,
          8,
          4,
          6,
          9,
          8,
          9,
          8,
          4,
          5,
          7,
          7,
          7,
          7,
          6,
          4,
          4,
          6,
          7,
          7,
          9,
          10,
          8,
          6,
          8,
          8,
          10,
          10,
          13,
          9,
          10,
          9,
          7,
          8,
          10,
          9,
          8,
          10,
          9,
          5,
          4,
          8,
          4,
          4,
          6,
          4,
          5,
          6,
          8,
          7,
          4,
          7,
          7,
          9,
          9,
          8,
          5,
          7,
          7,
          8,
          8,
          10,
          7,
          3,
          4,
          4,
          6,
          8,
          7,
          9,
          7,
          7,
          6,
          4,
          5,
          6,
          6,
          6,
          6,
          7,
          5,
          3,
          3,
          10,
          7,
          8,
          7,
          4,
          8,
          3,
          6,
          5,
          7,
          8,
          7,
          7,
          6,
          8,
          7,
          5,
          3,
          3,
          6,
          4,
          6,
          4,
          2,
          5,
          4,
          6,
          4,
          7,
          5,
          5,
          2,
          4,
          8,
          7,
          7,
          4,
          3,
          3,
          2,
          6,
          9,
          8,
          6,
          2,
          2,
          6,
          8,
          7,
          6,
          3,
          4,
          3,
          4,
          5,
          5,
          5,
          4,
          6,
          7,
          5,
          10,
          7,
          9,
          6,
          3,
          5,
          4,
          5,
          7,
          9,
          6,
          8,
          9,
          8,
          9,
          7,
          12,
          7,
          6,
          9,
          6,
          6,
          10,
          7,
          4,
          5,
          5,
          5,
          9,
          8,
          6,
          7,
          7,
          8,
          8,
          8,
          8,
          9,
          7,
          7,
          7,
          7,
          7,
          8,
          8,
          5,
          6,
          7,
          8,
          8,
          4,
          6,
          6,
          7,
          9,
          7,
          8,
          7,
          8,
          8,
          6,
          9,
          7,
          8,
          8,
          10,
          6,
          7,
          10,
          11,
          12,
          7,
          10,
          5,
          7,
          7,
          3,
          8,
          6,
          8,
          5,
          7,
          5,
          8,
          9,
          4,
          9,
          5,
          3,
          6,
          7,
          9,
          11,
          9,
          7,
          3,
          3,
          2,
          5,
          7,
          11,
          7,
          5,
          9,
          8,
          13,
          10,
          12,
          6,
          7,
          7,
          6,
          10,
          8,
          9,
          3,
          5,
          8,
          7,
          9,
          6,
          8,
          3,
          5,
          4,
          6,
          10,
          9,
          11,
          3,
          4,
          5,
          8,
          7,
          6,
          9,
          6,
          3,
          2,
          4,
          9,
          7,
          9,
          3,
          2,
          2,
          4,
          7,
          8,
          14,
          5,
          5,
          2,
          4,
          8,
          7,
          13,
          10,
          7,
          4,
          7,
          8,
          6,
          11,
          11,
          8,
          7,
          7,
          11,
          10,
          10,
          7,
          2,
          5,
          6,
          10,
          8,
          15,
          8,
          6,
          9,
          7,
          7,
          10,
          12,
          9,
          5,
          9,
          7,
          11,
          11,
          14,
          9,
          6,
          5,
          8,
          11,
          12,
          16,
          9,
          8,
          8,
          12,
          13,
          11,
          11,
          9,
          7,
          4,
          6,
          14,
          14,
          12,
          8,
          6,
          7,
          7,
          12,
          15,
          11,
          7,
          9,
          7,
          7,
          11,
          12,
          12,
          10,
          7,
          9,
          9,
          10,
          11,
          12,
          13,
          8,
          9,
          12,
          10,
          10,
          11,
          10,
          13,
          9,
          10,
          8,
          11,
          9,
          13,
          12,
          13,
          13,
          12,
          12,
          17,
          12,
          9,
          10,
          10,
          8,
          12,
          15,
          11,
          8,
          8,
          7,
          7,
          10,
          12,
          8,
          7,
          7,
          8,
          11,
          13,
          12,
          8,
          8,
          6,
          10,
          7,
          11,
          13,
          10,
          11,
          9,
          9,
          6,
          12,
          16,
          9,
          6,
          6,
          4,
          8,
          10,
          10,
          9,
          6,
          6,
          6,
          6,
          10,
          12,
          8,
          6,
          6,
          9,
          8,
          9,
          12,
          9,
          10,
          11,
          5,
          8,
          17,
          12,
          7,
          4,
          6,
          6,
          7,
          12,
          12,
          10,
          3,
          3,
          3,
          7,
          11,
          9,
          7,
          6,
          8,
          6,
          6,
          9,
          11,
          7,
          3,
          4,
          4,
          5,
          11,
          13,
          7,
          5,
          7,
          7,
          6,
          4,
          7,
          3,
          2,
          1,
          1,
          3,
          4,
          5,
          2,
          1,
          1,
          2,
          3,
          4,
          5,
          3,
          1,
          1,
          1,
          3,
          5,
          8,
          6,
          6,
          4,
          4,
          5,
          5,
          7,
          5,
          1,
          1,
          2,
          2,
          3,
          1
         ],
         "yaxis": "y"
        }
       ],
       "layout": {
        "legend": {
         "title": {
          "text": "variable"
         },
         "tracegroupgap": 0
        },
        "margin": {
         "t": 60
        },
        "template": {
         "data": {
          "bar": [
           {
            "error_x": {
             "color": "#2a3f5f"
            },
            "error_y": {
             "color": "#2a3f5f"
            },
            "marker": {
             "line": {
              "color": "#E5ECF6",
              "width": 0.5
             },
             "pattern": {
              "fillmode": "overlay",
              "size": 10,
              "solidity": 0.2
             }
            },
            "type": "bar"
           }
          ],
          "barpolar": [
           {
            "marker": {
             "line": {
              "color": "#E5ECF6",
              "width": 0.5
             },
             "pattern": {
              "fillmode": "overlay",
              "size": 10,
              "solidity": 0.2
             }
            },
            "type": "barpolar"
           }
          ],
          "carpet": [
           {
            "aaxis": {
             "endlinecolor": "#2a3f5f",
             "gridcolor": "white",
             "linecolor": "white",
             "minorgridcolor": "white",
             "startlinecolor": "#2a3f5f"
            },
            "baxis": {
             "endlinecolor": "#2a3f5f",
             "gridcolor": "white",
             "linecolor": "white",
             "minorgridcolor": "white",
             "startlinecolor": "#2a3f5f"
            },
            "type": "carpet"
           }
          ],
          "choropleth": [
           {
            "colorbar": {
             "outlinewidth": 0,
             "ticks": ""
            },
            "type": "choropleth"
           }
          ],
          "contour": [
           {
            "colorbar": {
             "outlinewidth": 0,
             "ticks": ""
            },
            "colorscale": [
             [
              0,
              "#0d0887"
             ],
             [
              0.1111111111111111,
              "#46039f"
             ],
             [
              0.2222222222222222,
              "#7201a8"
             ],
             [
              0.3333333333333333,
              "#9c179e"
             ],
             [
              0.4444444444444444,
              "#bd3786"
             ],
             [
              0.5555555555555556,
              "#d8576b"
             ],
             [
              0.6666666666666666,
              "#ed7953"
             ],
             [
              0.7777777777777778,
              "#fb9f3a"
             ],
             [
              0.8888888888888888,
              "#fdca26"
             ],
             [
              1,
              "#f0f921"
             ]
            ],
            "type": "contour"
           }
          ],
          "contourcarpet": [
           {
            "colorbar": {
             "outlinewidth": 0,
             "ticks": ""
            },
            "type": "contourcarpet"
           }
          ],
          "heatmap": [
           {
            "colorbar": {
             "outlinewidth": 0,
             "ticks": ""
            },
            "colorscale": [
             [
              0,
              "#0d0887"
             ],
             [
              0.1111111111111111,
              "#46039f"
             ],
             [
              0.2222222222222222,
              "#7201a8"
             ],
             [
              0.3333333333333333,
              "#9c179e"
             ],
             [
              0.4444444444444444,
              "#bd3786"
             ],
             [
              0.5555555555555556,
              "#d8576b"
             ],
             [
              0.6666666666666666,
              "#ed7953"
             ],
             [
              0.7777777777777778,
              "#fb9f3a"
             ],
             [
              0.8888888888888888,
              "#fdca26"
             ],
             [
              1,
              "#f0f921"
             ]
            ],
            "type": "heatmap"
           }
          ],
          "heatmapgl": [
           {
            "colorbar": {
             "outlinewidth": 0,
             "ticks": ""
            },
            "colorscale": [
             [
              0,
              "#0d0887"
             ],
             [
              0.1111111111111111,
              "#46039f"
             ],
             [
              0.2222222222222222,
              "#7201a8"
             ],
             [
              0.3333333333333333,
              "#9c179e"
             ],
             [
              0.4444444444444444,
              "#bd3786"
             ],
             [
              0.5555555555555556,
              "#d8576b"
             ],
             [
              0.6666666666666666,
              "#ed7953"
             ],
             [
              0.7777777777777778,
              "#fb9f3a"
             ],
             [
              0.8888888888888888,
              "#fdca26"
             ],
             [
              1,
              "#f0f921"
             ]
            ],
            "type": "heatmapgl"
           }
          ],
          "histogram": [
           {
            "marker": {
             "pattern": {
              "fillmode": "overlay",
              "size": 10,
              "solidity": 0.2
             }
            },
            "type": "histogram"
           }
          ],
          "histogram2d": [
           {
            "colorbar": {
             "outlinewidth": 0,
             "ticks": ""
            },
            "colorscale": [
             [
              0,
              "#0d0887"
             ],
             [
              0.1111111111111111,
              "#46039f"
             ],
             [
              0.2222222222222222,
              "#7201a8"
             ],
             [
              0.3333333333333333,
              "#9c179e"
             ],
             [
              0.4444444444444444,
              "#bd3786"
             ],
             [
              0.5555555555555556,
              "#d8576b"
             ],
             [
              0.6666666666666666,
              "#ed7953"
             ],
             [
              0.7777777777777778,
              "#fb9f3a"
             ],
             [
              0.8888888888888888,
              "#fdca26"
             ],
             [
              1,
              "#f0f921"
             ]
            ],
            "type": "histogram2d"
           }
          ],
          "histogram2dcontour": [
           {
            "colorbar": {
             "outlinewidth": 0,
             "ticks": ""
            },
            "colorscale": [
             [
              0,
              "#0d0887"
             ],
             [
              0.1111111111111111,
              "#46039f"
             ],
             [
              0.2222222222222222,
              "#7201a8"
             ],
             [
              0.3333333333333333,
              "#9c179e"
             ],
             [
              0.4444444444444444,
              "#bd3786"
             ],
             [
              0.5555555555555556,
              "#d8576b"
             ],
             [
              0.6666666666666666,
              "#ed7953"
             ],
             [
              0.7777777777777778,
              "#fb9f3a"
             ],
             [
              0.8888888888888888,
              "#fdca26"
             ],
             [
              1,
              "#f0f921"
             ]
            ],
            "type": "histogram2dcontour"
           }
          ],
          "mesh3d": [
           {
            "colorbar": {
             "outlinewidth": 0,
             "ticks": ""
            },
            "type": "mesh3d"
           }
          ],
          "parcoords": [
           {
            "line": {
             "colorbar": {
              "outlinewidth": 0,
              "ticks": ""
             }
            },
            "type": "parcoords"
           }
          ],
          "pie": [
           {
            "automargin": true,
            "type": "pie"
           }
          ],
          "scatter": [
           {
            "fillpattern": {
             "fillmode": "overlay",
             "size": 10,
             "solidity": 0.2
            },
            "type": "scatter"
           }
          ],
          "scatter3d": [
           {
            "line": {
             "colorbar": {
              "outlinewidth": 0,
              "ticks": ""
             }
            },
            "marker": {
             "colorbar": {
              "outlinewidth": 0,
              "ticks": ""
             }
            },
            "type": "scatter3d"
           }
          ],
          "scattercarpet": [
           {
            "marker": {
             "colorbar": {
              "outlinewidth": 0,
              "ticks": ""
             }
            },
            "type": "scattercarpet"
           }
          ],
          "scattergeo": [
           {
            "marker": {
             "colorbar": {
              "outlinewidth": 0,
              "ticks": ""
             }
            },
            "type": "scattergeo"
           }
          ],
          "scattergl": [
           {
            "marker": {
             "colorbar": {
              "outlinewidth": 0,
              "ticks": ""
             }
            },
            "type": "scattergl"
           }
          ],
          "scattermapbox": [
           {
            "marker": {
             "colorbar": {
              "outlinewidth": 0,
              "ticks": ""
             }
            },
            "type": "scattermapbox"
           }
          ],
          "scatterpolar": [
           {
            "marker": {
             "colorbar": {
              "outlinewidth": 0,
              "ticks": ""
             }
            },
            "type": "scatterpolar"
           }
          ],
          "scatterpolargl": [
           {
            "marker": {
             "colorbar": {
              "outlinewidth": 0,
              "ticks": ""
             }
            },
            "type": "scatterpolargl"
           }
          ],
          "scatterternary": [
           {
            "marker": {
             "colorbar": {
              "outlinewidth": 0,
              "ticks": ""
             }
            },
            "type": "scatterternary"
           }
          ],
          "surface": [
           {
            "colorbar": {
             "outlinewidth": 0,
             "ticks": ""
            },
            "colorscale": [
             [
              0,
              "#0d0887"
             ],
             [
              0.1111111111111111,
              "#46039f"
             ],
             [
              0.2222222222222222,
              "#7201a8"
             ],
             [
              0.3333333333333333,
              "#9c179e"
             ],
             [
              0.4444444444444444,
              "#bd3786"
             ],
             [
              0.5555555555555556,
              "#d8576b"
             ],
             [
              0.6666666666666666,
              "#ed7953"
             ],
             [
              0.7777777777777778,
              "#fb9f3a"
             ],
             [
              0.8888888888888888,
              "#fdca26"
             ],
             [
              1,
              "#f0f921"
             ]
            ],
            "type": "surface"
           }
          ],
          "table": [
           {
            "cells": {
             "fill": {
              "color": "#EBF0F8"
             },
             "line": {
              "color": "white"
             }
            },
            "header": {
             "fill": {
              "color": "#C8D4E3"
             },
             "line": {
              "color": "white"
             }
            },
            "type": "table"
           }
          ]
         },
         "layout": {
          "annotationdefaults": {
           "arrowcolor": "#2a3f5f",
           "arrowhead": 0,
           "arrowwidth": 1
          },
          "autotypenumbers": "strict",
          "coloraxis": {
           "colorbar": {
            "outlinewidth": 0,
            "ticks": ""
           }
          },
          "colorscale": {
           "diverging": [
            [
             0,
             "#8e0152"
            ],
            [
             0.1,
             "#c51b7d"
            ],
            [
             0.2,
             "#de77ae"
            ],
            [
             0.3,
             "#f1b6da"
            ],
            [
             0.4,
             "#fde0ef"
            ],
            [
             0.5,
             "#f7f7f7"
            ],
            [
             0.6,
             "#e6f5d0"
            ],
            [
             0.7,
             "#b8e186"
            ],
            [
             0.8,
             "#7fbc41"
            ],
            [
             0.9,
             "#4d9221"
            ],
            [
             1,
             "#276419"
            ]
           ],
           "sequential": [
            [
             0,
             "#0d0887"
            ],
            [
             0.1111111111111111,
             "#46039f"
            ],
            [
             0.2222222222222222,
             "#7201a8"
            ],
            [
             0.3333333333333333,
             "#9c179e"
            ],
            [
             0.4444444444444444,
             "#bd3786"
            ],
            [
             0.5555555555555556,
             "#d8576b"
            ],
            [
             0.6666666666666666,
             "#ed7953"
            ],
            [
             0.7777777777777778,
             "#fb9f3a"
            ],
            [
             0.8888888888888888,
             "#fdca26"
            ],
            [
             1,
             "#f0f921"
            ]
           ],
           "sequentialminus": [
            [
             0,
             "#0d0887"
            ],
            [
             0.1111111111111111,
             "#46039f"
            ],
            [
             0.2222222222222222,
             "#7201a8"
            ],
            [
             0.3333333333333333,
             "#9c179e"
            ],
            [
             0.4444444444444444,
             "#bd3786"
            ],
            [
             0.5555555555555556,
             "#d8576b"
            ],
            [
             0.6666666666666666,
             "#ed7953"
            ],
            [
             0.7777777777777778,
             "#fb9f3a"
            ],
            [
             0.8888888888888888,
             "#fdca26"
            ],
            [
             1,
             "#f0f921"
            ]
           ]
          },
          "colorway": [
           "#636efa",
           "#EF553B",
           "#00cc96",
           "#ab63fa",
           "#FFA15A",
           "#19d3f3",
           "#FF6692",
           "#B6E880",
           "#FF97FF",
           "#FECB52"
          ],
          "font": {
           "color": "#2a3f5f"
          },
          "geo": {
           "bgcolor": "white",
           "lakecolor": "white",
           "landcolor": "#E5ECF6",
           "showlakes": true,
           "showland": true,
           "subunitcolor": "white"
          },
          "hoverlabel": {
           "align": "left"
          },
          "hovermode": "closest",
          "mapbox": {
           "style": "light"
          },
          "paper_bgcolor": "white",
          "plot_bgcolor": "#E5ECF6",
          "polar": {
           "angularaxis": {
            "gridcolor": "white",
            "linecolor": "white",
            "ticks": ""
           },
           "bgcolor": "#E5ECF6",
           "radialaxis": {
            "gridcolor": "white",
            "linecolor": "white",
            "ticks": ""
           }
          },
          "scene": {
           "xaxis": {
            "backgroundcolor": "#E5ECF6",
            "gridcolor": "white",
            "gridwidth": 2,
            "linecolor": "white",
            "showbackground": true,
            "ticks": "",
            "zerolinecolor": "white"
           },
           "yaxis": {
            "backgroundcolor": "#E5ECF6",
            "gridcolor": "white",
            "gridwidth": 2,
            "linecolor": "white",
            "showbackground": true,
            "ticks": "",
            "zerolinecolor": "white"
           },
           "zaxis": {
            "backgroundcolor": "#E5ECF6",
            "gridcolor": "white",
            "gridwidth": 2,
            "linecolor": "white",
            "showbackground": true,
            "ticks": "",
            "zerolinecolor": "white"
           }
          },
          "shapedefaults": {
           "line": {
            "color": "#2a3f5f"
           }
          },
          "ternary": {
           "aaxis": {
            "gridcolor": "white",
            "linecolor": "white",
            "ticks": ""
           },
           "baxis": {
            "gridcolor": "white",
            "linecolor": "white",
            "ticks": ""
           },
           "bgcolor": "#E5ECF6",
           "caxis": {
            "gridcolor": "white",
            "linecolor": "white",
            "ticks": ""
           }
          },
          "title": {
           "x": 0.05
          },
          "xaxis": {
           "automargin": true,
           "gridcolor": "white",
           "linecolor": "white",
           "ticks": "",
           "title": {
            "standoff": 15
           },
           "zerolinecolor": "white",
           "zerolinewidth": 2
          },
          "yaxis": {
           "automargin": true,
           "gridcolor": "white",
           "linecolor": "white",
           "ticks": "",
           "title": {
            "standoff": 15
           },
           "zerolinecolor": "white",
           "zerolinewidth": 2
          }
         }
        },
        "xaxis": {
         "anchor": "y",
         "domain": [
          0,
          1
         ],
         "title": {
          "text": "date"
         }
        },
        "yaxis": {
         "anchor": "x",
         "domain": [
          0,
          1
         ],
         "title": {
          "text": "value"
         }
        }
       }
      }
     },
     "metadata": {},
     "output_type": "display_data"
    }
   ],
   "source": [
    "fig = px.line(data_ts)\n",
    "fig.show()"
   ]
  },
  {
   "cell_type": "code",
   "execution_count": 10,
   "metadata": {},
   "outputs": [],
   "source": [
    "split_date = datetime.strptime('2023-10-31', \"%Y-%m-%d\").date()\n",
    "data_train = data_ts.loc[data_ts.index <= split_date].copy()\n",
    "data_test = data_ts.loc[data_ts.index > split_date].copy()"
   ]
  },
  {
   "cell_type": "code",
   "execution_count": 11,
   "metadata": {},
   "outputs": [
    {
     "data": {
      "application/vnd.plotly.v1+json": {
       "config": {
        "plotlyServerURL": "https://plot.ly"
       },
       "data": [
        {
         "hovertemplate": "variable=extra<br>date=%{x}<br>value=%{y}<extra></extra>",
         "legendgroup": "extra",
         "line": {
          "color": "#636efa",
          "dash": "solid"
         },
         "marker": {
          "symbol": "circle"
         },
         "mode": "lines",
         "name": "extra",
         "orientation": "v",
         "showlegend": true,
         "type": "scatter",
         "x": [
          "2021-11-30",
          "2021-12-01",
          "2021-12-02",
          "2021-12-03",
          "2021-12-04",
          "2021-12-05",
          "2021-12-06",
          "2021-12-07",
          "2021-12-08",
          "2021-12-09",
          "2021-12-10",
          "2021-12-11",
          "2021-12-12",
          "2021-12-13",
          "2021-12-14",
          "2021-12-15",
          "2021-12-16",
          "2021-12-17",
          "2021-12-18",
          "2021-12-19",
          "2021-12-20",
          "2021-12-21",
          "2021-12-22",
          "2021-12-23",
          "2021-12-24",
          "2021-12-25",
          "2021-12-26",
          "2021-12-27",
          "2021-12-28",
          "2021-12-29",
          "2021-12-30",
          "2021-12-31",
          "2022-01-01",
          "2022-01-02",
          "2022-01-03",
          "2022-01-04",
          "2022-01-05",
          "2022-01-06",
          "2022-01-07",
          "2022-01-08",
          "2022-01-09",
          "2022-01-10",
          "2022-01-11",
          "2022-01-12",
          "2022-01-13",
          "2022-01-14",
          "2022-01-15",
          "2022-01-16",
          "2022-01-17",
          "2022-01-18",
          "2022-01-19",
          "2022-01-20",
          "2022-01-21",
          "2022-01-22",
          "2022-01-23",
          "2022-01-24",
          "2022-01-25",
          "2022-01-26",
          "2022-01-27",
          "2022-01-28",
          "2022-01-29",
          "2022-01-30",
          "2022-01-31",
          "2022-02-01",
          "2022-02-02",
          "2022-02-03",
          "2022-02-04",
          "2022-02-05",
          "2022-02-06",
          "2022-02-07",
          "2022-02-08",
          "2022-02-09",
          "2022-02-10",
          "2022-02-11",
          "2022-02-12",
          "2022-02-13",
          "2022-02-14",
          "2022-02-15",
          "2022-02-16",
          "2022-02-17",
          "2022-02-18",
          "2022-02-19",
          "2022-02-20",
          "2022-02-21",
          "2022-02-22",
          "2022-02-23",
          "2022-02-24",
          "2022-02-25",
          "2022-02-26",
          "2022-02-27",
          "2022-02-28",
          "2022-03-01",
          "2022-03-02",
          "2022-03-03",
          "2022-03-04",
          "2022-03-05",
          "2022-03-06",
          "2022-03-07",
          "2022-03-08",
          "2022-03-09",
          "2022-03-10",
          "2022-03-11",
          "2022-03-12",
          "2022-03-13",
          "2022-03-14",
          "2022-03-15",
          "2022-03-16",
          "2022-03-17",
          "2022-03-18",
          "2022-03-19",
          "2022-03-20",
          "2022-03-21",
          "2022-03-22",
          "2022-03-23",
          "2022-03-24",
          "2022-03-25",
          "2022-03-26",
          "2022-03-27",
          "2022-03-28",
          "2022-03-29",
          "2022-03-30",
          "2022-03-31",
          "2022-04-01",
          "2022-04-02",
          "2022-04-03",
          "2022-04-04",
          "2022-04-05",
          "2022-04-06",
          "2022-04-07",
          "2022-04-08",
          "2022-04-09",
          "2022-04-10",
          "2022-04-11",
          "2022-04-13",
          "2022-04-14",
          "2022-04-15",
          "2022-04-16",
          "2022-04-17",
          "2022-04-18",
          "2022-04-20",
          "2022-04-21",
          "2022-04-22",
          "2022-04-23",
          "2022-04-24",
          "2022-04-25",
          "2022-04-26",
          "2022-04-27",
          "2022-04-28",
          "2022-04-29",
          "2022-04-30",
          "2022-05-01",
          "2022-05-02",
          "2022-05-03",
          "2022-05-04",
          "2022-05-05",
          "2022-05-06",
          "2022-05-07",
          "2022-05-08",
          "2022-05-09",
          "2022-05-10",
          "2022-05-11",
          "2022-05-12",
          "2022-05-13",
          "2022-05-14",
          "2022-05-15",
          "2022-05-16",
          "2022-05-17",
          "2022-05-18",
          "2022-05-19",
          "2022-05-20",
          "2022-05-21",
          "2022-05-22",
          "2022-05-23",
          "2022-05-24",
          "2022-05-25",
          "2022-05-26",
          "2022-05-27",
          "2022-05-28",
          "2022-05-29",
          "2022-05-30",
          "2022-05-31",
          "2022-06-01",
          "2022-06-02",
          "2022-06-03",
          "2022-06-04",
          "2022-06-05",
          "2022-06-06",
          "2022-06-07",
          "2022-06-08",
          "2022-06-09",
          "2022-06-10",
          "2022-06-11",
          "2022-06-12",
          "2022-06-13",
          "2022-06-14",
          "2022-06-15",
          "2022-06-16",
          "2022-06-17",
          "2022-06-18",
          "2022-06-19",
          "2022-06-20",
          "2022-06-21",
          "2022-06-22",
          "2022-06-23",
          "2022-06-24",
          "2022-06-25",
          "2022-06-26",
          "2022-06-27",
          "2022-06-28",
          "2022-06-29",
          "2022-06-30",
          "2022-07-01",
          "2022-07-02",
          "2022-07-03",
          "2022-07-04",
          "2022-07-05",
          "2022-07-06",
          "2022-07-07",
          "2022-07-08",
          "2022-07-09",
          "2022-07-10",
          "2022-07-11",
          "2022-07-12",
          "2022-07-13",
          "2022-07-14",
          "2022-07-15",
          "2022-07-16",
          "2022-07-17",
          "2022-07-18",
          "2022-07-19",
          "2022-07-20",
          "2022-07-21",
          "2022-07-22",
          "2022-07-23",
          "2022-07-24",
          "2022-07-25",
          "2022-07-26",
          "2022-07-27",
          "2022-07-28",
          "2022-07-29",
          "2022-07-30",
          "2022-07-31",
          "2022-08-01",
          "2022-08-02",
          "2022-08-03",
          "2022-08-04",
          "2022-08-05",
          "2022-08-06",
          "2022-08-07",
          "2022-08-08",
          "2022-08-09",
          "2022-08-10",
          "2022-08-11",
          "2022-08-12",
          "2022-08-13",
          "2022-08-14",
          "2022-08-15",
          "2022-08-16",
          "2022-08-17",
          "2022-08-18",
          "2022-08-19",
          "2022-08-20",
          "2022-08-21",
          "2022-08-22",
          "2022-08-23",
          "2022-08-24",
          "2022-08-25",
          "2022-08-26",
          "2022-08-27",
          "2022-08-28",
          "2022-08-29",
          "2022-08-30",
          "2022-08-31",
          "2022-09-01",
          "2022-09-02",
          "2022-09-03",
          "2022-09-04",
          "2022-09-05",
          "2022-09-06",
          "2022-09-07",
          "2022-09-08",
          "2022-09-09",
          "2022-09-10",
          "2022-09-11",
          "2022-09-12",
          "2022-09-13",
          "2022-09-14",
          "2022-09-15",
          "2022-09-16",
          "2022-09-17",
          "2022-09-18",
          "2022-09-19",
          "2022-09-20",
          "2022-09-21",
          "2022-09-22",
          "2022-09-23",
          "2022-09-24",
          "2022-09-25",
          "2022-09-26",
          "2022-09-27",
          "2022-09-28",
          "2022-09-29",
          "2022-09-30",
          "2022-10-01",
          "2022-10-02",
          "2022-10-03",
          "2022-10-04",
          "2022-10-05",
          "2022-10-06",
          "2022-10-07",
          "2022-10-08",
          "2022-10-09",
          "2022-10-10",
          "2022-10-11",
          "2022-10-12",
          "2022-10-13",
          "2022-10-14",
          "2022-10-15",
          "2022-10-16",
          "2022-10-17",
          "2022-10-18",
          "2022-10-19",
          "2022-10-20",
          "2022-10-21",
          "2022-10-22",
          "2022-10-23",
          "2022-10-24",
          "2022-10-25",
          "2022-10-26",
          "2022-10-27",
          "2022-10-28",
          "2022-10-29",
          "2022-10-30",
          "2022-10-31",
          "2022-11-01",
          "2022-11-02",
          "2022-11-03",
          "2022-11-04",
          "2022-11-05",
          "2022-11-06",
          "2022-11-07",
          "2022-11-08",
          "2022-11-09",
          "2022-11-10",
          "2022-11-11",
          "2022-11-12",
          "2022-11-13",
          "2022-11-14",
          "2022-11-15",
          "2022-11-16",
          "2022-11-17",
          "2022-11-18",
          "2022-11-19",
          "2022-11-20",
          "2022-11-21",
          "2022-11-22",
          "2022-11-23",
          "2022-11-24",
          "2022-11-25",
          "2022-11-26",
          "2022-11-27",
          "2022-11-28",
          "2022-11-29",
          "2022-11-30",
          "2022-12-01",
          "2022-12-02",
          "2022-12-03",
          "2022-12-04",
          "2022-12-05",
          "2022-12-06",
          "2022-12-07",
          "2022-12-08",
          "2022-12-09",
          "2022-12-10",
          "2022-12-11",
          "2022-12-12",
          "2022-12-13",
          "2022-12-14",
          "2022-12-15",
          "2022-12-16",
          "2022-12-17",
          "2022-12-18",
          "2022-12-19",
          "2022-12-20",
          "2022-12-21",
          "2022-12-22",
          "2022-12-23",
          "2022-12-24",
          "2022-12-25",
          "2022-12-26",
          "2022-12-27",
          "2022-12-28",
          "2022-12-29",
          "2022-12-30",
          "2022-12-31",
          "2023-01-01",
          "2023-01-02",
          "2023-01-03",
          "2023-01-04",
          "2023-01-05",
          "2023-01-06",
          "2023-01-07",
          "2023-01-08",
          "2023-01-09",
          "2023-01-10",
          "2023-01-11",
          "2023-01-12",
          "2023-01-13",
          "2023-01-14",
          "2023-01-15",
          "2023-01-16",
          "2023-01-17",
          "2023-01-18",
          "2023-01-19",
          "2023-01-20",
          "2023-01-21",
          "2023-01-22",
          "2023-01-23",
          "2023-01-24",
          "2023-01-25",
          "2023-01-26",
          "2023-01-27",
          "2023-01-28",
          "2023-01-29",
          "2023-01-30",
          "2023-01-31",
          "2023-02-01",
          "2023-02-02",
          "2023-02-03",
          "2023-02-04",
          "2023-02-05",
          "2023-02-06",
          "2023-02-07",
          "2023-02-08",
          "2023-02-09",
          "2023-02-10",
          "2023-02-11",
          "2023-02-12",
          "2023-02-13",
          "2023-02-14",
          "2023-02-15",
          "2023-02-16",
          "2023-02-17",
          "2023-02-18",
          "2023-02-19",
          "2023-02-20",
          "2023-02-21",
          "2023-02-22",
          "2023-02-23",
          "2023-02-24",
          "2023-02-25",
          "2023-02-26",
          "2023-02-27",
          "2023-02-28",
          "2023-03-01",
          "2023-03-02",
          "2023-03-03",
          "2023-03-04",
          "2023-03-05",
          "2023-03-06",
          "2023-03-07",
          "2023-03-08",
          "2023-03-09",
          "2023-03-10",
          "2023-03-11",
          "2023-03-12",
          "2023-03-13",
          "2023-03-14",
          "2023-03-15",
          "2023-03-16",
          "2023-03-17",
          "2023-03-18",
          "2023-03-19",
          "2023-03-20",
          "2023-03-21",
          "2023-03-22",
          "2023-03-23",
          "2023-03-24",
          "2023-03-25",
          "2023-03-26",
          "2023-03-27",
          "2023-03-28",
          "2023-03-29",
          "2023-03-30",
          "2023-03-31",
          "2023-04-01",
          "2023-04-02",
          "2023-04-03",
          "2023-04-04",
          "2023-04-05",
          "2023-04-06",
          "2023-04-07",
          "2023-04-08",
          "2023-04-09",
          "2023-04-10",
          "2023-04-11",
          "2023-04-12",
          "2023-04-13",
          "2023-04-14",
          "2023-04-15",
          "2023-04-16",
          "2023-04-17",
          "2023-04-18",
          "2023-04-19",
          "2023-04-20",
          "2023-04-21",
          "2023-04-22",
          "2023-04-23",
          "2023-04-24",
          "2023-04-25",
          "2023-04-26",
          "2023-04-27",
          "2023-04-28",
          "2023-04-29",
          "2023-04-30",
          "2023-05-01",
          "2023-05-02",
          "2023-05-03",
          "2023-05-04",
          "2023-05-05",
          "2023-05-06",
          "2023-05-07",
          "2023-05-08",
          "2023-05-09",
          "2023-05-10",
          "2023-05-11",
          "2023-05-12",
          "2023-05-13",
          "2023-05-14",
          "2023-05-15",
          "2023-05-16",
          "2023-05-17",
          "2023-05-18",
          "2023-05-19",
          "2023-05-20",
          "2023-05-21",
          "2023-05-22",
          "2023-05-23",
          "2023-05-24",
          "2023-05-25",
          "2023-05-26",
          "2023-05-27",
          "2023-05-28",
          "2023-05-29",
          "2023-05-30",
          "2023-05-31",
          "2023-06-01",
          "2023-06-02",
          "2023-06-03",
          "2023-06-04",
          "2023-06-05",
          "2023-06-06",
          "2023-06-07",
          "2023-06-08",
          "2023-06-09",
          "2023-06-10",
          "2023-06-11",
          "2023-06-12",
          "2023-06-13",
          "2023-06-14",
          "2023-06-15",
          "2023-06-16",
          "2023-06-17",
          "2023-06-18",
          "2023-06-19",
          "2023-06-20",
          "2023-06-21",
          "2023-06-22",
          "2023-06-23",
          "2023-06-24",
          "2023-06-25",
          "2023-06-26",
          "2023-06-27",
          "2023-06-28",
          "2023-06-29",
          "2023-06-30",
          "2023-07-01",
          "2023-07-02",
          "2023-07-03",
          "2023-07-04",
          "2023-07-05",
          "2023-07-06",
          "2023-07-07",
          "2023-07-08",
          "2023-07-09",
          "2023-07-10",
          "2023-07-11",
          "2023-07-12",
          "2023-07-13",
          "2023-07-14",
          "2023-07-15",
          "2023-07-16",
          "2023-07-17",
          "2023-07-18",
          "2023-07-19",
          "2023-07-20",
          "2023-07-21",
          "2023-07-22",
          "2023-07-23",
          "2023-07-24",
          "2023-07-25",
          "2023-07-26",
          "2023-07-27",
          "2023-07-28",
          "2023-07-29",
          "2023-07-30",
          "2023-07-31",
          "2023-08-01",
          "2023-08-02",
          "2023-08-03",
          "2023-08-04",
          "2023-08-05",
          "2023-08-06",
          "2023-08-07",
          "2023-08-08",
          "2023-08-09",
          "2023-08-10",
          "2023-08-11",
          "2023-08-12",
          "2023-08-13",
          "2023-08-14",
          "2023-08-15",
          "2023-08-16",
          "2023-08-17",
          "2023-08-18",
          "2023-08-19",
          "2023-08-20",
          "2023-08-21",
          "2023-08-22",
          "2023-08-23",
          "2023-08-24",
          "2023-08-25",
          "2023-08-26",
          "2023-08-27",
          "2023-08-28",
          "2023-08-29",
          "2023-08-30",
          "2023-08-31",
          "2023-09-01",
          "2023-09-02",
          "2023-09-03",
          "2023-09-04",
          "2023-09-05",
          "2023-09-06",
          "2023-09-07",
          "2023-09-08",
          "2023-09-09",
          "2023-09-10",
          "2023-09-11",
          "2023-09-12",
          "2023-09-13",
          "2023-09-14",
          "2023-09-15",
          "2023-09-16",
          "2023-09-17",
          "2023-09-18",
          "2023-09-19",
          "2023-09-20",
          "2023-09-21",
          "2023-09-22",
          "2023-09-23",
          "2023-09-24",
          "2023-09-25",
          "2023-09-26",
          "2023-09-27",
          "2023-09-28",
          "2023-09-29",
          "2023-09-30",
          "2023-10-01",
          "2023-10-02",
          "2023-10-03",
          "2023-10-04",
          "2023-10-05",
          "2023-10-06",
          "2023-10-07",
          "2023-10-08",
          "2023-10-09",
          "2023-10-10",
          "2023-10-11",
          "2023-10-12",
          "2023-10-13",
          "2023-10-14",
          "2023-10-15",
          "2023-10-16",
          "2023-10-17",
          "2023-10-18",
          "2023-10-19",
          "2023-10-20",
          "2023-10-21",
          "2023-10-22",
          "2023-10-23",
          "2023-10-24",
          "2023-10-25",
          "2023-10-26",
          "2023-10-27",
          "2023-10-28",
          "2023-10-29",
          "2023-10-30",
          "2023-10-31"
         ],
         "xaxis": "x",
         "y": [
          1,
          1,
          1,
          4,
          3,
          1,
          1,
          1,
          1,
          3,
          3,
          2,
          2,
          3,
          2,
          1,
          1,
          1,
          2,
          2,
          2,
          2,
          4,
          2,
          5,
          3,
          1,
          7,
          6,
          5,
          5,
          4,
          5,
          4,
          4,
          5,
          4,
          4,
          4,
          5,
          4,
          5,
          5,
          4,
          4,
          2,
          1,
          1,
          1,
          1,
          1,
          2,
          1,
          1,
          1,
          1,
          1,
          2,
          2,
          1,
          1,
          1,
          2,
          2,
          2,
          3,
          2,
          2,
          3,
          2,
          2,
          3,
          3,
          4,
          7,
          5,
          2,
          2,
          1,
          3,
          2,
          4,
          3,
          2,
          1,
          3,
          5,
          4,
          3,
          4,
          2,
          3,
          4,
          1,
          4,
          4,
          4,
          3,
          3,
          4,
          6,
          2,
          1,
          2,
          3,
          4,
          2,
          2,
          2,
          4,
          4,
          1,
          1,
          1,
          2,
          3,
          4,
          4,
          3,
          4,
          5,
          7,
          5,
          4,
          6,
          1,
          3,
          3,
          6,
          4,
          2,
          4,
          1,
          1,
          1,
          4,
          4,
          2,
          3,
          1,
          3,
          5,
          3,
          1,
          1,
          4,
          5,
          4,
          3,
          3,
          2,
          2,
          3,
          8,
          5,
          1,
          4,
          4,
          5,
          3,
          3,
          2,
          2,
          2,
          4,
          4,
          4,
          5,
          4,
          1,
          3,
          4,
          3,
          6,
          4,
          4,
          2,
          5,
          3,
          7,
          7,
          6,
          8,
          9,
          6,
          4,
          8,
          8,
          6,
          6,
          9,
          8,
          7,
          7,
          4,
          9,
          10,
          7,
          6,
          5,
          8,
          7,
          6,
          8,
          4,
          5,
          5,
          5,
          4,
          5,
          10,
          6,
          7,
          4,
          6,
          3,
          5,
          6,
          7,
          11,
          10,
          7,
          5,
          7,
          7,
          4,
          7,
          5,
          10,
          9,
          8,
          8,
          7,
          7,
          9,
          8,
          4,
          6,
          9,
          8,
          9,
          8,
          4,
          5,
          7,
          7,
          7,
          7,
          6,
          4,
          4,
          6,
          7,
          7,
          9,
          10,
          8,
          6,
          8,
          8,
          10,
          10,
          13,
          9,
          10,
          9,
          7,
          8,
          10,
          9,
          8,
          10,
          9,
          5,
          4,
          8,
          4,
          4,
          6,
          4,
          5,
          6,
          8,
          7,
          4,
          7,
          7,
          9,
          9,
          8,
          5,
          7,
          7,
          8,
          8,
          10,
          7,
          3,
          4,
          4,
          6,
          8,
          7,
          9,
          7,
          7,
          6,
          4,
          5,
          6,
          6,
          6,
          6,
          7,
          5,
          3,
          3,
          10,
          7,
          8,
          7,
          4,
          8,
          3,
          6,
          5,
          7,
          8,
          7,
          7,
          6,
          8,
          7,
          5,
          3,
          3,
          6,
          4,
          6,
          4,
          2,
          5,
          4,
          6,
          4,
          7,
          5,
          5,
          2,
          4,
          8,
          7,
          7,
          4,
          3,
          3,
          2,
          6,
          9,
          8,
          6,
          2,
          2,
          6,
          8,
          7,
          6,
          3,
          4,
          3,
          4,
          5,
          5,
          5,
          4,
          6,
          7,
          5,
          10,
          7,
          9,
          6,
          3,
          5,
          4,
          5,
          7,
          9,
          6,
          8,
          9,
          8,
          9,
          7,
          12,
          7,
          6,
          9,
          6,
          6,
          10,
          7,
          4,
          5,
          5,
          5,
          9,
          8,
          6,
          7,
          7,
          8,
          8,
          8,
          8,
          9,
          7,
          7,
          7,
          7,
          7,
          8,
          8,
          5,
          6,
          7,
          8,
          8,
          4,
          6,
          6,
          7,
          9,
          7,
          8,
          7,
          8,
          8,
          6,
          9,
          7,
          8,
          8,
          10,
          6,
          7,
          10,
          11,
          12,
          7,
          10,
          5,
          7,
          7,
          3,
          8,
          6,
          8,
          5,
          7,
          5,
          8,
          9,
          4,
          9,
          5,
          3,
          6,
          7,
          9,
          11,
          9,
          7,
          3,
          3,
          2,
          5,
          7,
          11,
          7,
          5,
          9,
          8,
          13,
          10,
          12,
          6,
          7,
          7,
          6,
          10,
          8,
          9,
          3,
          5,
          8,
          7,
          9,
          6,
          8,
          3,
          5,
          4,
          6,
          10,
          9,
          11,
          3,
          4,
          5,
          8,
          7,
          6,
          9,
          6,
          3,
          2,
          4,
          9,
          7,
          9,
          3,
          2,
          2,
          4,
          7,
          8,
          14,
          5,
          5,
          2,
          4,
          8,
          7,
          13,
          10,
          7,
          4,
          7,
          8,
          6,
          11,
          11,
          8,
          7,
          7,
          11,
          10,
          10,
          7,
          2,
          5,
          6,
          10,
          8,
          15,
          8,
          6,
          9,
          7,
          7,
          10,
          12,
          9,
          5,
          9,
          7,
          11,
          11,
          14,
          9,
          6,
          5,
          8,
          11,
          12,
          16,
          9,
          8,
          8,
          12,
          13,
          11,
          11,
          9,
          7,
          4,
          6,
          14,
          14,
          12,
          8,
          6,
          7,
          7,
          12,
          15,
          11,
          7,
          9,
          7,
          7,
          11,
          12,
          12,
          10,
          7,
          9,
          9,
          10,
          11,
          12,
          13,
          8,
          9,
          12,
          10,
          10,
          11,
          10,
          13,
          9,
          10,
          8,
          11,
          9,
          13,
          12,
          13,
          13,
          12,
          12,
          17,
          12,
          9,
          10,
          10,
          8,
          12,
          15,
          11,
          8,
          8,
          7,
          7,
          10,
          12,
          8,
          7,
          7,
          8,
          11,
          13,
          12,
          8,
          8,
          6,
          10,
          7,
          11,
          13,
          10,
          11,
          9,
          9,
          6,
          12,
          16,
          9,
          6,
          6,
          4,
          8,
          10,
          10,
          9,
          6,
          6,
          6,
          6,
          10,
          12,
          8,
          6,
          6,
          9,
          8,
          9,
          12,
          9,
          10,
          11,
          5,
          8,
          17,
          12,
          7,
          4,
          6
         ],
         "yaxis": "y"
        },
        {
         "hovertemplate": "variable=extra<br>date=%{x}<br>value=%{y}<extra></extra>",
         "legendgroup": "extra",
         "line": {
          "color": "#4BE8E0",
          "dash": "solid"
         },
         "marker": {
          "symbol": "circle"
         },
         "mode": "lines",
         "name": "extra",
         "orientation": "v",
         "showlegend": true,
         "type": "scatter",
         "x": [
          "2023-11-01",
          "2023-11-02",
          "2023-11-03",
          "2023-11-04",
          "2023-11-05",
          "2023-11-06",
          "2023-11-07",
          "2023-11-08",
          "2023-11-09",
          "2023-11-10",
          "2023-11-11",
          "2023-11-12",
          "2023-11-13",
          "2023-11-14",
          "2023-11-15",
          "2023-11-16",
          "2023-11-17",
          "2023-11-18",
          "2023-11-19",
          "2023-11-20",
          "2023-11-21",
          "2023-11-22",
          "2023-11-23",
          "2023-11-24",
          "2023-11-25",
          "2023-11-26",
          "2023-11-27",
          "2023-11-28",
          "2023-11-29",
          "2023-11-30",
          "2023-12-01",
          "2023-12-02",
          "2023-12-03",
          "2023-12-04",
          "2023-12-05",
          "2023-12-06",
          "2023-12-07",
          "2023-12-08",
          "2023-12-09",
          "2023-12-10",
          "2023-12-11",
          "2023-12-12",
          "2023-12-13",
          "2023-12-14",
          "2023-12-15",
          "2023-12-16",
          "2023-12-17",
          "2023-12-18",
          "2023-12-19",
          "2023-12-20",
          "2023-12-21",
          "2023-12-22",
          "2023-12-23",
          "2023-12-24",
          "2023-12-25",
          "2023-12-26",
          "2023-12-27",
          "2023-12-28",
          "2023-12-29",
          "2023-12-30",
          "2023-12-31",
          "2024-01-02",
          "2024-01-03",
          "2024-01-04",
          "2024-01-05",
          "2024-01-06",
          "2024-01-07"
         ],
         "xaxis": "x",
         "y": [
          6,
          7,
          12,
          12,
          10,
          3,
          3,
          3,
          7,
          11,
          9,
          7,
          6,
          8,
          6,
          6,
          9,
          11,
          7,
          3,
          4,
          4,
          5,
          11,
          13,
          7,
          5,
          7,
          7,
          6,
          4,
          7,
          3,
          2,
          1,
          1,
          3,
          4,
          5,
          2,
          1,
          1,
          2,
          3,
          4,
          5,
          3,
          1,
          1,
          1,
          3,
          5,
          8,
          6,
          6,
          4,
          4,
          5,
          5,
          7,
          5,
          1,
          1,
          2,
          2,
          3,
          1
         ],
         "yaxis": "y"
        }
       ],
       "layout": {
        "legend": {
         "title": {
          "text": "variable"
         },
         "tracegroupgap": 0
        },
        "margin": {
         "t": 60
        },
        "template": {
         "data": {
          "bar": [
           {
            "error_x": {
             "color": "#2a3f5f"
            },
            "error_y": {
             "color": "#2a3f5f"
            },
            "marker": {
             "line": {
              "color": "#E5ECF6",
              "width": 0.5
             },
             "pattern": {
              "fillmode": "overlay",
              "size": 10,
              "solidity": 0.2
             }
            },
            "type": "bar"
           }
          ],
          "barpolar": [
           {
            "marker": {
             "line": {
              "color": "#E5ECF6",
              "width": 0.5
             },
             "pattern": {
              "fillmode": "overlay",
              "size": 10,
              "solidity": 0.2
             }
            },
            "type": "barpolar"
           }
          ],
          "carpet": [
           {
            "aaxis": {
             "endlinecolor": "#2a3f5f",
             "gridcolor": "white",
             "linecolor": "white",
             "minorgridcolor": "white",
             "startlinecolor": "#2a3f5f"
            },
            "baxis": {
             "endlinecolor": "#2a3f5f",
             "gridcolor": "white",
             "linecolor": "white",
             "minorgridcolor": "white",
             "startlinecolor": "#2a3f5f"
            },
            "type": "carpet"
           }
          ],
          "choropleth": [
           {
            "colorbar": {
             "outlinewidth": 0,
             "ticks": ""
            },
            "type": "choropleth"
           }
          ],
          "contour": [
           {
            "colorbar": {
             "outlinewidth": 0,
             "ticks": ""
            },
            "colorscale": [
             [
              0,
              "#0d0887"
             ],
             [
              0.1111111111111111,
              "#46039f"
             ],
             [
              0.2222222222222222,
              "#7201a8"
             ],
             [
              0.3333333333333333,
              "#9c179e"
             ],
             [
              0.4444444444444444,
              "#bd3786"
             ],
             [
              0.5555555555555556,
              "#d8576b"
             ],
             [
              0.6666666666666666,
              "#ed7953"
             ],
             [
              0.7777777777777778,
              "#fb9f3a"
             ],
             [
              0.8888888888888888,
              "#fdca26"
             ],
             [
              1,
              "#f0f921"
             ]
            ],
            "type": "contour"
           }
          ],
          "contourcarpet": [
           {
            "colorbar": {
             "outlinewidth": 0,
             "ticks": ""
            },
            "type": "contourcarpet"
           }
          ],
          "heatmap": [
           {
            "colorbar": {
             "outlinewidth": 0,
             "ticks": ""
            },
            "colorscale": [
             [
              0,
              "#0d0887"
             ],
             [
              0.1111111111111111,
              "#46039f"
             ],
             [
              0.2222222222222222,
              "#7201a8"
             ],
             [
              0.3333333333333333,
              "#9c179e"
             ],
             [
              0.4444444444444444,
              "#bd3786"
             ],
             [
              0.5555555555555556,
              "#d8576b"
             ],
             [
              0.6666666666666666,
              "#ed7953"
             ],
             [
              0.7777777777777778,
              "#fb9f3a"
             ],
             [
              0.8888888888888888,
              "#fdca26"
             ],
             [
              1,
              "#f0f921"
             ]
            ],
            "type": "heatmap"
           }
          ],
          "heatmapgl": [
           {
            "colorbar": {
             "outlinewidth": 0,
             "ticks": ""
            },
            "colorscale": [
             [
              0,
              "#0d0887"
             ],
             [
              0.1111111111111111,
              "#46039f"
             ],
             [
              0.2222222222222222,
              "#7201a8"
             ],
             [
              0.3333333333333333,
              "#9c179e"
             ],
             [
              0.4444444444444444,
              "#bd3786"
             ],
             [
              0.5555555555555556,
              "#d8576b"
             ],
             [
              0.6666666666666666,
              "#ed7953"
             ],
             [
              0.7777777777777778,
              "#fb9f3a"
             ],
             [
              0.8888888888888888,
              "#fdca26"
             ],
             [
              1,
              "#f0f921"
             ]
            ],
            "type": "heatmapgl"
           }
          ],
          "histogram": [
           {
            "marker": {
             "pattern": {
              "fillmode": "overlay",
              "size": 10,
              "solidity": 0.2
             }
            },
            "type": "histogram"
           }
          ],
          "histogram2d": [
           {
            "colorbar": {
             "outlinewidth": 0,
             "ticks": ""
            },
            "colorscale": [
             [
              0,
              "#0d0887"
             ],
             [
              0.1111111111111111,
              "#46039f"
             ],
             [
              0.2222222222222222,
              "#7201a8"
             ],
             [
              0.3333333333333333,
              "#9c179e"
             ],
             [
              0.4444444444444444,
              "#bd3786"
             ],
             [
              0.5555555555555556,
              "#d8576b"
             ],
             [
              0.6666666666666666,
              "#ed7953"
             ],
             [
              0.7777777777777778,
              "#fb9f3a"
             ],
             [
              0.8888888888888888,
              "#fdca26"
             ],
             [
              1,
              "#f0f921"
             ]
            ],
            "type": "histogram2d"
           }
          ],
          "histogram2dcontour": [
           {
            "colorbar": {
             "outlinewidth": 0,
             "ticks": ""
            },
            "colorscale": [
             [
              0,
              "#0d0887"
             ],
             [
              0.1111111111111111,
              "#46039f"
             ],
             [
              0.2222222222222222,
              "#7201a8"
             ],
             [
              0.3333333333333333,
              "#9c179e"
             ],
             [
              0.4444444444444444,
              "#bd3786"
             ],
             [
              0.5555555555555556,
              "#d8576b"
             ],
             [
              0.6666666666666666,
              "#ed7953"
             ],
             [
              0.7777777777777778,
              "#fb9f3a"
             ],
             [
              0.8888888888888888,
              "#fdca26"
             ],
             [
              1,
              "#f0f921"
             ]
            ],
            "type": "histogram2dcontour"
           }
          ],
          "mesh3d": [
           {
            "colorbar": {
             "outlinewidth": 0,
             "ticks": ""
            },
            "type": "mesh3d"
           }
          ],
          "parcoords": [
           {
            "line": {
             "colorbar": {
              "outlinewidth": 0,
              "ticks": ""
             }
            },
            "type": "parcoords"
           }
          ],
          "pie": [
           {
            "automargin": true,
            "type": "pie"
           }
          ],
          "scatter": [
           {
            "fillpattern": {
             "fillmode": "overlay",
             "size": 10,
             "solidity": 0.2
            },
            "type": "scatter"
           }
          ],
          "scatter3d": [
           {
            "line": {
             "colorbar": {
              "outlinewidth": 0,
              "ticks": ""
             }
            },
            "marker": {
             "colorbar": {
              "outlinewidth": 0,
              "ticks": ""
             }
            },
            "type": "scatter3d"
           }
          ],
          "scattercarpet": [
           {
            "marker": {
             "colorbar": {
              "outlinewidth": 0,
              "ticks": ""
             }
            },
            "type": "scattercarpet"
           }
          ],
          "scattergeo": [
           {
            "marker": {
             "colorbar": {
              "outlinewidth": 0,
              "ticks": ""
             }
            },
            "type": "scattergeo"
           }
          ],
          "scattergl": [
           {
            "marker": {
             "colorbar": {
              "outlinewidth": 0,
              "ticks": ""
             }
            },
            "type": "scattergl"
           }
          ],
          "scattermapbox": [
           {
            "marker": {
             "colorbar": {
              "outlinewidth": 0,
              "ticks": ""
             }
            },
            "type": "scattermapbox"
           }
          ],
          "scatterpolar": [
           {
            "marker": {
             "colorbar": {
              "outlinewidth": 0,
              "ticks": ""
             }
            },
            "type": "scatterpolar"
           }
          ],
          "scatterpolargl": [
           {
            "marker": {
             "colorbar": {
              "outlinewidth": 0,
              "ticks": ""
             }
            },
            "type": "scatterpolargl"
           }
          ],
          "scatterternary": [
           {
            "marker": {
             "colorbar": {
              "outlinewidth": 0,
              "ticks": ""
             }
            },
            "type": "scatterternary"
           }
          ],
          "surface": [
           {
            "colorbar": {
             "outlinewidth": 0,
             "ticks": ""
            },
            "colorscale": [
             [
              0,
              "#0d0887"
             ],
             [
              0.1111111111111111,
              "#46039f"
             ],
             [
              0.2222222222222222,
              "#7201a8"
             ],
             [
              0.3333333333333333,
              "#9c179e"
             ],
             [
              0.4444444444444444,
              "#bd3786"
             ],
             [
              0.5555555555555556,
              "#d8576b"
             ],
             [
              0.6666666666666666,
              "#ed7953"
             ],
             [
              0.7777777777777778,
              "#fb9f3a"
             ],
             [
              0.8888888888888888,
              "#fdca26"
             ],
             [
              1,
              "#f0f921"
             ]
            ],
            "type": "surface"
           }
          ],
          "table": [
           {
            "cells": {
             "fill": {
              "color": "#EBF0F8"
             },
             "line": {
              "color": "white"
             }
            },
            "header": {
             "fill": {
              "color": "#C8D4E3"
             },
             "line": {
              "color": "white"
             }
            },
            "type": "table"
           }
          ]
         },
         "layout": {
          "annotationdefaults": {
           "arrowcolor": "#2a3f5f",
           "arrowhead": 0,
           "arrowwidth": 1
          },
          "autotypenumbers": "strict",
          "coloraxis": {
           "colorbar": {
            "outlinewidth": 0,
            "ticks": ""
           }
          },
          "colorscale": {
           "diverging": [
            [
             0,
             "#8e0152"
            ],
            [
             0.1,
             "#c51b7d"
            ],
            [
             0.2,
             "#de77ae"
            ],
            [
             0.3,
             "#f1b6da"
            ],
            [
             0.4,
             "#fde0ef"
            ],
            [
             0.5,
             "#f7f7f7"
            ],
            [
             0.6,
             "#e6f5d0"
            ],
            [
             0.7,
             "#b8e186"
            ],
            [
             0.8,
             "#7fbc41"
            ],
            [
             0.9,
             "#4d9221"
            ],
            [
             1,
             "#276419"
            ]
           ],
           "sequential": [
            [
             0,
             "#0d0887"
            ],
            [
             0.1111111111111111,
             "#46039f"
            ],
            [
             0.2222222222222222,
             "#7201a8"
            ],
            [
             0.3333333333333333,
             "#9c179e"
            ],
            [
             0.4444444444444444,
             "#bd3786"
            ],
            [
             0.5555555555555556,
             "#d8576b"
            ],
            [
             0.6666666666666666,
             "#ed7953"
            ],
            [
             0.7777777777777778,
             "#fb9f3a"
            ],
            [
             0.8888888888888888,
             "#fdca26"
            ],
            [
             1,
             "#f0f921"
            ]
           ],
           "sequentialminus": [
            [
             0,
             "#0d0887"
            ],
            [
             0.1111111111111111,
             "#46039f"
            ],
            [
             0.2222222222222222,
             "#7201a8"
            ],
            [
             0.3333333333333333,
             "#9c179e"
            ],
            [
             0.4444444444444444,
             "#bd3786"
            ],
            [
             0.5555555555555556,
             "#d8576b"
            ],
            [
             0.6666666666666666,
             "#ed7953"
            ],
            [
             0.7777777777777778,
             "#fb9f3a"
            ],
            [
             0.8888888888888888,
             "#fdca26"
            ],
            [
             1,
             "#f0f921"
            ]
           ]
          },
          "colorway": [
           "#636efa",
           "#EF553B",
           "#00cc96",
           "#ab63fa",
           "#FFA15A",
           "#19d3f3",
           "#FF6692",
           "#B6E880",
           "#FF97FF",
           "#FECB52"
          ],
          "font": {
           "color": "#2a3f5f"
          },
          "geo": {
           "bgcolor": "white",
           "lakecolor": "white",
           "landcolor": "#E5ECF6",
           "showlakes": true,
           "showland": true,
           "subunitcolor": "white"
          },
          "hoverlabel": {
           "align": "left"
          },
          "hovermode": "closest",
          "mapbox": {
           "style": "light"
          },
          "paper_bgcolor": "white",
          "plot_bgcolor": "#E5ECF6",
          "polar": {
           "angularaxis": {
            "gridcolor": "white",
            "linecolor": "white",
            "ticks": ""
           },
           "bgcolor": "#E5ECF6",
           "radialaxis": {
            "gridcolor": "white",
            "linecolor": "white",
            "ticks": ""
           }
          },
          "scene": {
           "xaxis": {
            "backgroundcolor": "#E5ECF6",
            "gridcolor": "white",
            "gridwidth": 2,
            "linecolor": "white",
            "showbackground": true,
            "ticks": "",
            "zerolinecolor": "white"
           },
           "yaxis": {
            "backgroundcolor": "#E5ECF6",
            "gridcolor": "white",
            "gridwidth": 2,
            "linecolor": "white",
            "showbackground": true,
            "ticks": "",
            "zerolinecolor": "white"
           },
           "zaxis": {
            "backgroundcolor": "#E5ECF6",
            "gridcolor": "white",
            "gridwidth": 2,
            "linecolor": "white",
            "showbackground": true,
            "ticks": "",
            "zerolinecolor": "white"
           }
          },
          "shapedefaults": {
           "line": {
            "color": "#2a3f5f"
           }
          },
          "ternary": {
           "aaxis": {
            "gridcolor": "white",
            "linecolor": "white",
            "ticks": ""
           },
           "baxis": {
            "gridcolor": "white",
            "linecolor": "white",
            "ticks": ""
           },
           "bgcolor": "#E5ECF6",
           "caxis": {
            "gridcolor": "white",
            "linecolor": "white",
            "ticks": ""
           }
          },
          "title": {
           "x": 0.05
          },
          "xaxis": {
           "automargin": true,
           "gridcolor": "white",
           "linecolor": "white",
           "ticks": "",
           "title": {
            "standoff": 15
           },
           "zerolinecolor": "white",
           "zerolinewidth": 2
          },
          "yaxis": {
           "automargin": true,
           "gridcolor": "white",
           "linecolor": "white",
           "ticks": "",
           "title": {
            "standoff": 15
           },
           "zerolinecolor": "white",
           "zerolinewidth": 2
          }
         }
        },
        "xaxis": {
         "anchor": "y",
         "domain": [
          0,
          1
         ],
         "title": {
          "text": "date"
         }
        },
        "yaxis": {
         "anchor": "x",
         "domain": [
          0,
          1
         ],
         "title": {
          "text": "value"
         }
        }
       }
      }
     },
     "metadata": {},
     "output_type": "display_data"
    }
   ],
   "source": [
    "fig = px.line(data_train)\n",
    "fig.add_trace(px.line(data_test).data[0])\n",
    "fig['data'][1]['line']['color']=\"#4BE8E0\"\n",
    "fig.show()"
   ]
  },
  {
   "cell_type": "code",
   "execution_count": 12,
   "metadata": {},
   "outputs": [
    {
     "data": {
      "text/html": [
       "<div>\n",
       "<style scoped>\n",
       "    .dataframe tbody tr th:only-of-type {\n",
       "        vertical-align: middle;\n",
       "    }\n",
       "\n",
       "    .dataframe tbody tr th {\n",
       "        vertical-align: top;\n",
       "    }\n",
       "\n",
       "    .dataframe thead th {\n",
       "        text-align: right;\n",
       "    }\n",
       "</style>\n",
       "<table border=\"1\" class=\"dataframe\">\n",
       "  <thead>\n",
       "    <tr style=\"text-align: right;\">\n",
       "      <th></th>\n",
       "      <th>ds</th>\n",
       "      <th>y</th>\n",
       "    </tr>\n",
       "  </thead>\n",
       "  <tbody>\n",
       "    <tr>\n",
       "      <th>0</th>\n",
       "      <td>2021-11-30</td>\n",
       "      <td>1</td>\n",
       "    </tr>\n",
       "    <tr>\n",
       "      <th>1</th>\n",
       "      <td>2021-12-01</td>\n",
       "      <td>1</td>\n",
       "    </tr>\n",
       "    <tr>\n",
       "      <th>2</th>\n",
       "      <td>2021-12-02</td>\n",
       "      <td>1</td>\n",
       "    </tr>\n",
       "    <tr>\n",
       "      <th>3</th>\n",
       "      <td>2021-12-03</td>\n",
       "      <td>4</td>\n",
       "    </tr>\n",
       "    <tr>\n",
       "      <th>4</th>\n",
       "      <td>2021-12-04</td>\n",
       "      <td>3</td>\n",
       "    </tr>\n",
       "  </tbody>\n",
       "</table>\n",
       "</div>"
      ],
      "text/plain": [
       "           ds  y\n",
       "0  2021-11-30  1\n",
       "1  2021-12-01  1\n",
       "2  2021-12-02  1\n",
       "3  2021-12-03  4\n",
       "4  2021-12-04  3"
      ]
     },
     "execution_count": 12,
     "metadata": {},
     "output_type": "execute_result"
    }
   ],
   "source": [
    "data_train = pd.DataFrame({\n",
    "    \"ds\":data_train.index,\n",
    "    \"y\": data_train[\"extra\"]\n",
    "}).reset_index(drop=True)\n",
    "data_train.head()"
   ]
  },
  {
   "cell_type": "code",
   "execution_count": 13,
   "metadata": {},
   "outputs": [
    {
     "name": "stderr",
     "output_type": "stream",
     "text": [
      "11:01:00 - cmdstanpy - INFO - Chain [1] start processing\n",
      "11:01:00 - cmdstanpy - INFO - Chain [1] done processing\n"
     ]
    },
    {
     "data": {
      "text/plain": [
       "<prophet.forecaster.Prophet at 0x283e2f590>"
      ]
     },
     "execution_count": 13,
     "metadata": {},
     "output_type": "execute_result"
    }
   ],
   "source": [
    "m = Prophet()\n",
    "m.fit(data_train)"
   ]
  },
  {
   "cell_type": "code",
   "execution_count": null,
   "metadata": {},
   "outputs": [
    {
     "data": {
      "text/html": [
       "<div>\n",
       "<style scoped>\n",
       "    .dataframe tbody tr th:only-of-type {\n",
       "        vertical-align: middle;\n",
       "    }\n",
       "\n",
       "    .dataframe tbody tr th {\n",
       "        vertical-align: top;\n",
       "    }\n",
       "\n",
       "    .dataframe thead th {\n",
       "        text-align: right;\n",
       "    }\n",
       "</style>\n",
       "<table border=\"1\" class=\"dataframe\">\n",
       "  <thead>\n",
       "    <tr style=\"text-align: right;\">\n",
       "      <th></th>\n",
       "      <th>ds</th>\n",
       "      <th>y</th>\n",
       "    </tr>\n",
       "  </thead>\n",
       "  <tbody>\n",
       "    <tr>\n",
       "      <th>0</th>\n",
       "      <td>2023-11-01</td>\n",
       "      <td>6</td>\n",
       "    </tr>\n",
       "    <tr>\n",
       "      <th>1</th>\n",
       "      <td>2023-11-02</td>\n",
       "      <td>7</td>\n",
       "    </tr>\n",
       "    <tr>\n",
       "      <th>2</th>\n",
       "      <td>2023-11-03</td>\n",
       "      <td>12</td>\n",
       "    </tr>\n",
       "    <tr>\n",
       "      <th>3</th>\n",
       "      <td>2023-11-04</td>\n",
       "      <td>12</td>\n",
       "    </tr>\n",
       "    <tr>\n",
       "      <th>4</th>\n",
       "      <td>2023-11-05</td>\n",
       "      <td>10</td>\n",
       "    </tr>\n",
       "  </tbody>\n",
       "</table>\n",
       "</div>"
      ],
      "text/plain": [
       "           ds   y\n",
       "0  2023-11-01   6\n",
       "1  2023-11-02   7\n",
       "2  2023-11-03  12\n",
       "3  2023-11-04  12\n",
       "4  2023-11-05  10"
      ]
     },
     "execution_count": 11,
     "metadata": {},
     "output_type": "execute_result"
    }
   ],
   "source": [
    "data_test = pd.DataFrame({\n",
    "    \"ds\":data_test.index,\n",
    "    \"y\": data_test[\"extra\"]\n",
    "}).reset_index(drop=True)\n",
    "data_test.head()"
   ]
  },
  {
   "cell_type": "code",
   "execution_count": null,
   "metadata": {},
   "outputs": [
    {
     "name": "stderr",
     "output_type": "stream",
     "text": [
      "/Users/simoncld/anaconda3/lib/python3.11/site-packages/_plotly_utils/basevalidators.py:106: FutureWarning:\n",
      "\n",
      "The behavior of DatetimeProperties.to_pydatetime is deprecated, in a future version this will return a Series containing python datetime objects instead of an ndarray. To retain the old behavior, call `np.array` on the result\n",
      "\n"
     ]
    },
    {
     "data": {
      "application/vnd.plotly.v1+json": {
       "config": {
        "plotlyServerURL": "https://plot.ly"
       },
       "data": [
        {
         "hovertemplate": "ds=%{x}<br>y=%{y}<extra></extra>",
         "legendgroup": "",
         "line": {
          "color": "#636efa",
          "dash": "solid"
         },
         "marker": {
          "symbol": "circle"
         },
         "mode": "lines",
         "name": "",
         "orientation": "v",
         "showlegend": false,
         "type": "scatter",
         "x": [
          "2023-11-01",
          "2023-11-02",
          "2023-11-03",
          "2023-11-04",
          "2023-11-05",
          "2023-11-06",
          "2023-11-07",
          "2023-11-08",
          "2023-11-09",
          "2023-11-10",
          "2023-11-11",
          "2023-11-12",
          "2023-11-13",
          "2023-11-14",
          "2023-11-15",
          "2023-11-16",
          "2023-11-17",
          "2023-11-18",
          "2023-11-19",
          "2023-11-20",
          "2023-11-21",
          "2023-11-22",
          "2023-11-23",
          "2023-11-24",
          "2023-11-25",
          "2023-11-26",
          "2023-11-27",
          "2023-11-28",
          "2023-11-29",
          "2023-11-30",
          "2023-12-01",
          "2023-12-02",
          "2023-12-03",
          "2023-12-04",
          "2023-12-05",
          "2023-12-06",
          "2023-12-07",
          "2023-12-08",
          "2023-12-09",
          "2023-12-10",
          "2023-12-11",
          "2023-12-12",
          "2023-12-13",
          "2023-12-14",
          "2023-12-15",
          "2023-12-16",
          "2023-12-17",
          "2023-12-18",
          "2023-12-19",
          "2023-12-20",
          "2023-12-21",
          "2023-12-22",
          "2023-12-23",
          "2023-12-24",
          "2023-12-25",
          "2023-12-26",
          "2023-12-27",
          "2023-12-28",
          "2023-12-29",
          "2023-12-30",
          "2023-12-31",
          "2024-01-02",
          "2024-01-03",
          "2024-01-04",
          "2024-01-05",
          "2024-01-06",
          "2024-01-07"
         ],
         "xaxis": "x",
         "y": [
          6,
          7,
          12,
          12,
          10,
          3,
          3,
          3,
          7,
          11,
          9,
          7,
          6,
          8,
          6,
          6,
          9,
          11,
          7,
          3,
          4,
          4,
          5,
          11,
          13,
          7,
          5,
          7,
          7,
          6,
          4,
          7,
          3,
          2,
          1,
          1,
          3,
          4,
          5,
          2,
          1,
          1,
          2,
          3,
          4,
          5,
          3,
          1,
          1,
          1,
          3,
          5,
          8,
          6,
          6,
          4,
          4,
          5,
          5,
          7,
          5,
          1,
          1,
          2,
          2,
          3,
          1
         ],
         "yaxis": "y"
        },
        {
         "hovertemplate": "ds=%{x}<br>yhat=%{y}<extra></extra>",
         "legendgroup": "",
         "line": {
          "color": "#4BE8E0",
          "dash": "solid"
         },
         "marker": {
          "symbol": "circle"
         },
         "mode": "lines",
         "name": "",
         "orientation": "v",
         "showlegend": false,
         "type": "scatter",
         "x": [
          "2023-11-01T00:00:00",
          "2023-11-02T00:00:00",
          "2023-11-03T00:00:00",
          "2023-11-04T00:00:00",
          "2023-11-05T00:00:00",
          "2023-11-06T00:00:00",
          "2023-11-07T00:00:00",
          "2023-11-08T00:00:00",
          "2023-11-09T00:00:00",
          "2023-11-10T00:00:00",
          "2023-11-11T00:00:00",
          "2023-11-12T00:00:00",
          "2023-11-13T00:00:00",
          "2023-11-14T00:00:00",
          "2023-11-15T00:00:00",
          "2023-11-16T00:00:00",
          "2023-11-17T00:00:00",
          "2023-11-18T00:00:00",
          "2023-11-19T00:00:00",
          "2023-11-20T00:00:00",
          "2023-11-21T00:00:00",
          "2023-11-22T00:00:00",
          "2023-11-23T00:00:00",
          "2023-11-24T00:00:00",
          "2023-11-25T00:00:00",
          "2023-11-26T00:00:00",
          "2023-11-27T00:00:00",
          "2023-11-28T00:00:00",
          "2023-11-29T00:00:00",
          "2023-11-30T00:00:00",
          "2023-12-01T00:00:00",
          "2023-12-02T00:00:00",
          "2023-12-03T00:00:00",
          "2023-12-04T00:00:00",
          "2023-12-05T00:00:00",
          "2023-12-06T00:00:00",
          "2023-12-07T00:00:00",
          "2023-12-08T00:00:00",
          "2023-12-09T00:00:00",
          "2023-12-10T00:00:00",
          "2023-12-11T00:00:00",
          "2023-12-12T00:00:00",
          "2023-12-13T00:00:00",
          "2023-12-14T00:00:00",
          "2023-12-15T00:00:00",
          "2023-12-16T00:00:00",
          "2023-12-17T00:00:00",
          "2023-12-18T00:00:00",
          "2023-12-19T00:00:00",
          "2023-12-20T00:00:00",
          "2023-12-21T00:00:00",
          "2023-12-22T00:00:00",
          "2023-12-23T00:00:00",
          "2023-12-24T00:00:00",
          "2023-12-25T00:00:00",
          "2023-12-26T00:00:00",
          "2023-12-27T00:00:00",
          "2023-12-28T00:00:00",
          "2023-12-29T00:00:00",
          "2023-12-30T00:00:00",
          "2023-12-31T00:00:00",
          "2024-01-02T00:00:00",
          "2024-01-03T00:00:00",
          "2024-01-04T00:00:00",
          "2024-01-05T00:00:00",
          "2024-01-06T00:00:00",
          "2024-01-07T00:00:00"
         ],
         "xaxis": "x",
         "y": [
          9.20562491528038,
          10.42476122546129,
          10.333828780436463,
          11.44297679205621,
          9.401991783612315,
          8.821075327543234,
          9.034782430318783,
          9.276822903527961,
          10.495959213702667,
          10.405026768681935,
          11.51417478030174,
          9.4731897718541,
          8.892273315783706,
          9.105980418565037,
          9.348020891770739,
          10.56715720194853,
          10.476224756927646,
          11.585372768545927,
          9.544387760095884,
          8.963471304032531,
          9.177178406811292,
          9.419218880015372,
          10.638355190192627,
          10.547422745172888,
          11.656570756790114,
          9.61558574834298,
          9.03466929227645,
          9.248376395054,
          9.490416868260004,
          10.709553178436726,
          10.618620733415506,
          11.72776874503557,
          9.686783736584765,
          9.105867280523809,
          9.3195743833038,
          9.561614856502784,
          10.780751166684356,
          10.68981872166098,
          11.798966733281102,
          9.757981724829204,
          9.177065268771168,
          9.390772371543866,
          9.632812844747415,
          10.851949154928452,
          10.761016709906691,
          11.870164721525287,
          9.829179713079876,
          9.248263257011644,
          9.461970359793666,
          9.704010832994996,
          10.923147143174317,
          10.832214698152399,
          11.941362709770816,
          9.900377701324318,
          9.319461245259003,
          9.533168348036373,
          9.77520882123963,
          10.994345131417457,
          10.903412686397639,
          12.01256069801366,
          9.971575689566102,
          9.604366336279984,
          9.84640680948721,
          11.065543119663317,
          10.974610674639791,
          12.083758686259191,
          10.042773677810542
         ],
         "yaxis": "y"
        }
       ],
       "layout": {
        "legend": {
         "tracegroupgap": 0
        },
        "margin": {
         "t": 60
        },
        "template": {
         "data": {
          "bar": [
           {
            "error_x": {
             "color": "#2a3f5f"
            },
            "error_y": {
             "color": "#2a3f5f"
            },
            "marker": {
             "line": {
              "color": "#E5ECF6",
              "width": 0.5
             },
             "pattern": {
              "fillmode": "overlay",
              "size": 10,
              "solidity": 0.2
             }
            },
            "type": "bar"
           }
          ],
          "barpolar": [
           {
            "marker": {
             "line": {
              "color": "#E5ECF6",
              "width": 0.5
             },
             "pattern": {
              "fillmode": "overlay",
              "size": 10,
              "solidity": 0.2
             }
            },
            "type": "barpolar"
           }
          ],
          "carpet": [
           {
            "aaxis": {
             "endlinecolor": "#2a3f5f",
             "gridcolor": "white",
             "linecolor": "white",
             "minorgridcolor": "white",
             "startlinecolor": "#2a3f5f"
            },
            "baxis": {
             "endlinecolor": "#2a3f5f",
             "gridcolor": "white",
             "linecolor": "white",
             "minorgridcolor": "white",
             "startlinecolor": "#2a3f5f"
            },
            "type": "carpet"
           }
          ],
          "choropleth": [
           {
            "colorbar": {
             "outlinewidth": 0,
             "ticks": ""
            },
            "type": "choropleth"
           }
          ],
          "contour": [
           {
            "colorbar": {
             "outlinewidth": 0,
             "ticks": ""
            },
            "colorscale": [
             [
              0,
              "#0d0887"
             ],
             [
              0.1111111111111111,
              "#46039f"
             ],
             [
              0.2222222222222222,
              "#7201a8"
             ],
             [
              0.3333333333333333,
              "#9c179e"
             ],
             [
              0.4444444444444444,
              "#bd3786"
             ],
             [
              0.5555555555555556,
              "#d8576b"
             ],
             [
              0.6666666666666666,
              "#ed7953"
             ],
             [
              0.7777777777777778,
              "#fb9f3a"
             ],
             [
              0.8888888888888888,
              "#fdca26"
             ],
             [
              1,
              "#f0f921"
             ]
            ],
            "type": "contour"
           }
          ],
          "contourcarpet": [
           {
            "colorbar": {
             "outlinewidth": 0,
             "ticks": ""
            },
            "type": "contourcarpet"
           }
          ],
          "heatmap": [
           {
            "colorbar": {
             "outlinewidth": 0,
             "ticks": ""
            },
            "colorscale": [
             [
              0,
              "#0d0887"
             ],
             [
              0.1111111111111111,
              "#46039f"
             ],
             [
              0.2222222222222222,
              "#7201a8"
             ],
             [
              0.3333333333333333,
              "#9c179e"
             ],
             [
              0.4444444444444444,
              "#bd3786"
             ],
             [
              0.5555555555555556,
              "#d8576b"
             ],
             [
              0.6666666666666666,
              "#ed7953"
             ],
             [
              0.7777777777777778,
              "#fb9f3a"
             ],
             [
              0.8888888888888888,
              "#fdca26"
             ],
             [
              1,
              "#f0f921"
             ]
            ],
            "type": "heatmap"
           }
          ],
          "heatmapgl": [
           {
            "colorbar": {
             "outlinewidth": 0,
             "ticks": ""
            },
            "colorscale": [
             [
              0,
              "#0d0887"
             ],
             [
              0.1111111111111111,
              "#46039f"
             ],
             [
              0.2222222222222222,
              "#7201a8"
             ],
             [
              0.3333333333333333,
              "#9c179e"
             ],
             [
              0.4444444444444444,
              "#bd3786"
             ],
             [
              0.5555555555555556,
              "#d8576b"
             ],
             [
              0.6666666666666666,
              "#ed7953"
             ],
             [
              0.7777777777777778,
              "#fb9f3a"
             ],
             [
              0.8888888888888888,
              "#fdca26"
             ],
             [
              1,
              "#f0f921"
             ]
            ],
            "type": "heatmapgl"
           }
          ],
          "histogram": [
           {
            "marker": {
             "pattern": {
              "fillmode": "overlay",
              "size": 10,
              "solidity": 0.2
             }
            },
            "type": "histogram"
           }
          ],
          "histogram2d": [
           {
            "colorbar": {
             "outlinewidth": 0,
             "ticks": ""
            },
            "colorscale": [
             [
              0,
              "#0d0887"
             ],
             [
              0.1111111111111111,
              "#46039f"
             ],
             [
              0.2222222222222222,
              "#7201a8"
             ],
             [
              0.3333333333333333,
              "#9c179e"
             ],
             [
              0.4444444444444444,
              "#bd3786"
             ],
             [
              0.5555555555555556,
              "#d8576b"
             ],
             [
              0.6666666666666666,
              "#ed7953"
             ],
             [
              0.7777777777777778,
              "#fb9f3a"
             ],
             [
              0.8888888888888888,
              "#fdca26"
             ],
             [
              1,
              "#f0f921"
             ]
            ],
            "type": "histogram2d"
           }
          ],
          "histogram2dcontour": [
           {
            "colorbar": {
             "outlinewidth": 0,
             "ticks": ""
            },
            "colorscale": [
             [
              0,
              "#0d0887"
             ],
             [
              0.1111111111111111,
              "#46039f"
             ],
             [
              0.2222222222222222,
              "#7201a8"
             ],
             [
              0.3333333333333333,
              "#9c179e"
             ],
             [
              0.4444444444444444,
              "#bd3786"
             ],
             [
              0.5555555555555556,
              "#d8576b"
             ],
             [
              0.6666666666666666,
              "#ed7953"
             ],
             [
              0.7777777777777778,
              "#fb9f3a"
             ],
             [
              0.8888888888888888,
              "#fdca26"
             ],
             [
              1,
              "#f0f921"
             ]
            ],
            "type": "histogram2dcontour"
           }
          ],
          "mesh3d": [
           {
            "colorbar": {
             "outlinewidth": 0,
             "ticks": ""
            },
            "type": "mesh3d"
           }
          ],
          "parcoords": [
           {
            "line": {
             "colorbar": {
              "outlinewidth": 0,
              "ticks": ""
             }
            },
            "type": "parcoords"
           }
          ],
          "pie": [
           {
            "automargin": true,
            "type": "pie"
           }
          ],
          "scatter": [
           {
            "fillpattern": {
             "fillmode": "overlay",
             "size": 10,
             "solidity": 0.2
            },
            "type": "scatter"
           }
          ],
          "scatter3d": [
           {
            "line": {
             "colorbar": {
              "outlinewidth": 0,
              "ticks": ""
             }
            },
            "marker": {
             "colorbar": {
              "outlinewidth": 0,
              "ticks": ""
             }
            },
            "type": "scatter3d"
           }
          ],
          "scattercarpet": [
           {
            "marker": {
             "colorbar": {
              "outlinewidth": 0,
              "ticks": ""
             }
            },
            "type": "scattercarpet"
           }
          ],
          "scattergeo": [
           {
            "marker": {
             "colorbar": {
              "outlinewidth": 0,
              "ticks": ""
             }
            },
            "type": "scattergeo"
           }
          ],
          "scattergl": [
           {
            "marker": {
             "colorbar": {
              "outlinewidth": 0,
              "ticks": ""
             }
            },
            "type": "scattergl"
           }
          ],
          "scattermapbox": [
           {
            "marker": {
             "colorbar": {
              "outlinewidth": 0,
              "ticks": ""
             }
            },
            "type": "scattermapbox"
           }
          ],
          "scatterpolar": [
           {
            "marker": {
             "colorbar": {
              "outlinewidth": 0,
              "ticks": ""
             }
            },
            "type": "scatterpolar"
           }
          ],
          "scatterpolargl": [
           {
            "marker": {
             "colorbar": {
              "outlinewidth": 0,
              "ticks": ""
             }
            },
            "type": "scatterpolargl"
           }
          ],
          "scatterternary": [
           {
            "marker": {
             "colorbar": {
              "outlinewidth": 0,
              "ticks": ""
             }
            },
            "type": "scatterternary"
           }
          ],
          "surface": [
           {
            "colorbar": {
             "outlinewidth": 0,
             "ticks": ""
            },
            "colorscale": [
             [
              0,
              "#0d0887"
             ],
             [
              0.1111111111111111,
              "#46039f"
             ],
             [
              0.2222222222222222,
              "#7201a8"
             ],
             [
              0.3333333333333333,
              "#9c179e"
             ],
             [
              0.4444444444444444,
              "#bd3786"
             ],
             [
              0.5555555555555556,
              "#d8576b"
             ],
             [
              0.6666666666666666,
              "#ed7953"
             ],
             [
              0.7777777777777778,
              "#fb9f3a"
             ],
             [
              0.8888888888888888,
              "#fdca26"
             ],
             [
              1,
              "#f0f921"
             ]
            ],
            "type": "surface"
           }
          ],
          "table": [
           {
            "cells": {
             "fill": {
              "color": "#EBF0F8"
             },
             "line": {
              "color": "white"
             }
            },
            "header": {
             "fill": {
              "color": "#C8D4E3"
             },
             "line": {
              "color": "white"
             }
            },
            "type": "table"
           }
          ]
         },
         "layout": {
          "annotationdefaults": {
           "arrowcolor": "#2a3f5f",
           "arrowhead": 0,
           "arrowwidth": 1
          },
          "autotypenumbers": "strict",
          "coloraxis": {
           "colorbar": {
            "outlinewidth": 0,
            "ticks": ""
           }
          },
          "colorscale": {
           "diverging": [
            [
             0,
             "#8e0152"
            ],
            [
             0.1,
             "#c51b7d"
            ],
            [
             0.2,
             "#de77ae"
            ],
            [
             0.3,
             "#f1b6da"
            ],
            [
             0.4,
             "#fde0ef"
            ],
            [
             0.5,
             "#f7f7f7"
            ],
            [
             0.6,
             "#e6f5d0"
            ],
            [
             0.7,
             "#b8e186"
            ],
            [
             0.8,
             "#7fbc41"
            ],
            [
             0.9,
             "#4d9221"
            ],
            [
             1,
             "#276419"
            ]
           ],
           "sequential": [
            [
             0,
             "#0d0887"
            ],
            [
             0.1111111111111111,
             "#46039f"
            ],
            [
             0.2222222222222222,
             "#7201a8"
            ],
            [
             0.3333333333333333,
             "#9c179e"
            ],
            [
             0.4444444444444444,
             "#bd3786"
            ],
            [
             0.5555555555555556,
             "#d8576b"
            ],
            [
             0.6666666666666666,
             "#ed7953"
            ],
            [
             0.7777777777777778,
             "#fb9f3a"
            ],
            [
             0.8888888888888888,
             "#fdca26"
            ],
            [
             1,
             "#f0f921"
            ]
           ],
           "sequentialminus": [
            [
             0,
             "#0d0887"
            ],
            [
             0.1111111111111111,
             "#46039f"
            ],
            [
             0.2222222222222222,
             "#7201a8"
            ],
            [
             0.3333333333333333,
             "#9c179e"
            ],
            [
             0.4444444444444444,
             "#bd3786"
            ],
            [
             0.5555555555555556,
             "#d8576b"
            ],
            [
             0.6666666666666666,
             "#ed7953"
            ],
            [
             0.7777777777777778,
             "#fb9f3a"
            ],
            [
             0.8888888888888888,
             "#fdca26"
            ],
            [
             1,
             "#f0f921"
            ]
           ]
          },
          "colorway": [
           "#636efa",
           "#EF553B",
           "#00cc96",
           "#ab63fa",
           "#FFA15A",
           "#19d3f3",
           "#FF6692",
           "#B6E880",
           "#FF97FF",
           "#FECB52"
          ],
          "font": {
           "color": "#2a3f5f"
          },
          "geo": {
           "bgcolor": "white",
           "lakecolor": "white",
           "landcolor": "#E5ECF6",
           "showlakes": true,
           "showland": true,
           "subunitcolor": "white"
          },
          "hoverlabel": {
           "align": "left"
          },
          "hovermode": "closest",
          "mapbox": {
           "style": "light"
          },
          "paper_bgcolor": "white",
          "plot_bgcolor": "#E5ECF6",
          "polar": {
           "angularaxis": {
            "gridcolor": "white",
            "linecolor": "white",
            "ticks": ""
           },
           "bgcolor": "#E5ECF6",
           "radialaxis": {
            "gridcolor": "white",
            "linecolor": "white",
            "ticks": ""
           }
          },
          "scene": {
           "xaxis": {
            "backgroundcolor": "#E5ECF6",
            "gridcolor": "white",
            "gridwidth": 2,
            "linecolor": "white",
            "showbackground": true,
            "ticks": "",
            "zerolinecolor": "white"
           },
           "yaxis": {
            "backgroundcolor": "#E5ECF6",
            "gridcolor": "white",
            "gridwidth": 2,
            "linecolor": "white",
            "showbackground": true,
            "ticks": "",
            "zerolinecolor": "white"
           },
           "zaxis": {
            "backgroundcolor": "#E5ECF6",
            "gridcolor": "white",
            "gridwidth": 2,
            "linecolor": "white",
            "showbackground": true,
            "ticks": "",
            "zerolinecolor": "white"
           }
          },
          "shapedefaults": {
           "line": {
            "color": "#2a3f5f"
           }
          },
          "ternary": {
           "aaxis": {
            "gridcolor": "white",
            "linecolor": "white",
            "ticks": ""
           },
           "baxis": {
            "gridcolor": "white",
            "linecolor": "white",
            "ticks": ""
           },
           "bgcolor": "#E5ECF6",
           "caxis": {
            "gridcolor": "white",
            "linecolor": "white",
            "ticks": ""
           }
          },
          "title": {
           "x": 0.05
          },
          "xaxis": {
           "automargin": true,
           "gridcolor": "white",
           "linecolor": "white",
           "ticks": "",
           "title": {
            "standoff": 15
           },
           "zerolinecolor": "white",
           "zerolinewidth": 2
          },
          "yaxis": {
           "automargin": true,
           "gridcolor": "white",
           "linecolor": "white",
           "ticks": "",
           "title": {
            "standoff": 15
           },
           "zerolinecolor": "white",
           "zerolinewidth": 2
          }
         }
        },
        "xaxis": {
         "anchor": "y",
         "domain": [
          0,
          1
         ],
         "title": {
          "text": "ds"
         }
        },
        "yaxis": {
         "anchor": "x",
         "domain": [
          0,
          1
         ],
         "title": {
          "text": "y"
         }
        }
       }
      }
     },
     "metadata": {},
     "output_type": "display_data"
    }
   ],
   "source": [
    "forecast = m.predict(data_test)\n",
    "fig = px.line(data_test, x = \"ds\", y = \"y\")\n",
    "fig.add_trace(px.line(forecast, x = \"ds\", y=\"yhat\").data[0])\n",
    "fig['data'][1]['line']['color']=\"#4BE8E0\"\n",
    "fig.show()"
   ]
  },
  {
   "cell_type": "code",
   "execution_count": null,
   "metadata": {},
   "outputs": [
    {
     "name": "stdout",
     "output_type": "stream",
     "text": [
      "The MSE on the test set is : \n",
      " 34.67289531994379\n",
      "The MAE on the test set is : \n",
      " 5.28319496732711\n",
      "The MAPE on the test set is : \n",
      " 236.99587013539568\n"
     ]
    }
   ],
   "source": [
    "mse = mean_squared_error(y_true=data_test['y'],\n",
    "                   y_pred=forecast['yhat'])\n",
    "\n",
    "print(\"The MSE on the test set is : \\n {}\".format(mse))\n",
    "\n",
    "mae = mean_absolute_error(y_true=data_test['y'],\n",
    "                   y_pred=forecast['yhat'])\n",
    "\n",
    "print(\"The MAE on the test set is : \\n {}\".format(mae))\n",
    "\n",
    "def mean_absolute_percentage_error(y_true, y_pred): \n",
    "    \"\"\"Calculates MAPE given y_true and y_pred\"\"\"\n",
    "    y_true, y_pred = np.array(y_true), np.array(y_pred)\n",
    "    return np.mean(np.abs((y_true - y_pred) / y_true)) * 100\n",
    "\n",
    "mape = mean_absolute_percentage_error(y_true=data_test['y'],\n",
    "                   y_pred=forecast['yhat'])\n",
    "\n",
    "print(\"The MAPE on the test set is : \\n {}\".format(mape))"
   ]
  },
  {
   "cell_type": "code",
   "execution_count": null,
   "metadata": {},
   "outputs": [
    {
     "data": {
      "text/html": [
       "<div>\n",
       "<style scoped>\n",
       "    .dataframe tbody tr th:only-of-type {\n",
       "        vertical-align: middle;\n",
       "    }\n",
       "\n",
       "    .dataframe tbody tr th {\n",
       "        vertical-align: top;\n",
       "    }\n",
       "\n",
       "    .dataframe thead th {\n",
       "        text-align: right;\n",
       "    }\n",
       "</style>\n",
       "<table border=\"1\" class=\"dataframe\">\n",
       "  <thead>\n",
       "    <tr style=\"text-align: right;\">\n",
       "      <th></th>\n",
       "      <th>date</th>\n",
       "      <th>vacances_zone_a</th>\n",
       "      <th>vacances_zone_b</th>\n",
       "      <th>vacances_zone_c</th>\n",
       "      <th>nom_vacances</th>\n",
       "    </tr>\n",
       "  </thead>\n",
       "  <tbody>\n",
       "    <tr>\n",
       "      <th>0</th>\n",
       "      <td>1990-01-01</td>\n",
       "      <td>False</td>\n",
       "      <td>False</td>\n",
       "      <td>False</td>\n",
       "      <td>NaN</td>\n",
       "    </tr>\n",
       "    <tr>\n",
       "      <th>1</th>\n",
       "      <td>1990-01-02</td>\n",
       "      <td>False</td>\n",
       "      <td>False</td>\n",
       "      <td>False</td>\n",
       "      <td>NaN</td>\n",
       "    </tr>\n",
       "    <tr>\n",
       "      <th>2</th>\n",
       "      <td>1990-01-03</td>\n",
       "      <td>False</td>\n",
       "      <td>False</td>\n",
       "      <td>False</td>\n",
       "      <td>NaN</td>\n",
       "    </tr>\n",
       "    <tr>\n",
       "      <th>3</th>\n",
       "      <td>1990-01-04</td>\n",
       "      <td>False</td>\n",
       "      <td>False</td>\n",
       "      <td>False</td>\n",
       "      <td>NaN</td>\n",
       "    </tr>\n",
       "    <tr>\n",
       "      <th>4</th>\n",
       "      <td>1990-01-05</td>\n",
       "      <td>False</td>\n",
       "      <td>False</td>\n",
       "      <td>False</td>\n",
       "      <td>NaN</td>\n",
       "    </tr>\n",
       "  </tbody>\n",
       "</table>\n",
       "</div>"
      ],
      "text/plain": [
       "         date  vacances_zone_a  vacances_zone_b  vacances_zone_c nom_vacances\n",
       "0  1990-01-01            False            False            False          NaN\n",
       "1  1990-01-02            False            False            False          NaN\n",
       "2  1990-01-03            False            False            False          NaN\n",
       "3  1990-01-04            False            False            False          NaN\n",
       "4  1990-01-05            False            False            False          NaN"
      ]
     },
     "execution_count": 14,
     "metadata": {},
     "output_type": "execute_result"
    }
   ],
   "source": [
    "data_holiday1=pd.read_csv(\"data.csv\")\n",
    "frequentation=pd.read_csv(\"frequentation.csv\", delimiter=\";\")\n",
    "data_holiday1.head()"
   ]
  },
  {
   "cell_type": "code",
   "execution_count": null,
   "metadata": {},
   "outputs": [
    {
     "name": "stderr",
     "output_type": "stream",
     "text": [
      "/var/folders/83/w7lxc5zn2gl73gq3cml70sy80000gn/T/ipykernel_42129/2363096038.py:5: SettingWithCopyWarning:\n",
      "\n",
      "\n",
      "A value is trying to be set on a copy of a slice from a DataFrame.\n",
      "Try using .loc[row_indexer,col_indexer] = value instead\n",
      "\n",
      "See the caveats in the documentation: https://pandas.pydata.org/pandas-docs/stable/user_guide/indexing.html#returning-a-view-versus-a-copy\n",
      "\n",
      "/var/folders/83/w7lxc5zn2gl73gq3cml70sy80000gn/T/ipykernel_42129/2363096038.py:6: SettingWithCopyWarning:\n",
      "\n",
      "\n",
      "A value is trying to be set on a copy of a slice from a DataFrame.\n",
      "Try using .loc[row_indexer,col_indexer] = value instead\n",
      "\n",
      "See the caveats in the documentation: https://pandas.pydata.org/pandas-docs/stable/user_guide/indexing.html#returning-a-view-versus-a-copy\n",
      "\n"
     ]
    },
    {
     "data": {
      "text/html": [
       "<div>\n",
       "<style scoped>\n",
       "    .dataframe tbody tr th:only-of-type {\n",
       "        vertical-align: middle;\n",
       "    }\n",
       "\n",
       "    .dataframe tbody tr th {\n",
       "        vertical-align: top;\n",
       "    }\n",
       "\n",
       "    .dataframe thead th {\n",
       "        text-align: right;\n",
       "    }\n",
       "</style>\n",
       "<table border=\"1\" class=\"dataframe\">\n",
       "  <thead>\n",
       "    <tr style=\"text-align: right;\">\n",
       "      <th></th>\n",
       "      <th>date</th>\n",
       "      <th>nom_vacances</th>\n",
       "      <th>ds</th>\n",
       "      <th>holiday</th>\n",
       "    </tr>\n",
       "  </thead>\n",
       "  <tbody>\n",
       "    <tr>\n",
       "      <th>299</th>\n",
       "      <td>1990-10-27</td>\n",
       "      <td>Vacances de la Toussaint</td>\n",
       "      <td>1990-10-27</td>\n",
       "      <td>Vacances de la Toussaint</td>\n",
       "    </tr>\n",
       "    <tr>\n",
       "      <th>300</th>\n",
       "      <td>1990-10-28</td>\n",
       "      <td>Vacances de la Toussaint</td>\n",
       "      <td>1990-10-28</td>\n",
       "      <td>Vacances de la Toussaint</td>\n",
       "    </tr>\n",
       "    <tr>\n",
       "      <th>301</th>\n",
       "      <td>1990-10-29</td>\n",
       "      <td>Vacances de la Toussaint</td>\n",
       "      <td>1990-10-29</td>\n",
       "      <td>Vacances de la Toussaint</td>\n",
       "    </tr>\n",
       "    <tr>\n",
       "      <th>302</th>\n",
       "      <td>1990-10-30</td>\n",
       "      <td>Vacances de la Toussaint</td>\n",
       "      <td>1990-10-30</td>\n",
       "      <td>Vacances de la Toussaint</td>\n",
       "    </tr>\n",
       "    <tr>\n",
       "      <th>303</th>\n",
       "      <td>1990-10-31</td>\n",
       "      <td>Vacances de la Toussaint</td>\n",
       "      <td>1990-10-31</td>\n",
       "      <td>Vacances de la Toussaint</td>\n",
       "    </tr>\n",
       "  </tbody>\n",
       "</table>\n",
       "</div>"
      ],
      "text/plain": [
       "           date              nom_vacances          ds  \\\n",
       "299  1990-10-27  Vacances de la Toussaint  1990-10-27   \n",
       "300  1990-10-28  Vacances de la Toussaint  1990-10-28   \n",
       "301  1990-10-29  Vacances de la Toussaint  1990-10-29   \n",
       "302  1990-10-30  Vacances de la Toussaint  1990-10-30   \n",
       "303  1990-10-31  Vacances de la Toussaint  1990-10-31   \n",
       "\n",
       "                      holiday  \n",
       "299  Vacances de la Toussaint  \n",
       "300  Vacances de la Toussaint  \n",
       "301  Vacances de la Toussaint  \n",
       "302  Vacances de la Toussaint  \n",
       "303  Vacances de la Toussaint  "
      ]
     },
     "execution_count": 15,
     "metadata": {},
     "output_type": "execute_result"
    }
   ],
   "source": [
    "data_holiday1[\"date\"]=data_holiday1[\"date\"].apply(lambda x : datetime.strptime(x, \"%Y-%m-%d\").date())\n",
    "data_holiday1 = data_holiday1.drop(columns=['vacances_zone_a','vacances_zone_b','vacances_zone_c'])\n",
    "mask = data_holiday1[\"nom_vacances\"].notna()\n",
    "data_holiday = data_holiday1[mask]\n",
    "data_holiday[\"ds\"] = data_holiday[\"date\"]\n",
    "data_holiday[\"holiday\"]=data_holiday[\"nom_vacances\"]\n",
    "data_holiday.head()"
   ]
  },
  {
   "cell_type": "code",
   "execution_count": null,
   "metadata": {},
   "outputs": [
    {
     "name": "stderr",
     "output_type": "stream",
     "text": [
      "/Users/simoncld/anaconda3/lib/python3.11/site-packages/prophet/forecaster.py:187: SettingWithCopyWarning:\n",
      "\n",
      "\n",
      "A value is trying to be set on a copy of a slice from a DataFrame.\n",
      "Try using .loc[row_indexer,col_indexer] = value instead\n",
      "\n",
      "See the caveats in the documentation: https://pandas.pydata.org/pandas-docs/stable/user_guide/indexing.html#returning-a-view-versus-a-copy\n",
      "\n",
      "09:39:23 - cmdstanpy - INFO - Chain [1] start processing\n",
      "09:39:24 - cmdstanpy - INFO - Chain [1] done processing\n",
      "/Users/simoncld/anaconda3/lib/python3.11/site-packages/_plotly_utils/basevalidators.py:106: FutureWarning:\n",
      "\n",
      "The behavior of DatetimeProperties.to_pydatetime is deprecated, in a future version this will return a Series containing python datetime objects instead of an ndarray. To retain the old behavior, call `np.array` on the result\n",
      "\n"
     ]
    },
    {
     "data": {
      "application/vnd.plotly.v1+json": {
       "config": {
        "plotlyServerURL": "https://plot.ly"
       },
       "data": [
        {
         "hovertemplate": "ds=%{x}<br>y=%{y}<extra></extra>",
         "legendgroup": "",
         "line": {
          "color": "#636efa",
          "dash": "solid"
         },
         "marker": {
          "symbol": "circle"
         },
         "mode": "lines",
         "name": "",
         "orientation": "v",
         "showlegend": false,
         "type": "scatter",
         "x": [
          "2023-11-01",
          "2023-11-02",
          "2023-11-03",
          "2023-11-04",
          "2023-11-05",
          "2023-11-06",
          "2023-11-07",
          "2023-11-08",
          "2023-11-09",
          "2023-11-10",
          "2023-11-11",
          "2023-11-12",
          "2023-11-13",
          "2023-11-14",
          "2023-11-15",
          "2023-11-16",
          "2023-11-17",
          "2023-11-18",
          "2023-11-19",
          "2023-11-20",
          "2023-11-21",
          "2023-11-22",
          "2023-11-23",
          "2023-11-24",
          "2023-11-25",
          "2023-11-26",
          "2023-11-27",
          "2023-11-28",
          "2023-11-29",
          "2023-11-30",
          "2023-12-01",
          "2023-12-02",
          "2023-12-03",
          "2023-12-04",
          "2023-12-05",
          "2023-12-06",
          "2023-12-07",
          "2023-12-08",
          "2023-12-09",
          "2023-12-10",
          "2023-12-11",
          "2023-12-12",
          "2023-12-13",
          "2023-12-14",
          "2023-12-15",
          "2023-12-16",
          "2023-12-17",
          "2023-12-18",
          "2023-12-19",
          "2023-12-20",
          "2023-12-21",
          "2023-12-22",
          "2023-12-23",
          "2023-12-24",
          "2023-12-25",
          "2023-12-26",
          "2023-12-27",
          "2023-12-28",
          "2023-12-29",
          "2023-12-30",
          "2023-12-31",
          "2024-01-02",
          "2024-01-03",
          "2024-01-04",
          "2024-01-05",
          "2024-01-06",
          "2024-01-07"
         ],
         "xaxis": "x",
         "y": [
          6,
          7,
          12,
          12,
          10,
          3,
          3,
          3,
          7,
          11,
          9,
          7,
          6,
          8,
          6,
          6,
          9,
          11,
          7,
          3,
          4,
          4,
          5,
          11,
          13,
          7,
          5,
          7,
          7,
          6,
          4,
          7,
          3,
          2,
          1,
          1,
          3,
          4,
          5,
          2,
          1,
          1,
          2,
          3,
          4,
          5,
          3,
          1,
          1,
          1,
          3,
          5,
          8,
          6,
          6,
          4,
          4,
          5,
          5,
          7,
          5,
          1,
          1,
          2,
          2,
          3,
          1
         ],
         "yaxis": "y"
        },
        {
         "hovertemplate": "ds=%{x}<br>yhat=%{y}<extra></extra>",
         "legendgroup": "",
         "line": {
          "color": "#4BE8E0",
          "dash": "solid"
         },
         "marker": {
          "symbol": "circle"
         },
         "mode": "lines",
         "name": "",
         "orientation": "v",
         "showlegend": false,
         "type": "scatter",
         "x": [
          "2023-11-01T00:00:00",
          "2023-11-02T00:00:00",
          "2023-11-03T00:00:00",
          "2023-11-04T00:00:00",
          "2023-11-05T00:00:00",
          "2023-11-06T00:00:00",
          "2023-11-07T00:00:00",
          "2023-11-08T00:00:00",
          "2023-11-09T00:00:00",
          "2023-11-10T00:00:00",
          "2023-11-11T00:00:00",
          "2023-11-12T00:00:00",
          "2023-11-13T00:00:00",
          "2023-11-14T00:00:00",
          "2023-11-15T00:00:00",
          "2023-11-16T00:00:00",
          "2023-11-17T00:00:00",
          "2023-11-18T00:00:00",
          "2023-11-19T00:00:00",
          "2023-11-20T00:00:00",
          "2023-11-21T00:00:00",
          "2023-11-22T00:00:00",
          "2023-11-23T00:00:00",
          "2023-11-24T00:00:00",
          "2023-11-25T00:00:00",
          "2023-11-26T00:00:00",
          "2023-11-27T00:00:00",
          "2023-11-28T00:00:00",
          "2023-11-29T00:00:00",
          "2023-11-30T00:00:00",
          "2023-12-01T00:00:00",
          "2023-12-02T00:00:00",
          "2023-12-03T00:00:00",
          "2023-12-04T00:00:00",
          "2023-12-05T00:00:00",
          "2023-12-06T00:00:00",
          "2023-12-07T00:00:00",
          "2023-12-08T00:00:00",
          "2023-12-09T00:00:00",
          "2023-12-10T00:00:00",
          "2023-12-11T00:00:00",
          "2023-12-12T00:00:00",
          "2023-12-13T00:00:00",
          "2023-12-14T00:00:00",
          "2023-12-15T00:00:00",
          "2023-12-16T00:00:00",
          "2023-12-17T00:00:00",
          "2023-12-18T00:00:00",
          "2023-12-19T00:00:00",
          "2023-12-20T00:00:00",
          "2023-12-21T00:00:00",
          "2023-12-22T00:00:00",
          "2023-12-23T00:00:00",
          "2023-12-24T00:00:00",
          "2023-12-25T00:00:00",
          "2023-12-26T00:00:00",
          "2023-12-27T00:00:00",
          "2023-12-28T00:00:00",
          "2023-12-29T00:00:00",
          "2023-12-30T00:00:00",
          "2023-12-31T00:00:00",
          "2024-01-02T00:00:00",
          "2024-01-03T00:00:00",
          "2024-01-04T00:00:00",
          "2024-01-05T00:00:00",
          "2024-01-06T00:00:00",
          "2024-01-07T00:00:00"
         ],
         "xaxis": "x",
         "y": [
          8.39628827200559,
          9.626665096875378,
          9.535412457621096,
          10.634279651100545,
          8.600377147137163,
          8.262890380124393,
          8.437921408956663,
          8.699584539860146,
          9.929961364723635,
          9.838708725473495,
          10.937575918952989,
          8.903673414985931,
          8.321653547971826,
          8.496684576809852,
          8.758347707709778,
          9.988724532576455,
          9.897471893326168,
          10.996339086804134,
          8.962436582834696,
          8.380416715827653,
          8.555447744663038,
          8.817110875561369,
          10.047487700427482,
          9.956235061178287,
          11.05510225465528,
          9.021199750688695,
          8.439179883678504,
          8.614210912512684,
          8.875874043412962,
          10.106250868278503,
          10.014998229027935,
          11.113865422507716,
          9.07996291853746,
          8.497943051532767,
          8.67297408036941,
          8.93463721126259,
          10.165014036133128,
          10.073761396880332,
          11.172628590360157,
          9.138726086388843,
          8.556706219387033,
          8.731737248216469,
          8.993400379114183,
          10.223777203984147,
          10.132524564733007,
          11.231391758211302,
          9.197489254246417,
          8.615469387234464,
          8.790500416073195,
          9.052163546968739,
          10.282540371836973,
          10.191287732585685,
          12.043209026063746,
          10.009306522097798,
          9.427286655088729,
          9.602317683922841,
          9.863980814820332,
          11.094357639687026,
          11.0031050004378,
          12.101972193913594,
          10.068069689946563,
          9.661080851773438,
          9.922743982674888,
          11.15312080753985,
          11.061868168286892,
          12.160735361766038,
          10.126832857797947
         ],
         "yaxis": "y"
        }
       ],
       "layout": {
        "legend": {
         "tracegroupgap": 0
        },
        "margin": {
         "t": 60
        },
        "template": {
         "data": {
          "bar": [
           {
            "error_x": {
             "color": "#2a3f5f"
            },
            "error_y": {
             "color": "#2a3f5f"
            },
            "marker": {
             "line": {
              "color": "#E5ECF6",
              "width": 0.5
             },
             "pattern": {
              "fillmode": "overlay",
              "size": 10,
              "solidity": 0.2
             }
            },
            "type": "bar"
           }
          ],
          "barpolar": [
           {
            "marker": {
             "line": {
              "color": "#E5ECF6",
              "width": 0.5
             },
             "pattern": {
              "fillmode": "overlay",
              "size": 10,
              "solidity": 0.2
             }
            },
            "type": "barpolar"
           }
          ],
          "carpet": [
           {
            "aaxis": {
             "endlinecolor": "#2a3f5f",
             "gridcolor": "white",
             "linecolor": "white",
             "minorgridcolor": "white",
             "startlinecolor": "#2a3f5f"
            },
            "baxis": {
             "endlinecolor": "#2a3f5f",
             "gridcolor": "white",
             "linecolor": "white",
             "minorgridcolor": "white",
             "startlinecolor": "#2a3f5f"
            },
            "type": "carpet"
           }
          ],
          "choropleth": [
           {
            "colorbar": {
             "outlinewidth": 0,
             "ticks": ""
            },
            "type": "choropleth"
           }
          ],
          "contour": [
           {
            "colorbar": {
             "outlinewidth": 0,
             "ticks": ""
            },
            "colorscale": [
             [
              0,
              "#0d0887"
             ],
             [
              0.1111111111111111,
              "#46039f"
             ],
             [
              0.2222222222222222,
              "#7201a8"
             ],
             [
              0.3333333333333333,
              "#9c179e"
             ],
             [
              0.4444444444444444,
              "#bd3786"
             ],
             [
              0.5555555555555556,
              "#d8576b"
             ],
             [
              0.6666666666666666,
              "#ed7953"
             ],
             [
              0.7777777777777778,
              "#fb9f3a"
             ],
             [
              0.8888888888888888,
              "#fdca26"
             ],
             [
              1,
              "#f0f921"
             ]
            ],
            "type": "contour"
           }
          ],
          "contourcarpet": [
           {
            "colorbar": {
             "outlinewidth": 0,
             "ticks": ""
            },
            "type": "contourcarpet"
           }
          ],
          "heatmap": [
           {
            "colorbar": {
             "outlinewidth": 0,
             "ticks": ""
            },
            "colorscale": [
             [
              0,
              "#0d0887"
             ],
             [
              0.1111111111111111,
              "#46039f"
             ],
             [
              0.2222222222222222,
              "#7201a8"
             ],
             [
              0.3333333333333333,
              "#9c179e"
             ],
             [
              0.4444444444444444,
              "#bd3786"
             ],
             [
              0.5555555555555556,
              "#d8576b"
             ],
             [
              0.6666666666666666,
              "#ed7953"
             ],
             [
              0.7777777777777778,
              "#fb9f3a"
             ],
             [
              0.8888888888888888,
              "#fdca26"
             ],
             [
              1,
              "#f0f921"
             ]
            ],
            "type": "heatmap"
           }
          ],
          "heatmapgl": [
           {
            "colorbar": {
             "outlinewidth": 0,
             "ticks": ""
            },
            "colorscale": [
             [
              0,
              "#0d0887"
             ],
             [
              0.1111111111111111,
              "#46039f"
             ],
             [
              0.2222222222222222,
              "#7201a8"
             ],
             [
              0.3333333333333333,
              "#9c179e"
             ],
             [
              0.4444444444444444,
              "#bd3786"
             ],
             [
              0.5555555555555556,
              "#d8576b"
             ],
             [
              0.6666666666666666,
              "#ed7953"
             ],
             [
              0.7777777777777778,
              "#fb9f3a"
             ],
             [
              0.8888888888888888,
              "#fdca26"
             ],
             [
              1,
              "#f0f921"
             ]
            ],
            "type": "heatmapgl"
           }
          ],
          "histogram": [
           {
            "marker": {
             "pattern": {
              "fillmode": "overlay",
              "size": 10,
              "solidity": 0.2
             }
            },
            "type": "histogram"
           }
          ],
          "histogram2d": [
           {
            "colorbar": {
             "outlinewidth": 0,
             "ticks": ""
            },
            "colorscale": [
             [
              0,
              "#0d0887"
             ],
             [
              0.1111111111111111,
              "#46039f"
             ],
             [
              0.2222222222222222,
              "#7201a8"
             ],
             [
              0.3333333333333333,
              "#9c179e"
             ],
             [
              0.4444444444444444,
              "#bd3786"
             ],
             [
              0.5555555555555556,
              "#d8576b"
             ],
             [
              0.6666666666666666,
              "#ed7953"
             ],
             [
              0.7777777777777778,
              "#fb9f3a"
             ],
             [
              0.8888888888888888,
              "#fdca26"
             ],
             [
              1,
              "#f0f921"
             ]
            ],
            "type": "histogram2d"
           }
          ],
          "histogram2dcontour": [
           {
            "colorbar": {
             "outlinewidth": 0,
             "ticks": ""
            },
            "colorscale": [
             [
              0,
              "#0d0887"
             ],
             [
              0.1111111111111111,
              "#46039f"
             ],
             [
              0.2222222222222222,
              "#7201a8"
             ],
             [
              0.3333333333333333,
              "#9c179e"
             ],
             [
              0.4444444444444444,
              "#bd3786"
             ],
             [
              0.5555555555555556,
              "#d8576b"
             ],
             [
              0.6666666666666666,
              "#ed7953"
             ],
             [
              0.7777777777777778,
              "#fb9f3a"
             ],
             [
              0.8888888888888888,
              "#fdca26"
             ],
             [
              1,
              "#f0f921"
             ]
            ],
            "type": "histogram2dcontour"
           }
          ],
          "mesh3d": [
           {
            "colorbar": {
             "outlinewidth": 0,
             "ticks": ""
            },
            "type": "mesh3d"
           }
          ],
          "parcoords": [
           {
            "line": {
             "colorbar": {
              "outlinewidth": 0,
              "ticks": ""
             }
            },
            "type": "parcoords"
           }
          ],
          "pie": [
           {
            "automargin": true,
            "type": "pie"
           }
          ],
          "scatter": [
           {
            "fillpattern": {
             "fillmode": "overlay",
             "size": 10,
             "solidity": 0.2
            },
            "type": "scatter"
           }
          ],
          "scatter3d": [
           {
            "line": {
             "colorbar": {
              "outlinewidth": 0,
              "ticks": ""
             }
            },
            "marker": {
             "colorbar": {
              "outlinewidth": 0,
              "ticks": ""
             }
            },
            "type": "scatter3d"
           }
          ],
          "scattercarpet": [
           {
            "marker": {
             "colorbar": {
              "outlinewidth": 0,
              "ticks": ""
             }
            },
            "type": "scattercarpet"
           }
          ],
          "scattergeo": [
           {
            "marker": {
             "colorbar": {
              "outlinewidth": 0,
              "ticks": ""
             }
            },
            "type": "scattergeo"
           }
          ],
          "scattergl": [
           {
            "marker": {
             "colorbar": {
              "outlinewidth": 0,
              "ticks": ""
             }
            },
            "type": "scattergl"
           }
          ],
          "scattermapbox": [
           {
            "marker": {
             "colorbar": {
              "outlinewidth": 0,
              "ticks": ""
             }
            },
            "type": "scattermapbox"
           }
          ],
          "scatterpolar": [
           {
            "marker": {
             "colorbar": {
              "outlinewidth": 0,
              "ticks": ""
             }
            },
            "type": "scatterpolar"
           }
          ],
          "scatterpolargl": [
           {
            "marker": {
             "colorbar": {
              "outlinewidth": 0,
              "ticks": ""
             }
            },
            "type": "scatterpolargl"
           }
          ],
          "scatterternary": [
           {
            "marker": {
             "colorbar": {
              "outlinewidth": 0,
              "ticks": ""
             }
            },
            "type": "scatterternary"
           }
          ],
          "surface": [
           {
            "colorbar": {
             "outlinewidth": 0,
             "ticks": ""
            },
            "colorscale": [
             [
              0,
              "#0d0887"
             ],
             [
              0.1111111111111111,
              "#46039f"
             ],
             [
              0.2222222222222222,
              "#7201a8"
             ],
             [
              0.3333333333333333,
              "#9c179e"
             ],
             [
              0.4444444444444444,
              "#bd3786"
             ],
             [
              0.5555555555555556,
              "#d8576b"
             ],
             [
              0.6666666666666666,
              "#ed7953"
             ],
             [
              0.7777777777777778,
              "#fb9f3a"
             ],
             [
              0.8888888888888888,
              "#fdca26"
             ],
             [
              1,
              "#f0f921"
             ]
            ],
            "type": "surface"
           }
          ],
          "table": [
           {
            "cells": {
             "fill": {
              "color": "#EBF0F8"
             },
             "line": {
              "color": "white"
             }
            },
            "header": {
             "fill": {
              "color": "#C8D4E3"
             },
             "line": {
              "color": "white"
             }
            },
            "type": "table"
           }
          ]
         },
         "layout": {
          "annotationdefaults": {
           "arrowcolor": "#2a3f5f",
           "arrowhead": 0,
           "arrowwidth": 1
          },
          "autotypenumbers": "strict",
          "coloraxis": {
           "colorbar": {
            "outlinewidth": 0,
            "ticks": ""
           }
          },
          "colorscale": {
           "diverging": [
            [
             0,
             "#8e0152"
            ],
            [
             0.1,
             "#c51b7d"
            ],
            [
             0.2,
             "#de77ae"
            ],
            [
             0.3,
             "#f1b6da"
            ],
            [
             0.4,
             "#fde0ef"
            ],
            [
             0.5,
             "#f7f7f7"
            ],
            [
             0.6,
             "#e6f5d0"
            ],
            [
             0.7,
             "#b8e186"
            ],
            [
             0.8,
             "#7fbc41"
            ],
            [
             0.9,
             "#4d9221"
            ],
            [
             1,
             "#276419"
            ]
           ],
           "sequential": [
            [
             0,
             "#0d0887"
            ],
            [
             0.1111111111111111,
             "#46039f"
            ],
            [
             0.2222222222222222,
             "#7201a8"
            ],
            [
             0.3333333333333333,
             "#9c179e"
            ],
            [
             0.4444444444444444,
             "#bd3786"
            ],
            [
             0.5555555555555556,
             "#d8576b"
            ],
            [
             0.6666666666666666,
             "#ed7953"
            ],
            [
             0.7777777777777778,
             "#fb9f3a"
            ],
            [
             0.8888888888888888,
             "#fdca26"
            ],
            [
             1,
             "#f0f921"
            ]
           ],
           "sequentialminus": [
            [
             0,
             "#0d0887"
            ],
            [
             0.1111111111111111,
             "#46039f"
            ],
            [
             0.2222222222222222,
             "#7201a8"
            ],
            [
             0.3333333333333333,
             "#9c179e"
            ],
            [
             0.4444444444444444,
             "#bd3786"
            ],
            [
             0.5555555555555556,
             "#d8576b"
            ],
            [
             0.6666666666666666,
             "#ed7953"
            ],
            [
             0.7777777777777778,
             "#fb9f3a"
            ],
            [
             0.8888888888888888,
             "#fdca26"
            ],
            [
             1,
             "#f0f921"
            ]
           ]
          },
          "colorway": [
           "#636efa",
           "#EF553B",
           "#00cc96",
           "#ab63fa",
           "#FFA15A",
           "#19d3f3",
           "#FF6692",
           "#B6E880",
           "#FF97FF",
           "#FECB52"
          ],
          "font": {
           "color": "#2a3f5f"
          },
          "geo": {
           "bgcolor": "white",
           "lakecolor": "white",
           "landcolor": "#E5ECF6",
           "showlakes": true,
           "showland": true,
           "subunitcolor": "white"
          },
          "hoverlabel": {
           "align": "left"
          },
          "hovermode": "closest",
          "mapbox": {
           "style": "light"
          },
          "paper_bgcolor": "white",
          "plot_bgcolor": "#E5ECF6",
          "polar": {
           "angularaxis": {
            "gridcolor": "white",
            "linecolor": "white",
            "ticks": ""
           },
           "bgcolor": "#E5ECF6",
           "radialaxis": {
            "gridcolor": "white",
            "linecolor": "white",
            "ticks": ""
           }
          },
          "scene": {
           "xaxis": {
            "backgroundcolor": "#E5ECF6",
            "gridcolor": "white",
            "gridwidth": 2,
            "linecolor": "white",
            "showbackground": true,
            "ticks": "",
            "zerolinecolor": "white"
           },
           "yaxis": {
            "backgroundcolor": "#E5ECF6",
            "gridcolor": "white",
            "gridwidth": 2,
            "linecolor": "white",
            "showbackground": true,
            "ticks": "",
            "zerolinecolor": "white"
           },
           "zaxis": {
            "backgroundcolor": "#E5ECF6",
            "gridcolor": "white",
            "gridwidth": 2,
            "linecolor": "white",
            "showbackground": true,
            "ticks": "",
            "zerolinecolor": "white"
           }
          },
          "shapedefaults": {
           "line": {
            "color": "#2a3f5f"
           }
          },
          "ternary": {
           "aaxis": {
            "gridcolor": "white",
            "linecolor": "white",
            "ticks": ""
           },
           "baxis": {
            "gridcolor": "white",
            "linecolor": "white",
            "ticks": ""
           },
           "bgcolor": "#E5ECF6",
           "caxis": {
            "gridcolor": "white",
            "linecolor": "white",
            "ticks": ""
           }
          },
          "title": {
           "x": 0.05
          },
          "xaxis": {
           "automargin": true,
           "gridcolor": "white",
           "linecolor": "white",
           "ticks": "",
           "title": {
            "standoff": 15
           },
           "zerolinecolor": "white",
           "zerolinewidth": 2
          },
          "yaxis": {
           "automargin": true,
           "gridcolor": "white",
           "linecolor": "white",
           "ticks": "",
           "title": {
            "standoff": 15
           },
           "zerolinecolor": "white",
           "zerolinewidth": 2
          }
         }
        },
        "xaxis": {
         "anchor": "y",
         "domain": [
          0,
          1
         ],
         "title": {
          "text": "ds"
         }
        },
        "yaxis": {
         "anchor": "x",
         "domain": [
          0,
          1
         ],
         "title": {
          "text": "y"
         }
        }
       }
      }
     },
     "metadata": {},
     "output_type": "display_data"
    }
   ],
   "source": [
    "split_date = datetime.strptime('2023-10-31', \"%Y-%m-%d\").date()\n",
    "data_train = data_ts.loc[data_ts.index <= split_date].copy()\n",
    "data_test = data_ts.loc[data_ts.index > split_date].copy()\n",
    "\n",
    "data_train = pd.DataFrame({\n",
    "    \"ds\":data_train.index,\n",
    "    \"y\": data_train[\"extra\"]\n",
    "}).reset_index(drop=True)\n",
    "data_train.head()\n",
    "\n",
    "\n",
    "m = Prophet(holidays=data_holiday)\n",
    "m.fit(data_train)\n",
    "\n",
    "data_test = pd.DataFrame({\n",
    "    \"ds\":data_test.index,\n",
    "    \"y\": data_test[\"extra\"]\n",
    "}).reset_index(drop=True)\n",
    "data_test.head()\n",
    "\n",
    "forecast = m.predict(data_test)\n",
    "\n",
    "fig = px.line(data_test, x = \"ds\", y = \"y\")\n",
    "fig.add_trace(px.line(forecast, x = \"ds\", y=\"yhat\").data[0])\n",
    "fig['data'][1]['line']['color']=\"#4BE8E0\"\n",
    "fig.show()"
   ]
  },
  {
   "cell_type": "code",
   "execution_count": null,
   "metadata": {},
   "outputs": [],
   "source": [
    "data_merge = pd.merge(data_holiday1, data_ts, on='date', how='inner')"
   ]
  },
  {
   "cell_type": "code",
   "execution_count": null,
   "metadata": {},
   "outputs": [
    {
     "data": {
      "text/html": [
       "<div>\n",
       "<style scoped>\n",
       "    .dataframe tbody tr th:only-of-type {\n",
       "        vertical-align: middle;\n",
       "    }\n",
       "\n",
       "    .dataframe tbody tr th {\n",
       "        vertical-align: top;\n",
       "    }\n",
       "\n",
       "    .dataframe thead th {\n",
       "        text-align: right;\n",
       "    }\n",
       "</style>\n",
       "<table border=\"1\" class=\"dataframe\">\n",
       "  <thead>\n",
       "    <tr style=\"text-align: right;\">\n",
       "      <th></th>\n",
       "      <th>date</th>\n",
       "      <th>nom_vacances</th>\n",
       "      <th>extra</th>\n",
       "    </tr>\n",
       "  </thead>\n",
       "  <tbody>\n",
       "    <tr>\n",
       "      <th>0</th>\n",
       "      <td>2021-11-30</td>\n",
       "      <td>NaN</td>\n",
       "      <td>1</td>\n",
       "    </tr>\n",
       "    <tr>\n",
       "      <th>1</th>\n",
       "      <td>2021-12-01</td>\n",
       "      <td>NaN</td>\n",
       "      <td>1</td>\n",
       "    </tr>\n",
       "    <tr>\n",
       "      <th>2</th>\n",
       "      <td>2021-12-02</td>\n",
       "      <td>NaN</td>\n",
       "      <td>1</td>\n",
       "    </tr>\n",
       "    <tr>\n",
       "      <th>3</th>\n",
       "      <td>2021-12-03</td>\n",
       "      <td>NaN</td>\n",
       "      <td>4</td>\n",
       "    </tr>\n",
       "    <tr>\n",
       "      <th>4</th>\n",
       "      <td>2021-12-04</td>\n",
       "      <td>NaN</td>\n",
       "      <td>3</td>\n",
       "    </tr>\n",
       "  </tbody>\n",
       "</table>\n",
       "</div>"
      ],
      "text/plain": [
       "         date nom_vacances  extra\n",
       "0  2021-11-30          NaN      1\n",
       "1  2021-12-01          NaN      1\n",
       "2  2021-12-02          NaN      1\n",
       "3  2021-12-03          NaN      4\n",
       "4  2021-12-04          NaN      3"
      ]
     },
     "execution_count": 18,
     "metadata": {},
     "output_type": "execute_result"
    }
   ],
   "source": [
    "data_merge.head()"
   ]
  },
  {
   "cell_type": "code",
   "execution_count": null,
   "metadata": {},
   "outputs": [
    {
     "data": {
      "text/plain": [
       "nom_vacances\n",
       "0    449\n",
       "1    317\n",
       "Name: count, dtype: int64"
      ]
     },
     "execution_count": 19,
     "metadata": {},
     "output_type": "execute_result"
    }
   ],
   "source": [
    "data_merge['nom_vacances'] = data_merge['nom_vacances'].fillna(0)\n",
    "data_merge['nom_vacances'] = data_merge['nom_vacances'].apply(lambda x: 1 if x != 0 else 0)\n",
    "data_merge[\"nom_vacances\"].value_counts()"
   ]
  },
  {
   "cell_type": "code",
   "execution_count": null,
   "metadata": {},
   "outputs": [
    {
     "data": {
      "text/html": [
       "<div>\n",
       "<style scoped>\n",
       "    .dataframe tbody tr th:only-of-type {\n",
       "        vertical-align: middle;\n",
       "    }\n",
       "\n",
       "    .dataframe tbody tr th {\n",
       "        vertical-align: top;\n",
       "    }\n",
       "\n",
       "    .dataframe thead th {\n",
       "        text-align: right;\n",
       "    }\n",
       "</style>\n",
       "<table border=\"1\" class=\"dataframe\">\n",
       "  <thead>\n",
       "    <tr style=\"text-align: right;\">\n",
       "      <th></th>\n",
       "      <th>Libellé</th>\n",
       "      <th>Taux d'occupation dans l'hôtellerie - France</th>\n",
       "      <th>Codes</th>\n",
       "    </tr>\n",
       "  </thead>\n",
       "  <tbody>\n",
       "    <tr>\n",
       "      <th>0</th>\n",
       "      <td>idBank</td>\n",
       "      <td>010599344</td>\n",
       "      <td>NaN</td>\n",
       "    </tr>\n",
       "    <tr>\n",
       "      <th>1</th>\n",
       "      <td>Dernière mise à jour</td>\n",
       "      <td>09/11/2023 14:18</td>\n",
       "      <td>NaN</td>\n",
       "    </tr>\n",
       "    <tr>\n",
       "      <th>2</th>\n",
       "      <td>Période</td>\n",
       "      <td>NaN</td>\n",
       "      <td>NaN</td>\n",
       "    </tr>\n",
       "    <tr>\n",
       "      <th>3</th>\n",
       "      <td>2023-12</td>\n",
       "      <td>NaN</td>\n",
       "      <td>NaN</td>\n",
       "    </tr>\n",
       "    <tr>\n",
       "      <th>4</th>\n",
       "      <td>2023-11</td>\n",
       "      <td>NaN</td>\n",
       "      <td>NaN</td>\n",
       "    </tr>\n",
       "  </tbody>\n",
       "</table>\n",
       "</div>"
      ],
      "text/plain": [
       "                Libellé Taux d'occupation dans l'hôtellerie - France Codes\n",
       "0                idBank                                    010599344   NaN\n",
       "1  Dernière mise à jour                             09/11/2023 14:18   NaN\n",
       "2               Période                                          NaN   NaN\n",
       "3               2023-12                                          NaN   NaN\n",
       "4               2023-11                                          NaN   NaN"
      ]
     },
     "execution_count": 20,
     "metadata": {},
     "output_type": "execute_result"
    }
   ],
   "source": [
    "frequentation.head()"
   ]
  },
  {
   "cell_type": "code",
   "execution_count": null,
   "metadata": {},
   "outputs": [],
   "source": [
    "frequentation = frequentation.loc[6:,:]\n",
    "frequentation[\"date\"]=frequentation[\"Libellé\"].apply(lambda x : pd.to_datetime(x))\n",
    "frequentation = frequentation.drop(columns=[\"Codes\",\"Libellé\"])"
   ]
  },
  {
   "cell_type": "code",
   "execution_count": null,
   "metadata": {},
   "outputs": [
    {
     "data": {
      "text/html": [
       "<div>\n",
       "<style scoped>\n",
       "    .dataframe tbody tr th:only-of-type {\n",
       "        vertical-align: middle;\n",
       "    }\n",
       "\n",
       "    .dataframe tbody tr th {\n",
       "        vertical-align: top;\n",
       "    }\n",
       "\n",
       "    .dataframe thead th {\n",
       "        text-align: right;\n",
       "    }\n",
       "</style>\n",
       "<table border=\"1\" class=\"dataframe\">\n",
       "  <thead>\n",
       "    <tr style=\"text-align: right;\">\n",
       "      <th></th>\n",
       "      <th>date</th>\n",
       "      <th>Taux d'occupation dans l'hôtellerie - France</th>\n",
       "    </tr>\n",
       "  </thead>\n",
       "  <tbody>\n",
       "    <tr>\n",
       "      <th>0</th>\n",
       "      <td>2021-01-01</td>\n",
       "      <td>31.9</td>\n",
       "    </tr>\n",
       "    <tr>\n",
       "      <th>1</th>\n",
       "      <td>2021-01-02</td>\n",
       "      <td>31.9</td>\n",
       "    </tr>\n",
       "    <tr>\n",
       "      <th>2</th>\n",
       "      <td>2021-01-03</td>\n",
       "      <td>31.9</td>\n",
       "    </tr>\n",
       "    <tr>\n",
       "      <th>3</th>\n",
       "      <td>2021-01-04</td>\n",
       "      <td>31.9</td>\n",
       "    </tr>\n",
       "    <tr>\n",
       "      <th>4</th>\n",
       "      <td>2021-01-05</td>\n",
       "      <td>31.9</td>\n",
       "    </tr>\n",
       "  </tbody>\n",
       "</table>\n",
       "</div>"
      ],
      "text/plain": [
       "        date Taux d'occupation dans l'hôtellerie - France\n",
       "0 2021-01-01                                         31.9\n",
       "1 2021-01-02                                         31.9\n",
       "2 2021-01-03                                         31.9\n",
       "3 2021-01-04                                         31.9\n",
       "4 2021-01-05                                         31.9"
      ]
     },
     "execution_count": 22,
     "metadata": {},
     "output_type": "execute_result"
    }
   ],
   "source": [
    "frequentation.set_index('date', inplace=True)\n",
    "frequentation_resampled = frequentation .resample('D').ffill()\n",
    "frequentation_resampled.reset_index(inplace=True)\n",
    "frequentation_resampled.head()"
   ]
  },
  {
   "cell_type": "code",
   "execution_count": null,
   "metadata": {},
   "outputs": [],
   "source": [
    "frequentation_resampled['date'] = pd.to_datetime(frequentation_resampled['date'])\n",
    "data_merge['date'] = pd.to_datetime(data_merge['date'])\n",
    "data_merge = pd.merge(frequentation_resampled, data_merge, on='date', how='inner')"
   ]
  },
  {
   "cell_type": "code",
   "execution_count": null,
   "metadata": {},
   "outputs": [
    {
     "data": {
      "text/html": [
       "<div>\n",
       "<style scoped>\n",
       "    .dataframe tbody tr th:only-of-type {\n",
       "        vertical-align: middle;\n",
       "    }\n",
       "\n",
       "    .dataframe tbody tr th {\n",
       "        vertical-align: top;\n",
       "    }\n",
       "\n",
       "    .dataframe thead th {\n",
       "        text-align: right;\n",
       "    }\n",
       "</style>\n",
       "<table border=\"1\" class=\"dataframe\">\n",
       "  <thead>\n",
       "    <tr style=\"text-align: right;\">\n",
       "      <th></th>\n",
       "      <th>date</th>\n",
       "      <th>Taux d'occupation dans l'hôtellerie - France</th>\n",
       "      <th>nom_vacances</th>\n",
       "      <th>extra</th>\n",
       "    </tr>\n",
       "  </thead>\n",
       "  <tbody>\n",
       "    <tr>\n",
       "      <th>0</th>\n",
       "      <td>2021-11-30</td>\n",
       "      <td>52.9</td>\n",
       "      <td>0</td>\n",
       "      <td>1</td>\n",
       "    </tr>\n",
       "    <tr>\n",
       "      <th>1</th>\n",
       "      <td>2021-12-01</td>\n",
       "      <td>46.8</td>\n",
       "      <td>0</td>\n",
       "      <td>1</td>\n",
       "    </tr>\n",
       "    <tr>\n",
       "      <th>2</th>\n",
       "      <td>2021-12-02</td>\n",
       "      <td>46.8</td>\n",
       "      <td>0</td>\n",
       "      <td>1</td>\n",
       "    </tr>\n",
       "    <tr>\n",
       "      <th>3</th>\n",
       "      <td>2021-12-03</td>\n",
       "      <td>46.8</td>\n",
       "      <td>0</td>\n",
       "      <td>4</td>\n",
       "    </tr>\n",
       "    <tr>\n",
       "      <th>4</th>\n",
       "      <td>2021-12-04</td>\n",
       "      <td>46.8</td>\n",
       "      <td>0</td>\n",
       "      <td>3</td>\n",
       "    </tr>\n",
       "  </tbody>\n",
       "</table>\n",
       "</div>"
      ],
      "text/plain": [
       "        date Taux d'occupation dans l'hôtellerie - France  nom_vacances  extra\n",
       "0 2021-11-30                                         52.9             0      1\n",
       "1 2021-12-01                                         46.8             0      1\n",
       "2 2021-12-02                                         46.8             0      1\n",
       "3 2021-12-03                                         46.8             0      4\n",
       "4 2021-12-04                                         46.8             0      3"
      ]
     },
     "execution_count": 24,
     "metadata": {},
     "output_type": "execute_result"
    }
   ],
   "source": [
    "data_merge.head()"
   ]
  },
  {
   "cell_type": "code",
   "execution_count": null,
   "metadata": {},
   "outputs": [],
   "source": []
  },
  {
   "cell_type": "code",
   "execution_count": null,
   "metadata": {},
   "outputs": [
    {
     "name": "stdout",
     "output_type": "stream",
     "text": [
      "Epoch 1/500\n",
      "65/65 [==============================] - 1s 8ms/step - loss: 0.5700\n",
      "Epoch 2/500\n",
      "65/65 [==============================] - 0s 7ms/step - loss: 0.4907\n",
      "Epoch 3/500\n",
      "65/65 [==============================] - 1s 8ms/step - loss: 0.4749\n",
      "Epoch 4/500\n",
      "65/65 [==============================] - 1s 8ms/step - loss: 0.4688\n",
      "Epoch 5/500\n",
      "65/65 [==============================] - 0s 8ms/step - loss: 0.4584\n",
      "Epoch 6/500\n",
      "65/65 [==============================] - 1s 8ms/step - loss: 0.4606\n",
      "Epoch 7/500\n",
      "65/65 [==============================] - 1s 8ms/step - loss: 0.4475\n",
      "Epoch 8/500\n",
      "65/65 [==============================] - 1s 8ms/step - loss: 0.4503\n",
      "Epoch 9/500\n",
      "65/65 [==============================] - 1s 8ms/step - loss: 0.4563\n",
      "Epoch 10/500\n",
      "65/65 [==============================] - 0s 8ms/step - loss: 0.4440\n",
      "Epoch 11/500\n",
      "65/65 [==============================] - 1s 8ms/step - loss: 0.4341\n",
      "Epoch 12/500\n",
      "65/65 [==============================] - 0s 8ms/step - loss: 0.4313\n",
      "Epoch 13/500\n",
      "65/65 [==============================] - 0s 8ms/step - loss: 0.4342\n",
      "Epoch 14/500\n",
      "65/65 [==============================] - 0s 8ms/step - loss: 0.4242\n",
      "Epoch 15/500\n",
      "65/65 [==============================] - 0s 8ms/step - loss: 0.4260\n",
      "Epoch 16/500\n",
      "65/65 [==============================] - 0s 8ms/step - loss: 0.4162\n",
      "Epoch 17/500\n",
      "65/65 [==============================] - 0s 8ms/step - loss: 0.4158\n",
      "Epoch 18/500\n",
      "65/65 [==============================] - 0s 8ms/step - loss: 0.4166\n",
      "Epoch 19/500\n",
      "65/65 [==============================] - 0s 8ms/step - loss: 0.4008\n",
      "Epoch 20/500\n",
      "65/65 [==============================] - 0s 8ms/step - loss: 0.3979\n",
      "Epoch 21/500\n",
      "65/65 [==============================] - 1s 8ms/step - loss: 0.4045\n",
      "Epoch 22/500\n",
      "65/65 [==============================] - 0s 8ms/step - loss: 0.3931\n",
      "Epoch 23/500\n",
      "65/65 [==============================] - 0s 8ms/step - loss: 0.3888\n",
      "Epoch 24/500\n",
      "65/65 [==============================] - 0s 8ms/step - loss: 0.3918\n",
      "Epoch 25/500\n",
      "65/65 [==============================] - 0s 8ms/step - loss: 0.3830\n",
      "Epoch 26/500\n",
      "65/65 [==============================] - 0s 8ms/step - loss: 0.3796\n",
      "Epoch 27/500\n",
      "65/65 [==============================] - 1s 8ms/step - loss: 0.3798\n",
      "Epoch 28/500\n",
      "65/65 [==============================] - 1s 8ms/step - loss: 0.3754\n",
      "Epoch 29/500\n",
      "65/65 [==============================] - 0s 8ms/step - loss: 0.3714\n",
      "Epoch 30/500\n",
      "65/65 [==============================] - 1s 8ms/step - loss: 0.3830\n",
      "Epoch 31/500\n",
      "65/65 [==============================] - 1s 8ms/step - loss: 0.3601\n",
      "Epoch 32/500\n",
      "65/65 [==============================] - 1s 8ms/step - loss: 0.3603\n",
      "Epoch 33/500\n",
      "65/65 [==============================] - 1s 8ms/step - loss: 0.3589\n",
      "Epoch 34/500\n",
      "65/65 [==============================] - 0s 8ms/step - loss: 0.3554\n",
      "Epoch 35/500\n",
      "65/65 [==============================] - 0s 8ms/step - loss: 0.3511\n",
      "Epoch 36/500\n",
      "65/65 [==============================] - 1s 8ms/step - loss: 0.3499\n",
      "Epoch 37/500\n",
      "65/65 [==============================] - 0s 8ms/step - loss: 0.3467\n",
      "Epoch 38/500\n",
      "65/65 [==============================] - 1s 8ms/step - loss: 0.3459\n",
      "Epoch 39/500\n",
      "65/65 [==============================] - 0s 8ms/step - loss: 0.3438\n",
      "Epoch 40/500\n",
      "65/65 [==============================] - 0s 8ms/step - loss: 0.3356\n",
      "Epoch 41/500\n",
      "65/65 [==============================] - 0s 8ms/step - loss: 0.3348\n",
      "Epoch 42/500\n",
      "65/65 [==============================] - 0s 8ms/step - loss: 0.3290\n",
      "Epoch 43/500\n",
      "65/65 [==============================] - 0s 8ms/step - loss: 0.3297\n",
      "Epoch 44/500\n",
      "65/65 [==============================] - 0s 8ms/step - loss: 0.3272\n",
      "Epoch 45/500\n",
      "65/65 [==============================] - 0s 8ms/step - loss: 0.3234\n",
      "Epoch 46/500\n",
      "65/65 [==============================] - 0s 8ms/step - loss: 0.3198\n",
      "Epoch 47/500\n",
      "65/65 [==============================] - 0s 8ms/step - loss: 0.3178\n",
      "Epoch 48/500\n",
      "65/65 [==============================] - 1s 8ms/step - loss: 0.3171\n",
      "Epoch 49/500\n",
      "65/65 [==============================] - 0s 8ms/step - loss: 0.3150\n",
      "Epoch 50/500\n",
      "65/65 [==============================] - 0s 8ms/step - loss: 0.3082\n",
      "Epoch 51/500\n",
      "65/65 [==============================] - 0s 8ms/step - loss: 0.2945\n",
      "Epoch 52/500\n",
      "65/65 [==============================] - 0s 8ms/step - loss: 0.2927\n",
      "Epoch 53/500\n",
      "65/65 [==============================] - 0s 8ms/step - loss: 0.2884\n",
      "Epoch 54/500\n",
      "65/65 [==============================] - 0s 8ms/step - loss: 0.2910\n",
      "Epoch 55/500\n",
      "65/65 [==============================] - 0s 8ms/step - loss: 0.2940\n",
      "Epoch 56/500\n",
      "65/65 [==============================] - 0s 8ms/step - loss: 0.2845\n",
      "Epoch 57/500\n",
      "65/65 [==============================] - 0s 8ms/step - loss: 0.2826\n",
      "Epoch 58/500\n",
      "65/65 [==============================] - 1s 8ms/step - loss: 0.2799\n",
      "Epoch 59/500\n",
      "65/65 [==============================] - 1s 8ms/step - loss: 0.2746\n",
      "Epoch 60/500\n",
      "65/65 [==============================] - 1s 8ms/step - loss: 0.2683\n",
      "Epoch 61/500\n",
      "65/65 [==============================] - 1s 8ms/step - loss: 0.2818\n",
      "Epoch 62/500\n",
      "65/65 [==============================] - 0s 8ms/step - loss: 0.2718\n",
      "Epoch 63/500\n",
      "65/65 [==============================] - 0s 8ms/step - loss: 0.2781\n",
      "Epoch 64/500\n",
      "65/65 [==============================] - 1s 8ms/step - loss: 0.2644\n",
      "Epoch 65/500\n",
      "65/65 [==============================] - 1s 8ms/step - loss: 0.2619\n",
      "Epoch 66/500\n",
      "65/65 [==============================] - 0s 8ms/step - loss: 0.2542\n",
      "Epoch 67/500\n",
      "65/65 [==============================] - 0s 8ms/step - loss: 0.2611\n",
      "Epoch 68/500\n",
      "65/65 [==============================] - 1s 8ms/step - loss: 0.2507\n",
      "Epoch 69/500\n",
      "65/65 [==============================] - 0s 8ms/step - loss: 0.2449\n",
      "Epoch 70/500\n",
      "65/65 [==============================] - 0s 8ms/step - loss: 0.2480\n",
      "Epoch 71/500\n",
      "65/65 [==============================] - 0s 8ms/step - loss: 0.2547\n",
      "Epoch 72/500\n",
      "65/65 [==============================] - 0s 8ms/step - loss: 0.2417\n",
      "Epoch 73/500\n",
      "65/65 [==============================] - 1s 8ms/step - loss: 0.2414\n",
      "Epoch 74/500\n",
      "65/65 [==============================] - 0s 8ms/step - loss: 0.2288\n",
      "Epoch 75/500\n",
      "65/65 [==============================] - 0s 8ms/step - loss: 0.2311\n",
      "Epoch 76/500\n",
      "65/65 [==============================] - 1s 8ms/step - loss: 0.2301\n",
      "Epoch 77/500\n",
      "65/65 [==============================] - 0s 8ms/step - loss: 0.2301\n",
      "Epoch 78/500\n",
      "65/65 [==============================] - 1s 8ms/step - loss: 0.2306\n",
      "Epoch 79/500\n",
      "65/65 [==============================] - 0s 8ms/step - loss: 0.2192\n",
      "Epoch 80/500\n",
      "65/65 [==============================] - 0s 8ms/step - loss: 0.2189\n",
      "Epoch 81/500\n",
      "65/65 [==============================] - 0s 8ms/step - loss: 0.2163\n",
      "Epoch 82/500\n",
      "65/65 [==============================] - 0s 8ms/step - loss: 0.2110\n",
      "Epoch 83/500\n",
      "65/65 [==============================] - 1s 8ms/step - loss: 0.2231\n",
      "Epoch 84/500\n",
      "65/65 [==============================] - 1s 8ms/step - loss: 0.2086\n",
      "Epoch 85/500\n",
      "65/65 [==============================] - 1s 8ms/step - loss: 0.2059\n",
      "Epoch 86/500\n",
      "65/65 [==============================] - 1s 8ms/step - loss: 0.2015\n",
      "Epoch 87/500\n",
      "65/65 [==============================] - 0s 8ms/step - loss: 0.1952\n",
      "Epoch 88/500\n",
      "65/65 [==============================] - 1s 8ms/step - loss: 0.1928\n",
      "Epoch 89/500\n",
      "65/65 [==============================] - 0s 8ms/step - loss: 0.2050\n",
      "Epoch 90/500\n",
      "65/65 [==============================] - 0s 8ms/step - loss: 0.1976\n",
      "Epoch 91/500\n",
      "65/65 [==============================] - 1s 8ms/step - loss: 0.1980\n",
      "Epoch 92/500\n",
      "65/65 [==============================] - 0s 8ms/step - loss: 0.1973\n",
      "Epoch 93/500\n",
      "65/65 [==============================] - 1s 8ms/step - loss: 0.1922\n",
      "Epoch 94/500\n",
      "65/65 [==============================] - 1s 8ms/step - loss: 0.1870\n",
      "Epoch 95/500\n",
      "65/65 [==============================] - 0s 8ms/step - loss: 0.1850\n",
      "Epoch 96/500\n",
      "65/65 [==============================] - 0s 8ms/step - loss: 0.1819\n",
      "Epoch 97/500\n",
      "65/65 [==============================] - 0s 8ms/step - loss: 0.1814\n",
      "Epoch 98/500\n",
      "65/65 [==============================] - 1s 8ms/step - loss: 0.1796\n",
      "Epoch 99/500\n",
      "65/65 [==============================] - 0s 8ms/step - loss: 0.1718\n",
      "Epoch 100/500\n",
      "65/65 [==============================] - 1s 8ms/step - loss: 0.1747\n",
      "Epoch 101/500\n",
      "65/65 [==============================] - 1s 8ms/step - loss: 0.1723\n",
      "Epoch 102/500\n",
      "65/65 [==============================] - 0s 8ms/step - loss: 0.1731\n",
      "Epoch 103/500\n",
      "65/65 [==============================] - 1s 8ms/step - loss: 0.1769\n",
      "Epoch 104/500\n",
      "65/65 [==============================] - 0s 8ms/step - loss: 0.1675\n",
      "Epoch 105/500\n",
      "65/65 [==============================] - 1s 8ms/step - loss: 0.1608\n",
      "Epoch 106/500\n",
      "65/65 [==============================] - 0s 8ms/step - loss: 0.1683\n",
      "Epoch 107/500\n",
      "65/65 [==============================] - 0s 8ms/step - loss: 0.2122\n",
      "Epoch 108/500\n",
      "65/65 [==============================] - 0s 8ms/step - loss: 0.1794\n",
      "Epoch 109/500\n",
      "65/65 [==============================] - 1s 8ms/step - loss: 0.1675\n",
      "Epoch 110/500\n",
      "65/65 [==============================] - 0s 8ms/step - loss: 0.1653\n",
      "Epoch 111/500\n",
      "65/65 [==============================] - 0s 8ms/step - loss: 0.1676\n",
      "Epoch 112/500\n",
      "65/65 [==============================] - 0s 8ms/step - loss: 0.1620\n",
      "Epoch 113/500\n",
      "65/65 [==============================] - 1s 8ms/step - loss: 0.1627\n",
      "Epoch 114/500\n",
      "65/65 [==============================] - 0s 8ms/step - loss: 0.1580\n",
      "Epoch 115/500\n",
      "65/65 [==============================] - 0s 8ms/step - loss: 0.1480\n",
      "Epoch 116/500\n",
      "65/65 [==============================] - 0s 8ms/step - loss: 0.1537\n",
      "Epoch 117/500\n",
      "65/65 [==============================] - 0s 8ms/step - loss: 0.1536\n",
      "Epoch 118/500\n",
      "65/65 [==============================] - 1s 8ms/step - loss: 0.1486\n",
      "Epoch 119/500\n",
      "65/65 [==============================] - 1s 8ms/step - loss: 0.1477\n",
      "Epoch 120/500\n",
      "65/65 [==============================] - 0s 8ms/step - loss: 0.1533\n",
      "Epoch 121/500\n",
      "65/65 [==============================] - 1s 8ms/step - loss: 0.1384\n",
      "Epoch 122/500\n",
      "65/65 [==============================] - 0s 8ms/step - loss: 0.1408\n",
      "Epoch 123/500\n",
      "65/65 [==============================] - 1s 8ms/step - loss: 0.1483\n",
      "Epoch 124/500\n",
      "65/65 [==============================] - 0s 8ms/step - loss: 0.1425\n",
      "Epoch 125/500\n",
      "65/65 [==============================] - 1s 8ms/step - loss: 0.1372\n",
      "Epoch 126/500\n",
      "65/65 [==============================] - 0s 8ms/step - loss: 0.1338\n",
      "Epoch 127/500\n",
      "65/65 [==============================] - 1s 8ms/step - loss: 0.1334\n",
      "Epoch 128/500\n",
      "65/65 [==============================] - 1s 8ms/step - loss: 0.1342\n",
      "Epoch 129/500\n",
      "65/65 [==============================] - 1s 8ms/step - loss: 0.1333\n",
      "Epoch 130/500\n",
      "65/65 [==============================] - 1s 8ms/step - loss: 0.1379\n",
      "Epoch 131/500\n",
      "65/65 [==============================] - 0s 8ms/step - loss: 0.1321\n",
      "Epoch 132/500\n",
      "65/65 [==============================] - 1s 8ms/step - loss: 0.1304\n",
      "Epoch 133/500\n",
      "65/65 [==============================] - 0s 8ms/step - loss: 0.1259\n",
      "Epoch 134/500\n",
      "65/65 [==============================] - 1s 8ms/step - loss: 0.1276\n",
      "Epoch 135/500\n",
      "65/65 [==============================] - 1s 8ms/step - loss: 0.1252\n",
      "Epoch 136/500\n",
      "65/65 [==============================] - 0s 8ms/step - loss: 0.1231\n",
      "Epoch 137/500\n",
      "65/65 [==============================] - 0s 8ms/step - loss: 0.1215\n",
      "Epoch 138/500\n",
      "65/65 [==============================] - 1s 8ms/step - loss: 0.1182\n",
      "Epoch 139/500\n",
      "65/65 [==============================] - 0s 8ms/step - loss: 0.1258\n",
      "Epoch 140/500\n",
      "65/65 [==============================] - 1s 8ms/step - loss: 0.1249\n",
      "Epoch 141/500\n",
      "65/65 [==============================] - 1s 8ms/step - loss: 0.1162\n",
      "Epoch 142/500\n",
      "65/65 [==============================] - 0s 8ms/step - loss: 0.1126\n",
      "Epoch 143/500\n",
      "65/65 [==============================] - 0s 8ms/step - loss: 0.1238\n",
      "Epoch 144/500\n",
      "65/65 [==============================] - 1s 8ms/step - loss: 0.1284\n",
      "Epoch 145/500\n",
      "65/65 [==============================] - 1s 8ms/step - loss: 0.1185\n",
      "Epoch 146/500\n",
      "65/65 [==============================] - 1s 8ms/step - loss: 0.1101\n",
      "Epoch 147/500\n",
      "65/65 [==============================] - 1s 8ms/step - loss: 0.1108\n",
      "Epoch 148/500\n",
      "65/65 [==============================] - 1s 8ms/step - loss: 0.1090\n",
      "Epoch 149/500\n",
      "65/65 [==============================] - 1s 8ms/step - loss: 0.1054\n",
      "Epoch 150/500\n",
      "65/65 [==============================] - 1s 8ms/step - loss: 0.1031\n",
      "Epoch 151/500\n",
      "65/65 [==============================] - 1s 8ms/step - loss: 0.1041\n",
      "Epoch 152/500\n",
      "65/65 [==============================] - 1s 8ms/step - loss: 0.1036\n",
      "Epoch 153/500\n",
      "65/65 [==============================] - 1s 8ms/step - loss: 0.1022\n",
      "Epoch 154/500\n",
      "65/65 [==============================] - 1s 8ms/step - loss: 0.0970\n",
      "Epoch 155/500\n",
      "65/65 [==============================] - 1s 8ms/step - loss: 0.1009\n",
      "Epoch 156/500\n",
      "65/65 [==============================] - 1s 8ms/step - loss: 0.1010\n",
      "Epoch 157/500\n",
      "65/65 [==============================] - 1s 8ms/step - loss: 0.1030\n",
      "Epoch 158/500\n",
      "65/65 [==============================] - 1s 8ms/step - loss: 0.0937\n",
      "Epoch 159/500\n",
      "65/65 [==============================] - 1s 8ms/step - loss: 0.1084\n",
      "Epoch 160/500\n",
      "65/65 [==============================] - 1s 8ms/step - loss: 0.0932\n",
      "Epoch 161/500\n",
      "65/65 [==============================] - 1s 8ms/step - loss: 0.0982\n",
      "Epoch 162/500\n",
      "65/65 [==============================] - 1s 8ms/step - loss: 0.1141\n",
      "Epoch 163/500\n",
      "65/65 [==============================] - 1s 8ms/step - loss: 0.1151\n",
      "Epoch 164/500\n",
      "65/65 [==============================] - 1s 8ms/step - loss: 0.0951\n",
      "Epoch 165/500\n",
      "65/65 [==============================] - 1s 8ms/step - loss: 0.0861\n",
      "Epoch 166/500\n",
      "65/65 [==============================] - 1s 8ms/step - loss: 0.0843\n",
      "Epoch 167/500\n",
      "65/65 [==============================] - 1s 8ms/step - loss: 0.0823\n",
      "Epoch 168/500\n",
      "65/65 [==============================] - 1s 8ms/step - loss: 0.0877\n",
      "Epoch 169/500\n",
      "65/65 [==============================] - 0s 8ms/step - loss: 0.1016\n",
      "Epoch 170/500\n",
      "65/65 [==============================] - 0s 8ms/step - loss: 0.0868\n",
      "Epoch 171/500\n",
      "65/65 [==============================] - 1s 8ms/step - loss: 0.0784\n",
      "Epoch 172/500\n",
      "65/65 [==============================] - 1s 8ms/step - loss: 0.0827\n",
      "Epoch 173/500\n",
      "65/65 [==============================] - 1s 8ms/step - loss: 0.0849\n",
      "Epoch 174/500\n",
      "65/65 [==============================] - 1s 8ms/step - loss: 0.0758\n",
      "Epoch 175/500\n",
      "65/65 [==============================] - 1s 8ms/step - loss: 0.0732\n",
      "Epoch 176/500\n",
      "65/65 [==============================] - 1s 8ms/step - loss: 0.0899\n",
      "Epoch 177/500\n",
      "65/65 [==============================] - 1s 8ms/step - loss: 4.0418\n",
      "Epoch 178/500\n",
      "65/65 [==============================] - 1s 8ms/step - loss: 0.5737\n",
      "Epoch 179/500\n",
      "65/65 [==============================] - 1s 8ms/step - loss: 0.5306\n",
      "Epoch 180/500\n",
      "65/65 [==============================] - 1s 8ms/step - loss: 0.6068\n",
      "Epoch 181/500\n",
      "65/65 [==============================] - 1s 8ms/step - loss: 0.2786\n",
      "Epoch 182/500\n",
      "65/65 [==============================] - 0s 8ms/step - loss: 0.2514\n",
      "Epoch 183/500\n",
      "65/65 [==============================] - 1s 8ms/step - loss: 0.2295\n",
      "Epoch 184/500\n",
      "65/65 [==============================] - 1s 8ms/step - loss: 0.2155\n",
      "Epoch 185/500\n",
      "65/65 [==============================] - 1s 8ms/step - loss: 0.2004\n",
      "Epoch 186/500\n",
      "65/65 [==============================] - 1s 8ms/step - loss: 0.1865\n",
      "Epoch 187/500\n",
      "65/65 [==============================] - 1s 8ms/step - loss: 0.1792\n",
      "Epoch 188/500\n",
      "65/65 [==============================] - 0s 8ms/step - loss: 0.1695\n",
      "Epoch 189/500\n",
      "65/65 [==============================] - 1s 8ms/step - loss: 0.1626\n",
      "Epoch 190/500\n",
      "65/65 [==============================] - 1s 8ms/step - loss: 0.1535\n",
      "Epoch 191/500\n",
      "65/65 [==============================] - 1s 8ms/step - loss: 0.1455\n",
      "Epoch 192/500\n",
      "65/65 [==============================] - 1s 8ms/step - loss: 0.1393\n",
      "Epoch 193/500\n",
      "65/65 [==============================] - 1s 8ms/step - loss: 0.1359\n",
      "Epoch 194/500\n",
      "65/65 [==============================] - 1s 8ms/step - loss: 0.1330\n",
      "Epoch 195/500\n",
      "65/65 [==============================] - 1s 8ms/step - loss: 0.1284\n",
      "Epoch 196/500\n",
      "65/65 [==============================] - 1s 8ms/step - loss: 0.1254\n",
      "Epoch 197/500\n",
      "65/65 [==============================] - 1s 8ms/step - loss: 0.1239\n",
      "Epoch 198/500\n",
      "65/65 [==============================] - 1s 8ms/step - loss: 0.1211\n",
      "Epoch 199/500\n",
      "65/65 [==============================] - 1s 8ms/step - loss: 0.1157\n",
      "Epoch 200/500\n",
      "65/65 [==============================] - 1s 8ms/step - loss: 0.1117\n",
      "Epoch 201/500\n",
      "65/65 [==============================] - 1s 8ms/step - loss: 0.1080\n",
      "Epoch 202/500\n",
      "65/65 [==============================] - 1s 8ms/step - loss: 0.1058\n",
      "Epoch 203/500\n",
      "65/65 [==============================] - 1s 8ms/step - loss: 0.1042\n",
      "Epoch 204/500\n",
      "65/65 [==============================] - 1s 8ms/step - loss: 0.1024\n",
      "Epoch 205/500\n",
      "65/65 [==============================] - 1s 8ms/step - loss: 0.1013\n",
      "Epoch 206/500\n",
      "65/65 [==============================] - 1s 8ms/step - loss: 0.1002\n",
      "Epoch 207/500\n",
      "65/65 [==============================] - 1s 8ms/step - loss: 0.0999\n",
      "Epoch 208/500\n",
      "65/65 [==============================] - 1s 8ms/step - loss: 0.0964\n",
      "Epoch 209/500\n",
      "65/65 [==============================] - 1s 8ms/step - loss: 0.0948\n",
      "Epoch 210/500\n",
      "65/65 [==============================] - 1s 8ms/step - loss: 0.0928\n",
      "Epoch 211/500\n",
      "65/65 [==============================] - 1s 8ms/step - loss: 0.0911\n",
      "Epoch 212/500\n",
      "65/65 [==============================] - 1s 8ms/step - loss: 0.0911\n",
      "Epoch 213/500\n",
      "65/65 [==============================] - 1s 8ms/step - loss: 0.1461\n",
      "Epoch 214/500\n",
      "65/65 [==============================] - 1s 8ms/step - loss: 0.1394\n",
      "Epoch 215/500\n",
      "65/65 [==============================] - 0s 8ms/step - loss: 0.1176\n",
      "Epoch 216/500\n",
      "65/65 [==============================] - 1s 8ms/step - loss: 0.1100\n",
      "Epoch 217/500\n",
      "65/65 [==============================] - 1s 8ms/step - loss: 0.1051\n",
      "Epoch 218/500\n",
      "65/65 [==============================] - 1s 8ms/step - loss: 0.1019\n",
      "Epoch 219/500\n",
      "65/65 [==============================] - 0s 8ms/step - loss: 0.1002\n",
      "Epoch 220/500\n",
      "65/65 [==============================] - 1s 8ms/step - loss: 0.0971\n",
      "Epoch 221/500\n",
      "65/65 [==============================] - 1s 8ms/step - loss: 0.0960\n",
      "Epoch 222/500\n",
      "65/65 [==============================] - 1s 8ms/step - loss: 0.0935\n",
      "Epoch 223/500\n",
      "65/65 [==============================] - 1s 8ms/step - loss: 0.0916\n",
      "Epoch 224/500\n",
      "65/65 [==============================] - 1s 8ms/step - loss: 0.0904\n",
      "Epoch 225/500\n",
      "65/65 [==============================] - 0s 8ms/step - loss: 0.0888\n",
      "Epoch 226/500\n",
      "65/65 [==============================] - 1s 8ms/step - loss: 0.0900\n",
      "Epoch 227/500\n",
      "65/65 [==============================] - 1s 8ms/step - loss: 0.0872\n",
      "Epoch 228/500\n",
      "65/65 [==============================] - 0s 8ms/step - loss: 0.0874\n",
      "Epoch 229/500\n",
      "65/65 [==============================] - 1s 8ms/step - loss: 0.0855\n",
      "Epoch 230/500\n",
      "65/65 [==============================] - 1s 8ms/step - loss: 0.0840\n",
      "Epoch 231/500\n",
      "65/65 [==============================] - 0s 8ms/step - loss: 0.0824\n",
      "Epoch 232/500\n",
      "65/65 [==============================] - 1s 8ms/step - loss: 0.0818\n",
      "Epoch 233/500\n",
      "65/65 [==============================] - 0s 8ms/step - loss: 0.0806\n",
      "Epoch 234/500\n",
      "65/65 [==============================] - 1s 8ms/step - loss: 0.0806\n",
      "Epoch 235/500\n",
      "65/65 [==============================] - 1s 8ms/step - loss: 0.0823\n",
      "Epoch 236/500\n",
      "65/65 [==============================] - 1s 8ms/step - loss: 0.0802\n",
      "Epoch 237/500\n",
      "65/65 [==============================] - 1s 8ms/step - loss: 0.0781\n",
      "Epoch 238/500\n",
      "65/65 [==============================] - 1s 8ms/step - loss: 0.0773\n",
      "Epoch 239/500\n",
      "65/65 [==============================] - 1s 8ms/step - loss: 0.0776\n",
      "Epoch 240/500\n",
      "65/65 [==============================] - 1s 8ms/step - loss: 0.0754\n",
      "Epoch 241/500\n",
      "65/65 [==============================] - 1s 8ms/step - loss: 0.0746\n",
      "Epoch 242/500\n",
      "65/65 [==============================] - 1s 8ms/step - loss: 0.0741\n",
      "Epoch 243/500\n",
      "65/65 [==============================] - 0s 8ms/step - loss: 0.0755\n",
      "Epoch 244/500\n",
      "65/65 [==============================] - 1s 8ms/step - loss: 0.0743\n",
      "Epoch 245/500\n",
      "65/65 [==============================] - 1s 8ms/step - loss: 0.0723\n",
      "Epoch 246/500\n",
      "65/65 [==============================] - 1s 8ms/step - loss: 0.0726\n",
      "Epoch 247/500\n",
      "65/65 [==============================] - 1s 8ms/step - loss: 0.0710\n",
      "Epoch 248/500\n",
      "65/65 [==============================] - 1s 8ms/step - loss: 0.0704\n",
      "Epoch 249/500\n",
      "65/65 [==============================] - 1s 8ms/step - loss: 0.0699\n",
      "Epoch 250/500\n",
      "65/65 [==============================] - 1s 8ms/step - loss: 0.0689\n",
      "Epoch 251/500\n",
      "65/65 [==============================] - 1s 8ms/step - loss: 0.0689\n",
      "Epoch 252/500\n",
      "65/65 [==============================] - 1s 8ms/step - loss: 0.0671\n",
      "Epoch 253/500\n",
      "65/65 [==============================] - 0s 8ms/step - loss: 0.0682\n",
      "Epoch 254/500\n",
      "65/65 [==============================] - 1s 8ms/step - loss: 0.0656\n",
      "Epoch 255/500\n",
      "65/65 [==============================] - 1s 8ms/step - loss: 0.0677\n",
      "Epoch 256/500\n",
      "65/65 [==============================] - 1s 8ms/step - loss: 0.0649\n",
      "Epoch 257/500\n",
      "65/65 [==============================] - 1s 8ms/step - loss: 0.0653\n",
      "Epoch 258/500\n",
      "65/65 [==============================] - 1s 8ms/step - loss: 0.0636\n",
      "Epoch 259/500\n",
      "65/65 [==============================] - 1s 8ms/step - loss: 0.0642\n",
      "Epoch 260/500\n",
      "65/65 [==============================] - 1s 8ms/step - loss: 0.0660\n",
      "Epoch 261/500\n",
      "65/65 [==============================] - 1s 8ms/step - loss: 0.0657\n",
      "Epoch 262/500\n",
      "65/65 [==============================] - 1s 8ms/step - loss: 0.0646\n",
      "Epoch 263/500\n",
      "65/65 [==============================] - 1s 8ms/step - loss: 0.0629\n",
      "Epoch 264/500\n",
      "65/65 [==============================] - 0s 8ms/step - loss: 0.0625\n",
      "Epoch 265/500\n",
      "65/65 [==============================] - 1s 8ms/step - loss: 0.0609\n",
      "Epoch 266/500\n",
      "65/65 [==============================] - 1s 8ms/step - loss: 0.0596\n",
      "Epoch 267/500\n",
      "65/65 [==============================] - 1s 8ms/step - loss: 0.0622\n",
      "Epoch 268/500\n",
      "65/65 [==============================] - 1s 8ms/step - loss: 0.0583\n",
      "Epoch 269/500\n",
      "65/65 [==============================] - 0s 8ms/step - loss: 0.0595\n",
      "Epoch 270/500\n",
      "65/65 [==============================] - 1s 8ms/step - loss: 0.0604\n",
      "Epoch 271/500\n",
      "65/65 [==============================] - 1s 8ms/step - loss: 0.0597\n",
      "Epoch 272/500\n",
      "65/65 [==============================] - 1s 8ms/step - loss: 0.0602\n",
      "Epoch 273/500\n",
      "65/65 [==============================] - 0s 8ms/step - loss: 0.0595\n",
      "Epoch 274/500\n",
      "65/65 [==============================] - 1s 8ms/step - loss: 0.0590\n",
      "Epoch 275/500\n",
      "65/65 [==============================] - 1s 8ms/step - loss: 0.0572\n",
      "Epoch 276/500\n",
      "65/65 [==============================] - 1s 8ms/step - loss: 0.0614\n",
      "Epoch 277/500\n",
      "65/65 [==============================] - 1s 8ms/step - loss: 0.0584\n",
      "Epoch 278/500\n",
      "65/65 [==============================] - 1s 8ms/step - loss: 0.0577\n",
      "Epoch 279/500\n",
      "65/65 [==============================] - 0s 8ms/step - loss: 0.0550\n",
      "Epoch 280/500\n",
      "65/65 [==============================] - 1s 8ms/step - loss: 0.0541\n",
      "Epoch 281/500\n",
      "65/65 [==============================] - 1s 8ms/step - loss: 0.0529\n",
      "Epoch 282/500\n",
      "65/65 [==============================] - 1s 8ms/step - loss: 0.0551\n",
      "Epoch 283/500\n",
      "65/65 [==============================] - 1s 8ms/step - loss: 0.0549\n",
      "Epoch 284/500\n",
      "65/65 [==============================] - 1s 8ms/step - loss: 0.0608\n",
      "Epoch 285/500\n",
      "65/65 [==============================] - 1s 8ms/step - loss: 0.0567\n",
      "Epoch 286/500\n",
      "65/65 [==============================] - 1s 8ms/step - loss: 0.0542\n",
      "Epoch 287/500\n",
      "65/65 [==============================] - 1s 8ms/step - loss: 0.0550\n",
      "Epoch 288/500\n",
      "65/65 [==============================] - 1s 8ms/step - loss: 0.0534\n",
      "Epoch 289/500\n",
      "65/65 [==============================] - 1s 8ms/step - loss: 0.0561\n",
      "Epoch 290/500\n",
      "65/65 [==============================] - 1s 8ms/step - loss: 0.0528\n",
      "Epoch 291/500\n",
      "65/65 [==============================] - 1s 8ms/step - loss: 0.0522\n",
      "Epoch 292/500\n",
      "65/65 [==============================] - 1s 8ms/step - loss: 0.0504\n",
      "Epoch 293/500\n",
      "65/65 [==============================] - 1s 8ms/step - loss: 0.0515\n",
      "Epoch 294/500\n",
      "65/65 [==============================] - 1s 8ms/step - loss: 0.0530\n",
      "Epoch 295/500\n",
      "65/65 [==============================] - 1s 8ms/step - loss: 0.0559\n",
      "Epoch 296/500\n",
      "65/65 [==============================] - 1s 8ms/step - loss: 0.0486\n",
      "Epoch 297/500\n",
      "65/65 [==============================] - 1s 8ms/step - loss: 0.0488\n",
      "Epoch 298/500\n",
      "65/65 [==============================] - 0s 8ms/step - loss: 0.0479\n",
      "Epoch 299/500\n",
      "65/65 [==============================] - 0s 8ms/step - loss: 0.0471\n",
      "Epoch 300/500\n",
      "65/65 [==============================] - 1s 8ms/step - loss: 0.0491\n",
      "Epoch 301/500\n",
      "65/65 [==============================] - 1s 8ms/step - loss: 0.0481\n",
      "Epoch 302/500\n",
      "65/65 [==============================] - 0s 8ms/step - loss: 0.0453\n",
      "Epoch 303/500\n",
      "65/65 [==============================] - 0s 8ms/step - loss: 0.0473\n",
      "Epoch 304/500\n",
      "65/65 [==============================] - 1s 8ms/step - loss: 0.0467\n",
      "Epoch 305/500\n",
      "65/65 [==============================] - 1s 8ms/step - loss: 0.0464\n",
      "Epoch 306/500\n",
      "65/65 [==============================] - 1s 8ms/step - loss: 0.0449\n",
      "Epoch 307/500\n",
      "65/65 [==============================] - 0s 8ms/step - loss: 0.0433\n",
      "Epoch 308/500\n",
      "65/65 [==============================] - 1s 8ms/step - loss: 0.0432\n",
      "Epoch 309/500\n",
      "65/65 [==============================] - 1s 8ms/step - loss: 0.0551\n",
      "Epoch 310/500\n",
      "65/65 [==============================] - 0s 8ms/step - loss: 0.0551\n",
      "Epoch 311/500\n",
      "65/65 [==============================] - 1s 8ms/step - loss: 0.0543\n",
      "Epoch 312/500\n",
      "65/65 [==============================] - 1s 8ms/step - loss: 0.0690\n",
      "Epoch 313/500\n",
      "65/65 [==============================] - 1s 8ms/step - loss: 0.0611\n",
      "Epoch 314/500\n",
      "65/65 [==============================] - 1s 8ms/step - loss: 0.0513\n",
      "Epoch 315/500\n",
      "65/65 [==============================] - 0s 8ms/step - loss: 0.0535\n",
      "Epoch 316/500\n",
      "65/65 [==============================] - 1s 8ms/step - loss: 0.0479\n",
      "Epoch 317/500\n",
      "65/65 [==============================] - 1s 8ms/step - loss: 0.0448\n",
      "Epoch 318/500\n",
      "65/65 [==============================] - 1s 8ms/step - loss: 0.0433\n",
      "Epoch 319/500\n",
      "65/65 [==============================] - 1s 8ms/step - loss: 0.0409\n",
      "Epoch 320/500\n",
      "65/65 [==============================] - 1s 8ms/step - loss: 0.0415\n",
      "Epoch 321/500\n",
      "65/65 [==============================] - 1s 8ms/step - loss: 0.0417\n",
      "Epoch 322/500\n",
      "65/65 [==============================] - 1s 8ms/step - loss: 0.0417\n",
      "Epoch 323/500\n",
      "65/65 [==============================] - 1s 8ms/step - loss: 0.0438\n",
      "Epoch 324/500\n",
      "65/65 [==============================] - 1s 8ms/step - loss: 0.0448\n",
      "Epoch 325/500\n",
      "65/65 [==============================] - 0s 8ms/step - loss: 0.0537\n",
      "Epoch 326/500\n",
      "65/65 [==============================] - 1s 8ms/step - loss: 0.0481\n",
      "Epoch 327/500\n",
      "65/65 [==============================] - 1s 8ms/step - loss: 0.0415\n",
      "Epoch 328/500\n",
      "65/65 [==============================] - 1s 8ms/step - loss: 0.0395\n",
      "Epoch 329/500\n",
      "65/65 [==============================] - 0s 8ms/step - loss: 0.0423\n",
      "Epoch 330/500\n",
      "65/65 [==============================] - 1s 8ms/step - loss: 0.0418\n",
      "Epoch 331/500\n",
      "65/65 [==============================] - 1s 8ms/step - loss: 0.0447\n",
      "Epoch 332/500\n",
      "65/65 [==============================] - 0s 8ms/step - loss: 0.0467\n",
      "Epoch 333/500\n",
      "65/65 [==============================] - 1s 8ms/step - loss: 0.0412\n",
      "Epoch 334/500\n",
      "65/65 [==============================] - 0s 8ms/step - loss: 0.0417\n",
      "Epoch 335/500\n",
      "65/65 [==============================] - 1s 8ms/step - loss: 0.0394\n",
      "Epoch 336/500\n",
      "65/65 [==============================] - 1s 8ms/step - loss: 0.0414\n",
      "Epoch 337/500\n",
      "65/65 [==============================] - 1s 8ms/step - loss: 0.0384\n",
      "Epoch 338/500\n",
      "65/65 [==============================] - 1s 8ms/step - loss: 0.0398\n",
      "Epoch 339/500\n",
      "65/65 [==============================] - 1s 8ms/step - loss: 0.0412\n",
      "Epoch 340/500\n",
      "65/65 [==============================] - 1s 8ms/step - loss: 0.0402\n",
      "Epoch 341/500\n",
      "65/65 [==============================] - 1s 8ms/step - loss: 0.0369\n",
      "Epoch 342/500\n",
      "65/65 [==============================] - 1s 8ms/step - loss: 0.0391\n",
      "Epoch 343/500\n",
      "65/65 [==============================] - 1s 8ms/step - loss: 0.0404\n",
      "Epoch 344/500\n",
      "65/65 [==============================] - 1s 8ms/step - loss: 0.0418\n",
      "Epoch 345/500\n",
      "65/65 [==============================] - 1s 8ms/step - loss: 0.0445\n",
      "Epoch 346/500\n",
      "65/65 [==============================] - 1s 8ms/step - loss: 0.0464\n",
      "Epoch 347/500\n",
      "65/65 [==============================] - 1s 8ms/step - loss: 0.0374\n",
      "Epoch 348/500\n",
      "65/65 [==============================] - 1s 8ms/step - loss: 0.0397\n",
      "Epoch 349/500\n",
      "65/65 [==============================] - 1s 8ms/step - loss: 0.0380\n",
      "Epoch 350/500\n",
      "65/65 [==============================] - 1s 8ms/step - loss: 0.0366\n",
      "Epoch 351/500\n",
      "65/65 [==============================] - 0s 8ms/step - loss: 0.0380\n",
      "Epoch 352/500\n",
      "65/65 [==============================] - 1s 8ms/step - loss: 0.0339\n",
      "Epoch 353/500\n",
      "65/65 [==============================] - 1s 8ms/step - loss: 0.0359\n",
      "Epoch 354/500\n",
      "65/65 [==============================] - 1s 8ms/step - loss: 0.0408\n",
      "Epoch 355/500\n",
      "65/65 [==============================] - 0s 8ms/step - loss: 0.0483\n",
      "Epoch 356/500\n",
      "65/65 [==============================] - 1s 8ms/step - loss: 0.0446\n",
      "Epoch 357/500\n",
      "65/65 [==============================] - 1s 8ms/step - loss: 0.0411\n",
      "Epoch 358/500\n",
      "65/65 [==============================] - 0s 8ms/step - loss: 0.0434\n",
      "Epoch 359/500\n",
      "65/65 [==============================] - 1s 8ms/step - loss: 0.0435\n",
      "Epoch 360/500\n",
      "65/65 [==============================] - 1s 8ms/step - loss: 0.0384\n",
      "Epoch 361/500\n",
      "65/65 [==============================] - 1s 8ms/step - loss: 0.0343\n",
      "Epoch 362/500\n",
      "65/65 [==============================] - 0s 8ms/step - loss: 0.0300\n",
      "Epoch 363/500\n",
      "65/65 [==============================] - 1s 8ms/step - loss: 0.0352\n",
      "Epoch 364/500\n",
      "65/65 [==============================] - 1s 8ms/step - loss: 0.0355\n",
      "Epoch 365/500\n",
      "65/65 [==============================] - 1s 8ms/step - loss: 0.0346\n",
      "Epoch 366/500\n",
      "65/65 [==============================] - 1s 8ms/step - loss: 0.0334\n",
      "Epoch 367/500\n",
      "65/65 [==============================] - 1s 8ms/step - loss: 0.0330\n",
      "Epoch 368/500\n",
      "65/65 [==============================] - 1s 8ms/step - loss: 0.0499\n",
      "Epoch 369/500\n",
      "65/65 [==============================] - 1s 8ms/step - loss: 0.0413\n",
      "Epoch 370/500\n",
      "65/65 [==============================] - 1s 8ms/step - loss: 0.0363\n",
      "Epoch 371/500\n",
      "65/65 [==============================] - 1s 8ms/step - loss: 0.0325\n",
      "Epoch 372/500\n",
      "65/65 [==============================] - 1s 8ms/step - loss: 0.0435\n",
      "Epoch 373/500\n",
      "65/65 [==============================] - 1s 8ms/step - loss: 0.2536\n",
      "Epoch 374/500\n",
      "65/65 [==============================] - 1s 8ms/step - loss: 0.1619\n",
      "Epoch 375/500\n",
      "65/65 [==============================] - 1s 8ms/step - loss: 0.1067\n",
      "Epoch 376/500\n",
      "65/65 [==============================] - 1s 8ms/step - loss: 0.0862\n",
      "Epoch 377/500\n",
      "65/65 [==============================] - 1s 8ms/step - loss: 0.0810\n",
      "Epoch 378/500\n",
      "65/65 [==============================] - 1s 8ms/step - loss: 0.0746\n",
      "Epoch 379/500\n",
      "65/65 [==============================] - 1s 8ms/step - loss: 0.0696\n",
      "Epoch 380/500\n",
      "65/65 [==============================] - 1s 8ms/step - loss: 0.0655\n",
      "Epoch 381/500\n",
      "65/65 [==============================] - 1s 8ms/step - loss: 0.0609\n",
      "Epoch 382/500\n",
      "65/65 [==============================] - 1s 8ms/step - loss: 0.0589\n",
      "Epoch 383/500\n",
      "65/65 [==============================] - 1s 8ms/step - loss: 0.0534\n",
      "Epoch 384/500\n",
      "65/65 [==============================] - 1s 8ms/step - loss: 0.0543\n",
      "Epoch 385/500\n",
      "65/65 [==============================] - 1s 8ms/step - loss: 0.0529\n",
      "Epoch 386/500\n",
      "65/65 [==============================] - 0s 8ms/step - loss: 0.0561\n",
      "Epoch 387/500\n",
      "65/65 [==============================] - 1s 8ms/step - loss: 0.0492\n",
      "Epoch 388/500\n",
      "65/65 [==============================] - 1s 8ms/step - loss: 0.0478\n",
      "Epoch 389/500\n",
      "65/65 [==============================] - 1s 8ms/step - loss: 0.0466\n",
      "Epoch 390/500\n",
      "65/65 [==============================] - 0s 8ms/step - loss: 0.0433\n",
      "Epoch 391/500\n",
      "65/65 [==============================] - 1s 8ms/step - loss: 0.0469\n",
      "Epoch 392/500\n",
      "65/65 [==============================] - 1s 8ms/step - loss: 0.0493\n",
      "Epoch 393/500\n",
      "65/65 [==============================] - 1s 8ms/step - loss: 0.0448\n",
      "Epoch 394/500\n",
      "65/65 [==============================] - 1s 8ms/step - loss: 0.0481\n",
      "Epoch 395/500\n",
      "65/65 [==============================] - 1s 8ms/step - loss: 0.0441\n",
      "Epoch 396/500\n",
      "65/65 [==============================] - 1s 8ms/step - loss: 0.0466\n",
      "Epoch 397/500\n",
      "65/65 [==============================] - 1s 8ms/step - loss: 0.0447\n",
      "Epoch 398/500\n",
      "65/65 [==============================] - 1s 8ms/step - loss: 0.0399\n",
      "Epoch 399/500\n",
      "65/65 [==============================] - 1s 8ms/step - loss: 0.0405\n",
      "Epoch 400/500\n",
      "65/65 [==============================] - 1s 8ms/step - loss: 0.0393\n",
      "Epoch 401/500\n",
      "65/65 [==============================] - 1s 8ms/step - loss: 0.0372\n",
      "Epoch 402/500\n",
      "65/65 [==============================] - 1s 8ms/step - loss: 0.0365\n",
      "Epoch 403/500\n",
      "65/65 [==============================] - 1s 8ms/step - loss: 0.0365\n",
      "Epoch 404/500\n",
      "65/65 [==============================] - 1s 8ms/step - loss: 0.0374\n",
      "Epoch 405/500\n",
      "65/65 [==============================] - 1s 9ms/step - loss: 0.0354\n",
      "Epoch 406/500\n",
      "65/65 [==============================] - 1s 8ms/step - loss: 0.0393\n",
      "Epoch 407/500\n",
      "65/65 [==============================] - 0s 8ms/step - loss: 0.0353\n",
      "Epoch 408/500\n",
      "65/65 [==============================] - 1s 8ms/step - loss: 0.0404\n",
      "Epoch 409/500\n",
      "65/65 [==============================] - 1s 8ms/step - loss: 0.0538\n",
      "Epoch 410/500\n",
      "65/65 [==============================] - 0s 8ms/step - loss: 0.0409\n",
      "Epoch 411/500\n",
      "65/65 [==============================] - 1s 8ms/step - loss: 0.0380\n",
      "Epoch 412/500\n",
      "65/65 [==============================] - 1s 8ms/step - loss: 0.0365\n",
      "Epoch 413/500\n",
      "65/65 [==============================] - 1s 8ms/step - loss: 0.0332\n",
      "Epoch 414/500\n",
      "65/65 [==============================] - 1s 8ms/step - loss: 0.0338\n",
      "Epoch 415/500\n",
      "65/65 [==============================] - 1s 8ms/step - loss: 0.0348\n",
      "Epoch 416/500\n",
      "65/65 [==============================] - 1s 8ms/step - loss: 0.0368\n",
      "Epoch 417/500\n",
      "65/65 [==============================] - 0s 8ms/step - loss: 0.0525\n",
      "Epoch 418/500\n",
      "65/65 [==============================] - 1s 8ms/step - loss: 0.0548\n",
      "Epoch 419/500\n",
      "65/65 [==============================] - 1s 8ms/step - loss: 0.0428\n",
      "Epoch 420/500\n",
      "65/65 [==============================] - 1s 8ms/step - loss: 0.0433\n",
      "Epoch 421/500\n",
      "65/65 [==============================] - 1s 8ms/step - loss: 0.0383\n",
      "Epoch 422/500\n",
      "65/65 [==============================] - 1s 8ms/step - loss: 0.0338\n",
      "Epoch 423/500\n",
      "65/65 [==============================] - 1s 8ms/step - loss: 0.0341\n",
      "Epoch 424/500\n",
      "65/65 [==============================] - 1s 8ms/step - loss: 0.0394\n",
      "Epoch 425/500\n",
      "65/65 [==============================] - 1s 8ms/step - loss: 0.0435\n",
      "Epoch 426/500\n",
      "65/65 [==============================] - 1s 8ms/step - loss: 0.0371\n",
      "Epoch 427/500\n",
      "65/65 [==============================] - 1s 8ms/step - loss: 0.0403\n",
      "Epoch 428/500\n",
      "65/65 [==============================] - 1s 8ms/step - loss: 0.0395\n",
      "Epoch 429/500\n",
      "65/65 [==============================] - 0s 8ms/step - loss: 0.0381\n",
      "Epoch 430/500\n",
      "65/65 [==============================] - 0s 8ms/step - loss: 0.0399\n",
      "Epoch 431/500\n",
      "65/65 [==============================] - 1s 8ms/step - loss: 0.0377\n",
      "Epoch 432/500\n",
      "65/65 [==============================] - 1s 8ms/step - loss: 0.0329\n",
      "Epoch 433/500\n",
      "65/65 [==============================] - 1s 8ms/step - loss: 0.0311\n",
      "Epoch 434/500\n",
      "65/65 [==============================] - 0s 8ms/step - loss: 0.0279\n",
      "Epoch 435/500\n",
      "65/65 [==============================] - 1s 8ms/step - loss: 0.0322\n",
      "Epoch 436/500\n",
      "65/65 [==============================] - 1s 8ms/step - loss: 0.0467\n",
      "Epoch 437/500\n",
      "65/65 [==============================] - 1s 8ms/step - loss: 0.0445\n",
      "Epoch 438/500\n",
      "65/65 [==============================] - 1s 8ms/step - loss: 0.0385\n",
      "Epoch 439/500\n",
      "65/65 [==============================] - 1s 8ms/step - loss: 0.0350\n",
      "Epoch 440/500\n",
      "65/65 [==============================] - 1s 8ms/step - loss: 0.0317\n",
      "Epoch 441/500\n",
      "65/65 [==============================] - 0s 8ms/step - loss: 0.0301\n",
      "Epoch 442/500\n",
      "65/65 [==============================] - 0s 8ms/step - loss: 0.0302\n",
      "Epoch 443/500\n",
      "65/65 [==============================] - 1s 8ms/step - loss: 0.0314\n",
      "Epoch 444/500\n",
      "65/65 [==============================] - 1s 8ms/step - loss: 0.0372\n",
      "Epoch 445/500\n",
      "65/65 [==============================] - 1s 8ms/step - loss: 0.0314\n",
      "Epoch 446/500\n",
      "65/65 [==============================] - 1s 8ms/step - loss: 0.0423\n",
      "Epoch 447/500\n",
      "65/65 [==============================] - 1s 8ms/step - loss: 0.0407\n",
      "Epoch 448/500\n",
      "65/65 [==============================] - 1s 8ms/step - loss: 0.0377\n",
      "Epoch 449/500\n",
      "65/65 [==============================] - 1s 8ms/step - loss: 0.0350\n",
      "Epoch 450/500\n",
      "65/65 [==============================] - 1s 8ms/step - loss: 0.0348\n",
      "Epoch 451/500\n",
      "65/65 [==============================] - 1s 8ms/step - loss: 0.0297\n",
      "Epoch 452/500\n",
      "65/65 [==============================] - 1s 8ms/step - loss: 0.0272\n",
      "Epoch 453/500\n",
      "65/65 [==============================] - 1s 8ms/step - loss: 0.0327\n",
      "Epoch 454/500\n",
      "65/65 [==============================] - 1s 8ms/step - loss: 0.0299\n",
      "Epoch 455/500\n",
      "65/65 [==============================] - 1s 8ms/step - loss: 0.0335\n",
      "Epoch 456/500\n",
      "65/65 [==============================] - 1s 8ms/step - loss: 0.0295\n",
      "Epoch 457/500\n",
      "65/65 [==============================] - 1s 8ms/step - loss: 0.0349\n",
      "Epoch 458/500\n",
      "65/65 [==============================] - 1s 8ms/step - loss: 0.0324\n",
      "Epoch 459/500\n",
      "65/65 [==============================] - 1s 8ms/step - loss: 0.0361\n",
      "Epoch 460/500\n",
      "65/65 [==============================] - 1s 8ms/step - loss: 0.0359\n",
      "Epoch 461/500\n",
      "65/65 [==============================] - 1s 8ms/step - loss: 0.0274\n",
      "Epoch 462/500\n",
      "65/65 [==============================] - 0s 8ms/step - loss: 0.0284\n",
      "Epoch 463/500\n",
      "65/65 [==============================] - 0s 8ms/step - loss: 0.0476\n",
      "Epoch 464/500\n",
      "65/65 [==============================] - 1s 8ms/step - loss: 0.0415\n",
      "Epoch 465/500\n",
      "65/65 [==============================] - 0s 8ms/step - loss: 0.0474\n",
      "Epoch 466/500\n",
      "65/65 [==============================] - 1s 8ms/step - loss: 0.0461\n",
      "Epoch 467/500\n",
      "65/65 [==============================] - 1s 8ms/step - loss: 0.0724\n",
      "Epoch 468/500\n",
      "65/65 [==============================] - 1s 8ms/step - loss: 0.0487\n",
      "Epoch 469/500\n",
      "65/65 [==============================] - 0s 8ms/step - loss: 0.0353\n",
      "Epoch 470/500\n",
      "65/65 [==============================] - 1s 8ms/step - loss: 0.0310\n",
      "Epoch 471/500\n",
      "65/65 [==============================] - 0s 8ms/step - loss: 0.0265\n",
      "Epoch 472/500\n",
      "65/65 [==============================] - 1s 8ms/step - loss: 0.0357\n",
      "Epoch 473/500\n",
      "65/65 [==============================] - 1s 8ms/step - loss: 0.0298\n",
      "Epoch 474/500\n",
      "65/65 [==============================] - 1s 8ms/step - loss: 0.0356\n",
      "Epoch 475/500\n",
      "65/65 [==============================] - 1s 8ms/step - loss: 0.0261\n",
      "Epoch 476/500\n",
      "65/65 [==============================] - 1s 8ms/step - loss: 0.0252\n",
      "Epoch 477/500\n",
      "65/65 [==============================] - 0s 8ms/step - loss: 0.0264\n",
      "Epoch 478/500\n",
      "65/65 [==============================] - 1s 8ms/step - loss: 0.0228\n",
      "Epoch 479/500\n",
      "65/65 [==============================] - 1s 8ms/step - loss: 0.0217\n",
      "Epoch 480/500\n",
      "65/65 [==============================] - 0s 8ms/step - loss: 0.0835\n",
      "Epoch 481/500\n",
      "65/65 [==============================] - 1s 8ms/step - loss: 0.0763\n",
      "Epoch 482/500\n",
      "65/65 [==============================] - 1s 8ms/step - loss: 0.0511\n",
      "Epoch 483/500\n",
      "65/65 [==============================] - 0s 8ms/step - loss: 0.0404\n",
      "Epoch 484/500\n",
      "65/65 [==============================] - 1s 8ms/step - loss: 0.0404\n",
      "Epoch 485/500\n",
      "65/65 [==============================] - 1s 8ms/step - loss: 0.0485\n",
      "Epoch 486/500\n",
      "65/65 [==============================] - 1s 8ms/step - loss: 0.0432\n",
      "Epoch 487/500\n",
      "65/65 [==============================] - 0s 8ms/step - loss: 0.0286\n",
      "Epoch 488/500\n",
      "65/65 [==============================] - 0s 8ms/step - loss: 0.0305\n",
      "Epoch 489/500\n",
      "65/65 [==============================] - 1s 8ms/step - loss: 0.0255\n",
      "Epoch 490/500\n",
      "65/65 [==============================] - 1s 8ms/step - loss: 0.0391\n",
      "Epoch 491/500\n",
      "65/65 [==============================] - 1s 8ms/step - loss: 0.0315\n",
      "Epoch 492/500\n",
      "65/65 [==============================] - 1s 8ms/step - loss: 0.0248\n",
      "Epoch 493/500\n",
      "65/65 [==============================] - 1s 8ms/step - loss: 0.0254\n",
      "Epoch 494/500\n",
      "65/65 [==============================] - 1s 8ms/step - loss: 0.0274\n",
      "Epoch 495/500\n",
      "65/65 [==============================] - 1s 8ms/step - loss: 0.0291\n",
      "Epoch 496/500\n",
      "65/65 [==============================] - 0s 8ms/step - loss: 0.0315\n",
      "Epoch 497/500\n",
      "65/65 [==============================] - 0s 8ms/step - loss: 0.0228\n",
      "Epoch 498/500\n",
      "65/65 [==============================] - 1s 8ms/step - loss: 0.0203\n",
      "Epoch 499/500\n",
      "65/65 [==============================] - 0s 8ms/step - loss: 0.0234\n",
      "Epoch 500/500\n",
      "65/65 [==============================] - 1s 8ms/step - loss: 0.0224\n",
      "2/2 [==============================] - 0s 6ms/step\n",
      "Mean Squared Error: 79.18819882208284\n"
     ]
    }
   ],
   "source": [
    "# Normalisation des données\n",
    "scaler = StandardScaler()\n",
    "\n",
    "data_scaled = scaler.fit_transform(data_merge[['Taux d\\'occupation dans l\\'hôtellerie - France', 'nom_vacances', 'extra']])\n",
    "\n",
    "# Préparation des données pour le modèle LSTM\n",
    "X, y = [], []\n",
    "for i in range(len(data_scaled)-60):\n",
    "    X.append(data_scaled[i:i+60])\n",
    "    y.append(data_scaled[i+60, 2])  # 'extra' est la troisième colonne\n",
    "\n",
    "X, y = np.array(X), np.array(y)\n",
    "\n",
    "# Division des données\n",
    "X_train, y_train = X[:-60], y[:-60]\n",
    "X_test, y_test = X[-60:], y[-60:]\n",
    "\n",
    "# Construction du modèle LSTM\n",
    "model = Sequential()\n",
    "model.add(LSTM(50, activation='relu', input_shape=(60, 3)))\n",
    "model.add(Dense(1))\n",
    "model.compile(optimizer='adam', loss='mse')\n",
    "\n",
    "# Entraînement du modèle\n",
    "model.fit(X_train, y_train, epochs=500, batch_size=8, verbose=1)\n",
    "\n",
    "# Prédictions sur l'ensemble de test\n",
    "predictions_scaled = model.predict(X_test)\n",
    "predictions = scaler.inverse_transform(np.hstack((X_test[:, -1, :-1], predictions_scaled)))\n",
    "\n",
    "# Évaluation du modèle\n",
    "mse = mean_squared_error(data_merge[-60:]['extra'], predictions[:, 2])\n",
    "print(f'Mean Squared Error: {mse}')\n",
    "\n"
   ]
  },
  {
   "cell_type": "code",
   "execution_count": null,
   "metadata": {},
   "outputs": [
    {
     "name": "stderr",
     "output_type": "stream",
     "text": [
      "/Users/simoncld/anaconda3/lib/python3.11/site-packages/_plotly_utils/basevalidators.py:106: FutureWarning:\n",
      "\n",
      "The behavior of DatetimeProperties.to_pydatetime is deprecated, in a future version this will return a Series containing python datetime objects instead of an ndarray. To retain the old behavior, call `np.array` on the result\n",
      "\n",
      "/Users/simoncld/anaconda3/lib/python3.11/site-packages/_plotly_utils/basevalidators.py:106: FutureWarning:\n",
      "\n",
      "The behavior of DatetimeProperties.to_pydatetime is deprecated, in a future version this will return a Series containing python datetime objects instead of an ndarray. To retain the old behavior, call `np.array` on the result\n",
      "\n"
     ]
    },
    {
     "data": {
      "application/vnd.plotly.v1+json": {
       "config": {
        "plotlyServerURL": "https://plot.ly"
       },
       "data": [
        {
         "hovertemplate": "<extra></extra>",
         "legendgroup": "",
         "line": {
          "color": "#636efa",
          "dash": "solid"
         },
         "marker": {
          "symbol": "circle"
         },
         "mode": "lines",
         "name": "",
         "orientation": "v",
         "showlegend": false,
         "type": "scatter",
         "xaxis": "x",
         "yaxis": "y"
        },
        {
         "hovertemplate": "x=%{x}<br>y=%{y}<extra></extra>",
         "legendgroup": "",
         "line": {
          "color": "#4BE8E0",
          "dash": "solid"
         },
         "marker": {
          "symbol": "circle"
         },
         "mode": "lines",
         "name": "",
         "orientation": "v",
         "showlegend": false,
         "type": "scatter",
         "x": [
          "2023-07-04T00:00:00",
          "2023-07-05T00:00:00",
          "2023-07-06T00:00:00",
          "2023-07-07T00:00:00",
          "2023-07-08T00:00:00",
          "2023-07-09T00:00:00",
          "2023-07-10T00:00:00",
          "2023-07-11T00:00:00",
          "2023-07-12T00:00:00",
          "2023-07-13T00:00:00",
          "2023-07-14T00:00:00",
          "2023-07-15T00:00:00",
          "2023-07-16T00:00:00",
          "2023-07-17T00:00:00",
          "2023-07-18T00:00:00",
          "2023-07-19T00:00:00",
          "2023-07-20T00:00:00",
          "2023-07-21T00:00:00",
          "2023-07-22T00:00:00",
          "2023-07-23T00:00:00",
          "2023-07-24T00:00:00",
          "2023-07-25T00:00:00",
          "2023-07-26T00:00:00",
          "2023-07-27T00:00:00",
          "2023-07-28T00:00:00",
          "2023-07-29T00:00:00",
          "2023-07-30T00:00:00",
          "2023-07-31T00:00:00",
          "2023-08-01T00:00:00",
          "2023-08-02T00:00:00",
          "2023-08-03T00:00:00",
          "2023-08-04T00:00:00",
          "2023-08-05T00:00:00",
          "2023-08-06T00:00:00",
          "2023-08-07T00:00:00",
          "2023-08-08T00:00:00",
          "2023-08-09T00:00:00",
          "2023-08-10T00:00:00",
          "2023-08-11T00:00:00",
          "2023-08-12T00:00:00",
          "2023-08-13T00:00:00",
          "2023-08-14T00:00:00",
          "2023-08-15T00:00:00",
          "2023-08-16T00:00:00",
          "2023-08-17T00:00:00",
          "2023-08-18T00:00:00",
          "2023-08-19T00:00:00",
          "2023-08-20T00:00:00",
          "2023-08-21T00:00:00",
          "2023-08-22T00:00:00",
          "2023-08-23T00:00:00",
          "2023-08-24T00:00:00",
          "2023-08-25T00:00:00",
          "2023-08-26T00:00:00",
          "2023-08-27T00:00:00",
          "2023-08-28T00:00:00",
          "2023-08-29T00:00:00",
          "2023-08-30T00:00:00",
          "2023-08-31T00:00:00",
          "2023-09-01T00:00:00"
         ],
         "xaxis": "x",
         "y": [
          8,
          12,
          13,
          11,
          11,
          9,
          7,
          4,
          6,
          14,
          14,
          12,
          8,
          6,
          7,
          7,
          12,
          15,
          11,
          7,
          9,
          7,
          7,
          11,
          12,
          12,
          10,
          7,
          9,
          9,
          10,
          11,
          12,
          13,
          8,
          9,
          12,
          10,
          10,
          11,
          10,
          13,
          9,
          10,
          8,
          11,
          9,
          13,
          12,
          13,
          13,
          12,
          12,
          17,
          12,
          9,
          10,
          10,
          8,
          12
         ],
         "yaxis": "y"
        },
        {
         "hovertemplate": "x=%{x}<br>y=%{y}<extra></extra>",
         "legendgroup": "",
         "line": {
          "color": "red",
          "dash": "solid"
         },
         "marker": {
          "symbol": "circle"
         },
         "mode": "lines",
         "name": "",
         "orientation": "v",
         "showlegend": false,
         "type": "scatter",
         "x": [
          "2023-07-04T00:00:00",
          "2023-07-05T00:00:00",
          "2023-07-06T00:00:00",
          "2023-07-07T00:00:00",
          "2023-07-08T00:00:00",
          "2023-07-09T00:00:00",
          "2023-07-10T00:00:00",
          "2023-07-11T00:00:00",
          "2023-07-12T00:00:00",
          "2023-07-13T00:00:00",
          "2023-07-14T00:00:00",
          "2023-07-15T00:00:00",
          "2023-07-16T00:00:00",
          "2023-07-17T00:00:00",
          "2023-07-18T00:00:00",
          "2023-07-19T00:00:00",
          "2023-07-20T00:00:00",
          "2023-07-21T00:00:00",
          "2023-07-22T00:00:00",
          "2023-07-23T00:00:00",
          "2023-07-24T00:00:00",
          "2023-07-25T00:00:00",
          "2023-07-26T00:00:00",
          "2023-07-27T00:00:00",
          "2023-07-28T00:00:00",
          "2023-07-29T00:00:00",
          "2023-07-30T00:00:00",
          "2023-07-31T00:00:00",
          "2023-08-01T00:00:00",
          "2023-08-02T00:00:00",
          "2023-08-03T00:00:00",
          "2023-08-04T00:00:00",
          "2023-08-05T00:00:00",
          "2023-08-06T00:00:00",
          "2023-08-07T00:00:00",
          "2023-08-08T00:00:00",
          "2023-08-09T00:00:00",
          "2023-08-10T00:00:00",
          "2023-08-11T00:00:00",
          "2023-08-12T00:00:00",
          "2023-08-13T00:00:00",
          "2023-08-14T00:00:00",
          "2023-08-15T00:00:00",
          "2023-08-16T00:00:00",
          "2023-08-17T00:00:00",
          "2023-08-18T00:00:00",
          "2023-08-19T00:00:00",
          "2023-08-20T00:00:00",
          "2023-08-21T00:00:00",
          "2023-08-22T00:00:00",
          "2023-08-23T00:00:00",
          "2023-08-24T00:00:00",
          "2023-08-25T00:00:00",
          "2023-08-26T00:00:00",
          "2023-08-27T00:00:00",
          "2023-08-28T00:00:00",
          "2023-08-29T00:00:00",
          "2023-08-30T00:00:00",
          "2023-08-31T00:00:00",
          "2023-09-01T00:00:00"
         ],
         "xaxis": "x",
         "y": [
          7.867007097919057,
          8.534748028464088,
          6.8536430592239,
          9.657084448729812,
          11.646340865821692,
          7.745591544055638,
          6.125374519914573,
          10.109801101106832,
          14.892802550992517,
          13.624282961671186,
          5.02193326501289,
          6.086644493971036,
          6.0349099813251215,
          9.176432466192594,
          12.812550009340644,
          11.939204613721273,
          11.408611066042985,
          9.36181182155122,
          6.047703396110727,
          3.4183894704429165,
          5.14066044618026,
          8.186457564932915,
          3.679151666389316,
          12.608990307781038,
          7.148109008667507,
          6.225228313527855,
          2.549154987892842,
          2.5615238621335403,
          2.900215681031121,
          5.807454307013345,
          1.7821446695361942,
          7.193242770820815,
          3.0330624419063192,
          5.033184257766653,
          2.3968432435278095,
          1.6045450392514846,
          8.867497846813484,
          -2.277436004580788,
          5.041397971959105,
          8.837789687696683,
          7.415549640817993,
          7.17644818469183,
          6.410054950374428,
          2.3133838543823293,
          11.050629407947248,
          -0.04403692556102179,
          13.100681911566326,
          -0.43168433941873197,
          9.11378132507291,
          -1.4039091963477217,
          1.4277625031780552,
          -5.128106619418124,
          -1.4259692651529834,
          -5.264153543045894,
          -5.60290693898918,
          -18.140848148806644,
          4.280929569440241,
          -12.113228221454044,
          16.943113161988805,
          -2.4864366096519683
         ],
         "yaxis": "y"
        }
       ],
       "layout": {
        "legend": {
         "tracegroupgap": 0
        },
        "margin": {
         "t": 60
        },
        "template": {
         "data": {
          "bar": [
           {
            "error_x": {
             "color": "#2a3f5f"
            },
            "error_y": {
             "color": "#2a3f5f"
            },
            "marker": {
             "line": {
              "color": "#E5ECF6",
              "width": 0.5
             },
             "pattern": {
              "fillmode": "overlay",
              "size": 10,
              "solidity": 0.2
             }
            },
            "type": "bar"
           }
          ],
          "barpolar": [
           {
            "marker": {
             "line": {
              "color": "#E5ECF6",
              "width": 0.5
             },
             "pattern": {
              "fillmode": "overlay",
              "size": 10,
              "solidity": 0.2
             }
            },
            "type": "barpolar"
           }
          ],
          "carpet": [
           {
            "aaxis": {
             "endlinecolor": "#2a3f5f",
             "gridcolor": "white",
             "linecolor": "white",
             "minorgridcolor": "white",
             "startlinecolor": "#2a3f5f"
            },
            "baxis": {
             "endlinecolor": "#2a3f5f",
             "gridcolor": "white",
             "linecolor": "white",
             "minorgridcolor": "white",
             "startlinecolor": "#2a3f5f"
            },
            "type": "carpet"
           }
          ],
          "choropleth": [
           {
            "colorbar": {
             "outlinewidth": 0,
             "ticks": ""
            },
            "type": "choropleth"
           }
          ],
          "contour": [
           {
            "colorbar": {
             "outlinewidth": 0,
             "ticks": ""
            },
            "colorscale": [
             [
              0,
              "#0d0887"
             ],
             [
              0.1111111111111111,
              "#46039f"
             ],
             [
              0.2222222222222222,
              "#7201a8"
             ],
             [
              0.3333333333333333,
              "#9c179e"
             ],
             [
              0.4444444444444444,
              "#bd3786"
             ],
             [
              0.5555555555555556,
              "#d8576b"
             ],
             [
              0.6666666666666666,
              "#ed7953"
             ],
             [
              0.7777777777777778,
              "#fb9f3a"
             ],
             [
              0.8888888888888888,
              "#fdca26"
             ],
             [
              1,
              "#f0f921"
             ]
            ],
            "type": "contour"
           }
          ],
          "contourcarpet": [
           {
            "colorbar": {
             "outlinewidth": 0,
             "ticks": ""
            },
            "type": "contourcarpet"
           }
          ],
          "heatmap": [
           {
            "colorbar": {
             "outlinewidth": 0,
             "ticks": ""
            },
            "colorscale": [
             [
              0,
              "#0d0887"
             ],
             [
              0.1111111111111111,
              "#46039f"
             ],
             [
              0.2222222222222222,
              "#7201a8"
             ],
             [
              0.3333333333333333,
              "#9c179e"
             ],
             [
              0.4444444444444444,
              "#bd3786"
             ],
             [
              0.5555555555555556,
              "#d8576b"
             ],
             [
              0.6666666666666666,
              "#ed7953"
             ],
             [
              0.7777777777777778,
              "#fb9f3a"
             ],
             [
              0.8888888888888888,
              "#fdca26"
             ],
             [
              1,
              "#f0f921"
             ]
            ],
            "type": "heatmap"
           }
          ],
          "heatmapgl": [
           {
            "colorbar": {
             "outlinewidth": 0,
             "ticks": ""
            },
            "colorscale": [
             [
              0,
              "#0d0887"
             ],
             [
              0.1111111111111111,
              "#46039f"
             ],
             [
              0.2222222222222222,
              "#7201a8"
             ],
             [
              0.3333333333333333,
              "#9c179e"
             ],
             [
              0.4444444444444444,
              "#bd3786"
             ],
             [
              0.5555555555555556,
              "#d8576b"
             ],
             [
              0.6666666666666666,
              "#ed7953"
             ],
             [
              0.7777777777777778,
              "#fb9f3a"
             ],
             [
              0.8888888888888888,
              "#fdca26"
             ],
             [
              1,
              "#f0f921"
             ]
            ],
            "type": "heatmapgl"
           }
          ],
          "histogram": [
           {
            "marker": {
             "pattern": {
              "fillmode": "overlay",
              "size": 10,
              "solidity": 0.2
             }
            },
            "type": "histogram"
           }
          ],
          "histogram2d": [
           {
            "colorbar": {
             "outlinewidth": 0,
             "ticks": ""
            },
            "colorscale": [
             [
              0,
              "#0d0887"
             ],
             [
              0.1111111111111111,
              "#46039f"
             ],
             [
              0.2222222222222222,
              "#7201a8"
             ],
             [
              0.3333333333333333,
              "#9c179e"
             ],
             [
              0.4444444444444444,
              "#bd3786"
             ],
             [
              0.5555555555555556,
              "#d8576b"
             ],
             [
              0.6666666666666666,
              "#ed7953"
             ],
             [
              0.7777777777777778,
              "#fb9f3a"
             ],
             [
              0.8888888888888888,
              "#fdca26"
             ],
             [
              1,
              "#f0f921"
             ]
            ],
            "type": "histogram2d"
           }
          ],
          "histogram2dcontour": [
           {
            "colorbar": {
             "outlinewidth": 0,
             "ticks": ""
            },
            "colorscale": [
             [
              0,
              "#0d0887"
             ],
             [
              0.1111111111111111,
              "#46039f"
             ],
             [
              0.2222222222222222,
              "#7201a8"
             ],
             [
              0.3333333333333333,
              "#9c179e"
             ],
             [
              0.4444444444444444,
              "#bd3786"
             ],
             [
              0.5555555555555556,
              "#d8576b"
             ],
             [
              0.6666666666666666,
              "#ed7953"
             ],
             [
              0.7777777777777778,
              "#fb9f3a"
             ],
             [
              0.8888888888888888,
              "#fdca26"
             ],
             [
              1,
              "#f0f921"
             ]
            ],
            "type": "histogram2dcontour"
           }
          ],
          "mesh3d": [
           {
            "colorbar": {
             "outlinewidth": 0,
             "ticks": ""
            },
            "type": "mesh3d"
           }
          ],
          "parcoords": [
           {
            "line": {
             "colorbar": {
              "outlinewidth": 0,
              "ticks": ""
             }
            },
            "type": "parcoords"
           }
          ],
          "pie": [
           {
            "automargin": true,
            "type": "pie"
           }
          ],
          "scatter": [
           {
            "fillpattern": {
             "fillmode": "overlay",
             "size": 10,
             "solidity": 0.2
            },
            "type": "scatter"
           }
          ],
          "scatter3d": [
           {
            "line": {
             "colorbar": {
              "outlinewidth": 0,
              "ticks": ""
             }
            },
            "marker": {
             "colorbar": {
              "outlinewidth": 0,
              "ticks": ""
             }
            },
            "type": "scatter3d"
           }
          ],
          "scattercarpet": [
           {
            "marker": {
             "colorbar": {
              "outlinewidth": 0,
              "ticks": ""
             }
            },
            "type": "scattercarpet"
           }
          ],
          "scattergeo": [
           {
            "marker": {
             "colorbar": {
              "outlinewidth": 0,
              "ticks": ""
             }
            },
            "type": "scattergeo"
           }
          ],
          "scattergl": [
           {
            "marker": {
             "colorbar": {
              "outlinewidth": 0,
              "ticks": ""
             }
            },
            "type": "scattergl"
           }
          ],
          "scattermapbox": [
           {
            "marker": {
             "colorbar": {
              "outlinewidth": 0,
              "ticks": ""
             }
            },
            "type": "scattermapbox"
           }
          ],
          "scatterpolar": [
           {
            "marker": {
             "colorbar": {
              "outlinewidth": 0,
              "ticks": ""
             }
            },
            "type": "scatterpolar"
           }
          ],
          "scatterpolargl": [
           {
            "marker": {
             "colorbar": {
              "outlinewidth": 0,
              "ticks": ""
             }
            },
            "type": "scatterpolargl"
           }
          ],
          "scatterternary": [
           {
            "marker": {
             "colorbar": {
              "outlinewidth": 0,
              "ticks": ""
             }
            },
            "type": "scatterternary"
           }
          ],
          "surface": [
           {
            "colorbar": {
             "outlinewidth": 0,
             "ticks": ""
            },
            "colorscale": [
             [
              0,
              "#0d0887"
             ],
             [
              0.1111111111111111,
              "#46039f"
             ],
             [
              0.2222222222222222,
              "#7201a8"
             ],
             [
              0.3333333333333333,
              "#9c179e"
             ],
             [
              0.4444444444444444,
              "#bd3786"
             ],
             [
              0.5555555555555556,
              "#d8576b"
             ],
             [
              0.6666666666666666,
              "#ed7953"
             ],
             [
              0.7777777777777778,
              "#fb9f3a"
             ],
             [
              0.8888888888888888,
              "#fdca26"
             ],
             [
              1,
              "#f0f921"
             ]
            ],
            "type": "surface"
           }
          ],
          "table": [
           {
            "cells": {
             "fill": {
              "color": "#EBF0F8"
             },
             "line": {
              "color": "white"
             }
            },
            "header": {
             "fill": {
              "color": "#C8D4E3"
             },
             "line": {
              "color": "white"
             }
            },
            "type": "table"
           }
          ]
         },
         "layout": {
          "annotationdefaults": {
           "arrowcolor": "#2a3f5f",
           "arrowhead": 0,
           "arrowwidth": 1
          },
          "autotypenumbers": "strict",
          "coloraxis": {
           "colorbar": {
            "outlinewidth": 0,
            "ticks": ""
           }
          },
          "colorscale": {
           "diverging": [
            [
             0,
             "#8e0152"
            ],
            [
             0.1,
             "#c51b7d"
            ],
            [
             0.2,
             "#de77ae"
            ],
            [
             0.3,
             "#f1b6da"
            ],
            [
             0.4,
             "#fde0ef"
            ],
            [
             0.5,
             "#f7f7f7"
            ],
            [
             0.6,
             "#e6f5d0"
            ],
            [
             0.7,
             "#b8e186"
            ],
            [
             0.8,
             "#7fbc41"
            ],
            [
             0.9,
             "#4d9221"
            ],
            [
             1,
             "#276419"
            ]
           ],
           "sequential": [
            [
             0,
             "#0d0887"
            ],
            [
             0.1111111111111111,
             "#46039f"
            ],
            [
             0.2222222222222222,
             "#7201a8"
            ],
            [
             0.3333333333333333,
             "#9c179e"
            ],
            [
             0.4444444444444444,
             "#bd3786"
            ],
            [
             0.5555555555555556,
             "#d8576b"
            ],
            [
             0.6666666666666666,
             "#ed7953"
            ],
            [
             0.7777777777777778,
             "#fb9f3a"
            ],
            [
             0.8888888888888888,
             "#fdca26"
            ],
            [
             1,
             "#f0f921"
            ]
           ],
           "sequentialminus": [
            [
             0,
             "#0d0887"
            ],
            [
             0.1111111111111111,
             "#46039f"
            ],
            [
             0.2222222222222222,
             "#7201a8"
            ],
            [
             0.3333333333333333,
             "#9c179e"
            ],
            [
             0.4444444444444444,
             "#bd3786"
            ],
            [
             0.5555555555555556,
             "#d8576b"
            ],
            [
             0.6666666666666666,
             "#ed7953"
            ],
            [
             0.7777777777777778,
             "#fb9f3a"
            ],
            [
             0.8888888888888888,
             "#fdca26"
            ],
            [
             1,
             "#f0f921"
            ]
           ]
          },
          "colorway": [
           "#636efa",
           "#EF553B",
           "#00cc96",
           "#ab63fa",
           "#FFA15A",
           "#19d3f3",
           "#FF6692",
           "#B6E880",
           "#FF97FF",
           "#FECB52"
          ],
          "font": {
           "color": "#2a3f5f"
          },
          "geo": {
           "bgcolor": "white",
           "lakecolor": "white",
           "landcolor": "#E5ECF6",
           "showlakes": true,
           "showland": true,
           "subunitcolor": "white"
          },
          "hoverlabel": {
           "align": "left"
          },
          "hovermode": "closest",
          "mapbox": {
           "style": "light"
          },
          "paper_bgcolor": "white",
          "plot_bgcolor": "#E5ECF6",
          "polar": {
           "angularaxis": {
            "gridcolor": "white",
            "linecolor": "white",
            "ticks": ""
           },
           "bgcolor": "#E5ECF6",
           "radialaxis": {
            "gridcolor": "white",
            "linecolor": "white",
            "ticks": ""
           }
          },
          "scene": {
           "xaxis": {
            "backgroundcolor": "#E5ECF6",
            "gridcolor": "white",
            "gridwidth": 2,
            "linecolor": "white",
            "showbackground": true,
            "ticks": "",
            "zerolinecolor": "white"
           },
           "yaxis": {
            "backgroundcolor": "#E5ECF6",
            "gridcolor": "white",
            "gridwidth": 2,
            "linecolor": "white",
            "showbackground": true,
            "ticks": "",
            "zerolinecolor": "white"
           },
           "zaxis": {
            "backgroundcolor": "#E5ECF6",
            "gridcolor": "white",
            "gridwidth": 2,
            "linecolor": "white",
            "showbackground": true,
            "ticks": "",
            "zerolinecolor": "white"
           }
          },
          "shapedefaults": {
           "line": {
            "color": "#2a3f5f"
           }
          },
          "ternary": {
           "aaxis": {
            "gridcolor": "white",
            "linecolor": "white",
            "ticks": ""
           },
           "baxis": {
            "gridcolor": "white",
            "linecolor": "white",
            "ticks": ""
           },
           "bgcolor": "#E5ECF6",
           "caxis": {
            "gridcolor": "white",
            "linecolor": "white",
            "ticks": ""
           }
          },
          "title": {
           "x": 0.05
          },
          "xaxis": {
           "automargin": true,
           "gridcolor": "white",
           "linecolor": "white",
           "ticks": "",
           "title": {
            "standoff": 15
           },
           "zerolinecolor": "white",
           "zerolinewidth": 2
          },
          "yaxis": {
           "automargin": true,
           "gridcolor": "white",
           "linecolor": "white",
           "ticks": "",
           "title": {
            "standoff": 15
           },
           "zerolinecolor": "white",
           "zerolinewidth": 2
          }
         }
        },
        "xaxis": {
         "anchor": "y",
         "domain": [
          0,
          1
         ]
        },
        "yaxis": {
         "anchor": "x",
         "domain": [
          0,
          1
         ]
        }
       }
      }
     },
     "metadata": {},
     "output_type": "display_data"
    }
   ],
   "source": [
    "fig = px.line()\n",
    "fig.add_trace(px.line(data_merge, x = data_merge[\"date\"][-60:], y=data_merge[-60:]['extra']).data[0])\n",
    "fig.add_trace(px.line(data_merge, x = data_merge[\"date\"][-60:], y=predictions[:, 2]).data[0])\n",
    "fig['data'][1]['line']['color']=\"#4BE8E0\"\n",
    "fig['data'][2]['line']['color']=\"red\"\n",
    "fig.show()"
   ]
  },
  {
   "cell_type": "code",
   "execution_count": 14,
   "metadata": {},
   "outputs": [
    {
     "name": "stderr",
     "output_type": "stream",
     "text": [
      "/Users/simoncld/anaconda3/lib/python3.11/site-packages/statsmodels/tsa/base/tsa_model.py:473: ValueWarning:\n",
      "\n",
      "A date index has been provided, but it has no associated frequency information and so will be ignored when e.g. forecasting.\n",
      "\n",
      "/Users/simoncld/anaconda3/lib/python3.11/site-packages/statsmodels/tsa/base/tsa_model.py:473: ValueWarning:\n",
      "\n",
      "A date index has been provided, but it has no associated frequency information and so will be ignored when e.g. forecasting.\n",
      "\n",
      "/Users/simoncld/anaconda3/lib/python3.11/site-packages/statsmodels/tsa/base/tsa_model.py:473: ValueWarning:\n",
      "\n",
      "A date index has been provided, but it has no associated frequency information and so will be ignored when e.g. forecasting.\n",
      "\n",
      "/Users/simoncld/anaconda3/lib/python3.11/site-packages/statsmodels/tsa/statespace/sarimax.py:978: UserWarning:\n",
      "\n",
      "Non-invertible starting MA parameters found. Using zeros as starting parameters.\n",
      "\n",
      "/Users/simoncld/anaconda3/lib/python3.11/site-packages/statsmodels/tsa/base/tsa_model.py:836: ValueWarning:\n",
      "\n",
      "No supported index is available. Prediction results will be given with an integer index beginning at `start`.\n",
      "\n",
      "/Users/simoncld/anaconda3/lib/python3.11/site-packages/statsmodels/tsa/base/tsa_model.py:836: FutureWarning:\n",
      "\n",
      "No supported index is available. In the next version, calling this method in a model without a supported index will result in an exception.\n",
      "\n",
      "/Users/simoncld/anaconda3/lib/python3.11/site-packages/statsmodels/tsa/statespace/representation.py:374: FutureWarning:\n",
      "\n",
      "Unknown keyword arguments: dict_keys(['typ']).Passing unknown keyword arguments will raise a TypeError beginning in version 0.15.\n",
      "\n"
     ]
    },
    {
     "data": {
      "image/png": "[encoded data removed]",
      "text/plain": [
       "<Figure size 640x480 with 1 Axes>"
      ]
     },
     "metadata": {},
     "output_type": "display_data"
    }
   ],
   "source": [
    "from pmdarima import auto_arima\n",
    "from statsmodels.tsa.arima.model import ARIMA\n",
    "\n",
    "# Préparation des données pour ARIMA\n",
    "df_arima = data_ts\n",
    "\n",
    "# Recherche automatique des paramètres ARIMA\n",
    "model_arima = auto_arima(df_arima['extra'], seasonal=True, m=7)\n",
    "\n",
    "# Création du modèle ARIMA avec les meilleurs paramètres\n",
    "model_arima = ARIMA(df_arima['extra'], order=model_arima.order)\n",
    "model_arima_fit = model_arima.fit()\n",
    "\n",
    "# Prédictions\n",
    "predictions_arima = model_arima_fit.predict(start=len(df_arima), end=len(df_arima)+6, typ='levels')\n",
    "\n",
    "# Visualisation des prédictions\n",
    "plt.plot(df_arima.index, df_arima['extra'], label='Historical Data')\n",
    "plt.plot(predictions_arima.index, predictions_arima, label='ARIMA Predictions')\n",
    "plt.legend()\n",
    "plt.show()"
   ]
  },
  {
   "cell_type": "code",
   "execution_count": null,
   "metadata": {},
   "outputs": [],
   "source": []
  }
 ],
 "metadata": {
  "kernelspec": {
   "display_name": "qualiextra",
   "language": "python",
   "name": "python3"
  },
  "language_info": {
   "codemirror_mode": {
    "name": "ipython",
    "version": 3
   },
   "file_extension": ".py",
   "mimetype": "text/x-python",
   "name": "python",
   "nbconvert_exporter": "python",
   "pygments_lexer": "ipython3",
   "version": "3.11.4"
  }
 },
 "nbformat": 4,
 "nbformat_minor": 2
}
