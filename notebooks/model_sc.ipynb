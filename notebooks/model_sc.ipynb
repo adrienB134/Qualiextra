{
 "cells": [
  {
   "cell_type": "code",
   "execution_count": 194,
   "metadata": {},
   "outputs": [],
   "source": [
    "## MLFLOW_TRACKING_URI='https://qualiextra-project-6b29e931dd67.herokuapp.com/'"
   ]
  },
  {
   "cell_type": "code",
   "execution_count": 195,
   "metadata": {},
   "outputs": [],
   "source": [
    "import pandas as pd\n",
    "import datetime\n",
    "import numpy as np\n",
    "from plotly.subplots import make_subplots\n",
    "from prophet import Prophet\n",
    "\n",
    "import pandas as pd\n",
    "from tensorflow.keras.models import Sequential\n",
    "from tensorflow.keras.layers import LSTM, Dense\n",
    "from sklearn.metrics import mean_squared_error\n",
    "import matplotlib.pyplot as plt\n",
    "from sklearn.metrics import mean_squared_error,  mean_absolute_error, mean_absolute_percentage_error\n",
    "\n",
    "\n",
    "from sklearn.model_selection import train_test_split\n",
    "from sklearn.impute import SimpleImputer\n",
    "from sklearn.preprocessing import  OneHotEncoder, StandardScaler\n",
    "from sklearn.compose import ColumnTransformer\n",
    "from sklearn.linear_model import LogisticRegression\n",
    "from sklearn.metrics import f1_score, confusion_matrix, ConfusionMatrixDisplay, classification_report\n",
    "from sklearn.model_selection import cross_val_score, GridSearchCV\n",
    "from sklearn.linear_model import Ridge\n",
    "from sklearn.linear_model import Lasso\n",
    "import matplotlib.pyplot as plt\n",
    "from sklearn.tree import DecisionTreeClassifier\n",
    "from xgboost import XGBClassifier\n",
    "import plotly.express as px\n",
    "import plotly.graph_objects as go\n",
    "import plotly.io as pio\n",
    "from sklearn.svm import SVC\n",
    "from sklearn.ensemble import RandomForestClassifier\n",
    "from sklearn.ensemble import RandomForestClassifier, BaggingClassifier, AdaBoostClassifier, GradientBoostingClassifier, VotingClassifier, StackingClassifier"
   ]
  },
  {
   "cell_type": "code",
   "execution_count": 196,
   "metadata": {},
   "outputs": [],
   "source": [
    "data = pd.read_csv(\"../Missions.csv\", sep=';')"
   ]
  },
  {
   "cell_type": "code",
   "execution_count": 197,
   "metadata": {},
   "outputs": [],
   "source": [
    "mask = data[\"hôtel\"].notna()\n",
    "data = data[mask]\n",
    "data[\"date_debut\"] = data.apply(lambda x: x[\"date\"].split(\" →\")[0], axis=1)\n",
    "data[\"date_debut\"] = data[\"date_debut\"].apply(\n",
    "    lambda x: x.replace(\" (UTC+3)\", \"\")\n",
    ")\n",
    "data[\"date_debut\"] = data[\"date_debut\"].apply(lambda x: x.replace(\" (UTC)\", \"\"))\n",
    "data[\"date_debut\"] = pd.to_datetime(data[\"date_debut\"], format=\"%d/%m/%Y %H:%M\")\n",
    "data[\"date\"] = pd.to_datetime(data[\"date_debut\"]).dt.date\n",
    "data[\"time_delta\"] = data[\"nbre d'heures\"].apply(lambda x: pd.to_timedelta(x))\n",
    "data[\"date_fin\"] = data.apply(\n",
    "    lambda x: x[\"date_debut\"] + x[\"time_delta\"], axis=1\n",
    ")\n",
    "data[\"Propriété\"] = data.apply(\n",
    "    lambda x: x[\"hôtel\"].split(\" (\")[0] if \"www\" in x[\"Propriété\"] else x,\n",
    "    axis=1,\n",
    ")[\"Propriété\"]\n",
    "data[\"Propriété_clean\"] = data[\"hôtel\"].apply(lambda x: x.split(\" (\")[0])\n",
    "data[\"extra_clean\"] = data[\"extra\"].apply(lambda x: x.split(\" (\")[0])\n",
    "data[\"periode_fin\"] = data[\"date_fin\"].dt.strftime(\"%m-%Y\")\n",
    "data[\"Année\"] = data[\"date_fin\"].dt.year.astype(str)\n",
    "data[\"Mois\"] = data[\"date_fin\"].dt.to_period(\"M\").astype(str)\n",
    "data[\"Semaine\"] = data[\"date_fin\"].dt.to_period(\"W-Mon\").astype(str)\n",
    "data[\"marge\"] = data.apply(lambda x: x[\"total HT\"] - x[\"montant HT\"], axis=1)\n",
    "data[\"mois\"] = data[\"date_fin\"].dt.strftime(\"%m\")\n",
    "\n",
    "data[\"Mois_WY\"] = pd.DatetimeIndex(data[\"date_fin\"]).month\n",
    "data[\"Jour\"] = data[\"date_fin\"].dt.to_period(\"D\").astype(str)\n",
    "\n",
    "aujd = datetime.datetime.now()\n",
    "mois_auj = aujd.strftime(\"%Y-%m\")\n",
    "premier_jour_du_mois =  aujd.replace(day=1).strftime(\"%Y-%m-%d\")\n",
    "mois_précédent = (\n",
    "    aujd.now()\n",
    "    .replace(month=aujd.month - 1)\n",
    "    .strftime(\"%Y-%m\")\n",
    ")\n",
    "mois_auj_clean = aujd.strftime(\"%B %Y\") #utile pour un affiche en format nom du mois année\n",
    "mois_année_précédente = (\n",
    "    aujd\n",
    "    .replace(year=aujd.year - 1)\n",
    "    .strftime(\"%Y-%m\")\n",
    ")\n",
    "mois_année_précédente_clean = ( #utile pour un affiche en format nom du mois année\n",
    "    aujd\n",
    "    .replace(year=aujd.year - 1)\n",
    "    .strftime(\"%B %Y\")\n",
    ")\n",
    "\n",
    "\n",
    "\n",
    "def format_currency(value):\n",
    "    return f\"{value:,} €\""
   ]
  },
  {
   "cell_type": "code",
   "execution_count": 198,
   "metadata": {},
   "outputs": [],
   "source": [
    "data[\"Mois2\"] = pd.to_datetime(data[\"date_fin\"],format='%m').dt.to_period('M')\n"
   ]
  },
  {
   "cell_type": "code",
   "execution_count": 199,
   "metadata": {},
   "outputs": [
    {
     "data": {
      "text/html": [
       "<div>\n",
       "<style scoped>\n",
       "    .dataframe tbody tr th:only-of-type {\n",
       "        vertical-align: middle;\n",
       "    }\n",
       "\n",
       "    .dataframe tbody tr th {\n",
       "        vertical-align: top;\n",
       "    }\n",
       "\n",
       "    .dataframe thead th {\n",
       "        text-align: right;\n",
       "    }\n",
       "</style>\n",
       "<table border=\"1\" class=\"dataframe\">\n",
       "  <thead>\n",
       "    <tr style=\"text-align: right;\">\n",
       "      <th></th>\n",
       "      <th>Propriété</th>\n",
       "      <th>hôtel</th>\n",
       "      <th>extra</th>\n",
       "      <th>date</th>\n",
       "      <th>statuts</th>\n",
       "      <th>tarif urgence</th>\n",
       "      <th>tarif horaire</th>\n",
       "      <th>nbre d'heures</th>\n",
       "      <th>total HT</th>\n",
       "      <th>facture</th>\n",
       "      <th>...</th>\n",
       "      <th>extra_clean</th>\n",
       "      <th>periode_fin</th>\n",
       "      <th>Année</th>\n",
       "      <th>Mois</th>\n",
       "      <th>Semaine</th>\n",
       "      <th>marge</th>\n",
       "      <th>mois</th>\n",
       "      <th>Mois_WY</th>\n",
       "      <th>Jour</th>\n",
       "      <th>Mois2</th>\n",
       "    </tr>\n",
       "  </thead>\n",
       "  <tbody>\n",
       "    <tr>\n",
       "      <th>0</th>\n",
       "      <td>Crystal</td>\n",
       "      <td>Crystal (https://www.notion.so/Crystal-1837fcb...</td>\n",
       "      <td>Grégory Tshimini (https://www.notion.so/Gr-gor...</td>\n",
       "      <td>2024-01-07</td>\n",
       "      <td>NaN</td>\n",
       "      <td>NaN</td>\n",
       "      <td>21.0</td>\n",
       "      <td>12hr 0min</td>\n",
       "      <td>252</td>\n",
       "      <td>NaN</td>\n",
       "      <td>...</td>\n",
       "      <td>Grégory Tshimini</td>\n",
       "      <td>01-2024</td>\n",
       "      <td>2024</td>\n",
       "      <td>2024-01</td>\n",
       "      <td>2024-01-02/2024-01-08</td>\n",
       "      <td>72</td>\n",
       "      <td>01</td>\n",
       "      <td>1</td>\n",
       "      <td>2024-01-07</td>\n",
       "      <td>2024-01</td>\n",
       "    </tr>\n",
       "    <tr>\n",
       "      <th>1</th>\n",
       "      <td>Milie rose</td>\n",
       "      <td>Milie Rose (https://www.notion.so/Milie-Rose-0...</td>\n",
       "      <td>Mamadou Koma (https://www.notion.so/Mamadou-Ko...</td>\n",
       "      <td>2024-01-06</td>\n",
       "      <td>NaN</td>\n",
       "      <td>NaN</td>\n",
       "      <td>20.0</td>\n",
       "      <td>9hr 30min</td>\n",
       "      <td>180</td>\n",
       "      <td>NaN</td>\n",
       "      <td>...</td>\n",
       "      <td>Mamadou Koma</td>\n",
       "      <td>01-2024</td>\n",
       "      <td>2024</td>\n",
       "      <td>2024-01</td>\n",
       "      <td>2024-01-02/2024-01-08</td>\n",
       "      <td>45</td>\n",
       "      <td>01</td>\n",
       "      <td>1</td>\n",
       "      <td>2024-01-07</td>\n",
       "      <td>2024-01</td>\n",
       "    </tr>\n",
       "    <tr>\n",
       "      <th>2</th>\n",
       "      <td>Touraine</td>\n",
       "      <td>Touraine (https://www.notion.so/Touraine-df4e7...</td>\n",
       "      <td>Mohamed Belbachir (https://www.notion.so/Moham...</td>\n",
       "      <td>2024-01-06</td>\n",
       "      <td>NaN</td>\n",
       "      <td>NaN</td>\n",
       "      <td>20.0</td>\n",
       "      <td>12hr 0min</td>\n",
       "      <td>240</td>\n",
       "      <td>NaN</td>\n",
       "      <td>...</td>\n",
       "      <td>Mohamed Belbachir</td>\n",
       "      <td>01-2024</td>\n",
       "      <td>2024</td>\n",
       "      <td>2024-01</td>\n",
       "      <td>2024-01-02/2024-01-08</td>\n",
       "      <td>60</td>\n",
       "      <td>01</td>\n",
       "      <td>1</td>\n",
       "      <td>2024-01-07</td>\n",
       "      <td>2024-01</td>\n",
       "    </tr>\n",
       "    <tr>\n",
       "      <th>3</th>\n",
       "      <td>Crystal</td>\n",
       "      <td>Crystal (https://www.notion.so/Crystal-1837fcb...</td>\n",
       "      <td>Grégory Tshimini (https://www.notion.so/Gr-gor...</td>\n",
       "      <td>2024-01-06</td>\n",
       "      <td>NaN</td>\n",
       "      <td>NaN</td>\n",
       "      <td>21.0</td>\n",
       "      <td>12hr 0min</td>\n",
       "      <td>252</td>\n",
       "      <td>NaN</td>\n",
       "      <td>...</td>\n",
       "      <td>Grégory Tshimini</td>\n",
       "      <td>01-2024</td>\n",
       "      <td>2024</td>\n",
       "      <td>2024-01</td>\n",
       "      <td>2024-01-02/2024-01-08</td>\n",
       "      <td>72</td>\n",
       "      <td>01</td>\n",
       "      <td>1</td>\n",
       "      <td>2024-01-06</td>\n",
       "      <td>2024-01</td>\n",
       "    </tr>\n",
       "    <tr>\n",
       "      <th>4</th>\n",
       "      <td>Milie rose</td>\n",
       "      <td>Milie Rose (https://www.notion.so/Milie-Rose-0...</td>\n",
       "      <td>Mamadou Koma (https://www.notion.so/Mamadou-Ko...</td>\n",
       "      <td>2024-01-05</td>\n",
       "      <td>NaN</td>\n",
       "      <td>NaN</td>\n",
       "      <td>20.0</td>\n",
       "      <td>9hr 30min</td>\n",
       "      <td>180</td>\n",
       "      <td>NaN</td>\n",
       "      <td>...</td>\n",
       "      <td>Mamadou Koma</td>\n",
       "      <td>01-2024</td>\n",
       "      <td>2024</td>\n",
       "      <td>2024-01</td>\n",
       "      <td>2024-01-02/2024-01-08</td>\n",
       "      <td>45</td>\n",
       "      <td>01</td>\n",
       "      <td>1</td>\n",
       "      <td>2024-01-06</td>\n",
       "      <td>2024-01</td>\n",
       "    </tr>\n",
       "  </tbody>\n",
       "</table>\n",
       "<p>5 rows × 27 columns</p>\n",
       "</div>"
      ],
      "text/plain": [
       "    Propriété                                              hôtel  \\\n",
       "0     Crystal  Crystal (https://www.notion.so/Crystal-1837fcb...   \n",
       "1  Milie rose  Milie Rose (https://www.notion.so/Milie-Rose-0...   \n",
       "2   Touraine   Touraine (https://www.notion.so/Touraine-df4e7...   \n",
       "3     Crystal  Crystal (https://www.notion.so/Crystal-1837fcb...   \n",
       "4  Milie rose  Milie Rose (https://www.notion.so/Milie-Rose-0...   \n",
       "\n",
       "                                               extra        date statuts  \\\n",
       "0  Grégory Tshimini (https://www.notion.so/Gr-gor...  2024-01-07     NaN   \n",
       "1  Mamadou Koma (https://www.notion.so/Mamadou-Ko...  2024-01-06     NaN   \n",
       "2  Mohamed Belbachir (https://www.notion.so/Moham...  2024-01-06     NaN   \n",
       "3  Grégory Tshimini (https://www.notion.so/Gr-gor...  2024-01-06     NaN   \n",
       "4  Mamadou Koma (https://www.notion.so/Mamadou-Ko...  2024-01-05     NaN   \n",
       "\n",
       "   tarif urgence  tarif horaire nbre d'heures  total HT facture  ...  \\\n",
       "0            NaN           21.0     12hr 0min       252     NaN  ...   \n",
       "1            NaN           20.0     9hr 30min       180     NaN  ...   \n",
       "2            NaN           20.0     12hr 0min       240     NaN  ...   \n",
       "3            NaN           21.0     12hr 0min       252     NaN  ...   \n",
       "4            NaN           20.0     9hr 30min       180     NaN  ...   \n",
       "\n",
       "         extra_clean  periode_fin Année     Mois                Semaine marge  \\\n",
       "0   Grégory Tshimini      01-2024  2024  2024-01  2024-01-02/2024-01-08    72   \n",
       "1       Mamadou Koma      01-2024  2024  2024-01  2024-01-02/2024-01-08    45   \n",
       "2  Mohamed Belbachir      01-2024  2024  2024-01  2024-01-02/2024-01-08    60   \n",
       "3   Grégory Tshimini      01-2024  2024  2024-01  2024-01-02/2024-01-08    72   \n",
       "4       Mamadou Koma      01-2024  2024  2024-01  2024-01-02/2024-01-08    45   \n",
       "\n",
       "  mois Mois_WY        Jour    Mois2  \n",
       "0   01       1  2024-01-07  2024-01  \n",
       "1   01       1  2024-01-07  2024-01  \n",
       "2   01       1  2024-01-07  2024-01  \n",
       "3   01       1  2024-01-06  2024-01  \n",
       "4   01       1  2024-01-06  2024-01  \n",
       "\n",
       "[5 rows x 27 columns]"
      ]
     },
     "execution_count": 199,
     "metadata": {},
     "output_type": "execute_result"
    }
   ],
   "source": [
    "data.head()"
   ]
  },
  {
   "cell_type": "code",
   "execution_count": 220,
   "metadata": {},
   "outputs": [
    {
     "data": {
      "text/html": [
       "<div>\n",
       "<style scoped>\n",
       "    .dataframe tbody tr th:only-of-type {\n",
       "        vertical-align: middle;\n",
       "    }\n",
       "\n",
       "    .dataframe tbody tr th {\n",
       "        vertical-align: top;\n",
       "    }\n",
       "\n",
       "    .dataframe thead th {\n",
       "        text-align: right;\n",
       "    }\n",
       "</style>\n",
       "<table border=\"1\" class=\"dataframe\">\n",
       "  <thead>\n",
       "    <tr style=\"text-align: right;\">\n",
       "      <th></th>\n",
       "      <th>mois</th>\n",
       "      <th>Mois</th>\n",
       "      <th>Année</th>\n",
       "      <th>total HT</th>\n",
       "    </tr>\n",
       "  </thead>\n",
       "  <tbody>\n",
       "    <tr>\n",
       "      <th>0</th>\n",
       "      <td>01</td>\n",
       "      <td>2022-01</td>\n",
       "      <td>2022</td>\n",
       "      <td>16256</td>\n",
       "    </tr>\n",
       "    <tr>\n",
       "      <th>1</th>\n",
       "      <td>01</td>\n",
       "      <td>2023-01</td>\n",
       "      <td>2023</td>\n",
       "      <td>39811</td>\n",
       "    </tr>\n",
       "    <tr>\n",
       "      <th>2</th>\n",
       "      <td>01</td>\n",
       "      <td>2024-01</td>\n",
       "      <td>2024</td>\n",
       "      <td>3154</td>\n",
       "    </tr>\n",
       "    <tr>\n",
       "      <th>3</th>\n",
       "      <td>02</td>\n",
       "      <td>2022-02</td>\n",
       "      <td>2022</td>\n",
       "      <td>16886</td>\n",
       "    </tr>\n",
       "    <tr>\n",
       "      <th>4</th>\n",
       "      <td>02</td>\n",
       "      <td>2023-02</td>\n",
       "      <td>2023</td>\n",
       "      <td>40302</td>\n",
       "    </tr>\n",
       "    <tr>\n",
       "      <th>5</th>\n",
       "      <td>03</td>\n",
       "      <td>2022-03</td>\n",
       "      <td>2022</td>\n",
       "      <td>18728</td>\n",
       "    </tr>\n",
       "    <tr>\n",
       "      <th>6</th>\n",
       "      <td>03</td>\n",
       "      <td>2023-03</td>\n",
       "      <td>2023</td>\n",
       "      <td>37626</td>\n",
       "    </tr>\n",
       "    <tr>\n",
       "      <th>7</th>\n",
       "      <td>04</td>\n",
       "      <td>2022-04</td>\n",
       "      <td>2022</td>\n",
       "      <td>16064</td>\n",
       "    </tr>\n",
       "    <tr>\n",
       "      <th>8</th>\n",
       "      <td>04</td>\n",
       "      <td>2023-04</td>\n",
       "      <td>2023</td>\n",
       "      <td>38719</td>\n",
       "    </tr>\n",
       "    <tr>\n",
       "      <th>9</th>\n",
       "      <td>05</td>\n",
       "      <td>2022-05</td>\n",
       "      <td>2022</td>\n",
       "      <td>21040</td>\n",
       "    </tr>\n",
       "    <tr>\n",
       "      <th>10</th>\n",
       "      <td>05</td>\n",
       "      <td>2023-05</td>\n",
       "      <td>2023</td>\n",
       "      <td>38205</td>\n",
       "    </tr>\n",
       "    <tr>\n",
       "      <th>11</th>\n",
       "      <td>06</td>\n",
       "      <td>2022-06</td>\n",
       "      <td>2022</td>\n",
       "      <td>34249</td>\n",
       "    </tr>\n",
       "    <tr>\n",
       "      <th>12</th>\n",
       "      <td>06</td>\n",
       "      <td>2023-06</td>\n",
       "      <td>2023</td>\n",
       "      <td>46100</td>\n",
       "    </tr>\n",
       "    <tr>\n",
       "      <th>13</th>\n",
       "      <td>07</td>\n",
       "      <td>2022-07</td>\n",
       "      <td>2022</td>\n",
       "      <td>43597</td>\n",
       "    </tr>\n",
       "    <tr>\n",
       "      <th>14</th>\n",
       "      <td>07</td>\n",
       "      <td>2023-07</td>\n",
       "      <td>2023</td>\n",
       "      <td>58237</td>\n",
       "    </tr>\n",
       "    <tr>\n",
       "      <th>15</th>\n",
       "      <td>08</td>\n",
       "      <td>2022-08</td>\n",
       "      <td>2022</td>\n",
       "      <td>47108</td>\n",
       "    </tr>\n",
       "    <tr>\n",
       "      <th>16</th>\n",
       "      <td>08</td>\n",
       "      <td>2023-08</td>\n",
       "      <td>2023</td>\n",
       "      <td>59895</td>\n",
       "    </tr>\n",
       "    <tr>\n",
       "      <th>17</th>\n",
       "      <td>09</td>\n",
       "      <td>2022-09</td>\n",
       "      <td>2022</td>\n",
       "      <td>33026</td>\n",
       "    </tr>\n",
       "    <tr>\n",
       "      <th>18</th>\n",
       "      <td>09</td>\n",
       "      <td>2023-09</td>\n",
       "      <td>2023</td>\n",
       "      <td>52731</td>\n",
       "    </tr>\n",
       "    <tr>\n",
       "      <th>19</th>\n",
       "      <td>10</td>\n",
       "      <td>2022-10</td>\n",
       "      <td>2022</td>\n",
       "      <td>37553</td>\n",
       "    </tr>\n",
       "    <tr>\n",
       "      <th>20</th>\n",
       "      <td>10</td>\n",
       "      <td>2023-10</td>\n",
       "      <td>2023</td>\n",
       "      <td>45535</td>\n",
       "    </tr>\n",
       "    <tr>\n",
       "      <th>21</th>\n",
       "      <td>11</td>\n",
       "      <td>2021-11</td>\n",
       "      <td>2021</td>\n",
       "      <td>100</td>\n",
       "    </tr>\n",
       "    <tr>\n",
       "      <th>22</th>\n",
       "      <td>11</td>\n",
       "      <td>2022-11</td>\n",
       "      <td>2022</td>\n",
       "      <td>25854</td>\n",
       "    </tr>\n",
       "    <tr>\n",
       "      <th>23</th>\n",
       "      <td>11</td>\n",
       "      <td>2023-11</td>\n",
       "      <td>2023</td>\n",
       "      <td>39317</td>\n",
       "    </tr>\n",
       "    <tr>\n",
       "      <th>24</th>\n",
       "      <td>12</td>\n",
       "      <td>2021-12</td>\n",
       "      <td>2021</td>\n",
       "      <td>13828</td>\n",
       "    </tr>\n",
       "    <tr>\n",
       "      <th>25</th>\n",
       "      <td>12</td>\n",
       "      <td>2022-12</td>\n",
       "      <td>2022</td>\n",
       "      <td>35157</td>\n",
       "    </tr>\n",
       "    <tr>\n",
       "      <th>26</th>\n",
       "      <td>12</td>\n",
       "      <td>2023-12</td>\n",
       "      <td>2023</td>\n",
       "      <td>22399</td>\n",
       "    </tr>\n",
       "  </tbody>\n",
       "</table>\n",
       "</div>"
      ],
      "text/plain": [
       "   mois     Mois Année  total HT\n",
       "0    01  2022-01  2022     16256\n",
       "1    01  2023-01  2023     39811\n",
       "2    01  2024-01  2024      3154\n",
       "3    02  2022-02  2022     16886\n",
       "4    02  2023-02  2023     40302\n",
       "5    03  2022-03  2022     18728\n",
       "6    03  2023-03  2023     37626\n",
       "7    04  2022-04  2022     16064\n",
       "8    04  2023-04  2023     38719\n",
       "9    05  2022-05  2022     21040\n",
       "10   05  2023-05  2023     38205\n",
       "11   06  2022-06  2022     34249\n",
       "12   06  2023-06  2023     46100\n",
       "13   07  2022-07  2022     43597\n",
       "14   07  2023-07  2023     58237\n",
       "15   08  2022-08  2022     47108\n",
       "16   08  2023-08  2023     59895\n",
       "17   09  2022-09  2022     33026\n",
       "18   09  2023-09  2023     52731\n",
       "19   10  2022-10  2022     37553\n",
       "20   10  2023-10  2023     45535\n",
       "21   11  2021-11  2021       100\n",
       "22   11  2022-11  2022     25854\n",
       "23   11  2023-11  2023     39317\n",
       "24   12  2021-12  2021     13828\n",
       "25   12  2022-12  2022     35157\n",
       "26   12  2023-12  2023     22399"
      ]
     },
     "execution_count": 220,
     "metadata": {},
     "output_type": "execute_result"
    }
   ],
   "source": [
    "data_grouby_CA = data.groupby([\"mois\", \"Mois\", \"Année\"])[\"total HT\"].sum().reset_index()\n",
    "data_grouby_CA "
   ]
  },
  {
   "cell_type": "code",
   "execution_count": 225,
   "metadata": {},
   "outputs": [
    {
     "name": "stdout",
     "output_type": "stream",
     "text": [
      "['rgb(228,26,28)', 'rgb(55,126,184)', 'rgb(77,175,74)', 'rgb(152,78,163)']\n",
      "{'2022': 'rgb(228,26,28)', '2023': 'rgb(55,126,184)', '2024': 'rgb(77,175,74)', '2021': 'rgb(152,78,163)'}\n"
     ]
    }
   ],
   "source": [
    "data_grouby_CA = data.groupby([\"mois\", \"Mois\", \"Année\"])[\"total HT\"].sum().reset_index()\n",
    "mask = data_grouby_CA[\"total HT\"] != 0\n",
    "data_grouby_CA = data_grouby_CA[mask]\n",
    "annees = data_grouby_CA[\"Année\"].unique()\n",
    "\n",
    "\n",
    "couleur_dict={}\n",
    "for i, annee in enumerate(annees):    \n",
    "    couleur = px.colors.qualitative.Set1[i]\n",
    "    couleur_dict.update({annee:couleur})\n",
    "\n",
    "\n",
    "couleurs_ordre = list(couleur_dict.values())\n",
    "\n",
    "print (couleurs_ordre)\n",
    "print (couleur_dict)\n",
    "\n"
   ]
  },
  {
   "cell_type": "code",
   "execution_count": 230,
   "metadata": {},
   "outputs": [
    {
     "data": {
      "text/plain": [
       "['rgb(228,26,28)', 'rgb(55,126,184)', 'rgb(152,78,163)']"
      ]
     },
     "execution_count": 230,
     "metadata": {},
     "output_type": "execute_result"
    }
   ],
   "source": [
    "data_grouby_CA = data_grouby_CA.groupby([\"mois\", \"Mois\", \"Année\"])[\"total HT\"].sum().reset_index()\n",
    "mask = data_grouby_CA[\"total HT\"] != 0\n",
    "data_grouby_CA = data_grouby_CA[mask]\n",
    "annees = data_grouby_CA[\"Année\"].unique()\n",
    "\n",
    "\n",
    "couleur_dict={}\n",
    "for i, annee in enumerate(annees):    \n",
    "    couleur = px.colors.qualitative.Set1[i]\n",
    "    couleur_dict.update({annee:couleur})\n",
    "\n",
    "\n",
    "mask = data_grouby_CA[\"Mois\"] <= mois_précédent\n",
    "annees_prec = data_grouby_CA[mask][\"Année\"].unique()\n",
    "couleurs_annees_prec = [couleur_dict.get(annee, \"valeur_par_défaut\") for annee in annees_prec]\n",
    "\n",
    "couleurs_annees_prec\n"
   ]
  },
  {
   "cell_type": "code",
   "execution_count": 251,
   "metadata": {},
   "outputs": [
    {
     "data": {
      "application/vnd.plotly.v1+json": {
       "config": {
        "plotlyServerURL": "https://plot.ly"
       },
       "data": [
        {
         "hovertemplate": "Année=2022<br>Mois=%{x}<br>CA=%{y}<br>text=%{text}<extra></extra>",
         "legendgroup": "2022",
         "line": {
          "color": "rgb(228,26,28)",
          "dash": "solid"
         },
         "marker": {
          "symbol": "circle"
         },
         "mode": "text+lines+markers",
         "name": "2022",
         "orientation": "v",
         "showlegend": true,
         "text": [
          "16,256 €",
          "16,886 €",
          "18,728 €",
          "16,064 €",
          "21,040 €",
          "34,249 €",
          "43,597 €",
          "47,108 €",
          "33,026 €",
          "37,553 €",
          "25,854 €",
          "35,157 €"
         ],
         "textposition": "bottom center",
         "type": "scatter",
         "x": [
          "01",
          "02",
          "03",
          "04",
          "05",
          "06",
          "07",
          "08",
          "09",
          "10",
          "11",
          "12"
         ],
         "xaxis": "x",
         "y": [
          16256,
          16886,
          18728,
          16064,
          21040,
          34249,
          43597,
          47108,
          33026,
          37553,
          25854,
          35157
         ],
         "yaxis": "y"
        },
        {
         "hovertemplate": "Année=2023<br>Mois=%{x}<br>CA=%{y}<br>text=%{text}<extra></extra>",
         "legendgroup": "2023",
         "line": {
          "color": "rgb(55,126,184)",
          "dash": "solid"
         },
         "marker": {
          "symbol": "circle"
         },
         "mode": "text+lines+markers",
         "name": "2023",
         "orientation": "v",
         "showlegend": true,
         "text": [
          "39,811 €",
          "40,302 €",
          "37,626 €",
          "38,719 €",
          "38,205 €",
          "46,100 €",
          "58,237 €",
          "59,895 €",
          "52,731 €",
          "45,535 €",
          "39,317 €"
         ],
         "textposition": "bottom center",
         "type": "scatter",
         "x": [
          "01",
          "02",
          "03",
          "04",
          "05",
          "06",
          "07",
          "08",
          "09",
          "10",
          "11"
         ],
         "xaxis": "x",
         "y": [
          39811,
          40302,
          37626,
          38719,
          38205,
          46100,
          58237,
          59895,
          52731,
          45535,
          39317
         ],
         "yaxis": "y"
        },
        {
         "hovertemplate": "Année=2021<br>Mois=%{x}<br>CA=%{y}<br>text=%{text}<extra></extra>",
         "legendgroup": "2021",
         "line": {
          "color": "rgb(152,78,163)",
          "dash": "solid"
         },
         "marker": {
          "symbol": "circle"
         },
         "mode": "text+lines+markers",
         "name": "2021",
         "orientation": "v",
         "showlegend": true,
         "text": [
          "100 €",
          "13,828 €"
         ],
         "textposition": "bottom center",
         "type": "scatter",
         "x": [
          "11",
          "12"
         ],
         "xaxis": "x",
         "y": [
          100,
          13828
         ],
         "yaxis": "y"
        },
        {
         "line": {
          "color": "rgb(228,26,28)",
          "dash": "dash",
          "width": 2
         },
         "mode": "lines+markers+text",
         "name": "En cours pour 2022",
         "text": [],
         "textposition": "bottom center",
         "type": "scatter",
         "x": [],
         "y": []
        },
        {
         "line": {
          "color": "rgb(55,126,184)",
          "dash": "dash",
          "width": 2
         },
         "mode": "lines+markers+text",
         "name": "En cours pour 2023",
         "text": [
          "39,317 €",
          "22,399 €"
         ],
         "textposition": "bottom center",
         "type": "scatter",
         "x": [
          "11",
          "12"
         ],
         "y": [
          39317,
          22399
         ]
        },
        {
         "line": {
          "color": "rgb(77,175,74)",
          "dash": "dash",
          "width": 2
         },
         "mode": "lines+markers+text",
         "name": "En cours pour 2024",
         "text": [
          "3,154 €"
         ],
         "textposition": "bottom center",
         "type": "scatter",
         "x": [
          "01"
         ],
         "y": [
          3154
         ]
        },
        {
         "line": {
          "color": "rgb(152,78,163)",
          "dash": "dash",
          "width": 2
         },
         "mode": "lines+markers+text",
         "name": "En cours pour 2021",
         "text": [],
         "textposition": "bottom center",
         "type": "scatter",
         "x": [],
         "y": []
        }
       ],
       "layout": {
        "legend": {
         "title": {
          "text": "Année"
         },
         "tracegroupgap": 0,
         "traceorder": "reversed"
        },
        "template": {
         "data": {
          "bar": [
           {
            "error_x": {
             "color": "#2a3f5f"
            },
            "error_y": {
             "color": "#2a3f5f"
            },
            "marker": {
             "line": {
              "color": "#E5ECF6",
              "width": 0.5
             },
             "pattern": {
              "fillmode": "overlay",
              "size": 10,
              "solidity": 0.2
             }
            },
            "type": "bar"
           }
          ],
          "barpolar": [
           {
            "marker": {
             "line": {
              "color": "#E5ECF6",
              "width": 0.5
             },
             "pattern": {
              "fillmode": "overlay",
              "size": 10,
              "solidity": 0.2
             }
            },
            "type": "barpolar"
           }
          ],
          "carpet": [
           {
            "aaxis": {
             "endlinecolor": "#2a3f5f",
             "gridcolor": "white",
             "linecolor": "white",
             "minorgridcolor": "white",
             "startlinecolor": "#2a3f5f"
            },
            "baxis": {
             "endlinecolor": "#2a3f5f",
             "gridcolor": "white",
             "linecolor": "white",
             "minorgridcolor": "white",
             "startlinecolor": "#2a3f5f"
            },
            "type": "carpet"
           }
          ],
          "choropleth": [
           {
            "colorbar": {
             "outlinewidth": 0,
             "ticks": ""
            },
            "type": "choropleth"
           }
          ],
          "contour": [
           {
            "colorbar": {
             "outlinewidth": 0,
             "ticks": ""
            },
            "colorscale": [
             [
              0,
              "#0d0887"
             ],
             [
              0.1111111111111111,
              "#46039f"
             ],
             [
              0.2222222222222222,
              "#7201a8"
             ],
             [
              0.3333333333333333,
              "#9c179e"
             ],
             [
              0.4444444444444444,
              "#bd3786"
             ],
             [
              0.5555555555555556,
              "#d8576b"
             ],
             [
              0.6666666666666666,
              "#ed7953"
             ],
             [
              0.7777777777777778,
              "#fb9f3a"
             ],
             [
              0.8888888888888888,
              "#fdca26"
             ],
             [
              1,
              "#f0f921"
             ]
            ],
            "type": "contour"
           }
          ],
          "contourcarpet": [
           {
            "colorbar": {
             "outlinewidth": 0,
             "ticks": ""
            },
            "type": "contourcarpet"
           }
          ],
          "heatmap": [
           {
            "colorbar": {
             "outlinewidth": 0,
             "ticks": ""
            },
            "colorscale": [
             [
              0,
              "#0d0887"
             ],
             [
              0.1111111111111111,
              "#46039f"
             ],
             [
              0.2222222222222222,
              "#7201a8"
             ],
             [
              0.3333333333333333,
              "#9c179e"
             ],
             [
              0.4444444444444444,
              "#bd3786"
             ],
             [
              0.5555555555555556,
              "#d8576b"
             ],
             [
              0.6666666666666666,
              "#ed7953"
             ],
             [
              0.7777777777777778,
              "#fb9f3a"
             ],
             [
              0.8888888888888888,
              "#fdca26"
             ],
             [
              1,
              "#f0f921"
             ]
            ],
            "type": "heatmap"
           }
          ],
          "heatmapgl": [
           {
            "colorbar": {
             "outlinewidth": 0,
             "ticks": ""
            },
            "colorscale": [
             [
              0,
              "#0d0887"
             ],
             [
              0.1111111111111111,
              "#46039f"
             ],
             [
              0.2222222222222222,
              "#7201a8"
             ],
             [
              0.3333333333333333,
              "#9c179e"
             ],
             [
              0.4444444444444444,
              "#bd3786"
             ],
             [
              0.5555555555555556,
              "#d8576b"
             ],
             [
              0.6666666666666666,
              "#ed7953"
             ],
             [
              0.7777777777777778,
              "#fb9f3a"
             ],
             [
              0.8888888888888888,
              "#fdca26"
             ],
             [
              1,
              "#f0f921"
             ]
            ],
            "type": "heatmapgl"
           }
          ],
          "histogram": [
           {
            "marker": {
             "pattern": {
              "fillmode": "overlay",
              "size": 10,
              "solidity": 0.2
             }
            },
            "type": "histogram"
           }
          ],
          "histogram2d": [
           {
            "colorbar": {
             "outlinewidth": 0,
             "ticks": ""
            },
            "colorscale": [
             [
              0,
              "#0d0887"
             ],
             [
              0.1111111111111111,
              "#46039f"
             ],
             [
              0.2222222222222222,
              "#7201a8"
             ],
             [
              0.3333333333333333,
              "#9c179e"
             ],
             [
              0.4444444444444444,
              "#bd3786"
             ],
             [
              0.5555555555555556,
              "#d8576b"
             ],
             [
              0.6666666666666666,
              "#ed7953"
             ],
             [
              0.7777777777777778,
              "#fb9f3a"
             ],
             [
              0.8888888888888888,
              "#fdca26"
             ],
             [
              1,
              "#f0f921"
             ]
            ],
            "type": "histogram2d"
           }
          ],
          "histogram2dcontour": [
           {
            "colorbar": {
             "outlinewidth": 0,
             "ticks": ""
            },
            "colorscale": [
             [
              0,
              "#0d0887"
             ],
             [
              0.1111111111111111,
              "#46039f"
             ],
             [
              0.2222222222222222,
              "#7201a8"
             ],
             [
              0.3333333333333333,
              "#9c179e"
             ],
             [
              0.4444444444444444,
              "#bd3786"
             ],
             [
              0.5555555555555556,
              "#d8576b"
             ],
             [
              0.6666666666666666,
              "#ed7953"
             ],
             [
              0.7777777777777778,
              "#fb9f3a"
             ],
             [
              0.8888888888888888,
              "#fdca26"
             ],
             [
              1,
              "#f0f921"
             ]
            ],
            "type": "histogram2dcontour"
           }
          ],
          "mesh3d": [
           {
            "colorbar": {
             "outlinewidth": 0,
             "ticks": ""
            },
            "type": "mesh3d"
           }
          ],
          "parcoords": [
           {
            "line": {
             "colorbar": {
              "outlinewidth": 0,
              "ticks": ""
             }
            },
            "type": "parcoords"
           }
          ],
          "pie": [
           {
            "automargin": true,
            "type": "pie"
           }
          ],
          "scatter": [
           {
            "fillpattern": {
             "fillmode": "overlay",
             "size": 10,
             "solidity": 0.2
            },
            "type": "scatter"
           }
          ],
          "scatter3d": [
           {
            "line": {
             "colorbar": {
              "outlinewidth": 0,
              "ticks": ""
             }
            },
            "marker": {
             "colorbar": {
              "outlinewidth": 0,
              "ticks": ""
             }
            },
            "type": "scatter3d"
           }
          ],
          "scattercarpet": [
           {
            "marker": {
             "colorbar": {
              "outlinewidth": 0,
              "ticks": ""
             }
            },
            "type": "scattercarpet"
           }
          ],
          "scattergeo": [
           {
            "marker": {
             "colorbar": {
              "outlinewidth": 0,
              "ticks": ""
             }
            },
            "type": "scattergeo"
           }
          ],
          "scattergl": [
           {
            "marker": {
             "colorbar": {
              "outlinewidth": 0,
              "ticks": ""
             }
            },
            "type": "scattergl"
           }
          ],
          "scattermapbox": [
           {
            "marker": {
             "colorbar": {
              "outlinewidth": 0,
              "ticks": ""
             }
            },
            "type": "scattermapbox"
           }
          ],
          "scatterpolar": [
           {
            "marker": {
             "colorbar": {
              "outlinewidth": 0,
              "ticks": ""
             }
            },
            "type": "scatterpolar"
           }
          ],
          "scatterpolargl": [
           {
            "marker": {
             "colorbar": {
              "outlinewidth": 0,
              "ticks": ""
             }
            },
            "type": "scatterpolargl"
           }
          ],
          "scatterternary": [
           {
            "marker": {
             "colorbar": {
              "outlinewidth": 0,
              "ticks": ""
             }
            },
            "type": "scatterternary"
           }
          ],
          "surface": [
           {
            "colorbar": {
             "outlinewidth": 0,
             "ticks": ""
            },
            "colorscale": [
             [
              0,
              "#0d0887"
             ],
             [
              0.1111111111111111,
              "#46039f"
             ],
             [
              0.2222222222222222,
              "#7201a8"
             ],
             [
              0.3333333333333333,
              "#9c179e"
             ],
             [
              0.4444444444444444,
              "#bd3786"
             ],
             [
              0.5555555555555556,
              "#d8576b"
             ],
             [
              0.6666666666666666,
              "#ed7953"
             ],
             [
              0.7777777777777778,
              "#fb9f3a"
             ],
             [
              0.8888888888888888,
              "#fdca26"
             ],
             [
              1,
              "#f0f921"
             ]
            ],
            "type": "surface"
           }
          ],
          "table": [
           {
            "cells": {
             "fill": {
              "color": "#EBF0F8"
             },
             "line": {
              "color": "white"
             }
            },
            "header": {
             "fill": {
              "color": "#C8D4E3"
             },
             "line": {
              "color": "white"
             }
            },
            "type": "table"
           }
          ]
         },
         "layout": {
          "annotationdefaults": {
           "arrowcolor": "#2a3f5f",
           "arrowhead": 0,
           "arrowwidth": 1
          },
          "autotypenumbers": "strict",
          "coloraxis": {
           "colorbar": {
            "outlinewidth": 0,
            "ticks": ""
           }
          },
          "colorscale": {
           "diverging": [
            [
             0,
             "#8e0152"
            ],
            [
             0.1,
             "#c51b7d"
            ],
            [
             0.2,
             "#de77ae"
            ],
            [
             0.3,
             "#f1b6da"
            ],
            [
             0.4,
             "#fde0ef"
            ],
            [
             0.5,
             "#f7f7f7"
            ],
            [
             0.6,
             "#e6f5d0"
            ],
            [
             0.7,
             "#b8e186"
            ],
            [
             0.8,
             "#7fbc41"
            ],
            [
             0.9,
             "#4d9221"
            ],
            [
             1,
             "#276419"
            ]
           ],
           "sequential": [
            [
             0,
             "#0d0887"
            ],
            [
             0.1111111111111111,
             "#46039f"
            ],
            [
             0.2222222222222222,
             "#7201a8"
            ],
            [
             0.3333333333333333,
             "#9c179e"
            ],
            [
             0.4444444444444444,
             "#bd3786"
            ],
            [
             0.5555555555555556,
             "#d8576b"
            ],
            [
             0.6666666666666666,
             "#ed7953"
            ],
            [
             0.7777777777777778,
             "#fb9f3a"
            ],
            [
             0.8888888888888888,
             "#fdca26"
            ],
            [
             1,
             "#f0f921"
            ]
           ],
           "sequentialminus": [
            [
             0,
             "#0d0887"
            ],
            [
             0.1111111111111111,
             "#46039f"
            ],
            [
             0.2222222222222222,
             "#7201a8"
            ],
            [
             0.3333333333333333,
             "#9c179e"
            ],
            [
             0.4444444444444444,
             "#bd3786"
            ],
            [
             0.5555555555555556,
             "#d8576b"
            ],
            [
             0.6666666666666666,
             "#ed7953"
            ],
            [
             0.7777777777777778,
             "#fb9f3a"
            ],
            [
             0.8888888888888888,
             "#fdca26"
            ],
            [
             1,
             "#f0f921"
            ]
           ]
          },
          "colorway": [
           "#636efa",
           "#EF553B",
           "#00cc96",
           "#ab63fa",
           "#FFA15A",
           "#19d3f3",
           "#FF6692",
           "#B6E880",
           "#FF97FF",
           "#FECB52"
          ],
          "font": {
           "color": "#2a3f5f"
          },
          "geo": {
           "bgcolor": "white",
           "lakecolor": "white",
           "landcolor": "#E5ECF6",
           "showlakes": true,
           "showland": true,
           "subunitcolor": "white"
          },
          "hoverlabel": {
           "align": "left"
          },
          "hovermode": "closest",
          "mapbox": {
           "style": "light"
          },
          "paper_bgcolor": "white",
          "plot_bgcolor": "#E5ECF6",
          "polar": {
           "angularaxis": {
            "gridcolor": "white",
            "linecolor": "white",
            "ticks": ""
           },
           "bgcolor": "#E5ECF6",
           "radialaxis": {
            "gridcolor": "white",
            "linecolor": "white",
            "ticks": ""
           }
          },
          "scene": {
           "xaxis": {
            "backgroundcolor": "#E5ECF6",
            "gridcolor": "white",
            "gridwidth": 2,
            "linecolor": "white",
            "showbackground": true,
            "ticks": "",
            "zerolinecolor": "white"
           },
           "yaxis": {
            "backgroundcolor": "#E5ECF6",
            "gridcolor": "white",
            "gridwidth": 2,
            "linecolor": "white",
            "showbackground": true,
            "ticks": "",
            "zerolinecolor": "white"
           },
           "zaxis": {
            "backgroundcolor": "#E5ECF6",
            "gridcolor": "white",
            "gridwidth": 2,
            "linecolor": "white",
            "showbackground": true,
            "ticks": "",
            "zerolinecolor": "white"
           }
          },
          "shapedefaults": {
           "line": {
            "color": "#2a3f5f"
           }
          },
          "ternary": {
           "aaxis": {
            "gridcolor": "white",
            "linecolor": "white",
            "ticks": ""
           },
           "baxis": {
            "gridcolor": "white",
            "linecolor": "white",
            "ticks": ""
           },
           "bgcolor": "#E5ECF6",
           "caxis": {
            "gridcolor": "white",
            "linecolor": "white",
            "ticks": ""
           }
          },
          "title": {
           "x": 0.05
          },
          "xaxis": {
           "automargin": true,
           "gridcolor": "white",
           "linecolor": "white",
           "ticks": "",
           "title": {
            "standoff": 15
           },
           "zerolinecolor": "white",
           "zerolinewidth": 2
          },
          "yaxis": {
           "automargin": true,
           "gridcolor": "white",
           "linecolor": "white",
           "ticks": "",
           "title": {
            "standoff": 15
           },
           "zerolinecolor": "white",
           "zerolinewidth": 2
          }
         }
        },
        "title": {
         "text": "Évolution du chiffre d'affaires par mois"
        },
        "xaxis": {
         "anchor": "y",
         "domain": [
          0,
          1
         ],
         "title": {
          "text": "Mois"
         },
         "type": "category"
        },
        "yaxis": {
         "anchor": "x",
         "domain": [
          0,
          1
         ],
         "title": {
          "text": "CA en k€"
         }
        }
       }
      }
     },
     "metadata": {},
     "output_type": "display_data"
    }
   ],
   "source": [
    "data_grouby_CA = data_grouby_CA.groupby([\"mois\", \"Mois\", \"Année\"])[\"total HT\"].sum().reset_index()\n",
    "mask = data_grouby_CA[\"total HT\"] != 0\n",
    "data_grouby_CA = data_grouby_CA[mask]\n",
    "annees = data_grouby_CA[\"Année\"].unique()\n",
    "\n",
    "\n",
    "couleur_dict={}\n",
    "for i, annee in enumerate(annees):    \n",
    "    couleur = px.colors.qualitative.Set1[i]\n",
    "    couleur_dict.update({annee:couleur})\n",
    "\n",
    "\n",
    "mask = data_grouby_CA[\"Mois\"] <= mois_précédent\n",
    "annees_prec = data_grouby_CA[mask][\"Année\"].unique()\n",
    "couleurs_annees_prec = [couleur_dict.get(annee, \"valeur_par_défaut\") for annee in annees_prec]\n",
    "\n",
    "fig = px.line(\n",
    "    data_grouby_CA[mask],\n",
    "    x=\"mois\",\n",
    "    y=\"total HT\",\n",
    "    text = data_grouby_CA[mask][\"total HT\"].map(format_currency),\n",
    "    color=\"Année\",  \n",
    "    labels={\"total HT\": \"CA\", \"mois\": \"Mois\"},\n",
    "    title=\"Évolution du chiffre d'affaires par mois\",\n",
    "    color_discrete_sequence=couleurs_annees_prec,\n",
    ")\n",
    "\n",
    "fig.update_layout(\n",
    "    legend=dict(traceorder='reversed'),\n",
    ")\n",
    "\n",
    "fig.update_layout(\n",
    "    xaxis=dict(categoryorder=\"array\", categoryarray=sorted(data_grouby_CA[mask][\"mois\"].unique()))\n",
    ")\n",
    "\n",
    "\n",
    "for i, annee in enumerate(annees):\n",
    "    mask = (data_grouby_CA[\"Mois\"] >= mois_précédent) & (data_grouby_CA[\"Année\"] == annee)\n",
    "    color = couleur_dict[annee]\n",
    "    fig.add_trace(\n",
    "        go.Scatter(name = f\"En cours pour {annee}\",\n",
    "            x=data_grouby_CA[mask][\"mois\"],\n",
    "            y=data_grouby_CA[mask][\"total HT\"],\n",
    "            mode=\"lines+markers+text\",\n",
    "            line=dict(color=color, width=2, dash=\"dash\"),\n",
    "            text=data_grouby_CA[mask][\"total HT\"].map(format_currency),\n",
    "            textposition=\"top center\",\n",
    "        )\n",
    "    )\n",
    "\n",
    "\n",
    "#fig.for_each_trace(lambda trace : trace.update({\"line\":couleur_dict)})\n",
    "\n",
    "\n",
    "fig.update_traces(textposition=\"bottom center\")\n",
    "fig.update_xaxes(type=\"category\")\n",
    "fig.update_yaxes(title_text=\"CA en k€\")\n",
    "\n"
   ]
  },
  {
   "cell_type": "code",
   "execution_count": null,
   "metadata": {},
   "outputs": [],
   "source": []
  },
  {
   "cell_type": "code",
   "execution_count": null,
   "metadata": {},
   "outputs": [],
   "source": []
  }
 ],
 "metadata": {
  "kernelspec": {
   "display_name": "qualiextra",
   "language": "python",
   "name": "python3"
  },
  "language_info": {
   "codemirror_mode": {
    "name": "ipython",
    "version": 3
   },
   "file_extension": ".py",
   "mimetype": "text/x-python",
   "name": "python",
   "nbconvert_exporter": "python",
   "pygments_lexer": "ipython3",
   "version": "3.11.4"
  }
 },
 "nbformat": 4,
 "nbformat_minor": 2
}
