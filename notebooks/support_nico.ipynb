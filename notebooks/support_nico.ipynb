{
 "cells": [
  {
   "cell_type": "code",
   "execution_count": 48,
   "metadata": {},
   "outputs": [],
   "source": [
    "## MLFLOW_TRACKING_URI='https://qualiextra-project-6b29e931dd67.herokuapp.com/'"
   ]
  },
  {
   "cell_type": "code",
   "execution_count": 49,
   "metadata": {},
   "outputs": [],
   "source": [
    "import pandas as pd\n",
    "import datetime\n"
   ]
  },
  {
   "cell_type": "code",
   "execution_count": 50,
   "metadata": {},
   "outputs": [],
   "source": [
    "data = pd.read_csv(\"./Missions.csv\", sep=';')"
   ]
  },
  {
   "cell_type": "code",
   "execution_count": null,
   "metadata": {},
   "outputs": [],
   "source": []
  },
  {
   "cell_type": "code",
   "execution_count": 51,
   "metadata": {},
   "outputs": [
    {
     "name": "stdout",
     "output_type": "stream",
     "text": [
      "<class 'pandas.core.frame.DataFrame'>\n",
      "RangeIndex: 4771 entries, 0 to 4770\n",
      "Data columns (total 13 columns):\n",
      " #   Column         Non-Null Count  Dtype  \n",
      "---  ------         --------------  -----  \n",
      " 0   Propriété      4764 non-null   object \n",
      " 1   hôtel          4760 non-null   object \n",
      " 2   extra          4761 non-null   object \n",
      " 3   date           4771 non-null   object \n",
      " 4   statuts        617 non-null    object \n",
      " 5   tarif urgence  225 non-null    float64\n",
      " 6   tarif horaire  4760 non-null   float64\n",
      " 7   nbre d'heures  4771 non-null   object \n",
      " 8   total HT       4771 non-null   int64  \n",
      " 9   facture        3798 non-null   object \n",
      " 10  règlement      3743 non-null   object \n",
      " 11  montant HT     4771 non-null   int64  \n",
      " 12  Texte          7 non-null      object \n",
      "dtypes: float64(2), int64(2), object(9)\n",
      "memory usage: 484.7+ KB\n"
     ]
    }
   ],
   "source": [
    "data.info()"
   ]
  },
  {
   "cell_type": "code",
   "execution_count": 52,
   "metadata": {},
   "outputs": [
    {
     "data": {
      "text/plain": [
       "(4760, 13)"
      ]
     },
     "execution_count": 52,
     "metadata": {},
     "output_type": "execute_result"
    }
   ],
   "source": [
    "mask = ((data[\"hôtel\"].notna()))\n",
    "data = data[mask]\n",
    "data.shape"
   ]
  },
  {
   "cell_type": "code",
   "execution_count": 53,
   "metadata": {},
   "outputs": [],
   "source": [
    "data[\"date_debut\"] = data.apply(lambda x: x[\"date\"].split(\" →\")[0],axis=1)\n",
    "data[\"date_debut\"] = data[\"date_debut\"].apply(lambda x: x.replace(\" (UTC+3)\", \"\"))\n",
    "data[\"date_debut\"] = data[\"date_debut\"].apply(lambda x: x.replace(\" (UTC)\", \"\"))"
   ]
  },
  {
   "cell_type": "code",
   "execution_count": 54,
   "metadata": {},
   "outputs": [],
   "source": [
    "data[\"date_debut\"] = pd.to_datetime(data[\"date_debut\"], format=\"%d/%m/%Y %H:%M\")"
   ]
  },
  {
   "cell_type": "code",
   "execution_count": 55,
   "metadata": {},
   "outputs": [
    {
     "data": {
      "text/plain": [
       "Propriété                object\n",
       "hôtel                    object\n",
       "extra                    object\n",
       "date                     object\n",
       "statuts                  object\n",
       "tarif urgence           float64\n",
       "tarif horaire           float64\n",
       "nbre d'heures            object\n",
       "total HT                  int64\n",
       "facture                  object\n",
       "règlement                object\n",
       "montant HT                int64\n",
       "Texte                    object\n",
       "date_debut       datetime64[ns]\n",
       "dtype: object"
      ]
     },
     "execution_count": 55,
     "metadata": {},
     "output_type": "execute_result"
    }
   ],
   "source": [
    "data.dtypes"
   ]
  },
  {
   "cell_type": "code",
   "execution_count": 56,
   "metadata": {},
   "outputs": [],
   "source": [
    "data[\"time_delta\"] = data[\"nbre d'heures\"].apply(lambda x: pd.to_timedelta(x))\n",
    "data[\"date_fin\"] = data.apply(lambda x: x[\"date_debut\"] + x[\"time_delta\"], axis=1)"
   ]
  },
  {
   "cell_type": "code",
   "execution_count": 57,
   "metadata": {},
   "outputs": [
    {
     "data": {
      "text/html": [
       "<div>\n",
       "<style scoped>\n",
       "    .dataframe tbody tr th:only-of-type {\n",
       "        vertical-align: middle;\n",
       "    }\n",
       "\n",
       "    .dataframe tbody tr th {\n",
       "        vertical-align: top;\n",
       "    }\n",
       "\n",
       "    .dataframe thead th {\n",
       "        text-align: right;\n",
       "    }\n",
       "</style>\n",
       "<table border=\"1\" class=\"dataframe\">\n",
       "  <thead>\n",
       "    <tr style=\"text-align: right;\">\n",
       "      <th></th>\n",
       "      <th>Propriété</th>\n",
       "      <th>hôtel</th>\n",
       "      <th>extra</th>\n",
       "      <th>date</th>\n",
       "      <th>statuts</th>\n",
       "      <th>tarif urgence</th>\n",
       "      <th>tarif horaire</th>\n",
       "      <th>nbre d'heures</th>\n",
       "      <th>total HT</th>\n",
       "      <th>facture</th>\n",
       "      <th>règlement</th>\n",
       "      <th>montant HT</th>\n",
       "      <th>Texte</th>\n",
       "      <th>date_debut</th>\n",
       "      <th>time_delta</th>\n",
       "      <th>date_fin</th>\n",
       "    </tr>\n",
       "  </thead>\n",
       "  <tbody>\n",
       "    <tr>\n",
       "      <th>0</th>\n",
       "      <td>Crystal</td>\n",
       "      <td>Crystal (https://www.notion.so/Crystal-1837fcb...</td>\n",
       "      <td>Grégory Tshimini (https://www.notion.so/Gr-gor...</td>\n",
       "      <td>07/01/2024 8:00 → 20:00</td>\n",
       "      <td>NaN</td>\n",
       "      <td>NaN</td>\n",
       "      <td>21.0</td>\n",
       "      <td>12hr 0min</td>\n",
       "      <td>252</td>\n",
       "      <td>NaN</td>\n",
       "      <td>NaN</td>\n",
       "      <td>180</td>\n",
       "      <td>NaN</td>\n",
       "      <td>2024-01-07 08:00:00</td>\n",
       "      <td>0 days 12:00:00</td>\n",
       "      <td>2024-01-07 20:00:00</td>\n",
       "    </tr>\n",
       "    <tr>\n",
       "      <th>1</th>\n",
       "      <td>Milie rose</td>\n",
       "      <td>Milie Rose (https://www.notion.so/Milie-Rose-0...</td>\n",
       "      <td>Mamadou Koma (https://www.notion.so/Mamadou-Ko...</td>\n",
       "      <td>06/01/2024 22:30 → 07/01/2024 8:00</td>\n",
       "      <td>NaN</td>\n",
       "      <td>NaN</td>\n",
       "      <td>20.0</td>\n",
       "      <td>9hr 30min</td>\n",
       "      <td>180</td>\n",
       "      <td>NaN</td>\n",
       "      <td>NaN</td>\n",
       "      <td>135</td>\n",
       "      <td>NaN</td>\n",
       "      <td>2024-01-06 22:30:00</td>\n",
       "      <td>0 days 09:30:00</td>\n",
       "      <td>2024-01-07 08:00:00</td>\n",
       "    </tr>\n",
       "    <tr>\n",
       "      <th>2</th>\n",
       "      <td>Touraine</td>\n",
       "      <td>Touraine (https://www.notion.so/Touraine-df4e7...</td>\n",
       "      <td>Mohamed Belbachir (https://www.notion.so/Moham...</td>\n",
       "      <td>06/01/2024 19:30 → 07/01/2024 7:30</td>\n",
       "      <td>NaN</td>\n",
       "      <td>NaN</td>\n",
       "      <td>20.0</td>\n",
       "      <td>12hr 0min</td>\n",
       "      <td>240</td>\n",
       "      <td>NaN</td>\n",
       "      <td>NaN</td>\n",
       "      <td>180</td>\n",
       "      <td>NaN</td>\n",
       "      <td>2024-01-06 19:30:00</td>\n",
       "      <td>0 days 12:00:00</td>\n",
       "      <td>2024-01-07 07:30:00</td>\n",
       "    </tr>\n",
       "    <tr>\n",
       "      <th>3</th>\n",
       "      <td>Crystal</td>\n",
       "      <td>Crystal (https://www.notion.so/Crystal-1837fcb...</td>\n",
       "      <td>Grégory Tshimini (https://www.notion.so/Gr-gor...</td>\n",
       "      <td>06/01/2024 8:00 → 20:00</td>\n",
       "      <td>NaN</td>\n",
       "      <td>NaN</td>\n",
       "      <td>21.0</td>\n",
       "      <td>12hr 0min</td>\n",
       "      <td>252</td>\n",
       "      <td>NaN</td>\n",
       "      <td>NaN</td>\n",
       "      <td>180</td>\n",
       "      <td>NaN</td>\n",
       "      <td>2024-01-06 08:00:00</td>\n",
       "      <td>0 days 12:00:00</td>\n",
       "      <td>2024-01-06 20:00:00</td>\n",
       "    </tr>\n",
       "    <tr>\n",
       "      <th>4</th>\n",
       "      <td>Milie rose</td>\n",
       "      <td>Milie Rose (https://www.notion.so/Milie-Rose-0...</td>\n",
       "      <td>Mamadou Koma (https://www.notion.so/Mamadou-Ko...</td>\n",
       "      <td>05/01/2024 22:30 → 06/01/2024 8:00</td>\n",
       "      <td>NaN</td>\n",
       "      <td>NaN</td>\n",
       "      <td>20.0</td>\n",
       "      <td>9hr 30min</td>\n",
       "      <td>180</td>\n",
       "      <td>NaN</td>\n",
       "      <td>NaN</td>\n",
       "      <td>135</td>\n",
       "      <td>NaN</td>\n",
       "      <td>2024-01-05 22:30:00</td>\n",
       "      <td>0 days 09:30:00</td>\n",
       "      <td>2024-01-06 08:00:00</td>\n",
       "    </tr>\n",
       "  </tbody>\n",
       "</table>\n",
       "</div>"
      ],
      "text/plain": [
       "    Propriété                                              hôtel  \\\n",
       "0     Crystal  Crystal (https://www.notion.so/Crystal-1837fcb...   \n",
       "1  Milie rose  Milie Rose (https://www.notion.so/Milie-Rose-0...   \n",
       "2   Touraine   Touraine (https://www.notion.so/Touraine-df4e7...   \n",
       "3     Crystal  Crystal (https://www.notion.so/Crystal-1837fcb...   \n",
       "4  Milie rose  Milie Rose (https://www.notion.so/Milie-Rose-0...   \n",
       "\n",
       "                                               extra  \\\n",
       "0  Grégory Tshimini (https://www.notion.so/Gr-gor...   \n",
       "1  Mamadou Koma (https://www.notion.so/Mamadou-Ko...   \n",
       "2  Mohamed Belbachir (https://www.notion.so/Moham...   \n",
       "3  Grégory Tshimini (https://www.notion.so/Gr-gor...   \n",
       "4  Mamadou Koma (https://www.notion.so/Mamadou-Ko...   \n",
       "\n",
       "                                 date statuts  tarif urgence  tarif horaire  \\\n",
       "0             07/01/2024 8:00 → 20:00     NaN            NaN           21.0   \n",
       "1  06/01/2024 22:30 → 07/01/2024 8:00     NaN            NaN           20.0   \n",
       "2  06/01/2024 19:30 → 07/01/2024 7:30     NaN            NaN           20.0   \n",
       "3             06/01/2024 8:00 → 20:00     NaN            NaN           21.0   \n",
       "4  05/01/2024 22:30 → 06/01/2024 8:00     NaN            NaN           20.0   \n",
       "\n",
       "  nbre d'heures  total HT facture règlement  montant HT Texte  \\\n",
       "0     12hr 0min       252     NaN       NaN         180   NaN   \n",
       "1     9hr 30min       180     NaN       NaN         135   NaN   \n",
       "2     12hr 0min       240     NaN       NaN         180   NaN   \n",
       "3     12hr 0min       252     NaN       NaN         180   NaN   \n",
       "4     9hr 30min       180     NaN       NaN         135   NaN   \n",
       "\n",
       "           date_debut      time_delta            date_fin  \n",
       "0 2024-01-07 08:00:00 0 days 12:00:00 2024-01-07 20:00:00  \n",
       "1 2024-01-06 22:30:00 0 days 09:30:00 2024-01-07 08:00:00  \n",
       "2 2024-01-06 19:30:00 0 days 12:00:00 2024-01-07 07:30:00  \n",
       "3 2024-01-06 08:00:00 0 days 12:00:00 2024-01-06 20:00:00  \n",
       "4 2024-01-05 22:30:00 0 days 09:30:00 2024-01-06 08:00:00  "
      ]
     },
     "execution_count": 57,
     "metadata": {},
     "output_type": "execute_result"
    }
   ],
   "source": [
    "data[\"Propriété\"] = data.apply(lambda x: x[\"hôtel\"].split(\" (\")[0] if \"www\" in x[\"Propriété\"] else x, axis=1)[\"Propriété\"]\n",
    "data.head()"
   ]
  },
  {
   "cell_type": "code",
   "execution_count": 58,
   "metadata": {},
   "outputs": [],
   "source": [
    "data[\"Propriété_clean\"] = data[\"hôtel\"].apply(lambda x: x.split(\" (\")[0])"
   ]
  },
  {
   "cell_type": "code",
   "execution_count": 59,
   "metadata": {},
   "outputs": [
    {
     "data": {
      "text/html": [
       "<div>\n",
       "<style scoped>\n",
       "    .dataframe tbody tr th:only-of-type {\n",
       "        vertical-align: middle;\n",
       "    }\n",
       "\n",
       "    .dataframe tbody tr th {\n",
       "        vertical-align: top;\n",
       "    }\n",
       "\n",
       "    .dataframe thead th {\n",
       "        text-align: right;\n",
       "    }\n",
       "</style>\n",
       "<table border=\"1\" class=\"dataframe\">\n",
       "  <thead>\n",
       "    <tr style=\"text-align: right;\">\n",
       "      <th></th>\n",
       "      <th>Propriété</th>\n",
       "      <th>hôtel</th>\n",
       "      <th>extra</th>\n",
       "      <th>date</th>\n",
       "      <th>statuts</th>\n",
       "      <th>tarif urgence</th>\n",
       "      <th>tarif horaire</th>\n",
       "      <th>nbre d'heures</th>\n",
       "      <th>total HT</th>\n",
       "      <th>facture</th>\n",
       "      <th>règlement</th>\n",
       "      <th>montant HT</th>\n",
       "      <th>Texte</th>\n",
       "      <th>date_debut</th>\n",
       "      <th>time_delta</th>\n",
       "      <th>date_fin</th>\n",
       "      <th>Propriété_clean</th>\n",
       "    </tr>\n",
       "  </thead>\n",
       "  <tbody>\n",
       "    <tr>\n",
       "      <th>0</th>\n",
       "      <td>Crystal</td>\n",
       "      <td>Crystal (https://www.notion.so/Crystal-1837fcb...</td>\n",
       "      <td>Grégory Tshimini (https://www.notion.so/Gr-gor...</td>\n",
       "      <td>07/01/2024 8:00 → 20:00</td>\n",
       "      <td>NaN</td>\n",
       "      <td>NaN</td>\n",
       "      <td>21.0</td>\n",
       "      <td>12hr 0min</td>\n",
       "      <td>252</td>\n",
       "      <td>NaN</td>\n",
       "      <td>NaN</td>\n",
       "      <td>180</td>\n",
       "      <td>NaN</td>\n",
       "      <td>2024-01-07 08:00:00</td>\n",
       "      <td>0 days 12:00:00</td>\n",
       "      <td>2024-01-07 20:00:00</td>\n",
       "      <td>Crystal</td>\n",
       "    </tr>\n",
       "    <tr>\n",
       "      <th>1</th>\n",
       "      <td>Milie rose</td>\n",
       "      <td>Milie Rose (https://www.notion.so/Milie-Rose-0...</td>\n",
       "      <td>Mamadou Koma (https://www.notion.so/Mamadou-Ko...</td>\n",
       "      <td>06/01/2024 22:30 → 07/01/2024 8:00</td>\n",
       "      <td>NaN</td>\n",
       "      <td>NaN</td>\n",
       "      <td>20.0</td>\n",
       "      <td>9hr 30min</td>\n",
       "      <td>180</td>\n",
       "      <td>NaN</td>\n",
       "      <td>NaN</td>\n",
       "      <td>135</td>\n",
       "      <td>NaN</td>\n",
       "      <td>2024-01-06 22:30:00</td>\n",
       "      <td>0 days 09:30:00</td>\n",
       "      <td>2024-01-07 08:00:00</td>\n",
       "      <td>Milie Rose</td>\n",
       "    </tr>\n",
       "    <tr>\n",
       "      <th>2</th>\n",
       "      <td>Touraine</td>\n",
       "      <td>Touraine (https://www.notion.so/Touraine-df4e7...</td>\n",
       "      <td>Mohamed Belbachir (https://www.notion.so/Moham...</td>\n",
       "      <td>06/01/2024 19:30 → 07/01/2024 7:30</td>\n",
       "      <td>NaN</td>\n",
       "      <td>NaN</td>\n",
       "      <td>20.0</td>\n",
       "      <td>12hr 0min</td>\n",
       "      <td>240</td>\n",
       "      <td>NaN</td>\n",
       "      <td>NaN</td>\n",
       "      <td>180</td>\n",
       "      <td>NaN</td>\n",
       "      <td>2024-01-06 19:30:00</td>\n",
       "      <td>0 days 12:00:00</td>\n",
       "      <td>2024-01-07 07:30:00</td>\n",
       "      <td>Touraine</td>\n",
       "    </tr>\n",
       "    <tr>\n",
       "      <th>3</th>\n",
       "      <td>Crystal</td>\n",
       "      <td>Crystal (https://www.notion.so/Crystal-1837fcb...</td>\n",
       "      <td>Grégory Tshimini (https://www.notion.so/Gr-gor...</td>\n",
       "      <td>06/01/2024 8:00 → 20:00</td>\n",
       "      <td>NaN</td>\n",
       "      <td>NaN</td>\n",
       "      <td>21.0</td>\n",
       "      <td>12hr 0min</td>\n",
       "      <td>252</td>\n",
       "      <td>NaN</td>\n",
       "      <td>NaN</td>\n",
       "      <td>180</td>\n",
       "      <td>NaN</td>\n",
       "      <td>2024-01-06 08:00:00</td>\n",
       "      <td>0 days 12:00:00</td>\n",
       "      <td>2024-01-06 20:00:00</td>\n",
       "      <td>Crystal</td>\n",
       "    </tr>\n",
       "    <tr>\n",
       "      <th>4</th>\n",
       "      <td>Milie rose</td>\n",
       "      <td>Milie Rose (https://www.notion.so/Milie-Rose-0...</td>\n",
       "      <td>Mamadou Koma (https://www.notion.so/Mamadou-Ko...</td>\n",
       "      <td>05/01/2024 22:30 → 06/01/2024 8:00</td>\n",
       "      <td>NaN</td>\n",
       "      <td>NaN</td>\n",
       "      <td>20.0</td>\n",
       "      <td>9hr 30min</td>\n",
       "      <td>180</td>\n",
       "      <td>NaN</td>\n",
       "      <td>NaN</td>\n",
       "      <td>135</td>\n",
       "      <td>NaN</td>\n",
       "      <td>2024-01-05 22:30:00</td>\n",
       "      <td>0 days 09:30:00</td>\n",
       "      <td>2024-01-06 08:00:00</td>\n",
       "      <td>Milie Rose</td>\n",
       "    </tr>\n",
       "  </tbody>\n",
       "</table>\n",
       "</div>"
      ],
      "text/plain": [
       "    Propriété                                              hôtel  \\\n",
       "0     Crystal  Crystal (https://www.notion.so/Crystal-1837fcb...   \n",
       "1  Milie rose  Milie Rose (https://www.notion.so/Milie-Rose-0...   \n",
       "2   Touraine   Touraine (https://www.notion.so/Touraine-df4e7...   \n",
       "3     Crystal  Crystal (https://www.notion.so/Crystal-1837fcb...   \n",
       "4  Milie rose  Milie Rose (https://www.notion.so/Milie-Rose-0...   \n",
       "\n",
       "                                               extra  \\\n",
       "0  Grégory Tshimini (https://www.notion.so/Gr-gor...   \n",
       "1  Mamadou Koma (https://www.notion.so/Mamadou-Ko...   \n",
       "2  Mohamed Belbachir (https://www.notion.so/Moham...   \n",
       "3  Grégory Tshimini (https://www.notion.so/Gr-gor...   \n",
       "4  Mamadou Koma (https://www.notion.so/Mamadou-Ko...   \n",
       "\n",
       "                                 date statuts  tarif urgence  tarif horaire  \\\n",
       "0             07/01/2024 8:00 → 20:00     NaN            NaN           21.0   \n",
       "1  06/01/2024 22:30 → 07/01/2024 8:00     NaN            NaN           20.0   \n",
       "2  06/01/2024 19:30 → 07/01/2024 7:30     NaN            NaN           20.0   \n",
       "3             06/01/2024 8:00 → 20:00     NaN            NaN           21.0   \n",
       "4  05/01/2024 22:30 → 06/01/2024 8:00     NaN            NaN           20.0   \n",
       "\n",
       "  nbre d'heures  total HT facture règlement  montant HT Texte  \\\n",
       "0     12hr 0min       252     NaN       NaN         180   NaN   \n",
       "1     9hr 30min       180     NaN       NaN         135   NaN   \n",
       "2     12hr 0min       240     NaN       NaN         180   NaN   \n",
       "3     12hr 0min       252     NaN       NaN         180   NaN   \n",
       "4     9hr 30min       180     NaN       NaN         135   NaN   \n",
       "\n",
       "           date_debut      time_delta            date_fin Propriété_clean  \n",
       "0 2024-01-07 08:00:00 0 days 12:00:00 2024-01-07 20:00:00         Crystal  \n",
       "1 2024-01-06 22:30:00 0 days 09:30:00 2024-01-07 08:00:00      Milie Rose  \n",
       "2 2024-01-06 19:30:00 0 days 12:00:00 2024-01-07 07:30:00        Touraine  \n",
       "3 2024-01-06 08:00:00 0 days 12:00:00 2024-01-06 20:00:00         Crystal  \n",
       "4 2024-01-05 22:30:00 0 days 09:30:00 2024-01-06 08:00:00      Milie Rose  "
      ]
     },
     "execution_count": 59,
     "metadata": {},
     "output_type": "execute_result"
    }
   ],
   "source": [
    "data.head()"
   ]
  },
  {
   "cell_type": "code",
   "execution_count": 60,
   "metadata": {},
   "outputs": [],
   "source": [
    "missions_par_hotel = data[[\"Propriété_clean\",\"time_delta\"]].groupby(\"Propriété_clean\").count().sort_values(by=\"time_delta\")\n",
    "heures_par_hotel = data[[\"Propriété_clean\",\"time_delta\"]].groupby(\"Propriété_clean\").sum().sort_values(by=\"time_delta\")"
   ]
  },
  {
   "cell_type": "code",
   "execution_count": 61,
   "metadata": {},
   "outputs": [
    {
     "data": {
      "text/html": [
       "<div>\n",
       "<style scoped>\n",
       "    .dataframe tbody tr th:only-of-type {\n",
       "        vertical-align: middle;\n",
       "    }\n",
       "\n",
       "    .dataframe tbody tr th {\n",
       "        vertical-align: top;\n",
       "    }\n",
       "\n",
       "    .dataframe thead th {\n",
       "        text-align: right;\n",
       "    }\n",
       "</style>\n",
       "<table border=\"1\" class=\"dataframe\">\n",
       "  <thead>\n",
       "    <tr style=\"text-align: right;\">\n",
       "      <th></th>\n",
       "      <th>time_delta</th>\n",
       "    </tr>\n",
       "    <tr>\n",
       "      <th>Propriété_clean</th>\n",
       "      <th></th>\n",
       "    </tr>\n",
       "  </thead>\n",
       "  <tbody>\n",
       "    <tr>\n",
       "      <th>Peper and paper</th>\n",
       "      <td>1</td>\n",
       "    </tr>\n",
       "    <tr>\n",
       "      <th>Home Moderne</th>\n",
       "      <td>2</td>\n",
       "    </tr>\n",
       "    <tr>\n",
       "      <th>Mont Dore</th>\n",
       "      <td>2</td>\n",
       "    </tr>\n",
       "    <tr>\n",
       "      <th>Le Roch Hotel</th>\n",
       "      <td>3</td>\n",
       "    </tr>\n",
       "    <tr>\n",
       "      <th>Mathurin</th>\n",
       "      <td>3</td>\n",
       "    </tr>\n",
       "    <tr>\n",
       "      <th>Alberte</th>\n",
       "      <td>5</td>\n",
       "    </tr>\n",
       "    <tr>\n",
       "      <th>Bleu de Grenelle</th>\n",
       "      <td>5</td>\n",
       "    </tr>\n",
       "    <tr>\n",
       "      <th>Chouchou</th>\n",
       "      <td>12</td>\n",
       "    </tr>\n",
       "    <tr>\n",
       "      <th>MT solutions</th>\n",
       "      <td>19</td>\n",
       "    </tr>\n",
       "    <tr>\n",
       "      <th>Quinzerie hotel</th>\n",
       "      <td>20</td>\n",
       "    </tr>\n",
       "    <tr>\n",
       "      <th>Parisis</th>\n",
       "      <td>29</td>\n",
       "    </tr>\n",
       "    <tr>\n",
       "      <th>La Belle Ville</th>\n",
       "      <td>42</td>\n",
       "    </tr>\n",
       "    <tr>\n",
       "      <th>Apogé</th>\n",
       "      <td>61</td>\n",
       "    </tr>\n",
       "    <tr>\n",
       "      <th>French Theory</th>\n",
       "      <td>69</td>\n",
       "    </tr>\n",
       "    <tr>\n",
       "      <th>Parisianer</th>\n",
       "      <td>71</td>\n",
       "    </tr>\n",
       "    <tr>\n",
       "      <th>Edouard VI</th>\n",
       "      <td>81</td>\n",
       "    </tr>\n",
       "    <tr>\n",
       "      <th>Les Deux Girafes</th>\n",
       "      <td>83</td>\n",
       "    </tr>\n",
       "    <tr>\n",
       "      <th>Victoire et Germain</th>\n",
       "      <td>89</td>\n",
       "    </tr>\n",
       "    <tr>\n",
       "      <th>Monte Cristo</th>\n",
       "      <td>94</td>\n",
       "    </tr>\n",
       "    <tr>\n",
       "      <th>Touraine</th>\n",
       "      <td>115</td>\n",
       "    </tr>\n",
       "    <tr>\n",
       "      <th>Courseine</th>\n",
       "      <td>119</td>\n",
       "    </tr>\n",
       "    <tr>\n",
       "      <th>Crystal</th>\n",
       "      <td>143</td>\n",
       "    </tr>\n",
       "    <tr>\n",
       "      <th>Drawing House</th>\n",
       "      <td>144</td>\n",
       "    </tr>\n",
       "    <tr>\n",
       "      <th>Prélude</th>\n",
       "      <td>153</td>\n",
       "    </tr>\n",
       "    <tr>\n",
       "      <th>Yllen Eiffel</th>\n",
       "      <td>196</td>\n",
       "    </tr>\n",
       "    <tr>\n",
       "      <th>Tsuba</th>\n",
       "      <td>224</td>\n",
       "    </tr>\n",
       "    <tr>\n",
       "      <th>Marceau</th>\n",
       "      <td>250</td>\n",
       "    </tr>\n",
       "    <tr>\n",
       "      <th>Milie Rose</th>\n",
       "      <td>252</td>\n",
       "    </tr>\n",
       "    <tr>\n",
       "      <th>Select Hotel</th>\n",
       "      <td>310</td>\n",
       "    </tr>\n",
       "    <tr>\n",
       "      <th>Le Grand Quartier</th>\n",
       "      <td>416</td>\n",
       "    </tr>\n",
       "    <tr>\n",
       "      <th>Imprimerie</th>\n",
       "      <td>456</td>\n",
       "    </tr>\n",
       "    <tr>\n",
       "      <th>Ibis Montparnasse</th>\n",
       "      <td>1291</td>\n",
       "    </tr>\n",
       "  </tbody>\n",
       "</table>\n",
       "</div>"
      ],
      "text/plain": [
       "                     time_delta\n",
       "Propriété_clean                \n",
       "Peper and paper               1\n",
       "Home Moderne                  2\n",
       "Mont Dore                     2\n",
       "Le Roch Hotel                 3\n",
       "Mathurin                      3\n",
       "Alberte                       5\n",
       "Bleu de Grenelle              5\n",
       "Chouchou                     12\n",
       "MT solutions                 19\n",
       "Quinzerie hotel              20\n",
       "Parisis                      29\n",
       "La Belle Ville               42\n",
       "Apogé                        61\n",
       "French Theory                69\n",
       "Parisianer                   71\n",
       "Edouard VI                   81\n",
       "Les Deux Girafes             83\n",
       "Victoire et Germain          89\n",
       "Monte Cristo                 94\n",
       "Touraine                    115\n",
       "Courseine                   119\n",
       "Crystal                     143\n",
       "Drawing House               144\n",
       "Prélude                     153\n",
       "Yllen Eiffel                196\n",
       "Tsuba                       224\n",
       "Marceau                     250\n",
       "Milie Rose                  252\n",
       "Select Hotel                310\n",
       "Le Grand Quartier           416\n",
       "Imprimerie                  456\n",
       "Ibis Montparnasse          1291"
      ]
     },
     "execution_count": 61,
     "metadata": {},
     "output_type": "execute_result"
    }
   ],
   "source": [
    "missions_par_hotel"
   ]
  },
  {
   "cell_type": "code",
   "execution_count": 62,
   "metadata": {},
   "outputs": [
    {
     "data": {
      "application/vnd.plotly.v1+json": {
       "config": {
        "plotlyServerURL": "https://plot.ly"
       },
       "data": [
        {
         "name": "Affected rentals",
         "type": "bar",
         "x": [
          "Alberte ",
          "Apogé",
          "Bleu de Grenelle",
          "Chouchou",
          "Courseine",
          "Crystal",
          "Drawing House",
          "Edouard VI",
          "French Theory",
          "Home Moderne",
          "Ibis Montparnasse",
          "Imprimerie",
          "La Belle Ville",
          "Le Grand Quartier",
          "Le Roch Hotel",
          "Les Deux Girafes",
          "MT solutions ",
          "Marceau",
          "Mathurin",
          "Milie Rose",
          "Mont Dore",
          "Monte Cristo",
          "Parisianer",
          "Parisis",
          "Peper and paper ",
          "Prélude",
          "Quinzerie hotel",
          "Select Hotel",
          "Touraine",
          "Tsuba",
          "Victoire et Germain",
          "Yllen Eiffel"
         ],
         "y": [
          5,
          61,
          5,
          12,
          119,
          143,
          144,
          81,
          69,
          2,
          1291,
          456,
          42,
          416,
          3,
          83,
          19,
          250,
          3,
          252,
          2,
          94,
          71,
          29,
          1,
          153,
          20,
          310,
          115,
          224,
          89,
          196
         ]
        }
       ],
       "layout": {
        "showlegend": false,
        "template": {
         "data": {
          "bar": [
           {
            "error_x": {
             "color": "#2a3f5f"
            },
            "error_y": {
             "color": "#2a3f5f"
            },
            "marker": {
             "line": {
              "color": "#E5ECF6",
              "width": 0.5
             },
             "pattern": {
              "fillmode": "overlay",
              "size": 10,
              "solidity": 0.2
             }
            },
            "type": "bar"
           }
          ],
          "barpolar": [
           {
            "marker": {
             "line": {
              "color": "#E5ECF6",
              "width": 0.5
             },
             "pattern": {
              "fillmode": "overlay",
              "size": 10,
              "solidity": 0.2
             }
            },
            "type": "barpolar"
           }
          ],
          "carpet": [
           {
            "aaxis": {
             "endlinecolor": "#2a3f5f",
             "gridcolor": "white",
             "linecolor": "white",
             "minorgridcolor": "white",
             "startlinecolor": "#2a3f5f"
            },
            "baxis": {
             "endlinecolor": "#2a3f5f",
             "gridcolor": "white",
             "linecolor": "white",
             "minorgridcolor": "white",
             "startlinecolor": "#2a3f5f"
            },
            "type": "carpet"
           }
          ],
          "choropleth": [
           {
            "colorbar": {
             "outlinewidth": 0,
             "ticks": ""
            },
            "type": "choropleth"
           }
          ],
          "contour": [
           {
            "colorbar": {
             "outlinewidth": 0,
             "ticks": ""
            },
            "colorscale": [
             [
              0,
              "#0d0887"
             ],
             [
              0.1111111111111111,
              "#46039f"
             ],
             [
              0.2222222222222222,
              "#7201a8"
             ],
             [
              0.3333333333333333,
              "#9c179e"
             ],
             [
              0.4444444444444444,
              "#bd3786"
             ],
             [
              0.5555555555555556,
              "#d8576b"
             ],
             [
              0.6666666666666666,
              "#ed7953"
             ],
             [
              0.7777777777777778,
              "#fb9f3a"
             ],
             [
              0.8888888888888888,
              "#fdca26"
             ],
             [
              1,
              "#f0f921"
             ]
            ],
            "type": "contour"
           }
          ],
          "contourcarpet": [
           {
            "colorbar": {
             "outlinewidth": 0,
             "ticks": ""
            },
            "type": "contourcarpet"
           }
          ],
          "heatmap": [
           {
            "colorbar": {
             "outlinewidth": 0,
             "ticks": ""
            },
            "colorscale": [
             [
              0,
              "#0d0887"
             ],
             [
              0.1111111111111111,
              "#46039f"
             ],
             [
              0.2222222222222222,
              "#7201a8"
             ],
             [
              0.3333333333333333,
              "#9c179e"
             ],
             [
              0.4444444444444444,
              "#bd3786"
             ],
             [
              0.5555555555555556,
              "#d8576b"
             ],
             [
              0.6666666666666666,
              "#ed7953"
             ],
             [
              0.7777777777777778,
              "#fb9f3a"
             ],
             [
              0.8888888888888888,
              "#fdca26"
             ],
             [
              1,
              "#f0f921"
             ]
            ],
            "type": "heatmap"
           }
          ],
          "heatmapgl": [
           {
            "colorbar": {
             "outlinewidth": 0,
             "ticks": ""
            },
            "colorscale": [
             [
              0,
              "#0d0887"
             ],
             [
              0.1111111111111111,
              "#46039f"
             ],
             [
              0.2222222222222222,
              "#7201a8"
             ],
             [
              0.3333333333333333,
              "#9c179e"
             ],
             [
              0.4444444444444444,
              "#bd3786"
             ],
             [
              0.5555555555555556,
              "#d8576b"
             ],
             [
              0.6666666666666666,
              "#ed7953"
             ],
             [
              0.7777777777777778,
              "#fb9f3a"
             ],
             [
              0.8888888888888888,
              "#fdca26"
             ],
             [
              1,
              "#f0f921"
             ]
            ],
            "type": "heatmapgl"
           }
          ],
          "histogram": [
           {
            "marker": {
             "pattern": {
              "fillmode": "overlay",
              "size": 10,
              "solidity": 0.2
             }
            },
            "type": "histogram"
           }
          ],
          "histogram2d": [
           {
            "colorbar": {
             "outlinewidth": 0,
             "ticks": ""
            },
            "colorscale": [
             [
              0,
              "#0d0887"
             ],
             [
              0.1111111111111111,
              "#46039f"
             ],
             [
              0.2222222222222222,
              "#7201a8"
             ],
             [
              0.3333333333333333,
              "#9c179e"
             ],
             [
              0.4444444444444444,
              "#bd3786"
             ],
             [
              0.5555555555555556,
              "#d8576b"
             ],
             [
              0.6666666666666666,
              "#ed7953"
             ],
             [
              0.7777777777777778,
              "#fb9f3a"
             ],
             [
              0.8888888888888888,
              "#fdca26"
             ],
             [
              1,
              "#f0f921"
             ]
            ],
            "type": "histogram2d"
           }
          ],
          "histogram2dcontour": [
           {
            "colorbar": {
             "outlinewidth": 0,
             "ticks": ""
            },
            "colorscale": [
             [
              0,
              "#0d0887"
             ],
             [
              0.1111111111111111,
              "#46039f"
             ],
             [
              0.2222222222222222,
              "#7201a8"
             ],
             [
              0.3333333333333333,
              "#9c179e"
             ],
             [
              0.4444444444444444,
              "#bd3786"
             ],
             [
              0.5555555555555556,
              "#d8576b"
             ],
             [
              0.6666666666666666,
              "#ed7953"
             ],
             [
              0.7777777777777778,
              "#fb9f3a"
             ],
             [
              0.8888888888888888,
              "#fdca26"
             ],
             [
              1,
              "#f0f921"
             ]
            ],
            "type": "histogram2dcontour"
           }
          ],
          "mesh3d": [
           {
            "colorbar": {
             "outlinewidth": 0,
             "ticks": ""
            },
            "type": "mesh3d"
           }
          ],
          "parcoords": [
           {
            "line": {
             "colorbar": {
              "outlinewidth": 0,
              "ticks": ""
             }
            },
            "type": "parcoords"
           }
          ],
          "pie": [
           {
            "automargin": true,
            "type": "pie"
           }
          ],
          "scatter": [
           {
            "fillpattern": {
             "fillmode": "overlay",
             "size": 10,
             "solidity": 0.2
            },
            "type": "scatter"
           }
          ],
          "scatter3d": [
           {
            "line": {
             "colorbar": {
              "outlinewidth": 0,
              "ticks": ""
             }
            },
            "marker": {
             "colorbar": {
              "outlinewidth": 0,
              "ticks": ""
             }
            },
            "type": "scatter3d"
           }
          ],
          "scattercarpet": [
           {
            "marker": {
             "colorbar": {
              "outlinewidth": 0,
              "ticks": ""
             }
            },
            "type": "scattercarpet"
           }
          ],
          "scattergeo": [
           {
            "marker": {
             "colorbar": {
              "outlinewidth": 0,
              "ticks": ""
             }
            },
            "type": "scattergeo"
           }
          ],
          "scattergl": [
           {
            "marker": {
             "colorbar": {
              "outlinewidth": 0,
              "ticks": ""
             }
            },
            "type": "scattergl"
           }
          ],
          "scattermapbox": [
           {
            "marker": {
             "colorbar": {
              "outlinewidth": 0,
              "ticks": ""
             }
            },
            "type": "scattermapbox"
           }
          ],
          "scatterpolar": [
           {
            "marker": {
             "colorbar": {
              "outlinewidth": 0,
              "ticks": ""
             }
            },
            "type": "scatterpolar"
           }
          ],
          "scatterpolargl": [
           {
            "marker": {
             "colorbar": {
              "outlinewidth": 0,
              "ticks": ""
             }
            },
            "type": "scatterpolargl"
           }
          ],
          "scatterternary": [
           {
            "marker": {
             "colorbar": {
              "outlinewidth": 0,
              "ticks": ""
             }
            },
            "type": "scatterternary"
           }
          ],
          "surface": [
           {
            "colorbar": {
             "outlinewidth": 0,
             "ticks": ""
            },
            "colorscale": [
             [
              0,
              "#0d0887"
             ],
             [
              0.1111111111111111,
              "#46039f"
             ],
             [
              0.2222222222222222,
              "#7201a8"
             ],
             [
              0.3333333333333333,
              "#9c179e"
             ],
             [
              0.4444444444444444,
              "#bd3786"
             ],
             [
              0.5555555555555556,
              "#d8576b"
             ],
             [
              0.6666666666666666,
              "#ed7953"
             ],
             [
              0.7777777777777778,
              "#fb9f3a"
             ],
             [
              0.8888888888888888,
              "#fdca26"
             ],
             [
              1,
              "#f0f921"
             ]
            ],
            "type": "surface"
           }
          ],
          "table": [
           {
            "cells": {
             "fill": {
              "color": "#EBF0F8"
             },
             "line": {
              "color": "white"
             }
            },
            "header": {
             "fill": {
              "color": "#C8D4E3"
             },
             "line": {
              "color": "white"
             }
            },
            "type": "table"
           }
          ]
         },
         "layout": {
          "annotationdefaults": {
           "arrowcolor": "#2a3f5f",
           "arrowhead": 0,
           "arrowwidth": 1
          },
          "autotypenumbers": "strict",
          "coloraxis": {
           "colorbar": {
            "outlinewidth": 0,
            "ticks": ""
           }
          },
          "colorscale": {
           "diverging": [
            [
             0,
             "#8e0152"
            ],
            [
             0.1,
             "#c51b7d"
            ],
            [
             0.2,
             "#de77ae"
            ],
            [
             0.3,
             "#f1b6da"
            ],
            [
             0.4,
             "#fde0ef"
            ],
            [
             0.5,
             "#f7f7f7"
            ],
            [
             0.6,
             "#e6f5d0"
            ],
            [
             0.7,
             "#b8e186"
            ],
            [
             0.8,
             "#7fbc41"
            ],
            [
             0.9,
             "#4d9221"
            ],
            [
             1,
             "#276419"
            ]
           ],
           "sequential": [
            [
             0,
             "#0d0887"
            ],
            [
             0.1111111111111111,
             "#46039f"
            ],
            [
             0.2222222222222222,
             "#7201a8"
            ],
            [
             0.3333333333333333,
             "#9c179e"
            ],
            [
             0.4444444444444444,
             "#bd3786"
            ],
            [
             0.5555555555555556,
             "#d8576b"
            ],
            [
             0.6666666666666666,
             "#ed7953"
            ],
            [
             0.7777777777777778,
             "#fb9f3a"
            ],
            [
             0.8888888888888888,
             "#fdca26"
            ],
            [
             1,
             "#f0f921"
            ]
           ],
           "sequentialminus": [
            [
             0,
             "#0d0887"
            ],
            [
             0.1111111111111111,
             "#46039f"
            ],
            [
             0.2222222222222222,
             "#7201a8"
            ],
            [
             0.3333333333333333,
             "#9c179e"
            ],
            [
             0.4444444444444444,
             "#bd3786"
            ],
            [
             0.5555555555555556,
             "#d8576b"
            ],
            [
             0.6666666666666666,
             "#ed7953"
            ],
            [
             0.7777777777777778,
             "#fb9f3a"
            ],
            [
             0.8888888888888888,
             "#fdca26"
            ],
            [
             1,
             "#f0f921"
            ]
           ]
          },
          "colorway": [
           "#636efa",
           "#EF553B",
           "#00cc96",
           "#ab63fa",
           "#FFA15A",
           "#19d3f3",
           "#FF6692",
           "#B6E880",
           "#FF97FF",
           "#FECB52"
          ],
          "font": {
           "color": "#2a3f5f"
          },
          "geo": {
           "bgcolor": "white",
           "lakecolor": "white",
           "landcolor": "#E5ECF6",
           "showlakes": true,
           "showland": true,
           "subunitcolor": "white"
          },
          "hoverlabel": {
           "align": "left"
          },
          "hovermode": "closest",
          "mapbox": {
           "style": "light"
          },
          "paper_bgcolor": "white",
          "plot_bgcolor": "#E5ECF6",
          "polar": {
           "angularaxis": {
            "gridcolor": "white",
            "linecolor": "white",
            "ticks": ""
           },
           "bgcolor": "#E5ECF6",
           "radialaxis": {
            "gridcolor": "white",
            "linecolor": "white",
            "ticks": ""
           }
          },
          "scene": {
           "xaxis": {
            "backgroundcolor": "#E5ECF6",
            "gridcolor": "white",
            "gridwidth": 2,
            "linecolor": "white",
            "showbackground": true,
            "ticks": "",
            "zerolinecolor": "white"
           },
           "yaxis": {
            "backgroundcolor": "#E5ECF6",
            "gridcolor": "white",
            "gridwidth": 2,
            "linecolor": "white",
            "showbackground": true,
            "ticks": "",
            "zerolinecolor": "white"
           },
           "zaxis": {
            "backgroundcolor": "#E5ECF6",
            "gridcolor": "white",
            "gridwidth": 2,
            "linecolor": "white",
            "showbackground": true,
            "ticks": "",
            "zerolinecolor": "white"
           }
          },
          "shapedefaults": {
           "line": {
            "color": "#2a3f5f"
           }
          },
          "ternary": {
           "aaxis": {
            "gridcolor": "white",
            "linecolor": "white",
            "ticks": ""
           },
           "baxis": {
            "gridcolor": "white",
            "linecolor": "white",
            "ticks": ""
           },
           "bgcolor": "#E5ECF6",
           "caxis": {
            "gridcolor": "white",
            "linecolor": "white",
            "ticks": ""
           }
          },
          "title": {
           "x": 0.05
          },
          "xaxis": {
           "automargin": true,
           "gridcolor": "white",
           "linecolor": "white",
           "ticks": "",
           "title": {
            "standoff": 15
           },
           "zerolinecolor": "white",
           "zerolinewidth": 2
          },
          "yaxis": {
           "automargin": true,
           "gridcolor": "white",
           "linecolor": "white",
           "ticks": "",
           "title": {
            "standoff": 15
           },
           "zerolinecolor": "white",
           "zerolinewidth": 2
          }
         }
        },
        "title": {
         "text": "Nombre de missions par hôtel"
        },
        "xaxis": {
         "categoryorder": "total descending",
         "title": {
          "text": "Hôtels"
         }
        },
        "yaxis": {
         "title": {
          "text": "Nombre de missions"
         }
        }
       }
      }
     },
     "metadata": {},
     "output_type": "display_data"
    }
   ],
   "source": [
    "import plotly.graph_objects as go\n",
    "\n",
    "missions_par_hotel = data[[\"Propriété_clean\",\"time_delta\"]].groupby(\"Propriété_clean\").count()\n",
    "heures_par_hotel = data[[\"Propriété_clean\",\"time_delta\"]].groupby(\"Propriété_clean\").sum()\n",
    "\n",
    "trace = go.Bar(name='Affected rentals', \n",
    "                x=missions_par_hotel.index, \n",
    "                y=missions_par_hotel.time_delta)\n",
    "\n",
    "fig = go.Figure(data=[trace])\n",
    "# Change the bar mode\n",
    "fig.update_layout(title=\"Nombre de missions par hôtel\",\n",
    "                  showlegend=False,\n",
    "                  xaxis={'categoryorder':'total descending'})\n",
    "\n",
    "\n",
    "fig.update_xaxes(title_text='Hôtels')\n",
    "fig.update_yaxes(title_text='Nombre de missions')\n",
    "\n",
    "\n",
    "fig.show()\n"
   ]
  },
  {
   "cell_type": "code",
   "execution_count": 63,
   "metadata": {},
   "outputs": [
    {
     "data": {
      "application/vnd.plotly.v1+json": {
       "config": {
        "plotlyServerURL": "https://plot.ly"
       },
       "data": [
        {
         "name": "Affected rentals",
         "type": "bar",
         "x": [
          "Alberte ",
          "Apogé",
          "Bleu de Grenelle",
          "Chouchou",
          "Courseine",
          "Crystal",
          "Drawing House",
          "Edouard VI",
          "French Theory",
          "Home Moderne",
          "Ibis Montparnasse",
          "Imprimerie",
          "La Belle Ville",
          "Le Grand Quartier",
          "Le Roch Hotel",
          "Les Deux Girafes",
          "MT solutions ",
          "Marceau",
          "Mathurin",
          "Milie Rose",
          "Mont Dore",
          "Monte Cristo",
          "Parisianer",
          "Parisis",
          "Peper and paper ",
          "Prélude",
          "Quinzerie hotel",
          "Select Hotel",
          "Touraine",
          "Tsuba",
          "Victoire et Germain",
          "Yllen Eiffel"
         ],
         "y": [
          2,
          8,
          2,
          5,
          49,
          65,
          63,
          36,
          22,
          0,
          428,
          168,
          20,
          151,
          1,
          41,
          1,
          129,
          1,
          97,
          1,
          43,
          29,
          12,
          0,
          61,
          8,
          134,
          54,
          82,
          33,
          76
         ]
        }
       ],
       "layout": {
        "showlegend": false,
        "template": {
         "data": {
          "bar": [
           {
            "error_x": {
             "color": "#2a3f5f"
            },
            "error_y": {
             "color": "#2a3f5f"
            },
            "marker": {
             "line": {
              "color": "#E5ECF6",
              "width": 0.5
             },
             "pattern": {
              "fillmode": "overlay",
              "size": 10,
              "solidity": 0.2
             }
            },
            "type": "bar"
           }
          ],
          "barpolar": [
           {
            "marker": {
             "line": {
              "color": "#E5ECF6",
              "width": 0.5
             },
             "pattern": {
              "fillmode": "overlay",
              "size": 10,
              "solidity": 0.2
             }
            },
            "type": "barpolar"
           }
          ],
          "carpet": [
           {
            "aaxis": {
             "endlinecolor": "#2a3f5f",
             "gridcolor": "white",
             "linecolor": "white",
             "minorgridcolor": "white",
             "startlinecolor": "#2a3f5f"
            },
            "baxis": {
             "endlinecolor": "#2a3f5f",
             "gridcolor": "white",
             "linecolor": "white",
             "minorgridcolor": "white",
             "startlinecolor": "#2a3f5f"
            },
            "type": "carpet"
           }
          ],
          "choropleth": [
           {
            "colorbar": {
             "outlinewidth": 0,
             "ticks": ""
            },
            "type": "choropleth"
           }
          ],
          "contour": [
           {
            "colorbar": {
             "outlinewidth": 0,
             "ticks": ""
            },
            "colorscale": [
             [
              0,
              "#0d0887"
             ],
             [
              0.1111111111111111,
              "#46039f"
             ],
             [
              0.2222222222222222,
              "#7201a8"
             ],
             [
              0.3333333333333333,
              "#9c179e"
             ],
             [
              0.4444444444444444,
              "#bd3786"
             ],
             [
              0.5555555555555556,
              "#d8576b"
             ],
             [
              0.6666666666666666,
              "#ed7953"
             ],
             [
              0.7777777777777778,
              "#fb9f3a"
             ],
             [
              0.8888888888888888,
              "#fdca26"
             ],
             [
              1,
              "#f0f921"
             ]
            ],
            "type": "contour"
           }
          ],
          "contourcarpet": [
           {
            "colorbar": {
             "outlinewidth": 0,
             "ticks": ""
            },
            "type": "contourcarpet"
           }
          ],
          "heatmap": [
           {
            "colorbar": {
             "outlinewidth": 0,
             "ticks": ""
            },
            "colorscale": [
             [
              0,
              "#0d0887"
             ],
             [
              0.1111111111111111,
              "#46039f"
             ],
             [
              0.2222222222222222,
              "#7201a8"
             ],
             [
              0.3333333333333333,
              "#9c179e"
             ],
             [
              0.4444444444444444,
              "#bd3786"
             ],
             [
              0.5555555555555556,
              "#d8576b"
             ],
             [
              0.6666666666666666,
              "#ed7953"
             ],
             [
              0.7777777777777778,
              "#fb9f3a"
             ],
             [
              0.8888888888888888,
              "#fdca26"
             ],
             [
              1,
              "#f0f921"
             ]
            ],
            "type": "heatmap"
           }
          ],
          "heatmapgl": [
           {
            "colorbar": {
             "outlinewidth": 0,
             "ticks": ""
            },
            "colorscale": [
             [
              0,
              "#0d0887"
             ],
             [
              0.1111111111111111,
              "#46039f"
             ],
             [
              0.2222222222222222,
              "#7201a8"
             ],
             [
              0.3333333333333333,
              "#9c179e"
             ],
             [
              0.4444444444444444,
              "#bd3786"
             ],
             [
              0.5555555555555556,
              "#d8576b"
             ],
             [
              0.6666666666666666,
              "#ed7953"
             ],
             [
              0.7777777777777778,
              "#fb9f3a"
             ],
             [
              0.8888888888888888,
              "#fdca26"
             ],
             [
              1,
              "#f0f921"
             ]
            ],
            "type": "heatmapgl"
           }
          ],
          "histogram": [
           {
            "marker": {
             "pattern": {
              "fillmode": "overlay",
              "size": 10,
              "solidity": 0.2
             }
            },
            "type": "histogram"
           }
          ],
          "histogram2d": [
           {
            "colorbar": {
             "outlinewidth": 0,
             "ticks": ""
            },
            "colorscale": [
             [
              0,
              "#0d0887"
             ],
             [
              0.1111111111111111,
              "#46039f"
             ],
             [
              0.2222222222222222,
              "#7201a8"
             ],
             [
              0.3333333333333333,
              "#9c179e"
             ],
             [
              0.4444444444444444,
              "#bd3786"
             ],
             [
              0.5555555555555556,
              "#d8576b"
             ],
             [
              0.6666666666666666,
              "#ed7953"
             ],
             [
              0.7777777777777778,
              "#fb9f3a"
             ],
             [
              0.8888888888888888,
              "#fdca26"
             ],
             [
              1,
              "#f0f921"
             ]
            ],
            "type": "histogram2d"
           }
          ],
          "histogram2dcontour": [
           {
            "colorbar": {
             "outlinewidth": 0,
             "ticks": ""
            },
            "colorscale": [
             [
              0,
              "#0d0887"
             ],
             [
              0.1111111111111111,
              "#46039f"
             ],
             [
              0.2222222222222222,
              "#7201a8"
             ],
             [
              0.3333333333333333,
              "#9c179e"
             ],
             [
              0.4444444444444444,
              "#bd3786"
             ],
             [
              0.5555555555555556,
              "#d8576b"
             ],
             [
              0.6666666666666666,
              "#ed7953"
             ],
             [
              0.7777777777777778,
              "#fb9f3a"
             ],
             [
              0.8888888888888888,
              "#fdca26"
             ],
             [
              1,
              "#f0f921"
             ]
            ],
            "type": "histogram2dcontour"
           }
          ],
          "mesh3d": [
           {
            "colorbar": {
             "outlinewidth": 0,
             "ticks": ""
            },
            "type": "mesh3d"
           }
          ],
          "parcoords": [
           {
            "line": {
             "colorbar": {
              "outlinewidth": 0,
              "ticks": ""
             }
            },
            "type": "parcoords"
           }
          ],
          "pie": [
           {
            "automargin": true,
            "type": "pie"
           }
          ],
          "scatter": [
           {
            "fillpattern": {
             "fillmode": "overlay",
             "size": 10,
             "solidity": 0.2
            },
            "type": "scatter"
           }
          ],
          "scatter3d": [
           {
            "line": {
             "colorbar": {
              "outlinewidth": 0,
              "ticks": ""
             }
            },
            "marker": {
             "colorbar": {
              "outlinewidth": 0,
              "ticks": ""
             }
            },
            "type": "scatter3d"
           }
          ],
          "scattercarpet": [
           {
            "marker": {
             "colorbar": {
              "outlinewidth": 0,
              "ticks": ""
             }
            },
            "type": "scattercarpet"
           }
          ],
          "scattergeo": [
           {
            "marker": {
             "colorbar": {
              "outlinewidth": 0,
              "ticks": ""
             }
            },
            "type": "scattergeo"
           }
          ],
          "scattergl": [
           {
            "marker": {
             "colorbar": {
              "outlinewidth": 0,
              "ticks": ""
             }
            },
            "type": "scattergl"
           }
          ],
          "scattermapbox": [
           {
            "marker": {
             "colorbar": {
              "outlinewidth": 0,
              "ticks": ""
             }
            },
            "type": "scattermapbox"
           }
          ],
          "scatterpolar": [
           {
            "marker": {
             "colorbar": {
              "outlinewidth": 0,
              "ticks": ""
             }
            },
            "type": "scatterpolar"
           }
          ],
          "scatterpolargl": [
           {
            "marker": {
             "colorbar": {
              "outlinewidth": 0,
              "ticks": ""
             }
            },
            "type": "scatterpolargl"
           }
          ],
          "scatterternary": [
           {
            "marker": {
             "colorbar": {
              "outlinewidth": 0,
              "ticks": ""
             }
            },
            "type": "scatterternary"
           }
          ],
          "surface": [
           {
            "colorbar": {
             "outlinewidth": 0,
             "ticks": ""
            },
            "colorscale": [
             [
              0,
              "#0d0887"
             ],
             [
              0.1111111111111111,
              "#46039f"
             ],
             [
              0.2222222222222222,
              "#7201a8"
             ],
             [
              0.3333333333333333,
              "#9c179e"
             ],
             [
              0.4444444444444444,
              "#bd3786"
             ],
             [
              0.5555555555555556,
              "#d8576b"
             ],
             [
              0.6666666666666666,
              "#ed7953"
             ],
             [
              0.7777777777777778,
              "#fb9f3a"
             ],
             [
              0.8888888888888888,
              "#fdca26"
             ],
             [
              1,
              "#f0f921"
             ]
            ],
            "type": "surface"
           }
          ],
          "table": [
           {
            "cells": {
             "fill": {
              "color": "#EBF0F8"
             },
             "line": {
              "color": "white"
             }
            },
            "header": {
             "fill": {
              "color": "#C8D4E3"
             },
             "line": {
              "color": "white"
             }
            },
            "type": "table"
           }
          ]
         },
         "layout": {
          "annotationdefaults": {
           "arrowcolor": "#2a3f5f",
           "arrowhead": 0,
           "arrowwidth": 1
          },
          "autotypenumbers": "strict",
          "coloraxis": {
           "colorbar": {
            "outlinewidth": 0,
            "ticks": ""
           }
          },
          "colorscale": {
           "diverging": [
            [
             0,
             "#8e0152"
            ],
            [
             0.1,
             "#c51b7d"
            ],
            [
             0.2,
             "#de77ae"
            ],
            [
             0.3,
             "#f1b6da"
            ],
            [
             0.4,
             "#fde0ef"
            ],
            [
             0.5,
             "#f7f7f7"
            ],
            [
             0.6,
             "#e6f5d0"
            ],
            [
             0.7,
             "#b8e186"
            ],
            [
             0.8,
             "#7fbc41"
            ],
            [
             0.9,
             "#4d9221"
            ],
            [
             1,
             "#276419"
            ]
           ],
           "sequential": [
            [
             0,
             "#0d0887"
            ],
            [
             0.1111111111111111,
             "#46039f"
            ],
            [
             0.2222222222222222,
             "#7201a8"
            ],
            [
             0.3333333333333333,
             "#9c179e"
            ],
            [
             0.4444444444444444,
             "#bd3786"
            ],
            [
             0.5555555555555556,
             "#d8576b"
            ],
            [
             0.6666666666666666,
             "#ed7953"
            ],
            [
             0.7777777777777778,
             "#fb9f3a"
            ],
            [
             0.8888888888888888,
             "#fdca26"
            ],
            [
             1,
             "#f0f921"
            ]
           ],
           "sequentialminus": [
            [
             0,
             "#0d0887"
            ],
            [
             0.1111111111111111,
             "#46039f"
            ],
            [
             0.2222222222222222,
             "#7201a8"
            ],
            [
             0.3333333333333333,
             "#9c179e"
            ],
            [
             0.4444444444444444,
             "#bd3786"
            ],
            [
             0.5555555555555556,
             "#d8576b"
            ],
            [
             0.6666666666666666,
             "#ed7953"
            ],
            [
             0.7777777777777778,
             "#fb9f3a"
            ],
            [
             0.8888888888888888,
             "#fdca26"
            ],
            [
             1,
             "#f0f921"
            ]
           ]
          },
          "colorway": [
           "#636efa",
           "#EF553B",
           "#00cc96",
           "#ab63fa",
           "#FFA15A",
           "#19d3f3",
           "#FF6692",
           "#B6E880",
           "#FF97FF",
           "#FECB52"
          ],
          "font": {
           "color": "#2a3f5f"
          },
          "geo": {
           "bgcolor": "white",
           "lakecolor": "white",
           "landcolor": "#E5ECF6",
           "showlakes": true,
           "showland": true,
           "subunitcolor": "white"
          },
          "hoverlabel": {
           "align": "left"
          },
          "hovermode": "closest",
          "mapbox": {
           "style": "light"
          },
          "paper_bgcolor": "white",
          "plot_bgcolor": "#E5ECF6",
          "polar": {
           "angularaxis": {
            "gridcolor": "white",
            "linecolor": "white",
            "ticks": ""
           },
           "bgcolor": "#E5ECF6",
           "radialaxis": {
            "gridcolor": "white",
            "linecolor": "white",
            "ticks": ""
           }
          },
          "scene": {
           "xaxis": {
            "backgroundcolor": "#E5ECF6",
            "gridcolor": "white",
            "gridwidth": 2,
            "linecolor": "white",
            "showbackground": true,
            "ticks": "",
            "zerolinecolor": "white"
           },
           "yaxis": {
            "backgroundcolor": "#E5ECF6",
            "gridcolor": "white",
            "gridwidth": 2,
            "linecolor": "white",
            "showbackground": true,
            "ticks": "",
            "zerolinecolor": "white"
           },
           "zaxis": {
            "backgroundcolor": "#E5ECF6",
            "gridcolor": "white",
            "gridwidth": 2,
            "linecolor": "white",
            "showbackground": true,
            "ticks": "",
            "zerolinecolor": "white"
           }
          },
          "shapedefaults": {
           "line": {
            "color": "#2a3f5f"
           }
          },
          "ternary": {
           "aaxis": {
            "gridcolor": "white",
            "linecolor": "white",
            "ticks": ""
           },
           "baxis": {
            "gridcolor": "white",
            "linecolor": "white",
            "ticks": ""
           },
           "bgcolor": "#E5ECF6",
           "caxis": {
            "gridcolor": "white",
            "linecolor": "white",
            "ticks": ""
           }
          },
          "title": {
           "x": 0.05
          },
          "xaxis": {
           "automargin": true,
           "gridcolor": "white",
           "linecolor": "white",
           "ticks": "",
           "title": {
            "standoff": 15
           },
           "zerolinecolor": "white",
           "zerolinewidth": 2
          },
          "yaxis": {
           "automargin": true,
           "gridcolor": "white",
           "linecolor": "white",
           "ticks": "",
           "title": {
            "standoff": 15
           },
           "zerolinecolor": "white",
           "zerolinewidth": 2
          }
         }
        },
        "title": {
         "text": "Nombre de missions par hôtel"
        },
        "xaxis": {
         "categoryorder": "total descending",
         "title": {
          "text": "Hôtels"
         }
        },
        "yaxis": {
         "title": {
          "text": "Nombre de missions"
         }
        }
       }
      }
     },
     "metadata": {},
     "output_type": "display_data"
    }
   ],
   "source": [
    "trace = go.Bar(name='Affected rentals', \n",
    "                x=heures_par_hotel.index, \n",
    "                y=heures_par_hotel.time_delta / 8.64e+13) ## nanoseconds to days\n",
    "\n",
    "fig = go.Figure(data=[trace])\n",
    "# Change the bar mode\n",
    "fig.update_layout(title=\"Nombre de missions par hôtel\",\n",
    "                  showlegend=False,\n",
    "                  xaxis={'categoryorder':'total descending'})\n",
    "\n",
    "\n",
    "fig.update_xaxes(title_text='Hôtels')\n",
    "fig.update_yaxes(title_text='Nombre de missions')\n",
    "\n",
    "\n",
    "fig.show()\n"
   ]
  },
  {
   "cell_type": "code",
   "execution_count": 64,
   "metadata": {},
   "outputs": [
    {
     "data": {
      "text/plain": [
       "0       01-2024\n",
       "1       01-2024\n",
       "2       01-2024\n",
       "3       01-2024\n",
       "4       01-2024\n",
       "         ...   \n",
       "4765    12-2021\n",
       "4766    12-2021\n",
       "4767    12-2021\n",
       "4768    12-2021\n",
       "4769    11-2021\n",
       "Name: periode_debut, Length: 4760, dtype: object"
      ]
     },
     "execution_count": 64,
     "metadata": {},
     "output_type": "execute_result"
    }
   ],
   "source": [
    "data[\"periode_debut\"] = data[\"date_debut\"].dt.strftime('%m-%Y')\n",
    "data[\"periode_debut\"]"
   ]
  },
  {
   "cell_type": "code",
   "execution_count": 65,
   "metadata": {},
   "outputs": [
    {
     "data": {
      "application/vnd.plotly.v1+json": {
       "config": {
        "plotlyServerURL": "https://plot.ly"
       },
       "data": [
        {
         "marker": {
          "line": {
           "width": 0
          }
         },
         "type": "bar",
         "x": [
          "01-2024",
          "01-2024",
          "01-2024",
          "01-2024",
          "01-2024",
          "01-2024",
          "01-2024",
          "01-2024",
          "01-2024",
          "01-2024",
          "12-2023",
          "12-2023",
          "12-2023",
          "12-2023",
          "12-2023",
          "12-2023",
          "12-2023",
          "12-2023",
          "12-2023",
          "12-2023",
          "12-2023",
          "12-2023",
          "12-2023",
          "12-2023",
          "12-2023",
          "12-2023",
          "12-2023",
          "12-2023",
          "12-2023",
          "12-2023",
          "12-2023",
          "12-2023",
          "12-2023",
          "12-2023",
          "12-2023",
          "12-2023",
          "12-2023",
          "12-2023",
          "12-2023",
          "12-2023",
          "12-2023",
          "12-2023",
          "12-2023",
          "12-2023",
          "12-2023",
          "12-2023",
          "12-2023",
          "12-2023",
          "12-2023",
          "12-2023",
          "12-2023",
          "12-2023",
          "12-2023",
          "12-2023",
          "12-2023",
          "12-2023",
          "12-2023",
          "12-2023",
          "12-2023",
          "12-2023",
          "12-2023",
          "12-2023",
          "12-2023",
          "12-2023",
          "12-2023",
          "12-2023",
          "12-2023",
          "12-2023",
          "12-2023",
          "12-2023",
          "12-2023",
          "12-2023",
          "12-2023",
          "12-2023",
          "12-2023",
          "12-2023",
          "12-2023",
          "12-2023",
          "12-2023",
          "12-2023",
          "12-2023",
          "12-2023",
          "12-2023",
          "12-2023",
          "12-2023",
          "12-2023",
          "12-2023",
          "12-2023",
          "12-2023",
          "12-2023",
          "12-2023",
          "12-2023",
          "12-2023",
          "12-2023",
          "12-2023",
          "12-2023",
          "12-2023",
          "12-2023",
          "12-2023",
          "12-2023",
          "12-2023",
          "12-2023",
          "12-2023",
          "12-2023",
          "12-2023",
          "12-2023",
          "12-2023",
          "12-2023",
          "12-2023",
          "12-2023",
          "12-2023",
          "12-2023",
          "12-2023",
          "12-2023",
          "12-2023",
          "12-2023",
          "12-2023",
          "12-2023",
          "12-2023",
          "12-2023",
          "12-2023",
          "12-2023",
          "11-2023",
          "11-2023",
          "11-2023",
          "11-2023",
          "11-2023",
          "11-2023",
          "11-2023",
          "11-2023",
          "11-2023",
          "11-2023",
          "11-2023",
          "11-2023",
          "11-2023",
          "11-2023",
          "11-2023",
          "11-2023",
          "11-2023",
          "11-2023",
          "11-2023",
          "11-2023",
          "11-2023",
          "11-2023",
          "11-2023",
          "11-2023",
          "11-2023",
          "11-2023",
          "11-2023",
          "11-2023",
          "11-2023",
          "11-2023",
          "11-2023",
          "11-2023",
          "11-2023",
          "11-2023",
          "11-2023",
          "11-2023",
          "11-2023",
          "11-2023",
          "11-2023",
          "11-2023",
          "11-2023",
          "11-2023",
          "11-2023",
          "11-2023",
          "11-2023",
          "11-2023",
          "11-2023",
          "11-2023",
          "11-2023",
          "11-2023",
          "11-2023",
          "11-2023",
          "11-2023",
          "11-2023",
          "11-2023",
          "11-2023",
          "11-2023",
          "11-2023",
          "11-2023",
          "11-2023",
          "11-2023",
          "11-2023",
          "11-2023",
          "11-2023",
          "11-2023",
          "11-2023",
          "11-2023",
          "11-2023",
          "11-2023",
          "11-2023",
          "11-2023",
          "11-2023",
          "11-2023",
          "11-2023",
          "11-2023",
          "11-2023",
          "11-2023",
          "11-2023",
          "11-2023",
          "11-2023",
          "11-2023",
          "11-2023",
          "11-2023",
          "11-2023",
          "11-2023",
          "11-2023",
          "11-2023",
          "11-2023",
          "11-2023",
          "11-2023",
          "11-2023",
          "11-2023",
          "11-2023",
          "11-2023",
          "11-2023",
          "11-2023",
          "11-2023",
          "11-2023",
          "11-2023",
          "11-2023",
          "11-2023",
          "11-2023",
          "11-2023",
          "11-2023",
          "11-2023",
          "11-2023",
          "11-2023",
          "11-2023",
          "11-2023",
          "11-2023",
          "11-2023",
          "11-2023",
          "11-2023",
          "11-2023",
          "11-2023",
          "11-2023",
          "11-2023",
          "11-2023",
          "11-2023",
          "11-2023",
          "11-2023",
          "11-2023",
          "11-2023",
          "11-2023",
          "11-2023",
          "11-2023",
          "11-2023",
          "11-2023",
          "11-2023",
          "11-2023",
          "11-2023",
          "11-2023",
          "11-2023",
          "11-2023",
          "11-2023",
          "11-2023",
          "11-2023",
          "11-2023",
          "11-2023",
          "11-2023",
          "11-2023",
          "11-2023",
          "11-2023",
          "11-2023",
          "11-2023",
          "11-2023",
          "11-2023",
          "11-2023",
          "11-2023",
          "11-2023",
          "11-2023",
          "11-2023",
          "11-2023",
          "11-2023",
          "11-2023",
          "11-2023",
          "11-2023",
          "11-2023",
          "11-2023",
          "11-2023",
          "11-2023",
          "11-2023",
          "11-2023",
          "11-2023",
          "11-2023",
          "11-2023",
          "11-2023",
          "11-2023",
          "11-2023",
          "11-2023",
          "11-2023",
          "11-2023",
          "11-2023",
          "11-2023",
          "11-2023",
          "11-2023",
          "11-2023",
          "11-2023",
          "11-2023",
          "11-2023",
          "11-2023",
          "11-2023",
          "11-2023",
          "11-2023",
          "11-2023",
          "11-2023",
          "11-2023",
          "11-2023",
          "11-2023",
          "11-2023",
          "11-2023",
          "11-2023",
          "11-2023",
          "11-2023",
          "11-2023",
          "11-2023",
          "11-2023",
          "11-2023",
          "11-2023",
          "11-2023",
          "11-2023",
          "11-2023",
          "11-2023",
          "11-2023",
          "11-2023",
          "11-2023",
          "11-2023",
          "11-2023",
          "11-2023",
          "11-2023",
          "11-2023",
          "11-2023",
          "11-2023",
          "11-2023",
          "11-2023",
          "10-2023",
          "10-2023",
          "10-2023",
          "10-2023",
          "10-2023",
          "10-2023",
          "10-2023",
          "10-2023",
          "10-2023",
          "10-2023",
          "10-2023",
          "10-2023",
          "10-2023",
          "10-2023",
          "10-2023",
          "10-2023",
          "10-2023",
          "10-2023",
          "10-2023",
          "10-2023",
          "10-2023",
          "10-2023",
          "10-2023",
          "10-2023",
          "10-2023",
          "10-2023",
          "10-2023",
          "10-2023",
          "10-2023",
          "10-2023",
          "10-2023",
          "10-2023",
          "10-2023",
          "10-2023",
          "10-2023",
          "10-2023",
          "10-2023",
          "10-2023",
          "10-2023",
          "10-2023",
          "10-2023",
          "10-2023",
          "10-2023",
          "10-2023",
          "10-2023",
          "10-2023",
          "10-2023",
          "10-2023",
          "10-2023",
          "10-2023",
          "10-2023",
          "10-2023",
          "10-2023",
          "10-2023",
          "10-2023",
          "10-2023",
          "10-2023",
          "10-2023",
          "10-2023",
          "10-2023",
          "10-2023",
          "10-2023",
          "10-2023",
          "10-2023",
          "10-2023",
          "10-2023",
          "10-2023",
          "10-2023",
          "10-2023",
          "10-2023",
          "10-2023",
          "10-2023",
          "10-2023",
          "10-2023",
          "10-2023",
          "10-2023",
          "10-2023",
          "10-2023",
          "10-2023",
          "10-2023",
          "10-2023",
          "10-2023",
          "10-2023",
          "10-2023",
          "10-2023",
          "10-2023",
          "10-2023",
          "10-2023",
          "10-2023",
          "10-2023",
          "10-2023",
          "10-2023",
          "10-2023",
          "10-2023",
          "10-2023",
          "10-2023",
          "10-2023",
          "10-2023",
          "10-2023",
          "10-2023",
          "10-2023",
          "10-2023",
          "10-2023",
          "10-2023",
          "10-2023",
          "10-2023",
          "10-2023",
          "10-2023",
          "10-2023",
          "10-2023",
          "10-2023",
          "10-2023",
          "10-2023",
          "10-2023",
          "10-2023",
          "10-2023",
          "10-2023",
          "10-2023",
          "10-2023",
          "10-2023",
          "10-2023",
          "10-2023",
          "10-2023",
          "10-2023",
          "10-2023",
          "10-2023",
          "10-2023",
          "10-2023",
          "10-2023",
          "10-2023",
          "10-2023",
          "10-2023",
          "10-2023",
          "10-2023",
          "10-2023",
          "10-2023",
          "10-2023",
          "10-2023",
          "10-2023",
          "10-2023",
          "10-2023",
          "10-2023",
          "10-2023",
          "10-2023",
          "10-2023",
          "10-2023",
          "10-2023",
          "10-2023",
          "10-2023",
          "10-2023",
          "10-2023",
          "10-2023",
          "10-2023",
          "10-2023",
          "10-2023",
          "10-2023",
          "10-2023",
          "10-2023",
          "10-2023",
          "10-2023",
          "10-2023",
          "10-2023",
          "10-2023",
          "10-2023",
          "10-2023",
          "10-2023",
          "10-2023",
          "10-2023",
          "10-2023",
          "10-2023",
          "10-2023",
          "10-2023",
          "10-2023",
          "10-2023",
          "10-2023",
          "10-2023",
          "10-2023",
          "10-2023",
          "10-2023",
          "10-2023",
          "10-2023",
          "10-2023",
          "10-2023",
          "10-2023",
          "10-2023",
          "10-2023",
          "10-2023",
          "10-2023",
          "10-2023",
          "10-2023",
          "10-2023",
          "10-2023",
          "10-2023",
          "10-2023",
          "10-2023",
          "10-2023",
          "10-2023",
          "10-2023",
          "10-2023",
          "10-2023",
          "10-2023",
          "10-2023",
          "10-2023",
          "10-2023",
          "10-2023",
          "10-2023",
          "10-2023",
          "10-2023",
          "10-2023",
          "10-2023",
          "10-2023",
          "10-2023",
          "10-2023",
          "10-2023",
          "10-2023",
          "10-2023",
          "10-2023",
          "10-2023",
          "10-2023",
          "10-2023",
          "10-2023",
          "10-2023",
          "10-2023",
          "10-2023",
          "10-2023",
          "10-2023",
          "10-2023",
          "10-2023",
          "10-2023",
          "10-2023",
          "10-2023",
          "10-2023",
          "10-2023",
          "10-2023",
          "10-2023",
          "10-2023",
          "10-2023",
          "10-2023",
          "10-2023",
          "10-2023",
          "10-2023",
          "10-2023",
          "10-2023",
          "10-2023",
          "10-2023",
          "10-2023",
          "10-2023",
          "10-2023",
          "10-2023",
          "10-2023",
          "10-2023",
          "10-2023",
          "10-2023",
          "10-2023",
          "10-2023",
          "09-2023",
          "09-2023",
          "09-2023",
          "09-2023",
          "09-2023",
          "09-2023",
          "09-2023",
          "09-2023",
          "09-2023",
          "09-2023",
          "09-2023",
          "09-2023",
          "09-2023",
          "09-2023",
          "09-2023",
          "09-2023",
          "09-2023",
          "09-2023",
          "09-2023",
          "09-2023",
          "09-2023",
          "09-2023",
          "09-2023",
          "09-2023",
          "09-2023",
          "09-2023",
          "09-2023",
          "09-2023",
          "09-2023",
          "09-2023",
          "09-2023",
          "09-2023",
          "09-2023",
          "09-2023",
          "09-2023",
          "09-2023",
          "09-2023",
          "09-2023",
          "09-2023",
          "09-2023",
          "09-2023",
          "09-2023",
          "09-2023",
          "09-2023",
          "09-2023",
          "09-2023",
          "09-2023",
          "09-2023",
          "09-2023",
          "09-2023",
          "09-2023",
          "09-2023",
          "09-2023",
          "09-2023",
          "09-2023",
          "09-2023",
          "09-2023",
          "09-2023",
          "09-2023",
          "09-2023",
          "09-2023",
          "09-2023",
          "09-2023",
          "09-2023",
          "09-2023",
          "09-2023",
          "09-2023",
          "09-2023",
          "09-2023",
          "09-2023",
          "09-2023",
          "09-2023",
          "09-2023",
          "09-2023",
          "09-2023",
          "09-2023",
          "09-2023",
          "09-2023",
          "09-2023",
          "09-2023",
          "09-2023",
          "09-2023",
          "09-2023",
          "09-2023",
          "09-2023",
          "09-2023",
          "09-2023",
          "09-2023",
          "09-2023",
          "09-2023",
          "09-2023",
          "09-2023",
          "09-2023",
          "09-2023",
          "09-2023",
          "09-2023",
          "09-2023",
          "09-2023",
          "09-2023",
          "09-2023",
          "09-2023",
          "09-2023",
          "09-2023",
          "09-2023",
          "09-2023",
          "09-2023",
          "09-2023",
          "09-2023",
          "09-2023",
          "09-2023",
          "09-2023",
          "09-2023",
          "09-2023",
          "09-2023",
          "09-2023",
          "09-2023",
          "09-2023",
          "09-2023",
          "09-2023",
          "09-2023",
          "09-2023",
          "09-2023",
          "09-2023",
          "09-2023",
          "09-2023",
          "09-2023",
          "09-2023",
          "09-2023",
          "09-2023",
          "09-2023",
          "09-2023",
          "09-2023",
          "09-2023",
          "09-2023",
          "09-2023",
          "09-2023",
          "09-2023",
          "09-2023",
          "09-2023",
          "09-2023",
          "09-2023",
          "09-2023",
          "09-2023",
          "09-2023",
          "09-2023",
          "09-2023",
          "09-2023",
          "09-2023",
          "09-2023",
          "09-2023",
          "09-2023",
          "09-2023",
          "09-2023",
          "09-2023",
          "09-2023",
          "09-2023",
          "09-2023",
          "09-2023",
          "09-2023",
          "09-2023",
          "09-2023",
          "09-2023",
          "09-2023",
          "09-2023",
          "09-2023",
          "09-2023",
          "09-2023",
          "09-2023",
          "09-2023",
          "09-2023",
          "09-2023",
          "09-2023",
          "09-2023",
          "09-2023",
          "09-2023",
          "09-2023",
          "09-2023",
          "09-2023",
          "09-2023",
          "09-2023",
          "09-2023",
          "09-2023",
          "09-2023",
          "09-2023",
          "09-2023",
          "09-2023",
          "09-2023",
          "09-2023",
          "09-2023",
          "09-2023",
          "09-2023",
          "09-2023",
          "09-2023",
          "09-2023",
          "09-2023",
          "09-2023",
          "09-2023",
          "09-2023",
          "09-2023",
          "09-2023",
          "09-2023",
          "09-2023",
          "09-2023",
          "09-2023",
          "09-2023",
          "09-2023",
          "09-2023",
          "09-2023",
          "09-2023",
          "09-2023",
          "09-2023",
          "09-2023",
          "09-2023",
          "09-2023",
          "09-2023",
          "09-2023",
          "09-2023",
          "09-2023",
          "09-2023",
          "09-2023",
          "09-2023",
          "09-2023",
          "09-2023",
          "09-2023",
          "09-2023",
          "09-2023",
          "09-2023",
          "09-2023",
          "09-2023",
          "09-2023",
          "09-2023",
          "09-2023",
          "09-2023",
          "09-2023",
          "09-2023",
          "09-2023",
          "09-2023",
          "09-2023",
          "09-2023",
          "09-2023",
          "09-2023",
          "09-2023",
          "09-2023",
          "09-2023",
          "09-2023",
          "09-2023",
          "09-2023",
          "09-2023",
          "09-2023",
          "09-2023",
          "09-2023",
          "09-2023",
          "09-2023",
          "09-2023",
          "09-2023",
          "09-2023",
          "09-2023",
          "09-2023",
          "09-2023",
          "09-2023",
          "09-2023",
          "09-2023",
          "09-2023",
          "09-2023",
          "09-2023",
          "09-2023",
          "09-2023",
          "09-2023",
          "09-2023",
          "09-2023",
          "09-2023",
          "09-2023",
          "09-2023",
          "09-2023",
          "09-2023",
          "09-2023",
          "09-2023",
          "09-2023",
          "09-2023",
          "09-2023",
          "09-2023",
          "09-2023",
          "09-2023",
          "09-2023",
          "09-2023",
          "09-2023",
          "09-2023",
          "09-2023",
          "09-2023",
          "09-2023",
          "09-2023",
          "09-2023",
          "08-2023",
          "08-2023",
          "08-2023",
          "08-2023",
          "08-2023",
          "08-2023",
          "08-2023",
          "08-2023",
          "08-2023",
          "08-2023",
          "08-2023",
          "08-2023",
          "08-2023",
          "08-2023",
          "08-2023",
          "08-2023",
          "08-2023",
          "08-2023",
          "08-2023",
          "08-2023",
          "08-2023",
          "08-2023",
          "08-2023",
          "08-2023",
          "08-2023",
          "08-2023",
          "08-2023",
          "08-2023",
          "08-2023",
          "08-2023",
          "08-2023",
          "08-2023",
          "08-2023",
          "08-2023",
          "08-2023",
          "08-2023",
          "08-2023",
          "08-2023",
          "08-2023",
          "08-2023",
          "08-2023",
          "08-2023",
          "08-2023",
          "08-2023",
          "08-2023",
          "08-2023",
          "08-2023",
          "08-2023",
          "08-2023",
          "08-2023",
          "08-2023",
          "08-2023",
          "08-2023",
          "08-2023",
          "08-2023",
          "08-2023",
          "08-2023",
          "08-2023",
          "08-2023",
          "08-2023",
          "08-2023",
          "08-2023",
          "08-2023",
          "08-2023",
          "08-2023",
          "08-2023",
          "08-2023",
          "08-2023",
          "08-2023",
          "08-2023",
          "08-2023",
          "08-2023",
          "08-2023",
          "08-2023",
          "08-2023",
          "08-2023",
          "08-2023",
          "08-2023",
          "08-2023",
          "08-2023",
          "08-2023",
          "08-2023",
          "08-2023",
          "08-2023",
          "08-2023",
          "08-2023",
          "08-2023",
          "08-2023",
          "08-2023",
          "08-2023",
          "08-2023",
          "08-2023",
          "08-2023",
          "08-2023",
          "08-2023",
          "08-2023",
          "08-2023",
          "08-2023",
          "08-2023",
          "08-2023",
          "08-2023",
          "08-2023",
          "08-2023",
          "08-2023",
          "08-2023",
          "08-2023",
          "08-2023",
          "08-2023",
          "08-2023",
          "08-2023",
          "08-2023",
          "08-2023",
          "08-2023",
          "08-2023",
          "08-2023",
          "08-2023",
          "08-2023",
          "08-2023",
          "08-2023",
          "08-2023",
          "08-2023",
          "08-2023",
          "08-2023",
          "08-2023",
          "08-2023",
          "08-2023",
          "08-2023",
          "08-2023",
          "08-2023",
          "08-2023",
          "08-2023",
          "08-2023",
          "08-2023",
          "08-2023",
          "08-2023",
          "08-2023",
          "08-2023",
          "08-2023",
          "08-2023",
          "08-2023",
          "08-2023",
          "08-2023",
          "08-2023",
          "08-2023",
          "08-2023",
          "08-2023",
          "08-2023",
          "08-2023",
          "08-2023",
          "08-2023",
          "08-2023",
          "08-2023",
          "08-2023",
          "08-2023",
          "08-2023",
          "08-2023",
          "08-2023",
          "08-2023",
          "08-2023",
          "08-2023",
          "08-2023",
          "08-2023",
          "08-2023",
          "08-2023",
          "08-2023",
          "08-2023",
          "08-2023",
          "08-2023",
          "08-2023",
          "08-2023",
          "08-2023",
          "08-2023",
          "08-2023",
          "08-2023",
          "08-2023",
          "08-2023",
          "08-2023",
          "08-2023",
          "08-2023",
          "08-2023",
          "08-2023",
          "08-2023",
          "08-2023",
          "08-2023",
          "08-2023",
          "08-2023",
          "08-2023",
          "08-2023",
          "08-2023",
          "08-2023",
          "08-2023",
          "08-2023",
          "08-2023",
          "08-2023",
          "08-2023",
          "08-2023",
          "08-2023",
          "08-2023",
          "08-2023",
          "08-2023",
          "08-2023",
          "08-2023",
          "08-2023",
          "08-2023",
          "08-2023",
          "08-2023",
          "08-2023",
          "08-2023",
          "08-2023",
          "08-2023",
          "08-2023",
          "08-2023",
          "08-2023",
          "08-2023",
          "08-2023",
          "08-2023",
          "08-2023",
          "08-2023",
          "08-2023",
          "08-2023",
          "08-2023",
          "08-2023",
          "08-2023",
          "08-2023",
          "08-2023",
          "08-2023",
          "08-2023",
          "08-2023",
          "08-2023",
          "08-2023",
          "08-2023",
          "08-2023",
          "08-2023",
          "08-2023",
          "08-2023",
          "08-2023",
          "08-2023",
          "08-2023",
          "08-2023",
          "08-2023",
          "08-2023",
          "08-2023",
          "08-2023",
          "08-2023",
          "08-2023",
          "08-2023",
          "08-2023",
          "08-2023",
          "08-2023",
          "08-2023",
          "08-2023",
          "08-2023",
          "08-2023",
          "08-2023",
          "08-2023",
          "08-2023",
          "08-2023",
          "08-2023",
          "08-2023",
          "08-2023",
          "08-2023",
          "08-2023",
          "08-2023",
          "08-2023",
          "08-2023",
          "08-2023",
          "08-2023",
          "08-2023",
          "08-2023",
          "08-2023",
          "08-2023",
          "08-2023",
          "08-2023",
          "08-2023",
          "08-2023",
          "08-2023",
          "08-2023",
          "08-2023",
          "08-2023",
          "08-2023",
          "08-2023",
          "08-2023",
          "08-2023",
          "08-2023",
          "08-2023",
          "08-2023",
          "08-2023",
          "08-2023",
          "08-2023",
          "08-2023",
          "08-2023",
          "08-2023",
          "08-2023",
          "08-2023",
          "08-2023",
          "08-2023",
          "08-2023",
          "08-2023",
          "08-2023",
          "08-2023",
          "08-2023",
          "08-2023",
          "08-2023",
          "08-2023",
          "08-2023",
          "08-2023",
          "08-2023",
          "08-2023",
          "08-2023",
          "08-2023",
          "08-2023",
          "08-2023",
          "08-2023",
          "08-2023",
          "08-2023",
          "08-2023",
          "08-2023",
          "08-2023",
          "08-2023",
          "08-2023",
          "08-2023",
          "08-2023",
          "08-2023",
          "08-2023",
          "08-2023",
          "08-2023",
          "08-2023",
          "08-2023",
          "08-2023",
          "08-2023",
          "08-2023",
          "08-2023",
          "08-2023",
          "08-2023",
          "08-2023",
          "07-2023",
          "07-2023",
          "07-2023",
          "07-2023",
          "07-2023",
          "07-2023",
          "07-2023",
          "07-2023",
          "07-2023",
          "07-2023",
          "07-2023",
          "07-2023",
          "07-2023",
          "07-2023",
          "07-2023",
          "07-2023",
          "07-2023",
          "07-2023",
          "07-2023",
          "07-2023",
          "07-2023",
          "07-2023",
          "07-2023",
          "07-2023",
          "07-2023",
          "07-2023",
          "07-2023",
          "07-2023",
          "07-2023",
          "07-2023",
          "07-2023",
          "07-2023",
          "07-2023",
          "07-2023",
          "07-2023",
          "07-2023",
          "07-2023",
          "07-2023",
          "07-2023",
          "07-2023",
          "07-2023",
          "07-2023",
          "07-2023",
          "07-2023",
          "07-2023",
          "07-2023",
          "07-2023",
          "07-2023",
          "07-2023",
          "07-2023",
          "07-2023",
          "07-2023",
          "07-2023",
          "07-2023",
          "07-2023",
          "07-2023",
          "07-2023",
          "07-2023",
          "07-2023",
          "07-2023",
          "07-2023",
          "07-2023",
          "07-2023",
          "07-2023",
          "07-2023",
          "07-2023",
          "07-2023",
          "07-2023",
          "07-2023",
          "07-2023",
          "07-2023",
          "07-2023",
          "07-2023",
          "07-2023",
          "07-2023",
          "07-2023",
          "07-2023",
          "07-2023",
          "07-2023",
          "07-2023",
          "07-2023",
          "07-2023",
          "07-2023",
          "07-2023",
          "07-2023",
          "07-2023",
          "07-2023",
          "07-2023",
          "07-2023",
          "07-2023",
          "07-2023",
          "07-2023",
          "07-2023",
          "07-2023",
          "07-2023",
          "07-2023",
          "07-2023",
          "07-2023",
          "07-2023",
          "07-2023",
          "07-2023",
          "07-2023",
          "07-2023",
          "07-2023",
          "07-2023",
          "07-2023",
          "07-2023",
          "07-2023",
          "07-2023",
          "07-2023",
          "07-2023",
          "07-2023",
          "07-2023",
          "07-2023",
          "07-2023",
          "07-2023",
          "07-2023",
          "07-2023",
          "07-2023",
          "07-2023",
          "07-2023",
          "07-2023",
          "07-2023",
          "07-2023",
          "07-2023",
          "07-2023",
          "07-2023",
          "07-2023",
          "07-2023",
          "07-2023",
          "07-2023",
          "07-2023",
          "07-2023",
          "07-2023",
          "07-2023",
          "07-2023",
          "07-2023",
          "07-2023",
          "07-2023",
          "07-2023",
          "07-2023",
          "07-2023",
          "07-2023",
          "07-2023",
          "07-2023",
          "07-2023",
          "07-2023",
          "07-2023",
          "07-2023",
          "07-2023",
          "07-2023",
          "07-2023",
          "07-2023",
          "07-2023",
          "07-2023",
          "07-2023",
          "07-2023",
          "07-2023",
          "07-2023",
          "07-2023",
          "07-2023",
          "07-2023",
          "07-2023",
          "07-2023",
          "07-2023",
          "07-2023",
          "07-2023",
          "07-2023",
          "07-2023",
          "07-2023",
          "07-2023",
          "07-2023",
          "07-2023",
          "07-2023",
          "07-2023",
          "07-2023",
          "07-2023",
          "07-2023",
          "07-2023",
          "07-2023",
          "07-2023",
          "07-2023",
          "07-2023",
          "07-2023",
          "07-2023",
          "07-2023",
          "07-2023",
          "07-2023",
          "07-2023",
          "07-2023",
          "07-2023",
          "07-2023",
          "07-2023",
          "07-2023",
          "07-2023",
          "07-2023",
          "07-2023",
          "07-2023",
          "07-2023",
          "07-2023",
          "07-2023",
          "07-2023",
          "07-2023",
          "07-2023",
          "07-2023",
          "07-2023",
          "07-2023",
          "07-2023",
          "07-2023",
          "07-2023",
          "07-2023",
          "07-2023",
          "07-2023",
          "07-2023",
          "07-2023",
          "07-2023",
          "07-2023",
          "07-2023",
          "07-2023",
          "07-2023",
          "07-2023",
          "07-2023",
          "07-2023",
          "07-2023",
          "07-2023",
          "07-2023",
          "07-2023",
          "07-2023",
          "07-2023",
          "07-2023",
          "07-2023",
          "07-2023",
          "07-2023",
          "07-2023",
          "07-2023",
          "07-2023",
          "07-2023",
          "07-2023",
          "07-2023",
          "07-2023",
          "07-2023",
          "07-2023",
          "07-2023",
          "07-2023",
          "07-2023",
          "07-2023",
          "07-2023",
          "07-2023",
          "07-2023",
          "07-2023",
          "07-2023",
          "07-2023",
          "07-2023",
          "07-2023",
          "07-2023",
          "07-2023",
          "07-2023",
          "07-2023",
          "07-2023",
          "07-2023",
          "07-2023",
          "07-2023",
          "07-2023",
          "07-2023",
          "07-2023",
          "07-2023",
          "07-2023",
          "07-2023",
          "07-2023",
          "07-2023",
          "07-2023",
          "07-2023",
          "07-2023",
          "07-2023",
          "07-2023",
          "07-2023",
          "07-2023",
          "07-2023",
          "07-2023",
          "07-2023",
          "07-2023",
          "07-2023",
          "07-2023",
          "07-2023",
          "07-2023",
          "07-2023",
          "07-2023",
          "07-2023",
          "07-2023",
          "07-2023",
          "07-2023",
          "07-2023",
          "07-2023",
          "07-2023",
          "07-2023",
          "07-2023",
          "07-2023",
          "07-2023",
          "07-2023",
          "07-2023",
          "07-2023",
          "07-2023",
          "06-2023",
          "06-2023",
          "06-2023",
          "06-2023",
          "06-2023",
          "06-2023",
          "06-2023",
          "06-2023",
          "06-2023",
          "06-2023",
          "06-2023",
          "06-2023",
          "06-2023",
          "06-2023",
          "06-2023",
          "06-2023",
          "06-2023",
          "06-2023",
          "06-2023",
          "06-2023",
          "06-2023",
          "06-2023",
          "06-2023",
          "06-2023",
          "06-2023",
          "06-2023",
          "06-2023",
          "06-2023",
          "06-2023",
          "06-2023",
          "06-2023",
          "06-2023",
          "06-2023",
          "06-2023",
          "06-2023",
          "06-2023",
          "06-2023",
          "06-2023",
          "06-2023",
          "06-2023",
          "06-2023",
          "06-2023",
          "06-2023",
          "06-2023",
          "06-2023",
          "06-2023",
          "06-2023",
          "06-2023",
          "06-2023",
          "06-2023",
          "06-2023",
          "06-2023",
          "06-2023",
          "06-2023",
          "06-2023",
          "06-2023",
          "06-2023",
          "06-2023",
          "06-2023",
          "06-2023",
          "06-2023",
          "06-2023",
          "06-2023",
          "06-2023",
          "06-2023",
          "06-2023",
          "06-2023",
          "06-2023",
          "06-2023",
          "06-2023",
          "06-2023",
          "06-2023",
          "06-2023",
          "06-2023",
          "06-2023",
          "06-2023",
          "06-2023",
          "06-2023",
          "06-2023",
          "06-2023",
          "06-2023",
          "06-2023",
          "06-2023",
          "06-2023",
          "06-2023",
          "06-2023",
          "06-2023",
          "06-2023",
          "06-2023",
          "06-2023",
          "06-2023",
          "06-2023",
          "06-2023",
          "06-2023",
          "06-2023",
          "06-2023",
          "06-2023",
          "06-2023",
          "06-2023",
          "06-2023",
          "06-2023",
          "06-2023",
          "06-2023",
          "06-2023",
          "06-2023",
          "06-2023",
          "06-2023",
          "06-2023",
          "06-2023",
          "06-2023",
          "06-2023",
          "06-2023",
          "06-2023",
          "06-2023",
          "06-2023",
          "06-2023",
          "06-2023",
          "06-2023",
          "06-2023",
          "06-2023",
          "06-2023",
          "06-2023",
          "06-2023",
          "06-2023",
          "06-2023",
          "06-2023",
          "06-2023",
          "06-2023",
          "06-2023",
          "06-2023",
          "06-2023",
          "06-2023",
          "06-2023",
          "06-2023",
          "06-2023",
          "06-2023",
          "06-2023",
          "06-2023",
          "06-2023",
          "06-2023",
          "06-2023",
          "06-2023",
          "06-2023",
          "06-2023",
          "06-2023",
          "06-2023",
          "06-2023",
          "06-2023",
          "06-2023",
          "06-2023",
          "06-2023",
          "06-2023",
          "06-2023",
          "06-2023",
          "06-2023",
          "06-2023",
          "06-2023",
          "06-2023",
          "06-2023",
          "06-2023",
          "06-2023",
          "06-2023",
          "06-2023",
          "06-2023",
          "06-2023",
          "06-2023",
          "06-2023",
          "06-2023",
          "06-2023",
          "06-2023",
          "06-2023",
          "06-2023",
          "06-2023",
          "06-2023",
          "06-2023",
          "06-2023",
          "06-2023",
          "06-2023",
          "06-2023",
          "06-2023",
          "06-2023",
          "06-2023",
          "06-2023",
          "06-2023",
          "06-2023",
          "06-2023",
          "06-2023",
          "06-2023",
          "06-2023",
          "06-2023",
          "06-2023",
          "06-2023",
          "06-2023",
          "06-2023",
          "06-2023",
          "06-2023",
          "06-2023",
          "06-2023",
          "06-2023",
          "06-2023",
          "06-2023",
          "06-2023",
          "06-2023",
          "06-2023",
          "06-2023",
          "06-2023",
          "06-2023",
          "06-2023",
          "06-2023",
          "06-2023",
          "06-2023",
          "06-2023",
          "06-2023",
          "06-2023",
          "06-2023",
          "06-2023",
          "06-2023",
          "06-2023",
          "06-2023",
          "06-2023",
          "06-2023",
          "06-2023",
          "06-2023",
          "06-2023",
          "06-2023",
          "06-2023",
          "06-2023",
          "06-2023",
          "06-2023",
          "06-2023",
          "06-2023",
          "06-2023",
          "06-2023",
          "06-2023",
          "06-2023",
          "06-2023",
          "06-2023",
          "06-2023",
          "06-2023",
          "06-2023",
          "06-2023",
          "06-2023",
          "06-2023",
          "06-2023",
          "06-2023",
          "06-2023",
          "06-2023",
          "06-2023",
          "06-2023",
          "06-2023",
          "06-2023",
          "06-2023",
          "06-2023",
          "06-2023",
          "06-2023",
          "06-2023",
          "06-2023",
          "06-2023",
          "06-2023",
          "06-2023",
          "05-2023",
          "05-2023",
          "05-2023",
          "05-2023",
          "05-2023",
          "05-2023",
          "05-2023",
          "05-2023",
          "05-2023",
          "05-2023",
          "05-2023",
          "05-2023",
          "05-2023",
          "05-2023",
          "05-2023",
          "05-2023",
          "05-2023",
          "05-2023",
          "05-2023",
          "05-2023",
          "05-2023",
          "05-2023",
          "05-2023",
          "05-2023",
          "05-2023",
          "05-2023",
          "05-2023",
          "05-2023",
          "05-2023",
          "05-2023",
          "05-2023",
          "05-2023",
          "05-2023",
          "05-2023",
          "05-2023",
          "05-2023",
          "05-2023",
          "05-2023",
          "05-2023",
          "05-2023",
          "05-2023",
          "05-2023",
          "05-2023",
          "05-2023",
          "05-2023",
          "05-2023",
          "05-2023",
          "05-2023",
          "05-2023",
          "05-2023",
          "05-2023",
          "05-2023",
          "05-2023",
          "05-2023",
          "05-2023",
          "05-2023",
          "05-2023",
          "05-2023",
          "05-2023",
          "05-2023",
          "05-2023",
          "05-2023",
          "05-2023",
          "05-2023",
          "05-2023",
          "05-2023",
          "05-2023",
          "05-2023",
          "05-2023",
          "05-2023",
          "05-2023",
          "05-2023",
          "05-2023",
          "05-2023",
          "05-2023",
          "05-2023",
          "05-2023",
          "05-2023",
          "05-2023",
          "05-2023",
          "05-2023",
          "05-2023",
          "05-2023",
          "05-2023",
          "05-2023",
          "05-2023",
          "05-2023",
          "05-2023",
          "05-2023",
          "05-2023",
          "05-2023",
          "05-2023",
          "05-2023",
          "05-2023",
          "05-2023",
          "05-2023",
          "05-2023",
          "05-2023",
          "05-2023",
          "05-2023",
          "05-2023",
          "05-2023",
          "05-2023",
          "05-2023",
          "05-2023",
          "05-2023",
          "05-2023",
          "05-2023",
          "05-2023",
          "05-2023",
          "05-2023",
          "05-2023",
          "05-2023",
          "05-2023",
          "05-2023",
          "05-2023",
          "05-2023",
          "05-2023",
          "05-2023",
          "05-2023",
          "05-2023",
          "05-2023",
          "05-2023",
          "05-2023",
          "05-2023",
          "05-2023",
          "05-2023",
          "05-2023",
          "05-2023",
          "05-2023",
          "05-2023",
          "05-2023",
          "05-2023",
          "05-2023",
          "05-2023",
          "05-2023",
          "05-2023",
          "05-2023",
          "05-2023",
          "05-2023",
          "05-2023",
          "05-2023",
          "05-2023",
          "05-2023",
          "05-2023",
          "05-2023",
          "05-2023",
          "05-2023",
          "05-2023",
          "05-2023",
          "05-2023",
          "05-2023",
          "05-2023",
          "05-2023",
          "05-2023",
          "05-2023",
          "05-2023",
          "05-2023",
          "05-2023",
          "05-2023",
          "05-2023",
          "05-2023",
          "05-2023",
          "05-2023",
          "05-2023",
          "05-2023",
          "05-2023",
          "05-2023",
          "05-2023",
          "05-2023",
          "05-2023",
          "05-2023",
          "05-2023",
          "05-2023",
          "05-2023",
          "05-2023",
          "05-2023",
          "05-2023",
          "05-2023",
          "05-2023",
          "05-2023",
          "05-2023",
          "05-2023",
          "05-2023",
          "05-2023",
          "05-2023",
          "05-2023",
          "05-2023",
          "05-2023",
          "05-2023",
          "05-2023",
          "05-2023",
          "05-2023",
          "05-2023",
          "05-2023",
          "05-2023",
          "05-2023",
          "05-2023",
          "05-2023",
          "05-2023",
          "05-2023",
          "05-2023",
          "05-2023",
          "05-2023",
          "04-2023",
          "04-2023",
          "04-2023",
          "04-2023",
          "04-2023",
          "04-2023",
          "04-2023",
          "04-2023",
          "04-2023",
          "04-2023",
          "04-2023",
          "04-2023",
          "04-2023",
          "04-2023",
          "04-2023",
          "04-2023",
          "04-2023",
          "04-2023",
          "04-2023",
          "04-2023",
          "04-2023",
          "04-2023",
          "04-2023",
          "04-2023",
          "04-2023",
          "04-2023",
          "04-2023",
          "04-2023",
          "04-2023",
          "04-2023",
          "04-2023",
          "04-2023",
          "04-2023",
          "04-2023",
          "04-2023",
          "04-2023",
          "04-2023",
          "04-2023",
          "04-2023",
          "04-2023",
          "04-2023",
          "04-2023",
          "04-2023",
          "04-2023",
          "04-2023",
          "04-2023",
          "04-2023",
          "04-2023",
          "04-2023",
          "04-2023",
          "04-2023",
          "04-2023",
          "04-2023",
          "04-2023",
          "04-2023",
          "04-2023",
          "04-2023",
          "04-2023",
          "04-2023",
          "04-2023",
          "04-2023",
          "04-2023",
          "04-2023",
          "04-2023",
          "04-2023",
          "04-2023",
          "04-2023",
          "04-2023",
          "04-2023",
          "04-2023",
          "04-2023",
          "04-2023",
          "04-2023",
          "04-2023",
          "04-2023",
          "04-2023",
          "04-2023",
          "04-2023",
          "04-2023",
          "04-2023",
          "04-2023",
          "04-2023",
          "04-2023",
          "04-2023",
          "04-2023",
          "04-2023",
          "04-2023",
          "04-2023",
          "04-2023",
          "04-2023",
          "04-2023",
          "04-2023",
          "04-2023",
          "04-2023",
          "04-2023",
          "04-2023",
          "04-2023",
          "04-2023",
          "04-2023",
          "04-2023",
          "04-2023",
          "04-2023",
          "04-2023",
          "04-2023",
          "04-2023",
          "04-2023",
          "04-2023",
          "04-2023",
          "04-2023",
          "04-2023",
          "04-2023",
          "04-2023",
          "04-2023",
          "04-2023",
          "04-2023",
          "04-2023",
          "04-2023",
          "04-2023",
          "04-2023",
          "04-2023",
          "04-2023",
          "04-2023",
          "04-2023",
          "04-2023",
          "04-2023",
          "04-2023",
          "04-2023",
          "04-2023",
          "04-2023",
          "04-2023",
          "04-2023",
          "04-2023",
          "04-2023",
          "04-2023",
          "04-2023",
          "04-2023",
          "04-2023",
          "04-2023",
          "04-2023",
          "04-2023",
          "04-2023",
          "04-2023",
          "04-2023",
          "04-2023",
          "04-2023",
          "04-2023",
          "04-2023",
          "04-2023",
          "04-2023",
          "04-2023",
          "04-2023",
          "04-2023",
          "04-2023",
          "04-2023",
          "04-2023",
          "04-2023",
          "04-2023",
          "04-2023",
          "04-2023",
          "04-2023",
          "04-2023",
          "04-2023",
          "04-2023",
          "04-2023",
          "04-2023",
          "04-2023",
          "04-2023",
          "04-2023",
          "04-2023",
          "04-2023",
          "04-2023",
          "04-2023",
          "04-2023",
          "04-2023",
          "04-2023",
          "04-2023",
          "04-2023",
          "04-2023",
          "04-2023",
          "04-2023",
          "04-2023",
          "04-2023",
          "04-2023",
          "04-2023",
          "04-2023",
          "04-2023",
          "04-2023",
          "04-2023",
          "04-2023",
          "04-2023",
          "04-2023",
          "04-2023",
          "04-2023",
          "04-2023",
          "04-2023",
          "04-2023",
          "04-2023",
          "04-2023",
          "04-2023",
          "04-2023",
          "04-2023",
          "04-2023",
          "04-2023",
          "04-2023",
          "04-2023",
          "04-2023",
          "04-2023",
          "03-2023",
          "03-2023",
          "03-2023",
          "03-2023",
          "03-2023",
          "03-2023",
          "03-2023",
          "03-2023",
          "03-2023",
          "03-2023",
          "03-2023",
          "03-2023",
          "03-2023",
          "03-2023",
          "03-2023",
          "03-2023",
          "03-2023",
          "03-2023",
          "03-2023",
          "03-2023",
          "03-2023",
          "03-2023",
          "03-2023",
          "03-2023",
          "03-2023",
          "03-2023",
          "03-2023",
          "03-2023",
          "03-2023",
          "03-2023",
          "03-2023",
          "03-2023",
          "03-2023",
          "03-2023",
          "03-2023",
          "03-2023",
          "03-2023",
          "03-2023",
          "03-2023",
          "03-2023",
          "03-2023",
          "03-2023",
          "03-2023",
          "03-2023",
          "03-2023",
          "03-2023",
          "03-2023",
          "03-2023",
          "03-2023",
          "03-2023",
          "03-2023",
          "03-2023",
          "03-2023",
          "03-2023",
          "03-2023",
          "03-2023",
          "03-2023",
          "03-2023",
          "03-2023",
          "03-2023",
          "03-2023",
          "03-2023",
          "03-2023",
          "03-2023",
          "03-2023",
          "03-2023",
          "03-2023",
          "03-2023",
          "03-2023",
          "03-2023",
          "03-2023",
          "03-2023",
          "03-2023",
          "03-2023",
          "03-2023",
          "03-2023",
          "03-2023",
          "03-2023",
          "03-2023",
          "03-2023",
          "03-2023",
          "03-2023",
          "03-2023",
          "03-2023",
          "03-2023",
          "03-2023",
          "03-2023",
          "03-2023",
          "03-2023",
          "03-2023",
          "03-2023",
          "03-2023",
          "03-2023",
          "03-2023",
          "03-2023",
          "03-2023",
          "03-2023",
          "03-2023",
          "03-2023",
          "03-2023",
          "03-2023",
          "03-2023",
          "03-2023",
          "03-2023",
          "03-2023",
          "03-2023",
          "03-2023",
          "03-2023",
          "03-2023",
          "03-2023",
          "03-2023",
          "03-2023",
          "03-2023",
          "03-2023",
          "03-2023",
          "03-2023",
          "03-2023",
          "03-2023",
          "03-2023",
          "03-2023",
          "03-2023",
          "03-2023",
          "03-2023",
          "03-2023",
          "03-2023",
          "03-2023",
          "03-2023",
          "03-2023",
          "03-2023",
          "03-2023",
          "03-2023",
          "03-2023",
          "03-2023",
          "03-2023",
          "03-2023",
          "03-2023",
          "03-2023",
          "03-2023",
          "03-2023",
          "03-2023",
          "03-2023",
          "03-2023",
          "03-2023",
          "03-2023",
          "03-2023",
          "03-2023",
          "03-2023",
          "03-2023",
          "03-2023",
          "03-2023",
          "03-2023",
          "03-2023",
          "03-2023",
          "03-2023",
          "03-2023",
          "03-2023",
          "03-2023",
          "03-2023",
          "03-2023",
          "03-2023",
          "03-2023",
          "03-2023",
          "03-2023",
          "03-2023",
          "03-2023",
          "03-2023",
          "03-2023",
          "03-2023",
          "03-2023",
          "03-2023",
          "03-2023",
          "03-2023",
          "03-2023",
          "03-2023",
          "03-2023",
          "03-2023",
          "03-2023",
          "03-2023",
          "03-2023",
          "03-2023",
          "03-2023",
          "03-2023",
          "03-2023",
          "03-2023",
          "03-2023",
          "03-2023",
          "03-2023",
          "03-2023",
          "03-2023",
          "03-2023",
          "03-2023",
          "03-2023",
          "03-2023",
          "03-2023",
          "03-2023",
          "03-2023",
          "03-2023",
          "03-2023",
          "03-2023",
          "03-2023",
          "03-2023",
          "03-2023",
          "03-2023",
          "03-2023",
          "03-2023",
          "03-2023",
          "03-2023",
          "03-2023",
          "03-2023",
          "03-2023",
          "03-2023",
          "03-2023",
          "02-2023",
          "02-2023",
          "02-2023",
          "02-2023",
          "02-2023",
          "02-2023",
          "02-2023",
          "02-2023",
          "02-2023",
          "02-2023",
          "02-2023",
          "02-2023",
          "02-2023",
          "02-2023",
          "02-2023",
          "02-2023",
          "02-2023",
          "02-2023",
          "02-2023",
          "02-2023",
          "02-2023",
          "02-2023",
          "02-2023",
          "02-2023",
          "02-2023",
          "02-2023",
          "02-2023",
          "02-2023",
          "02-2023",
          "02-2023",
          "02-2023",
          "02-2023",
          "02-2023",
          "02-2023",
          "02-2023",
          "02-2023",
          "02-2023",
          "02-2023",
          "02-2023",
          "02-2023",
          "02-2023",
          "02-2023",
          "02-2023",
          "02-2023",
          "02-2023",
          "02-2023",
          "02-2023",
          "02-2023",
          "02-2023",
          "02-2023",
          "02-2023",
          "02-2023",
          "02-2023",
          "02-2023",
          "02-2023",
          "02-2023",
          "02-2023",
          "02-2023",
          "02-2023",
          "02-2023",
          "02-2023",
          "02-2023",
          "02-2023",
          "02-2023",
          "02-2023",
          "02-2023",
          "02-2023",
          "02-2023",
          "02-2023",
          "02-2023",
          "02-2023",
          "02-2023",
          "02-2023",
          "02-2023",
          "02-2023",
          "02-2023",
          "02-2023",
          "02-2023",
          "02-2023",
          "02-2023",
          "02-2023",
          "02-2023",
          "02-2023",
          "02-2023",
          "02-2023",
          "02-2023",
          "02-2023",
          "02-2023",
          "02-2023",
          "02-2023",
          "02-2023",
          "02-2023",
          "02-2023",
          "02-2023",
          "02-2023",
          "02-2023",
          "02-2023",
          "02-2023",
          "02-2023",
          "02-2023",
          "02-2023",
          "02-2023",
          "02-2023",
          "02-2023",
          "02-2023",
          "02-2023",
          "02-2023",
          "02-2023",
          "02-2023",
          "02-2023",
          "02-2023",
          "02-2023",
          "02-2023",
          "02-2023",
          "02-2023",
          "02-2023",
          "02-2023",
          "02-2023",
          "02-2023",
          "02-2023",
          "02-2023",
          "02-2023",
          "02-2023",
          "02-2023",
          "02-2023",
          "02-2023",
          "02-2023",
          "02-2023",
          "02-2023",
          "02-2023",
          "02-2023",
          "02-2023",
          "02-2023",
          "02-2023",
          "02-2023",
          "02-2023",
          "02-2023",
          "02-2023",
          "02-2023",
          "02-2023",
          "02-2023",
          "02-2023",
          "02-2023",
          "02-2023",
          "02-2023",
          "02-2023",
          "02-2023",
          "02-2023",
          "02-2023",
          "02-2023",
          "02-2023",
          "02-2023",
          "02-2023",
          "02-2023",
          "02-2023",
          "02-2023",
          "02-2023",
          "02-2023",
          "02-2023",
          "02-2023",
          "02-2023",
          "02-2023",
          "02-2023",
          "02-2023",
          "02-2023",
          "02-2023",
          "02-2023",
          "02-2023",
          "02-2023",
          "02-2023",
          "02-2023",
          "02-2023",
          "02-2023",
          "02-2023",
          "02-2023",
          "02-2023",
          "02-2023",
          "02-2023",
          "02-2023",
          "02-2023",
          "02-2023",
          "02-2023",
          "02-2023",
          "02-2023",
          "02-2023",
          "02-2023",
          "02-2023",
          "02-2023",
          "02-2023",
          "02-2023",
          "02-2023",
          "02-2023",
          "02-2023",
          "02-2023",
          "02-2023",
          "02-2023",
          "02-2023",
          "02-2023",
          "02-2023",
          "02-2023",
          "02-2023",
          "02-2023",
          "02-2023",
          "02-2023",
          "02-2023",
          "02-2023",
          "02-2023",
          "02-2023",
          "02-2023",
          "02-2023",
          "02-2023",
          "02-2023",
          "02-2023",
          "02-2023",
          "02-2023",
          "02-2023",
          "01-2023",
          "01-2023",
          "01-2023",
          "01-2023",
          "01-2023",
          "01-2023",
          "01-2023",
          "01-2023",
          "01-2023",
          "01-2023",
          "01-2023",
          "01-2023",
          "01-2023",
          "01-2023",
          "01-2023",
          "01-2023",
          "01-2023",
          "01-2023",
          "01-2023",
          "01-2023",
          "01-2023",
          "01-2023",
          "01-2023",
          "01-2023",
          "01-2023",
          "01-2023",
          "01-2023",
          "01-2023",
          "01-2023",
          "01-2023",
          "01-2023",
          "01-2023",
          "01-2023",
          "01-2023",
          "01-2023",
          "01-2023",
          "01-2023",
          "01-2023",
          "01-2023",
          "01-2023",
          "01-2023",
          "01-2023",
          "01-2023",
          "01-2023",
          "01-2023",
          "01-2023",
          "01-2023",
          "01-2023",
          "01-2023",
          "01-2023",
          "01-2023",
          "01-2023",
          "01-2023",
          "01-2023",
          "01-2023",
          "01-2023",
          "01-2023",
          "01-2023",
          "01-2023",
          "01-2023",
          "01-2023",
          "01-2023",
          "01-2023",
          "01-2023",
          "01-2023",
          "01-2023",
          "01-2023",
          "01-2023",
          "01-2023",
          "01-2023",
          "01-2023",
          "01-2023",
          "01-2023",
          "01-2023",
          "01-2023",
          "01-2023",
          "01-2023",
          "01-2023",
          "01-2023",
          "01-2023",
          "01-2023",
          "01-2023",
          "01-2023",
          "01-2023",
          "01-2023",
          "01-2023",
          "01-2023",
          "01-2023",
          "01-2023",
          "01-2023",
          "01-2023",
          "01-2023",
          "01-2023",
          "01-2023",
          "01-2023",
          "01-2023",
          "01-2023",
          "01-2023",
          "01-2023",
          "01-2023",
          "01-2023",
          "01-2023",
          "01-2023",
          "01-2023",
          "01-2023",
          "01-2023",
          "01-2023",
          "01-2023",
          "01-2023",
          "01-2023",
          "01-2023",
          "01-2023",
          "01-2023",
          "01-2023",
          "01-2023",
          "01-2023",
          "01-2023",
          "01-2023",
          "01-2023",
          "01-2023",
          "01-2023",
          "01-2023",
          "01-2023",
          "01-2023",
          "01-2023",
          "01-2023",
          "01-2023",
          "01-2023",
          "01-2023",
          "01-2023",
          "01-2023",
          "01-2023",
          "01-2023",
          "01-2023",
          "01-2023",
          "01-2023",
          "01-2023",
          "01-2023",
          "01-2023",
          "01-2023",
          "01-2023",
          "01-2023",
          "01-2023",
          "01-2023",
          "01-2023",
          "01-2023",
          "01-2023",
          "01-2023",
          "01-2023",
          "01-2023",
          "01-2023",
          "01-2023",
          "01-2023",
          "01-2023",
          "01-2023",
          "01-2023",
          "01-2023",
          "01-2023",
          "01-2023",
          "01-2023",
          "01-2023",
          "01-2023",
          "01-2023",
          "01-2023",
          "01-2023",
          "01-2023",
          "01-2023",
          "01-2023",
          "01-2023",
          "01-2023",
          "01-2023",
          "01-2023",
          "01-2023",
          "01-2023",
          "01-2023",
          "01-2023",
          "01-2023",
          "01-2023",
          "01-2023",
          "01-2023",
          "01-2023",
          "01-2023",
          "01-2023",
          "01-2023",
          "01-2023",
          "01-2023",
          "01-2023",
          "01-2023",
          "01-2023",
          "01-2023",
          "01-2023",
          "01-2023",
          "01-2023",
          "01-2023",
          "01-2023",
          "01-2023",
          "01-2023",
          "01-2023",
          "01-2023",
          "01-2023",
          "01-2023",
          "01-2023",
          "01-2023",
          "01-2023",
          "01-2023",
          "01-2023",
          "01-2023",
          "01-2023",
          "01-2023",
          "01-2023",
          "01-2023",
          "01-2023",
          "01-2023",
          "01-2023",
          "01-2023",
          "01-2023",
          "01-2023",
          "12-2022",
          "12-2022",
          "12-2022",
          "12-2022",
          "12-2022",
          "12-2022",
          "12-2022",
          "12-2022",
          "12-2022",
          "12-2022",
          "12-2022",
          "12-2022",
          "12-2022",
          "12-2022",
          "12-2022",
          "12-2022",
          "12-2022",
          "12-2022",
          "12-2022",
          "12-2022",
          "12-2022",
          "12-2022",
          "12-2022",
          "12-2022",
          "12-2022",
          "12-2022",
          "12-2022",
          "12-2022",
          "12-2022",
          "12-2022",
          "12-2022",
          "12-2022",
          "12-2022",
          "12-2022",
          "12-2022",
          "12-2022",
          "12-2022",
          "12-2022",
          "12-2022",
          "12-2022",
          "12-2022",
          "12-2022",
          "12-2022",
          "12-2022",
          "12-2022",
          "12-2022",
          "12-2022",
          "12-2022",
          "12-2022",
          "12-2022",
          "12-2022",
          "12-2022",
          "12-2022",
          "12-2022",
          "12-2022",
          "12-2022",
          "12-2022",
          "12-2022",
          "12-2022",
          "12-2022",
          "12-2022",
          "12-2022",
          "12-2022",
          "12-2022",
          "12-2022",
          "12-2022",
          "12-2022",
          "12-2022",
          "12-2022",
          "12-2022",
          "12-2022",
          "12-2022",
          "12-2022",
          "12-2022",
          "12-2022",
          "12-2022",
          "12-2022",
          "12-2022",
          "12-2022",
          "12-2022",
          "12-2022",
          "12-2022",
          "12-2022",
          "12-2022",
          "12-2022",
          "12-2022",
          "12-2022",
          "12-2022",
          "12-2022",
          "12-2022",
          "12-2022",
          "12-2022",
          "12-2022",
          "12-2022",
          "12-2022",
          "12-2022",
          "12-2022",
          "12-2022",
          "12-2022",
          "12-2022",
          "12-2022",
          "12-2022",
          "12-2022",
          "12-2022",
          "12-2022",
          "12-2022",
          "12-2022",
          "12-2022",
          "12-2022",
          "12-2022",
          "12-2022",
          "12-2022",
          "12-2022",
          "12-2022",
          "12-2022",
          "12-2022",
          "12-2022",
          "12-2022",
          "12-2022",
          "12-2022",
          "12-2022",
          "12-2022",
          "12-2022",
          "12-2022",
          "12-2022",
          "12-2022",
          "12-2022",
          "12-2022",
          "12-2022",
          "12-2022",
          "12-2022",
          "12-2022",
          "12-2022",
          "12-2022",
          "12-2022",
          "12-2022",
          "12-2022",
          "12-2022",
          "12-2022",
          "12-2022",
          "12-2022",
          "12-2022",
          "12-2022",
          "12-2022",
          "12-2022",
          "12-2022",
          "12-2022",
          "12-2022",
          "12-2022",
          "12-2022",
          "12-2022",
          "12-2022",
          "12-2022",
          "12-2022",
          "12-2022",
          "12-2022",
          "12-2022",
          "12-2022",
          "12-2022",
          "12-2022",
          "12-2022",
          "12-2022",
          "12-2022",
          "12-2022",
          "12-2022",
          "12-2022",
          "12-2022",
          "12-2022",
          "12-2022",
          "12-2022",
          "12-2022",
          "12-2022",
          "12-2022",
          "12-2022",
          "12-2022",
          "12-2022",
          "12-2022",
          "12-2022",
          "12-2022",
          "12-2022",
          "12-2022",
          "12-2022",
          "12-2022",
          "12-2022",
          "12-2022",
          "12-2022",
          "12-2022",
          "12-2022",
          "12-2022",
          "12-2022",
          "12-2022",
          "12-2022",
          "12-2022",
          "12-2022",
          "12-2022",
          "12-2022",
          "11-2022",
          "11-2022",
          "11-2022",
          "11-2022",
          "11-2022",
          "11-2022",
          "11-2022",
          "11-2022",
          "11-2022",
          "11-2022",
          "11-2022",
          "11-2022",
          "11-2022",
          "11-2022",
          "11-2022",
          "11-2022",
          "11-2022",
          "11-2022",
          "11-2022",
          "11-2022",
          "11-2022",
          "11-2022",
          "11-2022",
          "11-2022",
          "11-2022",
          "11-2022",
          "11-2022",
          "11-2022",
          "11-2022",
          "11-2022",
          "11-2022",
          "11-2022",
          "11-2022",
          "11-2022",
          "11-2022",
          "11-2022",
          "11-2022",
          "11-2022",
          "11-2022",
          "11-2022",
          "11-2022",
          "11-2022",
          "11-2022",
          "11-2022",
          "11-2022",
          "11-2022",
          "11-2022",
          "11-2022",
          "11-2022",
          "11-2022",
          "11-2022",
          "11-2022",
          "11-2022",
          "11-2022",
          "11-2022",
          "11-2022",
          "11-2022",
          "11-2022",
          "11-2022",
          "11-2022",
          "11-2022",
          "11-2022",
          "11-2022",
          "11-2022",
          "11-2022",
          "11-2022",
          "11-2022",
          "11-2022",
          "11-2022",
          "11-2022",
          "11-2022",
          "11-2022",
          "11-2022",
          "11-2022",
          "11-2022",
          "11-2022",
          "11-2022",
          "11-2022",
          "11-2022",
          "11-2022",
          "11-2022",
          "11-2022",
          "11-2022",
          "11-2022",
          "11-2022",
          "11-2022",
          "11-2022",
          "11-2022",
          "11-2022",
          "11-2022",
          "11-2022",
          "11-2022",
          "11-2022",
          "11-2022",
          "11-2022",
          "11-2022",
          "11-2022",
          "11-2022",
          "11-2022",
          "11-2022",
          "11-2022",
          "11-2022",
          "11-2022",
          "11-2022",
          "11-2022",
          "11-2022",
          "11-2022",
          "11-2022",
          "11-2022",
          "11-2022",
          "11-2022",
          "11-2022",
          "11-2022",
          "11-2022",
          "11-2022",
          "11-2022",
          "11-2022",
          "11-2022",
          "11-2022",
          "11-2022",
          "11-2022",
          "11-2022",
          "11-2022",
          "11-2022",
          "11-2022",
          "11-2022",
          "11-2022",
          "11-2022",
          "11-2022",
          "11-2022",
          "11-2022",
          "11-2022",
          "11-2022",
          "11-2022",
          "11-2022",
          "11-2022",
          "11-2022",
          "11-2022",
          "11-2022",
          "11-2022",
          "11-2022",
          "11-2022",
          "11-2022",
          "10-2022",
          "10-2022",
          "10-2022",
          "10-2022",
          "10-2022",
          "10-2022",
          "10-2022",
          "10-2022",
          "10-2022",
          "10-2022",
          "10-2022",
          "10-2022",
          "10-2022",
          "10-2022",
          "10-2022",
          "10-2022",
          "10-2022",
          "10-2022",
          "10-2022",
          "10-2022",
          "10-2022",
          "10-2022",
          "10-2022",
          "10-2022",
          "10-2022",
          "10-2022",
          "10-2022",
          "10-2022",
          "10-2022",
          "10-2022",
          "10-2022",
          "10-2022",
          "10-2022",
          "10-2022",
          "10-2022",
          "10-2022",
          "10-2022",
          "10-2022",
          "10-2022",
          "10-2022",
          "10-2022",
          "10-2022",
          "10-2022",
          "10-2022",
          "10-2022",
          "10-2022",
          "10-2022",
          "10-2022",
          "10-2022",
          "10-2022",
          "10-2022",
          "10-2022",
          "10-2022",
          "10-2022",
          "10-2022",
          "10-2022",
          "10-2022",
          "10-2022",
          "10-2022",
          "10-2022",
          "10-2022",
          "10-2022",
          "10-2022",
          "10-2022",
          "10-2022",
          "10-2022",
          "10-2022",
          "10-2022",
          "10-2022",
          "10-2022",
          "10-2022",
          "10-2022",
          "10-2022",
          "10-2022",
          "10-2022",
          "10-2022",
          "10-2022",
          "10-2022",
          "10-2022",
          "10-2022",
          "10-2022",
          "10-2022",
          "10-2022",
          "10-2022",
          "10-2022",
          "10-2022",
          "10-2022",
          "10-2022",
          "10-2022",
          "10-2022",
          "10-2022",
          "10-2022",
          "10-2022",
          "10-2022",
          "10-2022",
          "10-2022",
          "10-2022",
          "10-2022",
          "10-2022",
          "10-2022",
          "10-2022",
          "10-2022",
          "10-2022",
          "10-2022",
          "10-2022",
          "10-2022",
          "10-2022",
          "10-2022",
          "10-2022",
          "10-2022",
          "10-2022",
          "10-2022",
          "10-2022",
          "10-2022",
          "10-2022",
          "10-2022",
          "10-2022",
          "10-2022",
          "10-2022",
          "10-2022",
          "10-2022",
          "10-2022",
          "10-2022",
          "10-2022",
          "10-2022",
          "10-2022",
          "10-2022",
          "10-2022",
          "10-2022",
          "10-2022",
          "10-2022",
          "10-2022",
          "10-2022",
          "10-2022",
          "10-2022",
          "10-2022",
          "10-2022",
          "10-2022",
          "10-2022",
          "10-2022",
          "10-2022",
          "10-2022",
          "10-2022",
          "10-2022",
          "10-2022",
          "10-2022",
          "10-2022",
          "10-2022",
          "10-2022",
          "10-2022",
          "10-2022",
          "10-2022",
          "10-2022",
          "10-2022",
          "10-2022",
          "10-2022",
          "10-2022",
          "10-2022",
          "10-2022",
          "10-2022",
          "10-2022",
          "10-2022",
          "10-2022",
          "10-2022",
          "10-2022",
          "10-2022",
          "10-2022",
          "10-2022",
          "10-2022",
          "10-2022",
          "10-2022",
          "10-2022",
          "10-2022",
          "10-2022",
          "10-2022",
          "10-2022",
          "10-2022",
          "10-2022",
          "10-2022",
          "10-2022",
          "10-2022",
          "10-2022",
          "10-2022",
          "10-2022",
          "10-2022",
          "10-2022",
          "10-2022",
          "10-2022",
          "10-2022",
          "10-2022",
          "10-2022",
          "10-2022",
          "10-2022",
          "09-2022",
          "09-2022",
          "09-2022",
          "09-2022",
          "09-2022",
          "09-2022",
          "09-2022",
          "09-2022",
          "09-2022",
          "09-2022",
          "09-2022",
          "09-2022",
          "09-2022",
          "09-2022",
          "09-2022",
          "09-2022",
          "09-2022",
          "09-2022",
          "09-2022",
          "09-2022",
          "09-2022",
          "09-2022",
          "09-2022",
          "09-2022",
          "09-2022",
          "09-2022",
          "09-2022",
          "09-2022",
          "09-2022",
          "09-2022",
          "09-2022",
          "09-2022",
          "09-2022",
          "09-2022",
          "09-2022",
          "09-2022",
          "09-2022",
          "09-2022",
          "09-2022",
          "09-2022",
          "09-2022",
          "09-2022",
          "09-2022",
          "09-2022",
          "09-2022",
          "09-2022",
          "09-2022",
          "09-2022",
          "09-2022",
          "09-2022",
          "09-2022",
          "09-2022",
          "09-2022",
          "09-2022",
          "09-2022",
          "09-2022",
          "09-2022",
          "09-2022",
          "09-2022",
          "09-2022",
          "09-2022",
          "09-2022",
          "09-2022",
          "09-2022",
          "09-2022",
          "09-2022",
          "09-2022",
          "09-2022",
          "09-2022",
          "09-2022",
          "09-2022",
          "09-2022",
          "09-2022",
          "09-2022",
          "09-2022",
          "09-2022",
          "09-2022",
          "09-2022",
          "09-2022",
          "09-2022",
          "09-2022",
          "09-2022",
          "09-2022",
          "09-2022",
          "09-2022",
          "09-2022",
          "09-2022",
          "09-2022",
          "09-2022",
          "09-2022",
          "09-2022",
          "09-2022",
          "09-2022",
          "09-2022",
          "09-2022",
          "09-2022",
          "09-2022",
          "09-2022",
          "09-2022",
          "09-2022",
          "09-2022",
          "09-2022",
          "09-2022",
          "09-2022",
          "09-2022",
          "09-2022",
          "09-2022",
          "09-2022",
          "09-2022",
          "09-2022",
          "09-2022",
          "09-2022",
          "09-2022",
          "09-2022",
          "09-2022",
          "09-2022",
          "09-2022",
          "09-2022",
          "09-2022",
          "09-2022",
          "09-2022",
          "09-2022",
          "09-2022",
          "09-2022",
          "09-2022",
          "09-2022",
          "09-2022",
          "09-2022",
          "09-2022",
          "09-2022",
          "09-2022",
          "09-2022",
          "09-2022",
          "09-2022",
          "09-2022",
          "09-2022",
          "09-2022",
          "09-2022",
          "09-2022",
          "09-2022",
          "09-2022",
          "09-2022",
          "09-2022",
          "09-2022",
          "09-2022",
          "09-2022",
          "09-2022",
          "09-2022",
          "09-2022",
          "09-2022",
          "09-2022",
          "09-2022",
          "09-2022",
          "09-2022",
          "09-2022",
          "09-2022",
          "09-2022",
          "09-2022",
          "09-2022",
          "09-2022",
          "09-2022",
          "09-2022",
          "09-2022",
          "09-2022",
          "09-2022",
          "09-2022",
          "09-2022",
          "09-2022",
          "09-2022",
          "09-2022",
          "09-2022",
          "09-2022",
          "09-2022",
          "09-2022",
          "09-2022",
          "09-2022",
          "09-2022",
          "09-2022",
          "09-2022",
          "09-2022",
          "09-2022",
          "09-2022",
          "09-2022",
          "09-2022",
          "09-2022",
          "09-2022",
          "09-2022",
          "09-2022",
          "09-2022",
          "08-2022",
          "08-2022",
          "08-2022",
          "08-2022",
          "08-2022",
          "08-2022",
          "08-2022",
          "08-2022",
          "08-2022",
          "08-2022",
          "08-2022",
          "08-2022",
          "08-2022",
          "08-2022",
          "08-2022",
          "08-2022",
          "08-2022",
          "08-2022",
          "08-2022",
          "08-2022",
          "08-2022",
          "08-2022",
          "08-2022",
          "08-2022",
          "08-2022",
          "08-2022",
          "08-2022",
          "08-2022",
          "08-2022",
          "08-2022",
          "08-2022",
          "08-2022",
          "08-2022",
          "08-2022",
          "08-2022",
          "08-2022",
          "08-2022",
          "08-2022",
          "08-2022",
          "08-2022",
          "08-2022",
          "08-2022",
          "08-2022",
          "08-2022",
          "08-2022",
          "08-2022",
          "08-2022",
          "08-2022",
          "08-2022",
          "08-2022",
          "08-2022",
          "08-2022",
          "08-2022",
          "08-2022",
          "08-2022",
          "08-2022",
          "08-2022",
          "08-2022",
          "08-2022",
          "08-2022",
          "08-2022",
          "08-2022",
          "08-2022",
          "08-2022",
          "08-2022",
          "08-2022",
          "08-2022",
          "08-2022",
          "08-2022",
          "08-2022",
          "08-2022",
          "08-2022",
          "08-2022",
          "08-2022",
          "08-2022",
          "08-2022",
          "08-2022",
          "08-2022",
          "08-2022",
          "08-2022",
          "08-2022",
          "08-2022",
          "08-2022",
          "08-2022",
          "08-2022",
          "08-2022",
          "08-2022",
          "08-2022",
          "08-2022",
          "08-2022",
          "08-2022",
          "08-2022",
          "08-2022",
          "08-2022",
          "08-2022",
          "08-2022",
          "08-2022",
          "08-2022",
          "08-2022",
          "08-2022",
          "08-2022",
          "08-2022",
          "08-2022",
          "08-2022",
          "08-2022",
          "08-2022",
          "08-2022",
          "08-2022",
          "08-2022",
          "08-2022",
          "08-2022",
          "08-2022",
          "08-2022",
          "08-2022",
          "08-2022",
          "08-2022",
          "08-2022",
          "08-2022",
          "08-2022",
          "08-2022",
          "08-2022",
          "08-2022",
          "08-2022",
          "08-2022",
          "08-2022",
          "08-2022",
          "08-2022",
          "08-2022",
          "08-2022",
          "08-2022",
          "08-2022",
          "08-2022",
          "08-2022",
          "08-2022",
          "08-2022",
          "08-2022",
          "08-2022",
          "08-2022",
          "08-2022",
          "08-2022",
          "08-2022",
          "08-2022",
          "08-2022",
          "08-2022",
          "08-2022",
          "08-2022",
          "08-2022",
          "08-2022",
          "08-2022",
          "08-2022",
          "08-2022",
          "08-2022",
          "08-2022",
          "08-2022",
          "08-2022",
          "08-2022",
          "08-2022",
          "08-2022",
          "08-2022",
          "08-2022",
          "08-2022",
          "08-2022",
          "08-2022",
          "08-2022",
          "08-2022",
          "08-2022",
          "08-2022",
          "08-2022",
          "08-2022",
          "08-2022",
          "08-2022",
          "08-2022",
          "08-2022",
          "08-2022",
          "08-2022",
          "08-2022",
          "08-2022",
          "08-2022",
          "08-2022",
          "08-2022",
          "08-2022",
          "08-2022",
          "08-2022",
          "08-2022",
          "08-2022",
          "08-2022",
          "08-2022",
          "08-2022",
          "08-2022",
          "08-2022",
          "08-2022",
          "08-2022",
          "08-2022",
          "08-2022",
          "08-2022",
          "08-2022",
          "08-2022",
          "08-2022",
          "08-2022",
          "08-2022",
          "08-2022",
          "08-2022",
          "08-2022",
          "08-2022",
          "08-2022",
          "08-2022",
          "08-2022",
          "08-2022",
          "08-2022",
          "08-2022",
          "08-2022",
          "08-2022",
          "08-2022",
          "08-2022",
          "08-2022",
          "08-2022",
          "08-2022",
          "08-2022",
          "08-2022",
          "08-2022",
          "08-2022",
          "08-2022",
          "08-2022",
          "08-2022",
          "08-2022",
          "08-2022",
          "08-2022",
          "08-2022",
          "08-2022",
          "08-2022",
          "08-2022",
          "08-2022",
          "08-2022",
          "08-2022",
          "08-2022",
          "08-2022",
          "08-2022",
          "08-2022",
          "08-2022",
          "08-2022",
          "08-2022",
          "08-2022",
          "07-2022",
          "07-2022",
          "07-2022",
          "07-2022",
          "07-2022",
          "07-2022",
          "07-2022",
          "07-2022",
          "07-2022",
          "07-2022",
          "07-2022",
          "07-2022",
          "07-2022",
          "07-2022",
          "07-2022",
          "07-2022",
          "07-2022",
          "07-2022",
          "07-2022",
          "07-2022",
          "07-2022",
          "07-2022",
          "07-2022",
          "07-2022",
          "07-2022",
          "07-2022",
          "07-2022",
          "07-2022",
          "07-2022",
          "07-2022",
          "07-2022",
          "07-2022",
          "07-2022",
          "07-2022",
          "07-2022",
          "07-2022",
          "07-2022",
          "07-2022",
          "07-2022",
          "07-2022",
          "07-2022",
          "07-2022",
          "07-2022",
          "07-2022",
          "07-2022",
          "07-2022",
          "07-2022",
          "07-2022",
          "07-2022",
          "07-2022",
          "07-2022",
          "07-2022",
          "07-2022",
          "07-2022",
          "07-2022",
          "07-2022",
          "07-2022",
          "07-2022",
          "07-2022",
          "07-2022",
          "07-2022",
          "07-2022",
          "07-2022",
          "07-2022",
          "07-2022",
          "07-2022",
          "07-2022",
          "07-2022",
          "07-2022",
          "07-2022",
          "07-2022",
          "07-2022",
          "07-2022",
          "07-2022",
          "07-2022",
          "07-2022",
          "07-2022",
          "07-2022",
          "07-2022",
          "07-2022",
          "07-2022",
          "07-2022",
          "07-2022",
          "07-2022",
          "07-2022",
          "07-2022",
          "07-2022",
          "07-2022",
          "07-2022",
          "07-2022",
          "07-2022",
          "07-2022",
          "07-2022",
          "07-2022",
          "07-2022",
          "07-2022",
          "07-2022",
          "07-2022",
          "07-2022",
          "07-2022",
          "07-2022",
          "07-2022",
          "07-2022",
          "07-2022",
          "07-2022",
          "07-2022",
          "07-2022",
          "07-2022",
          "07-2022",
          "07-2022",
          "07-2022",
          "07-2022",
          "07-2022",
          "07-2022",
          "07-2022",
          "07-2022",
          "07-2022",
          "07-2022",
          "07-2022",
          "07-2022",
          "07-2022",
          "07-2022",
          "07-2022",
          "07-2022",
          "07-2022",
          "07-2022",
          "07-2022",
          "07-2022",
          "07-2022",
          "07-2022",
          "07-2022",
          "07-2022",
          "07-2022",
          "07-2022",
          "07-2022",
          "07-2022",
          "07-2022",
          "07-2022",
          "07-2022",
          "07-2022",
          "07-2022",
          "07-2022",
          "07-2022",
          "07-2022",
          "07-2022",
          "07-2022",
          "07-2022",
          "07-2022",
          "07-2022",
          "07-2022",
          "07-2022",
          "07-2022",
          "07-2022",
          "07-2022",
          "07-2022",
          "07-2022",
          "07-2022",
          "07-2022",
          "07-2022",
          "07-2022",
          "07-2022",
          "07-2022",
          "07-2022",
          "07-2022",
          "07-2022",
          "07-2022",
          "07-2022",
          "07-2022",
          "07-2022",
          "07-2022",
          "07-2022",
          "07-2022",
          "07-2022",
          "07-2022",
          "07-2022",
          "07-2022",
          "07-2022",
          "07-2022",
          "07-2022",
          "07-2022",
          "07-2022",
          "07-2022",
          "07-2022",
          "07-2022",
          "07-2022",
          "07-2022",
          "07-2022",
          "07-2022",
          "07-2022",
          "07-2022",
          "07-2022",
          "07-2022",
          "07-2022",
          "07-2022",
          "07-2022",
          "07-2022",
          "07-2022",
          "07-2022",
          "07-2022",
          "07-2022",
          "07-2022",
          "07-2022",
          "07-2022",
          "07-2022",
          "07-2022",
          "07-2022",
          "07-2022",
          "07-2022",
          "07-2022",
          "07-2022",
          "07-2022",
          "07-2022",
          "07-2022",
          "07-2022",
          "07-2022",
          "07-2022",
          "07-2022",
          "06-2022",
          "06-2022",
          "06-2022",
          "06-2022",
          "06-2022",
          "06-2022",
          "06-2022",
          "06-2022",
          "06-2022",
          "06-2022",
          "06-2022",
          "06-2022",
          "06-2022",
          "06-2022",
          "06-2022",
          "06-2022",
          "06-2022",
          "06-2022",
          "06-2022",
          "06-2022",
          "06-2022",
          "06-2022",
          "06-2022",
          "06-2022",
          "06-2022",
          "06-2022",
          "06-2022",
          "06-2022",
          "06-2022",
          "06-2022",
          "06-2022",
          "06-2022",
          "06-2022",
          "06-2022",
          "06-2022",
          "06-2022",
          "06-2022",
          "06-2022",
          "06-2022",
          "06-2022",
          "06-2022",
          "06-2022",
          "06-2022",
          "06-2022",
          "06-2022",
          "06-2022",
          "06-2022",
          "06-2022",
          "06-2022",
          "06-2022",
          "06-2022",
          "06-2022",
          "06-2022",
          "06-2022",
          "06-2022",
          "06-2022",
          "06-2022",
          "06-2022",
          "06-2022",
          "06-2022",
          "06-2022",
          "06-2022",
          "06-2022",
          "06-2022",
          "06-2022",
          "06-2022",
          "06-2022",
          "06-2022",
          "06-2022",
          "06-2022",
          "06-2022",
          "06-2022",
          "06-2022",
          "06-2022",
          "06-2022",
          "06-2022",
          "06-2022",
          "06-2022",
          "06-2022",
          "06-2022",
          "06-2022",
          "06-2022",
          "06-2022",
          "06-2022",
          "06-2022",
          "06-2022",
          "06-2022",
          "06-2022",
          "06-2022",
          "06-2022",
          "06-2022",
          "06-2022",
          "06-2022",
          "06-2022",
          "06-2022",
          "06-2022",
          "06-2022",
          "06-2022",
          "06-2022",
          "06-2022",
          "06-2022",
          "06-2022",
          "06-2022",
          "06-2022",
          "06-2022",
          "06-2022",
          "06-2022",
          "06-2022",
          "06-2022",
          "06-2022",
          "06-2022",
          "06-2022",
          "06-2022",
          "06-2022",
          "06-2022",
          "06-2022",
          "06-2022",
          "06-2022",
          "06-2022",
          "06-2022",
          "06-2022",
          "06-2022",
          "06-2022",
          "06-2022",
          "06-2022",
          "06-2022",
          "06-2022",
          "06-2022",
          "06-2022",
          "06-2022",
          "06-2022",
          "06-2022",
          "06-2022",
          "06-2022",
          "06-2022",
          "06-2022",
          "06-2022",
          "06-2022",
          "06-2022",
          "06-2022",
          "06-2022",
          "06-2022",
          "06-2022",
          "06-2022",
          "06-2022",
          "06-2022",
          "06-2022",
          "06-2022",
          "06-2022",
          "06-2022",
          "06-2022",
          "06-2022",
          "06-2022",
          "06-2022",
          "06-2022",
          "06-2022",
          "06-2022",
          "06-2022",
          "06-2022",
          "06-2022",
          "06-2022",
          "06-2022",
          "06-2022",
          "06-2022",
          "06-2022",
          "06-2022",
          "06-2022",
          "06-2022",
          "06-2022",
          "06-2022",
          "06-2022",
          "06-2022",
          "06-2022",
          "06-2022",
          "06-2022",
          "06-2022",
          "06-2022",
          "06-2022",
          "06-2022",
          "06-2022",
          "06-2022",
          "06-2022",
          "06-2022",
          "06-2022",
          "06-2022",
          "06-2022",
          "06-2022",
          "06-2022",
          "06-2022",
          "06-2022",
          "06-2022",
          "06-2022",
          "06-2022",
          "06-2022",
          "06-2022",
          "06-2022",
          "06-2022",
          "06-2022",
          "06-2022",
          "06-2022",
          "05-2022",
          "05-2022",
          "05-2022",
          "05-2022",
          "05-2022",
          "05-2022",
          "05-2022",
          "05-2022",
          "05-2022",
          "05-2022",
          "05-2022",
          "05-2022",
          "05-2022",
          "05-2022",
          "05-2022",
          "05-2022",
          "05-2022",
          "05-2022",
          "05-2022",
          "05-2022",
          "05-2022",
          "05-2022",
          "05-2022",
          "05-2022",
          "05-2022",
          "05-2022",
          "05-2022",
          "05-2022",
          "05-2022",
          "05-2022",
          "05-2022",
          "05-2022",
          "05-2022",
          "05-2022",
          "05-2022",
          "05-2022",
          "05-2022",
          "05-2022",
          "05-2022",
          "05-2022",
          "05-2022",
          "05-2022",
          "05-2022",
          "05-2022",
          "05-2022",
          "05-2022",
          "05-2022",
          "05-2022",
          "05-2022",
          "05-2022",
          "05-2022",
          "05-2022",
          "05-2022",
          "05-2022",
          "05-2022",
          "05-2022",
          "05-2022",
          "05-2022",
          "05-2022",
          "05-2022",
          "05-2022",
          "05-2022",
          "05-2022",
          "05-2022",
          "05-2022",
          "05-2022",
          "05-2022",
          "05-2022",
          "05-2022",
          "05-2022",
          "05-2022",
          "05-2022",
          "05-2022",
          "05-2022",
          "05-2022",
          "05-2022",
          "05-2022",
          "05-2022",
          "05-2022",
          "05-2022",
          "05-2022",
          "05-2022",
          "05-2022",
          "05-2022",
          "05-2022",
          "05-2022",
          "05-2022",
          "05-2022",
          "05-2022",
          "05-2022",
          "05-2022",
          "05-2022",
          "05-2022",
          "05-2022",
          "05-2022",
          "05-2022",
          "05-2022",
          "05-2022",
          "05-2022",
          "05-2022",
          "05-2022",
          "05-2022",
          "05-2022",
          "05-2022",
          "05-2022",
          "05-2022",
          "05-2022",
          "05-2022",
          "05-2022",
          "05-2022",
          "05-2022",
          "05-2022",
          "05-2022",
          "05-2022",
          "05-2022",
          "05-2022",
          "04-2022",
          "04-2022",
          "04-2022",
          "04-2022",
          "04-2022",
          "04-2022",
          "04-2022",
          "04-2022",
          "04-2022",
          "04-2022",
          "04-2022",
          "04-2022",
          "04-2022",
          "04-2022",
          "04-2022",
          "04-2022",
          "04-2022",
          "04-2022",
          "04-2022",
          "04-2022",
          "04-2022",
          "04-2022",
          "04-2022",
          "04-2022",
          "04-2022",
          "04-2022",
          "04-2022",
          "04-2022",
          "04-2022",
          "04-2022",
          "04-2022",
          "04-2022",
          "04-2022",
          "04-2022",
          "04-2022",
          "04-2022",
          "04-2022",
          "04-2022",
          "04-2022",
          "04-2022",
          "04-2022",
          "04-2022",
          "04-2022",
          "04-2022",
          "04-2022",
          "04-2022",
          "04-2022",
          "04-2022",
          "04-2022",
          "04-2022",
          "04-2022",
          "04-2022",
          "04-2022",
          "04-2022",
          "04-2022",
          "04-2022",
          "04-2022",
          "04-2022",
          "04-2022",
          "04-2022",
          "04-2022",
          "04-2022",
          "04-2022",
          "04-2022",
          "04-2022",
          "04-2022",
          "04-2022",
          "04-2022",
          "04-2022",
          "04-2022",
          "04-2022",
          "04-2022",
          "04-2022",
          "04-2022",
          "04-2022",
          "04-2022",
          "04-2022",
          "04-2022",
          "04-2022",
          "04-2022",
          "04-2022",
          "04-2022",
          "04-2022",
          "04-2022",
          "04-2022",
          "04-2022",
          "04-2022",
          "03-2022",
          "03-2022",
          "03-2022",
          "03-2022",
          "03-2022",
          "03-2022",
          "03-2022",
          "03-2022",
          "03-2022",
          "03-2022",
          "03-2022",
          "03-2022",
          "03-2022",
          "03-2022",
          "03-2022",
          "03-2022",
          "03-2022",
          "03-2022",
          "03-2022",
          "03-2022",
          "03-2022",
          "03-2022",
          "03-2022",
          "03-2022",
          "03-2022",
          "03-2022",
          "03-2022",
          "03-2022",
          "03-2022",
          "03-2022",
          "03-2022",
          "03-2022",
          "03-2022",
          "03-2022",
          "03-2022",
          "03-2022",
          "03-2022",
          "03-2022",
          "03-2022",
          "03-2022",
          "03-2022",
          "03-2022",
          "03-2022",
          "03-2022",
          "03-2022",
          "03-2022",
          "03-2022",
          "03-2022",
          "03-2022",
          "03-2022",
          "03-2022",
          "03-2022",
          "03-2022",
          "03-2022",
          "03-2022",
          "03-2022",
          "03-2022",
          "03-2022",
          "03-2022",
          "03-2022",
          "03-2022",
          "03-2022",
          "03-2022",
          "03-2022",
          "03-2022",
          "03-2022",
          "03-2022",
          "03-2022",
          "03-2022",
          "03-2022",
          "03-2022",
          "03-2022",
          "03-2022",
          "03-2022",
          "03-2022",
          "03-2022",
          "03-2022",
          "03-2022",
          "03-2022",
          "03-2022",
          "03-2022",
          "03-2022",
          "03-2022",
          "03-2022",
          "03-2022",
          "03-2022",
          "03-2022",
          "03-2022",
          "03-2022",
          "03-2022",
          "03-2022",
          "03-2022",
          "03-2022",
          "03-2022",
          "03-2022",
          "03-2022",
          "03-2022",
          "02-2022",
          "02-2022",
          "02-2022",
          "02-2022",
          "02-2022",
          "02-2022",
          "02-2022",
          "02-2022",
          "02-2022",
          "02-2022",
          "02-2022",
          "02-2022",
          "02-2022",
          "02-2022",
          "02-2022",
          "02-2022",
          "02-2022",
          "02-2022",
          "02-2022",
          "02-2022",
          "02-2022",
          "02-2022",
          "02-2022",
          "02-2022",
          "02-2022",
          "02-2022",
          "02-2022",
          "02-2022",
          "02-2022",
          "02-2022",
          "02-2022",
          "02-2022",
          "02-2022",
          "02-2022",
          "02-2022",
          "02-2022",
          "02-2022",
          "02-2022",
          "02-2022",
          "02-2022",
          "02-2022",
          "02-2022",
          "02-2022",
          "02-2022",
          "02-2022",
          "02-2022",
          "02-2022",
          "02-2022",
          "02-2022",
          "02-2022",
          "02-2022",
          "02-2022",
          "02-2022",
          "02-2022",
          "02-2022",
          "02-2022",
          "02-2022",
          "02-2022",
          "02-2022",
          "02-2022",
          "02-2022",
          "02-2022",
          "02-2022",
          "02-2022",
          "02-2022",
          "02-2022",
          "02-2022",
          "02-2022",
          "02-2022",
          "02-2022",
          "02-2022",
          "02-2022",
          "02-2022",
          "02-2022",
          "02-2022",
          "02-2022",
          "02-2022",
          "02-2022",
          "02-2022",
          "02-2022",
          "02-2022",
          "01-2022",
          "01-2022",
          "01-2022",
          "01-2022",
          "01-2022",
          "01-2022",
          "01-2022",
          "01-2022",
          "01-2022",
          "01-2022",
          "01-2022",
          "01-2022",
          "01-2022",
          "01-2022",
          "01-2022",
          "01-2022",
          "01-2022",
          "01-2022",
          "01-2022",
          "01-2022",
          "01-2022",
          "01-2022",
          "01-2022",
          "01-2022",
          "01-2022",
          "01-2022",
          "01-2022",
          "01-2022",
          "01-2022",
          "01-2022",
          "01-2022",
          "01-2022",
          "01-2022",
          "01-2022",
          "01-2022",
          "01-2022",
          "01-2022",
          "01-2022",
          "01-2022",
          "01-2022",
          "01-2022",
          "01-2022",
          "01-2022",
          "01-2022",
          "01-2022",
          "01-2022",
          "01-2022",
          "01-2022",
          "01-2022",
          "01-2022",
          "01-2022",
          "01-2022",
          "01-2022",
          "01-2022",
          "01-2022",
          "01-2022",
          "01-2022",
          "01-2022",
          "01-2022",
          "01-2022",
          "01-2022",
          "01-2022",
          "01-2022",
          "01-2022",
          "01-2022",
          "01-2022",
          "01-2022",
          "01-2022",
          "01-2022",
          "01-2022",
          "01-2022",
          "01-2022",
          "01-2022",
          "01-2022",
          "01-2022",
          "01-2022",
          "01-2022",
          "01-2022",
          "01-2022",
          "01-2022",
          "12-2021",
          "12-2021",
          "12-2021",
          "12-2021",
          "12-2021",
          "12-2021",
          "12-2021",
          "12-2021",
          "12-2021",
          "12-2021",
          "12-2021",
          "12-2021",
          "12-2021",
          "12-2021",
          "12-2021",
          "12-2021",
          "12-2021",
          "12-2021",
          "12-2021",
          "12-2021",
          "12-2021",
          "12-2021",
          "12-2021",
          "12-2021",
          "12-2021",
          "12-2021",
          "12-2021",
          "12-2021",
          "12-2021",
          "12-2021",
          "12-2021",
          "12-2021",
          "12-2021",
          "12-2021",
          "12-2021",
          "12-2021",
          "12-2021",
          "12-2021",
          "12-2021",
          "12-2021",
          "12-2021",
          "12-2021",
          "12-2021",
          "12-2021",
          "12-2021",
          "12-2021",
          "12-2021",
          "12-2021",
          "12-2021",
          "12-2021",
          "12-2021",
          "12-2021",
          "12-2021",
          "12-2021",
          "12-2021",
          "12-2021",
          "12-2021",
          "12-2021",
          "12-2021",
          "12-2021",
          "12-2021",
          "12-2021",
          "12-2021",
          "12-2021",
          "12-2021",
          "12-2021",
          "12-2021",
          "12-2021",
          "12-2021",
          "12-2021",
          "12-2021",
          "12-2021",
          "12-2021",
          "12-2021",
          "12-2021",
          "12-2021",
          "12-2021",
          "12-2021",
          "12-2021",
          "12-2021",
          "12-2021",
          "11-2021"
         ],
         "y": [
          43200000000000,
          34200000000000,
          43200000000000,
          43200000000000,
          34200000000000,
          43200000000000,
          34200000000000,
          43200000000000,
          23400000000000,
          23400000000000,
          36000000000000,
          43200000000000,
          43200000000000,
          43200000000000,
          18000000000000,
          34200000000000,
          36000000000000,
          43200000000000,
          43200000000000,
          43200000000000,
          21600000000000,
          25200000000000,
          34200000000000,
          36000000000000,
          43200000000000,
          43200000000000,
          21600000000000,
          34200000000000,
          36000000000000,
          39600000000000,
          43200000000000,
          21600000000000,
          36000000000000,
          39600000000000,
          43200000000000,
          21600000000000,
          36000000000000,
          39600000000000,
          43200000000000,
          21600000000000,
          34200000000000,
          36000000000000,
          39600000000000,
          43200000000000,
          86400000000000,
          28800000000000,
          36000000000000,
          41400000000000,
          43200000000000,
          43200000000000,
          46800000000000,
          21600000000000,
          36000000000000,
          39600000000000,
          43200000000000,
          43200000000000,
          43200000000000,
          43200000000000,
          21600000000000,
          25200000000000,
          34200000000000,
          36000000000000,
          43200000000000,
          43200000000000,
          21600000000000,
          34200000000000,
          36000000000000,
          43200000000000,
          36000000000000,
          36000000000000,
          36000000000000,
          34200000000000,
          36000000000000,
          18000000000000,
          34200000000000,
          36000000000000,
          43200000000000,
          21600000000000,
          25200000000000,
          34200000000000,
          36000000000000,
          43200000000000,
          21600000000000,
          36000000000000,
          27000000000000,
          21600000000000,
          36000000000000,
          21600000000000,
          36000000000000,
          36000000000000,
          34200000000000,
          36000000000000,
          34200000000000,
          36000000000000,
          43200000000000,
          21600000000000,
          25200000000000,
          34200000000000,
          36000000000000,
          43200000000000,
          21600000000000,
          36000000000000,
          21600000000000,
          21600000000000,
          36000000000000,
          36000000000000,
          36000000000000,
          43200000000000,
          34200000000000,
          36000000000000,
          43200000000000,
          34200000000000,
          36000000000000,
          39600000000000,
          43200000000000,
          43200000000000,
          21600000000000,
          25200000000000,
          34200000000000,
          36000000000000,
          43200000000000,
          21600000000000,
          34200000000000,
          36000000000000,
          36000000000000,
          43200000000000,
          21600000000000,
          25200000000000,
          34200000000000,
          36000000000000,
          36000000000000,
          39600000000000,
          43200000000000,
          21600000000000,
          25200000000000,
          36000000000000,
          39600000000000,
          43200000000000,
          39600000000000,
          43200000000000,
          43200000000000,
          7200000000000,
          36000000000000,
          41400000000000,
          43200000000000,
          43200000000000,
          16200000000000,
          36000000000000,
          36600000000000,
          37800000000000,
          43200000000000,
          43200000000000,
          21600000000000,
          25200000000000,
          31500000000000,
          34200000000000,
          36000000000000,
          37800000000000,
          43200000000000,
          43200000000000,
          43200000000000,
          21600000000000,
          25200000000000,
          18000000000000,
          31500000000000,
          30600000000000,
          25200000000000,
          31500000000000,
          36000000000000,
          36000000000000,
          37800000000000,
          43200000000000,
          43200000000000,
          43200000000000,
          18000000000000,
          23400000000000,
          25200000000000,
          21600000000000,
          31500000000000,
          34200000000000,
          34200000000000,
          36000000000000,
          21600000000000,
          36000000000000,
          42600000000000,
          21600000000000,
          21600000000000,
          36000000000000,
          43200000000000,
          7200000000000,
          21600000000000,
          36000000000000,
          36000000000000,
          45900000000000,
          36000000000000,
          36900000000000,
          39600000000000,
          43200000000000,
          27600000000000,
          28800000000000,
          25200000000000,
          31500000000000,
          36000000000000,
          36000000000000,
          36900000000000,
          43200000000000,
          43200000000000,
          43200000000000,
          21600000000000,
          25200000000000,
          21600000000000,
          25200000000000,
          31500000000000,
          36000000000000,
          36000000000000,
          37140000000000,
          43200000000000,
          25200000000000,
          21600000000000,
          21600000000000,
          25200000000000,
          31500000000000,
          34200000000000,
          36000000000000,
          21600000000000,
          22500000000000,
          25200000000000,
          36000000000000,
          36000000000000,
          43200000000000,
          21600000000000,
          34200000000000,
          25200000000000,
          36000000000000,
          36900000000000,
          42300000000000,
          43200000000000,
          43200000000000,
          7200000000000,
          30600000000000,
          29400000000000,
          36000000000000,
          36000000000000,
          43200000000000,
          43200000000000,
          43200000000000,
          30600000000000,
          36000000000000,
          38220000000000,
          43200000000000,
          43200000000000,
          43200000000000,
          21600000000000,
          25200000000000,
          31500000000000,
          34440000000000,
          36000000000000,
          36000000000000,
          43200000000000,
          43200000000000,
          21600000000000,
          25200000000000,
          25200000000000,
          31500000000000,
          34920000000000,
          36000000000000,
          36000000000000,
          39600000000000,
          43200000000000,
          43200000000000,
          21600000000000,
          25200000000000,
          21600000000000,
          7200000000000,
          31500000000000,
          34200000000000,
          36000000000000,
          36000000000000,
          43200000000000,
          21600000000000,
          25200000000000,
          36000000000000,
          43200000000000,
          21600000000000,
          36000000000000,
          43200000000000,
          43200000000000,
          36000000000000,
          43200000000000,
          43200000000000,
          36000000000000,
          43200000000000,
          43200000000000,
          43200000000000,
          21600000000000,
          30600000000000,
          28800000000000,
          25200000000000,
          25200000000000,
          21000000000000,
          32400000000000,
          34620000000000,
          36000000000000,
          43200000000000,
          43200000000000,
          21600000000000,
          25200000000000,
          30600000000000,
          27000000000000,
          25200000000000,
          21600000000000,
          25200000000000,
          34500000000000,
          35100000000000,
          36000000000000,
          43200000000000,
          46800000000000,
          21600000000000,
          25200000000000,
          30600000000000,
          25200000000000,
          21600000000000,
          25200000000000,
          26100000000000,
          34500000000000,
          36000000000000,
          21600000000000,
          30600000000000,
          21600000000000,
          25200000000000,
          21600000000000,
          36000000000000,
          37800000000000,
          21600000000000,
          30600000000000,
          25200000000000,
          21600000000000,
          36000000000000,
          39600000000000,
          44100000000000,
          43200000000000,
          7200000000000,
          19800000000000,
          36000000000000,
          43200000000000,
          43200000000000,
          21600000000000,
          36300000000000,
          36000000000000,
          37800000000000,
          43200000000000,
          43200000000000,
          23400000000000,
          21600000000000,
          35100000000000,
          37800000000000,
          39600000000000,
          41400000000000,
          46200000000000,
          46800000000000,
          46800000000000,
          46800000000000,
          21600000000000,
          25200000000000,
          25200000000000,
          21600000000000,
          31500000000000,
          34200000000000,
          36000000000000,
          37800000000000,
          39600000000000,
          43200000000000,
          43200000000000,
          19800000000000,
          25200000000000,
          21600000000000,
          10800000000000,
          12600000000000,
          12600000000000,
          12600000000000,
          12600000000000,
          22500000000000,
          21600000000000,
          31500000000000,
          34200000000000,
          36000000000000,
          21600000000000,
          21600000000000,
          21600000000000,
          25200000000000,
          21600000000000,
          36000000000000,
          36000000000000,
          37800000000000,
          18000000000000,
          21600000000000,
          36000000000000,
          37500000000000,
          36000000000000,
          38700000000000,
          43200000000000,
          43200000000000,
          7200000000000,
          21600000000000,
          30600000000000,
          21600000000000,
          30600000000000,
          36000000000000,
          36900000000000,
          37320000000000,
          37800000000000,
          43200000000000,
          45000000000000,
          43200000000000,
          30600000000000,
          30600000000000,
          21600000000000,
          34200000000000,
          36000000000000,
          36900000000000,
          43200000000000,
          43200000000000,
          46800000000000,
          28800000000000,
          25200000000000,
          21600000000000,
          35100000000000,
          31500000000000,
          36000000000000,
          37800000000000,
          43200000000000,
          46800000000000,
          21600000000000,
          25200000000000,
          18000000000000,
          28800000000000,
          25200000000000,
          21600000000000,
          34920000000000,
          31500000000000,
          36000000000000,
          37800000000000,
          43200000000000,
          43200000000000,
          21600000000000,
          25200000000000,
          25200000000000,
          34500000000000,
          31500000000000,
          36000000000000,
          46800000000000,
          25200000000000,
          21600000000000,
          30600000000000,
          25200000000000,
          36000000000000,
          37800000000000,
          40500000000000,
          43200000000000,
          21600000000000,
          30600000000000,
          21600000000000,
          14400000000000,
          25200000000000,
          36000000000000,
          37800000000000,
          36900000000000,
          43200000000000,
          7200000000000,
          21600000000000,
          36000000000000,
          37800000000000,
          36900000000000,
          43200000000000,
          43200000000000,
          21600000000000,
          36000000000000,
          36900000000000,
          43200000000000,
          43200000000000,
          21600000000000,
          21600000000000,
          25200000000000,
          25200000000000,
          36000000000000,
          33360000000000,
          36000000000000,
          41400000000000,
          43200000000000,
          43200000000000,
          45000000000000,
          21600000000000,
          25200000000000,
          21600000000000,
          25200000000000,
          25200000000000,
          34800000000000,
          31500000000000,
          36000000000000,
          43200000000000,
          43200000000000,
          45000000000000,
          21600000000000,
          25200000000000,
          43200000000000,
          25200000000000,
          34200000000000,
          31500000000000,
          36000000000000,
          43200000000000,
          21600000000000,
          25200000000000,
          36000000000000,
          43200000000000,
          7200000000000,
          18000000000000,
          12600000000000,
          25200000000000,
          36000000000000,
          36900000000000,
          39600000000000,
          43200000000000,
          21600000000000,
          18000000000000,
          36000000000000,
          36900000000000,
          43200000000000,
          32400000000000,
          21600000000000,
          21600000000000,
          36000000000000,
          36900000000000,
          43200000000000,
          43200000000000,
          43200000000000,
          21600000000000,
          25200000000000,
          25200000000000,
          21600000000000,
          34800000000000,
          31500000000000,
          36000000000000,
          43200000000000,
          43200000000000,
          21600000000000,
          25200000000000,
          23400000000000,
          25200000000000,
          21600000000000,
          34200000000000,
          31500000000000,
          36000000000000,
          43200000000000,
          43200000000000,
          43200000000000,
          21600000000000,
          25200000000000,
          25200000000000,
          21600000000000,
          31920000000000,
          31500000000000,
          36000000000000,
          43200000000000,
          43200000000000,
          46800000000000,
          21600000000000,
          25200000000000,
          36000000000000,
          43200000000000,
          21600000000000,
          25200000000000,
          36000000000000,
          36900000000000,
          43200000000000,
          7200000000000,
          21600000000000,
          43200000000000,
          36000000000000,
          36900000000000,
          41700000000000,
          43200000000000,
          21600000000000,
          21600000000000,
          36000000000000,
          36000000000000,
          36900000000000,
          43200000000000,
          43200000000000,
          21600000000000,
          25200000000000,
          25200000000000,
          21600000000000,
          34200000000000,
          34200000000000,
          36000000000000,
          43200000000000,
          43200000000000,
          43200000000000,
          43200000000000,
          21600000000000,
          25200000000000,
          25200000000000,
          35100000000000,
          30600000000000,
          32400000000000,
          25200000000000,
          25200000000000,
          20100000000000,
          34200000000000,
          36000000000000,
          45000000000000,
          43200000000000,
          43200000000000,
          46800000000000,
          21600000000000,
          25200000000000,
          35100000000000,
          17700000000000,
          28800000000000,
          25200000000000,
          36000000000000,
          43200000000000,
          46800000000000,
          21600000000000,
          30600000000000,
          25200000000000,
          34200000000000,
          36000000000000,
          36000000000000,
          37800000000000,
          7200000000000,
          21600000000000,
          33000000000000,
          25200000000000,
          18000000000000,
          34200000000000,
          36000000000000,
          36900000000000,
          37800000000000,
          39600000000000,
          43200000000000,
          21600000000000,
          28800000000000,
          21600000000000,
          34200000000000,
          36000000000000,
          36000000000000,
          37380000000000,
          37800000000000,
          39600000000000,
          43200000000000,
          21600000000000,
          28800000000000,
          18000000000000,
          21600000000000,
          36000000000000,
          36900000000000,
          43200000000000,
          46800000000000,
          35100000000000,
          32400000000000,
          28800000000000,
          18000000000000,
          28800000000000,
          21600000000000,
          34200000000000,
          36000000000000,
          39300000000000,
          43200000000000,
          43200000000000,
          46800000000000,
          21600000000000,
          25200000000000,
          18000000000000,
          35100000000000,
          25200000000000,
          25200000000000,
          21600000000000,
          34200000000000,
          36000000000000,
          39300000000000,
          43200000000000,
          43200000000000,
          43200000000000,
          21600000000000,
          25200000000000,
          35100000000000,
          25200000000000,
          21600000000000,
          34200000000000,
          36000000000000,
          37800000000000,
          43200000000000,
          21600000000000,
          30600000000000,
          25200000000000,
          36000000000000,
          39600000000000,
          43200000000000,
          7200000000000,
          21600000000000,
          25200000000000,
          30600000000000,
          32400000000000,
          21600000000000,
          25200000000000,
          36000000000000,
          37140000000000,
          44400000000000,
          46800000000000,
          28800000000000,
          23400000000000,
          36000000000000,
          36900000000000,
          37800000000000,
          39600000000000,
          41100000000000,
          46800000000000,
          25200000000000,
          21600000000000,
          36000000000000,
          43200000000000,
          44100000000000,
          46800000000000,
          28800000000000,
          35100000000000,
          28800000000000,
          21600000000000,
          36000000000000,
          39600000000000,
          42240000000000,
          43200000000000,
          43200000000000,
          48000000000000,
          18900000000000,
          25200000000000,
          35100000000000,
          25200000000000,
          32400000000000,
          21600000000000,
          34200000000000,
          36000000000000,
          37800000000000,
          45000000000000,
          41400000000000,
          43200000000000,
          14400000000000,
          10800000000000,
          21600000000000,
          25200000000000,
          35100000000000,
          19200000000000,
          21600000000000,
          35700000000000,
          34200000000000,
          36000000000000,
          36900000000000,
          37800000000000,
          43200000000000,
          30600000000000,
          21600000000000,
          34200000000000,
          18000000000000,
          25200000000000,
          36000000000000,
          36900000000000,
          37800000000000,
          43200000000000,
          7200000000000,
          16500000000000,
          21600000000000,
          25200000000000,
          36000000000000,
          36900000000000,
          43200000000000,
          46800000000000,
          21600000000000,
          18000000000000,
          18000000000000,
          36000000000000,
          37800000000000,
          43200000000000,
          43200000000000,
          46800000000000,
          28800000000000,
          21600000000000,
          36000000000000,
          36900000000000,
          43200000000000,
          43200000000000,
          46800000000000,
          35100000000000,
          28800000000000,
          21600000000000,
          34200000000000,
          36000000000000,
          38700000000000,
          45000000000000,
          45000000000000,
          46800000000000,
          21600000000000,
          25200000000000,
          32400000000000,
          35100000000000,
          25200000000000,
          21600000000000,
          34200000000000,
          36000000000000,
          38700000000000,
          43200000000000,
          39600000000000,
          46800000000000,
          21600000000000,
          25200000000000,
          35100000000000,
          21600000000000,
          34200000000000,
          34200000000000,
          36000000000000,
          37800000000000,
          43200000000000,
          21600000000000,
          25200000000000,
          36060000000000,
          36000000000000,
          43200000000000,
          7200000000000,
          21600000000000,
          25200000000000,
          25200000000000,
          34200000000000,
          36000000000000,
          36900000000000,
          41400000000000,
          43200000000000,
          46800000000000,
          28800000000000,
          21600000000000,
          34200000000000,
          36000000000000,
          37560000000000,
          43200000000000,
          43200000000000,
          37800000000000,
          21600000000000,
          19800000000000,
          34200000000000,
          36000000000000,
          36900000000000,
          45000000000000,
          43200000000000,
          43200000000000,
          46800000000000,
          25200000000000,
          35100000000000,
          28800000000000,
          21600000000000,
          34920000000000,
          36000000000000,
          37800000000000,
          43200000000000,
          45000000000000,
          43200000000000,
          43200000000000,
          43200000000000,
          43200000000000,
          28800000000000,
          21600000000000,
          25200000000000,
          35100000000000,
          25200000000000,
          21600000000000,
          36000000000000,
          38400000000000,
          36000000000000,
          37800000000000,
          43200000000000,
          43200000000000,
          43200000000000,
          28800000000000,
          21600000000000,
          25200000000000,
          40500000000000,
          21600000000000,
          34200000000000,
          34200000000000,
          36000000000000,
          43200000000000,
          43200000000000,
          21600000000000,
          25200000000000,
          25200000000000,
          36960000000000,
          33300000000000,
          36000000000000,
          43200000000000,
          43200000000000,
          43200000000000,
          7200000000000,
          21600000000000,
          21600000000000,
          25200000000000,
          35100000000000,
          33300000000000,
          36000000000000,
          36900000000000,
          45000000000000,
          43200000000000,
          21600000000000,
          21600000000000,
          25200000000000,
          28800000000000,
          35100000000000,
          33300000000000,
          34200000000000,
          36000000000000,
          36900000000000,
          43200000000000,
          43200000000000,
          21600000000000,
          21600000000000,
          34200000000000,
          33300000000000,
          36000000000000,
          36900000000000,
          43200000000000,
          46800000000000,
          25200000000000,
          25200000000000,
          28800000000000,
          28800000000000,
          43200000000000,
          21600000000000,
          35700000000000,
          34800000000000,
          36000000000000,
          43200000000000,
          43200000000000,
          43200000000000,
          46800000000000,
          28800000000000,
          21600000000000,
          24600000000000,
          21600000000000,
          21600000000000,
          25200000000000,
          28800000000000,
          30600000000000,
          25200000000000,
          21600000000000,
          34200000000000,
          36000000000000,
          43200000000000,
          43200000000000,
          43200000000000,
          16800000000000,
          28800000000000,
          21600000000000,
          28800000000000,
          28800000000000,
          36000000000000,
          28800000000000,
          34200000000000,
          33600000000000,
          43200000000000,
          21600000000000,
          28800000000000,
          21600000000000,
          25200000000000,
          28800000000000,
          32400000000000,
          35100000000000,
          25200000000000,
          23400000000000,
          34200000000000,
          33300000000000,
          34200000000000,
          36000000000000,
          36000000000000,
          43200000000000,
          43200000000000,
          43200000000000,
          25200000000000,
          21600000000000,
          21600000000000,
          7200000000000,
          25200000000000,
          34200000000000,
          33300000000000,
          34200000000000,
          36000000000000,
          36900000000000,
          37800000000000,
          43200000000000,
          43200000000000,
          21600000000000,
          23400000000000,
          23400000000000,
          30600000000000,
          28800000000000,
          34200000000000,
          33300000000000,
          34200000000000,
          36000000000000,
          36900000000000,
          36000000000000,
          43200000000000,
          43200000000000,
          21600000000000,
          30600000000000,
          32400000000000,
          21600000000000,
          34200000000000,
          36000000000000,
          36900000000000,
          33300000000000,
          39000000000000,
          43200000000000,
          43200000000000,
          43200000000000,
          25200000000000,
          28800000000000,
          43200000000000,
          31200000000000,
          21600000000000,
          34200000000000,
          36000000000000,
          43200000000000,
          43200000000000,
          21600000000000,
          25200000000000,
          25200000000000,
          31200000000000,
          21600000000000,
          34200000000000,
          36000000000000,
          43200000000000,
          43200000000000,
          43200000000000,
          21600000000000,
          25200000000000,
          28800000000000,
          25200000000000,
          35100000000000,
          21600000000000,
          34920000000000,
          36000000000000,
          43200000000000,
          46800000000000,
          21600000000000,
          21600000000000,
          25200000000000,
          25200000000000,
          34200000000000,
          36000000000000,
          36000000000000,
          36900000000000,
          33300000000000,
          43200000000000,
          21600000000000,
          21600000000000,
          7200000000000,
          25200000000000,
          34200000000000,
          34200000000000,
          36000000000000,
          36900000000000,
          36000000000000,
          33300000000000,
          43200000000000,
          21600000000000,
          28800000000000,
          34200000000000,
          34200000000000,
          36000000000000,
          36900000000000,
          37800000000000,
          33300000000000,
          43200000000000,
          43200000000000,
          21600000000000,
          28800000000000,
          35100000000000,
          25200000000000,
          21600000000000,
          34200000000000,
          36000000000000,
          33300000000000,
          40500000000000,
          39600000000000,
          46800000000000,
          45000000000000,
          25200000000000,
          28800000000000,
          21600000000000,
          34200000000000,
          36000000000000,
          36000000000000,
          43200000000000,
          46800000000000,
          21600000000000,
          25200000000000,
          30600000000000,
          32400000000000,
          25200000000000,
          21600000000000,
          36000000000000,
          36000000000000,
          43200000000000,
          43200000000000,
          43200000000000,
          21600000000000,
          25200000000000,
          28800000000000,
          32400000000000,
          21600000000000,
          36000000000000,
          36000000000000,
          37800000000000,
          41400000000000,
          43200000000000,
          15300000000000,
          21600000000000,
          21600000000000,
          28800000000000,
          25200000000000,
          36000000000000,
          36000000000000,
          37200000000000,
          33300000000000,
          37800000000000,
          37800000000000,
          46800000000000,
          21600000000000,
          21600000000000,
          7200000000000,
          30600000000000,
          25200000000000,
          36000000000000,
          36000000000000,
          36900000000000,
          37800000000000,
          33300000000000,
          37800000000000,
          21600000000000,
          23400000000000,
          28800000000000,
          36000000000000,
          36000000000000,
          36900000000000,
          33300000000000,
          37800000000000,
          21600000000000,
          21600000000000,
          21600000000000,
          34200000000000,
          34200000000000,
          36000000000000,
          36900000000000,
          33300000000000,
          37800000000000,
          43200000000000,
          43200000000000,
          28800000000000,
          25200000000000,
          28800000000000,
          43200000000000,
          21600000000000,
          36240000000000,
          34200000000000,
          36000000000000,
          37800000000000,
          43200000000000,
          43200000000000,
          43200000000000,
          21600000000000,
          25200000000000,
          43200000000000,
          25200000000000,
          21600000000000,
          34920000000000,
          34200000000000,
          36000000000000,
          38460000000000,
          43200000000000,
          43200000000000,
          43200000000000,
          21600000000000,
          25200000000000,
          28800000000000,
          21600000000000,
          34200000000000,
          34200000000000,
          36000000000000,
          39600000000000,
          43200000000000,
          43200000000000,
          43200000000000,
          21600000000000,
          32400000000000,
          25200000000000,
          36000000000000,
          45000000000000,
          43200000000000,
          43200000000000,
          19800000000000,
          6300000000000,
          21600000000000,
          7200000000000,
          25200000000000,
          36000000000000,
          36900000000000,
          37800000000000,
          45000000000000,
          43200000000000,
          43200000000000,
          19800000000000,
          25200000000000,
          21600000000000,
          34200000000000,
          36000000000000,
          36900000000000,
          37800000000000,
          43200000000000,
          28800000000000,
          43200000000000,
          36000000000000,
          36000000000000,
          36900000000000,
          37800000000000,
          46800000000000,
          21600000000000,
          28800000000000,
          28800000000000,
          43200000000000,
          43200000000000,
          34200000000000,
          36000000000000,
          33300000000000,
          36000000000000,
          43200000000000,
          42300000000000,
          46800000000000,
          21600000000000,
          25200000000000,
          21600000000000,
          43200000000000,
          28800000000000,
          34200000000000,
          34200000000000,
          36000000000000,
          36000000000000,
          37800000000000,
          43200000000000,
          43200000000000,
          43200000000000,
          43200000000000,
          21600000000000,
          28800000000000,
          43200000000000,
          34200000000000,
          33300000000000,
          36000000000000,
          37800000000000,
          43200000000000,
          43200000000000,
          43200000000000,
          25200000000000,
          21600000000000,
          21600000000000,
          28800000000000,
          36000000000000,
          37800000000000,
          43200000000000,
          25200000000000,
          21600000000000,
          43200000000000,
          25200000000000,
          36000000000000,
          37800000000000,
          25200000000000,
          28800000000000,
          21600000000000,
          21600000000000,
          28800000000000,
          36000000000000,
          36900000000000,
          37800000000000,
          25200000000000,
          23400000000000,
          28800000000000,
          21600000000000,
          43200000000000,
          28800000000000,
          36000000000000,
          37800000000000,
          36900000000000,
          43200000000000,
          43200000000000,
          28800000000000,
          28800000000000,
          34200000000000,
          36000000000000,
          34200000000000,
          36000000000000,
          37800000000000,
          43200000000000,
          45000000000000,
          21600000000000,
          25200000000000,
          30600000000000,
          21600000000000,
          34200000000000,
          34200000000000,
          34200000000000,
          36000000000000,
          37800000000000,
          43200000000000,
          43200000000000,
          43200000000000,
          43200000000000,
          21600000000000,
          27240000000000,
          21600000000000,
          30600000000000,
          28800000000000,
          21600000000000,
          36000000000000,
          35100000000000,
          36000000000000,
          37800000000000,
          43200000000000,
          43200000000000,
          43200000000000,
          46800000000000,
          21600000000000,
          21600000000000,
          43200000000000,
          28800000000000,
          36000000000000,
          37800000000000,
          43200000000000,
          25200000000000,
          21600000000000,
          43200000000000,
          25200000000000,
          36000000000000,
          53100000000000,
          43200000000000,
          21600000000000,
          21600000000000,
          21600000000000,
          28800000000000,
          36000000000000,
          36900000000000,
          43200000000000,
          28800000000000,
          21600000000000,
          18000000000000,
          34200000000000,
          36000000000000,
          36900000000000,
          43200000000000,
          43200000000000,
          46800000000000,
          28800000000000,
          28800000000000,
          34620000000000,
          33300000000000,
          34200000000000,
          36000000000000,
          38700000000000,
          43200000000000,
          43200000000000,
          43200000000000,
          46800000000000,
          21600000000000,
          25200000000000,
          21600000000000,
          33300000000000,
          36000000000000,
          34200000000000,
          36000000000000,
          38700000000000,
          36900000000000,
          43200000000000,
          43200000000000,
          43200000000000,
          43200000000000,
          46800000000000,
          21600000000000,
          25200000000000,
          21600000000000,
          34200000000000,
          36000000000000,
          36000000000000,
          38700000000000,
          36900000000000,
          43200000000000,
          43200000000000,
          44400000000000,
          43200000000000,
          43200000000000,
          21600000000000,
          25200000000000,
          30600000000000,
          21600000000000,
          36000000000000,
          43200000000000,
          43200000000000,
          21600000000000,
          21600000000000,
          28800000000000,
          36000000000000,
          36900000000000,
          21600000000000,
          28800000000000,
          36000000000000,
          35100000000000,
          36900000000000,
          28800000000000,
          30600000000000,
          21600000000000,
          28800000000000,
          36000000000000,
          36900000000000,
          43200000000000,
          43200000000000,
          43200000000000,
          28800000000000,
          28800000000000,
          30600000000000,
          28800000000000,
          34200000000000,
          33300000000000,
          36000000000000,
          38700000000000,
          43200000000000,
          43200000000000,
          43200000000000,
          43200000000000,
          21600000000000,
          36000000000000,
          39600000000000,
          29940000000000,
          33300000000000,
          36000000000000,
          38700000000000,
          43200000000000,
          43200000000000,
          43200000000000,
          43200000000000,
          43200000000000,
          21600000000000,
          27000000000000,
          36000000000000,
          33300000000000,
          36000000000000,
          38700000000000,
          43200000000000,
          43200000000000,
          45000000000000,
          43200000000000,
          43200000000000,
          21600000000000,
          18000000000000,
          30600000000000,
          21600000000000,
          36000000000000,
          37800000000000,
          38700000000000,
          43200000000000,
          25200000000000,
          21600000000000,
          30600000000000,
          30600000000000,
          21600000000000,
          3600000000000,
          25200000000000,
          21600000000000,
          36000000000000,
          36900000000000,
          37800000000000,
          43200000000000,
          32400000000000,
          21600000000000,
          28800000000000,
          21600000000000,
          36000000000000,
          36900000000000,
          43200000000000,
          43200000000000,
          31800000000000,
          30600000000000,
          21600000000000,
          28800000000000,
          36000000000000,
          36900000000000,
          43200000000000,
          43200000000000,
          43200000000000,
          43200000000000,
          46800000000000,
          18000000000000,
          28800000000000,
          33300000000000,
          33900000000000,
          36000000000000,
          43200000000000,
          41400000000000,
          43200000000000,
          43200000000000,
          43200000000000,
          43200000000000,
          43200000000000,
          46800000000000,
          21600000000000,
          25200000000000,
          28800000000000,
          21600000000000,
          21600000000000,
          33300000000000,
          36000000000000,
          37800000000000,
          36000000000000,
          36000000000000,
          43200000000000,
          43200000000000,
          43200000000000,
          21600000000000,
          27900000000000,
          28800000000000,
          21600000000000,
          33300000000000,
          36000000000000,
          41400000000000,
          43200000000000,
          21600000000000,
          43200000000000,
          43200000000000,
          21600000000000,
          28800000000000,
          30600000000000,
          21600000000000,
          36000000000000,
          43200000000000,
          43200000000000,
          21600000000000,
          26100000000000,
          30600000000000,
          28800000000000,
          21600000000000,
          36000000000000,
          36900000000000,
          46800000000000,
          28800000000000,
          21600000000000,
          36000000000000,
          36900000000000,
          43200000000000,
          28800000000000,
          30600000000000,
          21600000000000,
          36000000000000,
          36000000000000,
          36900000000000,
          43200000000000,
          43200000000000,
          46800000000000,
          30600000000000,
          30600000000000,
          28800000000000,
          33300000000000,
          36000000000000,
          36000000000000,
          36000000000000,
          43200000000000,
          43200000000000,
          43200000000000,
          43200000000000,
          21600000000000,
          30600000000000,
          25200000000000,
          30600000000000,
          21600000000000,
          21600000000000,
          33300000000000,
          36000000000000,
          36000000000000,
          36000000000000,
          43200000000000,
          43200000000000,
          43200000000000,
          46800000000000,
          21600000000000,
          30600000000000,
          21600000000000,
          33300000000000,
          36000000000000,
          36000000000000,
          43200000000000,
          43200000000000,
          43200000000000,
          21600000000000,
          10800000000000,
          30600000000000,
          30600000000000,
          32400000000000,
          36000000000000,
          37800000000000,
          43200000000000,
          21600000000000,
          10800000000000,
          32400000000000,
          21600000000000,
          41400000000000,
          37800000000000,
          36900000000000,
          46800000000000,
          10800000000000,
          10800000000000,
          10800000000000,
          12600000000000,
          21600000000000,
          35100000000000,
          37800000000000,
          36900000000000,
          50400000000000,
          9000000000000,
          36000000000000,
          39000000000000,
          36900000000000,
          39600000000000,
          43200000000000,
          43200000000000,
          46800000000000,
          37800000000000,
          28800000000000,
          36000000000000,
          36000000000000,
          43200000000000,
          43200000000000,
          46800000000000,
          23400000000000,
          25200000000000,
          30600000000000,
          30600000000000,
          37800000000000,
          21600000000000,
          21600000000000,
          36000000000000,
          36000000000000,
          43200000000000,
          45000000000000,
          43200000000000,
          43200000000000,
          21600000000000,
          14400000000000,
          21600000000000,
          31500000000000,
          33300000000000,
          36000000000000,
          36000000000000,
          43200000000000,
          45000000000000,
          19800000000000,
          21600000000000,
          36000000000000,
          40800000000000,
          43200000000000,
          21600000000000,
          10800000000000,
          28800000000000,
          32400000000000,
          36000000000000,
          36900000000000,
          46800000000000,
          10800000000000,
          10800000000000,
          10800000000000,
          10800000000000,
          28800000000000,
          21600000000000,
          36000000000000,
          36900000000000,
          46800000000000,
          21600000000000,
          30600000000000,
          30600000000000,
          36000000000000,
          36900000000000,
          43200000000000,
          43200000000000,
          46800000000000,
          27000000000000,
          37800000000000,
          28800000000000,
          36000000000000,
          36000000000000,
          10800000000000,
          43200000000000,
          43200000000000,
          43200000000000,
          46800000000000,
          21600000000000,
          18000000000000,
          25200000000000,
          35400000000000,
          37800000000000,
          10800000000000,
          21600000000000,
          21600000000000,
          36000000000000,
          36000000000000,
          36900000000000,
          43200000000000,
          45000000000000,
          21600000000000,
          46800000000000,
          21600000000000,
          36000000000000,
          36000000000000,
          36000000000000,
          36000000000000,
          43200000000000,
          45000000000000,
          18000000000000,
          18000000000000,
          21600000000000,
          28800000000000,
          34200000000000,
          36000000000000,
          43200000000000,
          21600000000000,
          32400000000000,
          28800000000000,
          36000000000000,
          46800000000000,
          21600000000000,
          26100000000000,
          28800000000000,
          36000000000000,
          46800000000000,
          36000000000000,
          43200000000000,
          46800000000000,
          21600000000000,
          30600000000000,
          28800000000000,
          30600000000000,
          36000000000000,
          36000000000000,
          43200000000000,
          43200000000000,
          46800000000000,
          21600000000000,
          21600000000000,
          25200000000000,
          32400000000000,
          21600000000000,
          36000000000000,
          36000000000000,
          43200000000000,
          43200000000000,
          45000000000000,
          43200000000000,
          21600000000000,
          21600000000000,
          15000000000000,
          23400000000000,
          36000000000000,
          36000000000000,
          38700000000000,
          43200000000000,
          43200000000000,
          46800000000000,
          21600000000000,
          21600000000000,
          30600000000000,
          36000000000000,
          21600000000000,
          36000000000000,
          43200000000000,
          43200000000000,
          21600000000000,
          21600000000000,
          12600000000000,
          21600000000000,
          36000000000000,
          44100000000000,
          43200000000000,
          43200000000000,
          21600000000000,
          30600000000000,
          21600000000000,
          36000000000000,
          43200000000000,
          46800000000000,
          43200000000000,
          43200000000000,
          19800000000000,
          30600000000000,
          21600000000000,
          34200000000000,
          36000000000000,
          36000000000000,
          43200000000000,
          43200000000000,
          43200000000000,
          43200000000000,
          18000000000000,
          21600000000000,
          30600000000000,
          21600000000000,
          36000000000000,
          36000000000000,
          38700000000000,
          43200000000000,
          43200000000000,
          43200000000000,
          21600000000000,
          21600000000000,
          30600000000000,
          30600000000000,
          21600000000000,
          36000000000000,
          36000000000000,
          38700000000000,
          43200000000000,
          43200000000000,
          21600000000000,
          36000000000000,
          36000000000000,
          38700000000000,
          43200000000000,
          43200000000000,
          43200000000000,
          43200000000000,
          21600000000000,
          33300000000000,
          36000000000000,
          36000000000000,
          38100000000000,
          43200000000000,
          21600000000000,
          21600000000000,
          33300000000000,
          36000000000000,
          36000000000000,
          21600000000000,
          29400000000000,
          33300000000000,
          36000000000000,
          43200000000000,
          43200000000000,
          30600000000000,
          21600000000000,
          33300000000000,
          37500000000000,
          36000000000000,
          41400000000000,
          43200000000000,
          18000000000000,
          28800000000000,
          14400000000000,
          30600000000000,
          21600000000000,
          36000000000000,
          36000000000000,
          38700000000000,
          43200000000000,
          43200000000000,
          21600000000000,
          18000000000000,
          21600000000000,
          25200000000000,
          30600000000000,
          21600000000000,
          34200000000000,
          24300000000000,
          34200000000000,
          36000000000000,
          36000000000000,
          38700000000000,
          43200000000000,
          21600000000000,
          28800000000000,
          33300000000000,
          36000000000000,
          34200000000000,
          36000000000000,
          38700000000000,
          43200000000000,
          18000000000000,
          21600000000000,
          33300000000000,
          36000000000000,
          38700000000000,
          21600000000000,
          33300000000000,
          36000000000000,
          33300000000000,
          36000000000000,
          43200000000000,
          43200000000000,
          21600000000000,
          34200000000000,
          33300000000000,
          36000000000000,
          43200000000000,
          43200000000000,
          33300000000000,
          36000000000000,
          36000000000000,
          40500000000000,
          43200000000000,
          43200000000000,
          43200000000000,
          17100000000000,
          25200000000000,
          21600000000000,
          30600000000000,
          21600000000000,
          28800000000000,
          21600000000000,
          33300000000000,
          36000000000000,
          36000000000000,
          38160000000000,
          43200000000000,
          28800000000000,
          21600000000000,
          21600000000000,
          36000000000000,
          34200000000000,
          36000000000000,
          37800000000000,
          43200000000000,
          30600000000000,
          30600000000000,
          36000000000000,
          39900000000000,
          43200000000000,
          21600000000000,
          36000000000000,
          36000000000000,
          36000000000000,
          43200000000000,
          34200000000000,
          36000000000000,
          43200000000000,
          36000000000000,
          33300000000000,
          36000000000000,
          37800000000000,
          10500000000000,
          43200000000000,
          21600000000000,
          30600000000000,
          21600000000000,
          36000000000000,
          33300000000000,
          36000000000000,
          37800000000000,
          43200000000000,
          18000000000000,
          30600000000000,
          36000000000000,
          33300000000000,
          34200000000000,
          36000000000000,
          37800000000000,
          43200000000000,
          43200000000000,
          43200000000000,
          30600000000000,
          36000000000000,
          41400000000000,
          43200000000000,
          28800000000000,
          36000000000000,
          43200000000000,
          36000000000000,
          43200000000000,
          43200000000000,
          36000000000000,
          43200000000000,
          21600000000000,
          25200000000000,
          28800000000000,
          30600000000000,
          36000000000000,
          36000000000000,
          38700000000000,
          18000000000000,
          25200000000000,
          30600000000000,
          37800000000000,
          43200000000000,
          30600000000000,
          36000000000000,
          36000000000000,
          38700000000000,
          43200000000000,
          21600000000000,
          30600000000000,
          36000000000000,
          36000000000000,
          38700000000000,
          43200000000000,
          43200000000000,
          43200000000000,
          18000000000000,
          36000000000000,
          36000000000000,
          39600000000000,
          43200000000000,
          43200000000000,
          18000000000000,
          25200000000000,
          25200000000000,
          36000000000000,
          43200000000000,
          25200000000000,
          36000000000000,
          30600000000000,
          36000000000000,
          43200000000000,
          18000000000000,
          30600000000000,
          34200000000000,
          36000000000000,
          28800000000000,
          34200000000000,
          36000000000000,
          36000000000000,
          38340000000000,
          41400000000000,
          43200000000000,
          43200000000000,
          18000000000000,
          25200000000000,
          30600000000000,
          27000000000000,
          34200000000000,
          36000000000000,
          36000000000000,
          36900000000000,
          42000000000000,
          43200000000000,
          43200000000000,
          43200000000000,
          30600000000000,
          36000000000000,
          36000000000000,
          36900000000000,
          43200000000000,
          43200000000000,
          46800000000000,
          43200000000000,
          18000000000000,
          25200000000000,
          28800000000000,
          36000000000000,
          43200000000000,
          43200000000000,
          43200000000000,
          18000000000000,
          25200000000000,
          32400000000000,
          36000000000000,
          43200000000000,
          43200000000000,
          36000000000000,
          43200000000000,
          43200000000000,
          18000000000000,
          36000000000000,
          36000000000000,
          36000000000000,
          28800000000000,
          36000000000000,
          36000000000000,
          36900000000000,
          43200000000000,
          18000000000000,
          34200000000000,
          30600000000000,
          28800000000000,
          36000000000000,
          36000000000000,
          36900000000000,
          43200000000000,
          36000000000000,
          28800000000000,
          36000000000000,
          36000000000000,
          37500000000000,
          43200000000000,
          46800000000000,
          25200000000000,
          18000000000000,
          39600000000000,
          32400000000000,
          36000000000000,
          43200000000000,
          18000000000000,
          18000000000000,
          36000000000000,
          25200000000000,
          23400000000000,
          36000000000000,
          39600000000000,
          43200000000000,
          21600000000000,
          18000000000000,
          18000000000000,
          23400000000000,
          32400000000000,
          36000000000000,
          43200000000000,
          18000000000000,
          36000000000000,
          18000000000000,
          36000000000000,
          25200000000000,
          28800000000000,
          36000000000000,
          36000000000000,
          38400000000000,
          43200000000000,
          21600000000000,
          25200000000000,
          30600000000000,
          33000000000000,
          21600000000000,
          36000000000000,
          36000000000000,
          38580000000000,
          50400000000000,
          18000000000000,
          28800000000000,
          30600000000000,
          30600000000000,
          36000000000000,
          34200000000000,
          36000000000000,
          36900000000000,
          43200000000000,
          46800000000000,
          18000000000000,
          25200000000000,
          21600000000000,
          43200000000000,
          34200000000000,
          36000000000000,
          43200000000000,
          18000000000000,
          26400000000000,
          21600000000000,
          34200000000000,
          36000000000000,
          43200000000000,
          25200000000000,
          39600000000000,
          25200000000000,
          32400000000000,
          34200000000000,
          36000000000000,
          48600000000000,
          18000000000000,
          21600000000000,
          29700000000000,
          36000000000000,
          36000000000000,
          43200000000000,
          25200000000000,
          28800000000000,
          28800000000000,
          28800000000000,
          36000000000000,
          36000000000000,
          36900000000000,
          43200000000000,
          43200000000000,
          21600000000000,
          25200000000000,
          37200000000000,
          32400000000000,
          21600000000000,
          28800000000000,
          28800000000000,
          34200000000000,
          36000000000000,
          36900000000000,
          21600000000000,
          18000000000000,
          21600000000000,
          21600000000000,
          25200000000000,
          21600000000000,
          28800000000000,
          34200000000000,
          34200000000000,
          36000000000000,
          36900000000000,
          43200000000000,
          43200000000000,
          43200000000000,
          43200000000000,
          14400000000000,
          10800000000000,
          30600000000000,
          21600000000000,
          21600000000000,
          34200000000000,
          36000000000000,
          43200000000000,
          43200000000000,
          7200000000000,
          10800000000000,
          9000000000000,
          21600000000000,
          34200000000000,
          36000000000000,
          43200000000000,
          7200000000000,
          7200000000000,
          18000000000000,
          9000000000000,
          10800000000000,
          28800000000000,
          34200000000000,
          36000000000000,
          46800000000000,
          10800000000000,
          18000000000000,
          36000000000000,
          43200000000000,
          25200000000000,
          25200000000000,
          28800000000000,
          27000000000000,
          43200000000000,
          32400000000000,
          29700000000000,
          32400000000000,
          33300000000000,
          39600000000000,
          18000000000000,
          30600000000000,
          30600000000000,
          43200000000000,
          21600000000000,
          32400000000000,
          36000000000000,
          33300000000000,
          36000000000000,
          37500000000000,
          43200000000000,
          25200000000000,
          38700000000000,
          32400000000000,
          33300000000000,
          36000000000000,
          36900000000000,
          43200000000000,
          34200000000000,
          36000000000000,
          34200000000000,
          36000000000000,
          21600000000000,
          34200000000000,
          36000000000000,
          18000000000000,
          36000000000000,
          36000000000000,
          43200000000000,
          43200000000000,
          15300000000000,
          28800000000000,
          28800000000000,
          36000000000000,
          33300000000000,
          36000000000000,
          36900000000000,
          43200000000000,
          18000000000000,
          32400000000000,
          34200000000000,
          21600000000000,
          36000000000000,
          33300000000000,
          36000000000000,
          36900000000000,
          43200000000000,
          7200000000000,
          21600000000000,
          21600000000000,
          28800000000000,
          43200000000000,
          28800000000000,
          36000000000000,
          36900000000000,
          43200000000000,
          43200000000000,
          25200000000000,
          21600000000000,
          32400000000000,
          46800000000000,
          28800000000000,
          32400000000000,
          34200000000000,
          36000000000000,
          25200000000000,
          30600000000000,
          36000000000000,
          32400000000000,
          34200000000000,
          36000000000000,
          23400000000000,
          21600000000000,
          32400000000000,
          34200000000000,
          34200000000000,
          36000000000000,
          18000000000000,
          36000000000000,
          45000000000000,
          30600000000000,
          28800000000000,
          43200000000000,
          36000000000000,
          36000000000000,
          38400000000000,
          41400000000000,
          18000000000000,
          32400000000000,
          32700000000000,
          21600000000000,
          43200000000000,
          36000000000000,
          36000000000000,
          36900000000000,
          28800000000000,
          36000000000000,
          36000000000000,
          36900000000000,
          43200000000000,
          43200000000000,
          43200000000000,
          21600000000000,
          34200000000000,
          21600000000000,
          33300000000000,
          33300000000000,
          36000000000000,
          43200000000000,
          45000000000000,
          21600000000000,
          30600000000000,
          21600000000000,
          33300000000000,
          33300000000000,
          36000000000000,
          43200000000000,
          21600000000000,
          33300000000000,
          33300000000000,
          36000000000000,
          43200000000000,
          21600000000000,
          36000000000000,
          21600000000000,
          33300000000000,
          36000000000000,
          30600000000000,
          27600000000000,
          21600000000000,
          32400000000000,
          36000000000000,
          36000000000000,
          36900000000000,
          18000000000000,
          30600000000000,
          34800000000000,
          21600000000000,
          32400000000000,
          36000000000000,
          36000000000000,
          36900000000000,
          43200000000000,
          43200000000000,
          32400000000000,
          36000000000000,
          36000000000000,
          36900000000000,
          43200000000000,
          43200000000000,
          43200000000000,
          12600000000000,
          36000000000000,
          43200000000000,
          43200000000000,
          33300000000000,
          36000000000000,
          43200000000000,
          43200000000000,
          32400000000000,
          28800000000000,
          30600000000000,
          34200000000000,
          33300000000000,
          36000000000000,
          43200000000000,
          44100000000000,
          32400000000000,
          30600000000000,
          36000000000000,
          43200000000000,
          30600000000000,
          18000000000000,
          28800000000000,
          32400000000000,
          33300000000000,
          36000000000000,
          36900000000000,
          43200000000000,
          18000000000000,
          19800000000000,
          30600000000000,
          31800000000000,
          21600000000000,
          32400000000000,
          33300000000000,
          36000000000000,
          36900000000000,
          43200000000000,
          18000000000000,
          32400000000000,
          32400000000000,
          33300000000000,
          33300000000000,
          36000000000000,
          36900000000000,
          43200000000000,
          43200000000000,
          43200000000000,
          43200000000000,
          30600000000000,
          32400000000000,
          30600000000000,
          33300000000000,
          36000000000000,
          36000000000000,
          37800000000000,
          43200000000000,
          43200000000000,
          44100000000000,
          46800000000000,
          30600000000000,
          32400000000000,
          30600000000000,
          33300000000000,
          36000000000000,
          39600000000000,
          43200000000000,
          43200000000000,
          43200000000000,
          30600000000000,
          27000000000000,
          32400000000000,
          30600000000000,
          33300000000000,
          36000000000000,
          43200000000000,
          44100000000000,
          30600000000000,
          32400000000000,
          30600000000000,
          32400000000000,
          36000000000000,
          43200000000000,
          45000000000000,
          28800000000000,
          21600000000000,
          36000000000000,
          36900000000000,
          42600000000000,
          43200000000000,
          43200000000000,
          18000000000000,
          36000000000000,
          21600000000000,
          21600000000000,
          30600000000000,
          36000000000000,
          44100000000000,
          43200000000000,
          44400000000000,
          43200000000000,
          18000000000000,
          32400000000000,
          30600000000000,
          32400000000000,
          36000000000000,
          39600000000000,
          36900000000000,
          43200000000000,
          43200000000000,
          18000000000000,
          32400000000000,
          32400000000000,
          34200000000000,
          36000000000000,
          43200000000000,
          18000000000000,
          21600000000000,
          32400000000000,
          32400000000000,
          34200000000000,
          120600000000000,
          36000000000000,
          43200000000000,
          21600000000000,
          10800000000000,
          32400000000000,
          30600000000000,
          32400000000000,
          34200000000000,
          36000000000000,
          30600000000000,
          32400000000000,
          30600000000000,
          33300000000000,
          36000000000000,
          36000000000000,
          36900000000000,
          43200000000000,
          46800000000000,
          30600000000000,
          28800000000000,
          34200000000000,
          36000000000000,
          36900000000000,
          43200000000000,
          46800000000000,
          18000000000000,
          16200000000000,
          31800000000000,
          34200000000000,
          36000000000000,
          36900000000000,
          46800000000000,
          27000000000000,
          32400000000000,
          32400000000000,
          32400000000000,
          36000000000000,
          36900000000000,
          43200000000000,
          21600000000000,
          18000000000000,
          32400000000000,
          28800000000000,
          32400000000000,
          34200000000000,
          36000000000000,
          36900000000000,
          18000000000000,
          31500000000000,
          32400000000000,
          32400000000000,
          34200000000000,
          36000000000000,
          36900000000000,
          40500000000000,
          28800000000000,
          33600000000000,
          32400000000000,
          21600000000000,
          34200000000000,
          36000000000000,
          39600000000000,
          36900000000000,
          20700000000000,
          27000000000000,
          27000000000000,
          32400000000000,
          36000000000000,
          36900000000000,
          43200000000000,
          30600000000000,
          28800000000000,
          31500000000000,
          36000000000000,
          36900000000000,
          46980000000000,
          18000000000000,
          21600000000000,
          32400000000000,
          36000000000000,
          36900000000000,
          27000000000000,
          36000000000000,
          36900000000000,
          43200000000000,
          9000000000000,
          21600000000000,
          18000000000000,
          21600000000000,
          27000000000000,
          36000000000000,
          34200000000000,
          36000000000000,
          36900000000000,
          18000000000000,
          21600000000000,
          10800000000000,
          27000000000000,
          34200000000000,
          36000000000000,
          36900000000000,
          18000000000000,
          21600000000000,
          30600000000000,
          27000000000000,
          34200000000000,
          36000000000000,
          36900000000000,
          21600000000000,
          30600000000000,
          27000000000000,
          36000000000000,
          36900000000000,
          30600000000000,
          30600000000000,
          28800000000000,
          36000000000000,
          36900000000000,
          15600000000000,
          21600000000000,
          30600000000000,
          30600000000000,
          21600000000000,
          21600000000000,
          34200000000000,
          36000000000000,
          36900000000000,
          18000000000000,
          30600000000000,
          30600000000000,
          28800000000000,
          27000000000000,
          34200000000000,
          36000000000000,
          36900000000000,
          43200000000000,
          32400000000000,
          30600000000000,
          30600000000000,
          34200000000000,
          36000000000000,
          36900000000000,
          25200000000000,
          30600000000000,
          30600000000000,
          27000000000000,
          34200000000000,
          36000000000000,
          40380000000000,
          43200000000000,
          30600000000000,
          25200000000000,
          27000000000000,
          34200000000000,
          36000000000000,
          43200000000000,
          21600000000000,
          30600000000000,
          25200000000000,
          27000000000000,
          34200000000000,
          36000000000000,
          43200000000000,
          21600000000000,
          34800000000000,
          30600000000000,
          28800000000000,
          29820000000000,
          36000000000000,
          36900000000000,
          43200000000000,
          21600000000000,
          30600000000000,
          21600000000000,
          28800000000000,
          21600000000000,
          34200000000000,
          36000000000000,
          36900000000000,
          18000000000000,
          30600000000000,
          21600000000000,
          28800000000000,
          27000000000000,
          36000000000000,
          36900000000000,
          43200000000000,
          21600000000000,
          14400000000000,
          12600000000000,
          30600000000000,
          27000000000000,
          34200000000000,
          36000000000000,
          10800000000000,
          18000000000000,
          21600000000000,
          12600000000000,
          12600000000000,
          37800000000000,
          34200000000000,
          36000000000000,
          43200000000000,
          16200000000000,
          30600000000000,
          12600000000000,
          39600000000000,
          27000000000000,
          34200000000000,
          36000000000000,
          43200000000000,
          46800000000000,
          30600000000000,
          32400000000000,
          27000000000000,
          36000000000000,
          43200000000000,
          43200000000000,
          43200000000000,
          30600000000000,
          28800000000000,
          32400000000000,
          36000000000000,
          36900000000000,
          21600000000000,
          30600000000000,
          30600000000000,
          21600000000000,
          36000000000000,
          36900000000000,
          37800000000000,
          18000000000000,
          30600000000000,
          21600000000000,
          30600000000000,
          27000000000000,
          36000000000000,
          36900000000000,
          37800000000000,
          43200000000000,
          46800000000000,
          18000000000000,
          21600000000000,
          28800000000000,
          27000000000000,
          36000000000000,
          43200000000000,
          18000000000000,
          28800000000000,
          27000000000000,
          36000000000000,
          43200000000000,
          46800000000000,
          32400000000000,
          32400000000000,
          36000000000000,
          40500000000000,
          45900000000000,
          30600000000000,
          27000000000000,
          36000000000000,
          43200000000000,
          28800000000000,
          28800000000000,
          36000000000000,
          36900000000000,
          43200000000000,
          21600000000000,
          30600000000000,
          21600000000000,
          28800000000000,
          36000000000000,
          36900000000000,
          37800000000000,
          43200000000000,
          43200000000000,
          43200000000000,
          21600000000000,
          23400000000000,
          28800000000000,
          27000000000000,
          36000000000000,
          36900000000000,
          43200000000000,
          43200000000000,
          43200000000000,
          27000000000000,
          33300000000000,
          36000000000000,
          37800000000000,
          43200000000000,
          43200000000000,
          25200000000000,
          33300000000000,
          36000000000000,
          43200000000000,
          47700000000000,
          46800000000000,
          18000000000000,
          19800000000000,
          21600000000000,
          30600000000000,
          33300000000000,
          36000000000000,
          43200000000000,
          43200000000000,
          46800000000000,
          18000000000000,
          36000000000000,
          44100000000000,
          25200000000000,
          25200000000000,
          32400000000000,
          25200000000000,
          40500000000000,
          36000000000000,
          36900000000000,
          37800000000000,
          46800000000000,
          41400000000000,
          21600000000000,
          53100000000000,
          21600000000000,
          21600000000000,
          25200000000000,
          21600000000000,
          21600000000000,
          36000000000000,
          36900000000000,
          37800000000000,
          18000000000000,
          21600000000000,
          23400000000000,
          21600000000000,
          33300000000000,
          34200000000000,
          36000000000000,
          36900000000000,
          37800000000000,
          43200000000000,
          43200000000000,
          43200000000000,
          10200000000000,
          36000000000000,
          37800000000000,
          43200000000000,
          43200000000000,
          43200000000000,
          43200000000000,
          18000000000000,
          21600000000000,
          36000000000000,
          43200000000000,
          43200000000000,
          43200000000000,
          46800000000000,
          51600000000000,
          18000000000000,
          30600000000000,
          21600000000000,
          36000000000000,
          36000000000000,
          43200000000000,
          43200000000000,
          18000000000000,
          30600000000000,
          30600000000000,
          21600000000000,
          36000000000000,
          36900000000000,
          40500000000000,
          25200000000000,
          28800000000000,
          28800000000000,
          36000000000000,
          36900000000000,
          43200000000000,
          43200000000000,
          21600000000000,
          25200000000000,
          25200000000000,
          28800000000000,
          21600000000000,
          33300000000000,
          36000000000000,
          36900000000000,
          43200000000000,
          21600000000000,
          21600000000000,
          21600000000000,
          34200000000000,
          36000000000000,
          43200000000000,
          21600000000000,
          18000000000000,
          36000000000000,
          43200000000000,
          21600000000000,
          18000000000000,
          36000000000000,
          40500000000000,
          43200000000000,
          21600000000000,
          23400000000000,
          36000000000000,
          21600000000000,
          23400000000000,
          36000000000000,
          37800000000000,
          43200000000000,
          25200000000000,
          30600000000000,
          28800000000000,
          36000000000000,
          36900000000000,
          37800000000000,
          37800000000000,
          46800000000000,
          22500000000000,
          21600000000000,
          30600000000000,
          21600000000000,
          36000000000000,
          36900000000000,
          37800000000000,
          43200000000000,
          24300000000000,
          25200000000000,
          33600000000000,
          34200000000000,
          36000000000000,
          36900000000000,
          37800000000000,
          43200000000000,
          43200000000000,
          46800000000000,
          16200000000000,
          10800000000000,
          18000000000000,
          36000000000000,
          40500000000000,
          43200000000000,
          43200000000000,
          18000000000000,
          36000000000000,
          43200000000000,
          16800000000000,
          10800000000000,
          14400000000000,
          14400000000000,
          30600000000000,
          36000000000000,
          10800000000000,
          27000000000000,
          14400000000000,
          14400000000000,
          30600000000000,
          30600000000000,
          36000000000000,
          43200000000000,
          28800000000000,
          36000000000000,
          36900000000000,
          46800000000000,
          21600000000000,
          21600000000000,
          36000000000000,
          36900000000000,
          43200000000000,
          21600000000000,
          21000000000000,
          34200000000000,
          36000000000000,
          36900000000000,
          43200000000000,
          18000000000000,
          36000000000000,
          43200000000000,
          18000000000000,
          21600000000000,
          36000000000000,
          43200000000000,
          23400000000000,
          34200000000000,
          36000000000000,
          43200000000000,
          21600000000000,
          36000000000000,
          46800000000000,
          28800000000000,
          36000000000000,
          36900000000000,
          43200000000000,
          21600000000000,
          43200000000000,
          21600000000000,
          32400000000000,
          36000000000000,
          36900000000000,
          46800000000000,
          21600000000000,
          21600000000000,
          43200000000000,
          33300000000000,
          36000000000000,
          36900000000000,
          43200000000000,
          43200000000000,
          43200000000000,
          18000000000000,
          19500000000000,
          36000000000000,
          43200000000000,
          43200000000000,
          43200000000000,
          18000000000000,
          18000000000000,
          36000000000000,
          43200000000000,
          36000000000000,
          43200000000000,
          36000000000000,
          36000000000000,
          43200000000000,
          28800000000000,
          43200000000000,
          21600000000000,
          36000000000000,
          36900000000000,
          39600000000000,
          43200000000000,
          21600000000000,
          23400000000000,
          21600000000000,
          45000000000000,
          36000000000000,
          36900000000000,
          39600000000000,
          46800000000000,
          21600000000000,
          23400000000000,
          14400000000000,
          43200000000000,
          21600000000000,
          36000000000000,
          36900000000000,
          43200000000000,
          43200000000000,
          18000000000000,
          21600000000000,
          36000000000000,
          18000000000000,
          36000000000000,
          36000000000000,
          43200000000000,
          36000000000000,
          43200000000000,
          18000000000000,
          36000000000000,
          45000000000000,
          43200000000000,
          28800000000000,
          36000000000000,
          36900000000000,
          43200000000000,
          43200000000000,
          21600000000000,
          21600000000000,
          21600000000000,
          36000000000000,
          36900000000000,
          43200000000000,
          21600000000000,
          21600000000000,
          21600000000000,
          25200000000000,
          36000000000000,
          36900000000000,
          43200000000000,
          43200000000000,
          18000000000000,
          21600000000000,
          21600000000000,
          18000000000000,
          36000000000000,
          43200000000000,
          18000000000000,
          30600000000000,
          36000000000000,
          43200000000000,
          36000000000000,
          43200000000000,
          43200000000000,
          30600000000000,
          30600000000000,
          36000000000000,
          43200000000000,
          21600000000000,
          9000000000000,
          19800000000000,
          33300000000000,
          36000000000000,
          36900000000000,
          43200000000000,
          21600000000000,
          25200000000000,
          21600000000000,
          36000000000000,
          36900000000000,
          21600000000000,
          23400000000000,
          36000000000000,
          36900000000000,
          43200000000000,
          43200000000000,
          18000000000000,
          21600000000000,
          34200000000000,
          36000000000000,
          43200000000000,
          18000000000000,
          34200000000000,
          36000000000000,
          45000000000000,
          25200000000000,
          25200000000000,
          36000000000000,
          43200000000000,
          36000000000000,
          40200000000000,
          25200000000000,
          28800000000000,
          36000000000000,
          43200000000000,
          25200000000000,
          25200000000000,
          21600000000000,
          21600000000000,
          36000000000000,
          43200000000000,
          18000000000000,
          25200000000000,
          33300000000000,
          36000000000000,
          43200000000000,
          18000000000000,
          21600000000000,
          30600000000000,
          36000000000000,
          43200000000000,
          18000000000000,
          36000000000000,
          37800000000000,
          43200000000000,
          36000000000000,
          43200000000000,
          43200000000000,
          18000000000000,
          43200000000000,
          36000000000000,
          43200000000000,
          43200000000000,
          22500000000000,
          30600000000000,
          28800000000000,
          45000000000000,
          39600000000000,
          46800000000000,
          46800000000000,
          22500000000000,
          21600000000000,
          21600000000000,
          30600000000000,
          25200000000000,
          36000000000000,
          43200000000000,
          18000000000000,
          18000000000000,
          30600000000000,
          21600000000000,
          36000000000000,
          43200000000000,
          43200000000000,
          43200000000000,
          25200000000000,
          18000000000000,
          21600000000000,
          36000000000000,
          37800000000000,
          43200000000000,
          43200000000000,
          43200000000000,
          18000000000000,
          43200000000000,
          36000000000000,
          39600000000000,
          37800000000000,
          43200000000000,
          43200000000000,
          43200000000000,
          27000000000000,
          43200000000000,
          34200000000000,
          36000000000000,
          41400000000000,
          43200000000000,
          43200000000000,
          43200000000000,
          30600000000000,
          36000000000000,
          43200000000000,
          28800000000000,
          30600000000000,
          46800000000000,
          36000000000000,
          43200000000000,
          21600000000000,
          21600000000000,
          21600000000000,
          30600000000000,
          36000000000000,
          43200000000000,
          30600000000000,
          36000000000000,
          43200000000000,
          43200000000000,
          43200000000000,
          18000000000000,
          21600000000000,
          21600000000000,
          25200000000000,
          36000000000000,
          43200000000000,
          43200000000000,
          18000000000000,
          36000000000000,
          43200000000000,
          43200000000000,
          32400000000000,
          32400000000000,
          30600000000000,
          45900000000000,
          36000000000000,
          43200000000000,
          43200000000000,
          30600000000000,
          30600000000000,
          28800000000000,
          34200000000000,
          43200000000000,
          36000000000000,
          43200000000000,
          43200000000000,
          43200000000000,
          40500000000000,
          28800000000000,
          43200000000000,
          36000000000000,
          43200000000000,
          43200000000000,
          43200000000000,
          21600000000000,
          21600000000000,
          21600000000000,
          21600000000000,
          21600000000000,
          21600000000000,
          36000000000000,
          43200000000000,
          30600000000000,
          36000000000000,
          43200000000000,
          18000000000000,
          36000000000000,
          37800000000000,
          43200000000000,
          43200000000000,
          18000000000000,
          36000000000000,
          36900000000000,
          37800000000000,
          43200000000000,
          43200000000000,
          40500000000000,
          43200000000000,
          36000000000000,
          36900000000000,
          37800000000000,
          43200000000000,
          43200000000000,
          21600000000000,
          36000000000000,
          36000000000000,
          43200000000000,
          28800000000000,
          21600000000000,
          28800000000000,
          36000000000000,
          43200000000000,
          21600000000000,
          18000000000000,
          21600000000000,
          30600000000000,
          36000000000000,
          43200000000000,
          43200000000000,
          30600000000000,
          21600000000000,
          30600000000000,
          36000000000000,
          43200000000000,
          20400000000000,
          20700000000000,
          30600000000000,
          36000000000000,
          18000000000000,
          30600000000000,
          30600000000000,
          36000000000000,
          36900000000000,
          43200000000000,
          30600000000000,
          30600000000000,
          30600000000000,
          36000000000000,
          36900000000000,
          43200000000000,
          44100000000000,
          28800000000000,
          32400000000000,
          30600000000000,
          36000000000000,
          43200000000000,
          43200000000000,
          43200000000000,
          45000000000000,
          21600000000000,
          28800000000000,
          30600000000000,
          36000000000000,
          43200000000000,
          43200000000000,
          43200000000000,
          18000000000000,
          21600000000000,
          30600000000000,
          21600000000000,
          36000000000000,
          39600000000000,
          43200000000000,
          43200000000000,
          27000000000000,
          18000000000000,
          28800000000000,
          34200000000000,
          35100000000000,
          43200000000000,
          43200000000000,
          43200000000000,
          18000000000000,
          28800000000000,
          21600000000000,
          34200000000000,
          36000000000000,
          43200000000000,
          25200000000000,
          18000000000000,
          36000000000000,
          34200000000000,
          36000000000000,
          43200000000000,
          26100000000000,
          34200000000000,
          36000000000000,
          28800000000000,
          21600000000000,
          36000000000000,
          21600000000000,
          28800000000000,
          36000000000000,
          36900000000000,
          21600000000000,
          28800000000000,
          18000000000000,
          21600000000000,
          28800000000000,
          36000000000000,
          36000000000000,
          36900000000000,
          43200000000000,
          43200000000000,
          25200000000000,
          28800000000000,
          28800000000000,
          30600000000000,
          21600000000000,
          32400000000000,
          36000000000000,
          43200000000000,
          44400000000000,
          14400000000000,
          28800000000000,
          21600000000000,
          30600000000000,
          36000000000000,
          36000000000000,
          43200000000000,
          43200000000000,
          18000000000000,
          35400000000000,
          30600000000000,
          10800000000000,
          36000000000000,
          41400000000000,
          43200000000000,
          43200000000000,
          28800000000000,
          30600000000000,
          10800000000000,
          36000000000000,
          36900000000000,
          21600000000000,
          16200000000000,
          30600000000000,
          10800000000000,
          43200000000000,
          36000000000000,
          36900000000000,
          27000000000000,
          21600000000000,
          28800000000000,
          32400000000000,
          36000000000000,
          36900000000000,
          18000000000000,
          21600000000000,
          27000000000000,
          28800000000000,
          21600000000000,
          30600000000000,
          37800000000000,
          36900000000000,
          43200000000000,
          18000000000000,
          18000000000000,
          21600000000000,
          28800000000000,
          21600000000000,
          32400000000000,
          34200000000000,
          36000000000000,
          44100000000000,
          45000000000000,
          21600000000000,
          18000000000000,
          28800000000000,
          21600000000000,
          32400000000000,
          34200000000000,
          36000000000000,
          43200000000000,
          18000000000000,
          28800000000000,
          10800000000000,
          34200000000000,
          36000000000000,
          43800000000000,
          28800000000000,
          10800000000000,
          39600000000000,
          27600000000000,
          36000000000000,
          21600000000000,
          21600000000000,
          10800000000000,
          32400000000000,
          36000000000000,
          18000000000000,
          21600000000000,
          25200000000000,
          41400000000000,
          43200000000000,
          36000000000000,
          43200000000000,
          45000000000000,
          21600000000000,
          39600000000000,
          43200000000000,
          34200000000000,
          16200000000000,
          36000000000000,
          43200000000000,
          43200000000000,
          21600000000000,
          28800000000000,
          21600000000000,
          36000000000000,
          43200000000000,
          29700000000000,
          21600000000000,
          28800000000000,
          36000000000000,
          27900000000000,
          28800000000000,
          28800000000000,
          32400000000000,
          36000000000000,
          46800000000000,
          27900000000000,
          21600000000000,
          28800000000000,
          32400000000000,
          36000000000000,
          36900000000000,
          24300000000000,
          36000000000000,
          36900000000000,
          43200000000000,
          28800000000000,
          36000000000000,
          36900000000000,
          43200000000000,
          46800000000000,
          21600000000000,
          32400000000000,
          32400000000000,
          21600000000000,
          36000000000000,
          36900000000000,
          20700000000000,
          21600000000000,
          36000000000000,
          36900000000000,
          43200000000000,
          20700000000000,
          25200000000000,
          32400000000000,
          31500000000000,
          36000000000000,
          36900000000000,
          37800000000000,
          43200000000000,
          28800000000000,
          43200000000000,
          30600000000000,
          32400000000000,
          31500000000000,
          36000000000000,
          37800000000000,
          36900000000000,
          43200000000000,
          20700000000000,
          28800000000000,
          43200000000000,
          30600000000000,
          32400000000000,
          31500000000000,
          36000000000000,
          36900000000000,
          43200000000000,
          43200000000000,
          21600000000000,
          28800000000000,
          31500000000000,
          36000000000000,
          36900000000000,
          39600000000000,
          43200000000000,
          43200000000000,
          21600000000000,
          28800000000000,
          28800000000000,
          36000000000000,
          36900000000000,
          37800000000000,
          39600000000000,
          43200000000000,
          43200000000000,
          46800000000000,
          28800000000000,
          28800000000000,
          32400000000000,
          36000000000000,
          36900000000000,
          36900000000000,
          28800000000000,
          28800000000000,
          30600000000000,
          43200000000000,
          21600000000000,
          36000000000000,
          36900000000000,
          43200000000000,
          28800000000000,
          28800000000000,
          25200000000000,
          27000000000000,
          31500000000000,
          34200000000000,
          36000000000000,
          43200000000000,
          28800000000000,
          25200000000000,
          28800000000000,
          25200000000000,
          28800000000000,
          31500000000000,
          34200000000000,
          36000000000000,
          36900000000000,
          41400000000000,
          43200000000000,
          21600000000000,
          28800000000000,
          25200000000000,
          30600000000000,
          31500000000000,
          34200000000000,
          36000000000000,
          36900000000000,
          43200000000000,
          43200000000000,
          21600000000000,
          28800000000000,
          25200000000000,
          27000000000000,
          31500000000000,
          36000000000000,
          43200000000000,
          43200000000000,
          39600000000000,
          43200000000000,
          43200000000000,
          46800000000000,
          28800000000000,
          28800000000000,
          28800000000000,
          43200000000000,
          36000000000000,
          36900000000000,
          36900000000000,
          45000000000000,
          43200000000000,
          39600000000000,
          45000000000000,
          28800000000000,
          18000000000000,
          30600000000000,
          36000000000000,
          36900000000000,
          39600000000000,
          39600000000000,
          28800000000000,
          28800000000000,
          28800000000000,
          43200000000000,
          25200000000000,
          19500000000000,
          36000000000000,
          36000000000000,
          36900000000000,
          43200000000000,
          28800000000000,
          23400000000000,
          25200000000000,
          25200000000000,
          33300000000000,
          36000000000000,
          34200000000000,
          36000000000000,
          35100000000000,
          43200000000000,
          28800000000000,
          25200000000000,
          26160000000000,
          34200000000000,
          36000000000000,
          43200000000000,
          21600000000000,
          25200000000000,
          36000000000000,
          35100000000000,
          36900000000000,
          43200000000000,
          43200000000000,
          43200000000000,
          28800000000000,
          25200000000000,
          38700000000000,
          38700000000000,
          43200000000000,
          43200000000000,
          43200000000000,
          28800000000000,
          28800000000000,
          43200000000000,
          43200000000000,
          21600000000000,
          32400000000000,
          31500000000000,
          39000000000000,
          43200000000000,
          43200000000000,
          28800000000000,
          28800000000000,
          36000000000000,
          25200000000000,
          43200000000000,
          43200000000000,
          41400000000000,
          43200000000000,
          28800000000000,
          36000000000000,
          25200000000000,
          36000000000000,
          36900000000000,
          38700000000000,
          43200000000000,
          43200000000000,
          43200000000000,
          28800000000000,
          31500000000000,
          36000000000000,
          36900000000000,
          43200000000000,
          43200000000000,
          28800000000000,
          31500000000000,
          36000000000000,
          36900000000000,
          43200000000000,
          31500000000000,
          36000000000000,
          43200000000000,
          43200000000000,
          31500000000000,
          35100000000000,
          39600000000000,
          43200000000000,
          28800000000000,
          28800000000000,
          39600000000000,
          43200000000000,
          43200000000000,
          28800000000000,
          21600000000000,
          22500000000000,
          28800000000000,
          39600000000000,
          43200000000000,
          43200000000000,
          43200000000000,
          27000000000000,
          28800000000000,
          27000000000000,
          36000000000000,
          36900000000000,
          43200000000000,
          43200000000000,
          43200000000000,
          43200000000000,
          28800000000000,
          35100000000000,
          36000000000000,
          36900000000000,
          43200000000000,
          43200000000000,
          43200000000000,
          28800000000000,
          36000000000000,
          36900000000000,
          43200000000000,
          43200000000000,
          28800000000000,
          43200000000000,
          41400000000000,
          43200000000000,
          22500000000000,
          36900000000000,
          43200000000000,
          39600000000000,
          43200000000000,
          28800000000000,
          28800000000000,
          43200000000000,
          43200000000000,
          31500000000000,
          40500000000000,
          43200000000000,
          39600000000000,
          43200000000000,
          21600000000000,
          21600000000000,
          28800000000000,
          21600000000000,
          31500000000000,
          43200000000000,
          45000000000000,
          43200000000000,
          21600000000000,
          28800000000000,
          28800000000000,
          43200000000000,
          31500000000000,
          36000000000000,
          43200000000000,
          39600000000000,
          43200000000000,
          43200000000000,
          28800000000000,
          28800000000000,
          18000000000000,
          31500000000000,
          36000000000000,
          43200000000000,
          23400000000000,
          28800000000000,
          28800000000000,
          36000000000000,
          43200000000000,
          28800000000000,
          43200000000000,
          36000000000000,
          36900000000000,
          43200000000000,
          43200000000000,
          43200000000000,
          27000000000000,
          28800000000000,
          43200000000000,
          36900000000000,
          43200000000000,
          39600000000000,
          43200000000000,
          23400000000000,
          30600000000000,
          36000000000000,
          43200000000000,
          27000000000000,
          31500000000000,
          36900000000000,
          43200000000000,
          39600000000000,
          43200000000000,
          21600000000000,
          43200000000000,
          31500000000000,
          43200000000000,
          39600000000000,
          21600000000000,
          30600000000000,
          25200000000000,
          25200000000000,
          31500000000000,
          36000000000000,
          36000000000000,
          43200000000000,
          43200000000000,
          30600000000000,
          43200000000000,
          25200000000000,
          36000000000000,
          36000000000000,
          43200000000000,
          30600000000000,
          21600000000000,
          21600000000000,
          43200000000000,
          25200000000000,
          36000000000000,
          38700000000000,
          43200000000000,
          14400000000000,
          7200000000000,
          30600000000000,
          21600000000000,
          25200000000000,
          25200000000000,
          36000000000000,
          36900000000000,
          41400000000000,
          43200000000000,
          43200000000000,
          21600000000000,
          21600000000000,
          25200000000000,
          27000000000000,
          25200000000000,
          39600000000000,
          43200000000000,
          28800000000000,
          28800000000000,
          43200000000000,
          31500000000000,
          39600000000000,
          43200000000000,
          43200000000000,
          21600000000000,
          43200000000000,
          43200000000000,
          31500000000000,
          39600000000000,
          21600000000000,
          43200000000000,
          31500000000000,
          36000000000000,
          36900000000000,
          39600000000000,
          43200000000000,
          43200000000000,
          43200000000000,
          31500000000000,
          31500000000000,
          36000000000000,
          36900000000000,
          43200000000000,
          21600000000000,
          27000000000000,
          36000000000000,
          43200000000000,
          21600000000000,
          21600000000000,
          43200000000000,
          36000000000000,
          43200000000000,
          43200000000000,
          21600000000000,
          27000000000000,
          43200000000000,
          19800000000000,
          39600000000000,
          43200000000000,
          43200000000000,
          41400000000000,
          18000000000000,
          28800000000000,
          28800000000000,
          28800000000000,
          43200000000000,
          43200000000000,
          36000000000000,
          43200000000000,
          43200000000000,
          39600000000000,
          43200000000000,
          18000000000000,
          28800000000000,
          28800000000000,
          43200000000000,
          43200000000000,
          43200000000000,
          34200000000000,
          39600000000000,
          43200000000000,
          39600000000000,
          43200000000000,
          19800000000000,
          21600000000000,
          36000000000000,
          36900000000000,
          43200000000000,
          43200000000000,
          43200000000000,
          46800000000000,
          36000000000000,
          36000000000000,
          36900000000000,
          43200000000000,
          27000000000000,
          36000000000000,
          43200000000000,
          21600000000000,
          36000000000000,
          39600000000000,
          43200000000000,
          43200000000000,
          21600000000000,
          25200000000000,
          39600000000000,
          43200000000000,
          28800000000000,
          28800000000000,
          43200000000000,
          39600000000000,
          43200000000000,
          21600000000000,
          28800000000000,
          43200000000000,
          43200000000000,
          38700000000000,
          39600000000000,
          43200000000000,
          21600000000000,
          24300000000000,
          43200000000000,
          32400000000000,
          36000000000000,
          36000000000000,
          39600000000000,
          39600000000000,
          43200000000000,
          18000000000000,
          18000000000000,
          41400000000000,
          43200000000000,
          36000000000000,
          43200000000000,
          43200000000000,
          43200000000000,
          43200000000000,
          36000000000000,
          36000000000000,
          43200000000000,
          43200000000000,
          36000000000000,
          36000000000000,
          39600000000000,
          43200000000000,
          18000000000000,
          43200000000000,
          43200000000000,
          18000000000000,
          18000000000000,
          18000000000000,
          43200000000000,
          43200000000000,
          43200000000000,
          18000000000000,
          21600000000000,
          43200000000000,
          43200000000000,
          43200000000000,
          18000000000000,
          36000000000000,
          43200000000000,
          43200000000000,
          43200000000000,
          10800000000000,
          21600000000000,
          21600000000000,
          16200000000000,
          36000000000000,
          43200000000000,
          21600000000000,
          21600000000000,
          36000000000000,
          16200000000000,
          36000000000000,
          43200000000000,
          45000000000000,
          28800000000000,
          21600000000000,
          50400000000000,
          16200000000000,
          36000000000000,
          43200000000000,
          52200000000000,
          18000000000000,
          18000000000000,
          21600000000000,
          28800000000000,
          43200000000000,
          45900000000000,
          18600000000000,
          21600000000000,
          43200000000000,
          43200000000000,
          31500000000000,
          19200000000000,
          18000000000000,
          25200000000000,
          43200000000000,
          43200000000000,
          40500000000000,
          18000000000000,
          21600000000000,
          32400000000000,
          25200000000000,
          25200000000000,
          25200000000000,
          36000000000000,
          43200000000000,
          23400000000000,
          18000000000000,
          21600000000000,
          21600000000000,
          25200000000000,
          25200000000000,
          25200000000000,
          27000000000000,
          36000000000000,
          43200000000000,
          10800000000000,
          18000000000000,
          7200000000000,
          43200000000000,
          25200000000000,
          25200000000000,
          25200000000000,
          36000000000000,
          43200000000000,
          16200000000000,
          43200000000000,
          36000000000000,
          36900000000000,
          36900000000000,
          36900000000000,
          43200000000000,
          43200000000000,
          25200000000000,
          36900000000000,
          36900000000000,
          36900000000000,
          30300000000000,
          25200000000000,
          25200000000000,
          25200000000000,
          36900000000000,
          36900000000000,
          21600000000000,
          21600000000000,
          21600000000000,
          25200000000000,
          25200000000000,
          25200000000000,
          39600000000000,
          43200000000000,
          18000000000000,
          18000000000000,
          18000000000000,
          23400000000000,
          21600000000000,
          26100000000000,
          25200000000000,
          36000000000000,
          43200000000000,
          43200000000000,
          18000000000000,
          23400000000000,
          21600000000000,
          36000000000000,
          43200000000000,
          27000000000000,
          23400000000000,
          25200000000000,
          25200000000000,
          36000000000000,
          43200000000000,
          43200000000000,
          23400000000000,
          18000000000000,
          41400000000000,
          26100000000000,
          25200000000000,
          36000000000000,
          36900000000000,
          43200000000000,
          21600000000000,
          18000000000000,
          25200000000000,
          25200000000000,
          18000000000000,
          36900000000000,
          43200000000000,
          21600000000000,
          43200000000000,
          36900000000000,
          43200000000000,
          21600000000000,
          23400000000000,
          21600000000000,
          21600000000000,
          39600000000000,
          43200000000000,
          21600000000000,
          21600000000000,
          28800000000000,
          7200000000000,
          21600000000000,
          18000000000000,
          27000000000000,
          36000000000000,
          36000000000000,
          39600000000000,
          43200000000000,
          23400000000000,
          21600000000000,
          18000000000000,
          25200000000000,
          36000000000000,
          41400000000000,
          43200000000000,
          7200000000000,
          27000000000000,
          0,
          34200000000000,
          36000000000000,
          41400000000000,
          43200000000000,
          19800000000000,
          21600000000000,
          25200000000000,
          34200000000000,
          34200000000000,
          36000000000000,
          43200000000000,
          25200000000000,
          25200000000000,
          25200000000000,
          30600000000000,
          43200000000000,
          25200000000000,
          34200000000000,
          18000000000000,
          21600000000000,
          18000000000000,
          25200000000000,
          34200000000000,
          25200000000000,
          43200000000000,
          23400000000000,
          21600000000000,
          26100000000000,
          34200000000000,
          36900000000000,
          18000000000000,
          23400000000000,
          34200000000000,
          36900000000000,
          27000000000000,
          27000000000000,
          21600000000000,
          28800000000000,
          43200000000000,
          21600000000000,
          32400000000000,
          30600000000000,
          36900000000000,
          43200000000000,
          25200000000000,
          34200000000000,
          36900000000000,
          43200000000000,
          34200000000000,
          34200000000000,
          43200000000000,
          43200000000000,
          43200000000000,
          32400000000000,
          43200000000000,
          18000000000000,
          14400000000000,
          10800000000000,
          32400000000000,
          43200000000000,
          18000000000000,
          21600000000000,
          32400000000000,
          36900000000000,
          43200000000000,
          18000000000000,
          32400000000000,
          34200000000000,
          18000000000000,
          25200000000000,
          16200000000000,
          43200000000000,
          36000000000000,
          18000000000000,
          34200000000000,
          43200000000000,
          32400000000000,
          43200000000000,
          25200000000000,
          32400000000000,
          43200000000000,
          19800000000000,
          32400000000000,
          43200000000000,
          43200000000000,
          18000000000000,
          43200000000000,
          30600000000000,
          32400000000000,
          43200000000000,
          43200000000000,
          34200000000000,
          43200000000000,
          25200000000000,
          21600000000000,
          34200000000000,
          39600000000000,
          43200000000000,
          43200000000000,
          43200000000000,
          25200000000000,
          39600000000000,
          43200000000000,
          43200000000000,
          43200000000000,
          43200000000000,
          25200000000000,
          25200000000000,
          43200000000000,
          43200000000000,
          43200000000000,
          43200000000000,
          43200000000000,
          43200000000000,
          43200000000000,
          43200000000000,
          32400000000000,
          34200000000000,
          43200000000000,
          32400000000000,
          34200000000000,
          43200000000000,
          32400000000000,
          43200000000000,
          39600000000000,
          43200000000000,
          43200000000000,
          43200000000000,
          43200000000000,
          39600000000000,
          43200000000000,
          43200000000000,
          43200000000000,
          39600000000000,
          21600000000000,
          39600000000000,
          45000000000000,
          32400000000000,
          42300000000000,
          28800000000000,
          32400000000000,
          37800000000000,
          43200000000000,
          14400000000000,
          21600000000000,
          39600000000000,
          43200000000000,
          21600000000000,
          43200000000000,
          43200000000000,
          18000000000000,
          30600000000000,
          39600000000000,
          18000000000000,
          39600000000000,
          43200000000000,
          21600000000000,
          25200000000000,
          39600000000000,
          43200000000000,
          21600000000000,
          18000000000000,
          36000000000000,
          36000000000000,
          36000000000000,
          36000000000000,
          43200000000000,
          39600000000000,
          30600000000000,
          36000000000000,
          39600000000000,
          36000000000000,
          39600000000000,
          18000000000000,
          14400000000000,
          36000000000000,
          39600000000000,
          10800000000000,
          18000000000000,
          14400000000000,
          30600000000000,
          10800000000000,
          14400000000000,
          30600000000000,
          10800000000000,
          14400000000000,
          30600000000000,
          14400000000000,
          43200000000000,
          39600000000000,
          39600000000000,
          43200000000000,
          43200000000000,
          43200000000000,
          43200000000000,
          39600000000000,
          39600000000000,
          43200000000000,
          43200000000000,
          39600000000000,
          43200000000000,
          29700000000000,
          14400000000000,
          39600000000000,
          39600000000000,
          43200000000000,
          10800000000000,
          25140000000000,
          14400000000000,
          25200000000000,
          43200000000000,
          43200000000000,
          10800000000000,
          14400000000000,
          28800000000000,
          43200000000000,
          10800000000000,
          29700000000000,
          14400000000000,
          43200000000000,
          14400000000000,
          34200000000000,
          39600000000000,
          39600000000000,
          43200000000000,
          43200000000000,
          39600000000000,
          36000000000000,
          45000000000000,
          43200000000000,
          43200000000000,
          39600000000000,
          25200000000000,
          39600000000000,
          25200000000000,
          25200000000000,
          29700000000000,
          29700000000000,
          43200000000000,
          39600000000000,
          21600000000000,
          45000000000000,
          36000000000000,
          39600000000000,
          30600000000000,
          37800000000000,
          39600000000000,
          30600000000000,
          14400000000000,
          36000000000000,
          43200000000000,
          30600000000000,
          43200000000000,
          43200000000000,
          43200000000000,
          30600000000000,
          43200000000000,
          43200000000000,
          30600000000000,
          49500000000000,
          43200000000000,
          39600000000000,
          43200000000000,
          41100000000000,
          39600000000000,
          43200000000000,
          39600000000000,
          43200000000000,
          43200000000000,
          32400000000000,
          39600000000000,
          43200000000000,
          43200000000000,
          27000000000000,
          39600000000000,
          43200000000000,
          43200000000000,
          43200000000000,
          43200000000000,
          14400000000000,
          43200000000000,
          44100000000000,
          45000000000000,
          43200000000000,
          43200000000000,
          43200000000000,
          39600000000000,
          43200000000000,
          32400000000000,
          39600000000000,
          43200000000000,
          7200000000000,
          43200000000000,
          43200000000000,
          43200000000000,
          43200000000000,
          30600000000000,
          43200000000000,
          43200000000000,
          43200000000000,
          43200000000000,
          30600000000000,
          32400000000000,
          39600000000000,
          41400000000000,
          30600000000000,
          32400000000000,
          39600000000000,
          30600000000000,
          43200000000000,
          39600000000000,
          14400000000000,
          30600000000000,
          43200000000000,
          39600000000000,
          43200000000000,
          43200000000000,
          30600000000000,
          43200000000000,
          43200000000000,
          21600000000000,
          43200000000000,
          43200000000000,
          21600000000000,
          36900000000000,
          39600000000000,
          39600000000000,
          32400000000000,
          36900000000000,
          43200000000000,
          39600000000000,
          32400000000000,
          39600000000000,
          39600000000000,
          43200000000000,
          21600000000000,
          43200000000000,
          39600000000000,
          21600000000000,
          43200000000000,
          43200000000000,
          36900000000000,
          39600000000000,
          43200000000000,
          43200000000000,
          43200000000000,
          32400000000000,
          31500000000000,
          36900000000000,
          43200000000000,
          41400000000000,
          41400000000000,
          43200000000000,
          32400000000000,
          31500000000000,
          40500000000000,
          43200000000000,
          31500000000000,
          40500000000000,
          43200000000000,
          32400000000000,
          43200000000000,
          43200000000000,
          43200000000000,
          43200000000000,
          36900000000000,
          43200000000000,
          36900000000000,
          43200000000000,
          25200000000000,
          36900000000000,
          43200000000000,
          43200000000000,
          43200000000000,
          43200000000000,
          39600000000000,
          43200000000000,
          44100000000000,
          43200000000000,
          43200000000000,
          43200000000000,
          43200000000000,
          43200000000000,
          43200000000000,
          43200000000000,
          43200000000000,
          32400000000000,
          43200000000000,
          32400000000000,
          43200000000000,
          43200000000000,
          43200000000000,
          43200000000000,
          43200000000000,
          43200000000000,
          43200000000000,
          43200000000000,
          129600000000000,
          43200000000000,
          43200000000000,
          43200000000000,
          43200000000000,
          43200000000000,
          28800000000000,
          36900000000000,
          43200000000000,
          43200000000000,
          28800000000000,
          36900000000000,
          43200000000000,
          43200000000000,
          25200000000000,
          36900000000000,
          43200000000000,
          43200000000000,
          43200000000000,
          21600000000000,
          36900000000000,
          39600000000000,
          43200000000000,
          43200000000000,
          21600000000000,
          36900000000000,
          43200000000000,
          25200000000000,
          28800000000000,
          31500000000000,
          36900000000000,
          43200000000000,
          25200000000000,
          28800000000000,
          31500000000000,
          43200000000000,
          25200000000000,
          28800000000000,
          43200000000000,
          18000000000000,
          25200000000000,
          28800000000000,
          43200000000000,
          43200000000000,
          25200000000000,
          28800000000000,
          43200000000000,
          43200000000000,
          43200000000000,
          18000000000000,
          25200000000000,
          43200000000000,
          43200000000000,
          21600000000000,
          21600000000000,
          39600000000000,
          43200000000000,
          25200000000000,
          28800000000000,
          39600000000000,
          43200000000000,
          32400000000000,
          43200000000000,
          21600000000000,
          39600000000000,
          18000000000000,
          25200000000000,
          28800000000000,
          43200000000000,
          43200000000000,
          30600000000000,
          25200000000000,
          21600000000000,
          31500000000000,
          43200000000000,
          43200000000000,
          18000000000000,
          21600000000000,
          31500000000000,
          34200000000000,
          43200000000000,
          43200000000000,
          18000000000000,
          21600000000000,
          31500000000000,
          34200000000000,
          39600000000000,
          43200000000000,
          216000000000000,
          43200000000000,
          25200000000000,
          25200000000000,
          32400000000000,
          21600000000000,
          28800000000000,
          43200000000000,
          18000000000000,
          18000000000000,
          28800000000000,
          28800000000000,
          43200000000000,
          21600000000000,
          39600000000000,
          21600000000000,
          30600000000000,
          30600000000000,
          39600000000000,
          21600000000000,
          39600000000000,
          28800000000000,
          30600000000000,
          28800000000000,
          21600000000000,
          28800000000000,
          28800000000000,
          10800000000000,
          30600000000000,
          43200000000000,
          30600000000000,
          16800000000000,
          30600000000000,
          28800000000000,
          30600000000000,
          28800000000000,
          18000000000000,
          28800000000000,
          18000000000000,
          43200000000000,
          28800000000000,
          18000000000000,
          18000000000000,
          28800000000000,
          30600000000000,
          25200000000000,
          28800000000000,
          34200000000000,
          34200000000000,
          18000000000000,
          28800000000000,
          31500000000000,
          34200000000000,
          18000000000000,
          28800000000000,
          31500000000000,
          30600000000000,
          18000000000000
         ]
        }
       ],
       "layout": {
        "showlegend": false,
        "template": {
         "data": {
          "bar": [
           {
            "error_x": {
             "color": "#2a3f5f"
            },
            "error_y": {
             "color": "#2a3f5f"
            },
            "marker": {
             "line": {
              "color": "#E5ECF6",
              "width": 0.5
             },
             "pattern": {
              "fillmode": "overlay",
              "size": 10,
              "solidity": 0.2
             }
            },
            "type": "bar"
           }
          ],
          "barpolar": [
           {
            "marker": {
             "line": {
              "color": "#E5ECF6",
              "width": 0.5
             },
             "pattern": {
              "fillmode": "overlay",
              "size": 10,
              "solidity": 0.2
             }
            },
            "type": "barpolar"
           }
          ],
          "carpet": [
           {
            "aaxis": {
             "endlinecolor": "#2a3f5f",
             "gridcolor": "white",
             "linecolor": "white",
             "minorgridcolor": "white",
             "startlinecolor": "#2a3f5f"
            },
            "baxis": {
             "endlinecolor": "#2a3f5f",
             "gridcolor": "white",
             "linecolor": "white",
             "minorgridcolor": "white",
             "startlinecolor": "#2a3f5f"
            },
            "type": "carpet"
           }
          ],
          "choropleth": [
           {
            "colorbar": {
             "outlinewidth": 0,
             "ticks": ""
            },
            "type": "choropleth"
           }
          ],
          "contour": [
           {
            "colorbar": {
             "outlinewidth": 0,
             "ticks": ""
            },
            "colorscale": [
             [
              0,
              "#0d0887"
             ],
             [
              0.1111111111111111,
              "#46039f"
             ],
             [
              0.2222222222222222,
              "#7201a8"
             ],
             [
              0.3333333333333333,
              "#9c179e"
             ],
             [
              0.4444444444444444,
              "#bd3786"
             ],
             [
              0.5555555555555556,
              "#d8576b"
             ],
             [
              0.6666666666666666,
              "#ed7953"
             ],
             [
              0.7777777777777778,
              "#fb9f3a"
             ],
             [
              0.8888888888888888,
              "#fdca26"
             ],
             [
              1,
              "#f0f921"
             ]
            ],
            "type": "contour"
           }
          ],
          "contourcarpet": [
           {
            "colorbar": {
             "outlinewidth": 0,
             "ticks": ""
            },
            "type": "contourcarpet"
           }
          ],
          "heatmap": [
           {
            "colorbar": {
             "outlinewidth": 0,
             "ticks": ""
            },
            "colorscale": [
             [
              0,
              "#0d0887"
             ],
             [
              0.1111111111111111,
              "#46039f"
             ],
             [
              0.2222222222222222,
              "#7201a8"
             ],
             [
              0.3333333333333333,
              "#9c179e"
             ],
             [
              0.4444444444444444,
              "#bd3786"
             ],
             [
              0.5555555555555556,
              "#d8576b"
             ],
             [
              0.6666666666666666,
              "#ed7953"
             ],
             [
              0.7777777777777778,
              "#fb9f3a"
             ],
             [
              0.8888888888888888,
              "#fdca26"
             ],
             [
              1,
              "#f0f921"
             ]
            ],
            "type": "heatmap"
           }
          ],
          "heatmapgl": [
           {
            "colorbar": {
             "outlinewidth": 0,
             "ticks": ""
            },
            "colorscale": [
             [
              0,
              "#0d0887"
             ],
             [
              0.1111111111111111,
              "#46039f"
             ],
             [
              0.2222222222222222,
              "#7201a8"
             ],
             [
              0.3333333333333333,
              "#9c179e"
             ],
             [
              0.4444444444444444,
              "#bd3786"
             ],
             [
              0.5555555555555556,
              "#d8576b"
             ],
             [
              0.6666666666666666,
              "#ed7953"
             ],
             [
              0.7777777777777778,
              "#fb9f3a"
             ],
             [
              0.8888888888888888,
              "#fdca26"
             ],
             [
              1,
              "#f0f921"
             ]
            ],
            "type": "heatmapgl"
           }
          ],
          "histogram": [
           {
            "marker": {
             "pattern": {
              "fillmode": "overlay",
              "size": 10,
              "solidity": 0.2
             }
            },
            "type": "histogram"
           }
          ],
          "histogram2d": [
           {
            "colorbar": {
             "outlinewidth": 0,
             "ticks": ""
            },
            "colorscale": [
             [
              0,
              "#0d0887"
             ],
             [
              0.1111111111111111,
              "#46039f"
             ],
             [
              0.2222222222222222,
              "#7201a8"
             ],
             [
              0.3333333333333333,
              "#9c179e"
             ],
             [
              0.4444444444444444,
              "#bd3786"
             ],
             [
              0.5555555555555556,
              "#d8576b"
             ],
             [
              0.6666666666666666,
              "#ed7953"
             ],
             [
              0.7777777777777778,
              "#fb9f3a"
             ],
             [
              0.8888888888888888,
              "#fdca26"
             ],
             [
              1,
              "#f0f921"
             ]
            ],
            "type": "histogram2d"
           }
          ],
          "histogram2dcontour": [
           {
            "colorbar": {
             "outlinewidth": 0,
             "ticks": ""
            },
            "colorscale": [
             [
              0,
              "#0d0887"
             ],
             [
              0.1111111111111111,
              "#46039f"
             ],
             [
              0.2222222222222222,
              "#7201a8"
             ],
             [
              0.3333333333333333,
              "#9c179e"
             ],
             [
              0.4444444444444444,
              "#bd3786"
             ],
             [
              0.5555555555555556,
              "#d8576b"
             ],
             [
              0.6666666666666666,
              "#ed7953"
             ],
             [
              0.7777777777777778,
              "#fb9f3a"
             ],
             [
              0.8888888888888888,
              "#fdca26"
             ],
             [
              1,
              "#f0f921"
             ]
            ],
            "type": "histogram2dcontour"
           }
          ],
          "mesh3d": [
           {
            "colorbar": {
             "outlinewidth": 0,
             "ticks": ""
            },
            "type": "mesh3d"
           }
          ],
          "parcoords": [
           {
            "line": {
             "colorbar": {
              "outlinewidth": 0,
              "ticks": ""
             }
            },
            "type": "parcoords"
           }
          ],
          "pie": [
           {
            "automargin": true,
            "type": "pie"
           }
          ],
          "scatter": [
           {
            "fillpattern": {
             "fillmode": "overlay",
             "size": 10,
             "solidity": 0.2
            },
            "type": "scatter"
           }
          ],
          "scatter3d": [
           {
            "line": {
             "colorbar": {
              "outlinewidth": 0,
              "ticks": ""
             }
            },
            "marker": {
             "colorbar": {
              "outlinewidth": 0,
              "ticks": ""
             }
            },
            "type": "scatter3d"
           }
          ],
          "scattercarpet": [
           {
            "marker": {
             "colorbar": {
              "outlinewidth": 0,
              "ticks": ""
             }
            },
            "type": "scattercarpet"
           }
          ],
          "scattergeo": [
           {
            "marker": {
             "colorbar": {
              "outlinewidth": 0,
              "ticks": ""
             }
            },
            "type": "scattergeo"
           }
          ],
          "scattergl": [
           {
            "marker": {
             "colorbar": {
              "outlinewidth": 0,
              "ticks": ""
             }
            },
            "type": "scattergl"
           }
          ],
          "scattermapbox": [
           {
            "marker": {
             "colorbar": {
              "outlinewidth": 0,
              "ticks": ""
             }
            },
            "type": "scattermapbox"
           }
          ],
          "scatterpolar": [
           {
            "marker": {
             "colorbar": {
              "outlinewidth": 0,
              "ticks": ""
             }
            },
            "type": "scatterpolar"
           }
          ],
          "scatterpolargl": [
           {
            "marker": {
             "colorbar": {
              "outlinewidth": 0,
              "ticks": ""
             }
            },
            "type": "scatterpolargl"
           }
          ],
          "scatterternary": [
           {
            "marker": {
             "colorbar": {
              "outlinewidth": 0,
              "ticks": ""
             }
            },
            "type": "scatterternary"
           }
          ],
          "surface": [
           {
            "colorbar": {
             "outlinewidth": 0,
             "ticks": ""
            },
            "colorscale": [
             [
              0,
              "#0d0887"
             ],
             [
              0.1111111111111111,
              "#46039f"
             ],
             [
              0.2222222222222222,
              "#7201a8"
             ],
             [
              0.3333333333333333,
              "#9c179e"
             ],
             [
              0.4444444444444444,
              "#bd3786"
             ],
             [
              0.5555555555555556,
              "#d8576b"
             ],
             [
              0.6666666666666666,
              "#ed7953"
             ],
             [
              0.7777777777777778,
              "#fb9f3a"
             ],
             [
              0.8888888888888888,
              "#fdca26"
             ],
             [
              1,
              "#f0f921"
             ]
            ],
            "type": "surface"
           }
          ],
          "table": [
           {
            "cells": {
             "fill": {
              "color": "#EBF0F8"
             },
             "line": {
              "color": "white"
             }
            },
            "header": {
             "fill": {
              "color": "#C8D4E3"
             },
             "line": {
              "color": "white"
             }
            },
            "type": "table"
           }
          ]
         },
         "layout": {
          "annotationdefaults": {
           "arrowcolor": "#2a3f5f",
           "arrowhead": 0,
           "arrowwidth": 1
          },
          "autotypenumbers": "strict",
          "coloraxis": {
           "colorbar": {
            "outlinewidth": 0,
            "ticks": ""
           }
          },
          "colorscale": {
           "diverging": [
            [
             0,
             "#8e0152"
            ],
            [
             0.1,
             "#c51b7d"
            ],
            [
             0.2,
             "#de77ae"
            ],
            [
             0.3,
             "#f1b6da"
            ],
            [
             0.4,
             "#fde0ef"
            ],
            [
             0.5,
             "#f7f7f7"
            ],
            [
             0.6,
             "#e6f5d0"
            ],
            [
             0.7,
             "#b8e186"
            ],
            [
             0.8,
             "#7fbc41"
            ],
            [
             0.9,
             "#4d9221"
            ],
            [
             1,
             "#276419"
            ]
           ],
           "sequential": [
            [
             0,
             "#0d0887"
            ],
            [
             0.1111111111111111,
             "#46039f"
            ],
            [
             0.2222222222222222,
             "#7201a8"
            ],
            [
             0.3333333333333333,
             "#9c179e"
            ],
            [
             0.4444444444444444,
             "#bd3786"
            ],
            [
             0.5555555555555556,
             "#d8576b"
            ],
            [
             0.6666666666666666,
             "#ed7953"
            ],
            [
             0.7777777777777778,
             "#fb9f3a"
            ],
            [
             0.8888888888888888,
             "#fdca26"
            ],
            [
             1,
             "#f0f921"
            ]
           ],
           "sequentialminus": [
            [
             0,
             "#0d0887"
            ],
            [
             0.1111111111111111,
             "#46039f"
            ],
            [
             0.2222222222222222,
             "#7201a8"
            ],
            [
             0.3333333333333333,
             "#9c179e"
            ],
            [
             0.4444444444444444,
             "#bd3786"
            ],
            [
             0.5555555555555556,
             "#d8576b"
            ],
            [
             0.6666666666666666,
             "#ed7953"
            ],
            [
             0.7777777777777778,
             "#fb9f3a"
            ],
            [
             0.8888888888888888,
             "#fdca26"
            ],
            [
             1,
             "#f0f921"
            ]
           ]
          },
          "colorway": [
           "#636efa",
           "#EF553B",
           "#00cc96",
           "#ab63fa",
           "#FFA15A",
           "#19d3f3",
           "#FF6692",
           "#B6E880",
           "#FF97FF",
           "#FECB52"
          ],
          "font": {
           "color": "#2a3f5f"
          },
          "geo": {
           "bgcolor": "white",
           "lakecolor": "white",
           "landcolor": "#E5ECF6",
           "showlakes": true,
           "showland": true,
           "subunitcolor": "white"
          },
          "hoverlabel": {
           "align": "left"
          },
          "hovermode": "closest",
          "mapbox": {
           "style": "light"
          },
          "paper_bgcolor": "white",
          "plot_bgcolor": "#E5ECF6",
          "polar": {
           "angularaxis": {
            "gridcolor": "white",
            "linecolor": "white",
            "ticks": ""
           },
           "bgcolor": "#E5ECF6",
           "radialaxis": {
            "gridcolor": "white",
            "linecolor": "white",
            "ticks": ""
           }
          },
          "scene": {
           "xaxis": {
            "backgroundcolor": "#E5ECF6",
            "gridcolor": "white",
            "gridwidth": 2,
            "linecolor": "white",
            "showbackground": true,
            "ticks": "",
            "zerolinecolor": "white"
           },
           "yaxis": {
            "backgroundcolor": "#E5ECF6",
            "gridcolor": "white",
            "gridwidth": 2,
            "linecolor": "white",
            "showbackground": true,
            "ticks": "",
            "zerolinecolor": "white"
           },
           "zaxis": {
            "backgroundcolor": "#E5ECF6",
            "gridcolor": "white",
            "gridwidth": 2,
            "linecolor": "white",
            "showbackground": true,
            "ticks": "",
            "zerolinecolor": "white"
           }
          },
          "shapedefaults": {
           "line": {
            "color": "#2a3f5f"
           }
          },
          "ternary": {
           "aaxis": {
            "gridcolor": "white",
            "linecolor": "white",
            "ticks": ""
           },
           "baxis": {
            "gridcolor": "white",
            "linecolor": "white",
            "ticks": ""
           },
           "bgcolor": "#E5ECF6",
           "caxis": {
            "gridcolor": "white",
            "linecolor": "white",
            "ticks": ""
           }
          },
          "title": {
           "x": 0.05
          },
          "xaxis": {
           "automargin": true,
           "gridcolor": "white",
           "linecolor": "white",
           "ticks": "",
           "title": {
            "standoff": 15
           },
           "zerolinecolor": "white",
           "zerolinewidth": 2
          },
          "yaxis": {
           "automargin": true,
           "gridcolor": "white",
           "linecolor": "white",
           "ticks": "",
           "title": {
            "standoff": 15
           },
           "zerolinecolor": "white",
           "zerolinewidth": 2
          }
         }
        },
        "title": {
         "text": "Nombre de missions par hôtel"
        },
        "xaxis": {
         "title": {
          "text": "Hôtels"
         }
        },
        "yaxis": {
         "title": {
          "text": "Nombre de missions"
         }
        }
       }
      }
     },
     "metadata": {},
     "output_type": "display_data"
    }
   ],
   "source": [
    "import plotly.express as px\n",
    "\n",
    "trace = go.Bar(x=data[\"periode_debut\"], y=data[\"time_delta\"])## nanoseconds to hours\n",
    "\n",
    "fig = go.Figure(data=[trace])\n",
    "# Change the bar mode\n",
    "fig.update_layout(title=\"Nombre de missions par hôtel\",\n",
    "                  showlegend=False)\n",
    "\n",
    "fig.update_traces(dict(marker_line_width=0))\n",
    "\n",
    "\n",
    "fig.update_xaxes(title_text='Hôtels')\n",
    "fig.update_yaxes(title_text='Nombre de missions')\n",
    "\n",
    "\n",
    "fig.show()\n"
   ]
  },
  {
   "cell_type": "code",
   "execution_count": 66,
   "metadata": {},
   "outputs": [
    {
     "data": {
      "text/plain": [
       "statuts\n",
       "annulé     392\n",
       "urgente    225\n",
       "Name: count, dtype: int64"
      ]
     },
     "execution_count": 66,
     "metadata": {},
     "output_type": "execute_result"
    }
   ],
   "source": [
    "data[\"statuts\"].value_counts()"
   ]
  },
  {
   "cell_type": "code",
   "execution_count": 67,
   "metadata": {},
   "outputs": [],
   "source": [
    "data[\"statuts\"] = data[\"statuts\"].fillna(\"standard\")"
   ]
  },
  {
   "cell_type": "code",
   "execution_count": 68,
   "metadata": {},
   "outputs": [
    {
     "data": {
      "application/vnd.plotly.v1+json": {
       "config": {
        "plotlyServerURL": "https://plot.ly"
       },
       "data": [
        {
         "alignmentgroup": "True",
         "hovertemplate": "statuts=standard<br>Propriété_clean=%{x}<br>Propriété=%{y}<extra></extra>",
         "legendgroup": "standard",
         "marker": {
          "color": "#636efa",
          "pattern": {
           "shape": ""
          }
         },
         "name": "standard",
         "offsetgroup": "standard",
         "orientation": "v",
         "showlegend": true,
         "textposition": "auto",
         "type": "bar",
         "x": [
          "Ibis Montparnasse",
          "Milie Rose",
          "Imprimerie",
          "Touraine",
          "Drawing House",
          "Les Deux Girafes",
          "Yllen Eiffel",
          "Alberte ",
          "Courseine",
          "Le Grand Quartier",
          "Monte Cristo"
         ],
         "xaxis": "x",
         "y": [
          47,
          14,
          10,
          8,
          4,
          3,
          2,
          2,
          2,
          2,
          1
         ],
         "yaxis": "y"
        },
        {
         "alignmentgroup": "True",
         "hovertemplate": "statuts=urgente<br>Propriété_clean=%{x}<br>Propriété=%{y}<extra></extra>",
         "legendgroup": "urgente",
         "marker": {
          "color": "#EF553B",
          "pattern": {
           "shape": ""
          }
         },
         "name": "urgente",
         "offsetgroup": "urgente",
         "orientation": "v",
         "showlegend": true,
         "textposition": "auto",
         "type": "bar",
         "x": [
          "Ibis Montparnasse",
          "Courseine",
          "Touraine",
          "Milie Rose",
          "Chouchou",
          "Drawing House",
          "Monte Cristo",
          "Victoire et Germain"
         ],
         "xaxis": "x",
         "y": [
          6,
          3,
          2,
          2,
          1,
          1,
          1,
          1
         ],
         "yaxis": "y"
        }
       ],
       "layout": {
        "barmode": "relative",
        "legend": {
         "title": {
          "text": "statuts"
         },
         "tracegroupgap": 0
        },
        "margin": {
         "t": 60
        },
        "template": {
         "data": {
          "bar": [
           {
            "error_x": {
             "color": "#2a3f5f"
            },
            "error_y": {
             "color": "#2a3f5f"
            },
            "marker": {
             "line": {
              "color": "#E5ECF6",
              "width": 0.5
             },
             "pattern": {
              "fillmode": "overlay",
              "size": 10,
              "solidity": 0.2
             }
            },
            "type": "bar"
           }
          ],
          "barpolar": [
           {
            "marker": {
             "line": {
              "color": "#E5ECF6",
              "width": 0.5
             },
             "pattern": {
              "fillmode": "overlay",
              "size": 10,
              "solidity": 0.2
             }
            },
            "type": "barpolar"
           }
          ],
          "carpet": [
           {
            "aaxis": {
             "endlinecolor": "#2a3f5f",
             "gridcolor": "white",
             "linecolor": "white",
             "minorgridcolor": "white",
             "startlinecolor": "#2a3f5f"
            },
            "baxis": {
             "endlinecolor": "#2a3f5f",
             "gridcolor": "white",
             "linecolor": "white",
             "minorgridcolor": "white",
             "startlinecolor": "#2a3f5f"
            },
            "type": "carpet"
           }
          ],
          "choropleth": [
           {
            "colorbar": {
             "outlinewidth": 0,
             "ticks": ""
            },
            "type": "choropleth"
           }
          ],
          "contour": [
           {
            "colorbar": {
             "outlinewidth": 0,
             "ticks": ""
            },
            "colorscale": [
             [
              0,
              "#0d0887"
             ],
             [
              0.1111111111111111,
              "#46039f"
             ],
             [
              0.2222222222222222,
              "#7201a8"
             ],
             [
              0.3333333333333333,
              "#9c179e"
             ],
             [
              0.4444444444444444,
              "#bd3786"
             ],
             [
              0.5555555555555556,
              "#d8576b"
             ],
             [
              0.6666666666666666,
              "#ed7953"
             ],
             [
              0.7777777777777778,
              "#fb9f3a"
             ],
             [
              0.8888888888888888,
              "#fdca26"
             ],
             [
              1,
              "#f0f921"
             ]
            ],
            "type": "contour"
           }
          ],
          "contourcarpet": [
           {
            "colorbar": {
             "outlinewidth": 0,
             "ticks": ""
            },
            "type": "contourcarpet"
           }
          ],
          "heatmap": [
           {
            "colorbar": {
             "outlinewidth": 0,
             "ticks": ""
            },
            "colorscale": [
             [
              0,
              "#0d0887"
             ],
             [
              0.1111111111111111,
              "#46039f"
             ],
             [
              0.2222222222222222,
              "#7201a8"
             ],
             [
              0.3333333333333333,
              "#9c179e"
             ],
             [
              0.4444444444444444,
              "#bd3786"
             ],
             [
              0.5555555555555556,
              "#d8576b"
             ],
             [
              0.6666666666666666,
              "#ed7953"
             ],
             [
              0.7777777777777778,
              "#fb9f3a"
             ],
             [
              0.8888888888888888,
              "#fdca26"
             ],
             [
              1,
              "#f0f921"
             ]
            ],
            "type": "heatmap"
           }
          ],
          "heatmapgl": [
           {
            "colorbar": {
             "outlinewidth": 0,
             "ticks": ""
            },
            "colorscale": [
             [
              0,
              "#0d0887"
             ],
             [
              0.1111111111111111,
              "#46039f"
             ],
             [
              0.2222222222222222,
              "#7201a8"
             ],
             [
              0.3333333333333333,
              "#9c179e"
             ],
             [
              0.4444444444444444,
              "#bd3786"
             ],
             [
              0.5555555555555556,
              "#d8576b"
             ],
             [
              0.6666666666666666,
              "#ed7953"
             ],
             [
              0.7777777777777778,
              "#fb9f3a"
             ],
             [
              0.8888888888888888,
              "#fdca26"
             ],
             [
              1,
              "#f0f921"
             ]
            ],
            "type": "heatmapgl"
           }
          ],
          "histogram": [
           {
            "marker": {
             "pattern": {
              "fillmode": "overlay",
              "size": 10,
              "solidity": 0.2
             }
            },
            "type": "histogram"
           }
          ],
          "histogram2d": [
           {
            "colorbar": {
             "outlinewidth": 0,
             "ticks": ""
            },
            "colorscale": [
             [
              0,
              "#0d0887"
             ],
             [
              0.1111111111111111,
              "#46039f"
             ],
             [
              0.2222222222222222,
              "#7201a8"
             ],
             [
              0.3333333333333333,
              "#9c179e"
             ],
             [
              0.4444444444444444,
              "#bd3786"
             ],
             [
              0.5555555555555556,
              "#d8576b"
             ],
             [
              0.6666666666666666,
              "#ed7953"
             ],
             [
              0.7777777777777778,
              "#fb9f3a"
             ],
             [
              0.8888888888888888,
              "#fdca26"
             ],
             [
              1,
              "#f0f921"
             ]
            ],
            "type": "histogram2d"
           }
          ],
          "histogram2dcontour": [
           {
            "colorbar": {
             "outlinewidth": 0,
             "ticks": ""
            },
            "colorscale": [
             [
              0,
              "#0d0887"
             ],
             [
              0.1111111111111111,
              "#46039f"
             ],
             [
              0.2222222222222222,
              "#7201a8"
             ],
             [
              0.3333333333333333,
              "#9c179e"
             ],
             [
              0.4444444444444444,
              "#bd3786"
             ],
             [
              0.5555555555555556,
              "#d8576b"
             ],
             [
              0.6666666666666666,
              "#ed7953"
             ],
             [
              0.7777777777777778,
              "#fb9f3a"
             ],
             [
              0.8888888888888888,
              "#fdca26"
             ],
             [
              1,
              "#f0f921"
             ]
            ],
            "type": "histogram2dcontour"
           }
          ],
          "mesh3d": [
           {
            "colorbar": {
             "outlinewidth": 0,
             "ticks": ""
            },
            "type": "mesh3d"
           }
          ],
          "parcoords": [
           {
            "line": {
             "colorbar": {
              "outlinewidth": 0,
              "ticks": ""
             }
            },
            "type": "parcoords"
           }
          ],
          "pie": [
           {
            "automargin": true,
            "type": "pie"
           }
          ],
          "scatter": [
           {
            "fillpattern": {
             "fillmode": "overlay",
             "size": 10,
             "solidity": 0.2
            },
            "type": "scatter"
           }
          ],
          "scatter3d": [
           {
            "line": {
             "colorbar": {
              "outlinewidth": 0,
              "ticks": ""
             }
            },
            "marker": {
             "colorbar": {
              "outlinewidth": 0,
              "ticks": ""
             }
            },
            "type": "scatter3d"
           }
          ],
          "scattercarpet": [
           {
            "marker": {
             "colorbar": {
              "outlinewidth": 0,
              "ticks": ""
             }
            },
            "type": "scattercarpet"
           }
          ],
          "scattergeo": [
           {
            "marker": {
             "colorbar": {
              "outlinewidth": 0,
              "ticks": ""
             }
            },
            "type": "scattergeo"
           }
          ],
          "scattergl": [
           {
            "marker": {
             "colorbar": {
              "outlinewidth": 0,
              "ticks": ""
             }
            },
            "type": "scattergl"
           }
          ],
          "scattermapbox": [
           {
            "marker": {
             "colorbar": {
              "outlinewidth": 0,
              "ticks": ""
             }
            },
            "type": "scattermapbox"
           }
          ],
          "scatterpolar": [
           {
            "marker": {
             "colorbar": {
              "outlinewidth": 0,
              "ticks": ""
             }
            },
            "type": "scatterpolar"
           }
          ],
          "scatterpolargl": [
           {
            "marker": {
             "colorbar": {
              "outlinewidth": 0,
              "ticks": ""
             }
            },
            "type": "scatterpolargl"
           }
          ],
          "scatterternary": [
           {
            "marker": {
             "colorbar": {
              "outlinewidth": 0,
              "ticks": ""
             }
            },
            "type": "scatterternary"
           }
          ],
          "surface": [
           {
            "colorbar": {
             "outlinewidth": 0,
             "ticks": ""
            },
            "colorscale": [
             [
              0,
              "#0d0887"
             ],
             [
              0.1111111111111111,
              "#46039f"
             ],
             [
              0.2222222222222222,
              "#7201a8"
             ],
             [
              0.3333333333333333,
              "#9c179e"
             ],
             [
              0.4444444444444444,
              "#bd3786"
             ],
             [
              0.5555555555555556,
              "#d8576b"
             ],
             [
              0.6666666666666666,
              "#ed7953"
             ],
             [
              0.7777777777777778,
              "#fb9f3a"
             ],
             [
              0.8888888888888888,
              "#fdca26"
             ],
             [
              1,
              "#f0f921"
             ]
            ],
            "type": "surface"
           }
          ],
          "table": [
           {
            "cells": {
             "fill": {
              "color": "#EBF0F8"
             },
             "line": {
              "color": "white"
             }
            },
            "header": {
             "fill": {
              "color": "#C8D4E3"
             },
             "line": {
              "color": "white"
             }
            },
            "type": "table"
           }
          ]
         },
         "layout": {
          "annotationdefaults": {
           "arrowcolor": "#2a3f5f",
           "arrowhead": 0,
           "arrowwidth": 1
          },
          "autotypenumbers": "strict",
          "coloraxis": {
           "colorbar": {
            "outlinewidth": 0,
            "ticks": ""
           }
          },
          "colorscale": {
           "diverging": [
            [
             0,
             "#8e0152"
            ],
            [
             0.1,
             "#c51b7d"
            ],
            [
             0.2,
             "#de77ae"
            ],
            [
             0.3,
             "#f1b6da"
            ],
            [
             0.4,
             "#fde0ef"
            ],
            [
             0.5,
             "#f7f7f7"
            ],
            [
             0.6,
             "#e6f5d0"
            ],
            [
             0.7,
             "#b8e186"
            ],
            [
             0.8,
             "#7fbc41"
            ],
            [
             0.9,
             "#4d9221"
            ],
            [
             1,
             "#276419"
            ]
           ],
           "sequential": [
            [
             0,
             "#0d0887"
            ],
            [
             0.1111111111111111,
             "#46039f"
            ],
            [
             0.2222222222222222,
             "#7201a8"
            ],
            [
             0.3333333333333333,
             "#9c179e"
            ],
            [
             0.4444444444444444,
             "#bd3786"
            ],
            [
             0.5555555555555556,
             "#d8576b"
            ],
            [
             0.6666666666666666,
             "#ed7953"
            ],
            [
             0.7777777777777778,
             "#fb9f3a"
            ],
            [
             0.8888888888888888,
             "#fdca26"
            ],
            [
             1,
             "#f0f921"
            ]
           ],
           "sequentialminus": [
            [
             0,
             "#0d0887"
            ],
            [
             0.1111111111111111,
             "#46039f"
            ],
            [
             0.2222222222222222,
             "#7201a8"
            ],
            [
             0.3333333333333333,
             "#9c179e"
            ],
            [
             0.4444444444444444,
             "#bd3786"
            ],
            [
             0.5555555555555556,
             "#d8576b"
            ],
            [
             0.6666666666666666,
             "#ed7953"
            ],
            [
             0.7777777777777778,
             "#fb9f3a"
            ],
            [
             0.8888888888888888,
             "#fdca26"
            ],
            [
             1,
             "#f0f921"
            ]
           ]
          },
          "colorway": [
           "#636efa",
           "#EF553B",
           "#00cc96",
           "#ab63fa",
           "#FFA15A",
           "#19d3f3",
           "#FF6692",
           "#B6E880",
           "#FF97FF",
           "#FECB52"
          ],
          "font": {
           "color": "#2a3f5f"
          },
          "geo": {
           "bgcolor": "white",
           "lakecolor": "white",
           "landcolor": "#E5ECF6",
           "showlakes": true,
           "showland": true,
           "subunitcolor": "white"
          },
          "hoverlabel": {
           "align": "left"
          },
          "hovermode": "closest",
          "mapbox": {
           "style": "light"
          },
          "paper_bgcolor": "white",
          "plot_bgcolor": "#E5ECF6",
          "polar": {
           "angularaxis": {
            "gridcolor": "white",
            "linecolor": "white",
            "ticks": ""
           },
           "bgcolor": "#E5ECF6",
           "radialaxis": {
            "gridcolor": "white",
            "linecolor": "white",
            "ticks": ""
           }
          },
          "scene": {
           "xaxis": {
            "backgroundcolor": "#E5ECF6",
            "gridcolor": "white",
            "gridwidth": 2,
            "linecolor": "white",
            "showbackground": true,
            "ticks": "",
            "zerolinecolor": "white"
           },
           "yaxis": {
            "backgroundcolor": "#E5ECF6",
            "gridcolor": "white",
            "gridwidth": 2,
            "linecolor": "white",
            "showbackground": true,
            "ticks": "",
            "zerolinecolor": "white"
           },
           "zaxis": {
            "backgroundcolor": "#E5ECF6",
            "gridcolor": "white",
            "gridwidth": 2,
            "linecolor": "white",
            "showbackground": true,
            "ticks": "",
            "zerolinecolor": "white"
           }
          },
          "shapedefaults": {
           "line": {
            "color": "#2a3f5f"
           }
          },
          "ternary": {
           "aaxis": {
            "gridcolor": "white",
            "linecolor": "white",
            "ticks": ""
           },
           "baxis": {
            "gridcolor": "white",
            "linecolor": "white",
            "ticks": ""
           },
           "bgcolor": "#E5ECF6",
           "caxis": {
            "gridcolor": "white",
            "linecolor": "white",
            "ticks": ""
           }
          },
          "title": {
           "x": 0.05
          },
          "xaxis": {
           "automargin": true,
           "gridcolor": "white",
           "linecolor": "white",
           "ticks": "",
           "title": {
            "standoff": 15
           },
           "zerolinecolor": "white",
           "zerolinewidth": 2
          },
          "yaxis": {
           "automargin": true,
           "gridcolor": "white",
           "linecolor": "white",
           "ticks": "",
           "title": {
            "standoff": 15
           },
           "zerolinecolor": "white",
           "zerolinewidth": 2
          }
         }
        },
        "xaxis": {
         "anchor": "y",
         "domain": [
          0,
          1
         ],
         "title": {
          "text": "Propriété_clean"
         }
        },
        "yaxis": {
         "anchor": "x",
         "domain": [
          0,
          1
         ],
         "title": {
          "text": "Propriété"
         }
        }
       }
      }
     },
     "metadata": {},
     "output_type": "display_data"
    }
   ],
   "source": [
    "months = data[\"periode_debut\"].unique()\n",
    "\n",
    "monthly_missions_status = data[data[\"periode_debut\"] == months[1]].groupby([\"Propriété_clean\", \"statuts\"]).count().sort_values(by=\"hôtel\", ascending=False).reset_index().iloc[:,:3]\n",
    "monthly_missions_status\n",
    "\n",
    "fig = px.bar(monthly_missions_status, x=\"Propriété_clean\", y=\"Propriété\", color=\"statuts\")\n",
    "fig.show()"
   ]
  },
  {
   "cell_type": "code",
   "execution_count": 69,
   "metadata": {},
   "outputs": [],
   "source": [
    "date = \"04-6\"\n",
    "if date == any:\n",
    "    print(True)"
   ]
  },
  {
   "cell_type": "code",
   "execution_count": 72,
   "metadata": {},
   "outputs": [
    {
     "data": {
      "application/vnd.plotly.v1+json": {
       "config": {
        "plotlyServerURL": "https://plot.ly"
       },
       "data": [
        {
         "hovertemplate": "Propriété_clean=Ibis Montparnasse<br>periode_debut=%{x}<br>Missions=%{y}<extra></extra>",
         "legendgroup": "Ibis Montparnasse",
         "line": {
          "color": "#636efa",
          "dash": "solid"
         },
         "marker": {
          "symbol": "circle"
         },
         "mode": "lines+markers",
         "name": "Ibis Montparnasse",
         "orientation": "v",
         "showlegend": true,
         "type": "scatter",
         "x": [
          "01-2023",
          "02-2023",
          "03-2023",
          "04-2023",
          "05-2023",
          "06-2023",
          "07-2023",
          "08-2023",
          "09-2023",
          "10-2023",
          "11-2023",
          "12-2023"
         ],
         "xaxis": "x",
         "y": [
          9415,
          8180,
          8640,
          10215,
          8520,
          10885,
          15690,
          16555,
          13915,
          14420,
          12480,
          9205
         ],
         "yaxis": "y"
        },
        {
         "hovertemplate": "Propriété_clean=Select Hotel<br>periode_debut=%{x}<br>Missions=%{y}<extra></extra>",
         "legendgroup": "Select Hotel",
         "line": {
          "color": "#EF553B",
          "dash": "solid"
         },
         "marker": {
          "symbol": "circle"
         },
         "mode": "lines+markers",
         "name": "Select Hotel",
         "orientation": "v",
         "showlegend": true,
         "type": "scatter",
         "x": [
          "01-2023",
          "02-2023",
          "03-2023",
          "04-2023",
          "05-2023",
          "06-2023",
          "07-2023",
          "08-2023",
          "09-2023",
          "10-2023",
          "11-2023",
          "12-2023"
         ],
         "xaxis": "x",
         "y": [
          9345,
          8358,
          1218,
          1974,
          2562,
          3696,
          5964,
          2730,
          7182,
          3780,
          5628,
          0
         ],
         "yaxis": "y"
        },
        {
         "hovertemplate": "Propriété_clean=Le Grand Quartier<br>periode_debut=%{x}<br>Missions=%{y}<extra></extra>",
         "legendgroup": "Le Grand Quartier",
         "line": {
          "color": "#00cc96",
          "dash": "solid"
         },
         "marker": {
          "symbol": "circle"
         },
         "mode": "lines+markers",
         "name": "Le Grand Quartier",
         "orientation": "v",
         "showlegend": true,
         "type": "scatter",
         "x": [
          "01-2023",
          "02-2023",
          "03-2023",
          "04-2023",
          "05-2023",
          "06-2023",
          "07-2023",
          "08-2023",
          "09-2023",
          "10-2023",
          "11-2023",
          "12-2023"
         ],
         "xaxis": "x",
         "y": [
          4675,
          5430,
          3560,
          2765,
          2120,
          5340,
          4670,
          5480,
          5080,
          5300,
          1760,
          220
         ],
         "yaxis": "y"
        },
        {
         "hovertemplate": "Propriété_clean=Imprimerie<br>periode_debut=%{x}<br>Missions=%{y}<extra></extra>",
         "legendgroup": "Imprimerie",
         "line": {
          "color": "#ab63fa",
          "dash": "solid"
         },
         "marker": {
          "symbol": "circle"
         },
         "mode": "lines+markers",
         "name": "Imprimerie",
         "orientation": "v",
         "showlegend": true,
         "type": "scatter",
         "x": [
          "01-2023",
          "02-2023",
          "03-2023",
          "04-2023",
          "05-2023",
          "06-2023",
          "07-2023",
          "08-2023",
          "09-2023",
          "10-2023",
          "11-2023",
          "12-2023"
         ],
         "xaxis": "x",
         "y": [
          4600,
          1185,
          5520,
          4555,
          2215,
          5650,
          3280,
          2960,
          5035,
          4250,
          3880,
          2400
         ],
         "yaxis": "y"
        },
        {
         "hovertemplate": "Propriété_clean=Milie Rose<br>periode_debut=%{x}<br>Missions=%{y}<extra></extra>",
         "legendgroup": "Milie Rose",
         "line": {
          "color": "#FFA15A",
          "dash": "solid"
         },
         "marker": {
          "symbol": "circle"
         },
         "mode": "lines+markers",
         "name": "Milie Rose",
         "orientation": "v",
         "showlegend": true,
         "type": "scatter",
         "x": [
          "01-2023",
          "02-2023",
          "03-2023",
          "04-2023",
          "05-2023",
          "06-2023",
          "07-2023",
          "08-2023",
          "09-2023",
          "10-2023",
          "11-2023",
          "12-2023"
         ],
         "xaxis": "x",
         "y": [
          0,
          3960,
          4450,
          3000,
          3460,
          3140,
          3840,
          5765,
          3905,
          2385,
          2580,
          3020
         ],
         "yaxis": "y"
        }
       ],
       "layout": {
        "legend": {
         "title": {
          "text": "Propriété_clean"
         },
         "tracegroupgap": 0
        },
        "margin": {
         "t": 60
        },
        "template": {
         "data": {
          "bar": [
           {
            "error_x": {
             "color": "#2a3f5f"
            },
            "error_y": {
             "color": "#2a3f5f"
            },
            "marker": {
             "line": {
              "color": "#E5ECF6",
              "width": 0.5
             },
             "pattern": {
              "fillmode": "overlay",
              "size": 10,
              "solidity": 0.2
             }
            },
            "type": "bar"
           }
          ],
          "barpolar": [
           {
            "marker": {
             "line": {
              "color": "#E5ECF6",
              "width": 0.5
             },
             "pattern": {
              "fillmode": "overlay",
              "size": 10,
              "solidity": 0.2
             }
            },
            "type": "barpolar"
           }
          ],
          "carpet": [
           {
            "aaxis": {
             "endlinecolor": "#2a3f5f",
             "gridcolor": "white",
             "linecolor": "white",
             "minorgridcolor": "white",
             "startlinecolor": "#2a3f5f"
            },
            "baxis": {
             "endlinecolor": "#2a3f5f",
             "gridcolor": "white",
             "linecolor": "white",
             "minorgridcolor": "white",
             "startlinecolor": "#2a3f5f"
            },
            "type": "carpet"
           }
          ],
          "choropleth": [
           {
            "colorbar": {
             "outlinewidth": 0,
             "ticks": ""
            },
            "type": "choropleth"
           }
          ],
          "contour": [
           {
            "colorbar": {
             "outlinewidth": 0,
             "ticks": ""
            },
            "colorscale": [
             [
              0,
              "#0d0887"
             ],
             [
              0.1111111111111111,
              "#46039f"
             ],
             [
              0.2222222222222222,
              "#7201a8"
             ],
             [
              0.3333333333333333,
              "#9c179e"
             ],
             [
              0.4444444444444444,
              "#bd3786"
             ],
             [
              0.5555555555555556,
              "#d8576b"
             ],
             [
              0.6666666666666666,
              "#ed7953"
             ],
             [
              0.7777777777777778,
              "#fb9f3a"
             ],
             [
              0.8888888888888888,
              "#fdca26"
             ],
             [
              1,
              "#f0f921"
             ]
            ],
            "type": "contour"
           }
          ],
          "contourcarpet": [
           {
            "colorbar": {
             "outlinewidth": 0,
             "ticks": ""
            },
            "type": "contourcarpet"
           }
          ],
          "heatmap": [
           {
            "colorbar": {
             "outlinewidth": 0,
             "ticks": ""
            },
            "colorscale": [
             [
              0,
              "#0d0887"
             ],
             [
              0.1111111111111111,
              "#46039f"
             ],
             [
              0.2222222222222222,
              "#7201a8"
             ],
             [
              0.3333333333333333,
              "#9c179e"
             ],
             [
              0.4444444444444444,
              "#bd3786"
             ],
             [
              0.5555555555555556,
              "#d8576b"
             ],
             [
              0.6666666666666666,
              "#ed7953"
             ],
             [
              0.7777777777777778,
              "#fb9f3a"
             ],
             [
              0.8888888888888888,
              "#fdca26"
             ],
             [
              1,
              "#f0f921"
             ]
            ],
            "type": "heatmap"
           }
          ],
          "heatmapgl": [
           {
            "colorbar": {
             "outlinewidth": 0,
             "ticks": ""
            },
            "colorscale": [
             [
              0,
              "#0d0887"
             ],
             [
              0.1111111111111111,
              "#46039f"
             ],
             [
              0.2222222222222222,
              "#7201a8"
             ],
             [
              0.3333333333333333,
              "#9c179e"
             ],
             [
              0.4444444444444444,
              "#bd3786"
             ],
             [
              0.5555555555555556,
              "#d8576b"
             ],
             [
              0.6666666666666666,
              "#ed7953"
             ],
             [
              0.7777777777777778,
              "#fb9f3a"
             ],
             [
              0.8888888888888888,
              "#fdca26"
             ],
             [
              1,
              "#f0f921"
             ]
            ],
            "type": "heatmapgl"
           }
          ],
          "histogram": [
           {
            "marker": {
             "pattern": {
              "fillmode": "overlay",
              "size": 10,
              "solidity": 0.2
             }
            },
            "type": "histogram"
           }
          ],
          "histogram2d": [
           {
            "colorbar": {
             "outlinewidth": 0,
             "ticks": ""
            },
            "colorscale": [
             [
              0,
              "#0d0887"
             ],
             [
              0.1111111111111111,
              "#46039f"
             ],
             [
              0.2222222222222222,
              "#7201a8"
             ],
             [
              0.3333333333333333,
              "#9c179e"
             ],
             [
              0.4444444444444444,
              "#bd3786"
             ],
             [
              0.5555555555555556,
              "#d8576b"
             ],
             [
              0.6666666666666666,
              "#ed7953"
             ],
             [
              0.7777777777777778,
              "#fb9f3a"
             ],
             [
              0.8888888888888888,
              "#fdca26"
             ],
             [
              1,
              "#f0f921"
             ]
            ],
            "type": "histogram2d"
           }
          ],
          "histogram2dcontour": [
           {
            "colorbar": {
             "outlinewidth": 0,
             "ticks": ""
            },
            "colorscale": [
             [
              0,
              "#0d0887"
             ],
             [
              0.1111111111111111,
              "#46039f"
             ],
             [
              0.2222222222222222,
              "#7201a8"
             ],
             [
              0.3333333333333333,
              "#9c179e"
             ],
             [
              0.4444444444444444,
              "#bd3786"
             ],
             [
              0.5555555555555556,
              "#d8576b"
             ],
             [
              0.6666666666666666,
              "#ed7953"
             ],
             [
              0.7777777777777778,
              "#fb9f3a"
             ],
             [
              0.8888888888888888,
              "#fdca26"
             ],
             [
              1,
              "#f0f921"
             ]
            ],
            "type": "histogram2dcontour"
           }
          ],
          "mesh3d": [
           {
            "colorbar": {
             "outlinewidth": 0,
             "ticks": ""
            },
            "type": "mesh3d"
           }
          ],
          "parcoords": [
           {
            "line": {
             "colorbar": {
              "outlinewidth": 0,
              "ticks": ""
             }
            },
            "type": "parcoords"
           }
          ],
          "pie": [
           {
            "automargin": true,
            "type": "pie"
           }
          ],
          "scatter": [
           {
            "fillpattern": {
             "fillmode": "overlay",
             "size": 10,
             "solidity": 0.2
            },
            "type": "scatter"
           }
          ],
          "scatter3d": [
           {
            "line": {
             "colorbar": {
              "outlinewidth": 0,
              "ticks": ""
             }
            },
            "marker": {
             "colorbar": {
              "outlinewidth": 0,
              "ticks": ""
             }
            },
            "type": "scatter3d"
           }
          ],
          "scattercarpet": [
           {
            "marker": {
             "colorbar": {
              "outlinewidth": 0,
              "ticks": ""
             }
            },
            "type": "scattercarpet"
           }
          ],
          "scattergeo": [
           {
            "marker": {
             "colorbar": {
              "outlinewidth": 0,
              "ticks": ""
             }
            },
            "type": "scattergeo"
           }
          ],
          "scattergl": [
           {
            "marker": {
             "colorbar": {
              "outlinewidth": 0,
              "ticks": ""
             }
            },
            "type": "scattergl"
           }
          ],
          "scattermapbox": [
           {
            "marker": {
             "colorbar": {
              "outlinewidth": 0,
              "ticks": ""
             }
            },
            "type": "scattermapbox"
           }
          ],
          "scatterpolar": [
           {
            "marker": {
             "colorbar": {
              "outlinewidth": 0,
              "ticks": ""
             }
            },
            "type": "scatterpolar"
           }
          ],
          "scatterpolargl": [
           {
            "marker": {
             "colorbar": {
              "outlinewidth": 0,
              "ticks": ""
             }
            },
            "type": "scatterpolargl"
           }
          ],
          "scatterternary": [
           {
            "marker": {
             "colorbar": {
              "outlinewidth": 0,
              "ticks": ""
             }
            },
            "type": "scatterternary"
           }
          ],
          "surface": [
           {
            "colorbar": {
             "outlinewidth": 0,
             "ticks": ""
            },
            "colorscale": [
             [
              0,
              "#0d0887"
             ],
             [
              0.1111111111111111,
              "#46039f"
             ],
             [
              0.2222222222222222,
              "#7201a8"
             ],
             [
              0.3333333333333333,
              "#9c179e"
             ],
             [
              0.4444444444444444,
              "#bd3786"
             ],
             [
              0.5555555555555556,
              "#d8576b"
             ],
             [
              0.6666666666666666,
              "#ed7953"
             ],
             [
              0.7777777777777778,
              "#fb9f3a"
             ],
             [
              0.8888888888888888,
              "#fdca26"
             ],
             [
              1,
              "#f0f921"
             ]
            ],
            "type": "surface"
           }
          ],
          "table": [
           {
            "cells": {
             "fill": {
              "color": "#EBF0F8"
             },
             "line": {
              "color": "white"
             }
            },
            "header": {
             "fill": {
              "color": "#C8D4E3"
             },
             "line": {
              "color": "white"
             }
            },
            "type": "table"
           }
          ]
         },
         "layout": {
          "annotationdefaults": {
           "arrowcolor": "#2a3f5f",
           "arrowhead": 0,
           "arrowwidth": 1
          },
          "autotypenumbers": "strict",
          "coloraxis": {
           "colorbar": {
            "outlinewidth": 0,
            "ticks": ""
           }
          },
          "colorscale": {
           "diverging": [
            [
             0,
             "#8e0152"
            ],
            [
             0.1,
             "#c51b7d"
            ],
            [
             0.2,
             "#de77ae"
            ],
            [
             0.3,
             "#f1b6da"
            ],
            [
             0.4,
             "#fde0ef"
            ],
            [
             0.5,
             "#f7f7f7"
            ],
            [
             0.6,
             "#e6f5d0"
            ],
            [
             0.7,
             "#b8e186"
            ],
            [
             0.8,
             "#7fbc41"
            ],
            [
             0.9,
             "#4d9221"
            ],
            [
             1,
             "#276419"
            ]
           ],
           "sequential": [
            [
             0,
             "#0d0887"
            ],
            [
             0.1111111111111111,
             "#46039f"
            ],
            [
             0.2222222222222222,
             "#7201a8"
            ],
            [
             0.3333333333333333,
             "#9c179e"
            ],
            [
             0.4444444444444444,
             "#bd3786"
            ],
            [
             0.5555555555555556,
             "#d8576b"
            ],
            [
             0.6666666666666666,
             "#ed7953"
            ],
            [
             0.7777777777777778,
             "#fb9f3a"
            ],
            [
             0.8888888888888888,
             "#fdca26"
            ],
            [
             1,
             "#f0f921"
            ]
           ],
           "sequentialminus": [
            [
             0,
             "#0d0887"
            ],
            [
             0.1111111111111111,
             "#46039f"
            ],
            [
             0.2222222222222222,
             "#7201a8"
            ],
            [
             0.3333333333333333,
             "#9c179e"
            ],
            [
             0.4444444444444444,
             "#bd3786"
            ],
            [
             0.5555555555555556,
             "#d8576b"
            ],
            [
             0.6666666666666666,
             "#ed7953"
            ],
            [
             0.7777777777777778,
             "#fb9f3a"
            ],
            [
             0.8888888888888888,
             "#fdca26"
            ],
            [
             1,
             "#f0f921"
            ]
           ]
          },
          "colorway": [
           "#636efa",
           "#EF553B",
           "#00cc96",
           "#ab63fa",
           "#FFA15A",
           "#19d3f3",
           "#FF6692",
           "#B6E880",
           "#FF97FF",
           "#FECB52"
          ],
          "font": {
           "color": "#2a3f5f"
          },
          "geo": {
           "bgcolor": "white",
           "lakecolor": "white",
           "landcolor": "#E5ECF6",
           "showlakes": true,
           "showland": true,
           "subunitcolor": "white"
          },
          "hoverlabel": {
           "align": "left"
          },
          "hovermode": "closest",
          "mapbox": {
           "style": "light"
          },
          "paper_bgcolor": "white",
          "plot_bgcolor": "#E5ECF6",
          "polar": {
           "angularaxis": {
            "gridcolor": "white",
            "linecolor": "white",
            "ticks": ""
           },
           "bgcolor": "#E5ECF6",
           "radialaxis": {
            "gridcolor": "white",
            "linecolor": "white",
            "ticks": ""
           }
          },
          "scene": {
           "xaxis": {
            "backgroundcolor": "#E5ECF6",
            "gridcolor": "white",
            "gridwidth": 2,
            "linecolor": "white",
            "showbackground": true,
            "ticks": "",
            "zerolinecolor": "white"
           },
           "yaxis": {
            "backgroundcolor": "#E5ECF6",
            "gridcolor": "white",
            "gridwidth": 2,
            "linecolor": "white",
            "showbackground": true,
            "ticks": "",
            "zerolinecolor": "white"
           },
           "zaxis": {
            "backgroundcolor": "#E5ECF6",
            "gridcolor": "white",
            "gridwidth": 2,
            "linecolor": "white",
            "showbackground": true,
            "ticks": "",
            "zerolinecolor": "white"
           }
          },
          "shapedefaults": {
           "line": {
            "color": "#2a3f5f"
           }
          },
          "ternary": {
           "aaxis": {
            "gridcolor": "white",
            "linecolor": "white",
            "ticks": ""
           },
           "baxis": {
            "gridcolor": "white",
            "linecolor": "white",
            "ticks": ""
           },
           "bgcolor": "#E5ECF6",
           "caxis": {
            "gridcolor": "white",
            "linecolor": "white",
            "ticks": ""
           }
          },
          "title": {
           "x": 0.05
          },
          "xaxis": {
           "automargin": true,
           "gridcolor": "white",
           "linecolor": "white",
           "ticks": "",
           "title": {
            "standoff": 15
           },
           "zerolinecolor": "white",
           "zerolinewidth": 2
          },
          "yaxis": {
           "automargin": true,
           "gridcolor": "white",
           "linecolor": "white",
           "ticks": "",
           "title": {
            "standoff": 15
           },
           "zerolinecolor": "white",
           "zerolinewidth": 2
          }
         }
        },
        "xaxis": {
         "anchor": "y",
         "domain": [
          0,
          1
         ],
         "title": {
          "text": "periode_debut"
         }
        },
        "yaxis": {
         "anchor": "x",
         "domain": [
          0,
          1
         ],
         "title": {
          "text": "Missions"
         }
        }
       }
      }
     },
     "metadata": {},
     "output_type": "display_data"
    }
   ],
   "source": [
    "top = 5\n",
    "years = data[\"date_debut\"].dt.year.astype(str).unique()\n",
    "by_year = data.loc[data[\"date_debut\"].dt.year.astype(str) == years[1], [\"Propriété_clean\",\"periode_debut\", \"total HT\"]]\n",
    "by_year = by_year.pivot_table(index=\"periode_debut\", values=\"total HT\",columns=['Propriété_clean'], aggfunc=\"sum\", fill_value=0)\n",
    "\n",
    "top_hotels = by_year.sum().sort_values(ascending=False)[:top].index.to_list()\n",
    "top_by_year = by_year.loc[:,top_hotels]\n",
    "top_by_year = pd.melt(top_by_year.reset_index(), id_vars=\"periode_debut\", value_name=\"Missions\")\n",
    "\n",
    "px.line(top_by_year, x=\"periode_debut\", y =\"Missions\", color=\"Propriété_clean\", markers=True)"
   ]
  },
  {
   "cell_type": "code",
   "execution_count": 73,
   "metadata": {},
   "outputs": [
    {
     "data": {
      "application/vnd.plotly.v1+json": {
       "config": {
        "plotlyServerURL": "https://plot.ly"
       },
       "data": [
        {
         "hovertemplate": "Propriété_clean=Ibis Montparnasse<br>periode_debut=%{x}<br>Missions=%{y}<extra></extra>",
         "legendgroup": "Ibis Montparnasse",
         "line": {
          "color": "#636efa",
          "dash": "solid"
         },
         "marker": {
          "symbol": "circle"
         },
         "mode": "lines+markers",
         "name": "Ibis Montparnasse",
         "orientation": "v",
         "showlegend": true,
         "type": "scatter",
         "x": [
          "01-2023",
          "02-2023",
          "03-2023",
          "04-2023",
          "05-2023",
          "06-2023",
          "07-2023",
          "08-2023",
          "09-2023",
          "10-2023",
          "11-2023",
          "12-2023"
         ],
         "xaxis": "x",
         "y": [
          56,
          49,
          52,
          65,
          50,
          68,
          102,
          109,
          89,
          97,
          79,
          53
         ],
         "yaxis": "y"
        },
        {
         "hovertemplate": "Propriété_clean=Le Grand Quartier<br>periode_debut=%{x}<br>Missions=%{y}<extra></extra>",
         "legendgroup": "Le Grand Quartier",
         "line": {
          "color": "#EF553B",
          "dash": "solid"
         },
         "marker": {
          "symbol": "circle"
         },
         "mode": "lines+markers",
         "name": "Le Grand Quartier",
         "orientation": "v",
         "showlegend": true,
         "type": "scatter",
         "x": [
          "01-2023",
          "02-2023",
          "03-2023",
          "04-2023",
          "05-2023",
          "06-2023",
          "07-2023",
          "08-2023",
          "09-2023",
          "10-2023",
          "11-2023",
          "12-2023"
         ],
         "xaxis": "x",
         "y": [
          25,
          30,
          21,
          15,
          16,
          32,
          26,
          35,
          34,
          34,
          13,
          2
         ],
         "yaxis": "y"
        },
        {
         "hovertemplate": "Propriété_clean=Select Hotel<br>periode_debut=%{x}<br>Missions=%{y}<extra></extra>",
         "legendgroup": "Select Hotel",
         "line": {
          "color": "#00cc96",
          "dash": "solid"
         },
         "marker": {
          "symbol": "circle"
         },
         "mode": "lines+markers",
         "name": "Select Hotel",
         "orientation": "v",
         "showlegend": true,
         "type": "scatter",
         "x": [
          "01-2023",
          "02-2023",
          "03-2023",
          "04-2023",
          "05-2023",
          "06-2023",
          "07-2023",
          "08-2023",
          "09-2023",
          "10-2023",
          "11-2023",
          "12-2023"
         ],
         "xaxis": "x",
         "y": [
          52,
          41,
          6,
          11,
          14,
          19,
          24,
          13,
          35,
          15,
          25,
          0
         ],
         "yaxis": "y"
        },
        {
         "hovertemplate": "Propriété_clean=Imprimerie<br>periode_debut=%{x}<br>Missions=%{y}<extra></extra>",
         "legendgroup": "Imprimerie",
         "line": {
          "color": "#ab63fa",
          "dash": "solid"
         },
         "marker": {
          "symbol": "circle"
         },
         "mode": "lines+markers",
         "name": "Imprimerie",
         "orientation": "v",
         "showlegend": true,
         "type": "scatter",
         "x": [
          "01-2023",
          "02-2023",
          "03-2023",
          "04-2023",
          "05-2023",
          "06-2023",
          "07-2023",
          "08-2023",
          "09-2023",
          "10-2023",
          "11-2023",
          "12-2023"
         ],
         "xaxis": "x",
         "y": [
          27,
          7,
          31,
          27,
          11,
          30,
          16,
          14,
          26,
          20,
          17,
          10
         ],
         "yaxis": "y"
        },
        {
         "hovertemplate": "Propriété_clean=Milie Rose<br>periode_debut=%{x}<br>Missions=%{y}<extra></extra>",
         "legendgroup": "Milie Rose",
         "line": {
          "color": "#FFA15A",
          "dash": "solid"
         },
         "marker": {
          "symbol": "circle"
         },
         "mode": "lines+markers",
         "name": "Milie Rose",
         "orientation": "v",
         "showlegend": true,
         "type": "scatter",
         "x": [
          "01-2023",
          "02-2023",
          "03-2023",
          "04-2023",
          "05-2023",
          "06-2023",
          "07-2023",
          "08-2023",
          "09-2023",
          "10-2023",
          "11-2023",
          "12-2023"
         ],
         "xaxis": "x",
         "y": [
          0,
          21,
          25,
          15,
          18,
          17,
          22,
          32,
          21,
          13,
          14,
          16
         ],
         "yaxis": "y"
        }
       ],
       "layout": {
        "legend": {
         "title": {
          "text": "Propriété_clean"
         },
         "tracegroupgap": 0
        },
        "margin": {
         "t": 60
        },
        "template": {
         "data": {
          "bar": [
           {
            "error_x": {
             "color": "#2a3f5f"
            },
            "error_y": {
             "color": "#2a3f5f"
            },
            "marker": {
             "line": {
              "color": "#E5ECF6",
              "width": 0.5
             },
             "pattern": {
              "fillmode": "overlay",
              "size": 10,
              "solidity": 0.2
             }
            },
            "type": "bar"
           }
          ],
          "barpolar": [
           {
            "marker": {
             "line": {
              "color": "#E5ECF6",
              "width": 0.5
             },
             "pattern": {
              "fillmode": "overlay",
              "size": 10,
              "solidity": 0.2
             }
            },
            "type": "barpolar"
           }
          ],
          "carpet": [
           {
            "aaxis": {
             "endlinecolor": "#2a3f5f",
             "gridcolor": "white",
             "linecolor": "white",
             "minorgridcolor": "white",
             "startlinecolor": "#2a3f5f"
            },
            "baxis": {
             "endlinecolor": "#2a3f5f",
             "gridcolor": "white",
             "linecolor": "white",
             "minorgridcolor": "white",
             "startlinecolor": "#2a3f5f"
            },
            "type": "carpet"
           }
          ],
          "choropleth": [
           {
            "colorbar": {
             "outlinewidth": 0,
             "ticks": ""
            },
            "type": "choropleth"
           }
          ],
          "contour": [
           {
            "colorbar": {
             "outlinewidth": 0,
             "ticks": ""
            },
            "colorscale": [
             [
              0,
              "#0d0887"
             ],
             [
              0.1111111111111111,
              "#46039f"
             ],
             [
              0.2222222222222222,
              "#7201a8"
             ],
             [
              0.3333333333333333,
              "#9c179e"
             ],
             [
              0.4444444444444444,
              "#bd3786"
             ],
             [
              0.5555555555555556,
              "#d8576b"
             ],
             [
              0.6666666666666666,
              "#ed7953"
             ],
             [
              0.7777777777777778,
              "#fb9f3a"
             ],
             [
              0.8888888888888888,
              "#fdca26"
             ],
             [
              1,
              "#f0f921"
             ]
            ],
            "type": "contour"
           }
          ],
          "contourcarpet": [
           {
            "colorbar": {
             "outlinewidth": 0,
             "ticks": ""
            },
            "type": "contourcarpet"
           }
          ],
          "heatmap": [
           {
            "colorbar": {
             "outlinewidth": 0,
             "ticks": ""
            },
            "colorscale": [
             [
              0,
              "#0d0887"
             ],
             [
              0.1111111111111111,
              "#46039f"
             ],
             [
              0.2222222222222222,
              "#7201a8"
             ],
             [
              0.3333333333333333,
              "#9c179e"
             ],
             [
              0.4444444444444444,
              "#bd3786"
             ],
             [
              0.5555555555555556,
              "#d8576b"
             ],
             [
              0.6666666666666666,
              "#ed7953"
             ],
             [
              0.7777777777777778,
              "#fb9f3a"
             ],
             [
              0.8888888888888888,
              "#fdca26"
             ],
             [
              1,
              "#f0f921"
             ]
            ],
            "type": "heatmap"
           }
          ],
          "heatmapgl": [
           {
            "colorbar": {
             "outlinewidth": 0,
             "ticks": ""
            },
            "colorscale": [
             [
              0,
              "#0d0887"
             ],
             [
              0.1111111111111111,
              "#46039f"
             ],
             [
              0.2222222222222222,
              "#7201a8"
             ],
             [
              0.3333333333333333,
              "#9c179e"
             ],
             [
              0.4444444444444444,
              "#bd3786"
             ],
             [
              0.5555555555555556,
              "#d8576b"
             ],
             [
              0.6666666666666666,
              "#ed7953"
             ],
             [
              0.7777777777777778,
              "#fb9f3a"
             ],
             [
              0.8888888888888888,
              "#fdca26"
             ],
             [
              1,
              "#f0f921"
             ]
            ],
            "type": "heatmapgl"
           }
          ],
          "histogram": [
           {
            "marker": {
             "pattern": {
              "fillmode": "overlay",
              "size": 10,
              "solidity": 0.2
             }
            },
            "type": "histogram"
           }
          ],
          "histogram2d": [
           {
            "colorbar": {
             "outlinewidth": 0,
             "ticks": ""
            },
            "colorscale": [
             [
              0,
              "#0d0887"
             ],
             [
              0.1111111111111111,
              "#46039f"
             ],
             [
              0.2222222222222222,
              "#7201a8"
             ],
             [
              0.3333333333333333,
              "#9c179e"
             ],
             [
              0.4444444444444444,
              "#bd3786"
             ],
             [
              0.5555555555555556,
              "#d8576b"
             ],
             [
              0.6666666666666666,
              "#ed7953"
             ],
             [
              0.7777777777777778,
              "#fb9f3a"
             ],
             [
              0.8888888888888888,
              "#fdca26"
             ],
             [
              1,
              "#f0f921"
             ]
            ],
            "type": "histogram2d"
           }
          ],
          "histogram2dcontour": [
           {
            "colorbar": {
             "outlinewidth": 0,
             "ticks": ""
            },
            "colorscale": [
             [
              0,
              "#0d0887"
             ],
             [
              0.1111111111111111,
              "#46039f"
             ],
             [
              0.2222222222222222,
              "#7201a8"
             ],
             [
              0.3333333333333333,
              "#9c179e"
             ],
             [
              0.4444444444444444,
              "#bd3786"
             ],
             [
              0.5555555555555556,
              "#d8576b"
             ],
             [
              0.6666666666666666,
              "#ed7953"
             ],
             [
              0.7777777777777778,
              "#fb9f3a"
             ],
             [
              0.8888888888888888,
              "#fdca26"
             ],
             [
              1,
              "#f0f921"
             ]
            ],
            "type": "histogram2dcontour"
           }
          ],
          "mesh3d": [
           {
            "colorbar": {
             "outlinewidth": 0,
             "ticks": ""
            },
            "type": "mesh3d"
           }
          ],
          "parcoords": [
           {
            "line": {
             "colorbar": {
              "outlinewidth": 0,
              "ticks": ""
             }
            },
            "type": "parcoords"
           }
          ],
          "pie": [
           {
            "automargin": true,
            "type": "pie"
           }
          ],
          "scatter": [
           {
            "fillpattern": {
             "fillmode": "overlay",
             "size": 10,
             "solidity": 0.2
            },
            "type": "scatter"
           }
          ],
          "scatter3d": [
           {
            "line": {
             "colorbar": {
              "outlinewidth": 0,
              "ticks": ""
             }
            },
            "marker": {
             "colorbar": {
              "outlinewidth": 0,
              "ticks": ""
             }
            },
            "type": "scatter3d"
           }
          ],
          "scattercarpet": [
           {
            "marker": {
             "colorbar": {
              "outlinewidth": 0,
              "ticks": ""
             }
            },
            "type": "scattercarpet"
           }
          ],
          "scattergeo": [
           {
            "marker": {
             "colorbar": {
              "outlinewidth": 0,
              "ticks": ""
             }
            },
            "type": "scattergeo"
           }
          ],
          "scattergl": [
           {
            "marker": {
             "colorbar": {
              "outlinewidth": 0,
              "ticks": ""
             }
            },
            "type": "scattergl"
           }
          ],
          "scattermapbox": [
           {
            "marker": {
             "colorbar": {
              "outlinewidth": 0,
              "ticks": ""
             }
            },
            "type": "scattermapbox"
           }
          ],
          "scatterpolar": [
           {
            "marker": {
             "colorbar": {
              "outlinewidth": 0,
              "ticks": ""
             }
            },
            "type": "scatterpolar"
           }
          ],
          "scatterpolargl": [
           {
            "marker": {
             "colorbar": {
              "outlinewidth": 0,
              "ticks": ""
             }
            },
            "type": "scatterpolargl"
           }
          ],
          "scatterternary": [
           {
            "marker": {
             "colorbar": {
              "outlinewidth": 0,
              "ticks": ""
             }
            },
            "type": "scatterternary"
           }
          ],
          "surface": [
           {
            "colorbar": {
             "outlinewidth": 0,
             "ticks": ""
            },
            "colorscale": [
             [
              0,
              "#0d0887"
             ],
             [
              0.1111111111111111,
              "#46039f"
             ],
             [
              0.2222222222222222,
              "#7201a8"
             ],
             [
              0.3333333333333333,
              "#9c179e"
             ],
             [
              0.4444444444444444,
              "#bd3786"
             ],
             [
              0.5555555555555556,
              "#d8576b"
             ],
             [
              0.6666666666666666,
              "#ed7953"
             ],
             [
              0.7777777777777778,
              "#fb9f3a"
             ],
             [
              0.8888888888888888,
              "#fdca26"
             ],
             [
              1,
              "#f0f921"
             ]
            ],
            "type": "surface"
           }
          ],
          "table": [
           {
            "cells": {
             "fill": {
              "color": "#EBF0F8"
             },
             "line": {
              "color": "white"
             }
            },
            "header": {
             "fill": {
              "color": "#C8D4E3"
             },
             "line": {
              "color": "white"
             }
            },
            "type": "table"
           }
          ]
         },
         "layout": {
          "annotationdefaults": {
           "arrowcolor": "#2a3f5f",
           "arrowhead": 0,
           "arrowwidth": 1
          },
          "autotypenumbers": "strict",
          "coloraxis": {
           "colorbar": {
            "outlinewidth": 0,
            "ticks": ""
           }
          },
          "colorscale": {
           "diverging": [
            [
             0,
             "#8e0152"
            ],
            [
             0.1,
             "#c51b7d"
            ],
            [
             0.2,
             "#de77ae"
            ],
            [
             0.3,
             "#f1b6da"
            ],
            [
             0.4,
             "#fde0ef"
            ],
            [
             0.5,
             "#f7f7f7"
            ],
            [
             0.6,
             "#e6f5d0"
            ],
            [
             0.7,
             "#b8e186"
            ],
            [
             0.8,
             "#7fbc41"
            ],
            [
             0.9,
             "#4d9221"
            ],
            [
             1,
             "#276419"
            ]
           ],
           "sequential": [
            [
             0,
             "#0d0887"
            ],
            [
             0.1111111111111111,
             "#46039f"
            ],
            [
             0.2222222222222222,
             "#7201a8"
            ],
            [
             0.3333333333333333,
             "#9c179e"
            ],
            [
             0.4444444444444444,
             "#bd3786"
            ],
            [
             0.5555555555555556,
             "#d8576b"
            ],
            [
             0.6666666666666666,
             "#ed7953"
            ],
            [
             0.7777777777777778,
             "#fb9f3a"
            ],
            [
             0.8888888888888888,
             "#fdca26"
            ],
            [
             1,
             "#f0f921"
            ]
           ],
           "sequentialminus": [
            [
             0,
             "#0d0887"
            ],
            [
             0.1111111111111111,
             "#46039f"
            ],
            [
             0.2222222222222222,
             "#7201a8"
            ],
            [
             0.3333333333333333,
             "#9c179e"
            ],
            [
             0.4444444444444444,
             "#bd3786"
            ],
            [
             0.5555555555555556,
             "#d8576b"
            ],
            [
             0.6666666666666666,
             "#ed7953"
            ],
            [
             0.7777777777777778,
             "#fb9f3a"
            ],
            [
             0.8888888888888888,
             "#fdca26"
            ],
            [
             1,
             "#f0f921"
            ]
           ]
          },
          "colorway": [
           "#636efa",
           "#EF553B",
           "#00cc96",
           "#ab63fa",
           "#FFA15A",
           "#19d3f3",
           "#FF6692",
           "#B6E880",
           "#FF97FF",
           "#FECB52"
          ],
          "font": {
           "color": "#2a3f5f"
          },
          "geo": {
           "bgcolor": "white",
           "lakecolor": "white",
           "landcolor": "#E5ECF6",
           "showlakes": true,
           "showland": true,
           "subunitcolor": "white"
          },
          "hoverlabel": {
           "align": "left"
          },
          "hovermode": "closest",
          "mapbox": {
           "style": "light"
          },
          "paper_bgcolor": "white",
          "plot_bgcolor": "#E5ECF6",
          "polar": {
           "angularaxis": {
            "gridcolor": "white",
            "linecolor": "white",
            "ticks": ""
           },
           "bgcolor": "#E5ECF6",
           "radialaxis": {
            "gridcolor": "white",
            "linecolor": "white",
            "ticks": ""
           }
          },
          "scene": {
           "xaxis": {
            "backgroundcolor": "#E5ECF6",
            "gridcolor": "white",
            "gridwidth": 2,
            "linecolor": "white",
            "showbackground": true,
            "ticks": "",
            "zerolinecolor": "white"
           },
           "yaxis": {
            "backgroundcolor": "#E5ECF6",
            "gridcolor": "white",
            "gridwidth": 2,
            "linecolor": "white",
            "showbackground": true,
            "ticks": "",
            "zerolinecolor": "white"
           },
           "zaxis": {
            "backgroundcolor": "#E5ECF6",
            "gridcolor": "white",
            "gridwidth": 2,
            "linecolor": "white",
            "showbackground": true,
            "ticks": "",
            "zerolinecolor": "white"
           }
          },
          "shapedefaults": {
           "line": {
            "color": "#2a3f5f"
           }
          },
          "ternary": {
           "aaxis": {
            "gridcolor": "white",
            "linecolor": "white",
            "ticks": ""
           },
           "baxis": {
            "gridcolor": "white",
            "linecolor": "white",
            "ticks": ""
           },
           "bgcolor": "#E5ECF6",
           "caxis": {
            "gridcolor": "white",
            "linecolor": "white",
            "ticks": ""
           }
          },
          "title": {
           "x": 0.05
          },
          "xaxis": {
           "automargin": true,
           "gridcolor": "white",
           "linecolor": "white",
           "ticks": "",
           "title": {
            "standoff": 15
           },
           "zerolinecolor": "white",
           "zerolinewidth": 2
          },
          "yaxis": {
           "automargin": true,
           "gridcolor": "white",
           "linecolor": "white",
           "ticks": "",
           "title": {
            "standoff": 15
           },
           "zerolinecolor": "white",
           "zerolinewidth": 2
          }
         }
        },
        "xaxis": {
         "anchor": "y",
         "domain": [
          0,
          1
         ],
         "title": {
          "text": "periode_debut"
         }
        },
        "yaxis": {
         "anchor": "x",
         "domain": [
          0,
          1
         ],
         "title": {
          "text": "Missions"
         }
        }
       }
      }
     },
     "metadata": {},
     "output_type": "display_data"
    }
   ],
   "source": [
    "top = 5\n",
    "years = data[\"date_debut\"].dt.year.astype(str).unique()\n",
    "by_year = data.loc[data[\"date_debut\"].dt.year.astype(str) == years[1], [\"Propriété_clean\",\"periode_debut\"]]\n",
    "by_year[\"count\"] = 1\n",
    "by_year = by_year.pivot_table(index=\"periode_debut\", values=\"count\",columns=['Propriété_clean'], aggfunc=\"count\", fill_value=0)\n",
    "\n",
    "top_hotels = by_year.sum().sort_values(ascending=False)[:top].index.to_list()\n",
    "top_by_year = by_year.loc[:,top_hotels]\n",
    "top_by_year = pd.melt(top_by_year.reset_index(), id_vars=\"periode_debut\", value_name=\"Missions\")\n",
    "\n",
    "px.line(top_by_year, x=\"periode_debut\", y =\"Missions\", color=\"Propriété_clean\", markers=True)\n"
   ]
  },
  {
   "cell_type": "code",
   "execution_count": null,
   "metadata": {},
   "outputs": [],
   "source": [
    "data[\"float_hours\"] = data[\"time_delta\"].apply(lambda x: x.total_seconds()/ 3600)"
   ]
  },
  {
   "cell_type": "code",
   "execution_count": 81,
   "metadata": {},
   "outputs": [],
   "source": [
    "data[\"periode_debut\"] = data[\"date_debut\"].dt.strftime(\"%b-%Y\")"
   ]
  },
  {
   "cell_type": "code",
   "execution_count": 82,
   "metadata": {},
   "outputs": [
    {
     "data": {
      "text/html": [
       "<div>\n",
       "<style scoped>\n",
       "    .dataframe tbody tr th:only-of-type {\n",
       "        vertical-align: middle;\n",
       "    }\n",
       "\n",
       "    .dataframe tbody tr th {\n",
       "        vertical-align: top;\n",
       "    }\n",
       "\n",
       "    .dataframe thead th {\n",
       "        text-align: right;\n",
       "    }\n",
       "</style>\n",
       "<table border=\"1\" class=\"dataframe\">\n",
       "  <thead>\n",
       "    <tr style=\"text-align: right;\">\n",
       "      <th></th>\n",
       "      <th>Propriété</th>\n",
       "      <th>hôtel</th>\n",
       "      <th>extra</th>\n",
       "      <th>date</th>\n",
       "      <th>statuts</th>\n",
       "      <th>tarif urgence</th>\n",
       "      <th>tarif horaire</th>\n",
       "      <th>nbre d'heures</th>\n",
       "      <th>total HT</th>\n",
       "      <th>facture</th>\n",
       "      <th>règlement</th>\n",
       "      <th>montant HT</th>\n",
       "      <th>Texte</th>\n",
       "      <th>date_debut</th>\n",
       "      <th>time_delta</th>\n",
       "      <th>date_fin</th>\n",
       "      <th>Propriété_clean</th>\n",
       "      <th>periode_debut</th>\n",
       "    </tr>\n",
       "  </thead>\n",
       "  <tbody>\n",
       "    <tr>\n",
       "      <th>0</th>\n",
       "      <td>Crystal</td>\n",
       "      <td>Crystal (https://www.notion.so/Crystal-1837fcb...</td>\n",
       "      <td>Grégory Tshimini (https://www.notion.so/Gr-gor...</td>\n",
       "      <td>07/01/2024 8:00 → 20:00</td>\n",
       "      <td>standard</td>\n",
       "      <td>NaN</td>\n",
       "      <td>21.0</td>\n",
       "      <td>12hr 0min</td>\n",
       "      <td>252</td>\n",
       "      <td>NaN</td>\n",
       "      <td>NaN</td>\n",
       "      <td>180</td>\n",
       "      <td>NaN</td>\n",
       "      <td>2024-01-07 08:00:00</td>\n",
       "      <td>0 days 12:00:00</td>\n",
       "      <td>2024-01-07 20:00:00</td>\n",
       "      <td>Crystal</td>\n",
       "      <td>Jan-2024</td>\n",
       "    </tr>\n",
       "    <tr>\n",
       "      <th>1</th>\n",
       "      <td>Milie rose</td>\n",
       "      <td>Milie Rose (https://www.notion.so/Milie-Rose-0...</td>\n",
       "      <td>Mamadou Koma (https://www.notion.so/Mamadou-Ko...</td>\n",
       "      <td>06/01/2024 22:30 → 07/01/2024 8:00</td>\n",
       "      <td>standard</td>\n",
       "      <td>NaN</td>\n",
       "      <td>20.0</td>\n",
       "      <td>9hr 30min</td>\n",
       "      <td>180</td>\n",
       "      <td>NaN</td>\n",
       "      <td>NaN</td>\n",
       "      <td>135</td>\n",
       "      <td>NaN</td>\n",
       "      <td>2024-01-06 22:30:00</td>\n",
       "      <td>0 days 09:30:00</td>\n",
       "      <td>2024-01-07 08:00:00</td>\n",
       "      <td>Milie Rose</td>\n",
       "      <td>Jan-2024</td>\n",
       "    </tr>\n",
       "    <tr>\n",
       "      <th>2</th>\n",
       "      <td>Touraine</td>\n",
       "      <td>Touraine (https://www.notion.so/Touraine-df4e7...</td>\n",
       "      <td>Mohamed Belbachir (https://www.notion.so/Moham...</td>\n",
       "      <td>06/01/2024 19:30 → 07/01/2024 7:30</td>\n",
       "      <td>standard</td>\n",
       "      <td>NaN</td>\n",
       "      <td>20.0</td>\n",
       "      <td>12hr 0min</td>\n",
       "      <td>240</td>\n",
       "      <td>NaN</td>\n",
       "      <td>NaN</td>\n",
       "      <td>180</td>\n",
       "      <td>NaN</td>\n",
       "      <td>2024-01-06 19:30:00</td>\n",
       "      <td>0 days 12:00:00</td>\n",
       "      <td>2024-01-07 07:30:00</td>\n",
       "      <td>Touraine</td>\n",
       "      <td>Jan-2024</td>\n",
       "    </tr>\n",
       "    <tr>\n",
       "      <th>3</th>\n",
       "      <td>Crystal</td>\n",
       "      <td>Crystal (https://www.notion.so/Crystal-1837fcb...</td>\n",
       "      <td>Grégory Tshimini (https://www.notion.so/Gr-gor...</td>\n",
       "      <td>06/01/2024 8:00 → 20:00</td>\n",
       "      <td>standard</td>\n",
       "      <td>NaN</td>\n",
       "      <td>21.0</td>\n",
       "      <td>12hr 0min</td>\n",
       "      <td>252</td>\n",
       "      <td>NaN</td>\n",
       "      <td>NaN</td>\n",
       "      <td>180</td>\n",
       "      <td>NaN</td>\n",
       "      <td>2024-01-06 08:00:00</td>\n",
       "      <td>0 days 12:00:00</td>\n",
       "      <td>2024-01-06 20:00:00</td>\n",
       "      <td>Crystal</td>\n",
       "      <td>Jan-2024</td>\n",
       "    </tr>\n",
       "    <tr>\n",
       "      <th>4</th>\n",
       "      <td>Milie rose</td>\n",
       "      <td>Milie Rose (https://www.notion.so/Milie-Rose-0...</td>\n",
       "      <td>Mamadou Koma (https://www.notion.so/Mamadou-Ko...</td>\n",
       "      <td>05/01/2024 22:30 → 06/01/2024 8:00</td>\n",
       "      <td>standard</td>\n",
       "      <td>NaN</td>\n",
       "      <td>20.0</td>\n",
       "      <td>9hr 30min</td>\n",
       "      <td>180</td>\n",
       "      <td>NaN</td>\n",
       "      <td>NaN</td>\n",
       "      <td>135</td>\n",
       "      <td>NaN</td>\n",
       "      <td>2024-01-05 22:30:00</td>\n",
       "      <td>0 days 09:30:00</td>\n",
       "      <td>2024-01-06 08:00:00</td>\n",
       "      <td>Milie Rose</td>\n",
       "      <td>Jan-2024</td>\n",
       "    </tr>\n",
       "  </tbody>\n",
       "</table>\n",
       "</div>"
      ],
      "text/plain": [
       "    Propriété                                              hôtel  \\\n",
       "0     Crystal  Crystal (https://www.notion.so/Crystal-1837fcb...   \n",
       "1  Milie rose  Milie Rose (https://www.notion.so/Milie-Rose-0...   \n",
       "2   Touraine   Touraine (https://www.notion.so/Touraine-df4e7...   \n",
       "3     Crystal  Crystal (https://www.notion.so/Crystal-1837fcb...   \n",
       "4  Milie rose  Milie Rose (https://www.notion.so/Milie-Rose-0...   \n",
       "\n",
       "                                               extra  \\\n",
       "0  Grégory Tshimini (https://www.notion.so/Gr-gor...   \n",
       "1  Mamadou Koma (https://www.notion.so/Mamadou-Ko...   \n",
       "2  Mohamed Belbachir (https://www.notion.so/Moham...   \n",
       "3  Grégory Tshimini (https://www.notion.so/Gr-gor...   \n",
       "4  Mamadou Koma (https://www.notion.so/Mamadou-Ko...   \n",
       "\n",
       "                                 date   statuts  tarif urgence  tarif horaire  \\\n",
       "0             07/01/2024 8:00 → 20:00  standard            NaN           21.0   \n",
       "1  06/01/2024 22:30 → 07/01/2024 8:00  standard            NaN           20.0   \n",
       "2  06/01/2024 19:30 → 07/01/2024 7:30  standard            NaN           20.0   \n",
       "3             06/01/2024 8:00 → 20:00  standard            NaN           21.0   \n",
       "4  05/01/2024 22:30 → 06/01/2024 8:00  standard            NaN           20.0   \n",
       "\n",
       "  nbre d'heures  total HT facture règlement  montant HT Texte  \\\n",
       "0     12hr 0min       252     NaN       NaN         180   NaN   \n",
       "1     9hr 30min       180     NaN       NaN         135   NaN   \n",
       "2     12hr 0min       240     NaN       NaN         180   NaN   \n",
       "3     12hr 0min       252     NaN       NaN         180   NaN   \n",
       "4     9hr 30min       180     NaN       NaN         135   NaN   \n",
       "\n",
       "           date_debut      time_delta            date_fin Propriété_clean  \\\n",
       "0 2024-01-07 08:00:00 0 days 12:00:00 2024-01-07 20:00:00         Crystal   \n",
       "1 2024-01-06 22:30:00 0 days 09:30:00 2024-01-07 08:00:00      Milie Rose   \n",
       "2 2024-01-06 19:30:00 0 days 12:00:00 2024-01-07 07:30:00        Touraine   \n",
       "3 2024-01-06 08:00:00 0 days 12:00:00 2024-01-06 20:00:00         Crystal   \n",
       "4 2024-01-05 22:30:00 0 days 09:30:00 2024-01-06 08:00:00      Milie Rose   \n",
       "\n",
       "  periode_debut  \n",
       "0      Jan-2024  \n",
       "1      Jan-2024  \n",
       "2      Jan-2024  \n",
       "3      Jan-2024  \n",
       "4      Jan-2024  "
      ]
     },
     "execution_count": 82,
     "metadata": {},
     "output_type": "execute_result"
    }
   ],
   "source": [
    "data.head()"
   ]
  },
  {
   "cell_type": "code",
   "execution_count": 83,
   "metadata": {},
   "outputs": [
    {
     "data": {
      "application/vnd.plotly.v1+json": {
       "config": {
        "plotlyServerURL": "https://plot.ly"
       },
       "data": [
        {
         "alignmentgroup": "True",
         "hovertemplate": "statuts=standard<br>Propriété_clean=%{x}<br>Propriété=%{y}<extra></extra>",
         "legendgroup": "standard",
         "marker": {
          "color": "#636efa",
          "pattern": {
           "shape": ""
          }
         },
         "name": "standard",
         "offsetgroup": "standard",
         "orientation": "v",
         "showlegend": true,
         "textposition": "auto",
         "type": "bar",
         "x": [
          "Ibis Montparnasse",
          "Select Hotel",
          "Le Grand Quartier",
          "Imprimerie",
          "Yllen Eiffel",
          "Marceau",
          "Apogé",
          "Crystal",
          "Drawing House",
          "Tsuba",
          "Touraine",
          "Courseine",
          "Quinzerie hotel",
          "Monte Cristo",
          "Les Deux Girafes",
          "Prélude",
          "Victoire et Germain"
         ],
         "xaxis": "x",
         "y": [
          47,
          41,
          23,
          19,
          11,
          6,
          5,
          4,
          3,
          3,
          3,
          2,
          2,
          2,
          1,
          1,
          1
         ],
         "yaxis": "y"
        },
        {
         "alignmentgroup": "True",
         "hovertemplate": "statuts=annulé<br>Propriété_clean=%{x}<br>Propriété=%{y}<extra></extra>",
         "legendgroup": "annulé",
         "marker": {
          "color": "#EF553B",
          "pattern": {
           "shape": ""
          }
         },
         "name": "annulé",
         "offsetgroup": "annulé",
         "orientation": "v",
         "showlegend": true,
         "textposition": "auto",
         "type": "bar",
         "x": [
          "Select Hotel",
          "Imprimerie",
          "Ibis Montparnasse",
          "Apogé",
          "Yllen Eiffel",
          "Touraine",
          "Drawing House",
          "Courseine",
          "Le Grand Quartier",
          "Monte Cristo"
         ],
         "xaxis": "x",
         "y": [
          11,
          8,
          5,
          2,
          2,
          2,
          1,
          1,
          1,
          1
         ],
         "yaxis": "y"
        },
        {
         "alignmentgroup": "True",
         "hovertemplate": "statuts=urgente<br>Propriété_clean=%{x}<br>Propriété=%{y}<extra></extra>",
         "legendgroup": "urgente",
         "marker": {
          "color": "#00cc96",
          "pattern": {
           "shape": ""
          }
         },
         "name": "urgente",
         "offsetgroup": "urgente",
         "orientation": "v",
         "showlegend": true,
         "textposition": "auto",
         "type": "bar",
         "x": [
          "Ibis Montparnasse",
          "Drawing House",
          "Le Grand Quartier",
          "Prélude",
          "Mont Dore",
          "Monte Cristo"
         ],
         "xaxis": "x",
         "y": [
          4,
          1,
          1,
          1,
          1,
          1
         ],
         "yaxis": "y"
        }
       ],
       "layout": {
        "barmode": "relative",
        "legend": {
         "title": {
          "text": "statuts"
         },
         "tracegroupgap": 0,
         "x": 0.99,
         "xanchor": "right",
         "y": 0.99,
         "yanchor": "top"
        },
        "margin": {
         "t": 60
        },
        "template": {
         "data": {
          "bar": [
           {
            "error_x": {
             "color": "#2a3f5f"
            },
            "error_y": {
             "color": "#2a3f5f"
            },
            "marker": {
             "line": {
              "color": "#E5ECF6",
              "width": 0.5
             },
             "pattern": {
              "fillmode": "overlay",
              "size": 10,
              "solidity": 0.2
             }
            },
            "type": "bar"
           }
          ],
          "barpolar": [
           {
            "marker": {
             "line": {
              "color": "#E5ECF6",
              "width": 0.5
             },
             "pattern": {
              "fillmode": "overlay",
              "size": 10,
              "solidity": 0.2
             }
            },
            "type": "barpolar"
           }
          ],
          "carpet": [
           {
            "aaxis": {
             "endlinecolor": "#2a3f5f",
             "gridcolor": "white",
             "linecolor": "white",
             "minorgridcolor": "white",
             "startlinecolor": "#2a3f5f"
            },
            "baxis": {
             "endlinecolor": "#2a3f5f",
             "gridcolor": "white",
             "linecolor": "white",
             "minorgridcolor": "white",
             "startlinecolor": "#2a3f5f"
            },
            "type": "carpet"
           }
          ],
          "choropleth": [
           {
            "colorbar": {
             "outlinewidth": 0,
             "ticks": ""
            },
            "type": "choropleth"
           }
          ],
          "contour": [
           {
            "colorbar": {
             "outlinewidth": 0,
             "ticks": ""
            },
            "colorscale": [
             [
              0,
              "#0d0887"
             ],
             [
              0.1111111111111111,
              "#46039f"
             ],
             [
              0.2222222222222222,
              "#7201a8"
             ],
             [
              0.3333333333333333,
              "#9c179e"
             ],
             [
              0.4444444444444444,
              "#bd3786"
             ],
             [
              0.5555555555555556,
              "#d8576b"
             ],
             [
              0.6666666666666666,
              "#ed7953"
             ],
             [
              0.7777777777777778,
              "#fb9f3a"
             ],
             [
              0.8888888888888888,
              "#fdca26"
             ],
             [
              1,
              "#f0f921"
             ]
            ],
            "type": "contour"
           }
          ],
          "contourcarpet": [
           {
            "colorbar": {
             "outlinewidth": 0,
             "ticks": ""
            },
            "type": "contourcarpet"
           }
          ],
          "heatmap": [
           {
            "colorbar": {
             "outlinewidth": 0,
             "ticks": ""
            },
            "colorscale": [
             [
              0,
              "#0d0887"
             ],
             [
              0.1111111111111111,
              "#46039f"
             ],
             [
              0.2222222222222222,
              "#7201a8"
             ],
             [
              0.3333333333333333,
              "#9c179e"
             ],
             [
              0.4444444444444444,
              "#bd3786"
             ],
             [
              0.5555555555555556,
              "#d8576b"
             ],
             [
              0.6666666666666666,
              "#ed7953"
             ],
             [
              0.7777777777777778,
              "#fb9f3a"
             ],
             [
              0.8888888888888888,
              "#fdca26"
             ],
             [
              1,
              "#f0f921"
             ]
            ],
            "type": "heatmap"
           }
          ],
          "heatmapgl": [
           {
            "colorbar": {
             "outlinewidth": 0,
             "ticks": ""
            },
            "colorscale": [
             [
              0,
              "#0d0887"
             ],
             [
              0.1111111111111111,
              "#46039f"
             ],
             [
              0.2222222222222222,
              "#7201a8"
             ],
             [
              0.3333333333333333,
              "#9c179e"
             ],
             [
              0.4444444444444444,
              "#bd3786"
             ],
             [
              0.5555555555555556,
              "#d8576b"
             ],
             [
              0.6666666666666666,
              "#ed7953"
             ],
             [
              0.7777777777777778,
              "#fb9f3a"
             ],
             [
              0.8888888888888888,
              "#fdca26"
             ],
             [
              1,
              "#f0f921"
             ]
            ],
            "type": "heatmapgl"
           }
          ],
          "histogram": [
           {
            "marker": {
             "pattern": {
              "fillmode": "overlay",
              "size": 10,
              "solidity": 0.2
             }
            },
            "type": "histogram"
           }
          ],
          "histogram2d": [
           {
            "colorbar": {
             "outlinewidth": 0,
             "ticks": ""
            },
            "colorscale": [
             [
              0,
              "#0d0887"
             ],
             [
              0.1111111111111111,
              "#46039f"
             ],
             [
              0.2222222222222222,
              "#7201a8"
             ],
             [
              0.3333333333333333,
              "#9c179e"
             ],
             [
              0.4444444444444444,
              "#bd3786"
             ],
             [
              0.5555555555555556,
              "#d8576b"
             ],
             [
              0.6666666666666666,
              "#ed7953"
             ],
             [
              0.7777777777777778,
              "#fb9f3a"
             ],
             [
              0.8888888888888888,
              "#fdca26"
             ],
             [
              1,
              "#f0f921"
             ]
            ],
            "type": "histogram2d"
           }
          ],
          "histogram2dcontour": [
           {
            "colorbar": {
             "outlinewidth": 0,
             "ticks": ""
            },
            "colorscale": [
             [
              0,
              "#0d0887"
             ],
             [
              0.1111111111111111,
              "#46039f"
             ],
             [
              0.2222222222222222,
              "#7201a8"
             ],
             [
              0.3333333333333333,
              "#9c179e"
             ],
             [
              0.4444444444444444,
              "#bd3786"
             ],
             [
              0.5555555555555556,
              "#d8576b"
             ],
             [
              0.6666666666666666,
              "#ed7953"
             ],
             [
              0.7777777777777778,
              "#fb9f3a"
             ],
             [
              0.8888888888888888,
              "#fdca26"
             ],
             [
              1,
              "#f0f921"
             ]
            ],
            "type": "histogram2dcontour"
           }
          ],
          "mesh3d": [
           {
            "colorbar": {
             "outlinewidth": 0,
             "ticks": ""
            },
            "type": "mesh3d"
           }
          ],
          "parcoords": [
           {
            "line": {
             "colorbar": {
              "outlinewidth": 0,
              "ticks": ""
             }
            },
            "type": "parcoords"
           }
          ],
          "pie": [
           {
            "automargin": true,
            "type": "pie"
           }
          ],
          "scatter": [
           {
            "fillpattern": {
             "fillmode": "overlay",
             "size": 10,
             "solidity": 0.2
            },
            "type": "scatter"
           }
          ],
          "scatter3d": [
           {
            "line": {
             "colorbar": {
              "outlinewidth": 0,
              "ticks": ""
             }
            },
            "marker": {
             "colorbar": {
              "outlinewidth": 0,
              "ticks": ""
             }
            },
            "type": "scatter3d"
           }
          ],
          "scattercarpet": [
           {
            "marker": {
             "colorbar": {
              "outlinewidth": 0,
              "ticks": ""
             }
            },
            "type": "scattercarpet"
           }
          ],
          "scattergeo": [
           {
            "marker": {
             "colorbar": {
              "outlinewidth": 0,
              "ticks": ""
             }
            },
            "type": "scattergeo"
           }
          ],
          "scattergl": [
           {
            "marker": {
             "colorbar": {
              "outlinewidth": 0,
              "ticks": ""
             }
            },
            "type": "scattergl"
           }
          ],
          "scattermapbox": [
           {
            "marker": {
             "colorbar": {
              "outlinewidth": 0,
              "ticks": ""
             }
            },
            "type": "scattermapbox"
           }
          ],
          "scatterpolar": [
           {
            "marker": {
             "colorbar": {
              "outlinewidth": 0,
              "ticks": ""
             }
            },
            "type": "scatterpolar"
           }
          ],
          "scatterpolargl": [
           {
            "marker": {
             "colorbar": {
              "outlinewidth": 0,
              "ticks": ""
             }
            },
            "type": "scatterpolargl"
           }
          ],
          "scatterternary": [
           {
            "marker": {
             "colorbar": {
              "outlinewidth": 0,
              "ticks": ""
             }
            },
            "type": "scatterternary"
           }
          ],
          "surface": [
           {
            "colorbar": {
             "outlinewidth": 0,
             "ticks": ""
            },
            "colorscale": [
             [
              0,
              "#0d0887"
             ],
             [
              0.1111111111111111,
              "#46039f"
             ],
             [
              0.2222222222222222,
              "#7201a8"
             ],
             [
              0.3333333333333333,
              "#9c179e"
             ],
             [
              0.4444444444444444,
              "#bd3786"
             ],
             [
              0.5555555555555556,
              "#d8576b"
             ],
             [
              0.6666666666666666,
              "#ed7953"
             ],
             [
              0.7777777777777778,
              "#fb9f3a"
             ],
             [
              0.8888888888888888,
              "#fdca26"
             ],
             [
              1,
              "#f0f921"
             ]
            ],
            "type": "surface"
           }
          ],
          "table": [
           {
            "cells": {
             "fill": {
              "color": "#EBF0F8"
             },
             "line": {
              "color": "white"
             }
            },
            "header": {
             "fill": {
              "color": "#C8D4E3"
             },
             "line": {
              "color": "white"
             }
            },
            "type": "table"
           }
          ]
         },
         "layout": {
          "annotationdefaults": {
           "arrowcolor": "#2a3f5f",
           "arrowhead": 0,
           "arrowwidth": 1
          },
          "autotypenumbers": "strict",
          "coloraxis": {
           "colorbar": {
            "outlinewidth": 0,
            "ticks": ""
           }
          },
          "colorscale": {
           "diverging": [
            [
             0,
             "#8e0152"
            ],
            [
             0.1,
             "#c51b7d"
            ],
            [
             0.2,
             "#de77ae"
            ],
            [
             0.3,
             "#f1b6da"
            ],
            [
             0.4,
             "#fde0ef"
            ],
            [
             0.5,
             "#f7f7f7"
            ],
            [
             0.6,
             "#e6f5d0"
            ],
            [
             0.7,
             "#b8e186"
            ],
            [
             0.8,
             "#7fbc41"
            ],
            [
             0.9,
             "#4d9221"
            ],
            [
             1,
             "#276419"
            ]
           ],
           "sequential": [
            [
             0,
             "#0d0887"
            ],
            [
             0.1111111111111111,
             "#46039f"
            ],
            [
             0.2222222222222222,
             "#7201a8"
            ],
            [
             0.3333333333333333,
             "#9c179e"
            ],
            [
             0.4444444444444444,
             "#bd3786"
            ],
            [
             0.5555555555555556,
             "#d8576b"
            ],
            [
             0.6666666666666666,
             "#ed7953"
            ],
            [
             0.7777777777777778,
             "#fb9f3a"
            ],
            [
             0.8888888888888888,
             "#fdca26"
            ],
            [
             1,
             "#f0f921"
            ]
           ],
           "sequentialminus": [
            [
             0,
             "#0d0887"
            ],
            [
             0.1111111111111111,
             "#46039f"
            ],
            [
             0.2222222222222222,
             "#7201a8"
            ],
            [
             0.3333333333333333,
             "#9c179e"
            ],
            [
             0.4444444444444444,
             "#bd3786"
            ],
            [
             0.5555555555555556,
             "#d8576b"
            ],
            [
             0.6666666666666666,
             "#ed7953"
            ],
            [
             0.7777777777777778,
             "#fb9f3a"
            ],
            [
             0.8888888888888888,
             "#fdca26"
            ],
            [
             1,
             "#f0f921"
            ]
           ]
          },
          "colorway": [
           "#636efa",
           "#EF553B",
           "#00cc96",
           "#ab63fa",
           "#FFA15A",
           "#19d3f3",
           "#FF6692",
           "#B6E880",
           "#FF97FF",
           "#FECB52"
          ],
          "font": {
           "color": "#2a3f5f"
          },
          "geo": {
           "bgcolor": "white",
           "lakecolor": "white",
           "landcolor": "#E5ECF6",
           "showlakes": true,
           "showland": true,
           "subunitcolor": "white"
          },
          "hoverlabel": {
           "align": "left"
          },
          "hovermode": "closest",
          "mapbox": {
           "style": "light"
          },
          "paper_bgcolor": "white",
          "plot_bgcolor": "#E5ECF6",
          "polar": {
           "angularaxis": {
            "gridcolor": "white",
            "linecolor": "white",
            "ticks": ""
           },
           "bgcolor": "#E5ECF6",
           "radialaxis": {
            "gridcolor": "white",
            "linecolor": "white",
            "ticks": ""
           }
          },
          "scene": {
           "xaxis": {
            "backgroundcolor": "#E5ECF6",
            "gridcolor": "white",
            "gridwidth": 2,
            "linecolor": "white",
            "showbackground": true,
            "ticks": "",
            "zerolinecolor": "white"
           },
           "yaxis": {
            "backgroundcolor": "#E5ECF6",
            "gridcolor": "white",
            "gridwidth": 2,
            "linecolor": "white",
            "showbackground": true,
            "ticks": "",
            "zerolinecolor": "white"
           },
           "zaxis": {
            "backgroundcolor": "#E5ECF6",
            "gridcolor": "white",
            "gridwidth": 2,
            "linecolor": "white",
            "showbackground": true,
            "ticks": "",
            "zerolinecolor": "white"
           }
          },
          "shapedefaults": {
           "line": {
            "color": "#2a3f5f"
           }
          },
          "ternary": {
           "aaxis": {
            "gridcolor": "white",
            "linecolor": "white",
            "ticks": ""
           },
           "baxis": {
            "gridcolor": "white",
            "linecolor": "white",
            "ticks": ""
           },
           "bgcolor": "#E5ECF6",
           "caxis": {
            "gridcolor": "white",
            "linecolor": "white",
            "ticks": ""
           }
          },
          "title": {
           "x": 0.05
          },
          "xaxis": {
           "automargin": true,
           "gridcolor": "white",
           "linecolor": "white",
           "ticks": "",
           "title": {
            "standoff": 15
           },
           "zerolinecolor": "white",
           "zerolinewidth": 2
          },
          "yaxis": {
           "automargin": true,
           "gridcolor": "white",
           "linecolor": "white",
           "ticks": "",
           "title": {
            "standoff": 15
           },
           "zerolinecolor": "white",
           "zerolinewidth": 2
          }
         }
        },
        "xaxis": {
         "anchor": "y",
         "domain": [
          0,
          1
         ],
         "title": {
          "text": "Hôtels"
         }
        },
        "yaxis": {
         "anchor": "x",
         "domain": [
          0,
          1
         ],
         "title": {
          "text": "Nombre de missions"
         }
        }
       }
      }
     },
     "metadata": {},
     "output_type": "display_data"
    }
   ],
   "source": [
    "\n",
    "date = \"Jan-2023\"\n",
    "monthly_missions_status = (\n",
    "    data[(data[\"periode_debut\"] == date)]\n",
    "    .groupby([\"Propriété_clean\", \"statuts\"])\n",
    "    .count()\n",
    "    .reset_index()\n",
    "    .sort_values(by=\"Propriété\", ascending=False)\n",
    "    .iloc[:, :3]\n",
    ")\n",
    "fig = px.bar(\n",
    "    monthly_missions_status, x=\"Propriété_clean\", y=\"Propriété\", color=\"statuts\"\n",
    ")\n",
    "\n",
    "fig.update_layout(legend=dict(yanchor=\"top\", y=0.99, xanchor=\"right\", x=0.99))\n",
    "\n",
    "fig.update_xaxes(title_text=\"Hôtels\")\n",
    "fig.update_yaxes(title_text=\"Nombre de missions\")"
   ]
  },
  {
   "cell_type": "code",
   "execution_count": null,
   "metadata": {},
   "outputs": [],
   "source": []
  },
  {
   "cell_type": "code",
   "execution_count": 75,
   "metadata": {},
   "outputs": [],
   "source": [
    "monthly_missions_status.columns = [\"Propriété\", \"Statut\", \"Missions\"]\n",
    "sorter = monthly_missions_status.groupby(\"Propriété\").sum().sort_values(by=\"Missions\", ascending=False).index\n",
    "sorter = sorter.to_list()\n",
    "\n",
    "monthly_missions_status['Propriété_cat'] = pd.Categorical(\n",
    "    monthly_missions_status['Propriété'], \n",
    "    categories=sorter, \n",
    "    ordered=True)\n",
    "\n",
    "monthly_missions_status = monthly_missions_status.sort_values(by=\"Propriété_cat\")"
   ]
  },
  {
   "cell_type": "code",
   "execution_count": 77,
   "metadata": {},
   "outputs": [
    {
     "data": {
      "application/vnd.plotly.v1+json": {
       "config": {
        "plotlyServerURL": "https://plot.ly"
       },
       "data": [
        {
         "alignmentgroup": "True",
         "hovertemplate": "Statut=standard<br>Propriété=%{x}<br>Missions=%{y}<extra></extra>",
         "legendgroup": "standard",
         "marker": {
          "color": "#636efa",
          "pattern": {
           "shape": ""
          }
         },
         "name": "standard",
         "offsetgroup": "standard",
         "orientation": "v",
         "showlegend": true,
         "textposition": "auto",
         "type": "bar",
         "x": [
          "Ibis Montparnasse",
          "Select Hotel",
          "Le Grand Quartier",
          "Imprimerie",
          "Marceau",
          "Milie Rose",
          "Drawing House",
          "French Theory",
          "Les Deux Girafes",
          "Yllen Eiffel",
          "Chouchou",
          "MT solutions ",
          "Touraine",
          "Parisianer",
          "Victoire et Germain",
          "Monte Cristo",
          "Parisis",
          "Alberte ",
          "Tsuba",
          "Crystal"
         ],
         "xaxis": "x",
         "y": [
          88,
          21,
          33,
          24,
          26,
          17,
          11,
          5,
          5,
          5,
          4,
          4,
          4,
          3,
          3,
          3,
          1,
          2,
          1,
          1
         ],
         "yaxis": "y"
        },
        {
         "alignmentgroup": "True",
         "hovertemplate": "Statut=urgente<br>Propriété=%{x}<br>Missions=%{y}<extra></extra>",
         "legendgroup": "urgente",
         "marker": {
          "color": "#EF553B",
          "pattern": {
           "shape": ""
          }
         },
         "name": "urgente",
         "offsetgroup": "urgente",
         "orientation": "v",
         "showlegend": true,
         "textposition": "auto",
         "type": "bar",
         "x": [
          "Ibis Montparnasse",
          "Imprimerie",
          "Milie Rose",
          "Drawing House",
          "French Theory",
          "Les Deux Girafes",
          "Parisis",
          "Tsuba"
         ],
         "xaxis": "x",
         "y": [
          1,
          2,
          1,
          2,
          3,
          1,
          1,
          1
         ],
         "yaxis": "y"
        },
        {
         "alignmentgroup": "True",
         "hovertemplate": "Statut=annulé<br>Propriété=%{x}<br>Missions=%{y}<extra></extra>",
         "legendgroup": "annulé",
         "marker": {
          "color": "#00cc96",
          "pattern": {
           "shape": ""
          }
         },
         "name": "annulé",
         "offsetgroup": "annulé",
         "orientation": "v",
         "showlegend": true,
         "textposition": "auto",
         "type": "bar",
         "x": [
          "Select Hotel",
          "Le Grand Quartier",
          "Milie Rose",
          "French Theory"
         ],
         "xaxis": "x",
         "y": [
          14,
          1,
          3,
          1
         ],
         "yaxis": "y"
        }
       ],
       "layout": {
        "barmode": "relative",
        "legend": {
         "title": {
          "text": "Statut"
         },
         "tracegroupgap": 0,
         "x": 0.99,
         "xanchor": "right",
         "y": 0.99,
         "yanchor": "top"
        },
        "margin": {
         "t": 60
        },
        "template": {
         "data": {
          "bar": [
           {
            "error_x": {
             "color": "#2a3f5f"
            },
            "error_y": {
             "color": "#2a3f5f"
            },
            "marker": {
             "line": {
              "color": "#E5ECF6",
              "width": 0.5
             },
             "pattern": {
              "fillmode": "overlay",
              "size": 10,
              "solidity": 0.2
             }
            },
            "type": "bar"
           }
          ],
          "barpolar": [
           {
            "marker": {
             "line": {
              "color": "#E5ECF6",
              "width": 0.5
             },
             "pattern": {
              "fillmode": "overlay",
              "size": 10,
              "solidity": 0.2
             }
            },
            "type": "barpolar"
           }
          ],
          "carpet": [
           {
            "aaxis": {
             "endlinecolor": "#2a3f5f",
             "gridcolor": "white",
             "linecolor": "white",
             "minorgridcolor": "white",
             "startlinecolor": "#2a3f5f"
            },
            "baxis": {
             "endlinecolor": "#2a3f5f",
             "gridcolor": "white",
             "linecolor": "white",
             "minorgridcolor": "white",
             "startlinecolor": "#2a3f5f"
            },
            "type": "carpet"
           }
          ],
          "choropleth": [
           {
            "colorbar": {
             "outlinewidth": 0,
             "ticks": ""
            },
            "type": "choropleth"
           }
          ],
          "contour": [
           {
            "colorbar": {
             "outlinewidth": 0,
             "ticks": ""
            },
            "colorscale": [
             [
              0,
              "#0d0887"
             ],
             [
              0.1111111111111111,
              "#46039f"
             ],
             [
              0.2222222222222222,
              "#7201a8"
             ],
             [
              0.3333333333333333,
              "#9c179e"
             ],
             [
              0.4444444444444444,
              "#bd3786"
             ],
             [
              0.5555555555555556,
              "#d8576b"
             ],
             [
              0.6666666666666666,
              "#ed7953"
             ],
             [
              0.7777777777777778,
              "#fb9f3a"
             ],
             [
              0.8888888888888888,
              "#fdca26"
             ],
             [
              1,
              "#f0f921"
             ]
            ],
            "type": "contour"
           }
          ],
          "contourcarpet": [
           {
            "colorbar": {
             "outlinewidth": 0,
             "ticks": ""
            },
            "type": "contourcarpet"
           }
          ],
          "heatmap": [
           {
            "colorbar": {
             "outlinewidth": 0,
             "ticks": ""
            },
            "colorscale": [
             [
              0,
              "#0d0887"
             ],
             [
              0.1111111111111111,
              "#46039f"
             ],
             [
              0.2222222222222222,
              "#7201a8"
             ],
             [
              0.3333333333333333,
              "#9c179e"
             ],
             [
              0.4444444444444444,
              "#bd3786"
             ],
             [
              0.5555555555555556,
              "#d8576b"
             ],
             [
              0.6666666666666666,
              "#ed7953"
             ],
             [
              0.7777777777777778,
              "#fb9f3a"
             ],
             [
              0.8888888888888888,
              "#fdca26"
             ],
             [
              1,
              "#f0f921"
             ]
            ],
            "type": "heatmap"
           }
          ],
          "heatmapgl": [
           {
            "colorbar": {
             "outlinewidth": 0,
             "ticks": ""
            },
            "colorscale": [
             [
              0,
              "#0d0887"
             ],
             [
              0.1111111111111111,
              "#46039f"
             ],
             [
              0.2222222222222222,
              "#7201a8"
             ],
             [
              0.3333333333333333,
              "#9c179e"
             ],
             [
              0.4444444444444444,
              "#bd3786"
             ],
             [
              0.5555555555555556,
              "#d8576b"
             ],
             [
              0.6666666666666666,
              "#ed7953"
             ],
             [
              0.7777777777777778,
              "#fb9f3a"
             ],
             [
              0.8888888888888888,
              "#fdca26"
             ],
             [
              1,
              "#f0f921"
             ]
            ],
            "type": "heatmapgl"
           }
          ],
          "histogram": [
           {
            "marker": {
             "pattern": {
              "fillmode": "overlay",
              "size": 10,
              "solidity": 0.2
             }
            },
            "type": "histogram"
           }
          ],
          "histogram2d": [
           {
            "colorbar": {
             "outlinewidth": 0,
             "ticks": ""
            },
            "colorscale": [
             [
              0,
              "#0d0887"
             ],
             [
              0.1111111111111111,
              "#46039f"
             ],
             [
              0.2222222222222222,
              "#7201a8"
             ],
             [
              0.3333333333333333,
              "#9c179e"
             ],
             [
              0.4444444444444444,
              "#bd3786"
             ],
             [
              0.5555555555555556,
              "#d8576b"
             ],
             [
              0.6666666666666666,
              "#ed7953"
             ],
             [
              0.7777777777777778,
              "#fb9f3a"
             ],
             [
              0.8888888888888888,
              "#fdca26"
             ],
             [
              1,
              "#f0f921"
             ]
            ],
            "type": "histogram2d"
           }
          ],
          "histogram2dcontour": [
           {
            "colorbar": {
             "outlinewidth": 0,
             "ticks": ""
            },
            "colorscale": [
             [
              0,
              "#0d0887"
             ],
             [
              0.1111111111111111,
              "#46039f"
             ],
             [
              0.2222222222222222,
              "#7201a8"
             ],
             [
              0.3333333333333333,
              "#9c179e"
             ],
             [
              0.4444444444444444,
              "#bd3786"
             ],
             [
              0.5555555555555556,
              "#d8576b"
             ],
             [
              0.6666666666666666,
              "#ed7953"
             ],
             [
              0.7777777777777778,
              "#fb9f3a"
             ],
             [
              0.8888888888888888,
              "#fdca26"
             ],
             [
              1,
              "#f0f921"
             ]
            ],
            "type": "histogram2dcontour"
           }
          ],
          "mesh3d": [
           {
            "colorbar": {
             "outlinewidth": 0,
             "ticks": ""
            },
            "type": "mesh3d"
           }
          ],
          "parcoords": [
           {
            "line": {
             "colorbar": {
              "outlinewidth": 0,
              "ticks": ""
             }
            },
            "type": "parcoords"
           }
          ],
          "pie": [
           {
            "automargin": true,
            "type": "pie"
           }
          ],
          "scatter": [
           {
            "fillpattern": {
             "fillmode": "overlay",
             "size": 10,
             "solidity": 0.2
            },
            "type": "scatter"
           }
          ],
          "scatter3d": [
           {
            "line": {
             "colorbar": {
              "outlinewidth": 0,
              "ticks": ""
             }
            },
            "marker": {
             "colorbar": {
              "outlinewidth": 0,
              "ticks": ""
             }
            },
            "type": "scatter3d"
           }
          ],
          "scattercarpet": [
           {
            "marker": {
             "colorbar": {
              "outlinewidth": 0,
              "ticks": ""
             }
            },
            "type": "scattercarpet"
           }
          ],
          "scattergeo": [
           {
            "marker": {
             "colorbar": {
              "outlinewidth": 0,
              "ticks": ""
             }
            },
            "type": "scattergeo"
           }
          ],
          "scattergl": [
           {
            "marker": {
             "colorbar": {
              "outlinewidth": 0,
              "ticks": ""
             }
            },
            "type": "scattergl"
           }
          ],
          "scattermapbox": [
           {
            "marker": {
             "colorbar": {
              "outlinewidth": 0,
              "ticks": ""
             }
            },
            "type": "scattermapbox"
           }
          ],
          "scatterpolar": [
           {
            "marker": {
             "colorbar": {
              "outlinewidth": 0,
              "ticks": ""
             }
            },
            "type": "scatterpolar"
           }
          ],
          "scatterpolargl": [
           {
            "marker": {
             "colorbar": {
              "outlinewidth": 0,
              "ticks": ""
             }
            },
            "type": "scatterpolargl"
           }
          ],
          "scatterternary": [
           {
            "marker": {
             "colorbar": {
              "outlinewidth": 0,
              "ticks": ""
             }
            },
            "type": "scatterternary"
           }
          ],
          "surface": [
           {
            "colorbar": {
             "outlinewidth": 0,
             "ticks": ""
            },
            "colorscale": [
             [
              0,
              "#0d0887"
             ],
             [
              0.1111111111111111,
              "#46039f"
             ],
             [
              0.2222222222222222,
              "#7201a8"
             ],
             [
              0.3333333333333333,
              "#9c179e"
             ],
             [
              0.4444444444444444,
              "#bd3786"
             ],
             [
              0.5555555555555556,
              "#d8576b"
             ],
             [
              0.6666666666666666,
              "#ed7953"
             ],
             [
              0.7777777777777778,
              "#fb9f3a"
             ],
             [
              0.8888888888888888,
              "#fdca26"
             ],
             [
              1,
              "#f0f921"
             ]
            ],
            "type": "surface"
           }
          ],
          "table": [
           {
            "cells": {
             "fill": {
              "color": "#EBF0F8"
             },
             "line": {
              "color": "white"
             }
            },
            "header": {
             "fill": {
              "color": "#C8D4E3"
             },
             "line": {
              "color": "white"
             }
            },
            "type": "table"
           }
          ]
         },
         "layout": {
          "annotationdefaults": {
           "arrowcolor": "#2a3f5f",
           "arrowhead": 0,
           "arrowwidth": 1
          },
          "autotypenumbers": "strict",
          "coloraxis": {
           "colorbar": {
            "outlinewidth": 0,
            "ticks": ""
           }
          },
          "colorscale": {
           "diverging": [
            [
             0,
             "#8e0152"
            ],
            [
             0.1,
             "#c51b7d"
            ],
            [
             0.2,
             "#de77ae"
            ],
            [
             0.3,
             "#f1b6da"
            ],
            [
             0.4,
             "#fde0ef"
            ],
            [
             0.5,
             "#f7f7f7"
            ],
            [
             0.6,
             "#e6f5d0"
            ],
            [
             0.7,
             "#b8e186"
            ],
            [
             0.8,
             "#7fbc41"
            ],
            [
             0.9,
             "#4d9221"
            ],
            [
             1,
             "#276419"
            ]
           ],
           "sequential": [
            [
             0,
             "#0d0887"
            ],
            [
             0.1111111111111111,
             "#46039f"
            ],
            [
             0.2222222222222222,
             "#7201a8"
            ],
            [
             0.3333333333333333,
             "#9c179e"
            ],
            [
             0.4444444444444444,
             "#bd3786"
            ],
            [
             0.5555555555555556,
             "#d8576b"
            ],
            [
             0.6666666666666666,
             "#ed7953"
            ],
            [
             0.7777777777777778,
             "#fb9f3a"
            ],
            [
             0.8888888888888888,
             "#fdca26"
            ],
            [
             1,
             "#f0f921"
            ]
           ],
           "sequentialminus": [
            [
             0,
             "#0d0887"
            ],
            [
             0.1111111111111111,
             "#46039f"
            ],
            [
             0.2222222222222222,
             "#7201a8"
            ],
            [
             0.3333333333333333,
             "#9c179e"
            ],
            [
             0.4444444444444444,
             "#bd3786"
            ],
            [
             0.5555555555555556,
             "#d8576b"
            ],
            [
             0.6666666666666666,
             "#ed7953"
            ],
            [
             0.7777777777777778,
             "#fb9f3a"
            ],
            [
             0.8888888888888888,
             "#fdca26"
            ],
            [
             1,
             "#f0f921"
            ]
           ]
          },
          "colorway": [
           "#636efa",
           "#EF553B",
           "#00cc96",
           "#ab63fa",
           "#FFA15A",
           "#19d3f3",
           "#FF6692",
           "#B6E880",
           "#FF97FF",
           "#FECB52"
          ],
          "font": {
           "color": "#2a3f5f"
          },
          "geo": {
           "bgcolor": "white",
           "lakecolor": "white",
           "landcolor": "#E5ECF6",
           "showlakes": true,
           "showland": true,
           "subunitcolor": "white"
          },
          "hoverlabel": {
           "align": "left"
          },
          "hovermode": "closest",
          "mapbox": {
           "style": "light"
          },
          "paper_bgcolor": "white",
          "plot_bgcolor": "#E5ECF6",
          "polar": {
           "angularaxis": {
            "gridcolor": "white",
            "linecolor": "white",
            "ticks": ""
           },
           "bgcolor": "#E5ECF6",
           "radialaxis": {
            "gridcolor": "white",
            "linecolor": "white",
            "ticks": ""
           }
          },
          "scene": {
           "xaxis": {
            "backgroundcolor": "#E5ECF6",
            "gridcolor": "white",
            "gridwidth": 2,
            "linecolor": "white",
            "showbackground": true,
            "ticks": "",
            "zerolinecolor": "white"
           },
           "yaxis": {
            "backgroundcolor": "#E5ECF6",
            "gridcolor": "white",
            "gridwidth": 2,
            "linecolor": "white",
            "showbackground": true,
            "ticks": "",
            "zerolinecolor": "white"
           },
           "zaxis": {
            "backgroundcolor": "#E5ECF6",
            "gridcolor": "white",
            "gridwidth": 2,
            "linecolor": "white",
            "showbackground": true,
            "ticks": "",
            "zerolinecolor": "white"
           }
          },
          "shapedefaults": {
           "line": {
            "color": "#2a3f5f"
           }
          },
          "ternary": {
           "aaxis": {
            "gridcolor": "white",
            "linecolor": "white",
            "ticks": ""
           },
           "baxis": {
            "gridcolor": "white",
            "linecolor": "white",
            "ticks": ""
           },
           "bgcolor": "#E5ECF6",
           "caxis": {
            "gridcolor": "white",
            "linecolor": "white",
            "ticks": ""
           }
          },
          "title": {
           "x": 0.05
          },
          "xaxis": {
           "automargin": true,
           "gridcolor": "white",
           "linecolor": "white",
           "ticks": "",
           "title": {
            "standoff": 15
           },
           "zerolinecolor": "white",
           "zerolinewidth": 2
          },
          "yaxis": {
           "automargin": true,
           "gridcolor": "white",
           "linecolor": "white",
           "ticks": "",
           "title": {
            "standoff": 15
           },
           "zerolinecolor": "white",
           "zerolinewidth": 2
          }
         }
        },
        "xaxis": {
         "anchor": "y",
         "domain": [
          0,
          1
         ],
         "title": {
          "text": "Hôtels"
         }
        },
        "yaxis": {
         "anchor": "x",
         "domain": [
          0,
          1
         ],
         "title": {
          "text": "Nombre de missions"
         }
        }
       }
      }
     },
     "metadata": {},
     "output_type": "display_data"
    }
   ],
   "source": [
    "fig = px.bar(\n",
    "    monthly_missions_status, x=\"Propriété\", y=\"Missions\", color=\"Statut\"\n",
    ")\n",
    "\n",
    "fig.update_layout(legend=dict(yanchor=\"top\", y=0.99, xanchor=\"right\", x=0.99))\n",
    "\n",
    "fig.update_xaxes(title_text=\"Hôtels\")\n",
    "fig.update_yaxes(title_text=\"Nombre de missions\")"
   ]
  },
  {
   "cell_type": "code",
   "execution_count": null,
   "metadata": {},
   "outputs": [
    {
     "data": {
      "text/html": [
       "<div>\n",
       "<style scoped>\n",
       "    .dataframe tbody tr th:only-of-type {\n",
       "        vertical-align: middle;\n",
       "    }\n",
       "\n",
       "    .dataframe tbody tr th {\n",
       "        vertical-align: top;\n",
       "    }\n",
       "\n",
       "    .dataframe thead th {\n",
       "        text-align: right;\n",
       "    }\n",
       "</style>\n",
       "<table border=\"1\" class=\"dataframe\">\n",
       "  <thead>\n",
       "    <tr style=\"text-align: right;\">\n",
       "      <th></th>\n",
       "      <th>Propriété</th>\n",
       "      <th>hôtel</th>\n",
       "      <th>extra</th>\n",
       "      <th>date</th>\n",
       "      <th>statuts</th>\n",
       "      <th>tarif urgence</th>\n",
       "      <th>tarif horaire</th>\n",
       "      <th>nbre d'heures</th>\n",
       "      <th>total HT</th>\n",
       "      <th>facture</th>\n",
       "      <th>règlement</th>\n",
       "      <th>montant HT</th>\n",
       "      <th>Texte</th>\n",
       "      <th>date_debut</th>\n",
       "      <th>time_delta</th>\n",
       "      <th>date_fin</th>\n",
       "      <th>Propriété_clean</th>\n",
       "      <th>periode_debut</th>\n",
       "      <th>float_hours</th>\n",
       "      <th>marge</th>\n",
       "    </tr>\n",
       "  </thead>\n",
       "  <tbody>\n",
       "    <tr>\n",
       "      <th>0</th>\n",
       "      <td>Crystal</td>\n",
       "      <td>Crystal (https://www.notion.so/Crystal-1837fcb...</td>\n",
       "      <td>Grégory Tshimini (https://www.notion.so/Gr-gor...</td>\n",
       "      <td>07/01/2024 8:00 → 20:00</td>\n",
       "      <td>standard</td>\n",
       "      <td>NaN</td>\n",
       "      <td>21.0</td>\n",
       "      <td>12hr 0min</td>\n",
       "      <td>252</td>\n",
       "      <td>NaN</td>\n",
       "      <td>NaN</td>\n",
       "      <td>180</td>\n",
       "      <td>NaN</td>\n",
       "      <td>2024-01-07 08:00:00</td>\n",
       "      <td>0 days 12:00:00</td>\n",
       "      <td>2024-01-07 20:00:00</td>\n",
       "      <td>Crystal</td>\n",
       "      <td>01-2024</td>\n",
       "      <td>12.0</td>\n",
       "      <td>72</td>\n",
       "    </tr>\n",
       "    <tr>\n",
       "      <th>1</th>\n",
       "      <td>Milie rose</td>\n",
       "      <td>Milie Rose (https://www.notion.so/Milie-Rose-0...</td>\n",
       "      <td>Mamadou Koma (https://www.notion.so/Mamadou-Ko...</td>\n",
       "      <td>06/01/2024 22:30 → 07/01/2024 8:00</td>\n",
       "      <td>standard</td>\n",
       "      <td>NaN</td>\n",
       "      <td>20.0</td>\n",
       "      <td>9hr 30min</td>\n",
       "      <td>180</td>\n",
       "      <td>NaN</td>\n",
       "      <td>NaN</td>\n",
       "      <td>135</td>\n",
       "      <td>NaN</td>\n",
       "      <td>2024-01-06 22:30:00</td>\n",
       "      <td>0 days 09:30:00</td>\n",
       "      <td>2024-01-07 08:00:00</td>\n",
       "      <td>Milie Rose</td>\n",
       "      <td>01-2024</td>\n",
       "      <td>9.5</td>\n",
       "      <td>45</td>\n",
       "    </tr>\n",
       "    <tr>\n",
       "      <th>2</th>\n",
       "      <td>Touraine</td>\n",
       "      <td>Touraine (https://www.notion.so/Touraine-df4e7...</td>\n",
       "      <td>Mohamed Belbachir (https://www.notion.so/Moham...</td>\n",
       "      <td>06/01/2024 19:30 → 07/01/2024 7:30</td>\n",
       "      <td>standard</td>\n",
       "      <td>NaN</td>\n",
       "      <td>20.0</td>\n",
       "      <td>12hr 0min</td>\n",
       "      <td>240</td>\n",
       "      <td>NaN</td>\n",
       "      <td>NaN</td>\n",
       "      <td>180</td>\n",
       "      <td>NaN</td>\n",
       "      <td>2024-01-06 19:30:00</td>\n",
       "      <td>0 days 12:00:00</td>\n",
       "      <td>2024-01-07 07:30:00</td>\n",
       "      <td>Touraine</td>\n",
       "      <td>01-2024</td>\n",
       "      <td>12.0</td>\n",
       "      <td>60</td>\n",
       "    </tr>\n",
       "    <tr>\n",
       "      <th>3</th>\n",
       "      <td>Crystal</td>\n",
       "      <td>Crystal (https://www.notion.so/Crystal-1837fcb...</td>\n",
       "      <td>Grégory Tshimini (https://www.notion.so/Gr-gor...</td>\n",
       "      <td>06/01/2024 8:00 → 20:00</td>\n",
       "      <td>standard</td>\n",
       "      <td>NaN</td>\n",
       "      <td>21.0</td>\n",
       "      <td>12hr 0min</td>\n",
       "      <td>252</td>\n",
       "      <td>NaN</td>\n",
       "      <td>NaN</td>\n",
       "      <td>180</td>\n",
       "      <td>NaN</td>\n",
       "      <td>2024-01-06 08:00:00</td>\n",
       "      <td>0 days 12:00:00</td>\n",
       "      <td>2024-01-06 20:00:00</td>\n",
       "      <td>Crystal</td>\n",
       "      <td>01-2024</td>\n",
       "      <td>12.0</td>\n",
       "      <td>72</td>\n",
       "    </tr>\n",
       "    <tr>\n",
       "      <th>4</th>\n",
       "      <td>Milie rose</td>\n",
       "      <td>Milie Rose (https://www.notion.so/Milie-Rose-0...</td>\n",
       "      <td>Mamadou Koma (https://www.notion.so/Mamadou-Ko...</td>\n",
       "      <td>05/01/2024 22:30 → 06/01/2024 8:00</td>\n",
       "      <td>standard</td>\n",
       "      <td>NaN</td>\n",
       "      <td>20.0</td>\n",
       "      <td>9hr 30min</td>\n",
       "      <td>180</td>\n",
       "      <td>NaN</td>\n",
       "      <td>NaN</td>\n",
       "      <td>135</td>\n",
       "      <td>NaN</td>\n",
       "      <td>2024-01-05 22:30:00</td>\n",
       "      <td>0 days 09:30:00</td>\n",
       "      <td>2024-01-06 08:00:00</td>\n",
       "      <td>Milie Rose</td>\n",
       "      <td>01-2024</td>\n",
       "      <td>9.5</td>\n",
       "      <td>45</td>\n",
       "    </tr>\n",
       "  </tbody>\n",
       "</table>\n",
       "</div>"
      ],
      "text/plain": [
       "    Propriété                                              hôtel  \\\n",
       "0     Crystal  Crystal (https://www.notion.so/Crystal-1837fcb...   \n",
       "1  Milie rose  Milie Rose (https://www.notion.so/Milie-Rose-0...   \n",
       "2   Touraine   Touraine (https://www.notion.so/Touraine-df4e7...   \n",
       "3     Crystal  Crystal (https://www.notion.so/Crystal-1837fcb...   \n",
       "4  Milie rose  Milie Rose (https://www.notion.so/Milie-Rose-0...   \n",
       "\n",
       "                                               extra  \\\n",
       "0  Grégory Tshimini (https://www.notion.so/Gr-gor...   \n",
       "1  Mamadou Koma (https://www.notion.so/Mamadou-Ko...   \n",
       "2  Mohamed Belbachir (https://www.notion.so/Moham...   \n",
       "3  Grégory Tshimini (https://www.notion.so/Gr-gor...   \n",
       "4  Mamadou Koma (https://www.notion.so/Mamadou-Ko...   \n",
       "\n",
       "                                 date   statuts  tarif urgence  tarif horaire  \\\n",
       "0             07/01/2024 8:00 → 20:00  standard            NaN           21.0   \n",
       "1  06/01/2024 22:30 → 07/01/2024 8:00  standard            NaN           20.0   \n",
       "2  06/01/2024 19:30 → 07/01/2024 7:30  standard            NaN           20.0   \n",
       "3             06/01/2024 8:00 → 20:00  standard            NaN           21.0   \n",
       "4  05/01/2024 22:30 → 06/01/2024 8:00  standard            NaN           20.0   \n",
       "\n",
       "  nbre d'heures  total HT facture règlement  montant HT Texte  \\\n",
       "0     12hr 0min       252     NaN       NaN         180   NaN   \n",
       "1     9hr 30min       180     NaN       NaN         135   NaN   \n",
       "2     12hr 0min       240     NaN       NaN         180   NaN   \n",
       "3     12hr 0min       252     NaN       NaN         180   NaN   \n",
       "4     9hr 30min       180     NaN       NaN         135   NaN   \n",
       "\n",
       "           date_debut      time_delta            date_fin Propriété_clean  \\\n",
       "0 2024-01-07 08:00:00 0 days 12:00:00 2024-01-07 20:00:00         Crystal   \n",
       "1 2024-01-06 22:30:00 0 days 09:30:00 2024-01-07 08:00:00      Milie Rose   \n",
       "2 2024-01-06 19:30:00 0 days 12:00:00 2024-01-07 07:30:00        Touraine   \n",
       "3 2024-01-06 08:00:00 0 days 12:00:00 2024-01-06 20:00:00         Crystal   \n",
       "4 2024-01-05 22:30:00 0 days 09:30:00 2024-01-06 08:00:00      Milie Rose   \n",
       "\n",
       "  periode_debut  float_hours  marge  \n",
       "0       01-2024         12.0     72  \n",
       "1       01-2024          9.5     45  \n",
       "2       01-2024         12.0     60  \n",
       "3       01-2024         12.0     72  \n",
       "4       01-2024          9.5     45  "
      ]
     },
     "execution_count": 264,
     "metadata": {},
     "output_type": "execute_result"
    }
   ],
   "source": [
    "data[\"marge\"] = data.apply(lambda x: x[\"total HT\"] - x[\"montant HT\"], axis=1)\n",
    "data.head()"
   ]
  },
  {
   "cell_type": "code",
   "execution_count": null,
   "metadata": {},
   "outputs": [],
   "source": []
  },
  {
   "cell_type": "code",
   "execution_count": null,
   "metadata": {},
   "outputs": [
    {
     "data": {
      "application/vnd.plotly.v1+json": {
       "config": {
        "plotlyServerURL": "https://plot.ly"
       },
       "data": [
        {
         "alignmentgroup": "True",
         "hovertemplate": "Propriété_clean=%{x}<br>pourcent=%{y}<br>text=%{text}<extra></extra>",
         "legendgroup": "",
         "marker": {
          "color": "#636efa",
          "pattern": {
           "shape": ""
          }
         },
         "name": "",
         "offsetgroup": "",
         "orientation": "v",
         "showlegend": false,
         "text": [
          "40.0%",
          "40.0%",
          "36.6%",
          "33.3%",
          "33.1%",
          "30.4%",
          "29.4%",
          "28.9%",
          "28.6%",
          "28.6%",
          "28.6%",
          "28.6%",
          "28.4%",
          "28.1%",
          "27.7%",
          "26.9%",
          "26.6%",
          "26.6%",
          "26.5%",
          "25.9%",
          "25.9%",
          "25.8%",
          "25.7%",
          "25.6%",
          "25.5%",
          "25.4%",
          "25.3%",
          "25.0%",
          "25.0%",
          "21.1%",
          "16.7%",
          "16.7%"
         ],
         "textposition": "outside",
         "type": "bar",
         "x": [
          "Home Moderne",
          "Mont Dore",
          "Le Roch Hotel",
          "Bleu de Grenelle",
          "Mathurin",
          "Drawing House",
          "Alberte ",
          "Edouard VI",
          "Select Hotel",
          "Quinzerie hotel",
          "Crystal",
          "French Theory",
          "Les Deux Girafes",
          "Chouchou",
          "Monte Cristo",
          "Parisis",
          "Prélude",
          "La Belle Ville",
          "Imprimerie",
          "Le Grand Quartier",
          "Milie Rose",
          "Yllen Eiffel",
          "Tsuba",
          "Courseine",
          "Touraine",
          "Ibis Montparnasse",
          "Victoire et Germain",
          "MT solutions ",
          "Peper and paper ",
          "Marceau",
          "Apogé",
          "Parisianer"
         ],
         "xaxis": "x",
         "y": [
          40,
          40,
          36.6,
          33.3,
          33.1,
          30.4,
          29.4,
          28.9,
          28.6,
          28.6,
          28.6,
          28.6,
          28.4,
          28.1,
          27.7,
          26.9,
          26.6,
          26.6,
          26.5,
          25.9,
          25.9,
          25.8,
          25.7,
          25.6,
          25.5,
          25.4,
          25.3,
          25,
          25,
          21.1,
          16.7,
          16.7
         ],
         "yaxis": "y"
        }
       ],
       "layout": {
        "barmode": "relative",
        "legend": {
         "tracegroupgap": 0
        },
        "margin": {
         "t": 60
        },
        "template": {
         "data": {
          "bar": [
           {
            "error_x": {
             "color": "#2a3f5f"
            },
            "error_y": {
             "color": "#2a3f5f"
            },
            "marker": {
             "line": {
              "color": "#E5ECF6",
              "width": 0.5
             },
             "pattern": {
              "fillmode": "overlay",
              "size": 10,
              "solidity": 0.2
             }
            },
            "type": "bar"
           }
          ],
          "barpolar": [
           {
            "marker": {
             "line": {
              "color": "#E5ECF6",
              "width": 0.5
             },
             "pattern": {
              "fillmode": "overlay",
              "size": 10,
              "solidity": 0.2
             }
            },
            "type": "barpolar"
           }
          ],
          "carpet": [
           {
            "aaxis": {
             "endlinecolor": "#2a3f5f",
             "gridcolor": "white",
             "linecolor": "white",
             "minorgridcolor": "white",
             "startlinecolor": "#2a3f5f"
            },
            "baxis": {
             "endlinecolor": "#2a3f5f",
             "gridcolor": "white",
             "linecolor": "white",
             "minorgridcolor": "white",
             "startlinecolor": "#2a3f5f"
            },
            "type": "carpet"
           }
          ],
          "choropleth": [
           {
            "colorbar": {
             "outlinewidth": 0,
             "ticks": ""
            },
            "type": "choropleth"
           }
          ],
          "contour": [
           {
            "colorbar": {
             "outlinewidth": 0,
             "ticks": ""
            },
            "colorscale": [
             [
              0,
              "#0d0887"
             ],
             [
              0.1111111111111111,
              "#46039f"
             ],
             [
              0.2222222222222222,
              "#7201a8"
             ],
             [
              0.3333333333333333,
              "#9c179e"
             ],
             [
              0.4444444444444444,
              "#bd3786"
             ],
             [
              0.5555555555555556,
              "#d8576b"
             ],
             [
              0.6666666666666666,
              "#ed7953"
             ],
             [
              0.7777777777777778,
              "#fb9f3a"
             ],
             [
              0.8888888888888888,
              "#fdca26"
             ],
             [
              1,
              "#f0f921"
             ]
            ],
            "type": "contour"
           }
          ],
          "contourcarpet": [
           {
            "colorbar": {
             "outlinewidth": 0,
             "ticks": ""
            },
            "type": "contourcarpet"
           }
          ],
          "heatmap": [
           {
            "colorbar": {
             "outlinewidth": 0,
             "ticks": ""
            },
            "colorscale": [
             [
              0,
              "#0d0887"
             ],
             [
              0.1111111111111111,
              "#46039f"
             ],
             [
              0.2222222222222222,
              "#7201a8"
             ],
             [
              0.3333333333333333,
              "#9c179e"
             ],
             [
              0.4444444444444444,
              "#bd3786"
             ],
             [
              0.5555555555555556,
              "#d8576b"
             ],
             [
              0.6666666666666666,
              "#ed7953"
             ],
             [
              0.7777777777777778,
              "#fb9f3a"
             ],
             [
              0.8888888888888888,
              "#fdca26"
             ],
             [
              1,
              "#f0f921"
             ]
            ],
            "type": "heatmap"
           }
          ],
          "heatmapgl": [
           {
            "colorbar": {
             "outlinewidth": 0,
             "ticks": ""
            },
            "colorscale": [
             [
              0,
              "#0d0887"
             ],
             [
              0.1111111111111111,
              "#46039f"
             ],
             [
              0.2222222222222222,
              "#7201a8"
             ],
             [
              0.3333333333333333,
              "#9c179e"
             ],
             [
              0.4444444444444444,
              "#bd3786"
             ],
             [
              0.5555555555555556,
              "#d8576b"
             ],
             [
              0.6666666666666666,
              "#ed7953"
             ],
             [
              0.7777777777777778,
              "#fb9f3a"
             ],
             [
              0.8888888888888888,
              "#fdca26"
             ],
             [
              1,
              "#f0f921"
             ]
            ],
            "type": "heatmapgl"
           }
          ],
          "histogram": [
           {
            "marker": {
             "pattern": {
              "fillmode": "overlay",
              "size": 10,
              "solidity": 0.2
             }
            },
            "type": "histogram"
           }
          ],
          "histogram2d": [
           {
            "colorbar": {
             "outlinewidth": 0,
             "ticks": ""
            },
            "colorscale": [
             [
              0,
              "#0d0887"
             ],
             [
              0.1111111111111111,
              "#46039f"
             ],
             [
              0.2222222222222222,
              "#7201a8"
             ],
             [
              0.3333333333333333,
              "#9c179e"
             ],
             [
              0.4444444444444444,
              "#bd3786"
             ],
             [
              0.5555555555555556,
              "#d8576b"
             ],
             [
              0.6666666666666666,
              "#ed7953"
             ],
             [
              0.7777777777777778,
              "#fb9f3a"
             ],
             [
              0.8888888888888888,
              "#fdca26"
             ],
             [
              1,
              "#f0f921"
             ]
            ],
            "type": "histogram2d"
           }
          ],
          "histogram2dcontour": [
           {
            "colorbar": {
             "outlinewidth": 0,
             "ticks": ""
            },
            "colorscale": [
             [
              0,
              "#0d0887"
             ],
             [
              0.1111111111111111,
              "#46039f"
             ],
             [
              0.2222222222222222,
              "#7201a8"
             ],
             [
              0.3333333333333333,
              "#9c179e"
             ],
             [
              0.4444444444444444,
              "#bd3786"
             ],
             [
              0.5555555555555556,
              "#d8576b"
             ],
             [
              0.6666666666666666,
              "#ed7953"
             ],
             [
              0.7777777777777778,
              "#fb9f3a"
             ],
             [
              0.8888888888888888,
              "#fdca26"
             ],
             [
              1,
              "#f0f921"
             ]
            ],
            "type": "histogram2dcontour"
           }
          ],
          "mesh3d": [
           {
            "colorbar": {
             "outlinewidth": 0,
             "ticks": ""
            },
            "type": "mesh3d"
           }
          ],
          "parcoords": [
           {
            "line": {
             "colorbar": {
              "outlinewidth": 0,
              "ticks": ""
             }
            },
            "type": "parcoords"
           }
          ],
          "pie": [
           {
            "automargin": true,
            "type": "pie"
           }
          ],
          "scatter": [
           {
            "fillpattern": {
             "fillmode": "overlay",
             "size": 10,
             "solidity": 0.2
            },
            "type": "scatter"
           }
          ],
          "scatter3d": [
           {
            "line": {
             "colorbar": {
              "outlinewidth": 0,
              "ticks": ""
             }
            },
            "marker": {
             "colorbar": {
              "outlinewidth": 0,
              "ticks": ""
             }
            },
            "type": "scatter3d"
           }
          ],
          "scattercarpet": [
           {
            "marker": {
             "colorbar": {
              "outlinewidth": 0,
              "ticks": ""
             }
            },
            "type": "scattercarpet"
           }
          ],
          "scattergeo": [
           {
            "marker": {
             "colorbar": {
              "outlinewidth": 0,
              "ticks": ""
             }
            },
            "type": "scattergeo"
           }
          ],
          "scattergl": [
           {
            "marker": {
             "colorbar": {
              "outlinewidth": 0,
              "ticks": ""
             }
            },
            "type": "scattergl"
           }
          ],
          "scattermapbox": [
           {
            "marker": {
             "colorbar": {
              "outlinewidth": 0,
              "ticks": ""
             }
            },
            "type": "scattermapbox"
           }
          ],
          "scatterpolar": [
           {
            "marker": {
             "colorbar": {
              "outlinewidth": 0,
              "ticks": ""
             }
            },
            "type": "scatterpolar"
           }
          ],
          "scatterpolargl": [
           {
            "marker": {
             "colorbar": {
              "outlinewidth": 0,
              "ticks": ""
             }
            },
            "type": "scatterpolargl"
           }
          ],
          "scatterternary": [
           {
            "marker": {
             "colorbar": {
              "outlinewidth": 0,
              "ticks": ""
             }
            },
            "type": "scatterternary"
           }
          ],
          "surface": [
           {
            "colorbar": {
             "outlinewidth": 0,
             "ticks": ""
            },
            "colorscale": [
             [
              0,
              "#0d0887"
             ],
             [
              0.1111111111111111,
              "#46039f"
             ],
             [
              0.2222222222222222,
              "#7201a8"
             ],
             [
              0.3333333333333333,
              "#9c179e"
             ],
             [
              0.4444444444444444,
              "#bd3786"
             ],
             [
              0.5555555555555556,
              "#d8576b"
             ],
             [
              0.6666666666666666,
              "#ed7953"
             ],
             [
              0.7777777777777778,
              "#fb9f3a"
             ],
             [
              0.8888888888888888,
              "#fdca26"
             ],
             [
              1,
              "#f0f921"
             ]
            ],
            "type": "surface"
           }
          ],
          "table": [
           {
            "cells": {
             "fill": {
              "color": "#EBF0F8"
             },
             "line": {
              "color": "white"
             }
            },
            "header": {
             "fill": {
              "color": "#C8D4E3"
             },
             "line": {
              "color": "white"
             }
            },
            "type": "table"
           }
          ]
         },
         "layout": {
          "annotationdefaults": {
           "arrowcolor": "#2a3f5f",
           "arrowhead": 0,
           "arrowwidth": 1
          },
          "autotypenumbers": "strict",
          "coloraxis": {
           "colorbar": {
            "outlinewidth": 0,
            "ticks": ""
           }
          },
          "colorscale": {
           "diverging": [
            [
             0,
             "#8e0152"
            ],
            [
             0.1,
             "#c51b7d"
            ],
            [
             0.2,
             "#de77ae"
            ],
            [
             0.3,
             "#f1b6da"
            ],
            [
             0.4,
             "#fde0ef"
            ],
            [
             0.5,
             "#f7f7f7"
            ],
            [
             0.6,
             "#e6f5d0"
            ],
            [
             0.7,
             "#b8e186"
            ],
            [
             0.8,
             "#7fbc41"
            ],
            [
             0.9,
             "#4d9221"
            ],
            [
             1,
             "#276419"
            ]
           ],
           "sequential": [
            [
             0,
             "#0d0887"
            ],
            [
             0.1111111111111111,
             "#46039f"
            ],
            [
             0.2222222222222222,
             "#7201a8"
            ],
            [
             0.3333333333333333,
             "#9c179e"
            ],
            [
             0.4444444444444444,
             "#bd3786"
            ],
            [
             0.5555555555555556,
             "#d8576b"
            ],
            [
             0.6666666666666666,
             "#ed7953"
            ],
            [
             0.7777777777777778,
             "#fb9f3a"
            ],
            [
             0.8888888888888888,
             "#fdca26"
            ],
            [
             1,
             "#f0f921"
            ]
           ],
           "sequentialminus": [
            [
             0,
             "#0d0887"
            ],
            [
             0.1111111111111111,
             "#46039f"
            ],
            [
             0.2222222222222222,
             "#7201a8"
            ],
            [
             0.3333333333333333,
             "#9c179e"
            ],
            [
             0.4444444444444444,
             "#bd3786"
            ],
            [
             0.5555555555555556,
             "#d8576b"
            ],
            [
             0.6666666666666666,
             "#ed7953"
            ],
            [
             0.7777777777777778,
             "#fb9f3a"
            ],
            [
             0.8888888888888888,
             "#fdca26"
            ],
            [
             1,
             "#f0f921"
            ]
           ]
          },
          "colorway": [
           "#636efa",
           "#EF553B",
           "#00cc96",
           "#ab63fa",
           "#FFA15A",
           "#19d3f3",
           "#FF6692",
           "#B6E880",
           "#FF97FF",
           "#FECB52"
          ],
          "font": {
           "color": "#2a3f5f"
          },
          "geo": {
           "bgcolor": "white",
           "lakecolor": "white",
           "landcolor": "#E5ECF6",
           "showlakes": true,
           "showland": true,
           "subunitcolor": "white"
          },
          "hoverlabel": {
           "align": "left"
          },
          "hovermode": "closest",
          "mapbox": {
           "style": "light"
          },
          "paper_bgcolor": "white",
          "plot_bgcolor": "#E5ECF6",
          "polar": {
           "angularaxis": {
            "gridcolor": "white",
            "linecolor": "white",
            "ticks": ""
           },
           "bgcolor": "#E5ECF6",
           "radialaxis": {
            "gridcolor": "white",
            "linecolor": "white",
            "ticks": ""
           }
          },
          "scene": {
           "xaxis": {
            "backgroundcolor": "#E5ECF6",
            "gridcolor": "white",
            "gridwidth": 2,
            "linecolor": "white",
            "showbackground": true,
            "ticks": "",
            "zerolinecolor": "white"
           },
           "yaxis": {
            "backgroundcolor": "#E5ECF6",
            "gridcolor": "white",
            "gridwidth": 2,
            "linecolor": "white",
            "showbackground": true,
            "ticks": "",
            "zerolinecolor": "white"
           },
           "zaxis": {
            "backgroundcolor": "#E5ECF6",
            "gridcolor": "white",
            "gridwidth": 2,
            "linecolor": "white",
            "showbackground": true,
            "ticks": "",
            "zerolinecolor": "white"
           }
          },
          "shapedefaults": {
           "line": {
            "color": "#2a3f5f"
           }
          },
          "ternary": {
           "aaxis": {
            "gridcolor": "white",
            "linecolor": "white",
            "ticks": ""
           },
           "baxis": {
            "gridcolor": "white",
            "linecolor": "white",
            "ticks": ""
           },
           "bgcolor": "#E5ECF6",
           "caxis": {
            "gridcolor": "white",
            "linecolor": "white",
            "ticks": ""
           }
          },
          "title": {
           "x": 0.05
          },
          "xaxis": {
           "automargin": true,
           "gridcolor": "white",
           "linecolor": "white",
           "ticks": "",
           "title": {
            "standoff": 15
           },
           "zerolinecolor": "white",
           "zerolinewidth": 2
          },
          "yaxis": {
           "automargin": true,
           "gridcolor": "white",
           "linecolor": "white",
           "ticks": "",
           "title": {
            "standoff": 15
           },
           "zerolinecolor": "white",
           "zerolinewidth": 2
          }
         }
        },
        "xaxis": {
         "anchor": "y",
         "domain": [
          0,
          1
         ],
         "title": {
          "text": "Hôtels"
         }
        },
        "yaxis": {
         "anchor": "x",
         "domain": [
          0,
          1
         ],
         "title": {
          "text": "Marge en % de CA"
         }
        }
       }
      }
     },
     "metadata": {},
     "output_type": "display_data"
    }
   ],
   "source": [
    "marge_df = data[[\"Propriété_clean\", \"total HT\", \"marge\"]].groupby(\"Propriété_clean\").mean()\n",
    "marge_df[\"pourcent\"] = marge_df.apply(lambda x: round(x[\"marge\"] / x[\"total HT\"] * 100, 1), axis =1)\n",
    "marge_df = marge_df.reset_index().sort_values(by=\"pourcent\", ascending = False)\n",
    "\n",
    "fig = px.bar(\n",
    "    marge_df, x=\"Propriété_clean\", y=\"pourcent\", text=[str(x) + \"%\" for x in marge_df[\"pourcent\"]]\n",
    ")\n",
    "\n",
    "\n",
    "fig.update_xaxes(title_text=\"Hôtels\")\n",
    "fig.update_yaxes(title_text=\"Marge en % de CA\")\n",
    "fig.update_traces(textposition = \"outside\")"
   ]
  },
  {
   "cell_type": "code",
   "execution_count": null,
   "metadata": {},
   "outputs": [
    {
     "data": {
      "application/vnd.plotly.v1+json": {
       "config": {
        "plotlyServerURL": "https://plot.ly"
       },
       "data": [
        {
         "alignmentgroup": "True",
         "hovertemplate": "Statut=standard<br>Propriété=%{x}<br>Missions=%{y}<br>pourcent=%{text}<extra></extra>",
         "legendgroup": "standard",
         "marker": {
          "color": "#636efa",
          "pattern": {
           "shape": ""
          }
         },
         "name": "standard",
         "offsetgroup": "standard",
         "orientation": "v",
         "showlegend": true,
         "text": [
          25.4,
          28.6,
          25.9,
          26.5,
          21.1,
          25.9,
          30.4,
          28.6,
          28.4,
          25.8,
          28.1,
          25,
          25.5,
          16.7,
          25.3,
          27.7,
          26.9,
          29.4,
          25.7,
          28.6
         ],
         "textposition": "auto",
         "type": "bar",
         "x": [
          "Ibis Montparnasse",
          "Select Hotel",
          "Le Grand Quartier",
          "Imprimerie",
          "Marceau",
          "Milie Rose",
          "Drawing House",
          "French Theory",
          "Les Deux Girafes",
          "Yllen Eiffel",
          "Chouchou",
          "MT solutions ",
          "Touraine",
          "Parisianer",
          "Victoire et Germain",
          "Monte Cristo",
          "Parisis",
          "Alberte ",
          "Tsuba",
          "Crystal"
         ],
         "xaxis": "x",
         "y": [
          88,
          21,
          33,
          24,
          26,
          17,
          11,
          5,
          5,
          5,
          4,
          4,
          4,
          3,
          3,
          3,
          1,
          2,
          1,
          1
         ],
         "yaxis": "y"
        },
        {
         "alignmentgroup": "True",
         "hovertemplate": "Statut=urgente<br>Propriété=%{x}<br>Missions=%{y}<br>pourcent=%{text}<extra></extra>",
         "legendgroup": "urgente",
         "marker": {
          "color": "#EF553B",
          "pattern": {
           "shape": ""
          }
         },
         "name": "urgente",
         "offsetgroup": "urgente",
         "orientation": "v",
         "showlegend": true,
         "text": [
          25.4,
          26.5,
          25.9,
          30.4,
          28.6,
          28.4,
          26.9,
          25.7
         ],
         "textposition": "auto",
         "type": "bar",
         "x": [
          "Ibis Montparnasse",
          "Imprimerie",
          "Milie Rose",
          "Drawing House",
          "French Theory",
          "Les Deux Girafes",
          "Parisis",
          "Tsuba"
         ],
         "xaxis": "x",
         "y": [
          1,
          2,
          1,
          2,
          3,
          1,
          1,
          1
         ],
         "yaxis": "y"
        },
        {
         "alignmentgroup": "True",
         "hovertemplate": "Statut=annulé<br>Propriété=%{x}<br>Missions=%{y}<br>pourcent=%{text}<extra></extra>",
         "legendgroup": "annulé",
         "marker": {
          "color": "#00cc96",
          "pattern": {
           "shape": ""
          }
         },
         "name": "annulé",
         "offsetgroup": "annulé",
         "orientation": "v",
         "showlegend": true,
         "text": [
          28.6,
          25.9,
          25.9,
          28.6
         ],
         "textposition": "auto",
         "type": "bar",
         "x": [
          "Select Hotel",
          "Le Grand Quartier",
          "Milie Rose",
          "French Theory"
         ],
         "xaxis": "x",
         "y": [
          14,
          1,
          3,
          1
         ],
         "yaxis": "y"
        }
       ],
       "layout": {
        "barmode": "relative",
        "legend": {
         "title": {
          "text": "Statut"
         },
         "tracegroupgap": 0,
         "x": 0.99,
         "xanchor": "right",
         "y": 0.99,
         "yanchor": "top"
        },
        "margin": {
         "t": 60
        },
        "template": {
         "data": {
          "bar": [
           {
            "error_x": {
             "color": "#2a3f5f"
            },
            "error_y": {
             "color": "#2a3f5f"
            },
            "marker": {
             "line": {
              "color": "#E5ECF6",
              "width": 0.5
             },
             "pattern": {
              "fillmode": "overlay",
              "size": 10,
              "solidity": 0.2
             }
            },
            "type": "bar"
           }
          ],
          "barpolar": [
           {
            "marker": {
             "line": {
              "color": "#E5ECF6",
              "width": 0.5
             },
             "pattern": {
              "fillmode": "overlay",
              "size": 10,
              "solidity": 0.2
             }
            },
            "type": "barpolar"
           }
          ],
          "carpet": [
           {
            "aaxis": {
             "endlinecolor": "#2a3f5f",
             "gridcolor": "white",
             "linecolor": "white",
             "minorgridcolor": "white",
             "startlinecolor": "#2a3f5f"
            },
            "baxis": {
             "endlinecolor": "#2a3f5f",
             "gridcolor": "white",
             "linecolor": "white",
             "minorgridcolor": "white",
             "startlinecolor": "#2a3f5f"
            },
            "type": "carpet"
           }
          ],
          "choropleth": [
           {
            "colorbar": {
             "outlinewidth": 0,
             "ticks": ""
            },
            "type": "choropleth"
           }
          ],
          "contour": [
           {
            "colorbar": {
             "outlinewidth": 0,
             "ticks": ""
            },
            "colorscale": [
             [
              0,
              "#0d0887"
             ],
             [
              0.1111111111111111,
              "#46039f"
             ],
             [
              0.2222222222222222,
              "#7201a8"
             ],
             [
              0.3333333333333333,
              "#9c179e"
             ],
             [
              0.4444444444444444,
              "#bd3786"
             ],
             [
              0.5555555555555556,
              "#d8576b"
             ],
             [
              0.6666666666666666,
              "#ed7953"
             ],
             [
              0.7777777777777778,
              "#fb9f3a"
             ],
             [
              0.8888888888888888,
              "#fdca26"
             ],
             [
              1,
              "#f0f921"
             ]
            ],
            "type": "contour"
           }
          ],
          "contourcarpet": [
           {
            "colorbar": {
             "outlinewidth": 0,
             "ticks": ""
            },
            "type": "contourcarpet"
           }
          ],
          "heatmap": [
           {
            "colorbar": {
             "outlinewidth": 0,
             "ticks": ""
            },
            "colorscale": [
             [
              0,
              "#0d0887"
             ],
             [
              0.1111111111111111,
              "#46039f"
             ],
             [
              0.2222222222222222,
              "#7201a8"
             ],
             [
              0.3333333333333333,
              "#9c179e"
             ],
             [
              0.4444444444444444,
              "#bd3786"
             ],
             [
              0.5555555555555556,
              "#d8576b"
             ],
             [
              0.6666666666666666,
              "#ed7953"
             ],
             [
              0.7777777777777778,
              "#fb9f3a"
             ],
             [
              0.8888888888888888,
              "#fdca26"
             ],
             [
              1,
              "#f0f921"
             ]
            ],
            "type": "heatmap"
           }
          ],
          "heatmapgl": [
           {
            "colorbar": {
             "outlinewidth": 0,
             "ticks": ""
            },
            "colorscale": [
             [
              0,
              "#0d0887"
             ],
             [
              0.1111111111111111,
              "#46039f"
             ],
             [
              0.2222222222222222,
              "#7201a8"
             ],
             [
              0.3333333333333333,
              "#9c179e"
             ],
             [
              0.4444444444444444,
              "#bd3786"
             ],
             [
              0.5555555555555556,
              "#d8576b"
             ],
             [
              0.6666666666666666,
              "#ed7953"
             ],
             [
              0.7777777777777778,
              "#fb9f3a"
             ],
             [
              0.8888888888888888,
              "#fdca26"
             ],
             [
              1,
              "#f0f921"
             ]
            ],
            "type": "heatmapgl"
           }
          ],
          "histogram": [
           {
            "marker": {
             "pattern": {
              "fillmode": "overlay",
              "size": 10,
              "solidity": 0.2
             }
            },
            "type": "histogram"
           }
          ],
          "histogram2d": [
           {
            "colorbar": {
             "outlinewidth": 0,
             "ticks": ""
            },
            "colorscale": [
             [
              0,
              "#0d0887"
             ],
             [
              0.1111111111111111,
              "#46039f"
             ],
             [
              0.2222222222222222,
              "#7201a8"
             ],
             [
              0.3333333333333333,
              "#9c179e"
             ],
             [
              0.4444444444444444,
              "#bd3786"
             ],
             [
              0.5555555555555556,
              "#d8576b"
             ],
             [
              0.6666666666666666,
              "#ed7953"
             ],
             [
              0.7777777777777778,
              "#fb9f3a"
             ],
             [
              0.8888888888888888,
              "#fdca26"
             ],
             [
              1,
              "#f0f921"
             ]
            ],
            "type": "histogram2d"
           }
          ],
          "histogram2dcontour": [
           {
            "colorbar": {
             "outlinewidth": 0,
             "ticks": ""
            },
            "colorscale": [
             [
              0,
              "#0d0887"
             ],
             [
              0.1111111111111111,
              "#46039f"
             ],
             [
              0.2222222222222222,
              "#7201a8"
             ],
             [
              0.3333333333333333,
              "#9c179e"
             ],
             [
              0.4444444444444444,
              "#bd3786"
             ],
             [
              0.5555555555555556,
              "#d8576b"
             ],
             [
              0.6666666666666666,
              "#ed7953"
             ],
             [
              0.7777777777777778,
              "#fb9f3a"
             ],
             [
              0.8888888888888888,
              "#fdca26"
             ],
             [
              1,
              "#f0f921"
             ]
            ],
            "type": "histogram2dcontour"
           }
          ],
          "mesh3d": [
           {
            "colorbar": {
             "outlinewidth": 0,
             "ticks": ""
            },
            "type": "mesh3d"
           }
          ],
          "parcoords": [
           {
            "line": {
             "colorbar": {
              "outlinewidth": 0,
              "ticks": ""
             }
            },
            "type": "parcoords"
           }
          ],
          "pie": [
           {
            "automargin": true,
            "type": "pie"
           }
          ],
          "scatter": [
           {
            "fillpattern": {
             "fillmode": "overlay",
             "size": 10,
             "solidity": 0.2
            },
            "type": "scatter"
           }
          ],
          "scatter3d": [
           {
            "line": {
             "colorbar": {
              "outlinewidth": 0,
              "ticks": ""
             }
            },
            "marker": {
             "colorbar": {
              "outlinewidth": 0,
              "ticks": ""
             }
            },
            "type": "scatter3d"
           }
          ],
          "scattercarpet": [
           {
            "marker": {
             "colorbar": {
              "outlinewidth": 0,
              "ticks": ""
             }
            },
            "type": "scattercarpet"
           }
          ],
          "scattergeo": [
           {
            "marker": {
             "colorbar": {
              "outlinewidth": 0,
              "ticks": ""
             }
            },
            "type": "scattergeo"
           }
          ],
          "scattergl": [
           {
            "marker": {
             "colorbar": {
              "outlinewidth": 0,
              "ticks": ""
             }
            },
            "type": "scattergl"
           }
          ],
          "scattermapbox": [
           {
            "marker": {
             "colorbar": {
              "outlinewidth": 0,
              "ticks": ""
             }
            },
            "type": "scattermapbox"
           }
          ],
          "scatterpolar": [
           {
            "marker": {
             "colorbar": {
              "outlinewidth": 0,
              "ticks": ""
             }
            },
            "type": "scatterpolar"
           }
          ],
          "scatterpolargl": [
           {
            "marker": {
             "colorbar": {
              "outlinewidth": 0,
              "ticks": ""
             }
            },
            "type": "scatterpolargl"
           }
          ],
          "scatterternary": [
           {
            "marker": {
             "colorbar": {
              "outlinewidth": 0,
              "ticks": ""
             }
            },
            "type": "scatterternary"
           }
          ],
          "surface": [
           {
            "colorbar": {
             "outlinewidth": 0,
             "ticks": ""
            },
            "colorscale": [
             [
              0,
              "#0d0887"
             ],
             [
              0.1111111111111111,
              "#46039f"
             ],
             [
              0.2222222222222222,
              "#7201a8"
             ],
             [
              0.3333333333333333,
              "#9c179e"
             ],
             [
              0.4444444444444444,
              "#bd3786"
             ],
             [
              0.5555555555555556,
              "#d8576b"
             ],
             [
              0.6666666666666666,
              "#ed7953"
             ],
             [
              0.7777777777777778,
              "#fb9f3a"
             ],
             [
              0.8888888888888888,
              "#fdca26"
             ],
             [
              1,
              "#f0f921"
             ]
            ],
            "type": "surface"
           }
          ],
          "table": [
           {
            "cells": {
             "fill": {
              "color": "#EBF0F8"
             },
             "line": {
              "color": "white"
             }
            },
            "header": {
             "fill": {
              "color": "#C8D4E3"
             },
             "line": {
              "color": "white"
             }
            },
            "type": "table"
           }
          ]
         },
         "layout": {
          "annotationdefaults": {
           "arrowcolor": "#2a3f5f",
           "arrowhead": 0,
           "arrowwidth": 1
          },
          "autotypenumbers": "strict",
          "coloraxis": {
           "colorbar": {
            "outlinewidth": 0,
            "ticks": ""
           }
          },
          "colorscale": {
           "diverging": [
            [
             0,
             "#8e0152"
            ],
            [
             0.1,
             "#c51b7d"
            ],
            [
             0.2,
             "#de77ae"
            ],
            [
             0.3,
             "#f1b6da"
            ],
            [
             0.4,
             "#fde0ef"
            ],
            [
             0.5,
             "#f7f7f7"
            ],
            [
             0.6,
             "#e6f5d0"
            ],
            [
             0.7,
             "#b8e186"
            ],
            [
             0.8,
             "#7fbc41"
            ],
            [
             0.9,
             "#4d9221"
            ],
            [
             1,
             "#276419"
            ]
           ],
           "sequential": [
            [
             0,
             "#0d0887"
            ],
            [
             0.1111111111111111,
             "#46039f"
            ],
            [
             0.2222222222222222,
             "#7201a8"
            ],
            [
             0.3333333333333333,
             "#9c179e"
            ],
            [
             0.4444444444444444,
             "#bd3786"
            ],
            [
             0.5555555555555556,
             "#d8576b"
            ],
            [
             0.6666666666666666,
             "#ed7953"
            ],
            [
             0.7777777777777778,
             "#fb9f3a"
            ],
            [
             0.8888888888888888,
             "#fdca26"
            ],
            [
             1,
             "#f0f921"
            ]
           ],
           "sequentialminus": [
            [
             0,
             "#0d0887"
            ],
            [
             0.1111111111111111,
             "#46039f"
            ],
            [
             0.2222222222222222,
             "#7201a8"
            ],
            [
             0.3333333333333333,
             "#9c179e"
            ],
            [
             0.4444444444444444,
             "#bd3786"
            ],
            [
             0.5555555555555556,
             "#d8576b"
            ],
            [
             0.6666666666666666,
             "#ed7953"
            ],
            [
             0.7777777777777778,
             "#fb9f3a"
            ],
            [
             0.8888888888888888,
             "#fdca26"
            ],
            [
             1,
             "#f0f921"
            ]
           ]
          },
          "colorway": [
           "#636efa",
           "#EF553B",
           "#00cc96",
           "#ab63fa",
           "#FFA15A",
           "#19d3f3",
           "#FF6692",
           "#B6E880",
           "#FF97FF",
           "#FECB52"
          ],
          "font": {
           "color": "#2a3f5f"
          },
          "geo": {
           "bgcolor": "white",
           "lakecolor": "white",
           "landcolor": "#E5ECF6",
           "showlakes": true,
           "showland": true,
           "subunitcolor": "white"
          },
          "hoverlabel": {
           "align": "left"
          },
          "hovermode": "closest",
          "mapbox": {
           "style": "light"
          },
          "paper_bgcolor": "white",
          "plot_bgcolor": "#E5ECF6",
          "polar": {
           "angularaxis": {
            "gridcolor": "white",
            "linecolor": "white",
            "ticks": ""
           },
           "bgcolor": "#E5ECF6",
           "radialaxis": {
            "gridcolor": "white",
            "linecolor": "white",
            "ticks": ""
           }
          },
          "scene": {
           "xaxis": {
            "backgroundcolor": "#E5ECF6",
            "gridcolor": "white",
            "gridwidth": 2,
            "linecolor": "white",
            "showbackground": true,
            "ticks": "",
            "zerolinecolor": "white"
           },
           "yaxis": {
            "backgroundcolor": "#E5ECF6",
            "gridcolor": "white",
            "gridwidth": 2,
            "linecolor": "white",
            "showbackground": true,
            "ticks": "",
            "zerolinecolor": "white"
           },
           "zaxis": {
            "backgroundcolor": "#E5ECF6",
            "gridcolor": "white",
            "gridwidth": 2,
            "linecolor": "white",
            "showbackground": true,
            "ticks": "",
            "zerolinecolor": "white"
           }
          },
          "shapedefaults": {
           "line": {
            "color": "#2a3f5f"
           }
          },
          "ternary": {
           "aaxis": {
            "gridcolor": "white",
            "linecolor": "white",
            "ticks": ""
           },
           "baxis": {
            "gridcolor": "white",
            "linecolor": "white",
            "ticks": ""
           },
           "bgcolor": "#E5ECF6",
           "caxis": {
            "gridcolor": "white",
            "linecolor": "white",
            "ticks": ""
           }
          },
          "title": {
           "x": 0.05
          },
          "xaxis": {
           "automargin": true,
           "gridcolor": "white",
           "linecolor": "white",
           "ticks": "",
           "title": {
            "standoff": 15
           },
           "zerolinecolor": "white",
           "zerolinewidth": 2
          },
          "yaxis": {
           "automargin": true,
           "gridcolor": "white",
           "linecolor": "white",
           "ticks": "",
           "title": {
            "standoff": 15
           },
           "zerolinecolor": "white",
           "zerolinewidth": 2
          }
         }
        },
        "xaxis": {
         "anchor": "y",
         "domain": [
          0,
          1
         ],
         "title": {
          "text": "Hôtels"
         }
        },
        "yaxis": {
         "anchor": "x",
         "domain": [
          0,
          1
         ],
         "title": {
          "text": "Nombre de missions"
         }
        }
       }
      }
     },
     "metadata": {},
     "output_type": "display_data"
    }
   ],
   "source": [
    "fig = px.bar(\n",
    "    monthly_missions_status, x=\"Propriété\", y=\"Missions\", color=\"Statut\", text=\"pourcent\")\n",
    "\n",
    "fig.update_layout(legend=dict(yanchor=\"top\", y=0.99, xanchor=\"right\", x=0.99))\n",
    "\n",
    "fig.update_xaxes(title_text=\"Hôtels\")\n",
    "fig.update_yaxes(title_text=\"Nombre de missions\")"
   ]
  },
  {
   "cell_type": "code",
   "execution_count": null,
   "metadata": {},
   "outputs": [
    {
     "data": {
      "text/html": [
       "<div>\n",
       "<style scoped>\n",
       "    .dataframe tbody tr th:only-of-type {\n",
       "        vertical-align: middle;\n",
       "    }\n",
       "\n",
       "    .dataframe tbody tr th {\n",
       "        vertical-align: top;\n",
       "    }\n",
       "\n",
       "    .dataframe thead th {\n",
       "        text-align: right;\n",
       "    }\n",
       "</style>\n",
       "<table border=\"1\" class=\"dataframe\">\n",
       "  <thead>\n",
       "    <tr style=\"text-align: right;\">\n",
       "      <th></th>\n",
       "      <th>Propriété</th>\n",
       "      <th>Statut</th>\n",
       "      <th>Missions</th>\n",
       "      <th>Propriété_cat</th>\n",
       "      <th>pourcent</th>\n",
       "    </tr>\n",
       "  </thead>\n",
       "  <tbody>\n",
       "    <tr>\n",
       "      <th>0</th>\n",
       "      <td>Ibis Montparnasse</td>\n",
       "      <td>standard</td>\n",
       "      <td>88</td>\n",
       "      <td>Ibis Montparnasse</td>\n",
       "      <td>25.4</td>\n",
       "    </tr>\n",
       "    <tr>\n",
       "      <th>1</th>\n",
       "      <td>Ibis Montparnasse</td>\n",
       "      <td>urgente</td>\n",
       "      <td>1</td>\n",
       "      <td>Ibis Montparnasse</td>\n",
       "      <td>25.4</td>\n",
       "    </tr>\n",
       "    <tr>\n",
       "      <th>2</th>\n",
       "      <td>Select Hotel</td>\n",
       "      <td>standard</td>\n",
       "      <td>21</td>\n",
       "      <td>Select Hotel</td>\n",
       "      <td>28.6</td>\n",
       "    </tr>\n",
       "    <tr>\n",
       "      <th>3</th>\n",
       "      <td>Select Hotel</td>\n",
       "      <td>annulé</td>\n",
       "      <td>14</td>\n",
       "      <td>Select Hotel</td>\n",
       "      <td>28.6</td>\n",
       "    </tr>\n",
       "    <tr>\n",
       "      <th>4</th>\n",
       "      <td>Le Grand Quartier</td>\n",
       "      <td>standard</td>\n",
       "      <td>33</td>\n",
       "      <td>Le Grand Quartier</td>\n",
       "      <td>25.9</td>\n",
       "    </tr>\n",
       "    <tr>\n",
       "      <th>5</th>\n",
       "      <td>Le Grand Quartier</td>\n",
       "      <td>annulé</td>\n",
       "      <td>1</td>\n",
       "      <td>Le Grand Quartier</td>\n",
       "      <td>25.9</td>\n",
       "    </tr>\n",
       "    <tr>\n",
       "      <th>6</th>\n",
       "      <td>Imprimerie</td>\n",
       "      <td>standard</td>\n",
       "      <td>24</td>\n",
       "      <td>Imprimerie</td>\n",
       "      <td>26.5</td>\n",
       "    </tr>\n",
       "    <tr>\n",
       "      <th>7</th>\n",
       "      <td>Imprimerie</td>\n",
       "      <td>urgente</td>\n",
       "      <td>2</td>\n",
       "      <td>Imprimerie</td>\n",
       "      <td>26.5</td>\n",
       "    </tr>\n",
       "    <tr>\n",
       "      <th>8</th>\n",
       "      <td>Marceau</td>\n",
       "      <td>standard</td>\n",
       "      <td>26</td>\n",
       "      <td>Marceau</td>\n",
       "      <td>21.1</td>\n",
       "    </tr>\n",
       "    <tr>\n",
       "      <th>9</th>\n",
       "      <td>Milie Rose</td>\n",
       "      <td>standard</td>\n",
       "      <td>17</td>\n",
       "      <td>Milie Rose</td>\n",
       "      <td>25.9</td>\n",
       "    </tr>\n",
       "    <tr>\n",
       "      <th>10</th>\n",
       "      <td>Milie Rose</td>\n",
       "      <td>urgente</td>\n",
       "      <td>1</td>\n",
       "      <td>Milie Rose</td>\n",
       "      <td>25.9</td>\n",
       "    </tr>\n",
       "    <tr>\n",
       "      <th>11</th>\n",
       "      <td>Milie Rose</td>\n",
       "      <td>annulé</td>\n",
       "      <td>3</td>\n",
       "      <td>Milie Rose</td>\n",
       "      <td>25.9</td>\n",
       "    </tr>\n",
       "    <tr>\n",
       "      <th>12</th>\n",
       "      <td>Drawing House</td>\n",
       "      <td>standard</td>\n",
       "      <td>11</td>\n",
       "      <td>Drawing House</td>\n",
       "      <td>30.4</td>\n",
       "    </tr>\n",
       "    <tr>\n",
       "      <th>13</th>\n",
       "      <td>Drawing House</td>\n",
       "      <td>urgente</td>\n",
       "      <td>2</td>\n",
       "      <td>Drawing House</td>\n",
       "      <td>30.4</td>\n",
       "    </tr>\n",
       "    <tr>\n",
       "      <th>14</th>\n",
       "      <td>French Theory</td>\n",
       "      <td>annulé</td>\n",
       "      <td>1</td>\n",
       "      <td>French Theory</td>\n",
       "      <td>28.6</td>\n",
       "    </tr>\n",
       "    <tr>\n",
       "      <th>15</th>\n",
       "      <td>French Theory</td>\n",
       "      <td>urgente</td>\n",
       "      <td>3</td>\n",
       "      <td>French Theory</td>\n",
       "      <td>28.6</td>\n",
       "    </tr>\n",
       "    <tr>\n",
       "      <th>16</th>\n",
       "      <td>French Theory</td>\n",
       "      <td>standard</td>\n",
       "      <td>5</td>\n",
       "      <td>French Theory</td>\n",
       "      <td>28.6</td>\n",
       "    </tr>\n",
       "    <tr>\n",
       "      <th>17</th>\n",
       "      <td>Les Deux Girafes</td>\n",
       "      <td>urgente</td>\n",
       "      <td>1</td>\n",
       "      <td>Les Deux Girafes</td>\n",
       "      <td>28.4</td>\n",
       "    </tr>\n",
       "    <tr>\n",
       "      <th>18</th>\n",
       "      <td>Les Deux Girafes</td>\n",
       "      <td>standard</td>\n",
       "      <td>5</td>\n",
       "      <td>Les Deux Girafes</td>\n",
       "      <td>28.4</td>\n",
       "    </tr>\n",
       "    <tr>\n",
       "      <th>19</th>\n",
       "      <td>Yllen Eiffel</td>\n",
       "      <td>standard</td>\n",
       "      <td>5</td>\n",
       "      <td>Yllen Eiffel</td>\n",
       "      <td>25.8</td>\n",
       "    </tr>\n",
       "    <tr>\n",
       "      <th>20</th>\n",
       "      <td>Chouchou</td>\n",
       "      <td>standard</td>\n",
       "      <td>4</td>\n",
       "      <td>Chouchou</td>\n",
       "      <td>28.1</td>\n",
       "    </tr>\n",
       "    <tr>\n",
       "      <th>21</th>\n",
       "      <td>MT solutions</td>\n",
       "      <td>standard</td>\n",
       "      <td>4</td>\n",
       "      <td>MT solutions</td>\n",
       "      <td>25.0</td>\n",
       "    </tr>\n",
       "    <tr>\n",
       "      <th>22</th>\n",
       "      <td>Touraine</td>\n",
       "      <td>standard</td>\n",
       "      <td>4</td>\n",
       "      <td>Touraine</td>\n",
       "      <td>25.5</td>\n",
       "    </tr>\n",
       "    <tr>\n",
       "      <th>23</th>\n",
       "      <td>Parisianer</td>\n",
       "      <td>standard</td>\n",
       "      <td>3</td>\n",
       "      <td>Parisianer</td>\n",
       "      <td>16.7</td>\n",
       "    </tr>\n",
       "    <tr>\n",
       "      <th>24</th>\n",
       "      <td>Victoire et Germain</td>\n",
       "      <td>standard</td>\n",
       "      <td>3</td>\n",
       "      <td>Victoire et Germain</td>\n",
       "      <td>25.3</td>\n",
       "    </tr>\n",
       "    <tr>\n",
       "      <th>25</th>\n",
       "      <td>Monte Cristo</td>\n",
       "      <td>standard</td>\n",
       "      <td>3</td>\n",
       "      <td>Monte Cristo</td>\n",
       "      <td>27.7</td>\n",
       "    </tr>\n",
       "    <tr>\n",
       "      <th>26</th>\n",
       "      <td>Parisis</td>\n",
       "      <td>standard</td>\n",
       "      <td>1</td>\n",
       "      <td>Parisis</td>\n",
       "      <td>26.9</td>\n",
       "    </tr>\n",
       "    <tr>\n",
       "      <th>27</th>\n",
       "      <td>Parisis</td>\n",
       "      <td>urgente</td>\n",
       "      <td>1</td>\n",
       "      <td>Parisis</td>\n",
       "      <td>26.9</td>\n",
       "    </tr>\n",
       "    <tr>\n",
       "      <th>28</th>\n",
       "      <td>Alberte</td>\n",
       "      <td>standard</td>\n",
       "      <td>2</td>\n",
       "      <td>Alberte</td>\n",
       "      <td>29.4</td>\n",
       "    </tr>\n",
       "    <tr>\n",
       "      <th>29</th>\n",
       "      <td>Tsuba</td>\n",
       "      <td>urgente</td>\n",
       "      <td>1</td>\n",
       "      <td>Tsuba</td>\n",
       "      <td>25.7</td>\n",
       "    </tr>\n",
       "    <tr>\n",
       "      <th>30</th>\n",
       "      <td>Tsuba</td>\n",
       "      <td>standard</td>\n",
       "      <td>1</td>\n",
       "      <td>Tsuba</td>\n",
       "      <td>25.7</td>\n",
       "    </tr>\n",
       "    <tr>\n",
       "      <th>31</th>\n",
       "      <td>Crystal</td>\n",
       "      <td>standard</td>\n",
       "      <td>1</td>\n",
       "      <td>Crystal</td>\n",
       "      <td>28.6</td>\n",
       "    </tr>\n",
       "  </tbody>\n",
       "</table>\n",
       "</div>"
      ],
      "text/plain": [
       "              Propriété    Statut  Missions        Propriété_cat  pourcent\n",
       "0     Ibis Montparnasse  standard        88    Ibis Montparnasse      25.4\n",
       "1     Ibis Montparnasse   urgente         1    Ibis Montparnasse      25.4\n",
       "2          Select Hotel  standard        21         Select Hotel      28.6\n",
       "3          Select Hotel    annulé        14         Select Hotel      28.6\n",
       "4     Le Grand Quartier  standard        33    Le Grand Quartier      25.9\n",
       "5     Le Grand Quartier    annulé         1    Le Grand Quartier      25.9\n",
       "6            Imprimerie  standard        24           Imprimerie      26.5\n",
       "7            Imprimerie   urgente         2           Imprimerie      26.5\n",
       "8               Marceau  standard        26              Marceau      21.1\n",
       "9            Milie Rose  standard        17           Milie Rose      25.9\n",
       "10           Milie Rose   urgente         1           Milie Rose      25.9\n",
       "11           Milie Rose    annulé         3           Milie Rose      25.9\n",
       "12        Drawing House  standard        11        Drawing House      30.4\n",
       "13        Drawing House   urgente         2        Drawing House      30.4\n",
       "14        French Theory    annulé         1        French Theory      28.6\n",
       "15        French Theory   urgente         3        French Theory      28.6\n",
       "16        French Theory  standard         5        French Theory      28.6\n",
       "17     Les Deux Girafes   urgente         1     Les Deux Girafes      28.4\n",
       "18     Les Deux Girafes  standard         5     Les Deux Girafes      28.4\n",
       "19         Yllen Eiffel  standard         5         Yllen Eiffel      25.8\n",
       "20             Chouchou  standard         4             Chouchou      28.1\n",
       "21        MT solutions   standard         4        MT solutions       25.0\n",
       "22             Touraine  standard         4             Touraine      25.5\n",
       "23           Parisianer  standard         3           Parisianer      16.7\n",
       "24  Victoire et Germain  standard         3  Victoire et Germain      25.3\n",
       "25         Monte Cristo  standard         3         Monte Cristo      27.7\n",
       "26              Parisis  standard         1              Parisis      26.9\n",
       "27              Parisis   urgente         1              Parisis      26.9\n",
       "28             Alberte   standard         2             Alberte       29.4\n",
       "29                Tsuba   urgente         1                Tsuba      25.7\n",
       "30                Tsuba  standard         1                Tsuba      25.7\n",
       "31              Crystal  standard         1              Crystal      28.6"
      ]
     },
     "execution_count": 141,
     "metadata": {},
     "output_type": "execute_result"
    }
   ],
   "source": [
    "monthly_missions_status"
   ]
  },
  {
   "cell_type": "code",
   "execution_count": null,
   "metadata": {},
   "outputs": [],
   "source": [
    "data[\"extra_clean\"] = data[\"extra\"].apply(lambda x: x.split(\" (\")[0])\n"
   ]
  },
  {
   "cell_type": "code",
   "execution_count": null,
   "metadata": {},
   "outputs": [],
   "source": [
    "from anonymizedf.anonymizedf import anonymize\n",
    "an = anonymize(data)\n",
    "an.fake_names(\"extra_clean\")\n",
    "an.fake_ids(\"Propriété_clean\")\n",
    "\n",
    "data[\"Propriété_clean\"] = data[\"Fake_Propriété_clean\"]\n",
    "data[\"extra_clean\"] = data[\"Fake_extra_clean\"]"
   ]
  },
  {
   "cell_type": "code",
   "execution_count": null,
   "metadata": {},
   "outputs": [],
   "source": [
    "my_file = Path(\"missions_processed.csv\")\n",
    "if my_file.is_file():\n",
    "    # Load data\n",
    "    locale.setlocale(locale.LC_TIME, \"fr_FR.UTF-8\")\n",
    "    data = pd.read_csv(\"missions_processed.csv\")\n",
    "    data[\"date_debut\"] = pd.to_datetime(data[\"date_debut\"])\n",
    "    data[\"date_fin\"] = pd.to_datetime(data[\"date_fin\"])\n",
    "    data[\"statuts\"] = data[\"statuts\"].replace(\"annulé\", \"annulée\")\n",
    "    data[\"mois\"] = data[\"date_fin\"].dt.strftime(\"%B\")\n",
    "    data[\"mois\"] = pd.Categorical(\n",
    "        data[\"mois\"],\n",
    "        categories=[\n",
    "            \"janvier\",\n",
    "            \"février\",\n",
    "            \"mars\",\n",
    "            \"avril\",\n",
    "            \"mai\",\n",
    "            \"juin\",\n",
    "            \"juillet\",\n",
    "            \"août\",\n",
    "            \"septembre\",\n",
    "            \"octobre\",\n",
    "            \"novembre\",\n",
    "            \"décembre\",\n",
    "        ],\n",
    "        ordered=True,\n",
    "    )"
   ]
  },
  {
   "cell_type": "code",
   "execution_count": 87,
   "metadata": {},
   "outputs": [],
   "source": [
    "import locale\n",
    "data = pd.read_csv(\"missions_processed.csv\")\n",
    "locale.setlocale(locale.LC_TIME, \"fr_FR.UTF-8\")\n",
    "data[\"date_debut\"] = pd.to_datetime(data[\"date_debut\"])\n",
    "data[\"date_fin\"] = pd.to_datetime(data[\"date_fin\"])\n",
    "data[\"periode_debut\"] = data[\"date_debut\"].dt.strftime(\"%b-%Y\")\n",
    "data[\"periode_fin\"] = data[\"date_fin\"].dt.strftime(\"%b-%Y\")\n",
    "data[\"statuts\"] = data[\"statuts\"].replace(\"annulé\", \"annulée\")\n",
    "data[\"mois\"] = data[\"date_fin\"].dt.strftime(\"%B\")\n",
    "data[\"mois\"] = pd.Categorical(\n",
    "    data[\"mois\"],\n",
    "    categories=[\n",
    "        \"janvier\",\n",
    "        \"février\",\n",
    "        \"mars\",\n",
    "        \"avril\",\n",
    "        \"mai\",\n",
    "        \"juin\",\n",
    "        \"juillet\",\n",
    "        \"août\",\n",
    "        \"septembre\",\n",
    "        \"octobre\",\n",
    "        \"novembre\",\n",
    "        \"décembre\",\n",
    "    ],\n",
    "    ordered=True,\n",
    ")\n"
   ]
  },
  {
   "cell_type": "code",
   "execution_count": 88,
   "metadata": {},
   "outputs": [
    {
     "data": {
      "text/html": [
       "<div>\n",
       "<style scoped>\n",
       "    .dataframe tbody tr th:only-of-type {\n",
       "        vertical-align: middle;\n",
       "    }\n",
       "\n",
       "    .dataframe tbody tr th {\n",
       "        vertical-align: top;\n",
       "    }\n",
       "\n",
       "    .dataframe thead th {\n",
       "        text-align: right;\n",
       "    }\n",
       "</style>\n",
       "<table border=\"1\" class=\"dataframe\">\n",
       "  <thead>\n",
       "    <tr style=\"text-align: right;\">\n",
       "      <th></th>\n",
       "      <th>Unnamed: 0</th>\n",
       "      <th>Propriété</th>\n",
       "      <th>hôtel</th>\n",
       "      <th>extra</th>\n",
       "      <th>date</th>\n",
       "      <th>statuts</th>\n",
       "      <th>tarif urgence</th>\n",
       "      <th>tarif horaire</th>\n",
       "      <th>nbre d'heures</th>\n",
       "      <th>total HT</th>\n",
       "      <th>...</th>\n",
       "      <th>date_fin</th>\n",
       "      <th>extra_clean</th>\n",
       "      <th>periode_debut</th>\n",
       "      <th>periode_fin</th>\n",
       "      <th>Année</th>\n",
       "      <th>Mois</th>\n",
       "      <th>Semaine</th>\n",
       "      <th>marge</th>\n",
       "      <th>Jour</th>\n",
       "      <th>mois</th>\n",
       "    </tr>\n",
       "  </thead>\n",
       "  <tbody>\n",
       "    <tr>\n",
       "      <th>0</th>\n",
       "      <td>0</td>\n",
       "      <td>Crystal</td>\n",
       "      <td>Crystal (https://www.notion.so/Crystal-1837fcb...</td>\n",
       "      <td>Grégory Tshimini (https://www.notion.so/Gr-gor...</td>\n",
       "      <td>07/01/2024 8:00 → 20:00</td>\n",
       "      <td>standard</td>\n",
       "      <td>NaN</td>\n",
       "      <td>21.0</td>\n",
       "      <td>12hr 0min</td>\n",
       "      <td>252</td>\n",
       "      <td>...</td>\n",
       "      <td>2024-01-07 20:00:00</td>\n",
       "      <td>Grégory Tshimini</td>\n",
       "      <td>janv.-2024</td>\n",
       "      <td>janv.-2024</td>\n",
       "      <td>2024</td>\n",
       "      <td>2024-01</td>\n",
       "      <td>2024-01-02/2024-01-08</td>\n",
       "      <td>72</td>\n",
       "      <td>2024-01-07</td>\n",
       "      <td>janvier</td>\n",
       "    </tr>\n",
       "    <tr>\n",
       "      <th>1</th>\n",
       "      <td>1</td>\n",
       "      <td>Milie Rose</td>\n",
       "      <td>Milie Rose (https://www.notion.so/Milie-Rose-0...</td>\n",
       "      <td>Mamadou Koma (https://www.notion.so/Mamadou-Ko...</td>\n",
       "      <td>06/01/2024 22:30 → 07/01/2024 8:00</td>\n",
       "      <td>standard</td>\n",
       "      <td>NaN</td>\n",
       "      <td>20.0</td>\n",
       "      <td>9hr 30min</td>\n",
       "      <td>180</td>\n",
       "      <td>...</td>\n",
       "      <td>2024-01-07 08:00:00</td>\n",
       "      <td>Mamadou Koma</td>\n",
       "      <td>janv.-2024</td>\n",
       "      <td>janv.-2024</td>\n",
       "      <td>2024</td>\n",
       "      <td>2024-01</td>\n",
       "      <td>2024-01-02/2024-01-08</td>\n",
       "      <td>45</td>\n",
       "      <td>2024-01-07</td>\n",
       "      <td>janvier</td>\n",
       "    </tr>\n",
       "    <tr>\n",
       "      <th>2</th>\n",
       "      <td>2</td>\n",
       "      <td>Touraine</td>\n",
       "      <td>Touraine (https://www.notion.so/Touraine-df4e7...</td>\n",
       "      <td>Mohamed Belbachir (https://www.notion.so/Moham...</td>\n",
       "      <td>06/01/2024 19:30 → 07/01/2024 7:30</td>\n",
       "      <td>standard</td>\n",
       "      <td>NaN</td>\n",
       "      <td>20.0</td>\n",
       "      <td>12hr 0min</td>\n",
       "      <td>240</td>\n",
       "      <td>...</td>\n",
       "      <td>2024-01-07 07:30:00</td>\n",
       "      <td>Mohamed Belbachir</td>\n",
       "      <td>janv.-2024</td>\n",
       "      <td>janv.-2024</td>\n",
       "      <td>2024</td>\n",
       "      <td>2024-01</td>\n",
       "      <td>2024-01-02/2024-01-08</td>\n",
       "      <td>60</td>\n",
       "      <td>2024-01-07</td>\n",
       "      <td>janvier</td>\n",
       "    </tr>\n",
       "    <tr>\n",
       "      <th>3</th>\n",
       "      <td>3</td>\n",
       "      <td>Crystal</td>\n",
       "      <td>Crystal (https://www.notion.so/Crystal-1837fcb...</td>\n",
       "      <td>Grégory Tshimini (https://www.notion.so/Gr-gor...</td>\n",
       "      <td>06/01/2024 8:00 → 20:00</td>\n",
       "      <td>standard</td>\n",
       "      <td>NaN</td>\n",
       "      <td>21.0</td>\n",
       "      <td>12hr 0min</td>\n",
       "      <td>252</td>\n",
       "      <td>...</td>\n",
       "      <td>2024-01-06 20:00:00</td>\n",
       "      <td>Grégory Tshimini</td>\n",
       "      <td>janv.-2024</td>\n",
       "      <td>janv.-2024</td>\n",
       "      <td>2024</td>\n",
       "      <td>2024-01</td>\n",
       "      <td>2024-01-02/2024-01-08</td>\n",
       "      <td>72</td>\n",
       "      <td>2024-01-06</td>\n",
       "      <td>janvier</td>\n",
       "    </tr>\n",
       "    <tr>\n",
       "      <th>4</th>\n",
       "      <td>4</td>\n",
       "      <td>Milie Rose</td>\n",
       "      <td>Milie Rose (https://www.notion.so/Milie-Rose-0...</td>\n",
       "      <td>Mamadou Koma (https://www.notion.so/Mamadou-Ko...</td>\n",
       "      <td>05/01/2024 22:30 → 06/01/2024 8:00</td>\n",
       "      <td>standard</td>\n",
       "      <td>NaN</td>\n",
       "      <td>20.0</td>\n",
       "      <td>9hr 30min</td>\n",
       "      <td>180</td>\n",
       "      <td>...</td>\n",
       "      <td>2024-01-06 08:00:00</td>\n",
       "      <td>Mamadou Koma</td>\n",
       "      <td>janv.-2024</td>\n",
       "      <td>janv.-2024</td>\n",
       "      <td>2024</td>\n",
       "      <td>2024-01</td>\n",
       "      <td>2024-01-02/2024-01-08</td>\n",
       "      <td>45</td>\n",
       "      <td>2024-01-06</td>\n",
       "      <td>janvier</td>\n",
       "    </tr>\n",
       "  </tbody>\n",
       "</table>\n",
       "<p>5 rows × 26 columns</p>\n",
       "</div>"
      ],
      "text/plain": [
       "   Unnamed: 0   Propriété                                              hôtel  \\\n",
       "0           0     Crystal  Crystal (https://www.notion.so/Crystal-1837fcb...   \n",
       "1           1  Milie Rose  Milie Rose (https://www.notion.so/Milie-Rose-0...   \n",
       "2           2    Touraine  Touraine (https://www.notion.so/Touraine-df4e7...   \n",
       "3           3     Crystal  Crystal (https://www.notion.so/Crystal-1837fcb...   \n",
       "4           4  Milie Rose  Milie Rose (https://www.notion.so/Milie-Rose-0...   \n",
       "\n",
       "                                               extra  \\\n",
       "0  Grégory Tshimini (https://www.notion.so/Gr-gor...   \n",
       "1  Mamadou Koma (https://www.notion.so/Mamadou-Ko...   \n",
       "2  Mohamed Belbachir (https://www.notion.so/Moham...   \n",
       "3  Grégory Tshimini (https://www.notion.so/Gr-gor...   \n",
       "4  Mamadou Koma (https://www.notion.so/Mamadou-Ko...   \n",
       "\n",
       "                                 date   statuts  tarif urgence  tarif horaire  \\\n",
       "0             07/01/2024 8:00 → 20:00  standard            NaN           21.0   \n",
       "1  06/01/2024 22:30 → 07/01/2024 8:00  standard            NaN           20.0   \n",
       "2  06/01/2024 19:30 → 07/01/2024 7:30  standard            NaN           20.0   \n",
       "3             06/01/2024 8:00 → 20:00  standard            NaN           21.0   \n",
       "4  05/01/2024 22:30 → 06/01/2024 8:00  standard            NaN           20.0   \n",
       "\n",
       "  nbre d'heures  total HT  ...            date_fin        extra_clean  \\\n",
       "0     12hr 0min       252  ... 2024-01-07 20:00:00   Grégory Tshimini   \n",
       "1     9hr 30min       180  ... 2024-01-07 08:00:00       Mamadou Koma   \n",
       "2     12hr 0min       240  ... 2024-01-07 07:30:00  Mohamed Belbachir   \n",
       "3     12hr 0min       252  ... 2024-01-06 20:00:00   Grégory Tshimini   \n",
       "4     9hr 30min       180  ... 2024-01-06 08:00:00       Mamadou Koma   \n",
       "\n",
       "   periode_debut periode_fin Année     Mois                Semaine marge  \\\n",
       "0     janv.-2024  janv.-2024  2024  2024-01  2024-01-02/2024-01-08    72   \n",
       "1     janv.-2024  janv.-2024  2024  2024-01  2024-01-02/2024-01-08    45   \n",
       "2     janv.-2024  janv.-2024  2024  2024-01  2024-01-02/2024-01-08    60   \n",
       "3     janv.-2024  janv.-2024  2024  2024-01  2024-01-02/2024-01-08    72   \n",
       "4     janv.-2024  janv.-2024  2024  2024-01  2024-01-02/2024-01-08    45   \n",
       "\n",
       "         Jour     mois  \n",
       "0  2024-01-07  janvier  \n",
       "1  2024-01-07  janvier  \n",
       "2  2024-01-07  janvier  \n",
       "3  2024-01-06  janvier  \n",
       "4  2024-01-06  janvier  \n",
       "\n",
       "[5 rows x 26 columns]"
      ]
     },
     "execution_count": 88,
     "metadata": {},
     "output_type": "execute_result"
    }
   ],
   "source": [
    "data.head()"
   ]
  },
  {
   "cell_type": "code",
   "execution_count": 85,
   "metadata": {},
   "outputs": [
    {
     "data": {
      "text/html": [
       "<div>\n",
       "<style scoped>\n",
       "    .dataframe tbody tr th:only-of-type {\n",
       "        vertical-align: middle;\n",
       "    }\n",
       "\n",
       "    .dataframe tbody tr th {\n",
       "        vertical-align: top;\n",
       "    }\n",
       "\n",
       "    .dataframe thead th {\n",
       "        text-align: right;\n",
       "    }\n",
       "</style>\n",
       "<table border=\"1\" class=\"dataframe\">\n",
       "  <thead>\n",
       "    <tr style=\"text-align: right;\">\n",
       "      <th></th>\n",
       "      <th>Propriété</th>\n",
       "      <th>Statut</th>\n",
       "      <th>Missions</th>\n",
       "      <th>Propriété_cat</th>\n",
       "    </tr>\n",
       "  </thead>\n",
       "  <tbody>\n",
       "    <tr>\n",
       "      <th>21</th>\n",
       "      <td>Ibis Montparnasse</td>\n",
       "      <td>standard</td>\n",
       "      <td>803</td>\n",
       "      <td>Ibis Montparnasse</td>\n",
       "    </tr>\n",
       "    <tr>\n",
       "      <th>22</th>\n",
       "      <td>Ibis Montparnasse</td>\n",
       "      <td>urgente</td>\n",
       "      <td>17</td>\n",
       "      <td>Ibis Montparnasse</td>\n",
       "    </tr>\n",
       "    <tr>\n",
       "      <th>20</th>\n",
       "      <td>Ibis Montparnasse</td>\n",
       "      <td>annulée</td>\n",
       "      <td>49</td>\n",
       "      <td>Ibis Montparnasse</td>\n",
       "    </tr>\n",
       "    <tr>\n",
       "      <th>28</th>\n",
       "      <td>Le Grand Quartier</td>\n",
       "      <td>urgente</td>\n",
       "      <td>7</td>\n",
       "      <td>Le Grand Quartier</td>\n",
       "    </tr>\n",
       "    <tr>\n",
       "      <th>27</th>\n",
       "      <td>Le Grand Quartier</td>\n",
       "      <td>standard</td>\n",
       "      <td>269</td>\n",
       "      <td>Le Grand Quartier</td>\n",
       "    </tr>\n",
       "  </tbody>\n",
       "</table>\n",
       "</div>"
      ],
      "text/plain": [
       "            Propriété    Statut  Missions      Propriété_cat\n",
       "21  Ibis Montparnasse  standard       803  Ibis Montparnasse\n",
       "22  Ibis Montparnasse   urgente        17  Ibis Montparnasse\n",
       "20  Ibis Montparnasse   annulée        49  Ibis Montparnasse\n",
       "28  Le Grand Quartier   urgente         7  Le Grand Quartier\n",
       "27  Le Grand Quartier  standard       269  Le Grand Quartier"
      ]
     },
     "execution_count": 85,
     "metadata": {},
     "output_type": "execute_result"
    }
   ],
   "source": [
    "import plotly.express as px\n",
    "monthly_missions_status = (\n",
    "            data[(data[\"date_debut\"].dt.year.astype(str) == \"2023\")]\n",
    "            .groupby([\"Propriété\", \"statuts\"])\n",
    "            .count()\n",
    "            .reset_index()\n",
    "            .sort_values(by=\"Propriété\", ascending=False)\n",
    "            .iloc[:, :3]\n",
    "        )\n",
    "\n",
    "monthly_missions_status.columns = [\"Propriété\", \"Statut\", \"Missions\"]\n",
    "sorter = (\n",
    "    monthly_missions_status.groupby(\"Propriété\")\n",
    "    .sum()\n",
    "    .sort_values(by=\"Missions\", ascending=False)\n",
    "    .index\n",
    ")\n",
    "sorter = sorter.to_list()\n",
    "monthly_missions_status[\"Propriété_cat\"] = pd.Categorical(\n",
    "    monthly_missions_status[\"Propriété\"], categories=sorter, ordered=True\n",
    ")\n",
    "monthly_missions_status = monthly_missions_status.sort_values(by=\"Propriété_cat\")\n",
    "monthly_missions_status.head()"
   ]
  },
  {
   "cell_type": "code",
   "execution_count": 86,
   "metadata": {},
   "outputs": [
    {
     "data": {
      "application/vnd.plotly.v1+json": {
       "config": {
        "plotlyServerURL": "https://plot.ly"
       },
       "data": [
        {
         "type": "bar",
         "x": [
          "Ibis Montparnasse",
          "Le Grand Quartier",
          "Select Hotel",
          "Imprimerie",
          "Milie Rose",
          "Marceau",
          "Tsuba",
          "Yllen Eiffel",
          "Drawing House",
          "Touraine",
          "Crystal",
          "Les Deux Girafes",
          "Monte Cristo",
          "French Theory",
          "Courseine",
          "Apogé",
          "Parisis",
          "Victoire et Germain",
          "Edouard VI",
          "Quinzerie hotel",
          "MT solutions ",
          "Prélude",
          "Parisianer",
          "Chouchou",
          "Alberte ",
          "Le Roch Hotel",
          "Peper and paper "
         ],
         "y": [
          803,
          269,
          195,
          193,
          186,
          145,
          105,
          91,
          64,
          54,
          55,
          47,
          34,
          31,
          35,
          28,
          26,
          24,
          20,
          15,
          18,
          12,
          12,
          10,
          4,
          1,
          1
         ]
        },
        {
         "type": "bar",
         "x": [
          "Ibis Montparnasse",
          "Le Grand Quartier",
          "Imprimerie",
          "Milie Rose",
          "Tsuba",
          "Yllen Eiffel",
          "Drawing House",
          "Touraine",
          "Les Deux Girafes",
          "Monte Cristo",
          "French Theory",
          "Courseine",
          "Parisis",
          "Victoire et Germain",
          "Edouard VI",
          "Prélude",
          "Chouchou",
          "Alberte ",
          "Le Roch Hotel",
          "Mont Dore"
         ],
         "y": [
          17,
          7,
          13,
          8,
          7,
          3,
          10,
          2,
          9,
          9,
          4,
          3,
          3,
          1,
          1,
          5,
          2,
          1,
          2,
          1
         ]
        },
        {
         "type": "bar",
         "x": [
          "Ibis Montparnasse",
          "Le Grand Quartier",
          "Select Hotel",
          "Imprimerie",
          "Milie Rose",
          "Tsuba",
          "Yllen Eiffel",
          "Drawing House",
          "Touraine",
          "Crystal",
          "Les Deux Girafes",
          "Monte Cristo",
          "French Theory",
          "Courseine",
          "Apogé",
          "Victoire et Germain",
          "Edouard VI",
          "Quinzerie hotel",
          "MT solutions ",
          "Parisianer"
         ],
         "y": [
          49,
          7,
          60,
          30,
          20,
          4,
          15,
          8,
          12,
          5,
          3,
          4,
          5,
          2,
          3,
          1,
          2,
          5,
          1,
          5
         ]
        }
       ],
       "layout": {
        "barmode": "stack",
        "template": {
         "data": {
          "bar": [
           {
            "error_x": {
             "color": "#2a3f5f"
            },
            "error_y": {
             "color": "#2a3f5f"
            },
            "marker": {
             "line": {
              "color": "#E5ECF6",
              "width": 0.5
             },
             "pattern": {
              "fillmode": "overlay",
              "size": 10,
              "solidity": 0.2
             }
            },
            "type": "bar"
           }
          ],
          "barpolar": [
           {
            "marker": {
             "line": {
              "color": "#E5ECF6",
              "width": 0.5
             },
             "pattern": {
              "fillmode": "overlay",
              "size": 10,
              "solidity": 0.2
             }
            },
            "type": "barpolar"
           }
          ],
          "carpet": [
           {
            "aaxis": {
             "endlinecolor": "#2a3f5f",
             "gridcolor": "white",
             "linecolor": "white",
             "minorgridcolor": "white",
             "startlinecolor": "#2a3f5f"
            },
            "baxis": {
             "endlinecolor": "#2a3f5f",
             "gridcolor": "white",
             "linecolor": "white",
             "minorgridcolor": "white",
             "startlinecolor": "#2a3f5f"
            },
            "type": "carpet"
           }
          ],
          "choropleth": [
           {
            "colorbar": {
             "outlinewidth": 0,
             "ticks": ""
            },
            "type": "choropleth"
           }
          ],
          "contour": [
           {
            "colorbar": {
             "outlinewidth": 0,
             "ticks": ""
            },
            "colorscale": [
             [
              0,
              "#0d0887"
             ],
             [
              0.1111111111111111,
              "#46039f"
             ],
             [
              0.2222222222222222,
              "#7201a8"
             ],
             [
              0.3333333333333333,
              "#9c179e"
             ],
             [
              0.4444444444444444,
              "#bd3786"
             ],
             [
              0.5555555555555556,
              "#d8576b"
             ],
             [
              0.6666666666666666,
              "#ed7953"
             ],
             [
              0.7777777777777778,
              "#fb9f3a"
             ],
             [
              0.8888888888888888,
              "#fdca26"
             ],
             [
              1,
              "#f0f921"
             ]
            ],
            "type": "contour"
           }
          ],
          "contourcarpet": [
           {
            "colorbar": {
             "outlinewidth": 0,
             "ticks": ""
            },
            "type": "contourcarpet"
           }
          ],
          "heatmap": [
           {
            "colorbar": {
             "outlinewidth": 0,
             "ticks": ""
            },
            "colorscale": [
             [
              0,
              "#0d0887"
             ],
             [
              0.1111111111111111,
              "#46039f"
             ],
             [
              0.2222222222222222,
              "#7201a8"
             ],
             [
              0.3333333333333333,
              "#9c179e"
             ],
             [
              0.4444444444444444,
              "#bd3786"
             ],
             [
              0.5555555555555556,
              "#d8576b"
             ],
             [
              0.6666666666666666,
              "#ed7953"
             ],
             [
              0.7777777777777778,
              "#fb9f3a"
             ],
             [
              0.8888888888888888,
              "#fdca26"
             ],
             [
              1,
              "#f0f921"
             ]
            ],
            "type": "heatmap"
           }
          ],
          "heatmapgl": [
           {
            "colorbar": {
             "outlinewidth": 0,
             "ticks": ""
            },
            "colorscale": [
             [
              0,
              "#0d0887"
             ],
             [
              0.1111111111111111,
              "#46039f"
             ],
             [
              0.2222222222222222,
              "#7201a8"
             ],
             [
              0.3333333333333333,
              "#9c179e"
             ],
             [
              0.4444444444444444,
              "#bd3786"
             ],
             [
              0.5555555555555556,
              "#d8576b"
             ],
             [
              0.6666666666666666,
              "#ed7953"
             ],
             [
              0.7777777777777778,
              "#fb9f3a"
             ],
             [
              0.8888888888888888,
              "#fdca26"
             ],
             [
              1,
              "#f0f921"
             ]
            ],
            "type": "heatmapgl"
           }
          ],
          "histogram": [
           {
            "marker": {
             "pattern": {
              "fillmode": "overlay",
              "size": 10,
              "solidity": 0.2
             }
            },
            "type": "histogram"
           }
          ],
          "histogram2d": [
           {
            "colorbar": {
             "outlinewidth": 0,
             "ticks": ""
            },
            "colorscale": [
             [
              0,
              "#0d0887"
             ],
             [
              0.1111111111111111,
              "#46039f"
             ],
             [
              0.2222222222222222,
              "#7201a8"
             ],
             [
              0.3333333333333333,
              "#9c179e"
             ],
             [
              0.4444444444444444,
              "#bd3786"
             ],
             [
              0.5555555555555556,
              "#d8576b"
             ],
             [
              0.6666666666666666,
              "#ed7953"
             ],
             [
              0.7777777777777778,
              "#fb9f3a"
             ],
             [
              0.8888888888888888,
              "#fdca26"
             ],
             [
              1,
              "#f0f921"
             ]
            ],
            "type": "histogram2d"
           }
          ],
          "histogram2dcontour": [
           {
            "colorbar": {
             "outlinewidth": 0,
             "ticks": ""
            },
            "colorscale": [
             [
              0,
              "#0d0887"
             ],
             [
              0.1111111111111111,
              "#46039f"
             ],
             [
              0.2222222222222222,
              "#7201a8"
             ],
             [
              0.3333333333333333,
              "#9c179e"
             ],
             [
              0.4444444444444444,
              "#bd3786"
             ],
             [
              0.5555555555555556,
              "#d8576b"
             ],
             [
              0.6666666666666666,
              "#ed7953"
             ],
             [
              0.7777777777777778,
              "#fb9f3a"
             ],
             [
              0.8888888888888888,
              "#fdca26"
             ],
             [
              1,
              "#f0f921"
             ]
            ],
            "type": "histogram2dcontour"
           }
          ],
          "mesh3d": [
           {
            "colorbar": {
             "outlinewidth": 0,
             "ticks": ""
            },
            "type": "mesh3d"
           }
          ],
          "parcoords": [
           {
            "line": {
             "colorbar": {
              "outlinewidth": 0,
              "ticks": ""
             }
            },
            "type": "parcoords"
           }
          ],
          "pie": [
           {
            "automargin": true,
            "type": "pie"
           }
          ],
          "scatter": [
           {
            "fillpattern": {
             "fillmode": "overlay",
             "size": 10,
             "solidity": 0.2
            },
            "type": "scatter"
           }
          ],
          "scatter3d": [
           {
            "line": {
             "colorbar": {
              "outlinewidth": 0,
              "ticks": ""
             }
            },
            "marker": {
             "colorbar": {
              "outlinewidth": 0,
              "ticks": ""
             }
            },
            "type": "scatter3d"
           }
          ],
          "scattercarpet": [
           {
            "marker": {
             "colorbar": {
              "outlinewidth": 0,
              "ticks": ""
             }
            },
            "type": "scattercarpet"
           }
          ],
          "scattergeo": [
           {
            "marker": {
             "colorbar": {
              "outlinewidth": 0,
              "ticks": ""
             }
            },
            "type": "scattergeo"
           }
          ],
          "scattergl": [
           {
            "marker": {
             "colorbar": {
              "outlinewidth": 0,
              "ticks": ""
             }
            },
            "type": "scattergl"
           }
          ],
          "scattermapbox": [
           {
            "marker": {
             "colorbar": {
              "outlinewidth": 0,
              "ticks": ""
             }
            },
            "type": "scattermapbox"
           }
          ],
          "scatterpolar": [
           {
            "marker": {
             "colorbar": {
              "outlinewidth": 0,
              "ticks": ""
             }
            },
            "type": "scatterpolar"
           }
          ],
          "scatterpolargl": [
           {
            "marker": {
             "colorbar": {
              "outlinewidth": 0,
              "ticks": ""
             }
            },
            "type": "scatterpolargl"
           }
          ],
          "scatterternary": [
           {
            "marker": {
             "colorbar": {
              "outlinewidth": 0,
              "ticks": ""
             }
            },
            "type": "scatterternary"
           }
          ],
          "surface": [
           {
            "colorbar": {
             "outlinewidth": 0,
             "ticks": ""
            },
            "colorscale": [
             [
              0,
              "#0d0887"
             ],
             [
              0.1111111111111111,
              "#46039f"
             ],
             [
              0.2222222222222222,
              "#7201a8"
             ],
             [
              0.3333333333333333,
              "#9c179e"
             ],
             [
              0.4444444444444444,
              "#bd3786"
             ],
             [
              0.5555555555555556,
              "#d8576b"
             ],
             [
              0.6666666666666666,
              "#ed7953"
             ],
             [
              0.7777777777777778,
              "#fb9f3a"
             ],
             [
              0.8888888888888888,
              "#fdca26"
             ],
             [
              1,
              "#f0f921"
             ]
            ],
            "type": "surface"
           }
          ],
          "table": [
           {
            "cells": {
             "fill": {
              "color": "#EBF0F8"
             },
             "line": {
              "color": "white"
             }
            },
            "header": {
             "fill": {
              "color": "#C8D4E3"
             },
             "line": {
              "color": "white"
             }
            },
            "type": "table"
           }
          ]
         },
         "layout": {
          "annotationdefaults": {
           "arrowcolor": "#2a3f5f",
           "arrowhead": 0,
           "arrowwidth": 1
          },
          "autotypenumbers": "strict",
          "coloraxis": {
           "colorbar": {
            "outlinewidth": 0,
            "ticks": ""
           }
          },
          "colorscale": {
           "diverging": [
            [
             0,
             "#8e0152"
            ],
            [
             0.1,
             "#c51b7d"
            ],
            [
             0.2,
             "#de77ae"
            ],
            [
             0.3,
             "#f1b6da"
            ],
            [
             0.4,
             "#fde0ef"
            ],
            [
             0.5,
             "#f7f7f7"
            ],
            [
             0.6,
             "#e6f5d0"
            ],
            [
             0.7,
             "#b8e186"
            ],
            [
             0.8,
             "#7fbc41"
            ],
            [
             0.9,
             "#4d9221"
            ],
            [
             1,
             "#276419"
            ]
           ],
           "sequential": [
            [
             0,
             "#0d0887"
            ],
            [
             0.1111111111111111,
             "#46039f"
            ],
            [
             0.2222222222222222,
             "#7201a8"
            ],
            [
             0.3333333333333333,
             "#9c179e"
            ],
            [
             0.4444444444444444,
             "#bd3786"
            ],
            [
             0.5555555555555556,
             "#d8576b"
            ],
            [
             0.6666666666666666,
             "#ed7953"
            ],
            [
             0.7777777777777778,
             "#fb9f3a"
            ],
            [
             0.8888888888888888,
             "#fdca26"
            ],
            [
             1,
             "#f0f921"
            ]
           ],
           "sequentialminus": [
            [
             0,
             "#0d0887"
            ],
            [
             0.1111111111111111,
             "#46039f"
            ],
            [
             0.2222222222222222,
             "#7201a8"
            ],
            [
             0.3333333333333333,
             "#9c179e"
            ],
            [
             0.4444444444444444,
             "#bd3786"
            ],
            [
             0.5555555555555556,
             "#d8576b"
            ],
            [
             0.6666666666666666,
             "#ed7953"
            ],
            [
             0.7777777777777778,
             "#fb9f3a"
            ],
            [
             0.8888888888888888,
             "#fdca26"
            ],
            [
             1,
             "#f0f921"
            ]
           ]
          },
          "colorway": [
           "#636efa",
           "#EF553B",
           "#00cc96",
           "#ab63fa",
           "#FFA15A",
           "#19d3f3",
           "#FF6692",
           "#B6E880",
           "#FF97FF",
           "#FECB52"
          ],
          "font": {
           "color": "#2a3f5f"
          },
          "geo": {
           "bgcolor": "white",
           "lakecolor": "white",
           "landcolor": "#E5ECF6",
           "showlakes": true,
           "showland": true,
           "subunitcolor": "white"
          },
          "hoverlabel": {
           "align": "left"
          },
          "hovermode": "closest",
          "mapbox": {
           "style": "light"
          },
          "paper_bgcolor": "white",
          "plot_bgcolor": "#E5ECF6",
          "polar": {
           "angularaxis": {
            "gridcolor": "white",
            "linecolor": "white",
            "ticks": ""
           },
           "bgcolor": "#E5ECF6",
           "radialaxis": {
            "gridcolor": "white",
            "linecolor": "white",
            "ticks": ""
           }
          },
          "scene": {
           "xaxis": {
            "backgroundcolor": "#E5ECF6",
            "gridcolor": "white",
            "gridwidth": 2,
            "linecolor": "white",
            "showbackground": true,
            "ticks": "",
            "zerolinecolor": "white"
           },
           "yaxis": {
            "backgroundcolor": "#E5ECF6",
            "gridcolor": "white",
            "gridwidth": 2,
            "linecolor": "white",
            "showbackground": true,
            "ticks": "",
            "zerolinecolor": "white"
           },
           "zaxis": {
            "backgroundcolor": "#E5ECF6",
            "gridcolor": "white",
            "gridwidth": 2,
            "linecolor": "white",
            "showbackground": true,
            "ticks": "",
            "zerolinecolor": "white"
           }
          },
          "shapedefaults": {
           "line": {
            "color": "#2a3f5f"
           }
          },
          "ternary": {
           "aaxis": {
            "gridcolor": "white",
            "linecolor": "white",
            "ticks": ""
           },
           "baxis": {
            "gridcolor": "white",
            "linecolor": "white",
            "ticks": ""
           },
           "bgcolor": "#E5ECF6",
           "caxis": {
            "gridcolor": "white",
            "linecolor": "white",
            "ticks": ""
           }
          },
          "title": {
           "x": 0.05
          },
          "xaxis": {
           "automargin": true,
           "gridcolor": "white",
           "linecolor": "white",
           "ticks": "",
           "title": {
            "standoff": 15
           },
           "zerolinecolor": "white",
           "zerolinewidth": 2
          },
          "yaxis": {
           "automargin": true,
           "gridcolor": "white",
           "linecolor": "white",
           "ticks": "",
           "title": {
            "standoff": 15
           },
           "zerolinecolor": "white",
           "zerolinewidth": 2
          }
         }
        }
       }
      }
     },
     "metadata": {},
     "output_type": "display_data"
    }
   ],
   "source": [
    "import plotly.graph_objects as go\n",
    "fig =  go.Figure()\n",
    "\n",
    "fig.add_trace(go.Bar(x=monthly_missions_status[monthly_missions_status[\"Statut\"] == \"standard\"][\"Propriété\"],\n",
    "                y=monthly_missions_status[monthly_missions_status[\"Statut\"] == \"standard\"][\"Missions\"]))\n",
    "\n",
    "fig.add_trace(go.Bar(x=monthly_missions_status[monthly_missions_status[\"Statut\"] == \"urgente\"][\"Propriété\"],\n",
    "                y=monthly_missions_status[monthly_missions_status[\"Statut\"] == \"urgente\"][\"Missions\"]))\n",
    "\n",
    "fig.add_trace(go.Bar(x=monthly_missions_status[monthly_missions_status[\"Statut\"] == \"annulée\"][\"Propriété\"],\n",
    "                y=monthly_missions_status[monthly_missions_status[\"Statut\"] == \"annulée\"][\"Missions\"]))\n",
    "fig.update_layout(barmode='stack')"
   ]
  },
  {
   "cell_type": "code",
   "execution_count": 16,
   "metadata": {},
   "outputs": [
    {
     "data": {
      "application/vnd.plotly.v1+json": {
       "config": {
        "plotlyServerURL": "https://plot.ly"
       },
       "data": [
        {
         "alignmentgroup": "True",
         "customdata": [
          [
           "urgente"
          ],
          [
           "urgente"
          ],
          [
           "urgente"
          ],
          [
           "urgente"
          ],
          [
           "urgente"
          ],
          [
           "urgente"
          ],
          [
           "urgente"
          ],
          [
           "urgente"
          ],
          [
           "urgente"
          ],
          [
           "urgente"
          ],
          [
           "urgente"
          ],
          [
           "urgente"
          ],
          [
           "urgente"
          ],
          [
           "urgente"
          ],
          [
           "urgente"
          ],
          [
           "urgente"
          ],
          [
           "urgente"
          ],
          [
           "urgente"
          ],
          [
           "urgente"
          ],
          [
           "urgente"
          ]
         ],
         "hovertemplate": "<b>%{hovertext}</b><br><br>Statut=%{customdata[0]}<br>Propriété=%{x}<br>Missions=%{y}<extra></extra>",
         "hovertext": [
          "Propriété 4",
          "Propriété 10",
          "Propriété 7",
          "Propriété 2",
          "Propriété 18",
          "Propriété 8",
          "Propriété 9",
          "Propriété 3",
          "Propriété 14",
          "Propriété 12",
          "Propriété 19",
          "Propriété 6",
          "Propriété 15",
          "Propriété 11",
          "Propriété 25",
          "Propriété 24",
          "Propriété 5",
          "Propriété 13",
          "Propriété 20",
          "Propriété 28"
         ],
         "legendgroup": "urgente",
         "marker": {
          "color": "#636efa",
          "pattern": {
           "shape": ""
          }
         },
         "name": "urgente",
         "offsetgroup": "urgente",
         "orientation": "v",
         "showlegend": true,
         "textposition": "auto",
         "type": "bar",
         "x": [
          "Propriété 4",
          "Propriété 10",
          "Propriété 7",
          "Propriété 2",
          "Propriété 18",
          "Propriété 8",
          "Propriété 9",
          "Propriété 3",
          "Propriété 14",
          "Propriété 12",
          "Propriété 19",
          "Propriété 6",
          "Propriété 15",
          "Propriété 11",
          "Propriété 25",
          "Propriété 24",
          "Propriété 5",
          "Propriété 13",
          "Propriété 20",
          "Propriété 28"
         ],
         "xaxis": "x",
         "y": [
          17,
          7,
          13,
          8,
          7,
          3,
          10,
          2,
          9,
          9,
          4,
          3,
          3,
          1,
          1,
          5,
          2,
          1,
          2,
          1
         ],
         "yaxis": "y"
        },
        {
         "alignmentgroup": "True",
         "customdata": [
          [
           "standard"
          ],
          [
           "standard"
          ],
          [
           "standard"
          ],
          [
           "standard"
          ],
          [
           "standard"
          ],
          [
           "standard"
          ],
          [
           "standard"
          ],
          [
           "standard"
          ],
          [
           "standard"
          ],
          [
           "standard"
          ],
          [
           "standard"
          ],
          [
           "standard"
          ],
          [
           "standard"
          ],
          [
           "standard"
          ],
          [
           "standard"
          ],
          [
           "standard"
          ],
          [
           "standard"
          ],
          [
           "standard"
          ],
          [
           "standard"
          ],
          [
           "standard"
          ],
          [
           "standard"
          ],
          [
           "standard"
          ],
          [
           "standard"
          ],
          [
           "standard"
          ],
          [
           "standard"
          ],
          [
           "standard"
          ],
          [
           "standard"
          ]
         ],
         "hovertemplate": "<b>%{hovertext}</b><br><br>Statut=%{customdata[0]}<br>Propriété=%{x}<br>Missions=%{y}<extra></extra>",
         "hovertext": [
          "Propriété 4",
          "Propriété 10",
          "Propriété 16",
          "Propriété 7",
          "Propriété 2",
          "Propriété 21",
          "Propriété 18",
          "Propriété 8",
          "Propriété 9",
          "Propriété 3",
          "Propriété 1",
          "Propriété 14",
          "Propriété 12",
          "Propriété 19",
          "Propriété 6",
          "Propriété 26",
          "Propriété 15",
          "Propriété 11",
          "Propriété 25",
          "Propriété 23",
          "Propriété 17",
          "Propriété 22",
          "Propriété 24",
          "Propriété 5",
          "Propriété 13",
          "Propriété 20",
          "Propriété 27"
         ],
         "legendgroup": "standard",
         "marker": {
          "color": "#EF553B",
          "pattern": {
           "shape": ""
          }
         },
         "name": "standard",
         "offsetgroup": "standard",
         "orientation": "v",
         "showlegend": true,
         "textposition": "auto",
         "type": "bar",
         "x": [
          "Propriété 4",
          "Propriété 10",
          "Propriété 16",
          "Propriété 7",
          "Propriété 2",
          "Propriété 21",
          "Propriété 18",
          "Propriété 8",
          "Propriété 9",
          "Propriété 3",
          "Propriété 1",
          "Propriété 14",
          "Propriété 12",
          "Propriété 19",
          "Propriété 6",
          "Propriété 26",
          "Propriété 15",
          "Propriété 11",
          "Propriété 25",
          "Propriété 23",
          "Propriété 17",
          "Propriété 22",
          "Propriété 24",
          "Propriété 5",
          "Propriété 13",
          "Propriété 20",
          "Propriété 27"
         ],
         "xaxis": "x",
         "y": [
          803,
          269,
          195,
          193,
          186,
          145,
          105,
          91,
          64,
          54,
          55,
          47,
          34,
          31,
          35,
          28,
          26,
          24,
          20,
          15,
          18,
          12,
          12,
          10,
          4,
          1,
          1
         ],
         "yaxis": "y"
        },
        {
         "alignmentgroup": "True",
         "customdata": [
          [
           "annulée"
          ],
          [
           "annulée"
          ],
          [
           "annulée"
          ],
          [
           "annulée"
          ],
          [
           "annulée"
          ],
          [
           "annulée"
          ],
          [
           "annulée"
          ],
          [
           "annulée"
          ],
          [
           "annulée"
          ],
          [
           "annulée"
          ],
          [
           "annulée"
          ],
          [
           "annulée"
          ],
          [
           "annulée"
          ],
          [
           "annulée"
          ],
          [
           "annulée"
          ],
          [
           "annulée"
          ],
          [
           "annulée"
          ],
          [
           "annulée"
          ],
          [
           "annulée"
          ],
          [
           "annulée"
          ]
         ],
         "hovertemplate": "<b>%{hovertext}</b><br><br>Statut=%{customdata[0]}<br>Propriété=%{x}<br>Missions=%{y}<extra></extra>",
         "hovertext": [
          "Propriété 4",
          "Propriété 10",
          "Propriété 16",
          "Propriété 7",
          "Propriété 2",
          "Propriété 18",
          "Propriété 8",
          "Propriété 9",
          "Propriété 3",
          "Propriété 1",
          "Propriété 14",
          "Propriété 12",
          "Propriété 19",
          "Propriété 6",
          "Propriété 26",
          "Propriété 11",
          "Propriété 25",
          "Propriété 23",
          "Propriété 17",
          "Propriété 22"
         ],
         "legendgroup": "annulée",
         "marker": {
          "color": "#00cc96",
          "pattern": {
           "shape": ""
          }
         },
         "name": "annulée",
         "offsetgroup": "annulée",
         "orientation": "v",
         "showlegend": true,
         "textposition": "auto",
         "type": "bar",
         "x": [
          "Propriété 4",
          "Propriété 10",
          "Propriété 16",
          "Propriété 7",
          "Propriété 2",
          "Propriété 18",
          "Propriété 8",
          "Propriété 9",
          "Propriété 3",
          "Propriété 1",
          "Propriété 14",
          "Propriété 12",
          "Propriété 19",
          "Propriété 6",
          "Propriété 26",
          "Propriété 11",
          "Propriété 25",
          "Propriété 23",
          "Propriété 17",
          "Propriété 22"
         ],
         "xaxis": "x",
         "y": [
          49,
          7,
          60,
          30,
          20,
          4,
          15,
          8,
          12,
          5,
          3,
          4,
          5,
          2,
          3,
          1,
          2,
          5,
          1,
          5
         ],
         "yaxis": "y"
        }
       ],
       "layout": {
        "barmode": "relative",
        "legend": {
         "title": {
          "text": "Statut"
         },
         "tracegroupgap": 0,
         "x": 0.99,
         "xanchor": "right",
         "y": 0.99,
         "yanchor": "top"
        },
        "margin": {
         "t": 60
        },
        "template": {
         "data": {
          "bar": [
           {
            "error_x": {
             "color": "#2a3f5f"
            },
            "error_y": {
             "color": "#2a3f5f"
            },
            "marker": {
             "line": {
              "color": "#E5ECF6",
              "width": 0.5
             },
             "pattern": {
              "fillmode": "overlay",
              "size": 10,
              "solidity": 0.2
             }
            },
            "type": "bar"
           }
          ],
          "barpolar": [
           {
            "marker": {
             "line": {
              "color": "#E5ECF6",
              "width": 0.5
             },
             "pattern": {
              "fillmode": "overlay",
              "size": 10,
              "solidity": 0.2
             }
            },
            "type": "barpolar"
           }
          ],
          "carpet": [
           {
            "aaxis": {
             "endlinecolor": "#2a3f5f",
             "gridcolor": "white",
             "linecolor": "white",
             "minorgridcolor": "white",
             "startlinecolor": "#2a3f5f"
            },
            "baxis": {
             "endlinecolor": "#2a3f5f",
             "gridcolor": "white",
             "linecolor": "white",
             "minorgridcolor": "white",
             "startlinecolor": "#2a3f5f"
            },
            "type": "carpet"
           }
          ],
          "choropleth": [
           {
            "colorbar": {
             "outlinewidth": 0,
             "ticks": ""
            },
            "type": "choropleth"
           }
          ],
          "contour": [
           {
            "colorbar": {
             "outlinewidth": 0,
             "ticks": ""
            },
            "colorscale": [
             [
              0,
              "#0d0887"
             ],
             [
              0.1111111111111111,
              "#46039f"
             ],
             [
              0.2222222222222222,
              "#7201a8"
             ],
             [
              0.3333333333333333,
              "#9c179e"
             ],
             [
              0.4444444444444444,
              "#bd3786"
             ],
             [
              0.5555555555555556,
              "#d8576b"
             ],
             [
              0.6666666666666666,
              "#ed7953"
             ],
             [
              0.7777777777777778,
              "#fb9f3a"
             ],
             [
              0.8888888888888888,
              "#fdca26"
             ],
             [
              1,
              "#f0f921"
             ]
            ],
            "type": "contour"
           }
          ],
          "contourcarpet": [
           {
            "colorbar": {
             "outlinewidth": 0,
             "ticks": ""
            },
            "type": "contourcarpet"
           }
          ],
          "heatmap": [
           {
            "colorbar": {
             "outlinewidth": 0,
             "ticks": ""
            },
            "colorscale": [
             [
              0,
              "#0d0887"
             ],
             [
              0.1111111111111111,
              "#46039f"
             ],
             [
              0.2222222222222222,
              "#7201a8"
             ],
             [
              0.3333333333333333,
              "#9c179e"
             ],
             [
              0.4444444444444444,
              "#bd3786"
             ],
             [
              0.5555555555555556,
              "#d8576b"
             ],
             [
              0.6666666666666666,
              "#ed7953"
             ],
             [
              0.7777777777777778,
              "#fb9f3a"
             ],
             [
              0.8888888888888888,
              "#fdca26"
             ],
             [
              1,
              "#f0f921"
             ]
            ],
            "type": "heatmap"
           }
          ],
          "heatmapgl": [
           {
            "colorbar": {
             "outlinewidth": 0,
             "ticks": ""
            },
            "colorscale": [
             [
              0,
              "#0d0887"
             ],
             [
              0.1111111111111111,
              "#46039f"
             ],
             [
              0.2222222222222222,
              "#7201a8"
             ],
             [
              0.3333333333333333,
              "#9c179e"
             ],
             [
              0.4444444444444444,
              "#bd3786"
             ],
             [
              0.5555555555555556,
              "#d8576b"
             ],
             [
              0.6666666666666666,
              "#ed7953"
             ],
             [
              0.7777777777777778,
              "#fb9f3a"
             ],
             [
              0.8888888888888888,
              "#fdca26"
             ],
             [
              1,
              "#f0f921"
             ]
            ],
            "type": "heatmapgl"
           }
          ],
          "histogram": [
           {
            "marker": {
             "pattern": {
              "fillmode": "overlay",
              "size": 10,
              "solidity": 0.2
             }
            },
            "type": "histogram"
           }
          ],
          "histogram2d": [
           {
            "colorbar": {
             "outlinewidth": 0,
             "ticks": ""
            },
            "colorscale": [
             [
              0,
              "#0d0887"
             ],
             [
              0.1111111111111111,
              "#46039f"
             ],
             [
              0.2222222222222222,
              "#7201a8"
             ],
             [
              0.3333333333333333,
              "#9c179e"
             ],
             [
              0.4444444444444444,
              "#bd3786"
             ],
             [
              0.5555555555555556,
              "#d8576b"
             ],
             [
              0.6666666666666666,
              "#ed7953"
             ],
             [
              0.7777777777777778,
              "#fb9f3a"
             ],
             [
              0.8888888888888888,
              "#fdca26"
             ],
             [
              1,
              "#f0f921"
             ]
            ],
            "type": "histogram2d"
           }
          ],
          "histogram2dcontour": [
           {
            "colorbar": {
             "outlinewidth": 0,
             "ticks": ""
            },
            "colorscale": [
             [
              0,
              "#0d0887"
             ],
             [
              0.1111111111111111,
              "#46039f"
             ],
             [
              0.2222222222222222,
              "#7201a8"
             ],
             [
              0.3333333333333333,
              "#9c179e"
             ],
             [
              0.4444444444444444,
              "#bd3786"
             ],
             [
              0.5555555555555556,
              "#d8576b"
             ],
             [
              0.6666666666666666,
              "#ed7953"
             ],
             [
              0.7777777777777778,
              "#fb9f3a"
             ],
             [
              0.8888888888888888,
              "#fdca26"
             ],
             [
              1,
              "#f0f921"
             ]
            ],
            "type": "histogram2dcontour"
           }
          ],
          "mesh3d": [
           {
            "colorbar": {
             "outlinewidth": 0,
             "ticks": ""
            },
            "type": "mesh3d"
           }
          ],
          "parcoords": [
           {
            "line": {
             "colorbar": {
              "outlinewidth": 0,
              "ticks": ""
             }
            },
            "type": "parcoords"
           }
          ],
          "pie": [
           {
            "automargin": true,
            "type": "pie"
           }
          ],
          "scatter": [
           {
            "fillpattern": {
             "fillmode": "overlay",
             "size": 10,
             "solidity": 0.2
            },
            "type": "scatter"
           }
          ],
          "scatter3d": [
           {
            "line": {
             "colorbar": {
              "outlinewidth": 0,
              "ticks": ""
             }
            },
            "marker": {
             "colorbar": {
              "outlinewidth": 0,
              "ticks": ""
             }
            },
            "type": "scatter3d"
           }
          ],
          "scattercarpet": [
           {
            "marker": {
             "colorbar": {
              "outlinewidth": 0,
              "ticks": ""
             }
            },
            "type": "scattercarpet"
           }
          ],
          "scattergeo": [
           {
            "marker": {
             "colorbar": {
              "outlinewidth": 0,
              "ticks": ""
             }
            },
            "type": "scattergeo"
           }
          ],
          "scattergl": [
           {
            "marker": {
             "colorbar": {
              "outlinewidth": 0,
              "ticks": ""
             }
            },
            "type": "scattergl"
           }
          ],
          "scattermapbox": [
           {
            "marker": {
             "colorbar": {
              "outlinewidth": 0,
              "ticks": ""
             }
            },
            "type": "scattermapbox"
           }
          ],
          "scatterpolar": [
           {
            "marker": {
             "colorbar": {
              "outlinewidth": 0,
              "ticks": ""
             }
            },
            "type": "scatterpolar"
           }
          ],
          "scatterpolargl": [
           {
            "marker": {
             "colorbar": {
              "outlinewidth": 0,
              "ticks": ""
             }
            },
            "type": "scatterpolargl"
           }
          ],
          "scatterternary": [
           {
            "marker": {
             "colorbar": {
              "outlinewidth": 0,
              "ticks": ""
             }
            },
            "type": "scatterternary"
           }
          ],
          "surface": [
           {
            "colorbar": {
             "outlinewidth": 0,
             "ticks": ""
            },
            "colorscale": [
             [
              0,
              "#0d0887"
             ],
             [
              0.1111111111111111,
              "#46039f"
             ],
             [
              0.2222222222222222,
              "#7201a8"
             ],
             [
              0.3333333333333333,
              "#9c179e"
             ],
             [
              0.4444444444444444,
              "#bd3786"
             ],
             [
              0.5555555555555556,
              "#d8576b"
             ],
             [
              0.6666666666666666,
              "#ed7953"
             ],
             [
              0.7777777777777778,
              "#fb9f3a"
             ],
             [
              0.8888888888888888,
              "#fdca26"
             ],
             [
              1,
              "#f0f921"
             ]
            ],
            "type": "surface"
           }
          ],
          "table": [
           {
            "cells": {
             "fill": {
              "color": "#EBF0F8"
             },
             "line": {
              "color": "white"
             }
            },
            "header": {
             "fill": {
              "color": "#C8D4E3"
             },
             "line": {
              "color": "white"
             }
            },
            "type": "table"
           }
          ]
         },
         "layout": {
          "annotationdefaults": {
           "arrowcolor": "#2a3f5f",
           "arrowhead": 0,
           "arrowwidth": 1
          },
          "autotypenumbers": "strict",
          "coloraxis": {
           "colorbar": {
            "outlinewidth": 0,
            "ticks": ""
           }
          },
          "colorscale": {
           "diverging": [
            [
             0,
             "#8e0152"
            ],
            [
             0.1,
             "#c51b7d"
            ],
            [
             0.2,
             "#de77ae"
            ],
            [
             0.3,
             "#f1b6da"
            ],
            [
             0.4,
             "#fde0ef"
            ],
            [
             0.5,
             "#f7f7f7"
            ],
            [
             0.6,
             "#e6f5d0"
            ],
            [
             0.7,
             "#b8e186"
            ],
            [
             0.8,
             "#7fbc41"
            ],
            [
             0.9,
             "#4d9221"
            ],
            [
             1,
             "#276419"
            ]
           ],
           "sequential": [
            [
             0,
             "#0d0887"
            ],
            [
             0.1111111111111111,
             "#46039f"
            ],
            [
             0.2222222222222222,
             "#7201a8"
            ],
            [
             0.3333333333333333,
             "#9c179e"
            ],
            [
             0.4444444444444444,
             "#bd3786"
            ],
            [
             0.5555555555555556,
             "#d8576b"
            ],
            [
             0.6666666666666666,
             "#ed7953"
            ],
            [
             0.7777777777777778,
             "#fb9f3a"
            ],
            [
             0.8888888888888888,
             "#fdca26"
            ],
            [
             1,
             "#f0f921"
            ]
           ],
           "sequentialminus": [
            [
             0,
             "#0d0887"
            ],
            [
             0.1111111111111111,
             "#46039f"
            ],
            [
             0.2222222222222222,
             "#7201a8"
            ],
            [
             0.3333333333333333,
             "#9c179e"
            ],
            [
             0.4444444444444444,
             "#bd3786"
            ],
            [
             0.5555555555555556,
             "#d8576b"
            ],
            [
             0.6666666666666666,
             "#ed7953"
            ],
            [
             0.7777777777777778,
             "#fb9f3a"
            ],
            [
             0.8888888888888888,
             "#fdca26"
            ],
            [
             1,
             "#f0f921"
            ]
           ]
          },
          "colorway": [
           "#636efa",
           "#EF553B",
           "#00cc96",
           "#ab63fa",
           "#FFA15A",
           "#19d3f3",
           "#FF6692",
           "#B6E880",
           "#FF97FF",
           "#FECB52"
          ],
          "font": {
           "color": "#2a3f5f"
          },
          "geo": {
           "bgcolor": "white",
           "lakecolor": "white",
           "landcolor": "#E5ECF6",
           "showlakes": true,
           "showland": true,
           "subunitcolor": "white"
          },
          "hoverlabel": {
           "align": "left"
          },
          "hovermode": "closest",
          "mapbox": {
           "style": "light"
          },
          "paper_bgcolor": "white",
          "plot_bgcolor": "#E5ECF6",
          "polar": {
           "angularaxis": {
            "gridcolor": "white",
            "linecolor": "white",
            "ticks": ""
           },
           "bgcolor": "#E5ECF6",
           "radialaxis": {
            "gridcolor": "white",
            "linecolor": "white",
            "ticks": ""
           }
          },
          "scene": {
           "xaxis": {
            "backgroundcolor": "#E5ECF6",
            "gridcolor": "white",
            "gridwidth": 2,
            "linecolor": "white",
            "showbackground": true,
            "ticks": "",
            "zerolinecolor": "white"
           },
           "yaxis": {
            "backgroundcolor": "#E5ECF6",
            "gridcolor": "white",
            "gridwidth": 2,
            "linecolor": "white",
            "showbackground": true,
            "ticks": "",
            "zerolinecolor": "white"
           },
           "zaxis": {
            "backgroundcolor": "#E5ECF6",
            "gridcolor": "white",
            "gridwidth": 2,
            "linecolor": "white",
            "showbackground": true,
            "ticks": "",
            "zerolinecolor": "white"
           }
          },
          "shapedefaults": {
           "line": {
            "color": "#2a3f5f"
           }
          },
          "ternary": {
           "aaxis": {
            "gridcolor": "white",
            "linecolor": "white",
            "ticks": ""
           },
           "baxis": {
            "gridcolor": "white",
            "linecolor": "white",
            "ticks": ""
           },
           "bgcolor": "#E5ECF6",
           "caxis": {
            "gridcolor": "white",
            "linecolor": "white",
            "ticks": ""
           }
          },
          "title": {
           "x": 0.05
          },
          "xaxis": {
           "automargin": true,
           "gridcolor": "white",
           "linecolor": "white",
           "ticks": "",
           "title": {
            "standoff": 15
           },
           "zerolinecolor": "white",
           "zerolinewidth": 2
          },
          "yaxis": {
           "automargin": true,
           "gridcolor": "white",
           "linecolor": "white",
           "ticks": "",
           "title": {
            "standoff": 15
           },
           "zerolinecolor": "white",
           "zerolinewidth": 2
          }
         }
        },
        "xaxis": {
         "anchor": "y",
         "domain": [
          0,
          1
         ],
         "title": {
          "text": "Hôtels"
         }
        },
        "yaxis": {
         "anchor": "x",
         "domain": [
          0,
          1
         ],
         "title": {
          "text": "Nombre de missions"
         }
        }
       }
      }
     },
     "metadata": {},
     "output_type": "display_data"
    }
   ],
   "source": [
    "fig = px.bar(\n",
    "    monthly_missions_status,\n",
    "    x=\"Propriété\",\n",
    "    y=\"Missions\",\n",
    "    color=\"Statut\",\n",
    "    hover_name=\"Propriété\",\n",
    "    hover_data=[\"Missions\", \"Statut\"],\n",
    ")\n",
    "fig.update_layout(legend=dict(yanchor=\"top\", y=0.99, xanchor=\"right\", x=0.99))\n",
    "fig.update_xaxes(title_text=\"Hôtels\")\n",
    "fig.update_yaxes(title_text=\"Nombre de missions\")"
   ]
  },
  {
   "cell_type": "code",
   "execution_count": 36,
   "metadata": {},
   "outputs": [],
   "source": [
    "data = pd.read_csv(\"Missions.csv\", sep=\";\")"
   ]
  },
  {
   "cell_type": "code",
   "execution_count": null,
   "metadata": {},
   "outputs": [],
   "source": [
    "data_sample = data.sample(1500)"
   ]
  }
 ],
 "metadata": {
  "kernelspec": {
   "display_name": "qualiextra",
   "language": "python",
   "name": "python3"
  },
  "language_info": {
   "codemirror_mode": {
    "name": "ipython",
    "version": 3
   },
   "file_extension": ".py",
   "mimetype": "text/x-python",
   "name": "python",
   "nbconvert_exporter": "python",
   "pygments_lexer": "ipython3",
   "version": "3.11.5"
  }
 },
 "nbformat": 4,
 "nbformat_minor": 2
}
